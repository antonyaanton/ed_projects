{
 "cells": [
  {
   "cell_type": "markdown",
   "metadata": {
    "toc": true
   },
   "source": [
    "<h1>Содержание<span class=\"tocSkip\"></span></h1>\n",
    "<div class=\"toc\"><ul class=\"toc-item\"><li><span><a href=\"#Загрузка-данных\" data-toc-modified-id=\"Загрузка-данных-1\"><span class=\"toc-item-num\">1&nbsp;&nbsp;</span>Загрузка данных</a></span><ul class=\"toc-item\"><li><span><a href=\"#EDA\" data-toc-modified-id=\"EDA-1.1\"><span class=\"toc-item-num\">1.1&nbsp;&nbsp;</span>EDA</a></span></li><li><span><a href=\"#Разделение-данных-на-признаки-и-выборки:\" data-toc-modified-id=\"Разделение-данных-на-признаки-и-выборки:-1.2\"><span class=\"toc-item-num\">1.2&nbsp;&nbsp;</span>Разделение данных на признаки и выборки:</a></span></li></ul></li><li><span><a href=\"#Умножение-матриц\" data-toc-modified-id=\"Умножение-матриц-2\"><span class=\"toc-item-num\">2&nbsp;&nbsp;</span>Умножение матриц</a></span></li><li><span><a href=\"#Алгоритм-преобразования\" data-toc-modified-id=\"Алгоритм-преобразования-3\"><span class=\"toc-item-num\">3&nbsp;&nbsp;</span>Алгоритм преобразования</a></span></li><li><span><a href=\"#Проверка-алгоритма\" data-toc-modified-id=\"Проверка-алгоритма-4\"><span class=\"toc-item-num\">4&nbsp;&nbsp;</span>Проверка алгоритма</a></span></li><li><span><a href=\"#Вывод:\" data-toc-modified-id=\"Вывод:-5\"><span class=\"toc-item-num\">5&nbsp;&nbsp;</span>Вывод:</a></span></li><li><span><a href=\"#Чек-лист-проверки\" data-toc-modified-id=\"Чек-лист-проверки-6\"><span class=\"toc-item-num\">6&nbsp;&nbsp;</span>Чек-лист проверки</a></span></li></ul></div>"
   ]
  },
  {
   "cell_type": "markdown",
   "metadata": {},
   "source": [
    "# Защита персональных данных клиентов"
   ]
  },
  {
   "cell_type": "markdown",
   "metadata": {},
   "source": [
    "Вам нужно защитить данные клиентов страховой компании «Хоть потоп». Разработайте такой метод преобразования данных, чтобы по ним было сложно восстановить персональную информацию. Обоснуйте корректность его работы.\n",
    "\n",
    "Нужно защитить данные, чтобы при преобразовании качество моделей машинного обучения не ухудшилось. Подбирать наилучшую модель не требуется."
   ]
  },
  {
   "cell_type": "markdown",
   "metadata": {},
   "source": [
    "## Загрузка данных"
   ]
  },
  {
   "cell_type": "markdown",
   "metadata": {},
   "source": [
    "### EDA"
   ]
  },
  {
   "cell_type": "code",
   "execution_count": 1,
   "metadata": {},
   "outputs": [],
   "source": [
    "import numpy as np\n",
    "import pandas as pd\n",
    "\n",
    "from sklearn.model_selection import train_test_split\n",
    "\n",
    "from sklearn.metrics import r2_score\n",
    "\n",
    "from sklearn.linear_model import LinearRegression"
   ]
  },
  {
   "cell_type": "code",
   "execution_count": 2,
   "metadata": {},
   "outputs": [],
   "source": [
    "try:\n",
    "    data = pd.read_csv('/datasets/insurance.csv')\n",
    "except:\n",
    "    print('Путь неверный')"
   ]
  },
  {
   "cell_type": "code",
   "execution_count": 3,
   "metadata": {},
   "outputs": [
    {
     "name": "stdout",
     "output_type": "stream",
     "text": [
      "<class 'pandas.core.frame.DataFrame'>\n",
      "RangeIndex: 5000 entries, 0 to 4999\n",
      "Data columns (total 5 columns):\n",
      " #   Column             Non-Null Count  Dtype  \n",
      "---  ------             --------------  -----  \n",
      " 0   Пол                5000 non-null   int64  \n",
      " 1   Возраст            5000 non-null   float64\n",
      " 2   Зарплата           5000 non-null   float64\n",
      " 3   Члены семьи        5000 non-null   int64  \n",
      " 4   Страховые выплаты  5000 non-null   int64  \n",
      "dtypes: float64(2), int64(3)\n",
      "memory usage: 195.4 KB\n"
     ]
    }
   ],
   "source": [
    "data.info()"
   ]
  },
  {
   "cell_type": "code",
   "execution_count": 4,
   "metadata": {},
   "outputs": [
    {
     "data": {
      "text/html": [
       "<div>\n",
       "<style scoped>\n",
       "    .dataframe tbody tr th:only-of-type {\n",
       "        vertical-align: middle;\n",
       "    }\n",
       "\n",
       "    .dataframe tbody tr th {\n",
       "        vertical-align: top;\n",
       "    }\n",
       "\n",
       "    .dataframe thead th {\n",
       "        text-align: right;\n",
       "    }\n",
       "</style>\n",
       "<table border=\"1\" class=\"dataframe\">\n",
       "  <thead>\n",
       "    <tr style=\"text-align: right;\">\n",
       "      <th></th>\n",
       "      <th>Пол</th>\n",
       "      <th>Возраст</th>\n",
       "      <th>Зарплата</th>\n",
       "      <th>Члены семьи</th>\n",
       "      <th>Страховые выплаты</th>\n",
       "    </tr>\n",
       "  </thead>\n",
       "  <tbody>\n",
       "    <tr>\n",
       "      <th>0</th>\n",
       "      <td>1</td>\n",
       "      <td>41.0</td>\n",
       "      <td>49600.0</td>\n",
       "      <td>1</td>\n",
       "      <td>0</td>\n",
       "    </tr>\n",
       "    <tr>\n",
       "      <th>1</th>\n",
       "      <td>0</td>\n",
       "      <td>46.0</td>\n",
       "      <td>38000.0</td>\n",
       "      <td>1</td>\n",
       "      <td>1</td>\n",
       "    </tr>\n",
       "    <tr>\n",
       "      <th>2</th>\n",
       "      <td>0</td>\n",
       "      <td>29.0</td>\n",
       "      <td>21000.0</td>\n",
       "      <td>0</td>\n",
       "      <td>0</td>\n",
       "    </tr>\n",
       "    <tr>\n",
       "      <th>3</th>\n",
       "      <td>0</td>\n",
       "      <td>21.0</td>\n",
       "      <td>41700.0</td>\n",
       "      <td>2</td>\n",
       "      <td>0</td>\n",
       "    </tr>\n",
       "    <tr>\n",
       "      <th>4</th>\n",
       "      <td>1</td>\n",
       "      <td>28.0</td>\n",
       "      <td>26100.0</td>\n",
       "      <td>0</td>\n",
       "      <td>0</td>\n",
       "    </tr>\n",
       "  </tbody>\n",
       "</table>\n",
       "</div>"
      ],
      "text/plain": [
       "   Пол  Возраст  Зарплата  Члены семьи  Страховые выплаты\n",
       "0    1     41.0   49600.0            1                  0\n",
       "1    0     46.0   38000.0            1                  1\n",
       "2    0     29.0   21000.0            0                  0\n",
       "3    0     21.0   41700.0            2                  0\n",
       "4    1     28.0   26100.0            0                  0"
      ]
     },
     "execution_count": 4,
     "metadata": {},
     "output_type": "execute_result"
    }
   ],
   "source": [
    "data.head()"
   ]
  },
  {
   "cell_type": "code",
   "execution_count": 5,
   "metadata": {},
   "outputs": [
    {
     "data": {
      "text/html": [
       "<div>\n",
       "<style scoped>\n",
       "    .dataframe tbody tr th:only-of-type {\n",
       "        vertical-align: middle;\n",
       "    }\n",
       "\n",
       "    .dataframe tbody tr th {\n",
       "        vertical-align: top;\n",
       "    }\n",
       "\n",
       "    .dataframe thead th {\n",
       "        text-align: right;\n",
       "    }\n",
       "</style>\n",
       "<table border=\"1\" class=\"dataframe\">\n",
       "  <thead>\n",
       "    <tr style=\"text-align: right;\">\n",
       "      <th></th>\n",
       "      <th>Пол</th>\n",
       "      <th>Возраст</th>\n",
       "      <th>Зарплата</th>\n",
       "      <th>Члены семьи</th>\n",
       "      <th>Страховые выплаты</th>\n",
       "    </tr>\n",
       "  </thead>\n",
       "  <tbody>\n",
       "    <tr>\n",
       "      <th>count</th>\n",
       "      <td>5000.000000</td>\n",
       "      <td>5000.000000</td>\n",
       "      <td>5000.000000</td>\n",
       "      <td>5000.000000</td>\n",
       "      <td>5000.000000</td>\n",
       "    </tr>\n",
       "    <tr>\n",
       "      <th>mean</th>\n",
       "      <td>0.499000</td>\n",
       "      <td>30.952800</td>\n",
       "      <td>39916.360000</td>\n",
       "      <td>1.194200</td>\n",
       "      <td>0.148000</td>\n",
       "    </tr>\n",
       "    <tr>\n",
       "      <th>std</th>\n",
       "      <td>0.500049</td>\n",
       "      <td>8.440807</td>\n",
       "      <td>9900.083569</td>\n",
       "      <td>1.091387</td>\n",
       "      <td>0.463183</td>\n",
       "    </tr>\n",
       "    <tr>\n",
       "      <th>min</th>\n",
       "      <td>0.000000</td>\n",
       "      <td>18.000000</td>\n",
       "      <td>5300.000000</td>\n",
       "      <td>0.000000</td>\n",
       "      <td>0.000000</td>\n",
       "    </tr>\n",
       "    <tr>\n",
       "      <th>25%</th>\n",
       "      <td>0.000000</td>\n",
       "      <td>24.000000</td>\n",
       "      <td>33300.000000</td>\n",
       "      <td>0.000000</td>\n",
       "      <td>0.000000</td>\n",
       "    </tr>\n",
       "    <tr>\n",
       "      <th>50%</th>\n",
       "      <td>0.000000</td>\n",
       "      <td>30.000000</td>\n",
       "      <td>40200.000000</td>\n",
       "      <td>1.000000</td>\n",
       "      <td>0.000000</td>\n",
       "    </tr>\n",
       "    <tr>\n",
       "      <th>75%</th>\n",
       "      <td>1.000000</td>\n",
       "      <td>37.000000</td>\n",
       "      <td>46600.000000</td>\n",
       "      <td>2.000000</td>\n",
       "      <td>0.000000</td>\n",
       "    </tr>\n",
       "    <tr>\n",
       "      <th>max</th>\n",
       "      <td>1.000000</td>\n",
       "      <td>65.000000</td>\n",
       "      <td>79000.000000</td>\n",
       "      <td>6.000000</td>\n",
       "      <td>5.000000</td>\n",
       "    </tr>\n",
       "  </tbody>\n",
       "</table>\n",
       "</div>"
      ],
      "text/plain": [
       "               Пол      Возраст      Зарплата  Члены семьи  Страховые выплаты\n",
       "count  5000.000000  5000.000000   5000.000000  5000.000000        5000.000000\n",
       "mean      0.499000    30.952800  39916.360000     1.194200           0.148000\n",
       "std       0.500049     8.440807   9900.083569     1.091387           0.463183\n",
       "min       0.000000    18.000000   5300.000000     0.000000           0.000000\n",
       "25%       0.000000    24.000000  33300.000000     0.000000           0.000000\n",
       "50%       0.000000    30.000000  40200.000000     1.000000           0.000000\n",
       "75%       1.000000    37.000000  46600.000000     2.000000           0.000000\n",
       "max       1.000000    65.000000  79000.000000     6.000000           5.000000"
      ]
     },
     "execution_count": 5,
     "metadata": {},
     "output_type": "execute_result"
    }
   ],
   "source": [
    "data.describe()"
   ]
  },
  {
   "cell_type": "code",
   "execution_count": 6,
   "metadata": {},
   "outputs": [
    {
     "data": {
      "text/html": [
       "<div>\n",
       "<style scoped>\n",
       "    .dataframe tbody tr th:only-of-type {\n",
       "        vertical-align: middle;\n",
       "    }\n",
       "\n",
       "    .dataframe tbody tr th {\n",
       "        vertical-align: top;\n",
       "    }\n",
       "\n",
       "    .dataframe thead th {\n",
       "        text-align: right;\n",
       "    }\n",
       "</style>\n",
       "<table border=\"1\" class=\"dataframe\">\n",
       "  <thead>\n",
       "    <tr style=\"text-align: right;\">\n",
       "      <th></th>\n",
       "      <th>Пол</th>\n",
       "      <th>Возраст</th>\n",
       "      <th>Зарплата</th>\n",
       "      <th>Члены семьи</th>\n",
       "      <th>Страховые выплаты</th>\n",
       "    </tr>\n",
       "  </thead>\n",
       "  <tbody>\n",
       "    <tr>\n",
       "      <th>Пол</th>\n",
       "      <td>1.000000</td>\n",
       "      <td>0.002074</td>\n",
       "      <td>0.014910</td>\n",
       "      <td>-0.008991</td>\n",
       "      <td>0.010140</td>\n",
       "    </tr>\n",
       "    <tr>\n",
       "      <th>Возраст</th>\n",
       "      <td>0.002074</td>\n",
       "      <td>1.000000</td>\n",
       "      <td>-0.019093</td>\n",
       "      <td>-0.006692</td>\n",
       "      <td>0.651030</td>\n",
       "    </tr>\n",
       "    <tr>\n",
       "      <th>Зарплата</th>\n",
       "      <td>0.014910</td>\n",
       "      <td>-0.019093</td>\n",
       "      <td>1.000000</td>\n",
       "      <td>-0.030296</td>\n",
       "      <td>-0.014963</td>\n",
       "    </tr>\n",
       "    <tr>\n",
       "      <th>Члены семьи</th>\n",
       "      <td>-0.008991</td>\n",
       "      <td>-0.006692</td>\n",
       "      <td>-0.030296</td>\n",
       "      <td>1.000000</td>\n",
       "      <td>-0.036290</td>\n",
       "    </tr>\n",
       "    <tr>\n",
       "      <th>Страховые выплаты</th>\n",
       "      <td>0.010140</td>\n",
       "      <td>0.651030</td>\n",
       "      <td>-0.014963</td>\n",
       "      <td>-0.036290</td>\n",
       "      <td>1.000000</td>\n",
       "    </tr>\n",
       "  </tbody>\n",
       "</table>\n",
       "</div>"
      ],
      "text/plain": [
       "                        Пол   Возраст  Зарплата  Члены семьи  \\\n",
       "Пол                1.000000  0.002074  0.014910    -0.008991   \n",
       "Возраст            0.002074  1.000000 -0.019093    -0.006692   \n",
       "Зарплата           0.014910 -0.019093  1.000000    -0.030296   \n",
       "Члены семьи       -0.008991 -0.006692 -0.030296     1.000000   \n",
       "Страховые выплаты  0.010140  0.651030 -0.014963    -0.036290   \n",
       "\n",
       "                   Страховые выплаты  \n",
       "Пол                         0.010140  \n",
       "Возраст                     0.651030  \n",
       "Зарплата                   -0.014963  \n",
       "Члены семьи                -0.036290  \n",
       "Страховые выплаты           1.000000  "
      ]
     },
     "execution_count": 6,
     "metadata": {},
     "output_type": "execute_result"
    }
   ],
   "source": [
    "data.corr()"
   ]
  },
  {
   "cell_type": "code",
   "execution_count": 7,
   "metadata": {},
   "outputs": [
    {
     "data": {
      "text/plain": [
       "Пол                  0\n",
       "Возраст              0\n",
       "Зарплата             0\n",
       "Члены семьи          0\n",
       "Страховые выплаты    0\n",
       "dtype: int64"
      ]
     },
     "execution_count": 7,
     "metadata": {},
     "output_type": "execute_result"
    }
   ],
   "source": [
    "data.isna().sum()"
   ]
  },
  {
   "cell_type": "code",
   "execution_count": 8,
   "metadata": {},
   "outputs": [
    {
     "data": {
      "text/plain": [
       "153"
      ]
     },
     "execution_count": 8,
     "metadata": {},
     "output_type": "execute_result"
    }
   ],
   "source": [
    "data.duplicated().sum()"
   ]
  },
  {
   "cell_type": "code",
   "execution_count": 9,
   "metadata": {},
   "outputs": [
    {
     "data": {
      "text/html": [
       "<div>\n",
       "<style scoped>\n",
       "    .dataframe tbody tr th:only-of-type {\n",
       "        vertical-align: middle;\n",
       "    }\n",
       "\n",
       "    .dataframe tbody tr th {\n",
       "        vertical-align: top;\n",
       "    }\n",
       "\n",
       "    .dataframe thead th {\n",
       "        text-align: right;\n",
       "    }\n",
       "</style>\n",
       "<table border=\"1\" class=\"dataframe\">\n",
       "  <thead>\n",
       "    <tr style=\"text-align: right;\">\n",
       "      <th></th>\n",
       "      <th>Пол</th>\n",
       "      <th>Возраст</th>\n",
       "      <th>Зарплата</th>\n",
       "      <th>Члены семьи</th>\n",
       "      <th>Страховые выплаты</th>\n",
       "    </tr>\n",
       "  </thead>\n",
       "  <tbody>\n",
       "    <tr>\n",
       "      <th>281</th>\n",
       "      <td>1</td>\n",
       "      <td>39.0</td>\n",
       "      <td>48100.0</td>\n",
       "      <td>1</td>\n",
       "      <td>0</td>\n",
       "    </tr>\n",
       "    <tr>\n",
       "      <th>488</th>\n",
       "      <td>1</td>\n",
       "      <td>24.0</td>\n",
       "      <td>32900.0</td>\n",
       "      <td>1</td>\n",
       "      <td>0</td>\n",
       "    </tr>\n",
       "    <tr>\n",
       "      <th>513</th>\n",
       "      <td>0</td>\n",
       "      <td>31.0</td>\n",
       "      <td>37400.0</td>\n",
       "      <td>2</td>\n",
       "      <td>0</td>\n",
       "    </tr>\n",
       "    <tr>\n",
       "      <th>718</th>\n",
       "      <td>1</td>\n",
       "      <td>22.0</td>\n",
       "      <td>32600.0</td>\n",
       "      <td>1</td>\n",
       "      <td>0</td>\n",
       "    </tr>\n",
       "    <tr>\n",
       "      <th>785</th>\n",
       "      <td>0</td>\n",
       "      <td>20.0</td>\n",
       "      <td>35800.0</td>\n",
       "      <td>0</td>\n",
       "      <td>0</td>\n",
       "    </tr>\n",
       "    <tr>\n",
       "      <th>...</th>\n",
       "      <td>...</td>\n",
       "      <td>...</td>\n",
       "      <td>...</td>\n",
       "      <td>...</td>\n",
       "      <td>...</td>\n",
       "    </tr>\n",
       "    <tr>\n",
       "      <th>4793</th>\n",
       "      <td>1</td>\n",
       "      <td>24.0</td>\n",
       "      <td>37800.0</td>\n",
       "      <td>0</td>\n",
       "      <td>0</td>\n",
       "    </tr>\n",
       "    <tr>\n",
       "      <th>4902</th>\n",
       "      <td>1</td>\n",
       "      <td>35.0</td>\n",
       "      <td>38700.0</td>\n",
       "      <td>1</td>\n",
       "      <td>0</td>\n",
       "    </tr>\n",
       "    <tr>\n",
       "      <th>4935</th>\n",
       "      <td>1</td>\n",
       "      <td>19.0</td>\n",
       "      <td>32700.0</td>\n",
       "      <td>0</td>\n",
       "      <td>0</td>\n",
       "    </tr>\n",
       "    <tr>\n",
       "      <th>4945</th>\n",
       "      <td>1</td>\n",
       "      <td>21.0</td>\n",
       "      <td>45800.0</td>\n",
       "      <td>0</td>\n",
       "      <td>0</td>\n",
       "    </tr>\n",
       "    <tr>\n",
       "      <th>4965</th>\n",
       "      <td>0</td>\n",
       "      <td>22.0</td>\n",
       "      <td>40100.0</td>\n",
       "      <td>1</td>\n",
       "      <td>0</td>\n",
       "    </tr>\n",
       "  </tbody>\n",
       "</table>\n",
       "<p>153 rows × 5 columns</p>\n",
       "</div>"
      ],
      "text/plain": [
       "      Пол  Возраст  Зарплата  Члены семьи  Страховые выплаты\n",
       "281     1     39.0   48100.0            1                  0\n",
       "488     1     24.0   32900.0            1                  0\n",
       "513     0     31.0   37400.0            2                  0\n",
       "718     1     22.0   32600.0            1                  0\n",
       "785     0     20.0   35800.0            0                  0\n",
       "...   ...      ...       ...          ...                ...\n",
       "4793    1     24.0   37800.0            0                  0\n",
       "4902    1     35.0   38700.0            1                  0\n",
       "4935    1     19.0   32700.0            0                  0\n",
       "4945    1     21.0   45800.0            0                  0\n",
       "4965    0     22.0   40100.0            1                  0\n",
       "\n",
       "[153 rows x 5 columns]"
      ]
     },
     "execution_count": 9,
     "metadata": {},
     "output_type": "execute_result"
    }
   ],
   "source": [
    "data[data.duplicated()]"
   ]
  },
  {
   "cell_type": "markdown",
   "metadata": {},
   "source": [
    "**Вывод:** в данных нет пропусков. Однако имеются выбросы и дупликаты. Тем не менее, это не мешает для выполнения задачи проекта."
   ]
  },
  {
   "cell_type": "markdown",
   "metadata": {},
   "source": [
    "### Разделение данных на признаки и выборки:"
   ]
  },
  {
   "cell_type": "code",
   "execution_count": 10,
   "metadata": {},
   "outputs": [],
   "source": [
    "features = data.drop(['Страховые выплаты'],axis=1)\n",
    "target = data['Страховые выплаты']"
   ]
  },
  {
   "cell_type": "code",
   "execution_count": 11,
   "metadata": {},
   "outputs": [],
   "source": [
    "train_features, test_features, train_target, test_target = train_test_split(features,target, test_size=0.25, random_state=12345)"
   ]
  },
  {
   "cell_type": "markdown",
   "metadata": {},
   "source": [
    "## Умножение матриц"
   ]
  },
  {
   "cell_type": "markdown",
   "metadata": {},
   "source": [
    "В этом задании вы можете записывать формулы в *Jupyter Notebook.*\n",
    "\n",
    "Чтобы записать формулу внутри текста, окружите её символами доллара \\\\$; если снаружи —  двойными символами \\\\$\\\\$. Эти формулы записываются на языке вёрстки *LaTeX.* \n",
    "\n",
    "Для примера мы записали формулы линейной регрессии. Можете их скопировать и отредактировать, чтобы решить задачу.\n",
    "\n",
    "Работать в *LaTeX* необязательно."
   ]
  },
  {
   "cell_type": "markdown",
   "metadata": {},
   "source": [
    "Обозначения:\n",
    "\n",
    "- $X$ — матрица признаков (нулевой столбец состоит из единиц)\n",
    "\n",
    "- $y$ — вектор целевого признака\n",
    "\n",
    "- $P$ — матрица, на которую умножаются признаки\n",
    "\n",
    "- $w$ — вектор весов линейной регрессии (нулевой элемент равен сдвигу)"
   ]
  },
  {
   "cell_type": "markdown",
   "metadata": {},
   "source": [
    " \n",
    "    \n",
    "Знаем:    \n",
    "    \n",
    "$$\n",
    "w = (X^T X)^{-1} X^T y\n",
    "$$\n",
    " \n",
    "    \n",
    "Значит:\n",
    "    \n",
    "$$\n",
    "w' = ((XP)^T XP)^{-1} (XP)^T y\n",
    "$$\n",
    "    \n",
    "    \n",
    "Вот так мы сделать не можем:    \n",
    "    \n",
    "$\n",
    "((XР)^T(XР))^{-1} = (XP)^{-1}((XP)^T)^{-1}\n",
    "$    \n",
    "\n",
    "\n",
    "    \n",
    "Потому что произведение\n",
    "\n",
    "    \n",
    "$\n",
    "XP\n",
    "$    \n",
    "\n",
    "не квадратная матрица, следовательно\n",
    "    \n",
    "$    \n",
    "(XP)^{-1}\n",
    "$\n",
    "    \n",
    "и  \n",
    "    \n",
    "$\n",
    "((XP)^{T})^{-1} \n",
    "$    \n",
    " \n",
    " и  \n",
    "    \n",
    "$\n",
    "X^{-1} \n",
    "$ \n",
    "\n",
    "   \n",
    "$$\n",
    "w' = (P^T X^T X P)^{-1} (XP)^T y\n",
    "$$\n",
    "    \n",
    "\n",
    "    \n",
    "$$\n",
    "w' = (P^T (X^T X) P)^{-1} P^T X^T y\n",
    "$$    \n",
    "    \n",
    "    \n",
    "$\n",
    "P^T, (X^T X), P\n",
    "$   \n",
    "    \n",
    "Используем правило:\n",
    "    \n",
    "    \n",
    "$$(ABC)^{-1} = C^{-1}(AB)^{-1} = (BC)^{-1}A^{-1} = C^{-1}B^{-1}A^{-1}$$\n",
    "    \n",
    "    \n",
    "    \n",
    "следовательно раскрываем так:\n",
    "\n",
    "    \n",
    "$$\n",
    "w' = P^{-1} (X^T X)^{-1} (P^T)^{-1} P^T X^T y\n",
    "$$    \n",
    "\n",
    "    \n",
    "Так как \n",
    "    \n",
    "$$\n",
    "w = (X^T X)^{-1} X^T y\n",
    "$$\n",
    "\n",
    "то\n",
    "    \n",
    "$$\n",
    "w' = P^{-1}w\n",
    "$$    \n",
    "    \n",
    "И так как\n",
    "\n",
    "\n",
    "$$    \n",
    "a' = X\\cdot P\\cdot w'    \n",
    "$$ \n",
    "\n",
    "то\n",
    "\n",
    "\n",
    "$$    \n",
    "a' = X\\cdot P\\cdot P^{-1}w    \n",
    "$$\n",
    "\n",
    "    \n",
    "$$    \n",
    "a' = X\\cdot w    \n",
    "$$\n",
    "    \n",
    "    \n",
    "\n",
    "$$\n",
    "a' = a\n",
    "$$\n",
    "\n",
    "Значит прогноз не изменится "
   ]
  },
  {
   "cell_type": "markdown",
   "metadata": {},
   "source": [
    "## Алгоритм преобразования"
   ]
  },
  {
   "cell_type": "markdown",
   "metadata": {},
   "source": [
    "**Алгоритм:** "
   ]
  },
  {
   "cell_type": "markdown",
   "metadata": {},
   "source": [
    "1. Обучим модель на подготовелнных данных и вычислим R2.\n",
    "2. Создадим обратимую матрицу.\n",
    "3. Преобразуем признаки, умножив их на обратимую матрицу.\n",
    "4. Обучим модель на преобразованных признаках и вычислим R2.\n",
    "5. Сравним R2 исходной модели и преобразованной."
   ]
  },
  {
   "cell_type": "markdown",
   "metadata": {},
   "source": [
    "## Проверка алгоритма"
   ]
  },
  {
   "cell_type": "markdown",
   "metadata": {},
   "source": [
    "Найдем значение `R2` для исходного датасета:"
   ]
  },
  {
   "cell_type": "code",
   "execution_count": 12,
   "metadata": {},
   "outputs": [
    {
     "name": "stdout",
     "output_type": "stream",
     "text": [
      "R2_score исходного датасета: 0.43522757127026546\n"
     ]
    }
   ],
   "source": [
    "model_origin = LinearRegression()\n",
    "model_origin.fit(train_features, train_target)\n",
    "prediction_origin = model_origin.predict(test_features)\n",
    "\n",
    "R2_score_origin = r2_score(test_target, prediction_origin)\n",
    "\n",
    "print(f'R2_score исходного датасета: {R2_score_origin}')"
   ]
  },
  {
   "cell_type": "markdown",
   "metadata": {},
   "source": [
    "Создадим обратимую матрицу для кодирования:"
   ]
  },
  {
   "cell_type": "code",
   "execution_count": 13,
   "metadata": {},
   "outputs": [
    {
     "data": {
      "text/plain": [
       "array([[ 6.75263588e-01,  7.91695456e-01, -1.26712631e-01,\n",
       "        -6.53360913e-01],\n",
       "       [ 8.80384258e-01, -1.57457923e-03, -1.45077554e+00,\n",
       "         8.53387282e-01],\n",
       "       [-3.52954773e-01, -4.87899694e-02,  4.41407091e-02,\n",
       "        -6.22457539e-01],\n",
       "       [-8.58916078e-01,  1.22762267e-01, -6.36315126e-01,\n",
       "        -1.81933367e+00]])"
      ]
     },
     "execution_count": 13,
     "metadata": {},
     "output_type": "execute_result"
    }
   ],
   "source": [
    "#для умножения матриц необходимо, чтобы число столбцов первой матрицы совпадало с числом строк второй\n",
    "invertible_matrix = np.random.randn(4, 4)\n",
    "invertible_matrix"
   ]
  },
  {
   "cell_type": "code",
   "execution_count": 18,
   "metadata": {},
   "outputs": [
    {
     "data": {
      "text/plain": [
       "array([[  0.88938319,   1.26482011,   8.10378039,  -2.49869833],\n",
       "       [  0.13368836,  -1.62635341, -10.91673592,   2.92411919],\n",
       "       [  0.24705726,  -0.27848737,   1.86256346,  -0.85660032],\n",
       "       [ -0.49726992,  -0.60946678,  -5.2138912 ,   1.12690236]])"
      ]
     },
     "execution_count": 18,
     "metadata": {},
     "output_type": "execute_result"
    }
   ],
   "source": [
    "inverse_matrix = np.linalg.inv(invertible_matrix)\n",
    "inverse_matrix"
   ]
  },
  {
   "cell_type": "code",
   "execution_count": 19,
   "metadata": {},
   "outputs": [
    {
     "data": {
      "text/plain": [
       "array([[ 1.00000000e+00, -2.06689756e-16, -1.45549518e-15,\n",
       "         6.45184665e-17],\n",
       "       [ 7.56635038e-19,  1.00000000e+00, -8.64752642e-16,\n",
       "         2.46839291e-16],\n",
       "       [ 5.19428734e-17,  1.19525625e-16,  1.00000000e+00,\n",
       "        -1.08501436e-16],\n",
       "       [-2.01695331e-16,  1.36732529e-16, -2.93438938e-16,\n",
       "         1.00000000e+00]])"
      ]
     },
     "execution_count": 19,
     "metadata": {},
     "output_type": "execute_result"
    }
   ],
   "source": [
    "once_matrix = invertible_matrix @ inverse_matrix\n",
    "once_matrix"
   ]
  },
  {
   "cell_type": "markdown",
   "metadata": {},
   "source": [
    "Умножим признаки на обратимую матрицу:"
   ]
  },
  {
   "cell_type": "code",
   "execution_count": 15,
   "metadata": {},
   "outputs": [],
   "source": [
    "train_features_update = train_features.values @ invertible_matrix\n",
    "test_features_update = test_features.values @ invertible_matrix"
   ]
  },
  {
   "cell_type": "markdown",
   "metadata": {},
   "source": [
    "Найдем значения `R2` для закодированного датасета:"
   ]
  },
  {
   "cell_type": "code",
   "execution_count": 16,
   "metadata": {},
   "outputs": [
    {
     "name": "stdout",
     "output_type": "stream",
     "text": [
      "R2_score закодированного датасета: 0.435227571270403\n"
     ]
    }
   ],
   "source": [
    "model_update = LinearRegression()\n",
    "model_update.fit(train_features_update, train_target)\n",
    "prediction_update = model_update.predict(test_features_update)\n",
    "\n",
    "R2_score_update = r2_score(test_target, prediction_update)\n",
    "\n",
    "print(f'R2_score закодированного датасета: {R2_score_update}')"
   ]
  },
  {
   "cell_type": "code",
   "execution_count": 17,
   "metadata": {},
   "outputs": [
    {
     "name": "stdout",
     "output_type": "stream",
     "text": [
      "R2_score исходного датасета: 0.43522757127026546\n",
      "R2_score закодированного датасета: 0.435227571270403\n"
     ]
    }
   ],
   "source": [
    "print(f'R2_score исходного датасета: {R2_score_origin}')\n",
    "print(f'R2_score закодированного датасета: {R2_score_update}')"
   ]
  },
  {
   "cell_type": "markdown",
   "metadata": {},
   "source": [
    "## Вывод:"
   ]
  },
  {
   "cell_type": "markdown",
   "metadata": {},
   "source": [
    "Получив датасет, мы провели разведывательный анализ данных, в ходе которых были найдены строки-дупликаты. Однако их наличие на качество выполнения задачи не может повлиять. Далее, начали подготовку данных: выделили целевой признак и произнаки для обучения моедли, разбили датасет на тренировочную и тестовую выборки. Качество модели мы оцениваем по R2. \n",
    "\n",
    "Основной целью проекта является доказательство того, что качество модели не изменится при преобразовании признаков. Для этого мы создали случайную обратимую матрицу (доказали, что она обратима). Умножив признаки на матрицу, мы преобразовали данные. Обучив модель на преобразованных данных вновь получили оценку R2. \n",
    "\n",
    "Сравнение оценок показало, что _при преобразовании исходного датасета качество моделей машинного обучения не ухудшилось._"
   ]
  }
 ],
 "metadata": {
  "ExecuteTimeLog": [
   {
    "duration": 386,
    "start_time": "2023-02-26T13:15:33.629Z"
   },
   {
    "duration": 3,
    "start_time": "2023-02-26T13:16:56.223Z"
   },
   {
    "duration": 62,
    "start_time": "2023-02-26T13:17:13.203Z"
   },
   {
    "duration": 4,
    "start_time": "2023-02-26T13:17:26.967Z"
   },
   {
    "duration": 82,
    "start_time": "2023-02-26T13:17:57.848Z"
   },
   {
    "duration": 15,
    "start_time": "2023-02-26T13:17:58.790Z"
   },
   {
    "duration": 14,
    "start_time": "2023-02-26T13:18:28.618Z"
   },
   {
    "duration": 56,
    "start_time": "2023-03-06T04:38:05.486Z"
   },
   {
    "duration": 411,
    "start_time": "2023-03-06T04:38:13.481Z"
   },
   {
    "duration": 99,
    "start_time": "2023-03-06T04:38:13.895Z"
   },
   {
    "duration": 12,
    "start_time": "2023-03-06T04:38:13.996Z"
   },
   {
    "duration": 18,
    "start_time": "2023-03-06T04:38:14.010Z"
   },
   {
    "duration": 190,
    "start_time": "2023-03-06T04:38:14.030Z"
   },
   {
    "duration": 15,
    "start_time": "2023-03-06T04:39:33.880Z"
   },
   {
    "duration": 7,
    "start_time": "2023-03-06T04:41:50.592Z"
   },
   {
    "duration": 6,
    "start_time": "2023-03-06T04:42:13.585Z"
   },
   {
    "duration": 7,
    "start_time": "2023-03-06T04:42:35.198Z"
   },
   {
    "duration": 8,
    "start_time": "2023-03-06T04:42:41.176Z"
   },
   {
    "duration": 30,
    "start_time": "2023-03-06T04:45:04.368Z"
   },
   {
    "duration": 16,
    "start_time": "2023-03-06T04:45:30.512Z"
   },
   {
    "duration": 45,
    "start_time": "2023-03-06T04:48:23.689Z"
   },
   {
    "duration": 813,
    "start_time": "2023-03-06T04:50:07.947Z"
   },
   {
    "duration": 14,
    "start_time": "2023-03-06T04:50:36.580Z"
   },
   {
    "duration": 6,
    "start_time": "2023-03-06T04:50:49.295Z"
   },
   {
    "duration": 25,
    "start_time": "2023-03-06T06:08:13.411Z"
   },
   {
    "duration": 4,
    "start_time": "2023-03-06T06:12:54.454Z"
   },
   {
    "duration": 6,
    "start_time": "2023-03-06T06:16:31.846Z"
   },
   {
    "duration": 13,
    "start_time": "2023-03-06T06:17:26.644Z"
   },
   {
    "duration": 7,
    "start_time": "2023-03-06T06:25:21.853Z"
   },
   {
    "duration": 1154,
    "start_time": "2023-03-06T06:25:50.406Z"
   },
   {
    "duration": 31,
    "start_time": "2023-03-06T06:25:51.564Z"
   },
   {
    "duration": 13,
    "start_time": "2023-03-06T06:25:51.598Z"
   },
   {
    "duration": 18,
    "start_time": "2023-03-06T06:25:51.613Z"
   },
   {
    "duration": 42,
    "start_time": "2023-03-06T06:25:51.633Z"
   },
   {
    "duration": 16,
    "start_time": "2023-03-06T06:25:51.677Z"
   },
   {
    "duration": 7,
    "start_time": "2023-03-06T06:25:51.695Z"
   },
   {
    "duration": 7,
    "start_time": "2023-03-06T06:25:51.705Z"
   },
   {
    "duration": 44,
    "start_time": "2023-03-06T06:25:51.714Z"
   },
   {
    "duration": 4,
    "start_time": "2023-03-06T06:25:51.761Z"
   },
   {
    "duration": 15,
    "start_time": "2023-03-06T06:25:51.767Z"
   },
   {
    "duration": 12,
    "start_time": "2023-03-06T06:25:51.784Z"
   },
   {
    "duration": 10,
    "start_time": "2023-03-06T06:25:51.798Z"
   },
   {
    "duration": 4,
    "start_time": "2023-03-06T06:25:51.812Z"
   },
   {
    "duration": 125,
    "start_time": "2023-03-06T06:26:24.444Z"
   },
   {
    "duration": 14,
    "start_time": "2023-03-06T06:27:17.657Z"
   },
   {
    "duration": 13,
    "start_time": "2023-03-06T06:27:23.371Z"
   },
   {
    "duration": 5,
    "start_time": "2023-03-06T06:27:49.185Z"
   },
   {
    "duration": 9,
    "start_time": "2023-03-06T06:27:50.756Z"
   },
   {
    "duration": 5,
    "start_time": "2023-03-06T06:33:36.712Z"
   },
   {
    "duration": 1144,
    "start_time": "2023-03-11T19:13:30.150Z"
   },
   {
    "duration": 76,
    "start_time": "2023-03-11T19:13:31.297Z"
   },
   {
    "duration": 12,
    "start_time": "2023-03-11T19:13:31.374Z"
   },
   {
    "duration": 26,
    "start_time": "2023-03-11T19:13:31.389Z"
   },
   {
    "duration": 28,
    "start_time": "2023-03-11T19:13:31.417Z"
   },
   {
    "duration": 12,
    "start_time": "2023-03-11T19:13:31.447Z"
   },
   {
    "duration": 7,
    "start_time": "2023-03-11T19:13:31.460Z"
   },
   {
    "duration": 21,
    "start_time": "2023-03-11T19:13:31.469Z"
   },
   {
    "duration": 14,
    "start_time": "2023-03-11T19:13:31.492Z"
   },
   {
    "duration": 8,
    "start_time": "2023-03-11T19:13:31.508Z"
   },
   {
    "duration": 13,
    "start_time": "2023-03-11T19:13:31.518Z"
   },
   {
    "duration": 20,
    "start_time": "2023-03-11T19:13:31.532Z"
   },
   {
    "duration": 25,
    "start_time": "2023-03-11T19:13:31.554Z"
   },
   {
    "duration": 4,
    "start_time": "2023-03-11T19:57:59.264Z"
   },
   {
    "duration": 3,
    "start_time": "2023-03-11T19:58:02.211Z"
   },
   {
    "duration": 5,
    "start_time": "2023-03-11T19:59:03.712Z"
   },
   {
    "duration": 5,
    "start_time": "2023-03-11T20:03:35.270Z"
   },
   {
    "duration": 3,
    "start_time": "2023-03-11T20:07:43.111Z"
   },
   {
    "duration": 8,
    "start_time": "2023-03-11T20:08:54.970Z"
   },
   {
    "duration": 6,
    "start_time": "2023-03-11T20:10:13.940Z"
   },
   {
    "duration": 3,
    "start_time": "2023-03-11T20:11:59.707Z"
   },
   {
    "duration": 7,
    "start_time": "2023-03-11T20:12:01.200Z"
   },
   {
    "duration": 6,
    "start_time": "2023-03-11T20:12:40.084Z"
   },
   {
    "duration": 4,
    "start_time": "2023-03-11T21:21:40.885Z"
   },
   {
    "duration": 2055,
    "start_time": "2023-03-12T15:43:08.200Z"
   },
   {
    "duration": 82,
    "start_time": "2023-03-12T15:43:10.257Z"
   },
   {
    "duration": 14,
    "start_time": "2023-03-12T15:43:10.340Z"
   },
   {
    "duration": 23,
    "start_time": "2023-03-12T15:43:10.355Z"
   },
   {
    "duration": 48,
    "start_time": "2023-03-12T15:43:10.381Z"
   },
   {
    "duration": 16,
    "start_time": "2023-03-12T15:43:10.431Z"
   },
   {
    "duration": 20,
    "start_time": "2023-03-12T15:43:10.450Z"
   },
   {
    "duration": 29,
    "start_time": "2023-03-12T15:43:10.472Z"
   },
   {
    "duration": 32,
    "start_time": "2023-03-12T15:43:10.503Z"
   },
   {
    "duration": 6,
    "start_time": "2023-03-12T15:43:10.538Z"
   },
   {
    "duration": 19,
    "start_time": "2023-03-12T15:43:10.546Z"
   },
   {
    "duration": 27,
    "start_time": "2023-03-12T15:43:10.567Z"
   },
   {
    "duration": 8,
    "start_time": "2023-03-12T15:43:10.597Z"
   },
   {
    "duration": 8,
    "start_time": "2023-03-12T15:43:10.609Z"
   },
   {
    "duration": 10,
    "start_time": "2023-03-12T15:43:10.620Z"
   },
   {
    "duration": 11,
    "start_time": "2023-03-12T15:43:10.633Z"
   },
   {
    "duration": 48,
    "start_time": "2023-03-12T16:01:19.579Z"
   },
   {
    "duration": 1008,
    "start_time": "2023-03-12T16:01:31.982Z"
   },
   {
    "duration": 74,
    "start_time": "2023-03-12T16:01:32.992Z"
   },
   {
    "duration": 11,
    "start_time": "2023-03-12T16:01:33.068Z"
   },
   {
    "duration": 35,
    "start_time": "2023-03-12T16:01:33.080Z"
   },
   {
    "duration": 25,
    "start_time": "2023-03-12T16:01:33.118Z"
   },
   {
    "duration": 10,
    "start_time": "2023-03-12T16:01:33.144Z"
   },
   {
    "duration": 6,
    "start_time": "2023-03-12T16:01:33.155Z"
   },
   {
    "duration": 7,
    "start_time": "2023-03-12T16:01:33.162Z"
   },
   {
    "duration": 13,
    "start_time": "2023-03-12T16:01:33.170Z"
   },
   {
    "duration": 3,
    "start_time": "2023-03-12T16:01:33.185Z"
   },
   {
    "duration": 8,
    "start_time": "2023-03-12T16:01:33.189Z"
   },
   {
    "duration": 36,
    "start_time": "2023-03-12T16:01:33.198Z"
   },
   {
    "duration": 4,
    "start_time": "2023-03-12T16:01:33.235Z"
   },
   {
    "duration": 4,
    "start_time": "2023-03-12T16:01:33.242Z"
   },
   {
    "duration": 86,
    "start_time": "2023-03-12T16:01:33.247Z"
   },
   {
    "duration": 8,
    "start_time": "2023-03-12T16:01:33.336Z"
   },
   {
    "duration": 4,
    "start_time": "2023-03-12T16:01:33.346Z"
   },
   {
    "duration": 6,
    "start_time": "2023-03-12T16:02:37.885Z"
   },
   {
    "duration": 4,
    "start_time": "2023-03-12T16:06:02.491Z"
   }
  ],
  "kernelspec": {
   "display_name": "Python 3 (ipykernel)",
   "language": "python",
   "name": "python3"
  },
  "language_info": {
   "codemirror_mode": {
    "name": "ipython",
    "version": 3
   },
   "file_extension": ".py",
   "mimetype": "text/x-python",
   "name": "python",
   "nbconvert_exporter": "python",
   "pygments_lexer": "ipython3",
   "version": "3.9.12"
  },
  "toc": {
   "base_numbering": 1,
   "nav_menu": {},
   "number_sections": true,
   "sideBar": true,
   "skip_h1_title": true,
   "title_cell": "Содержание",
   "title_sidebar": "Contents",
   "toc_cell": true,
   "toc_position": {
    "height": "calc(100% - 180px)",
    "left": "10px",
    "top": "150px",
    "width": "165px"
   },
   "toc_section_display": true,
   "toc_window_display": false
  }
 },
 "nbformat": 4,
 "nbformat_minor": 2
}
