{
 "cells": [
  {
   "cell_type": "markdown",
   "metadata": {
    "toc": true
   },
   "source": [
    "<h1>Содержание<span class=\"tocSkip\"></span></h1>\n",
    "<div class=\"toc\"><ul class=\"toc-item\"><li><span><a href=\"#Подготовка-данных\" data-toc-modified-id=\"Подготовка-данных-1\"><span class=\"toc-item-num\">1&nbsp;&nbsp;</span>Подготовка данных</a></span><ul class=\"toc-item\"><li><span><a href=\"#EDA\" data-toc-modified-id=\"EDA-1.1\"><span class=\"toc-item-num\">1.1&nbsp;&nbsp;</span>EDA</a></span></li><li><span><a href=\"#Проверка-эффективности-обогащения\" data-toc-modified-id=\"Проверка-эффективности-обогащения-1.2\"><span class=\"toc-item-num\">1.2&nbsp;&nbsp;</span>Проверка эффективности обогащения</a></span></li><li><span><a href=\"#Анализ-признаков,-недоступных-в-тестовой-выборке\" data-toc-modified-id=\"Анализ-признаков,-недоступных-в-тестовой-выборке-1.3\"><span class=\"toc-item-num\">1.3&nbsp;&nbsp;</span>Анализ признаков, недоступных в тестовой выборке</a></span></li><li><span><a href=\"#Вывод:\" data-toc-modified-id=\"Вывод:-1.4\"><span class=\"toc-item-num\">1.4&nbsp;&nbsp;</span>Вывод:</a></span></li></ul></li><li><span><a href=\"#Анализ-данных\" data-toc-modified-id=\"Анализ-данных-2\"><span class=\"toc-item-num\">2&nbsp;&nbsp;</span>Анализ данных</a></span><ul class=\"toc-item\"><li><span><a href=\"#Концентрация-металлов-(Au,-Ag,-Pb)\" data-toc-modified-id=\"Концентрация-металлов-(Au,-Ag,-Pb)-2.1\"><span class=\"toc-item-num\">2.1&nbsp;&nbsp;</span>Концентрация металлов (Au, Ag, Pb)</a></span></li><li><span><a href=\"#Распределение-размеров-гранул-сырья-на-обучающей-и-тестовой-выборках\" data-toc-modified-id=\"Распределение-размеров-гранул-сырья-на-обучающей-и-тестовой-выборках-2.2\"><span class=\"toc-item-num\">2.2&nbsp;&nbsp;</span>Распределение размеров гранул сырья на обучающей и тестовой выборках</a></span></li><li><span><a href=\"#Cуммарная-концентрация-всех-веществ-на-разных-стадиях:-в-сырье,-в-черновом-и-финальном-концентратах\" data-toc-modified-id=\"Cуммарная-концентрация-всех-веществ-на-разных-стадиях:-в-сырье,-в-черновом-и-финальном-концентратах-2.3\"><span class=\"toc-item-num\">2.3&nbsp;&nbsp;</span>Cуммарная концентрация всех веществ на разных стадиях: в сырье, в черновом и финальном концентратах</a></span></li></ul></li><li><span><a href=\"#Модель\" data-toc-modified-id=\"Модель-3\"><span class=\"toc-item-num\">3&nbsp;&nbsp;</span>Модель</a></span><ul class=\"toc-item\"><li><span><a href=\"#Функция-sMAPE\" data-toc-modified-id=\"Функция-sMAPE-3.1\"><span class=\"toc-item-num\">3.1&nbsp;&nbsp;</span>Функция sMAPE</a></span></li><li><span><a href=\"#Выделяем-признаки-и-целевые-признаки-для-обучения\" data-toc-modified-id=\"Выделяем-признаки-и-целевые-признаки-для-обучения-3.2\"><span class=\"toc-item-num\">3.2&nbsp;&nbsp;</span>Выделяем признаки и целевые признаки для обучения</a></span></li><li><span><a href=\"#Обучение-моделей\" data-toc-modified-id=\"Обучение-моделей-3.3\"><span class=\"toc-item-num\">3.3&nbsp;&nbsp;</span>Обучение моделей</a></span><ul class=\"toc-item\"><li><span><a href=\"#Линейная-регрессия\" data-toc-modified-id=\"Линейная-регрессия-3.3.1\"><span class=\"toc-item-num\">3.3.1&nbsp;&nbsp;</span>Линейная регрессия</a></span></li><li><span><a href=\"#Дерево-решений\" data-toc-modified-id=\"Дерево-решений-3.3.2\"><span class=\"toc-item-num\">3.3.2&nbsp;&nbsp;</span>Дерево решений</a></span></li><li><span><a href=\"#Случайный-лес\" data-toc-modified-id=\"Случайный-лес-3.3.3\"><span class=\"toc-item-num\">3.3.3&nbsp;&nbsp;</span>Случайный лес</a></span></li></ul></li><li><span><a href=\"#Проверка-модели-на-тестовой-выборке\" data-toc-modified-id=\"Проверка-модели-на-тестовой-выборке-3.4\"><span class=\"toc-item-num\">3.4&nbsp;&nbsp;</span>Проверка модели на тестовой выборке</a></span></li><li><span><a href=\"#Проверка-константной-модели\" data-toc-modified-id=\"Проверка-константной-модели-3.5\"><span class=\"toc-item-num\">3.5&nbsp;&nbsp;</span>Проверка константной модели</a></span></li></ul></li><li><span><a href=\"#Заключение\" data-toc-modified-id=\"Заключение-4\"><span class=\"toc-item-num\">4&nbsp;&nbsp;</span>Заключение</a></span></li><li><span><a href=\"#Чек-лист-готовности-проекта\" data-toc-modified-id=\"Чек-лист-готовности-проекта-5\"><span class=\"toc-item-num\">5&nbsp;&nbsp;</span>Чек-лист готовности проекта</a></span></li></ul></div>"
   ]
  },
  {
   "cell_type": "markdown",
   "metadata": {},
   "source": [
    "# Восстановление золота из руды"
   ]
  },
  {
   "cell_type": "markdown",
   "metadata": {},
   "source": [
    "Подготовьте прототип модели машинного обучения для «Цифры». Компания разрабатывает решения для эффективной работы промышленных предприятий.\n",
    "\n",
    "Модель должна предсказать коэффициент восстановления золота из золотосодержащей руды. Используйте данные с параметрами добычи и очистки. \n",
    "\n",
    "Модель поможет оптимизировать производство, чтобы не запускать предприятие с убыточными характеристиками.\n",
    "\n",
    "Вам нужно:\n",
    "\n",
    "1. Подготовить данные;\n",
    "2. Провести исследовательский анализ данных;\n",
    "3. Построить и обучить модель.\n",
    "\n",
    "Чтобы выполнить проект, обращайтесь к библиотекам *pandas*, *matplotlib* и *sklearn.* Вам поможет их документация."
   ]
  },
  {
   "cell_type": "markdown",
   "metadata": {},
   "source": [
    "## Подготовка данных"
   ]
  },
  {
   "cell_type": "code",
   "execution_count": 1,
   "metadata": {},
   "outputs": [],
   "source": [
    "import pandas as pd\n",
    "import numpy as np\n",
    "import matplotlib.pyplot as plt\n",
    "import seaborn as sns\n",
    "\n",
    "from numpy.random import RandomState\n",
    "\n",
    "from sklearn.tree import DecisionTreeRegressor\n",
    "from sklearn.ensemble import RandomForestRegressor\n",
    "from sklearn.linear_model import LinearRegression\n",
    "\n",
    "from sklearn.dummy import DummyRegressor\n",
    "\n",
    "from sklearn.metrics import mean_absolute_error, make_scorer\n",
    "from sklearn.model_selection import cross_val_score"
   ]
  },
  {
   "cell_type": "code",
   "execution_count": 2,
   "metadata": {},
   "outputs": [],
   "source": [
    "data = pd.read_csv('/datasets/gold_recovery_full_new.csv')\n",
    "data_train = pd.read_csv('/datasets/gold_recovery_train_new.csv')\n",
    "data_test = pd.read_csv('/datasets/gold_recovery_test_new.csv')"
   ]
  },
  {
   "cell_type": "markdown",
   "metadata": {},
   "source": [
    "### EDA"
   ]
  },
  {
   "cell_type": "code",
   "execution_count": 3,
   "metadata": {},
   "outputs": [],
   "source": [
    "def df_get_info(df):\n",
    "    print('-----------------------------------------------')\n",
    "    print(df.info())\n",
    "    print(f'Размер датасета: {df.shape}')\n",
    "    print(f'Количество дупликатов: {df.duplicated().sum()}')\n",
    "    print('-----------------------------------------------')"
   ]
  },
  {
   "cell_type": "code",
   "execution_count": 4,
   "metadata": {},
   "outputs": [
    {
     "name": "stdout",
     "output_type": "stream",
     "text": [
      "-----------------------------------------------\n",
      "<class 'pandas.core.frame.DataFrame'>\n",
      "RangeIndex: 19439 entries, 0 to 19438\n",
      "Data columns (total 87 columns):\n",
      " #   Column                                              Non-Null Count  Dtype  \n",
      "---  ------                                              --------------  -----  \n",
      " 0   date                                                19439 non-null  object \n",
      " 1   final.output.concentrate_ag                         19438 non-null  float64\n",
      " 2   final.output.concentrate_pb                         19438 non-null  float64\n",
      " 3   final.output.concentrate_sol                        19228 non-null  float64\n",
      " 4   final.output.concentrate_au                         19439 non-null  float64\n",
      " 5   final.output.recovery                               19439 non-null  float64\n",
      " 6   final.output.tail_ag                                19438 non-null  float64\n",
      " 7   final.output.tail_pb                                19338 non-null  float64\n",
      " 8   final.output.tail_sol                               19433 non-null  float64\n",
      " 9   final.output.tail_au                                19439 non-null  float64\n",
      " 10  primary_cleaner.input.sulfate                       19415 non-null  float64\n",
      " 11  primary_cleaner.input.depressant                    19402 non-null  float64\n",
      " 12  primary_cleaner.input.feed_size                     19439 non-null  float64\n",
      " 13  primary_cleaner.input.xanthate                      19335 non-null  float64\n",
      " 14  primary_cleaner.output.concentrate_ag               19439 non-null  float64\n",
      " 15  primary_cleaner.output.concentrate_pb               19323 non-null  float64\n",
      " 16  primary_cleaner.output.concentrate_sol              19069 non-null  float64\n",
      " 17  primary_cleaner.output.concentrate_au               19439 non-null  float64\n",
      " 18  primary_cleaner.output.tail_ag                      19435 non-null  float64\n",
      " 19  primary_cleaner.output.tail_pb                      19418 non-null  float64\n",
      " 20  primary_cleaner.output.tail_sol                     19377 non-null  float64\n",
      " 21  primary_cleaner.output.tail_au                      19439 non-null  float64\n",
      " 22  primary_cleaner.state.floatbank8_a_air              19435 non-null  float64\n",
      " 23  primary_cleaner.state.floatbank8_a_level            19438 non-null  float64\n",
      " 24  primary_cleaner.state.floatbank8_b_air              19435 non-null  float64\n",
      " 25  primary_cleaner.state.floatbank8_b_level            19438 non-null  float64\n",
      " 26  primary_cleaner.state.floatbank8_c_air              19437 non-null  float64\n",
      " 27  primary_cleaner.state.floatbank8_c_level            19438 non-null  float64\n",
      " 28  primary_cleaner.state.floatbank8_d_air              19436 non-null  float64\n",
      " 29  primary_cleaner.state.floatbank8_d_level            19438 non-null  float64\n",
      " 30  rougher.calculation.sulfate_to_au_concentrate       19437 non-null  float64\n",
      " 31  rougher.calculation.floatbank10_sulfate_to_au_feed  19437 non-null  float64\n",
      " 32  rougher.calculation.floatbank11_sulfate_to_au_feed  19437 non-null  float64\n",
      " 33  rougher.calculation.au_pb_ratio                     19439 non-null  float64\n",
      " 34  rougher.input.feed_ag                               19439 non-null  float64\n",
      " 35  rougher.input.feed_pb                               19339 non-null  float64\n",
      " 36  rougher.input.feed_rate                             19428 non-null  float64\n",
      " 37  rougher.input.feed_size                             19294 non-null  float64\n",
      " 38  rougher.input.feed_sol                              19340 non-null  float64\n",
      " 39  rougher.input.feed_au                               19439 non-null  float64\n",
      " 40  rougher.input.floatbank10_sulfate                   19405 non-null  float64\n",
      " 41  rougher.input.floatbank10_xanthate                  19431 non-null  float64\n",
      " 42  rougher.input.floatbank11_sulfate                   19395 non-null  float64\n",
      " 43  rougher.input.floatbank11_xanthate                  18986 non-null  float64\n",
      " 44  rougher.output.concentrate_ag                       19439 non-null  float64\n",
      " 45  rougher.output.concentrate_pb                       19439 non-null  float64\n",
      " 46  rougher.output.concentrate_sol                      19416 non-null  float64\n",
      " 47  rougher.output.concentrate_au                       19439 non-null  float64\n",
      " 48  rougher.output.recovery                             19439 non-null  float64\n",
      " 49  rougher.output.tail_ag                              19438 non-null  float64\n",
      " 50  rougher.output.tail_pb                              19439 non-null  float64\n",
      " 51  rougher.output.tail_sol                             19439 non-null  float64\n",
      " 52  rougher.output.tail_au                              19439 non-null  float64\n",
      " 53  rougher.state.floatbank10_a_air                     19438 non-null  float64\n",
      " 54  rougher.state.floatbank10_a_level                   19438 non-null  float64\n",
      " 55  rougher.state.floatbank10_b_air                     19438 non-null  float64\n",
      " 56  rougher.state.floatbank10_b_level                   19438 non-null  float64\n",
      " 57  rougher.state.floatbank10_c_air                     19438 non-null  float64\n",
      " 58  rougher.state.floatbank10_c_level                   19438 non-null  float64\n",
      " 59  rougher.state.floatbank10_d_air                     19439 non-null  float64\n",
      " 60  rougher.state.floatbank10_d_level                   19439 non-null  float64\n",
      " 61  rougher.state.floatbank10_e_air                     19003 non-null  float64\n",
      " 62  rougher.state.floatbank10_e_level                   19439 non-null  float64\n",
      " 63  rougher.state.floatbank10_f_air                     19439 non-null  float64\n",
      " 64  rougher.state.floatbank10_f_level                   19439 non-null  float64\n",
      " 65  secondary_cleaner.output.tail_ag                    19437 non-null  float64\n",
      " 66  secondary_cleaner.output.tail_pb                    19427 non-null  float64\n",
      " 67  secondary_cleaner.output.tail_sol                   17691 non-null  float64\n",
      " 68  secondary_cleaner.output.tail_au                    19439 non-null  float64\n",
      " 69  secondary_cleaner.state.floatbank2_a_air            19219 non-null  float64\n",
      " 70  secondary_cleaner.state.floatbank2_a_level          19438 non-null  float64\n",
      " 71  secondary_cleaner.state.floatbank2_b_air            19416 non-null  float64\n",
      " 72  secondary_cleaner.state.floatbank2_b_level          19438 non-null  float64\n",
      " 73  secondary_cleaner.state.floatbank3_a_air            19426 non-null  float64\n",
      " 74  secondary_cleaner.state.floatbank3_a_level          19438 non-null  float64\n",
      " 75  secondary_cleaner.state.floatbank3_b_air            19438 non-null  float64\n",
      " 76  secondary_cleaner.state.floatbank3_b_level          19438 non-null  float64\n",
      " 77  secondary_cleaner.state.floatbank4_a_air            19433 non-null  float64\n",
      " 78  secondary_cleaner.state.floatbank4_a_level          19438 non-null  float64\n",
      " 79  secondary_cleaner.state.floatbank4_b_air            19438 non-null  float64\n",
      " 80  secondary_cleaner.state.floatbank4_b_level          19438 non-null  float64\n",
      " 81  secondary_cleaner.state.floatbank5_a_air            19438 non-null  float64\n",
      " 82  secondary_cleaner.state.floatbank5_a_level          19438 non-null  float64\n",
      " 83  secondary_cleaner.state.floatbank5_b_air            19438 non-null  float64\n",
      " 84  secondary_cleaner.state.floatbank5_b_level          19438 non-null  float64\n",
      " 85  secondary_cleaner.state.floatbank6_a_air            19437 non-null  float64\n",
      " 86  secondary_cleaner.state.floatbank6_a_level          19438 non-null  float64\n",
      "dtypes: float64(86), object(1)\n",
      "memory usage: 12.9+ MB\n",
      "None\n",
      "Размер датасета: (19439, 87)\n",
      "Количество дупликатов: 0\n",
      "-----------------------------------------------\n",
      "-----------------------------------------------\n",
      "<class 'pandas.core.frame.DataFrame'>\n",
      "RangeIndex: 14149 entries, 0 to 14148\n",
      "Data columns (total 87 columns):\n",
      " #   Column                                              Non-Null Count  Dtype  \n",
      "---  ------                                              --------------  -----  \n",
      " 0   date                                                14149 non-null  object \n",
      " 1   final.output.concentrate_ag                         14148 non-null  float64\n",
      " 2   final.output.concentrate_pb                         14148 non-null  float64\n",
      " 3   final.output.concentrate_sol                        13938 non-null  float64\n",
      " 4   final.output.concentrate_au                         14149 non-null  float64\n",
      " 5   final.output.recovery                               14149 non-null  float64\n",
      " 6   final.output.tail_ag                                14149 non-null  float64\n",
      " 7   final.output.tail_pb                                14049 non-null  float64\n",
      " 8   final.output.tail_sol                               14144 non-null  float64\n",
      " 9   final.output.tail_au                                14149 non-null  float64\n",
      " 10  primary_cleaner.input.sulfate                       14129 non-null  float64\n",
      " 11  primary_cleaner.input.depressant                    14117 non-null  float64\n",
      " 12  primary_cleaner.input.feed_size                     14149 non-null  float64\n",
      " 13  primary_cleaner.input.xanthate                      14049 non-null  float64\n",
      " 14  primary_cleaner.output.concentrate_ag               14149 non-null  float64\n",
      " 15  primary_cleaner.output.concentrate_pb               14063 non-null  float64\n",
      " 16  primary_cleaner.output.concentrate_sol              13863 non-null  float64\n",
      " 17  primary_cleaner.output.concentrate_au               14149 non-null  float64\n",
      " 18  primary_cleaner.output.tail_ag                      14148 non-null  float64\n",
      " 19  primary_cleaner.output.tail_pb                      14134 non-null  float64\n",
      " 20  primary_cleaner.output.tail_sol                     14103 non-null  float64\n",
      " 21  primary_cleaner.output.tail_au                      14149 non-null  float64\n",
      " 22  primary_cleaner.state.floatbank8_a_air              14145 non-null  float64\n",
      " 23  primary_cleaner.state.floatbank8_a_level            14148 non-null  float64\n",
      " 24  primary_cleaner.state.floatbank8_b_air              14145 non-null  float64\n",
      " 25  primary_cleaner.state.floatbank8_b_level            14148 non-null  float64\n",
      " 26  primary_cleaner.state.floatbank8_c_air              14147 non-null  float64\n",
      " 27  primary_cleaner.state.floatbank8_c_level            14148 non-null  float64\n",
      " 28  primary_cleaner.state.floatbank8_d_air              14146 non-null  float64\n",
      " 29  primary_cleaner.state.floatbank8_d_level            14148 non-null  float64\n",
      " 30  rougher.calculation.sulfate_to_au_concentrate       14148 non-null  float64\n",
      " 31  rougher.calculation.floatbank10_sulfate_to_au_feed  14148 non-null  float64\n",
      " 32  rougher.calculation.floatbank11_sulfate_to_au_feed  14148 non-null  float64\n",
      " 33  rougher.calculation.au_pb_ratio                     14149 non-null  float64\n",
      " 34  rougher.input.feed_ag                               14149 non-null  float64\n",
      " 35  rougher.input.feed_pb                               14049 non-null  float64\n",
      " 36  rougher.input.feed_rate                             14141 non-null  float64\n",
      " 37  rougher.input.feed_size                             14005 non-null  float64\n",
      " 38  rougher.input.feed_sol                              14071 non-null  float64\n",
      " 39  rougher.input.feed_au                               14149 non-null  float64\n",
      " 40  rougher.input.floatbank10_sulfate                   14120 non-null  float64\n",
      " 41  rougher.input.floatbank10_xanthate                  14141 non-null  float64\n",
      " 42  rougher.input.floatbank11_sulfate                   14113 non-null  float64\n",
      " 43  rougher.input.floatbank11_xanthate                  13721 non-null  float64\n",
      " 44  rougher.output.concentrate_ag                       14149 non-null  float64\n",
      " 45  rougher.output.concentrate_pb                       14149 non-null  float64\n",
      " 46  rougher.output.concentrate_sol                      14127 non-null  float64\n",
      " 47  rougher.output.concentrate_au                       14149 non-null  float64\n",
      " 48  rougher.output.recovery                             14149 non-null  float64\n",
      " 49  rougher.output.tail_ag                              14148 non-null  float64\n",
      " 50  rougher.output.tail_pb                              14149 non-null  float64\n",
      " 51  rougher.output.tail_sol                             14149 non-null  float64\n",
      " 52  rougher.output.tail_au                              14149 non-null  float64\n",
      " 53  rougher.state.floatbank10_a_air                     14148 non-null  float64\n",
      " 54  rougher.state.floatbank10_a_level                   14148 non-null  float64\n",
      " 55  rougher.state.floatbank10_b_air                     14148 non-null  float64\n",
      " 56  rougher.state.floatbank10_b_level                   14148 non-null  float64\n",
      " 57  rougher.state.floatbank10_c_air                     14148 non-null  float64\n",
      " 58  rougher.state.floatbank10_c_level                   14148 non-null  float64\n",
      " 59  rougher.state.floatbank10_d_air                     14149 non-null  float64\n",
      " 60  rougher.state.floatbank10_d_level                   14149 non-null  float64\n",
      " 61  rougher.state.floatbank10_e_air                     13713 non-null  float64\n",
      " 62  rougher.state.floatbank10_e_level                   14149 non-null  float64\n",
      " 63  rougher.state.floatbank10_f_air                     14149 non-null  float64\n",
      " 64  rougher.state.floatbank10_f_level                   14149 non-null  float64\n",
      " 65  secondary_cleaner.output.tail_ag                    14147 non-null  float64\n",
      " 66  secondary_cleaner.output.tail_pb                    14139 non-null  float64\n",
      " 67  secondary_cleaner.output.tail_sol                   12544 non-null  float64\n",
      " 68  secondary_cleaner.output.tail_au                    14149 non-null  float64\n",
      " 69  secondary_cleaner.state.floatbank2_a_air            13932 non-null  float64\n",
      " 70  secondary_cleaner.state.floatbank2_a_level          14148 non-null  float64\n",
      " 71  secondary_cleaner.state.floatbank2_b_air            14128 non-null  float64\n",
      " 72  secondary_cleaner.state.floatbank2_b_level          14148 non-null  float64\n",
      " 73  secondary_cleaner.state.floatbank3_a_air            14145 non-null  float64\n",
      " 74  secondary_cleaner.state.floatbank3_a_level          14148 non-null  float64\n",
      " 75  secondary_cleaner.state.floatbank3_b_air            14148 non-null  float64\n",
      " 76  secondary_cleaner.state.floatbank3_b_level          14148 non-null  float64\n",
      " 77  secondary_cleaner.state.floatbank4_a_air            14143 non-null  float64\n",
      " 78  secondary_cleaner.state.floatbank4_a_level          14148 non-null  float64\n",
      " 79  secondary_cleaner.state.floatbank4_b_air            14148 non-null  float64\n",
      " 80  secondary_cleaner.state.floatbank4_b_level          14148 non-null  float64\n",
      " 81  secondary_cleaner.state.floatbank5_a_air            14148 non-null  float64\n",
      " 82  secondary_cleaner.state.floatbank5_a_level          14148 non-null  float64\n",
      " 83  secondary_cleaner.state.floatbank5_b_air            14148 non-null  float64\n",
      " 84  secondary_cleaner.state.floatbank5_b_level          14148 non-null  float64\n",
      " 85  secondary_cleaner.state.floatbank6_a_air            14147 non-null  float64\n",
      " 86  secondary_cleaner.state.floatbank6_a_level          14148 non-null  float64\n",
      "dtypes: float64(86), object(1)\n",
      "memory usage: 9.4+ MB\n",
      "None\n",
      "Размер датасета: (14149, 87)\n",
      "Количество дупликатов: 0\n",
      "-----------------------------------------------\n",
      "-----------------------------------------------\n",
      "<class 'pandas.core.frame.DataFrame'>\n",
      "RangeIndex: 5290 entries, 0 to 5289\n",
      "Data columns (total 53 columns):\n",
      " #   Column                                      Non-Null Count  Dtype  \n",
      "---  ------                                      --------------  -----  \n",
      " 0   date                                        5290 non-null   object \n",
      " 1   primary_cleaner.input.sulfate               5286 non-null   float64\n",
      " 2   primary_cleaner.input.depressant            5285 non-null   float64\n",
      " 3   primary_cleaner.input.feed_size             5290 non-null   float64\n",
      " 4   primary_cleaner.input.xanthate              5286 non-null   float64\n",
      " 5   primary_cleaner.state.floatbank8_a_air      5290 non-null   float64\n",
      " 6   primary_cleaner.state.floatbank8_a_level    5290 non-null   float64\n",
      " 7   primary_cleaner.state.floatbank8_b_air      5290 non-null   float64\n",
      " 8   primary_cleaner.state.floatbank8_b_level    5290 non-null   float64\n",
      " 9   primary_cleaner.state.floatbank8_c_air      5290 non-null   float64\n",
      " 10  primary_cleaner.state.floatbank8_c_level    5290 non-null   float64\n",
      " 11  primary_cleaner.state.floatbank8_d_air      5290 non-null   float64\n",
      " 12  primary_cleaner.state.floatbank8_d_level    5290 non-null   float64\n",
      " 13  rougher.input.feed_ag                       5290 non-null   float64\n",
      " 14  rougher.input.feed_pb                       5290 non-null   float64\n",
      " 15  rougher.input.feed_rate                     5287 non-null   float64\n",
      " 16  rougher.input.feed_size                     5289 non-null   float64\n",
      " 17  rougher.input.feed_sol                      5269 non-null   float64\n",
      " 18  rougher.input.feed_au                       5290 non-null   float64\n",
      " 19  rougher.input.floatbank10_sulfate           5285 non-null   float64\n",
      " 20  rougher.input.floatbank10_xanthate          5290 non-null   float64\n",
      " 21  rougher.input.floatbank11_sulfate           5282 non-null   float64\n",
      " 22  rougher.input.floatbank11_xanthate          5265 non-null   float64\n",
      " 23  rougher.state.floatbank10_a_air             5290 non-null   float64\n",
      " 24  rougher.state.floatbank10_a_level           5290 non-null   float64\n",
      " 25  rougher.state.floatbank10_b_air             5290 non-null   float64\n",
      " 26  rougher.state.floatbank10_b_level           5290 non-null   float64\n",
      " 27  rougher.state.floatbank10_c_air             5290 non-null   float64\n",
      " 28  rougher.state.floatbank10_c_level           5290 non-null   float64\n",
      " 29  rougher.state.floatbank10_d_air             5290 non-null   float64\n",
      " 30  rougher.state.floatbank10_d_level           5290 non-null   float64\n",
      " 31  rougher.state.floatbank10_e_air             5290 non-null   float64\n",
      " 32  rougher.state.floatbank10_e_level           5290 non-null   float64\n",
      " 33  rougher.state.floatbank10_f_air             5290 non-null   float64\n",
      " 34  rougher.state.floatbank10_f_level           5290 non-null   float64\n",
      " 35  secondary_cleaner.state.floatbank2_a_air    5287 non-null   float64\n",
      " 36  secondary_cleaner.state.floatbank2_a_level  5290 non-null   float64\n",
      " 37  secondary_cleaner.state.floatbank2_b_air    5288 non-null   float64\n",
      " 38  secondary_cleaner.state.floatbank2_b_level  5290 non-null   float64\n",
      " 39  secondary_cleaner.state.floatbank3_a_air    5281 non-null   float64\n",
      " 40  secondary_cleaner.state.floatbank3_a_level  5290 non-null   float64\n",
      " 41  secondary_cleaner.state.floatbank3_b_air    5290 non-null   float64\n",
      " 42  secondary_cleaner.state.floatbank3_b_level  5290 non-null   float64\n",
      " 43  secondary_cleaner.state.floatbank4_a_air    5290 non-null   float64\n",
      " 44  secondary_cleaner.state.floatbank4_a_level  5290 non-null   float64\n",
      " 45  secondary_cleaner.state.floatbank4_b_air    5290 non-null   float64\n",
      " 46  secondary_cleaner.state.floatbank4_b_level  5290 non-null   float64\n",
      " 47  secondary_cleaner.state.floatbank5_a_air    5290 non-null   float64\n",
      " 48  secondary_cleaner.state.floatbank5_a_level  5290 non-null   float64\n",
      " 49  secondary_cleaner.state.floatbank5_b_air    5290 non-null   float64\n",
      " 50  secondary_cleaner.state.floatbank5_b_level  5290 non-null   float64\n",
      " 51  secondary_cleaner.state.floatbank6_a_air    5290 non-null   float64\n",
      " 52  secondary_cleaner.state.floatbank6_a_level  5290 non-null   float64\n",
      "dtypes: float64(52), object(1)\n",
      "memory usage: 2.1+ MB\n",
      "None\n",
      "Размер датасета: (5290, 53)\n",
      "Количество дупликатов: 0\n",
      "-----------------------------------------------\n"
     ]
    }
   ],
   "source": [
    "data_list = [data, data_train, data_test]\n",
    "for df in data_list:\n",
    "    df_get_info(df)"
   ]
  },
  {
   "cell_type": "code",
   "execution_count": 5,
   "metadata": {},
   "outputs": [],
   "source": [
    "def df_missing_values(df):\n",
    "    pct_total = 0\n",
    "    col_count = 0\n",
    "    for col in df.columns:\n",
    "        pct_missing = np.mean(df[col].isnull())\n",
    "        pct_count = df[col].isnull().sum()\n",
    "        pct_total += pct_count\n",
    "        if pct_missing > 0:\n",
    "            col_count += 1\n",
    "            print(f'В столбце {col} пропущено {pct_count} эл. или {pct_missing * 100}%')\n",
    "    print('-----------------------------------------------')\n",
    "    print(f'В {col_count} столбцах общее количество пропусков: {pct_total}')\n",
    "    print('-----------------------------------------------')"
   ]
  },
  {
   "cell_type": "code",
   "execution_count": 6,
   "metadata": {},
   "outputs": [
    {
     "name": "stdout",
     "output_type": "stream",
     "text": [
      "В столбце final.output.concentrate_ag пропущено 1 эл. или 0.005144297546170071%\n",
      "В столбце final.output.concentrate_pb пропущено 1 эл. или 0.005144297546170071%\n",
      "В столбце final.output.concentrate_sol пропущено 211 эл. или 1.0854467822418847%\n",
      "В столбце final.output.tail_ag пропущено 1 эл. или 0.005144297546170071%\n",
      "В столбце final.output.tail_pb пропущено 101 эл. или 0.5195740521631772%\n",
      "В столбце final.output.tail_sol пропущено 6 эл. или 0.03086578527702042%\n",
      "В столбце primary_cleaner.input.sulfate пропущено 24 эл. или 0.12346314110808168%\n",
      "В столбце primary_cleaner.input.depressant пропущено 37 эл. или 0.1903390092082926%\n",
      "В столбце primary_cleaner.input.xanthate пропущено 104 эл. или 0.5350069448016873%\n",
      "В столбце primary_cleaner.output.concentrate_pb пропущено 116 эл. или 0.5967385153557282%\n",
      "В столбце primary_cleaner.output.concentrate_sol пропущено 370 эл. или 1.9033900920829259%\n",
      "В столбце primary_cleaner.output.tail_ag пропущено 4 эл. или 0.020577190184680284%\n",
      "В столбце primary_cleaner.output.tail_pb пропущено 21 эл. или 0.10803024846957147%\n",
      "В столбце primary_cleaner.output.tail_sol пропущено 62 эл. или 0.3189464478625444%\n",
      "В столбце primary_cleaner.state.floatbank8_a_air пропущено 4 эл. или 0.020577190184680284%\n",
      "В столбце primary_cleaner.state.floatbank8_a_level пропущено 1 эл. или 0.005144297546170071%\n",
      "В столбце primary_cleaner.state.floatbank8_b_air пропущено 4 эл. или 0.020577190184680284%\n",
      "В столбце primary_cleaner.state.floatbank8_b_level пропущено 1 эл. или 0.005144297546170071%\n",
      "В столбце primary_cleaner.state.floatbank8_c_air пропущено 2 эл. или 0.010288595092340142%\n",
      "В столбце primary_cleaner.state.floatbank8_c_level пропущено 1 эл. или 0.005144297546170071%\n",
      "В столбце primary_cleaner.state.floatbank8_d_air пропущено 3 эл. или 0.01543289263851021%\n",
      "В столбце primary_cleaner.state.floatbank8_d_level пропущено 1 эл. или 0.005144297546170071%\n",
      "В столбце rougher.calculation.sulfate_to_au_concentrate пропущено 2 эл. или 0.010288595092340142%\n",
      "В столбце rougher.calculation.floatbank10_sulfate_to_au_feed пропущено 2 эл. или 0.010288595092340142%\n",
      "В столбце rougher.calculation.floatbank11_sulfate_to_au_feed пропущено 2 эл. или 0.010288595092340142%\n",
      "В столбце rougher.input.feed_pb пропущено 100 эл. или 0.5144297546170071%\n",
      "В столбце rougher.input.feed_rate пропущено 11 эл. или 0.05658727300787077%\n",
      "В столбце rougher.input.feed_size пропущено 145 эл. или 0.7459231441946602%\n",
      "В столбце rougher.input.feed_sol пропущено 99 эл. или 0.5092854570708369%\n",
      "В столбце rougher.input.floatbank10_sulfate пропущено 34 эл. или 0.17490611656978242%\n",
      "В столбце rougher.input.floatbank10_xanthate пропущено 8 эл. или 0.04115438036936057%\n",
      "В столбце rougher.input.floatbank11_sulfate пропущено 44 эл. или 0.22634909203148307%\n",
      "В столбце rougher.input.floatbank11_xanthate пропущено 453 эл. или 2.330366788415042%\n",
      "В столбце rougher.output.concentrate_sol пропущено 23 эл. или 0.11831884356191162%\n",
      "В столбце rougher.output.tail_ag пропущено 1 эл. или 0.005144297546170071%\n",
      "В столбце rougher.state.floatbank10_a_air пропущено 1 эл. или 0.005144297546170071%\n",
      "В столбце rougher.state.floatbank10_a_level пропущено 1 эл. или 0.005144297546170071%\n",
      "В столбце rougher.state.floatbank10_b_air пропущено 1 эл. или 0.005144297546170071%\n",
      "В столбце rougher.state.floatbank10_b_level пропущено 1 эл. или 0.005144297546170071%\n",
      "В столбце rougher.state.floatbank10_c_air пропущено 1 эл. или 0.005144297546170071%\n",
      "В столбце rougher.state.floatbank10_c_level пропущено 1 эл. или 0.005144297546170071%\n",
      "В столбце rougher.state.floatbank10_e_air пропущено 436 эл. или 2.2429137301301507%\n",
      "В столбце secondary_cleaner.output.tail_ag пропущено 2 эл. или 0.010288595092340142%\n",
      "В столбце secondary_cleaner.output.tail_pb пропущено 12 эл. или 0.06173157055404084%\n",
      "В столбце secondary_cleaner.output.tail_sol пропущено 1748 эл. или 8.992232110705284%\n",
      "В столбце secondary_cleaner.state.floatbank2_a_air пропущено 220 эл. или 1.1317454601574155%\n",
      "В столбце secondary_cleaner.state.floatbank2_a_level пропущено 1 эл. или 0.005144297546170071%\n",
      "В столбце secondary_cleaner.state.floatbank2_b_air пропущено 23 эл. или 0.11831884356191162%\n",
      "В столбце secondary_cleaner.state.floatbank2_b_level пропущено 1 эл. или 0.005144297546170071%\n",
      "В столбце secondary_cleaner.state.floatbank3_a_air пропущено 13 эл. или 0.06687586810021091%\n",
      "В столбце secondary_cleaner.state.floatbank3_a_level пропущено 1 эл. или 0.005144297546170071%\n",
      "В столбце secondary_cleaner.state.floatbank3_b_air пропущено 1 эл. или 0.005144297546170071%\n",
      "В столбце secondary_cleaner.state.floatbank3_b_level пропущено 1 эл. или 0.005144297546170071%\n",
      "В столбце secondary_cleaner.state.floatbank4_a_air пропущено 6 эл. или 0.03086578527702042%\n",
      "В столбце secondary_cleaner.state.floatbank4_a_level пропущено 1 эл. или 0.005144297546170071%\n",
      "В столбце secondary_cleaner.state.floatbank4_b_air пропущено 1 эл. или 0.005144297546170071%\n",
      "В столбце secondary_cleaner.state.floatbank4_b_level пропущено 1 эл. или 0.005144297546170071%\n",
      "В столбце secondary_cleaner.state.floatbank5_a_air пропущено 1 эл. или 0.005144297546170071%\n",
      "В столбце secondary_cleaner.state.floatbank5_a_level пропущено 1 эл. или 0.005144297546170071%\n",
      "В столбце secondary_cleaner.state.floatbank5_b_air пропущено 1 эл. или 0.005144297546170071%\n",
      "В столбце secondary_cleaner.state.floatbank5_b_level пропущено 1 эл. или 0.005144297546170071%\n",
      "В столбце secondary_cleaner.state.floatbank6_a_air пропущено 2 эл. или 0.010288595092340142%\n",
      "В столбце secondary_cleaner.state.floatbank6_a_level пропущено 1 эл. или 0.005144297546170071%\n",
      "-----------------------------------------------\n",
      "В 63 столбцах общее количество пропусков: 4481\n",
      "-----------------------------------------------\n"
     ]
    }
   ],
   "source": [
    "df_missing_values(data)"
   ]
  },
  {
   "cell_type": "code",
   "execution_count": 7,
   "metadata": {},
   "outputs": [
    {
     "name": "stdout",
     "output_type": "stream",
     "text": [
      "В столбце final.output.concentrate_ag пропущено 1 эл. или 0.007067637288854336%\n",
      "В столбце final.output.concentrate_pb пропущено 1 эл. или 0.007067637288854336%\n",
      "В столбце final.output.concentrate_sol пропущено 211 эл. или 1.491271467948265%\n",
      "В столбце final.output.tail_pb пропущено 100 эл. или 0.7067637288854336%\n",
      "В столбце final.output.tail_sol пропущено 5 эл. или 0.035338186444271676%\n",
      "В столбце primary_cleaner.input.sulfate пропущено 20 эл. или 0.1413527457770867%\n",
      "В столбце primary_cleaner.input.depressant пропущено 32 эл. или 0.22616439324333876%\n",
      "В столбце primary_cleaner.input.xanthate пропущено 100 эл. или 0.7067637288854336%\n",
      "В столбце primary_cleaner.output.concentrate_pb пропущено 86 эл. или 0.6078168068414729%\n",
      "В столбце primary_cleaner.output.concentrate_sol пропущено 286 эл. или 2.02134426461234%\n",
      "В столбце primary_cleaner.output.tail_ag пропущено 1 эл. или 0.007067637288854336%\n",
      "В столбце primary_cleaner.output.tail_pb пропущено 15 эл. или 0.10601455933281505%\n",
      "В столбце primary_cleaner.output.tail_sol пропущено 46 эл. или 0.3251113152872995%\n",
      "В столбце primary_cleaner.state.floatbank8_a_air пропущено 4 эл. или 0.028270549155417345%\n",
      "В столбце primary_cleaner.state.floatbank8_a_level пропущено 1 эл. или 0.007067637288854336%\n",
      "В столбце primary_cleaner.state.floatbank8_b_air пропущено 4 эл. или 0.028270549155417345%\n",
      "В столбце primary_cleaner.state.floatbank8_b_level пропущено 1 эл. или 0.007067637288854336%\n",
      "В столбце primary_cleaner.state.floatbank8_c_air пропущено 2 эл. или 0.014135274577708672%\n",
      "В столбце primary_cleaner.state.floatbank8_c_level пропущено 1 эл. или 0.007067637288854336%\n",
      "В столбце primary_cleaner.state.floatbank8_d_air пропущено 3 эл. или 0.021202911866563007%\n",
      "В столбце primary_cleaner.state.floatbank8_d_level пропущено 1 эл. или 0.007067637288854336%\n",
      "В столбце rougher.calculation.sulfate_to_au_concentrate пропущено 1 эл. или 0.007067637288854336%\n",
      "В столбце rougher.calculation.floatbank10_sulfate_to_au_feed пропущено 1 эл. или 0.007067637288854336%\n",
      "В столбце rougher.calculation.floatbank11_sulfate_to_au_feed пропущено 1 эл. или 0.007067637288854336%\n",
      "В столбце rougher.input.feed_pb пропущено 100 эл. или 0.7067637288854336%\n",
      "В столбце rougher.input.feed_rate пропущено 8 эл. или 0.05654109831083469%\n",
      "В столбце rougher.input.feed_size пропущено 144 эл. или 1.0177397695950243%\n",
      "В столбце rougher.input.feed_sol пропущено 78 эл. или 0.5512757085306382%\n",
      "В столбце rougher.input.floatbank10_sulfate пропущено 29 эл. или 0.20496148137677575%\n",
      "В столбце rougher.input.floatbank10_xanthate пропущено 8 эл. или 0.05654109831083469%\n",
      "В столбце rougher.input.floatbank11_sulfate пропущено 36 эл. или 0.2544349423987561%\n",
      "В столбце rougher.input.floatbank11_xanthate пропущено 428 эл. или 3.024948759629656%\n",
      "В столбце rougher.output.concentrate_sol пропущено 22 эл. или 0.1554880203547954%\n",
      "В столбце rougher.output.tail_ag пропущено 1 эл. или 0.007067637288854336%\n",
      "В столбце rougher.state.floatbank10_a_air пропущено 1 эл. или 0.007067637288854336%\n",
      "В столбце rougher.state.floatbank10_a_level пропущено 1 эл. или 0.007067637288854336%\n",
      "В столбце rougher.state.floatbank10_b_air пропущено 1 эл. или 0.007067637288854336%\n",
      "В столбце rougher.state.floatbank10_b_level пропущено 1 эл. или 0.007067637288854336%\n",
      "В столбце rougher.state.floatbank10_c_air пропущено 1 эл. или 0.007067637288854336%\n",
      "В столбце rougher.state.floatbank10_c_level пропущено 1 эл. или 0.007067637288854336%\n",
      "В столбце rougher.state.floatbank10_e_air пропущено 436 эл. или 3.0814898579404906%\n",
      "В столбце secondary_cleaner.output.tail_ag пропущено 2 эл. или 0.014135274577708672%\n",
      "В столбце secondary_cleaner.output.tail_pb пропущено 10 эл. или 0.07067637288854335%\n",
      "В столбце secondary_cleaner.output.tail_sol пропущено 1605 эл. или 11.343557848611209%\n",
      "В столбце secondary_cleaner.state.floatbank2_a_air пропущено 217 эл. или 1.533677291681391%\n",
      "В столбце secondary_cleaner.state.floatbank2_a_level пропущено 1 эл. или 0.007067637288854336%\n",
      "В столбце secondary_cleaner.state.floatbank2_b_air пропущено 21 эл. или 0.14842038306594105%\n",
      "В столбце secondary_cleaner.state.floatbank2_b_level пропущено 1 эл. или 0.007067637288854336%\n",
      "В столбце secondary_cleaner.state.floatbank3_a_air пропущено 4 эл. или 0.028270549155417345%\n",
      "В столбце secondary_cleaner.state.floatbank3_a_level пропущено 1 эл. или 0.007067637288854336%\n",
      "В столбце secondary_cleaner.state.floatbank3_b_air пропущено 1 эл. или 0.007067637288854336%\n",
      "В столбце secondary_cleaner.state.floatbank3_b_level пропущено 1 эл. или 0.007067637288854336%\n",
      "В столбце secondary_cleaner.state.floatbank4_a_air пропущено 6 эл. или 0.042405823733126013%\n",
      "В столбце secondary_cleaner.state.floatbank4_a_level пропущено 1 эл. или 0.007067637288854336%\n",
      "В столбце secondary_cleaner.state.floatbank4_b_air пропущено 1 эл. или 0.007067637288854336%\n",
      "В столбце secondary_cleaner.state.floatbank4_b_level пропущено 1 эл. или 0.007067637288854336%\n",
      "В столбце secondary_cleaner.state.floatbank5_a_air пропущено 1 эл. или 0.007067637288854336%\n",
      "В столбце secondary_cleaner.state.floatbank5_a_level пропущено 1 эл. или 0.007067637288854336%\n",
      "В столбце secondary_cleaner.state.floatbank5_b_air пропущено 1 эл. или 0.007067637288854336%\n",
      "В столбце secondary_cleaner.state.floatbank5_b_level пропущено 1 эл. или 0.007067637288854336%\n",
      "В столбце secondary_cleaner.state.floatbank6_a_air пропущено 2 эл. или 0.014135274577708672%\n",
      "В столбце secondary_cleaner.state.floatbank6_a_level пропущено 1 эл. или 0.007067637288854336%\n",
      "-----------------------------------------------\n",
      "В 62 столбцах общее количество пропусков: 4100\n",
      "-----------------------------------------------\n"
     ]
    }
   ],
   "source": [
    "df_missing_values(data_train)"
   ]
  },
  {
   "cell_type": "code",
   "execution_count": 8,
   "metadata": {},
   "outputs": [
    {
     "name": "stdout",
     "output_type": "stream",
     "text": [
      "В столбце primary_cleaner.input.sulfate пропущено 4 эл. или 0.07561436672967864%\n",
      "В столбце primary_cleaner.input.depressant пропущено 5 эл. или 0.0945179584120983%\n",
      "В столбце primary_cleaner.input.xanthate пропущено 4 эл. или 0.07561436672967864%\n",
      "В столбце rougher.input.feed_rate пропущено 3 эл. или 0.05671077504725897%\n",
      "В столбце rougher.input.feed_size пропущено 1 эл. или 0.01890359168241966%\n",
      "В столбце rougher.input.feed_sol пропущено 21 эл. или 0.39697542533081287%\n",
      "В столбце rougher.input.floatbank10_sulfate пропущено 5 эл. или 0.0945179584120983%\n",
      "В столбце rougher.input.floatbank11_sulfate пропущено 8 эл. или 0.15122873345935728%\n",
      "В столбце rougher.input.floatbank11_xanthate пропущено 25 эл. или 0.4725897920604915%\n",
      "В столбце secondary_cleaner.state.floatbank2_a_air пропущено 3 эл. или 0.05671077504725897%\n",
      "В столбце secondary_cleaner.state.floatbank2_b_air пропущено 2 эл. или 0.03780718336483932%\n",
      "В столбце secondary_cleaner.state.floatbank3_a_air пропущено 9 эл. или 0.17013232514177695%\n",
      "-----------------------------------------------\n",
      "В 12 столбцах общее количество пропусков: 90\n",
      "-----------------------------------------------\n"
     ]
    }
   ],
   "source": [
    "df_missing_values(data_test)"
   ]
  },
  {
   "cell_type": "markdown",
   "metadata": {},
   "source": [
    "**Вывод:** \n",
    "1. Столбец `date`, означающий дату и время, представлен как 'object'.\n",
    "2. В полном и тренировочном датасете большое количество пропусков. "
   ]
  },
  {
   "cell_type": "markdown",
   "metadata": {},
   "source": [
    "Столбец `date` нельзя рассматривать как признак обучения модели. Эффективно его рассматривать как \"индекс\", по которому будет необходимо объединять датасеты. Уже после объединения он будет удален, поэтому его преобразовывать нет необходимсоти."
   ]
  },
  {
   "cell_type": "markdown",
   "metadata": {},
   "source": [
    "Лучшим методом ликвидации пропусков в датасете будет `'ffill'`, который заполняет пропуски значениями из предыдущих строк или столбцов. Так как строки располагаются по времени, т.е. по порядку, то верным решением будет осуществить замену по предыдущим строкам:"
   ]
  },
  {
   "cell_type": "code",
   "execution_count": 9,
   "metadata": {},
   "outputs": [],
   "source": [
    "data = data.ffill(axis=0)\n",
    "data_train = data_train.ffill(axis=0)\n",
    "data_test = data_test.ffill(axis=0)"
   ]
  },
  {
   "cell_type": "markdown",
   "metadata": {},
   "source": [
    "<font color='blue'><b>Комментарий ревьюера: </b></font> ✔️\\\n",
    "<font color='green'> Пропуски заполнены согласно условию задачи!</font>"
   ]
  },
  {
   "cell_type": "code",
   "execution_count": 10,
   "metadata": {},
   "outputs": [
    {
     "name": "stdout",
     "output_type": "stream",
     "text": [
      "В полном датасете:\n",
      "-----------------------------------------------\n",
      "В 0 столбцах общее количество пропусков: 0\n",
      "-----------------------------------------------\n",
      "В тренировочном датасете:\n",
      "-----------------------------------------------\n",
      "В 0 столбцах общее количество пропусков: 0\n",
      "-----------------------------------------------\n",
      "В тестовом датасете:\n",
      "-----------------------------------------------\n",
      "В 0 столбцах общее количество пропусков: 0\n",
      "-----------------------------------------------\n"
     ]
    }
   ],
   "source": [
    "print('В полном датасете:')\n",
    "df_missing_values(data)\n",
    "print('В тренировочном датасете:')\n",
    "df_missing_values(data_train)\n",
    "print('В тестовом датасете:')\n",
    "df_missing_values(data_test)"
   ]
  },
  {
   "cell_type": "markdown",
   "metadata": {},
   "source": [
    "### Проверка эффективности обогащения"
   ]
  },
  {
   "cell_type": "markdown",
   "metadata": {},
   "source": [
    "Эффективность рассчитывается по формуле:\n",
    "\n",
    "**Recovery** = ((C * (F - T)) / F * (C - T)) * 100%\n",
    "\n",
    "* C — доля золота в концентрате после флотации/очистки;\n",
    "* F — доля золота в сырье/концентрате до флотации/очистки;\n",
    "* T — доля золота в отвальных хвостах после флотации/очистки."
   ]
  },
  {
   "cell_type": "code",
   "execution_count": 11,
   "metadata": {},
   "outputs": [],
   "source": [
    "C = data_train['rougher.output.concentrate_au']\n",
    "F = data_train['rougher.input.feed_au']\n",
    "T = data_train['rougher.output.tail_au']\n",
    "\n",
    "data_train['rougher.calculation.tail_au'] = ((C * (F - T)) / (F * (C - T))) * 100"
   ]
  },
  {
   "cell_type": "code",
   "execution_count": 12,
   "metadata": {},
   "outputs": [],
   "source": [
    "recovery_train = data_train['rougher.output.recovery']\n",
    "recovery = data_train['rougher.calculation.tail_au']"
   ]
  },
  {
   "cell_type": "code",
   "execution_count": 13,
   "metadata": {},
   "outputs": [],
   "source": [
    "MAE_recovery = mean_absolute_error(recovery_train, recovery)"
   ]
  },
  {
   "cell_type": "code",
   "execution_count": 14,
   "metadata": {},
   "outputs": [
    {
     "data": {
      "text/plain": [
       "9.73512347450521e-15"
      ]
     },
     "execution_count": 14,
     "metadata": {},
     "output_type": "execute_result"
    }
   ],
   "source": [
    "MAE_recovery"
   ]
  },
  {
   "cell_type": "markdown",
   "metadata": {},
   "source": [
    "**Вывод:** MAE очень низкий. Отклонение близится к 0. Значения столбца `'rougher.output.recovery'` корректны."
   ]
  },
  {
   "cell_type": "markdown",
   "metadata": {},
   "source": [
    "### Анализ признаков, недоступных в тестовой выборке"
   ]
  },
  {
   "cell_type": "code",
   "execution_count": 15,
   "metadata": {},
   "outputs": [
    {
     "name": "stdout",
     "output_type": "stream",
     "text": [
      "Пропущено 35 столбцов\n"
     ]
    }
   ],
   "source": [
    "miss_columns = set(data_train.columns) - set(data_test.columns)\n",
    "print(f'Пропущено {len(miss_columns)} столбцов')"
   ]
  },
  {
   "cell_type": "code",
   "execution_count": 16,
   "metadata": {},
   "outputs": [
    {
     "data": {
      "text/plain": [
       "{'final.output.concentrate_ag',\n",
       " 'final.output.concentrate_au',\n",
       " 'final.output.concentrate_pb',\n",
       " 'final.output.concentrate_sol',\n",
       " 'final.output.recovery',\n",
       " 'final.output.tail_ag',\n",
       " 'final.output.tail_au',\n",
       " 'final.output.tail_pb',\n",
       " 'final.output.tail_sol',\n",
       " 'primary_cleaner.output.concentrate_ag',\n",
       " 'primary_cleaner.output.concentrate_au',\n",
       " 'primary_cleaner.output.concentrate_pb',\n",
       " 'primary_cleaner.output.concentrate_sol',\n",
       " 'primary_cleaner.output.tail_ag',\n",
       " 'primary_cleaner.output.tail_au',\n",
       " 'primary_cleaner.output.tail_pb',\n",
       " 'primary_cleaner.output.tail_sol',\n",
       " 'rougher.calculation.au_pb_ratio',\n",
       " 'rougher.calculation.floatbank10_sulfate_to_au_feed',\n",
       " 'rougher.calculation.floatbank11_sulfate_to_au_feed',\n",
       " 'rougher.calculation.sulfate_to_au_concentrate',\n",
       " 'rougher.calculation.tail_au',\n",
       " 'rougher.output.concentrate_ag',\n",
       " 'rougher.output.concentrate_au',\n",
       " 'rougher.output.concentrate_pb',\n",
       " 'rougher.output.concentrate_sol',\n",
       " 'rougher.output.recovery',\n",
       " 'rougher.output.tail_ag',\n",
       " 'rougher.output.tail_au',\n",
       " 'rougher.output.tail_pb',\n",
       " 'rougher.output.tail_sol',\n",
       " 'secondary_cleaner.output.tail_ag',\n",
       " 'secondary_cleaner.output.tail_au',\n",
       " 'secondary_cleaner.output.tail_pb',\n",
       " 'secondary_cleaner.output.tail_sol'}"
      ]
     },
     "execution_count": 16,
     "metadata": {},
     "output_type": "execute_result"
    }
   ],
   "source": [
    "miss_columns"
   ]
  },
  {
   "cell_type": "markdown",
   "metadata": {},
   "source": [
    "**Вывод:** в основном, в тестовой выборке отсутсвуют признаки `output` (параметры продукта). "
   ]
  },
  {
   "cell_type": "markdown",
   "metadata": {},
   "source": [
    "Целевым признаком для обучения модели являются: `'final.output.recovery'` и `'rougher.output.recovery'` (`'финальная эффективность параметров продукта'` и `'эффективность параметров продукта после флотации'`). Выделим их после объединения:"
   ]
  },
  {
   "cell_type": "code",
   "execution_count": 17,
   "metadata": {},
   "outputs": [],
   "source": [
    "data_test = data_test.merge(data.loc[:, ['date','rougher.output.recovery','final.output.recovery']], on='date', how='left')"
   ]
  },
  {
   "cell_type": "code",
   "execution_count": 18,
   "metadata": {},
   "outputs": [],
   "source": [
    "data_train = data_train.drop(['date', 'rougher.calculation.tail_au'], axis = 1)\n",
    "data_test = data_test.drop('date', axis = 1) "
   ]
  },
  {
   "cell_type": "code",
   "execution_count": 19,
   "metadata": {},
   "outputs": [
    {
     "data": {
      "text/plain": [
       "((14149, 86), (5290, 54))"
      ]
     },
     "execution_count": 19,
     "metadata": {},
     "output_type": "execute_result"
    }
   ],
   "source": [
    "data_train.shape, data_test.shape"
   ]
  },
  {
   "cell_type": "markdown",
   "metadata": {},
   "source": [
    "### Вывод:"
   ]
  },
  {
   "cell_type": "markdown",
   "metadata": {},
   "source": [
    "* В ходе EDA-анализа были определены пропуски в датасетах, которые были устранены методом 'ffill'.\n",
    "* Были выделены целевые признаки в тренировочной выборке и добавлены в тестовую."
   ]
  },
  {
   "cell_type": "markdown",
   "metadata": {},
   "source": [
    "## Анализ данных"
   ]
  },
  {
   "cell_type": "markdown",
   "metadata": {},
   "source": [
    "### Концентрация металлов (Au, Ag, Pb)"
   ]
  },
  {
   "cell_type": "code",
   "execution_count": 20,
   "metadata": {},
   "outputs": [
    {
     "data": {
      "image/png": "[encoded data removed]",
      "text/plain": [
       "<Figure size 720x720 with 1 Axes>"
      ]
     },
     "metadata": {
      "needs_background": "light"
     },
     "output_type": "display_data"
    }
   ],
   "source": [
    "plt.figure(figsize=(10,10))\n",
    "\n",
    "data_train['rougher.input.feed_pb'].hist(bins=50, label='Сырье до флотации', alpha=0.5)\n",
    "data_train['rougher.output.concentrate_pb'].hist(bins=50, label='Сырье после флотации', alpha=0.5)\n",
    "data_train['primary_cleaner.output.concentrate_pb'].hist(bins=50, label='Концентрация Pb после первичной очистки', alpha=0.5)\n",
    "data_train['final.output.concentrate_pb'].hist(bins=50, label='Концентрация Pb после вторичной очистки', alpha=0.5)\n",
    "plt.title('Концентрация Pb (свинца)')\n",
    "\n",
    "plt.legend()\n",
    "plt.xlabel('Значения')\n",
    "plt.ylabel('Количество')\n",
    "plt.show()"
   ]
  },
  {
   "cell_type": "code",
   "execution_count": 21,
   "metadata": {},
   "outputs": [
    {
     "data": {
      "image/png": "[encoded data removed]",
      "text/plain": [
       "<Figure size 720x720 with 1 Axes>"
      ]
     },
     "metadata": {
      "needs_background": "light"
     },
     "output_type": "display_data"
    }
   ],
   "source": [
    "plt.figure(figsize=(10,10))\n",
    "\n",
    "data_train['rougher.input.feed_ag'].hist(bins=50, label='Сырье до флотации', alpha=0.5)\n",
    "data_train['rougher.output.concentrate_ag'].hist(bins=50, label='Сырье после флотации', alpha=0.5)\n",
    "data_train['primary_cleaner.output.concentrate_ag'].hist(bins=50, label='Концентрация Ag после первичной очистки', alpha=0.5)\n",
    "data_train['final.output.concentrate_ag'].hist(bins=50, label='Концентрация Ag после вторичной очистки', alpha=0.5)\n",
    "plt.title('Концентрация Ag (серебра)')\n",
    "\n",
    "plt.legend()\n",
    "plt.xlabel('Значения')\n",
    "plt.ylabel('Количество')\n",
    "plt.show()"
   ]
  },
  {
   "cell_type": "code",
   "execution_count": 22,
   "metadata": {},
   "outputs": [
    {
     "data": {
      "image/png": "[encoded data removed]",
      "text/plain": [
       "<Figure size 720x720 with 1 Axes>"
      ]
     },
     "metadata": {
      "needs_background": "light"
     },
     "output_type": "display_data"
    }
   ],
   "source": [
    "plt.figure(figsize=(10,10))\n",
    "\n",
    "data_train['rougher.input.feed_au'].hist(bins=50, label='Сырье до флотации', alpha=0.5)\n",
    "data_train['rougher.output.concentrate_au'].hist(bins=50, label='Сырье после флотации', alpha=0.5)\n",
    "data_train['primary_cleaner.output.concentrate_au'].hist(bins=50, label='Концентрация Au после первичной очистки', alpha=0.5)\n",
    "data_train['final.output.concentrate_au'].hist(bins=50, label='Концентрация Au после вторичной очистки', alpha=0.5)\n",
    "plt.title('Концентрация Au (золота)')\n",
    "\n",
    "plt.legend()\n",
    "plt.xlabel('Значения')\n",
    "plt.ylabel('Количество')\n",
    "plt.show()"
   ]
  },
  {
   "cell_type": "markdown",
   "metadata": {},
   "source": [
    "**Вывод:** \n",
    "1. Концентрация свинца увеличивается до первичной очистки, затем концентрация падает, а затем снова возрастает.\n",
    "2. Доля серебра увеличивается после флотации, а на последующих этапах - снижается.\n",
    "3. Золото на протяжении всего процесса увеличивает свою долю."
   ]
  },
  {
   "cell_type": "markdown",
   "metadata": {},
   "source": [
    "### Распределение размеров гранул сырья на обучающей и тестовой выборках"
   ]
  },
  {
   "cell_type": "code",
   "execution_count": 25,
   "metadata": {},
   "outputs": [
    {
     "data": {
      "image/png": "[encoded data removed]",
      "text/plain": [
       "<Figure size 720x720 with 1 Axes>"
      ]
     },
     "metadata": {
      "needs_background": "light"
     },
     "output_type": "display_data"
    }
   ],
   "source": [
    "plt.figure(figsize=[10,10])\n",
    "\n",
    "data_train['rougher.input.feed_size'].hist(bins=100, label = 'Тренировочная выборка', density=True, alpha=.5)\n",
    "data_test['rougher.input.feed_size'].hist(bins=100, label = 'Тестовая выборка', density=True, alpha=.5)\n",
    "plt.title(\"Распределение гранул перед флотацией\")\n",
    "\n",
    "plt.legend()\n",
    "plt.xlabel(\"Размер гранул сырья\")\n",
    "plt.ylabel(\"Количество\")\n",
    "\n",
    "plt.show()"
   ]
  },
  {
   "cell_type": "code",
   "execution_count": 26,
   "metadata": {},
   "outputs": [
    {
     "data": {
      "image/png": "[encoded data removed]",
      "text/plain": [
       "<Figure size 720x720 with 1 Axes>"
      ]
     },
     "metadata": {
      "needs_background": "light"
     },
     "output_type": "display_data"
    }
   ],
   "source": [
    "plt.figure(figsize=[10,10])\n",
    "\n",
    "data_train['primary_cleaner.input.feed_size'].hist(bins=100, density=True, label = 'Тренировочная выборка', alpha=.5)\n",
    "data_test['primary_cleaner.input.feed_size'].hist(bins=100, density=True, label = 'Тестовая выборка', alpha=.5)\n",
    "plt.title(\"Распределение гранул первичной очисткой\")\n",
    "\n",
    "plt.legend()\n",
    "plt.xlabel(\"Размер гранул сырья\")\n",
    "plt.ylabel(\"Количество\")\n",
    "\n",
    "plt.show()"
   ]
  },
  {
   "cell_type": "markdown",
   "metadata": {},
   "source": [
    "**Вывод:** графики показывают, в целом, нормальное распределение. Разница только в количестве измерений."
   ]
  },
  {
   "cell_type": "markdown",
   "metadata": {},
   "source": [
    "### Cуммарная концентрация всех веществ на разных стадиях: в сырье, в черновом и финальном концентратах"
   ]
  },
  {
   "cell_type": "code",
   "execution_count": 29,
   "metadata": {},
   "outputs": [],
   "source": [
    "rougher_input_feed_sum = (data_train['rougher.input.feed_au'] + \n",
    "                      data_train['rougher.input.feed_ag'] + \n",
    "                      data_train['rougher.input.feed_pb'] +\n",
    "                      data_train['rougher.input.feed_sol'])\n",
    "rougher_output_sum = (data_train['rougher.output.concentrate_ag'] + \n",
    "                      data_train['rougher.output.concentrate_pb'] + \n",
    "                      data_train['rougher.output.concentrate_sol'] + \n",
    "                      data_train['rougher.output.concentrate_au'])\n",
    "final_output_sum = (data_train['final.output.concentrate_au'] + \n",
    "                    data_train['final.output.concentrate_ag'] + \n",
    "                    data_train['final.output.concentrate_pb'] +\n",
    "                    data_train['final.output.concentrate_sol'])"
   ]
  },
  {
   "cell_type": "code",
   "execution_count": 30,
   "metadata": {},
   "outputs": [
    {
     "data": {
      "image/png": "[encoded data removed]",
      "text/plain": [
       "<Figure size 720x720 with 1 Axes>"
      ]
     },
     "metadata": {
      "needs_background": "light"
     },
     "output_type": "display_data"
    }
   ],
   "source": [
    "plt.figure(figsize=[10,10])\n",
    "\n",
    "final_output_sum.hist(bins=100, label = 'Финальная очистка', alpha=.5)\n",
    "rougher_input_feed_sum.hist(bins=100, label = 'Сырье', alpha=.5)\n",
    "rougher_output_sum.hist(bins=100, label = 'Флотация', alpha=.5)\n",
    "plt.title(\"Распределение концентраций на разных этапах очистки\")\n",
    "\n",
    "plt.legend()\n",
    "plt.xlabel(\"Общая концентраця\")\n",
    "plt.ylabel(\"Количество результатов\")\n",
    "\n",
    "plt.show()"
   ]
  },
  {
   "cell_type": "markdown",
   "metadata": {},
   "source": [
    "**Вывод:** в целом, суммарная концентрация веществ к концу процесса увеличивается."
   ]
  },
  {
   "cell_type": "markdown",
   "metadata": {},
   "source": [
    "**Вывод:** \n",
    "1. Визуализация показала выбросы в районе 0. Для более точных предсказаний будет лучшим решением их удалить из датасета.\n",
    "2. В целом, данные распределены нормально."
   ]
  },
  {
   "cell_type": "code",
   "execution_count": 31,
   "metadata": {},
   "outputs": [],
   "source": [
    "data = data[(data['rougher.output.concentrate_au'] != 0) &\n",
    "            (data['rougher.output.concentrate_ag'] != 0) &\n",
    "            (data['rougher.output.concentrate_pb'] != 0) & \n",
    "            (data['rougher.output.concentrate_sol'] != 0) &\n",
    "            (data['final.output.concentrate_au'] != 0) & \n",
    "            (data['final.output.concentrate_ag'] != 0) & \n",
    "            (data['final.output.concentrate_pb'] != 0) & \n",
    "            (data['final.output.concentrate_sol'] != 0)]\n",
    "\n",
    "data_train = data_train[(data_train['rougher.output.concentrate_au'] != 0) & \n",
    "                        (data_train['rougher.output.concentrate_ag'] != 0) & \n",
    "                        (data_train['rougher.output.concentrate_pb'] != 0) & \n",
    "                        (data_train['rougher.output.concentrate_sol'] != 0) &\n",
    "                        (data_train['final.output.concentrate_au'] != 0) & \n",
    "                        (data_train['final.output.concentrate_ag'] != 0) & \n",
    "                        (data_train['final.output.concentrate_pb'] != 0) & \n",
    "                        (data_train['final.output.concentrate_sol'] != 0)]"
   ]
  },
  {
   "cell_type": "markdown",
   "metadata": {},
   "source": [
    "## Модель"
   ]
  },
  {
   "cell_type": "markdown",
   "metadata": {},
   "source": [
    "### Функция sMAPE"
   ]
  },
  {
   "cell_type": "code",
   "execution_count": 32,
   "metadata": {},
   "outputs": [],
   "source": [
    "def s_mape(target, predict):\n",
    "    smape = (1 / len(target)) * np.sum((abs(target - predict)) / ((abs(target) + abs(predict)) / 2)) * 100\n",
    "    return smape"
   ]
  },
  {
   "cell_type": "code",
   "execution_count": 33,
   "metadata": {},
   "outputs": [],
   "source": [
    "smape_scorer = make_scorer(s_mape, greater_is_better = False)"
   ]
  },
  {
   "cell_type": "code",
   "execution_count": 34,
   "metadata": {},
   "outputs": [],
   "source": [
    "def final_s_mape(rougher, final):\n",
    "    final_smape = 0.25 * rougher + 0.75 * final\n",
    "    return final_smape"
   ]
  },
  {
   "cell_type": "markdown",
   "metadata": {},
   "source": [
    "### Выделяем признаки и целевые признаки для обучения"
   ]
  },
  {
   "cell_type": "code",
   "execution_count": 35,
   "metadata": {},
   "outputs": [],
   "source": [
    "columns_not_in_test = set(data_train.columns) - set(data_test.columns)"
   ]
  },
  {
   "cell_type": "code",
   "execution_count": 36,
   "metadata": {},
   "outputs": [],
   "source": [
    "data_train = data_train.drop(columns_not_in_test, axis = 1)"
   ]
  },
  {
   "cell_type": "code",
   "execution_count": 37,
   "metadata": {},
   "outputs": [],
   "source": [
    "features_train = data_train.drop(['rougher.output.recovery', 'final.output.recovery'], axis = 1)\n",
    "features_test = data_test.drop(['rougher.output.recovery', 'final.output.recovery'], axis = 1)\n",
    "\n",
    "target_rougher_train = data_train['rougher.output.recovery']\n",
    "target_final_train = data_train['final.output.recovery']"
   ]
  },
  {
   "cell_type": "markdown",
   "metadata": {},
   "source": [
    "### Обучение моделей"
   ]
  },
  {
   "cell_type": "markdown",
   "metadata": {},
   "source": [
    "#### Линейная регрессия"
   ]
  },
  {
   "cell_type": "code",
   "execution_count": null,
   "metadata": {},
   "outputs": [],
   "source": [
    "model_lr_rougher = LinearRegression()\n",
    "s_mape_rougher = cross_val_score(model_lr_rougher,\n",
    "                          features_train,\n",
    "                          target_rougher_train,\n",
    "                          scoring=smape_scorer,\n",
    "                          cv=5)\n",
    "final_s_mape_rougher = s_mape_rougher.mean()\n",
    "\n",
    "model_lr_final = LinearRegression()\n",
    "s_mape_final = cross_val_score(model_lr_final,\n",
    "                        features_train,\n",
    "                        target_final_train,\n",
    "                        scoring=smape_scorer,\n",
    "                        cv=5)\n",
    "final_s_mape_final = s_mape_final.mean()\n",
    "\n",
    "result_s_mape = final_s_mape(final_s_mape_rougher, final_s_mape_final) * (-1)\n",
    "print(f'Лучший результат sMAPE: {result_s_mape}')"
   ]
  },
  {
   "cell_type": "markdown",
   "metadata": {},
   "source": [
    "#### Дерево решений"
   ]
  },
  {
   "cell_type": "code",
   "execution_count": null,
   "metadata": {},
   "outputs": [],
   "source": [
    "best_result = 0\n",
    "best_parametrs = None\n",
    "\n",
    "for depth in range(1, 10, 1):\n",
    "    model_dtr_rougher = DecisionTreeRegressor(max_depth=depth, random_state=12345)\n",
    "    s_mape_rougher = cross_val_score(model_dtr_rougher,\n",
    "                              features_train,\n",
    "                              target_rougher_train,\n",
    "                              scoring=smape_scorer,\n",
    "                              cv=5)\n",
    "    final_s_mape_rougher = s_mape_rougher.mean()\n",
    "\n",
    "    model_dtr_final = DecisionTreeRegressor(max_depth=depth, random_state=12345)\n",
    "    s_mape_final = cross_val_score(model_dtr_final, \n",
    "                                  features_train,\n",
    "                                  target_final_train,\n",
    "                                  scoring=smape_scorer,\n",
    "                                  cv=5)\n",
    "    final_s_mape_final = s_mape_final.mean()\n",
    "    \n",
    "    result_s_mape = final_s_mape(final_s_mape_rougher, final_s_mape_final) * (-1)\n",
    "    if result_s_mape > best_result:\n",
    "        best_result = result_s_mape\n",
    "        best_parametrs = depth\n",
    "print(f'Лучший результат sMAPE: {best_result}. Максимальная глубина: {best_parametrs}')"
   ]
  },
  {
   "cell_type": "markdown",
   "metadata": {},
   "source": [
    "#### Случайный лес"
   ]
  },
  {
   "cell_type": "code",
   "execution_count": null,
   "metadata": {},
   "outputs": [],
   "source": [
    "%%time\n",
    "#best_result = 0\n",
    "#best_parametrs = None\n",
    "\n",
    "#for est in range(10, 100, 10):\n",
    "    #for depth in range(2, 10, 2):\n",
    "       #model_rf_rougher = RandomForestRegressor(n_estimators=est, max_depth=depth, random_state=12345)\n",
    "        #s_mape_rougher = cross_val_score(model_rf_rougher,\n",
    "                                  #features_train,\n",
    "                                  #target_rougher_train,\n",
    "                                  #scoring=smape_scorer,\n",
    "                                  #cv=5)\n",
    "        #final_s_mape_rougher = s_mape_rougher.mean()\n",
    "\n",
    "        #model_rf_final = RandomForestRegressor(n_estimators=est, max_depth=depth, random_state=12345)\n",
    "        #s_mape_final = cross_val_score(model_rf_final,\n",
    "                                #features_train,\n",
    "                                #target_final_train,\n",
    "                                #scoring=smape_scorer,\n",
    "                                #cv=5)\n",
    "        #inal_s_mape_final = s_mape_final.mean()\n",
    "        \n",
    "        #result_s_mape = final_s_mape(final_s_mape_rougher, final_s_mape_final) * (-1)\n",
    "        #if result_s_mape > best_result:\n",
    "            #best_result = result_s_mape\n",
    "            #best_parametrs = [est, depth]\n",
    "#print(f'Лучший результат sMAPE: {best_result}. Лучшие параметры: {best_parametrs}')\n",
    "###Лучший результат sMAPE: 11.350285712791795. Лучшие параметры: [70, 2]\n",
    "###CPU times: user 51min 39s, sys: 16.4 s, total: 51min 56s\n",
    "###Wall time: 51min 58s"
   ]
  },
  {
   "cell_type": "markdown",
   "metadata": {},
   "source": [
    "**Вывод:** лучший результат показала модель Дерева решений с глубиной 8."
   ]
  },
  {
   "cell_type": "markdown",
   "metadata": {},
   "source": [
    "### Проверка модели на тестовой выборке"
   ]
  },
  {
   "cell_type": "code",
   "execution_count": 38,
   "metadata": {},
   "outputs": [],
   "source": [
    "target_rougher_test = data_test['rougher.output.recovery']\n",
    "target_final_test = data_test['final.output.recovery']"
   ]
  },
  {
   "cell_type": "code",
   "execution_count": 39,
   "metadata": {},
   "outputs": [],
   "source": [
    "model_test_rougher = DecisionTreeRegressor(max_depth = 8, random_state=12345)\n",
    "model_test_rougher.fit(features_train, target_rougher_train)\n",
    "predict_rougher = model_test_rougher.predict(features_test)\n",
    "\n",
    "model_test_final = DecisionTreeRegressor(max_depth = 8, random_state=12345)\n",
    "model_test_final.fit(features_train, target_final_train)\n",
    "predict_final = model_test_final.predict(features_test)"
   ]
  },
  {
   "cell_type": "code",
   "execution_count": 40,
   "metadata": {},
   "outputs": [
    {
     "name": "stdout",
     "output_type": "stream",
     "text": [
      "sMAPE для тестовой выборки: 10.201048732014392\n"
     ]
    }
   ],
   "source": [
    "smape_rougher = s_mape(target_rougher_test, predict_rougher)\n",
    "smape_final = s_mape(target_final_test, predict_final)\n",
    "final_smape = final_s_mape(smape_rougher, smape_final)\n",
    "print(f'sMAPE для тестовой выборки: {final_smape}')"
   ]
  },
  {
   "cell_type": "markdown",
   "metadata": {},
   "source": [
    "### Проверка константной модели"
   ]
  },
  {
   "cell_type": "code",
   "execution_count": 41,
   "metadata": {},
   "outputs": [
    {
     "name": "stdout",
     "output_type": "stream",
     "text": [
      "sMAPE для константной модели: 9.82146839182027\n"
     ]
    }
   ],
   "source": [
    "dummy_rougher = DummyRegressor(strategy=\"mean\")\n",
    "dummy_final = DummyRegressor(strategy=\"mean\")\n",
    "\n",
    "dummy_rougher.fit(features_train, target_rougher_train)\n",
    "dummy_final.fit(features_train, target_final_train)\n",
    "\n",
    "dummy_predict_rougher = dummy_rougher.predict(features_test)\n",
    "dummy_predict_final = dummy_final.predict(features_test)\n",
    "\n",
    "smape_dummy_rougher = s_mape(target_rougher_test, dummy_predict_rougher)\n",
    "smape_dummy_final = s_mape(target_final_test, dummy_predict_final)\n",
    "\n",
    "final_dummy_smape = final_s_mape(smape_dummy_rougher, smape_dummy_final)\n",
    "print(f'sMAPE для константной модели: {final_dummy_smape}')"
   ]
  },
  {
   "cell_type": "markdown",
   "metadata": {},
   "source": [
    "## Заключение"
   ]
  },
  {
   "cell_type": "markdown",
   "metadata": {},
   "source": [
    "В ходе работы на проектом были проведен EDA-анализ, проверена эффективность обогащения. Проведен анализ признаков, недоступных в тестовой выборке. Также были проанализированы концентрация металлов (Au, Ag, Pb), распределение размеров гранул сырья на обучающей и тестовой выборках и суммарная концентрация всех веществ на разных стадиях: в сырье, в черновом и финальном концентратах. Были построены модели обучения и проверены на константной модели."
   ]
  }
 ],
 "metadata": {
  "ExecuteTimeLog": [
   {
    "duration": 430,
    "start_time": "2023-02-11T09:50:22.799Z"
   },
   {
    "duration": 1651,
    "start_time": "2023-02-11T09:51:42.293Z"
   },
   {
    "duration": 18,
    "start_time": "2023-02-11T09:53:15.949Z"
   },
   {
    "duration": 2,
    "start_time": "2023-02-11T09:53:47.806Z"
   },
   {
    "duration": 6,
    "start_time": "2023-02-11T09:57:21.010Z"
   },
   {
    "duration": 766,
    "start_time": "2023-02-11T09:58:06.600Z"
   },
   {
    "duration": 4,
    "start_time": "2023-02-11T10:40:13.249Z"
   },
   {
    "duration": 4,
    "start_time": "2023-02-11T10:40:21.868Z"
   },
   {
    "duration": 8,
    "start_time": "2023-02-11T10:40:28.913Z"
   },
   {
    "duration": 83,
    "start_time": "2023-02-11T10:42:19.495Z"
   },
   {
    "duration": 5,
    "start_time": "2023-02-11T10:42:36.085Z"
   },
   {
    "duration": 3,
    "start_time": "2023-02-11T10:42:37.584Z"
   },
   {
    "duration": 3,
    "start_time": "2023-02-11T10:42:38.149Z"
   },
   {
    "duration": 102,
    "start_time": "2023-02-11T10:45:36.892Z"
   },
   {
    "duration": 17,
    "start_time": "2023-02-11T10:45:45.180Z"
   },
   {
    "duration": 5,
    "start_time": "2023-02-11T10:45:47.370Z"
   },
   {
    "duration": 4,
    "start_time": "2023-02-11T10:45:48.484Z"
   },
   {
    "duration": 3,
    "start_time": "2023-02-11T10:45:49.058Z"
   },
   {
    "duration": 1086,
    "start_time": "2023-02-11T10:46:51.911Z"
   },
   {
    "duration": 566,
    "start_time": "2023-02-11T10:46:52.999Z"
   },
   {
    "duration": 18,
    "start_time": "2023-02-11T10:46:53.567Z"
   },
   {
    "duration": 6,
    "start_time": "2023-02-11T10:46:53.586Z"
   },
   {
    "duration": 17,
    "start_time": "2023-02-11T10:46:53.593Z"
   },
   {
    "duration": 20,
    "start_time": "2023-02-11T10:46:53.612Z"
   },
   {
    "duration": 6,
    "start_time": "2023-02-11T10:48:36.512Z"
   },
   {
    "duration": 4,
    "start_time": "2023-02-11T10:48:58.223Z"
   },
   {
    "duration": 5,
    "start_time": "2023-02-11T10:50:13.558Z"
   },
   {
    "duration": 3,
    "start_time": "2023-02-11T10:50:26.210Z"
   },
   {
    "duration": 4,
    "start_time": "2023-02-11T10:50:30.087Z"
   },
   {
    "duration": 3,
    "start_time": "2023-02-11T11:00:07.747Z"
   },
   {
    "duration": 4,
    "start_time": "2023-02-11T11:00:34.750Z"
   },
   {
    "duration": 4,
    "start_time": "2023-02-11T11:00:35.451Z"
   },
   {
    "duration": 3,
    "start_time": "2023-02-11T11:02:00.346Z"
   },
   {
    "duration": 3,
    "start_time": "2023-02-11T11:02:08.466Z"
   },
   {
    "duration": 4,
    "start_time": "2023-02-11T11:02:09.194Z"
   },
   {
    "duration": 24,
    "start_time": "2023-02-11T11:02:57.752Z"
   },
   {
    "duration": 9,
    "start_time": "2023-02-11T11:06:00.560Z"
   },
   {
    "duration": 14,
    "start_time": "2023-02-11T11:14:54.642Z"
   },
   {
    "duration": 9,
    "start_time": "2023-02-11T11:14:59.221Z"
   },
   {
    "duration": 8,
    "start_time": "2023-02-11T11:15:24.500Z"
   },
   {
    "duration": 7,
    "start_time": "2023-02-11T11:15:49.596Z"
   },
   {
    "duration": 13,
    "start_time": "2023-02-11T11:16:10.668Z"
   },
   {
    "duration": 24,
    "start_time": "2023-02-11T11:16:19.008Z"
   },
   {
    "duration": 1012,
    "start_time": "2023-02-11T11:16:28.553Z"
   },
   {
    "duration": 561,
    "start_time": "2023-02-11T11:16:29.567Z"
   },
   {
    "duration": 8,
    "start_time": "2023-02-11T11:16:30.129Z"
   },
   {
    "duration": 5,
    "start_time": "2023-02-11T11:16:30.139Z"
   },
   {
    "duration": 13,
    "start_time": "2023-02-11T11:16:30.146Z"
   },
   {
    "duration": 22,
    "start_time": "2023-02-11T11:16:30.161Z"
   },
   {
    "duration": 2,
    "start_time": "2023-02-11T12:08:26.111Z"
   },
   {
    "duration": 3,
    "start_time": "2023-02-11T12:10:22.846Z"
   },
   {
    "duration": 122,
    "start_time": "2023-02-11T12:11:32.070Z"
   },
   {
    "duration": 3,
    "start_time": "2023-02-11T12:11:45.791Z"
   },
   {
    "duration": 353,
    "start_time": "2023-02-11T12:11:46.432Z"
   },
   {
    "duration": 3,
    "start_time": "2023-02-11T12:12:09.697Z"
   },
   {
    "duration": 3,
    "start_time": "2023-02-11T12:12:23.033Z"
   },
   {
    "duration": 291,
    "start_time": "2023-02-11T12:12:24.229Z"
   },
   {
    "duration": 3,
    "start_time": "2023-02-11T12:12:42.565Z"
   },
   {
    "duration": 291,
    "start_time": "2023-02-11T12:12:43.097Z"
   },
   {
    "duration": 3,
    "start_time": "2023-02-11T12:13:09.572Z"
   },
   {
    "duration": 295,
    "start_time": "2023-02-11T12:13:10.071Z"
   },
   {
    "duration": 3,
    "start_time": "2023-02-11T12:14:05.328Z"
   },
   {
    "duration": 163,
    "start_time": "2023-02-11T12:14:06.721Z"
   },
   {
    "duration": 3,
    "start_time": "2023-02-11T12:14:17.045Z"
   },
   {
    "duration": 263,
    "start_time": "2023-02-11T12:14:17.762Z"
   },
   {
    "duration": 73,
    "start_time": "2023-02-11T12:14:49.928Z"
   },
   {
    "duration": 3,
    "start_time": "2023-02-11T12:14:56.085Z"
   },
   {
    "duration": 270,
    "start_time": "2023-02-11T12:14:57.847Z"
   },
   {
    "duration": 1048,
    "start_time": "2023-02-11T12:15:19.718Z"
   },
   {
    "duration": 534,
    "start_time": "2023-02-11T12:15:20.768Z"
   },
   {
    "duration": 5,
    "start_time": "2023-02-11T12:15:21.304Z"
   },
   {
    "duration": 290,
    "start_time": "2023-02-11T12:15:21.311Z"
   },
   {
    "duration": 10,
    "start_time": "2023-02-11T12:15:21.602Z"
   },
   {
    "duration": 3,
    "start_time": "2023-02-11T12:15:21.614Z"
   },
   {
    "duration": 5,
    "start_time": "2023-02-11T12:15:21.619Z"
   },
   {
    "duration": 9,
    "start_time": "2023-02-11T12:15:21.625Z"
   },
   {
    "duration": 4,
    "start_time": "2023-02-11T12:15:39.661Z"
   },
   {
    "duration": 274,
    "start_time": "2023-02-11T12:15:40.396Z"
   },
   {
    "duration": 3,
    "start_time": "2023-02-11T12:17:25.451Z"
   },
   {
    "duration": 263,
    "start_time": "2023-02-11T12:17:25.905Z"
   },
   {
    "duration": 4,
    "start_time": "2023-02-11T12:17:42.656Z"
   },
   {
    "duration": 296,
    "start_time": "2023-02-11T12:17:43.125Z"
   },
   {
    "duration": 22,
    "start_time": "2023-02-11T12:28:26.421Z"
   },
   {
    "duration": 5,
    "start_time": "2023-02-11T12:28:57.480Z"
   },
   {
    "duration": 3,
    "start_time": "2023-02-11T12:28:57.962Z"
   },
   {
    "duration": 3,
    "start_time": "2023-02-11T12:28:58.504Z"
   },
   {
    "duration": 5,
    "start_time": "2023-02-11T12:28:59.098Z"
   },
   {
    "duration": 820,
    "start_time": "2023-02-11T12:31:28.531Z"
   },
   {
    "duration": 3,
    "start_time": "2023-02-11T12:31:29.353Z"
   },
   {
    "duration": 1052,
    "start_time": "2023-02-11T12:31:35.207Z"
   },
   {
    "duration": 656,
    "start_time": "2023-02-11T12:31:36.262Z"
   },
   {
    "duration": 4,
    "start_time": "2023-02-11T12:31:36.920Z"
   },
   {
    "duration": 316,
    "start_time": "2023-02-11T12:31:36.925Z"
   },
   {
    "duration": 7,
    "start_time": "2023-02-11T12:31:37.243Z"
   },
   {
    "duration": 12,
    "start_time": "2023-02-11T12:31:37.252Z"
   },
   {
    "duration": 9,
    "start_time": "2023-02-11T12:31:37.266Z"
   },
   {
    "duration": 10,
    "start_time": "2023-02-11T12:31:37.278Z"
   },
   {
    "duration": 3,
    "start_time": "2023-02-11T12:40:07.532Z"
   },
   {
    "duration": 20,
    "start_time": "2023-02-11T12:40:30.307Z"
   },
   {
    "duration": 3,
    "start_time": "2023-02-11T12:40:37.377Z"
   },
   {
    "duration": 33,
    "start_time": "2023-02-11T12:40:37.845Z"
   },
   {
    "duration": 3,
    "start_time": "2023-02-11T12:41:01.425Z"
   },
   {
    "duration": 29,
    "start_time": "2023-02-11T12:41:02.620Z"
   },
   {
    "duration": 3,
    "start_time": "2023-02-11T12:47:09.312Z"
   },
   {
    "duration": 39,
    "start_time": "2023-02-11T12:47:10.263Z"
   },
   {
    "duration": 4,
    "start_time": "2023-02-11T12:47:59.706Z"
   },
   {
    "duration": 32,
    "start_time": "2023-02-11T12:48:00.210Z"
   },
   {
    "duration": 4,
    "start_time": "2023-02-11T12:48:16.511Z"
   },
   {
    "duration": 53,
    "start_time": "2023-02-11T12:48:19.107Z"
   },
   {
    "duration": 45,
    "start_time": "2023-02-11T20:05:20.133Z"
   },
   {
    "duration": 1034,
    "start_time": "2023-02-11T20:05:26.485Z"
   },
   {
    "duration": 3037,
    "start_time": "2023-02-11T20:05:27.521Z"
   },
   {
    "duration": 4,
    "start_time": "2023-02-11T20:05:30.560Z"
   },
   {
    "duration": 286,
    "start_time": "2023-02-11T20:05:30.565Z"
   },
   {
    "duration": 3,
    "start_time": "2023-02-11T20:05:30.853Z"
   },
   {
    "duration": 68,
    "start_time": "2023-02-11T20:05:30.858Z"
   },
   {
    "duration": 35,
    "start_time": "2023-02-11T20:05:30.928Z"
   },
   {
    "duration": 30,
    "start_time": "2023-02-11T20:05:30.965Z"
   },
   {
    "duration": 3,
    "start_time": "2023-02-11T20:05:30.997Z"
   },
   {
    "duration": 15,
    "start_time": "2023-02-11T20:05:31.003Z"
   },
   {
    "duration": 30,
    "start_time": "2023-02-11T20:05:31.020Z"
   },
   {
    "duration": 4,
    "start_time": "2023-02-11T20:13:03.138Z"
   },
   {
    "duration": 4,
    "start_time": "2023-02-11T20:13:12.153Z"
   },
   {
    "duration": 35,
    "start_time": "2023-02-11T20:13:14.663Z"
   },
   {
    "duration": 4,
    "start_time": "2023-02-11T20:14:09.483Z"
   },
   {
    "duration": 39,
    "start_time": "2023-02-11T20:14:10.083Z"
   },
   {
    "duration": 3,
    "start_time": "2023-02-11T20:14:30.715Z"
   },
   {
    "duration": 37,
    "start_time": "2023-02-11T20:14:34.660Z"
   },
   {
    "duration": 40,
    "start_time": "2023-02-11T20:14:43.528Z"
   },
   {
    "duration": 17,
    "start_time": "2023-02-11T20:16:01.968Z"
   },
   {
    "duration": 4,
    "start_time": "2023-02-11T20:17:29.905Z"
   },
   {
    "duration": 41,
    "start_time": "2023-02-11T20:17:30.723Z"
   },
   {
    "duration": 4,
    "start_time": "2023-02-11T20:17:41.419Z"
   },
   {
    "duration": 40,
    "start_time": "2023-02-11T20:17:42.258Z"
   },
   {
    "duration": 41,
    "start_time": "2023-02-11T20:17:48.193Z"
   },
   {
    "duration": 20,
    "start_time": "2023-02-11T20:17:51.016Z"
   },
   {
    "duration": 18,
    "start_time": "2023-02-11T20:17:56.339Z"
   },
   {
    "duration": 3,
    "start_time": "2023-02-11T20:18:16.637Z"
   },
   {
    "duration": 38,
    "start_time": "2023-02-11T20:18:17.223Z"
   },
   {
    "duration": 5,
    "start_time": "2023-02-11T20:19:10.997Z"
   },
   {
    "duration": 36,
    "start_time": "2023-02-11T20:19:11.748Z"
   },
   {
    "duration": 3,
    "start_time": "2023-02-11T20:19:28.345Z"
   },
   {
    "duration": 38,
    "start_time": "2023-02-11T20:19:29.859Z"
   },
   {
    "duration": 5,
    "start_time": "2023-02-11T20:19:42.716Z"
   },
   {
    "duration": 36,
    "start_time": "2023-02-11T20:19:43.239Z"
   },
   {
    "duration": 4,
    "start_time": "2023-02-11T20:20:19.595Z"
   },
   {
    "duration": 40,
    "start_time": "2023-02-11T20:20:20.394Z"
   },
   {
    "duration": 4,
    "start_time": "2023-02-11T20:20:43.284Z"
   },
   {
    "duration": 41,
    "start_time": "2023-02-11T20:20:43.892Z"
   },
   {
    "duration": 6,
    "start_time": "2023-02-11T20:21:33.358Z"
   },
   {
    "duration": 56,
    "start_time": "2023-02-11T20:21:33.923Z"
   },
   {
    "duration": 4,
    "start_time": "2023-02-11T20:22:31.232Z"
   },
   {
    "duration": 55,
    "start_time": "2023-02-11T20:22:31.906Z"
   },
   {
    "duration": 5,
    "start_time": "2023-02-11T20:22:45.946Z"
   },
   {
    "duration": 59,
    "start_time": "2023-02-11T20:22:46.543Z"
   },
   {
    "duration": 55,
    "start_time": "2023-02-11T20:22:50.790Z"
   },
   {
    "duration": 27,
    "start_time": "2023-02-11T20:22:53.164Z"
   },
   {
    "duration": 4,
    "start_time": "2023-02-11T20:37:40.456Z"
   },
   {
    "duration": 277,
    "start_time": "2023-02-11T20:37:41.165Z"
   },
   {
    "duration": 3,
    "start_time": "2023-02-11T20:38:07.704Z"
   },
   {
    "duration": 260,
    "start_time": "2023-02-11T20:38:10.437Z"
   },
   {
    "duration": 44,
    "start_time": "2023-02-11T21:06:23.261Z"
   },
   {
    "duration": 1099,
    "start_time": "2023-02-11T21:06:28.716Z"
   },
   {
    "duration": 1911,
    "start_time": "2023-02-11T21:06:29.817Z"
   },
   {
    "duration": 3,
    "start_time": "2023-02-11T21:06:31.730Z"
   },
   {
    "duration": 275,
    "start_time": "2023-02-11T21:06:31.735Z"
   },
   {
    "duration": 4,
    "start_time": "2023-02-11T21:06:32.012Z"
   },
   {
    "duration": 75,
    "start_time": "2023-02-11T21:06:32.018Z"
   },
   {
    "duration": 77,
    "start_time": "2023-02-11T21:06:32.095Z"
   },
   {
    "duration": 25,
    "start_time": "2023-02-11T21:06:32.174Z"
   },
   {
    "duration": 53,
    "start_time": "2023-02-11T21:06:32.200Z"
   },
   {
    "duration": 6,
    "start_time": "2023-02-11T21:06:32.255Z"
   },
   {
    "duration": 3,
    "start_time": "2023-02-11T21:06:32.263Z"
   },
   {
    "duration": 6,
    "start_time": "2023-02-11T21:06:32.267Z"
   },
   {
    "duration": 6,
    "start_time": "2023-02-11T21:06:32.275Z"
   },
   {
    "duration": 33,
    "start_time": "2023-02-11T21:11:30.290Z"
   },
   {
    "duration": 66,
    "start_time": "2023-02-11T21:12:08.723Z"
   },
   {
    "duration": 110,
    "start_time": "2023-02-11T21:12:42.692Z"
   },
   {
    "duration": 93,
    "start_time": "2023-02-11T21:12:56.195Z"
   },
   {
    "duration": 97,
    "start_time": "2023-02-11T21:13:20.360Z"
   },
   {
    "duration": 92,
    "start_time": "2023-02-11T21:13:42.866Z"
   },
   {
    "duration": 2,
    "start_time": "2023-02-11T21:21:44.579Z"
   },
   {
    "duration": 3,
    "start_time": "2023-02-11T21:22:39.880Z"
   },
   {
    "duration": 3,
    "start_time": "2023-02-11T21:22:51.478Z"
   },
   {
    "duration": 5,
    "start_time": "2023-02-11T21:23:51.560Z"
   },
   {
    "duration": 1062,
    "start_time": "2023-02-11T21:24:49.006Z"
   },
   {
    "duration": 654,
    "start_time": "2023-02-11T21:24:50.070Z"
   },
   {
    "duration": 2,
    "start_time": "2023-02-11T21:24:50.726Z"
   },
   {
    "duration": 248,
    "start_time": "2023-02-11T21:24:50.730Z"
   },
   {
    "duration": 3,
    "start_time": "2023-02-11T21:24:50.980Z"
   },
   {
    "duration": 76,
    "start_time": "2023-02-11T21:24:50.985Z"
   },
   {
    "duration": 49,
    "start_time": "2023-02-11T21:24:51.062Z"
   },
   {
    "duration": 46,
    "start_time": "2023-02-11T21:24:51.113Z"
   },
   {
    "duration": 23,
    "start_time": "2023-02-11T21:24:51.161Z"
   },
   {
    "duration": 136,
    "start_time": "2023-02-11T21:24:51.187Z"
   },
   {
    "duration": 2,
    "start_time": "2023-02-11T21:24:51.325Z"
   },
   {
    "duration": 11,
    "start_time": "2023-02-11T21:24:51.337Z"
   },
   {
    "duration": 11,
    "start_time": "2023-02-11T21:24:51.349Z"
   },
   {
    "duration": 3,
    "start_time": "2023-02-11T21:24:51.362Z"
   },
   {
    "duration": 5,
    "start_time": "2023-02-11T21:24:51.367Z"
   },
   {
    "duration": 6,
    "start_time": "2023-02-11T21:24:51.373Z"
   },
   {
    "duration": 4,
    "start_time": "2023-02-11T21:35:06.460Z"
   },
   {
    "duration": 4,
    "start_time": "2023-02-11T21:35:07.912Z"
   },
   {
    "duration": 4,
    "start_time": "2023-02-11T21:35:55.327Z"
   },
   {
    "duration": 1008,
    "start_time": "2023-02-11T21:36:02.851Z"
   },
   {
    "duration": 665,
    "start_time": "2023-02-11T21:36:03.861Z"
   },
   {
    "duration": 3,
    "start_time": "2023-02-11T21:36:04.527Z"
   },
   {
    "duration": 254,
    "start_time": "2023-02-11T21:36:04.532Z"
   },
   {
    "duration": 4,
    "start_time": "2023-02-11T21:36:04.788Z"
   },
   {
    "duration": 72,
    "start_time": "2023-02-11T21:36:04.794Z"
   },
   {
    "duration": 76,
    "start_time": "2023-02-11T21:36:04.868Z"
   },
   {
    "duration": 34,
    "start_time": "2023-02-11T21:36:04.947Z"
   },
   {
    "duration": 23,
    "start_time": "2023-02-11T21:36:04.983Z"
   },
   {
    "duration": 129,
    "start_time": "2023-02-11T21:36:05.008Z"
   },
   {
    "duration": 7,
    "start_time": "2023-02-11T21:36:05.139Z"
   },
   {
    "duration": 3,
    "start_time": "2023-02-11T21:36:05.148Z"
   },
   {
    "duration": 5,
    "start_time": "2023-02-11T21:36:05.152Z"
   },
   {
    "duration": 14,
    "start_time": "2023-02-11T21:36:05.160Z"
   },
   {
    "duration": 12,
    "start_time": "2023-02-11T21:36:05.176Z"
   },
   {
    "duration": 12,
    "start_time": "2023-02-11T21:36:05.189Z"
   },
   {
    "duration": 13,
    "start_time": "2023-02-11T21:55:21.668Z"
   },
   {
    "duration": 13,
    "start_time": "2023-02-11T21:58:04.396Z"
   },
   {
    "duration": 3,
    "start_time": "2023-02-11T21:58:50.339Z"
   },
   {
    "duration": 95,
    "start_time": "2023-02-11T22:01:42.120Z"
   },
   {
    "duration": 20,
    "start_time": "2023-02-11T22:02:35.775Z"
   },
   {
    "duration": 11,
    "start_time": "2023-02-11T22:02:45.547Z"
   },
   {
    "duration": 991,
    "start_time": "2023-02-11T22:02:53.578Z"
   },
   {
    "duration": 671,
    "start_time": "2023-02-11T22:02:54.571Z"
   },
   {
    "duration": 3,
    "start_time": "2023-02-11T22:02:55.244Z"
   },
   {
    "duration": 274,
    "start_time": "2023-02-11T22:02:55.248Z"
   },
   {
    "duration": 12,
    "start_time": "2023-02-11T22:02:55.525Z"
   },
   {
    "duration": 63,
    "start_time": "2023-02-11T22:02:55.539Z"
   },
   {
    "duration": 68,
    "start_time": "2023-02-11T22:02:55.604Z"
   },
   {
    "duration": 30,
    "start_time": "2023-02-11T22:02:55.674Z"
   },
   {
    "duration": 42,
    "start_time": "2023-02-11T22:02:55.707Z"
   },
   {
    "duration": 116,
    "start_time": "2023-02-11T22:02:55.751Z"
   },
   {
    "duration": 5,
    "start_time": "2023-02-11T22:02:55.869Z"
   },
   {
    "duration": 3,
    "start_time": "2023-02-11T22:02:55.876Z"
   },
   {
    "duration": 11,
    "start_time": "2023-02-11T22:02:55.881Z"
   },
   {
    "duration": 10,
    "start_time": "2023-02-11T22:02:55.894Z"
   },
   {
    "duration": 8,
    "start_time": "2023-02-11T22:02:55.905Z"
   },
   {
    "duration": 8,
    "start_time": "2023-02-11T22:02:55.914Z"
   },
   {
    "duration": 23,
    "start_time": "2023-02-11T22:02:55.924Z"
   },
   {
    "duration": 22,
    "start_time": "2023-02-11T22:02:55.949Z"
   },
   {
    "duration": 4,
    "start_time": "2023-02-11T22:03:41.590Z"
   },
   {
    "duration": 444,
    "start_time": "2023-02-11T22:14:12.720Z"
   },
   {
    "duration": 108,
    "start_time": "2023-02-11T22:15:53.147Z"
   },
   {
    "duration": 338,
    "start_time": "2023-02-11T22:16:16.431Z"
   },
   {
    "duration": 73,
    "start_time": "2023-02-11T22:16:59.550Z"
   },
   {
    "duration": 410,
    "start_time": "2023-02-11T22:17:04.159Z"
   },
   {
    "duration": 450,
    "start_time": "2023-02-11T22:17:43.399Z"
   },
   {
    "duration": 644,
    "start_time": "2023-02-11T22:18:01.077Z"
   },
   {
    "duration": 744,
    "start_time": "2023-02-11T22:20:27.721Z"
   },
   {
    "duration": 846,
    "start_time": "2023-02-11T22:20:54.968Z"
   },
   {
    "duration": 945,
    "start_time": "2023-02-11T22:22:19.788Z"
   },
   {
    "duration": 916,
    "start_time": "2023-02-11T22:22:31.599Z"
   },
   {
    "duration": 975,
    "start_time": "2023-02-11T22:22:53.753Z"
   },
   {
    "duration": 1025,
    "start_time": "2023-02-11T22:23:02.076Z"
   },
   {
    "duration": 1018,
    "start_time": "2023-02-11T22:23:12.881Z"
   },
   {
    "duration": 980,
    "start_time": "2023-02-11T22:23:44.368Z"
   },
   {
    "duration": 564,
    "start_time": "2023-02-11T22:23:59.595Z"
   },
   {
    "duration": 637,
    "start_time": "2023-02-11T22:24:08.175Z"
   },
   {
    "duration": 1369,
    "start_time": "2023-02-11T22:24:16.113Z"
   },
   {
    "duration": 659,
    "start_time": "2023-02-11T22:24:17.484Z"
   },
   {
    "duration": 3,
    "start_time": "2023-02-11T22:24:18.144Z"
   },
   {
    "duration": 281,
    "start_time": "2023-02-11T22:24:18.149Z"
   },
   {
    "duration": 4,
    "start_time": "2023-02-11T22:24:18.437Z"
   },
   {
    "duration": 79,
    "start_time": "2023-02-11T22:24:18.444Z"
   },
   {
    "duration": 68,
    "start_time": "2023-02-11T22:24:18.525Z"
   },
   {
    "duration": 52,
    "start_time": "2023-02-11T22:24:18.595Z"
   },
   {
    "duration": 24,
    "start_time": "2023-02-11T22:24:18.649Z"
   },
   {
    "duration": 123,
    "start_time": "2023-02-11T22:24:18.674Z"
   },
   {
    "duration": 6,
    "start_time": "2023-02-11T22:24:18.799Z"
   },
   {
    "duration": 3,
    "start_time": "2023-02-11T22:24:18.807Z"
   },
   {
    "duration": 26,
    "start_time": "2023-02-11T22:24:18.811Z"
   },
   {
    "duration": 7,
    "start_time": "2023-02-11T22:24:18.841Z"
   },
   {
    "duration": 6,
    "start_time": "2023-02-11T22:24:18.849Z"
   },
   {
    "duration": 7,
    "start_time": "2023-02-11T22:24:18.856Z"
   },
   {
    "duration": 20,
    "start_time": "2023-02-11T22:24:18.865Z"
   },
   {
    "duration": 21,
    "start_time": "2023-02-11T22:24:18.887Z"
   },
   {
    "duration": 30,
    "start_time": "2023-02-11T22:24:18.909Z"
   },
   {
    "duration": 547,
    "start_time": "2023-02-11T22:24:18.941Z"
   },
   {
    "duration": 616,
    "start_time": "2023-02-11T22:25:10.521Z"
   },
   {
    "duration": 479,
    "start_time": "2023-02-11T22:25:50.127Z"
   },
   {
    "duration": 528,
    "start_time": "2023-02-11T22:48:11.828Z"
   },
   {
    "duration": 443,
    "start_time": "2023-02-11T22:48:40.748Z"
   },
   {
    "duration": 571,
    "start_time": "2023-02-11T22:48:46.087Z"
   },
   {
    "duration": 643,
    "start_time": "2023-02-11T22:56:36.155Z"
   },
   {
    "duration": 764,
    "start_time": "2023-02-11T22:56:47.745Z"
   },
   {
    "duration": 680,
    "start_time": "2023-02-11T22:56:56.192Z"
   },
   {
    "duration": 807,
    "start_time": "2023-02-11T22:57:14.518Z"
   },
   {
    "duration": 673,
    "start_time": "2023-02-11T22:57:57.575Z"
   },
   {
    "duration": 882,
    "start_time": "2023-02-11T22:58:07.683Z"
   },
   {
    "duration": 385,
    "start_time": "2023-02-11T22:58:40.672Z"
   },
   {
    "duration": 79,
    "start_time": "2023-02-11T23:01:05.992Z"
   },
   {
    "duration": 73,
    "start_time": "2023-02-11T23:01:10.937Z"
   },
   {
    "duration": 748,
    "start_time": "2023-02-11T23:01:18.460Z"
   },
   {
    "duration": 612,
    "start_time": "2023-02-11T23:01:23.075Z"
   },
   {
    "duration": 761,
    "start_time": "2023-02-11T23:03:39.176Z"
   },
   {
    "duration": 607,
    "start_time": "2023-02-11T23:04:04.353Z"
   },
   {
    "duration": 744,
    "start_time": "2023-02-11T23:05:04.312Z"
   },
   {
    "duration": 101,
    "start_time": "2023-02-11T23:06:48.884Z"
   },
   {
    "duration": 17,
    "start_time": "2023-02-11T23:07:17.184Z"
   },
   {
    "duration": 710,
    "start_time": "2023-02-11T23:07:41.251Z"
   },
   {
    "duration": 1345,
    "start_time": "2023-02-11T23:07:49.512Z"
   },
   {
    "duration": 701,
    "start_time": "2023-02-11T23:07:50.859Z"
   },
   {
    "duration": 4,
    "start_time": "2023-02-11T23:07:51.561Z"
   },
   {
    "duration": 263,
    "start_time": "2023-02-11T23:07:51.567Z"
   },
   {
    "duration": 5,
    "start_time": "2023-02-11T23:07:51.836Z"
   },
   {
    "duration": 58,
    "start_time": "2023-02-11T23:07:51.842Z"
   },
   {
    "duration": 69,
    "start_time": "2023-02-11T23:07:51.902Z"
   },
   {
    "duration": 29,
    "start_time": "2023-02-11T23:07:51.972Z"
   },
   {
    "duration": 48,
    "start_time": "2023-02-11T23:07:52.003Z"
   },
   {
    "duration": 127,
    "start_time": "2023-02-11T23:07:52.053Z"
   },
   {
    "duration": 7,
    "start_time": "2023-02-11T23:07:52.182Z"
   },
   {
    "duration": 6,
    "start_time": "2023-02-11T23:07:52.190Z"
   },
   {
    "duration": 6,
    "start_time": "2023-02-11T23:07:52.198Z"
   },
   {
    "duration": 6,
    "start_time": "2023-02-11T23:07:52.207Z"
   },
   {
    "duration": 6,
    "start_time": "2023-02-11T23:07:52.215Z"
   },
   {
    "duration": 4,
    "start_time": "2023-02-11T23:07:52.238Z"
   },
   {
    "duration": 18,
    "start_time": "2023-02-11T23:07:52.244Z"
   },
   {
    "duration": 22,
    "start_time": "2023-02-11T23:07:52.264Z"
   },
   {
    "duration": 4,
    "start_time": "2023-02-11T23:07:52.288Z"
   },
   {
    "duration": 644,
    "start_time": "2023-02-11T23:07:52.293Z"
   },
   {
    "duration": 613,
    "start_time": "2023-02-11T23:07:52.938Z"
   },
   {
    "duration": 556,
    "start_time": "2023-02-11T23:07:53.553Z"
   },
   {
    "duration": 723,
    "start_time": "2023-02-11T23:07:54.110Z"
   },
   {
    "duration": 745,
    "start_time": "2023-02-11T23:08:58.377Z"
   },
   {
    "duration": 1451,
    "start_time": "2023-02-11T23:12:08.139Z"
   },
   {
    "duration": 769,
    "start_time": "2023-02-11T23:12:09.593Z"
   },
   {
    "duration": 4,
    "start_time": "2023-02-11T23:12:10.364Z"
   },
   {
    "duration": 314,
    "start_time": "2023-02-11T23:12:10.374Z"
   },
   {
    "duration": 6,
    "start_time": "2023-02-11T23:12:10.691Z"
   },
   {
    "duration": 81,
    "start_time": "2023-02-11T23:12:10.699Z"
   },
   {
    "duration": 96,
    "start_time": "2023-02-11T23:12:10.782Z"
   },
   {
    "duration": 33,
    "start_time": "2023-02-11T23:12:10.879Z"
   },
   {
    "duration": 45,
    "start_time": "2023-02-11T23:12:10.914Z"
   },
   {
    "duration": 153,
    "start_time": "2023-02-11T23:12:10.962Z"
   },
   {
    "duration": 20,
    "start_time": "2023-02-11T23:12:11.117Z"
   },
   {
    "duration": 9,
    "start_time": "2023-02-11T23:12:11.140Z"
   },
   {
    "duration": 8,
    "start_time": "2023-02-11T23:12:11.151Z"
   },
   {
    "duration": 9,
    "start_time": "2023-02-11T23:12:11.161Z"
   },
   {
    "duration": 9,
    "start_time": "2023-02-11T23:12:11.172Z"
   },
   {
    "duration": 9,
    "start_time": "2023-02-11T23:12:11.182Z"
   },
   {
    "duration": 52,
    "start_time": "2023-02-11T23:12:11.193Z"
   },
   {
    "duration": 31,
    "start_time": "2023-02-11T23:12:11.247Z"
   },
   {
    "duration": 4,
    "start_time": "2023-02-11T23:12:11.280Z"
   },
   {
    "duration": 555,
    "start_time": "2023-02-11T23:12:11.286Z"
   },
   {
    "duration": 604,
    "start_time": "2023-02-11T23:12:11.844Z"
   },
   {
    "duration": 542,
    "start_time": "2023-02-11T23:12:12.450Z"
   },
   {
    "duration": 688,
    "start_time": "2023-02-11T23:12:12.993Z"
   },
   {
    "duration": 28460,
    "start_time": "2023-02-11T23:12:13.683Z"
   },
   {
    "duration": 2660,
    "start_time": "2023-02-11T23:13:26.232Z"
   },
   {
    "duration": 381,
    "start_time": "2023-02-11T23:13:44.767Z"
   },
   {
    "duration": 7,
    "start_time": "2023-02-11T23:27:40.525Z"
   },
   {
    "duration": 6,
    "start_time": "2023-02-11T23:28:50.592Z"
   },
   {
    "duration": 471,
    "start_time": "2023-02-11T23:30:55.845Z"
   },
   {
    "duration": 595,
    "start_time": "2023-02-11T23:31:04.799Z"
   },
   {
    "duration": 727,
    "start_time": "2023-02-11T23:31:33.051Z"
   },
   {
    "duration": 542,
    "start_time": "2023-02-11T23:31:41.752Z"
   },
   {
    "duration": 574,
    "start_time": "2023-02-11T23:31:49.197Z"
   },
   {
    "duration": 582,
    "start_time": "2023-02-11T23:32:45.813Z"
   },
   {
    "duration": 718,
    "start_time": "2023-02-11T23:33:30.521Z"
   },
   {
    "duration": 422,
    "start_time": "2023-02-11T23:34:03.092Z"
   },
   {
    "duration": 63,
    "start_time": "2023-02-12T13:16:31.095Z"
   },
   {
    "duration": 1505,
    "start_time": "2023-02-12T13:16:37.761Z"
   },
   {
    "duration": 4055,
    "start_time": "2023-02-12T13:16:39.268Z"
   },
   {
    "duration": 4,
    "start_time": "2023-02-12T13:16:43.326Z"
   },
   {
    "duration": 372,
    "start_time": "2023-02-12T13:16:43.332Z"
   },
   {
    "duration": 4,
    "start_time": "2023-02-12T13:16:43.707Z"
   },
   {
    "duration": 76,
    "start_time": "2023-02-12T13:16:43.713Z"
   },
   {
    "duration": 74,
    "start_time": "2023-02-12T13:16:43.790Z"
   },
   {
    "duration": 31,
    "start_time": "2023-02-12T13:16:43.866Z"
   },
   {
    "duration": 24,
    "start_time": "2023-02-12T13:16:43.899Z"
   },
   {
    "duration": 147,
    "start_time": "2023-02-12T13:16:43.924Z"
   },
   {
    "duration": 7,
    "start_time": "2023-02-12T13:16:44.073Z"
   },
   {
    "duration": 4,
    "start_time": "2023-02-12T13:16:44.081Z"
   },
   {
    "duration": 6,
    "start_time": "2023-02-12T13:16:44.086Z"
   },
   {
    "duration": 6,
    "start_time": "2023-02-12T13:16:44.096Z"
   },
   {
    "duration": 10,
    "start_time": "2023-02-12T13:16:44.104Z"
   },
   {
    "duration": 32,
    "start_time": "2023-02-12T13:16:44.116Z"
   },
   {
    "duration": 40,
    "start_time": "2023-02-12T13:16:44.150Z"
   },
   {
    "duration": 21,
    "start_time": "2023-02-12T13:16:44.193Z"
   },
   {
    "duration": 7,
    "start_time": "2023-02-12T13:16:44.216Z"
   },
   {
    "duration": 637,
    "start_time": "2023-02-12T13:16:44.224Z"
   },
   {
    "duration": 644,
    "start_time": "2023-02-12T13:16:44.866Z"
   },
   {
    "duration": 529,
    "start_time": "2023-02-12T13:16:45.512Z"
   },
   {
    "duration": 528,
    "start_time": "2023-02-12T13:16:46.042Z"
   },
   {
    "duration": 559,
    "start_time": "2023-02-12T13:16:46.572Z"
   },
   {
    "duration": 12,
    "start_time": "2023-02-12T13:16:47.132Z"
   },
   {
    "duration": 841,
    "start_time": "2023-02-12T13:16:47.148Z"
   },
   {
    "duration": 699,
    "start_time": "2023-02-12T13:19:25.008Z"
   },
   {
    "duration": 417,
    "start_time": "2023-02-12T13:28:23.000Z"
   },
   {
    "duration": 485,
    "start_time": "2023-02-12T13:28:31.244Z"
   },
   {
    "duration": 49,
    "start_time": "2023-02-12T13:30:31.952Z"
   },
   {
    "duration": 29,
    "start_time": "2023-02-12T13:32:46.945Z"
   },
   {
    "duration": 27,
    "start_time": "2023-02-12T13:33:03.290Z"
   },
   {
    "duration": 4,
    "start_time": "2023-02-12T13:33:28.875Z"
   },
   {
    "duration": 16,
    "start_time": "2023-02-12T13:34:20.514Z"
   },
   {
    "duration": 1417,
    "start_time": "2023-02-12T13:34:26.790Z"
   },
   {
    "duration": 711,
    "start_time": "2023-02-12T13:34:28.210Z"
   },
   {
    "duration": 4,
    "start_time": "2023-02-12T13:34:28.922Z"
   },
   {
    "duration": 299,
    "start_time": "2023-02-12T13:34:28.928Z"
   },
   {
    "duration": 9,
    "start_time": "2023-02-12T13:34:29.229Z"
   },
   {
    "duration": 151,
    "start_time": "2023-02-12T13:34:29.241Z"
   },
   {
    "duration": 84,
    "start_time": "2023-02-12T13:34:29.393Z"
   },
   {
    "duration": 31,
    "start_time": "2023-02-12T13:34:29.478Z"
   },
   {
    "duration": 55,
    "start_time": "2023-02-12T13:34:29.511Z"
   },
   {
    "duration": 144,
    "start_time": "2023-02-12T13:34:29.570Z"
   },
   {
    "duration": 22,
    "start_time": "2023-02-12T13:34:29.716Z"
   },
   {
    "duration": 4,
    "start_time": "2023-02-12T13:34:29.740Z"
   },
   {
    "duration": 19,
    "start_time": "2023-02-12T13:34:29.746Z"
   },
   {
    "duration": 16,
    "start_time": "2023-02-12T13:34:29.767Z"
   },
   {
    "duration": 14,
    "start_time": "2023-02-12T13:34:29.785Z"
   },
   {
    "duration": 22,
    "start_time": "2023-02-12T13:34:29.801Z"
   },
   {
    "duration": 21,
    "start_time": "2023-02-12T13:34:29.825Z"
   },
   {
    "duration": 24,
    "start_time": "2023-02-12T13:34:29.849Z"
   },
   {
    "duration": 4,
    "start_time": "2023-02-12T13:34:29.875Z"
   },
   {
    "duration": 599,
    "start_time": "2023-02-12T13:34:29.881Z"
   },
   {
    "duration": 764,
    "start_time": "2023-02-12T13:34:30.481Z"
   },
   {
    "duration": 597,
    "start_time": "2023-02-12T13:34:31.248Z"
   },
   {
    "duration": 517,
    "start_time": "2023-02-12T13:34:31.847Z"
   },
   {
    "duration": 606,
    "start_time": "2023-02-12T13:34:32.366Z"
   },
   {
    "duration": 8,
    "start_time": "2023-02-12T13:34:32.974Z"
   },
   {
    "duration": 842,
    "start_time": "2023-02-12T13:34:32.983Z"
   },
   {
    "duration": 27,
    "start_time": "2023-02-12T13:34:33.827Z"
   },
   {
    "duration": 922,
    "start_time": "2023-02-12T13:40:37.877Z"
   },
   {
    "duration": 5,
    "start_time": "2023-02-12T13:42:13.861Z"
   },
   {
    "duration": 3,
    "start_time": "2023-02-12T13:45:49.652Z"
   },
   {
    "duration": 3,
    "start_time": "2023-02-12T13:47:00.012Z"
   },
   {
    "duration": 4,
    "start_time": "2023-02-12T13:48:54.679Z"
   },
   {
    "duration": 3,
    "start_time": "2023-02-12T13:48:57.063Z"
   },
   {
    "duration": 1387,
    "start_time": "2023-02-12T13:52:04.592Z"
   },
   {
    "duration": 740,
    "start_time": "2023-02-12T13:52:05.982Z"
   },
   {
    "duration": 3,
    "start_time": "2023-02-12T13:52:06.724Z"
   },
   {
    "duration": 321,
    "start_time": "2023-02-12T13:52:06.728Z"
   },
   {
    "duration": 5,
    "start_time": "2023-02-12T13:52:07.052Z"
   },
   {
    "duration": 115,
    "start_time": "2023-02-12T13:52:07.059Z"
   },
   {
    "duration": 79,
    "start_time": "2023-02-12T13:52:07.176Z"
   },
   {
    "duration": 31,
    "start_time": "2023-02-12T13:52:07.257Z"
   },
   {
    "duration": 48,
    "start_time": "2023-02-12T13:52:07.290Z"
   },
   {
    "duration": 138,
    "start_time": "2023-02-12T13:52:07.340Z"
   },
   {
    "duration": 7,
    "start_time": "2023-02-12T13:52:07.480Z"
   },
   {
    "duration": 5,
    "start_time": "2023-02-12T13:52:07.488Z"
   },
   {
    "duration": 14,
    "start_time": "2023-02-12T13:52:07.495Z"
   },
   {
    "duration": 12,
    "start_time": "2023-02-12T13:52:07.511Z"
   },
   {
    "duration": 18,
    "start_time": "2023-02-12T13:52:07.525Z"
   },
   {
    "duration": 7,
    "start_time": "2023-02-12T13:52:07.545Z"
   },
   {
    "duration": 19,
    "start_time": "2023-02-12T13:52:07.554Z"
   },
   {
    "duration": 22,
    "start_time": "2023-02-12T13:52:07.575Z"
   },
   {
    "duration": 4,
    "start_time": "2023-02-12T13:52:07.599Z"
   },
   {
    "duration": 617,
    "start_time": "2023-02-12T13:52:07.605Z"
   },
   {
    "duration": 603,
    "start_time": "2023-02-12T13:52:08.224Z"
   },
   {
    "duration": 530,
    "start_time": "2023-02-12T13:52:08.829Z"
   },
   {
    "duration": 501,
    "start_time": "2023-02-12T13:52:09.361Z"
   },
   {
    "duration": 515,
    "start_time": "2023-02-12T13:52:09.864Z"
   },
   {
    "duration": 7,
    "start_time": "2023-02-12T13:52:10.381Z"
   },
   {
    "duration": 836,
    "start_time": "2023-02-12T13:52:10.389Z"
   },
   {
    "duration": 29,
    "start_time": "2023-02-12T13:52:11.227Z"
   },
   {
    "duration": 3,
    "start_time": "2023-02-12T13:52:11.258Z"
   },
   {
    "duration": 8,
    "start_time": "2023-02-12T13:52:11.263Z"
   },
   {
    "duration": 3,
    "start_time": "2023-02-12T14:01:24.491Z"
   },
   {
    "duration": 5,
    "start_time": "2023-02-12T14:02:04.168Z"
   },
   {
    "duration": 5,
    "start_time": "2023-02-12T14:04:40.635Z"
   },
   {
    "duration": 7,
    "start_time": "2023-02-12T14:05:12.211Z"
   },
   {
    "duration": 7,
    "start_time": "2023-02-12T14:06:56.584Z"
   },
   {
    "duration": 9,
    "start_time": "2023-02-12T14:09:54.150Z"
   },
   {
    "duration": 4,
    "start_time": "2023-02-12T14:18:41.319Z"
   },
   {
    "duration": 51,
    "start_time": "2023-02-12T14:20:56.903Z"
   },
   {
    "duration": 3,
    "start_time": "2023-02-12T14:21:13.788Z"
   },
   {
    "duration": 2058,
    "start_time": "2023-02-12T14:23:50.996Z"
   },
   {
    "duration": 2568,
    "start_time": "2023-02-12T14:24:55.379Z"
   },
   {
    "duration": 2880,
    "start_time": "2023-02-12T14:25:37.168Z"
   },
   {
    "duration": 14,
    "start_time": "2023-02-12T14:34:03.093Z"
   },
   {
    "duration": 5,
    "start_time": "2023-02-12T14:34:28.589Z"
   },
   {
    "duration": 720,
    "start_time": "2023-02-12T14:34:33.601Z"
   },
   {
    "duration": 718,
    "start_time": "2023-02-12T14:34:53.838Z"
   },
   {
    "duration": 25760,
    "start_time": "2023-02-12T14:34:59.188Z"
   },
   {
    "duration": 816,
    "start_time": "2023-02-12T14:35:32.533Z"
   },
   {
    "duration": 745,
    "start_time": "2023-02-12T14:36:09.654Z"
   },
   {
    "duration": 26976,
    "start_time": "2023-02-12T14:36:25.969Z"
   },
   {
    "duration": 26802,
    "start_time": "2023-02-12T14:37:04.370Z"
   },
   {
    "duration": 64,
    "start_time": "2023-02-12T14:38:40.521Z"
   },
   {
    "duration": 6971,
    "start_time": "2023-02-12T14:38:48.995Z"
   },
   {
    "duration": 848127,
    "start_time": "2023-02-12T14:45:38.964Z"
   },
   {
    "duration": 4,
    "start_time": "2023-02-12T15:20:12.400Z"
   },
   {
    "duration": 568,
    "start_time": "2023-02-12T15:26:06.135Z"
   },
   {
    "duration": 1069,
    "start_time": "2023-02-12T15:26:17.624Z"
   },
   {
    "duration": 13,
    "start_time": "2023-02-12T15:29:22.416Z"
   },
   {
    "duration": 4,
    "start_time": "2023-02-12T15:30:20.202Z"
   },
   {
    "duration": 8,
    "start_time": "2023-02-12T15:30:35.785Z"
   },
   {
    "duration": 4,
    "start_time": "2023-02-12T15:33:15.992Z"
   },
   {
    "duration": 18,
    "start_time": "2023-02-12T15:40:10.415Z"
   },
   {
    "duration": 13,
    "start_time": "2023-02-12T15:40:23.215Z"
   },
   {
    "duration": 10,
    "start_time": "2023-02-12T15:41:31.081Z"
   },
   {
    "duration": 1550,
    "start_time": "2023-02-12T15:50:24.017Z"
   },
   {
    "duration": 774,
    "start_time": "2023-02-12T15:50:25.569Z"
   },
   {
    "duration": 4,
    "start_time": "2023-02-12T15:50:26.345Z"
   },
   {
    "duration": 318,
    "start_time": "2023-02-12T15:50:26.350Z"
   },
   {
    "duration": 5,
    "start_time": "2023-02-12T15:50:26.670Z"
   },
   {
    "duration": 97,
    "start_time": "2023-02-12T15:50:26.676Z"
   },
   {
    "duration": 87,
    "start_time": "2023-02-12T15:50:26.775Z"
   },
   {
    "duration": 37,
    "start_time": "2023-02-12T15:50:26.864Z"
   },
   {
    "duration": 66,
    "start_time": "2023-02-12T15:50:26.904Z"
   },
   {
    "duration": 133,
    "start_time": "2023-02-12T15:50:26.972Z"
   },
   {
    "duration": 7,
    "start_time": "2023-02-12T15:50:27.107Z"
   },
   {
    "duration": 22,
    "start_time": "2023-02-12T15:50:27.116Z"
   },
   {
    "duration": 14,
    "start_time": "2023-02-12T15:50:27.140Z"
   },
   {
    "duration": 10,
    "start_time": "2023-02-12T15:50:27.157Z"
   },
   {
    "duration": 8,
    "start_time": "2023-02-12T15:50:27.169Z"
   },
   {
    "duration": 10,
    "start_time": "2023-02-12T15:50:27.179Z"
   },
   {
    "duration": 17,
    "start_time": "2023-02-12T15:50:27.191Z"
   },
   {
    "duration": 45,
    "start_time": "2023-02-12T15:50:27.210Z"
   },
   {
    "duration": 6,
    "start_time": "2023-02-12T15:50:27.257Z"
   },
   {
    "duration": 714,
    "start_time": "2023-02-12T15:50:27.265Z"
   },
   {
    "duration": 609,
    "start_time": "2023-02-12T15:50:27.982Z"
   },
   {
    "duration": 592,
    "start_time": "2023-02-12T15:50:28.593Z"
   },
   {
    "duration": 651,
    "start_time": "2023-02-12T15:50:29.188Z"
   },
   {
    "duration": 744,
    "start_time": "2023-02-12T15:50:29.841Z"
   },
   {
    "duration": 8,
    "start_time": "2023-02-12T15:50:30.587Z"
   },
   {
    "duration": 764,
    "start_time": "2023-02-12T15:50:30.597Z"
   },
   {
    "duration": 24,
    "start_time": "2023-02-12T15:50:31.363Z"
   },
   {
    "duration": 14,
    "start_time": "2023-02-12T15:50:31.390Z"
   },
   {
    "duration": 37,
    "start_time": "2023-02-12T15:50:31.406Z"
   },
   {
    "duration": 37,
    "start_time": "2023-02-12T15:50:31.445Z"
   },
   {
    "duration": 56,
    "start_time": "2023-02-12T15:50:31.484Z"
   },
   {
    "duration": 42,
    "start_time": "2023-02-12T15:50:31.542Z"
   },
   {
    "duration": 29,
    "start_time": "2023-02-12T15:50:31.587Z"
   },
   {
    "duration": 4024,
    "start_time": "2023-02-12T15:50:31.619Z"
   },
   {
    "duration": 26434,
    "start_time": "2023-02-12T15:50:35.645Z"
   },
   {
    "duration": 3118187,
    "start_time": "2023-02-12T15:51:02.081Z"
   },
   {
    "duration": 3,
    "start_time": "2023-02-12T16:43:00.269Z"
   },
   {
    "duration": 1102,
    "start_time": "2023-02-12T16:43:00.274Z"
   },
   {
    "duration": 8,
    "start_time": "2023-02-12T16:43:01.378Z"
   },
   {
    "duration": 58,
    "start_time": "2023-02-12T16:43:01.388Z"
   },
   {
    "duration": 4,
    "start_time": "2023-02-12T16:44:28.930Z"
   },
   {
    "duration": 2265,
    "start_time": "2023-02-13T08:47:26.968Z"
   },
   {
    "duration": 681,
    "start_time": "2023-02-13T08:47:29.235Z"
   },
   {
    "duration": 3,
    "start_time": "2023-02-13T08:47:29.918Z"
   },
   {
    "duration": 292,
    "start_time": "2023-02-13T08:47:29.923Z"
   },
   {
    "duration": 4,
    "start_time": "2023-02-13T08:47:30.217Z"
   },
   {
    "duration": 93,
    "start_time": "2023-02-13T08:47:30.223Z"
   },
   {
    "duration": 56,
    "start_time": "2023-02-13T08:47:30.318Z"
   },
   {
    "duration": 29,
    "start_time": "2023-02-13T08:47:30.392Z"
   },
   {
    "duration": 31,
    "start_time": "2023-02-13T08:47:30.423Z"
   },
   {
    "duration": 135,
    "start_time": "2023-02-13T08:47:30.457Z"
   },
   {
    "duration": 7,
    "start_time": "2023-02-13T08:47:30.593Z"
   },
   {
    "duration": 47,
    "start_time": "2023-02-13T08:47:30.602Z"
   },
   {
    "duration": 46,
    "start_time": "2023-02-13T08:47:30.651Z"
   },
   {
    "duration": 38,
    "start_time": "2023-02-13T08:47:30.699Z"
   },
   {
    "duration": 27,
    "start_time": "2023-02-13T08:47:30.739Z"
   },
   {
    "duration": 37,
    "start_time": "2023-02-13T08:47:30.768Z"
   },
   {
    "duration": 57,
    "start_time": "2023-02-13T08:47:30.807Z"
   },
   {
    "duration": 36,
    "start_time": "2023-02-13T08:47:30.866Z"
   },
   {
    "duration": 6,
    "start_time": "2023-02-13T08:47:30.905Z"
   },
   {
    "duration": 641,
    "start_time": "2023-02-13T08:47:30.912Z"
   },
   {
    "duration": 535,
    "start_time": "2023-02-13T08:47:31.555Z"
   },
   {
    "duration": 514,
    "start_time": "2023-02-13T08:47:32.092Z"
   },
   {
    "duration": 483,
    "start_time": "2023-02-13T08:47:32.608Z"
   },
   {
    "duration": 627,
    "start_time": "2023-02-13T08:47:33.093Z"
   },
   {
    "duration": 9,
    "start_time": "2023-02-13T08:47:33.722Z"
   },
   {
    "duration": 708,
    "start_time": "2023-02-13T08:47:33.733Z"
   },
   {
    "duration": 22,
    "start_time": "2023-02-13T08:47:34.442Z"
   },
   {
    "duration": 3,
    "start_time": "2023-02-13T08:47:34.467Z"
   },
   {
    "duration": 8,
    "start_time": "2023-02-13T08:47:34.472Z"
   },
   {
    "duration": 13,
    "start_time": "2023-02-13T08:47:34.481Z"
   },
   {
    "duration": 9,
    "start_time": "2023-02-13T08:47:34.496Z"
   },
   {
    "duration": 9,
    "start_time": "2023-02-13T08:47:34.506Z"
   },
   {
    "duration": 12,
    "start_time": "2023-02-13T08:47:34.516Z"
   },
   {
    "duration": 24,
    "start_time": "2023-02-13T08:47:34.529Z"
   },
   {
    "duration": 4,
    "start_time": "2023-02-15T04:18:17.338Z"
   },
   {
    "duration": 6,
    "start_time": "2023-02-15T04:18:49.536Z"
   },
   {
    "duration": 75,
    "start_time": "2023-02-15T04:18:52.061Z"
   },
   {
    "duration": 1677,
    "start_time": "2023-02-15T04:18:59.524Z"
   },
   {
    "duration": 2334,
    "start_time": "2023-02-15T04:19:01.204Z"
   },
   {
    "duration": 5,
    "start_time": "2023-02-15T04:19:03.541Z"
   },
   {
    "duration": 311,
    "start_time": "2023-02-15T04:19:03.547Z"
   },
   {
    "duration": 4,
    "start_time": "2023-02-15T04:19:03.861Z"
   },
   {
    "duration": 72,
    "start_time": "2023-02-15T04:19:03.867Z"
   },
   {
    "duration": 57,
    "start_time": "2023-02-15T04:19:03.941Z"
   },
   {
    "duration": 33,
    "start_time": "2023-02-15T04:19:04.010Z"
   },
   {
    "duration": 35,
    "start_time": "2023-02-15T04:19:04.045Z"
   },
   {
    "duration": 107,
    "start_time": "2023-02-15T04:19:04.081Z"
   },
   {
    "duration": 6,
    "start_time": "2023-02-15T04:19:04.190Z"
   },
   {
    "duration": 3,
    "start_time": "2023-02-15T04:19:04.198Z"
   },
   {
    "duration": 7,
    "start_time": "2023-02-15T04:19:04.203Z"
   },
   {
    "duration": 17,
    "start_time": "2023-02-15T04:19:04.214Z"
   },
   {
    "duration": 19,
    "start_time": "2023-02-15T04:19:04.233Z"
   },
   {
    "duration": 5,
    "start_time": "2023-02-15T04:19:04.254Z"
   },
   {
    "duration": 21,
    "start_time": "2023-02-15T04:19:04.261Z"
   },
   {
    "duration": 19,
    "start_time": "2023-02-15T04:19:04.284Z"
   },
   {
    "duration": 21,
    "start_time": "2023-02-15T04:19:04.306Z"
   },
   {
    "duration": 619,
    "start_time": "2023-02-15T04:19:04.328Z"
   },
   {
    "duration": 566,
    "start_time": "2023-02-15T04:19:04.949Z"
   },
   {
    "duration": 498,
    "start_time": "2023-02-15T04:19:05.531Z"
   },
   {
    "duration": 5,
    "start_time": "2023-02-15T04:19:06.031Z"
   },
   {
    "duration": 16,
    "start_time": "2023-02-15T04:19:06.039Z"
   },
   {
    "duration": 503,
    "start_time": "2023-02-15T04:19:06.057Z"
   },
   {
    "duration": 644,
    "start_time": "2023-02-15T04:19:06.562Z"
   },
   {
    "duration": 14,
    "start_time": "2023-02-15T04:19:07.208Z"
   },
   {
    "duration": 725,
    "start_time": "2023-02-15T04:19:07.235Z"
   },
   {
    "duration": 22,
    "start_time": "2023-02-15T04:19:07.961Z"
   },
   {
    "duration": 4,
    "start_time": "2023-02-15T04:19:07.984Z"
   },
   {
    "duration": 25,
    "start_time": "2023-02-15T04:19:07.989Z"
   },
   {
    "duration": 14,
    "start_time": "2023-02-15T04:19:08.015Z"
   },
   {
    "duration": 20,
    "start_time": "2023-02-15T04:19:08.031Z"
   },
   {
    "duration": 10,
    "start_time": "2023-02-15T04:19:08.053Z"
   },
   {
    "duration": 10,
    "start_time": "2023-02-15T04:19:08.065Z"
   },
   {
    "duration": 8359,
    "start_time": "2023-02-15T04:19:08.078Z"
   },
   {
    "duration": 29487,
    "start_time": "2023-02-15T04:19:16.448Z"
   },
   {
    "duration": 5,
    "start_time": "2023-02-15T04:19:45.944Z"
   },
   {
    "duration": 10,
    "start_time": "2023-02-15T04:19:45.951Z"
   },
   {
    "duration": 1263,
    "start_time": "2023-02-15T04:19:45.963Z"
   },
   {
    "duration": 14,
    "start_time": "2023-02-15T04:19:47.230Z"
   },
   {
    "duration": 12,
    "start_time": "2023-02-15T04:19:47.246Z"
   },
   {
    "duration": 3,
    "start_time": "2023-02-15T04:26:04.532Z"
   },
   {
    "duration": 5041,
    "start_time": "2023-02-15T04:40:04.547Z"
   },
   {
    "duration": 1429,
    "start_time": "2023-02-15T04:40:23.232Z"
   },
   {
    "duration": 722,
    "start_time": "2023-02-15T04:40:24.663Z"
   },
   {
    "duration": 3,
    "start_time": "2023-02-15T04:40:25.387Z"
   },
   {
    "duration": 303,
    "start_time": "2023-02-15T04:40:25.392Z"
   },
   {
    "duration": 4,
    "start_time": "2023-02-15T04:40:25.697Z"
   },
   {
    "duration": 56,
    "start_time": "2023-02-15T04:40:25.723Z"
   },
   {
    "duration": 57,
    "start_time": "2023-02-15T04:40:25.780Z"
   },
   {
    "duration": 22,
    "start_time": "2023-02-15T04:40:25.839Z"
   },
   {
    "duration": 24,
    "start_time": "2023-02-15T04:40:25.863Z"
   },
   {
    "duration": 109,
    "start_time": "2023-02-15T04:40:25.889Z"
   },
   {
    "duration": 8,
    "start_time": "2023-02-15T04:40:26.011Z"
   },
   {
    "duration": 27,
    "start_time": "2023-02-15T04:40:26.024Z"
   },
   {
    "duration": 6,
    "start_time": "2023-02-15T04:40:26.052Z"
   },
   {
    "duration": 6,
    "start_time": "2023-02-15T04:40:26.061Z"
   },
   {
    "duration": 5,
    "start_time": "2023-02-15T04:40:26.068Z"
   },
   {
    "duration": 4,
    "start_time": "2023-02-15T04:40:26.075Z"
   },
   {
    "duration": 14,
    "start_time": "2023-02-15T04:40:26.080Z"
   },
   {
    "duration": 31,
    "start_time": "2023-02-15T04:40:26.096Z"
   },
   {
    "duration": 4,
    "start_time": "2023-02-15T04:40:26.129Z"
   },
   {
    "duration": 624,
    "start_time": "2023-02-15T04:40:26.135Z"
   },
   {
    "duration": 664,
    "start_time": "2023-02-15T04:40:26.761Z"
   },
   {
    "duration": 494,
    "start_time": "2023-02-15T04:40:27.431Z"
   },
   {
    "duration": 3,
    "start_time": "2023-02-15T04:40:27.930Z"
   },
   {
    "duration": 12,
    "start_time": "2023-02-15T04:40:27.938Z"
   },
   {
    "duration": 488,
    "start_time": "2023-02-15T04:40:27.952Z"
   },
   {
    "duration": 589,
    "start_time": "2023-02-15T04:40:28.441Z"
   },
   {
    "duration": 4,
    "start_time": "2023-02-15T04:40:29.044Z"
   },
   {
    "duration": 9,
    "start_time": "2023-02-15T04:40:29.049Z"
   },
   {
    "duration": 10,
    "start_time": "2023-02-15T04:40:29.059Z"
   },
   {
    "duration": 19,
    "start_time": "2023-02-15T04:40:29.071Z"
   },
   {
    "duration": 4,
    "start_time": "2023-02-15T04:40:29.091Z"
   },
   {
    "duration": 7,
    "start_time": "2023-02-15T04:40:29.096Z"
   },
   {
    "duration": 15,
    "start_time": "2023-02-15T04:40:29.104Z"
   },
   {
    "duration": 30,
    "start_time": "2023-02-15T04:40:29.120Z"
   },
   {
    "duration": 9,
    "start_time": "2023-02-15T04:40:29.152Z"
   },
   {
    "duration": 9,
    "start_time": "2023-02-15T04:40:29.163Z"
   },
   {
    "duration": 7679,
    "start_time": "2023-02-15T04:40:29.173Z"
   },
   {
    "duration": 30094,
    "start_time": "2023-02-15T04:40:36.854Z"
   },
   {
    "duration": 5,
    "start_time": "2023-02-15T04:41:06.950Z"
   },
   {
    "duration": 7,
    "start_time": "2023-02-15T04:41:06.957Z"
   },
   {
    "duration": 1277,
    "start_time": "2023-02-15T04:41:06.969Z"
   },
   {
    "duration": 6,
    "start_time": "2023-02-15T04:41:08.248Z"
   },
   {
    "duration": 9,
    "start_time": "2023-02-15T04:41:08.256Z"
   },
   {
    "duration": 404,
    "start_time": "2023-02-15T04:41:49.936Z"
   },
   {
    "duration": 1455,
    "start_time": "2023-02-15T04:41:58.957Z"
   },
   {
    "duration": 742,
    "start_time": "2023-02-15T04:42:00.414Z"
   },
   {
    "duration": 3,
    "start_time": "2023-02-15T04:42:01.158Z"
   },
   {
    "duration": 321,
    "start_time": "2023-02-15T04:42:01.163Z"
   },
   {
    "duration": 4,
    "start_time": "2023-02-15T04:42:01.486Z"
   },
   {
    "duration": 63,
    "start_time": "2023-02-15T04:42:01.491Z"
   },
   {
    "duration": 62,
    "start_time": "2023-02-15T04:42:01.556Z"
   },
   {
    "duration": 31,
    "start_time": "2023-02-15T04:42:01.619Z"
   },
   {
    "duration": 54,
    "start_time": "2023-02-15T04:42:01.652Z"
   },
   {
    "duration": 107,
    "start_time": "2023-02-15T04:42:01.709Z"
   },
   {
    "duration": 17,
    "start_time": "2023-02-15T04:42:01.818Z"
   },
   {
    "duration": 16,
    "start_time": "2023-02-15T04:42:01.837Z"
   },
   {
    "duration": 10,
    "start_time": "2023-02-15T04:42:01.855Z"
   },
   {
    "duration": 8,
    "start_time": "2023-02-15T04:42:01.866Z"
   },
   {
    "duration": 10,
    "start_time": "2023-02-15T04:42:01.876Z"
   },
   {
    "duration": 20,
    "start_time": "2023-02-15T04:42:01.887Z"
   },
   {
    "duration": 48,
    "start_time": "2023-02-15T04:42:01.908Z"
   },
   {
    "duration": 24,
    "start_time": "2023-02-15T04:42:01.957Z"
   },
   {
    "duration": 7,
    "start_time": "2023-02-15T04:42:01.983Z"
   },
   {
    "duration": 653,
    "start_time": "2023-02-15T04:42:01.991Z"
   },
   {
    "duration": 534,
    "start_time": "2023-02-15T04:42:02.649Z"
   },
   {
    "duration": 550,
    "start_time": "2023-02-15T04:42:03.185Z"
   },
   {
    "duration": 5,
    "start_time": "2023-02-15T04:42:03.741Z"
   },
   {
    "duration": 6,
    "start_time": "2023-02-15T04:42:03.748Z"
   },
   {
    "duration": 483,
    "start_time": "2023-02-15T04:42:03.756Z"
   },
   {
    "duration": 585,
    "start_time": "2023-02-15T04:42:04.241Z"
   },
   {
    "duration": 3,
    "start_time": "2023-02-15T04:42:04.838Z"
   },
   {
    "duration": 3,
    "start_time": "2023-02-15T04:42:04.845Z"
   },
   {
    "duration": 8,
    "start_time": "2023-02-15T04:42:04.849Z"
   },
   {
    "duration": 424,
    "start_time": "2023-02-15T04:42:04.859Z"
   },
   {
    "duration": 0,
    "start_time": "2023-02-15T04:42:05.285Z"
   },
   {
    "duration": 0,
    "start_time": "2023-02-15T04:42:05.287Z"
   },
   {
    "duration": 0,
    "start_time": "2023-02-15T04:42:05.289Z"
   },
   {
    "duration": 0,
    "start_time": "2023-02-15T04:42:05.290Z"
   },
   {
    "duration": 0,
    "start_time": "2023-02-15T04:42:05.292Z"
   },
   {
    "duration": 0,
    "start_time": "2023-02-15T04:42:05.294Z"
   },
   {
    "duration": 0,
    "start_time": "2023-02-15T04:42:05.295Z"
   },
   {
    "duration": 0,
    "start_time": "2023-02-15T04:42:05.310Z"
   },
   {
    "duration": 0,
    "start_time": "2023-02-15T04:42:05.310Z"
   },
   {
    "duration": 0,
    "start_time": "2023-02-15T04:42:05.311Z"
   },
   {
    "duration": 0,
    "start_time": "2023-02-15T04:42:05.312Z"
   },
   {
    "duration": 0,
    "start_time": "2023-02-15T04:42:05.312Z"
   },
   {
    "duration": 0,
    "start_time": "2023-02-15T04:42:05.313Z"
   },
   {
    "duration": 0,
    "start_time": "2023-02-15T04:42:05.314Z"
   },
   {
    "duration": 634,
    "start_time": "2023-02-15T04:42:28.437Z"
   },
   {
    "duration": 105,
    "start_time": "2023-02-15T04:43:32.845Z"
   },
   {
    "duration": 9505,
    "start_time": "2023-02-15T19:17:16.393Z"
   },
   {
    "duration": 16389,
    "start_time": "2023-02-15T19:17:25.901Z"
   },
   {
    "duration": 7,
    "start_time": "2023-02-15T19:17:42.292Z"
   },
   {
    "duration": 2204,
    "start_time": "2023-02-15T19:17:42.300Z"
   },
   {
    "duration": 85,
    "start_time": "2023-02-15T19:17:44.508Z"
   },
   {
    "duration": 699,
    "start_time": "2023-02-15T19:17:44.595Z"
   },
   {
    "duration": 400,
    "start_time": "2023-02-15T19:17:45.296Z"
   },
   {
    "duration": 204,
    "start_time": "2023-02-15T19:17:45.698Z"
   },
   {
    "duration": 204,
    "start_time": "2023-02-15T19:17:45.904Z"
   },
   {
    "duration": 908,
    "start_time": "2023-02-15T19:17:46.197Z"
   },
   {
    "duration": 8,
    "start_time": "2023-02-15T19:17:47.192Z"
   },
   {
    "duration": 91,
    "start_time": "2023-02-15T19:17:47.203Z"
   },
   {
    "duration": 5,
    "start_time": "2023-02-15T19:17:47.296Z"
   },
   {
    "duration": 392,
    "start_time": "2023-02-15T19:17:47.305Z"
   },
   {
    "duration": 96,
    "start_time": "2023-02-15T19:17:47.698Z"
   },
   {
    "duration": 199,
    "start_time": "2023-02-15T19:17:47.797Z"
   },
   {
    "duration": 203,
    "start_time": "2023-02-15T19:17:47.998Z"
   },
   {
    "duration": 199,
    "start_time": "2023-02-15T19:17:48.298Z"
   },
   {
    "duration": 5,
    "start_time": "2023-02-15T19:17:48.499Z"
   },
   {
    "duration": 4700,
    "start_time": "2023-02-15T19:17:48.506Z"
   },
   {
    "duration": 3704,
    "start_time": "2023-02-15T19:17:53.299Z"
   },
   {
    "duration": 3606,
    "start_time": "2023-02-15T19:17:57.096Z"
   },
   {
    "duration": 90,
    "start_time": "2023-02-15T19:18:00.704Z"
   },
   {
    "duration": 197,
    "start_time": "2023-02-15T19:18:00.796Z"
   },
   {
    "duration": 3897,
    "start_time": "2023-02-15T19:18:00.994Z"
   },
   {
    "duration": 4313,
    "start_time": "2023-02-15T19:18:04.898Z"
   },
   {
    "duration": 6,
    "start_time": "2023-02-15T19:18:09.291Z"
   },
   {
    "duration": 16,
    "start_time": "2023-02-15T19:18:09.299Z"
   },
   {
    "duration": 8,
    "start_time": "2023-02-15T19:18:09.391Z"
   },
   {
    "duration": 5198,
    "start_time": "2023-02-15T19:18:09.401Z"
   },
   {
    "duration": 296,
    "start_time": "2023-02-15T19:18:14.603Z"
   },
   {
    "duration": 92,
    "start_time": "2023-02-15T19:18:14.903Z"
   },
   {
    "duration": 95,
    "start_time": "2023-02-15T19:18:14.998Z"
   },
   {
    "duration": 208,
    "start_time": "2023-02-15T19:18:15.097Z"
   },
   {
    "duration": 86,
    "start_time": "2023-02-15T19:18:15.307Z"
   },
   {
    "duration": 104,
    "start_time": "2023-02-15T19:18:15.395Z"
   },
   {
    "duration": 295,
    "start_time": "2023-02-15T19:18:15.502Z"
   },
   {
    "duration": 3,
    "start_time": "2023-02-15T19:18:30.692Z"
   },
   {
    "duration": 7104,
    "start_time": "2023-02-15T19:18:31.392Z"
   },
   {
    "duration": 100,
    "start_time": "2023-02-15T19:18:39.692Z"
   },
   {
    "duration": 97,
    "start_time": "2023-02-15T19:18:42.894Z"
   }
  ],
  "kernelspec": {
   "display_name": "Python 3 (ipykernel)",
   "language": "python",
   "name": "python3"
  },
  "language_info": {
   "codemirror_mode": {
    "name": "ipython",
    "version": 3
   },
   "file_extension": ".py",
   "mimetype": "text/x-python",
   "name": "python",
   "nbconvert_exporter": "python",
   "pygments_lexer": "ipython3",
   "version": "3.9.12"
  },
  "toc": {
   "base_numbering": 1,
   "nav_menu": {},
   "number_sections": true,
   "sideBar": true,
   "skip_h1_title": true,
   "title_cell": "Содержание",
   "title_sidebar": "Contents",
   "toc_cell": true,
   "toc_position": {
    "height": "calc(100% - 180px)",
    "left": "10px",
    "top": "150px",
    "width": "165px"
   },
   "toc_section_display": true,
   "toc_window_display": false
  }
 },
 "nbformat": 4,
 "nbformat_minor": 2
}
