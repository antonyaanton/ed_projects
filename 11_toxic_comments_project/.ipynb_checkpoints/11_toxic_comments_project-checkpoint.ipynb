{
 "cells": [
  {
   "cell_type": "markdown",
   "metadata": {
    "toc": true
   },
   "source": [
    "<h1>Содержание<span class=\"tocSkip\"></span></h1>\n",
    "<div class=\"toc\"><ul class=\"toc-item\"><li><span><a href=\"#Подготовка\" data-toc-modified-id=\"Подготовка-1\"><span class=\"toc-item-num\">1&nbsp;&nbsp;</span>Подготовка</a></span><ul class=\"toc-item\"><li><span><a href=\"#EDA\" data-toc-modified-id=\"EDA-1.1\"><span class=\"toc-item-num\">1.1&nbsp;&nbsp;</span>EDA</a></span></li><li><span><a href=\"#Очистка-текста\" data-toc-modified-id=\"Очистка-текста-1.2\"><span class=\"toc-item-num\">1.2&nbsp;&nbsp;</span>Очистка текста</a></span></li><li><span><a href=\"#Лемматизация\" data-toc-modified-id=\"Лемматизация-1.3\"><span class=\"toc-item-num\">1.3&nbsp;&nbsp;</span>Лемматизация</a></span></li><li><span><a href=\"#Разбиение-датасета-на-выборки-и-выедление-признаков\" data-toc-modified-id=\"Разбиение-датасета-на-выборки-и-выедление-признаков-1.4\"><span class=\"toc-item-num\">1.4&nbsp;&nbsp;</span>Разбиение датасета на выборки и выедление признаков</a></span></li><li><span><a href=\"#Получение-TF-IDF\" data-toc-modified-id=\"Получение-TF-IDF-1.5\"><span class=\"toc-item-num\">1.5&nbsp;&nbsp;</span>Получение TF-IDF</a></span></li></ul></li><li><span><a href=\"#Обучение\" data-toc-modified-id=\"Обучение-2\"><span class=\"toc-item-num\">2&nbsp;&nbsp;</span>Обучение</a></span><ul class=\"toc-item\"><li><span><a href=\"#Логистическая-регрессия\" data-toc-modified-id=\"Логистическая-регрессия-2.1\"><span class=\"toc-item-num\">2.1&nbsp;&nbsp;</span>Логистическая регрессия</a></span></li><li><span><a href=\"#CatBoostClassifier\" data-toc-modified-id=\"CatBoostClassifier-2.2\"><span class=\"toc-item-num\">2.2&nbsp;&nbsp;</span>CatBoostClassifier</a></span></li></ul></li><li><span><a href=\"#Выводы\" data-toc-modified-id=\"Выводы-3\"><span class=\"toc-item-num\">3&nbsp;&nbsp;</span>Выводы</a></span></li><li><span><a href=\"#Чек-лист-проверки\" data-toc-modified-id=\"Чек-лист-проверки-4\"><span class=\"toc-item-num\">4&nbsp;&nbsp;</span>Чек-лист проверки</a></span></li></ul></div>"
   ]
  },
  {
   "cell_type": "markdown",
   "metadata": {},
   "source": [
    "# Проект для «Викишоп»"
   ]
  },
  {
   "cell_type": "markdown",
   "metadata": {},
   "source": [
    "Интернет-магазин «Викишоп» запускает новый сервис. Теперь пользователи могут редактировать и дополнять описания товаров, как в вики-сообществах. То есть клиенты предлагают свои правки и комментируют изменения других. Магазину нужен инструмент, который будет искать токсичные комментарии и отправлять их на модерацию. \n",
    "\n",
    "Обучите модель классифицировать комментарии на позитивные и негативные. В вашем распоряжении набор данных с разметкой о токсичности правок.\n",
    "\n",
    "Постройте модель со значением метрики качества *F1* не меньше 0.75. \n",
    "\n",
    "**Инструкция по выполнению проекта**\n",
    "\n",
    "1. Загрузите и подготовьте данные.\n",
    "2. Обучите разные модели. \n",
    "3. Сделайте выводы.\n",
    "\n",
    "Для выполнения проекта применять *BERT* необязательно, но вы можете попробовать.\n",
    "\n",
    "**Описание данных**\n",
    "\n",
    "Данные находятся в файле `toxic_comments.csv`. Столбец *text* в нём содержит текст комментария, а *toxic* — целевой признак."
   ]
  },
  {
   "cell_type": "markdown",
   "metadata": {},
   "source": [
    "## Подготовка"
   ]
  },
  {
   "cell_type": "markdown",
   "metadata": {},
   "source": [
    "### EDA"
   ]
  },
  {
   "cell_type": "code",
   "execution_count": 1,
   "metadata": {},
   "outputs": [],
   "source": [
    "import pandas as pd\n",
    "import numpy as np\n",
    "\n",
    "import re\n",
    "\n",
    "import nltk\n",
    "import spacy\n",
    "\n",
    "from nltk.corpus import stopwords as nltk_stopwords\n",
    "from nltk.corpus import wordnet\n",
    "from nltk.stem import WordNetLemmatizer\n",
    "\n",
    "\n",
    "from sklearn.linear_model import LogisticRegression\n",
    "\n",
    "from sklearn.pipeline import Pipeline\n",
    "from sklearn.feature_extraction.text import TfidfVectorizer\n",
    "from sklearn.model_selection import train_test_split, GridSearchCV\n",
    "\n",
    "from sklearn.metrics import f1_score\n",
    "\n",
    "from catboost import CatBoostClassifier\n",
    "\n",
    "import warnings\n",
    "warnings.filterwarnings('ignore')"
   ]
  },
  {
   "cell_type": "code",
   "execution_count": 2,
   "metadata": {},
   "outputs": [],
   "source": [
    "df = pd.read_csv('/datasets/toxic_comments.csv')"
   ]
  },
  {
   "cell_type": "code",
   "execution_count": 3,
   "metadata": {
    "scrolled": true
   },
   "outputs": [
    {
     "data": {
      "text/html": [
       "<div>\n",
       "<style scoped>\n",
       "    .dataframe tbody tr th:only-of-type {\n",
       "        vertical-align: middle;\n",
       "    }\n",
       "\n",
       "    .dataframe tbody tr th {\n",
       "        vertical-align: top;\n",
       "    }\n",
       "\n",
       "    .dataframe thead th {\n",
       "        text-align: right;\n",
       "    }\n",
       "</style>\n",
       "<table border=\"1\" class=\"dataframe\">\n",
       "  <thead>\n",
       "    <tr style=\"text-align: right;\">\n",
       "      <th></th>\n",
       "      <th>Unnamed: 0</th>\n",
       "      <th>text</th>\n",
       "      <th>toxic</th>\n",
       "    </tr>\n",
       "  </thead>\n",
       "  <tbody>\n",
       "    <tr>\n",
       "      <th>0</th>\n",
       "      <td>0</td>\n",
       "      <td>Explanation\\nWhy the edits made under my usern...</td>\n",
       "      <td>0</td>\n",
       "    </tr>\n",
       "    <tr>\n",
       "      <th>1</th>\n",
       "      <td>1</td>\n",
       "      <td>D'aww! He matches this background colour I'm s...</td>\n",
       "      <td>0</td>\n",
       "    </tr>\n",
       "    <tr>\n",
       "      <th>2</th>\n",
       "      <td>2</td>\n",
       "      <td>Hey man, I'm really not trying to edit war. It...</td>\n",
       "      <td>0</td>\n",
       "    </tr>\n",
       "    <tr>\n",
       "      <th>3</th>\n",
       "      <td>3</td>\n",
       "      <td>\"\\nMore\\nI can't make any real suggestions on ...</td>\n",
       "      <td>0</td>\n",
       "    </tr>\n",
       "    <tr>\n",
       "      <th>4</th>\n",
       "      <td>4</td>\n",
       "      <td>You, sir, are my hero. Any chance you remember...</td>\n",
       "      <td>0</td>\n",
       "    </tr>\n",
       "  </tbody>\n",
       "</table>\n",
       "</div>"
      ],
      "text/plain": [
       "   Unnamed: 0                                               text  toxic\n",
       "0           0  Explanation\\nWhy the edits made under my usern...      0\n",
       "1           1  D'aww! He matches this background colour I'm s...      0\n",
       "2           2  Hey man, I'm really not trying to edit war. It...      0\n",
       "3           3  \"\\nMore\\nI can't make any real suggestions on ...      0\n",
       "4           4  You, sir, are my hero. Any chance you remember...      0"
      ]
     },
     "execution_count": 3,
     "metadata": {},
     "output_type": "execute_result"
    }
   ],
   "source": [
    "df.head()"
   ]
  },
  {
   "cell_type": "code",
   "execution_count": 4,
   "metadata": {},
   "outputs": [
    {
     "data": {
      "text/plain": [
       "Unnamed: 0    0.0\n",
       "text          0.0\n",
       "toxic         0.0\n",
       "dtype: float64"
      ]
     },
     "execution_count": 4,
     "metadata": {},
     "output_type": "execute_result"
    }
   ],
   "source": [
    "df.isna().mean()"
   ]
  },
  {
   "cell_type": "code",
   "execution_count": 5,
   "metadata": {},
   "outputs": [
    {
     "data": {
      "text/plain": [
       "0"
      ]
     },
     "execution_count": 5,
     "metadata": {},
     "output_type": "execute_result"
    }
   ],
   "source": [
    "df.duplicated().sum()"
   ]
  },
  {
   "cell_type": "code",
   "execution_count": 6,
   "metadata": {},
   "outputs": [
    {
     "data": {
      "text/plain": [
       "True"
      ]
     },
     "execution_count": 6,
     "metadata": {},
     "output_type": "execute_result"
    }
   ],
   "source": [
    "len(df) == df['Unnamed: 0'].nunique()"
   ]
  },
  {
   "cell_type": "code",
   "execution_count": 7,
   "metadata": {},
   "outputs": [],
   "source": [
    "df = df.drop('Unnamed: 0', axis=1)"
   ]
  },
  {
   "cell_type": "markdown",
   "metadata": {},
   "source": [
    "**Вывод:** в датасете нет пропущенных значений и дупликатов. Также из датасета был удален столбец `Unnamed: 0`, который дублировал индекс. "
   ]
  },
  {
   "cell_type": "code",
   "execution_count": 8,
   "metadata": {
    "scrolled": true
   },
   "outputs": [
    {
     "data": {
      "text/plain": [
       "0    0.898388\n",
       "1    0.101612\n",
       "Name: toxic, dtype: float64"
      ]
     },
     "execution_count": 8,
     "metadata": {},
     "output_type": "execute_result"
    }
   ],
   "source": [
    "df['toxic'].value_counts(normalize=True)"
   ]
  },
  {
   "cell_type": "markdown",
   "metadata": {},
   "source": [
    "**Вывод:** для данных характерен дисбаланс классов."
   ]
  },
  {
   "cell_type": "markdown",
   "metadata": {},
   "source": [
    "### Очистка текста"
   ]
  },
  {
   "cell_type": "code",
   "execution_count": 9,
   "metadata": {},
   "outputs": [],
   "source": [
    "def clear_text(text):\n",
    "    text = text.lower()\n",
    "    text = re.sub(r'[^a-zA-Z]', ' ', text)   \n",
    "    text = ' '.join(text.split())\n",
    "    return text"
   ]
  },
  {
   "cell_type": "code",
   "execution_count": 10,
   "metadata": {},
   "outputs": [
    {
     "name": "stdout",
     "output_type": "stream",
     "text": [
      "CPU times: user 4.04 s, sys: 66.7 ms, total: 4.11 s\n",
      "Wall time: 4.11 s\n"
     ]
    }
   ],
   "source": [
    "%%time\n",
    "df['text'] = df['text'].apply(clear_text)"
   ]
  },
  {
   "cell_type": "markdown",
   "metadata": {},
   "source": [
    "### Лемматизация"
   ]
  },
  {
   "cell_type": "code",
   "execution_count": 11,
   "metadata": {},
   "outputs": [],
   "source": [
    "def get_wordnet_pos(word):\n",
    "    tag = nltk.pos_tag([word])[0][1][0].upper()\n",
    "    tag_dict = {\"J\": wordnet.ADJ,\n",
    "                \"N\": wordnet.NOUN,\n",
    "                \"V\": wordnet.VERB,\n",
    "                \"R\": wordnet.ADV}\n",
    "    return tag_dict.get(tag, wordnet.NOUN)\n",
    "\n",
    "lemmatizer = WordNetLemmatizer()\n",
    "\n",
    "def lemmatize(text):\n",
    "    text = [lemmatizer.lemmatize(w, get_wordnet_pos(w)) for w in nltk.word_tokenize(text)]\n",
    "    return ' '.join(text)"
   ]
  },
  {
   "cell_type": "code",
   "execution_count": 12,
   "metadata": {
    "scrolled": false
   },
   "outputs": [
    {
     "name": "stderr",
     "output_type": "stream",
     "text": [
      "[nltk_data] Downloading package averaged_perceptron_tagger to\n",
      "[nltk_data]     /home/jovyan/nltk_data...\n",
      "[nltk_data]   Unzipping taggers/averaged_perceptron_tagger.zip.\n"
     ]
    },
    {
     "name": "stdout",
     "output_type": "stream",
     "text": [
      "CPU times: user 16min 59s, sys: 1min 56s, total: 18min 56s\n",
      "Wall time: 18min 57s\n"
     ]
    }
   ],
   "source": [
    "%%time\n",
    "nltk.download('averaged_perceptron_tagger')\n",
    "\n",
    "df['text'] = df['text'].apply(lemmatize)"
   ]
  },
  {
   "cell_type": "markdown",
   "metadata": {},
   "source": [
    "### Разбиение датасета на выборки и выедление признаков"
   ]
  },
  {
   "cell_type": "code",
   "execution_count": 13,
   "metadata": {},
   "outputs": [],
   "source": [
    "X = df.drop('toxic', axis=1)\n",
    "y = df['toxic']\n",
    "\n",
    "X_train, X_test, y_train, y_test = train_test_split(X, y, test_size=0.6, random_state=12345)\n",
    "X_test, X_valid, y_test, y_valid = train_test_split(X_test, y_test, test_size=0.5, random_state=12345)"
   ]
  },
  {
   "cell_type": "code",
   "execution_count": 14,
   "metadata": {},
   "outputs": [
    {
     "name": "stdout",
     "output_type": "stream",
     "text": [
      "(63716, 1)\n",
      "(47788, 1)\n",
      "(47788, 1)\n",
      "(63716,)\n",
      "(47788,)\n",
      "(47788,)\n"
     ]
    }
   ],
   "source": [
    "print(X_train.shape, X_test.shape, X_valid.shape, sep='\\n')\n",
    "print(y_train.shape, y_test.shape, y_valid.shape, sep='\\n')"
   ]
  },
  {
   "cell_type": "markdown",
   "metadata": {},
   "source": [
    "### Получение TF-IDF"
   ]
  },
  {
   "cell_type": "code",
   "execution_count": 16,
   "metadata": {},
   "outputs": [],
   "source": [
    "X_train = X_train.copy()\n",
    "X_test = X_test.copy()\n",
    "X_valid = X_valid.copy()\n",
    "y_train = y_train.copy()\n",
    "y_test = y_test.copy()\n",
    "y_valid = y_valid.copy()"
   ]
  },
  {
   "cell_type": "code",
   "execution_count": 17,
   "metadata": {},
   "outputs": [
    {
     "name": "stderr",
     "output_type": "stream",
     "text": [
      "[nltk_data] Downloading package stopwords to /home/jovyan/nltk_data...\n",
      "[nltk_data]   Package stopwords is already up-to-date!\n"
     ]
    }
   ],
   "source": [
    "nltk.download('stopwords')\n",
    "stopwords = set(nltk_stopwords.words('english'))\n",
    "\n",
    "tf_idf = TfidfVectorizer(stop_words=stopwords)\n",
    "tf_idf = tf_idf.fit(X_train['text'].values)\n",
    "train_tf_idf = tf_idf.transform(X_train['text'].values)\n",
    "valid_tf_idf = tf_idf.transform(X_valid['text'].values)\n",
    "test_tf_idf = tf_idf.transform(X_test['text'].values)"
   ]
  },
  {
   "cell_type": "code",
   "execution_count": 18,
   "metadata": {
    "scrolled": true
   },
   "outputs": [
    {
     "data": {
      "text/plain": [
       "((63716, 86606), (47788, 86606), (47788, 86606))"
      ]
     },
     "execution_count": 18,
     "metadata": {},
     "output_type": "execute_result"
    }
   ],
   "source": [
    "train_tf_idf.shape, valid_tf_idf.shape, test_tf_idf.shape"
   ]
  },
  {
   "cell_type": "markdown",
   "metadata": {},
   "source": [
    "**Вывод:** в ходе EDA убедились, что данные корректны, без дупликатов и пропусков. Лишний столбец `Unnamed: 0`, дублирующий индекс был удален. Для переменной `toxic` характерен дисбаланс классов. Однако, после преобразования TF-IDF он не страшен. Также мы очистили текст. Провели токенизацию и лемматизацию. Разбили данные на выборки в соотношении 3:1:1, выдлелил признаки. Трансформировали текстовые данные в векторы и получили TF-IDF."
   ]
  },
  {
   "cell_type": "markdown",
   "metadata": {},
   "source": [
    "## Обучение"
   ]
  },
  {
   "cell_type": "markdown",
   "metadata": {},
   "source": [
    "### Логистическая регрессия"
   ]
  },
  {
   "cell_type": "code",
   "execution_count": 19,
   "metadata": {
    "scrolled": true
   },
   "outputs": [
    {
     "name": "stdout",
     "output_type": "stream",
     "text": [
      "CPU times: user 194 µs, sys: 22 µs, total: 216 µs\n",
      "Wall time: 221 µs\n"
     ]
    }
   ],
   "source": [
    "%%time\n",
    "pipeline = Pipeline(\n",
    "    [\n",
    "        (\"vect\", TfidfVectorizer(stop_words='english')),\n",
    "        (\"clf\", LogisticRegression())\n",
    "    ]\n",
    ")\n",
    "\n",
    "parametrs_grid = {\n",
    "    \"clf__solver\": ('liblinear', 'saga','newton-cg', 'lbfgs'),\n",
    "    \"vect__ngram_range\": ((1, 1), (1, 2)),\n",
    "    \"vect__norm\": (\"l1\", \"l2\"),\n",
    "    \"clf__C\": [1, 10], \n",
    "    'clf__random_state': ([12345]),\n",
    "    'clf__class_weight': (['balanced'])\n",
    "}\n",
    "\n",
    "grid_search_cv = GridSearchCV(pipeline, \n",
    "                              parametrs_grid, \n",
    "                              scoring='f1', \n",
    "                              cv=3,\n",
    "                              n_jobs =-1\n",
    "                             )"
   ]
  },
  {
   "cell_type": "code",
   "execution_count": 21,
   "metadata": {},
   "outputs": [
    {
     "data": {
      "text/plain": [
       "0.7708361623770603"
      ]
     },
     "execution_count": 21,
     "metadata": {},
     "output_type": "execute_result"
    }
   ],
   "source": [
    "%%time\n",
    "grid_search_cv.fit(X_train['text'], y_train)\n",
    "grid_search_cv.best_score_\n",
    "grid_search_cv.best_estimator_ "
   ]
  },
  {
   "cell_type": "code",
   "execution_count": 22,
   "metadata": {},
   "outputs": [
    {
     "name": "stdout",
     "output_type": "stream",
     "text": [
      "F-1: 0.7040932708148523\n",
      "CPU times: user 11.4 s, sys: 19.5 s, total: 30.9 s\n",
      "Wall time: 31 s\n"
     ]
    }
   ],
   "source": [
    "%%time\n",
    "log_reg = LogisticRegression()\n",
    "log_reg.fit(train_tf_idf, y_train)\n",
    "pred = log_reg.predict(valid_tf_idf)\n",
    "print(f'F-1: {f1_score(y_valid, pred)}')"
   ]
  },
  {
   "cell_type": "code",
   "execution_count": 30,
   "metadata": {},
   "outputs": [
    {
     "name": "stdout",
     "output_type": "stream",
     "text": [
      "F-1: 0.7503458452457806\n",
      "CPU times: user 9.64 s, sys: 0 ns, total: 9.64 s\n",
      "Wall time: 9.71 s\n"
     ]
    }
   ],
   "source": [
    "%%time\n",
    "log_reg = LogisticRegression(C=5, class_weight='balanced', solver='saga', max_iter=200, random_state=12345)\n",
    "log_reg.fit(train_tf_idf, y_train)\n",
    "pred = log_reg.predict(valid_tf_idf)\n",
    "print(f'F-1: {f1_score(y_valid, pred)}')"
   ]
  },
  {
   "cell_type": "code",
   "execution_count": 33,
   "metadata": {},
   "outputs": [
    {
     "name": "stdout",
     "output_type": "stream",
     "text": [
      "F-1: 0.7357224990417786\n"
     ]
    }
   ],
   "source": [
    "pred = log_reg.predict(test_tf_idf)\n",
    "print(f'F-1: {f1_score(y_test, pred)}')"
   ]
  },
  {
   "cell_type": "markdown",
   "metadata": {},
   "source": [
    "### CatBoostClassifier"
   ]
  },
  {
   "cell_type": "code",
   "execution_count": 31,
   "metadata": {},
   "outputs": [
    {
     "name": "stdout",
     "output_type": "stream",
     "text": [
      "Learning rate set to 0.060722\n",
      "0:\tlearn: 0.6095904\ttotal: 483ms\tremaining: 8m 2s\n",
      "100:\tlearn: 0.1316881\ttotal: 42.6s\tremaining: 6m 19s\n",
      "200:\tlearn: 0.1199774\ttotal: 1m 25s\tremaining: 5m 38s\n",
      "300:\tlearn: 0.1121457\ttotal: 2m 8s\tremaining: 4m 57s\n",
      "400:\tlearn: 0.1069512\ttotal: 2m 49s\tremaining: 4m 13s\n",
      "500:\tlearn: 0.1027293\ttotal: 3m 31s\tremaining: 3m 30s\n",
      "600:\tlearn: 0.0990502\ttotal: 4m 14s\tremaining: 2m 49s\n",
      "700:\tlearn: 0.0956789\ttotal: 4m 58s\tremaining: 2m 7s\n",
      "800:\tlearn: 0.0930587\ttotal: 5m 41s\tremaining: 1m 24s\n",
      "900:\tlearn: 0.0905876\ttotal: 6m 23s\tremaining: 42.1s\n",
      "999:\tlearn: 0.0884506\ttotal: 7m 3s\tremaining: 0us\n",
      "F-1: 0.7801434589547991\n"
     ]
    }
   ],
   "source": [
    "cb = CatBoostClassifier(verbose=100, text_features=['text'])\n",
    "cb.fit(X_train, y_train)\n",
    "cb_pred = cb.predict(X_valid)\n",
    "print(f'F-1: {f1_score(y_valid, cb_pred)}')"
   ]
  },
  {
   "cell_type": "code",
   "execution_count": 32,
   "metadata": {},
   "outputs": [
    {
     "name": "stdout",
     "output_type": "stream",
     "text": [
      "F-1: 0.772721872401093\n"
     ]
    }
   ],
   "source": [
    "cb_pred = cb.predict(X_test)\n",
    "print(f'F-1: {f1_score(y_test, cb_pred)}')"
   ]
  },
  {
   "cell_type": "markdown",
   "metadata": {},
   "source": [
    "**Вывод:** лучше всех себя показала `логистическая регрессия` и по времени и по метрике."
   ]
  },
  {
   "cell_type": "markdown",
   "metadata": {},
   "source": [
    "## Выводы"
   ]
  },
  {
   "cell_type": "markdown",
   "metadata": {},
   "source": [
    "После EDA и предобработки данных, очистки текста, токенизациb и лемматизации, разбиения данных на выборки в соотношении 3:1:1, и выдлеления признаков. Трансформировали текстовые данные в векторы и получили TF-IDF. После обучения, получили лучший результат `F-1: 0.7500488949735967` у `Логистической регрессии`"
   ]
  }
 ],
 "metadata": {
  "ExecuteTimeLog": [
   {
    "duration": 2224,
    "start_time": "2023-04-08T16:59:56.689Z"
   },
   {
    "duration": 1480,
    "start_time": "2023-04-08T17:05:48.513Z"
   },
   {
    "duration": 7198,
    "start_time": "2023-04-08T17:05:50.000Z"
   },
   {
    "duration": 121,
    "start_time": "2023-04-08T17:06:05.190Z"
   },
   {
    "duration": 111,
    "start_time": "2023-04-08T17:06:39.588Z"
   },
   {
    "duration": 405,
    "start_time": "2023-04-08T17:06:54.288Z"
   },
   {
    "duration": 1801,
    "start_time": "2023-04-08T17:06:58.796Z"
   },
   {
    "duration": 1525,
    "start_time": "2023-04-08T17:07:15.288Z"
   },
   {
    "duration": 18,
    "start_time": "2023-04-08T17:10:28.189Z"
   },
   {
    "duration": 92,
    "start_time": "2023-04-08T17:11:15.615Z"
   },
   {
    "duration": 103,
    "start_time": "2023-04-08T17:11:44.288Z"
   },
   {
    "duration": 100,
    "start_time": "2023-04-08T17:12:13.688Z"
   },
   {
    "duration": 95,
    "start_time": "2023-04-08T17:12:20.895Z"
   },
   {
    "duration": 203,
    "start_time": "2023-04-08T17:12:24.588Z"
   },
   {
    "duration": 1422,
    "start_time": "2023-04-08T17:12:25.988Z"
   },
   {
    "duration": 215,
    "start_time": "2023-04-08T17:12:36.791Z"
   },
   {
    "duration": 1703,
    "start_time": "2023-04-08T17:12:48.389Z"
   },
   {
    "duration": 156,
    "start_time": "2023-04-08T17:21:02.134Z"
   },
   {
    "duration": 711,
    "start_time": "2023-04-08T17:23:12.889Z"
   },
   {
    "duration": 5608,
    "start_time": "2023-04-08T17:23:16.088Z"
   },
   {
    "duration": 26,
    "start_time": "2023-04-08T17:24:01.490Z"
   },
   {
    "duration": 7,
    "start_time": "2023-04-08T17:28:18.188Z"
   },
   {
    "duration": 1320,
    "start_time": "2023-04-08T17:28:55.789Z"
   },
   {
    "duration": 6,
    "start_time": "2023-04-08T17:29:21.987Z"
   },
   {
    "duration": 11,
    "start_time": "2023-04-08T17:29:29.588Z"
   },
   {
    "duration": 1002,
    "start_time": "2023-04-08T17:29:38.988Z"
   },
   {
    "duration": 4,
    "start_time": "2023-04-08T17:32:03.033Z"
   },
   {
    "duration": 589,
    "start_time": "2023-04-08T17:33:30.881Z"
   },
   {
    "duration": 2575,
    "start_time": "2023-04-08T17:33:31.473Z"
   },
   {
    "duration": 17,
    "start_time": "2023-04-08T17:33:34.051Z"
   },
   {
    "duration": 31,
    "start_time": "2023-04-08T17:33:34.070Z"
   },
   {
    "duration": 263,
    "start_time": "2023-04-08T17:33:34.103Z"
   },
   {
    "duration": 20,
    "start_time": "2023-04-08T17:33:34.368Z"
   },
   {
    "duration": 12,
    "start_time": "2023-04-08T17:33:34.390Z"
   },
   {
    "duration": 17,
    "start_time": "2023-04-08T17:33:34.404Z"
   },
   {
    "duration": 420,
    "start_time": "2023-04-08T17:52:34.556Z"
   },
   {
    "duration": 1077,
    "start_time": "2023-04-08T17:52:34.978Z"
   },
   {
    "duration": 15,
    "start_time": "2023-04-08T17:52:36.056Z"
   },
   {
    "duration": 45,
    "start_time": "2023-04-08T17:52:36.073Z"
   },
   {
    "duration": 269,
    "start_time": "2023-04-08T17:52:36.119Z"
   },
   {
    "duration": 16,
    "start_time": "2023-04-08T17:52:36.394Z"
   },
   {
    "duration": 14,
    "start_time": "2023-04-08T17:52:36.412Z"
   },
   {
    "duration": 7,
    "start_time": "2023-04-08T17:52:36.428Z"
   },
   {
    "duration": 5648,
    "start_time": "2023-04-08T17:56:57.861Z"
   },
   {
    "duration": 449,
    "start_time": "2023-04-08T17:57:03.515Z"
   },
   {
    "duration": 1068,
    "start_time": "2023-04-08T17:57:03.966Z"
   },
   {
    "duration": 14,
    "start_time": "2023-04-08T17:57:05.036Z"
   },
   {
    "duration": 53,
    "start_time": "2023-04-08T17:57:05.052Z"
   },
   {
    "duration": 263,
    "start_time": "2023-04-08T17:57:05.111Z"
   },
   {
    "duration": 28,
    "start_time": "2023-04-08T17:57:05.376Z"
   },
   {
    "duration": 15,
    "start_time": "2023-04-08T17:57:05.407Z"
   },
   {
    "duration": 3,
    "start_time": "2023-04-08T17:57:05.424Z"
   },
   {
    "duration": 17,
    "start_time": "2023-04-08T17:57:05.429Z"
   },
   {
    "duration": 18452,
    "start_time": "2023-04-08T17:57:36.851Z"
   },
   {
    "duration": 1392,
    "start_time": "2023-04-08T17:59:32.063Z"
   },
   {
    "duration": 4,
    "start_time": "2023-04-08T17:59:57.921Z"
   },
   {
    "duration": 3698,
    "start_time": "2023-04-08T18:00:02.380Z"
   },
   {
    "duration": 14,
    "start_time": "2023-04-08T18:00:09.416Z"
   },
   {
    "duration": 3,
    "start_time": "2023-04-08T18:05:13.371Z"
   },
   {
    "duration": 1436,
    "start_time": "2023-04-08T18:05:14.010Z"
   },
   {
    "duration": 4,
    "start_time": "2023-04-08T18:06:14.959Z"
   },
   {
    "duration": 2489,
    "start_time": "2023-04-08T18:07:25.400Z"
   },
   {
    "duration": 4227,
    "start_time": "2023-04-08T18:07:27.891Z"
   },
   {
    "duration": 899,
    "start_time": "2023-04-08T18:07:32.120Z"
   },
   {
    "duration": 15,
    "start_time": "2023-04-08T18:07:33.021Z"
   },
   {
    "duration": 28,
    "start_time": "2023-04-08T18:07:33.039Z"
   },
   {
    "duration": 260,
    "start_time": "2023-04-08T18:07:33.069Z"
   },
   {
    "duration": 11,
    "start_time": "2023-04-08T18:07:33.331Z"
   },
   {
    "duration": 10,
    "start_time": "2023-04-08T18:07:33.344Z"
   },
   {
    "duration": 11,
    "start_time": "2023-04-08T18:07:33.355Z"
   },
   {
    "duration": 2455,
    "start_time": "2023-04-08T18:09:02.923Z"
   },
   {
    "duration": 3979,
    "start_time": "2023-04-08T18:09:05.380Z"
   },
   {
    "duration": 891,
    "start_time": "2023-04-08T18:09:09.361Z"
   },
   {
    "duration": 14,
    "start_time": "2023-04-08T18:09:10.254Z"
   },
   {
    "duration": 41,
    "start_time": "2023-04-08T18:09:10.270Z"
   },
   {
    "duration": 274,
    "start_time": "2023-04-08T18:09:10.313Z"
   },
   {
    "duration": 16,
    "start_time": "2023-04-08T18:09:10.589Z"
   },
   {
    "duration": 16,
    "start_time": "2023-04-08T18:09:10.607Z"
   },
   {
    "duration": 7,
    "start_time": "2023-04-08T18:09:10.625Z"
   },
   {
    "duration": 2488,
    "start_time": "2023-04-08T18:10:05.124Z"
   },
   {
    "duration": 4165,
    "start_time": "2023-04-08T18:10:07.614Z"
   },
   {
    "duration": 892,
    "start_time": "2023-04-08T18:10:11.788Z"
   },
   {
    "duration": 21,
    "start_time": "2023-04-08T18:10:12.682Z"
   },
   {
    "duration": 54,
    "start_time": "2023-04-08T18:10:12.705Z"
   },
   {
    "duration": 291,
    "start_time": "2023-04-08T18:10:12.761Z"
   },
   {
    "duration": 11,
    "start_time": "2023-04-08T18:10:13.054Z"
   },
   {
    "duration": 51,
    "start_time": "2023-04-08T18:10:13.067Z"
   },
   {
    "duration": 6,
    "start_time": "2023-04-08T18:10:13.120Z"
   },
   {
    "duration": 2427,
    "start_time": "2023-04-09T03:51:22.766Z"
   },
   {
    "duration": 3568,
    "start_time": "2023-04-09T03:51:25.195Z"
   },
   {
    "duration": 2297,
    "start_time": "2023-04-09T03:51:28.765Z"
   },
   {
    "duration": 14,
    "start_time": "2023-04-09T03:51:31.063Z"
   },
   {
    "duration": 44,
    "start_time": "2023-04-09T03:51:31.079Z"
   },
   {
    "duration": 228,
    "start_time": "2023-04-09T03:51:31.124Z"
   },
   {
    "duration": 11,
    "start_time": "2023-04-09T03:51:31.353Z"
   },
   {
    "duration": 29,
    "start_time": "2023-04-09T03:51:31.365Z"
   },
   {
    "duration": 13,
    "start_time": "2023-04-09T03:51:31.395Z"
   },
   {
    "duration": 9337,
    "start_time": "2023-04-09T03:54:48.886Z"
   },
   {
    "duration": 3490,
    "start_time": "2023-04-09T03:54:58.225Z"
   },
   {
    "duration": 767,
    "start_time": "2023-04-09T03:55:01.716Z"
   },
   {
    "duration": 13,
    "start_time": "2023-04-09T03:55:02.485Z"
   },
   {
    "duration": 42,
    "start_time": "2023-04-09T03:55:02.500Z"
   },
   {
    "duration": 277,
    "start_time": "2023-04-09T03:55:02.543Z"
   },
   {
    "duration": 14,
    "start_time": "2023-04-09T03:55:02.821Z"
   },
   {
    "duration": 37,
    "start_time": "2023-04-09T03:55:02.836Z"
   },
   {
    "duration": 21,
    "start_time": "2023-04-09T03:55:02.874Z"
   },
   {
    "duration": 18,
    "start_time": "2023-04-09T03:55:02.897Z"
   },
   {
    "duration": 11,
    "start_time": "2023-04-09T03:55:02.916Z"
   },
   {
    "duration": 9684,
    "start_time": "2023-04-09T03:55:40.996Z"
   },
   {
    "duration": 3652,
    "start_time": "2023-04-09T03:55:50.682Z"
   },
   {
    "duration": 838,
    "start_time": "2023-04-09T03:55:54.336Z"
   },
   {
    "duration": 14,
    "start_time": "2023-04-09T03:55:55.176Z"
   },
   {
    "duration": 25,
    "start_time": "2023-04-09T03:55:55.192Z"
   },
   {
    "duration": 261,
    "start_time": "2023-04-09T03:55:55.218Z"
   },
   {
    "duration": 11,
    "start_time": "2023-04-09T03:55:55.480Z"
   },
   {
    "duration": 10,
    "start_time": "2023-04-09T03:55:55.492Z"
   },
   {
    "duration": 8,
    "start_time": "2023-04-09T03:55:55.504Z"
   },
   {
    "duration": 9284,
    "start_time": "2023-04-09T03:59:36.322Z"
   },
   {
    "duration": 3635,
    "start_time": "2023-04-09T03:59:45.609Z"
   },
   {
    "duration": 816,
    "start_time": "2023-04-09T03:59:49.246Z"
   },
   {
    "duration": 15,
    "start_time": "2023-04-09T03:59:50.064Z"
   },
   {
    "duration": 25,
    "start_time": "2023-04-09T03:59:50.081Z"
   },
   {
    "duration": 247,
    "start_time": "2023-04-09T03:59:50.107Z"
   },
   {
    "duration": 11,
    "start_time": "2023-04-09T03:59:50.355Z"
   },
   {
    "duration": 11,
    "start_time": "2023-04-09T03:59:50.368Z"
   },
   {
    "duration": 10,
    "start_time": "2023-04-09T03:59:50.381Z"
   },
   {
    "duration": 13,
    "start_time": "2023-04-09T03:59:50.393Z"
   },
   {
    "duration": 62,
    "start_time": "2023-04-09T03:59:50.408Z"
   },
   {
    "duration": 1197,
    "start_time": "2023-04-09T03:59:55.307Z"
   },
   {
    "duration": 5,
    "start_time": "2023-04-09T04:00:03.935Z"
   },
   {
    "duration": 15,
    "start_time": "2023-04-09T04:00:31.092Z"
   },
   {
    "duration": 9,
    "start_time": "2023-04-09T04:00:35.451Z"
   },
   {
    "duration": 7,
    "start_time": "2023-04-09T04:00:53.633Z"
   },
   {
    "duration": 5,
    "start_time": "2023-04-09T04:01:02.170Z"
   },
   {
    "duration": 6,
    "start_time": "2023-04-09T04:01:07.487Z"
   },
   {
    "duration": 8,
    "start_time": "2023-04-09T04:01:21.905Z"
   },
   {
    "duration": 3,
    "start_time": "2023-04-09T04:08:26.395Z"
   },
   {
    "duration": 4,
    "start_time": "2023-04-09T04:10:12.777Z"
   },
   {
    "duration": 301,
    "start_time": "2023-04-09T04:10:49.864Z"
   },
   {
    "duration": 3,
    "start_time": "2023-04-09T04:11:06.159Z"
   },
   {
    "duration": 3805,
    "start_time": "2023-04-09T04:11:11.124Z"
   },
   {
    "duration": 4,
    "start_time": "2023-04-09T04:11:29.849Z"
   },
   {
    "duration": 4,
    "start_time": "2023-04-09T04:11:34.004Z"
   },
   {
    "duration": 2,
    "start_time": "2023-04-09T04:11:38.526Z"
   },
   {
    "duration": 1285,
    "start_time": "2023-04-09T04:12:20.555Z"
   },
   {
    "duration": 833,
    "start_time": "2023-04-09T04:12:21.842Z"
   },
   {
    "duration": 13,
    "start_time": "2023-04-09T04:12:22.677Z"
   },
   {
    "duration": 25,
    "start_time": "2023-04-09T04:12:22.691Z"
   },
   {
    "duration": 229,
    "start_time": "2023-04-09T04:12:22.717Z"
   },
   {
    "duration": 10,
    "start_time": "2023-04-09T04:12:22.947Z"
   },
   {
    "duration": 14,
    "start_time": "2023-04-09T04:12:22.958Z"
   },
   {
    "duration": 21,
    "start_time": "2023-04-09T04:12:22.973Z"
   },
   {
    "duration": 4,
    "start_time": "2023-04-09T04:12:22.995Z"
   },
   {
    "duration": 4058,
    "start_time": "2023-04-09T04:12:23.001Z"
   },
   {
    "duration": 3,
    "start_time": "2023-04-09T04:12:27.061Z"
   },
   {
    "duration": 6,
    "start_time": "2023-04-09T04:12:27.065Z"
   },
   {
    "duration": 17,
    "start_time": "2023-04-09T04:12:27.073Z"
   },
   {
    "duration": 3049,
    "start_time": "2023-04-09T04:12:38.180Z"
   },
   {
    "duration": 3,
    "start_time": "2023-04-09T04:14:55.132Z"
   },
   {
    "duration": 3,
    "start_time": "2023-04-09T04:15:14.258Z"
   },
   {
    "duration": 218,
    "start_time": "2023-04-09T04:18:06.380Z"
   },
   {
    "duration": 5,
    "start_time": "2023-04-09T04:18:25.854Z"
   },
   {
    "duration": 401,
    "start_time": "2023-04-09T04:18:35.309Z"
   },
   {
    "duration": 4,
    "start_time": "2023-04-09T04:19:13.605Z"
   },
   {
    "duration": 323,
    "start_time": "2023-04-09T04:19:15.047Z"
   },
   {
    "duration": 1302,
    "start_time": "2023-04-09T04:19:43.527Z"
   },
   {
    "duration": 2251,
    "start_time": "2023-04-09T04:19:48.933Z"
   },
   {
    "duration": 844,
    "start_time": "2023-04-09T04:20:06.174Z"
   },
   {
    "duration": 4,
    "start_time": "2023-04-09T04:20:53.184Z"
   },
   {
    "duration": 4,
    "start_time": "2023-04-09T04:21:03.914Z"
   },
   {
    "duration": 267,
    "start_time": "2023-04-09T04:21:05.518Z"
   },
   {
    "duration": 20,
    "start_time": "2023-04-09T04:23:20.047Z"
   },
   {
    "duration": 5,
    "start_time": "2023-04-09T04:24:25.414Z"
   },
   {
    "duration": 302,
    "start_time": "2023-04-09T04:24:26.754Z"
   },
   {
    "duration": 1291,
    "start_time": "2023-04-09T04:25:58.735Z"
   },
   {
    "duration": 841,
    "start_time": "2023-04-09T04:26:00.029Z"
   },
   {
    "duration": 13,
    "start_time": "2023-04-09T04:26:00.872Z"
   },
   {
    "duration": 39,
    "start_time": "2023-04-09T04:26:00.886Z"
   },
   {
    "duration": 260,
    "start_time": "2023-04-09T04:26:00.927Z"
   },
   {
    "duration": 10,
    "start_time": "2023-04-09T04:26:01.189Z"
   },
   {
    "duration": 15,
    "start_time": "2023-04-09T04:26:01.201Z"
   },
   {
    "duration": 41,
    "start_time": "2023-04-09T04:26:01.218Z"
   },
   {
    "duration": 28,
    "start_time": "2023-04-09T04:26:01.260Z"
   },
   {
    "duration": 3863,
    "start_time": "2023-04-09T04:26:01.290Z"
   },
   {
    "duration": 160,
    "start_time": "2023-04-09T04:26:05.154Z"
   },
   {
    "duration": 357,
    "start_time": "2023-04-09T04:26:05.316Z"
   },
   {
    "duration": 9,
    "start_time": "2023-04-09T04:26:05.674Z"
   },
   {
    "duration": 1269,
    "start_time": "2023-04-09T04:38:11.000Z"
   },
   {
    "duration": 804,
    "start_time": "2023-04-09T04:38:12.270Z"
   },
   {
    "duration": 12,
    "start_time": "2023-04-09T04:38:13.075Z"
   },
   {
    "duration": 24,
    "start_time": "2023-04-09T04:38:13.089Z"
   },
   {
    "duration": 224,
    "start_time": "2023-04-09T04:38:13.115Z"
   },
   {
    "duration": 10,
    "start_time": "2023-04-09T04:38:13.341Z"
   },
   {
    "duration": 10,
    "start_time": "2023-04-09T04:38:13.352Z"
   },
   {
    "duration": 11,
    "start_time": "2023-04-09T04:38:13.363Z"
   },
   {
    "duration": 2,
    "start_time": "2023-04-09T04:38:13.376Z"
   },
   {
    "duration": 3768,
    "start_time": "2023-04-09T04:38:13.380Z"
   },
   {
    "duration": 4,
    "start_time": "2023-04-09T04:38:17.149Z"
   },
   {
    "duration": 517,
    "start_time": "2023-04-09T04:38:17.155Z"
   },
   {
    "duration": 11,
    "start_time": "2023-04-09T04:38:17.673Z"
   },
   {
    "duration": 4,
    "start_time": "2023-04-09T04:40:34.697Z"
   },
   {
    "duration": 5,
    "start_time": "2023-04-09T04:44:35.703Z"
   },
   {
    "duration": 278,
    "start_time": "2023-04-09T04:44:49.889Z"
   },
   {
    "duration": 327,
    "start_time": "2023-04-09T04:47:43.476Z"
   },
   {
    "duration": 1253,
    "start_time": "2023-04-09T04:51:54.458Z"
   },
   {
    "duration": 865,
    "start_time": "2023-04-09T04:51:55.713Z"
   },
   {
    "duration": 14,
    "start_time": "2023-04-09T04:51:56.580Z"
   },
   {
    "duration": 39,
    "start_time": "2023-04-09T04:51:56.596Z"
   },
   {
    "duration": 225,
    "start_time": "2023-04-09T04:51:56.637Z"
   },
   {
    "duration": 12,
    "start_time": "2023-04-09T04:51:56.864Z"
   },
   {
    "duration": 11,
    "start_time": "2023-04-09T04:51:56.877Z"
   },
   {
    "duration": 9,
    "start_time": "2023-04-09T04:51:56.889Z"
   },
   {
    "duration": 3,
    "start_time": "2023-04-09T04:51:56.900Z"
   },
   {
    "duration": 3852,
    "start_time": "2023-04-09T04:51:56.906Z"
   },
   {
    "duration": 4,
    "start_time": "2023-04-09T04:52:00.760Z"
   },
   {
    "duration": 388,
    "start_time": "2023-04-09T04:52:00.765Z"
   },
   {
    "duration": 12,
    "start_time": "2023-04-09T04:52:01.155Z"
   },
   {
    "duration": 1042864,
    "start_time": "2023-04-09T04:52:34.081Z"
   },
   {
    "duration": 10,
    "start_time": "2023-04-09T05:10:02.359Z"
   },
   {
    "duration": 45,
    "start_time": "2023-04-09T05:10:59.295Z"
   },
   {
    "duration": 34,
    "start_time": "2023-04-09T05:11:12.460Z"
   },
   {
    "duration": 30,
    "start_time": "2023-04-09T05:14:32.832Z"
   },
   {
    "duration": 8,
    "start_time": "2023-04-09T05:21:08.843Z"
   },
   {
    "duration": 64,
    "start_time": "2023-04-09T05:26:45.720Z"
   },
   {
    "duration": 57,
    "start_time": "2023-04-09T05:27:16.343Z"
   },
   {
    "duration": 4,
    "start_time": "2023-04-09T05:28:26.014Z"
   },
   {
    "duration": 5,
    "start_time": "2023-04-09T05:30:17.906Z"
   },
   {
    "duration": 9,
    "start_time": "2023-04-09T05:30:26.572Z"
   },
   {
    "duration": 9,
    "start_time": "2023-04-09T05:33:12.511Z"
   },
   {
    "duration": 1678,
    "start_time": "2023-04-12T09:12:28.225Z"
   },
   {
    "duration": 3865,
    "start_time": "2023-04-12T09:12:29.906Z"
   },
   {
    "duration": 16,
    "start_time": "2023-04-12T09:12:33.773Z"
   },
   {
    "duration": 35,
    "start_time": "2023-04-12T09:12:33.792Z"
   },
   {
    "duration": 259,
    "start_time": "2023-04-12T09:12:33.829Z"
   },
   {
    "duration": 26,
    "start_time": "2023-04-12T09:12:34.089Z"
   },
   {
    "duration": 15,
    "start_time": "2023-04-12T09:12:34.119Z"
   },
   {
    "duration": 13,
    "start_time": "2023-04-12T09:12:34.136Z"
   },
   {
    "duration": 3,
    "start_time": "2023-04-12T09:12:34.151Z"
   },
   {
    "duration": 4909,
    "start_time": "2023-04-12T09:12:34.157Z"
   },
   {
    "duration": 4,
    "start_time": "2023-04-12T09:12:39.069Z"
   },
   {
    "duration": 113,
    "start_time": "2023-04-12T09:12:39.076Z"
   },
   {
    "duration": 0,
    "start_time": "2023-04-12T09:12:39.192Z"
   },
   {
    "duration": 0,
    "start_time": "2023-04-12T09:12:39.193Z"
   },
   {
    "duration": 0,
    "start_time": "2023-04-12T09:12:39.195Z"
   },
   {
    "duration": 0,
    "start_time": "2023-04-12T09:12:39.196Z"
   },
   {
    "duration": 0,
    "start_time": "2023-04-12T09:12:39.198Z"
   },
   {
    "duration": 795,
    "start_time": "2023-04-12T09:12:48.623Z"
   },
   {
    "duration": 3110,
    "start_time": "2023-04-12T09:14:30.507Z"
   },
   {
    "duration": 990,
    "start_time": "2023-04-12T09:14:45.746Z"
   },
   {
    "duration": 3302,
    "start_time": "2023-04-12T09:15:35.717Z"
   },
   {
    "duration": 463,
    "start_time": "2023-04-12T09:15:42.109Z"
   },
   {
    "duration": 4,
    "start_time": "2023-04-12T09:16:01.294Z"
   },
   {
    "duration": 829,
    "start_time": "2023-04-12T09:16:03.101Z"
   },
   {
    "duration": 13077,
    "start_time": "2023-04-12T09:16:27.686Z"
   },
   {
    "duration": 5,
    "start_time": "2023-04-12T09:16:40.766Z"
   },
   {
    "duration": 706,
    "start_time": "2023-04-12T09:16:40.773Z"
   },
   {
    "duration": 2595,
    "start_time": "2023-04-12T09:17:34.622Z"
   },
   {
    "duration": 110,
    "start_time": "2023-04-12T09:17:39.139Z"
   },
   {
    "duration": 8507,
    "start_time": "2023-04-12T09:17:41.965Z"
   },
   {
    "duration": 4,
    "start_time": "2023-04-12T09:17:56.431Z"
   },
   {
    "duration": 699,
    "start_time": "2023-04-12T09:18:02.739Z"
   },
   {
    "duration": 5,
    "start_time": "2023-04-12T09:18:58.953Z"
   },
   {
    "duration": 2650,
    "start_time": "2023-04-12T09:53:02.449Z"
   },
   {
    "duration": 8640,
    "start_time": "2023-04-12T09:53:05.101Z"
   },
   {
    "duration": 4562,
    "start_time": "2023-04-12T09:53:13.744Z"
   },
   {
    "duration": 1047,
    "start_time": "2023-04-12T09:53:18.311Z"
   },
   {
    "duration": 18,
    "start_time": "2023-04-12T09:53:19.360Z"
   },
   {
    "duration": 56,
    "start_time": "2023-04-12T09:53:19.380Z"
   },
   {
    "duration": 236,
    "start_time": "2023-04-12T09:53:19.438Z"
   },
   {
    "duration": 12,
    "start_time": "2023-04-12T09:53:19.677Z"
   },
   {
    "duration": 37,
    "start_time": "2023-04-12T09:53:19.691Z"
   },
   {
    "duration": 27,
    "start_time": "2023-04-12T09:53:19.731Z"
   },
   {
    "duration": 14,
    "start_time": "2023-04-12T09:53:19.760Z"
   },
   {
    "duration": 4689,
    "start_time": "2023-04-12T09:53:19.776Z"
   },
   {
    "duration": 5,
    "start_time": "2023-04-12T09:53:24.467Z"
   },
   {
    "duration": 2608,
    "start_time": "2023-04-12T09:54:02.384Z"
   },
   {
    "duration": 8289,
    "start_time": "2023-04-12T09:54:04.995Z"
   },
   {
    "duration": 4543,
    "start_time": "2023-04-12T09:54:13.287Z"
   },
   {
    "duration": 898,
    "start_time": "2023-04-12T09:54:17.832Z"
   },
   {
    "duration": 18,
    "start_time": "2023-04-12T09:54:18.732Z"
   },
   {
    "duration": 41,
    "start_time": "2023-04-12T09:54:18.752Z"
   },
   {
    "duration": 286,
    "start_time": "2023-04-12T09:54:18.795Z"
   },
   {
    "duration": 16,
    "start_time": "2023-04-12T09:54:19.083Z"
   },
   {
    "duration": 19,
    "start_time": "2023-04-12T09:54:19.114Z"
   },
   {
    "duration": 32,
    "start_time": "2023-04-12T09:54:19.139Z"
   },
   {
    "duration": 25,
    "start_time": "2023-04-12T09:54:19.173Z"
   },
   {
    "duration": 5097,
    "start_time": "2023-04-12T09:54:19.200Z"
   },
   {
    "duration": 4,
    "start_time": "2023-04-12T09:54:24.299Z"
   },
   {
    "duration": 962,
    "start_time": "2023-04-12T09:54:24.313Z"
   },
   {
    "duration": 6,
    "start_time": "2023-04-12T09:54:25.276Z"
   },
   {
    "duration": 14,
    "start_time": "2023-04-12T09:54:25.284Z"
   },
   {
    "duration": 70,
    "start_time": "2023-04-12T09:54:25.301Z"
   },
   {
    "duration": 16,
    "start_time": "2023-04-12T09:54:25.372Z"
   },
   {
    "duration": 57,
    "start_time": "2023-04-12T09:54:25.390Z"
   },
   {
    "duration": 4,
    "start_time": "2023-04-12T09:54:45.499Z"
   },
   {
    "duration": 454,
    "start_time": "2023-04-12T09:54:46.829Z"
   },
   {
    "duration": 4,
    "start_time": "2023-04-12T09:56:25.846Z"
   },
   {
    "duration": 2557,
    "start_time": "2023-04-12T10:03:54.840Z"
   },
   {
    "duration": 8824,
    "start_time": "2023-04-12T10:03:57.399Z"
   },
   {
    "duration": 4358,
    "start_time": "2023-04-12T10:04:06.225Z"
   },
   {
    "duration": 877,
    "start_time": "2023-04-12T10:04:10.584Z"
   },
   {
    "duration": 15,
    "start_time": "2023-04-12T10:04:11.463Z"
   },
   {
    "duration": 45,
    "start_time": "2023-04-12T10:04:11.480Z"
   },
   {
    "duration": 249,
    "start_time": "2023-04-12T10:04:11.527Z"
   },
   {
    "duration": 12,
    "start_time": "2023-04-12T10:04:11.777Z"
   },
   {
    "duration": 30,
    "start_time": "2023-04-12T10:04:11.791Z"
   },
   {
    "duration": 10,
    "start_time": "2023-04-12T10:04:11.823Z"
   },
   {
    "duration": 5,
    "start_time": "2023-04-12T10:04:11.835Z"
   },
   {
    "duration": 4582,
    "start_time": "2023-04-12T10:04:11.841Z"
   },
   {
    "duration": 3,
    "start_time": "2023-04-12T10:04:16.426Z"
   },
   {
    "duration": 787,
    "start_time": "2023-04-12T10:04:16.432Z"
   },
   {
    "duration": 4,
    "start_time": "2023-04-12T10:04:17.224Z"
   },
   {
    "duration": 10,
    "start_time": "2023-04-12T10:04:17.230Z"
   },
   {
    "duration": 50,
    "start_time": "2023-04-12T10:04:17.241Z"
   },
   {
    "duration": 8,
    "start_time": "2023-04-12T10:04:17.293Z"
   },
   {
    "duration": 30,
    "start_time": "2023-04-12T10:04:17.303Z"
   },
   {
    "duration": 2721,
    "start_time": "2023-04-12T10:05:02.641Z"
   },
   {
    "duration": 9307,
    "start_time": "2023-04-12T10:05:05.365Z"
   },
   {
    "duration": 4631,
    "start_time": "2023-04-12T10:05:14.674Z"
   },
   {
    "duration": 942,
    "start_time": "2023-04-12T10:05:19.308Z"
   },
   {
    "duration": 14,
    "start_time": "2023-04-12T10:05:20.253Z"
   },
   {
    "duration": 54,
    "start_time": "2023-04-12T10:05:20.269Z"
   },
   {
    "duration": 250,
    "start_time": "2023-04-12T10:05:20.326Z"
   },
   {
    "duration": 14,
    "start_time": "2023-04-12T10:05:20.578Z"
   },
   {
    "duration": 35,
    "start_time": "2023-04-12T10:05:20.594Z"
   },
   {
    "duration": 19,
    "start_time": "2023-04-12T10:05:20.631Z"
   },
   {
    "duration": 25,
    "start_time": "2023-04-12T10:05:20.652Z"
   },
   {
    "duration": 4868,
    "start_time": "2023-04-12T10:05:20.683Z"
   },
   {
    "duration": 5,
    "start_time": "2023-04-12T10:05:25.553Z"
   },
   {
    "duration": 4397,
    "start_time": "2023-04-12T10:07:29.929Z"
   },
   {
    "duration": 845,
    "start_time": "2023-04-12T10:07:34.328Z"
   },
   {
    "duration": 15,
    "start_time": "2023-04-12T10:07:35.174Z"
   },
   {
    "duration": 45,
    "start_time": "2023-04-12T10:07:35.191Z"
   },
   {
    "duration": 244,
    "start_time": "2023-04-12T10:07:35.238Z"
   },
   {
    "duration": 11,
    "start_time": "2023-04-12T10:07:35.484Z"
   },
   {
    "duration": 33,
    "start_time": "2023-04-12T10:07:35.496Z"
   },
   {
    "duration": 13,
    "start_time": "2023-04-12T10:07:35.531Z"
   },
   {
    "duration": 25,
    "start_time": "2023-04-12T10:07:35.546Z"
   },
   {
    "duration": 4647,
    "start_time": "2023-04-12T10:07:35.574Z"
   },
   {
    "duration": 8,
    "start_time": "2023-04-12T10:07:40.222Z"
   },
   {
    "duration": 1510,
    "start_time": "2023-04-12T10:07:40.232Z"
   },
   {
    "duration": 54,
    "start_time": "2023-04-12T10:07:41.744Z"
   },
   {
    "duration": 11,
    "start_time": "2023-04-12T10:07:41.801Z"
   },
   {
    "duration": 33,
    "start_time": "2023-04-12T10:07:41.814Z"
   },
   {
    "duration": 4267,
    "start_time": "2023-04-12T10:08:32.159Z"
   },
   {
    "duration": 833,
    "start_time": "2023-04-12T10:08:36.428Z"
   },
   {
    "duration": 14,
    "start_time": "2023-04-12T10:08:37.263Z"
   },
   {
    "duration": 47,
    "start_time": "2023-04-12T10:08:37.279Z"
   },
   {
    "duration": 231,
    "start_time": "2023-04-12T10:08:37.328Z"
   },
   {
    "duration": 11,
    "start_time": "2023-04-12T10:08:37.560Z"
   },
   {
    "duration": 10,
    "start_time": "2023-04-12T10:08:37.573Z"
   },
   {
    "duration": 10,
    "start_time": "2023-04-12T10:08:37.584Z"
   },
   {
    "duration": 3,
    "start_time": "2023-04-12T10:08:37.624Z"
   },
   {
    "duration": 4739,
    "start_time": "2023-04-12T10:08:37.629Z"
   },
   {
    "duration": 4,
    "start_time": "2023-04-12T10:08:42.370Z"
   },
   {
    "duration": 4571,
    "start_time": "2023-04-12T10:27:41.577Z"
   },
   {
    "duration": 956,
    "start_time": "2023-04-12T10:27:46.150Z"
   },
   {
    "duration": 32,
    "start_time": "2023-04-12T10:27:47.107Z"
   },
   {
    "duration": 30,
    "start_time": "2023-04-12T10:27:47.141Z"
   },
   {
    "duration": 286,
    "start_time": "2023-04-12T10:27:47.173Z"
   },
   {
    "duration": 12,
    "start_time": "2023-04-12T10:27:47.462Z"
   },
   {
    "duration": 12,
    "start_time": "2023-04-12T10:27:47.476Z"
   },
   {
    "duration": 20,
    "start_time": "2023-04-12T10:27:47.511Z"
   },
   {
    "duration": 3,
    "start_time": "2023-04-12T10:27:47.540Z"
   },
   {
    "duration": 5145,
    "start_time": "2023-04-12T10:27:47.545Z"
   },
   {
    "duration": 4,
    "start_time": "2023-04-12T10:27:52.692Z"
   },
   {
    "duration": 1322368,
    "start_time": "2023-04-12T10:27:52.698Z"
   },
   {
    "duration": 65,
    "start_time": "2023-04-12T10:49:55.069Z"
   },
   {
    "duration": 10,
    "start_time": "2023-04-12T10:49:55.136Z"
   },
   {
    "duration": 401,
    "start_time": "2023-04-12T10:49:55.148Z"
   },
   {
    "duration": 4,
    "start_time": "2023-04-12T10:52:04.155Z"
   },
   {
    "duration": 7,
    "start_time": "2023-04-12T11:39:43.271Z"
   },
   {
    "duration": 4,
    "start_time": "2023-04-12T11:43:30.480Z"
   },
   {
    "duration": 19,
    "start_time": "2023-04-12T11:48:18.755Z"
   },
   {
    "duration": 141,
    "start_time": "2023-04-12T11:48:43.915Z"
   },
   {
    "duration": 4,
    "start_time": "2023-04-12T11:48:52.415Z"
   },
   {
    "duration": 4,
    "start_time": "2023-04-12T11:48:57.846Z"
   },
   {
    "duration": 15,
    "start_time": "2023-04-12T11:50:58.508Z"
   },
   {
    "duration": 8,
    "start_time": "2023-04-12T11:51:14.325Z"
   },
   {
    "duration": 5,
    "start_time": "2023-04-12T11:51:20.665Z"
   },
   {
    "duration": 7,
    "start_time": "2023-04-12T11:53:18.564Z"
   },
   {
    "duration": 4,
    "start_time": "2023-04-12T11:53:19.964Z"
   },
   {
    "duration": 3,
    "start_time": "2023-04-12T11:56:12.859Z"
   },
   {
    "duration": 5,
    "start_time": "2023-04-12T11:56:28.362Z"
   },
   {
    "duration": 5,
    "start_time": "2023-04-12T11:57:04.234Z"
   },
   {
    "duration": 8,
    "start_time": "2023-04-12T11:57:54.906Z"
   },
   {
    "duration": 5,
    "start_time": "2023-04-12T11:58:01.307Z"
   },
   {
    "duration": 7,
    "start_time": "2023-04-12T11:59:31.231Z"
   },
   {
    "duration": 3,
    "start_time": "2023-04-12T11:59:32.391Z"
   },
   {
    "duration": 4,
    "start_time": "2023-04-12T11:59:37.115Z"
   },
   {
    "duration": 7,
    "start_time": "2023-04-12T11:59:40.623Z"
   },
   {
    "duration": 3,
    "start_time": "2023-04-12T11:59:41.363Z"
   },
   {
    "duration": 9,
    "start_time": "2023-04-12T12:03:31.547Z"
   },
   {
    "duration": 9,
    "start_time": "2023-04-12T12:04:04.697Z"
   },
   {
    "duration": 12480,
    "start_time": "2023-04-12T12:05:25.498Z"
   },
   {
    "duration": 5,
    "start_time": "2023-04-12T12:06:11.830Z"
   },
   {
    "duration": 4,
    "start_time": "2023-04-12T12:06:20.626Z"
   },
   {
    "duration": 37629,
    "start_time": "2023-04-12T12:09:38.999Z"
   },
   {
    "duration": 0,
    "start_time": "2023-04-12T12:11:40.329Z"
   },
   {
    "duration": 38360,
    "start_time": "2023-04-12T12:12:08.043Z"
   },
   {
    "duration": 37273,
    "start_time": "2023-04-12T12:13:29.909Z"
   },
   {
    "duration": 27,
    "start_time": "2023-04-12T12:14:49.098Z"
   },
   {
    "duration": 12951,
    "start_time": "2023-04-12T12:15:00.484Z"
   },
   {
    "duration": 22,
    "start_time": "2023-04-12T12:15:15.599Z"
   },
   {
    "duration": 4,
    "start_time": "2023-04-12T12:15:20.905Z"
   },
   {
    "duration": 5,
    "start_time": "2023-04-12T12:15:31.861Z"
   },
   {
    "duration": 17369,
    "start_time": "2023-04-12T12:16:21.277Z"
   },
   {
    "duration": 5,
    "start_time": "2023-04-12T12:16:40.339Z"
   },
   {
    "duration": 35889,
    "start_time": "2023-04-12T12:16:44.625Z"
   },
   {
    "duration": 126,
    "start_time": "2023-04-12T12:30:22.507Z"
   },
   {
    "duration": 110,
    "start_time": "2023-04-12T12:30:43.949Z"
   },
   {
    "duration": 529770,
    "start_time": "2023-04-12T12:31:39.661Z"
   },
   {
    "duration": 28,
    "start_time": "2023-04-12T12:41:26.552Z"
   },
   {
    "duration": 12,
    "start_time": "2023-04-12T12:41:44.940Z"
   },
   {
    "duration": 7456,
    "start_time": "2023-04-12T12:42:03.947Z"
   },
   {
    "duration": 140,
    "start_time": "2023-04-12T12:52:49.232Z"
   },
   {
    "duration": 24,
    "start_time": "2023-04-12T12:53:12.109Z"
   },
   {
    "duration": 127,
    "start_time": "2023-04-12T12:53:15.381Z"
   },
   {
    "duration": 159,
    "start_time": "2023-04-12T12:53:38.886Z"
   },
   {
    "duration": 154,
    "start_time": "2023-04-12T12:54:21.753Z"
   },
   {
    "duration": 140,
    "start_time": "2023-04-12T12:54:36.002Z"
   },
   {
    "duration": 183,
    "start_time": "2023-04-12T12:54:59.656Z"
   },
   {
    "duration": 117,
    "start_time": "2023-04-12T12:55:09.663Z"
   },
   {
    "duration": 36,
    "start_time": "2023-04-12T12:56:00.998Z"
   },
   {
    "duration": 13,
    "start_time": "2023-04-12T12:56:14.134Z"
   },
   {
    "duration": 130,
    "start_time": "2023-04-12T12:56:21.336Z"
   },
   {
    "duration": 188,
    "start_time": "2023-04-12T12:56:46.295Z"
   },
   {
    "duration": 32,
    "start_time": "2023-04-12T13:00:07.938Z"
   },
   {
    "duration": 40,
    "start_time": "2023-04-12T13:00:37.236Z"
   },
   {
    "duration": 42,
    "start_time": "2023-04-12T13:01:02.109Z"
   },
   {
    "duration": 4420,
    "start_time": "2023-04-12T13:18:47.834Z"
   },
   {
    "duration": 906,
    "start_time": "2023-04-12T13:18:52.256Z"
   },
   {
    "duration": 15,
    "start_time": "2023-04-12T13:18:53.164Z"
   },
   {
    "duration": 52,
    "start_time": "2023-04-12T13:18:53.181Z"
   },
   {
    "duration": 250,
    "start_time": "2023-04-12T13:18:53.235Z"
   },
   {
    "duration": 12,
    "start_time": "2023-04-12T13:18:53.487Z"
   },
   {
    "duration": 14,
    "start_time": "2023-04-12T13:18:53.517Z"
   },
   {
    "duration": 9,
    "start_time": "2023-04-12T13:18:53.535Z"
   },
   {
    "duration": 3,
    "start_time": "2023-04-12T13:18:53.546Z"
   },
   {
    "duration": 4605,
    "start_time": "2023-04-12T13:18:53.553Z"
   },
   {
    "duration": 6,
    "start_time": "2023-04-12T13:18:58.160Z"
   },
   {
    "duration": 1305540,
    "start_time": "2023-04-12T13:18:58.168Z"
   },
   {
    "duration": 57,
    "start_time": "2023-04-12T13:40:43.712Z"
   },
   {
    "duration": 3,
    "start_time": "2023-04-12T13:40:43.771Z"
   },
   {
    "duration": 9,
    "start_time": "2023-04-12T13:40:43.776Z"
   },
   {
    "duration": 17116,
    "start_time": "2023-04-12T13:40:43.787Z"
   },
   {
    "duration": 19,
    "start_time": "2023-04-12T13:41:00.905Z"
   },
   {
    "duration": 37387,
    "start_time": "2023-04-12T13:41:00.926Z"
   },
   {
    "duration": 513410,
    "start_time": "2023-04-12T13:41:38.315Z"
   },
   {
    "duration": 14,
    "start_time": "2023-04-12T13:50:11.727Z"
   },
   {
    "duration": 5946,
    "start_time": "2023-04-12T13:50:11.749Z"
   },
   {
    "duration": 4396,
    "start_time": "2023-04-12T13:57:18.255Z"
   },
   {
    "duration": 933,
    "start_time": "2023-04-12T13:57:22.653Z"
   },
   {
    "duration": 34,
    "start_time": "2023-04-12T13:57:23.588Z"
   },
   {
    "duration": 34,
    "start_time": "2023-04-12T13:57:23.625Z"
   },
   {
    "duration": 268,
    "start_time": "2023-04-12T13:57:23.661Z"
   },
   {
    "duration": 15,
    "start_time": "2023-04-12T13:57:23.940Z"
   },
   {
    "duration": 15,
    "start_time": "2023-04-12T13:57:23.958Z"
   },
   {
    "duration": 25,
    "start_time": "2023-04-12T13:57:23.975Z"
   },
   {
    "duration": 3,
    "start_time": "2023-04-12T13:57:24.002Z"
   },
   {
    "duration": 4687,
    "start_time": "2023-04-12T13:57:24.008Z"
   },
   {
    "duration": 4,
    "start_time": "2023-04-12T13:57:28.698Z"
   },
   {
    "duration": 1297898,
    "start_time": "2023-04-12T13:57:28.704Z"
   },
   {
    "duration": 73,
    "start_time": "2023-04-12T14:19:06.611Z"
   },
   {
    "duration": 4,
    "start_time": "2023-04-12T14:19:06.686Z"
   },
   {
    "duration": 18016,
    "start_time": "2023-04-12T14:19:06.692Z"
   },
   {
    "duration": 14,
    "start_time": "2023-04-12T14:19:24.720Z"
   },
   {
    "duration": 39915,
    "start_time": "2023-04-12T14:19:24.736Z"
   },
   {
    "duration": 554607,
    "start_time": "2023-04-12T14:20:04.712Z"
   },
   {
    "duration": 8,
    "start_time": "2023-04-12T14:29:19.322Z"
   },
   {
    "duration": 5735,
    "start_time": "2023-04-12T14:29:19.332Z"
   },
   {
    "duration": 6268,
    "start_time": "2023-04-12T14:29:25.069Z"
   },
   {
    "duration": 3,
    "start_time": "2023-04-12T14:29:31.340Z"
   },
   {
    "duration": 4577,
    "start_time": "2023-04-12T14:30:27.400Z"
   },
   {
    "duration": 162,
    "start_time": "2023-04-12T14:58:46.085Z"
   },
   {
    "duration": 4367,
    "start_time": "2023-04-12T14:58:54.391Z"
   },
   {
    "duration": 858,
    "start_time": "2023-04-12T14:58:58.760Z"
   },
   {
    "duration": 19,
    "start_time": "2023-04-12T14:58:59.620Z"
   },
   {
    "duration": 30,
    "start_time": "2023-04-12T14:58:59.643Z"
   },
   {
    "duration": 268,
    "start_time": "2023-04-12T14:58:59.675Z"
   },
   {
    "duration": 12,
    "start_time": "2023-04-12T14:58:59.945Z"
   },
   {
    "duration": 12,
    "start_time": "2023-04-12T14:58:59.958Z"
   },
   {
    "duration": 10,
    "start_time": "2023-04-12T14:58:59.971Z"
   },
   {
    "duration": 3,
    "start_time": "2023-04-12T14:58:59.982Z"
   },
   {
    "duration": 4834,
    "start_time": "2023-04-12T14:58:59.987Z"
   },
   {
    "duration": 10,
    "start_time": "2023-04-12T14:59:04.830Z"
   },
   {
    "duration": 1358821,
    "start_time": "2023-04-12T14:59:04.843Z"
   },
   {
    "duration": 76,
    "start_time": "2023-04-12T15:21:43.666Z"
   },
   {
    "duration": 7,
    "start_time": "2023-04-12T15:21:43.743Z"
   },
   {
    "duration": 18707,
    "start_time": "2023-04-12T15:21:43.754Z"
   },
   {
    "duration": 4,
    "start_time": "2023-04-12T15:22:02.463Z"
   },
   {
    "duration": 43946,
    "start_time": "2023-04-12T15:22:02.468Z"
   },
   {
    "duration": 885843,
    "start_time": "2023-04-12T15:22:46.416Z"
   },
   {
    "duration": 4,
    "start_time": "2023-04-12T15:37:32.261Z"
   },
   {
    "duration": 6034,
    "start_time": "2023-04-12T15:37:32.267Z"
   },
   {
    "duration": 6466,
    "start_time": "2023-04-12T15:37:38.303Z"
   },
   {
    "duration": 2,
    "start_time": "2023-04-12T15:37:44.771Z"
   },
   {
    "duration": 12328,
    "start_time": "2023-04-12T15:38:17.649Z"
   },
   {
    "duration": 12929,
    "start_time": "2023-04-12T15:38:50.748Z"
   },
   {
    "duration": 13516,
    "start_time": "2023-04-12T15:39:40.916Z"
   },
   {
    "duration": 1413394,
    "start_time": "2023-04-12T15:40:06.950Z"
   },
   {
    "duration": 551,
    "start_time": "2023-04-12T16:20:06.233Z"
   },
   {
    "duration": 1351771,
    "start_time": "2023-04-12T16:20:23.182Z"
   },
   {
    "duration": 542,
    "start_time": "2023-04-12T16:53:46.184Z"
   },
   {
    "duration": 4,
    "start_time": "2023-04-12T16:57:21.777Z"
   },
   {
    "duration": 48,
    "start_time": "2023-04-12T19:47:25.596Z"
   },
   {
    "duration": 3,
    "start_time": "2023-04-12T20:02:26.817Z"
   },
   {
    "duration": 5299,
    "start_time": "2023-04-12T20:08:11.618Z"
   },
   {
    "duration": 2358,
    "start_time": "2023-04-12T20:08:16.919Z"
   },
   {
    "duration": 15,
    "start_time": "2023-04-12T20:08:19.279Z"
   },
   {
    "duration": 47,
    "start_time": "2023-04-12T20:08:19.296Z"
   },
   {
    "duration": 263,
    "start_time": "2023-04-12T20:08:19.345Z"
   },
   {
    "duration": 13,
    "start_time": "2023-04-12T20:08:19.609Z"
   },
   {
    "duration": 25,
    "start_time": "2023-04-12T20:08:19.624Z"
   },
   {
    "duration": 15,
    "start_time": "2023-04-12T20:08:19.651Z"
   },
   {
    "duration": 7,
    "start_time": "2023-04-12T20:08:19.668Z"
   },
   {
    "duration": 3992,
    "start_time": "2023-04-12T20:08:19.678Z"
   },
   {
    "duration": 7,
    "start_time": "2023-04-12T20:08:23.673Z"
   },
   {
    "duration": 1335345,
    "start_time": "2023-04-12T20:08:23.682Z"
   },
   {
    "duration": 84,
    "start_time": "2023-04-12T20:30:39.030Z"
   },
   {
    "duration": 4,
    "start_time": "2023-04-12T20:30:39.116Z"
   },
   {
    "duration": 55,
    "start_time": "2023-04-12T20:30:39.122Z"
   },
   {
    "duration": 10607,
    "start_time": "2023-04-12T20:30:39.180Z"
   },
   {
    "duration": 4,
    "start_time": "2023-04-12T20:30:49.789Z"
   },
   {
    "duration": 731,
    "start_time": "2023-04-12T20:30:49.795Z"
   },
   {
    "duration": 2,
    "start_time": "2023-04-12T20:30:50.528Z"
   },
   {
    "duration": 39,
    "start_time": "2023-04-12T20:30:50.532Z"
   },
   {
    "duration": 7,
    "start_time": "2023-04-12T20:30:50.573Z"
   },
   {
    "duration": 18,
    "start_time": "2023-04-12T20:30:50.581Z"
   },
   {
    "duration": 1406137,
    "start_time": "2023-04-12T20:30:50.601Z"
   },
   {
    "duration": 652,
    "start_time": "2023-04-12T20:54:16.742Z"
   },
   {
    "duration": 411,
    "start_time": "2023-04-12T20:54:17.397Z"
   },
   {
    "duration": 5,
    "start_time": "2023-04-12T20:54:42.853Z"
   },
   {
    "duration": 6,
    "start_time": "2023-04-12T20:58:19.375Z"
   },
   {
    "duration": 296,
    "start_time": "2023-04-12T21:00:04.525Z"
   },
   {
    "duration": 13,
    "start_time": "2023-04-12T21:00:40.850Z"
   },
   {
    "duration": 7,
    "start_time": "2023-04-12T21:01:00.838Z"
   },
   {
    "duration": 243,
    "start_time": "2023-04-12T21:01:32.972Z"
   },
   {
    "duration": 590,
    "start_time": "2023-04-12T21:02:57.418Z"
   },
   {
    "duration": 66,
    "start_time": "2023-04-12T21:03:36.412Z"
   },
   {
    "duration": 5,
    "start_time": "2023-04-12T21:03:40.061Z"
   },
   {
    "duration": 285,
    "start_time": "2023-04-12T21:03:48.905Z"
   },
   {
    "duration": 261,
    "start_time": "2023-04-12T21:05:23.094Z"
   },
   {
    "duration": 7,
    "start_time": "2023-04-12T21:05:49.313Z"
   },
   {
    "duration": 264,
    "start_time": "2023-04-12T21:06:03.630Z"
   },
   {
    "duration": 409,
    "start_time": "2023-04-12T21:07:59.171Z"
   },
   {
    "duration": 5150,
    "start_time": "2023-04-12T21:10:10.935Z"
   },
   {
    "duration": 73,
    "start_time": "2023-04-12T21:10:31.196Z"
   },
   {
    "duration": 5,
    "start_time": "2023-04-12T21:10:35.385Z"
   },
   {
    "duration": 432,
    "start_time": "2023-04-12T21:11:00.674Z"
   },
   {
    "duration": 328,
    "start_time": "2023-04-12T21:11:15.060Z"
   },
   {
    "duration": 305,
    "start_time": "2023-04-12T21:11:21.731Z"
   },
   {
    "duration": 4048,
    "start_time": "2023-04-13T10:04:54.121Z"
   },
   {
    "duration": 3093,
    "start_time": "2023-04-13T10:04:58.172Z"
   },
   {
    "duration": 16,
    "start_time": "2023-04-13T10:05:01.267Z"
   },
   {
    "duration": 41,
    "start_time": "2023-04-13T10:05:01.285Z"
   },
   {
    "duration": 251,
    "start_time": "2023-04-13T10:05:01.328Z"
   },
   {
    "duration": 16,
    "start_time": "2023-04-13T10:05:01.581Z"
   },
   {
    "duration": 31,
    "start_time": "2023-04-13T10:05:01.598Z"
   },
   {
    "duration": 31,
    "start_time": "2023-04-13T10:05:01.631Z"
   },
   {
    "duration": 15,
    "start_time": "2023-04-13T10:05:01.663Z"
   },
   {
    "duration": 4325,
    "start_time": "2023-04-13T10:05:01.680Z"
   },
   {
    "duration": 5,
    "start_time": "2023-04-13T10:05:06.007Z"
   },
   {
    "duration": 1191801,
    "start_time": "2023-04-13T10:05:06.013Z"
   },
   {
    "duration": 54,
    "start_time": "2023-04-13T10:24:57.817Z"
   },
   {
    "duration": 4,
    "start_time": "2023-04-13T10:24:57.874Z"
   },
   {
    "duration": 7,
    "start_time": "2023-04-13T10:24:57.894Z"
   },
   {
    "duration": 25,
    "start_time": "2023-04-13T10:24:57.902Z"
   },
   {
    "duration": 9784,
    "start_time": "2023-04-13T10:24:57.929Z"
   },
   {
    "duration": 5,
    "start_time": "2023-04-13T10:25:07.715Z"
   },
   {
    "duration": 665,
    "start_time": "2023-04-13T10:25:07.722Z"
   },
   {
    "duration": 3,
    "start_time": "2023-04-13T10:25:08.388Z"
   },
   {
    "duration": 11,
    "start_time": "2023-04-13T10:25:08.393Z"
   },
   {
    "duration": 7,
    "start_time": "2023-04-13T10:25:08.406Z"
   },
   {
    "duration": 4,
    "start_time": "2023-04-13T10:25:08.414Z"
   },
   {
    "duration": 1248114,
    "start_time": "2023-04-13T10:25:08.421Z"
   },
   {
    "duration": 476,
    "start_time": "2023-04-13T10:45:56.539Z"
   },
   {
    "duration": 355,
    "start_time": "2023-04-13T10:51:52.614Z"
   },
   {
    "duration": 343,
    "start_time": "2023-04-13T10:52:18.950Z"
   },
   {
    "duration": 30,
    "start_time": "2023-04-13T10:54:03.504Z"
   },
   {
    "duration": 3,
    "start_time": "2023-04-13T10:54:23.104Z"
   },
   {
    "duration": 4,
    "start_time": "2023-04-13T10:54:29.703Z"
   },
   {
    "duration": 52,
    "start_time": "2023-04-13T10:54:40.645Z"
   },
   {
    "duration": 4,
    "start_time": "2023-04-13T10:54:43.809Z"
   },
   {
    "duration": 355,
    "start_time": "2023-04-13T10:54:48.514Z"
   },
   {
    "duration": 13,
    "start_time": "2023-04-13T10:55:36.360Z"
   },
   {
    "duration": 5,
    "start_time": "2023-04-13T10:55:41.310Z"
   },
   {
    "duration": 5,
    "start_time": "2023-04-13T10:55:59.253Z"
   },
   {
    "duration": 129,
    "start_time": "2023-04-13T10:56:27.507Z"
   },
   {
    "duration": 331,
    "start_time": "2023-04-13T10:56:34.987Z"
   },
   {
    "duration": 346,
    "start_time": "2023-04-13T10:56:42.999Z"
   },
   {
    "duration": 105,
    "start_time": "2023-04-13T10:56:49.894Z"
   },
   {
    "duration": 347,
    "start_time": "2023-04-13T10:57:02.827Z"
   },
   {
    "duration": 1383,
    "start_time": "2023-04-13T10:57:14.094Z"
   },
   {
    "duration": 1330,
    "start_time": "2023-04-13T10:57:21.818Z"
   },
   {
    "duration": 362,
    "start_time": "2023-04-13T10:57:58.095Z"
   },
   {
    "duration": 330,
    "start_time": "2023-04-13T10:58:09.901Z"
   },
   {
    "duration": 142,
    "start_time": "2023-04-13T10:58:58.004Z"
   },
   {
    "duration": 112,
    "start_time": "2023-04-13T10:59:28.749Z"
   },
   {
    "duration": 1052,
    "start_time": "2023-04-13T11:00:38.324Z"
   },
   {
    "duration": 850,
    "start_time": "2023-04-13T11:00:55.894Z"
   },
   {
    "duration": 823,
    "start_time": "2023-04-13T11:01:19.601Z"
   },
   {
    "duration": 6,
    "start_time": "2023-04-13T11:01:25.611Z"
   },
   {
    "duration": 949,
    "start_time": "2023-04-13T11:01:50.994Z"
   },
   {
    "duration": 4274,
    "start_time": "2023-04-13T11:13:11.097Z"
   },
   {
    "duration": 791,
    "start_time": "2023-04-13T11:13:15.373Z"
   },
   {
    "duration": 18,
    "start_time": "2023-04-13T11:13:16.166Z"
   },
   {
    "duration": 30,
    "start_time": "2023-04-13T11:13:16.193Z"
   },
   {
    "duration": 262,
    "start_time": "2023-04-13T11:13:16.226Z"
   },
   {
    "duration": 13,
    "start_time": "2023-04-13T11:13:16.492Z"
   },
   {
    "duration": 11,
    "start_time": "2023-04-13T11:13:16.507Z"
   },
   {
    "duration": 11,
    "start_time": "2023-04-13T11:13:16.519Z"
   },
   {
    "duration": 3,
    "start_time": "2023-04-13T11:13:16.532Z"
   },
   {
    "duration": 4258,
    "start_time": "2023-04-13T11:13:16.537Z"
   },
   {
    "duration": 5,
    "start_time": "2023-04-13T11:13:20.797Z"
   },
   {
    "duration": 1168965,
    "start_time": "2023-04-13T11:13:20.804Z"
   },
   {
    "duration": 58,
    "start_time": "2023-04-13T11:32:49.772Z"
   },
   {
    "duration": 4,
    "start_time": "2023-04-13T11:32:49.832Z"
   },
   {
    "duration": 4,
    "start_time": "2023-04-13T11:32:49.838Z"
   },
   {
    "duration": 15,
    "start_time": "2023-04-13T11:32:49.843Z"
   },
   {
    "duration": 7,
    "start_time": "2023-04-13T11:32:49.860Z"
   },
   {
    "duration": 365,
    "start_time": "2023-04-13T11:32:49.869Z"
   },
   {
    "duration": 0,
    "start_time": "2023-04-13T11:32:50.236Z"
   },
   {
    "duration": 0,
    "start_time": "2023-04-13T11:32:50.237Z"
   },
   {
    "duration": 0,
    "start_time": "2023-04-13T11:32:50.238Z"
   },
   {
    "duration": 0,
    "start_time": "2023-04-13T11:32:50.239Z"
   },
   {
    "duration": 0,
    "start_time": "2023-04-13T11:32:50.241Z"
   },
   {
    "duration": 0,
    "start_time": "2023-04-13T11:32:50.242Z"
   },
   {
    "duration": 0,
    "start_time": "2023-04-13T11:32:50.244Z"
   },
   {
    "duration": 0,
    "start_time": "2023-04-13T11:32:50.245Z"
   },
   {
    "duration": 5,
    "start_time": "2023-04-13T11:33:16.670Z"
   },
   {
    "duration": 1004,
    "start_time": "2023-04-13T11:33:18.432Z"
   },
   {
    "duration": 32,
    "start_time": "2023-04-13T11:37:12.833Z"
   },
   {
    "duration": 410046,
    "start_time": "2023-04-13T11:37:47.932Z"
   },
   {
    "duration": 4837,
    "start_time": "2023-04-13T11:45:11.971Z"
   },
   {
    "duration": 2,
    "start_time": "2023-04-13T11:46:21.655Z"
   },
   {
    "duration": 10575,
    "start_time": "2023-04-13T11:49:07.415Z"
   },
   {
    "duration": 5,
    "start_time": "2023-04-13T11:49:17.994Z"
   },
   {
    "duration": 34817,
    "start_time": "2023-04-13T11:49:18.001Z"
   },
   {
    "duration": 793847,
    "start_time": "2023-04-13T11:49:52.821Z"
   },
   {
    "duration": 5,
    "start_time": "2023-04-13T12:03:06.669Z"
   },
   {
    "duration": 11,
    "start_time": "2023-04-13T12:03:06.676Z"
   },
   {
    "duration": 11723,
    "start_time": "2023-04-13T12:03:06.699Z"
   },
   {
    "duration": 11750,
    "start_time": "2023-04-13T12:03:59.561Z"
   },
   {
    "duration": 13646,
    "start_time": "2023-04-13T12:05:22.485Z"
   },
   {
    "duration": 13549,
    "start_time": "2023-04-13T12:05:58.164Z"
   },
   {
    "duration": 14020,
    "start_time": "2023-04-13T12:06:30.690Z"
   },
   {
    "duration": 5338,
    "start_time": "2023-04-13T15:35:39.404Z"
   },
   {
    "duration": 3340,
    "start_time": "2023-04-13T15:35:44.745Z"
   },
   {
    "duration": 16,
    "start_time": "2023-04-13T15:35:48.088Z"
   },
   {
    "duration": 28,
    "start_time": "2023-04-13T15:35:48.107Z"
   },
   {
    "duration": 259,
    "start_time": "2023-04-13T15:35:48.137Z"
   },
   {
    "duration": 12,
    "start_time": "2023-04-13T15:35:48.397Z"
   },
   {
    "duration": 11,
    "start_time": "2023-04-13T15:35:48.411Z"
   },
   {
    "duration": 16,
    "start_time": "2023-04-13T15:35:48.423Z"
   },
   {
    "duration": 5,
    "start_time": "2023-04-13T15:35:48.441Z"
   },
   {
    "duration": 4348,
    "start_time": "2023-04-13T15:35:48.448Z"
   },
   {
    "duration": 60,
    "start_time": "2023-04-13T15:36:11.913Z"
   },
   {
    "duration": 4,
    "start_time": "2023-04-13T15:36:15.518Z"
   },
   {
    "duration": 4,
    "start_time": "2023-04-13T15:36:52.445Z"
   },
   {
    "duration": 7,
    "start_time": "2023-04-13T15:39:05.068Z"
   },
   {
    "duration": 7,
    "start_time": "2023-04-13T15:39:36.973Z"
   },
   {
    "duration": 3,
    "start_time": "2023-04-13T15:45:18.269Z"
   },
   {
    "duration": 7,
    "start_time": "2023-04-13T15:45:19.463Z"
   },
   {
    "duration": 4,
    "start_time": "2023-04-13T15:45:30.095Z"
   },
   {
    "duration": 7,
    "start_time": "2023-04-13T15:45:33.265Z"
   },
   {
    "duration": 8,
    "start_time": "2023-04-13T15:46:05.246Z"
   },
   {
    "duration": 4,
    "start_time": "2023-04-13T15:46:52.501Z"
   },
   {
    "duration": 1372,
    "start_time": "2023-04-13T15:47:00.622Z"
   },
   {
    "duration": 8,
    "start_time": "2023-04-13T15:49:58.186Z"
   },
   {
    "duration": 6,
    "start_time": "2023-04-13T15:50:06.961Z"
   },
   {
    "duration": 9,
    "start_time": "2023-04-13T15:52:24.457Z"
   },
   {
    "duration": 1776,
    "start_time": "2023-04-13T15:52:54.557Z"
   },
   {
    "duration": 9,
    "start_time": "2023-04-13T15:54:00.930Z"
   },
   {
    "duration": 2083,
    "start_time": "2023-04-13T15:54:23.306Z"
   },
   {
    "duration": 11758,
    "start_time": "2023-04-13T15:56:54.370Z"
   },
   {
    "duration": 0,
    "start_time": "2023-04-13T15:57:06.129Z"
   },
   {
    "duration": 5329,
    "start_time": "2023-04-13T15:58:32.962Z"
   },
   {
    "duration": 774,
    "start_time": "2023-04-13T15:58:38.293Z"
   },
   {
    "duration": 16,
    "start_time": "2023-04-13T15:58:39.068Z"
   },
   {
    "duration": 33,
    "start_time": "2023-04-13T15:58:39.086Z"
   },
   {
    "duration": 256,
    "start_time": "2023-04-13T15:58:39.121Z"
   },
   {
    "duration": 21,
    "start_time": "2023-04-13T15:58:39.379Z"
   },
   {
    "duration": 12,
    "start_time": "2023-04-13T15:58:39.402Z"
   },
   {
    "duration": 11,
    "start_time": "2023-04-13T15:58:39.416Z"
   },
   {
    "duration": 4,
    "start_time": "2023-04-13T15:58:39.429Z"
   },
   {
    "duration": 4171,
    "start_time": "2023-04-13T15:58:39.434Z"
   },
   {
    "duration": 46,
    "start_time": "2023-04-13T15:58:53.947Z"
   },
   {
    "duration": 5,
    "start_time": "2023-04-13T15:58:54.926Z"
   },
   {
    "duration": 14,
    "start_time": "2023-04-13T15:58:58.180Z"
   },
   {
    "duration": 9541,
    "start_time": "2023-04-13T15:59:05.163Z"
   },
   {
    "duration": 4,
    "start_time": "2023-04-13T15:59:20.451Z"
   },
   {
    "duration": 5,
    "start_time": "2023-04-13T15:59:23.640Z"
   },
   {
    "duration": 50,
    "start_time": "2023-04-13T16:22:16.973Z"
   },
   {
    "duration": 3863,
    "start_time": "2023-04-13T16:23:28.891Z"
   },
   {
    "duration": 3247,
    "start_time": "2023-04-13T16:23:32.756Z"
   },
   {
    "duration": 12,
    "start_time": "2023-04-13T16:23:36.005Z"
   },
   {
    "duration": 23,
    "start_time": "2023-04-13T16:23:36.019Z"
   },
   {
    "duration": 244,
    "start_time": "2023-04-13T16:23:36.044Z"
   },
   {
    "duration": 10,
    "start_time": "2023-04-13T16:23:36.289Z"
   },
   {
    "duration": 18,
    "start_time": "2023-04-13T16:23:36.301Z"
   },
   {
    "duration": 24,
    "start_time": "2023-04-13T16:23:36.321Z"
   },
   {
    "duration": 10,
    "start_time": "2023-04-13T16:23:36.347Z"
   },
   {
    "duration": 4148,
    "start_time": "2023-04-13T16:23:36.359Z"
   },
   {
    "duration": 8,
    "start_time": "2023-04-13T16:23:40.509Z"
   },
   {
    "duration": 1137299,
    "start_time": "2023-04-13T16:23:40.519Z"
   },
   {
    "duration": 30,
    "start_time": "2023-04-13T16:42:37.821Z"
   },
   {
    "duration": 4,
    "start_time": "2023-04-13T16:42:37.852Z"
   },
   {
    "duration": 3,
    "start_time": "2023-04-13T16:42:37.857Z"
   },
   {
    "duration": 20,
    "start_time": "2023-04-13T16:42:37.861Z"
   },
   {
    "duration": 8130,
    "start_time": "2023-04-13T16:42:37.882Z"
   },
   {
    "duration": 4,
    "start_time": "2023-04-13T16:42:46.014Z"
   },
   {
    "duration": 6,
    "start_time": "2023-04-13T16:42:46.019Z"
   },
   {
    "duration": 11,
    "start_time": "2023-04-13T16:42:46.026Z"
   },
   {
    "duration": 1863626,
    "start_time": "2023-04-13T16:42:46.039Z"
   },
   {
    "duration": 30963,
    "start_time": "2023-04-13T17:13:49.666Z"
   },
   {
    "duration": 779011,
    "start_time": "2023-04-13T17:14:20.630Z"
   },
   {
    "duration": 811,
    "start_time": "2023-04-13T17:27:19.647Z"
   },
   {
    "duration": 0,
    "start_time": "2023-04-13T17:27:20.460Z"
   },
   {
    "duration": 0,
    "start_time": "2023-04-13T17:27:20.460Z"
   },
   {
    "duration": 0,
    "start_time": "2023-04-13T17:27:20.461Z"
   },
   {
    "duration": 0,
    "start_time": "2023-04-13T17:27:20.462Z"
   },
   {
    "duration": 0,
    "start_time": "2023-04-13T17:27:20.467Z"
   },
   {
    "duration": 0,
    "start_time": "2023-04-13T17:27:20.468Z"
   },
   {
    "duration": 4,
    "start_time": "2023-04-13T17:27:55.587Z"
   },
   {
    "duration": 4,
    "start_time": "2023-04-13T17:28:00.495Z"
   },
   {
    "duration": 2,
    "start_time": "2023-04-13T17:28:29.495Z"
   },
   {
    "duration": 3,
    "start_time": "2023-04-13T17:28:36.282Z"
   },
   {
    "duration": 7,
    "start_time": "2023-04-13T17:28:37.443Z"
   },
   {
    "duration": 9718,
    "start_time": "2023-04-13T17:28:42.749Z"
   },
   {
    "duration": 437398,
    "start_time": "2023-04-13T17:29:12.055Z"
   },
   {
    "duration": 5471,
    "start_time": "2023-04-13T17:36:52.900Z"
   },
   {
    "duration": 23,
    "start_time": "2023-04-13T17:37:21.147Z"
   }
  ],
  "kernelspec": {
   "display_name": "Python 3 (ipykernel)",
   "language": "python",
   "name": "python3"
  },
  "language_info": {
   "codemirror_mode": {
    "name": "ipython",
    "version": 3
   },
   "file_extension": ".py",
   "mimetype": "text/x-python",
   "name": "python",
   "nbconvert_exporter": "python",
   "pygments_lexer": "ipython3",
   "version": "3.9.12"
  },
  "toc": {
   "base_numbering": 1,
   "nav_menu": {},
   "number_sections": true,
   "sideBar": true,
   "skip_h1_title": true,
   "title_cell": "Содержание",
   "title_sidebar": "Contents",
   "toc_cell": true,
   "toc_position": {
    "height": "calc(100% - 180px)",
    "left": "10px",
    "top": "150px",
    "width": "165px"
   },
   "toc_section_display": true,
   "toc_window_display": true
  }
 },
 "nbformat": 4,
 "nbformat_minor": 2
}
