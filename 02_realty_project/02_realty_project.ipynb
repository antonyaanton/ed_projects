{
 "cells": [
  {
   "cell_type": "markdown",
   "metadata": {},
   "source": [
    "# Исследование объявлений о продаже квартир\n",
    "\n",
    "В вашем распоряжении данные сервиса Яндекс.Недвижимость — архив объявлений о продаже квартир в Санкт-Петербурге и соседних населённых пунктов за несколько лет. Нужно научиться определять рыночную стоимость объектов недвижимости. Ваша задача — установить параметры. Это позволит построить автоматизированную систему: она отследит аномалии и мошенническую деятельность. \n",
    "\n",
    "По каждой квартире на продажу доступны два вида данных. Первые вписаны пользователем, вторые — получены автоматически на основе картографических данных. Например, расстояние до центра, аэропорта, ближайшего парка и водоёма. "
   ]
  },
  {
   "cell_type": "markdown",
   "metadata": {},
   "source": [
    "### Откройте файл с данными и изучите общую информацию. "
   ]
  },
  {
   "cell_type": "markdown",
   "metadata": {},
   "source": [
    "Для начала работы импортируем необходимые библиотеки и откроем датасет."
   ]
  },
  {
   "cell_type": "code",
   "execution_count": 1,
   "metadata": {},
   "outputs": [],
   "source": [
    "import pandas as pd\n",
    "import numpy as np\n",
    "import matplotlib.pyplot as plt"
   ]
  },
  {
   "cell_type": "code",
   "execution_count": 2,
   "metadata": {},
   "outputs": [],
   "source": [
    "data = pd.read_csv('/datasets/real_estate_data.csv')   "
   ]
  },
  {
   "cell_type": "markdown",
   "metadata": {},
   "source": [
    "Выведем для первые 10 строчек датафрейма."
   ]
  },
  {
   "cell_type": "code",
   "execution_count": 3,
   "metadata": {},
   "outputs": [
    {
     "data": {
      "text/html": [
       "<div>\n",
       "<style scoped>\n",
       "    .dataframe tbody tr th:only-of-type {\n",
       "        vertical-align: middle;\n",
       "    }\n",
       "\n",
       "    .dataframe tbody tr th {\n",
       "        vertical-align: top;\n",
       "    }\n",
       "\n",
       "    .dataframe thead th {\n",
       "        text-align: right;\n",
       "    }\n",
       "</style>\n",
       "<table border=\"1\" class=\"dataframe\">\n",
       "  <thead>\n",
       "    <tr style=\"text-align: right;\">\n",
       "      <th></th>\n",
       "      <th>total_images\\tlast_price\\ttotal_area\\tfirst_day_exposition\\trooms\\tceiling_height\\tfloors_total\\tliving_area\\tfloor\\tis_apartment\\tstudio\\topen_plan\\tkitchen_area\\tbalcony\\tlocality_name\\tairports_nearest\\tcityCenters_nearest\\tparks_around3000\\tparks_nearest\\tponds_around3000\\tponds_nearest\\tdays_exposition</th>\n",
       "    </tr>\n",
       "  </thead>\n",
       "  <tbody>\n",
       "    <tr>\n",
       "      <th>0</th>\n",
       "      <td>20\\t13000000.0\\t108.0\\t2019-03-07T00:00:00\\t3\\...</td>\n",
       "    </tr>\n",
       "    <tr>\n",
       "      <th>1</th>\n",
       "      <td>7\\t3350000.0\\t40.4\\t2018-12-04T00:00:00\\t1\\t\\t...</td>\n",
       "    </tr>\n",
       "    <tr>\n",
       "      <th>2</th>\n",
       "      <td>10\\t5196000.0\\t56.0\\t2015-08-20T00:00:00\\t2\\t\\...</td>\n",
       "    </tr>\n",
       "    <tr>\n",
       "      <th>3</th>\n",
       "      <td>0\\t64900000.0\\t159.0\\t2015-07-24T00:00:00\\t3\\t...</td>\n",
       "    </tr>\n",
       "    <tr>\n",
       "      <th>4</th>\n",
       "      <td>2\\t10000000.0\\t100.0\\t2018-06-19T00:00:00\\t2\\t...</td>\n",
       "    </tr>\n",
       "    <tr>\n",
       "      <th>5</th>\n",
       "      <td>10\\t2890000.0\\t30.4\\t2018-09-10T00:00:00\\t1\\t\\...</td>\n",
       "    </tr>\n",
       "    <tr>\n",
       "      <th>6</th>\n",
       "      <td>6\\t3700000.0\\t37.3\\t2017-11-02T00:00:00\\t1\\t\\t...</td>\n",
       "    </tr>\n",
       "    <tr>\n",
       "      <th>7</th>\n",
       "      <td>5\\t7915000.0\\t71.6\\t2019-04-18T00:00:00\\t2\\t\\t...</td>\n",
       "    </tr>\n",
       "    <tr>\n",
       "      <th>8</th>\n",
       "      <td>20\\t2900000.0\\t33.16\\t2018-05-23T00:00:00\\t1\\t...</td>\n",
       "    </tr>\n",
       "    <tr>\n",
       "      <th>9</th>\n",
       "      <td>18\\t5400000.0\\t61.0\\t2017-02-26T00:00:00\\t3\\t2...</td>\n",
       "    </tr>\n",
       "  </tbody>\n",
       "</table>\n",
       "</div>"
      ],
      "text/plain": [
       "  total_images\\tlast_price\\ttotal_area\\tfirst_day_exposition\\trooms\\tceiling_height\\tfloors_total\\tliving_area\\tfloor\\tis_apartment\\tstudio\\topen_plan\\tkitchen_area\\tbalcony\\tlocality_name\\tairports_nearest\\tcityCenters_nearest\\tparks_around3000\\tparks_nearest\\tponds_around3000\\tponds_nearest\\tdays_exposition\n",
       "0  20\\t13000000.0\\t108.0\\t2019-03-07T00:00:00\\t3\\...                                                                                                                                                                                                                                                                  \n",
       "1  7\\t3350000.0\\t40.4\\t2018-12-04T00:00:00\\t1\\t\\t...                                                                                                                                                                                                                                                                  \n",
       "2  10\\t5196000.0\\t56.0\\t2015-08-20T00:00:00\\t2\\t\\...                                                                                                                                                                                                                                                                  \n",
       "3  0\\t64900000.0\\t159.0\\t2015-07-24T00:00:00\\t3\\t...                                                                                                                                                                                                                                                                  \n",
       "4  2\\t10000000.0\\t100.0\\t2018-06-19T00:00:00\\t2\\t...                                                                                                                                                                                                                                                                  \n",
       "5  10\\t2890000.0\\t30.4\\t2018-09-10T00:00:00\\t1\\t\\...                                                                                                                                                                                                                                                                  \n",
       "6  6\\t3700000.0\\t37.3\\t2017-11-02T00:00:00\\t1\\t\\t...                                                                                                                                                                                                                                                                  \n",
       "7  5\\t7915000.0\\t71.6\\t2019-04-18T00:00:00\\t2\\t\\t...                                                                                                                                                                                                                                                                  \n",
       "8  20\\t2900000.0\\t33.16\\t2018-05-23T00:00:00\\t1\\t...                                                                                                                                                                                                                                                                  \n",
       "9  18\\t5400000.0\\t61.0\\t2017-02-26T00:00:00\\t3\\t2...                                                                                                                                                                                                                                                                  "
      ]
     },
     "execution_count": 3,
     "metadata": {},
     "output_type": "execute_result"
    }
   ],
   "source": [
    "data.head(10)"
   ]
  },
  {
   "cell_type": "markdown",
   "metadata": {},
   "source": [
    "Данные отражаются некорректно. Столбцы \"слиплись\". Применим параметр `sep`, для приведения таблицы к корректному виду."
   ]
  },
  {
   "cell_type": "code",
   "execution_count": 4,
   "metadata": {},
   "outputs": [],
   "source": [
    "try:\n",
    "    data = pd.read_csv('/datasets/real_estate_data.csv', sep = '\\t')\n",
    "except:\n",
    "    data = pd.read_csv('/datasets/real_estate_data.csv', sep = '\\t')     "
   ]
  },
  {
   "cell_type": "markdown",
   "metadata": {},
   "source": [
    "Выведем первые 20 строчек датасета."
   ]
  },
  {
   "cell_type": "code",
   "execution_count": 5,
   "metadata": {},
   "outputs": [
    {
     "data": {
      "text/html": [
       "<div>\n",
       "<style scoped>\n",
       "    .dataframe tbody tr th:only-of-type {\n",
       "        vertical-align: middle;\n",
       "    }\n",
       "\n",
       "    .dataframe tbody tr th {\n",
       "        vertical-align: top;\n",
       "    }\n",
       "\n",
       "    .dataframe thead th {\n",
       "        text-align: right;\n",
       "    }\n",
       "</style>\n",
       "<table border=\"1\" class=\"dataframe\">\n",
       "  <thead>\n",
       "    <tr style=\"text-align: right;\">\n",
       "      <th></th>\n",
       "      <th>total_images</th>\n",
       "      <th>last_price</th>\n",
       "      <th>total_area</th>\n",
       "      <th>first_day_exposition</th>\n",
       "      <th>rooms</th>\n",
       "      <th>ceiling_height</th>\n",
       "      <th>floors_total</th>\n",
       "      <th>living_area</th>\n",
       "      <th>floor</th>\n",
       "      <th>is_apartment</th>\n",
       "      <th>...</th>\n",
       "      <th>kitchen_area</th>\n",
       "      <th>balcony</th>\n",
       "      <th>locality_name</th>\n",
       "      <th>airports_nearest</th>\n",
       "      <th>cityCenters_nearest</th>\n",
       "      <th>parks_around3000</th>\n",
       "      <th>parks_nearest</th>\n",
       "      <th>ponds_around3000</th>\n",
       "      <th>ponds_nearest</th>\n",
       "      <th>days_exposition</th>\n",
       "    </tr>\n",
       "  </thead>\n",
       "  <tbody>\n",
       "    <tr>\n",
       "      <th>0</th>\n",
       "      <td>20</td>\n",
       "      <td>13000000.0</td>\n",
       "      <td>108.00</td>\n",
       "      <td>2019-03-07T00:00:00</td>\n",
       "      <td>3</td>\n",
       "      <td>2.70</td>\n",
       "      <td>16.0</td>\n",
       "      <td>51.00</td>\n",
       "      <td>8</td>\n",
       "      <td>NaN</td>\n",
       "      <td>...</td>\n",
       "      <td>25.00</td>\n",
       "      <td>NaN</td>\n",
       "      <td>Санкт-Петербург</td>\n",
       "      <td>18863.0</td>\n",
       "      <td>16028.0</td>\n",
       "      <td>1.0</td>\n",
       "      <td>482.0</td>\n",
       "      <td>2.0</td>\n",
       "      <td>755.0</td>\n",
       "      <td>NaN</td>\n",
       "    </tr>\n",
       "    <tr>\n",
       "      <th>1</th>\n",
       "      <td>7</td>\n",
       "      <td>3350000.0</td>\n",
       "      <td>40.40</td>\n",
       "      <td>2018-12-04T00:00:00</td>\n",
       "      <td>1</td>\n",
       "      <td>NaN</td>\n",
       "      <td>11.0</td>\n",
       "      <td>18.60</td>\n",
       "      <td>1</td>\n",
       "      <td>NaN</td>\n",
       "      <td>...</td>\n",
       "      <td>11.00</td>\n",
       "      <td>2.0</td>\n",
       "      <td>посёлок Шушары</td>\n",
       "      <td>12817.0</td>\n",
       "      <td>18603.0</td>\n",
       "      <td>0.0</td>\n",
       "      <td>NaN</td>\n",
       "      <td>0.0</td>\n",
       "      <td>NaN</td>\n",
       "      <td>81.0</td>\n",
       "    </tr>\n",
       "    <tr>\n",
       "      <th>2</th>\n",
       "      <td>10</td>\n",
       "      <td>5196000.0</td>\n",
       "      <td>56.00</td>\n",
       "      <td>2015-08-20T00:00:00</td>\n",
       "      <td>2</td>\n",
       "      <td>NaN</td>\n",
       "      <td>5.0</td>\n",
       "      <td>34.30</td>\n",
       "      <td>4</td>\n",
       "      <td>NaN</td>\n",
       "      <td>...</td>\n",
       "      <td>8.30</td>\n",
       "      <td>0.0</td>\n",
       "      <td>Санкт-Петербург</td>\n",
       "      <td>21741.0</td>\n",
       "      <td>13933.0</td>\n",
       "      <td>1.0</td>\n",
       "      <td>90.0</td>\n",
       "      <td>2.0</td>\n",
       "      <td>574.0</td>\n",
       "      <td>558.0</td>\n",
       "    </tr>\n",
       "    <tr>\n",
       "      <th>3</th>\n",
       "      <td>0</td>\n",
       "      <td>64900000.0</td>\n",
       "      <td>159.00</td>\n",
       "      <td>2015-07-24T00:00:00</td>\n",
       "      <td>3</td>\n",
       "      <td>NaN</td>\n",
       "      <td>14.0</td>\n",
       "      <td>NaN</td>\n",
       "      <td>9</td>\n",
       "      <td>NaN</td>\n",
       "      <td>...</td>\n",
       "      <td>NaN</td>\n",
       "      <td>0.0</td>\n",
       "      <td>Санкт-Петербург</td>\n",
       "      <td>28098.0</td>\n",
       "      <td>6800.0</td>\n",
       "      <td>2.0</td>\n",
       "      <td>84.0</td>\n",
       "      <td>3.0</td>\n",
       "      <td>234.0</td>\n",
       "      <td>424.0</td>\n",
       "    </tr>\n",
       "    <tr>\n",
       "      <th>4</th>\n",
       "      <td>2</td>\n",
       "      <td>10000000.0</td>\n",
       "      <td>100.00</td>\n",
       "      <td>2018-06-19T00:00:00</td>\n",
       "      <td>2</td>\n",
       "      <td>3.03</td>\n",
       "      <td>14.0</td>\n",
       "      <td>32.00</td>\n",
       "      <td>13</td>\n",
       "      <td>NaN</td>\n",
       "      <td>...</td>\n",
       "      <td>41.00</td>\n",
       "      <td>NaN</td>\n",
       "      <td>Санкт-Петербург</td>\n",
       "      <td>31856.0</td>\n",
       "      <td>8098.0</td>\n",
       "      <td>2.0</td>\n",
       "      <td>112.0</td>\n",
       "      <td>1.0</td>\n",
       "      <td>48.0</td>\n",
       "      <td>121.0</td>\n",
       "    </tr>\n",
       "    <tr>\n",
       "      <th>5</th>\n",
       "      <td>10</td>\n",
       "      <td>2890000.0</td>\n",
       "      <td>30.40</td>\n",
       "      <td>2018-09-10T00:00:00</td>\n",
       "      <td>1</td>\n",
       "      <td>NaN</td>\n",
       "      <td>12.0</td>\n",
       "      <td>14.40</td>\n",
       "      <td>5</td>\n",
       "      <td>NaN</td>\n",
       "      <td>...</td>\n",
       "      <td>9.10</td>\n",
       "      <td>NaN</td>\n",
       "      <td>городской посёлок Янино-1</td>\n",
       "      <td>NaN</td>\n",
       "      <td>NaN</td>\n",
       "      <td>NaN</td>\n",
       "      <td>NaN</td>\n",
       "      <td>NaN</td>\n",
       "      <td>NaN</td>\n",
       "      <td>55.0</td>\n",
       "    </tr>\n",
       "    <tr>\n",
       "      <th>6</th>\n",
       "      <td>6</td>\n",
       "      <td>3700000.0</td>\n",
       "      <td>37.30</td>\n",
       "      <td>2017-11-02T00:00:00</td>\n",
       "      <td>1</td>\n",
       "      <td>NaN</td>\n",
       "      <td>26.0</td>\n",
       "      <td>10.60</td>\n",
       "      <td>6</td>\n",
       "      <td>NaN</td>\n",
       "      <td>...</td>\n",
       "      <td>14.40</td>\n",
       "      <td>1.0</td>\n",
       "      <td>посёлок Парголово</td>\n",
       "      <td>52996.0</td>\n",
       "      <td>19143.0</td>\n",
       "      <td>0.0</td>\n",
       "      <td>NaN</td>\n",
       "      <td>0.0</td>\n",
       "      <td>NaN</td>\n",
       "      <td>155.0</td>\n",
       "    </tr>\n",
       "    <tr>\n",
       "      <th>7</th>\n",
       "      <td>5</td>\n",
       "      <td>7915000.0</td>\n",
       "      <td>71.60</td>\n",
       "      <td>2019-04-18T00:00:00</td>\n",
       "      <td>2</td>\n",
       "      <td>NaN</td>\n",
       "      <td>24.0</td>\n",
       "      <td>NaN</td>\n",
       "      <td>22</td>\n",
       "      <td>NaN</td>\n",
       "      <td>...</td>\n",
       "      <td>18.90</td>\n",
       "      <td>2.0</td>\n",
       "      <td>Санкт-Петербург</td>\n",
       "      <td>23982.0</td>\n",
       "      <td>11634.0</td>\n",
       "      <td>0.0</td>\n",
       "      <td>NaN</td>\n",
       "      <td>0.0</td>\n",
       "      <td>NaN</td>\n",
       "      <td>NaN</td>\n",
       "    </tr>\n",
       "    <tr>\n",
       "      <th>8</th>\n",
       "      <td>20</td>\n",
       "      <td>2900000.0</td>\n",
       "      <td>33.16</td>\n",
       "      <td>2018-05-23T00:00:00</td>\n",
       "      <td>1</td>\n",
       "      <td>NaN</td>\n",
       "      <td>27.0</td>\n",
       "      <td>15.43</td>\n",
       "      <td>26</td>\n",
       "      <td>NaN</td>\n",
       "      <td>...</td>\n",
       "      <td>8.81</td>\n",
       "      <td>NaN</td>\n",
       "      <td>посёлок Мурино</td>\n",
       "      <td>NaN</td>\n",
       "      <td>NaN</td>\n",
       "      <td>NaN</td>\n",
       "      <td>NaN</td>\n",
       "      <td>NaN</td>\n",
       "      <td>NaN</td>\n",
       "      <td>189.0</td>\n",
       "    </tr>\n",
       "    <tr>\n",
       "      <th>9</th>\n",
       "      <td>18</td>\n",
       "      <td>5400000.0</td>\n",
       "      <td>61.00</td>\n",
       "      <td>2017-02-26T00:00:00</td>\n",
       "      <td>3</td>\n",
       "      <td>2.50</td>\n",
       "      <td>9.0</td>\n",
       "      <td>43.60</td>\n",
       "      <td>7</td>\n",
       "      <td>NaN</td>\n",
       "      <td>...</td>\n",
       "      <td>6.50</td>\n",
       "      <td>2.0</td>\n",
       "      <td>Санкт-Петербург</td>\n",
       "      <td>50898.0</td>\n",
       "      <td>15008.0</td>\n",
       "      <td>0.0</td>\n",
       "      <td>NaN</td>\n",
       "      <td>0.0</td>\n",
       "      <td>NaN</td>\n",
       "      <td>289.0</td>\n",
       "    </tr>\n",
       "    <tr>\n",
       "      <th>10</th>\n",
       "      <td>5</td>\n",
       "      <td>5050000.0</td>\n",
       "      <td>39.60</td>\n",
       "      <td>2017-11-16T00:00:00</td>\n",
       "      <td>1</td>\n",
       "      <td>2.67</td>\n",
       "      <td>12.0</td>\n",
       "      <td>20.30</td>\n",
       "      <td>3</td>\n",
       "      <td>NaN</td>\n",
       "      <td>...</td>\n",
       "      <td>8.50</td>\n",
       "      <td>NaN</td>\n",
       "      <td>Санкт-Петербург</td>\n",
       "      <td>38357.0</td>\n",
       "      <td>13878.0</td>\n",
       "      <td>1.0</td>\n",
       "      <td>310.0</td>\n",
       "      <td>2.0</td>\n",
       "      <td>553.0</td>\n",
       "      <td>137.0</td>\n",
       "    </tr>\n",
       "    <tr>\n",
       "      <th>11</th>\n",
       "      <td>9</td>\n",
       "      <td>3300000.0</td>\n",
       "      <td>44.00</td>\n",
       "      <td>2018-08-27T00:00:00</td>\n",
       "      <td>2</td>\n",
       "      <td>NaN</td>\n",
       "      <td>5.0</td>\n",
       "      <td>31.00</td>\n",
       "      <td>4</td>\n",
       "      <td>False</td>\n",
       "      <td>...</td>\n",
       "      <td>6.00</td>\n",
       "      <td>1.0</td>\n",
       "      <td>Ломоносов</td>\n",
       "      <td>48252.0</td>\n",
       "      <td>51677.0</td>\n",
       "      <td>0.0</td>\n",
       "      <td>NaN</td>\n",
       "      <td>0.0</td>\n",
       "      <td>NaN</td>\n",
       "      <td>7.0</td>\n",
       "    </tr>\n",
       "    <tr>\n",
       "      <th>12</th>\n",
       "      <td>10</td>\n",
       "      <td>3890000.0</td>\n",
       "      <td>54.00</td>\n",
       "      <td>2016-06-30T00:00:00</td>\n",
       "      <td>2</td>\n",
       "      <td>NaN</td>\n",
       "      <td>5.0</td>\n",
       "      <td>30.00</td>\n",
       "      <td>5</td>\n",
       "      <td>NaN</td>\n",
       "      <td>...</td>\n",
       "      <td>9.00</td>\n",
       "      <td>0.0</td>\n",
       "      <td>Сертолово</td>\n",
       "      <td>NaN</td>\n",
       "      <td>NaN</td>\n",
       "      <td>NaN</td>\n",
       "      <td>NaN</td>\n",
       "      <td>NaN</td>\n",
       "      <td>NaN</td>\n",
       "      <td>90.0</td>\n",
       "    </tr>\n",
       "    <tr>\n",
       "      <th>13</th>\n",
       "      <td>20</td>\n",
       "      <td>3550000.0</td>\n",
       "      <td>42.80</td>\n",
       "      <td>2017-07-01T00:00:00</td>\n",
       "      <td>2</td>\n",
       "      <td>2.56</td>\n",
       "      <td>5.0</td>\n",
       "      <td>27.00</td>\n",
       "      <td>5</td>\n",
       "      <td>NaN</td>\n",
       "      <td>...</td>\n",
       "      <td>5.20</td>\n",
       "      <td>1.0</td>\n",
       "      <td>Петергоф</td>\n",
       "      <td>37868.0</td>\n",
       "      <td>33058.0</td>\n",
       "      <td>1.0</td>\n",
       "      <td>294.0</td>\n",
       "      <td>3.0</td>\n",
       "      <td>298.0</td>\n",
       "      <td>366.0</td>\n",
       "    </tr>\n",
       "    <tr>\n",
       "      <th>14</th>\n",
       "      <td>1</td>\n",
       "      <td>4400000.0</td>\n",
       "      <td>36.00</td>\n",
       "      <td>2016-06-23T00:00:00</td>\n",
       "      <td>1</td>\n",
       "      <td>NaN</td>\n",
       "      <td>6.0</td>\n",
       "      <td>17.00</td>\n",
       "      <td>1</td>\n",
       "      <td>NaN</td>\n",
       "      <td>...</td>\n",
       "      <td>8.00</td>\n",
       "      <td>0.0</td>\n",
       "      <td>Пушкин</td>\n",
       "      <td>20782.0</td>\n",
       "      <td>30759.0</td>\n",
       "      <td>0.0</td>\n",
       "      <td>NaN</td>\n",
       "      <td>1.0</td>\n",
       "      <td>96.0</td>\n",
       "      <td>203.0</td>\n",
       "    </tr>\n",
       "    <tr>\n",
       "      <th>15</th>\n",
       "      <td>16</td>\n",
       "      <td>4650000.0</td>\n",
       "      <td>39.00</td>\n",
       "      <td>2017-11-18T00:00:00</td>\n",
       "      <td>1</td>\n",
       "      <td>NaN</td>\n",
       "      <td>14.0</td>\n",
       "      <td>20.50</td>\n",
       "      <td>5</td>\n",
       "      <td>NaN</td>\n",
       "      <td>...</td>\n",
       "      <td>7.60</td>\n",
       "      <td>1.0</td>\n",
       "      <td>Санкт-Петербург</td>\n",
       "      <td>12900.0</td>\n",
       "      <td>14259.0</td>\n",
       "      <td>1.0</td>\n",
       "      <td>590.0</td>\n",
       "      <td>1.0</td>\n",
       "      <td>296.0</td>\n",
       "      <td>19.0</td>\n",
       "    </tr>\n",
       "    <tr>\n",
       "      <th>16</th>\n",
       "      <td>11</td>\n",
       "      <td>6700000.0</td>\n",
       "      <td>82.00</td>\n",
       "      <td>2017-11-23T00:00:00</td>\n",
       "      <td>3</td>\n",
       "      <td>3.05</td>\n",
       "      <td>5.0</td>\n",
       "      <td>55.60</td>\n",
       "      <td>1</td>\n",
       "      <td>NaN</td>\n",
       "      <td>...</td>\n",
       "      <td>9.00</td>\n",
       "      <td>NaN</td>\n",
       "      <td>Санкт-Петербург</td>\n",
       "      <td>22108.0</td>\n",
       "      <td>10698.0</td>\n",
       "      <td>3.0</td>\n",
       "      <td>420.0</td>\n",
       "      <td>0.0</td>\n",
       "      <td>NaN</td>\n",
       "      <td>397.0</td>\n",
       "    </tr>\n",
       "    <tr>\n",
       "      <th>17</th>\n",
       "      <td>6</td>\n",
       "      <td>4180000.0</td>\n",
       "      <td>36.00</td>\n",
       "      <td>2016-09-09T00:00:00</td>\n",
       "      <td>1</td>\n",
       "      <td>NaN</td>\n",
       "      <td>17.0</td>\n",
       "      <td>16.50</td>\n",
       "      <td>7</td>\n",
       "      <td>NaN</td>\n",
       "      <td>...</td>\n",
       "      <td>11.00</td>\n",
       "      <td>1.0</td>\n",
       "      <td>Санкт-Петербург</td>\n",
       "      <td>33564.0</td>\n",
       "      <td>14616.0</td>\n",
       "      <td>0.0</td>\n",
       "      <td>NaN</td>\n",
       "      <td>1.0</td>\n",
       "      <td>859.0</td>\n",
       "      <td>571.0</td>\n",
       "    </tr>\n",
       "    <tr>\n",
       "      <th>18</th>\n",
       "      <td>8</td>\n",
       "      <td>3250000.0</td>\n",
       "      <td>31.00</td>\n",
       "      <td>2017-01-27T00:00:00</td>\n",
       "      <td>1</td>\n",
       "      <td>2.50</td>\n",
       "      <td>5.0</td>\n",
       "      <td>19.40</td>\n",
       "      <td>2</td>\n",
       "      <td>NaN</td>\n",
       "      <td>...</td>\n",
       "      <td>5.60</td>\n",
       "      <td>1.0</td>\n",
       "      <td>Санкт-Петербург</td>\n",
       "      <td>44060.0</td>\n",
       "      <td>10842.0</td>\n",
       "      <td>1.0</td>\n",
       "      <td>759.0</td>\n",
       "      <td>0.0</td>\n",
       "      <td>NaN</td>\n",
       "      <td>168.0</td>\n",
       "    </tr>\n",
       "    <tr>\n",
       "      <th>19</th>\n",
       "      <td>16</td>\n",
       "      <td>14200000.0</td>\n",
       "      <td>121.00</td>\n",
       "      <td>2019-01-09T00:00:00</td>\n",
       "      <td>3</td>\n",
       "      <td>2.75</td>\n",
       "      <td>16.0</td>\n",
       "      <td>76.00</td>\n",
       "      <td>8</td>\n",
       "      <td>NaN</td>\n",
       "      <td>...</td>\n",
       "      <td>12.00</td>\n",
       "      <td>NaN</td>\n",
       "      <td>Санкт-Петербург</td>\n",
       "      <td>38900.0</td>\n",
       "      <td>12843.0</td>\n",
       "      <td>0.0</td>\n",
       "      <td>NaN</td>\n",
       "      <td>0.0</td>\n",
       "      <td>NaN</td>\n",
       "      <td>97.0</td>\n",
       "    </tr>\n",
       "  </tbody>\n",
       "</table>\n",
       "<p>20 rows × 22 columns</p>\n",
       "</div>"
      ],
      "text/plain": [
       "    total_images  last_price  total_area first_day_exposition  rooms  \\\n",
       "0             20  13000000.0      108.00  2019-03-07T00:00:00      3   \n",
       "1              7   3350000.0       40.40  2018-12-04T00:00:00      1   \n",
       "2             10   5196000.0       56.00  2015-08-20T00:00:00      2   \n",
       "3              0  64900000.0      159.00  2015-07-24T00:00:00      3   \n",
       "4              2  10000000.0      100.00  2018-06-19T00:00:00      2   \n",
       "5             10   2890000.0       30.40  2018-09-10T00:00:00      1   \n",
       "6              6   3700000.0       37.30  2017-11-02T00:00:00      1   \n",
       "7              5   7915000.0       71.60  2019-04-18T00:00:00      2   \n",
       "8             20   2900000.0       33.16  2018-05-23T00:00:00      1   \n",
       "9             18   5400000.0       61.00  2017-02-26T00:00:00      3   \n",
       "10             5   5050000.0       39.60  2017-11-16T00:00:00      1   \n",
       "11             9   3300000.0       44.00  2018-08-27T00:00:00      2   \n",
       "12            10   3890000.0       54.00  2016-06-30T00:00:00      2   \n",
       "13            20   3550000.0       42.80  2017-07-01T00:00:00      2   \n",
       "14             1   4400000.0       36.00  2016-06-23T00:00:00      1   \n",
       "15            16   4650000.0       39.00  2017-11-18T00:00:00      1   \n",
       "16            11   6700000.0       82.00  2017-11-23T00:00:00      3   \n",
       "17             6   4180000.0       36.00  2016-09-09T00:00:00      1   \n",
       "18             8   3250000.0       31.00  2017-01-27T00:00:00      1   \n",
       "19            16  14200000.0      121.00  2019-01-09T00:00:00      3   \n",
       "\n",
       "    ceiling_height  floors_total  living_area  floor is_apartment  ...  \\\n",
       "0             2.70          16.0        51.00      8          NaN  ...   \n",
       "1              NaN          11.0        18.60      1          NaN  ...   \n",
       "2              NaN           5.0        34.30      4          NaN  ...   \n",
       "3              NaN          14.0          NaN      9          NaN  ...   \n",
       "4             3.03          14.0        32.00     13          NaN  ...   \n",
       "5              NaN          12.0        14.40      5          NaN  ...   \n",
       "6              NaN          26.0        10.60      6          NaN  ...   \n",
       "7              NaN          24.0          NaN     22          NaN  ...   \n",
       "8              NaN          27.0        15.43     26          NaN  ...   \n",
       "9             2.50           9.0        43.60      7          NaN  ...   \n",
       "10            2.67          12.0        20.30      3          NaN  ...   \n",
       "11             NaN           5.0        31.00      4        False  ...   \n",
       "12             NaN           5.0        30.00      5          NaN  ...   \n",
       "13            2.56           5.0        27.00      5          NaN  ...   \n",
       "14             NaN           6.0        17.00      1          NaN  ...   \n",
       "15             NaN          14.0        20.50      5          NaN  ...   \n",
       "16            3.05           5.0        55.60      1          NaN  ...   \n",
       "17             NaN          17.0        16.50      7          NaN  ...   \n",
       "18            2.50           5.0        19.40      2          NaN  ...   \n",
       "19            2.75          16.0        76.00      8          NaN  ...   \n",
       "\n",
       "    kitchen_area  balcony              locality_name  airports_nearest  \\\n",
       "0          25.00      NaN            Санкт-Петербург           18863.0   \n",
       "1          11.00      2.0             посёлок Шушары           12817.0   \n",
       "2           8.30      0.0            Санкт-Петербург           21741.0   \n",
       "3            NaN      0.0            Санкт-Петербург           28098.0   \n",
       "4          41.00      NaN            Санкт-Петербург           31856.0   \n",
       "5           9.10      NaN  городской посёлок Янино-1               NaN   \n",
       "6          14.40      1.0          посёлок Парголово           52996.0   \n",
       "7          18.90      2.0            Санкт-Петербург           23982.0   \n",
       "8           8.81      NaN             посёлок Мурино               NaN   \n",
       "9           6.50      2.0            Санкт-Петербург           50898.0   \n",
       "10          8.50      NaN            Санкт-Петербург           38357.0   \n",
       "11          6.00      1.0                  Ломоносов           48252.0   \n",
       "12          9.00      0.0                  Сертолово               NaN   \n",
       "13          5.20      1.0                   Петергоф           37868.0   \n",
       "14          8.00      0.0                     Пушкин           20782.0   \n",
       "15          7.60      1.0            Санкт-Петербург           12900.0   \n",
       "16          9.00      NaN            Санкт-Петербург           22108.0   \n",
       "17         11.00      1.0            Санкт-Петербург           33564.0   \n",
       "18          5.60      1.0            Санкт-Петербург           44060.0   \n",
       "19         12.00      NaN            Санкт-Петербург           38900.0   \n",
       "\n",
       "   cityCenters_nearest  parks_around3000  parks_nearest  ponds_around3000  \\\n",
       "0              16028.0               1.0          482.0               2.0   \n",
       "1              18603.0               0.0            NaN               0.0   \n",
       "2              13933.0               1.0           90.0               2.0   \n",
       "3               6800.0               2.0           84.0               3.0   \n",
       "4               8098.0               2.0          112.0               1.0   \n",
       "5                  NaN               NaN            NaN               NaN   \n",
       "6              19143.0               0.0            NaN               0.0   \n",
       "7              11634.0               0.0            NaN               0.0   \n",
       "8                  NaN               NaN            NaN               NaN   \n",
       "9              15008.0               0.0            NaN               0.0   \n",
       "10             13878.0               1.0          310.0               2.0   \n",
       "11             51677.0               0.0            NaN               0.0   \n",
       "12                 NaN               NaN            NaN               NaN   \n",
       "13             33058.0               1.0          294.0               3.0   \n",
       "14             30759.0               0.0            NaN               1.0   \n",
       "15             14259.0               1.0          590.0               1.0   \n",
       "16             10698.0               3.0          420.0               0.0   \n",
       "17             14616.0               0.0            NaN               1.0   \n",
       "18             10842.0               1.0          759.0               0.0   \n",
       "19             12843.0               0.0            NaN               0.0   \n",
       "\n",
       "    ponds_nearest  days_exposition  \n",
       "0           755.0              NaN  \n",
       "1             NaN             81.0  \n",
       "2           574.0            558.0  \n",
       "3           234.0            424.0  \n",
       "4            48.0            121.0  \n",
       "5             NaN             55.0  \n",
       "6             NaN            155.0  \n",
       "7             NaN              NaN  \n",
       "8             NaN            189.0  \n",
       "9             NaN            289.0  \n",
       "10          553.0            137.0  \n",
       "11            NaN              7.0  \n",
       "12            NaN             90.0  \n",
       "13          298.0            366.0  \n",
       "14           96.0            203.0  \n",
       "15          296.0             19.0  \n",
       "16            NaN            397.0  \n",
       "17          859.0            571.0  \n",
       "18            NaN            168.0  \n",
       "19            NaN             97.0  \n",
       "\n",
       "[20 rows x 22 columns]"
      ]
     },
     "execution_count": 5,
     "metadata": {},
     "output_type": "execute_result"
    }
   ],
   "source": [
    "data.head(20)"
   ]
  },
  {
   "cell_type": "markdown",
   "metadata": {},
   "source": [
    "_Отобразим оставшиеся столбцы датафрейма_"
   ]
  },
  {
   "cell_type": "code",
   "execution_count": 6,
   "metadata": {},
   "outputs": [
    {
     "data": {
      "text/html": [
       "<div>\n",
       "<style scoped>\n",
       "    .dataframe tbody tr th:only-of-type {\n",
       "        vertical-align: middle;\n",
       "    }\n",
       "\n",
       "    .dataframe tbody tr th {\n",
       "        vertical-align: top;\n",
       "    }\n",
       "\n",
       "    .dataframe thead th {\n",
       "        text-align: right;\n",
       "    }\n",
       "</style>\n",
       "<table border=\"1\" class=\"dataframe\">\n",
       "  <thead>\n",
       "    <tr style=\"text-align: right;\">\n",
       "      <th></th>\n",
       "      <th>total_images</th>\n",
       "      <th>last_price</th>\n",
       "      <th>total_area</th>\n",
       "      <th>first_day_exposition</th>\n",
       "      <th>rooms</th>\n",
       "      <th>ceiling_height</th>\n",
       "      <th>floors_total</th>\n",
       "      <th>living_area</th>\n",
       "      <th>floor</th>\n",
       "      <th>is_apartment</th>\n",
       "      <th>studio</th>\n",
       "      <th>open_plan</th>\n",
       "      <th>kitchen_area</th>\n",
       "      <th>balcony</th>\n",
       "      <th>locality_name</th>\n",
       "      <th>airports_nearest</th>\n",
       "      <th>cityCenters_nearest</th>\n",
       "      <th>parks_around3000</th>\n",
       "      <th>parks_nearest</th>\n",
       "      <th>ponds_around3000</th>\n",
       "      <th>ponds_nearest</th>\n",
       "      <th>days_exposition</th>\n",
       "    </tr>\n",
       "  </thead>\n",
       "  <tbody>\n",
       "    <tr>\n",
       "      <th>0</th>\n",
       "      <td>20</td>\n",
       "      <td>13000000.0</td>\n",
       "      <td>108.0</td>\n",
       "      <td>2019-03-07T00:00:00</td>\n",
       "      <td>3</td>\n",
       "      <td>2.70</td>\n",
       "      <td>16.0</td>\n",
       "      <td>51.0</td>\n",
       "      <td>8</td>\n",
       "      <td>NaN</td>\n",
       "      <td>False</td>\n",
       "      <td>False</td>\n",
       "      <td>25.0</td>\n",
       "      <td>NaN</td>\n",
       "      <td>Санкт-Петербург</td>\n",
       "      <td>18863.0</td>\n",
       "      <td>16028.0</td>\n",
       "      <td>1.0</td>\n",
       "      <td>482.0</td>\n",
       "      <td>2.0</td>\n",
       "      <td>755.0</td>\n",
       "      <td>NaN</td>\n",
       "    </tr>\n",
       "    <tr>\n",
       "      <th>1</th>\n",
       "      <td>7</td>\n",
       "      <td>3350000.0</td>\n",
       "      <td>40.4</td>\n",
       "      <td>2018-12-04T00:00:00</td>\n",
       "      <td>1</td>\n",
       "      <td>NaN</td>\n",
       "      <td>11.0</td>\n",
       "      <td>18.6</td>\n",
       "      <td>1</td>\n",
       "      <td>NaN</td>\n",
       "      <td>False</td>\n",
       "      <td>False</td>\n",
       "      <td>11.0</td>\n",
       "      <td>2.0</td>\n",
       "      <td>посёлок Шушары</td>\n",
       "      <td>12817.0</td>\n",
       "      <td>18603.0</td>\n",
       "      <td>0.0</td>\n",
       "      <td>NaN</td>\n",
       "      <td>0.0</td>\n",
       "      <td>NaN</td>\n",
       "      <td>81.0</td>\n",
       "    </tr>\n",
       "    <tr>\n",
       "      <th>2</th>\n",
       "      <td>10</td>\n",
       "      <td>5196000.0</td>\n",
       "      <td>56.0</td>\n",
       "      <td>2015-08-20T00:00:00</td>\n",
       "      <td>2</td>\n",
       "      <td>NaN</td>\n",
       "      <td>5.0</td>\n",
       "      <td>34.3</td>\n",
       "      <td>4</td>\n",
       "      <td>NaN</td>\n",
       "      <td>False</td>\n",
       "      <td>False</td>\n",
       "      <td>8.3</td>\n",
       "      <td>0.0</td>\n",
       "      <td>Санкт-Петербург</td>\n",
       "      <td>21741.0</td>\n",
       "      <td>13933.0</td>\n",
       "      <td>1.0</td>\n",
       "      <td>90.0</td>\n",
       "      <td>2.0</td>\n",
       "      <td>574.0</td>\n",
       "      <td>558.0</td>\n",
       "    </tr>\n",
       "    <tr>\n",
       "      <th>3</th>\n",
       "      <td>0</td>\n",
       "      <td>64900000.0</td>\n",
       "      <td>159.0</td>\n",
       "      <td>2015-07-24T00:00:00</td>\n",
       "      <td>3</td>\n",
       "      <td>NaN</td>\n",
       "      <td>14.0</td>\n",
       "      <td>NaN</td>\n",
       "      <td>9</td>\n",
       "      <td>NaN</td>\n",
       "      <td>False</td>\n",
       "      <td>False</td>\n",
       "      <td>NaN</td>\n",
       "      <td>0.0</td>\n",
       "      <td>Санкт-Петербург</td>\n",
       "      <td>28098.0</td>\n",
       "      <td>6800.0</td>\n",
       "      <td>2.0</td>\n",
       "      <td>84.0</td>\n",
       "      <td>3.0</td>\n",
       "      <td>234.0</td>\n",
       "      <td>424.0</td>\n",
       "    </tr>\n",
       "    <tr>\n",
       "      <th>4</th>\n",
       "      <td>2</td>\n",
       "      <td>10000000.0</td>\n",
       "      <td>100.0</td>\n",
       "      <td>2018-06-19T00:00:00</td>\n",
       "      <td>2</td>\n",
       "      <td>3.03</td>\n",
       "      <td>14.0</td>\n",
       "      <td>32.0</td>\n",
       "      <td>13</td>\n",
       "      <td>NaN</td>\n",
       "      <td>False</td>\n",
       "      <td>False</td>\n",
       "      <td>41.0</td>\n",
       "      <td>NaN</td>\n",
       "      <td>Санкт-Петербург</td>\n",
       "      <td>31856.0</td>\n",
       "      <td>8098.0</td>\n",
       "      <td>2.0</td>\n",
       "      <td>112.0</td>\n",
       "      <td>1.0</td>\n",
       "      <td>48.0</td>\n",
       "      <td>121.0</td>\n",
       "    </tr>\n",
       "  </tbody>\n",
       "</table>\n",
       "</div>"
      ],
      "text/plain": [
       "   total_images  last_price  total_area first_day_exposition  rooms  \\\n",
       "0            20  13000000.0       108.0  2019-03-07T00:00:00      3   \n",
       "1             7   3350000.0        40.4  2018-12-04T00:00:00      1   \n",
       "2            10   5196000.0        56.0  2015-08-20T00:00:00      2   \n",
       "3             0  64900000.0       159.0  2015-07-24T00:00:00      3   \n",
       "4             2  10000000.0       100.0  2018-06-19T00:00:00      2   \n",
       "\n",
       "   ceiling_height  floors_total  living_area  floor is_apartment  studio  \\\n",
       "0            2.70          16.0         51.0      8          NaN   False   \n",
       "1             NaN          11.0         18.6      1          NaN   False   \n",
       "2             NaN           5.0         34.3      4          NaN   False   \n",
       "3             NaN          14.0          NaN      9          NaN   False   \n",
       "4            3.03          14.0         32.0     13          NaN   False   \n",
       "\n",
       "   open_plan  kitchen_area  balcony    locality_name  airports_nearest  \\\n",
       "0      False          25.0      NaN  Санкт-Петербург           18863.0   \n",
       "1      False          11.0      2.0   посёлок Шушары           12817.0   \n",
       "2      False           8.3      0.0  Санкт-Петербург           21741.0   \n",
       "3      False           NaN      0.0  Санкт-Петербург           28098.0   \n",
       "4      False          41.0      NaN  Санкт-Петербург           31856.0   \n",
       "\n",
       "   cityCenters_nearest  parks_around3000  parks_nearest  ponds_around3000  \\\n",
       "0              16028.0               1.0          482.0               2.0   \n",
       "1              18603.0               0.0            NaN               0.0   \n",
       "2              13933.0               1.0           90.0               2.0   \n",
       "3               6800.0               2.0           84.0               3.0   \n",
       "4               8098.0               2.0          112.0               1.0   \n",
       "\n",
       "   ponds_nearest  days_exposition  \n",
       "0          755.0              NaN  \n",
       "1            NaN             81.0  \n",
       "2          574.0            558.0  \n",
       "3          234.0            424.0  \n",
       "4           48.0            121.0  "
      ]
     },
     "execution_count": 6,
     "metadata": {},
     "output_type": "execute_result"
    }
   ],
   "source": [
    "pd.set_option('display.max_columns', None)\n",
    "data.head()"
   ]
  },
  {
   "cell_type": "markdown",
   "metadata": {},
   "source": [
    "Выведем основную информацию о датасете с помощью метода **`info()`**"
   ]
  },
  {
   "cell_type": "code",
   "execution_count": 7,
   "metadata": {},
   "outputs": [
    {
     "name": "stdout",
     "output_type": "stream",
     "text": [
      "<class 'pandas.core.frame.DataFrame'>\n",
      "RangeIndex: 23699 entries, 0 to 23698\n",
      "Data columns (total 22 columns):\n",
      " #   Column                Non-Null Count  Dtype  \n",
      "---  ------                --------------  -----  \n",
      " 0   total_images          23699 non-null  int64  \n",
      " 1   last_price            23699 non-null  float64\n",
      " 2   total_area            23699 non-null  float64\n",
      " 3   first_day_exposition  23699 non-null  object \n",
      " 4   rooms                 23699 non-null  int64  \n",
      " 5   ceiling_height        14504 non-null  float64\n",
      " 6   floors_total          23613 non-null  float64\n",
      " 7   living_area           21796 non-null  float64\n",
      " 8   floor                 23699 non-null  int64  \n",
      " 9   is_apartment          2775 non-null   object \n",
      " 10  studio                23699 non-null  bool   \n",
      " 11  open_plan             23699 non-null  bool   \n",
      " 12  kitchen_area          21421 non-null  float64\n",
      " 13  balcony               12180 non-null  float64\n",
      " 14  locality_name         23650 non-null  object \n",
      " 15  airports_nearest      18157 non-null  float64\n",
      " 16  cityCenters_nearest   18180 non-null  float64\n",
      " 17  parks_around3000      18181 non-null  float64\n",
      " 18  parks_nearest         8079 non-null   float64\n",
      " 19  ponds_around3000      18181 non-null  float64\n",
      " 20  ponds_nearest         9110 non-null   float64\n",
      " 21  days_exposition       20518 non-null  float64\n",
      "dtypes: bool(2), float64(14), int64(3), object(3)\n",
      "memory usage: 3.7+ MB\n"
     ]
    }
   ],
   "source": [
    "data.info()"
   ]
  },
  {
   "cell_type": "code",
   "execution_count": 8,
   "metadata": {},
   "outputs": [
    {
     "data": {
      "text/plain": [
       "array([[<AxesSubplot:title={'center':'total_images'}>,\n",
       "        <AxesSubplot:title={'center':'last_price'}>,\n",
       "        <AxesSubplot:title={'center':'total_area'}>,\n",
       "        <AxesSubplot:title={'center':'rooms'}>],\n",
       "       [<AxesSubplot:title={'center':'ceiling_height'}>,\n",
       "        <AxesSubplot:title={'center':'floors_total'}>,\n",
       "        <AxesSubplot:title={'center':'living_area'}>,\n",
       "        <AxesSubplot:title={'center':'floor'}>],\n",
       "       [<AxesSubplot:title={'center':'kitchen_area'}>,\n",
       "        <AxesSubplot:title={'center':'balcony'}>,\n",
       "        <AxesSubplot:title={'center':'airports_nearest'}>,\n",
       "        <AxesSubplot:title={'center':'cityCenters_nearest'}>],\n",
       "       [<AxesSubplot:title={'center':'parks_around3000'}>,\n",
       "        <AxesSubplot:title={'center':'parks_nearest'}>,\n",
       "        <AxesSubplot:title={'center':'ponds_around3000'}>,\n",
       "        <AxesSubplot:title={'center':'ponds_nearest'}>],\n",
       "       [<AxesSubplot:title={'center':'days_exposition'}>, <AxesSubplot:>,\n",
       "        <AxesSubplot:>, <AxesSubplot:>]], dtype=object)"
      ]
     },
     "execution_count": 8,
     "metadata": {},
     "output_type": "execute_result"
    },
    {
     "data": {
      "image/png": "[encoded data removed]",
      "text/plain": [
       "<Figure size 1080x1440 with 20 Axes>"
      ]
     },
     "metadata": {
      "needs_background": "light"
     },
     "output_type": "display_data"
    }
   ],
   "source": [
    "data.hist(figsize=(15, 20))"
   ]
  },
  {
   "cell_type": "markdown",
   "metadata": {},
   "source": [
    "**Выводы:** \n",
    "1. Столбцы, которые содержат числа с плавающей точкой, удобно будет заменить на целочисленный тип данных. Исключение - столбец \"ceiling_height\". \n",
    "2. Столбец \"first_day_exposition\", отражающий дату и врмя, представлен строковым типом данных. Лучшим решением здесь будет привести его к типу datetime.\n",
    "3. Значения столбцов с булевым типом данных нуждаются в преобразовании (0 - False, 1 - True) для удобства в дальнейших манипуляциях."
   ]
  },
  {
   "cell_type": "markdown",
   "metadata": {},
   "source": [
    "### Предобработка данных"
   ]
  },
  {
   "cell_type": "markdown",
   "metadata": {},
   "source": [
    "Посчитаем количество пропущенных значений в данных."
   ]
  },
  {
   "cell_type": "code",
   "execution_count": 9,
   "metadata": {},
   "outputs": [
    {
     "data": {
      "text/plain": [
       "total_images                0\n",
       "last_price                  0\n",
       "total_area                  0\n",
       "first_day_exposition        0\n",
       "rooms                       0\n",
       "ceiling_height           9195\n",
       "floors_total               86\n",
       "living_area              1903\n",
       "floor                       0\n",
       "is_apartment            20924\n",
       "studio                      0\n",
       "open_plan                   0\n",
       "kitchen_area             2278\n",
       "balcony                 11519\n",
       "locality_name              49\n",
       "airports_nearest         5542\n",
       "cityCenters_nearest      5519\n",
       "parks_around3000         5518\n",
       "parks_nearest           15620\n",
       "ponds_around3000         5518\n",
       "ponds_nearest           14589\n",
       "days_exposition          3181\n",
       "dtype: int64"
      ]
     },
     "execution_count": 9,
     "metadata": {},
     "output_type": "execute_result"
    }
   ],
   "source": [
    "data.isna().sum()"
   ]
  },
  {
   "cell_type": "markdown",
   "metadata": {},
   "source": [
    "**Вывод:**\n",
    "1. В \"balcony\", \"parks_around3000\", \"ponds_around3000\" отсутствующие значения можно смело заменить на 0, так как отсутствие данных значений предполагает отсутствие таких объектов поблизости в действиительности.\n",
    "2. В \"living_area\" и \"kitchen_area\" пустые значения можно заменить на 0, так как они являются не совсем \"самостоятельными\" и составляют часть значения в \"total_area\". "
   ]
  },
  {
   "cell_type": "markdown",
   "metadata": {},
   "source": [
    "**Причин появлений пропусков в данных несколько:**\n",
    "1. Некоторые значения не введены лично пользователями.\n",
    "2. Возможно, значения в столбцах, отражающих расстояния до каких-либо объектов, остаются в датасете в случае включенной геолокации. Т.е. когда пользователь заполняет объявление о продаже и начинает заполнять поле, где указывают расстояния до ближайших объектов, сайт предлагает включить геолокацию. Не у всех пользователей есть возможность воспользоваться ей на момент заполнения объявления.\n",
    "3. Пропуски в столбцах с булевым типом данных возникли в результате особенности сайта. Пользователь на момент заполнения данных в поле \"балкон\" может не оставить \"след\". В таком случае сайту просто-напросто нечего будет отправить о балконах на сервер. \n",
    "4. На сайте многие поля необязательны для заполнения. Однако, сайт незаполненные поля \"вынужден\" вернуть на сервер. А так как значений нет, то в датасете мы видим \"nan\"."
   ]
  },
  {
   "cell_type": "markdown",
   "metadata": {},
   "source": [
    "Посчитаем количество строк-дубликатов в датасете."
   ]
  },
  {
   "cell_type": "code",
   "execution_count": 10,
   "metadata": {},
   "outputs": [
    {
     "data": {
      "text/plain": [
       "0"
      ]
     },
     "execution_count": 10,
     "metadata": {},
     "output_type": "execute_result"
    }
   ],
   "source": [
    "data.duplicated().sum()"
   ]
  },
  {
   "cell_type": "markdown",
   "metadata": {},
   "source": [
    "Получим набор уникальных значений столбцов, в которых встречаются пропущенные значения. По возможности сразу их исправим. Начнем по порядку."
   ]
  },
  {
   "cell_type": "code",
   "execution_count": 11,
   "metadata": {},
   "outputs": [
    {
     "data": {
      "text/plain": [
       "array([  1.  ,   1.2 ,   1.75,   2.  ,   2.2 ,   2.25,   2.3 ,   2.34,\n",
       "         2.4 ,   2.45,   2.46,   2.47,   2.48,   2.49,   2.5 ,   2.51,\n",
       "         2.52,   2.53,   2.54,   2.55,   2.56,   2.57,   2.58,   2.59,\n",
       "         2.6 ,   2.61,   2.62,   2.63,   2.64,   2.65,   2.66,   2.67,\n",
       "         2.68,   2.69,   2.7 ,   2.71,   2.72,   2.73,   2.74,   2.75,\n",
       "         2.76,   2.77,   2.78,   2.79,   2.8 ,   2.81,   2.82,   2.83,\n",
       "         2.84,   2.85,   2.86,   2.87,   2.88,   2.89,   2.9 ,   2.91,\n",
       "         2.92,   2.93,   2.94,   2.95,   2.96,   2.97,   2.98,   2.99,\n",
       "         3.  ,   3.01,   3.02,   3.03,   3.04,   3.05,   3.06,   3.07,\n",
       "         3.08,   3.09,   3.1 ,   3.11,   3.12,   3.13,   3.14,   3.15,\n",
       "         3.16,   3.17,   3.18,   3.2 ,   3.21,   3.22,   3.23,   3.24,\n",
       "         3.25,   3.26,   3.27,   3.28,   3.29,   3.3 ,   3.31,   3.32,\n",
       "         3.33,   3.34,   3.35,   3.36,   3.37,   3.38,   3.39,   3.4 ,\n",
       "         3.42,   3.43,   3.44,   3.45,   3.46,   3.47,   3.48,   3.49,\n",
       "         3.5 ,   3.51,   3.52,   3.53,   3.54,   3.55,   3.56,   3.57,\n",
       "         3.58,   3.59,   3.6 ,   3.62,   3.63,   3.65,   3.66,   3.67,\n",
       "         3.68,   3.69,   3.7 ,   3.75,   3.76,   3.78,   3.8 ,   3.82,\n",
       "         3.83,   3.84,   3.85,   3.86,   3.87,   3.88,   3.9 ,   3.93,\n",
       "         3.95,   3.98,   4.  ,   4.06,   4.1 ,   4.14,   4.15,   4.19,\n",
       "         4.2 ,   4.25,   4.3 ,   4.37,   4.4 ,   4.45,   4.5 ,   4.65,\n",
       "         4.7 ,   4.8 ,   4.9 ,   5.  ,   5.2 ,   5.3 ,   5.5 ,   5.6 ,\n",
       "         5.8 ,   6.  ,   8.  ,   8.3 ,  10.3 ,  14.  ,  20.  ,  22.6 ,\n",
       "        24.  ,  25.  ,  26.  ,  27.  ,  27.5 ,  32.  , 100.  ,    nan])"
      ]
     },
     "execution_count": 11,
     "metadata": {},
     "output_type": "execute_result"
    }
   ],
   "source": [
    "data['ceiling_height'].sort_values().unique()"
   ]
  },
  {
   "cell_type": "markdown",
   "metadata": {},
   "source": [
    "Встречаются аномальные значения для высоты потолков: `\"32\", \"27\", \"24\", \"26\", \"14\", \"20\", \"22.6\"` и `\"100\"`. Очевидно, они должны быть вещественными. Такие значения как `\"8\", \"10\"` вероятны, и их можно оставить без изменения. Скорее всего, это двухэтажные квартиры. Выбиваются из массива следующие значения `\"1\"` и `\"1.2\"`. Проверим, сильно ли эти значения портят \"картину\"."
   ]
  },
  {
   "cell_type": "code",
   "execution_count": 12,
   "metadata": {},
   "outputs": [
    {
     "data": {
      "text/plain": [
       "count    14504.000000\n",
       "mean         2.771499\n",
       "std          1.261056\n",
       "min          1.000000\n",
       "25%          2.520000\n",
       "50%          2.650000\n",
       "75%          2.800000\n",
       "max        100.000000\n",
       "Name: ceiling_height, dtype: float64"
      ]
     },
     "execution_count": 12,
     "metadata": {},
     "output_type": "execute_result"
    }
   ],
   "source": [
    "data['ceiling_height'].describe()"
   ]
  },
  {
   "cell_type": "markdown",
   "metadata": {},
   "source": [
    "Данные, несмотря на выбросы, корректны, поэтому пустые значения, можно заменить медианой."
   ]
  },
  {
   "cell_type": "code",
   "execution_count": 13,
   "metadata": {},
   "outputs": [
    {
     "data": {
      "text/html": [
       "<div>\n",
       "<style scoped>\n",
       "    .dataframe tbody tr th:only-of-type {\n",
       "        vertical-align: middle;\n",
       "    }\n",
       "\n",
       "    .dataframe tbody tr th {\n",
       "        vertical-align: top;\n",
       "    }\n",
       "\n",
       "    .dataframe thead th {\n",
       "        text-align: right;\n",
       "    }\n",
       "</style>\n",
       "<table border=\"1\" class=\"dataframe\">\n",
       "  <thead>\n",
       "    <tr style=\"text-align: right;\">\n",
       "      <th></th>\n",
       "      <th>total_images</th>\n",
       "      <th>last_price</th>\n",
       "      <th>total_area</th>\n",
       "      <th>first_day_exposition</th>\n",
       "      <th>rooms</th>\n",
       "      <th>ceiling_height</th>\n",
       "      <th>floors_total</th>\n",
       "      <th>living_area</th>\n",
       "      <th>floor</th>\n",
       "      <th>is_apartment</th>\n",
       "      <th>studio</th>\n",
       "      <th>open_plan</th>\n",
       "      <th>kitchen_area</th>\n",
       "      <th>balcony</th>\n",
       "      <th>locality_name</th>\n",
       "      <th>airports_nearest</th>\n",
       "      <th>cityCenters_nearest</th>\n",
       "      <th>parks_around3000</th>\n",
       "      <th>parks_nearest</th>\n",
       "      <th>ponds_around3000</th>\n",
       "      <th>ponds_nearest</th>\n",
       "      <th>days_exposition</th>\n",
       "    </tr>\n",
       "  </thead>\n",
       "  <tbody>\n",
       "    <tr>\n",
       "      <th>0</th>\n",
       "      <td>20</td>\n",
       "      <td>13000000.0</td>\n",
       "      <td>108.0</td>\n",
       "      <td>2019-03-07T00:00:00</td>\n",
       "      <td>3</td>\n",
       "      <td>2.70</td>\n",
       "      <td>16.0</td>\n",
       "      <td>51.0</td>\n",
       "      <td>8</td>\n",
       "      <td>NaN</td>\n",
       "      <td>False</td>\n",
       "      <td>False</td>\n",
       "      <td>25.0</td>\n",
       "      <td>NaN</td>\n",
       "      <td>Санкт-Петербург</td>\n",
       "      <td>18863.0</td>\n",
       "      <td>16028.0</td>\n",
       "      <td>1.0</td>\n",
       "      <td>482.0</td>\n",
       "      <td>2.0</td>\n",
       "      <td>755.0</td>\n",
       "      <td>NaN</td>\n",
       "    </tr>\n",
       "    <tr>\n",
       "      <th>1</th>\n",
       "      <td>7</td>\n",
       "      <td>3350000.0</td>\n",
       "      <td>40.4</td>\n",
       "      <td>2018-12-04T00:00:00</td>\n",
       "      <td>1</td>\n",
       "      <td>2.65</td>\n",
       "      <td>11.0</td>\n",
       "      <td>18.6</td>\n",
       "      <td>1</td>\n",
       "      <td>NaN</td>\n",
       "      <td>False</td>\n",
       "      <td>False</td>\n",
       "      <td>11.0</td>\n",
       "      <td>2.0</td>\n",
       "      <td>посёлок Шушары</td>\n",
       "      <td>12817.0</td>\n",
       "      <td>18603.0</td>\n",
       "      <td>0.0</td>\n",
       "      <td>NaN</td>\n",
       "      <td>0.0</td>\n",
       "      <td>NaN</td>\n",
       "      <td>81.0</td>\n",
       "    </tr>\n",
       "    <tr>\n",
       "      <th>2</th>\n",
       "      <td>10</td>\n",
       "      <td>5196000.0</td>\n",
       "      <td>56.0</td>\n",
       "      <td>2015-08-20T00:00:00</td>\n",
       "      <td>2</td>\n",
       "      <td>2.65</td>\n",
       "      <td>5.0</td>\n",
       "      <td>34.3</td>\n",
       "      <td>4</td>\n",
       "      <td>NaN</td>\n",
       "      <td>False</td>\n",
       "      <td>False</td>\n",
       "      <td>8.3</td>\n",
       "      <td>0.0</td>\n",
       "      <td>Санкт-Петербург</td>\n",
       "      <td>21741.0</td>\n",
       "      <td>13933.0</td>\n",
       "      <td>1.0</td>\n",
       "      <td>90.0</td>\n",
       "      <td>2.0</td>\n",
       "      <td>574.0</td>\n",
       "      <td>558.0</td>\n",
       "    </tr>\n",
       "    <tr>\n",
       "      <th>3</th>\n",
       "      <td>0</td>\n",
       "      <td>64900000.0</td>\n",
       "      <td>159.0</td>\n",
       "      <td>2015-07-24T00:00:00</td>\n",
       "      <td>3</td>\n",
       "      <td>2.65</td>\n",
       "      <td>14.0</td>\n",
       "      <td>NaN</td>\n",
       "      <td>9</td>\n",
       "      <td>NaN</td>\n",
       "      <td>False</td>\n",
       "      <td>False</td>\n",
       "      <td>NaN</td>\n",
       "      <td>0.0</td>\n",
       "      <td>Санкт-Петербург</td>\n",
       "      <td>28098.0</td>\n",
       "      <td>6800.0</td>\n",
       "      <td>2.0</td>\n",
       "      <td>84.0</td>\n",
       "      <td>3.0</td>\n",
       "      <td>234.0</td>\n",
       "      <td>424.0</td>\n",
       "    </tr>\n",
       "    <tr>\n",
       "      <th>4</th>\n",
       "      <td>2</td>\n",
       "      <td>10000000.0</td>\n",
       "      <td>100.0</td>\n",
       "      <td>2018-06-19T00:00:00</td>\n",
       "      <td>2</td>\n",
       "      <td>3.03</td>\n",
       "      <td>14.0</td>\n",
       "      <td>32.0</td>\n",
       "      <td>13</td>\n",
       "      <td>NaN</td>\n",
       "      <td>False</td>\n",
       "      <td>False</td>\n",
       "      <td>41.0</td>\n",
       "      <td>NaN</td>\n",
       "      <td>Санкт-Петербург</td>\n",
       "      <td>31856.0</td>\n",
       "      <td>8098.0</td>\n",
       "      <td>2.0</td>\n",
       "      <td>112.0</td>\n",
       "      <td>1.0</td>\n",
       "      <td>48.0</td>\n",
       "      <td>121.0</td>\n",
       "    </tr>\n",
       "  </tbody>\n",
       "</table>\n",
       "</div>"
      ],
      "text/plain": [
       "   total_images  last_price  total_area first_day_exposition  rooms  \\\n",
       "0            20  13000000.0       108.0  2019-03-07T00:00:00      3   \n",
       "1             7   3350000.0        40.4  2018-12-04T00:00:00      1   \n",
       "2            10   5196000.0        56.0  2015-08-20T00:00:00      2   \n",
       "3             0  64900000.0       159.0  2015-07-24T00:00:00      3   \n",
       "4             2  10000000.0       100.0  2018-06-19T00:00:00      2   \n",
       "\n",
       "   ceiling_height  floors_total  living_area  floor is_apartment  studio  \\\n",
       "0            2.70          16.0         51.0      8          NaN   False   \n",
       "1            2.65          11.0         18.6      1          NaN   False   \n",
       "2            2.65           5.0         34.3      4          NaN   False   \n",
       "3            2.65          14.0          NaN      9          NaN   False   \n",
       "4            3.03          14.0         32.0     13          NaN   False   \n",
       "\n",
       "   open_plan  kitchen_area  balcony    locality_name  airports_nearest  \\\n",
       "0      False          25.0      NaN  Санкт-Петербург           18863.0   \n",
       "1      False          11.0      2.0   посёлок Шушары           12817.0   \n",
       "2      False           8.3      0.0  Санкт-Петербург           21741.0   \n",
       "3      False           NaN      0.0  Санкт-Петербург           28098.0   \n",
       "4      False          41.0      NaN  Санкт-Петербург           31856.0   \n",
       "\n",
       "   cityCenters_nearest  parks_around3000  parks_nearest  ponds_around3000  \\\n",
       "0              16028.0               1.0          482.0               2.0   \n",
       "1              18603.0               0.0            NaN               0.0   \n",
       "2              13933.0               1.0           90.0               2.0   \n",
       "3               6800.0               2.0           84.0               3.0   \n",
       "4               8098.0               2.0          112.0               1.0   \n",
       "\n",
       "   ponds_nearest  days_exposition  \n",
       "0          755.0              NaN  \n",
       "1            NaN             81.0  \n",
       "2          574.0            558.0  \n",
       "3          234.0            424.0  \n",
       "4           48.0            121.0  "
      ]
     },
     "execution_count": 13,
     "metadata": {},
     "output_type": "execute_result"
    }
   ],
   "source": [
    "data['ceiling_height'] = data['ceiling_height'].fillna(data['ceiling_height'].median())\n",
    "data.head()"
   ]
  },
  {
   "cell_type": "code",
   "execution_count": 14,
   "metadata": {},
   "outputs": [
    {
     "data": {
      "text/plain": [
       "array(['Бокситогорск', 'Волосово', 'Волхов', 'Всеволожск', 'Выборг',\n",
       "       'Высоцк', 'Гатчина', 'Зеленогорск', 'Ивангород', 'Каменногорск',\n",
       "       'Кингисепп', 'Кириши', 'Кировск', 'Колпино', 'Коммунар',\n",
       "       'Красное Село', 'Кронштадт', 'Кудрово', 'Лодейное Поле',\n",
       "       'Ломоносов', 'Луга', 'Любань', 'Мурино', 'Никольское',\n",
       "       'Новая Ладога', 'Отрадное', 'Павловск', 'Петергоф', 'Пикалёво',\n",
       "       'Подпорожье', 'Приморск', 'Приозерск', 'Пушкин', 'Санкт-Петербург',\n",
       "       'Светогорск', 'Сертолово', 'Сестрорецк', 'Сланцы', 'Сосновый Бор',\n",
       "       'Сясьстрой', 'Тихвин', 'Тосно', 'Шлиссельбург',\n",
       "       'городской поселок Большая Ижора', 'городской поселок Янино-1',\n",
       "       'городской посёлок Будогощь', 'городской посёлок Виллози',\n",
       "       'городской посёлок Лесогорский', 'городской посёлок Мга',\n",
       "       'городской посёлок Назия', 'городской посёлок Новоселье',\n",
       "       'городской посёлок Павлово', 'городской посёлок Рощино',\n",
       "       'городской посёлок Свирьстрой', 'городской посёлок Советский',\n",
       "       'городской посёлок Фёдоровское', 'городской посёлок Янино-1',\n",
       "       'деревня Агалатово', 'деревня Аро', 'деревня Батово',\n",
       "       'деревня Бегуницы', 'деревня Белогорка', 'деревня Большая Вруда',\n",
       "       'деревня Большая Пустомержа', 'деревня Большие Колпаны',\n",
       "       'деревня Большое Рейзино', 'деревня Большой Сабск', 'деревня Бор',\n",
       "       'деревня Борисова Грива', 'деревня Ваганово', 'деревня Вартемяги',\n",
       "       'деревня Вахнова Кара', 'деревня Выскатка', 'деревня Гарболово',\n",
       "       'деревня Глинка', 'деревня Горбунки', 'деревня Гостилицы',\n",
       "       'деревня Заклинье', 'деревня Заневка', 'деревня Зимитицы',\n",
       "       'деревня Извара', 'деревня Иссад', 'деревня Калитино',\n",
       "       'деревня Кальтино', 'деревня Камышовка', 'деревня Каськово',\n",
       "       'деревня Келози', 'деревня Кипень', 'деревня Кисельня',\n",
       "       'деревня Колтуши', 'деревня Коркино', 'деревня Котлы',\n",
       "       'деревня Кривко', 'деревня Кудрово', 'деревня Кузьмолово',\n",
       "       'деревня Курковицы', 'деревня Куровицы', 'деревня Куттузи',\n",
       "       'деревня Лаврики', 'деревня Лаголово', 'деревня Лампово',\n",
       "       'деревня Лесколово', 'деревня Лопухинка', 'деревня Лупполово',\n",
       "       'деревня Малая Романовка', 'деревня Малое Верево',\n",
       "       'деревня Малое Карлино', 'деревня Малые Колпаны',\n",
       "       'деревня Мануйлово', 'деревня Меньково', 'деревня Мины',\n",
       "       'деревня Мистолово', 'деревня Ненимяки', 'деревня Нижние Осельки',\n",
       "       'деревня Нижняя', 'деревня Низино', 'деревня Новое Девяткино',\n",
       "       'деревня Новолисино', 'деревня Нурма', 'деревня Оржицы',\n",
       "       'деревня Парицы', 'деревня Пельгора', 'деревня Пеники',\n",
       "       'деревня Пижма', 'деревня Пикколово', 'деревня Пудомяги',\n",
       "       'деревня Пустынка', 'деревня Пчева', 'деревня Рабитицы',\n",
       "       'деревня Разбегаево', 'деревня Раздолье', 'деревня Разметелево',\n",
       "       'деревня Рапполово', 'деревня Реброво', 'деревня Русско',\n",
       "       'деревня Сижно', 'деревня Снегирёвка', 'деревня Старая',\n",
       "       'деревня Старая Пустошь', 'деревня Старое Хинколово',\n",
       "       'деревня Старополье', 'деревня Старосиверская',\n",
       "       'деревня Старые Бегуницы', 'деревня Суоранда',\n",
       "       'деревня Сяськелево', 'деревня Тарасово', 'деревня Терпилицы',\n",
       "       'деревня Тихковицы', 'деревня Тойворово', 'деревня Торосово',\n",
       "       'деревня Торошковичи', 'деревня Трубников Бор',\n",
       "       'деревня Фалилеево', 'деревня Фёдоровское', 'деревня Хапо-Ое',\n",
       "       'деревня Хязельки', 'деревня Чудской Бор', 'деревня Шпаньково',\n",
       "       'деревня Щеглово', 'деревня Юкки', 'деревня Ялгино',\n",
       "       'деревня Яльгелево', 'деревня Ям-Тесово',\n",
       "       'коттеджный поселок Кивеннапа Север', 'коттеджный поселок Счастье',\n",
       "       'коттеджный посёлок Лесное', 'поселок Аннино', 'поселок Барышево',\n",
       "       'поселок Бугры', 'поселок Возрождение', 'поселок Войсковицы',\n",
       "       'поселок Володарское', 'поселок Гаврилово', 'поселок Гарболово',\n",
       "       'поселок Гладкое', 'поселок Глажево', 'поселок Глебычево',\n",
       "       'поселок Гончарово', 'поселок Громово', 'поселок Дружноселье',\n",
       "       'поселок Елизаветино', 'поселок Жилгородок', 'поселок Жилпосёлок',\n",
       "       'поселок Житково', 'поселок Заводской', 'поселок Запорожское',\n",
       "       'поселок Зимитицы', 'поселок Ильичёво', 'поселок Калитино',\n",
       "       'поселок Каложицы', 'поселок Кингисеппский', 'поселок Кирпичное',\n",
       "       'поселок Кобралово', 'поселок Кобринское', 'поселок Коммунары',\n",
       "       'поселок Коробицыно', 'поселок Котельский',\n",
       "       'поселок Красная Долина', 'поселок Красносельское',\n",
       "       'поселок Лесное', 'поселок Лисий Нос', 'поселок Лукаши',\n",
       "       'поселок Любань', 'поселок Мельниково', 'поселок Мичуринское',\n",
       "       'поселок Молодцово', 'поселок Мурино', 'поселок Новый Свет',\n",
       "       'поселок Новый Учхоз', 'поселок Оредеж',\n",
       "       'поселок Пансионат Зелёный Бор', 'поселок Первомайское',\n",
       "       'поселок Перово', 'поселок Петровское', 'поселок Победа',\n",
       "       'поселок Поляны', 'поселок Почап', 'поселок Починок',\n",
       "       'поселок Пушное', 'поселок Пчевжа', 'поселок Рабитицы',\n",
       "       'поселок Романовка', 'поселок Ромашки', 'поселок Рябово',\n",
       "       'поселок Севастьяново', 'поселок Селезнёво', 'поселок Сельцо',\n",
       "       'поселок Семиозерье', 'поселок Семрино', 'поселок Серебрянский',\n",
       "       'поселок Совхозный', 'поселок Старая Малукса',\n",
       "       'поселок Стеклянный', 'поселок Сумино', 'поселок Суходолье',\n",
       "       'поселок Тельмана', 'поселок Терволово', 'поселок Торковичи',\n",
       "       'поселок Тёсово-4', 'поселок Углово', 'поселок Усть-Луга',\n",
       "       'поселок Ушаки', 'поселок Цвелодубово', 'поселок Цвылёво',\n",
       "       'поселок городского типа Большая Ижора',\n",
       "       'поселок городского типа Вырица',\n",
       "       'поселок городского типа Дружная Горка',\n",
       "       'поселок городского типа Дубровка',\n",
       "       'поселок городского типа Ефимовский',\n",
       "       'поселок городского типа Кондратьево',\n",
       "       'поселок городского типа Красный Бор',\n",
       "       'поселок городского типа Кузьмоловский',\n",
       "       'поселок городского типа Лебяжье',\n",
       "       'поселок городского типа Лесогорский',\n",
       "       'поселок городского типа Назия',\n",
       "       'поселок городского типа Никольский',\n",
       "       'поселок городского типа Приладожский',\n",
       "       'поселок городского типа Рахья', 'поселок городского типа Рощино',\n",
       "       'поселок городского типа Рябово',\n",
       "       'поселок городского типа Синявино',\n",
       "       'поселок городского типа Советский',\n",
       "       'поселок городского типа Токсово',\n",
       "       'поселок городского типа Форносово',\n",
       "       'поселок городского типа имени Свердлова',\n",
       "       'поселок станции Вещево', 'поселок станции Корнево',\n",
       "       'поселок станции Лужайка', 'поселок станции Приветнинское',\n",
       "       'посёлок Александровская', 'посёлок Алексеевка', 'посёлок Аннино',\n",
       "       'посёлок Белоостров', 'посёлок Бугры', 'посёлок Возрождение',\n",
       "       'посёлок Войскорово', 'посёлок Высокоключевой',\n",
       "       'посёлок Гаврилово', 'посёлок Дзержинского', 'посёлок Жилгородок',\n",
       "       'посёлок Ильичёво', 'посёлок Кикерино', 'посёлок Кобралово',\n",
       "       'посёлок Коробицыно', 'посёлок Левашово', 'посёлок Ленинское',\n",
       "       'посёлок Лисий Нос', 'посёлок Мельниково', 'посёлок Металлострой',\n",
       "       'посёлок Мичуринское', 'посёлок Молодёжное', 'посёлок Мурино',\n",
       "       'посёлок Мыза-Ивановка', 'посёлок Новогорелово',\n",
       "       'посёлок Новый Свет', 'посёлок Пансионат Зелёный Бор',\n",
       "       'посёлок Парголово', 'посёлок Перово', 'посёлок Песочный',\n",
       "       'посёлок Петро-Славянка', 'посёлок Петровское',\n",
       "       'посёлок Платформа 69-й километр', 'посёлок Плодовое',\n",
       "       'посёлок Плоское', 'посёлок Победа', 'посёлок Поляны',\n",
       "       'посёлок Понтонный', 'посёлок Пригородный', 'посёлок Пудость',\n",
       "       'посёлок Репино', 'посёлок Ропша', 'посёлок Сапёрное',\n",
       "       'посёлок Сапёрный', 'посёлок Сосново', 'посёлок Старая Малукса',\n",
       "       'посёлок Стеклянный', 'посёлок Стрельна', 'посёлок Суйда',\n",
       "       'посёлок Сумино', 'посёлок Тельмана', 'посёлок Терволово',\n",
       "       'посёлок Торфяное', 'посёлок Усть-Ижора', 'посёлок Усть-Луга',\n",
       "       'посёлок Форт Красная Горка', 'посёлок Шугозеро', 'посёлок Шушары',\n",
       "       'посёлок Щеглово', 'посёлок городского типа Важины',\n",
       "       'посёлок городского типа Вознесенье',\n",
       "       'посёлок городского типа Вырица',\n",
       "       'посёлок городского типа Красный Бор',\n",
       "       'посёлок городского типа Кузнечное',\n",
       "       'посёлок городского типа Кузьмоловский',\n",
       "       'посёлок городского типа Лебяжье', 'посёлок городского типа Мга',\n",
       "       'посёлок городского типа Павлово',\n",
       "       'посёлок городского типа Рощино', 'посёлок городского типа Рябово',\n",
       "       'посёлок городского типа Сиверский',\n",
       "       'посёлок городского типа Тайцы', 'посёлок городского типа Токсово',\n",
       "       'посёлок городского типа Ульяновка',\n",
       "       'посёлок городского типа Форносово',\n",
       "       'посёлок городского типа имени Морозова',\n",
       "       'посёлок городского типа имени Свердлова',\n",
       "       'посёлок при железнодорожной станции Вещево',\n",
       "       'посёлок при железнодорожной станции Приветнинское',\n",
       "       'посёлок станции Громово', 'посёлок станции Свирь',\n",
       "       'садоводческое некоммерческое товарищество Лесная Поляна',\n",
       "       'садовое товарищество Новая Ропша',\n",
       "       'садовое товарищество Приладожский', 'садовое товарищество Рахья',\n",
       "       'садовое товарищество Садко', 'село Копорье', 'село Никольское',\n",
       "       'село Павлово', 'село Паша', 'село Путилово', 'село Рождествено',\n",
       "       'село Русско-Высоцкое', 'село Старая Ладога', 'село Шум', nan],\n",
       "      dtype=object)"
      ]
     },
     "execution_count": 14,
     "metadata": {},
     "output_type": "execute_result"
    }
   ],
   "source": [
    "data['locality_name'].sort_values().unique()"
   ]
  },
  {
   "cell_type": "code",
   "execution_count": 16,
   "metadata": {},
   "outputs": [
    {
     "data": {
      "text/html": [
       "<div>\n",
       "<style scoped>\n",
       "    .dataframe tbody tr th:only-of-type {\n",
       "        vertical-align: middle;\n",
       "    }\n",
       "\n",
       "    .dataframe tbody tr th {\n",
       "        vertical-align: top;\n",
       "    }\n",
       "\n",
       "    .dataframe thead th {\n",
       "        text-align: right;\n",
       "    }\n",
       "</style>\n",
       "<table border=\"1\" class=\"dataframe\">\n",
       "  <thead>\n",
       "    <tr style=\"text-align: right;\">\n",
       "      <th></th>\n",
       "      <th>total_images</th>\n",
       "      <th>last_price</th>\n",
       "      <th>total_area</th>\n",
       "      <th>first_day_exposition</th>\n",
       "      <th>rooms</th>\n",
       "      <th>ceiling_height</th>\n",
       "      <th>floors_total</th>\n",
       "      <th>living_area</th>\n",
       "      <th>floor</th>\n",
       "      <th>is_apartment</th>\n",
       "      <th>studio</th>\n",
       "      <th>open_plan</th>\n",
       "      <th>kitchen_area</th>\n",
       "      <th>balcony</th>\n",
       "      <th>locality_name</th>\n",
       "      <th>airports_nearest</th>\n",
       "      <th>cityCenters_nearest</th>\n",
       "      <th>parks_around3000</th>\n",
       "      <th>parks_nearest</th>\n",
       "      <th>ponds_around3000</th>\n",
       "      <th>ponds_nearest</th>\n",
       "      <th>days_exposition</th>\n",
       "    </tr>\n",
       "  </thead>\n",
       "  <tbody>\n",
       "    <tr>\n",
       "      <th>0</th>\n",
       "      <td>20</td>\n",
       "      <td>13000000.0</td>\n",
       "      <td>108.0</td>\n",
       "      <td>2019-03-07T00:00:00</td>\n",
       "      <td>3</td>\n",
       "      <td>2.70</td>\n",
       "      <td>16.0</td>\n",
       "      <td>51.0</td>\n",
       "      <td>8</td>\n",
       "      <td>NaN</td>\n",
       "      <td>False</td>\n",
       "      <td>False</td>\n",
       "      <td>25.0</td>\n",
       "      <td>NaN</td>\n",
       "      <td>Санкт-Петербург</td>\n",
       "      <td>18863.0</td>\n",
       "      <td>16028.0</td>\n",
       "      <td>1.0</td>\n",
       "      <td>482.0</td>\n",
       "      <td>2.0</td>\n",
       "      <td>755.0</td>\n",
       "      <td>NaN</td>\n",
       "    </tr>\n",
       "    <tr>\n",
       "      <th>1</th>\n",
       "      <td>7</td>\n",
       "      <td>3350000.0</td>\n",
       "      <td>40.4</td>\n",
       "      <td>2018-12-04T00:00:00</td>\n",
       "      <td>1</td>\n",
       "      <td>2.65</td>\n",
       "      <td>11.0</td>\n",
       "      <td>18.6</td>\n",
       "      <td>1</td>\n",
       "      <td>NaN</td>\n",
       "      <td>False</td>\n",
       "      <td>False</td>\n",
       "      <td>11.0</td>\n",
       "      <td>2.0</td>\n",
       "      <td>посёлок Шушары</td>\n",
       "      <td>12817.0</td>\n",
       "      <td>18603.0</td>\n",
       "      <td>0.0</td>\n",
       "      <td>NaN</td>\n",
       "      <td>0.0</td>\n",
       "      <td>NaN</td>\n",
       "      <td>81.0</td>\n",
       "    </tr>\n",
       "    <tr>\n",
       "      <th>2</th>\n",
       "      <td>10</td>\n",
       "      <td>5196000.0</td>\n",
       "      <td>56.0</td>\n",
       "      <td>2015-08-20T00:00:00</td>\n",
       "      <td>2</td>\n",
       "      <td>2.65</td>\n",
       "      <td>5.0</td>\n",
       "      <td>34.3</td>\n",
       "      <td>4</td>\n",
       "      <td>NaN</td>\n",
       "      <td>False</td>\n",
       "      <td>False</td>\n",
       "      <td>8.3</td>\n",
       "      <td>0.0</td>\n",
       "      <td>Санкт-Петербург</td>\n",
       "      <td>21741.0</td>\n",
       "      <td>13933.0</td>\n",
       "      <td>1.0</td>\n",
       "      <td>90.0</td>\n",
       "      <td>2.0</td>\n",
       "      <td>574.0</td>\n",
       "      <td>558.0</td>\n",
       "    </tr>\n",
       "    <tr>\n",
       "      <th>3</th>\n",
       "      <td>0</td>\n",
       "      <td>64900000.0</td>\n",
       "      <td>159.0</td>\n",
       "      <td>2015-07-24T00:00:00</td>\n",
       "      <td>3</td>\n",
       "      <td>2.65</td>\n",
       "      <td>14.0</td>\n",
       "      <td>NaN</td>\n",
       "      <td>9</td>\n",
       "      <td>NaN</td>\n",
       "      <td>False</td>\n",
       "      <td>False</td>\n",
       "      <td>NaN</td>\n",
       "      <td>0.0</td>\n",
       "      <td>Санкт-Петербург</td>\n",
       "      <td>28098.0</td>\n",
       "      <td>6800.0</td>\n",
       "      <td>2.0</td>\n",
       "      <td>84.0</td>\n",
       "      <td>3.0</td>\n",
       "      <td>234.0</td>\n",
       "      <td>424.0</td>\n",
       "    </tr>\n",
       "    <tr>\n",
       "      <th>4</th>\n",
       "      <td>2</td>\n",
       "      <td>10000000.0</td>\n",
       "      <td>100.0</td>\n",
       "      <td>2018-06-19T00:00:00</td>\n",
       "      <td>2</td>\n",
       "      <td>3.03</td>\n",
       "      <td>14.0</td>\n",
       "      <td>32.0</td>\n",
       "      <td>13</td>\n",
       "      <td>NaN</td>\n",
       "      <td>False</td>\n",
       "      <td>False</td>\n",
       "      <td>41.0</td>\n",
       "      <td>NaN</td>\n",
       "      <td>Санкт-Петербург</td>\n",
       "      <td>31856.0</td>\n",
       "      <td>8098.0</td>\n",
       "      <td>2.0</td>\n",
       "      <td>112.0</td>\n",
       "      <td>1.0</td>\n",
       "      <td>48.0</td>\n",
       "      <td>121.0</td>\n",
       "    </tr>\n",
       "  </tbody>\n",
       "</table>\n",
       "</div>"
      ],
      "text/plain": [
       "   total_images  last_price  total_area first_day_exposition  rooms  \\\n",
       "0            20  13000000.0       108.0  2019-03-07T00:00:00      3   \n",
       "1             7   3350000.0        40.4  2018-12-04T00:00:00      1   \n",
       "2            10   5196000.0        56.0  2015-08-20T00:00:00      2   \n",
       "3             0  64900000.0       159.0  2015-07-24T00:00:00      3   \n",
       "4             2  10000000.0       100.0  2018-06-19T00:00:00      2   \n",
       "\n",
       "   ceiling_height  floors_total  living_area  floor is_apartment  studio  \\\n",
       "0            2.70          16.0         51.0      8          NaN   False   \n",
       "1            2.65          11.0         18.6      1          NaN   False   \n",
       "2            2.65           5.0         34.3      4          NaN   False   \n",
       "3            2.65          14.0          NaN      9          NaN   False   \n",
       "4            3.03          14.0         32.0     13          NaN   False   \n",
       "\n",
       "   open_plan  kitchen_area  balcony    locality_name  airports_nearest  \\\n",
       "0      False          25.0      NaN  Санкт-Петербург           18863.0   \n",
       "1      False          11.0      2.0   посёлок Шушары           12817.0   \n",
       "2      False           8.3      0.0  Санкт-Петербург           21741.0   \n",
       "3      False           NaN      0.0  Санкт-Петербург           28098.0   \n",
       "4      False          41.0      NaN  Санкт-Петербург           31856.0   \n",
       "\n",
       "   cityCenters_nearest  parks_around3000  parks_nearest  ponds_around3000  \\\n",
       "0              16028.0               1.0          482.0               2.0   \n",
       "1              18603.0               0.0            NaN               0.0   \n",
       "2              13933.0               1.0           90.0               2.0   \n",
       "3               6800.0               2.0           84.0               3.0   \n",
       "4               8098.0               2.0          112.0               1.0   \n",
       "\n",
       "   ponds_nearest  days_exposition  \n",
       "0          755.0              NaN  \n",
       "1            NaN             81.0  \n",
       "2          574.0            558.0  \n",
       "3          234.0            424.0  \n",
       "4           48.0            121.0  "
      ]
     },
     "execution_count": 16,
     "metadata": {},
     "output_type": "execute_result"
    }
   ],
   "source": [
    "data['locality_name'] = data['locality_name'].fillna('неизвестно')\n",
    "data['locality_name'] = data['locality_name'].astype('str')\n",
    "data.head()"
   ]
  },
  {
   "cell_type": "code",
   "execution_count": 17,
   "metadata": {},
   "outputs": [
    {
     "data": {
      "text/plain": [
       "331"
      ]
     },
     "execution_count": 17,
     "metadata": {},
     "output_type": "execute_result"
    }
   ],
   "source": [
    "data['locality_name'] = data['locality_name'].str.replace('посёлок','поселок')\n",
    "data['locality_name'].nunique()"
   ]
  },
  {
   "cell_type": "code",
   "execution_count": 18,
   "metadata": {},
   "outputs": [
    {
     "data": {
      "text/html": [
       "<div>\n",
       "<style scoped>\n",
       "    .dataframe tbody tr th:only-of-type {\n",
       "        vertical-align: middle;\n",
       "    }\n",
       "\n",
       "    .dataframe tbody tr th {\n",
       "        vertical-align: top;\n",
       "    }\n",
       "\n",
       "    .dataframe thead th {\n",
       "        text-align: right;\n",
       "    }\n",
       "</style>\n",
       "<table border=\"1\" class=\"dataframe\">\n",
       "  <thead>\n",
       "    <tr style=\"text-align: right;\">\n",
       "      <th></th>\n",
       "      <th>total_images</th>\n",
       "      <th>last_price</th>\n",
       "      <th>total_area</th>\n",
       "      <th>first_day_exposition</th>\n",
       "      <th>rooms</th>\n",
       "      <th>ceiling_height</th>\n",
       "      <th>floors_total</th>\n",
       "      <th>living_area</th>\n",
       "      <th>floor</th>\n",
       "      <th>is_apartment</th>\n",
       "      <th>studio</th>\n",
       "      <th>open_plan</th>\n",
       "      <th>kitchen_area</th>\n",
       "      <th>balcony</th>\n",
       "      <th>locality_name</th>\n",
       "      <th>airports_nearest</th>\n",
       "      <th>cityCenters_nearest</th>\n",
       "      <th>parks_around3000</th>\n",
       "      <th>parks_nearest</th>\n",
       "      <th>ponds_around3000</th>\n",
       "      <th>ponds_nearest</th>\n",
       "      <th>days_exposition</th>\n",
       "    </tr>\n",
       "  </thead>\n",
       "  <tbody>\n",
       "    <tr>\n",
       "      <th>0</th>\n",
       "      <td>20</td>\n",
       "      <td>13000000.0</td>\n",
       "      <td>108.0</td>\n",
       "      <td>2019-03-07</td>\n",
       "      <td>3</td>\n",
       "      <td>2.70</td>\n",
       "      <td>16.0</td>\n",
       "      <td>51.0</td>\n",
       "      <td>8</td>\n",
       "      <td>NaN</td>\n",
       "      <td>False</td>\n",
       "      <td>False</td>\n",
       "      <td>25.0</td>\n",
       "      <td>NaN</td>\n",
       "      <td>Санкт-Петербург</td>\n",
       "      <td>18863.0</td>\n",
       "      <td>16028.0</td>\n",
       "      <td>1.0</td>\n",
       "      <td>482.0</td>\n",
       "      <td>2.0</td>\n",
       "      <td>755.0</td>\n",
       "      <td>NaN</td>\n",
       "    </tr>\n",
       "    <tr>\n",
       "      <th>1</th>\n",
       "      <td>7</td>\n",
       "      <td>3350000.0</td>\n",
       "      <td>40.4</td>\n",
       "      <td>2018-12-04</td>\n",
       "      <td>1</td>\n",
       "      <td>2.65</td>\n",
       "      <td>11.0</td>\n",
       "      <td>18.6</td>\n",
       "      <td>1</td>\n",
       "      <td>NaN</td>\n",
       "      <td>False</td>\n",
       "      <td>False</td>\n",
       "      <td>11.0</td>\n",
       "      <td>2.0</td>\n",
       "      <td>поселок Шушары</td>\n",
       "      <td>12817.0</td>\n",
       "      <td>18603.0</td>\n",
       "      <td>0.0</td>\n",
       "      <td>NaN</td>\n",
       "      <td>0.0</td>\n",
       "      <td>NaN</td>\n",
       "      <td>81.0</td>\n",
       "    </tr>\n",
       "    <tr>\n",
       "      <th>2</th>\n",
       "      <td>10</td>\n",
       "      <td>5196000.0</td>\n",
       "      <td>56.0</td>\n",
       "      <td>2015-08-20</td>\n",
       "      <td>2</td>\n",
       "      <td>2.65</td>\n",
       "      <td>5.0</td>\n",
       "      <td>34.3</td>\n",
       "      <td>4</td>\n",
       "      <td>NaN</td>\n",
       "      <td>False</td>\n",
       "      <td>False</td>\n",
       "      <td>8.3</td>\n",
       "      <td>0.0</td>\n",
       "      <td>Санкт-Петербург</td>\n",
       "      <td>21741.0</td>\n",
       "      <td>13933.0</td>\n",
       "      <td>1.0</td>\n",
       "      <td>90.0</td>\n",
       "      <td>2.0</td>\n",
       "      <td>574.0</td>\n",
       "      <td>558.0</td>\n",
       "    </tr>\n",
       "    <tr>\n",
       "      <th>3</th>\n",
       "      <td>0</td>\n",
       "      <td>64900000.0</td>\n",
       "      <td>159.0</td>\n",
       "      <td>2015-07-24</td>\n",
       "      <td>3</td>\n",
       "      <td>2.65</td>\n",
       "      <td>14.0</td>\n",
       "      <td>NaN</td>\n",
       "      <td>9</td>\n",
       "      <td>NaN</td>\n",
       "      <td>False</td>\n",
       "      <td>False</td>\n",
       "      <td>NaN</td>\n",
       "      <td>0.0</td>\n",
       "      <td>Санкт-Петербург</td>\n",
       "      <td>28098.0</td>\n",
       "      <td>6800.0</td>\n",
       "      <td>2.0</td>\n",
       "      <td>84.0</td>\n",
       "      <td>3.0</td>\n",
       "      <td>234.0</td>\n",
       "      <td>424.0</td>\n",
       "    </tr>\n",
       "    <tr>\n",
       "      <th>4</th>\n",
       "      <td>2</td>\n",
       "      <td>10000000.0</td>\n",
       "      <td>100.0</td>\n",
       "      <td>2018-06-19</td>\n",
       "      <td>2</td>\n",
       "      <td>3.03</td>\n",
       "      <td>14.0</td>\n",
       "      <td>32.0</td>\n",
       "      <td>13</td>\n",
       "      <td>NaN</td>\n",
       "      <td>False</td>\n",
       "      <td>False</td>\n",
       "      <td>41.0</td>\n",
       "      <td>NaN</td>\n",
       "      <td>Санкт-Петербург</td>\n",
       "      <td>31856.0</td>\n",
       "      <td>8098.0</td>\n",
       "      <td>2.0</td>\n",
       "      <td>112.0</td>\n",
       "      <td>1.0</td>\n",
       "      <td>48.0</td>\n",
       "      <td>121.0</td>\n",
       "    </tr>\n",
       "  </tbody>\n",
       "</table>\n",
       "</div>"
      ],
      "text/plain": [
       "   total_images  last_price  total_area first_day_exposition  rooms  \\\n",
       "0            20  13000000.0       108.0           2019-03-07      3   \n",
       "1             7   3350000.0        40.4           2018-12-04      1   \n",
       "2            10   5196000.0        56.0           2015-08-20      2   \n",
       "3             0  64900000.0       159.0           2015-07-24      3   \n",
       "4             2  10000000.0       100.0           2018-06-19      2   \n",
       "\n",
       "   ceiling_height  floors_total  living_area  floor is_apartment  studio  \\\n",
       "0            2.70          16.0         51.0      8          NaN   False   \n",
       "1            2.65          11.0         18.6      1          NaN   False   \n",
       "2            2.65           5.0         34.3      4          NaN   False   \n",
       "3            2.65          14.0          NaN      9          NaN   False   \n",
       "4            3.03          14.0         32.0     13          NaN   False   \n",
       "\n",
       "   open_plan  kitchen_area  balcony    locality_name  airports_nearest  \\\n",
       "0      False          25.0      NaN  Санкт-Петербург           18863.0   \n",
       "1      False          11.0      2.0   поселок Шушары           12817.0   \n",
       "2      False           8.3      0.0  Санкт-Петербург           21741.0   \n",
       "3      False           NaN      0.0  Санкт-Петербург           28098.0   \n",
       "4      False          41.0      NaN  Санкт-Петербург           31856.0   \n",
       "\n",
       "   cityCenters_nearest  parks_around3000  parks_nearest  ponds_around3000  \\\n",
       "0              16028.0               1.0          482.0               2.0   \n",
       "1              18603.0               0.0            NaN               0.0   \n",
       "2              13933.0               1.0           90.0               2.0   \n",
       "3               6800.0               2.0           84.0               3.0   \n",
       "4               8098.0               2.0          112.0               1.0   \n",
       "\n",
       "   ponds_nearest  days_exposition  \n",
       "0          755.0              NaN  \n",
       "1            NaN             81.0  \n",
       "2          574.0            558.0  \n",
       "3          234.0            424.0  \n",
       "4           48.0            121.0  "
      ]
     },
     "execution_count": 18,
     "metadata": {},
     "output_type": "execute_result"
    }
   ],
   "source": [
    "data['first_day_exposition'] = pd.to_datetime(data['first_day_exposition'], format='%Y-%m-%d')\n",
    "data.head()"
   ]
  },
  {
   "cell_type": "markdown",
   "metadata": {},
   "source": [
    "В столбцах пустые значения заменим на 0. Конечно, это будут выбросы, но они не многочисленны."
   ]
  },
  {
   "cell_type": "markdown",
   "metadata": {},
   "source": [
    "Переведем столбцы в целичсленный тип данных, а пустые значения заменим на 0."
   ]
  },
  {
   "cell_type": "code",
   "execution_count": 19,
   "metadata": {},
   "outputs": [
    {
     "data": {
      "text/html": [
       "<div>\n",
       "<style scoped>\n",
       "    .dataframe tbody tr th:only-of-type {\n",
       "        vertical-align: middle;\n",
       "    }\n",
       "\n",
       "    .dataframe tbody tr th {\n",
       "        vertical-align: top;\n",
       "    }\n",
       "\n",
       "    .dataframe thead th {\n",
       "        text-align: right;\n",
       "    }\n",
       "</style>\n",
       "<table border=\"1\" class=\"dataframe\">\n",
       "  <thead>\n",
       "    <tr style=\"text-align: right;\">\n",
       "      <th></th>\n",
       "      <th>total_images</th>\n",
       "      <th>last_price</th>\n",
       "      <th>total_area</th>\n",
       "      <th>first_day_exposition</th>\n",
       "      <th>rooms</th>\n",
       "      <th>ceiling_height</th>\n",
       "      <th>floors_total</th>\n",
       "      <th>living_area</th>\n",
       "      <th>floor</th>\n",
       "      <th>is_apartment</th>\n",
       "      <th>studio</th>\n",
       "      <th>open_plan</th>\n",
       "      <th>kitchen_area</th>\n",
       "      <th>balcony</th>\n",
       "      <th>locality_name</th>\n",
       "      <th>airports_nearest</th>\n",
       "      <th>cityCenters_nearest</th>\n",
       "      <th>parks_around3000</th>\n",
       "      <th>parks_nearest</th>\n",
       "      <th>ponds_around3000</th>\n",
       "      <th>ponds_nearest</th>\n",
       "      <th>days_exposition</th>\n",
       "    </tr>\n",
       "  </thead>\n",
       "  <tbody>\n",
       "    <tr>\n",
       "      <th>0</th>\n",
       "      <td>20</td>\n",
       "      <td>13000000</td>\n",
       "      <td>108.0</td>\n",
       "      <td>2019-03-07</td>\n",
       "      <td>3</td>\n",
       "      <td>2.70</td>\n",
       "      <td>16.0</td>\n",
       "      <td>51.0</td>\n",
       "      <td>8</td>\n",
       "      <td>NaN</td>\n",
       "      <td>False</td>\n",
       "      <td>False</td>\n",
       "      <td>25.0</td>\n",
       "      <td>NaN</td>\n",
       "      <td>Санкт-Петербург</td>\n",
       "      <td>18863.0</td>\n",
       "      <td>16028.0</td>\n",
       "      <td>1.0</td>\n",
       "      <td>482.0</td>\n",
       "      <td>2.0</td>\n",
       "      <td>755.0</td>\n",
       "      <td>NaN</td>\n",
       "    </tr>\n",
       "    <tr>\n",
       "      <th>1</th>\n",
       "      <td>7</td>\n",
       "      <td>3350000</td>\n",
       "      <td>40.4</td>\n",
       "      <td>2018-12-04</td>\n",
       "      <td>1</td>\n",
       "      <td>2.65</td>\n",
       "      <td>11.0</td>\n",
       "      <td>18.6</td>\n",
       "      <td>1</td>\n",
       "      <td>NaN</td>\n",
       "      <td>False</td>\n",
       "      <td>False</td>\n",
       "      <td>11.0</td>\n",
       "      <td>2.0</td>\n",
       "      <td>поселок Шушары</td>\n",
       "      <td>12817.0</td>\n",
       "      <td>18603.0</td>\n",
       "      <td>0.0</td>\n",
       "      <td>NaN</td>\n",
       "      <td>0.0</td>\n",
       "      <td>NaN</td>\n",
       "      <td>81.0</td>\n",
       "    </tr>\n",
       "    <tr>\n",
       "      <th>2</th>\n",
       "      <td>10</td>\n",
       "      <td>5196000</td>\n",
       "      <td>56.0</td>\n",
       "      <td>2015-08-20</td>\n",
       "      <td>2</td>\n",
       "      <td>2.65</td>\n",
       "      <td>5.0</td>\n",
       "      <td>34.3</td>\n",
       "      <td>4</td>\n",
       "      <td>NaN</td>\n",
       "      <td>False</td>\n",
       "      <td>False</td>\n",
       "      <td>8.3</td>\n",
       "      <td>0.0</td>\n",
       "      <td>Санкт-Петербург</td>\n",
       "      <td>21741.0</td>\n",
       "      <td>13933.0</td>\n",
       "      <td>1.0</td>\n",
       "      <td>90.0</td>\n",
       "      <td>2.0</td>\n",
       "      <td>574.0</td>\n",
       "      <td>558.0</td>\n",
       "    </tr>\n",
       "    <tr>\n",
       "      <th>3</th>\n",
       "      <td>0</td>\n",
       "      <td>64900000</td>\n",
       "      <td>159.0</td>\n",
       "      <td>2015-07-24</td>\n",
       "      <td>3</td>\n",
       "      <td>2.65</td>\n",
       "      <td>14.0</td>\n",
       "      <td>NaN</td>\n",
       "      <td>9</td>\n",
       "      <td>NaN</td>\n",
       "      <td>False</td>\n",
       "      <td>False</td>\n",
       "      <td>NaN</td>\n",
       "      <td>0.0</td>\n",
       "      <td>Санкт-Петербург</td>\n",
       "      <td>28098.0</td>\n",
       "      <td>6800.0</td>\n",
       "      <td>2.0</td>\n",
       "      <td>84.0</td>\n",
       "      <td>3.0</td>\n",
       "      <td>234.0</td>\n",
       "      <td>424.0</td>\n",
       "    </tr>\n",
       "    <tr>\n",
       "      <th>4</th>\n",
       "      <td>2</td>\n",
       "      <td>10000000</td>\n",
       "      <td>100.0</td>\n",
       "      <td>2018-06-19</td>\n",
       "      <td>2</td>\n",
       "      <td>3.03</td>\n",
       "      <td>14.0</td>\n",
       "      <td>32.0</td>\n",
       "      <td>13</td>\n",
       "      <td>NaN</td>\n",
       "      <td>False</td>\n",
       "      <td>False</td>\n",
       "      <td>41.0</td>\n",
       "      <td>NaN</td>\n",
       "      <td>Санкт-Петербург</td>\n",
       "      <td>31856.0</td>\n",
       "      <td>8098.0</td>\n",
       "      <td>2.0</td>\n",
       "      <td>112.0</td>\n",
       "      <td>1.0</td>\n",
       "      <td>48.0</td>\n",
       "      <td>121.0</td>\n",
       "    </tr>\n",
       "  </tbody>\n",
       "</table>\n",
       "</div>"
      ],
      "text/plain": [
       "   total_images  last_price  total_area first_day_exposition  rooms  \\\n",
       "0            20    13000000       108.0           2019-03-07      3   \n",
       "1             7     3350000        40.4           2018-12-04      1   \n",
       "2            10     5196000        56.0           2015-08-20      2   \n",
       "3             0    64900000       159.0           2015-07-24      3   \n",
       "4             2    10000000       100.0           2018-06-19      2   \n",
       "\n",
       "   ceiling_height  floors_total  living_area  floor is_apartment  studio  \\\n",
       "0            2.70          16.0         51.0      8          NaN   False   \n",
       "1            2.65          11.0         18.6      1          NaN   False   \n",
       "2            2.65           5.0         34.3      4          NaN   False   \n",
       "3            2.65          14.0          NaN      9          NaN   False   \n",
       "4            3.03          14.0         32.0     13          NaN   False   \n",
       "\n",
       "   open_plan  kitchen_area  balcony    locality_name  airports_nearest  \\\n",
       "0      False          25.0      NaN  Санкт-Петербург           18863.0   \n",
       "1      False          11.0      2.0   поселок Шушары           12817.0   \n",
       "2      False           8.3      0.0  Санкт-Петербург           21741.0   \n",
       "3      False           NaN      0.0  Санкт-Петербург           28098.0   \n",
       "4      False          41.0      NaN  Санкт-Петербург           31856.0   \n",
       "\n",
       "   cityCenters_nearest  parks_around3000  parks_nearest  ponds_around3000  \\\n",
       "0              16028.0               1.0          482.0               2.0   \n",
       "1              18603.0               0.0            NaN               0.0   \n",
       "2              13933.0               1.0           90.0               2.0   \n",
       "3               6800.0               2.0           84.0               3.0   \n",
       "4               8098.0               2.0          112.0               1.0   \n",
       "\n",
       "   ponds_nearest  days_exposition  \n",
       "0          755.0              NaN  \n",
       "1            NaN             81.0  \n",
       "2          574.0            558.0  \n",
       "3          234.0            424.0  \n",
       "4           48.0            121.0  "
      ]
     },
     "execution_count": 19,
     "metadata": {},
     "output_type": "execute_result"
    }
   ],
   "source": [
    "data['last_price'] = data['last_price'].astype('int')\n",
    "data.head()"
   ]
  },
  {
   "cell_type": "code",
   "execution_count": 20,
   "metadata": {},
   "outputs": [
    {
     "data": {
      "text/html": [
       "<div>\n",
       "<style scoped>\n",
       "    .dataframe tbody tr th:only-of-type {\n",
       "        vertical-align: middle;\n",
       "    }\n",
       "\n",
       "    .dataframe tbody tr th {\n",
       "        vertical-align: top;\n",
       "    }\n",
       "\n",
       "    .dataframe thead th {\n",
       "        text-align: right;\n",
       "    }\n",
       "</style>\n",
       "<table border=\"1\" class=\"dataframe\">\n",
       "  <thead>\n",
       "    <tr style=\"text-align: right;\">\n",
       "      <th></th>\n",
       "      <th>total_images</th>\n",
       "      <th>last_price</th>\n",
       "      <th>total_area</th>\n",
       "      <th>first_day_exposition</th>\n",
       "      <th>rooms</th>\n",
       "      <th>ceiling_height</th>\n",
       "      <th>floors_total</th>\n",
       "      <th>living_area</th>\n",
       "      <th>floor</th>\n",
       "      <th>is_apartment</th>\n",
       "      <th>studio</th>\n",
       "      <th>open_plan</th>\n",
       "      <th>kitchen_area</th>\n",
       "      <th>balcony</th>\n",
       "      <th>locality_name</th>\n",
       "      <th>airports_nearest</th>\n",
       "      <th>cityCenters_nearest</th>\n",
       "      <th>parks_around3000</th>\n",
       "      <th>parks_nearest</th>\n",
       "      <th>ponds_around3000</th>\n",
       "      <th>ponds_nearest</th>\n",
       "      <th>days_exposition</th>\n",
       "    </tr>\n",
       "  </thead>\n",
       "  <tbody>\n",
       "    <tr>\n",
       "      <th>0</th>\n",
       "      <td>20</td>\n",
       "      <td>13000000</td>\n",
       "      <td>108</td>\n",
       "      <td>2019-03-07</td>\n",
       "      <td>3</td>\n",
       "      <td>2.70</td>\n",
       "      <td>16.0</td>\n",
       "      <td>51.0</td>\n",
       "      <td>8</td>\n",
       "      <td>NaN</td>\n",
       "      <td>False</td>\n",
       "      <td>False</td>\n",
       "      <td>25.0</td>\n",
       "      <td>NaN</td>\n",
       "      <td>Санкт-Петербург</td>\n",
       "      <td>18863.0</td>\n",
       "      <td>16028.0</td>\n",
       "      <td>1.0</td>\n",
       "      <td>482.0</td>\n",
       "      <td>2.0</td>\n",
       "      <td>755.0</td>\n",
       "      <td>NaN</td>\n",
       "    </tr>\n",
       "    <tr>\n",
       "      <th>1</th>\n",
       "      <td>7</td>\n",
       "      <td>3350000</td>\n",
       "      <td>40</td>\n",
       "      <td>2018-12-04</td>\n",
       "      <td>1</td>\n",
       "      <td>2.65</td>\n",
       "      <td>11.0</td>\n",
       "      <td>18.6</td>\n",
       "      <td>1</td>\n",
       "      <td>NaN</td>\n",
       "      <td>False</td>\n",
       "      <td>False</td>\n",
       "      <td>11.0</td>\n",
       "      <td>2.0</td>\n",
       "      <td>поселок Шушары</td>\n",
       "      <td>12817.0</td>\n",
       "      <td>18603.0</td>\n",
       "      <td>0.0</td>\n",
       "      <td>NaN</td>\n",
       "      <td>0.0</td>\n",
       "      <td>NaN</td>\n",
       "      <td>81.0</td>\n",
       "    </tr>\n",
       "    <tr>\n",
       "      <th>2</th>\n",
       "      <td>10</td>\n",
       "      <td>5196000</td>\n",
       "      <td>56</td>\n",
       "      <td>2015-08-20</td>\n",
       "      <td>2</td>\n",
       "      <td>2.65</td>\n",
       "      <td>5.0</td>\n",
       "      <td>34.3</td>\n",
       "      <td>4</td>\n",
       "      <td>NaN</td>\n",
       "      <td>False</td>\n",
       "      <td>False</td>\n",
       "      <td>8.3</td>\n",
       "      <td>0.0</td>\n",
       "      <td>Санкт-Петербург</td>\n",
       "      <td>21741.0</td>\n",
       "      <td>13933.0</td>\n",
       "      <td>1.0</td>\n",
       "      <td>90.0</td>\n",
       "      <td>2.0</td>\n",
       "      <td>574.0</td>\n",
       "      <td>558.0</td>\n",
       "    </tr>\n",
       "    <tr>\n",
       "      <th>3</th>\n",
       "      <td>0</td>\n",
       "      <td>64900000</td>\n",
       "      <td>159</td>\n",
       "      <td>2015-07-24</td>\n",
       "      <td>3</td>\n",
       "      <td>2.65</td>\n",
       "      <td>14.0</td>\n",
       "      <td>NaN</td>\n",
       "      <td>9</td>\n",
       "      <td>NaN</td>\n",
       "      <td>False</td>\n",
       "      <td>False</td>\n",
       "      <td>NaN</td>\n",
       "      <td>0.0</td>\n",
       "      <td>Санкт-Петербург</td>\n",
       "      <td>28098.0</td>\n",
       "      <td>6800.0</td>\n",
       "      <td>2.0</td>\n",
       "      <td>84.0</td>\n",
       "      <td>3.0</td>\n",
       "      <td>234.0</td>\n",
       "      <td>424.0</td>\n",
       "    </tr>\n",
       "    <tr>\n",
       "      <th>4</th>\n",
       "      <td>2</td>\n",
       "      <td>10000000</td>\n",
       "      <td>100</td>\n",
       "      <td>2018-06-19</td>\n",
       "      <td>2</td>\n",
       "      <td>3.03</td>\n",
       "      <td>14.0</td>\n",
       "      <td>32.0</td>\n",
       "      <td>13</td>\n",
       "      <td>NaN</td>\n",
       "      <td>False</td>\n",
       "      <td>False</td>\n",
       "      <td>41.0</td>\n",
       "      <td>NaN</td>\n",
       "      <td>Санкт-Петербург</td>\n",
       "      <td>31856.0</td>\n",
       "      <td>8098.0</td>\n",
       "      <td>2.0</td>\n",
       "      <td>112.0</td>\n",
       "      <td>1.0</td>\n",
       "      <td>48.0</td>\n",
       "      <td>121.0</td>\n",
       "    </tr>\n",
       "  </tbody>\n",
       "</table>\n",
       "</div>"
      ],
      "text/plain": [
       "   total_images  last_price  total_area first_day_exposition  rooms  \\\n",
       "0            20    13000000         108           2019-03-07      3   \n",
       "1             7     3350000          40           2018-12-04      1   \n",
       "2            10     5196000          56           2015-08-20      2   \n",
       "3             0    64900000         159           2015-07-24      3   \n",
       "4             2    10000000         100           2018-06-19      2   \n",
       "\n",
       "   ceiling_height  floors_total  living_area  floor is_apartment  studio  \\\n",
       "0            2.70          16.0         51.0      8          NaN   False   \n",
       "1            2.65          11.0         18.6      1          NaN   False   \n",
       "2            2.65           5.0         34.3      4          NaN   False   \n",
       "3            2.65          14.0          NaN      9          NaN   False   \n",
       "4            3.03          14.0         32.0     13          NaN   False   \n",
       "\n",
       "   open_plan  kitchen_area  balcony    locality_name  airports_nearest  \\\n",
       "0      False          25.0      NaN  Санкт-Петербург           18863.0   \n",
       "1      False          11.0      2.0   поселок Шушары           12817.0   \n",
       "2      False           8.3      0.0  Санкт-Петербург           21741.0   \n",
       "3      False           NaN      0.0  Санкт-Петербург           28098.0   \n",
       "4      False          41.0      NaN  Санкт-Петербург           31856.0   \n",
       "\n",
       "   cityCenters_nearest  parks_around3000  parks_nearest  ponds_around3000  \\\n",
       "0              16028.0               1.0          482.0               2.0   \n",
       "1              18603.0               0.0            NaN               0.0   \n",
       "2              13933.0               1.0           90.0               2.0   \n",
       "3               6800.0               2.0           84.0               3.0   \n",
       "4               8098.0               2.0          112.0               1.0   \n",
       "\n",
       "   ponds_nearest  days_exposition  \n",
       "0          755.0              NaN  \n",
       "1            NaN             81.0  \n",
       "2          574.0            558.0  \n",
       "3          234.0            424.0  \n",
       "4           48.0            121.0  "
      ]
     },
     "execution_count": 20,
     "metadata": {},
     "output_type": "execute_result"
    }
   ],
   "source": [
    "data['total_area'] = data['total_area'].astype('int')\n",
    "data.head()"
   ]
  },
  {
   "cell_type": "code",
   "execution_count": 21,
   "metadata": {},
   "outputs": [
    {
     "data": {
      "text/plain": [
       "array([ 12,  13,  14,  15,  16,  17,  18,  19,  20,  21,  22,  23,  24,\n",
       "        25,  26,  27,  28,  29,  30,  31,  32,  33,  34,  35,  36,  37,\n",
       "        38,  39,  40,  41,  42,  43,  44,  45,  46,  47,  48,  49,  50,\n",
       "        51,  52,  53,  54,  55,  56,  57,  58,  59,  60,  61,  62,  63,\n",
       "        64,  65,  66,  67,  68,  69,  70,  71,  72,  73,  74,  75,  76,\n",
       "        77,  78,  79,  80,  81,  82,  83,  84,  85,  86,  87,  88,  89,\n",
       "        90,  91,  92,  93,  94,  95,  96,  97,  98,  99, 100, 101, 102,\n",
       "       103, 104, 105, 106, 107, 108, 109, 110, 111, 112, 113, 114, 115,\n",
       "       116, 117, 118, 119, 120, 121, 122, 123, 124, 125, 126, 127, 128,\n",
       "       129, 130, 131, 132, 133, 134, 135, 136, 137, 138, 139, 140, 141,\n",
       "       142, 143, 144, 145, 146, 147, 148, 149, 150, 151, 152, 153, 154,\n",
       "       155, 156, 157, 158, 159, 160, 161, 162, 163, 164, 165, 166, 167,\n",
       "       168, 169, 170, 171, 172, 173, 174, 175, 176, 177, 178, 179, 180,\n",
       "       181, 182, 183, 184, 185, 186, 187, 188, 189, 190, 191, 192, 193,\n",
       "       194, 195, 196, 197, 198, 199, 200, 201, 202, 203, 204, 205, 206,\n",
       "       207, 210, 211, 213, 214, 215, 216, 217, 218, 220, 221, 222, 223,\n",
       "       224, 225, 226, 228, 229, 230, 231, 232, 234, 235, 236, 237, 238,\n",
       "       239, 240, 241, 242, 243, 244, 245, 248, 249, 250, 251, 253, 254,\n",
       "       255, 256, 257, 259, 260, 263, 266, 267, 268, 270, 272, 274, 275,\n",
       "       277, 280, 281, 283, 284, 285, 287, 288, 290, 292, 293, 295, 297,\n",
       "       300, 301, 304, 307, 309, 310, 312, 313, 315, 316, 317, 320, 323,\n",
       "       327, 336, 338, 342, 347, 356, 363, 364, 365, 371, 373, 374, 380,\n",
       "       398, 399, 400, 401, 402, 410, 413, 422, 431, 441, 460, 470, 483,\n",
       "       488, 491, 494, 495, 500, 507, 517, 590, 618, 631, 900])"
      ]
     },
     "execution_count": 21,
     "metadata": {},
     "output_type": "execute_result"
    }
   ],
   "source": [
    "data['total_area'].sort_values().unique()"
   ]
  },
  {
   "cell_type": "code",
   "execution_count": 22,
   "metadata": {},
   "outputs": [
    {
     "data": {
      "text/html": [
       "<div>\n",
       "<style scoped>\n",
       "    .dataframe tbody tr th:only-of-type {\n",
       "        vertical-align: middle;\n",
       "    }\n",
       "\n",
       "    .dataframe tbody tr th {\n",
       "        vertical-align: top;\n",
       "    }\n",
       "\n",
       "    .dataframe thead th {\n",
       "        text-align: right;\n",
       "    }\n",
       "</style>\n",
       "<table border=\"1\" class=\"dataframe\">\n",
       "  <thead>\n",
       "    <tr style=\"text-align: right;\">\n",
       "      <th></th>\n",
       "      <th>total_images</th>\n",
       "      <th>last_price</th>\n",
       "      <th>total_area</th>\n",
       "      <th>first_day_exposition</th>\n",
       "      <th>rooms</th>\n",
       "      <th>ceiling_height</th>\n",
       "      <th>floors_total</th>\n",
       "      <th>living_area</th>\n",
       "      <th>floor</th>\n",
       "      <th>is_apartment</th>\n",
       "      <th>studio</th>\n",
       "      <th>open_plan</th>\n",
       "      <th>kitchen_area</th>\n",
       "      <th>balcony</th>\n",
       "      <th>locality_name</th>\n",
       "      <th>airports_nearest</th>\n",
       "      <th>cityCenters_nearest</th>\n",
       "      <th>parks_around3000</th>\n",
       "      <th>parks_nearest</th>\n",
       "      <th>ponds_around3000</th>\n",
       "      <th>ponds_nearest</th>\n",
       "      <th>days_exposition</th>\n",
       "    </tr>\n",
       "  </thead>\n",
       "  <tbody>\n",
       "    <tr>\n",
       "      <th>3117</th>\n",
       "      <td>19</td>\n",
       "      <td>140000000</td>\n",
       "      <td>631</td>\n",
       "      <td>2019-03-30</td>\n",
       "      <td>7</td>\n",
       "      <td>2.65</td>\n",
       "      <td>5.0</td>\n",
       "      <td>NaN</td>\n",
       "      <td>5</td>\n",
       "      <td>NaN</td>\n",
       "      <td>False</td>\n",
       "      <td>False</td>\n",
       "      <td>60.0</td>\n",
       "      <td>NaN</td>\n",
       "      <td>Санкт-Петербург</td>\n",
       "      <td>25707.0</td>\n",
       "      <td>4972.0</td>\n",
       "      <td>0.0</td>\n",
       "      <td>NaN</td>\n",
       "      <td>2.0</td>\n",
       "      <td>210.0</td>\n",
       "      <td>NaN</td>\n",
       "    </tr>\n",
       "    <tr>\n",
       "      <th>12859</th>\n",
       "      <td>20</td>\n",
       "      <td>140000000</td>\n",
       "      <td>631</td>\n",
       "      <td>2019-04-09</td>\n",
       "      <td>7</td>\n",
       "      <td>3.90</td>\n",
       "      <td>4.0</td>\n",
       "      <td>322.3</td>\n",
       "      <td>4</td>\n",
       "      <td>NaN</td>\n",
       "      <td>False</td>\n",
       "      <td>False</td>\n",
       "      <td>19.5</td>\n",
       "      <td>1.0</td>\n",
       "      <td>Санкт-Петербург</td>\n",
       "      <td>25707.0</td>\n",
       "      <td>4972.0</td>\n",
       "      <td>0.0</td>\n",
       "      <td>NaN</td>\n",
       "      <td>2.0</td>\n",
       "      <td>210.0</td>\n",
       "      <td>NaN</td>\n",
       "    </tr>\n",
       "  </tbody>\n",
       "</table>\n",
       "</div>"
      ],
      "text/plain": [
       "       total_images  last_price  total_area first_day_exposition  rooms  \\\n",
       "3117             19   140000000         631           2019-03-30      7   \n",
       "12859            20   140000000         631           2019-04-09      7   \n",
       "\n",
       "       ceiling_height  floors_total  living_area  floor is_apartment  studio  \\\n",
       "3117             2.65           5.0          NaN      5          NaN   False   \n",
       "12859            3.90           4.0        322.3      4          NaN   False   \n",
       "\n",
       "       open_plan  kitchen_area  balcony    locality_name  airports_nearest  \\\n",
       "3117       False          60.0      NaN  Санкт-Петербург           25707.0   \n",
       "12859      False          19.5      1.0  Санкт-Петербург           25707.0   \n",
       "\n",
       "       cityCenters_nearest  parks_around3000  parks_nearest  ponds_around3000  \\\n",
       "3117                4972.0               0.0            NaN               2.0   \n",
       "12859               4972.0               0.0            NaN               2.0   \n",
       "\n",
       "       ponds_nearest  days_exposition  \n",
       "3117           210.0              NaN  \n",
       "12859          210.0              NaN  "
      ]
     },
     "execution_count": 22,
     "metadata": {},
     "output_type": "execute_result"
    }
   ],
   "source": [
    "data.loc[data['total_area'] == 631]"
   ]
  },
  {
   "cell_type": "code",
   "execution_count": 23,
   "metadata": {},
   "outputs": [
    {
     "data": {
      "text/html": [
       "<div>\n",
       "<style scoped>\n",
       "    .dataframe tbody tr th:only-of-type {\n",
       "        vertical-align: middle;\n",
       "    }\n",
       "\n",
       "    .dataframe tbody tr th {\n",
       "        vertical-align: top;\n",
       "    }\n",
       "\n",
       "    .dataframe thead th {\n",
       "        text-align: right;\n",
       "    }\n",
       "</style>\n",
       "<table border=\"1\" class=\"dataframe\">\n",
       "  <thead>\n",
       "    <tr style=\"text-align: right;\">\n",
       "      <th></th>\n",
       "      <th>total_images</th>\n",
       "      <th>last_price</th>\n",
       "      <th>total_area</th>\n",
       "      <th>first_day_exposition</th>\n",
       "      <th>rooms</th>\n",
       "      <th>ceiling_height</th>\n",
       "      <th>floors_total</th>\n",
       "      <th>living_area</th>\n",
       "      <th>floor</th>\n",
       "      <th>is_apartment</th>\n",
       "      <th>studio</th>\n",
       "      <th>open_plan</th>\n",
       "      <th>kitchen_area</th>\n",
       "      <th>balcony</th>\n",
       "      <th>locality_name</th>\n",
       "      <th>airports_nearest</th>\n",
       "      <th>cityCenters_nearest</th>\n",
       "      <th>parks_around3000</th>\n",
       "      <th>parks_nearest</th>\n",
       "      <th>ponds_around3000</th>\n",
       "      <th>ponds_nearest</th>\n",
       "      <th>days_exposition</th>\n",
       "    </tr>\n",
       "  </thead>\n",
       "  <tbody>\n",
       "    <tr>\n",
       "      <th>18848</th>\n",
       "      <td>6</td>\n",
       "      <td>28500000</td>\n",
       "      <td>270</td>\n",
       "      <td>2015-03-02</td>\n",
       "      <td>16</td>\n",
       "      <td>3.0</td>\n",
       "      <td>4.0</td>\n",
       "      <td>180.0</td>\n",
       "      <td>4</td>\n",
       "      <td>NaN</td>\n",
       "      <td>False</td>\n",
       "      <td>False</td>\n",
       "      <td>13.0</td>\n",
       "      <td>1.0</td>\n",
       "      <td>Санкт-Петербург</td>\n",
       "      <td>23575.0</td>\n",
       "      <td>4142.0</td>\n",
       "      <td>1.0</td>\n",
       "      <td>516.0</td>\n",
       "      <td>0.0</td>\n",
       "      <td>NaN</td>\n",
       "      <td>1365.0</td>\n",
       "    </tr>\n",
       "  </tbody>\n",
       "</table>\n",
       "</div>"
      ],
      "text/plain": [
       "       total_images  last_price  total_area first_day_exposition  rooms  \\\n",
       "18848             6    28500000         270           2015-03-02     16   \n",
       "\n",
       "       ceiling_height  floors_total  living_area  floor is_apartment  studio  \\\n",
       "18848             3.0           4.0        180.0      4          NaN   False   \n",
       "\n",
       "       open_plan  kitchen_area  balcony    locality_name  airports_nearest  \\\n",
       "18848      False          13.0      1.0  Санкт-Петербург           23575.0   \n",
       "\n",
       "       cityCenters_nearest  parks_around3000  parks_nearest  ponds_around3000  \\\n",
       "18848               4142.0               1.0          516.0               0.0   \n",
       "\n",
       "       ponds_nearest  days_exposition  \n",
       "18848            NaN           1365.0  "
      ]
     },
     "execution_count": 23,
     "metadata": {},
     "output_type": "execute_result"
    }
   ],
   "source": [
    "data.loc[data['total_area'] == 270]"
   ]
  },
  {
   "cell_type": "code",
   "execution_count": 24,
   "metadata": {},
   "outputs": [
    {
     "data": {
      "text/html": [
       "<div>\n",
       "<style scoped>\n",
       "    .dataframe tbody tr th:only-of-type {\n",
       "        vertical-align: middle;\n",
       "    }\n",
       "\n",
       "    .dataframe tbody tr th {\n",
       "        vertical-align: top;\n",
       "    }\n",
       "\n",
       "    .dataframe thead th {\n",
       "        text-align: right;\n",
       "    }\n",
       "</style>\n",
       "<table border=\"1\" class=\"dataframe\">\n",
       "  <thead>\n",
       "    <tr style=\"text-align: right;\">\n",
       "      <th></th>\n",
       "      <th>total_images</th>\n",
       "      <th>last_price</th>\n",
       "      <th>total_area</th>\n",
       "      <th>first_day_exposition</th>\n",
       "      <th>rooms</th>\n",
       "      <th>ceiling_height</th>\n",
       "      <th>floors_total</th>\n",
       "      <th>living_area</th>\n",
       "      <th>floor</th>\n",
       "      <th>is_apartment</th>\n",
       "      <th>studio</th>\n",
       "      <th>open_plan</th>\n",
       "      <th>kitchen_area</th>\n",
       "      <th>balcony</th>\n",
       "      <th>locality_name</th>\n",
       "      <th>airports_nearest</th>\n",
       "      <th>cityCenters_nearest</th>\n",
       "      <th>parks_around3000</th>\n",
       "      <th>parks_nearest</th>\n",
       "      <th>ponds_around3000</th>\n",
       "      <th>ponds_nearest</th>\n",
       "      <th>days_exposition</th>\n",
       "    </tr>\n",
       "  </thead>\n",
       "  <tbody>\n",
       "    <tr>\n",
       "      <th>19540</th>\n",
       "      <td>8</td>\n",
       "      <td>420000000</td>\n",
       "      <td>900</td>\n",
       "      <td>2017-12-06</td>\n",
       "      <td>12</td>\n",
       "      <td>2.8</td>\n",
       "      <td>25.0</td>\n",
       "      <td>409.7</td>\n",
       "      <td>25</td>\n",
       "      <td>NaN</td>\n",
       "      <td>False</td>\n",
       "      <td>False</td>\n",
       "      <td>112.0</td>\n",
       "      <td>NaN</td>\n",
       "      <td>Санкт-Петербург</td>\n",
       "      <td>30706.0</td>\n",
       "      <td>7877.0</td>\n",
       "      <td>0.0</td>\n",
       "      <td>NaN</td>\n",
       "      <td>2.0</td>\n",
       "      <td>318.0</td>\n",
       "      <td>106.0</td>\n",
       "    </tr>\n",
       "  </tbody>\n",
       "</table>\n",
       "</div>"
      ],
      "text/plain": [
       "       total_images  last_price  total_area first_day_exposition  rooms  \\\n",
       "19540             8   420000000         900           2017-12-06     12   \n",
       "\n",
       "       ceiling_height  floors_total  living_area  floor is_apartment  studio  \\\n",
       "19540             2.8          25.0        409.7     25          NaN   False   \n",
       "\n",
       "       open_plan  kitchen_area  balcony    locality_name  airports_nearest  \\\n",
       "19540      False         112.0      NaN  Санкт-Петербург           30706.0   \n",
       "\n",
       "       cityCenters_nearest  parks_around3000  parks_nearest  ponds_around3000  \\\n",
       "19540               7877.0               0.0            NaN               2.0   \n",
       "\n",
       "       ponds_nearest  days_exposition  \n",
       "19540          318.0            106.0  "
      ]
     },
     "execution_count": 24,
     "metadata": {},
     "output_type": "execute_result"
    }
   ],
   "source": [
    "data[data['total_area'] == data['total_area'].max()]"
   ]
  },
  {
   "cell_type": "markdown",
   "metadata": {},
   "source": [
    "Несмотря на наличие аномально больших площадей, удалять их из датафрейма не имеет смысла. Отразив строки таблицы, в которых содержатся данные значения, можно заметить, что другие значения заполнены адекватно. Помещение площадью 900 кв. м не похоже на ошибку. Вполне возможно, что это пентхаус. Однако будет лучше эти данные срезать. "
   ]
  },
  {
   "cell_type": "code",
   "execution_count": 25,
   "metadata": {},
   "outputs": [
    {
     "data": {
      "text/plain": [
       "248.5099999999984"
      ]
     },
     "execution_count": 25,
     "metadata": {},
     "output_type": "execute_result"
    }
   ],
   "source": [
    "#только 0.005 датафрейма имеют значение выше 248,5\n",
    "data['total_area'].quantile(0.995)"
   ]
  },
  {
   "cell_type": "code",
   "execution_count": 26,
   "metadata": {},
   "outputs": [],
   "source": [
    "data = data.query('total_area < 249')"
   ]
  },
  {
   "cell_type": "code",
   "execution_count": 27,
   "metadata": {},
   "outputs": [
    {
     "data": {
      "text/plain": [
       "array([ 12,  13,  14,  15,  16,  17,  18,  19,  20,  21,  22,  23,  24,\n",
       "        25,  26,  27,  28,  29,  30,  31,  32,  33,  34,  35,  36,  37,\n",
       "        38,  39,  40,  41,  42,  43,  44,  45,  46,  47,  48,  49,  50,\n",
       "        51,  52,  53,  54,  55,  56,  57,  58,  59,  60,  61,  62,  63,\n",
       "        64,  65,  66,  67,  68,  69,  70,  71,  72,  73,  74,  75,  76,\n",
       "        77,  78,  79,  80,  81,  82,  83,  84,  85,  86,  87,  88,  89,\n",
       "        90,  91,  92,  93,  94,  95,  96,  97,  98,  99, 100, 101, 102,\n",
       "       103, 104, 105, 106, 107, 108, 109, 110, 111, 112, 113, 114, 115,\n",
       "       116, 117, 118, 119, 120, 121, 122, 123, 124, 125, 126, 127, 128,\n",
       "       129, 130, 131, 132, 133, 134, 135, 136, 137, 138, 139, 140, 141,\n",
       "       142, 143, 144, 145, 146, 147, 148, 149, 150, 151, 152, 153, 154,\n",
       "       155, 156, 157, 158, 159, 160, 161, 162, 163, 164, 165, 166, 167,\n",
       "       168, 169, 170, 171, 172, 173, 174, 175, 176, 177, 178, 179, 180,\n",
       "       181, 182, 183, 184, 185, 186, 187, 188, 189, 190, 191, 192, 193,\n",
       "       194, 195, 196, 197, 198, 199, 200, 201, 202, 203, 204, 205, 206,\n",
       "       207, 210, 211, 213, 214, 215, 216, 217, 218, 220, 221, 222, 223,\n",
       "       224, 225, 226, 228, 229, 230, 231, 232, 234, 235, 236, 237, 238,\n",
       "       239, 240, 241, 242, 243, 244, 245, 248])"
      ]
     },
     "execution_count": 27,
     "metadata": {},
     "output_type": "execute_result"
    }
   ],
   "source": [
    "data['total_area'].sort_values().unique()"
   ]
  },
  {
   "cell_type": "code",
   "execution_count": 28,
   "metadata": {},
   "outputs": [
    {
     "data": {
      "text/html": [
       "<div>\n",
       "<style scoped>\n",
       "    .dataframe tbody tr th:only-of-type {\n",
       "        vertical-align: middle;\n",
       "    }\n",
       "\n",
       "    .dataframe tbody tr th {\n",
       "        vertical-align: top;\n",
       "    }\n",
       "\n",
       "    .dataframe thead th {\n",
       "        text-align: right;\n",
       "    }\n",
       "</style>\n",
       "<table border=\"1\" class=\"dataframe\">\n",
       "  <thead>\n",
       "    <tr style=\"text-align: right;\">\n",
       "      <th></th>\n",
       "      <th>total_images</th>\n",
       "      <th>last_price</th>\n",
       "      <th>total_area</th>\n",
       "      <th>first_day_exposition</th>\n",
       "      <th>rooms</th>\n",
       "      <th>ceiling_height</th>\n",
       "      <th>floors_total</th>\n",
       "      <th>living_area</th>\n",
       "      <th>floor</th>\n",
       "      <th>is_apartment</th>\n",
       "      <th>studio</th>\n",
       "      <th>open_plan</th>\n",
       "      <th>kitchen_area</th>\n",
       "      <th>balcony</th>\n",
       "      <th>locality_name</th>\n",
       "      <th>airports_nearest</th>\n",
       "      <th>cityCenters_nearest</th>\n",
       "      <th>parks_around3000</th>\n",
       "      <th>parks_nearest</th>\n",
       "      <th>ponds_around3000</th>\n",
       "      <th>ponds_nearest</th>\n",
       "      <th>days_exposition</th>\n",
       "    </tr>\n",
       "  </thead>\n",
       "  <tbody>\n",
       "    <tr>\n",
       "      <th>0</th>\n",
       "      <td>20</td>\n",
       "      <td>13000000</td>\n",
       "      <td>108</td>\n",
       "      <td>2019-03-07</td>\n",
       "      <td>3</td>\n",
       "      <td>2.70</td>\n",
       "      <td>16.0</td>\n",
       "      <td>51.0</td>\n",
       "      <td>8</td>\n",
       "      <td>False</td>\n",
       "      <td>False</td>\n",
       "      <td>False</td>\n",
       "      <td>25.0</td>\n",
       "      <td>NaN</td>\n",
       "      <td>Санкт-Петербург</td>\n",
       "      <td>18863.0</td>\n",
       "      <td>16028.0</td>\n",
       "      <td>1.0</td>\n",
       "      <td>482.0</td>\n",
       "      <td>2.0</td>\n",
       "      <td>755.0</td>\n",
       "      <td>NaN</td>\n",
       "    </tr>\n",
       "    <tr>\n",
       "      <th>1</th>\n",
       "      <td>7</td>\n",
       "      <td>3350000</td>\n",
       "      <td>40</td>\n",
       "      <td>2018-12-04</td>\n",
       "      <td>1</td>\n",
       "      <td>2.65</td>\n",
       "      <td>11.0</td>\n",
       "      <td>18.6</td>\n",
       "      <td>1</td>\n",
       "      <td>False</td>\n",
       "      <td>False</td>\n",
       "      <td>False</td>\n",
       "      <td>11.0</td>\n",
       "      <td>2.0</td>\n",
       "      <td>поселок Шушары</td>\n",
       "      <td>12817.0</td>\n",
       "      <td>18603.0</td>\n",
       "      <td>0.0</td>\n",
       "      <td>NaN</td>\n",
       "      <td>0.0</td>\n",
       "      <td>NaN</td>\n",
       "      <td>81.0</td>\n",
       "    </tr>\n",
       "    <tr>\n",
       "      <th>2</th>\n",
       "      <td>10</td>\n",
       "      <td>5196000</td>\n",
       "      <td>56</td>\n",
       "      <td>2015-08-20</td>\n",
       "      <td>2</td>\n",
       "      <td>2.65</td>\n",
       "      <td>5.0</td>\n",
       "      <td>34.3</td>\n",
       "      <td>4</td>\n",
       "      <td>False</td>\n",
       "      <td>False</td>\n",
       "      <td>False</td>\n",
       "      <td>8.3</td>\n",
       "      <td>0.0</td>\n",
       "      <td>Санкт-Петербург</td>\n",
       "      <td>21741.0</td>\n",
       "      <td>13933.0</td>\n",
       "      <td>1.0</td>\n",
       "      <td>90.0</td>\n",
       "      <td>2.0</td>\n",
       "      <td>574.0</td>\n",
       "      <td>558.0</td>\n",
       "    </tr>\n",
       "    <tr>\n",
       "      <th>3</th>\n",
       "      <td>0</td>\n",
       "      <td>64900000</td>\n",
       "      <td>159</td>\n",
       "      <td>2015-07-24</td>\n",
       "      <td>3</td>\n",
       "      <td>2.65</td>\n",
       "      <td>14.0</td>\n",
       "      <td>NaN</td>\n",
       "      <td>9</td>\n",
       "      <td>False</td>\n",
       "      <td>False</td>\n",
       "      <td>False</td>\n",
       "      <td>NaN</td>\n",
       "      <td>0.0</td>\n",
       "      <td>Санкт-Петербург</td>\n",
       "      <td>28098.0</td>\n",
       "      <td>6800.0</td>\n",
       "      <td>2.0</td>\n",
       "      <td>84.0</td>\n",
       "      <td>3.0</td>\n",
       "      <td>234.0</td>\n",
       "      <td>424.0</td>\n",
       "    </tr>\n",
       "    <tr>\n",
       "      <th>4</th>\n",
       "      <td>2</td>\n",
       "      <td>10000000</td>\n",
       "      <td>100</td>\n",
       "      <td>2018-06-19</td>\n",
       "      <td>2</td>\n",
       "      <td>3.03</td>\n",
       "      <td>14.0</td>\n",
       "      <td>32.0</td>\n",
       "      <td>13</td>\n",
       "      <td>False</td>\n",
       "      <td>False</td>\n",
       "      <td>False</td>\n",
       "      <td>41.0</td>\n",
       "      <td>NaN</td>\n",
       "      <td>Санкт-Петербург</td>\n",
       "      <td>31856.0</td>\n",
       "      <td>8098.0</td>\n",
       "      <td>2.0</td>\n",
       "      <td>112.0</td>\n",
       "      <td>1.0</td>\n",
       "      <td>48.0</td>\n",
       "      <td>121.0</td>\n",
       "    </tr>\n",
       "  </tbody>\n",
       "</table>\n",
       "</div>"
      ],
      "text/plain": [
       "   total_images  last_price  total_area first_day_exposition  rooms  \\\n",
       "0            20    13000000         108           2019-03-07      3   \n",
       "1             7     3350000          40           2018-12-04      1   \n",
       "2            10     5196000          56           2015-08-20      2   \n",
       "3             0    64900000         159           2015-07-24      3   \n",
       "4             2    10000000         100           2018-06-19      2   \n",
       "\n",
       "   ceiling_height  floors_total  living_area  floor  is_apartment  studio  \\\n",
       "0            2.70          16.0         51.0      8         False   False   \n",
       "1            2.65          11.0         18.6      1         False   False   \n",
       "2            2.65           5.0         34.3      4         False   False   \n",
       "3            2.65          14.0          NaN      9         False   False   \n",
       "4            3.03          14.0         32.0     13         False   False   \n",
       "\n",
       "   open_plan  kitchen_area  balcony    locality_name  airports_nearest  \\\n",
       "0      False          25.0      NaN  Санкт-Петербург           18863.0   \n",
       "1      False          11.0      2.0   поселок Шушары           12817.0   \n",
       "2      False           8.3      0.0  Санкт-Петербург           21741.0   \n",
       "3      False           NaN      0.0  Санкт-Петербург           28098.0   \n",
       "4      False          41.0      NaN  Санкт-Петербург           31856.0   \n",
       "\n",
       "   cityCenters_nearest  parks_around3000  parks_nearest  ponds_around3000  \\\n",
       "0              16028.0               1.0          482.0               2.0   \n",
       "1              18603.0               0.0            NaN               0.0   \n",
       "2              13933.0               1.0           90.0               2.0   \n",
       "3               6800.0               2.0           84.0               3.0   \n",
       "4               8098.0               2.0          112.0               1.0   \n",
       "\n",
       "   ponds_nearest  days_exposition  \n",
       "0          755.0              NaN  \n",
       "1            NaN             81.0  \n",
       "2          574.0            558.0  \n",
       "3          234.0            424.0  \n",
       "4           48.0            121.0  "
      ]
     },
     "execution_count": 28,
     "metadata": {},
     "output_type": "execute_result"
    }
   ],
   "source": [
    "data['is_apartment'] = data['is_apartment'].fillna(False)\n",
    "data.head()"
   ]
  },
  {
   "cell_type": "code",
   "execution_count": 29,
   "metadata": {},
   "outputs": [
    {
     "data": {
      "text/plain": [
       "array([ 0,  1,  2,  3,  4,  5,  6,  7,  8,  9, 10, 11, 14])"
      ]
     },
     "execution_count": 29,
     "metadata": {},
     "output_type": "execute_result"
    }
   ],
   "source": [
    "data['rooms'].sort_values().unique()"
   ]
  },
  {
   "cell_type": "markdown",
   "metadata": {},
   "source": [
    "При помощи метода query срезали аномальные значения в столбцах 'total_area', а вместе с ним ушли и аномалии в 'rooms'.\n",
    "Одновременно скорректировлись данные в 'last_price'"
   ]
  },
  {
   "cell_type": "code",
   "execution_count": 30,
   "metadata": {},
   "outputs": [
    {
     "data": {
      "text/html": [
       "<div>\n",
       "<style scoped>\n",
       "    .dataframe tbody tr th:only-of-type {\n",
       "        vertical-align: middle;\n",
       "    }\n",
       "\n",
       "    .dataframe tbody tr th {\n",
       "        vertical-align: top;\n",
       "    }\n",
       "\n",
       "    .dataframe thead th {\n",
       "        text-align: right;\n",
       "    }\n",
       "</style>\n",
       "<table border=\"1\" class=\"dataframe\">\n",
       "  <thead>\n",
       "    <tr style=\"text-align: right;\">\n",
       "      <th></th>\n",
       "      <th>total_images</th>\n",
       "      <th>last_price</th>\n",
       "      <th>total_area</th>\n",
       "      <th>first_day_exposition</th>\n",
       "      <th>rooms</th>\n",
       "      <th>ceiling_height</th>\n",
       "      <th>floors_total</th>\n",
       "      <th>living_area</th>\n",
       "      <th>floor</th>\n",
       "      <th>is_apartment</th>\n",
       "      <th>studio</th>\n",
       "      <th>open_plan</th>\n",
       "      <th>kitchen_area</th>\n",
       "      <th>balcony</th>\n",
       "      <th>locality_name</th>\n",
       "      <th>airports_nearest</th>\n",
       "      <th>cityCenters_nearest</th>\n",
       "      <th>parks_around3000</th>\n",
       "      <th>parks_nearest</th>\n",
       "      <th>ponds_around3000</th>\n",
       "      <th>ponds_nearest</th>\n",
       "      <th>days_exposition</th>\n",
       "    </tr>\n",
       "  </thead>\n",
       "  <tbody>\n",
       "    <tr>\n",
       "      <th>0</th>\n",
       "      <td>20</td>\n",
       "      <td>13000000</td>\n",
       "      <td>108</td>\n",
       "      <td>2019-03-07</td>\n",
       "      <td>3</td>\n",
       "      <td>2.70</td>\n",
       "      <td>16.0</td>\n",
       "      <td>51.0</td>\n",
       "      <td>8</td>\n",
       "      <td>0</td>\n",
       "      <td>False</td>\n",
       "      <td>False</td>\n",
       "      <td>25.0</td>\n",
       "      <td>NaN</td>\n",
       "      <td>Санкт-Петербург</td>\n",
       "      <td>18863.0</td>\n",
       "      <td>16028.0</td>\n",
       "      <td>1.0</td>\n",
       "      <td>482.0</td>\n",
       "      <td>2.0</td>\n",
       "      <td>755.0</td>\n",
       "      <td>NaN</td>\n",
       "    </tr>\n",
       "    <tr>\n",
       "      <th>1</th>\n",
       "      <td>7</td>\n",
       "      <td>3350000</td>\n",
       "      <td>40</td>\n",
       "      <td>2018-12-04</td>\n",
       "      <td>1</td>\n",
       "      <td>2.65</td>\n",
       "      <td>11.0</td>\n",
       "      <td>18.6</td>\n",
       "      <td>1</td>\n",
       "      <td>0</td>\n",
       "      <td>False</td>\n",
       "      <td>False</td>\n",
       "      <td>11.0</td>\n",
       "      <td>2.0</td>\n",
       "      <td>поселок Шушары</td>\n",
       "      <td>12817.0</td>\n",
       "      <td>18603.0</td>\n",
       "      <td>0.0</td>\n",
       "      <td>NaN</td>\n",
       "      <td>0.0</td>\n",
       "      <td>NaN</td>\n",
       "      <td>81.0</td>\n",
       "    </tr>\n",
       "    <tr>\n",
       "      <th>2</th>\n",
       "      <td>10</td>\n",
       "      <td>5196000</td>\n",
       "      <td>56</td>\n",
       "      <td>2015-08-20</td>\n",
       "      <td>2</td>\n",
       "      <td>2.65</td>\n",
       "      <td>5.0</td>\n",
       "      <td>34.3</td>\n",
       "      <td>4</td>\n",
       "      <td>0</td>\n",
       "      <td>False</td>\n",
       "      <td>False</td>\n",
       "      <td>8.3</td>\n",
       "      <td>0.0</td>\n",
       "      <td>Санкт-Петербург</td>\n",
       "      <td>21741.0</td>\n",
       "      <td>13933.0</td>\n",
       "      <td>1.0</td>\n",
       "      <td>90.0</td>\n",
       "      <td>2.0</td>\n",
       "      <td>574.0</td>\n",
       "      <td>558.0</td>\n",
       "    </tr>\n",
       "    <tr>\n",
       "      <th>3</th>\n",
       "      <td>0</td>\n",
       "      <td>64900000</td>\n",
       "      <td>159</td>\n",
       "      <td>2015-07-24</td>\n",
       "      <td>3</td>\n",
       "      <td>2.65</td>\n",
       "      <td>14.0</td>\n",
       "      <td>NaN</td>\n",
       "      <td>9</td>\n",
       "      <td>0</td>\n",
       "      <td>False</td>\n",
       "      <td>False</td>\n",
       "      <td>NaN</td>\n",
       "      <td>0.0</td>\n",
       "      <td>Санкт-Петербург</td>\n",
       "      <td>28098.0</td>\n",
       "      <td>6800.0</td>\n",
       "      <td>2.0</td>\n",
       "      <td>84.0</td>\n",
       "      <td>3.0</td>\n",
       "      <td>234.0</td>\n",
       "      <td>424.0</td>\n",
       "    </tr>\n",
       "    <tr>\n",
       "      <th>4</th>\n",
       "      <td>2</td>\n",
       "      <td>10000000</td>\n",
       "      <td>100</td>\n",
       "      <td>2018-06-19</td>\n",
       "      <td>2</td>\n",
       "      <td>3.03</td>\n",
       "      <td>14.0</td>\n",
       "      <td>32.0</td>\n",
       "      <td>13</td>\n",
       "      <td>0</td>\n",
       "      <td>False</td>\n",
       "      <td>False</td>\n",
       "      <td>41.0</td>\n",
       "      <td>NaN</td>\n",
       "      <td>Санкт-Петербург</td>\n",
       "      <td>31856.0</td>\n",
       "      <td>8098.0</td>\n",
       "      <td>2.0</td>\n",
       "      <td>112.0</td>\n",
       "      <td>1.0</td>\n",
       "      <td>48.0</td>\n",
       "      <td>121.0</td>\n",
       "    </tr>\n",
       "  </tbody>\n",
       "</table>\n",
       "</div>"
      ],
      "text/plain": [
       "   total_images  last_price  total_area first_day_exposition  rooms  \\\n",
       "0            20    13000000         108           2019-03-07      3   \n",
       "1             7     3350000          40           2018-12-04      1   \n",
       "2            10     5196000          56           2015-08-20      2   \n",
       "3             0    64900000         159           2015-07-24      3   \n",
       "4             2    10000000         100           2018-06-19      2   \n",
       "\n",
       "   ceiling_height  floors_total  living_area  floor  is_apartment  studio  \\\n",
       "0            2.70          16.0         51.0      8             0   False   \n",
       "1            2.65          11.0         18.6      1             0   False   \n",
       "2            2.65           5.0         34.3      4             0   False   \n",
       "3            2.65          14.0          NaN      9             0   False   \n",
       "4            3.03          14.0         32.0     13             0   False   \n",
       "\n",
       "   open_plan  kitchen_area  balcony    locality_name  airports_nearest  \\\n",
       "0      False          25.0      NaN  Санкт-Петербург           18863.0   \n",
       "1      False          11.0      2.0   поселок Шушары           12817.0   \n",
       "2      False           8.3      0.0  Санкт-Петербург           21741.0   \n",
       "3      False           NaN      0.0  Санкт-Петербург           28098.0   \n",
       "4      False          41.0      NaN  Санкт-Петербург           31856.0   \n",
       "\n",
       "   cityCenters_nearest  parks_around3000  parks_nearest  ponds_around3000  \\\n",
       "0              16028.0               1.0          482.0               2.0   \n",
       "1              18603.0               0.0            NaN               0.0   \n",
       "2              13933.0               1.0           90.0               2.0   \n",
       "3               6800.0               2.0           84.0               3.0   \n",
       "4               8098.0               2.0          112.0               1.0   \n",
       "\n",
       "   ponds_nearest  days_exposition  \n",
       "0          755.0              NaN  \n",
       "1            NaN             81.0  \n",
       "2          574.0            558.0  \n",
       "3          234.0            424.0  \n",
       "4           48.0            121.0  "
      ]
     },
     "execution_count": 30,
     "metadata": {},
     "output_type": "execute_result"
    }
   ],
   "source": [
    "data['is_apartment'] = data['is_apartment'].where(data['is_apartment'] == True, '1')\n",
    "data['is_apartment'] = data['is_apartment'].where(data['is_apartment'] == False, '0')\n",
    "data['is_apartment'] = data['is_apartment'].astype('int')\n",
    "data.head()"
   ]
  },
  {
   "cell_type": "code",
   "execution_count": 31,
   "metadata": {},
   "outputs": [
    {
     "data": {
      "text/html": [
       "<div>\n",
       "<style scoped>\n",
       "    .dataframe tbody tr th:only-of-type {\n",
       "        vertical-align: middle;\n",
       "    }\n",
       "\n",
       "    .dataframe tbody tr th {\n",
       "        vertical-align: top;\n",
       "    }\n",
       "\n",
       "    .dataframe thead th {\n",
       "        text-align: right;\n",
       "    }\n",
       "</style>\n",
       "<table border=\"1\" class=\"dataframe\">\n",
       "  <thead>\n",
       "    <tr style=\"text-align: right;\">\n",
       "      <th></th>\n",
       "      <th>total_images</th>\n",
       "      <th>last_price</th>\n",
       "      <th>total_area</th>\n",
       "      <th>first_day_exposition</th>\n",
       "      <th>rooms</th>\n",
       "      <th>ceiling_height</th>\n",
       "      <th>floors_total</th>\n",
       "      <th>living_area</th>\n",
       "      <th>floor</th>\n",
       "      <th>is_apartment</th>\n",
       "      <th>studio</th>\n",
       "      <th>open_plan</th>\n",
       "      <th>kitchen_area</th>\n",
       "      <th>balcony</th>\n",
       "      <th>locality_name</th>\n",
       "      <th>airports_nearest</th>\n",
       "      <th>cityCenters_nearest</th>\n",
       "      <th>parks_around3000</th>\n",
       "      <th>parks_nearest</th>\n",
       "      <th>ponds_around3000</th>\n",
       "      <th>ponds_nearest</th>\n",
       "      <th>days_exposition</th>\n",
       "    </tr>\n",
       "  </thead>\n",
       "  <tbody>\n",
       "    <tr>\n",
       "      <th>0</th>\n",
       "      <td>20</td>\n",
       "      <td>13000000</td>\n",
       "      <td>108</td>\n",
       "      <td>2019-03-07</td>\n",
       "      <td>3</td>\n",
       "      <td>2.70</td>\n",
       "      <td>16.0</td>\n",
       "      <td>51.0</td>\n",
       "      <td>8</td>\n",
       "      <td>0</td>\n",
       "      <td>False</td>\n",
       "      <td>0</td>\n",
       "      <td>25.0</td>\n",
       "      <td>NaN</td>\n",
       "      <td>Санкт-Петербург</td>\n",
       "      <td>18863.0</td>\n",
       "      <td>16028.0</td>\n",
       "      <td>1.0</td>\n",
       "      <td>482.0</td>\n",
       "      <td>2.0</td>\n",
       "      <td>755.0</td>\n",
       "      <td>NaN</td>\n",
       "    </tr>\n",
       "    <tr>\n",
       "      <th>1</th>\n",
       "      <td>7</td>\n",
       "      <td>3350000</td>\n",
       "      <td>40</td>\n",
       "      <td>2018-12-04</td>\n",
       "      <td>1</td>\n",
       "      <td>2.65</td>\n",
       "      <td>11.0</td>\n",
       "      <td>18.6</td>\n",
       "      <td>1</td>\n",
       "      <td>0</td>\n",
       "      <td>False</td>\n",
       "      <td>0</td>\n",
       "      <td>11.0</td>\n",
       "      <td>2.0</td>\n",
       "      <td>поселок Шушары</td>\n",
       "      <td>12817.0</td>\n",
       "      <td>18603.0</td>\n",
       "      <td>0.0</td>\n",
       "      <td>NaN</td>\n",
       "      <td>0.0</td>\n",
       "      <td>NaN</td>\n",
       "      <td>81.0</td>\n",
       "    </tr>\n",
       "    <tr>\n",
       "      <th>2</th>\n",
       "      <td>10</td>\n",
       "      <td>5196000</td>\n",
       "      <td>56</td>\n",
       "      <td>2015-08-20</td>\n",
       "      <td>2</td>\n",
       "      <td>2.65</td>\n",
       "      <td>5.0</td>\n",
       "      <td>34.3</td>\n",
       "      <td>4</td>\n",
       "      <td>0</td>\n",
       "      <td>False</td>\n",
       "      <td>0</td>\n",
       "      <td>8.3</td>\n",
       "      <td>0.0</td>\n",
       "      <td>Санкт-Петербург</td>\n",
       "      <td>21741.0</td>\n",
       "      <td>13933.0</td>\n",
       "      <td>1.0</td>\n",
       "      <td>90.0</td>\n",
       "      <td>2.0</td>\n",
       "      <td>574.0</td>\n",
       "      <td>558.0</td>\n",
       "    </tr>\n",
       "    <tr>\n",
       "      <th>3</th>\n",
       "      <td>0</td>\n",
       "      <td>64900000</td>\n",
       "      <td>159</td>\n",
       "      <td>2015-07-24</td>\n",
       "      <td>3</td>\n",
       "      <td>2.65</td>\n",
       "      <td>14.0</td>\n",
       "      <td>NaN</td>\n",
       "      <td>9</td>\n",
       "      <td>0</td>\n",
       "      <td>False</td>\n",
       "      <td>0</td>\n",
       "      <td>NaN</td>\n",
       "      <td>0.0</td>\n",
       "      <td>Санкт-Петербург</td>\n",
       "      <td>28098.0</td>\n",
       "      <td>6800.0</td>\n",
       "      <td>2.0</td>\n",
       "      <td>84.0</td>\n",
       "      <td>3.0</td>\n",
       "      <td>234.0</td>\n",
       "      <td>424.0</td>\n",
       "    </tr>\n",
       "    <tr>\n",
       "      <th>4</th>\n",
       "      <td>2</td>\n",
       "      <td>10000000</td>\n",
       "      <td>100</td>\n",
       "      <td>2018-06-19</td>\n",
       "      <td>2</td>\n",
       "      <td>3.03</td>\n",
       "      <td>14.0</td>\n",
       "      <td>32.0</td>\n",
       "      <td>13</td>\n",
       "      <td>0</td>\n",
       "      <td>False</td>\n",
       "      <td>0</td>\n",
       "      <td>41.0</td>\n",
       "      <td>NaN</td>\n",
       "      <td>Санкт-Петербург</td>\n",
       "      <td>31856.0</td>\n",
       "      <td>8098.0</td>\n",
       "      <td>2.0</td>\n",
       "      <td>112.0</td>\n",
       "      <td>1.0</td>\n",
       "      <td>48.0</td>\n",
       "      <td>121.0</td>\n",
       "    </tr>\n",
       "  </tbody>\n",
       "</table>\n",
       "</div>"
      ],
      "text/plain": [
       "   total_images  last_price  total_area first_day_exposition  rooms  \\\n",
       "0            20    13000000         108           2019-03-07      3   \n",
       "1             7     3350000          40           2018-12-04      1   \n",
       "2            10     5196000          56           2015-08-20      2   \n",
       "3             0    64900000         159           2015-07-24      3   \n",
       "4             2    10000000         100           2018-06-19      2   \n",
       "\n",
       "   ceiling_height  floors_total  living_area  floor  is_apartment  studio  \\\n",
       "0            2.70          16.0         51.0      8             0   False   \n",
       "1            2.65          11.0         18.6      1             0   False   \n",
       "2            2.65           5.0         34.3      4             0   False   \n",
       "3            2.65          14.0          NaN      9             0   False   \n",
       "4            3.03          14.0         32.0     13             0   False   \n",
       "\n",
       "   open_plan  kitchen_area  balcony    locality_name  airports_nearest  \\\n",
       "0          0          25.0      NaN  Санкт-Петербург           18863.0   \n",
       "1          0          11.0      2.0   поселок Шушары           12817.0   \n",
       "2          0           8.3      0.0  Санкт-Петербург           21741.0   \n",
       "3          0           NaN      0.0  Санкт-Петербург           28098.0   \n",
       "4          0          41.0      NaN  Санкт-Петербург           31856.0   \n",
       "\n",
       "   cityCenters_nearest  parks_around3000  parks_nearest  ponds_around3000  \\\n",
       "0              16028.0               1.0          482.0               2.0   \n",
       "1              18603.0               0.0            NaN               0.0   \n",
       "2              13933.0               1.0           90.0               2.0   \n",
       "3               6800.0               2.0           84.0               3.0   \n",
       "4               8098.0               2.0          112.0               1.0   \n",
       "\n",
       "   ponds_nearest  days_exposition  \n",
       "0          755.0              NaN  \n",
       "1            NaN             81.0  \n",
       "2          574.0            558.0  \n",
       "3          234.0            424.0  \n",
       "4           48.0            121.0  "
      ]
     },
     "execution_count": 31,
     "metadata": {},
     "output_type": "execute_result"
    }
   ],
   "source": [
    "data['open_plan'] = data['open_plan'].where(data['open_plan'] == True, '1')\n",
    "data['open_plan'] = data['open_plan'].where(data['open_plan'] == False, '0')\n",
    "data['open_plan'] = data['open_plan'].astype('int')\n",
    "data.head()                "
   ]
  },
  {
   "cell_type": "code",
   "execution_count": 32,
   "metadata": {},
   "outputs": [
    {
     "data": {
      "text/html": [
       "<div>\n",
       "<style scoped>\n",
       "    .dataframe tbody tr th:only-of-type {\n",
       "        vertical-align: middle;\n",
       "    }\n",
       "\n",
       "    .dataframe tbody tr th {\n",
       "        vertical-align: top;\n",
       "    }\n",
       "\n",
       "    .dataframe thead th {\n",
       "        text-align: right;\n",
       "    }\n",
       "</style>\n",
       "<table border=\"1\" class=\"dataframe\">\n",
       "  <thead>\n",
       "    <tr style=\"text-align: right;\">\n",
       "      <th></th>\n",
       "      <th>total_images</th>\n",
       "      <th>last_price</th>\n",
       "      <th>total_area</th>\n",
       "      <th>first_day_exposition</th>\n",
       "      <th>rooms</th>\n",
       "      <th>ceiling_height</th>\n",
       "      <th>floors_total</th>\n",
       "      <th>living_area</th>\n",
       "      <th>floor</th>\n",
       "      <th>is_apartment</th>\n",
       "      <th>studio</th>\n",
       "      <th>open_plan</th>\n",
       "      <th>kitchen_area</th>\n",
       "      <th>balcony</th>\n",
       "      <th>locality_name</th>\n",
       "      <th>airports_nearest</th>\n",
       "      <th>cityCenters_nearest</th>\n",
       "      <th>parks_around3000</th>\n",
       "      <th>parks_nearest</th>\n",
       "      <th>ponds_around3000</th>\n",
       "      <th>ponds_nearest</th>\n",
       "      <th>days_exposition</th>\n",
       "    </tr>\n",
       "  </thead>\n",
       "  <tbody>\n",
       "    <tr>\n",
       "      <th>0</th>\n",
       "      <td>20</td>\n",
       "      <td>13000000</td>\n",
       "      <td>108</td>\n",
       "      <td>2019-03-07</td>\n",
       "      <td>3</td>\n",
       "      <td>2.70</td>\n",
       "      <td>16.0</td>\n",
       "      <td>51.0</td>\n",
       "      <td>8</td>\n",
       "      <td>0</td>\n",
       "      <td>False</td>\n",
       "      <td>0</td>\n",
       "      <td>25</td>\n",
       "      <td>NaN</td>\n",
       "      <td>Санкт-Петербург</td>\n",
       "      <td>18863.0</td>\n",
       "      <td>16028.0</td>\n",
       "      <td>1.0</td>\n",
       "      <td>482.0</td>\n",
       "      <td>2.0</td>\n",
       "      <td>755.0</td>\n",
       "      <td>NaN</td>\n",
       "    </tr>\n",
       "    <tr>\n",
       "      <th>1</th>\n",
       "      <td>7</td>\n",
       "      <td>3350000</td>\n",
       "      <td>40</td>\n",
       "      <td>2018-12-04</td>\n",
       "      <td>1</td>\n",
       "      <td>2.65</td>\n",
       "      <td>11.0</td>\n",
       "      <td>18.6</td>\n",
       "      <td>1</td>\n",
       "      <td>0</td>\n",
       "      <td>False</td>\n",
       "      <td>0</td>\n",
       "      <td>11</td>\n",
       "      <td>2.0</td>\n",
       "      <td>поселок Шушары</td>\n",
       "      <td>12817.0</td>\n",
       "      <td>18603.0</td>\n",
       "      <td>0.0</td>\n",
       "      <td>NaN</td>\n",
       "      <td>0.0</td>\n",
       "      <td>NaN</td>\n",
       "      <td>81.0</td>\n",
       "    </tr>\n",
       "    <tr>\n",
       "      <th>2</th>\n",
       "      <td>10</td>\n",
       "      <td>5196000</td>\n",
       "      <td>56</td>\n",
       "      <td>2015-08-20</td>\n",
       "      <td>2</td>\n",
       "      <td>2.65</td>\n",
       "      <td>5.0</td>\n",
       "      <td>34.3</td>\n",
       "      <td>4</td>\n",
       "      <td>0</td>\n",
       "      <td>False</td>\n",
       "      <td>0</td>\n",
       "      <td>8</td>\n",
       "      <td>0.0</td>\n",
       "      <td>Санкт-Петербург</td>\n",
       "      <td>21741.0</td>\n",
       "      <td>13933.0</td>\n",
       "      <td>1.0</td>\n",
       "      <td>90.0</td>\n",
       "      <td>2.0</td>\n",
       "      <td>574.0</td>\n",
       "      <td>558.0</td>\n",
       "    </tr>\n",
       "    <tr>\n",
       "      <th>3</th>\n",
       "      <td>0</td>\n",
       "      <td>64900000</td>\n",
       "      <td>159</td>\n",
       "      <td>2015-07-24</td>\n",
       "      <td>3</td>\n",
       "      <td>2.65</td>\n",
       "      <td>14.0</td>\n",
       "      <td>NaN</td>\n",
       "      <td>9</td>\n",
       "      <td>0</td>\n",
       "      <td>False</td>\n",
       "      <td>0</td>\n",
       "      <td>0</td>\n",
       "      <td>0.0</td>\n",
       "      <td>Санкт-Петербург</td>\n",
       "      <td>28098.0</td>\n",
       "      <td>6800.0</td>\n",
       "      <td>2.0</td>\n",
       "      <td>84.0</td>\n",
       "      <td>3.0</td>\n",
       "      <td>234.0</td>\n",
       "      <td>424.0</td>\n",
       "    </tr>\n",
       "    <tr>\n",
       "      <th>4</th>\n",
       "      <td>2</td>\n",
       "      <td>10000000</td>\n",
       "      <td>100</td>\n",
       "      <td>2018-06-19</td>\n",
       "      <td>2</td>\n",
       "      <td>3.03</td>\n",
       "      <td>14.0</td>\n",
       "      <td>32.0</td>\n",
       "      <td>13</td>\n",
       "      <td>0</td>\n",
       "      <td>False</td>\n",
       "      <td>0</td>\n",
       "      <td>41</td>\n",
       "      <td>NaN</td>\n",
       "      <td>Санкт-Петербург</td>\n",
       "      <td>31856.0</td>\n",
       "      <td>8098.0</td>\n",
       "      <td>2.0</td>\n",
       "      <td>112.0</td>\n",
       "      <td>1.0</td>\n",
       "      <td>48.0</td>\n",
       "      <td>121.0</td>\n",
       "    </tr>\n",
       "  </tbody>\n",
       "</table>\n",
       "</div>"
      ],
      "text/plain": [
       "   total_images  last_price  total_area first_day_exposition  rooms  \\\n",
       "0            20    13000000         108           2019-03-07      3   \n",
       "1             7     3350000          40           2018-12-04      1   \n",
       "2            10     5196000          56           2015-08-20      2   \n",
       "3             0    64900000         159           2015-07-24      3   \n",
       "4             2    10000000         100           2018-06-19      2   \n",
       "\n",
       "   ceiling_height  floors_total  living_area  floor  is_apartment  studio  \\\n",
       "0            2.70          16.0         51.0      8             0   False   \n",
       "1            2.65          11.0         18.6      1             0   False   \n",
       "2            2.65           5.0         34.3      4             0   False   \n",
       "3            2.65          14.0          NaN      9             0   False   \n",
       "4            3.03          14.0         32.0     13             0   False   \n",
       "\n",
       "   open_plan  kitchen_area  balcony    locality_name  airports_nearest  \\\n",
       "0          0            25      NaN  Санкт-Петербург           18863.0   \n",
       "1          0            11      2.0   поселок Шушары           12817.0   \n",
       "2          0             8      0.0  Санкт-Петербург           21741.0   \n",
       "3          0             0      0.0  Санкт-Петербург           28098.0   \n",
       "4          0            41      NaN  Санкт-Петербург           31856.0   \n",
       "\n",
       "   cityCenters_nearest  parks_around3000  parks_nearest  ponds_around3000  \\\n",
       "0              16028.0               1.0          482.0               2.0   \n",
       "1              18603.0               0.0            NaN               0.0   \n",
       "2              13933.0               1.0           90.0               2.0   \n",
       "3               6800.0               2.0           84.0               3.0   \n",
       "4               8098.0               2.0          112.0               1.0   \n",
       "\n",
       "   ponds_nearest  days_exposition  \n",
       "0          755.0              NaN  \n",
       "1            NaN             81.0  \n",
       "2          574.0            558.0  \n",
       "3          234.0            424.0  \n",
       "4           48.0            121.0  "
      ]
     },
     "execution_count": 32,
     "metadata": {},
     "output_type": "execute_result"
    }
   ],
   "source": [
    "data['kitchen_area'] = data['kitchen_area'].fillna(0)\n",
    "data['kitchen_area'] = data['kitchen_area'].astype('int')\n",
    "data.head()     "
   ]
  },
  {
   "cell_type": "code",
   "execution_count": 33,
   "metadata": {},
   "outputs": [
    {
     "data": {
      "text/html": [
       "<div>\n",
       "<style scoped>\n",
       "    .dataframe tbody tr th:only-of-type {\n",
       "        vertical-align: middle;\n",
       "    }\n",
       "\n",
       "    .dataframe tbody tr th {\n",
       "        vertical-align: top;\n",
       "    }\n",
       "\n",
       "    .dataframe thead th {\n",
       "        text-align: right;\n",
       "    }\n",
       "</style>\n",
       "<table border=\"1\" class=\"dataframe\">\n",
       "  <thead>\n",
       "    <tr style=\"text-align: right;\">\n",
       "      <th></th>\n",
       "      <th>total_images</th>\n",
       "      <th>last_price</th>\n",
       "      <th>total_area</th>\n",
       "      <th>first_day_exposition</th>\n",
       "      <th>rooms</th>\n",
       "      <th>ceiling_height</th>\n",
       "      <th>floors_total</th>\n",
       "      <th>living_area</th>\n",
       "      <th>floor</th>\n",
       "      <th>is_apartment</th>\n",
       "      <th>studio</th>\n",
       "      <th>open_plan</th>\n",
       "      <th>kitchen_area</th>\n",
       "      <th>balcony</th>\n",
       "      <th>locality_name</th>\n",
       "      <th>airports_nearest</th>\n",
       "      <th>cityCenters_nearest</th>\n",
       "      <th>parks_around3000</th>\n",
       "      <th>parks_nearest</th>\n",
       "      <th>ponds_around3000</th>\n",
       "      <th>ponds_nearest</th>\n",
       "      <th>days_exposition</th>\n",
       "    </tr>\n",
       "  </thead>\n",
       "  <tbody>\n",
       "    <tr>\n",
       "      <th>0</th>\n",
       "      <td>20</td>\n",
       "      <td>13000000</td>\n",
       "      <td>108</td>\n",
       "      <td>2019-03-07</td>\n",
       "      <td>3</td>\n",
       "      <td>2.70</td>\n",
       "      <td>16.0</td>\n",
       "      <td>51.0</td>\n",
       "      <td>8</td>\n",
       "      <td>0</td>\n",
       "      <td>False</td>\n",
       "      <td>0</td>\n",
       "      <td>25</td>\n",
       "      <td>0</td>\n",
       "      <td>Санкт-Петербург</td>\n",
       "      <td>18863.0</td>\n",
       "      <td>16028.0</td>\n",
       "      <td>1.0</td>\n",
       "      <td>482.0</td>\n",
       "      <td>2.0</td>\n",
       "      <td>755.0</td>\n",
       "      <td>NaN</td>\n",
       "    </tr>\n",
       "    <tr>\n",
       "      <th>1</th>\n",
       "      <td>7</td>\n",
       "      <td>3350000</td>\n",
       "      <td>40</td>\n",
       "      <td>2018-12-04</td>\n",
       "      <td>1</td>\n",
       "      <td>2.65</td>\n",
       "      <td>11.0</td>\n",
       "      <td>18.6</td>\n",
       "      <td>1</td>\n",
       "      <td>0</td>\n",
       "      <td>False</td>\n",
       "      <td>0</td>\n",
       "      <td>11</td>\n",
       "      <td>2</td>\n",
       "      <td>поселок Шушары</td>\n",
       "      <td>12817.0</td>\n",
       "      <td>18603.0</td>\n",
       "      <td>0.0</td>\n",
       "      <td>NaN</td>\n",
       "      <td>0.0</td>\n",
       "      <td>NaN</td>\n",
       "      <td>81.0</td>\n",
       "    </tr>\n",
       "    <tr>\n",
       "      <th>2</th>\n",
       "      <td>10</td>\n",
       "      <td>5196000</td>\n",
       "      <td>56</td>\n",
       "      <td>2015-08-20</td>\n",
       "      <td>2</td>\n",
       "      <td>2.65</td>\n",
       "      <td>5.0</td>\n",
       "      <td>34.3</td>\n",
       "      <td>4</td>\n",
       "      <td>0</td>\n",
       "      <td>False</td>\n",
       "      <td>0</td>\n",
       "      <td>8</td>\n",
       "      <td>0</td>\n",
       "      <td>Санкт-Петербург</td>\n",
       "      <td>21741.0</td>\n",
       "      <td>13933.0</td>\n",
       "      <td>1.0</td>\n",
       "      <td>90.0</td>\n",
       "      <td>2.0</td>\n",
       "      <td>574.0</td>\n",
       "      <td>558.0</td>\n",
       "    </tr>\n",
       "    <tr>\n",
       "      <th>3</th>\n",
       "      <td>0</td>\n",
       "      <td>64900000</td>\n",
       "      <td>159</td>\n",
       "      <td>2015-07-24</td>\n",
       "      <td>3</td>\n",
       "      <td>2.65</td>\n",
       "      <td>14.0</td>\n",
       "      <td>NaN</td>\n",
       "      <td>9</td>\n",
       "      <td>0</td>\n",
       "      <td>False</td>\n",
       "      <td>0</td>\n",
       "      <td>0</td>\n",
       "      <td>0</td>\n",
       "      <td>Санкт-Петербург</td>\n",
       "      <td>28098.0</td>\n",
       "      <td>6800.0</td>\n",
       "      <td>2.0</td>\n",
       "      <td>84.0</td>\n",
       "      <td>3.0</td>\n",
       "      <td>234.0</td>\n",
       "      <td>424.0</td>\n",
       "    </tr>\n",
       "    <tr>\n",
       "      <th>4</th>\n",
       "      <td>2</td>\n",
       "      <td>10000000</td>\n",
       "      <td>100</td>\n",
       "      <td>2018-06-19</td>\n",
       "      <td>2</td>\n",
       "      <td>3.03</td>\n",
       "      <td>14.0</td>\n",
       "      <td>32.0</td>\n",
       "      <td>13</td>\n",
       "      <td>0</td>\n",
       "      <td>False</td>\n",
       "      <td>0</td>\n",
       "      <td>41</td>\n",
       "      <td>0</td>\n",
       "      <td>Санкт-Петербург</td>\n",
       "      <td>31856.0</td>\n",
       "      <td>8098.0</td>\n",
       "      <td>2.0</td>\n",
       "      <td>112.0</td>\n",
       "      <td>1.0</td>\n",
       "      <td>48.0</td>\n",
       "      <td>121.0</td>\n",
       "    </tr>\n",
       "  </tbody>\n",
       "</table>\n",
       "</div>"
      ],
      "text/plain": [
       "   total_images  last_price  total_area first_day_exposition  rooms  \\\n",
       "0            20    13000000         108           2019-03-07      3   \n",
       "1             7     3350000          40           2018-12-04      1   \n",
       "2            10     5196000          56           2015-08-20      2   \n",
       "3             0    64900000         159           2015-07-24      3   \n",
       "4             2    10000000         100           2018-06-19      2   \n",
       "\n",
       "   ceiling_height  floors_total  living_area  floor  is_apartment  studio  \\\n",
       "0            2.70          16.0         51.0      8             0   False   \n",
       "1            2.65          11.0         18.6      1             0   False   \n",
       "2            2.65           5.0         34.3      4             0   False   \n",
       "3            2.65          14.0          NaN      9             0   False   \n",
       "4            3.03          14.0         32.0     13             0   False   \n",
       "\n",
       "   open_plan  kitchen_area  balcony    locality_name  airports_nearest  \\\n",
       "0          0            25        0  Санкт-Петербург           18863.0   \n",
       "1          0            11        2   поселок Шушары           12817.0   \n",
       "2          0             8        0  Санкт-Петербург           21741.0   \n",
       "3          0             0        0  Санкт-Петербург           28098.0   \n",
       "4          0            41        0  Санкт-Петербург           31856.0   \n",
       "\n",
       "   cityCenters_nearest  parks_around3000  parks_nearest  ponds_around3000  \\\n",
       "0              16028.0               1.0          482.0               2.0   \n",
       "1              18603.0               0.0            NaN               0.0   \n",
       "2              13933.0               1.0           90.0               2.0   \n",
       "3               6800.0               2.0           84.0               3.0   \n",
       "4               8098.0               2.0          112.0               1.0   \n",
       "\n",
       "   ponds_nearest  days_exposition  \n",
       "0          755.0              NaN  \n",
       "1            NaN             81.0  \n",
       "2          574.0            558.0  \n",
       "3          234.0            424.0  \n",
       "4           48.0            121.0  "
      ]
     },
     "execution_count": 33,
     "metadata": {},
     "output_type": "execute_result"
    }
   ],
   "source": [
    "data['balcony'] = data['balcony'].fillna(0)\n",
    "data['balcony'] = data['balcony'].astype('int')\n",
    "data.head()"
   ]
  },
  {
   "cell_type": "code",
   "execution_count": 34,
   "metadata": {},
   "outputs": [
    {
     "data": {
      "text/html": [
       "<div>\n",
       "<style scoped>\n",
       "    .dataframe tbody tr th:only-of-type {\n",
       "        vertical-align: middle;\n",
       "    }\n",
       "\n",
       "    .dataframe tbody tr th {\n",
       "        vertical-align: top;\n",
       "    }\n",
       "\n",
       "    .dataframe thead th {\n",
       "        text-align: right;\n",
       "    }\n",
       "</style>\n",
       "<table border=\"1\" class=\"dataframe\">\n",
       "  <thead>\n",
       "    <tr style=\"text-align: right;\">\n",
       "      <th></th>\n",
       "      <th>total_images</th>\n",
       "      <th>last_price</th>\n",
       "      <th>total_area</th>\n",
       "      <th>first_day_exposition</th>\n",
       "      <th>rooms</th>\n",
       "      <th>ceiling_height</th>\n",
       "      <th>floors_total</th>\n",
       "      <th>living_area</th>\n",
       "      <th>floor</th>\n",
       "      <th>is_apartment</th>\n",
       "      <th>studio</th>\n",
       "      <th>open_plan</th>\n",
       "      <th>kitchen_area</th>\n",
       "      <th>balcony</th>\n",
       "      <th>locality_name</th>\n",
       "      <th>airports_nearest</th>\n",
       "      <th>cityCenters_nearest</th>\n",
       "      <th>parks_around3000</th>\n",
       "      <th>parks_nearest</th>\n",
       "      <th>ponds_around3000</th>\n",
       "      <th>ponds_nearest</th>\n",
       "      <th>days_exposition</th>\n",
       "    </tr>\n",
       "  </thead>\n",
       "  <tbody>\n",
       "    <tr>\n",
       "      <th>0</th>\n",
       "      <td>20</td>\n",
       "      <td>13000000</td>\n",
       "      <td>108</td>\n",
       "      <td>2019-03-07</td>\n",
       "      <td>3</td>\n",
       "      <td>2.70</td>\n",
       "      <td>16</td>\n",
       "      <td>51.0</td>\n",
       "      <td>8</td>\n",
       "      <td>0</td>\n",
       "      <td>False</td>\n",
       "      <td>0</td>\n",
       "      <td>25</td>\n",
       "      <td>0</td>\n",
       "      <td>Санкт-Петербург</td>\n",
       "      <td>18863.0</td>\n",
       "      <td>16028.0</td>\n",
       "      <td>1.0</td>\n",
       "      <td>482.0</td>\n",
       "      <td>2.0</td>\n",
       "      <td>755.0</td>\n",
       "      <td>NaN</td>\n",
       "    </tr>\n",
       "    <tr>\n",
       "      <th>1</th>\n",
       "      <td>7</td>\n",
       "      <td>3350000</td>\n",
       "      <td>40</td>\n",
       "      <td>2018-12-04</td>\n",
       "      <td>1</td>\n",
       "      <td>2.65</td>\n",
       "      <td>11</td>\n",
       "      <td>18.6</td>\n",
       "      <td>1</td>\n",
       "      <td>0</td>\n",
       "      <td>False</td>\n",
       "      <td>0</td>\n",
       "      <td>11</td>\n",
       "      <td>2</td>\n",
       "      <td>поселок Шушары</td>\n",
       "      <td>12817.0</td>\n",
       "      <td>18603.0</td>\n",
       "      <td>0.0</td>\n",
       "      <td>NaN</td>\n",
       "      <td>0.0</td>\n",
       "      <td>NaN</td>\n",
       "      <td>81.0</td>\n",
       "    </tr>\n",
       "    <tr>\n",
       "      <th>2</th>\n",
       "      <td>10</td>\n",
       "      <td>5196000</td>\n",
       "      <td>56</td>\n",
       "      <td>2015-08-20</td>\n",
       "      <td>2</td>\n",
       "      <td>2.65</td>\n",
       "      <td>5</td>\n",
       "      <td>34.3</td>\n",
       "      <td>4</td>\n",
       "      <td>0</td>\n",
       "      <td>False</td>\n",
       "      <td>0</td>\n",
       "      <td>8</td>\n",
       "      <td>0</td>\n",
       "      <td>Санкт-Петербург</td>\n",
       "      <td>21741.0</td>\n",
       "      <td>13933.0</td>\n",
       "      <td>1.0</td>\n",
       "      <td>90.0</td>\n",
       "      <td>2.0</td>\n",
       "      <td>574.0</td>\n",
       "      <td>558.0</td>\n",
       "    </tr>\n",
       "    <tr>\n",
       "      <th>3</th>\n",
       "      <td>0</td>\n",
       "      <td>64900000</td>\n",
       "      <td>159</td>\n",
       "      <td>2015-07-24</td>\n",
       "      <td>3</td>\n",
       "      <td>2.65</td>\n",
       "      <td>14</td>\n",
       "      <td>NaN</td>\n",
       "      <td>9</td>\n",
       "      <td>0</td>\n",
       "      <td>False</td>\n",
       "      <td>0</td>\n",
       "      <td>0</td>\n",
       "      <td>0</td>\n",
       "      <td>Санкт-Петербург</td>\n",
       "      <td>28098.0</td>\n",
       "      <td>6800.0</td>\n",
       "      <td>2.0</td>\n",
       "      <td>84.0</td>\n",
       "      <td>3.0</td>\n",
       "      <td>234.0</td>\n",
       "      <td>424.0</td>\n",
       "    </tr>\n",
       "    <tr>\n",
       "      <th>4</th>\n",
       "      <td>2</td>\n",
       "      <td>10000000</td>\n",
       "      <td>100</td>\n",
       "      <td>2018-06-19</td>\n",
       "      <td>2</td>\n",
       "      <td>3.03</td>\n",
       "      <td>14</td>\n",
       "      <td>32.0</td>\n",
       "      <td>13</td>\n",
       "      <td>0</td>\n",
       "      <td>False</td>\n",
       "      <td>0</td>\n",
       "      <td>41</td>\n",
       "      <td>0</td>\n",
       "      <td>Санкт-Петербург</td>\n",
       "      <td>31856.0</td>\n",
       "      <td>8098.0</td>\n",
       "      <td>2.0</td>\n",
       "      <td>112.0</td>\n",
       "      <td>1.0</td>\n",
       "      <td>48.0</td>\n",
       "      <td>121.0</td>\n",
       "    </tr>\n",
       "  </tbody>\n",
       "</table>\n",
       "</div>"
      ],
      "text/plain": [
       "   total_images  last_price  total_area first_day_exposition  rooms  \\\n",
       "0            20    13000000         108           2019-03-07      3   \n",
       "1             7     3350000          40           2018-12-04      1   \n",
       "2            10     5196000          56           2015-08-20      2   \n",
       "3             0    64900000         159           2015-07-24      3   \n",
       "4             2    10000000         100           2018-06-19      2   \n",
       "\n",
       "   ceiling_height  floors_total  living_area  floor  is_apartment  studio  \\\n",
       "0            2.70            16         51.0      8             0   False   \n",
       "1            2.65            11         18.6      1             0   False   \n",
       "2            2.65             5         34.3      4             0   False   \n",
       "3            2.65            14          NaN      9             0   False   \n",
       "4            3.03            14         32.0     13             0   False   \n",
       "\n",
       "   open_plan  kitchen_area  balcony    locality_name  airports_nearest  \\\n",
       "0          0            25        0  Санкт-Петербург           18863.0   \n",
       "1          0            11        2   поселок Шушары           12817.0   \n",
       "2          0             8        0  Санкт-Петербург           21741.0   \n",
       "3          0             0        0  Санкт-Петербург           28098.0   \n",
       "4          0            41        0  Санкт-Петербург           31856.0   \n",
       "\n",
       "   cityCenters_nearest  parks_around3000  parks_nearest  ponds_around3000  \\\n",
       "0              16028.0               1.0          482.0               2.0   \n",
       "1              18603.0               0.0            NaN               0.0   \n",
       "2              13933.0               1.0           90.0               2.0   \n",
       "3               6800.0               2.0           84.0               3.0   \n",
       "4               8098.0               2.0          112.0               1.0   \n",
       "\n",
       "   ponds_nearest  days_exposition  \n",
       "0          755.0              NaN  \n",
       "1            NaN             81.0  \n",
       "2          574.0            558.0  \n",
       "3          234.0            424.0  \n",
       "4           48.0            121.0  "
      ]
     },
     "execution_count": 34,
     "metadata": {},
     "output_type": "execute_result"
    }
   ],
   "source": [
    "data['floors_total'] = data['floors_total'].fillna(0)\n",
    "data['floors_total'] = data['floors_total'].astype('int')\n",
    "data.head()"
   ]
  },
  {
   "cell_type": "code",
   "execution_count": 35,
   "metadata": {},
   "outputs": [
    {
     "data": {
      "text/html": [
       "<div>\n",
       "<style scoped>\n",
       "    .dataframe tbody tr th:only-of-type {\n",
       "        vertical-align: middle;\n",
       "    }\n",
       "\n",
       "    .dataframe tbody tr th {\n",
       "        vertical-align: top;\n",
       "    }\n",
       "\n",
       "    .dataframe thead th {\n",
       "        text-align: right;\n",
       "    }\n",
       "</style>\n",
       "<table border=\"1\" class=\"dataframe\">\n",
       "  <thead>\n",
       "    <tr style=\"text-align: right;\">\n",
       "      <th></th>\n",
       "      <th>total_images</th>\n",
       "      <th>last_price</th>\n",
       "      <th>total_area</th>\n",
       "      <th>first_day_exposition</th>\n",
       "      <th>rooms</th>\n",
       "      <th>ceiling_height</th>\n",
       "      <th>floors_total</th>\n",
       "      <th>living_area</th>\n",
       "      <th>floor</th>\n",
       "      <th>is_apartment</th>\n",
       "      <th>studio</th>\n",
       "      <th>open_plan</th>\n",
       "      <th>kitchen_area</th>\n",
       "      <th>balcony</th>\n",
       "      <th>locality_name</th>\n",
       "      <th>airports_nearest</th>\n",
       "      <th>cityCenters_nearest</th>\n",
       "      <th>parks_around3000</th>\n",
       "      <th>parks_nearest</th>\n",
       "      <th>ponds_around3000</th>\n",
       "      <th>ponds_nearest</th>\n",
       "      <th>days_exposition</th>\n",
       "    </tr>\n",
       "  </thead>\n",
       "  <tbody>\n",
       "    <tr>\n",
       "      <th>0</th>\n",
       "      <td>20</td>\n",
       "      <td>13000000</td>\n",
       "      <td>108</td>\n",
       "      <td>2019-03-07</td>\n",
       "      <td>3</td>\n",
       "      <td>2.70</td>\n",
       "      <td>16</td>\n",
       "      <td>51</td>\n",
       "      <td>8</td>\n",
       "      <td>0</td>\n",
       "      <td>False</td>\n",
       "      <td>0</td>\n",
       "      <td>25</td>\n",
       "      <td>0</td>\n",
       "      <td>Санкт-Петербург</td>\n",
       "      <td>18863.0</td>\n",
       "      <td>16028.0</td>\n",
       "      <td>1.0</td>\n",
       "      <td>482.0</td>\n",
       "      <td>2.0</td>\n",
       "      <td>755.0</td>\n",
       "      <td>NaN</td>\n",
       "    </tr>\n",
       "    <tr>\n",
       "      <th>1</th>\n",
       "      <td>7</td>\n",
       "      <td>3350000</td>\n",
       "      <td>40</td>\n",
       "      <td>2018-12-04</td>\n",
       "      <td>1</td>\n",
       "      <td>2.65</td>\n",
       "      <td>11</td>\n",
       "      <td>18</td>\n",
       "      <td>1</td>\n",
       "      <td>0</td>\n",
       "      <td>False</td>\n",
       "      <td>0</td>\n",
       "      <td>11</td>\n",
       "      <td>2</td>\n",
       "      <td>поселок Шушары</td>\n",
       "      <td>12817.0</td>\n",
       "      <td>18603.0</td>\n",
       "      <td>0.0</td>\n",
       "      <td>NaN</td>\n",
       "      <td>0.0</td>\n",
       "      <td>NaN</td>\n",
       "      <td>81.0</td>\n",
       "    </tr>\n",
       "    <tr>\n",
       "      <th>2</th>\n",
       "      <td>10</td>\n",
       "      <td>5196000</td>\n",
       "      <td>56</td>\n",
       "      <td>2015-08-20</td>\n",
       "      <td>2</td>\n",
       "      <td>2.65</td>\n",
       "      <td>5</td>\n",
       "      <td>34</td>\n",
       "      <td>4</td>\n",
       "      <td>0</td>\n",
       "      <td>False</td>\n",
       "      <td>0</td>\n",
       "      <td>8</td>\n",
       "      <td>0</td>\n",
       "      <td>Санкт-Петербург</td>\n",
       "      <td>21741.0</td>\n",
       "      <td>13933.0</td>\n",
       "      <td>1.0</td>\n",
       "      <td>90.0</td>\n",
       "      <td>2.0</td>\n",
       "      <td>574.0</td>\n",
       "      <td>558.0</td>\n",
       "    </tr>\n",
       "    <tr>\n",
       "      <th>3</th>\n",
       "      <td>0</td>\n",
       "      <td>64900000</td>\n",
       "      <td>159</td>\n",
       "      <td>2015-07-24</td>\n",
       "      <td>3</td>\n",
       "      <td>2.65</td>\n",
       "      <td>14</td>\n",
       "      <td>0</td>\n",
       "      <td>9</td>\n",
       "      <td>0</td>\n",
       "      <td>False</td>\n",
       "      <td>0</td>\n",
       "      <td>0</td>\n",
       "      <td>0</td>\n",
       "      <td>Санкт-Петербург</td>\n",
       "      <td>28098.0</td>\n",
       "      <td>6800.0</td>\n",
       "      <td>2.0</td>\n",
       "      <td>84.0</td>\n",
       "      <td>3.0</td>\n",
       "      <td>234.0</td>\n",
       "      <td>424.0</td>\n",
       "    </tr>\n",
       "    <tr>\n",
       "      <th>4</th>\n",
       "      <td>2</td>\n",
       "      <td>10000000</td>\n",
       "      <td>100</td>\n",
       "      <td>2018-06-19</td>\n",
       "      <td>2</td>\n",
       "      <td>3.03</td>\n",
       "      <td>14</td>\n",
       "      <td>32</td>\n",
       "      <td>13</td>\n",
       "      <td>0</td>\n",
       "      <td>False</td>\n",
       "      <td>0</td>\n",
       "      <td>41</td>\n",
       "      <td>0</td>\n",
       "      <td>Санкт-Петербург</td>\n",
       "      <td>31856.0</td>\n",
       "      <td>8098.0</td>\n",
       "      <td>2.0</td>\n",
       "      <td>112.0</td>\n",
       "      <td>1.0</td>\n",
       "      <td>48.0</td>\n",
       "      <td>121.0</td>\n",
       "    </tr>\n",
       "  </tbody>\n",
       "</table>\n",
       "</div>"
      ],
      "text/plain": [
       "   total_images  last_price  total_area first_day_exposition  rooms  \\\n",
       "0            20    13000000         108           2019-03-07      3   \n",
       "1             7     3350000          40           2018-12-04      1   \n",
       "2            10     5196000          56           2015-08-20      2   \n",
       "3             0    64900000         159           2015-07-24      3   \n",
       "4             2    10000000         100           2018-06-19      2   \n",
       "\n",
       "   ceiling_height  floors_total  living_area  floor  is_apartment  studio  \\\n",
       "0            2.70            16           51      8             0   False   \n",
       "1            2.65            11           18      1             0   False   \n",
       "2            2.65             5           34      4             0   False   \n",
       "3            2.65            14            0      9             0   False   \n",
       "4            3.03            14           32     13             0   False   \n",
       "\n",
       "   open_plan  kitchen_area  balcony    locality_name  airports_nearest  \\\n",
       "0          0            25        0  Санкт-Петербург           18863.0   \n",
       "1          0            11        2   поселок Шушары           12817.0   \n",
       "2          0             8        0  Санкт-Петербург           21741.0   \n",
       "3          0             0        0  Санкт-Петербург           28098.0   \n",
       "4          0            41        0  Санкт-Петербург           31856.0   \n",
       "\n",
       "   cityCenters_nearest  parks_around3000  parks_nearest  ponds_around3000  \\\n",
       "0              16028.0               1.0          482.0               2.0   \n",
       "1              18603.0               0.0            NaN               0.0   \n",
       "2              13933.0               1.0           90.0               2.0   \n",
       "3               6800.0               2.0           84.0               3.0   \n",
       "4               8098.0               2.0          112.0               1.0   \n",
       "\n",
       "   ponds_nearest  days_exposition  \n",
       "0          755.0              NaN  \n",
       "1            NaN             81.0  \n",
       "2          574.0            558.0  \n",
       "3          234.0            424.0  \n",
       "4           48.0            121.0  "
      ]
     },
     "execution_count": 35,
     "metadata": {},
     "output_type": "execute_result"
    }
   ],
   "source": [
    "data['living_area'] = data['living_area'].fillna(0)\n",
    "data['living_area'] = data['living_area'].astype('int')\n",
    "data.head()"
   ]
  },
  {
   "cell_type": "code",
   "execution_count": 36,
   "metadata": {},
   "outputs": [
    {
     "data": {
      "text/html": [
       "<div>\n",
       "<style scoped>\n",
       "    .dataframe tbody tr th:only-of-type {\n",
       "        vertical-align: middle;\n",
       "    }\n",
       "\n",
       "    .dataframe tbody tr th {\n",
       "        vertical-align: top;\n",
       "    }\n",
       "\n",
       "    .dataframe thead th {\n",
       "        text-align: right;\n",
       "    }\n",
       "</style>\n",
       "<table border=\"1\" class=\"dataframe\">\n",
       "  <thead>\n",
       "    <tr style=\"text-align: right;\">\n",
       "      <th></th>\n",
       "      <th>total_images</th>\n",
       "      <th>last_price</th>\n",
       "      <th>total_area</th>\n",
       "      <th>first_day_exposition</th>\n",
       "      <th>rooms</th>\n",
       "      <th>ceiling_height</th>\n",
       "      <th>floors_total</th>\n",
       "      <th>living_area</th>\n",
       "      <th>floor</th>\n",
       "      <th>is_apartment</th>\n",
       "      <th>studio</th>\n",
       "      <th>open_plan</th>\n",
       "      <th>kitchen_area</th>\n",
       "      <th>balcony</th>\n",
       "      <th>locality_name</th>\n",
       "      <th>airports_nearest</th>\n",
       "      <th>cityCenters_nearest</th>\n",
       "      <th>parks_around3000</th>\n",
       "      <th>parks_nearest</th>\n",
       "      <th>ponds_around3000</th>\n",
       "      <th>ponds_nearest</th>\n",
       "      <th>days_exposition</th>\n",
       "    </tr>\n",
       "  </thead>\n",
       "  <tbody>\n",
       "    <tr>\n",
       "      <th>0</th>\n",
       "      <td>20</td>\n",
       "      <td>13000000</td>\n",
       "      <td>108</td>\n",
       "      <td>2019-03-07</td>\n",
       "      <td>3</td>\n",
       "      <td>2.70</td>\n",
       "      <td>16</td>\n",
       "      <td>51</td>\n",
       "      <td>8</td>\n",
       "      <td>0</td>\n",
       "      <td>False</td>\n",
       "      <td>0</td>\n",
       "      <td>25</td>\n",
       "      <td>0</td>\n",
       "      <td>Санкт-Петербург</td>\n",
       "      <td>18863.0</td>\n",
       "      <td>16028.0</td>\n",
       "      <td>1.0</td>\n",
       "      <td>482</td>\n",
       "      <td>2.0</td>\n",
       "      <td>755.0</td>\n",
       "      <td>NaN</td>\n",
       "    </tr>\n",
       "    <tr>\n",
       "      <th>1</th>\n",
       "      <td>7</td>\n",
       "      <td>3350000</td>\n",
       "      <td>40</td>\n",
       "      <td>2018-12-04</td>\n",
       "      <td>1</td>\n",
       "      <td>2.65</td>\n",
       "      <td>11</td>\n",
       "      <td>18</td>\n",
       "      <td>1</td>\n",
       "      <td>0</td>\n",
       "      <td>False</td>\n",
       "      <td>0</td>\n",
       "      <td>11</td>\n",
       "      <td>2</td>\n",
       "      <td>поселок Шушары</td>\n",
       "      <td>12817.0</td>\n",
       "      <td>18603.0</td>\n",
       "      <td>0.0</td>\n",
       "      <td>0</td>\n",
       "      <td>0.0</td>\n",
       "      <td>NaN</td>\n",
       "      <td>81.0</td>\n",
       "    </tr>\n",
       "    <tr>\n",
       "      <th>2</th>\n",
       "      <td>10</td>\n",
       "      <td>5196000</td>\n",
       "      <td>56</td>\n",
       "      <td>2015-08-20</td>\n",
       "      <td>2</td>\n",
       "      <td>2.65</td>\n",
       "      <td>5</td>\n",
       "      <td>34</td>\n",
       "      <td>4</td>\n",
       "      <td>0</td>\n",
       "      <td>False</td>\n",
       "      <td>0</td>\n",
       "      <td>8</td>\n",
       "      <td>0</td>\n",
       "      <td>Санкт-Петербург</td>\n",
       "      <td>21741.0</td>\n",
       "      <td>13933.0</td>\n",
       "      <td>1.0</td>\n",
       "      <td>90</td>\n",
       "      <td>2.0</td>\n",
       "      <td>574.0</td>\n",
       "      <td>558.0</td>\n",
       "    </tr>\n",
       "    <tr>\n",
       "      <th>3</th>\n",
       "      <td>0</td>\n",
       "      <td>64900000</td>\n",
       "      <td>159</td>\n",
       "      <td>2015-07-24</td>\n",
       "      <td>3</td>\n",
       "      <td>2.65</td>\n",
       "      <td>14</td>\n",
       "      <td>0</td>\n",
       "      <td>9</td>\n",
       "      <td>0</td>\n",
       "      <td>False</td>\n",
       "      <td>0</td>\n",
       "      <td>0</td>\n",
       "      <td>0</td>\n",
       "      <td>Санкт-Петербург</td>\n",
       "      <td>28098.0</td>\n",
       "      <td>6800.0</td>\n",
       "      <td>2.0</td>\n",
       "      <td>84</td>\n",
       "      <td>3.0</td>\n",
       "      <td>234.0</td>\n",
       "      <td>424.0</td>\n",
       "    </tr>\n",
       "    <tr>\n",
       "      <th>4</th>\n",
       "      <td>2</td>\n",
       "      <td>10000000</td>\n",
       "      <td>100</td>\n",
       "      <td>2018-06-19</td>\n",
       "      <td>2</td>\n",
       "      <td>3.03</td>\n",
       "      <td>14</td>\n",
       "      <td>32</td>\n",
       "      <td>13</td>\n",
       "      <td>0</td>\n",
       "      <td>False</td>\n",
       "      <td>0</td>\n",
       "      <td>41</td>\n",
       "      <td>0</td>\n",
       "      <td>Санкт-Петербург</td>\n",
       "      <td>31856.0</td>\n",
       "      <td>8098.0</td>\n",
       "      <td>2.0</td>\n",
       "      <td>112</td>\n",
       "      <td>1.0</td>\n",
       "      <td>48.0</td>\n",
       "      <td>121.0</td>\n",
       "    </tr>\n",
       "  </tbody>\n",
       "</table>\n",
       "</div>"
      ],
      "text/plain": [
       "   total_images  last_price  total_area first_day_exposition  rooms  \\\n",
       "0            20    13000000         108           2019-03-07      3   \n",
       "1             7     3350000          40           2018-12-04      1   \n",
       "2            10     5196000          56           2015-08-20      2   \n",
       "3             0    64900000         159           2015-07-24      3   \n",
       "4             2    10000000         100           2018-06-19      2   \n",
       "\n",
       "   ceiling_height  floors_total  living_area  floor  is_apartment  studio  \\\n",
       "0            2.70            16           51      8             0   False   \n",
       "1            2.65            11           18      1             0   False   \n",
       "2            2.65             5           34      4             0   False   \n",
       "3            2.65            14            0      9             0   False   \n",
       "4            3.03            14           32     13             0   False   \n",
       "\n",
       "   open_plan  kitchen_area  balcony    locality_name  airports_nearest  \\\n",
       "0          0            25        0  Санкт-Петербург           18863.0   \n",
       "1          0            11        2   поселок Шушары           12817.0   \n",
       "2          0             8        0  Санкт-Петербург           21741.0   \n",
       "3          0             0        0  Санкт-Петербург           28098.0   \n",
       "4          0            41        0  Санкт-Петербург           31856.0   \n",
       "\n",
       "   cityCenters_nearest  parks_around3000  parks_nearest  ponds_around3000  \\\n",
       "0              16028.0               1.0            482               2.0   \n",
       "1              18603.0               0.0              0               0.0   \n",
       "2              13933.0               1.0             90               2.0   \n",
       "3               6800.0               2.0             84               3.0   \n",
       "4               8098.0               2.0            112               1.0   \n",
       "\n",
       "   ponds_nearest  days_exposition  \n",
       "0          755.0              NaN  \n",
       "1            NaN             81.0  \n",
       "2          574.0            558.0  \n",
       "3          234.0            424.0  \n",
       "4           48.0            121.0  "
      ]
     },
     "execution_count": 36,
     "metadata": {},
     "output_type": "execute_result"
    }
   ],
   "source": [
    "data['parks_nearest'] = data['parks_nearest'].fillna(0)\n",
    "data['parks_nearest'] = data['parks_nearest'].astype('int')\n",
    "data.head()"
   ]
  },
  {
   "cell_type": "code",
   "execution_count": 37,
   "metadata": {},
   "outputs": [
    {
     "data": {
      "text/html": [
       "<div>\n",
       "<style scoped>\n",
       "    .dataframe tbody tr th:only-of-type {\n",
       "        vertical-align: middle;\n",
       "    }\n",
       "\n",
       "    .dataframe tbody tr th {\n",
       "        vertical-align: top;\n",
       "    }\n",
       "\n",
       "    .dataframe thead th {\n",
       "        text-align: right;\n",
       "    }\n",
       "</style>\n",
       "<table border=\"1\" class=\"dataframe\">\n",
       "  <thead>\n",
       "    <tr style=\"text-align: right;\">\n",
       "      <th></th>\n",
       "      <th>total_images</th>\n",
       "      <th>last_price</th>\n",
       "      <th>total_area</th>\n",
       "      <th>first_day_exposition</th>\n",
       "      <th>rooms</th>\n",
       "      <th>ceiling_height</th>\n",
       "      <th>floors_total</th>\n",
       "      <th>living_area</th>\n",
       "      <th>floor</th>\n",
       "      <th>is_apartment</th>\n",
       "      <th>studio</th>\n",
       "      <th>open_plan</th>\n",
       "      <th>kitchen_area</th>\n",
       "      <th>balcony</th>\n",
       "      <th>locality_name</th>\n",
       "      <th>airports_nearest</th>\n",
       "      <th>cityCenters_nearest</th>\n",
       "      <th>parks_around3000</th>\n",
       "      <th>parks_nearest</th>\n",
       "      <th>ponds_around3000</th>\n",
       "      <th>ponds_nearest</th>\n",
       "      <th>days_exposition</th>\n",
       "    </tr>\n",
       "  </thead>\n",
       "  <tbody>\n",
       "    <tr>\n",
       "      <th>0</th>\n",
       "      <td>20</td>\n",
       "      <td>13000000</td>\n",
       "      <td>108</td>\n",
       "      <td>2019-03-07</td>\n",
       "      <td>3</td>\n",
       "      <td>2.70</td>\n",
       "      <td>16</td>\n",
       "      <td>51</td>\n",
       "      <td>8</td>\n",
       "      <td>0</td>\n",
       "      <td>False</td>\n",
       "      <td>0</td>\n",
       "      <td>25</td>\n",
       "      <td>0</td>\n",
       "      <td>Санкт-Петербург</td>\n",
       "      <td>18863.0</td>\n",
       "      <td>16028.0</td>\n",
       "      <td>1.0</td>\n",
       "      <td>482</td>\n",
       "      <td>2</td>\n",
       "      <td>755.0</td>\n",
       "      <td>NaN</td>\n",
       "    </tr>\n",
       "    <tr>\n",
       "      <th>1</th>\n",
       "      <td>7</td>\n",
       "      <td>3350000</td>\n",
       "      <td>40</td>\n",
       "      <td>2018-12-04</td>\n",
       "      <td>1</td>\n",
       "      <td>2.65</td>\n",
       "      <td>11</td>\n",
       "      <td>18</td>\n",
       "      <td>1</td>\n",
       "      <td>0</td>\n",
       "      <td>False</td>\n",
       "      <td>0</td>\n",
       "      <td>11</td>\n",
       "      <td>2</td>\n",
       "      <td>поселок Шушары</td>\n",
       "      <td>12817.0</td>\n",
       "      <td>18603.0</td>\n",
       "      <td>0.0</td>\n",
       "      <td>0</td>\n",
       "      <td>0</td>\n",
       "      <td>NaN</td>\n",
       "      <td>81.0</td>\n",
       "    </tr>\n",
       "    <tr>\n",
       "      <th>2</th>\n",
       "      <td>10</td>\n",
       "      <td>5196000</td>\n",
       "      <td>56</td>\n",
       "      <td>2015-08-20</td>\n",
       "      <td>2</td>\n",
       "      <td>2.65</td>\n",
       "      <td>5</td>\n",
       "      <td>34</td>\n",
       "      <td>4</td>\n",
       "      <td>0</td>\n",
       "      <td>False</td>\n",
       "      <td>0</td>\n",
       "      <td>8</td>\n",
       "      <td>0</td>\n",
       "      <td>Санкт-Петербург</td>\n",
       "      <td>21741.0</td>\n",
       "      <td>13933.0</td>\n",
       "      <td>1.0</td>\n",
       "      <td>90</td>\n",
       "      <td>2</td>\n",
       "      <td>574.0</td>\n",
       "      <td>558.0</td>\n",
       "    </tr>\n",
       "    <tr>\n",
       "      <th>3</th>\n",
       "      <td>0</td>\n",
       "      <td>64900000</td>\n",
       "      <td>159</td>\n",
       "      <td>2015-07-24</td>\n",
       "      <td>3</td>\n",
       "      <td>2.65</td>\n",
       "      <td>14</td>\n",
       "      <td>0</td>\n",
       "      <td>9</td>\n",
       "      <td>0</td>\n",
       "      <td>False</td>\n",
       "      <td>0</td>\n",
       "      <td>0</td>\n",
       "      <td>0</td>\n",
       "      <td>Санкт-Петербург</td>\n",
       "      <td>28098.0</td>\n",
       "      <td>6800.0</td>\n",
       "      <td>2.0</td>\n",
       "      <td>84</td>\n",
       "      <td>3</td>\n",
       "      <td>234.0</td>\n",
       "      <td>424.0</td>\n",
       "    </tr>\n",
       "    <tr>\n",
       "      <th>4</th>\n",
       "      <td>2</td>\n",
       "      <td>10000000</td>\n",
       "      <td>100</td>\n",
       "      <td>2018-06-19</td>\n",
       "      <td>2</td>\n",
       "      <td>3.03</td>\n",
       "      <td>14</td>\n",
       "      <td>32</td>\n",
       "      <td>13</td>\n",
       "      <td>0</td>\n",
       "      <td>False</td>\n",
       "      <td>0</td>\n",
       "      <td>41</td>\n",
       "      <td>0</td>\n",
       "      <td>Санкт-Петербург</td>\n",
       "      <td>31856.0</td>\n",
       "      <td>8098.0</td>\n",
       "      <td>2.0</td>\n",
       "      <td>112</td>\n",
       "      <td>1</td>\n",
       "      <td>48.0</td>\n",
       "      <td>121.0</td>\n",
       "    </tr>\n",
       "  </tbody>\n",
       "</table>\n",
       "</div>"
      ],
      "text/plain": [
       "   total_images  last_price  total_area first_day_exposition  rooms  \\\n",
       "0            20    13000000         108           2019-03-07      3   \n",
       "1             7     3350000          40           2018-12-04      1   \n",
       "2            10     5196000          56           2015-08-20      2   \n",
       "3             0    64900000         159           2015-07-24      3   \n",
       "4             2    10000000         100           2018-06-19      2   \n",
       "\n",
       "   ceiling_height  floors_total  living_area  floor  is_apartment  studio  \\\n",
       "0            2.70            16           51      8             0   False   \n",
       "1            2.65            11           18      1             0   False   \n",
       "2            2.65             5           34      4             0   False   \n",
       "3            2.65            14            0      9             0   False   \n",
       "4            3.03            14           32     13             0   False   \n",
       "\n",
       "   open_plan  kitchen_area  balcony    locality_name  airports_nearest  \\\n",
       "0          0            25        0  Санкт-Петербург           18863.0   \n",
       "1          0            11        2   поселок Шушары           12817.0   \n",
       "2          0             8        0  Санкт-Петербург           21741.0   \n",
       "3          0             0        0  Санкт-Петербург           28098.0   \n",
       "4          0            41        0  Санкт-Петербург           31856.0   \n",
       "\n",
       "   cityCenters_nearest  parks_around3000  parks_nearest  ponds_around3000  \\\n",
       "0              16028.0               1.0            482                 2   \n",
       "1              18603.0               0.0              0                 0   \n",
       "2              13933.0               1.0             90                 2   \n",
       "3               6800.0               2.0             84                 3   \n",
       "4               8098.0               2.0            112                 1   \n",
       "\n",
       "   ponds_nearest  days_exposition  \n",
       "0          755.0              NaN  \n",
       "1            NaN             81.0  \n",
       "2          574.0            558.0  \n",
       "3          234.0            424.0  \n",
       "4           48.0            121.0  "
      ]
     },
     "execution_count": 37,
     "metadata": {},
     "output_type": "execute_result"
    }
   ],
   "source": [
    "data['ponds_around3000'] = data['ponds_around3000'].fillna(0)\n",
    "data['ponds_around3000'] = data['ponds_around3000'].astype('int')\n",
    "data.head()"
   ]
  },
  {
   "cell_type": "code",
   "execution_count": 38,
   "metadata": {},
   "outputs": [
    {
     "data": {
      "text/html": [
       "<div>\n",
       "<style scoped>\n",
       "    .dataframe tbody tr th:only-of-type {\n",
       "        vertical-align: middle;\n",
       "    }\n",
       "\n",
       "    .dataframe tbody tr th {\n",
       "        vertical-align: top;\n",
       "    }\n",
       "\n",
       "    .dataframe thead th {\n",
       "        text-align: right;\n",
       "    }\n",
       "</style>\n",
       "<table border=\"1\" class=\"dataframe\">\n",
       "  <thead>\n",
       "    <tr style=\"text-align: right;\">\n",
       "      <th></th>\n",
       "      <th>total_images</th>\n",
       "      <th>last_price</th>\n",
       "      <th>total_area</th>\n",
       "      <th>first_day_exposition</th>\n",
       "      <th>rooms</th>\n",
       "      <th>ceiling_height</th>\n",
       "      <th>floors_total</th>\n",
       "      <th>living_area</th>\n",
       "      <th>floor</th>\n",
       "      <th>is_apartment</th>\n",
       "      <th>studio</th>\n",
       "      <th>open_plan</th>\n",
       "      <th>kitchen_area</th>\n",
       "      <th>balcony</th>\n",
       "      <th>locality_name</th>\n",
       "      <th>airports_nearest</th>\n",
       "      <th>cityCenters_nearest</th>\n",
       "      <th>parks_around3000</th>\n",
       "      <th>parks_nearest</th>\n",
       "      <th>ponds_around3000</th>\n",
       "      <th>ponds_nearest</th>\n",
       "      <th>days_exposition</th>\n",
       "    </tr>\n",
       "  </thead>\n",
       "  <tbody>\n",
       "    <tr>\n",
       "      <th>0</th>\n",
       "      <td>20</td>\n",
       "      <td>13000000</td>\n",
       "      <td>108</td>\n",
       "      <td>2019-03-07</td>\n",
       "      <td>3</td>\n",
       "      <td>2.70</td>\n",
       "      <td>16</td>\n",
       "      <td>51</td>\n",
       "      <td>8</td>\n",
       "      <td>0</td>\n",
       "      <td>False</td>\n",
       "      <td>0</td>\n",
       "      <td>25</td>\n",
       "      <td>0</td>\n",
       "      <td>Санкт-Петербург</td>\n",
       "      <td>18863.0</td>\n",
       "      <td>16028.0</td>\n",
       "      <td>1.0</td>\n",
       "      <td>482</td>\n",
       "      <td>2</td>\n",
       "      <td>755</td>\n",
       "      <td>NaN</td>\n",
       "    </tr>\n",
       "    <tr>\n",
       "      <th>1</th>\n",
       "      <td>7</td>\n",
       "      <td>3350000</td>\n",
       "      <td>40</td>\n",
       "      <td>2018-12-04</td>\n",
       "      <td>1</td>\n",
       "      <td>2.65</td>\n",
       "      <td>11</td>\n",
       "      <td>18</td>\n",
       "      <td>1</td>\n",
       "      <td>0</td>\n",
       "      <td>False</td>\n",
       "      <td>0</td>\n",
       "      <td>11</td>\n",
       "      <td>2</td>\n",
       "      <td>поселок Шушары</td>\n",
       "      <td>12817.0</td>\n",
       "      <td>18603.0</td>\n",
       "      <td>0.0</td>\n",
       "      <td>0</td>\n",
       "      <td>0</td>\n",
       "      <td>0</td>\n",
       "      <td>81.0</td>\n",
       "    </tr>\n",
       "    <tr>\n",
       "      <th>2</th>\n",
       "      <td>10</td>\n",
       "      <td>5196000</td>\n",
       "      <td>56</td>\n",
       "      <td>2015-08-20</td>\n",
       "      <td>2</td>\n",
       "      <td>2.65</td>\n",
       "      <td>5</td>\n",
       "      <td>34</td>\n",
       "      <td>4</td>\n",
       "      <td>0</td>\n",
       "      <td>False</td>\n",
       "      <td>0</td>\n",
       "      <td>8</td>\n",
       "      <td>0</td>\n",
       "      <td>Санкт-Петербург</td>\n",
       "      <td>21741.0</td>\n",
       "      <td>13933.0</td>\n",
       "      <td>1.0</td>\n",
       "      <td>90</td>\n",
       "      <td>2</td>\n",
       "      <td>574</td>\n",
       "      <td>558.0</td>\n",
       "    </tr>\n",
       "    <tr>\n",
       "      <th>3</th>\n",
       "      <td>0</td>\n",
       "      <td>64900000</td>\n",
       "      <td>159</td>\n",
       "      <td>2015-07-24</td>\n",
       "      <td>3</td>\n",
       "      <td>2.65</td>\n",
       "      <td>14</td>\n",
       "      <td>0</td>\n",
       "      <td>9</td>\n",
       "      <td>0</td>\n",
       "      <td>False</td>\n",
       "      <td>0</td>\n",
       "      <td>0</td>\n",
       "      <td>0</td>\n",
       "      <td>Санкт-Петербург</td>\n",
       "      <td>28098.0</td>\n",
       "      <td>6800.0</td>\n",
       "      <td>2.0</td>\n",
       "      <td>84</td>\n",
       "      <td>3</td>\n",
       "      <td>234</td>\n",
       "      <td>424.0</td>\n",
       "    </tr>\n",
       "    <tr>\n",
       "      <th>4</th>\n",
       "      <td>2</td>\n",
       "      <td>10000000</td>\n",
       "      <td>100</td>\n",
       "      <td>2018-06-19</td>\n",
       "      <td>2</td>\n",
       "      <td>3.03</td>\n",
       "      <td>14</td>\n",
       "      <td>32</td>\n",
       "      <td>13</td>\n",
       "      <td>0</td>\n",
       "      <td>False</td>\n",
       "      <td>0</td>\n",
       "      <td>41</td>\n",
       "      <td>0</td>\n",
       "      <td>Санкт-Петербург</td>\n",
       "      <td>31856.0</td>\n",
       "      <td>8098.0</td>\n",
       "      <td>2.0</td>\n",
       "      <td>112</td>\n",
       "      <td>1</td>\n",
       "      <td>48</td>\n",
       "      <td>121.0</td>\n",
       "    </tr>\n",
       "  </tbody>\n",
       "</table>\n",
       "</div>"
      ],
      "text/plain": [
       "   total_images  last_price  total_area first_day_exposition  rooms  \\\n",
       "0            20    13000000         108           2019-03-07      3   \n",
       "1             7     3350000          40           2018-12-04      1   \n",
       "2            10     5196000          56           2015-08-20      2   \n",
       "3             0    64900000         159           2015-07-24      3   \n",
       "4             2    10000000         100           2018-06-19      2   \n",
       "\n",
       "   ceiling_height  floors_total  living_area  floor  is_apartment  studio  \\\n",
       "0            2.70            16           51      8             0   False   \n",
       "1            2.65            11           18      1             0   False   \n",
       "2            2.65             5           34      4             0   False   \n",
       "3            2.65            14            0      9             0   False   \n",
       "4            3.03            14           32     13             0   False   \n",
       "\n",
       "   open_plan  kitchen_area  balcony    locality_name  airports_nearest  \\\n",
       "0          0            25        0  Санкт-Петербург           18863.0   \n",
       "1          0            11        2   поселок Шушары           12817.0   \n",
       "2          0             8        0  Санкт-Петербург           21741.0   \n",
       "3          0             0        0  Санкт-Петербург           28098.0   \n",
       "4          0            41        0  Санкт-Петербург           31856.0   \n",
       "\n",
       "   cityCenters_nearest  parks_around3000  parks_nearest  ponds_around3000  \\\n",
       "0              16028.0               1.0            482                 2   \n",
       "1              18603.0               0.0              0                 0   \n",
       "2              13933.0               1.0             90                 2   \n",
       "3               6800.0               2.0             84                 3   \n",
       "4               8098.0               2.0            112                 1   \n",
       "\n",
       "   ponds_nearest  days_exposition  \n",
       "0            755              NaN  \n",
       "1              0             81.0  \n",
       "2            574            558.0  \n",
       "3            234            424.0  \n",
       "4             48            121.0  "
      ]
     },
     "execution_count": 38,
     "metadata": {},
     "output_type": "execute_result"
    }
   ],
   "source": [
    "data['ponds_nearest'] = data['ponds_nearest'].fillna(0)\n",
    "data['ponds_nearest'] = data['ponds_nearest'].astype('int')\n",
    "data.head()"
   ]
  },
  {
   "cell_type": "code",
   "execution_count": 39,
   "metadata": {},
   "outputs": [],
   "source": [
    "#data['days_exposition'] = data['days_exposition'].fillna(0)\n",
    "#data['days_exposition'] = data['days_exposition'].astype('int')\n",
    "#data.head()"
   ]
  },
  {
   "cell_type": "markdown",
   "metadata": {},
   "source": [
    "### Посчитайте и добавьте в таблицу новые столбцы"
   ]
  },
  {
   "cell_type": "markdown",
   "metadata": {},
   "source": [
    "Цена квадатного метра."
   ]
  },
  {
   "cell_type": "code",
   "execution_count": 40,
   "metadata": {},
   "outputs": [
    {
     "data": {
      "text/html": [
       "<div>\n",
       "<style scoped>\n",
       "    .dataframe tbody tr th:only-of-type {\n",
       "        vertical-align: middle;\n",
       "    }\n",
       "\n",
       "    .dataframe tbody tr th {\n",
       "        vertical-align: top;\n",
       "    }\n",
       "\n",
       "    .dataframe thead th {\n",
       "        text-align: right;\n",
       "    }\n",
       "</style>\n",
       "<table border=\"1\" class=\"dataframe\">\n",
       "  <thead>\n",
       "    <tr style=\"text-align: right;\">\n",
       "      <th></th>\n",
       "      <th>total_images</th>\n",
       "      <th>last_price</th>\n",
       "      <th>total_area</th>\n",
       "      <th>first_day_exposition</th>\n",
       "      <th>rooms</th>\n",
       "      <th>ceiling_height</th>\n",
       "      <th>floors_total</th>\n",
       "      <th>living_area</th>\n",
       "      <th>floor</th>\n",
       "      <th>is_apartment</th>\n",
       "      <th>studio</th>\n",
       "      <th>open_plan</th>\n",
       "      <th>kitchen_area</th>\n",
       "      <th>balcony</th>\n",
       "      <th>locality_name</th>\n",
       "      <th>airports_nearest</th>\n",
       "      <th>cityCenters_nearest</th>\n",
       "      <th>parks_around3000</th>\n",
       "      <th>parks_nearest</th>\n",
       "      <th>ponds_around3000</th>\n",
       "      <th>ponds_nearest</th>\n",
       "      <th>days_exposition</th>\n",
       "      <th>price_q_meter</th>\n",
       "    </tr>\n",
       "  </thead>\n",
       "  <tbody>\n",
       "    <tr>\n",
       "      <th>0</th>\n",
       "      <td>20</td>\n",
       "      <td>13000000</td>\n",
       "      <td>108</td>\n",
       "      <td>2019-03-07</td>\n",
       "      <td>3</td>\n",
       "      <td>2.70</td>\n",
       "      <td>16</td>\n",
       "      <td>51</td>\n",
       "      <td>8</td>\n",
       "      <td>0</td>\n",
       "      <td>False</td>\n",
       "      <td>0</td>\n",
       "      <td>25</td>\n",
       "      <td>0</td>\n",
       "      <td>Санкт-Петербург</td>\n",
       "      <td>18863.0</td>\n",
       "      <td>16028.0</td>\n",
       "      <td>1.0</td>\n",
       "      <td>482</td>\n",
       "      <td>2</td>\n",
       "      <td>755</td>\n",
       "      <td>NaN</td>\n",
       "      <td>120370.370370</td>\n",
       "    </tr>\n",
       "    <tr>\n",
       "      <th>1</th>\n",
       "      <td>7</td>\n",
       "      <td>3350000</td>\n",
       "      <td>40</td>\n",
       "      <td>2018-12-04</td>\n",
       "      <td>1</td>\n",
       "      <td>2.65</td>\n",
       "      <td>11</td>\n",
       "      <td>18</td>\n",
       "      <td>1</td>\n",
       "      <td>0</td>\n",
       "      <td>False</td>\n",
       "      <td>0</td>\n",
       "      <td>11</td>\n",
       "      <td>2</td>\n",
       "      <td>поселок Шушары</td>\n",
       "      <td>12817.0</td>\n",
       "      <td>18603.0</td>\n",
       "      <td>0.0</td>\n",
       "      <td>0</td>\n",
       "      <td>0</td>\n",
       "      <td>0</td>\n",
       "      <td>81.0</td>\n",
       "      <td>83750.000000</td>\n",
       "    </tr>\n",
       "    <tr>\n",
       "      <th>2</th>\n",
       "      <td>10</td>\n",
       "      <td>5196000</td>\n",
       "      <td>56</td>\n",
       "      <td>2015-08-20</td>\n",
       "      <td>2</td>\n",
       "      <td>2.65</td>\n",
       "      <td>5</td>\n",
       "      <td>34</td>\n",
       "      <td>4</td>\n",
       "      <td>0</td>\n",
       "      <td>False</td>\n",
       "      <td>0</td>\n",
       "      <td>8</td>\n",
       "      <td>0</td>\n",
       "      <td>Санкт-Петербург</td>\n",
       "      <td>21741.0</td>\n",
       "      <td>13933.0</td>\n",
       "      <td>1.0</td>\n",
       "      <td>90</td>\n",
       "      <td>2</td>\n",
       "      <td>574</td>\n",
       "      <td>558.0</td>\n",
       "      <td>92785.714286</td>\n",
       "    </tr>\n",
       "    <tr>\n",
       "      <th>3</th>\n",
       "      <td>0</td>\n",
       "      <td>64900000</td>\n",
       "      <td>159</td>\n",
       "      <td>2015-07-24</td>\n",
       "      <td>3</td>\n",
       "      <td>2.65</td>\n",
       "      <td>14</td>\n",
       "      <td>0</td>\n",
       "      <td>9</td>\n",
       "      <td>0</td>\n",
       "      <td>False</td>\n",
       "      <td>0</td>\n",
       "      <td>0</td>\n",
       "      <td>0</td>\n",
       "      <td>Санкт-Петербург</td>\n",
       "      <td>28098.0</td>\n",
       "      <td>6800.0</td>\n",
       "      <td>2.0</td>\n",
       "      <td>84</td>\n",
       "      <td>3</td>\n",
       "      <td>234</td>\n",
       "      <td>424.0</td>\n",
       "      <td>408176.100629</td>\n",
       "    </tr>\n",
       "    <tr>\n",
       "      <th>4</th>\n",
       "      <td>2</td>\n",
       "      <td>10000000</td>\n",
       "      <td>100</td>\n",
       "      <td>2018-06-19</td>\n",
       "      <td>2</td>\n",
       "      <td>3.03</td>\n",
       "      <td>14</td>\n",
       "      <td>32</td>\n",
       "      <td>13</td>\n",
       "      <td>0</td>\n",
       "      <td>False</td>\n",
       "      <td>0</td>\n",
       "      <td>41</td>\n",
       "      <td>0</td>\n",
       "      <td>Санкт-Петербург</td>\n",
       "      <td>31856.0</td>\n",
       "      <td>8098.0</td>\n",
       "      <td>2.0</td>\n",
       "      <td>112</td>\n",
       "      <td>1</td>\n",
       "      <td>48</td>\n",
       "      <td>121.0</td>\n",
       "      <td>100000.000000</td>\n",
       "    </tr>\n",
       "  </tbody>\n",
       "</table>\n",
       "</div>"
      ],
      "text/plain": [
       "   total_images  last_price  total_area first_day_exposition  rooms  \\\n",
       "0            20    13000000         108           2019-03-07      3   \n",
       "1             7     3350000          40           2018-12-04      1   \n",
       "2            10     5196000          56           2015-08-20      2   \n",
       "3             0    64900000         159           2015-07-24      3   \n",
       "4             2    10000000         100           2018-06-19      2   \n",
       "\n",
       "   ceiling_height  floors_total  living_area  floor  is_apartment  studio  \\\n",
       "0            2.70            16           51      8             0   False   \n",
       "1            2.65            11           18      1             0   False   \n",
       "2            2.65             5           34      4             0   False   \n",
       "3            2.65            14            0      9             0   False   \n",
       "4            3.03            14           32     13             0   False   \n",
       "\n",
       "   open_plan  kitchen_area  balcony    locality_name  airports_nearest  \\\n",
       "0          0            25        0  Санкт-Петербург           18863.0   \n",
       "1          0            11        2   поселок Шушары           12817.0   \n",
       "2          0             8        0  Санкт-Петербург           21741.0   \n",
       "3          0             0        0  Санкт-Петербург           28098.0   \n",
       "4          0            41        0  Санкт-Петербург           31856.0   \n",
       "\n",
       "   cityCenters_nearest  parks_around3000  parks_nearest  ponds_around3000  \\\n",
       "0              16028.0               1.0            482                 2   \n",
       "1              18603.0               0.0              0                 0   \n",
       "2              13933.0               1.0             90                 2   \n",
       "3               6800.0               2.0             84                 3   \n",
       "4               8098.0               2.0            112                 1   \n",
       "\n",
       "   ponds_nearest  days_exposition  price_q_meter  \n",
       "0            755              NaN  120370.370370  \n",
       "1              0             81.0   83750.000000  \n",
       "2            574            558.0   92785.714286  \n",
       "3            234            424.0  408176.100629  \n",
       "4             48            121.0  100000.000000  "
      ]
     },
     "execution_count": 40,
     "metadata": {},
     "output_type": "execute_result"
    }
   ],
   "source": [
    "data['price_q_meter'] = data['last_price'] / data['total_area']\n",
    "data.head()"
   ]
  },
  {
   "cell_type": "markdown",
   "metadata": {},
   "source": [
    "День публикации объявления"
   ]
  },
  {
   "cell_type": "code",
   "execution_count": 41,
   "metadata": {},
   "outputs": [
    {
     "data": {
      "text/html": [
       "<div>\n",
       "<style scoped>\n",
       "    .dataframe tbody tr th:only-of-type {\n",
       "        vertical-align: middle;\n",
       "    }\n",
       "\n",
       "    .dataframe tbody tr th {\n",
       "        vertical-align: top;\n",
       "    }\n",
       "\n",
       "    .dataframe thead th {\n",
       "        text-align: right;\n",
       "    }\n",
       "</style>\n",
       "<table border=\"1\" class=\"dataframe\">\n",
       "  <thead>\n",
       "    <tr style=\"text-align: right;\">\n",
       "      <th></th>\n",
       "      <th>total_images</th>\n",
       "      <th>last_price</th>\n",
       "      <th>total_area</th>\n",
       "      <th>first_day_exposition</th>\n",
       "      <th>rooms</th>\n",
       "      <th>ceiling_height</th>\n",
       "      <th>floors_total</th>\n",
       "      <th>living_area</th>\n",
       "      <th>floor</th>\n",
       "      <th>is_apartment</th>\n",
       "      <th>studio</th>\n",
       "      <th>open_plan</th>\n",
       "      <th>kitchen_area</th>\n",
       "      <th>balcony</th>\n",
       "      <th>locality_name</th>\n",
       "      <th>airports_nearest</th>\n",
       "      <th>cityCenters_nearest</th>\n",
       "      <th>parks_around3000</th>\n",
       "      <th>parks_nearest</th>\n",
       "      <th>ponds_around3000</th>\n",
       "      <th>ponds_nearest</th>\n",
       "      <th>days_exposition</th>\n",
       "      <th>price_q_meter</th>\n",
       "      <th>day_exposition</th>\n",
       "    </tr>\n",
       "  </thead>\n",
       "  <tbody>\n",
       "    <tr>\n",
       "      <th>0</th>\n",
       "      <td>20</td>\n",
       "      <td>13000000</td>\n",
       "      <td>108</td>\n",
       "      <td>2019-03-07</td>\n",
       "      <td>3</td>\n",
       "      <td>2.70</td>\n",
       "      <td>16</td>\n",
       "      <td>51</td>\n",
       "      <td>8</td>\n",
       "      <td>0</td>\n",
       "      <td>False</td>\n",
       "      <td>0</td>\n",
       "      <td>25</td>\n",
       "      <td>0</td>\n",
       "      <td>Санкт-Петербург</td>\n",
       "      <td>18863.0</td>\n",
       "      <td>16028.0</td>\n",
       "      <td>1.0</td>\n",
       "      <td>482</td>\n",
       "      <td>2</td>\n",
       "      <td>755</td>\n",
       "      <td>NaN</td>\n",
       "      <td>120370.370370</td>\n",
       "      <td>3</td>\n",
       "    </tr>\n",
       "    <tr>\n",
       "      <th>1</th>\n",
       "      <td>7</td>\n",
       "      <td>3350000</td>\n",
       "      <td>40</td>\n",
       "      <td>2018-12-04</td>\n",
       "      <td>1</td>\n",
       "      <td>2.65</td>\n",
       "      <td>11</td>\n",
       "      <td>18</td>\n",
       "      <td>1</td>\n",
       "      <td>0</td>\n",
       "      <td>False</td>\n",
       "      <td>0</td>\n",
       "      <td>11</td>\n",
       "      <td>2</td>\n",
       "      <td>поселок Шушары</td>\n",
       "      <td>12817.0</td>\n",
       "      <td>18603.0</td>\n",
       "      <td>0.0</td>\n",
       "      <td>0</td>\n",
       "      <td>0</td>\n",
       "      <td>0</td>\n",
       "      <td>81.0</td>\n",
       "      <td>83750.000000</td>\n",
       "      <td>1</td>\n",
       "    </tr>\n",
       "    <tr>\n",
       "      <th>2</th>\n",
       "      <td>10</td>\n",
       "      <td>5196000</td>\n",
       "      <td>56</td>\n",
       "      <td>2015-08-20</td>\n",
       "      <td>2</td>\n",
       "      <td>2.65</td>\n",
       "      <td>5</td>\n",
       "      <td>34</td>\n",
       "      <td>4</td>\n",
       "      <td>0</td>\n",
       "      <td>False</td>\n",
       "      <td>0</td>\n",
       "      <td>8</td>\n",
       "      <td>0</td>\n",
       "      <td>Санкт-Петербург</td>\n",
       "      <td>21741.0</td>\n",
       "      <td>13933.0</td>\n",
       "      <td>1.0</td>\n",
       "      <td>90</td>\n",
       "      <td>2</td>\n",
       "      <td>574</td>\n",
       "      <td>558.0</td>\n",
       "      <td>92785.714286</td>\n",
       "      <td>3</td>\n",
       "    </tr>\n",
       "    <tr>\n",
       "      <th>3</th>\n",
       "      <td>0</td>\n",
       "      <td>64900000</td>\n",
       "      <td>159</td>\n",
       "      <td>2015-07-24</td>\n",
       "      <td>3</td>\n",
       "      <td>2.65</td>\n",
       "      <td>14</td>\n",
       "      <td>0</td>\n",
       "      <td>9</td>\n",
       "      <td>0</td>\n",
       "      <td>False</td>\n",
       "      <td>0</td>\n",
       "      <td>0</td>\n",
       "      <td>0</td>\n",
       "      <td>Санкт-Петербург</td>\n",
       "      <td>28098.0</td>\n",
       "      <td>6800.0</td>\n",
       "      <td>2.0</td>\n",
       "      <td>84</td>\n",
       "      <td>3</td>\n",
       "      <td>234</td>\n",
       "      <td>424.0</td>\n",
       "      <td>408176.100629</td>\n",
       "      <td>4</td>\n",
       "    </tr>\n",
       "    <tr>\n",
       "      <th>4</th>\n",
       "      <td>2</td>\n",
       "      <td>10000000</td>\n",
       "      <td>100</td>\n",
       "      <td>2018-06-19</td>\n",
       "      <td>2</td>\n",
       "      <td>3.03</td>\n",
       "      <td>14</td>\n",
       "      <td>32</td>\n",
       "      <td>13</td>\n",
       "      <td>0</td>\n",
       "      <td>False</td>\n",
       "      <td>0</td>\n",
       "      <td>41</td>\n",
       "      <td>0</td>\n",
       "      <td>Санкт-Петербург</td>\n",
       "      <td>31856.0</td>\n",
       "      <td>8098.0</td>\n",
       "      <td>2.0</td>\n",
       "      <td>112</td>\n",
       "      <td>1</td>\n",
       "      <td>48</td>\n",
       "      <td>121.0</td>\n",
       "      <td>100000.000000</td>\n",
       "      <td>1</td>\n",
       "    </tr>\n",
       "  </tbody>\n",
       "</table>\n",
       "</div>"
      ],
      "text/plain": [
       "   total_images  last_price  total_area first_day_exposition  rooms  \\\n",
       "0            20    13000000         108           2019-03-07      3   \n",
       "1             7     3350000          40           2018-12-04      1   \n",
       "2            10     5196000          56           2015-08-20      2   \n",
       "3             0    64900000         159           2015-07-24      3   \n",
       "4             2    10000000         100           2018-06-19      2   \n",
       "\n",
       "   ceiling_height  floors_total  living_area  floor  is_apartment  studio  \\\n",
       "0            2.70            16           51      8             0   False   \n",
       "1            2.65            11           18      1             0   False   \n",
       "2            2.65             5           34      4             0   False   \n",
       "3            2.65            14            0      9             0   False   \n",
       "4            3.03            14           32     13             0   False   \n",
       "\n",
       "   open_plan  kitchen_area  balcony    locality_name  airports_nearest  \\\n",
       "0          0            25        0  Санкт-Петербург           18863.0   \n",
       "1          0            11        2   поселок Шушары           12817.0   \n",
       "2          0             8        0  Санкт-Петербург           21741.0   \n",
       "3          0             0        0  Санкт-Петербург           28098.0   \n",
       "4          0            41        0  Санкт-Петербург           31856.0   \n",
       "\n",
       "   cityCenters_nearest  parks_around3000  parks_nearest  ponds_around3000  \\\n",
       "0              16028.0               1.0            482                 2   \n",
       "1              18603.0               0.0              0                 0   \n",
       "2              13933.0               1.0             90                 2   \n",
       "3               6800.0               2.0             84                 3   \n",
       "4               8098.0               2.0            112                 1   \n",
       "\n",
       "   ponds_nearest  days_exposition  price_q_meter  day_exposition  \n",
       "0            755              NaN  120370.370370               3  \n",
       "1              0             81.0   83750.000000               1  \n",
       "2            574            558.0   92785.714286               3  \n",
       "3            234            424.0  408176.100629               4  \n",
       "4             48            121.0  100000.000000               1  "
      ]
     },
     "execution_count": 41,
     "metadata": {},
     "output_type": "execute_result"
    }
   ],
   "source": [
    "data['day_exposition'] = data['first_day_exposition'].dt.weekday\n",
    "data.head()"
   ]
  },
  {
   "cell_type": "markdown",
   "metadata": {},
   "source": [
    "Месяц публикации объявления."
   ]
  },
  {
   "cell_type": "code",
   "execution_count": 42,
   "metadata": {},
   "outputs": [
    {
     "data": {
      "text/html": [
       "<div>\n",
       "<style scoped>\n",
       "    .dataframe tbody tr th:only-of-type {\n",
       "        vertical-align: middle;\n",
       "    }\n",
       "\n",
       "    .dataframe tbody tr th {\n",
       "        vertical-align: top;\n",
       "    }\n",
       "\n",
       "    .dataframe thead th {\n",
       "        text-align: right;\n",
       "    }\n",
       "</style>\n",
       "<table border=\"1\" class=\"dataframe\">\n",
       "  <thead>\n",
       "    <tr style=\"text-align: right;\">\n",
       "      <th></th>\n",
       "      <th>total_images</th>\n",
       "      <th>last_price</th>\n",
       "      <th>total_area</th>\n",
       "      <th>first_day_exposition</th>\n",
       "      <th>rooms</th>\n",
       "      <th>ceiling_height</th>\n",
       "      <th>floors_total</th>\n",
       "      <th>living_area</th>\n",
       "      <th>floor</th>\n",
       "      <th>is_apartment</th>\n",
       "      <th>studio</th>\n",
       "      <th>open_plan</th>\n",
       "      <th>kitchen_area</th>\n",
       "      <th>balcony</th>\n",
       "      <th>locality_name</th>\n",
       "      <th>airports_nearest</th>\n",
       "      <th>cityCenters_nearest</th>\n",
       "      <th>parks_around3000</th>\n",
       "      <th>parks_nearest</th>\n",
       "      <th>ponds_around3000</th>\n",
       "      <th>ponds_nearest</th>\n",
       "      <th>days_exposition</th>\n",
       "      <th>price_q_meter</th>\n",
       "      <th>day_exposition</th>\n",
       "      <th>month_exposition</th>\n",
       "    </tr>\n",
       "  </thead>\n",
       "  <tbody>\n",
       "    <tr>\n",
       "      <th>0</th>\n",
       "      <td>20</td>\n",
       "      <td>13000000</td>\n",
       "      <td>108</td>\n",
       "      <td>2019-03-07</td>\n",
       "      <td>3</td>\n",
       "      <td>2.70</td>\n",
       "      <td>16</td>\n",
       "      <td>51</td>\n",
       "      <td>8</td>\n",
       "      <td>0</td>\n",
       "      <td>False</td>\n",
       "      <td>0</td>\n",
       "      <td>25</td>\n",
       "      <td>0</td>\n",
       "      <td>Санкт-Петербург</td>\n",
       "      <td>18863.0</td>\n",
       "      <td>16028.0</td>\n",
       "      <td>1.0</td>\n",
       "      <td>482</td>\n",
       "      <td>2</td>\n",
       "      <td>755</td>\n",
       "      <td>NaN</td>\n",
       "      <td>120370.370370</td>\n",
       "      <td>3</td>\n",
       "      <td>3</td>\n",
       "    </tr>\n",
       "    <tr>\n",
       "      <th>1</th>\n",
       "      <td>7</td>\n",
       "      <td>3350000</td>\n",
       "      <td>40</td>\n",
       "      <td>2018-12-04</td>\n",
       "      <td>1</td>\n",
       "      <td>2.65</td>\n",
       "      <td>11</td>\n",
       "      <td>18</td>\n",
       "      <td>1</td>\n",
       "      <td>0</td>\n",
       "      <td>False</td>\n",
       "      <td>0</td>\n",
       "      <td>11</td>\n",
       "      <td>2</td>\n",
       "      <td>поселок Шушары</td>\n",
       "      <td>12817.0</td>\n",
       "      <td>18603.0</td>\n",
       "      <td>0.0</td>\n",
       "      <td>0</td>\n",
       "      <td>0</td>\n",
       "      <td>0</td>\n",
       "      <td>81.0</td>\n",
       "      <td>83750.000000</td>\n",
       "      <td>1</td>\n",
       "      <td>12</td>\n",
       "    </tr>\n",
       "    <tr>\n",
       "      <th>2</th>\n",
       "      <td>10</td>\n",
       "      <td>5196000</td>\n",
       "      <td>56</td>\n",
       "      <td>2015-08-20</td>\n",
       "      <td>2</td>\n",
       "      <td>2.65</td>\n",
       "      <td>5</td>\n",
       "      <td>34</td>\n",
       "      <td>4</td>\n",
       "      <td>0</td>\n",
       "      <td>False</td>\n",
       "      <td>0</td>\n",
       "      <td>8</td>\n",
       "      <td>0</td>\n",
       "      <td>Санкт-Петербург</td>\n",
       "      <td>21741.0</td>\n",
       "      <td>13933.0</td>\n",
       "      <td>1.0</td>\n",
       "      <td>90</td>\n",
       "      <td>2</td>\n",
       "      <td>574</td>\n",
       "      <td>558.0</td>\n",
       "      <td>92785.714286</td>\n",
       "      <td>3</td>\n",
       "      <td>8</td>\n",
       "    </tr>\n",
       "    <tr>\n",
       "      <th>3</th>\n",
       "      <td>0</td>\n",
       "      <td>64900000</td>\n",
       "      <td>159</td>\n",
       "      <td>2015-07-24</td>\n",
       "      <td>3</td>\n",
       "      <td>2.65</td>\n",
       "      <td>14</td>\n",
       "      <td>0</td>\n",
       "      <td>9</td>\n",
       "      <td>0</td>\n",
       "      <td>False</td>\n",
       "      <td>0</td>\n",
       "      <td>0</td>\n",
       "      <td>0</td>\n",
       "      <td>Санкт-Петербург</td>\n",
       "      <td>28098.0</td>\n",
       "      <td>6800.0</td>\n",
       "      <td>2.0</td>\n",
       "      <td>84</td>\n",
       "      <td>3</td>\n",
       "      <td>234</td>\n",
       "      <td>424.0</td>\n",
       "      <td>408176.100629</td>\n",
       "      <td>4</td>\n",
       "      <td>7</td>\n",
       "    </tr>\n",
       "    <tr>\n",
       "      <th>4</th>\n",
       "      <td>2</td>\n",
       "      <td>10000000</td>\n",
       "      <td>100</td>\n",
       "      <td>2018-06-19</td>\n",
       "      <td>2</td>\n",
       "      <td>3.03</td>\n",
       "      <td>14</td>\n",
       "      <td>32</td>\n",
       "      <td>13</td>\n",
       "      <td>0</td>\n",
       "      <td>False</td>\n",
       "      <td>0</td>\n",
       "      <td>41</td>\n",
       "      <td>0</td>\n",
       "      <td>Санкт-Петербург</td>\n",
       "      <td>31856.0</td>\n",
       "      <td>8098.0</td>\n",
       "      <td>2.0</td>\n",
       "      <td>112</td>\n",
       "      <td>1</td>\n",
       "      <td>48</td>\n",
       "      <td>121.0</td>\n",
       "      <td>100000.000000</td>\n",
       "      <td>1</td>\n",
       "      <td>6</td>\n",
       "    </tr>\n",
       "  </tbody>\n",
       "</table>\n",
       "</div>"
      ],
      "text/plain": [
       "   total_images  last_price  total_area first_day_exposition  rooms  \\\n",
       "0            20    13000000         108           2019-03-07      3   \n",
       "1             7     3350000          40           2018-12-04      1   \n",
       "2            10     5196000          56           2015-08-20      2   \n",
       "3             0    64900000         159           2015-07-24      3   \n",
       "4             2    10000000         100           2018-06-19      2   \n",
       "\n",
       "   ceiling_height  floors_total  living_area  floor  is_apartment  studio  \\\n",
       "0            2.70            16           51      8             0   False   \n",
       "1            2.65            11           18      1             0   False   \n",
       "2            2.65             5           34      4             0   False   \n",
       "3            2.65            14            0      9             0   False   \n",
       "4            3.03            14           32     13             0   False   \n",
       "\n",
       "   open_plan  kitchen_area  balcony    locality_name  airports_nearest  \\\n",
       "0          0            25        0  Санкт-Петербург           18863.0   \n",
       "1          0            11        2   поселок Шушары           12817.0   \n",
       "2          0             8        0  Санкт-Петербург           21741.0   \n",
       "3          0             0        0  Санкт-Петербург           28098.0   \n",
       "4          0            41        0  Санкт-Петербург           31856.0   \n",
       "\n",
       "   cityCenters_nearest  parks_around3000  parks_nearest  ponds_around3000  \\\n",
       "0              16028.0               1.0            482                 2   \n",
       "1              18603.0               0.0              0                 0   \n",
       "2              13933.0               1.0             90                 2   \n",
       "3               6800.0               2.0             84                 3   \n",
       "4               8098.0               2.0            112                 1   \n",
       "\n",
       "   ponds_nearest  days_exposition  price_q_meter  day_exposition  \\\n",
       "0            755              NaN  120370.370370               3   \n",
       "1              0             81.0   83750.000000               1   \n",
       "2            574            558.0   92785.714286               3   \n",
       "3            234            424.0  408176.100629               4   \n",
       "4             48            121.0  100000.000000               1   \n",
       "\n",
       "   month_exposition  \n",
       "0                 3  \n",
       "1                12  \n",
       "2                 8  \n",
       "3                 7  \n",
       "4                 6  "
      ]
     },
     "execution_count": 42,
     "metadata": {},
     "output_type": "execute_result"
    }
   ],
   "source": [
    "data['month_exposition'] = data['first_day_exposition'].dt.month\n",
    "data.head()"
   ]
  },
  {
   "cell_type": "markdown",
   "metadata": {},
   "source": [
    "Год публикации объявления."
   ]
  },
  {
   "cell_type": "code",
   "execution_count": 43,
   "metadata": {},
   "outputs": [
    {
     "data": {
      "text/html": [
       "<div>\n",
       "<style scoped>\n",
       "    .dataframe tbody tr th:only-of-type {\n",
       "        vertical-align: middle;\n",
       "    }\n",
       "\n",
       "    .dataframe tbody tr th {\n",
       "        vertical-align: top;\n",
       "    }\n",
       "\n",
       "    .dataframe thead th {\n",
       "        text-align: right;\n",
       "    }\n",
       "</style>\n",
       "<table border=\"1\" class=\"dataframe\">\n",
       "  <thead>\n",
       "    <tr style=\"text-align: right;\">\n",
       "      <th></th>\n",
       "      <th>total_images</th>\n",
       "      <th>last_price</th>\n",
       "      <th>total_area</th>\n",
       "      <th>first_day_exposition</th>\n",
       "      <th>rooms</th>\n",
       "      <th>ceiling_height</th>\n",
       "      <th>floors_total</th>\n",
       "      <th>living_area</th>\n",
       "      <th>floor</th>\n",
       "      <th>is_apartment</th>\n",
       "      <th>studio</th>\n",
       "      <th>open_plan</th>\n",
       "      <th>kitchen_area</th>\n",
       "      <th>balcony</th>\n",
       "      <th>locality_name</th>\n",
       "      <th>airports_nearest</th>\n",
       "      <th>cityCenters_nearest</th>\n",
       "      <th>parks_around3000</th>\n",
       "      <th>parks_nearest</th>\n",
       "      <th>ponds_around3000</th>\n",
       "      <th>ponds_nearest</th>\n",
       "      <th>days_exposition</th>\n",
       "      <th>price_q_meter</th>\n",
       "      <th>day_exposition</th>\n",
       "      <th>month_exposition</th>\n",
       "      <th>year_exposition</th>\n",
       "    </tr>\n",
       "  </thead>\n",
       "  <tbody>\n",
       "    <tr>\n",
       "      <th>0</th>\n",
       "      <td>20</td>\n",
       "      <td>13000000</td>\n",
       "      <td>108</td>\n",
       "      <td>2019-03-07</td>\n",
       "      <td>3</td>\n",
       "      <td>2.70</td>\n",
       "      <td>16</td>\n",
       "      <td>51</td>\n",
       "      <td>8</td>\n",
       "      <td>0</td>\n",
       "      <td>False</td>\n",
       "      <td>0</td>\n",
       "      <td>25</td>\n",
       "      <td>0</td>\n",
       "      <td>Санкт-Петербург</td>\n",
       "      <td>18863.0</td>\n",
       "      <td>16028.0</td>\n",
       "      <td>1.0</td>\n",
       "      <td>482</td>\n",
       "      <td>2</td>\n",
       "      <td>755</td>\n",
       "      <td>NaN</td>\n",
       "      <td>120370.370370</td>\n",
       "      <td>3</td>\n",
       "      <td>3</td>\n",
       "      <td>2019</td>\n",
       "    </tr>\n",
       "    <tr>\n",
       "      <th>1</th>\n",
       "      <td>7</td>\n",
       "      <td>3350000</td>\n",
       "      <td>40</td>\n",
       "      <td>2018-12-04</td>\n",
       "      <td>1</td>\n",
       "      <td>2.65</td>\n",
       "      <td>11</td>\n",
       "      <td>18</td>\n",
       "      <td>1</td>\n",
       "      <td>0</td>\n",
       "      <td>False</td>\n",
       "      <td>0</td>\n",
       "      <td>11</td>\n",
       "      <td>2</td>\n",
       "      <td>поселок Шушары</td>\n",
       "      <td>12817.0</td>\n",
       "      <td>18603.0</td>\n",
       "      <td>0.0</td>\n",
       "      <td>0</td>\n",
       "      <td>0</td>\n",
       "      <td>0</td>\n",
       "      <td>81.0</td>\n",
       "      <td>83750.000000</td>\n",
       "      <td>1</td>\n",
       "      <td>12</td>\n",
       "      <td>2018</td>\n",
       "    </tr>\n",
       "    <tr>\n",
       "      <th>2</th>\n",
       "      <td>10</td>\n",
       "      <td>5196000</td>\n",
       "      <td>56</td>\n",
       "      <td>2015-08-20</td>\n",
       "      <td>2</td>\n",
       "      <td>2.65</td>\n",
       "      <td>5</td>\n",
       "      <td>34</td>\n",
       "      <td>4</td>\n",
       "      <td>0</td>\n",
       "      <td>False</td>\n",
       "      <td>0</td>\n",
       "      <td>8</td>\n",
       "      <td>0</td>\n",
       "      <td>Санкт-Петербург</td>\n",
       "      <td>21741.0</td>\n",
       "      <td>13933.0</td>\n",
       "      <td>1.0</td>\n",
       "      <td>90</td>\n",
       "      <td>2</td>\n",
       "      <td>574</td>\n",
       "      <td>558.0</td>\n",
       "      <td>92785.714286</td>\n",
       "      <td>3</td>\n",
       "      <td>8</td>\n",
       "      <td>2015</td>\n",
       "    </tr>\n",
       "    <tr>\n",
       "      <th>3</th>\n",
       "      <td>0</td>\n",
       "      <td>64900000</td>\n",
       "      <td>159</td>\n",
       "      <td>2015-07-24</td>\n",
       "      <td>3</td>\n",
       "      <td>2.65</td>\n",
       "      <td>14</td>\n",
       "      <td>0</td>\n",
       "      <td>9</td>\n",
       "      <td>0</td>\n",
       "      <td>False</td>\n",
       "      <td>0</td>\n",
       "      <td>0</td>\n",
       "      <td>0</td>\n",
       "      <td>Санкт-Петербург</td>\n",
       "      <td>28098.0</td>\n",
       "      <td>6800.0</td>\n",
       "      <td>2.0</td>\n",
       "      <td>84</td>\n",
       "      <td>3</td>\n",
       "      <td>234</td>\n",
       "      <td>424.0</td>\n",
       "      <td>408176.100629</td>\n",
       "      <td>4</td>\n",
       "      <td>7</td>\n",
       "      <td>2015</td>\n",
       "    </tr>\n",
       "    <tr>\n",
       "      <th>4</th>\n",
       "      <td>2</td>\n",
       "      <td>10000000</td>\n",
       "      <td>100</td>\n",
       "      <td>2018-06-19</td>\n",
       "      <td>2</td>\n",
       "      <td>3.03</td>\n",
       "      <td>14</td>\n",
       "      <td>32</td>\n",
       "      <td>13</td>\n",
       "      <td>0</td>\n",
       "      <td>False</td>\n",
       "      <td>0</td>\n",
       "      <td>41</td>\n",
       "      <td>0</td>\n",
       "      <td>Санкт-Петербург</td>\n",
       "      <td>31856.0</td>\n",
       "      <td>8098.0</td>\n",
       "      <td>2.0</td>\n",
       "      <td>112</td>\n",
       "      <td>1</td>\n",
       "      <td>48</td>\n",
       "      <td>121.0</td>\n",
       "      <td>100000.000000</td>\n",
       "      <td>1</td>\n",
       "      <td>6</td>\n",
       "      <td>2018</td>\n",
       "    </tr>\n",
       "  </tbody>\n",
       "</table>\n",
       "</div>"
      ],
      "text/plain": [
       "   total_images  last_price  total_area first_day_exposition  rooms  \\\n",
       "0            20    13000000         108           2019-03-07      3   \n",
       "1             7     3350000          40           2018-12-04      1   \n",
       "2            10     5196000          56           2015-08-20      2   \n",
       "3             0    64900000         159           2015-07-24      3   \n",
       "4             2    10000000         100           2018-06-19      2   \n",
       "\n",
       "   ceiling_height  floors_total  living_area  floor  is_apartment  studio  \\\n",
       "0            2.70            16           51      8             0   False   \n",
       "1            2.65            11           18      1             0   False   \n",
       "2            2.65             5           34      4             0   False   \n",
       "3            2.65            14            0      9             0   False   \n",
       "4            3.03            14           32     13             0   False   \n",
       "\n",
       "   open_plan  kitchen_area  balcony    locality_name  airports_nearest  \\\n",
       "0          0            25        0  Санкт-Петербург           18863.0   \n",
       "1          0            11        2   поселок Шушары           12817.0   \n",
       "2          0             8        0  Санкт-Петербург           21741.0   \n",
       "3          0             0        0  Санкт-Петербург           28098.0   \n",
       "4          0            41        0  Санкт-Петербург           31856.0   \n",
       "\n",
       "   cityCenters_nearest  parks_around3000  parks_nearest  ponds_around3000  \\\n",
       "0              16028.0               1.0            482                 2   \n",
       "1              18603.0               0.0              0                 0   \n",
       "2              13933.0               1.0             90                 2   \n",
       "3               6800.0               2.0             84                 3   \n",
       "4               8098.0               2.0            112                 1   \n",
       "\n",
       "   ponds_nearest  days_exposition  price_q_meter  day_exposition  \\\n",
       "0            755              NaN  120370.370370               3   \n",
       "1              0             81.0   83750.000000               1   \n",
       "2            574            558.0   92785.714286               3   \n",
       "3            234            424.0  408176.100629               4   \n",
       "4             48            121.0  100000.000000               1   \n",
       "\n",
       "   month_exposition  year_exposition  \n",
       "0                 3             2019  \n",
       "1                12             2018  \n",
       "2                 8             2015  \n",
       "3                 7             2015  \n",
       "4                 6             2018  "
      ]
     },
     "execution_count": 43,
     "metadata": {},
     "output_type": "execute_result"
    }
   ],
   "source": [
    "data['year_exposition'] = data['first_day_exposition'].dt.year\n",
    "data.head()"
   ]
  },
  {
   "cell_type": "markdown",
   "metadata": {},
   "source": [
    "Категоризация данных по этажам."
   ]
  },
  {
   "cell_type": "code",
   "execution_count": 44,
   "metadata": {},
   "outputs": [
    {
     "data": {
      "text/html": [
       "<div>\n",
       "<style scoped>\n",
       "    .dataframe tbody tr th:only-of-type {\n",
       "        vertical-align: middle;\n",
       "    }\n",
       "\n",
       "    .dataframe tbody tr th {\n",
       "        vertical-align: top;\n",
       "    }\n",
       "\n",
       "    .dataframe thead th {\n",
       "        text-align: right;\n",
       "    }\n",
       "</style>\n",
       "<table border=\"1\" class=\"dataframe\">\n",
       "  <thead>\n",
       "    <tr style=\"text-align: right;\">\n",
       "      <th></th>\n",
       "      <th>total_images</th>\n",
       "      <th>last_price</th>\n",
       "      <th>total_area</th>\n",
       "      <th>first_day_exposition</th>\n",
       "      <th>rooms</th>\n",
       "      <th>ceiling_height</th>\n",
       "      <th>floors_total</th>\n",
       "      <th>living_area</th>\n",
       "      <th>floor</th>\n",
       "      <th>is_apartment</th>\n",
       "      <th>studio</th>\n",
       "      <th>open_plan</th>\n",
       "      <th>kitchen_area</th>\n",
       "      <th>balcony</th>\n",
       "      <th>locality_name</th>\n",
       "      <th>airports_nearest</th>\n",
       "      <th>cityCenters_nearest</th>\n",
       "      <th>parks_around3000</th>\n",
       "      <th>parks_nearest</th>\n",
       "      <th>ponds_around3000</th>\n",
       "      <th>ponds_nearest</th>\n",
       "      <th>days_exposition</th>\n",
       "      <th>price_q_meter</th>\n",
       "      <th>day_exposition</th>\n",
       "      <th>month_exposition</th>\n",
       "      <th>year_exposition</th>\n",
       "      <th>what_floor</th>\n",
       "    </tr>\n",
       "  </thead>\n",
       "  <tbody>\n",
       "    <tr>\n",
       "      <th>0</th>\n",
       "      <td>20</td>\n",
       "      <td>13000000</td>\n",
       "      <td>108</td>\n",
       "      <td>2019-03-07</td>\n",
       "      <td>3</td>\n",
       "      <td>2.70</td>\n",
       "      <td>16</td>\n",
       "      <td>51</td>\n",
       "      <td>8</td>\n",
       "      <td>0</td>\n",
       "      <td>False</td>\n",
       "      <td>0</td>\n",
       "      <td>25</td>\n",
       "      <td>0</td>\n",
       "      <td>Санкт-Петербург</td>\n",
       "      <td>18863.0</td>\n",
       "      <td>16028.0</td>\n",
       "      <td>1.0</td>\n",
       "      <td>482</td>\n",
       "      <td>2</td>\n",
       "      <td>755</td>\n",
       "      <td>NaN</td>\n",
       "      <td>120370.370370</td>\n",
       "      <td>3</td>\n",
       "      <td>3</td>\n",
       "      <td>2019</td>\n",
       "      <td>другой</td>\n",
       "    </tr>\n",
       "    <tr>\n",
       "      <th>1</th>\n",
       "      <td>7</td>\n",
       "      <td>3350000</td>\n",
       "      <td>40</td>\n",
       "      <td>2018-12-04</td>\n",
       "      <td>1</td>\n",
       "      <td>2.65</td>\n",
       "      <td>11</td>\n",
       "      <td>18</td>\n",
       "      <td>1</td>\n",
       "      <td>0</td>\n",
       "      <td>False</td>\n",
       "      <td>0</td>\n",
       "      <td>11</td>\n",
       "      <td>2</td>\n",
       "      <td>поселок Шушары</td>\n",
       "      <td>12817.0</td>\n",
       "      <td>18603.0</td>\n",
       "      <td>0.0</td>\n",
       "      <td>0</td>\n",
       "      <td>0</td>\n",
       "      <td>0</td>\n",
       "      <td>81.0</td>\n",
       "      <td>83750.000000</td>\n",
       "      <td>1</td>\n",
       "      <td>12</td>\n",
       "      <td>2018</td>\n",
       "      <td>первый</td>\n",
       "    </tr>\n",
       "    <tr>\n",
       "      <th>2</th>\n",
       "      <td>10</td>\n",
       "      <td>5196000</td>\n",
       "      <td>56</td>\n",
       "      <td>2015-08-20</td>\n",
       "      <td>2</td>\n",
       "      <td>2.65</td>\n",
       "      <td>5</td>\n",
       "      <td>34</td>\n",
       "      <td>4</td>\n",
       "      <td>0</td>\n",
       "      <td>False</td>\n",
       "      <td>0</td>\n",
       "      <td>8</td>\n",
       "      <td>0</td>\n",
       "      <td>Санкт-Петербург</td>\n",
       "      <td>21741.0</td>\n",
       "      <td>13933.0</td>\n",
       "      <td>1.0</td>\n",
       "      <td>90</td>\n",
       "      <td>2</td>\n",
       "      <td>574</td>\n",
       "      <td>558.0</td>\n",
       "      <td>92785.714286</td>\n",
       "      <td>3</td>\n",
       "      <td>8</td>\n",
       "      <td>2015</td>\n",
       "      <td>другой</td>\n",
       "    </tr>\n",
       "    <tr>\n",
       "      <th>3</th>\n",
       "      <td>0</td>\n",
       "      <td>64900000</td>\n",
       "      <td>159</td>\n",
       "      <td>2015-07-24</td>\n",
       "      <td>3</td>\n",
       "      <td>2.65</td>\n",
       "      <td>14</td>\n",
       "      <td>0</td>\n",
       "      <td>9</td>\n",
       "      <td>0</td>\n",
       "      <td>False</td>\n",
       "      <td>0</td>\n",
       "      <td>0</td>\n",
       "      <td>0</td>\n",
       "      <td>Санкт-Петербург</td>\n",
       "      <td>28098.0</td>\n",
       "      <td>6800.0</td>\n",
       "      <td>2.0</td>\n",
       "      <td>84</td>\n",
       "      <td>3</td>\n",
       "      <td>234</td>\n",
       "      <td>424.0</td>\n",
       "      <td>408176.100629</td>\n",
       "      <td>4</td>\n",
       "      <td>7</td>\n",
       "      <td>2015</td>\n",
       "      <td>другой</td>\n",
       "    </tr>\n",
       "    <tr>\n",
       "      <th>4</th>\n",
       "      <td>2</td>\n",
       "      <td>10000000</td>\n",
       "      <td>100</td>\n",
       "      <td>2018-06-19</td>\n",
       "      <td>2</td>\n",
       "      <td>3.03</td>\n",
       "      <td>14</td>\n",
       "      <td>32</td>\n",
       "      <td>13</td>\n",
       "      <td>0</td>\n",
       "      <td>False</td>\n",
       "      <td>0</td>\n",
       "      <td>41</td>\n",
       "      <td>0</td>\n",
       "      <td>Санкт-Петербург</td>\n",
       "      <td>31856.0</td>\n",
       "      <td>8098.0</td>\n",
       "      <td>2.0</td>\n",
       "      <td>112</td>\n",
       "      <td>1</td>\n",
       "      <td>48</td>\n",
       "      <td>121.0</td>\n",
       "      <td>100000.000000</td>\n",
       "      <td>1</td>\n",
       "      <td>6</td>\n",
       "      <td>2018</td>\n",
       "      <td>другой</td>\n",
       "    </tr>\n",
       "  </tbody>\n",
       "</table>\n",
       "</div>"
      ],
      "text/plain": [
       "   total_images  last_price  total_area first_day_exposition  rooms  \\\n",
       "0            20    13000000         108           2019-03-07      3   \n",
       "1             7     3350000          40           2018-12-04      1   \n",
       "2            10     5196000          56           2015-08-20      2   \n",
       "3             0    64900000         159           2015-07-24      3   \n",
       "4             2    10000000         100           2018-06-19      2   \n",
       "\n",
       "   ceiling_height  floors_total  living_area  floor  is_apartment  studio  \\\n",
       "0            2.70            16           51      8             0   False   \n",
       "1            2.65            11           18      1             0   False   \n",
       "2            2.65             5           34      4             0   False   \n",
       "3            2.65            14            0      9             0   False   \n",
       "4            3.03            14           32     13             0   False   \n",
       "\n",
       "   open_plan  kitchen_area  balcony    locality_name  airports_nearest  \\\n",
       "0          0            25        0  Санкт-Петербург           18863.0   \n",
       "1          0            11        2   поселок Шушары           12817.0   \n",
       "2          0             8        0  Санкт-Петербург           21741.0   \n",
       "3          0             0        0  Санкт-Петербург           28098.0   \n",
       "4          0            41        0  Санкт-Петербург           31856.0   \n",
       "\n",
       "   cityCenters_nearest  parks_around3000  parks_nearest  ponds_around3000  \\\n",
       "0              16028.0               1.0            482                 2   \n",
       "1              18603.0               0.0              0                 0   \n",
       "2              13933.0               1.0             90                 2   \n",
       "3               6800.0               2.0             84                 3   \n",
       "4               8098.0               2.0            112                 1   \n",
       "\n",
       "   ponds_nearest  days_exposition  price_q_meter  day_exposition  \\\n",
       "0            755              NaN  120370.370370               3   \n",
       "1              0             81.0   83750.000000               1   \n",
       "2            574            558.0   92785.714286               3   \n",
       "3            234            424.0  408176.100629               4   \n",
       "4             48            121.0  100000.000000               1   \n",
       "\n",
       "   month_exposition  year_exposition what_floor  \n",
       "0                 3             2019     другой  \n",
       "1                12             2018     первый  \n",
       "2                 8             2015     другой  \n",
       "3                 7             2015     другой  \n",
       "4                 6             2018     другой  "
      ]
     },
     "execution_count": 44,
     "metadata": {},
     "output_type": "execute_result"
    }
   ],
   "source": [
    "def category_floors(row):\n",
    "    floor = row['floor']\n",
    "    max_floor = row['floors_total']\n",
    "    if floor == 1:\n",
    "        return 'первый'\n",
    "    elif floor == max_floor:\n",
    "        return 'последний'\n",
    "    else:\n",
    "        return 'другой'\n",
    "data['what_floor'] = data.apply(category_floors, axis = 1)\n",
    "data.head()"
   ]
  },
  {
   "cell_type": "markdown",
   "metadata": {},
   "source": [
    "Расстояние от центра в км."
   ]
  },
  {
   "cell_type": "code",
   "execution_count": 45,
   "metadata": {},
   "outputs": [
    {
     "data": {
      "text/html": [
       "<div>\n",
       "<style scoped>\n",
       "    .dataframe tbody tr th:only-of-type {\n",
       "        vertical-align: middle;\n",
       "    }\n",
       "\n",
       "    .dataframe tbody tr th {\n",
       "        vertical-align: top;\n",
       "    }\n",
       "\n",
       "    .dataframe thead th {\n",
       "        text-align: right;\n",
       "    }\n",
       "</style>\n",
       "<table border=\"1\" class=\"dataframe\">\n",
       "  <thead>\n",
       "    <tr style=\"text-align: right;\">\n",
       "      <th></th>\n",
       "      <th>total_images</th>\n",
       "      <th>last_price</th>\n",
       "      <th>total_area</th>\n",
       "      <th>first_day_exposition</th>\n",
       "      <th>rooms</th>\n",
       "      <th>ceiling_height</th>\n",
       "      <th>floors_total</th>\n",
       "      <th>living_area</th>\n",
       "      <th>floor</th>\n",
       "      <th>is_apartment</th>\n",
       "      <th>studio</th>\n",
       "      <th>open_plan</th>\n",
       "      <th>kitchen_area</th>\n",
       "      <th>balcony</th>\n",
       "      <th>locality_name</th>\n",
       "      <th>airports_nearest</th>\n",
       "      <th>cityCenters_nearest</th>\n",
       "      <th>parks_around3000</th>\n",
       "      <th>parks_nearest</th>\n",
       "      <th>ponds_around3000</th>\n",
       "      <th>ponds_nearest</th>\n",
       "      <th>days_exposition</th>\n",
       "      <th>price_q_meter</th>\n",
       "      <th>day_exposition</th>\n",
       "      <th>month_exposition</th>\n",
       "      <th>year_exposition</th>\n",
       "      <th>what_floor</th>\n",
       "      <th>cityCenters_km</th>\n",
       "    </tr>\n",
       "  </thead>\n",
       "  <tbody>\n",
       "    <tr>\n",
       "      <th>0</th>\n",
       "      <td>20</td>\n",
       "      <td>13000000</td>\n",
       "      <td>108</td>\n",
       "      <td>2019-03-07</td>\n",
       "      <td>3</td>\n",
       "      <td>2.70</td>\n",
       "      <td>16</td>\n",
       "      <td>51</td>\n",
       "      <td>8</td>\n",
       "      <td>0</td>\n",
       "      <td>False</td>\n",
       "      <td>0</td>\n",
       "      <td>25</td>\n",
       "      <td>0</td>\n",
       "      <td>Санкт-Петербург</td>\n",
       "      <td>18863.0</td>\n",
       "      <td>16028.0</td>\n",
       "      <td>1.0</td>\n",
       "      <td>482</td>\n",
       "      <td>2</td>\n",
       "      <td>755</td>\n",
       "      <td>NaN</td>\n",
       "      <td>120370.370370</td>\n",
       "      <td>3</td>\n",
       "      <td>3</td>\n",
       "      <td>2019</td>\n",
       "      <td>другой</td>\n",
       "      <td>16</td>\n",
       "    </tr>\n",
       "    <tr>\n",
       "      <th>1</th>\n",
       "      <td>7</td>\n",
       "      <td>3350000</td>\n",
       "      <td>40</td>\n",
       "      <td>2018-12-04</td>\n",
       "      <td>1</td>\n",
       "      <td>2.65</td>\n",
       "      <td>11</td>\n",
       "      <td>18</td>\n",
       "      <td>1</td>\n",
       "      <td>0</td>\n",
       "      <td>False</td>\n",
       "      <td>0</td>\n",
       "      <td>11</td>\n",
       "      <td>2</td>\n",
       "      <td>поселок Шушары</td>\n",
       "      <td>12817.0</td>\n",
       "      <td>18603.0</td>\n",
       "      <td>0.0</td>\n",
       "      <td>0</td>\n",
       "      <td>0</td>\n",
       "      <td>0</td>\n",
       "      <td>81.0</td>\n",
       "      <td>83750.000000</td>\n",
       "      <td>1</td>\n",
       "      <td>12</td>\n",
       "      <td>2018</td>\n",
       "      <td>первый</td>\n",
       "      <td>18</td>\n",
       "    </tr>\n",
       "    <tr>\n",
       "      <th>2</th>\n",
       "      <td>10</td>\n",
       "      <td>5196000</td>\n",
       "      <td>56</td>\n",
       "      <td>2015-08-20</td>\n",
       "      <td>2</td>\n",
       "      <td>2.65</td>\n",
       "      <td>5</td>\n",
       "      <td>34</td>\n",
       "      <td>4</td>\n",
       "      <td>0</td>\n",
       "      <td>False</td>\n",
       "      <td>0</td>\n",
       "      <td>8</td>\n",
       "      <td>0</td>\n",
       "      <td>Санкт-Петербург</td>\n",
       "      <td>21741.0</td>\n",
       "      <td>13933.0</td>\n",
       "      <td>1.0</td>\n",
       "      <td>90</td>\n",
       "      <td>2</td>\n",
       "      <td>574</td>\n",
       "      <td>558.0</td>\n",
       "      <td>92785.714286</td>\n",
       "      <td>3</td>\n",
       "      <td>8</td>\n",
       "      <td>2015</td>\n",
       "      <td>другой</td>\n",
       "      <td>13</td>\n",
       "    </tr>\n",
       "    <tr>\n",
       "      <th>3</th>\n",
       "      <td>0</td>\n",
       "      <td>64900000</td>\n",
       "      <td>159</td>\n",
       "      <td>2015-07-24</td>\n",
       "      <td>3</td>\n",
       "      <td>2.65</td>\n",
       "      <td>14</td>\n",
       "      <td>0</td>\n",
       "      <td>9</td>\n",
       "      <td>0</td>\n",
       "      <td>False</td>\n",
       "      <td>0</td>\n",
       "      <td>0</td>\n",
       "      <td>0</td>\n",
       "      <td>Санкт-Петербург</td>\n",
       "      <td>28098.0</td>\n",
       "      <td>6800.0</td>\n",
       "      <td>2.0</td>\n",
       "      <td>84</td>\n",
       "      <td>3</td>\n",
       "      <td>234</td>\n",
       "      <td>424.0</td>\n",
       "      <td>408176.100629</td>\n",
       "      <td>4</td>\n",
       "      <td>7</td>\n",
       "      <td>2015</td>\n",
       "      <td>другой</td>\n",
       "      <td>6</td>\n",
       "    </tr>\n",
       "    <tr>\n",
       "      <th>4</th>\n",
       "      <td>2</td>\n",
       "      <td>10000000</td>\n",
       "      <td>100</td>\n",
       "      <td>2018-06-19</td>\n",
       "      <td>2</td>\n",
       "      <td>3.03</td>\n",
       "      <td>14</td>\n",
       "      <td>32</td>\n",
       "      <td>13</td>\n",
       "      <td>0</td>\n",
       "      <td>False</td>\n",
       "      <td>0</td>\n",
       "      <td>41</td>\n",
       "      <td>0</td>\n",
       "      <td>Санкт-Петербург</td>\n",
       "      <td>31856.0</td>\n",
       "      <td>8098.0</td>\n",
       "      <td>2.0</td>\n",
       "      <td>112</td>\n",
       "      <td>1</td>\n",
       "      <td>48</td>\n",
       "      <td>121.0</td>\n",
       "      <td>100000.000000</td>\n",
       "      <td>1</td>\n",
       "      <td>6</td>\n",
       "      <td>2018</td>\n",
       "      <td>другой</td>\n",
       "      <td>8</td>\n",
       "    </tr>\n",
       "  </tbody>\n",
       "</table>\n",
       "</div>"
      ],
      "text/plain": [
       "   total_images  last_price  total_area first_day_exposition  rooms  \\\n",
       "0            20    13000000         108           2019-03-07      3   \n",
       "1             7     3350000          40           2018-12-04      1   \n",
       "2            10     5196000          56           2015-08-20      2   \n",
       "3             0    64900000         159           2015-07-24      3   \n",
       "4             2    10000000         100           2018-06-19      2   \n",
       "\n",
       "   ceiling_height  floors_total  living_area  floor  is_apartment  studio  \\\n",
       "0            2.70            16           51      8             0   False   \n",
       "1            2.65            11           18      1             0   False   \n",
       "2            2.65             5           34      4             0   False   \n",
       "3            2.65            14            0      9             0   False   \n",
       "4            3.03            14           32     13             0   False   \n",
       "\n",
       "   open_plan  kitchen_area  balcony    locality_name  airports_nearest  \\\n",
       "0          0            25        0  Санкт-Петербург           18863.0   \n",
       "1          0            11        2   поселок Шушары           12817.0   \n",
       "2          0             8        0  Санкт-Петербург           21741.0   \n",
       "3          0             0        0  Санкт-Петербург           28098.0   \n",
       "4          0            41        0  Санкт-Петербург           31856.0   \n",
       "\n",
       "   cityCenters_nearest  parks_around3000  parks_nearest  ponds_around3000  \\\n",
       "0              16028.0               1.0            482                 2   \n",
       "1              18603.0               0.0              0                 0   \n",
       "2              13933.0               1.0             90                 2   \n",
       "3               6800.0               2.0             84                 3   \n",
       "4               8098.0               2.0            112                 1   \n",
       "\n",
       "   ponds_nearest  days_exposition  price_q_meter  day_exposition  \\\n",
       "0            755              NaN  120370.370370               3   \n",
       "1              0             81.0   83750.000000               1   \n",
       "2            574            558.0   92785.714286               3   \n",
       "3            234            424.0  408176.100629               4   \n",
       "4             48            121.0  100000.000000               1   \n",
       "\n",
       "   month_exposition  year_exposition what_floor  cityCenters_km  \n",
       "0                 3             2019     другой              16  \n",
       "1                12             2018     первый              18  \n",
       "2                 8             2015     другой              13  \n",
       "3                 7             2015     другой               6  \n",
       "4                 6             2018     другой               8  "
      ]
     },
     "execution_count": 45,
     "metadata": {},
     "output_type": "execute_result"
    }
   ],
   "source": [
    "#пустые значения заполненяем \"100\", т.к. значение \"0\" будет считаться центром города и испортит всю \"картину\"\n",
    "data['cityCenters_km'] = data['cityCenters_nearest'] / 1000\n",
    "data['cityCenters_km'] = data['cityCenters_km'].fillna(100)\n",
    "data['cityCenters_km'] = data['cityCenters_km'].astype('int')\n",
    "data.head()"
   ]
  },
  {
   "cell_type": "markdown",
   "metadata": {},
   "source": [
    "### Проведите исследовательский анализ данных"
   ]
  },
  {
   "cell_type": "code",
   "execution_count": 46,
   "metadata": {},
   "outputs": [
    {
     "data": {
      "text/plain": [
       "count    23580.000000\n",
       "mean        58.703011\n",
       "std         28.722807\n",
       "min         12.000000\n",
       "25%         40.000000\n",
       "50%         52.000000\n",
       "75%         69.000000\n",
       "max        248.000000\n",
       "Name: total_area, dtype: float64"
      ]
     },
     "execution_count": 46,
     "metadata": {},
     "output_type": "execute_result"
    },
    {
     "data": {
      "image/png": "[encoded data removed]",
      "text/plain": [
       "<Figure size 432x288 with 1 Axes>"
      ]
     },
     "metadata": {
      "needs_background": "light"
     },
     "output_type": "display_data"
    }
   ],
   "source": [
    "data['total_area'].hist(bins=200, range=(1,200))\n",
    "data['total_area'].describe()"
   ]
  },
  {
   "cell_type": "markdown",
   "metadata": {},
   "source": [
    "В основном, представлены квартиры менее 75 кв. м. Имеются и квартры большей площади, но их не так много."
   ]
  },
  {
   "cell_type": "code",
   "execution_count": 47,
   "metadata": {},
   "outputs": [
    {
     "data": {
      "text/plain": [
       "count    23580.000000\n",
       "mean        30.809245\n",
       "std         20.216710\n",
       "min          0.000000\n",
       "25%         17.000000\n",
       "50%         29.000000\n",
       "75%         41.000000\n",
       "max        220.000000\n",
       "Name: living_area, dtype: float64"
      ]
     },
     "execution_count": 47,
     "metadata": {},
     "output_type": "execute_result"
    },
    {
     "data": {
      "image/png": "[encoded data removed]",
      "text/plain": [
       "<Figure size 432x288 with 1 Axes>"
      ]
     },
     "metadata": {
      "needs_background": "light"
     },
     "output_type": "display_data"
    }
   ],
   "source": [
    "data['living_area'].hist(bins=100, range=(1,200))\n",
    "data['living_area'].describe()"
   ]
  },
  {
   "cell_type": "markdown",
   "metadata": {},
   "source": [
    "Распределение жилой площади неравномерно. Скорее всего, пики связаны с однокомнатными, двухкомнатными и трехкомнатными квартирами. "
   ]
  },
  {
   "cell_type": "code",
   "execution_count": 48,
   "metadata": {},
   "outputs": [
    {
     "data": {
      "text/plain": [
       "count    23580.000000\n",
       "mean         9.228880\n",
       "std          6.049374\n",
       "min          0.000000\n",
       "25%          6.000000\n",
       "50%          8.000000\n",
       "75%         11.000000\n",
       "max         93.000000\n",
       "Name: kitchen_area, dtype: float64"
      ]
     },
     "execution_count": 48,
     "metadata": {},
     "output_type": "execute_result"
    },
    {
     "data": {
      "image/png": "[encoded data removed]",
      "text/plain": [
       "<Figure size 432x288 with 1 Axes>"
      ]
     },
     "metadata": {
      "needs_background": "light"
     },
     "output_type": "display_data"
    }
   ],
   "source": [
    "data['kitchen_area'].hist(bins=60, range=(1, 60))\n",
    "data['kitchen_area'].describe()"
   ]
  },
  {
   "cell_type": "markdown",
   "metadata": {},
   "source": [
    "В основном площадь кухни варьируется от 5 до 12 кв. м. "
   ]
  },
  {
   "cell_type": "code",
   "execution_count": 49,
   "metadata": {},
   "outputs": [
    {
     "data": {
      "text/plain": [
       "count    23580.000000\n",
       "mean         6.184064\n",
       "std          7.024179\n",
       "min          0.012190\n",
       "25%          3.400000\n",
       "50%          4.600000\n",
       "75%          6.700000\n",
       "max        330.000000\n",
       "Name: last_price, dtype: float64"
      ]
     },
     "execution_count": 49,
     "metadata": {},
     "output_type": "execute_result"
    },
    {
     "data": {
      "image/png": "[encoded data removed]",
      "text/plain": [
       "<Figure size 432x288 with 1 Axes>"
      ]
     },
     "metadata": {
      "needs_background": "light"
     },
     "output_type": "display_data"
    }
   ],
   "source": [
    "data['last_price'] = data['last_price'] / 1000000\n",
    "data['last_price'].hist(bins=100, range=(0,15))\n",
    "data['last_price'].describe()"
   ]
  },
  {
   "cell_type": "markdown",
   "metadata": {},
   "source": [
    "Средняя цена квартиры - 5 млн. "
   ]
  },
  {
   "cell_type": "code",
   "execution_count": 50,
   "metadata": {},
   "outputs": [
    {
     "data": {
      "text/plain": [
       "count    23580.000000\n",
       "mean         2.050424\n",
       "std          1.026124\n",
       "min          0.000000\n",
       "25%          1.000000\n",
       "50%          2.000000\n",
       "75%          3.000000\n",
       "max         14.000000\n",
       "Name: rooms, dtype: float64"
      ]
     },
     "execution_count": 50,
     "metadata": {},
     "output_type": "execute_result"
    },
    {
     "data": {
      "image/png": "[encoded data removed]",
      "text/plain": [
       "<Figure size 432x288 with 1 Axes>"
      ]
     },
     "metadata": {
      "needs_background": "light"
     },
     "output_type": "display_data"
    }
   ],
   "source": [
    "data['rooms'].hist(bins=10, range=(0,8))\n",
    "data['rooms'].describe()"
   ]
  },
  {
   "cell_type": "markdown",
   "metadata": {},
   "source": [
    "Основаная масса квартир однокомантные и двухкомнтаные, реже - трехкомнатные. Встречаются квартиры с 4 и более комнатами."
   ]
  },
  {
   "cell_type": "code",
   "execution_count": 51,
   "metadata": {},
   "outputs": [
    {
     "data": {
      "text/plain": [
       "count      23580\n",
       "unique         3\n",
       "top       другой\n",
       "freq       17380\n",
       "Name: what_floor, dtype: object"
      ]
     },
     "execution_count": 51,
     "metadata": {},
     "output_type": "execute_result"
    },
    {
     "data": {
      "image/png": "[encoded data removed]",
      "text/plain": [
       "<Figure size 432x288 with 1 Axes>"
      ]
     },
     "metadata": {
      "needs_background": "light"
     },
     "output_type": "display_data"
    }
   ],
   "source": [
    "data['what_floor'].hist(bins=3, range=(0,2))\n",
    "data['what_floor'].describe()"
   ]
  },
  {
   "cell_type": "markdown",
   "metadata": {},
   "source": [
    "Как правило, львиная доля квартир находится не на первом и на последнем этажах."
   ]
  },
  {
   "cell_type": "code",
   "execution_count": 52,
   "metadata": {},
   "outputs": [
    {
     "data": {
      "text/plain": [
       "count    23580.000000\n",
       "mean        10.655089\n",
       "std          6.620110\n",
       "min          0.000000\n",
       "25%          5.000000\n",
       "50%          9.000000\n",
       "75%         16.000000\n",
       "max         60.000000\n",
       "Name: floors_total, dtype: float64"
      ]
     },
     "execution_count": 52,
     "metadata": {},
     "output_type": "execute_result"
    },
    {
     "data": {
      "image/png": "[encoded data removed]",
      "text/plain": [
       "<Figure size 432x288 with 1 Axes>"
      ]
     },
     "metadata": {
      "needs_background": "light"
     },
     "output_type": "display_data"
    }
   ],
   "source": [
    "data['floors_total'].hist(bins=10, range=(0,40))\n",
    "data['floors_total'].describe()"
   ]
  },
  {
   "cell_type": "markdown",
   "metadata": {},
   "source": [
    "Квартиры, в основном, продаются в пятиэтажных и девятиэтажных домах. Стандартная этажность домов. Продаются квартры и в \"высотках\"."
   ]
  },
  {
   "cell_type": "code",
   "execution_count": 53,
   "metadata": {},
   "outputs": [
    {
     "data": {
      "text/plain": [
       "count    23580.000000\n",
       "mean         5.894911\n",
       "std          4.888717\n",
       "min          1.000000\n",
       "25%          2.000000\n",
       "50%          4.000000\n",
       "75%          8.000000\n",
       "max         33.000000\n",
       "Name: floor, dtype: float64"
      ]
     },
     "execution_count": 53,
     "metadata": {},
     "output_type": "execute_result"
    },
    {
     "data": {
      "image/png": "[encoded data removed]",
      "text/plain": [
       "<Figure size 432x288 with 1 Axes>"
      ]
     },
     "metadata": {
      "needs_background": "light"
     },
     "output_type": "display_data"
    }
   ],
   "source": [
    "data['floor'].hist(bins=10, range=(0,33))\n",
    "data['floor'].describe()"
   ]
  },
  {
   "cell_type": "markdown",
   "metadata": {},
   "source": [
    "Расположены квартры в интервалах от второго и четвертого этажах. Менее большой интервал с пятого по десятый этажи."
   ]
  },
  {
   "cell_type": "code",
   "execution_count": 54,
   "metadata": {},
   "outputs": [
    {
     "data": {
      "text/plain": [
       "count    18063.000000\n",
       "mean     14236.794276\n",
       "std       8604.921835\n",
       "min        181.000000\n",
       "25%       9321.500000\n",
       "50%      13138.000000\n",
       "75%      16316.000000\n",
       "max      65968.000000\n",
       "Name: cityCenters_nearest, dtype: float64"
      ]
     },
     "execution_count": 54,
     "metadata": {},
     "output_type": "execute_result"
    },
    {
     "data": {
      "image/png": "[encoded data removed]",
      "text/plain": [
       "<Figure size 432x288 with 1 Axes>"
      ]
     },
     "metadata": {
      "needs_background": "light"
     },
     "output_type": "display_data"
    }
   ],
   "source": [
    "data['cityCenters_nearest'].hist(bins=100, range=(0,65000))\n",
    "data['cityCenters_nearest'].describe()"
   ]
  },
  {
   "cell_type": "markdown",
   "metadata": {},
   "source": [
    "Большая доля квартрир территориально располоена в 11-15 км от центра. "
   ]
  },
  {
   "cell_type": "code",
   "execution_count": 55,
   "metadata": {},
   "outputs": [
    {
     "data": {
      "text/plain": [
       "count    23580.000000\n",
       "mean       166.848007\n",
       "std        306.464203\n",
       "min          0.000000\n",
       "25%          0.000000\n",
       "50%          0.000000\n",
       "75%        300.000000\n",
       "max       3190.000000\n",
       "Name: parks_nearest, dtype: float64"
      ]
     },
     "execution_count": 55,
     "metadata": {},
     "output_type": "execute_result"
    },
    {
     "data": {
      "image/png": "[encoded data removed]",
      "text/plain": [
       "<Figure size 432x288 with 1 Axes>"
      ]
     },
     "metadata": {
      "needs_background": "light"
     },
     "output_type": "display_data"
    }
   ],
   "source": [
    "data['parks_nearest'].hist(bins=20, range=(1,3200))\n",
    "data['parks_nearest'].describe()"
   ]
  },
  {
   "cell_type": "markdown",
   "metadata": {},
   "source": [
    "Большинство квартир расположены на расстоянии менее 500 м от парка. "
   ]
  },
  {
   "cell_type": "code",
   "execution_count": 56,
   "metadata": {},
   "outputs": [
    {
     "data": {
      "text/plain": [
       "count    23580.000000\n",
       "mean       198.734394\n",
       "std        305.294582\n",
       "min          0.000000\n",
       "25%          0.000000\n",
       "50%          0.000000\n",
       "75%        387.000000\n",
       "max       1344.000000\n",
       "Name: ponds_nearest, dtype: float64"
      ]
     },
     "execution_count": 56,
     "metadata": {},
     "output_type": "execute_result"
    },
    {
     "data": {
      "image/png": "[encoded data removed]",
      "text/plain": [
       "<Figure size 432x288 with 1 Axes>"
      ]
     },
     "metadata": {
      "needs_background": "light"
     },
     "output_type": "display_data"
    }
   ],
   "source": [
    "data['ponds_nearest'].hist(bins=20, range=(1,1350))\n",
    "data['ponds_nearest'].describe()"
   ]
  },
  {
   "cell_type": "markdown",
   "metadata": {},
   "source": [
    "Большая часть квартрир расположены на расстоянии менее 500 м от водоемов. "
   ]
  },
  {
   "cell_type": "code",
   "execution_count": 57,
   "metadata": {},
   "outputs": [
    {
     "data": {
      "text/plain": [
       "count    23580.000000\n",
       "mean         2.568405\n",
       "std          1.789422\n",
       "min          0.000000\n",
       "25%          1.000000\n",
       "50%          3.000000\n",
       "75%          4.000000\n",
       "max          6.000000\n",
       "Name: day_exposition, dtype: float64"
      ]
     },
     "execution_count": 57,
     "metadata": {},
     "output_type": "execute_result"
    },
    {
     "data": {
      "image/png": "[encoded data removed]",
      "text/plain": [
       "<Figure size 432x288 with 1 Axes>"
      ]
     },
     "metadata": {
      "needs_background": "light"
     },
     "output_type": "display_data"
    }
   ],
   "source": [
    "data['day_exposition'].hist()\n",
    "data['day_exposition'].describe()"
   ]
  },
  {
   "cell_type": "markdown",
   "metadata": {},
   "source": [
    "В выходные дни продаж квартир меньше. "
   ]
  },
  {
   "cell_type": "code",
   "execution_count": 58,
   "metadata": {},
   "outputs": [
    {
     "data": {
      "text/plain": [
       "count    23580.000000\n",
       "mean         6.400848\n",
       "std          3.491158\n",
       "min          1.000000\n",
       "25%          3.000000\n",
       "50%          6.000000\n",
       "75%         10.000000\n",
       "max         12.000000\n",
       "Name: month_exposition, dtype: float64"
      ]
     },
     "execution_count": 58,
     "metadata": {},
     "output_type": "execute_result"
    },
    {
     "data": {
      "image/png": "[encoded data removed]",
      "text/plain": [
       "<Figure size 432x288 with 1 Axes>"
      ]
     },
     "metadata": {
      "needs_background": "light"
     },
     "output_type": "display_data"
    }
   ],
   "source": [
    "data['month_exposition'].hist()\n",
    "data['month_exposition'].describe()"
   ]
  },
  {
   "cell_type": "markdown",
   "metadata": {},
   "source": [
    "Снижение объемов продаж  квартир происходит в летние месяцы."
   ]
  },
  {
   "cell_type": "markdown",
   "metadata": {},
   "source": [
    "### Как быстро продавались квартиры?"
   ]
  },
  {
   "cell_type": "code",
   "execution_count": 59,
   "metadata": {},
   "outputs": [
    {
     "data": {
      "text/plain": [
       "count    20424.000000\n",
       "mean       180.305229\n",
       "std        219.059506\n",
       "min          1.000000\n",
       "25%         45.000000\n",
       "50%         95.000000\n",
       "75%        231.000000\n",
       "max       1580.000000\n",
       "Name: days_exposition, dtype: float64"
      ]
     },
     "execution_count": 59,
     "metadata": {},
     "output_type": "execute_result"
    },
    {
     "data": {
      "image/png": "[encoded data removed]",
      "text/plain": [
       "<Figure size 432x288 with 1 Axes>"
      ]
     },
     "metadata": {
      "needs_background": "light"
     },
     "output_type": "display_data"
    }
   ],
   "source": [
    "correct_data_days_exposition = data[data['days_exposition'] != 0] ['days_exposition']\n",
    "correct_data_days_exposition.hist(bins = 200, range=(0,1600))\n",
    "correct_data_days_exposition.describe()"
   ]
  },
  {
   "cell_type": "markdown",
   "metadata": {},
   "source": [
    "Ни гистограмме присутствуют аномальные значения. Надо принять во внимание факт, что снятие объявления о продаже не означает, что квартира, действительно, была продана."
   ]
  },
  {
   "cell_type": "markdown",
   "metadata": {},
   "source": [
    "### Какие факторы больше всего влияют на общую (полную) стоимость объекта?"
   ]
  },
  {
   "cell_type": "code",
   "execution_count": 60,
   "metadata": {},
   "outputs": [
    {
     "data": {
      "text/html": [
       "<div>\n",
       "<style scoped>\n",
       "    .dataframe tbody tr th:only-of-type {\n",
       "        vertical-align: middle;\n",
       "    }\n",
       "\n",
       "    .dataframe tbody tr th {\n",
       "        vertical-align: top;\n",
       "    }\n",
       "\n",
       "    .dataframe thead th {\n",
       "        text-align: right;\n",
       "    }\n",
       "</style>\n",
       "<table border=\"1\" class=\"dataframe\">\n",
       "  <thead>\n",
       "    <tr style=\"text-align: right;\">\n",
       "      <th></th>\n",
       "      <th>количество</th>\n",
       "      <th>среднее</th>\n",
       "      <th>медиана</th>\n",
       "    </tr>\n",
       "    <tr>\n",
       "      <th>total_area</th>\n",
       "      <th></th>\n",
       "      <th></th>\n",
       "      <th></th>\n",
       "    </tr>\n",
       "  </thead>\n",
       "  <tbody>\n",
       "    <tr>\n",
       "      <th>12</th>\n",
       "      <td>1</td>\n",
       "      <td>2.400000</td>\n",
       "      <td>2.400</td>\n",
       "    </tr>\n",
       "    <tr>\n",
       "      <th>13</th>\n",
       "      <td>4</td>\n",
       "      <td>2.184000</td>\n",
       "      <td>1.768</td>\n",
       "    </tr>\n",
       "    <tr>\n",
       "      <th>14</th>\n",
       "      <td>1</td>\n",
       "      <td>1.190000</td>\n",
       "      <td>1.190</td>\n",
       "    </tr>\n",
       "    <tr>\n",
       "      <th>15</th>\n",
       "      <td>3</td>\n",
       "      <td>1.966667</td>\n",
       "      <td>1.900</td>\n",
       "    </tr>\n",
       "    <tr>\n",
       "      <th>16</th>\n",
       "      <td>1</td>\n",
       "      <td>2.100000</td>\n",
       "      <td>2.100</td>\n",
       "    </tr>\n",
       "  </tbody>\n",
       "</table>\n",
       "</div>"
      ],
      "text/plain": [
       "            количество   среднее  медиана\n",
       "total_area                               \n",
       "12                   1  2.400000    2.400\n",
       "13                   4  2.184000    1.768\n",
       "14                   1  1.190000    1.190\n",
       "15                   3  1.966667    1.900\n",
       "16                   1  2.100000    2.100"
      ]
     },
     "metadata": {},
     "output_type": "display_data"
    },
    {
     "data": {
      "image/png": "[encoded data removed]",
      "text/plain": [
       "<Figure size 432x288 with 1 Axes>"
      ]
     },
     "metadata": {
      "needs_background": "light"
     },
     "output_type": "display_data"
    },
    {
     "data": {
      "text/plain": [
       "0.6690374478096186"
      ]
     },
     "execution_count": 60,
     "metadata": {},
     "output_type": "execute_result"
    }
   ],
   "source": [
    "pivot_total_area = data.pivot_table(index='total_area', values='last_price', aggfunc = ['count', 'mean', 'median'])\n",
    "pivot_total_area.columns = ['количество', 'среднее', 'медиана']\n",
    "display(pivot_total_area.head())\n",
    "plt.scatter(data['total_area'], data['last_price'])\n",
    "plt.show()\n",
    "data['total_area'].corr(data['last_price'])"
   ]
  },
  {
   "cell_type": "markdown",
   "metadata": {},
   "source": [
    "Корреляция Пирсона равна 0.66. Взаимосвязь выше средней."
   ]
  },
  {
   "cell_type": "code",
   "execution_count": 61,
   "metadata": {},
   "outputs": [
    {
     "data": {
      "text/html": [
       "<div>\n",
       "<style scoped>\n",
       "    .dataframe tbody tr th:only-of-type {\n",
       "        vertical-align: middle;\n",
       "    }\n",
       "\n",
       "    .dataframe tbody tr th {\n",
       "        vertical-align: top;\n",
       "    }\n",
       "\n",
       "    .dataframe thead th {\n",
       "        text-align: right;\n",
       "    }\n",
       "</style>\n",
       "<table border=\"1\" class=\"dataframe\">\n",
       "  <thead>\n",
       "    <tr style=\"text-align: right;\">\n",
       "      <th></th>\n",
       "      <th>количество</th>\n",
       "      <th>среднее</th>\n",
       "      <th>медиана</th>\n",
       "    </tr>\n",
       "    <tr>\n",
       "      <th>living_area</th>\n",
       "      <th></th>\n",
       "      <th></th>\n",
       "      <th></th>\n",
       "    </tr>\n",
       "  </thead>\n",
       "  <tbody>\n",
       "    <tr>\n",
       "      <th>0</th>\n",
       "      <td>1885</td>\n",
       "      <td>6.358873</td>\n",
       "      <td>4.5000</td>\n",
       "    </tr>\n",
       "    <tr>\n",
       "      <th>2</th>\n",
       "      <td>2</td>\n",
       "      <td>4.340000</td>\n",
       "      <td>4.3400</td>\n",
       "    </tr>\n",
       "    <tr>\n",
       "      <th>3</th>\n",
       "      <td>2</td>\n",
       "      <td>34.715000</td>\n",
       "      <td>34.7150</td>\n",
       "    </tr>\n",
       "    <tr>\n",
       "      <th>5</th>\n",
       "      <td>2</td>\n",
       "      <td>4.390000</td>\n",
       "      <td>4.3900</td>\n",
       "    </tr>\n",
       "    <tr>\n",
       "      <th>6</th>\n",
       "      <td>2</td>\n",
       "      <td>3.924500</td>\n",
       "      <td>3.9245</td>\n",
       "    </tr>\n",
       "  </tbody>\n",
       "</table>\n",
       "</div>"
      ],
      "text/plain": [
       "             количество    среднее  медиана\n",
       "living_area                                \n",
       "0                  1885   6.358873   4.5000\n",
       "2                     2   4.340000   4.3400\n",
       "3                     2  34.715000  34.7150\n",
       "5                     2   4.390000   4.3900\n",
       "6                     2   3.924500   3.9245"
      ]
     },
     "metadata": {},
     "output_type": "display_data"
    },
    {
     "data": {
      "text/plain": [
       "0.48530778459618346"
      ]
     },
     "execution_count": 61,
     "metadata": {},
     "output_type": "execute_result"
    },
    {
     "data": {
      "image/png": "[encoded data removed]",
      "text/plain": [
       "<Figure size 432x288 with 1 Axes>"
      ]
     },
     "metadata": {
      "needs_background": "light"
     },
     "output_type": "display_data"
    }
   ],
   "source": [
    "pivot_living_area = data.pivot_table(index='living_area', values='last_price', aggfunc = ['count', 'mean', 'median'])\n",
    "pivot_living_area.columns = ['количество', 'среднее', 'медиана']\n",
    "display(pivot_living_area.head())\n",
    "plt.scatter(data['living_area'], data['last_price'])\n",
    "data['living_area'].corr(data['last_price'])"
   ]
  },
  {
   "cell_type": "markdown",
   "metadata": {},
   "source": [
    "Зависимость общей стоимости от жилой площади средняя."
   ]
  },
  {
   "cell_type": "code",
   "execution_count": 62,
   "metadata": {},
   "outputs": [
    {
     "data": {
      "text/html": [
       "<div>\n",
       "<style scoped>\n",
       "    .dataframe tbody tr th:only-of-type {\n",
       "        vertical-align: middle;\n",
       "    }\n",
       "\n",
       "    .dataframe tbody tr th {\n",
       "        vertical-align: top;\n",
       "    }\n",
       "\n",
       "    .dataframe thead th {\n",
       "        text-align: right;\n",
       "    }\n",
       "</style>\n",
       "<table border=\"1\" class=\"dataframe\">\n",
       "  <thead>\n",
       "    <tr style=\"text-align: right;\">\n",
       "      <th></th>\n",
       "      <th>количество</th>\n",
       "      <th>среднее</th>\n",
       "      <th>медиана</th>\n",
       "    </tr>\n",
       "    <tr>\n",
       "      <th>kitchen_area</th>\n",
       "      <th></th>\n",
       "      <th></th>\n",
       "      <th></th>\n",
       "    </tr>\n",
       "  </thead>\n",
       "  <tbody>\n",
       "    <tr>\n",
       "      <th>0</th>\n",
       "      <td>2260</td>\n",
       "      <td>54.009735</td>\n",
       "      <td>46.0</td>\n",
       "    </tr>\n",
       "    <tr>\n",
       "      <th>1</th>\n",
       "      <td>1</td>\n",
       "      <td>28.000000</td>\n",
       "      <td>28.0</td>\n",
       "    </tr>\n",
       "    <tr>\n",
       "      <th>2</th>\n",
       "      <td>10</td>\n",
       "      <td>28.300000</td>\n",
       "      <td>24.5</td>\n",
       "    </tr>\n",
       "    <tr>\n",
       "      <th>3</th>\n",
       "      <td>18</td>\n",
       "      <td>33.888889</td>\n",
       "      <td>28.0</td>\n",
       "    </tr>\n",
       "    <tr>\n",
       "      <th>4</th>\n",
       "      <td>76</td>\n",
       "      <td>38.131579</td>\n",
       "      <td>36.5</td>\n",
       "    </tr>\n",
       "  </tbody>\n",
       "</table>\n",
       "</div>"
      ],
      "text/plain": [
       "              количество    среднее  медиана\n",
       "kitchen_area                                \n",
       "0                   2260  54.009735     46.0\n",
       "1                      1  28.000000     28.0\n",
       "2                     10  28.300000     24.5\n",
       "3                     18  33.888889     28.0\n",
       "4                     76  38.131579     36.5"
      ]
     },
     "metadata": {},
     "output_type": "display_data"
    },
    {
     "data": {
      "text/plain": [
       "0.4379236660827757"
      ]
     },
     "execution_count": 62,
     "metadata": {},
     "output_type": "execute_result"
    },
    {
     "data": {
      "image/png": "[encoded data removed]",
      "text/plain": [
       "<Figure size 432x288 with 1 Axes>"
      ]
     },
     "metadata": {
      "needs_background": "light"
     },
     "output_type": "display_data"
    }
   ],
   "source": [
    "pivot_kitchen_area = data.pivot_table(index='kitchen_area', values='total_area', aggfunc = ['count', 'mean', 'median'])\n",
    "pivot_kitchen_area.columns = ['количество', 'среднее', 'медиана']\n",
    "display(pivot_kitchen_area.head())\n",
    "plt.scatter(data['kitchen_area'], data['last_price'])\n",
    "data['kitchen_area'].corr(data['last_price'])"
   ]
  },
  {
   "cell_type": "markdown",
   "metadata": {},
   "source": [
    "Корреляция 0.4 - ниже средней."
   ]
  },
  {
   "cell_type": "code",
   "execution_count": 63,
   "metadata": {},
   "outputs": [
    {
     "data": {
      "text/html": [
       "<div>\n",
       "<style scoped>\n",
       "    .dataframe tbody tr th:only-of-type {\n",
       "        vertical-align: middle;\n",
       "    }\n",
       "\n",
       "    .dataframe tbody tr th {\n",
       "        vertical-align: top;\n",
       "    }\n",
       "\n",
       "    .dataframe thead th {\n",
       "        text-align: right;\n",
       "    }\n",
       "</style>\n",
       "<table border=\"1\" class=\"dataframe\">\n",
       "  <thead>\n",
       "    <tr style=\"text-align: right;\">\n",
       "      <th></th>\n",
       "      <th>количество</th>\n",
       "      <th>среднее</th>\n",
       "      <th>медиана</th>\n",
       "    </tr>\n",
       "    <tr>\n",
       "      <th>rooms</th>\n",
       "      <th></th>\n",
       "      <th></th>\n",
       "      <th></th>\n",
       "    </tr>\n",
       "  </thead>\n",
       "  <tbody>\n",
       "    <tr>\n",
       "      <th>0</th>\n",
       "      <td>196</td>\n",
       "      <td>2.992508</td>\n",
       "      <td>2.700000</td>\n",
       "    </tr>\n",
       "    <tr>\n",
       "      <th>1</th>\n",
       "      <td>8046</td>\n",
       "      <td>3.830471</td>\n",
       "      <td>3.600000</td>\n",
       "    </tr>\n",
       "    <tr>\n",
       "      <th>2</th>\n",
       "      <td>7940</td>\n",
       "      <td>5.591605</td>\n",
       "      <td>4.770169</td>\n",
       "    </tr>\n",
       "    <tr>\n",
       "      <th>3</th>\n",
       "      <td>5804</td>\n",
       "      <td>8.072344</td>\n",
       "      <td>6.200000</td>\n",
       "    </tr>\n",
       "    <tr>\n",
       "      <th>4</th>\n",
       "      <td>1168</td>\n",
       "      <td>12.756986</td>\n",
       "      <td>9.000000</td>\n",
       "    </tr>\n",
       "  </tbody>\n",
       "</table>\n",
       "</div>"
      ],
      "text/plain": [
       "       количество    среднее   медиана\n",
       "rooms                                 \n",
       "0             196   2.992508  2.700000\n",
       "1            8046   3.830471  3.600000\n",
       "2            7940   5.591605  4.770169\n",
       "3            5804   8.072344  6.200000\n",
       "4            1168  12.756986  9.000000"
      ]
     },
     "metadata": {},
     "output_type": "display_data"
    },
    {
     "data": {
      "text/plain": [
       "0.3944782094421325"
      ]
     },
     "execution_count": 63,
     "metadata": {},
     "output_type": "execute_result"
    }
   ],
   "source": [
    "pivot_rooms = data.pivot_table(index='rooms', values='last_price', aggfunc = ['count', 'mean', 'median'])\n",
    "pivot_rooms.columns = ['количество', 'среднее', 'медиана']\n",
    "display(pivot_rooms.head())\n",
    "data['rooms'].corr(data['last_price'])"
   ]
  },
  {
   "cell_type": "markdown",
   "metadata": {},
   "source": [
    "Корреляция почти такая же как у зависимости от площади кухни."
   ]
  },
  {
   "cell_type": "code",
   "execution_count": 64,
   "metadata": {},
   "outputs": [
    {
     "data": {
      "text/html": [
       "<div>\n",
       "<style scoped>\n",
       "    .dataframe tbody tr th:only-of-type {\n",
       "        vertical-align: middle;\n",
       "    }\n",
       "\n",
       "    .dataframe tbody tr th {\n",
       "        vertical-align: top;\n",
       "    }\n",
       "\n",
       "    .dataframe thead th {\n",
       "        text-align: right;\n",
       "    }\n",
       "</style>\n",
       "<table border=\"1\" class=\"dataframe\">\n",
       "  <thead>\n",
       "    <tr style=\"text-align: right;\">\n",
       "      <th></th>\n",
       "      <th>количество</th>\n",
       "    </tr>\n",
       "    <tr>\n",
       "      <th>what_floor</th>\n",
       "      <th></th>\n",
       "    </tr>\n",
       "  </thead>\n",
       "  <tbody>\n",
       "    <tr>\n",
       "      <th>другой</th>\n",
       "      <td>17380</td>\n",
       "    </tr>\n",
       "    <tr>\n",
       "      <th>первый</th>\n",
       "      <td>2908</td>\n",
       "    </tr>\n",
       "    <tr>\n",
       "      <th>последний</th>\n",
       "      <td>3292</td>\n",
       "    </tr>\n",
       "  </tbody>\n",
       "</table>\n",
       "</div>"
      ],
      "text/plain": [
       "            количество\n",
       "what_floor            \n",
       "другой           17380\n",
       "первый            2908\n",
       "последний         3292"
      ]
     },
     "metadata": {},
     "output_type": "display_data"
    }
   ],
   "source": [
    "pivot_type_of_floor = data.pivot_table(index='what_floor', values='last_price', aggfunc = 'count')\n",
    "pivot_type_of_floor.columns = ['количество']\n",
    "\n",
    "display(pivot_type_of_floor.head())"
   ]
  },
  {
   "cell_type": "code",
   "execution_count": 65,
   "metadata": {},
   "outputs": [
    {
     "data": {
      "text/html": [
       "<div>\n",
       "<style scoped>\n",
       "    .dataframe tbody tr th:only-of-type {\n",
       "        vertical-align: middle;\n",
       "    }\n",
       "\n",
       "    .dataframe tbody tr th {\n",
       "        vertical-align: top;\n",
       "    }\n",
       "\n",
       "    .dataframe thead th {\n",
       "        text-align: right;\n",
       "    }\n",
       "</style>\n",
       "<table border=\"1\" class=\"dataframe\">\n",
       "  <thead>\n",
       "    <tr style=\"text-align: right;\">\n",
       "      <th></th>\n",
       "      <th>медиана</th>\n",
       "    </tr>\n",
       "    <tr>\n",
       "      <th>day_exposition</th>\n",
       "      <th></th>\n",
       "    </tr>\n",
       "  </thead>\n",
       "  <tbody>\n",
       "    <tr>\n",
       "      <th>0</th>\n",
       "      <td>4.63</td>\n",
       "    </tr>\n",
       "    <tr>\n",
       "      <th>1</th>\n",
       "      <td>4.70</td>\n",
       "    </tr>\n",
       "    <tr>\n",
       "      <th>2</th>\n",
       "      <td>4.70</td>\n",
       "    </tr>\n",
       "    <tr>\n",
       "      <th>3</th>\n",
       "      <td>4.60</td>\n",
       "    </tr>\n",
       "    <tr>\n",
       "      <th>4</th>\n",
       "      <td>4.55</td>\n",
       "    </tr>\n",
       "  </tbody>\n",
       "</table>\n",
       "</div>"
      ],
      "text/plain": [
       "                медиана\n",
       "day_exposition         \n",
       "0                  4.63\n",
       "1                  4.70\n",
       "2                  4.70\n",
       "3                  4.60\n",
       "4                  4.55"
      ]
     },
     "metadata": {},
     "output_type": "display_data"
    },
    {
     "data": {
      "text/plain": [
       "<AxesSubplot:xlabel='day_exposition'>"
      ]
     },
     "metadata": {},
     "output_type": "display_data"
    },
    {
     "data": {
      "image/png": "[encoded data removed]",
      "text/plain": [
       "<Figure size 432x288 with 1 Axes>"
      ]
     },
     "metadata": {
      "needs_background": "light"
     },
     "output_type": "display_data"
    }
   ],
   "source": [
    "pivot_day_exposition = data.pivot_table(index='day_exposition', values='last_price', aggfunc = 'median')\n",
    "pivot_day_exposition.columns = ['медиана']\n",
    "\n",
    "display(pivot_day_exposition.head())\n",
    "display(pivot_day_exposition.plot())\n",
    "#data['day_exposition'].corr(data['last_price'])"
   ]
  },
  {
   "cell_type": "markdown",
   "metadata": {},
   "source": [
    "Те квартиры, объявления о продаже которых опублиованы во вторник - дороже, а опубликованные в выходные - самые дешевые."
   ]
  },
  {
   "cell_type": "code",
   "execution_count": 66,
   "metadata": {},
   "outputs": [
    {
     "data": {
      "text/html": [
       "<div>\n",
       "<style scoped>\n",
       "    .dataframe tbody tr th:only-of-type {\n",
       "        vertical-align: middle;\n",
       "    }\n",
       "\n",
       "    .dataframe tbody tr th {\n",
       "        vertical-align: top;\n",
       "    }\n",
       "\n",
       "    .dataframe thead th {\n",
       "        text-align: right;\n",
       "    }\n",
       "</style>\n",
       "<table border=\"1\" class=\"dataframe\">\n",
       "  <thead>\n",
       "    <tr style=\"text-align: right;\">\n",
       "      <th></th>\n",
       "      <th>медиана</th>\n",
       "    </tr>\n",
       "    <tr>\n",
       "      <th>month_exposition</th>\n",
       "      <th></th>\n",
       "    </tr>\n",
       "  </thead>\n",
       "  <tbody>\n",
       "    <tr>\n",
       "      <th>1</th>\n",
       "      <td>4.6000</td>\n",
       "    </tr>\n",
       "    <tr>\n",
       "      <th>2</th>\n",
       "      <td>4.6500</td>\n",
       "    </tr>\n",
       "    <tr>\n",
       "      <th>3</th>\n",
       "      <td>4.6500</td>\n",
       "    </tr>\n",
       "    <tr>\n",
       "      <th>4</th>\n",
       "      <td>4.7995</td>\n",
       "    </tr>\n",
       "    <tr>\n",
       "      <th>5</th>\n",
       "      <td>4.5000</td>\n",
       "    </tr>\n",
       "    <tr>\n",
       "      <th>6</th>\n",
       "      <td>4.4000</td>\n",
       "    </tr>\n",
       "    <tr>\n",
       "      <th>7</th>\n",
       "      <td>4.6000</td>\n",
       "    </tr>\n",
       "    <tr>\n",
       "      <th>8</th>\n",
       "      <td>4.5600</td>\n",
       "    </tr>\n",
       "    <tr>\n",
       "      <th>9</th>\n",
       "      <td>4.6850</td>\n",
       "    </tr>\n",
       "    <tr>\n",
       "      <th>10</th>\n",
       "      <td>4.5500</td>\n",
       "    </tr>\n",
       "    <tr>\n",
       "      <th>11</th>\n",
       "      <td>4.6990</td>\n",
       "    </tr>\n",
       "    <tr>\n",
       "      <th>12</th>\n",
       "      <td>4.6800</td>\n",
       "    </tr>\n",
       "  </tbody>\n",
       "</table>\n",
       "</div>"
      ],
      "text/plain": [
       "                  медиана\n",
       "month_exposition         \n",
       "1                  4.6000\n",
       "2                  4.6500\n",
       "3                  4.6500\n",
       "4                  4.7995\n",
       "5                  4.5000\n",
       "6                  4.4000\n",
       "7                  4.6000\n",
       "8                  4.5600\n",
       "9                  4.6850\n",
       "10                 4.5500\n",
       "11                 4.6990\n",
       "12                 4.6800"
      ]
     },
     "metadata": {},
     "output_type": "display_data"
    },
    {
     "data": {
      "text/plain": [
       "<AxesSubplot:xlabel='month_exposition'>"
      ]
     },
     "metadata": {},
     "output_type": "display_data"
    },
    {
     "data": {
      "image/png": "[encoded data removed]",
      "text/plain": [
       "<Figure size 432x288 with 1 Axes>"
      ]
     },
     "metadata": {
      "needs_background": "light"
     },
     "output_type": "display_data"
    }
   ],
   "source": [
    "pivot_month = data.pivot_table(index='month_exposition', values='last_price', aggfunc = 'median')\n",
    "pivot_month.columns = ['медиана']\n",
    "\n",
    "display(pivot_month.head(12))\n",
    "display(pivot_month.plot())\n",
    "#data['month_exposition'].corr(data['last_price'])"
   ]
  },
  {
   "cell_type": "markdown",
   "metadata": {},
   "source": [
    "Квартиры, продающиеся с апреля - дороже. С июня - самые дешевые."
   ]
  },
  {
   "cell_type": "code",
   "execution_count": 67,
   "metadata": {},
   "outputs": [
    {
     "data": {
      "text/html": [
       "<div>\n",
       "<style scoped>\n",
       "    .dataframe tbody tr th:only-of-type {\n",
       "        vertical-align: middle;\n",
       "    }\n",
       "\n",
       "    .dataframe tbody tr th {\n",
       "        vertical-align: top;\n",
       "    }\n",
       "\n",
       "    .dataframe thead th {\n",
       "        text-align: right;\n",
       "    }\n",
       "</style>\n",
       "<table border=\"1\" class=\"dataframe\">\n",
       "  <thead>\n",
       "    <tr style=\"text-align: right;\">\n",
       "      <th></th>\n",
       "      <th>медиана</th>\n",
       "    </tr>\n",
       "    <tr>\n",
       "      <th>year_exposition</th>\n",
       "      <th></th>\n",
       "    </tr>\n",
       "  </thead>\n",
       "  <tbody>\n",
       "    <tr>\n",
       "      <th>2014</th>\n",
       "      <td>7.58</td>\n",
       "    </tr>\n",
       "    <tr>\n",
       "      <th>2015</th>\n",
       "      <td>5.30</td>\n",
       "    </tr>\n",
       "    <tr>\n",
       "      <th>2016</th>\n",
       "      <td>4.50</td>\n",
       "    </tr>\n",
       "    <tr>\n",
       "      <th>2017</th>\n",
       "      <td>4.50</td>\n",
       "    </tr>\n",
       "    <tr>\n",
       "      <th>2018</th>\n",
       "      <td>4.55</td>\n",
       "    </tr>\n",
       "    <tr>\n",
       "      <th>2019</th>\n",
       "      <td>5.03</td>\n",
       "    </tr>\n",
       "  </tbody>\n",
       "</table>\n",
       "</div>"
      ],
      "text/plain": [
       "                 медиана\n",
       "year_exposition         \n",
       "2014                7.58\n",
       "2015                5.30\n",
       "2016                4.50\n",
       "2017                4.50\n",
       "2018                4.55\n",
       "2019                5.03"
      ]
     },
     "metadata": {},
     "output_type": "display_data"
    },
    {
     "data": {
      "text/plain": [
       "<AxesSubplot:xlabel='year_exposition'>"
      ]
     },
     "metadata": {},
     "output_type": "display_data"
    },
    {
     "data": {
      "image/png": "[encoded data removed]",
      "text/plain": [
       "<Figure size 432x288 with 1 Axes>"
      ]
     },
     "metadata": {
      "needs_background": "light"
     },
     "output_type": "display_data"
    }
   ],
   "source": [
    "pivot_year = data.pivot_table(index='year_exposition', values='last_price', aggfunc = 'median')\n",
    "pivot_year.columns = ['медиана']\n",
    "\n",
    "display(pivot_year.head(10))\n",
    "display(pivot_year.plot())\n",
    "#data['year_exposition'].corr(data['last_price'])"
   ]
  },
  {
   "cell_type": "markdown",
   "metadata": {},
   "source": [
    "С 2014 года стоимость квартир планомерно снижается до 2018 года. Скорее всего это связано с \"бумом\" строительства нового жилья. Предложений продаж было большим."
   ]
  },
  {
   "cell_type": "markdown",
   "metadata": {},
   "source": [
    "**Вывод:** на стоимость квартиры больше всего оказывает общая площадь квартиры. Такой фактор как жилая площадь тоже оказывает влияние на стоимость квартры. В основном цены на квартиры высокие осенью и в будние дни. Низкие летом и в выходные дни."
   ]
  },
  {
   "cell_type": "markdown",
   "metadata": {},
   "source": [
    "### Cредняя цена одного квадратного метра в 10 населённых пунктах с наибольшим числом объявлений."
   ]
  },
  {
   "cell_type": "code",
   "execution_count": 68,
   "metadata": {},
   "outputs": [
    {
     "data": {
      "text/html": [
       "<div>\n",
       "<style scoped>\n",
       "    .dataframe tbody tr th:only-of-type {\n",
       "        vertical-align: middle;\n",
       "    }\n",
       "\n",
       "    .dataframe tbody tr th {\n",
       "        vertical-align: top;\n",
       "    }\n",
       "\n",
       "    .dataframe thead th {\n",
       "        text-align: right;\n",
       "    }\n",
       "</style>\n",
       "<table border=\"1\" class=\"dataframe\">\n",
       "  <thead>\n",
       "    <tr style=\"text-align: right;\">\n",
       "      <th></th>\n",
       "      <th>количество объявлений</th>\n",
       "      <th>средняя цена за квадаратный метр</th>\n",
       "    </tr>\n",
       "    <tr>\n",
       "      <th>locality_name</th>\n",
       "      <th></th>\n",
       "      <th></th>\n",
       "    </tr>\n",
       "  </thead>\n",
       "  <tbody>\n",
       "    <tr>\n",
       "      <th>поселок Мурино</th>\n",
       "      <td>556</td>\n",
       "      <td>86312.033181</td>\n",
       "    </tr>\n",
       "    <tr>\n",
       "      <th>поселок Шушары</th>\n",
       "      <td>440</td>\n",
       "      <td>79068.602928</td>\n",
       "    </tr>\n",
       "    <tr>\n",
       "      <th>Всеволожск</th>\n",
       "      <td>398</td>\n",
       "      <td>68985.235455</td>\n",
       "    </tr>\n",
       "    <tr>\n",
       "      <th>Пушкин</th>\n",
       "      <td>367</td>\n",
       "      <td>103619.041292</td>\n",
       "    </tr>\n",
       "    <tr>\n",
       "      <th>Колпино</th>\n",
       "      <td>337</td>\n",
       "      <td>75644.775388</td>\n",
       "    </tr>\n",
       "    <tr>\n",
       "      <th>поселок Парголово</th>\n",
       "      <td>327</td>\n",
       "      <td>90675.627757</td>\n",
       "    </tr>\n",
       "    <tr>\n",
       "      <th>Гатчина</th>\n",
       "      <td>307</td>\n",
       "      <td>69045.519030</td>\n",
       "    </tr>\n",
       "    <tr>\n",
       "      <th>деревня Кудрово</th>\n",
       "      <td>299</td>\n",
       "      <td>93002.173472</td>\n",
       "    </tr>\n",
       "    <tr>\n",
       "      <th>Выборг</th>\n",
       "      <td>237</td>\n",
       "      <td>58296.119480</td>\n",
       "    </tr>\n",
       "    <tr>\n",
       "      <th>Петергоф</th>\n",
       "      <td>201</td>\n",
       "      <td>85259.837325</td>\n",
       "    </tr>\n",
       "  </tbody>\n",
       "</table>\n",
       "</div>"
      ],
      "text/plain": [
       "                   количество объявлений  средняя цена за квадаратный метр\n",
       "locality_name                                                             \n",
       "поселок Мурино                       556                      86312.033181\n",
       "поселок Шушары                       440                      79068.602928\n",
       "Всеволожск                           398                      68985.235455\n",
       "Пушкин                               367                     103619.041292\n",
       "Колпино                              337                      75644.775388\n",
       "поселок Парголово                    327                      90675.627757\n",
       "Гатчина                              307                      69045.519030\n",
       "деревня Кудрово                      299                      93002.173472\n",
       "Выборг                               237                      58296.119480\n",
       "Петергоф                             201                      85259.837325"
      ]
     },
     "metadata": {},
     "output_type": "display_data"
    },
    {
     "data": {
      "text/html": [
       "<div>\n",
       "<style scoped>\n",
       "    .dataframe tbody tr th:only-of-type {\n",
       "        vertical-align: middle;\n",
       "    }\n",
       "\n",
       "    .dataframe tbody tr th {\n",
       "        vertical-align: top;\n",
       "    }\n",
       "\n",
       "    .dataframe thead th {\n",
       "        text-align: right;\n",
       "    }\n",
       "</style>\n",
       "<table border=\"1\" class=\"dataframe\">\n",
       "  <thead>\n",
       "    <tr style=\"text-align: right;\">\n",
       "      <th></th>\n",
       "      <th>количество объявлений</th>\n",
       "      <th>средняя цена за квадаратный метр</th>\n",
       "    </tr>\n",
       "    <tr>\n",
       "      <th>locality_name</th>\n",
       "      <th></th>\n",
       "      <th></th>\n",
       "    </tr>\n",
       "  </thead>\n",
       "  <tbody>\n",
       "    <tr>\n",
       "      <th>Пушкин</th>\n",
       "      <td>367</td>\n",
       "      <td>103619.041292</td>\n",
       "    </tr>\n",
       "  </tbody>\n",
       "</table>\n",
       "</div>"
      ],
      "text/plain": [
       "               количество объявлений  средняя цена за квадаратный метр\n",
       "locality_name                                                         \n",
       "Пушкин                           367                     103619.041292"
      ]
     },
     "metadata": {},
     "output_type": "display_data"
    },
    {
     "data": {
      "text/html": [
       "<div>\n",
       "<style scoped>\n",
       "    .dataframe tbody tr th:only-of-type {\n",
       "        vertical-align: middle;\n",
       "    }\n",
       "\n",
       "    .dataframe tbody tr th {\n",
       "        vertical-align: top;\n",
       "    }\n",
       "\n",
       "    .dataframe thead th {\n",
       "        text-align: right;\n",
       "    }\n",
       "</style>\n",
       "<table border=\"1\" class=\"dataframe\">\n",
       "  <thead>\n",
       "    <tr style=\"text-align: right;\">\n",
       "      <th></th>\n",
       "      <th>количество объявлений</th>\n",
       "      <th>средняя цена за квадаратный метр</th>\n",
       "    </tr>\n",
       "    <tr>\n",
       "      <th>locality_name</th>\n",
       "      <th></th>\n",
       "      <th></th>\n",
       "    </tr>\n",
       "  </thead>\n",
       "  <tbody>\n",
       "    <tr>\n",
       "      <th>Выборг</th>\n",
       "      <td>237</td>\n",
       "      <td>58296.11948</td>\n",
       "    </tr>\n",
       "  </tbody>\n",
       "</table>\n",
       "</div>"
      ],
      "text/plain": [
       "               количество объявлений  средняя цена за квадаратный метр\n",
       "locality_name                                                         \n",
       "Выборг                           237                       58296.11948"
      ]
     },
     "execution_count": 68,
     "metadata": {},
     "output_type": "execute_result"
    }
   ],
   "source": [
    "top_10 = data.pivot_table(index='locality_name', values='price_q_meter', aggfunc=['count', 'mean'])\n",
    "top_10.columns = ['количество объявлений', 'средняя цена за квадаратный метр']\n",
    "top_10 = top_10.sort_values(by='количество объявлений', ascending=False)[1:11]\n",
    "\n",
    "display(top_10)\n",
    "display(top_10[top_10['средняя цена за квадаратный метр'] == top_10['средняя цена за квадаратный метр'].max()])\n",
    "top_10[top_10['средняя цена за квадаратный метр'] == top_10['средняя цена за квадаратный метр'].min()]"
   ]
  },
  {
   "cell_type": "markdown",
   "metadata": {},
   "source": [
    "Наибольшее количество объявлений вне Санкт-Петербурга было выложено из пос. Мурино. \n",
    "\n",
    "Самая высокая цена за кв. метр в г. Пушкин\n",
    "\n",
    "Самая низкая - в г. Выборг"
   ]
  },
  {
   "cell_type": "markdown",
   "metadata": {},
   "source": [
    "### Средняя цена каждого километра."
   ]
  },
  {
   "cell_type": "code",
   "execution_count": 69,
   "metadata": {},
   "outputs": [
    {
     "data": {
      "text/html": [
       "<div>\n",
       "<style scoped>\n",
       "    .dataframe tbody tr th:only-of-type {\n",
       "        vertical-align: middle;\n",
       "    }\n",
       "\n",
       "    .dataframe tbody tr th {\n",
       "        vertical-align: top;\n",
       "    }\n",
       "\n",
       "    .dataframe thead th {\n",
       "        text-align: right;\n",
       "    }\n",
       "</style>\n",
       "<table border=\"1\" class=\"dataframe\">\n",
       "  <thead>\n",
       "    <tr style=\"text-align: right;\">\n",
       "      <th></th>\n",
       "      <th>price_q_meter</th>\n",
       "    </tr>\n",
       "    <tr>\n",
       "      <th>cityCenters_km</th>\n",
       "      <th></th>\n",
       "    </tr>\n",
       "  </thead>\n",
       "  <tbody>\n",
       "    <tr>\n",
       "      <th>0</th>\n",
       "      <td>181556.527565</td>\n",
       "    </tr>\n",
       "    <tr>\n",
       "      <th>1</th>\n",
       "      <td>166005.860733</td>\n",
       "    </tr>\n",
       "    <tr>\n",
       "      <th>2</th>\n",
       "      <td>144351.656607</td>\n",
       "    </tr>\n",
       "    <tr>\n",
       "      <th>3</th>\n",
       "      <td>124454.200494</td>\n",
       "    </tr>\n",
       "    <tr>\n",
       "      <th>4</th>\n",
       "      <td>135857.565210</td>\n",
       "    </tr>\n",
       "    <tr>\n",
       "      <th>5</th>\n",
       "      <td>145109.824751</td>\n",
       "    </tr>\n",
       "    <tr>\n",
       "      <th>6</th>\n",
       "      <td>150406.183019</td>\n",
       "    </tr>\n",
       "    <tr>\n",
       "      <th>7</th>\n",
       "      <td>139439.377743</td>\n",
       "    </tr>\n",
       "    <tr>\n",
       "      <th>8</th>\n",
       "      <td>121018.442996</td>\n",
       "    </tr>\n",
       "    <tr>\n",
       "      <th>9</th>\n",
       "      <td>110618.001688</td>\n",
       "    </tr>\n",
       "    <tr>\n",
       "      <th>10</th>\n",
       "      <td>112211.829606</td>\n",
       "    </tr>\n",
       "    <tr>\n",
       "      <th>11</th>\n",
       "      <td>107312.991081</td>\n",
       "    </tr>\n",
       "    <tr>\n",
       "      <th>12</th>\n",
       "      <td>108841.734036</td>\n",
       "    </tr>\n",
       "    <tr>\n",
       "      <th>13</th>\n",
       "      <td>107720.559557</td>\n",
       "    </tr>\n",
       "    <tr>\n",
       "      <th>14</th>\n",
       "      <td>105519.261621</td>\n",
       "    </tr>\n",
       "    <tr>\n",
       "      <th>15</th>\n",
       "      <td>102437.275681</td>\n",
       "    </tr>\n",
       "    <tr>\n",
       "      <th>16</th>\n",
       "      <td>100629.359950</td>\n",
       "    </tr>\n",
       "    <tr>\n",
       "      <th>17</th>\n",
       "      <td>94579.736517</td>\n",
       "    </tr>\n",
       "    <tr>\n",
       "      <th>18</th>\n",
       "      <td>95242.941216</td>\n",
       "    </tr>\n",
       "    <tr>\n",
       "      <th>19</th>\n",
       "      <td>96169.283529</td>\n",
       "    </tr>\n",
       "    <tr>\n",
       "      <th>20</th>\n",
       "      <td>107623.875614</td>\n",
       "    </tr>\n",
       "    <tr>\n",
       "      <th>21</th>\n",
       "      <td>91947.536576</td>\n",
       "    </tr>\n",
       "    <tr>\n",
       "      <th>22</th>\n",
       "      <td>89035.759495</td>\n",
       "    </tr>\n",
       "    <tr>\n",
       "      <th>23</th>\n",
       "      <td>93252.244018</td>\n",
       "    </tr>\n",
       "    <tr>\n",
       "      <th>24</th>\n",
       "      <td>83176.709507</td>\n",
       "    </tr>\n",
       "    <tr>\n",
       "      <th>25</th>\n",
       "      <td>92007.159171</td>\n",
       "    </tr>\n",
       "    <tr>\n",
       "      <th>26</th>\n",
       "      <td>75171.911041</td>\n",
       "    </tr>\n",
       "    <tr>\n",
       "      <th>27</th>\n",
       "      <td>132115.709459</td>\n",
       "    </tr>\n",
       "    <tr>\n",
       "      <th>28</th>\n",
       "      <td>81944.200236</td>\n",
       "    </tr>\n",
       "    <tr>\n",
       "      <th>29</th>\n",
       "      <td>63011.855905</td>\n",
       "    </tr>\n",
       "  </tbody>\n",
       "</table>\n",
       "</div>"
      ],
      "text/plain": [
       "                price_q_meter\n",
       "cityCenters_km               \n",
       "0               181556.527565\n",
       "1               166005.860733\n",
       "2               144351.656607\n",
       "3               124454.200494\n",
       "4               135857.565210\n",
       "5               145109.824751\n",
       "6               150406.183019\n",
       "7               139439.377743\n",
       "8               121018.442996\n",
       "9               110618.001688\n",
       "10              112211.829606\n",
       "11              107312.991081\n",
       "12              108841.734036\n",
       "13              107720.559557\n",
       "14              105519.261621\n",
       "15              102437.275681\n",
       "16              100629.359950\n",
       "17               94579.736517\n",
       "18               95242.941216\n",
       "19               96169.283529\n",
       "20              107623.875614\n",
       "21               91947.536576\n",
       "22               89035.759495\n",
       "23               93252.244018\n",
       "24               83176.709507\n",
       "25               92007.159171\n",
       "26               75171.911041\n",
       "27              132115.709459\n",
       "28               81944.200236\n",
       "29               63011.855905"
      ]
     },
     "metadata": {},
     "output_type": "display_data"
    },
    {
     "data": {
      "text/plain": [
       "<AxesSubplot:xlabel='cityCenters_km'>"
      ]
     },
     "execution_count": 69,
     "metadata": {},
     "output_type": "execute_result"
    },
    {
     "data": {
      "image/png": "[encoded data removed]",
      "text/plain": [
       "<Figure size 432x288 with 1 Axes>"
      ]
     },
     "metadata": {
      "needs_background": "light"
     },
     "output_type": "display_data"
    }
   ],
   "source": [
    "locality_name_st_Peterburg_pivot = (\n",
    "    data\n",
    "    .query('locality_name == \"Санкт-Петербург\" & cityCenters_km != 100')\n",
    "    .pivot_table(index='cityCenters_km', values='price_q_meter', aggfunc='mean')\n",
    ")\n",
    "display(locality_name_st_Peterburg_pivot)\n",
    "locality_name_st_Peterburg_pivot.plot()"
   ]
  },
  {
   "cell_type": "markdown",
   "metadata": {},
   "source": [
    "**Вывод:** чем дальше от центра, тем ниже стоимость квадратного метра. Однако, после 3-4 км идет взлет цен. Скорее всего, речь идет о \"престижных\" районах, где на стоимость квадратного метра влияют другие факторы. Также на гистограмме фиксируется взлет цен в 25-27 км. В этом радиусе расположены пригороды. На их стоимость, скорее весго, влияют другие факторы, которые в датасете не зафиксированы."
   ]
  },
  {
   "cell_type": "markdown",
   "metadata": {},
   "source": [
    "### Общий вывод"
   ]
  },
  {
   "cell_type": "markdown",
   "metadata": {},
   "source": [
    "В ходе анализа датасета были устранены аномальные значения и скорректированы пропуски. \n",
    "Выявленные закономерности отразили, что на стоимость квартиры наибольшее влияние оказывает общая площадь. Также на стоимость влияет жилая площадь. Такие факторы как количество комнат, этаж в доме, первый или последний этаж в доме существенного влияния на стоимость квартиры не оказывают. Из территориальных факторов, ключевым является только удаленность от центра.\n",
    "Объявления о продаже висят в среднем 3 месяца. Иногда квартиры продаются в течение 1 дня. Длительной продажей можно считать продажу больше 7 месяцев.\n",
    "Дороже квартиры продаются осенью и тогда, когда объявление о продаже выставлено во вторник. Дешевле квартиры стоят поздней весной и когда объявление о продаже оставлено в выходной день.\n",
    "Кроме Санкт-Петербурга по количеству объявлений о продаже лидирует пос. Мурино. \n",
    "Самая большая цена за кв. метр в г. Пушкин, самая низкая - в г. Выборг.\n",
    "Отмечена закономерность, что чем ближе квартра к центру, тем больше стоимость квадратного метра. Однако в границах 3-6 км и 26-27 км, стоимость вновь увеличивается. На это влияют другие факторы, которые в данных не отражены."
   ]
  }
 ],
 "metadata": {
  "ExecuteTimeLog": [
   {
    "duration": 784,
    "start_time": "2022-11-14T07:38:56.066Z"
   },
   {
    "duration": 69,
    "start_time": "2022-11-14T07:42:56.234Z"
   },
   {
    "duration": 3,
    "start_time": "2022-11-14T07:43:00.793Z"
   },
   {
    "duration": 25,
    "start_time": "2022-11-14T07:43:00.798Z"
   },
   {
    "duration": 0,
    "start_time": "2022-11-14T07:43:00.826Z"
   },
   {
    "duration": 3,
    "start_time": "2022-11-14T07:43:17.144Z"
   },
   {
    "duration": 343,
    "start_time": "2022-11-14T07:43:17.148Z"
   },
   {
    "duration": 14,
    "start_time": "2022-11-14T07:43:17.493Z"
   },
   {
    "duration": 9,
    "start_time": "2022-11-14T07:43:39.204Z"
   },
   {
    "duration": 12,
    "start_time": "2022-11-14T07:43:54.453Z"
   },
   {
    "duration": 7,
    "start_time": "2022-11-14T07:44:32.690Z"
   },
   {
    "duration": 48,
    "start_time": "2022-11-14T07:45:09.022Z"
   },
   {
    "duration": 45,
    "start_time": "2022-11-14T07:46:33.269Z"
   },
   {
    "duration": 3,
    "start_time": "2022-11-14T07:46:37.074Z"
   },
   {
    "duration": 45,
    "start_time": "2022-11-14T07:46:37.080Z"
   },
   {
    "duration": 0,
    "start_time": "2022-11-14T07:46:37.127Z"
   },
   {
    "duration": 0,
    "start_time": "2022-11-14T07:46:37.128Z"
   },
   {
    "duration": 45,
    "start_time": "2022-11-14T07:46:58.371Z"
   },
   {
    "duration": 85,
    "start_time": "2022-11-14T07:47:07.196Z"
   },
   {
    "duration": 3,
    "start_time": "2022-11-14T07:47:12.242Z"
   },
   {
    "duration": 90,
    "start_time": "2022-11-14T07:47:12.247Z"
   },
   {
    "duration": 7,
    "start_time": "2022-11-14T07:47:12.339Z"
   },
   {
    "duration": 19,
    "start_time": "2022-11-14T07:47:12.348Z"
   },
   {
    "duration": 89,
    "start_time": "2022-11-14T07:47:48.710Z"
   },
   {
    "duration": 3,
    "start_time": "2022-11-14T07:47:52.077Z"
   },
   {
    "duration": 88,
    "start_time": "2022-11-14T07:47:52.082Z"
   },
   {
    "duration": 28,
    "start_time": "2022-11-14T07:47:52.172Z"
   },
   {
    "duration": 17,
    "start_time": "2022-11-14T07:47:52.202Z"
   },
   {
    "duration": 3,
    "start_time": "2022-11-14T08:24:45.014Z"
   },
   {
    "duration": 110,
    "start_time": "2022-11-14T08:24:45.018Z"
   },
   {
    "duration": 6,
    "start_time": "2022-11-14T08:24:45.130Z"
   },
   {
    "duration": 14,
    "start_time": "2022-11-14T08:24:45.138Z"
   },
   {
    "duration": 87,
    "start_time": "2022-11-14T08:34:43.763Z"
   },
   {
    "duration": 30,
    "start_time": "2022-11-14T08:37:56.876Z"
   },
   {
    "duration": 13,
    "start_time": "2022-11-14T08:40:12.752Z"
   },
   {
    "duration": 11,
    "start_time": "2022-11-14T08:56:01.292Z"
   },
   {
    "duration": 1295,
    "start_time": "2022-11-14T08:57:13.777Z"
   },
   {
    "duration": 3373,
    "start_time": "2022-11-14T08:57:33.584Z"
   },
   {
    "duration": 2030,
    "start_time": "2022-11-14T08:58:12.577Z"
   },
   {
    "duration": 42,
    "start_time": "2022-11-15T14:32:25.251Z"
   },
   {
    "duration": 727,
    "start_time": "2022-11-15T14:32:30.107Z"
   },
   {
    "duration": 138,
    "start_time": "2022-11-15T14:32:30.836Z"
   },
   {
    "duration": 10,
    "start_time": "2022-11-15T14:32:30.976Z"
   },
   {
    "duration": 88,
    "start_time": "2022-11-15T14:32:30.988Z"
   },
   {
    "duration": 37,
    "start_time": "2022-11-15T14:32:31.078Z"
   },
   {
    "duration": 18,
    "start_time": "2022-11-15T14:32:31.116Z"
   },
   {
    "duration": 1904,
    "start_time": "2022-11-15T14:32:31.136Z"
   },
   {
    "duration": 8,
    "start_time": "2022-11-15T14:32:33.042Z"
   },
   {
    "duration": 65,
    "start_time": "2022-11-15T14:49:25.909Z"
   },
   {
    "duration": 37,
    "start_time": "2022-11-15T15:19:48.411Z"
   },
   {
    "duration": 3,
    "start_time": "2022-11-15T15:19:55.068Z"
   },
   {
    "duration": 81,
    "start_time": "2022-11-15T15:19:55.073Z"
   },
   {
    "duration": 8,
    "start_time": "2022-11-15T15:19:55.156Z"
   },
   {
    "duration": 74,
    "start_time": "2022-11-15T15:19:55.166Z"
   },
   {
    "duration": 42,
    "start_time": "2022-11-15T15:19:55.242Z"
   },
   {
    "duration": 8,
    "start_time": "2022-11-15T15:19:55.286Z"
   },
   {
    "duration": 0,
    "start_time": "2022-11-15T15:19:55.296Z"
   },
   {
    "duration": 0,
    "start_time": "2022-11-15T15:19:55.297Z"
   },
   {
    "duration": 0,
    "start_time": "2022-11-15T15:19:55.298Z"
   },
   {
    "duration": 4,
    "start_time": "2022-11-15T15:20:09.143Z"
   },
   {
    "duration": 3,
    "start_time": "2022-11-15T15:20:23.137Z"
   },
   {
    "duration": 5,
    "start_time": "2022-11-15T15:21:39.063Z"
   },
   {
    "duration": 4,
    "start_time": "2022-11-15T15:23:12.513Z"
   },
   {
    "duration": 31,
    "start_time": "2022-11-15T15:24:48.457Z"
   },
   {
    "duration": 11,
    "start_time": "2022-11-15T15:25:07.407Z"
   },
   {
    "duration": 7,
    "start_time": "2022-11-15T15:26:10.359Z"
   },
   {
    "duration": 9,
    "start_time": "2022-11-15T15:26:31.278Z"
   },
   {
    "duration": 15,
    "start_time": "2022-11-15T15:30:27.167Z"
   },
   {
    "duration": 23,
    "start_time": "2022-11-15T15:49:35.987Z"
   },
   {
    "duration": 6,
    "start_time": "2022-11-15T16:00:26.151Z"
   },
   {
    "duration": 7,
    "start_time": "2022-11-15T16:01:26.668Z"
   },
   {
    "duration": 7,
    "start_time": "2022-11-15T16:01:31.819Z"
   },
   {
    "duration": 8,
    "start_time": "2022-11-15T16:03:15.936Z"
   },
   {
    "duration": 8,
    "start_time": "2022-11-15T16:03:21.592Z"
   },
   {
    "duration": 80,
    "start_time": "2022-11-15T16:04:22.996Z"
   },
   {
    "duration": 6,
    "start_time": "2022-11-15T16:04:31.888Z"
   },
   {
    "duration": 7,
    "start_time": "2022-11-15T16:05:25.970Z"
   },
   {
    "duration": 6,
    "start_time": "2022-11-15T16:05:50.254Z"
   },
   {
    "duration": 6,
    "start_time": "2022-11-15T16:43:51.118Z"
   },
   {
    "duration": 36,
    "start_time": "2022-11-15T16:44:05.752Z"
   },
   {
    "duration": 6,
    "start_time": "2022-11-15T16:45:03.225Z"
   },
   {
    "duration": 11,
    "start_time": "2022-11-15T16:55:39.979Z"
   },
   {
    "duration": 10,
    "start_time": "2022-11-15T16:55:57.139Z"
   },
   {
    "duration": 3,
    "start_time": "2022-11-15T16:56:08.589Z"
   },
   {
    "duration": 74,
    "start_time": "2022-11-15T16:56:08.593Z"
   },
   {
    "duration": 6,
    "start_time": "2022-11-15T16:56:08.669Z"
   },
   {
    "duration": 62,
    "start_time": "2022-11-15T16:56:08.676Z"
   },
   {
    "duration": 44,
    "start_time": "2022-11-15T16:56:08.740Z"
   },
   {
    "duration": 16,
    "start_time": "2022-11-15T16:56:08.785Z"
   },
   {
    "duration": 1897,
    "start_time": "2022-11-15T16:56:08.802Z"
   },
   {
    "duration": 8,
    "start_time": "2022-11-15T16:56:10.700Z"
   },
   {
    "duration": 19,
    "start_time": "2022-11-15T16:56:10.709Z"
   },
   {
    "duration": 5,
    "start_time": "2022-11-15T16:56:10.729Z"
   },
   {
    "duration": 12,
    "start_time": "2022-11-15T16:56:10.736Z"
   },
   {
    "duration": 161,
    "start_time": "2022-11-15T17:00:02.541Z"
   },
   {
    "duration": 7,
    "start_time": "2022-11-15T17:10:00.325Z"
   },
   {
    "duration": 25,
    "start_time": "2022-11-15T17:10:11.593Z"
   },
   {
    "duration": 14,
    "start_time": "2022-11-15T17:11:55.371Z"
   },
   {
    "duration": 20,
    "start_time": "2022-11-15T17:13:03.952Z"
   },
   {
    "duration": 3,
    "start_time": "2022-11-15T17:13:09.938Z"
   },
   {
    "duration": 82,
    "start_time": "2022-11-15T17:13:09.943Z"
   },
   {
    "duration": 6,
    "start_time": "2022-11-15T17:13:10.027Z"
   },
   {
    "duration": 81,
    "start_time": "2022-11-15T17:13:10.035Z"
   },
   {
    "duration": 35,
    "start_time": "2022-11-15T17:13:10.118Z"
   },
   {
    "duration": 27,
    "start_time": "2022-11-15T17:13:10.155Z"
   },
   {
    "duration": 1823,
    "start_time": "2022-11-15T17:13:10.184Z"
   },
   {
    "duration": 8,
    "start_time": "2022-11-15T17:13:12.009Z"
   },
   {
    "duration": 32,
    "start_time": "2022-11-15T17:13:12.019Z"
   },
   {
    "duration": 5,
    "start_time": "2022-11-15T17:13:12.052Z"
   },
   {
    "duration": 45,
    "start_time": "2022-11-15T17:13:12.059Z"
   },
   {
    "duration": 27,
    "start_time": "2022-11-15T17:13:36.875Z"
   },
   {
    "duration": 8,
    "start_time": "2022-11-15T17:17:16.078Z"
   },
   {
    "duration": 25,
    "start_time": "2022-11-15T17:20:17.281Z"
   },
   {
    "duration": 8,
    "start_time": "2022-11-15T17:30:15.026Z"
   },
   {
    "duration": 71,
    "start_time": "2022-11-15T17:34:06.045Z"
   },
   {
    "duration": 92,
    "start_time": "2022-11-15T17:34:13.775Z"
   },
   {
    "duration": 3,
    "start_time": "2022-11-15T17:34:56.764Z"
   },
   {
    "duration": 75,
    "start_time": "2022-11-15T17:34:56.768Z"
   },
   {
    "duration": 6,
    "start_time": "2022-11-15T17:34:56.844Z"
   },
   {
    "duration": 59,
    "start_time": "2022-11-15T17:34:56.851Z"
   },
   {
    "duration": 38,
    "start_time": "2022-11-15T17:34:56.912Z"
   },
   {
    "duration": 13,
    "start_time": "2022-11-15T17:34:56.951Z"
   },
   {
    "duration": 21,
    "start_time": "2022-11-15T17:34:56.966Z"
   },
   {
    "duration": 19,
    "start_time": "2022-11-15T17:34:56.988Z"
   },
   {
    "duration": 6,
    "start_time": "2022-11-15T17:34:57.009Z"
   },
   {
    "duration": 24,
    "start_time": "2022-11-15T17:34:57.016Z"
   },
   {
    "duration": 40,
    "start_time": "2022-11-15T17:34:57.043Z"
   },
   {
    "duration": 79,
    "start_time": "2022-11-15T17:34:57.084Z"
   },
   {
    "duration": 122,
    "start_time": "2022-11-15T17:35:10.744Z"
   },
   {
    "duration": 3,
    "start_time": "2022-11-15T17:35:15.469Z"
   },
   {
    "duration": 81,
    "start_time": "2022-11-15T17:35:15.474Z"
   },
   {
    "duration": 7,
    "start_time": "2022-11-15T17:35:15.556Z"
   },
   {
    "duration": 64,
    "start_time": "2022-11-15T17:35:15.564Z"
   },
   {
    "duration": 38,
    "start_time": "2022-11-15T17:35:15.629Z"
   },
   {
    "duration": 20,
    "start_time": "2022-11-15T17:35:15.669Z"
   },
   {
    "duration": 8,
    "start_time": "2022-11-15T17:35:15.690Z"
   },
   {
    "duration": 20,
    "start_time": "2022-11-15T17:35:15.700Z"
   },
   {
    "duration": 8,
    "start_time": "2022-11-15T17:35:15.722Z"
   },
   {
    "duration": 50,
    "start_time": "2022-11-15T17:35:15.731Z"
   },
   {
    "duration": 14,
    "start_time": "2022-11-15T17:35:15.783Z"
   },
   {
    "duration": 141,
    "start_time": "2022-11-15T17:35:15.799Z"
   },
   {
    "duration": 9,
    "start_time": "2022-11-15T17:35:55.077Z"
   },
   {
    "duration": 33,
    "start_time": "2022-11-15T17:36:27.946Z"
   },
   {
    "duration": 54,
    "start_time": "2022-11-15T20:26:13.127Z"
   },
   {
    "duration": 775,
    "start_time": "2022-11-15T20:26:16.083Z"
   },
   {
    "duration": 306,
    "start_time": "2022-11-15T20:26:16.860Z"
   },
   {
    "duration": 10,
    "start_time": "2022-11-15T20:26:17.168Z"
   },
   {
    "duration": 74,
    "start_time": "2022-11-15T20:26:17.180Z"
   },
   {
    "duration": 36,
    "start_time": "2022-11-15T20:26:17.256Z"
   },
   {
    "duration": 38,
    "start_time": "2022-11-15T20:26:17.293Z"
   },
   {
    "duration": 10,
    "start_time": "2022-11-15T20:26:17.332Z"
   },
   {
    "duration": 22,
    "start_time": "2022-11-15T20:26:17.343Z"
   },
   {
    "duration": 7,
    "start_time": "2022-11-15T20:26:17.366Z"
   },
   {
    "duration": 157,
    "start_time": "2022-11-15T20:26:17.375Z"
   },
   {
    "duration": 25,
    "start_time": "2022-11-15T20:26:17.534Z"
   },
   {
    "duration": 17,
    "start_time": "2022-11-15T20:26:17.561Z"
   },
   {
    "duration": 47,
    "start_time": "2022-11-15T20:26:17.580Z"
   },
   {
    "duration": 116,
    "start_time": "2022-11-15T20:27:37.301Z"
   },
   {
    "duration": 131,
    "start_time": "2022-11-15T20:27:56.345Z"
   },
   {
    "duration": 189,
    "start_time": "2022-11-15T20:28:16.404Z"
   },
   {
    "duration": 212,
    "start_time": "2022-11-15T20:28:23.967Z"
   },
   {
    "duration": 131,
    "start_time": "2022-11-15T20:28:31.036Z"
   },
   {
    "duration": 149,
    "start_time": "2022-11-15T20:28:42.992Z"
   },
   {
    "duration": 130,
    "start_time": "2022-11-15T20:28:51.690Z"
   },
   {
    "duration": 139,
    "start_time": "2022-11-15T20:29:01.380Z"
   },
   {
    "duration": 133,
    "start_time": "2022-11-15T20:29:06.012Z"
   },
   {
    "duration": 134,
    "start_time": "2022-11-15T20:30:12.976Z"
   },
   {
    "duration": 130,
    "start_time": "2022-11-15T20:31:02.425Z"
   },
   {
    "duration": 137,
    "start_time": "2022-11-15T20:31:12.672Z"
   },
   {
    "duration": 52,
    "start_time": "2022-11-15T20:31:29.241Z"
   },
   {
    "duration": 8,
    "start_time": "2022-11-15T20:31:45.417Z"
   },
   {
    "duration": 9,
    "start_time": "2022-11-15T20:31:52.733Z"
   },
   {
    "duration": 10,
    "start_time": "2022-11-15T20:33:35.354Z"
   },
   {
    "duration": 12,
    "start_time": "2022-11-15T20:34:16.207Z"
   },
   {
    "duration": 11,
    "start_time": "2022-11-15T20:34:34.703Z"
   },
   {
    "duration": 11,
    "start_time": "2022-11-15T20:34:42.269Z"
   },
   {
    "duration": 644,
    "start_time": "2022-11-15T20:34:47.116Z"
   },
   {
    "duration": 9,
    "start_time": "2022-11-15T20:35:09.084Z"
   },
   {
    "duration": 53,
    "start_time": "2022-11-15T20:39:42.409Z"
   },
   {
    "duration": 26,
    "start_time": "2022-11-15T21:08:33.636Z"
   },
   {
    "duration": 6,
    "start_time": "2022-11-15T21:08:43.588Z"
   },
   {
    "duration": 27,
    "start_time": "2022-11-15T21:09:04.049Z"
   },
   {
    "duration": 28,
    "start_time": "2022-11-15T21:09:24.277Z"
   },
   {
    "duration": 12,
    "start_time": "2022-11-15T21:11:07.431Z"
   },
   {
    "duration": 3,
    "start_time": "2022-11-15T21:11:26.368Z"
   },
   {
    "duration": 85,
    "start_time": "2022-11-15T21:11:26.373Z"
   },
   {
    "duration": 7,
    "start_time": "2022-11-15T21:11:26.459Z"
   },
   {
    "duration": 90,
    "start_time": "2022-11-15T21:11:26.468Z"
   },
   {
    "duration": 45,
    "start_time": "2022-11-15T21:11:26.560Z"
   },
   {
    "duration": 19,
    "start_time": "2022-11-15T21:11:26.620Z"
   },
   {
    "duration": 12,
    "start_time": "2022-11-15T21:11:26.642Z"
   },
   {
    "duration": 32,
    "start_time": "2022-11-15T21:11:26.656Z"
   },
   {
    "duration": 31,
    "start_time": "2022-11-15T21:11:26.691Z"
   },
   {
    "duration": 15,
    "start_time": "2022-11-15T21:11:26.724Z"
   },
   {
    "duration": 33,
    "start_time": "2022-11-15T21:11:26.741Z"
   },
   {
    "duration": 41,
    "start_time": "2022-11-15T21:11:26.776Z"
   },
   {
    "duration": 28,
    "start_time": "2022-11-15T21:11:26.818Z"
   },
   {
    "duration": 23,
    "start_time": "2022-11-15T21:11:26.848Z"
   },
   {
    "duration": 48,
    "start_time": "2022-11-15T21:11:26.872Z"
   },
   {
    "duration": 11,
    "start_time": "2022-11-15T21:11:26.922Z"
   },
   {
    "duration": 12,
    "start_time": "2022-11-15T21:11:45.487Z"
   },
   {
    "duration": 11,
    "start_time": "2022-11-15T21:11:53.932Z"
   },
   {
    "duration": 12,
    "start_time": "2022-11-15T21:12:08.568Z"
   },
   {
    "duration": 3,
    "start_time": "2022-11-15T21:12:11.432Z"
   },
   {
    "duration": 90,
    "start_time": "2022-11-15T21:12:11.437Z"
   },
   {
    "duration": 7,
    "start_time": "2022-11-15T21:12:11.528Z"
   },
   {
    "duration": 74,
    "start_time": "2022-11-15T21:12:11.536Z"
   },
   {
    "duration": 37,
    "start_time": "2022-11-15T21:12:11.612Z"
   },
   {
    "duration": 14,
    "start_time": "2022-11-15T21:12:11.651Z"
   },
   {
    "duration": 9,
    "start_time": "2022-11-15T21:12:11.666Z"
   },
   {
    "duration": 48,
    "start_time": "2022-11-15T21:12:11.676Z"
   },
   {
    "duration": 6,
    "start_time": "2022-11-15T21:12:11.726Z"
   },
   {
    "duration": 9,
    "start_time": "2022-11-15T21:12:11.734Z"
   },
   {
    "duration": 23,
    "start_time": "2022-11-15T21:12:11.744Z"
   },
   {
    "duration": 17,
    "start_time": "2022-11-15T21:12:11.769Z"
   },
   {
    "duration": 29,
    "start_time": "2022-11-15T21:12:11.819Z"
   },
   {
    "duration": 24,
    "start_time": "2022-11-15T21:12:11.850Z"
   },
   {
    "duration": 40,
    "start_time": "2022-11-15T21:12:11.875Z"
   },
   {
    "duration": 10,
    "start_time": "2022-11-15T21:12:11.917Z"
   },
   {
    "duration": 25,
    "start_time": "2022-11-15T21:13:48.521Z"
   },
   {
    "duration": 25,
    "start_time": "2022-11-15T21:13:58.891Z"
   },
   {
    "duration": 2,
    "start_time": "2022-11-15T21:14:02.040Z"
   },
   {
    "duration": 102,
    "start_time": "2022-11-15T21:14:02.044Z"
   },
   {
    "duration": 9,
    "start_time": "2022-11-15T21:14:02.148Z"
   },
   {
    "duration": 85,
    "start_time": "2022-11-15T21:14:02.159Z"
   },
   {
    "duration": 37,
    "start_time": "2022-11-15T21:14:02.246Z"
   },
   {
    "duration": 40,
    "start_time": "2022-11-15T21:14:02.285Z"
   },
   {
    "duration": 13,
    "start_time": "2022-11-15T21:14:02.327Z"
   },
   {
    "duration": 37,
    "start_time": "2022-11-15T21:14:02.342Z"
   },
   {
    "duration": 28,
    "start_time": "2022-11-15T21:14:02.381Z"
   },
   {
    "duration": 33,
    "start_time": "2022-11-15T21:14:02.411Z"
   },
   {
    "duration": 47,
    "start_time": "2022-11-15T21:14:02.446Z"
   },
   {
    "duration": 35,
    "start_time": "2022-11-15T21:14:02.495Z"
   },
   {
    "duration": 37,
    "start_time": "2022-11-15T21:14:02.532Z"
   },
   {
    "duration": 27,
    "start_time": "2022-11-15T21:14:02.570Z"
   },
   {
    "duration": 29,
    "start_time": "2022-11-15T21:14:02.598Z"
   },
   {
    "duration": 12,
    "start_time": "2022-11-15T21:14:02.629Z"
   },
   {
    "duration": 24,
    "start_time": "2022-11-15T21:15:03.835Z"
   },
   {
    "duration": 6,
    "start_time": "2022-11-15T21:17:20.256Z"
   },
   {
    "duration": 23,
    "start_time": "2022-11-15T21:17:32.851Z"
   },
   {
    "duration": 11,
    "start_time": "2022-11-15T21:19:02.404Z"
   },
   {
    "duration": 27,
    "start_time": "2022-11-15T21:19:13.616Z"
   },
   {
    "duration": 25,
    "start_time": "2022-11-15T21:19:24.811Z"
   },
   {
    "duration": 2,
    "start_time": "2022-11-15T21:19:27.400Z"
   },
   {
    "duration": 85,
    "start_time": "2022-11-15T21:19:27.404Z"
   },
   {
    "duration": 7,
    "start_time": "2022-11-15T21:19:27.491Z"
   },
   {
    "duration": 74,
    "start_time": "2022-11-15T21:19:27.499Z"
   },
   {
    "duration": 39,
    "start_time": "2022-11-15T21:19:27.576Z"
   },
   {
    "duration": 20,
    "start_time": "2022-11-15T21:19:27.617Z"
   },
   {
    "duration": 10,
    "start_time": "2022-11-15T21:19:27.638Z"
   },
   {
    "duration": 22,
    "start_time": "2022-11-15T21:19:27.649Z"
   },
   {
    "duration": 8,
    "start_time": "2022-11-15T21:19:27.673Z"
   },
   {
    "duration": 36,
    "start_time": "2022-11-15T21:19:27.683Z"
   },
   {
    "duration": 24,
    "start_time": "2022-11-15T21:19:27.720Z"
   },
   {
    "duration": 18,
    "start_time": "2022-11-15T21:19:27.746Z"
   },
   {
    "duration": 49,
    "start_time": "2022-11-15T21:19:27.767Z"
   },
   {
    "duration": 23,
    "start_time": "2022-11-15T21:19:27.818Z"
   },
   {
    "duration": 23,
    "start_time": "2022-11-15T21:19:27.842Z"
   },
   {
    "duration": 25,
    "start_time": "2022-11-15T21:19:27.866Z"
   },
   {
    "duration": 28,
    "start_time": "2022-11-15T21:19:53.976Z"
   },
   {
    "duration": 25,
    "start_time": "2022-11-15T21:20:31.064Z"
   },
   {
    "duration": 28,
    "start_time": "2022-11-15T21:28:10.630Z"
   },
   {
    "duration": 2,
    "start_time": "2022-11-15T21:30:52.528Z"
   },
   {
    "duration": 90,
    "start_time": "2022-11-15T21:30:52.532Z"
   },
   {
    "duration": 7,
    "start_time": "2022-11-15T21:30:52.624Z"
   },
   {
    "duration": 82,
    "start_time": "2022-11-15T21:30:52.633Z"
   },
   {
    "duration": 43,
    "start_time": "2022-11-15T21:30:52.717Z"
   },
   {
    "duration": 13,
    "start_time": "2022-11-15T21:30:52.762Z"
   },
   {
    "duration": 9,
    "start_time": "2022-11-15T21:30:52.779Z"
   },
   {
    "duration": 42,
    "start_time": "2022-11-15T21:30:52.789Z"
   },
   {
    "duration": 7,
    "start_time": "2022-11-15T21:30:52.832Z"
   },
   {
    "duration": 13,
    "start_time": "2022-11-15T21:30:52.841Z"
   },
   {
    "duration": 29,
    "start_time": "2022-11-15T21:30:52.856Z"
   },
   {
    "duration": 38,
    "start_time": "2022-11-15T21:30:52.887Z"
   },
   {
    "duration": 28,
    "start_time": "2022-11-15T21:30:52.927Z"
   },
   {
    "duration": 25,
    "start_time": "2022-11-15T21:30:52.957Z"
   },
   {
    "duration": 50,
    "start_time": "2022-11-15T21:30:52.984Z"
   },
   {
    "duration": 46564,
    "start_time": "2022-11-15T21:30:53.036Z"
   },
   {
    "duration": 43,
    "start_time": "2022-11-15T21:31:39.602Z"
   },
   {
    "duration": 44,
    "start_time": "2022-11-16T05:35:14.064Z"
   },
   {
    "duration": 729,
    "start_time": "2022-11-16T05:35:16.940Z"
   },
   {
    "duration": 310,
    "start_time": "2022-11-16T05:35:17.671Z"
   },
   {
    "duration": 10,
    "start_time": "2022-11-16T05:35:17.983Z"
   },
   {
    "duration": 71,
    "start_time": "2022-11-16T05:35:17.994Z"
   },
   {
    "duration": 34,
    "start_time": "2022-11-16T05:35:18.067Z"
   },
   {
    "duration": 21,
    "start_time": "2022-11-16T05:35:18.103Z"
   },
   {
    "duration": 8,
    "start_time": "2022-11-16T05:35:18.125Z"
   },
   {
    "duration": 22,
    "start_time": "2022-11-16T05:35:18.135Z"
   },
   {
    "duration": 6,
    "start_time": "2022-11-16T05:35:18.159Z"
   },
   {
    "duration": 8,
    "start_time": "2022-11-16T05:35:18.167Z"
   },
   {
    "duration": 50,
    "start_time": "2022-11-16T05:35:18.176Z"
   },
   {
    "duration": 16,
    "start_time": "2022-11-16T05:35:18.227Z"
   },
   {
    "duration": 27,
    "start_time": "2022-11-16T05:35:18.244Z"
   },
   {
    "duration": 22,
    "start_time": "2022-11-16T05:35:18.273Z"
   },
   {
    "duration": 46,
    "start_time": "2022-11-16T05:35:18.296Z"
   },
   {
    "duration": 2,
    "start_time": "2022-11-16T05:36:44.151Z"
   },
   {
    "duration": 78,
    "start_time": "2022-11-16T05:36:44.154Z"
   },
   {
    "duration": 6,
    "start_time": "2022-11-16T05:36:44.234Z"
   },
   {
    "duration": 69,
    "start_time": "2022-11-16T05:36:44.241Z"
   },
   {
    "duration": 41,
    "start_time": "2022-11-16T05:36:44.311Z"
   },
   {
    "duration": 13,
    "start_time": "2022-11-16T05:36:44.355Z"
   },
   {
    "duration": 8,
    "start_time": "2022-11-16T05:36:44.370Z"
   },
   {
    "duration": 49,
    "start_time": "2022-11-16T05:36:44.379Z"
   },
   {
    "duration": 7,
    "start_time": "2022-11-16T05:36:44.430Z"
   },
   {
    "duration": 9,
    "start_time": "2022-11-16T05:36:44.438Z"
   },
   {
    "duration": 31,
    "start_time": "2022-11-16T05:36:44.449Z"
   },
   {
    "duration": 47,
    "start_time": "2022-11-16T05:36:44.482Z"
   },
   {
    "duration": 26,
    "start_time": "2022-11-16T05:36:44.530Z"
   },
   {
    "duration": 24,
    "start_time": "2022-11-16T05:36:44.558Z"
   },
   {
    "duration": 41,
    "start_time": "2022-11-16T05:36:44.584Z"
   },
   {
    "duration": 22,
    "start_time": "2022-11-16T05:36:44.627Z"
   },
   {
    "duration": 3,
    "start_time": "2022-11-16T05:40:37.271Z"
   },
   {
    "duration": 88,
    "start_time": "2022-11-16T05:40:37.276Z"
   },
   {
    "duration": 7,
    "start_time": "2022-11-16T05:40:37.365Z"
   },
   {
    "duration": 73,
    "start_time": "2022-11-16T05:40:37.374Z"
   },
   {
    "duration": 37,
    "start_time": "2022-11-16T05:40:37.448Z"
   },
   {
    "duration": 15,
    "start_time": "2022-11-16T05:40:37.486Z"
   },
   {
    "duration": 23,
    "start_time": "2022-11-16T05:40:37.503Z"
   },
   {
    "duration": 21,
    "start_time": "2022-11-16T05:40:37.529Z"
   },
   {
    "duration": 6,
    "start_time": "2022-11-16T05:40:37.552Z"
   },
   {
    "duration": 8,
    "start_time": "2022-11-16T05:40:37.560Z"
   },
   {
    "duration": 22,
    "start_time": "2022-11-16T05:40:37.570Z"
   },
   {
    "duration": 18,
    "start_time": "2022-11-16T05:40:37.621Z"
   },
   {
    "duration": 27,
    "start_time": "2022-11-16T05:40:37.640Z"
   },
   {
    "duration": 30,
    "start_time": "2022-11-16T05:40:37.669Z"
   },
   {
    "duration": 37,
    "start_time": "2022-11-16T05:40:37.700Z"
   },
   {
    "duration": 24,
    "start_time": "2022-11-16T05:40:37.739Z"
   },
   {
    "duration": 2,
    "start_time": "2022-11-16T05:41:20.200Z"
   },
   {
    "duration": 92,
    "start_time": "2022-11-16T05:41:20.203Z"
   },
   {
    "duration": 6,
    "start_time": "2022-11-16T05:41:20.297Z"
   },
   {
    "duration": 74,
    "start_time": "2022-11-16T05:41:20.304Z"
   },
   {
    "duration": 42,
    "start_time": "2022-11-16T05:41:20.379Z"
   },
   {
    "duration": 13,
    "start_time": "2022-11-16T05:41:20.422Z"
   },
   {
    "duration": 11,
    "start_time": "2022-11-16T05:41:20.437Z"
   },
   {
    "duration": 24,
    "start_time": "2022-11-16T05:41:20.450Z"
   },
   {
    "duration": 7,
    "start_time": "2022-11-16T05:41:20.475Z"
   },
   {
    "duration": 39,
    "start_time": "2022-11-16T05:41:20.483Z"
   },
   {
    "duration": 24,
    "start_time": "2022-11-16T05:41:20.525Z"
   },
   {
    "duration": 21,
    "start_time": "2022-11-16T05:41:20.551Z"
   },
   {
    "duration": 56,
    "start_time": "2022-11-16T05:41:20.573Z"
   },
   {
    "duration": 23,
    "start_time": "2022-11-16T05:41:20.630Z"
   },
   {
    "duration": 22,
    "start_time": "2022-11-16T05:41:20.655Z"
   },
   {
    "duration": 43,
    "start_time": "2022-11-16T05:41:20.679Z"
   },
   {
    "duration": 42603,
    "start_time": "2022-11-16T05:41:20.724Z"
   },
   {
    "duration": 28,
    "start_time": "2022-11-16T05:42:41.513Z"
   },
   {
    "duration": 0,
    "start_time": "2022-11-16T05:44:28.399Z"
   },
   {
    "duration": 0,
    "start_time": "2022-11-16T05:44:28.400Z"
   },
   {
    "duration": 0,
    "start_time": "2022-11-16T05:44:28.400Z"
   },
   {
    "duration": 0,
    "start_time": "2022-11-16T05:44:28.401Z"
   },
   {
    "duration": 0,
    "start_time": "2022-11-16T05:44:28.402Z"
   },
   {
    "duration": 0,
    "start_time": "2022-11-16T05:44:28.403Z"
   },
   {
    "duration": 0,
    "start_time": "2022-11-16T05:44:28.404Z"
   },
   {
    "duration": 0,
    "start_time": "2022-11-16T05:44:28.405Z"
   },
   {
    "duration": 0,
    "start_time": "2022-11-16T05:44:28.406Z"
   },
   {
    "duration": 0,
    "start_time": "2022-11-16T05:44:28.408Z"
   },
   {
    "duration": 0,
    "start_time": "2022-11-16T05:44:28.409Z"
   },
   {
    "duration": 0,
    "start_time": "2022-11-16T05:44:28.410Z"
   },
   {
    "duration": 0,
    "start_time": "2022-11-16T05:44:28.411Z"
   },
   {
    "duration": 0,
    "start_time": "2022-11-16T05:44:28.412Z"
   },
   {
    "duration": 0,
    "start_time": "2022-11-16T05:44:28.413Z"
   },
   {
    "duration": 0,
    "start_time": "2022-11-16T05:44:28.414Z"
   },
   {
    "duration": 0,
    "start_time": "2022-11-16T05:44:28.415Z"
   },
   {
    "duration": 0,
    "start_time": "2022-11-16T05:44:28.416Z"
   },
   {
    "duration": 3,
    "start_time": "2022-11-16T05:47:58.650Z"
   },
   {
    "duration": 83,
    "start_time": "2022-11-16T05:47:58.654Z"
   },
   {
    "duration": 6,
    "start_time": "2022-11-16T05:47:58.739Z"
   },
   {
    "duration": 78,
    "start_time": "2022-11-16T05:47:58.747Z"
   },
   {
    "duration": 36,
    "start_time": "2022-11-16T05:47:58.827Z"
   },
   {
    "duration": 12,
    "start_time": "2022-11-16T05:47:58.864Z"
   },
   {
    "duration": 8,
    "start_time": "2022-11-16T05:47:58.878Z"
   },
   {
    "duration": 45,
    "start_time": "2022-11-16T05:47:58.887Z"
   },
   {
    "duration": 6,
    "start_time": "2022-11-16T05:47:58.934Z"
   },
   {
    "duration": 10,
    "start_time": "2022-11-16T05:47:58.942Z"
   },
   {
    "duration": 22,
    "start_time": "2022-11-16T05:47:58.954Z"
   },
   {
    "duration": 16,
    "start_time": "2022-11-16T05:47:58.978Z"
   },
   {
    "duration": 50,
    "start_time": "2022-11-16T05:47:58.996Z"
   },
   {
    "duration": 26,
    "start_time": "2022-11-16T05:47:59.047Z"
   },
   {
    "duration": 21,
    "start_time": "2022-11-16T05:47:59.074Z"
   },
   {
    "duration": 39,
    "start_time": "2022-11-16T05:47:59.097Z"
   },
   {
    "duration": 852,
    "start_time": "2022-11-16T05:47:59.137Z"
   },
   {
    "duration": 0,
    "start_time": "2022-11-16T05:47:59.991Z"
   },
   {
    "duration": 36,
    "start_time": "2022-11-16T05:49:53.442Z"
   },
   {
    "duration": 681,
    "start_time": "2022-11-16T05:49:58.540Z"
   },
   {
    "duration": 22,
    "start_time": "2022-11-16T05:53:41.745Z"
   },
   {
    "duration": 23,
    "start_time": "2022-11-16T05:53:55.592Z"
   },
   {
    "duration": 737,
    "start_time": "2022-11-16T05:53:57.824Z"
   },
   {
    "duration": 25,
    "start_time": "2022-11-16T05:54:26.935Z"
   },
   {
    "duration": 853,
    "start_time": "2022-11-16T19:26:46.427Z"
   },
   {
    "duration": 320,
    "start_time": "2022-11-16T19:26:47.282Z"
   },
   {
    "duration": 12,
    "start_time": "2022-11-16T19:26:47.604Z"
   },
   {
    "duration": 103,
    "start_time": "2022-11-16T19:26:47.618Z"
   },
   {
    "duration": 40,
    "start_time": "2022-11-16T19:26:47.723Z"
   },
   {
    "duration": 15,
    "start_time": "2022-11-16T19:26:47.765Z"
   },
   {
    "duration": 18,
    "start_time": "2022-11-16T19:26:47.782Z"
   },
   {
    "duration": 47,
    "start_time": "2022-11-16T19:26:47.801Z"
   },
   {
    "duration": 7,
    "start_time": "2022-11-16T19:26:47.850Z"
   },
   {
    "duration": 26,
    "start_time": "2022-11-16T19:26:47.859Z"
   },
   {
    "duration": 48,
    "start_time": "2022-11-16T19:26:47.887Z"
   },
   {
    "duration": 19,
    "start_time": "2022-11-16T19:26:47.937Z"
   },
   {
    "duration": 43,
    "start_time": "2022-11-16T19:26:47.958Z"
   },
   {
    "duration": 30,
    "start_time": "2022-11-16T19:26:48.011Z"
   },
   {
    "duration": 30,
    "start_time": "2022-11-16T19:26:48.043Z"
   },
   {
    "duration": 49,
    "start_time": "2022-11-16T19:26:48.075Z"
   },
   {
    "duration": 751,
    "start_time": "2022-11-16T19:26:48.126Z"
   },
   {
    "duration": 0,
    "start_time": "2022-11-16T19:26:48.879Z"
   },
   {
    "duration": 8,
    "start_time": "2022-11-16T19:27:25.919Z"
   },
   {
    "duration": 8,
    "start_time": "2022-11-16T19:27:46.840Z"
   },
   {
    "duration": 10,
    "start_time": "2022-11-16T19:28:28.448Z"
   },
   {
    "duration": 8,
    "start_time": "2022-11-16T19:28:52.751Z"
   },
   {
    "duration": 46,
    "start_time": "2022-11-16T19:29:04.499Z"
   },
   {
    "duration": 50,
    "start_time": "2022-11-16T19:29:09.977Z"
   },
   {
    "duration": 8,
    "start_time": "2022-11-16T19:29:19.888Z"
   },
   {
    "duration": 7,
    "start_time": "2022-11-16T19:35:01.139Z"
   },
   {
    "duration": 8,
    "start_time": "2022-11-16T19:35:17.305Z"
   },
   {
    "duration": 7,
    "start_time": "2022-11-16T19:35:18.458Z"
   },
   {
    "duration": 3,
    "start_time": "2022-11-16T19:35:23.631Z"
   },
   {
    "duration": 95,
    "start_time": "2022-11-16T19:35:23.636Z"
   },
   {
    "duration": 7,
    "start_time": "2022-11-16T19:35:23.732Z"
   },
   {
    "duration": 84,
    "start_time": "2022-11-16T19:35:23.741Z"
   },
   {
    "duration": 38,
    "start_time": "2022-11-16T19:35:23.826Z"
   },
   {
    "duration": 16,
    "start_time": "2022-11-16T19:35:23.867Z"
   },
   {
    "duration": 29,
    "start_time": "2022-11-16T19:35:23.884Z"
   },
   {
    "duration": 28,
    "start_time": "2022-11-16T19:35:23.915Z"
   },
   {
    "duration": 8,
    "start_time": "2022-11-16T19:35:23.946Z"
   },
   {
    "duration": 10,
    "start_time": "2022-11-16T19:35:23.956Z"
   },
   {
    "duration": 57,
    "start_time": "2022-11-16T19:35:23.967Z"
   },
   {
    "duration": 17,
    "start_time": "2022-11-16T19:35:24.026Z"
   },
   {
    "duration": 29,
    "start_time": "2022-11-16T19:35:24.045Z"
   },
   {
    "duration": 48,
    "start_time": "2022-11-16T19:35:24.076Z"
   },
   {
    "duration": 26,
    "start_time": "2022-11-16T19:35:24.125Z"
   },
   {
    "duration": 27,
    "start_time": "2022-11-16T19:35:24.152Z"
   },
   {
    "duration": 46,
    "start_time": "2022-11-16T19:35:24.181Z"
   },
   {
    "duration": 25,
    "start_time": "2022-11-16T19:35:24.229Z"
   },
   {
    "duration": 27,
    "start_time": "2022-11-16T19:35:38.180Z"
   },
   {
    "duration": 34,
    "start_time": "2022-11-16T19:35:58.187Z"
   },
   {
    "duration": 34,
    "start_time": "2022-11-16T19:37:15.090Z"
   },
   {
    "duration": 30,
    "start_time": "2022-11-16T19:37:24.203Z"
   },
   {
    "duration": 25,
    "start_time": "2022-11-16T19:37:43.967Z"
   },
   {
    "duration": 2,
    "start_time": "2022-11-16T19:37:48.363Z"
   },
   {
    "duration": 89,
    "start_time": "2022-11-16T19:37:48.367Z"
   },
   {
    "duration": 6,
    "start_time": "2022-11-16T19:37:48.458Z"
   },
   {
    "duration": 80,
    "start_time": "2022-11-16T19:37:48.466Z"
   },
   {
    "duration": 38,
    "start_time": "2022-11-16T19:37:48.547Z"
   },
   {
    "duration": 25,
    "start_time": "2022-11-16T19:37:48.587Z"
   },
   {
    "duration": 9,
    "start_time": "2022-11-16T19:37:48.614Z"
   },
   {
    "duration": 30,
    "start_time": "2022-11-16T19:37:48.624Z"
   },
   {
    "duration": 6,
    "start_time": "2022-11-16T19:37:48.657Z"
   },
   {
    "duration": 9,
    "start_time": "2022-11-16T19:37:48.665Z"
   },
   {
    "duration": 49,
    "start_time": "2022-11-16T19:37:48.676Z"
   },
   {
    "duration": 17,
    "start_time": "2022-11-16T19:37:48.726Z"
   },
   {
    "duration": 30,
    "start_time": "2022-11-16T19:37:48.745Z"
   },
   {
    "duration": 47,
    "start_time": "2022-11-16T19:37:48.777Z"
   },
   {
    "duration": 25,
    "start_time": "2022-11-16T19:37:48.826Z"
   },
   {
    "duration": 25,
    "start_time": "2022-11-16T19:37:48.853Z"
   },
   {
    "duration": 60,
    "start_time": "2022-11-16T19:37:48.880Z"
   },
   {
    "duration": 24,
    "start_time": "2022-11-16T19:37:48.942Z"
   },
   {
    "duration": 15,
    "start_time": "2022-11-16T19:39:37.298Z"
   },
   {
    "duration": 13,
    "start_time": "2022-11-16T19:39:45.022Z"
   },
   {
    "duration": 3,
    "start_time": "2022-11-16T19:40:09.192Z"
   },
   {
    "duration": 125,
    "start_time": "2022-11-16T19:40:09.196Z"
   },
   {
    "duration": 8,
    "start_time": "2022-11-16T19:40:09.323Z"
   },
   {
    "duration": 94,
    "start_time": "2022-11-16T19:40:09.332Z"
   },
   {
    "duration": 39,
    "start_time": "2022-11-16T19:40:09.428Z"
   },
   {
    "duration": 35,
    "start_time": "2022-11-16T19:40:09.469Z"
   },
   {
    "duration": 44,
    "start_time": "2022-11-16T19:40:09.505Z"
   },
   {
    "duration": 43,
    "start_time": "2022-11-16T19:40:09.550Z"
   },
   {
    "duration": 25,
    "start_time": "2022-11-16T19:40:09.595Z"
   },
   {
    "duration": 66,
    "start_time": "2022-11-16T19:40:09.622Z"
   },
   {
    "duration": 34,
    "start_time": "2022-11-16T19:40:09.691Z"
   },
   {
    "duration": 17,
    "start_time": "2022-11-16T19:40:09.727Z"
   },
   {
    "duration": 44,
    "start_time": "2022-11-16T19:40:09.746Z"
   },
   {
    "duration": 69,
    "start_time": "2022-11-16T19:40:09.792Z"
   },
   {
    "duration": 35,
    "start_time": "2022-11-16T19:40:09.862Z"
   },
   {
    "duration": 57,
    "start_time": "2022-11-16T19:40:09.899Z"
   },
   {
    "duration": 109,
    "start_time": "2022-11-16T19:40:09.958Z"
   },
   {
    "duration": 54,
    "start_time": "2022-11-16T19:40:10.069Z"
   },
   {
    "duration": 29,
    "start_time": "2022-11-16T19:40:10.125Z"
   },
   {
    "duration": 13,
    "start_time": "2022-11-16T19:40:26.771Z"
   },
   {
    "duration": 25,
    "start_time": "2022-11-16T19:47:05.305Z"
   },
   {
    "duration": 21,
    "start_time": "2022-11-16T19:47:58.183Z"
   },
   {
    "duration": 3,
    "start_time": "2022-11-16T19:48:01.934Z"
   },
   {
    "duration": 124,
    "start_time": "2022-11-16T19:48:01.944Z"
   },
   {
    "duration": 8,
    "start_time": "2022-11-16T19:48:02.071Z"
   },
   {
    "duration": 98,
    "start_time": "2022-11-16T19:48:02.081Z"
   },
   {
    "duration": 53,
    "start_time": "2022-11-16T19:48:02.182Z"
   },
   {
    "duration": 15,
    "start_time": "2022-11-16T19:48:02.237Z"
   },
   {
    "duration": 9,
    "start_time": "2022-11-16T19:48:02.254Z"
   },
   {
    "duration": 48,
    "start_time": "2022-11-16T19:48:02.265Z"
   },
   {
    "duration": 8,
    "start_time": "2022-11-16T19:48:02.315Z"
   },
   {
    "duration": 12,
    "start_time": "2022-11-16T19:48:02.324Z"
   },
   {
    "duration": 27,
    "start_time": "2022-11-16T19:48:02.338Z"
   },
   {
    "duration": 54,
    "start_time": "2022-11-16T19:48:02.367Z"
   },
   {
    "duration": 40,
    "start_time": "2022-11-16T19:48:02.423Z"
   },
   {
    "duration": 49,
    "start_time": "2022-11-16T19:48:02.465Z"
   },
   {
    "duration": 43,
    "start_time": "2022-11-16T19:48:02.518Z"
   },
   {
    "duration": 28,
    "start_time": "2022-11-16T19:48:02.563Z"
   },
   {
    "duration": 71,
    "start_time": "2022-11-16T19:48:02.593Z"
   },
   {
    "duration": 26,
    "start_time": "2022-11-16T19:48:02.666Z"
   },
   {
    "duration": 26,
    "start_time": "2022-11-16T19:48:02.714Z"
   },
   {
    "duration": 0,
    "start_time": "2022-11-16T19:48:02.742Z"
   },
   {
    "duration": 22,
    "start_time": "2022-11-16T19:48:04.999Z"
   },
   {
    "duration": 24,
    "start_time": "2022-11-16T19:49:17.250Z"
   },
   {
    "duration": 2004,
    "start_time": "2022-11-16T19:54:17.265Z"
   },
   {
    "duration": 1251,
    "start_time": "2022-11-16T19:54:20.677Z"
   },
   {
    "duration": 2,
    "start_time": "2022-11-16T19:54:24.568Z"
   },
   {
    "duration": 87,
    "start_time": "2022-11-16T19:54:24.572Z"
   },
   {
    "duration": 7,
    "start_time": "2022-11-16T19:54:24.661Z"
   },
   {
    "duration": 84,
    "start_time": "2022-11-16T19:54:24.669Z"
   },
   {
    "duration": 41,
    "start_time": "2022-11-16T19:54:24.755Z"
   },
   {
    "duration": 28,
    "start_time": "2022-11-16T19:54:24.797Z"
   },
   {
    "duration": 11,
    "start_time": "2022-11-16T19:54:24.827Z"
   },
   {
    "duration": 28,
    "start_time": "2022-11-16T19:54:24.840Z"
   },
   {
    "duration": 9,
    "start_time": "2022-11-16T19:54:24.870Z"
   },
   {
    "duration": 39,
    "start_time": "2022-11-16T19:54:24.881Z"
   },
   {
    "duration": 36,
    "start_time": "2022-11-16T19:54:24.921Z"
   },
   {
    "duration": 17,
    "start_time": "2022-11-16T19:54:24.959Z"
   },
   {
    "duration": 53,
    "start_time": "2022-11-16T19:54:24.978Z"
   },
   {
    "duration": 27,
    "start_time": "2022-11-16T19:54:25.033Z"
   },
   {
    "duration": 27,
    "start_time": "2022-11-16T19:54:25.062Z"
   },
   {
    "duration": 44,
    "start_time": "2022-11-16T19:54:25.091Z"
   },
   {
    "duration": 33,
    "start_time": "2022-11-16T19:54:25.137Z"
   },
   {
    "duration": 48,
    "start_time": "2022-11-16T19:54:25.171Z"
   },
   {
    "duration": 12,
    "start_time": "2022-11-16T19:54:25.220Z"
   },
   {
    "duration": 0,
    "start_time": "2022-11-16T19:54:25.234Z"
   },
   {
    "duration": 0,
    "start_time": "2022-11-16T19:54:25.235Z"
   },
   {
    "duration": 768,
    "start_time": "2022-11-16T19:54:34.836Z"
   },
   {
    "duration": 10,
    "start_time": "2022-11-16T19:54:44.707Z"
   },
   {
    "duration": 25,
    "start_time": "2022-11-16T19:55:41.456Z"
   },
   {
    "duration": 25,
    "start_time": "2022-11-16T20:00:52.696Z"
   },
   {
    "duration": 698,
    "start_time": "2022-11-16T20:03:41.374Z"
   },
   {
    "duration": 23,
    "start_time": "2022-11-16T20:04:21.244Z"
   },
   {
    "duration": 26,
    "start_time": "2022-11-16T20:04:49.296Z"
   },
   {
    "duration": 3,
    "start_time": "2022-11-16T20:11:01.224Z"
   },
   {
    "duration": 307,
    "start_time": "2022-11-16T20:22:08.487Z"
   },
   {
    "duration": 42,
    "start_time": "2022-11-16T20:22:44.550Z"
   },
   {
    "duration": 49,
    "start_time": "2022-11-16T20:22:50.353Z"
   },
   {
    "duration": 3,
    "start_time": "2022-11-16T20:22:53.456Z"
   },
   {
    "duration": 88,
    "start_time": "2022-11-16T20:22:53.461Z"
   },
   {
    "duration": 6,
    "start_time": "2022-11-16T20:22:53.551Z"
   },
   {
    "duration": 85,
    "start_time": "2022-11-16T20:22:53.558Z"
   },
   {
    "duration": 38,
    "start_time": "2022-11-16T20:22:53.645Z"
   },
   {
    "duration": 19,
    "start_time": "2022-11-16T20:22:53.684Z"
   },
   {
    "duration": 9,
    "start_time": "2022-11-16T20:22:53.712Z"
   },
   {
    "duration": 33,
    "start_time": "2022-11-16T20:22:53.723Z"
   },
   {
    "duration": 8,
    "start_time": "2022-11-16T20:22:53.758Z"
   },
   {
    "duration": 9,
    "start_time": "2022-11-16T20:22:53.768Z"
   },
   {
    "duration": 47,
    "start_time": "2022-11-16T20:22:53.780Z"
   },
   {
    "duration": 18,
    "start_time": "2022-11-16T20:22:53.829Z"
   },
   {
    "duration": 51,
    "start_time": "2022-11-16T20:22:53.849Z"
   },
   {
    "duration": 31,
    "start_time": "2022-11-16T20:22:53.902Z"
   },
   {
    "duration": 23,
    "start_time": "2022-11-16T20:22:53.935Z"
   },
   {
    "duration": 25,
    "start_time": "2022-11-16T20:22:53.960Z"
   },
   {
    "duration": 52,
    "start_time": "2022-11-16T20:22:53.987Z"
   },
   {
    "duration": 23,
    "start_time": "2022-11-16T20:22:54.040Z"
   },
   {
    "duration": 11,
    "start_time": "2022-11-16T20:22:54.065Z"
   },
   {
    "duration": 0,
    "start_time": "2022-11-16T20:22:54.078Z"
   },
   {
    "duration": 0,
    "start_time": "2022-11-16T20:22:54.079Z"
   },
   {
    "duration": 0,
    "start_time": "2022-11-16T20:22:54.080Z"
   },
   {
    "duration": 0,
    "start_time": "2022-11-16T20:22:54.081Z"
   },
   {
    "duration": 0,
    "start_time": "2022-11-16T20:22:54.082Z"
   },
   {
    "duration": 61,
    "start_time": "2022-11-16T20:22:58.062Z"
   },
   {
    "duration": 351,
    "start_time": "2022-11-16T20:23:47.009Z"
   },
   {
    "duration": 913,
    "start_time": "2022-11-17T13:50:23.945Z"
   },
   {
    "duration": 323,
    "start_time": "2022-11-17T13:50:24.860Z"
   },
   {
    "duration": 12,
    "start_time": "2022-11-17T13:50:25.185Z"
   },
   {
    "duration": 112,
    "start_time": "2022-11-17T13:50:25.200Z"
   },
   {
    "duration": 42,
    "start_time": "2022-11-17T13:50:25.314Z"
   },
   {
    "duration": 34,
    "start_time": "2022-11-17T13:50:25.358Z"
   },
   {
    "duration": 11,
    "start_time": "2022-11-17T13:50:25.394Z"
   },
   {
    "duration": 51,
    "start_time": "2022-11-17T13:50:25.406Z"
   },
   {
    "duration": 8,
    "start_time": "2022-11-17T13:50:25.459Z"
   },
   {
    "duration": 42,
    "start_time": "2022-11-17T13:50:25.470Z"
   },
   {
    "duration": 69,
    "start_time": "2022-11-17T13:50:25.514Z"
   },
   {
    "duration": 21,
    "start_time": "2022-11-17T13:50:25.586Z"
   },
   {
    "duration": 49,
    "start_time": "2022-11-17T13:50:25.608Z"
   },
   {
    "duration": 25,
    "start_time": "2022-11-17T13:50:25.659Z"
   },
   {
    "duration": 48,
    "start_time": "2022-11-17T13:50:25.685Z"
   },
   {
    "duration": 39,
    "start_time": "2022-11-17T13:50:25.735Z"
   },
   {
    "duration": 59,
    "start_time": "2022-11-17T13:50:25.776Z"
   },
   {
    "duration": 39,
    "start_time": "2022-11-17T13:50:25.837Z"
   },
   {
    "duration": 90,
    "start_time": "2022-11-17T13:50:25.878Z"
   },
   {
    "duration": 0,
    "start_time": "2022-11-17T13:50:25.969Z"
   },
   {
    "duration": 0,
    "start_time": "2022-11-17T13:50:25.971Z"
   },
   {
    "duration": 0,
    "start_time": "2022-11-17T13:50:25.972Z"
   },
   {
    "duration": 0,
    "start_time": "2022-11-17T13:50:25.974Z"
   },
   {
    "duration": 0,
    "start_time": "2022-11-17T13:50:25.975Z"
   },
   {
    "duration": 26,
    "start_time": "2022-11-17T13:50:36.952Z"
   },
   {
    "duration": 321,
    "start_time": "2022-11-17T13:50:45.599Z"
   },
   {
    "duration": 25,
    "start_time": "2022-11-17T13:56:53.355Z"
   },
   {
    "duration": 25,
    "start_time": "2022-11-17T20:24:52.149Z"
   },
   {
    "duration": 3,
    "start_time": "2022-11-17T20:25:06.840Z"
   },
   {
    "duration": 101,
    "start_time": "2022-11-17T20:25:06.846Z"
   },
   {
    "duration": 8,
    "start_time": "2022-11-17T20:25:06.949Z"
   },
   {
    "duration": 79,
    "start_time": "2022-11-17T20:25:06.959Z"
   },
   {
    "duration": 42,
    "start_time": "2022-11-17T20:25:07.040Z"
   },
   {
    "duration": 13,
    "start_time": "2022-11-17T20:25:07.083Z"
   },
   {
    "duration": 9,
    "start_time": "2022-11-17T20:25:07.098Z"
   },
   {
    "duration": 48,
    "start_time": "2022-11-17T20:25:07.108Z"
   },
   {
    "duration": 8,
    "start_time": "2022-11-17T20:25:07.158Z"
   },
   {
    "duration": 9,
    "start_time": "2022-11-17T20:25:07.168Z"
   },
   {
    "duration": 25,
    "start_time": "2022-11-17T20:25:07.178Z"
   },
   {
    "duration": 54,
    "start_time": "2022-11-17T20:25:07.204Z"
   },
   {
    "duration": 32,
    "start_time": "2022-11-17T20:25:07.260Z"
   },
   {
    "duration": 24,
    "start_time": "2022-11-17T20:25:07.295Z"
   },
   {
    "duration": 47,
    "start_time": "2022-11-17T20:25:07.320Z"
   },
   {
    "duration": 27,
    "start_time": "2022-11-17T20:25:07.368Z"
   },
   {
    "duration": 30,
    "start_time": "2022-11-17T20:25:07.396Z"
   },
   {
    "duration": 45,
    "start_time": "2022-11-17T20:25:07.428Z"
   },
   {
    "duration": 25,
    "start_time": "2022-11-17T20:25:07.474Z"
   },
   {
    "duration": 25,
    "start_time": "2022-11-17T20:25:07.500Z"
   },
   {
    "duration": 47,
    "start_time": "2022-11-17T20:25:07.526Z"
   },
   {
    "duration": 24,
    "start_time": "2022-11-17T20:25:07.575Z"
   },
   {
    "duration": 24,
    "start_time": "2022-11-17T20:25:07.601Z"
   },
   {
    "duration": 359,
    "start_time": "2022-11-17T20:25:07.626Z"
   },
   {
    "duration": 24,
    "start_time": "2022-11-17T20:25:07.986Z"
   },
   {
    "duration": 17,
    "start_time": "2022-11-17T20:27:52.668Z"
   },
   {
    "duration": 19,
    "start_time": "2022-11-17T20:28:00.065Z"
   },
   {
    "duration": 23,
    "start_time": "2022-11-17T20:28:14.624Z"
   },
   {
    "duration": 25,
    "start_time": "2022-11-17T20:32:44.915Z"
   },
   {
    "duration": 25,
    "start_time": "2022-11-17T20:33:54.270Z"
   },
   {
    "duration": 25,
    "start_time": "2022-11-17T20:34:37.136Z"
   },
   {
    "duration": 24,
    "start_time": "2022-11-17T20:36:02.327Z"
   },
   {
    "duration": 24,
    "start_time": "2022-11-17T20:37:22.572Z"
   },
   {
    "duration": 3,
    "start_time": "2022-11-17T20:37:30.076Z"
   },
   {
    "duration": 103,
    "start_time": "2022-11-17T20:37:30.081Z"
   },
   {
    "duration": 7,
    "start_time": "2022-11-17T20:37:30.186Z"
   },
   {
    "duration": 98,
    "start_time": "2022-11-17T20:37:30.195Z"
   },
   {
    "duration": 38,
    "start_time": "2022-11-17T20:37:30.295Z"
   },
   {
    "duration": 29,
    "start_time": "2022-11-17T20:37:30.335Z"
   },
   {
    "duration": 13,
    "start_time": "2022-11-17T20:37:30.366Z"
   },
   {
    "duration": 31,
    "start_time": "2022-11-17T20:37:30.381Z"
   },
   {
    "duration": 9,
    "start_time": "2022-11-17T20:37:30.414Z"
   },
   {
    "duration": 33,
    "start_time": "2022-11-17T20:37:30.425Z"
   },
   {
    "duration": 28,
    "start_time": "2022-11-17T20:37:30.462Z"
   },
   {
    "duration": 20,
    "start_time": "2022-11-17T20:37:30.492Z"
   },
   {
    "duration": 54,
    "start_time": "2022-11-17T20:37:30.515Z"
   },
   {
    "duration": 31,
    "start_time": "2022-11-17T20:37:30.571Z"
   },
   {
    "duration": 27,
    "start_time": "2022-11-17T20:37:30.604Z"
   },
   {
    "duration": 25,
    "start_time": "2022-11-17T20:37:30.654Z"
   },
   {
    "duration": 27,
    "start_time": "2022-11-17T20:37:30.681Z"
   },
   {
    "duration": 53,
    "start_time": "2022-11-17T20:37:30.710Z"
   },
   {
    "duration": 26,
    "start_time": "2022-11-17T20:37:30.764Z"
   },
   {
    "duration": 27,
    "start_time": "2022-11-17T20:37:30.792Z"
   },
   {
    "duration": 46,
    "start_time": "2022-11-17T20:37:30.821Z"
   },
   {
    "duration": 26,
    "start_time": "2022-11-17T20:37:30.868Z"
   },
   {
    "duration": 29,
    "start_time": "2022-11-17T20:37:30.896Z"
   },
   {
    "duration": 49,
    "start_time": "2022-11-17T20:37:30.927Z"
   },
   {
    "duration": 24,
    "start_time": "2022-11-17T20:37:30.978Z"
   },
   {
    "duration": 22,
    "start_time": "2022-11-17T20:37:31.004Z"
   },
   {
    "duration": 47,
    "start_time": "2022-11-17T20:37:31.028Z"
   },
   {
    "duration": 27,
    "start_time": "2022-11-17T20:37:31.077Z"
   },
   {
    "duration": 49,
    "start_time": "2022-11-17T20:37:31.108Z"
   },
   {
    "duration": 314,
    "start_time": "2022-11-17T20:37:31.159Z"
   },
   {
    "duration": 29,
    "start_time": "2022-11-17T20:37:31.474Z"
   },
   {
    "duration": 19,
    "start_time": "2022-11-17T20:42:03.839Z"
   },
   {
    "duration": 3,
    "start_time": "2022-11-17T20:42:06.938Z"
   },
   {
    "duration": 94,
    "start_time": "2022-11-17T20:42:06.943Z"
   },
   {
    "duration": 6,
    "start_time": "2022-11-17T20:42:07.039Z"
   },
   {
    "duration": 81,
    "start_time": "2022-11-17T20:42:07.047Z"
   },
   {
    "duration": 47,
    "start_time": "2022-11-17T20:42:07.131Z"
   },
   {
    "duration": 15,
    "start_time": "2022-11-17T20:42:07.179Z"
   },
   {
    "duration": 8,
    "start_time": "2022-11-17T20:42:07.196Z"
   },
   {
    "duration": 22,
    "start_time": "2022-11-17T20:42:07.206Z"
   },
   {
    "duration": 8,
    "start_time": "2022-11-17T20:42:07.254Z"
   },
   {
    "duration": 9,
    "start_time": "2022-11-17T20:42:07.264Z"
   },
   {
    "duration": 27,
    "start_time": "2022-11-17T20:42:07.275Z"
   },
   {
    "duration": 20,
    "start_time": "2022-11-17T20:42:07.304Z"
   },
   {
    "duration": 31,
    "start_time": "2022-11-17T20:42:07.355Z"
   },
   {
    "duration": 32,
    "start_time": "2022-11-17T20:42:07.390Z"
   },
   {
    "duration": 51,
    "start_time": "2022-11-17T20:42:07.424Z"
   },
   {
    "duration": 25,
    "start_time": "2022-11-17T20:42:07.477Z"
   },
   {
    "duration": 29,
    "start_time": "2022-11-17T20:42:07.503Z"
   },
   {
    "duration": 55,
    "start_time": "2022-11-17T20:42:07.533Z"
   },
   {
    "duration": 30,
    "start_time": "2022-11-17T20:42:07.590Z"
   },
   {
    "duration": 41,
    "start_time": "2022-11-17T20:42:07.621Z"
   },
   {
    "duration": 25,
    "start_time": "2022-11-17T20:42:07.664Z"
   },
   {
    "duration": 28,
    "start_time": "2022-11-17T20:42:07.691Z"
   },
   {
    "duration": 51,
    "start_time": "2022-11-17T20:42:07.721Z"
   },
   {
    "duration": 24,
    "start_time": "2022-11-17T20:42:07.774Z"
   },
   {
    "duration": 23,
    "start_time": "2022-11-17T20:42:07.799Z"
   },
   {
    "duration": 44,
    "start_time": "2022-11-17T20:42:07.824Z"
   },
   {
    "duration": 24,
    "start_time": "2022-11-17T20:42:07.869Z"
   },
   {
    "duration": 22,
    "start_time": "2022-11-17T20:42:07.895Z"
   },
   {
    "duration": 46,
    "start_time": "2022-11-17T20:42:07.918Z"
   },
   {
    "duration": 316,
    "start_time": "2022-11-17T20:42:07.966Z"
   },
   {
    "duration": 21,
    "start_time": "2022-11-17T20:42:08.283Z"
   },
   {
    "duration": 45,
    "start_time": "2022-11-17T20:49:17.236Z"
   },
   {
    "duration": 48,
    "start_time": "2022-11-17T20:52:35.288Z"
   },
   {
    "duration": 640,
    "start_time": "2022-11-17T20:52:40.416Z"
   },
   {
    "duration": 319,
    "start_time": "2022-11-17T20:52:41.058Z"
   },
   {
    "duration": 11,
    "start_time": "2022-11-17T20:52:41.379Z"
   },
   {
    "duration": 100,
    "start_time": "2022-11-17T20:52:41.392Z"
   },
   {
    "duration": 41,
    "start_time": "2022-11-17T20:52:41.494Z"
   },
   {
    "duration": 39,
    "start_time": "2022-11-17T20:52:41.537Z"
   },
   {
    "duration": 22,
    "start_time": "2022-11-17T20:52:41.578Z"
   },
   {
    "duration": 57,
    "start_time": "2022-11-17T20:52:41.602Z"
   },
   {
    "duration": 9,
    "start_time": "2022-11-17T20:52:41.661Z"
   },
   {
    "duration": 30,
    "start_time": "2022-11-17T20:52:41.674Z"
   },
   {
    "duration": 47,
    "start_time": "2022-11-17T20:52:41.706Z"
   },
   {
    "duration": 29,
    "start_time": "2022-11-17T20:52:41.756Z"
   },
   {
    "duration": 34,
    "start_time": "2022-11-17T20:52:41.787Z"
   },
   {
    "duration": 61,
    "start_time": "2022-11-17T20:52:41.823Z"
   },
   {
    "duration": 45,
    "start_time": "2022-11-17T20:52:41.885Z"
   },
   {
    "duration": 35,
    "start_time": "2022-11-17T20:52:41.932Z"
   },
   {
    "duration": 27,
    "start_time": "2022-11-17T20:52:41.969Z"
   },
   {
    "duration": 36,
    "start_time": "2022-11-17T20:52:41.998Z"
   },
   {
    "duration": 35,
    "start_time": "2022-11-17T20:52:42.036Z"
   },
   {
    "duration": 25,
    "start_time": "2022-11-17T20:52:42.073Z"
   },
   {
    "duration": 26,
    "start_time": "2022-11-17T20:52:42.100Z"
   },
   {
    "duration": 55,
    "start_time": "2022-11-17T20:52:42.127Z"
   },
   {
    "duration": 26,
    "start_time": "2022-11-17T20:52:42.183Z"
   },
   {
    "duration": 26,
    "start_time": "2022-11-17T20:52:42.211Z"
   },
   {
    "duration": 36,
    "start_time": "2022-11-17T20:52:42.238Z"
   },
   {
    "duration": 23,
    "start_time": "2022-11-17T20:52:42.275Z"
   },
   {
    "duration": 45,
    "start_time": "2022-11-17T20:52:42.300Z"
   },
   {
    "duration": 28,
    "start_time": "2022-11-17T20:52:42.349Z"
   },
   {
    "duration": 39,
    "start_time": "2022-11-17T20:52:42.379Z"
   },
   {
    "duration": 306,
    "start_time": "2022-11-17T20:52:42.420Z"
   },
   {
    "duration": 19,
    "start_time": "2022-11-17T20:52:42.728Z"
   },
   {
    "duration": 397,
    "start_time": "2022-11-17T20:52:42.755Z"
   },
   {
    "duration": 122,
    "start_time": "2022-11-17T20:53:52.701Z"
   },
   {
    "duration": 180,
    "start_time": "2022-11-17T20:54:13.313Z"
   },
   {
    "duration": 171,
    "start_time": "2022-11-17T20:54:40.728Z"
   },
   {
    "duration": 127,
    "start_time": "2022-11-17T20:57:32.419Z"
   },
   {
    "duration": 236,
    "start_time": "2022-11-17T20:57:37.703Z"
   },
   {
    "duration": 1451,
    "start_time": "2022-11-17T20:57:46.168Z"
   },
   {
    "duration": 372,
    "start_time": "2022-11-17T20:57:54.754Z"
   },
   {
    "duration": 412,
    "start_time": "2022-11-17T20:58:02.134Z"
   },
   {
    "duration": 346,
    "start_time": "2022-11-17T20:58:16.772Z"
   },
   {
    "duration": 246,
    "start_time": "2022-11-17T20:58:25.213Z"
   },
   {
    "duration": 258,
    "start_time": "2022-11-17T20:59:06.813Z"
   },
   {
    "duration": 248,
    "start_time": "2022-11-17T21:00:04.630Z"
   },
   {
    "duration": 378,
    "start_time": "2022-11-17T21:00:11.652Z"
   },
   {
    "duration": 51,
    "start_time": "2022-11-18T05:30:12.490Z"
   },
   {
    "duration": 827,
    "start_time": "2022-11-18T05:30:21.840Z"
   },
   {
    "duration": 127,
    "start_time": "2022-11-18T05:30:22.669Z"
   },
   {
    "duration": 11,
    "start_time": "2022-11-18T05:30:22.798Z"
   },
   {
    "duration": 82,
    "start_time": "2022-11-18T05:30:22.811Z"
   },
   {
    "duration": 39,
    "start_time": "2022-11-18T05:30:22.895Z"
   },
   {
    "duration": 40,
    "start_time": "2022-11-18T05:30:22.936Z"
   },
   {
    "duration": 13,
    "start_time": "2022-11-18T05:30:22.977Z"
   },
   {
    "duration": 23,
    "start_time": "2022-11-18T05:30:22.991Z"
   },
   {
    "duration": 7,
    "start_time": "2022-11-18T05:30:23.015Z"
   },
   {
    "duration": 18,
    "start_time": "2022-11-18T05:30:23.024Z"
   },
   {
    "duration": 31,
    "start_time": "2022-11-18T05:30:23.043Z"
   },
   {
    "duration": 16,
    "start_time": "2022-11-18T05:30:23.076Z"
   },
   {
    "duration": 25,
    "start_time": "2022-11-18T05:30:23.094Z"
   },
   {
    "duration": 52,
    "start_time": "2022-11-18T05:30:23.120Z"
   },
   {
    "duration": 26,
    "start_time": "2022-11-18T05:30:23.174Z"
   },
   {
    "duration": 24,
    "start_time": "2022-11-18T05:30:23.202Z"
   },
   {
    "duration": 46,
    "start_time": "2022-11-18T05:30:23.228Z"
   },
   {
    "duration": 36,
    "start_time": "2022-11-18T05:30:23.275Z"
   },
   {
    "duration": 44,
    "start_time": "2022-11-18T05:30:23.313Z"
   },
   {
    "duration": 24,
    "start_time": "2022-11-18T05:30:23.358Z"
   },
   {
    "duration": 23,
    "start_time": "2022-11-18T05:30:23.384Z"
   },
   {
    "duration": 43,
    "start_time": "2022-11-18T05:30:23.409Z"
   },
   {
    "duration": 24,
    "start_time": "2022-11-18T05:30:23.454Z"
   },
   {
    "duration": 23,
    "start_time": "2022-11-18T05:30:23.479Z"
   },
   {
    "duration": 22,
    "start_time": "2022-11-18T05:30:23.504Z"
   },
   {
    "duration": 23,
    "start_time": "2022-11-18T05:30:23.551Z"
   },
   {
    "duration": 25,
    "start_time": "2022-11-18T05:30:23.575Z"
   },
   {
    "duration": 21,
    "start_time": "2022-11-18T05:30:23.603Z"
   },
   {
    "duration": 24,
    "start_time": "2022-11-18T05:30:23.651Z"
   },
   {
    "duration": 289,
    "start_time": "2022-11-18T05:30:23.676Z"
   },
   {
    "duration": 18,
    "start_time": "2022-11-18T05:30:23.967Z"
   },
   {
    "duration": 372,
    "start_time": "2022-11-18T05:30:23.987Z"
   },
   {
    "duration": 287,
    "start_time": "2022-11-18T05:30:24.360Z"
   },
   {
    "duration": 4343,
    "start_time": "2022-11-18T05:30:40.653Z"
   },
   {
    "duration": 268,
    "start_time": "2022-11-18T05:31:16.099Z"
   },
   {
    "duration": 274,
    "start_time": "2022-11-18T05:31:54.788Z"
   },
   {
    "duration": 319,
    "start_time": "2022-11-18T05:32:02.396Z"
   },
   {
    "duration": 387,
    "start_time": "2022-11-18T05:32:36.445Z"
   },
   {
    "duration": 8,
    "start_time": "2022-11-18T05:33:01.095Z"
   },
   {
    "duration": 53,
    "start_time": "2022-11-19T19:51:20.375Z"
   },
   {
    "duration": 859,
    "start_time": "2022-11-19T19:51:23.209Z"
   },
   {
    "duration": 177,
    "start_time": "2022-11-19T19:51:24.071Z"
   },
   {
    "duration": 14,
    "start_time": "2022-11-19T19:51:24.250Z"
   },
   {
    "duration": 74,
    "start_time": "2022-11-19T19:51:24.267Z"
   },
   {
    "duration": 63,
    "start_time": "2022-11-19T19:51:24.342Z"
   },
   {
    "duration": 17,
    "start_time": "2022-11-19T19:51:24.407Z"
   },
   {
    "duration": 10,
    "start_time": "2022-11-19T19:51:24.425Z"
   },
   {
    "duration": 46,
    "start_time": "2022-11-19T19:51:24.437Z"
   },
   {
    "duration": 9,
    "start_time": "2022-11-19T19:51:24.484Z"
   },
   {
    "duration": 10,
    "start_time": "2022-11-19T19:51:24.497Z"
   },
   {
    "duration": 28,
    "start_time": "2022-11-19T19:51:24.509Z"
   },
   {
    "duration": 46,
    "start_time": "2022-11-19T19:51:24.538Z"
   },
   {
    "duration": 27,
    "start_time": "2022-11-19T19:51:24.586Z"
   },
   {
    "duration": 34,
    "start_time": "2022-11-19T19:51:24.614Z"
   },
   {
    "duration": 27,
    "start_time": "2022-11-19T19:51:24.678Z"
   },
   {
    "duration": 27,
    "start_time": "2022-11-19T19:51:24.707Z"
   },
   {
    "duration": 50,
    "start_time": "2022-11-19T19:51:24.736Z"
   },
   {
    "duration": 39,
    "start_time": "2022-11-19T19:51:24.788Z"
   },
   {
    "duration": 28,
    "start_time": "2022-11-19T19:51:24.829Z"
   },
   {
    "duration": 28,
    "start_time": "2022-11-19T19:51:24.878Z"
   },
   {
    "duration": 37,
    "start_time": "2022-11-19T19:51:24.908Z"
   },
   {
    "duration": 55,
    "start_time": "2022-11-19T19:51:24.946Z"
   },
   {
    "duration": 28,
    "start_time": "2022-11-19T19:51:25.003Z"
   },
   {
    "duration": 60,
    "start_time": "2022-11-19T19:51:25.033Z"
   },
   {
    "duration": 26,
    "start_time": "2022-11-19T19:51:25.094Z"
   },
   {
    "duration": 28,
    "start_time": "2022-11-19T19:51:25.122Z"
   },
   {
    "duration": 48,
    "start_time": "2022-11-19T19:51:25.152Z"
   },
   {
    "duration": 26,
    "start_time": "2022-11-19T19:51:25.204Z"
   },
   {
    "duration": 47,
    "start_time": "2022-11-19T19:51:25.232Z"
   },
   {
    "duration": 356,
    "start_time": "2022-11-19T19:51:25.281Z"
   },
   {
    "duration": 22,
    "start_time": "2022-11-19T19:51:25.638Z"
   },
   {
    "duration": 379,
    "start_time": "2022-11-19T19:51:25.661Z"
   },
   {
    "duration": 10,
    "start_time": "2022-11-19T19:51:26.042Z"
   },
   {
    "duration": 272,
    "start_time": "2022-11-19T19:51:26.053Z"
   },
   {
    "duration": 278,
    "start_time": "2022-11-19T19:51:41.391Z"
   },
   {
    "duration": 288,
    "start_time": "2022-11-19T19:52:31.453Z"
   },
   {
    "duration": 252,
    "start_time": "2022-11-19T19:55:10.855Z"
   },
   {
    "duration": 242,
    "start_time": "2022-11-19T19:55:19.841Z"
   },
   {
    "duration": 343,
    "start_time": "2022-11-19T19:56:37.580Z"
   },
   {
    "duration": 242,
    "start_time": "2022-11-19T19:56:55.469Z"
   },
   {
    "duration": 238,
    "start_time": "2022-11-19T19:57:28.623Z"
   },
   {
    "duration": 237,
    "start_time": "2022-11-19T19:57:36.538Z"
   },
   {
    "duration": 237,
    "start_time": "2022-11-19T19:58:47.772Z"
   },
   {
    "duration": 324,
    "start_time": "2022-11-19T19:59:07.120Z"
   },
   {
    "duration": 1489,
    "start_time": "2022-11-19T19:59:13.656Z"
   },
   {
    "duration": 1411,
    "start_time": "2022-11-19T19:59:20.557Z"
   },
   {
    "duration": 1516,
    "start_time": "2022-11-19T20:02:08.925Z"
   },
   {
    "duration": 265,
    "start_time": "2022-11-19T20:02:17.397Z"
   },
   {
    "duration": 193,
    "start_time": "2022-11-19T20:03:25.990Z"
   },
   {
    "duration": 199,
    "start_time": "2022-11-19T20:03:34.861Z"
   },
   {
    "duration": 259,
    "start_time": "2022-11-19T20:03:40.183Z"
   },
   {
    "duration": 491,
    "start_time": "2022-11-19T20:03:47.146Z"
   },
   {
    "duration": 256,
    "start_time": "2022-11-19T20:03:52.131Z"
   },
   {
    "duration": 34,
    "start_time": "2022-11-21T20:04:02.419Z"
   },
   {
    "duration": 46,
    "start_time": "2022-11-21T20:14:14.609Z"
   },
   {
    "duration": 53,
    "start_time": "2022-11-21T20:17:41.449Z"
   },
   {
    "duration": 46,
    "start_time": "2022-11-21T20:18:52.170Z"
   },
   {
    "duration": 46,
    "start_time": "2022-11-21T20:20:01.066Z"
   },
   {
    "duration": 92,
    "start_time": "2022-11-21T20:20:46.941Z"
   },
   {
    "duration": 44,
    "start_time": "2022-11-21T20:21:05.499Z"
   },
   {
    "duration": 30,
    "start_time": "2022-11-21T20:23:07.428Z"
   },
   {
    "duration": 3,
    "start_time": "2022-11-21T20:23:14.186Z"
   },
   {
    "duration": 123,
    "start_time": "2022-11-21T20:23:14.192Z"
   },
   {
    "duration": 6,
    "start_time": "2022-11-21T20:23:14.317Z"
   },
   {
    "duration": 79,
    "start_time": "2022-11-21T20:23:14.324Z"
   },
   {
    "duration": 36,
    "start_time": "2022-11-21T20:23:14.405Z"
   },
   {
    "duration": 36,
    "start_time": "2022-11-21T20:23:14.443Z"
   },
   {
    "duration": 10,
    "start_time": "2022-11-21T20:23:14.481Z"
   },
   {
    "duration": 35,
    "start_time": "2022-11-21T20:23:14.492Z"
   },
   {
    "duration": 33,
    "start_time": "2022-11-21T20:23:14.528Z"
   },
   {
    "duration": 54,
    "start_time": "2022-11-21T20:23:14.562Z"
   },
   {
    "duration": 44,
    "start_time": "2022-11-21T20:23:14.618Z"
   },
   {
    "duration": 29,
    "start_time": "2022-11-21T20:23:14.664Z"
   },
   {
    "duration": 63,
    "start_time": "2022-11-21T20:23:14.695Z"
   },
   {
    "duration": 46,
    "start_time": "2022-11-21T20:23:14.760Z"
   },
   {
    "duration": 0,
    "start_time": "2022-11-21T20:23:14.809Z"
   },
   {
    "duration": 0,
    "start_time": "2022-11-21T20:23:14.810Z"
   },
   {
    "duration": 0,
    "start_time": "2022-11-21T20:23:14.812Z"
   },
   {
    "duration": 0,
    "start_time": "2022-11-21T20:23:14.813Z"
   },
   {
    "duration": 0,
    "start_time": "2022-11-21T20:23:14.815Z"
   },
   {
    "duration": 0,
    "start_time": "2022-11-21T20:23:14.816Z"
   },
   {
    "duration": 0,
    "start_time": "2022-11-21T20:23:14.817Z"
   },
   {
    "duration": 0,
    "start_time": "2022-11-21T20:23:14.819Z"
   },
   {
    "duration": 0,
    "start_time": "2022-11-21T20:23:14.820Z"
   },
   {
    "duration": 0,
    "start_time": "2022-11-21T20:23:14.821Z"
   },
   {
    "duration": 0,
    "start_time": "2022-11-21T20:23:14.822Z"
   },
   {
    "duration": 0,
    "start_time": "2022-11-21T20:23:14.824Z"
   },
   {
    "duration": 0,
    "start_time": "2022-11-21T20:23:14.826Z"
   },
   {
    "duration": 1,
    "start_time": "2022-11-21T20:23:14.826Z"
   },
   {
    "duration": 0,
    "start_time": "2022-11-21T20:23:14.828Z"
   },
   {
    "duration": 0,
    "start_time": "2022-11-21T20:23:14.829Z"
   },
   {
    "duration": 0,
    "start_time": "2022-11-21T20:23:14.830Z"
   },
   {
    "duration": 0,
    "start_time": "2022-11-21T20:23:14.831Z"
   },
   {
    "duration": 0,
    "start_time": "2022-11-21T20:23:14.833Z"
   },
   {
    "duration": 0,
    "start_time": "2022-11-21T20:23:14.834Z"
   },
   {
    "duration": 0,
    "start_time": "2022-11-21T20:23:14.835Z"
   },
   {
    "duration": 0,
    "start_time": "2022-11-21T20:23:14.837Z"
   },
   {
    "duration": 39,
    "start_time": "2022-11-21T20:24:04.111Z"
   },
   {
    "duration": 42,
    "start_time": "2022-11-21T20:24:29.308Z"
   },
   {
    "duration": 715,
    "start_time": "2022-11-21T20:25:29.151Z"
   },
   {
    "duration": 365,
    "start_time": "2022-11-21T20:25:29.868Z"
   },
   {
    "duration": 12,
    "start_time": "2022-11-21T20:25:30.234Z"
   },
   {
    "duration": 79,
    "start_time": "2022-11-21T20:25:30.248Z"
   },
   {
    "duration": 38,
    "start_time": "2022-11-21T20:25:30.330Z"
   },
   {
    "duration": 27,
    "start_time": "2022-11-21T20:25:30.370Z"
   },
   {
    "duration": 10,
    "start_time": "2022-11-21T20:25:30.399Z"
   },
   {
    "duration": 33,
    "start_time": "2022-11-21T20:25:30.410Z"
   },
   {
    "duration": 11,
    "start_time": "2022-11-21T20:25:30.445Z"
   },
   {
    "duration": 28,
    "start_time": "2022-11-21T20:25:30.457Z"
   },
   {
    "duration": 39,
    "start_time": "2022-11-21T20:25:30.487Z"
   },
   {
    "duration": 20,
    "start_time": "2022-11-21T20:25:30.528Z"
   },
   {
    "duration": 50,
    "start_time": "2022-11-21T20:25:30.549Z"
   },
   {
    "duration": 45,
    "start_time": "2022-11-21T20:25:59.687Z"
   },
   {
    "duration": 616,
    "start_time": "2022-11-21T20:26:03.652Z"
   },
   {
    "duration": 329,
    "start_time": "2022-11-21T20:26:04.271Z"
   },
   {
    "duration": 15,
    "start_time": "2022-11-21T20:26:04.603Z"
   },
   {
    "duration": 84,
    "start_time": "2022-11-21T20:26:04.620Z"
   },
   {
    "duration": 50,
    "start_time": "2022-11-21T20:26:04.707Z"
   },
   {
    "duration": 14,
    "start_time": "2022-11-21T20:26:04.759Z"
   },
   {
    "duration": 30,
    "start_time": "2022-11-21T20:26:04.774Z"
   },
   {
    "duration": 22,
    "start_time": "2022-11-21T20:26:04.806Z"
   },
   {
    "duration": 6,
    "start_time": "2022-11-21T20:26:04.829Z"
   },
   {
    "duration": 10,
    "start_time": "2022-11-21T20:26:04.837Z"
   },
   {
    "duration": 22,
    "start_time": "2022-11-21T20:26:04.848Z"
   },
   {
    "duration": 16,
    "start_time": "2022-11-21T20:26:04.897Z"
   },
   {
    "duration": 23,
    "start_time": "2022-11-21T20:26:04.915Z"
   },
   {
    "duration": 71,
    "start_time": "2022-11-21T20:26:04.941Z"
   },
   {
    "duration": 0,
    "start_time": "2022-11-21T20:26:05.014Z"
   },
   {
    "duration": 0,
    "start_time": "2022-11-21T20:26:05.015Z"
   },
   {
    "duration": 0,
    "start_time": "2022-11-21T20:26:05.016Z"
   },
   {
    "duration": 0,
    "start_time": "2022-11-21T20:26:05.017Z"
   },
   {
    "duration": 0,
    "start_time": "2022-11-21T20:26:05.018Z"
   },
   {
    "duration": 0,
    "start_time": "2022-11-21T20:26:05.019Z"
   },
   {
    "duration": 0,
    "start_time": "2022-11-21T20:26:05.020Z"
   },
   {
    "duration": 0,
    "start_time": "2022-11-21T20:26:05.021Z"
   },
   {
    "duration": 0,
    "start_time": "2022-11-21T20:26:05.022Z"
   },
   {
    "duration": 0,
    "start_time": "2022-11-21T20:26:05.023Z"
   },
   {
    "duration": 0,
    "start_time": "2022-11-21T20:26:05.024Z"
   },
   {
    "duration": 0,
    "start_time": "2022-11-21T20:26:05.024Z"
   },
   {
    "duration": 0,
    "start_time": "2022-11-21T20:26:05.025Z"
   },
   {
    "duration": 0,
    "start_time": "2022-11-21T20:26:05.026Z"
   },
   {
    "duration": 0,
    "start_time": "2022-11-21T20:26:05.027Z"
   },
   {
    "duration": 0,
    "start_time": "2022-11-21T20:26:05.028Z"
   },
   {
    "duration": 0,
    "start_time": "2022-11-21T20:26:05.029Z"
   },
   {
    "duration": 0,
    "start_time": "2022-11-21T20:26:05.031Z"
   },
   {
    "duration": 0,
    "start_time": "2022-11-21T20:26:05.031Z"
   },
   {
    "duration": 0,
    "start_time": "2022-11-21T20:26:05.033Z"
   },
   {
    "duration": 0,
    "start_time": "2022-11-21T20:26:05.034Z"
   },
   {
    "duration": 0,
    "start_time": "2022-11-21T20:26:05.035Z"
   },
   {
    "duration": 3,
    "start_time": "2022-11-21T20:26:31.099Z"
   },
   {
    "duration": 98,
    "start_time": "2022-11-21T20:26:31.105Z"
   },
   {
    "duration": 8,
    "start_time": "2022-11-21T20:26:31.205Z"
   },
   {
    "duration": 90,
    "start_time": "2022-11-21T20:26:31.215Z"
   },
   {
    "duration": 39,
    "start_time": "2022-11-21T20:26:31.308Z"
   },
   {
    "duration": 33,
    "start_time": "2022-11-21T20:26:31.349Z"
   },
   {
    "duration": 9,
    "start_time": "2022-11-21T20:26:31.384Z"
   },
   {
    "duration": 38,
    "start_time": "2022-11-21T20:26:31.394Z"
   },
   {
    "duration": 9,
    "start_time": "2022-11-21T20:26:31.434Z"
   },
   {
    "duration": 30,
    "start_time": "2022-11-21T20:26:31.444Z"
   },
   {
    "duration": 33,
    "start_time": "2022-11-21T20:26:31.478Z"
   },
   {
    "duration": 17,
    "start_time": "2022-11-21T20:26:31.513Z"
   },
   {
    "duration": 30,
    "start_time": "2022-11-21T20:26:31.531Z"
   },
   {
    "duration": 3,
    "start_time": "2022-11-21T20:26:31.562Z"
   },
   {
    "duration": 40,
    "start_time": "2022-11-21T20:26:31.566Z"
   },
   {
    "duration": 21,
    "start_time": "2022-11-21T20:26:31.608Z"
   },
   {
    "duration": 22,
    "start_time": "2022-11-21T20:26:31.630Z"
   },
   {
    "duration": 22,
    "start_time": "2022-11-21T20:26:31.654Z"
   },
   {
    "duration": 28,
    "start_time": "2022-11-21T20:26:31.697Z"
   },
   {
    "duration": 22,
    "start_time": "2022-11-21T20:26:31.726Z"
   },
   {
    "duration": 21,
    "start_time": "2022-11-21T20:26:31.750Z"
   },
   {
    "duration": 43,
    "start_time": "2022-11-21T20:26:31.773Z"
   },
   {
    "duration": 21,
    "start_time": "2022-11-21T20:26:31.818Z"
   },
   {
    "duration": 21,
    "start_time": "2022-11-21T20:26:31.841Z"
   },
   {
    "duration": 44,
    "start_time": "2022-11-21T20:26:31.864Z"
   },
   {
    "duration": 23,
    "start_time": "2022-11-21T20:26:31.909Z"
   },
   {
    "duration": 22,
    "start_time": "2022-11-21T20:26:31.933Z"
   },
   {
    "duration": 46,
    "start_time": "2022-11-21T20:26:31.956Z"
   },
   {
    "duration": 22,
    "start_time": "2022-11-21T20:26:32.005Z"
   },
   {
    "duration": 20,
    "start_time": "2022-11-21T20:26:32.028Z"
   },
   {
    "duration": 305,
    "start_time": "2022-11-21T20:26:32.050Z"
   },
   {
    "duration": 22,
    "start_time": "2022-11-21T20:26:32.358Z"
   },
   {
    "duration": 293,
    "start_time": "2022-11-21T20:26:32.382Z"
   },
   {
    "duration": 228,
    "start_time": "2022-11-21T20:26:32.677Z"
   },
   {
    "duration": 250,
    "start_time": "2022-11-21T20:26:32.907Z"
   },
   {
    "duration": 263,
    "start_time": "2022-11-21T20:26:33.159Z"
   },
   {
    "duration": 207,
    "start_time": "2022-11-21T20:29:58.219Z"
   },
   {
    "duration": 248,
    "start_time": "2022-11-21T20:30:12.005Z"
   },
   {
    "duration": 298,
    "start_time": "2022-11-21T20:30:22.347Z"
   },
   {
    "duration": 149,
    "start_time": "2022-11-21T20:30:28.169Z"
   },
   {
    "duration": 121,
    "start_time": "2022-11-21T20:30:36.859Z"
   },
   {
    "duration": 114,
    "start_time": "2022-11-21T20:31:42.655Z"
   },
   {
    "duration": 106,
    "start_time": "2022-11-21T20:31:50.734Z"
   },
   {
    "duration": 87,
    "start_time": "2022-11-21T20:31:56.647Z"
   },
   {
    "duration": 105,
    "start_time": "2022-11-21T20:32:00.763Z"
   },
   {
    "duration": 229,
    "start_time": "2022-11-21T20:33:45.809Z"
   },
   {
    "duration": 326,
    "start_time": "2022-11-21T20:33:50.689Z"
   },
   {
    "duration": 245,
    "start_time": "2022-11-21T20:33:57.682Z"
   },
   {
    "duration": 165,
    "start_time": "2022-11-21T20:34:02.451Z"
   },
   {
    "duration": 175,
    "start_time": "2022-11-21T20:34:09.153Z"
   },
   {
    "duration": 166,
    "start_time": "2022-11-21T20:34:18.214Z"
   },
   {
    "duration": 157,
    "start_time": "2022-11-21T20:34:39.906Z"
   },
   {
    "duration": 146,
    "start_time": "2022-11-21T20:34:46.114Z"
   },
   {
    "duration": 231,
    "start_time": "2022-11-21T20:35:09.539Z"
   },
   {
    "duration": 344,
    "start_time": "2022-11-21T20:35:16.171Z"
   },
   {
    "duration": 210,
    "start_time": "2022-11-21T20:35:28.114Z"
   },
   {
    "duration": 224,
    "start_time": "2022-11-21T20:35:40.308Z"
   },
   {
    "duration": 236,
    "start_time": "2022-11-21T20:36:24.513Z"
   },
   {
    "duration": 230,
    "start_time": "2022-11-21T20:36:34.287Z"
   },
   {
    "duration": 145,
    "start_time": "2022-11-21T20:36:39.352Z"
   },
   {
    "duration": 107,
    "start_time": "2022-11-21T20:36:49.819Z"
   },
   {
    "duration": 252,
    "start_time": "2022-11-21T20:36:54.762Z"
   },
   {
    "duration": 124,
    "start_time": "2022-11-21T20:37:12.153Z"
   },
   {
    "duration": 133,
    "start_time": "2022-11-21T20:37:19.557Z"
   },
   {
    "duration": 117,
    "start_time": "2022-11-21T20:37:25.213Z"
   },
   {
    "duration": 235,
    "start_time": "2022-11-21T20:37:31.087Z"
   },
   {
    "duration": 199,
    "start_time": "2022-11-21T20:37:40.727Z"
   },
   {
    "duration": 117,
    "start_time": "2022-11-21T20:37:48.126Z"
   },
   {
    "duration": 146,
    "start_time": "2022-11-21T20:37:59.709Z"
   },
   {
    "duration": 170,
    "start_time": "2022-11-21T20:38:06.838Z"
   },
   {
    "duration": 223,
    "start_time": "2022-11-21T20:38:26.492Z"
   },
   {
    "duration": 154,
    "start_time": "2022-11-21T20:38:36.780Z"
   },
   {
    "duration": 241,
    "start_time": "2022-11-21T20:39:36.303Z"
   },
   {
    "duration": 211,
    "start_time": "2022-11-21T20:39:47.672Z"
   },
   {
    "duration": 173,
    "start_time": "2022-11-21T20:39:52.511Z"
   },
   {
    "duration": 370,
    "start_time": "2022-11-21T20:41:25.488Z"
   },
   {
    "duration": 392,
    "start_time": "2022-11-21T20:41:42.467Z"
   },
   {
    "duration": 152,
    "start_time": "2022-11-21T20:51:45.517Z"
   },
   {
    "duration": 182,
    "start_time": "2022-11-21T20:53:11.180Z"
   },
   {
    "duration": 168,
    "start_time": "2022-11-21T20:53:20.919Z"
   },
   {
    "duration": 15,
    "start_time": "2022-11-21T20:56:07.229Z"
   },
   {
    "duration": 357,
    "start_time": "2022-11-21T20:57:26.241Z"
   },
   {
    "duration": 424,
    "start_time": "2022-11-21T20:57:32.971Z"
   },
   {
    "duration": 40,
    "start_time": "2022-11-21T21:06:06.155Z"
   },
   {
    "duration": 11,
    "start_time": "2022-11-21T21:06:21.589Z"
   },
   {
    "duration": 227,
    "start_time": "2022-11-21T21:06:27.203Z"
   },
   {
    "duration": 24,
    "start_time": "2022-11-21T21:06:58.155Z"
   },
   {
    "duration": 23,
    "start_time": "2022-11-21T21:07:31.295Z"
   },
   {
    "duration": 20,
    "start_time": "2022-11-21T21:08:16.937Z"
   },
   {
    "duration": 32,
    "start_time": "2022-11-21T21:08:31.876Z"
   },
   {
    "duration": 31,
    "start_time": "2022-11-21T21:10:00.090Z"
   },
   {
    "duration": 4,
    "start_time": "2022-11-21T21:11:04.789Z"
   },
   {
    "duration": 146,
    "start_time": "2022-11-21T21:11:04.795Z"
   },
   {
    "duration": 8,
    "start_time": "2022-11-21T21:11:04.942Z"
   },
   {
    "duration": 92,
    "start_time": "2022-11-21T21:11:04.952Z"
   },
   {
    "duration": 56,
    "start_time": "2022-11-21T21:11:05.046Z"
   },
   {
    "duration": 15,
    "start_time": "2022-11-21T21:11:05.104Z"
   },
   {
    "duration": 15,
    "start_time": "2022-11-21T21:11:05.121Z"
   },
   {
    "duration": 49,
    "start_time": "2022-11-21T21:11:05.138Z"
   },
   {
    "duration": 13,
    "start_time": "2022-11-21T21:11:05.190Z"
   },
   {
    "duration": 20,
    "start_time": "2022-11-21T21:11:05.204Z"
   },
   {
    "duration": 28,
    "start_time": "2022-11-21T21:11:05.226Z"
   },
   {
    "duration": 18,
    "start_time": "2022-11-21T21:11:05.256Z"
   },
   {
    "duration": 55,
    "start_time": "2022-11-21T21:11:05.276Z"
   },
   {
    "duration": 4,
    "start_time": "2022-11-21T21:11:05.333Z"
   },
   {
    "duration": 57,
    "start_time": "2022-11-21T21:11:05.338Z"
   },
   {
    "duration": 25,
    "start_time": "2022-11-21T21:11:05.396Z"
   },
   {
    "duration": 26,
    "start_time": "2022-11-21T21:11:05.422Z"
   },
   {
    "duration": 49,
    "start_time": "2022-11-21T21:11:05.449Z"
   },
   {
    "duration": 46,
    "start_time": "2022-11-21T21:11:05.500Z"
   },
   {
    "duration": 30,
    "start_time": "2022-11-21T21:11:05.547Z"
   },
   {
    "duration": 29,
    "start_time": "2022-11-21T21:11:05.597Z"
   },
   {
    "duration": 27,
    "start_time": "2022-11-21T21:11:05.628Z"
   },
   {
    "duration": 43,
    "start_time": "2022-11-21T21:11:05.656Z"
   },
   {
    "duration": 32,
    "start_time": "2022-11-21T21:11:05.704Z"
   },
   {
    "duration": 21,
    "start_time": "2022-11-21T21:11:05.738Z"
   },
   {
    "duration": 45,
    "start_time": "2022-11-21T21:11:05.761Z"
   },
   {
    "duration": 21,
    "start_time": "2022-11-21T21:11:05.808Z"
   },
   {
    "duration": 22,
    "start_time": "2022-11-21T21:11:05.831Z"
   },
   {
    "duration": 46,
    "start_time": "2022-11-21T21:11:05.855Z"
   },
   {
    "duration": 22,
    "start_time": "2022-11-21T21:11:05.903Z"
   },
   {
    "duration": 312,
    "start_time": "2022-11-21T21:11:05.927Z"
   },
   {
    "duration": 18,
    "start_time": "2022-11-21T21:11:06.241Z"
   },
   {
    "duration": 262,
    "start_time": "2022-11-21T21:11:06.260Z"
   },
   {
    "duration": 339,
    "start_time": "2022-11-21T21:11:06.524Z"
   },
   {
    "duration": 235,
    "start_time": "2022-11-21T21:11:06.865Z"
   },
   {
    "duration": 250,
    "start_time": "2022-11-21T21:11:07.102Z"
   },
   {
    "duration": 148,
    "start_time": "2022-11-21T21:11:07.354Z"
   },
   {
    "duration": 116,
    "start_time": "2022-11-21T21:11:07.504Z"
   },
   {
    "duration": 162,
    "start_time": "2022-11-21T21:11:07.622Z"
   },
   {
    "duration": 230,
    "start_time": "2022-11-21T21:11:07.786Z"
   },
   {
    "duration": 152,
    "start_time": "2022-11-21T21:11:08.019Z"
   },
   {
    "duration": 242,
    "start_time": "2022-11-21T21:11:08.172Z"
   },
   {
    "duration": 361,
    "start_time": "2022-11-21T21:11:08.415Z"
   },
   {
    "duration": 32,
    "start_time": "2022-11-21T21:11:08.778Z"
   },
   {
    "duration": 22,
    "start_time": "2022-11-21T21:11:08.812Z"
   },
   {
    "duration": 28,
    "start_time": "2022-11-21T21:18:41.722Z"
   },
   {
    "duration": 14,
    "start_time": "2022-11-21T21:20:32.744Z"
   },
   {
    "duration": 25,
    "start_time": "2022-11-21T21:20:41.724Z"
   },
   {
    "duration": 288,
    "start_time": "2022-11-21T21:22:06.941Z"
   },
   {
    "duration": 220,
    "start_time": "2022-11-21T21:22:30.666Z"
   },
   {
    "duration": 176,
    "start_time": "2022-11-21T21:22:40.962Z"
   },
   {
    "duration": 172,
    "start_time": "2022-11-21T21:22:57.207Z"
   },
   {
    "duration": 200,
    "start_time": "2022-11-21T21:24:03.643Z"
   },
   {
    "duration": 4,
    "start_time": "2022-11-21T21:24:07.161Z"
   },
   {
    "duration": 87,
    "start_time": "2022-11-21T21:24:07.172Z"
   },
   {
    "duration": 7,
    "start_time": "2022-11-21T21:24:07.261Z"
   },
   {
    "duration": 86,
    "start_time": "2022-11-21T21:24:07.269Z"
   },
   {
    "duration": 55,
    "start_time": "2022-11-21T21:24:07.357Z"
   },
   {
    "duration": 14,
    "start_time": "2022-11-21T21:24:07.414Z"
   },
   {
    "duration": 11,
    "start_time": "2022-11-21T21:24:07.430Z"
   },
   {
    "duration": 21,
    "start_time": "2022-11-21T21:24:07.442Z"
   },
   {
    "duration": 36,
    "start_time": "2022-11-21T21:24:07.465Z"
   },
   {
    "duration": 10,
    "start_time": "2022-11-21T21:24:07.503Z"
   },
   {
    "duration": 32,
    "start_time": "2022-11-21T21:24:07.514Z"
   },
   {
    "duration": 17,
    "start_time": "2022-11-21T21:24:07.548Z"
   },
   {
    "duration": 49,
    "start_time": "2022-11-21T21:24:07.567Z"
   },
   {
    "duration": 3,
    "start_time": "2022-11-21T21:24:07.617Z"
   },
   {
    "duration": 36,
    "start_time": "2022-11-21T21:24:07.624Z"
   },
   {
    "duration": 41,
    "start_time": "2022-11-21T21:24:07.661Z"
   },
   {
    "duration": 25,
    "start_time": "2022-11-21T21:24:07.704Z"
   },
   {
    "duration": 26,
    "start_time": "2022-11-21T21:24:07.730Z"
   },
   {
    "duration": 55,
    "start_time": "2022-11-21T21:24:07.758Z"
   },
   {
    "duration": 25,
    "start_time": "2022-11-21T21:24:07.814Z"
   },
   {
    "duration": 23,
    "start_time": "2022-11-21T21:24:07.841Z"
   },
   {
    "duration": 50,
    "start_time": "2022-11-21T21:24:07.865Z"
   },
   {
    "duration": 23,
    "start_time": "2022-11-21T21:24:07.917Z"
   },
   {
    "duration": 25,
    "start_time": "2022-11-21T21:24:07.942Z"
   },
   {
    "duration": 48,
    "start_time": "2022-11-21T21:24:07.969Z"
   },
   {
    "duration": 22,
    "start_time": "2022-11-21T21:24:08.018Z"
   },
   {
    "duration": 24,
    "start_time": "2022-11-21T21:24:08.042Z"
   },
   {
    "duration": 49,
    "start_time": "2022-11-21T21:24:08.067Z"
   },
   {
    "duration": 20,
    "start_time": "2022-11-21T21:24:08.118Z"
   },
   {
    "duration": 22,
    "start_time": "2022-11-21T21:24:08.140Z"
   },
   {
    "duration": 299,
    "start_time": "2022-11-21T21:24:08.164Z"
   },
   {
    "duration": 35,
    "start_time": "2022-11-21T21:24:08.465Z"
   },
   {
    "duration": 258,
    "start_time": "2022-11-21T21:24:08.501Z"
   },
   {
    "duration": 255,
    "start_time": "2022-11-21T21:24:08.761Z"
   },
   {
    "duration": 332,
    "start_time": "2022-11-21T21:24:09.018Z"
   },
   {
    "duration": 278,
    "start_time": "2022-11-21T21:24:09.353Z"
   },
   {
    "duration": 155,
    "start_time": "2022-11-21T21:24:09.632Z"
   },
   {
    "duration": 122,
    "start_time": "2022-11-21T21:24:09.796Z"
   },
   {
    "duration": 204,
    "start_time": "2022-11-21T21:24:09.920Z"
   },
   {
    "duration": 235,
    "start_time": "2022-11-21T21:24:10.126Z"
   },
   {
    "duration": 164,
    "start_time": "2022-11-21T21:24:10.363Z"
   },
   {
    "duration": 168,
    "start_time": "2022-11-21T21:24:10.531Z"
   },
   {
    "duration": 434,
    "start_time": "2022-11-21T21:24:10.701Z"
   },
   {
    "duration": 27,
    "start_time": "2022-11-21T21:24:11.137Z"
   },
   {
    "duration": 46,
    "start_time": "2022-11-21T21:24:11.166Z"
   },
   {
    "duration": 25,
    "start_time": "2022-11-21T21:24:11.214Z"
   },
   {
    "duration": 27,
    "start_time": "2022-11-21T21:24:11.241Z"
   },
   {
    "duration": 200,
    "start_time": "2022-11-21T21:24:11.270Z"
   },
   {
    "duration": 318,
    "start_time": "2022-11-21T21:24:30.581Z"
   },
   {
    "duration": 296,
    "start_time": "2022-11-21T21:25:03.898Z"
   },
   {
    "duration": 309,
    "start_time": "2022-11-21T21:25:32.753Z"
   },
   {
    "duration": 3,
    "start_time": "2022-11-21T21:25:42.934Z"
   },
   {
    "duration": 96,
    "start_time": "2022-11-21T21:25:42.939Z"
   },
   {
    "duration": 7,
    "start_time": "2022-11-21T21:25:43.037Z"
   },
   {
    "duration": 87,
    "start_time": "2022-11-21T21:25:43.045Z"
   },
   {
    "duration": 37,
    "start_time": "2022-11-21T21:25:43.134Z"
   },
   {
    "duration": 33,
    "start_time": "2022-11-21T21:25:43.173Z"
   },
   {
    "duration": 9,
    "start_time": "2022-11-21T21:25:43.208Z"
   },
   {
    "duration": 20,
    "start_time": "2022-11-21T21:25:43.218Z"
   },
   {
    "duration": 7,
    "start_time": "2022-11-21T21:25:43.240Z"
   },
   {
    "duration": 8,
    "start_time": "2022-11-21T21:25:43.248Z"
   },
   {
    "duration": 56,
    "start_time": "2022-11-21T21:25:43.258Z"
   },
   {
    "duration": 18,
    "start_time": "2022-11-21T21:25:43.315Z"
   },
   {
    "duration": 28,
    "start_time": "2022-11-21T21:25:43.334Z"
   },
   {
    "duration": 3,
    "start_time": "2022-11-21T21:25:43.363Z"
   },
   {
    "duration": 56,
    "start_time": "2022-11-21T21:25:43.367Z"
   },
   {
    "duration": 27,
    "start_time": "2022-11-21T21:25:43.425Z"
   },
   {
    "duration": 47,
    "start_time": "2022-11-21T21:25:43.453Z"
   },
   {
    "duration": 26,
    "start_time": "2022-11-21T21:25:43.501Z"
   },
   {
    "duration": 31,
    "start_time": "2022-11-21T21:25:43.529Z"
   },
   {
    "duration": 47,
    "start_time": "2022-11-21T21:25:43.563Z"
   },
   {
    "duration": 26,
    "start_time": "2022-11-21T21:25:43.612Z"
   },
   {
    "duration": 23,
    "start_time": "2022-11-21T21:25:43.640Z"
   },
   {
    "duration": 55,
    "start_time": "2022-11-21T21:25:43.665Z"
   },
   {
    "duration": 22,
    "start_time": "2022-11-21T21:25:43.722Z"
   },
   {
    "duration": 21,
    "start_time": "2022-11-21T21:25:43.746Z"
   },
   {
    "duration": 33,
    "start_time": "2022-11-21T21:25:43.768Z"
   },
   {
    "duration": 22,
    "start_time": "2022-11-21T21:25:43.803Z"
   },
   {
    "duration": 22,
    "start_time": "2022-11-21T21:25:43.827Z"
   },
   {
    "duration": 21,
    "start_time": "2022-11-21T21:25:43.852Z"
   },
   {
    "duration": 25,
    "start_time": "2022-11-21T21:25:43.898Z"
   },
   {
    "duration": 299,
    "start_time": "2022-11-21T21:25:43.925Z"
   },
   {
    "duration": 20,
    "start_time": "2022-11-21T21:25:44.225Z"
   },
   {
    "duration": 261,
    "start_time": "2022-11-21T21:25:44.246Z"
   },
   {
    "duration": 240,
    "start_time": "2022-11-21T21:25:44.509Z"
   },
   {
    "duration": 414,
    "start_time": "2022-11-21T21:25:44.751Z"
   },
   {
    "duration": 251,
    "start_time": "2022-11-21T21:25:45.166Z"
   },
   {
    "duration": 154,
    "start_time": "2022-11-21T21:25:45.419Z"
   },
   {
    "duration": 136,
    "start_time": "2022-11-21T21:25:45.575Z"
   },
   {
    "duration": 159,
    "start_time": "2022-11-21T21:25:45.712Z"
   },
   {
    "duration": 238,
    "start_time": "2022-11-21T21:25:45.873Z"
   },
   {
    "duration": 152,
    "start_time": "2022-11-21T21:25:46.113Z"
   },
   {
    "duration": 155,
    "start_time": "2022-11-21T21:25:46.267Z"
   },
   {
    "duration": 440,
    "start_time": "2022-11-21T21:25:46.423Z"
   },
   {
    "duration": 37,
    "start_time": "2022-11-21T21:25:46.865Z"
   },
   {
    "duration": 25,
    "start_time": "2022-11-21T21:25:46.904Z"
   },
   {
    "duration": 23,
    "start_time": "2022-11-21T21:25:46.931Z"
   },
   {
    "duration": 49,
    "start_time": "2022-11-21T21:25:46.956Z"
   },
   {
    "duration": 308,
    "start_time": "2022-11-21T21:25:47.006Z"
   },
   {
    "duration": 24,
    "start_time": "2022-11-21T21:26:50.407Z"
   },
   {
    "duration": 295,
    "start_time": "2022-11-21T21:27:10.311Z"
   },
   {
    "duration": 15,
    "start_time": "2022-11-21T21:30:17.219Z"
   },
   {
    "duration": 16,
    "start_time": "2022-11-21T21:30:32.718Z"
   },
   {
    "duration": 14,
    "start_time": "2022-11-21T21:30:58.615Z"
   },
   {
    "duration": 14,
    "start_time": "2022-11-21T21:31:19.514Z"
   },
   {
    "duration": 13,
    "start_time": "2022-11-21T21:31:33.763Z"
   },
   {
    "duration": 14,
    "start_time": "2022-11-21T21:31:49.183Z"
   },
   {
    "duration": 14,
    "start_time": "2022-11-21T21:31:52.740Z"
   },
   {
    "duration": 13,
    "start_time": "2022-11-21T21:32:08.220Z"
   },
   {
    "duration": 25,
    "start_time": "2022-11-21T21:32:40.902Z"
   },
   {
    "duration": 22,
    "start_time": "2022-11-21T21:34:33.869Z"
   },
   {
    "duration": 20,
    "start_time": "2022-11-21T21:34:51.125Z"
   },
   {
    "duration": 33,
    "start_time": "2022-11-21T21:35:22.276Z"
   },
   {
    "duration": 19,
    "start_time": "2022-11-21T21:35:32.878Z"
   },
   {
    "duration": 24,
    "start_time": "2022-11-21T21:35:51.487Z"
   },
   {
    "duration": 27,
    "start_time": "2022-11-21T21:36:43.763Z"
   },
   {
    "duration": 40,
    "start_time": "2022-11-21T21:36:58.211Z"
   },
   {
    "duration": 68,
    "start_time": "2022-11-22T09:55:40.172Z"
   },
   {
    "duration": 1047,
    "start_time": "2022-11-22T09:55:44.444Z"
   },
   {
    "duration": 227,
    "start_time": "2022-11-22T09:55:45.493Z"
   },
   {
    "duration": 15,
    "start_time": "2022-11-22T09:55:45.722Z"
   },
   {
    "duration": 116,
    "start_time": "2022-11-22T09:55:45.739Z"
   },
   {
    "duration": 58,
    "start_time": "2022-11-22T09:55:45.859Z"
   },
   {
    "duration": 27,
    "start_time": "2022-11-22T09:55:45.919Z"
   },
   {
    "duration": 12,
    "start_time": "2022-11-22T09:55:45.948Z"
   },
   {
    "duration": 29,
    "start_time": "2022-11-22T09:55:45.962Z"
   },
   {
    "duration": 35,
    "start_time": "2022-11-22T09:55:45.993Z"
   },
   {
    "duration": 13,
    "start_time": "2022-11-22T09:55:46.030Z"
   },
   {
    "duration": 35,
    "start_time": "2022-11-22T09:55:46.045Z"
   },
   {
    "duration": 49,
    "start_time": "2022-11-22T09:55:46.082Z"
   },
   {
    "duration": 47,
    "start_time": "2022-11-22T09:55:46.133Z"
   },
   {
    "duration": 4,
    "start_time": "2022-11-22T09:55:46.182Z"
   },
   {
    "duration": 71,
    "start_time": "2022-11-22T09:55:46.187Z"
   },
   {
    "duration": 34,
    "start_time": "2022-11-22T09:55:46.260Z"
   },
   {
    "duration": 51,
    "start_time": "2022-11-22T09:55:46.296Z"
   },
   {
    "duration": 34,
    "start_time": "2022-11-22T09:55:46.349Z"
   },
   {
    "duration": 62,
    "start_time": "2022-11-22T09:55:46.385Z"
   },
   {
    "duration": 33,
    "start_time": "2022-11-22T09:55:46.449Z"
   },
   {
    "duration": 50,
    "start_time": "2022-11-22T09:55:46.484Z"
   },
   {
    "duration": 35,
    "start_time": "2022-11-22T09:55:46.537Z"
   },
   {
    "duration": 59,
    "start_time": "2022-11-22T09:55:46.574Z"
   },
   {
    "duration": 38,
    "start_time": "2022-11-22T09:55:46.636Z"
   },
   {
    "duration": 55,
    "start_time": "2022-11-22T09:55:46.677Z"
   },
   {
    "duration": 31,
    "start_time": "2022-11-22T09:55:46.734Z"
   },
   {
    "duration": 40,
    "start_time": "2022-11-22T09:55:46.767Z"
   },
   {
    "duration": 34,
    "start_time": "2022-11-22T09:55:46.830Z"
   },
   {
    "duration": 33,
    "start_time": "2022-11-22T09:55:46.866Z"
   },
   {
    "duration": 57,
    "start_time": "2022-11-22T09:55:46.901Z"
   },
   {
    "duration": 471,
    "start_time": "2022-11-22T09:55:46.960Z"
   },
   {
    "duration": 28,
    "start_time": "2022-11-22T09:55:47.433Z"
   },
   {
    "duration": 371,
    "start_time": "2022-11-22T09:55:47.463Z"
   },
   {
    "duration": 357,
    "start_time": "2022-11-22T09:55:47.839Z"
   },
   {
    "duration": 393,
    "start_time": "2022-11-22T09:55:48.198Z"
   },
   {
    "duration": 367,
    "start_time": "2022-11-22T09:55:48.593Z"
   },
   {
    "duration": 209,
    "start_time": "2022-11-22T09:55:48.962Z"
   },
   {
    "duration": 161,
    "start_time": "2022-11-22T09:55:49.174Z"
   },
   {
    "duration": 222,
    "start_time": "2022-11-22T09:55:49.337Z"
   },
   {
    "duration": 347,
    "start_time": "2022-11-22T09:55:49.561Z"
   },
   {
    "duration": 243,
    "start_time": "2022-11-22T09:55:49.910Z"
   },
   {
    "duration": 239,
    "start_time": "2022-11-22T09:55:50.155Z"
   },
   {
    "duration": 531,
    "start_time": "2022-11-22T09:55:50.397Z"
   },
   {
    "duration": 31,
    "start_time": "2022-11-22T09:55:50.931Z"
   },
   {
    "duration": 29,
    "start_time": "2022-11-22T09:55:50.964Z"
   },
   {
    "duration": 61,
    "start_time": "2022-11-22T09:55:50.995Z"
   },
   {
    "duration": 32,
    "start_time": "2022-11-22T09:55:51.058Z"
   },
   {
    "duration": 570,
    "start_time": "2022-11-22T09:55:51.092Z"
   },
   {
    "duration": 0,
    "start_time": "2022-11-22T09:55:51.666Z"
   },
   {
    "duration": 37,
    "start_time": "2022-11-22T09:56:07.096Z"
   },
   {
    "duration": 1237,
    "start_time": "2022-11-22T09:56:16.189Z"
   },
   {
    "duration": 1316,
    "start_time": "2022-11-22T09:57:01.340Z"
   },
   {
    "duration": 53,
    "start_time": "2022-11-22T09:57:13.700Z"
   },
   {
    "duration": 51,
    "start_time": "2022-11-22T09:57:38.069Z"
   },
   {
    "duration": 3,
    "start_time": "2022-11-22T10:21:12.578Z"
   },
   {
    "duration": 29,
    "start_time": "2022-11-22T10:24:53.063Z"
   },
   {
    "duration": 34,
    "start_time": "2022-11-22T10:24:56.014Z"
   },
   {
    "duration": 3,
    "start_time": "2022-11-22T10:25:40.964Z"
   },
   {
    "duration": 92,
    "start_time": "2022-11-22T10:25:40.970Z"
   },
   {
    "duration": 9,
    "start_time": "2022-11-22T10:25:41.065Z"
   },
   {
    "duration": 112,
    "start_time": "2022-11-22T10:25:41.076Z"
   },
   {
    "duration": 46,
    "start_time": "2022-11-22T10:25:41.191Z"
   },
   {
    "duration": 13,
    "start_time": "2022-11-22T10:25:41.238Z"
   },
   {
    "duration": 8,
    "start_time": "2022-11-22T10:25:41.253Z"
   },
   {
    "duration": 20,
    "start_time": "2022-11-22T10:25:41.263Z"
   },
   {
    "duration": 45,
    "start_time": "2022-11-22T10:25:41.285Z"
   },
   {
    "duration": 9,
    "start_time": "2022-11-22T10:25:41.332Z"
   },
   {
    "duration": 27,
    "start_time": "2022-11-22T10:25:41.344Z"
   },
   {
    "duration": 28,
    "start_time": "2022-11-22T10:25:41.373Z"
   },
   {
    "duration": 45,
    "start_time": "2022-11-22T10:25:41.427Z"
   },
   {
    "duration": 3,
    "start_time": "2022-11-22T10:25:41.474Z"
   },
   {
    "duration": 60,
    "start_time": "2022-11-22T10:25:41.478Z"
   },
   {
    "duration": 30,
    "start_time": "2022-11-22T10:25:41.540Z"
   },
   {
    "duration": 25,
    "start_time": "2022-11-22T10:25:41.571Z"
   },
   {
    "duration": 49,
    "start_time": "2022-11-22T10:25:41.597Z"
   },
   {
    "duration": 51,
    "start_time": "2022-11-22T10:25:41.648Z"
   },
   {
    "duration": 47,
    "start_time": "2022-11-22T10:25:41.701Z"
   },
   {
    "duration": 50,
    "start_time": "2022-11-22T10:25:41.751Z"
   },
   {
    "duration": 60,
    "start_time": "2022-11-22T10:25:41.803Z"
   },
   {
    "duration": 38,
    "start_time": "2022-11-22T10:25:41.866Z"
   },
   {
    "duration": 54,
    "start_time": "2022-11-22T10:25:41.906Z"
   },
   {
    "duration": 37,
    "start_time": "2022-11-22T10:25:41.962Z"
   },
   {
    "duration": 55,
    "start_time": "2022-11-22T10:25:42.001Z"
   },
   {
    "duration": 29,
    "start_time": "2022-11-22T10:25:42.058Z"
   },
   {
    "duration": 19,
    "start_time": "2022-11-22T10:25:42.088Z"
   },
   {
    "duration": 22,
    "start_time": "2022-11-22T10:25:42.129Z"
   },
   {
    "duration": 25,
    "start_time": "2022-11-22T10:25:42.152Z"
   },
   {
    "duration": 21,
    "start_time": "2022-11-22T10:25:42.179Z"
   },
   {
    "duration": 21,
    "start_time": "2022-11-22T10:25:42.227Z"
   },
   {
    "duration": 294,
    "start_time": "2022-11-22T10:25:42.250Z"
   },
   {
    "duration": 20,
    "start_time": "2022-11-22T10:25:42.545Z"
   },
   {
    "duration": 265,
    "start_time": "2022-11-22T10:25:42.567Z"
   },
   {
    "duration": 373,
    "start_time": "2022-11-22T10:25:42.835Z"
   },
   {
    "duration": 229,
    "start_time": "2022-11-22T10:25:43.209Z"
   },
   {
    "duration": 261,
    "start_time": "2022-11-22T10:25:43.440Z"
   },
   {
    "duration": 150,
    "start_time": "2022-11-22T10:25:43.702Z"
   },
   {
    "duration": 121,
    "start_time": "2022-11-22T10:25:43.855Z"
   },
   {
    "duration": 159,
    "start_time": "2022-11-22T10:25:43.978Z"
   },
   {
    "duration": 245,
    "start_time": "2022-11-22T10:25:44.138Z"
   },
   {
    "duration": 254,
    "start_time": "2022-11-22T10:25:44.384Z"
   },
   {
    "duration": 168,
    "start_time": "2022-11-22T10:25:44.640Z"
   },
   {
    "duration": 370,
    "start_time": "2022-11-22T10:25:44.810Z"
   },
   {
    "duration": 26,
    "start_time": "2022-11-22T10:25:45.182Z"
   },
   {
    "duration": 42,
    "start_time": "2022-11-22T10:25:45.209Z"
   },
   {
    "duration": 27,
    "start_time": "2022-11-22T10:25:45.252Z"
   },
   {
    "duration": 50,
    "start_time": "2022-11-22T10:25:45.281Z"
   },
   {
    "duration": 451,
    "start_time": "2022-11-22T10:25:45.332Z"
   },
   {
    "duration": 0,
    "start_time": "2022-11-22T10:25:45.786Z"
   },
   {
    "duration": 29,
    "start_time": "2022-11-22T10:32:28.623Z"
   },
   {
    "duration": 353,
    "start_time": "2022-11-22T10:36:36.280Z"
   },
   {
    "duration": 348,
    "start_time": "2022-11-22T10:36:47.656Z"
   },
   {
    "duration": 385,
    "start_time": "2022-11-22T10:37:09.925Z"
   },
   {
    "duration": 132,
    "start_time": "2022-11-22T10:37:16.774Z"
   },
   {
    "duration": 233,
    "start_time": "2022-11-22T10:37:28.476Z"
   },
   {
    "duration": 207,
    "start_time": "2022-11-22T10:37:52.435Z"
   },
   {
    "duration": 4,
    "start_time": "2022-11-22T10:38:16.185Z"
   },
   {
    "duration": 97,
    "start_time": "2022-11-22T10:38:16.191Z"
   },
   {
    "duration": 7,
    "start_time": "2022-11-22T10:38:16.289Z"
   },
   {
    "duration": 86,
    "start_time": "2022-11-22T10:38:16.299Z"
   },
   {
    "duration": 53,
    "start_time": "2022-11-22T10:38:16.387Z"
   },
   {
    "duration": 15,
    "start_time": "2022-11-22T10:38:16.442Z"
   },
   {
    "duration": 10,
    "start_time": "2022-11-22T10:38:16.459Z"
   },
   {
    "duration": 21,
    "start_time": "2022-11-22T10:38:16.471Z"
   },
   {
    "duration": 9,
    "start_time": "2022-11-22T10:38:16.526Z"
   },
   {
    "duration": 11,
    "start_time": "2022-11-22T10:38:16.537Z"
   },
   {
    "duration": 30,
    "start_time": "2022-11-22T10:38:16.550Z"
   },
   {
    "duration": 16,
    "start_time": "2022-11-22T10:38:16.581Z"
   },
   {
    "duration": 28,
    "start_time": "2022-11-22T10:38:16.627Z"
   },
   {
    "duration": 4,
    "start_time": "2022-11-22T10:38:16.656Z"
   },
   {
    "duration": 33,
    "start_time": "2022-11-22T10:38:16.661Z"
   },
   {
    "duration": 52,
    "start_time": "2022-11-22T10:38:16.696Z"
   },
   {
    "duration": 25,
    "start_time": "2022-11-22T10:38:16.750Z"
   },
   {
    "duration": 26,
    "start_time": "2022-11-22T10:38:16.776Z"
   },
   {
    "duration": 32,
    "start_time": "2022-11-22T10:38:16.826Z"
   },
   {
    "duration": 31,
    "start_time": "2022-11-22T10:38:16.860Z"
   },
   {
    "duration": 58,
    "start_time": "2022-11-22T10:38:16.893Z"
   },
   {
    "duration": 24,
    "start_time": "2022-11-22T10:38:16.953Z"
   },
   {
    "duration": 24,
    "start_time": "2022-11-22T10:38:16.979Z"
   },
   {
    "duration": 24,
    "start_time": "2022-11-22T10:38:17.026Z"
   },
   {
    "duration": 23,
    "start_time": "2022-11-22T10:38:17.051Z"
   },
   {
    "duration": 22,
    "start_time": "2022-11-22T10:38:17.076Z"
   },
   {
    "duration": 57,
    "start_time": "2022-11-22T10:38:17.099Z"
   },
   {
    "duration": 25,
    "start_time": "2022-11-22T10:38:17.158Z"
   },
   {
    "duration": 19,
    "start_time": "2022-11-22T10:38:17.184Z"
   },
   {
    "duration": 24,
    "start_time": "2022-11-22T10:38:17.226Z"
   },
   {
    "duration": 22,
    "start_time": "2022-11-22T10:38:17.251Z"
   },
   {
    "duration": 21,
    "start_time": "2022-11-22T10:38:17.275Z"
   },
   {
    "duration": 305,
    "start_time": "2022-11-22T10:38:17.298Z"
   },
   {
    "duration": 25,
    "start_time": "2022-11-22T10:38:17.604Z"
   },
   {
    "duration": 436,
    "start_time": "2022-11-22T10:38:17.631Z"
   },
   {
    "duration": 249,
    "start_time": "2022-11-22T10:38:18.069Z"
   },
   {
    "duration": 231,
    "start_time": "2022-11-22T10:38:18.320Z"
   },
   {
    "duration": 249,
    "start_time": "2022-11-22T10:38:18.552Z"
   },
   {
    "duration": 152,
    "start_time": "2022-11-22T10:38:18.802Z"
   },
   {
    "duration": 128,
    "start_time": "2022-11-22T10:38:18.956Z"
   },
   {
    "duration": 208,
    "start_time": "2022-11-22T10:38:19.085Z"
   },
   {
    "duration": 356,
    "start_time": "2022-11-22T10:38:19.295Z"
   },
   {
    "duration": 166,
    "start_time": "2022-11-22T10:38:19.652Z"
   },
   {
    "duration": 196,
    "start_time": "2022-11-22T10:38:19.820Z"
   },
   {
    "duration": 402,
    "start_time": "2022-11-22T10:38:20.018Z"
   },
   {
    "duration": 32,
    "start_time": "2022-11-22T10:38:20.422Z"
   },
   {
    "duration": 49,
    "start_time": "2022-11-22T10:38:20.456Z"
   },
   {
    "duration": 52,
    "start_time": "2022-11-22T10:38:20.506Z"
   },
   {
    "duration": 25,
    "start_time": "2022-11-22T10:38:20.559Z"
   },
   {
    "duration": 436,
    "start_time": "2022-11-22T10:38:20.586Z"
   },
   {
    "duration": 0,
    "start_time": "2022-11-22T10:38:21.024Z"
   },
   {
    "duration": 233,
    "start_time": "2022-11-22T10:38:25.093Z"
   },
   {
    "duration": 220,
    "start_time": "2022-11-22T10:38:31.964Z"
   },
   {
    "duration": 207,
    "start_time": "2022-11-22T10:38:37.597Z"
   },
   {
    "duration": 140,
    "start_time": "2022-11-22T10:38:42.614Z"
   },
   {
    "duration": 21,
    "start_time": "2022-11-22T10:39:50.853Z"
   },
   {
    "duration": 112,
    "start_time": "2022-11-22T10:39:58.275Z"
   },
   {
    "duration": 120,
    "start_time": "2022-11-22T10:40:01.743Z"
   },
   {
    "duration": 2,
    "start_time": "2022-11-22T10:40:07.109Z"
   },
   {
    "duration": 98,
    "start_time": "2022-11-22T10:40:07.114Z"
   },
   {
    "duration": 14,
    "start_time": "2022-11-22T10:40:07.213Z"
   },
   {
    "duration": 71,
    "start_time": "2022-11-22T10:40:07.229Z"
   },
   {
    "duration": 53,
    "start_time": "2022-11-22T10:40:07.302Z"
   },
   {
    "duration": 15,
    "start_time": "2022-11-22T10:40:07.356Z"
   },
   {
    "duration": 8,
    "start_time": "2022-11-22T10:40:07.373Z"
   },
   {
    "duration": 44,
    "start_time": "2022-11-22T10:40:07.383Z"
   },
   {
    "duration": 7,
    "start_time": "2022-11-22T10:40:07.430Z"
   },
   {
    "duration": 15,
    "start_time": "2022-11-22T10:40:07.438Z"
   },
   {
    "duration": 31,
    "start_time": "2022-11-22T10:40:07.455Z"
   },
   {
    "duration": 17,
    "start_time": "2022-11-22T10:40:07.487Z"
   },
   {
    "duration": 47,
    "start_time": "2022-11-22T10:40:07.505Z"
   },
   {
    "duration": 3,
    "start_time": "2022-11-22T10:40:07.555Z"
   },
   {
    "duration": 47,
    "start_time": "2022-11-22T10:40:07.560Z"
   },
   {
    "duration": 26,
    "start_time": "2022-11-22T10:40:07.627Z"
   },
   {
    "duration": 28,
    "start_time": "2022-11-22T10:40:07.655Z"
   },
   {
    "duration": 50,
    "start_time": "2022-11-22T10:40:07.685Z"
   },
   {
    "duration": 34,
    "start_time": "2022-11-22T10:40:07.737Z"
   },
   {
    "duration": 31,
    "start_time": "2022-11-22T10:40:07.773Z"
   },
   {
    "duration": 27,
    "start_time": "2022-11-22T10:40:07.827Z"
   },
   {
    "duration": 25,
    "start_time": "2022-11-22T10:40:07.856Z"
   },
   {
    "duration": 45,
    "start_time": "2022-11-22T10:40:07.883Z"
   },
   {
    "duration": 23,
    "start_time": "2022-11-22T10:40:07.931Z"
   },
   {
    "duration": 23,
    "start_time": "2022-11-22T10:40:07.956Z"
   },
   {
    "duration": 47,
    "start_time": "2022-11-22T10:40:07.980Z"
   },
   {
    "duration": 21,
    "start_time": "2022-11-22T10:40:08.029Z"
   },
   {
    "duration": 24,
    "start_time": "2022-11-22T10:40:08.052Z"
   },
   {
    "duration": 22,
    "start_time": "2022-11-22T10:40:08.077Z"
   },
   {
    "duration": 45,
    "start_time": "2022-11-22T10:40:08.100Z"
   },
   {
    "duration": 22,
    "start_time": "2022-11-22T10:40:08.147Z"
   },
   {
    "duration": 43,
    "start_time": "2022-11-22T10:40:08.171Z"
   },
   {
    "duration": 304,
    "start_time": "2022-11-22T10:40:08.216Z"
   },
   {
    "duration": 21,
    "start_time": "2022-11-22T10:40:08.522Z"
   },
   {
    "duration": 378,
    "start_time": "2022-11-22T10:40:08.545Z"
   },
   {
    "duration": 356,
    "start_time": "2022-11-22T10:40:08.926Z"
   },
   {
    "duration": 152,
    "start_time": "2022-11-22T10:40:09.283Z"
   },
   {
    "duration": 276,
    "start_time": "2022-11-22T10:40:09.437Z"
   },
   {
    "duration": 165,
    "start_time": "2022-11-22T10:40:09.715Z"
   },
   {
    "duration": 164,
    "start_time": "2022-11-22T10:40:09.882Z"
   },
   {
    "duration": 247,
    "start_time": "2022-11-22T10:40:10.048Z"
   },
   {
    "duration": 373,
    "start_time": "2022-11-22T10:40:10.297Z"
   },
   {
    "duration": 245,
    "start_time": "2022-11-22T10:40:10.672Z"
   },
   {
    "duration": 240,
    "start_time": "2022-11-22T10:40:10.919Z"
   },
   {
    "duration": 498,
    "start_time": "2022-11-22T10:40:11.160Z"
   },
   {
    "duration": 27,
    "start_time": "2022-11-22T10:40:11.660Z"
   },
   {
    "duration": 45,
    "start_time": "2022-11-22T10:40:11.689Z"
   },
   {
    "duration": 26,
    "start_time": "2022-11-22T10:40:11.736Z"
   },
   {
    "duration": 26,
    "start_time": "2022-11-22T10:40:11.764Z"
   },
   {
    "duration": 703,
    "start_time": "2022-11-22T10:40:11.792Z"
   },
   {
    "duration": 0,
    "start_time": "2022-11-22T10:40:12.496Z"
   },
   {
    "duration": 148,
    "start_time": "2022-11-22T10:40:31.116Z"
   },
   {
    "duration": 248,
    "start_time": "2022-11-22T10:40:35.725Z"
   },
   {
    "duration": 179,
    "start_time": "2022-11-22T10:40:40.723Z"
   },
   {
    "duration": 152,
    "start_time": "2022-11-22T10:41:20.310Z"
   },
   {
    "duration": 239,
    "start_time": "2022-11-22T10:41:24.074Z"
   },
   {
    "duration": 130,
    "start_time": "2022-11-22T10:41:30.621Z"
   },
   {
    "duration": 234,
    "start_time": "2022-11-22T10:41:36.004Z"
   },
   {
    "duration": 163,
    "start_time": "2022-11-22T10:41:45.065Z"
   },
   {
    "duration": 254,
    "start_time": "2022-11-22T10:43:32.533Z"
   },
   {
    "duration": 176,
    "start_time": "2022-11-22T10:43:36.425Z"
   },
   {
    "duration": 406,
    "start_time": "2022-11-22T10:46:06.378Z"
   },
   {
    "duration": 419,
    "start_time": "2022-11-22T10:46:21.244Z"
   },
   {
    "duration": 433,
    "start_time": "2022-11-22T10:46:59.911Z"
   },
   {
    "duration": 74,
    "start_time": "2022-11-22T10:53:10.419Z"
   },
   {
    "duration": 31,
    "start_time": "2022-11-22T10:56:22.359Z"
   },
   {
    "duration": 32,
    "start_time": "2022-11-22T11:00:30.111Z"
   },
   {
    "duration": 32,
    "start_time": "2022-11-22T11:06:46.352Z"
   },
   {
    "duration": 82,
    "start_time": "2022-11-22T11:09:44.985Z"
   },
   {
    "duration": 9,
    "start_time": "2022-11-22T11:11:03.947Z"
   },
   {
    "duration": 3,
    "start_time": "2022-11-22T11:11:17.516Z"
   },
   {
    "duration": 95,
    "start_time": "2022-11-22T11:11:17.520Z"
   },
   {
    "duration": 7,
    "start_time": "2022-11-22T11:11:17.617Z"
   },
   {
    "duration": 91,
    "start_time": "2022-11-22T11:11:17.626Z"
   },
   {
    "duration": 38,
    "start_time": "2022-11-22T11:11:17.719Z"
   },
   {
    "duration": 17,
    "start_time": "2022-11-22T11:11:17.759Z"
   },
   {
    "duration": 10,
    "start_time": "2022-11-22T11:11:17.778Z"
   },
   {
    "duration": 42,
    "start_time": "2022-11-22T11:11:17.789Z"
   },
   {
    "duration": 8,
    "start_time": "2022-11-22T11:11:17.833Z"
   },
   {
    "duration": 10,
    "start_time": "2022-11-22T11:11:17.842Z"
   },
   {
    "duration": 27,
    "start_time": "2022-11-22T11:11:17.854Z"
   },
   {
    "duration": 48,
    "start_time": "2022-11-22T11:11:17.882Z"
   },
   {
    "duration": 32,
    "start_time": "2022-11-22T11:11:17.931Z"
   },
   {
    "duration": 3,
    "start_time": "2022-11-22T11:11:17.964Z"
   },
   {
    "duration": 46,
    "start_time": "2022-11-22T11:11:17.969Z"
   },
   {
    "duration": 45,
    "start_time": "2022-11-22T11:11:18.016Z"
   },
   {
    "duration": 35,
    "start_time": "2022-11-22T11:11:18.063Z"
   },
   {
    "duration": 44,
    "start_time": "2022-11-22T11:11:18.100Z"
   },
   {
    "duration": 33,
    "start_time": "2022-11-22T11:11:18.145Z"
   },
   {
    "duration": 51,
    "start_time": "2022-11-22T11:11:18.179Z"
   },
   {
    "duration": 82,
    "start_time": "2022-11-22T11:11:18.231Z"
   },
   {
    "duration": 22,
    "start_time": "2022-11-22T11:11:18.315Z"
   },
   {
    "duration": 33,
    "start_time": "2022-11-22T11:11:18.339Z"
   },
   {
    "duration": 27,
    "start_time": "2022-11-22T11:11:18.374Z"
   },
   {
    "duration": 34,
    "start_time": "2022-11-22T11:11:18.403Z"
   },
   {
    "duration": 22,
    "start_time": "2022-11-22T11:11:18.439Z"
   },
   {
    "duration": 22,
    "start_time": "2022-11-22T11:11:18.463Z"
   },
   {
    "duration": 43,
    "start_time": "2022-11-22T11:11:18.486Z"
   },
   {
    "duration": 23,
    "start_time": "2022-11-22T11:11:18.533Z"
   },
   {
    "duration": 29,
    "start_time": "2022-11-22T11:11:18.557Z"
   },
   {
    "duration": 45,
    "start_time": "2022-11-22T11:11:18.587Z"
   },
   {
    "duration": 21,
    "start_time": "2022-11-22T11:11:18.634Z"
   },
   {
    "duration": 310,
    "start_time": "2022-11-22T11:11:18.657Z"
   },
   {
    "duration": 22,
    "start_time": "2022-11-22T11:11:18.968Z"
   },
   {
    "duration": 453,
    "start_time": "2022-11-22T11:11:18.992Z"
   },
   {
    "duration": 259,
    "start_time": "2022-11-22T11:11:19.447Z"
   },
   {
    "duration": 288,
    "start_time": "2022-11-22T11:11:19.708Z"
   },
   {
    "duration": 270,
    "start_time": "2022-11-22T11:11:19.998Z"
   },
   {
    "duration": 166,
    "start_time": "2022-11-22T11:11:20.270Z"
   },
   {
    "duration": 127,
    "start_time": "2022-11-22T11:11:20.438Z"
   },
   {
    "duration": 174,
    "start_time": "2022-11-22T11:11:20.567Z"
   },
   {
    "duration": 241,
    "start_time": "2022-11-22T11:11:20.743Z"
   },
   {
    "duration": 167,
    "start_time": "2022-11-22T11:11:20.986Z"
   },
   {
    "duration": 163,
    "start_time": "2022-11-22T11:11:21.154Z"
   },
   {
    "duration": 493,
    "start_time": "2022-11-22T11:11:21.319Z"
   },
   {
    "duration": 33,
    "start_time": "2022-11-22T11:11:21.814Z"
   },
   {
    "duration": 26,
    "start_time": "2022-11-22T11:11:21.849Z"
   },
   {
    "duration": 24,
    "start_time": "2022-11-22T11:11:21.876Z"
   },
   {
    "duration": 47,
    "start_time": "2022-11-22T11:11:21.902Z"
   },
   {
    "duration": 405,
    "start_time": "2022-11-22T11:11:21.950Z"
   },
   {
    "duration": 0,
    "start_time": "2022-11-22T11:11:22.357Z"
   },
   {
    "duration": 0,
    "start_time": "2022-11-22T11:11:22.359Z"
   },
   {
    "duration": 9,
    "start_time": "2022-11-22T11:11:26.061Z"
   },
   {
    "duration": 45,
    "start_time": "2022-11-22T11:11:49.800Z"
   },
   {
    "duration": 9,
    "start_time": "2022-11-22T11:12:24.503Z"
   },
   {
    "duration": 10,
    "start_time": "2022-11-22T11:12:37.424Z"
   },
   {
    "duration": 17,
    "start_time": "2022-11-22T11:12:49.475Z"
   },
   {
    "duration": 19,
    "start_time": "2022-11-22T11:13:42.811Z"
   },
   {
    "duration": 12,
    "start_time": "2022-11-22T11:14:16.260Z"
   },
   {
    "duration": 27,
    "start_time": "2022-11-22T11:14:23.426Z"
   },
   {
    "duration": 18,
    "start_time": "2022-11-22T11:15:34.275Z"
   },
   {
    "duration": 19,
    "start_time": "2022-11-22T11:20:14.823Z"
   },
   {
    "duration": 93,
    "start_time": "2022-11-22T11:21:19.501Z"
   },
   {
    "duration": 68,
    "start_time": "2022-11-22T11:21:44.449Z"
   },
   {
    "duration": 19,
    "start_time": "2022-11-22T11:21:52.672Z"
   },
   {
    "duration": 23,
    "start_time": "2022-11-22T11:22:05.907Z"
   },
   {
    "duration": 19,
    "start_time": "2022-11-22T11:23:57.382Z"
   },
   {
    "duration": 30,
    "start_time": "2022-11-22T11:30:44.648Z"
   },
   {
    "duration": 23,
    "start_time": "2022-11-22T11:31:22.970Z"
   },
   {
    "duration": 146,
    "start_time": "2022-11-22T11:33:50.857Z"
   },
   {
    "duration": 140,
    "start_time": "2022-11-22T11:34:17.341Z"
   },
   {
    "duration": 142,
    "start_time": "2022-11-22T11:34:48.672Z"
   },
   {
    "duration": 593,
    "start_time": "2022-11-22T11:52:58.094Z"
   },
   {
    "duration": 88,
    "start_time": "2022-11-22T11:52:58.688Z"
   },
   {
    "duration": 10,
    "start_time": "2022-11-22T11:52:58.777Z"
   },
   {
    "duration": 78,
    "start_time": "2022-11-22T11:52:58.789Z"
   },
   {
    "duration": 35,
    "start_time": "2022-11-22T11:52:58.869Z"
   },
   {
    "duration": 29,
    "start_time": "2022-11-22T11:52:58.906Z"
   },
   {
    "duration": 9,
    "start_time": "2022-11-22T11:52:58.937Z"
   },
   {
    "duration": 23,
    "start_time": "2022-11-22T11:52:58.948Z"
   },
   {
    "duration": 7,
    "start_time": "2022-11-22T11:52:58.973Z"
   },
   {
    "duration": 8,
    "start_time": "2022-11-22T11:52:58.982Z"
   },
   {
    "duration": 51,
    "start_time": "2022-11-22T11:52:58.992Z"
   },
   {
    "duration": 19,
    "start_time": "2022-11-22T11:52:59.044Z"
   },
   {
    "duration": 32,
    "start_time": "2022-11-22T11:52:59.064Z"
   },
   {
    "duration": 3,
    "start_time": "2022-11-22T11:52:59.097Z"
   },
   {
    "duration": 45,
    "start_time": "2022-11-22T11:52:59.101Z"
   },
   {
    "duration": 39,
    "start_time": "2022-11-22T11:52:59.147Z"
   },
   {
    "duration": 23,
    "start_time": "2022-11-22T11:52:59.187Z"
   },
   {
    "duration": 34,
    "start_time": "2022-11-22T11:52:59.211Z"
   },
   {
    "duration": 30,
    "start_time": "2022-11-22T11:52:59.246Z"
   },
   {
    "duration": 31,
    "start_time": "2022-11-22T11:52:59.277Z"
   },
   {
    "duration": 47,
    "start_time": "2022-11-22T11:52:59.310Z"
   },
   {
    "duration": 23,
    "start_time": "2022-11-22T11:52:59.358Z"
   },
   {
    "duration": 21,
    "start_time": "2022-11-22T11:52:59.383Z"
   },
   {
    "duration": 44,
    "start_time": "2022-11-22T11:52:59.406Z"
   },
   {
    "duration": 21,
    "start_time": "2022-11-22T11:52:59.452Z"
   },
   {
    "duration": 21,
    "start_time": "2022-11-22T11:52:59.475Z"
   },
   {
    "duration": 44,
    "start_time": "2022-11-22T11:52:59.497Z"
   },
   {
    "duration": 20,
    "start_time": "2022-11-22T11:52:59.544Z"
   },
   {
    "duration": 29,
    "start_time": "2022-11-22T11:52:59.565Z"
   },
   {
    "duration": 31,
    "start_time": "2022-11-22T11:52:59.595Z"
   },
   {
    "duration": 21,
    "start_time": "2022-11-22T11:52:59.636Z"
   },
   {
    "duration": 20,
    "start_time": "2022-11-22T11:52:59.659Z"
   },
   {
    "duration": 309,
    "start_time": "2022-11-22T11:52:59.681Z"
   },
   {
    "duration": 19,
    "start_time": "2022-11-22T11:52:59.991Z"
   },
   {
    "duration": 411,
    "start_time": "2022-11-22T11:53:00.012Z"
   },
   {
    "duration": 253,
    "start_time": "2022-11-22T11:53:00.425Z"
   },
   {
    "duration": 176,
    "start_time": "2022-11-22T11:53:00.680Z"
   },
   {
    "duration": 255,
    "start_time": "2022-11-22T11:53:00.857Z"
   },
   {
    "duration": 150,
    "start_time": "2022-11-22T11:53:01.113Z"
   },
   {
    "duration": 123,
    "start_time": "2022-11-22T11:53:01.264Z"
   },
   {
    "duration": 150,
    "start_time": "2022-11-22T11:53:01.388Z"
   },
   {
    "duration": 313,
    "start_time": "2022-11-22T11:53:01.540Z"
   },
   {
    "duration": 160,
    "start_time": "2022-11-22T11:53:01.854Z"
   },
   {
    "duration": 164,
    "start_time": "2022-11-22T11:53:02.015Z"
   },
   {
    "duration": 412,
    "start_time": "2022-11-22T11:53:02.180Z"
   },
   {
    "duration": 44,
    "start_time": "2022-11-22T11:53:02.594Z"
   },
   {
    "duration": 32,
    "start_time": "2022-11-22T11:53:02.640Z"
   },
   {
    "duration": 29,
    "start_time": "2022-11-22T11:53:02.673Z"
   },
   {
    "duration": 49,
    "start_time": "2022-11-22T11:53:02.703Z"
   },
   {
    "duration": 385,
    "start_time": "2022-11-22T11:53:02.753Z"
   },
   {
    "duration": 0,
    "start_time": "2022-11-22T11:53:03.139Z"
   },
   {
    "duration": 0,
    "start_time": "2022-11-22T11:53:03.140Z"
   },
   {
    "duration": 640,
    "start_time": "2022-11-22T11:56:56.096Z"
   },
   {
    "duration": 82,
    "start_time": "2022-11-22T11:56:56.738Z"
   },
   {
    "duration": 13,
    "start_time": "2022-11-22T11:56:56.822Z"
   },
   {
    "duration": 91,
    "start_time": "2022-11-22T11:56:56.838Z"
   },
   {
    "duration": 35,
    "start_time": "2022-11-22T11:56:56.931Z"
   },
   {
    "duration": 22,
    "start_time": "2022-11-22T11:56:56.968Z"
   },
   {
    "duration": 35,
    "start_time": "2022-11-22T11:56:56.992Z"
   },
   {
    "duration": 30,
    "start_time": "2022-11-22T11:56:57.029Z"
   },
   {
    "duration": 8,
    "start_time": "2022-11-22T11:56:57.061Z"
   },
   {
    "duration": 9,
    "start_time": "2022-11-22T11:56:57.072Z"
   },
   {
    "duration": 48,
    "start_time": "2022-11-22T11:56:57.082Z"
   },
   {
    "duration": 15,
    "start_time": "2022-11-22T11:56:57.132Z"
   },
   {
    "duration": 25,
    "start_time": "2022-11-22T11:56:57.149Z"
   },
   {
    "duration": 2,
    "start_time": "2022-11-22T11:56:57.176Z"
   },
   {
    "duration": 55,
    "start_time": "2022-11-22T11:56:57.179Z"
   },
   {
    "duration": 23,
    "start_time": "2022-11-22T11:56:57.236Z"
   },
   {
    "duration": 23,
    "start_time": "2022-11-22T11:56:57.261Z"
   },
   {
    "duration": 47,
    "start_time": "2022-11-22T11:56:57.285Z"
   },
   {
    "duration": 36,
    "start_time": "2022-11-22T11:56:57.334Z"
   },
   {
    "duration": 33,
    "start_time": "2022-11-22T11:56:57.372Z"
   },
   {
    "duration": 38,
    "start_time": "2022-11-22T11:56:57.406Z"
   },
   {
    "duration": 23,
    "start_time": "2022-11-22T11:56:57.445Z"
   },
   {
    "duration": 23,
    "start_time": "2022-11-22T11:56:57.470Z"
   },
   {
    "duration": 44,
    "start_time": "2022-11-22T11:56:57.495Z"
   },
   {
    "duration": 22,
    "start_time": "2022-11-22T11:56:57.541Z"
   },
   {
    "duration": 22,
    "start_time": "2022-11-22T11:56:57.565Z"
   },
   {
    "duration": 43,
    "start_time": "2022-11-22T11:56:57.589Z"
   },
   {
    "duration": 20,
    "start_time": "2022-11-22T11:56:57.635Z"
   },
   {
    "duration": 22,
    "start_time": "2022-11-22T11:56:57.657Z"
   },
   {
    "duration": 22,
    "start_time": "2022-11-22T11:56:57.680Z"
   },
   {
    "duration": 40,
    "start_time": "2022-11-22T11:56:57.703Z"
   },
   {
    "duration": 21,
    "start_time": "2022-11-22T11:56:57.745Z"
   },
   {
    "duration": 285,
    "start_time": "2022-11-22T11:56:57.768Z"
   },
   {
    "duration": 19,
    "start_time": "2022-11-22T11:56:58.055Z"
   },
   {
    "duration": 427,
    "start_time": "2022-11-22T11:56:58.075Z"
   },
   {
    "duration": 257,
    "start_time": "2022-11-22T11:56:58.504Z"
   },
   {
    "duration": 188,
    "start_time": "2022-11-22T11:56:58.763Z"
   },
   {
    "duration": 249,
    "start_time": "2022-11-22T11:56:58.953Z"
   },
   {
    "duration": 157,
    "start_time": "2022-11-22T11:56:59.204Z"
   },
   {
    "duration": 128,
    "start_time": "2022-11-22T11:56:59.362Z"
   },
   {
    "duration": 161,
    "start_time": "2022-11-22T11:56:59.491Z"
   },
   {
    "duration": 331,
    "start_time": "2022-11-22T11:56:59.654Z"
   },
   {
    "duration": 168,
    "start_time": "2022-11-22T11:56:59.986Z"
   },
   {
    "duration": 169,
    "start_time": "2022-11-22T11:57:00.156Z"
   },
   {
    "duration": 369,
    "start_time": "2022-11-22T11:57:00.327Z"
   },
   {
    "duration": 34,
    "start_time": "2022-11-22T11:57:00.698Z"
   },
   {
    "duration": 27,
    "start_time": "2022-11-22T11:57:00.734Z"
   },
   {
    "duration": 27,
    "start_time": "2022-11-22T11:57:00.763Z"
   },
   {
    "duration": 59,
    "start_time": "2022-11-22T11:57:00.792Z"
   },
   {
    "duration": 459,
    "start_time": "2022-11-22T11:57:00.853Z"
   },
   {
    "duration": 0,
    "start_time": "2022-11-22T11:57:01.314Z"
   },
   {
    "duration": 0,
    "start_time": "2022-11-22T11:57:01.315Z"
   },
   {
    "duration": 31,
    "start_time": "2022-11-22T11:57:13.021Z"
   },
   {
    "duration": 677,
    "start_time": "2022-11-22T18:49:14.428Z"
   },
   {
    "duration": 89,
    "start_time": "2022-11-22T18:49:15.108Z"
   },
   {
    "duration": 10,
    "start_time": "2022-11-22T18:49:15.199Z"
   },
   {
    "duration": 89,
    "start_time": "2022-11-22T18:49:15.211Z"
   },
   {
    "duration": 44,
    "start_time": "2022-11-22T18:49:15.302Z"
   },
   {
    "duration": 32,
    "start_time": "2022-11-22T18:49:15.347Z"
   },
   {
    "duration": 11,
    "start_time": "2022-11-22T18:49:15.381Z"
   },
   {
    "duration": 25,
    "start_time": "2022-11-22T18:49:15.394Z"
   },
   {
    "duration": 8,
    "start_time": "2022-11-22T18:49:15.422Z"
   },
   {
    "duration": 11,
    "start_time": "2022-11-22T18:49:15.433Z"
   },
   {
    "duration": 31,
    "start_time": "2022-11-22T18:49:15.478Z"
   },
   {
    "duration": 18,
    "start_time": "2022-11-22T18:49:15.512Z"
   },
   {
    "duration": 54,
    "start_time": "2022-11-22T18:49:15.532Z"
   },
   {
    "duration": 3,
    "start_time": "2022-11-22T18:49:15.588Z"
   },
   {
    "duration": 34,
    "start_time": "2022-11-22T18:49:15.593Z"
   },
   {
    "duration": 49,
    "start_time": "2022-11-22T18:49:15.629Z"
   },
   {
    "duration": 37,
    "start_time": "2022-11-22T18:49:15.680Z"
   },
   {
    "duration": 34,
    "start_time": "2022-11-22T18:49:15.719Z"
   },
   {
    "duration": 57,
    "start_time": "2022-11-22T18:49:15.755Z"
   },
   {
    "duration": 31,
    "start_time": "2022-11-22T18:49:15.814Z"
   },
   {
    "duration": 46,
    "start_time": "2022-11-22T18:49:15.846Z"
   },
   {
    "duration": 25,
    "start_time": "2022-11-22T18:49:15.893Z"
   },
   {
    "duration": 30,
    "start_time": "2022-11-22T18:49:15.920Z"
   },
   {
    "duration": 49,
    "start_time": "2022-11-22T18:49:15.953Z"
   },
   {
    "duration": 28,
    "start_time": "2022-11-22T18:49:16.004Z"
   },
   {
    "duration": 50,
    "start_time": "2022-11-22T18:49:16.033Z"
   },
   {
    "duration": 30,
    "start_time": "2022-11-22T18:49:16.085Z"
   },
   {
    "duration": 27,
    "start_time": "2022-11-22T18:49:16.119Z"
   },
   {
    "duration": 58,
    "start_time": "2022-11-22T18:49:16.148Z"
   },
   {
    "duration": 27,
    "start_time": "2022-11-22T18:49:16.208Z"
   },
   {
    "duration": 44,
    "start_time": "2022-11-22T18:49:16.236Z"
   },
   {
    "duration": 36,
    "start_time": "2022-11-22T18:49:16.282Z"
   },
   {
    "duration": 321,
    "start_time": "2022-11-22T18:49:16.320Z"
   },
   {
    "duration": 19,
    "start_time": "2022-11-22T18:49:16.643Z"
   },
   {
    "duration": 452,
    "start_time": "2022-11-22T18:49:16.664Z"
   },
   {
    "duration": 269,
    "start_time": "2022-11-22T18:49:17.118Z"
   },
   {
    "duration": 191,
    "start_time": "2022-11-22T18:49:17.389Z"
   },
   {
    "duration": 272,
    "start_time": "2022-11-22T18:49:17.581Z"
   },
   {
    "duration": 170,
    "start_time": "2022-11-22T18:49:17.855Z"
   },
   {
    "duration": 128,
    "start_time": "2022-11-22T18:49:18.027Z"
   },
   {
    "duration": 192,
    "start_time": "2022-11-22T18:49:18.156Z"
   },
   {
    "duration": 362,
    "start_time": "2022-11-22T18:49:18.350Z"
   },
   {
    "duration": 179,
    "start_time": "2022-11-22T18:49:18.714Z"
   },
   {
    "duration": 203,
    "start_time": "2022-11-22T18:49:18.895Z"
   },
   {
    "duration": 402,
    "start_time": "2022-11-22T18:49:19.100Z"
   },
   {
    "duration": 28,
    "start_time": "2022-11-22T18:49:19.504Z"
   },
   {
    "duration": 48,
    "start_time": "2022-11-22T18:49:19.534Z"
   },
   {
    "duration": 25,
    "start_time": "2022-11-22T18:49:19.584Z"
   },
   {
    "duration": 28,
    "start_time": "2022-11-22T18:49:19.611Z"
   },
   {
    "duration": 53,
    "start_time": "2022-11-22T18:49:19.640Z"
   },
   {
    "duration": 34,
    "start_time": "2022-11-22T18:49:19.695Z"
   },
   {
    "duration": 182,
    "start_time": "2022-11-22T18:49:19.731Z"
   },
   {
    "duration": 8,
    "start_time": "2022-11-22T19:03:08.656Z"
   },
   {
    "duration": 8,
    "start_time": "2022-11-22T19:03:13.909Z"
   },
   {
    "duration": 14,
    "start_time": "2022-11-22T19:05:50.718Z"
   },
   {
    "duration": 111,
    "start_time": "2022-11-22T19:05:57.193Z"
   },
   {
    "duration": 7,
    "start_time": "2022-11-22T19:06:20.679Z"
   },
   {
    "duration": 7,
    "start_time": "2022-11-22T19:06:28.900Z"
   },
   {
    "duration": 56,
    "start_time": "2022-11-24T05:39:53.976Z"
   },
   {
    "duration": 779,
    "start_time": "2022-11-24T05:40:10.176Z"
   },
   {
    "duration": 140,
    "start_time": "2022-11-24T05:40:10.957Z"
   },
   {
    "duration": 12,
    "start_time": "2022-11-24T05:40:11.099Z"
   },
   {
    "duration": 71,
    "start_time": "2022-11-24T05:40:11.113Z"
   },
   {
    "duration": 41,
    "start_time": "2022-11-24T05:40:11.186Z"
   },
   {
    "duration": 7,
    "start_time": "2022-11-24T05:40:11.230Z"
   },
   {
    "duration": 45,
    "start_time": "2022-11-24T05:40:11.239Z"
   },
   {
    "duration": 0,
    "start_time": "2022-11-24T05:40:11.286Z"
   },
   {
    "duration": 0,
    "start_time": "2022-11-24T05:40:11.287Z"
   },
   {
    "duration": 0,
    "start_time": "2022-11-24T05:40:11.288Z"
   },
   {
    "duration": 0,
    "start_time": "2022-11-24T05:40:11.289Z"
   },
   {
    "duration": 0,
    "start_time": "2022-11-24T05:40:11.290Z"
   },
   {
    "duration": 0,
    "start_time": "2022-11-24T05:40:11.291Z"
   },
   {
    "duration": 0,
    "start_time": "2022-11-24T05:40:11.292Z"
   },
   {
    "duration": 0,
    "start_time": "2022-11-24T05:40:11.293Z"
   },
   {
    "duration": 0,
    "start_time": "2022-11-24T05:40:11.294Z"
   },
   {
    "duration": 0,
    "start_time": "2022-11-24T05:40:11.295Z"
   },
   {
    "duration": 0,
    "start_time": "2022-11-24T05:40:11.296Z"
   },
   {
    "duration": 0,
    "start_time": "2022-11-24T05:40:11.297Z"
   },
   {
    "duration": 0,
    "start_time": "2022-11-24T05:40:11.298Z"
   },
   {
    "duration": 0,
    "start_time": "2022-11-24T05:40:11.299Z"
   },
   {
    "duration": 0,
    "start_time": "2022-11-24T05:40:11.299Z"
   },
   {
    "duration": 0,
    "start_time": "2022-11-24T05:40:11.300Z"
   },
   {
    "duration": 0,
    "start_time": "2022-11-24T05:40:11.300Z"
   },
   {
    "duration": 0,
    "start_time": "2022-11-24T05:40:11.301Z"
   },
   {
    "duration": 0,
    "start_time": "2022-11-24T05:40:11.301Z"
   },
   {
    "duration": 0,
    "start_time": "2022-11-24T05:40:11.302Z"
   },
   {
    "duration": 0,
    "start_time": "2022-11-24T05:40:11.323Z"
   },
   {
    "duration": 0,
    "start_time": "2022-11-24T05:40:11.324Z"
   },
   {
    "duration": 0,
    "start_time": "2022-11-24T05:40:11.325Z"
   },
   {
    "duration": 0,
    "start_time": "2022-11-24T05:40:11.326Z"
   },
   {
    "duration": 0,
    "start_time": "2022-11-24T05:40:11.327Z"
   },
   {
    "duration": 0,
    "start_time": "2022-11-24T05:40:11.328Z"
   },
   {
    "duration": 0,
    "start_time": "2022-11-24T05:40:11.329Z"
   },
   {
    "duration": 0,
    "start_time": "2022-11-24T05:40:11.329Z"
   },
   {
    "duration": 0,
    "start_time": "2022-11-24T05:40:11.331Z"
   },
   {
    "duration": 0,
    "start_time": "2022-11-24T05:40:11.331Z"
   },
   {
    "duration": 0,
    "start_time": "2022-11-24T05:40:11.332Z"
   },
   {
    "duration": 0,
    "start_time": "2022-11-24T05:40:11.333Z"
   },
   {
    "duration": 0,
    "start_time": "2022-11-24T05:40:11.334Z"
   },
   {
    "duration": 0,
    "start_time": "2022-11-24T05:40:11.335Z"
   },
   {
    "duration": 0,
    "start_time": "2022-11-24T05:40:11.336Z"
   },
   {
    "duration": 0,
    "start_time": "2022-11-24T05:40:11.338Z"
   },
   {
    "duration": 0,
    "start_time": "2022-11-24T05:40:11.339Z"
   },
   {
    "duration": 0,
    "start_time": "2022-11-24T05:40:11.340Z"
   },
   {
    "duration": 0,
    "start_time": "2022-11-24T05:40:11.341Z"
   },
   {
    "duration": 0,
    "start_time": "2022-11-24T05:40:11.342Z"
   },
   {
    "duration": 0,
    "start_time": "2022-11-24T05:40:11.343Z"
   },
   {
    "duration": 0,
    "start_time": "2022-11-24T05:40:11.344Z"
   },
   {
    "duration": 0,
    "start_time": "2022-11-24T05:40:11.347Z"
   },
   {
    "duration": 0,
    "start_time": "2022-11-24T05:40:11.348Z"
   },
   {
    "duration": 0,
    "start_time": "2022-11-24T05:40:11.349Z"
   },
   {
    "duration": 0,
    "start_time": "2022-11-24T05:40:11.350Z"
   },
   {
    "duration": 7,
    "start_time": "2022-11-24T05:40:26.293Z"
   },
   {
    "duration": 3,
    "start_time": "2022-11-24T05:43:15.463Z"
   },
   {
    "duration": 82,
    "start_time": "2022-11-24T05:43:15.468Z"
   },
   {
    "duration": 7,
    "start_time": "2022-11-24T05:43:15.551Z"
   },
   {
    "duration": 85,
    "start_time": "2022-11-24T05:43:15.560Z"
   },
   {
    "duration": 35,
    "start_time": "2022-11-24T05:43:15.647Z"
   },
   {
    "duration": 11,
    "start_time": "2022-11-24T05:43:15.683Z"
   },
   {
    "duration": 0,
    "start_time": "2022-11-24T05:43:15.697Z"
   },
   {
    "duration": 0,
    "start_time": "2022-11-24T05:43:15.698Z"
   },
   {
    "duration": 0,
    "start_time": "2022-11-24T05:43:15.699Z"
   },
   {
    "duration": 0,
    "start_time": "2022-11-24T05:43:15.700Z"
   },
   {
    "duration": 0,
    "start_time": "2022-11-24T05:43:15.701Z"
   },
   {
    "duration": 0,
    "start_time": "2022-11-24T05:43:15.721Z"
   },
   {
    "duration": 0,
    "start_time": "2022-11-24T05:43:15.722Z"
   },
   {
    "duration": 0,
    "start_time": "2022-11-24T05:43:15.724Z"
   },
   {
    "duration": 0,
    "start_time": "2022-11-24T05:43:15.725Z"
   },
   {
    "duration": 0,
    "start_time": "2022-11-24T05:43:15.726Z"
   },
   {
    "duration": 0,
    "start_time": "2022-11-24T05:43:15.727Z"
   },
   {
    "duration": 0,
    "start_time": "2022-11-24T05:43:15.728Z"
   },
   {
    "duration": 0,
    "start_time": "2022-11-24T05:43:15.729Z"
   },
   {
    "duration": 0,
    "start_time": "2022-11-24T05:43:15.730Z"
   },
   {
    "duration": 0,
    "start_time": "2022-11-24T05:43:15.731Z"
   },
   {
    "duration": 0,
    "start_time": "2022-11-24T05:43:15.732Z"
   },
   {
    "duration": 0,
    "start_time": "2022-11-24T05:43:15.733Z"
   },
   {
    "duration": 0,
    "start_time": "2022-11-24T05:43:15.734Z"
   },
   {
    "duration": 0,
    "start_time": "2022-11-24T05:43:15.735Z"
   },
   {
    "duration": 0,
    "start_time": "2022-11-24T05:43:15.735Z"
   },
   {
    "duration": 0,
    "start_time": "2022-11-24T05:43:15.736Z"
   },
   {
    "duration": 0,
    "start_time": "2022-11-24T05:43:15.737Z"
   },
   {
    "duration": 0,
    "start_time": "2022-11-24T05:43:15.738Z"
   },
   {
    "duration": 0,
    "start_time": "2022-11-24T05:43:15.739Z"
   },
   {
    "duration": 0,
    "start_time": "2022-11-24T05:43:15.740Z"
   },
   {
    "duration": 0,
    "start_time": "2022-11-24T05:43:15.741Z"
   },
   {
    "duration": 0,
    "start_time": "2022-11-24T05:43:15.742Z"
   },
   {
    "duration": 0,
    "start_time": "2022-11-24T05:43:15.743Z"
   },
   {
    "duration": 0,
    "start_time": "2022-11-24T05:43:15.744Z"
   },
   {
    "duration": 0,
    "start_time": "2022-11-24T05:43:15.745Z"
   },
   {
    "duration": 0,
    "start_time": "2022-11-24T05:43:15.746Z"
   },
   {
    "duration": 0,
    "start_time": "2022-11-24T05:43:15.747Z"
   },
   {
    "duration": 0,
    "start_time": "2022-11-24T05:43:15.747Z"
   },
   {
    "duration": 0,
    "start_time": "2022-11-24T05:43:15.748Z"
   },
   {
    "duration": 0,
    "start_time": "2022-11-24T05:43:15.749Z"
   },
   {
    "duration": 0,
    "start_time": "2022-11-24T05:43:15.750Z"
   },
   {
    "duration": 0,
    "start_time": "2022-11-24T05:43:15.751Z"
   },
   {
    "duration": 0,
    "start_time": "2022-11-24T05:43:15.752Z"
   },
   {
    "duration": 0,
    "start_time": "2022-11-24T05:43:15.753Z"
   },
   {
    "duration": 0,
    "start_time": "2022-11-24T05:43:15.754Z"
   },
   {
    "duration": 0,
    "start_time": "2022-11-24T05:43:15.755Z"
   },
   {
    "duration": 0,
    "start_time": "2022-11-24T05:43:15.756Z"
   },
   {
    "duration": 0,
    "start_time": "2022-11-24T05:43:15.757Z"
   },
   {
    "duration": 0,
    "start_time": "2022-11-24T05:43:15.757Z"
   },
   {
    "duration": 0,
    "start_time": "2022-11-24T05:43:15.758Z"
   },
   {
    "duration": 0,
    "start_time": "2022-11-24T05:43:15.759Z"
   },
   {
    "duration": 0,
    "start_time": "2022-11-24T05:43:15.760Z"
   },
   {
    "duration": 7,
    "start_time": "2022-11-24T05:43:33.976Z"
   },
   {
    "duration": 3,
    "start_time": "2022-11-24T05:43:59.657Z"
   },
   {
    "duration": 87,
    "start_time": "2022-11-24T05:43:59.662Z"
   },
   {
    "duration": 8,
    "start_time": "2022-11-24T05:43:59.751Z"
   },
   {
    "duration": 98,
    "start_time": "2022-11-24T05:43:59.760Z"
   },
   {
    "duration": 3,
    "start_time": "2022-11-24T05:43:59.861Z"
   },
   {
    "duration": 13,
    "start_time": "2022-11-24T05:43:59.866Z"
   },
   {
    "duration": 0,
    "start_time": "2022-11-24T05:43:59.891Z"
   },
   {
    "duration": 0,
    "start_time": "2022-11-24T05:43:59.893Z"
   },
   {
    "duration": 0,
    "start_time": "2022-11-24T05:43:59.895Z"
   },
   {
    "duration": 0,
    "start_time": "2022-11-24T05:43:59.896Z"
   },
   {
    "duration": 0,
    "start_time": "2022-11-24T05:43:59.897Z"
   },
   {
    "duration": 0,
    "start_time": "2022-11-24T05:43:59.898Z"
   },
   {
    "duration": 0,
    "start_time": "2022-11-24T05:43:59.899Z"
   },
   {
    "duration": 0,
    "start_time": "2022-11-24T05:43:59.900Z"
   },
   {
    "duration": 0,
    "start_time": "2022-11-24T05:43:59.922Z"
   },
   {
    "duration": 0,
    "start_time": "2022-11-24T05:43:59.922Z"
   },
   {
    "duration": 1,
    "start_time": "2022-11-24T05:43:59.923Z"
   },
   {
    "duration": 0,
    "start_time": "2022-11-24T05:43:59.925Z"
   },
   {
    "duration": 0,
    "start_time": "2022-11-24T05:43:59.926Z"
   },
   {
    "duration": 0,
    "start_time": "2022-11-24T05:43:59.927Z"
   },
   {
    "duration": 0,
    "start_time": "2022-11-24T05:43:59.929Z"
   },
   {
    "duration": 0,
    "start_time": "2022-11-24T05:43:59.931Z"
   },
   {
    "duration": 0,
    "start_time": "2022-11-24T05:43:59.932Z"
   },
   {
    "duration": 0,
    "start_time": "2022-11-24T05:43:59.934Z"
   },
   {
    "duration": 0,
    "start_time": "2022-11-24T05:43:59.935Z"
   },
   {
    "duration": 0,
    "start_time": "2022-11-24T05:43:59.937Z"
   },
   {
    "duration": 0,
    "start_time": "2022-11-24T05:43:59.938Z"
   },
   {
    "duration": 0,
    "start_time": "2022-11-24T05:43:59.940Z"
   },
   {
    "duration": 0,
    "start_time": "2022-11-24T05:43:59.941Z"
   },
   {
    "duration": 0,
    "start_time": "2022-11-24T05:43:59.943Z"
   },
   {
    "duration": 0,
    "start_time": "2022-11-24T05:43:59.945Z"
   },
   {
    "duration": 0,
    "start_time": "2022-11-24T05:43:59.947Z"
   },
   {
    "duration": 0,
    "start_time": "2022-11-24T05:43:59.948Z"
   },
   {
    "duration": 0,
    "start_time": "2022-11-24T05:43:59.950Z"
   },
   {
    "duration": 0,
    "start_time": "2022-11-24T05:43:59.951Z"
   },
   {
    "duration": 0,
    "start_time": "2022-11-24T05:43:59.953Z"
   },
   {
    "duration": 0,
    "start_time": "2022-11-24T05:43:59.954Z"
   },
   {
    "duration": 0,
    "start_time": "2022-11-24T05:43:59.956Z"
   },
   {
    "duration": 0,
    "start_time": "2022-11-24T05:43:59.958Z"
   },
   {
    "duration": 0,
    "start_time": "2022-11-24T05:43:59.960Z"
   },
   {
    "duration": 0,
    "start_time": "2022-11-24T05:43:59.962Z"
   },
   {
    "duration": 0,
    "start_time": "2022-11-24T05:43:59.962Z"
   },
   {
    "duration": 0,
    "start_time": "2022-11-24T05:43:59.963Z"
   },
   {
    "duration": 1,
    "start_time": "2022-11-24T05:43:59.963Z"
   },
   {
    "duration": 0,
    "start_time": "2022-11-24T05:43:59.964Z"
   },
   {
    "duration": 0,
    "start_time": "2022-11-24T05:43:59.964Z"
   },
   {
    "duration": 0,
    "start_time": "2022-11-24T05:43:59.965Z"
   },
   {
    "duration": 0,
    "start_time": "2022-11-24T05:43:59.965Z"
   },
   {
    "duration": 0,
    "start_time": "2022-11-24T05:44:00.022Z"
   },
   {
    "duration": 0,
    "start_time": "2022-11-24T05:44:00.024Z"
   },
   {
    "duration": 0,
    "start_time": "2022-11-24T05:44:00.025Z"
   },
   {
    "duration": 0,
    "start_time": "2022-11-24T05:44:00.025Z"
   },
   {
    "duration": 0,
    "start_time": "2022-11-24T05:44:00.026Z"
   },
   {
    "duration": 0,
    "start_time": "2022-11-24T05:44:00.028Z"
   },
   {
    "duration": 3,
    "start_time": "2022-11-24T05:44:21.705Z"
   },
   {
    "duration": 96,
    "start_time": "2022-11-24T05:44:21.710Z"
   },
   {
    "duration": 6,
    "start_time": "2022-11-24T05:44:21.807Z"
   },
   {
    "duration": 83,
    "start_time": "2022-11-24T05:44:21.815Z"
   },
   {
    "duration": 40,
    "start_time": "2022-11-24T05:44:21.900Z"
   },
   {
    "duration": 15,
    "start_time": "2022-11-24T05:44:21.942Z"
   },
   {
    "duration": 17,
    "start_time": "2022-11-24T05:44:21.959Z"
   },
   {
    "duration": 0,
    "start_time": "2022-11-24T05:44:21.979Z"
   },
   {
    "duration": 0,
    "start_time": "2022-11-24T05:44:21.980Z"
   },
   {
    "duration": 0,
    "start_time": "2022-11-24T05:44:21.981Z"
   },
   {
    "duration": 0,
    "start_time": "2022-11-24T05:44:21.983Z"
   },
   {
    "duration": 0,
    "start_time": "2022-11-24T05:44:21.984Z"
   },
   {
    "duration": 0,
    "start_time": "2022-11-24T05:44:21.986Z"
   },
   {
    "duration": 0,
    "start_time": "2022-11-24T05:44:21.987Z"
   },
   {
    "duration": 0,
    "start_time": "2022-11-24T05:44:21.988Z"
   },
   {
    "duration": 0,
    "start_time": "2022-11-24T05:44:21.989Z"
   },
   {
    "duration": 0,
    "start_time": "2022-11-24T05:44:21.991Z"
   },
   {
    "duration": 0,
    "start_time": "2022-11-24T05:44:21.992Z"
   },
   {
    "duration": 0,
    "start_time": "2022-11-24T05:44:21.994Z"
   },
   {
    "duration": 0,
    "start_time": "2022-11-24T05:44:21.995Z"
   },
   {
    "duration": 0,
    "start_time": "2022-11-24T05:44:21.997Z"
   },
   {
    "duration": 0,
    "start_time": "2022-11-24T05:44:21.998Z"
   },
   {
    "duration": 0,
    "start_time": "2022-11-24T05:44:22.022Z"
   },
   {
    "duration": 0,
    "start_time": "2022-11-24T05:44:22.024Z"
   },
   {
    "duration": 0,
    "start_time": "2022-11-24T05:44:22.025Z"
   },
   {
    "duration": 0,
    "start_time": "2022-11-24T05:44:22.026Z"
   },
   {
    "duration": 0,
    "start_time": "2022-11-24T05:44:22.027Z"
   },
   {
    "duration": 0,
    "start_time": "2022-11-24T05:44:22.028Z"
   },
   {
    "duration": 0,
    "start_time": "2022-11-24T05:44:22.029Z"
   },
   {
    "duration": 0,
    "start_time": "2022-11-24T05:44:22.031Z"
   },
   {
    "duration": 0,
    "start_time": "2022-11-24T05:44:22.032Z"
   },
   {
    "duration": 0,
    "start_time": "2022-11-24T05:44:22.033Z"
   },
   {
    "duration": 0,
    "start_time": "2022-11-24T05:44:22.035Z"
   },
   {
    "duration": 0,
    "start_time": "2022-11-24T05:44:22.036Z"
   },
   {
    "duration": 0,
    "start_time": "2022-11-24T05:44:22.038Z"
   },
   {
    "duration": 0,
    "start_time": "2022-11-24T05:44:22.039Z"
   },
   {
    "duration": 0,
    "start_time": "2022-11-24T05:44:22.040Z"
   },
   {
    "duration": 0,
    "start_time": "2022-11-24T05:44:22.041Z"
   },
   {
    "duration": 0,
    "start_time": "2022-11-24T05:44:22.042Z"
   },
   {
    "duration": 0,
    "start_time": "2022-11-24T05:44:22.043Z"
   },
   {
    "duration": 0,
    "start_time": "2022-11-24T05:44:22.044Z"
   },
   {
    "duration": 0,
    "start_time": "2022-11-24T05:44:22.045Z"
   },
   {
    "duration": 0,
    "start_time": "2022-11-24T05:44:22.047Z"
   },
   {
    "duration": 0,
    "start_time": "2022-11-24T05:44:22.048Z"
   },
   {
    "duration": 0,
    "start_time": "2022-11-24T05:44:22.049Z"
   },
   {
    "duration": 0,
    "start_time": "2022-11-24T05:44:22.050Z"
   },
   {
    "duration": 0,
    "start_time": "2022-11-24T05:44:22.051Z"
   },
   {
    "duration": 0,
    "start_time": "2022-11-24T05:44:22.053Z"
   },
   {
    "duration": 0,
    "start_time": "2022-11-24T05:44:22.054Z"
   },
   {
    "duration": 0,
    "start_time": "2022-11-24T05:44:22.056Z"
   },
   {
    "duration": 0,
    "start_time": "2022-11-24T05:44:22.056Z"
   },
   {
    "duration": 0,
    "start_time": "2022-11-24T05:44:22.058Z"
   },
   {
    "duration": 0,
    "start_time": "2022-11-24T05:44:22.059Z"
   },
   {
    "duration": 3,
    "start_time": "2022-11-24T05:44:51.846Z"
   },
   {
    "duration": 9,
    "start_time": "2022-11-24T05:45:01.056Z"
   },
   {
    "duration": 9,
    "start_time": "2022-11-24T05:45:10.563Z"
   },
   {
    "duration": 3,
    "start_time": "2022-11-24T05:45:12.510Z"
   },
   {
    "duration": 98,
    "start_time": "2022-11-24T05:45:12.515Z"
   },
   {
    "duration": 7,
    "start_time": "2022-11-24T05:45:12.615Z"
   },
   {
    "duration": 85,
    "start_time": "2022-11-24T05:45:12.625Z"
   },
   {
    "duration": 34,
    "start_time": "2022-11-24T05:45:12.712Z"
   },
   {
    "duration": 30,
    "start_time": "2022-11-24T05:45:12.748Z"
   },
   {
    "duration": 39,
    "start_time": "2022-11-24T05:45:12.780Z"
   },
   {
    "duration": 9,
    "start_time": "2022-11-24T05:45:12.821Z"
   },
   {
    "duration": 41,
    "start_time": "2022-11-24T05:45:12.832Z"
   },
   {
    "duration": 8,
    "start_time": "2022-11-24T05:45:12.874Z"
   },
   {
    "duration": 16,
    "start_time": "2022-11-24T05:45:12.884Z"
   },
   {
    "duration": 40,
    "start_time": "2022-11-24T05:45:12.902Z"
   },
   {
    "duration": 18,
    "start_time": "2022-11-24T05:45:12.944Z"
   },
   {
    "duration": 39,
    "start_time": "2022-11-24T05:45:12.964Z"
   },
   {
    "duration": 17,
    "start_time": "2022-11-24T05:45:13.005Z"
   },
   {
    "duration": 50,
    "start_time": "2022-11-24T05:45:13.024Z"
   },
   {
    "duration": 26,
    "start_time": "2022-11-24T05:45:13.075Z"
   },
   {
    "duration": 22,
    "start_time": "2022-11-24T05:45:13.103Z"
   },
   {
    "duration": 25,
    "start_time": "2022-11-24T05:45:13.127Z"
   },
   {
    "duration": 43,
    "start_time": "2022-11-24T05:45:13.153Z"
   },
   {
    "duration": 59,
    "start_time": "2022-11-24T05:45:13.198Z"
   },
   {
    "duration": 23,
    "start_time": "2022-11-24T05:45:13.260Z"
   },
   {
    "duration": 45,
    "start_time": "2022-11-24T05:45:13.284Z"
   },
   {
    "duration": 26,
    "start_time": "2022-11-24T05:45:13.330Z"
   },
   {
    "duration": 29,
    "start_time": "2022-11-24T05:45:13.358Z"
   },
   {
    "duration": 52,
    "start_time": "2022-11-24T05:45:13.388Z"
   },
   {
    "duration": 20,
    "start_time": "2022-11-24T05:45:13.442Z"
   },
   {
    "duration": 18,
    "start_time": "2022-11-24T05:45:13.464Z"
   },
   {
    "duration": 43,
    "start_time": "2022-11-24T05:45:13.486Z"
   },
   {
    "duration": 31,
    "start_time": "2022-11-24T05:45:13.531Z"
   },
   {
    "duration": 38,
    "start_time": "2022-11-24T05:45:13.564Z"
   },
   {
    "duration": 31,
    "start_time": "2022-11-24T05:45:13.622Z"
   },
   {
    "duration": 20,
    "start_time": "2022-11-24T05:45:13.655Z"
   },
   {
    "duration": 331,
    "start_time": "2022-11-24T05:45:13.676Z"
   },
   {
    "duration": 32,
    "start_time": "2022-11-24T05:45:14.008Z"
   },
   {
    "duration": 558,
    "start_time": "2022-11-24T05:45:14.043Z"
   },
   {
    "duration": 262,
    "start_time": "2022-11-24T05:45:14.603Z"
   },
   {
    "duration": 197,
    "start_time": "2022-11-24T05:45:14.867Z"
   },
   {
    "duration": 274,
    "start_time": "2022-11-24T05:45:15.067Z"
   },
   {
    "duration": 164,
    "start_time": "2022-11-24T05:45:15.342Z"
   },
   {
    "duration": 132,
    "start_time": "2022-11-24T05:45:15.508Z"
   },
   {
    "duration": 162,
    "start_time": "2022-11-24T05:45:15.641Z"
   },
   {
    "duration": 377,
    "start_time": "2022-11-24T05:45:15.806Z"
   },
   {
    "duration": 164,
    "start_time": "2022-11-24T05:45:16.185Z"
   },
   {
    "duration": 167,
    "start_time": "2022-11-24T05:45:16.351Z"
   },
   {
    "duration": 383,
    "start_time": "2022-11-24T05:45:16.519Z"
   },
   {
    "duration": 37,
    "start_time": "2022-11-24T05:45:16.904Z"
   },
   {
    "duration": 30,
    "start_time": "2022-11-24T05:45:16.944Z"
   },
   {
    "duration": 59,
    "start_time": "2022-11-24T05:45:16.976Z"
   },
   {
    "duration": 28,
    "start_time": "2022-11-24T05:45:17.036Z"
   },
   {
    "duration": 27,
    "start_time": "2022-11-24T05:45:17.066Z"
   },
   {
    "duration": 59,
    "start_time": "2022-11-24T05:45:17.094Z"
   },
   {
    "duration": 193,
    "start_time": "2022-11-24T05:45:17.155Z"
   },
   {
    "duration": 16,
    "start_time": "2022-11-24T05:45:39.090Z"
   },
   {
    "duration": 4,
    "start_time": "2022-11-24T05:46:00.336Z"
   },
   {
    "duration": 113,
    "start_time": "2022-11-24T05:46:00.342Z"
   },
   {
    "duration": 7,
    "start_time": "2022-11-24T05:46:00.457Z"
   },
   {
    "duration": 128,
    "start_time": "2022-11-24T05:46:00.467Z"
   },
   {
    "duration": 34,
    "start_time": "2022-11-24T05:46:00.597Z"
   },
   {
    "duration": 42,
    "start_time": "2022-11-24T05:46:00.634Z"
   },
   {
    "duration": 27,
    "start_time": "2022-11-24T05:46:00.678Z"
   },
   {
    "duration": 20,
    "start_time": "2022-11-24T05:46:00.707Z"
   },
   {
    "duration": 29,
    "start_time": "2022-11-24T05:46:00.730Z"
   },
   {
    "duration": 7,
    "start_time": "2022-11-24T05:46:00.761Z"
   },
   {
    "duration": 21,
    "start_time": "2022-11-24T05:46:00.769Z"
   },
   {
    "duration": 31,
    "start_time": "2022-11-24T05:46:00.792Z"
   },
   {
    "duration": 16,
    "start_time": "2022-11-24T05:46:00.824Z"
   },
   {
    "duration": 27,
    "start_time": "2022-11-24T05:46:00.842Z"
   },
   {
    "duration": 2,
    "start_time": "2022-11-24T05:46:00.871Z"
   },
   {
    "duration": 49,
    "start_time": "2022-11-24T05:46:00.874Z"
   },
   {
    "duration": 22,
    "start_time": "2022-11-24T05:46:00.925Z"
   },
   {
    "duration": 23,
    "start_time": "2022-11-24T05:46:00.948Z"
   },
   {
    "duration": 23,
    "start_time": "2022-11-24T05:46:00.972Z"
   },
   {
    "duration": 54,
    "start_time": "2022-11-24T05:46:00.997Z"
   },
   {
    "duration": 29,
    "start_time": "2022-11-24T05:46:01.053Z"
   },
   {
    "duration": 46,
    "start_time": "2022-11-24T05:46:01.084Z"
   },
   {
    "duration": 22,
    "start_time": "2022-11-24T05:46:01.131Z"
   },
   {
    "duration": 22,
    "start_time": "2022-11-24T05:46:01.157Z"
   },
   {
    "duration": 45,
    "start_time": "2022-11-24T05:46:01.181Z"
   },
   {
    "duration": 31,
    "start_time": "2022-11-24T05:46:01.229Z"
   },
   {
    "duration": 19,
    "start_time": "2022-11-24T05:46:01.262Z"
   },
   {
    "duration": 42,
    "start_time": "2022-11-24T05:46:01.283Z"
   },
   {
    "duration": 18,
    "start_time": "2022-11-24T05:46:01.327Z"
   },
   {
    "duration": 20,
    "start_time": "2022-11-24T05:46:01.347Z"
   },
   {
    "duration": 20,
    "start_time": "2022-11-24T05:46:01.369Z"
   },
   {
    "duration": 44,
    "start_time": "2022-11-24T05:46:01.391Z"
   },
   {
    "duration": 21,
    "start_time": "2022-11-24T05:46:01.436Z"
   },
   {
    "duration": 398,
    "start_time": "2022-11-24T05:46:01.459Z"
   },
   {
    "duration": 21,
    "start_time": "2022-11-24T05:46:01.859Z"
   },
   {
    "duration": 391,
    "start_time": "2022-11-24T05:46:01.882Z"
   },
   {
    "duration": 257,
    "start_time": "2022-11-24T05:46:02.275Z"
   },
   {
    "duration": 172,
    "start_time": "2022-11-24T05:46:02.534Z"
   },
   {
    "duration": 248,
    "start_time": "2022-11-24T05:46:02.708Z"
   },
   {
    "duration": 158,
    "start_time": "2022-11-24T05:46:02.958Z"
   },
   {
    "duration": 129,
    "start_time": "2022-11-24T05:46:03.121Z"
   },
   {
    "duration": 159,
    "start_time": "2022-11-24T05:46:03.252Z"
   },
   {
    "duration": 315,
    "start_time": "2022-11-24T05:46:03.413Z"
   },
   {
    "duration": 168,
    "start_time": "2022-11-24T05:46:03.730Z"
   },
   {
    "duration": 178,
    "start_time": "2022-11-24T05:46:03.900Z"
   },
   {
    "duration": 399,
    "start_time": "2022-11-24T05:46:04.080Z"
   },
   {
    "duration": 25,
    "start_time": "2022-11-24T05:46:04.482Z"
   },
   {
    "duration": 44,
    "start_time": "2022-11-24T05:46:04.509Z"
   },
   {
    "duration": 50,
    "start_time": "2022-11-24T05:46:04.555Z"
   },
   {
    "duration": 25,
    "start_time": "2022-11-24T05:46:04.606Z"
   },
   {
    "duration": 26,
    "start_time": "2022-11-24T05:46:04.633Z"
   },
   {
    "duration": 31,
    "start_time": "2022-11-24T05:46:04.660Z"
   },
   {
    "duration": 181,
    "start_time": "2022-11-24T05:46:04.692Z"
   },
   {
    "duration": 2716,
    "start_time": "2022-11-24T05:48:47.596Z"
   },
   {
    "duration": 3,
    "start_time": "2022-11-24T05:50:04.256Z"
   },
   {
    "duration": 259,
    "start_time": "2022-11-24T05:51:37.643Z"
   },
   {
    "duration": 49,
    "start_time": "2022-11-24T20:29:18.664Z"
   },
   {
    "duration": 751,
    "start_time": "2022-11-24T20:29:23.193Z"
   },
   {
    "duration": 321,
    "start_time": "2022-11-24T20:29:23.946Z"
   },
   {
    "duration": 13,
    "start_time": "2022-11-24T20:29:24.269Z"
   },
   {
    "duration": 77,
    "start_time": "2022-11-24T20:29:24.284Z"
   },
   {
    "duration": 38,
    "start_time": "2022-11-24T20:29:24.364Z"
   },
   {
    "duration": 36,
    "start_time": "2022-11-24T20:29:24.404Z"
   },
   {
    "duration": 28,
    "start_time": "2022-11-24T20:29:24.441Z"
   },
   {
    "duration": 1986,
    "start_time": "2022-11-24T20:29:24.471Z"
   },
   {
    "duration": 10,
    "start_time": "2022-11-24T20:29:26.459Z"
   },
   {
    "duration": 27,
    "start_time": "2022-11-24T20:29:26.471Z"
   },
   {
    "duration": 8,
    "start_time": "2022-11-24T20:29:26.499Z"
   },
   {
    "duration": 23,
    "start_time": "2022-11-24T20:29:26.508Z"
   },
   {
    "duration": 35,
    "start_time": "2022-11-24T20:29:26.533Z"
   },
   {
    "duration": 17,
    "start_time": "2022-11-24T20:29:26.571Z"
   },
   {
    "duration": 25,
    "start_time": "2022-11-24T20:29:26.589Z"
   },
   {
    "duration": 3,
    "start_time": "2022-11-24T20:29:26.616Z"
   },
   {
    "duration": 16,
    "start_time": "2022-11-24T20:29:26.620Z"
   },
   {
    "duration": 53,
    "start_time": "2022-11-24T20:29:26.637Z"
   },
   {
    "duration": 59,
    "start_time": "2022-11-24T20:29:26.691Z"
   },
   {
    "duration": 25,
    "start_time": "2022-11-24T20:29:26.753Z"
   },
   {
    "duration": 23,
    "start_time": "2022-11-24T20:29:26.780Z"
   },
   {
    "duration": 51,
    "start_time": "2022-11-24T20:29:26.805Z"
   },
   {
    "duration": 31,
    "start_time": "2022-11-24T20:29:26.858Z"
   },
   {
    "duration": 48,
    "start_time": "2022-11-24T20:29:26.890Z"
   },
   {
    "duration": 26,
    "start_time": "2022-11-24T20:29:26.940Z"
   },
   {
    "duration": 23,
    "start_time": "2022-11-24T20:29:26.968Z"
   },
   {
    "duration": 46,
    "start_time": "2022-11-24T20:29:26.992Z"
   },
   {
    "duration": 24,
    "start_time": "2022-11-24T20:29:27.045Z"
   },
   {
    "duration": 20,
    "start_time": "2022-11-24T20:29:27.070Z"
   },
   {
    "duration": 19,
    "start_time": "2022-11-24T20:29:27.092Z"
   },
   {
    "duration": 3,
    "start_time": "2022-11-24T20:29:27.136Z"
   },
   {
    "duration": 31,
    "start_time": "2022-11-24T20:29:27.141Z"
   },
   {
    "duration": 34,
    "start_time": "2022-11-24T20:29:27.174Z"
   },
   {
    "duration": 19,
    "start_time": "2022-11-24T20:29:27.210Z"
   },
   {
    "duration": 29,
    "start_time": "2022-11-24T20:29:27.234Z"
   },
   {
    "duration": 313,
    "start_time": "2022-11-24T20:29:27.264Z"
   },
   {
    "duration": 22,
    "start_time": "2022-11-24T20:29:27.579Z"
   },
   {
    "duration": 413,
    "start_time": "2022-11-24T20:29:27.603Z"
   },
   {
    "duration": 372,
    "start_time": "2022-11-24T20:29:28.018Z"
   },
   {
    "duration": 194,
    "start_time": "2022-11-24T20:29:28.392Z"
   },
   {
    "duration": 307,
    "start_time": "2022-11-24T20:29:28.588Z"
   },
   {
    "duration": 181,
    "start_time": "2022-11-24T20:29:28.897Z"
   },
   {
    "duration": 131,
    "start_time": "2022-11-24T20:29:29.079Z"
   },
   {
    "duration": 167,
    "start_time": "2022-11-24T20:29:29.211Z"
   },
   {
    "duration": 246,
    "start_time": "2022-11-24T20:29:29.380Z"
   },
   {
    "duration": 176,
    "start_time": "2022-11-24T20:29:29.627Z"
   },
   {
    "duration": 295,
    "start_time": "2022-11-24T20:29:29.805Z"
   },
   {
    "duration": 390,
    "start_time": "2022-11-24T20:29:30.101Z"
   },
   {
    "duration": 26,
    "start_time": "2022-11-24T20:29:30.493Z"
   },
   {
    "duration": 99,
    "start_time": "2022-11-24T20:29:30.520Z"
   },
   {
    "duration": 68,
    "start_time": "2022-11-24T20:29:30.621Z"
   },
   {
    "duration": 55,
    "start_time": "2022-11-24T20:29:30.691Z"
   },
   {
    "duration": 50,
    "start_time": "2022-11-24T20:29:30.748Z"
   },
   {
    "duration": 57,
    "start_time": "2022-11-24T20:29:30.799Z"
   },
   {
    "duration": 247,
    "start_time": "2022-11-24T20:29:30.858Z"
   },
   {
    "duration": 19,
    "start_time": "2022-11-24T20:30:08.833Z"
   },
   {
    "duration": 37,
    "start_time": "2022-11-24T20:31:00.390Z"
   },
   {
    "duration": 9,
    "start_time": "2022-11-24T20:31:06.144Z"
   },
   {
    "duration": 6,
    "start_time": "2022-11-24T20:31:14.079Z"
   },
   {
    "duration": 9,
    "start_time": "2022-11-24T20:31:31.127Z"
   },
   {
    "duration": 9,
    "start_time": "2022-11-24T20:32:56.688Z"
   },
   {
    "duration": 5,
    "start_time": "2022-11-24T20:33:03.253Z"
   },
   {
    "duration": 7,
    "start_time": "2022-11-24T20:33:27.807Z"
   },
   {
    "duration": 5,
    "start_time": "2022-11-24T20:34:08.622Z"
   },
   {
    "duration": 7,
    "start_time": "2022-11-24T20:34:23.482Z"
   },
   {
    "duration": 22,
    "start_time": "2022-11-24T20:34:38.611Z"
   },
   {
    "duration": 20,
    "start_time": "2022-11-24T20:35:36.442Z"
   },
   {
    "duration": 7,
    "start_time": "2022-11-24T20:36:16.271Z"
   },
   {
    "duration": 3,
    "start_time": "2022-11-24T20:47:21.439Z"
   },
   {
    "duration": 91,
    "start_time": "2022-11-24T20:47:21.445Z"
   },
   {
    "duration": 7,
    "start_time": "2022-11-24T20:47:21.538Z"
   },
   {
    "duration": 82,
    "start_time": "2022-11-24T20:47:21.546Z"
   },
   {
    "duration": 37,
    "start_time": "2022-11-24T20:47:21.629Z"
   },
   {
    "duration": 34,
    "start_time": "2022-11-24T20:47:21.668Z"
   },
   {
    "duration": 35,
    "start_time": "2022-11-24T20:47:21.704Z"
   },
   {
    "duration": 1902,
    "start_time": "2022-11-24T20:47:21.740Z"
   },
   {
    "duration": 9,
    "start_time": "2022-11-24T20:47:23.644Z"
   },
   {
    "duration": 51,
    "start_time": "2022-11-24T20:47:23.655Z"
   },
   {
    "duration": 11,
    "start_time": "2022-11-24T20:47:23.710Z"
   },
   {
    "duration": 25,
    "start_time": "2022-11-24T20:47:23.723Z"
   },
   {
    "duration": 46,
    "start_time": "2022-11-24T20:47:23.749Z"
   },
   {
    "duration": 31,
    "start_time": "2022-11-24T20:47:23.796Z"
   },
   {
    "duration": 2,
    "start_time": "2022-11-24T20:47:23.829Z"
   },
   {
    "duration": 29,
    "start_time": "2022-11-24T20:47:23.833Z"
   },
   {
    "duration": 19,
    "start_time": "2022-11-24T20:47:23.864Z"
   },
   {
    "duration": 25,
    "start_time": "2022-11-24T20:47:23.884Z"
   },
   {
    "duration": 34,
    "start_time": "2022-11-24T20:47:23.911Z"
   },
   {
    "duration": 20,
    "start_time": "2022-11-24T20:47:23.946Z"
   },
   {
    "duration": 22,
    "start_time": "2022-11-24T20:47:23.968Z"
   },
   {
    "duration": 54,
    "start_time": "2022-11-24T20:47:23.991Z"
   },
   {
    "duration": 27,
    "start_time": "2022-11-24T20:47:24.046Z"
   },
   {
    "duration": 24,
    "start_time": "2022-11-24T20:47:24.074Z"
   },
   {
    "duration": 39,
    "start_time": "2022-11-24T20:47:24.100Z"
   },
   {
    "duration": 20,
    "start_time": "2022-11-24T20:47:24.141Z"
   },
   {
    "duration": 18,
    "start_time": "2022-11-24T20:47:24.163Z"
   },
   {
    "duration": 16,
    "start_time": "2022-11-24T20:47:24.183Z"
   },
   {
    "duration": 45,
    "start_time": "2022-11-24T20:47:24.203Z"
   },
   {
    "duration": 17,
    "start_time": "2022-11-24T20:47:24.250Z"
   },
   {
    "duration": 3,
    "start_time": "2022-11-24T20:47:24.269Z"
   },
   {
    "duration": 21,
    "start_time": "2022-11-24T20:47:24.273Z"
   },
   {
    "duration": 47,
    "start_time": "2022-11-24T20:47:24.296Z"
   },
   {
    "duration": 20,
    "start_time": "2022-11-24T20:47:24.345Z"
   },
   {
    "duration": 19,
    "start_time": "2022-11-24T20:47:24.367Z"
   },
   {
    "duration": 301,
    "start_time": "2022-11-24T20:47:24.388Z"
   },
   {
    "duration": 20,
    "start_time": "2022-11-24T20:47:24.691Z"
   },
   {
    "duration": 373,
    "start_time": "2022-11-24T20:47:24.713Z"
   },
   {
    "duration": 235,
    "start_time": "2022-11-24T20:47:25.087Z"
   },
   {
    "duration": 280,
    "start_time": "2022-11-24T20:47:25.323Z"
   },
   {
    "duration": 243,
    "start_time": "2022-11-24T20:47:25.604Z"
   },
   {
    "duration": 158,
    "start_time": "2022-11-24T20:47:25.849Z"
   },
   {
    "duration": 117,
    "start_time": "2022-11-24T20:47:26.009Z"
   },
   {
    "duration": 163,
    "start_time": "2022-11-24T20:47:26.127Z"
   },
   {
    "duration": 237,
    "start_time": "2022-11-24T20:47:26.292Z"
   },
   {
    "duration": 166,
    "start_time": "2022-11-24T20:47:26.531Z"
   },
   {
    "duration": 211,
    "start_time": "2022-11-24T20:47:26.698Z"
   },
   {
    "duration": 517,
    "start_time": "2022-11-24T20:47:26.911Z"
   },
   {
    "duration": 30,
    "start_time": "2022-11-24T20:47:27.429Z"
   },
   {
    "duration": 25,
    "start_time": "2022-11-24T20:47:27.461Z"
   },
   {
    "duration": 49,
    "start_time": "2022-11-24T20:47:27.487Z"
   },
   {
    "duration": 26,
    "start_time": "2022-11-24T20:47:27.538Z"
   },
   {
    "duration": 25,
    "start_time": "2022-11-24T20:47:27.565Z"
   },
   {
    "duration": 58,
    "start_time": "2022-11-24T20:47:27.592Z"
   },
   {
    "duration": 170,
    "start_time": "2022-11-24T20:47:27.652Z"
   },
   {
    "duration": 42,
    "start_time": "2022-11-24T20:48:23.413Z"
   },
   {
    "duration": 43,
    "start_time": "2022-11-24T20:48:28.123Z"
   },
   {
    "duration": 2,
    "start_time": "2022-11-24T20:48:40.730Z"
   },
   {
    "duration": 84,
    "start_time": "2022-11-24T20:48:40.735Z"
   },
   {
    "duration": 6,
    "start_time": "2022-11-24T20:48:40.821Z"
   },
   {
    "duration": 75,
    "start_time": "2022-11-24T20:48:40.829Z"
   },
   {
    "duration": 39,
    "start_time": "2022-11-24T20:48:40.906Z"
   },
   {
    "duration": 23,
    "start_time": "2022-11-24T20:48:40.947Z"
   },
   {
    "duration": 32,
    "start_time": "2022-11-24T20:48:40.972Z"
   },
   {
    "duration": 1995,
    "start_time": "2022-11-24T20:48:41.005Z"
   },
   {
    "duration": 9,
    "start_time": "2022-11-24T20:48:43.002Z"
   },
   {
    "duration": 38,
    "start_time": "2022-11-24T20:48:43.013Z"
   },
   {
    "duration": 8,
    "start_time": "2022-11-24T20:48:43.054Z"
   },
   {
    "duration": 13,
    "start_time": "2022-11-24T20:48:43.063Z"
   },
   {
    "duration": 46,
    "start_time": "2022-11-24T20:48:43.078Z"
   },
   {
    "duration": 17,
    "start_time": "2022-11-24T20:48:43.125Z"
   },
   {
    "duration": 2,
    "start_time": "2022-11-24T20:48:43.144Z"
   },
   {
    "duration": 28,
    "start_time": "2022-11-24T20:48:43.148Z"
   },
   {
    "duration": 43,
    "start_time": "2022-11-24T20:48:43.177Z"
   },
   {
    "duration": 25,
    "start_time": "2022-11-24T20:48:43.236Z"
   },
   {
    "duration": 29,
    "start_time": "2022-11-24T20:48:43.262Z"
   },
   {
    "duration": 19,
    "start_time": "2022-11-24T20:48:43.293Z"
   },
   {
    "duration": 38,
    "start_time": "2022-11-24T20:48:43.313Z"
   },
   {
    "duration": 31,
    "start_time": "2022-11-24T20:48:43.353Z"
   },
   {
    "duration": 27,
    "start_time": "2022-11-24T20:48:43.385Z"
   },
   {
    "duration": 36,
    "start_time": "2022-11-24T20:48:43.414Z"
   },
   {
    "duration": 30,
    "start_time": "2022-11-24T20:48:43.452Z"
   },
   {
    "duration": 20,
    "start_time": "2022-11-24T20:48:43.483Z"
   },
   {
    "duration": 39,
    "start_time": "2022-11-24T20:48:43.504Z"
   },
   {
    "duration": 19,
    "start_time": "2022-11-24T20:48:43.545Z"
   },
   {
    "duration": 18,
    "start_time": "2022-11-24T20:48:43.567Z"
   },
   {
    "duration": 17,
    "start_time": "2022-11-24T20:48:43.586Z"
   },
   {
    "duration": 3,
    "start_time": "2022-11-24T20:48:43.604Z"
   },
   {
    "duration": 18,
    "start_time": "2022-11-24T20:48:43.635Z"
   },
   {
    "duration": 18,
    "start_time": "2022-11-24T20:48:43.654Z"
   },
   {
    "duration": 18,
    "start_time": "2022-11-24T20:48:43.673Z"
   },
   {
    "duration": 45,
    "start_time": "2022-11-24T20:48:43.693Z"
   },
   {
    "duration": 287,
    "start_time": "2022-11-24T20:48:43.739Z"
   },
   {
    "duration": 24,
    "start_time": "2022-11-24T20:48:44.028Z"
   },
   {
    "duration": 354,
    "start_time": "2022-11-24T20:48:44.053Z"
   },
   {
    "duration": 236,
    "start_time": "2022-11-24T20:48:44.409Z"
   },
   {
    "duration": 170,
    "start_time": "2022-11-24T20:48:44.646Z"
   },
   {
    "duration": 374,
    "start_time": "2022-11-24T20:48:44.817Z"
   },
   {
    "duration": 151,
    "start_time": "2022-11-24T20:48:45.192Z"
   },
   {
    "duration": 131,
    "start_time": "2022-11-24T20:48:45.345Z"
   },
   {
    "duration": 160,
    "start_time": "2022-11-24T20:48:45.478Z"
   },
   {
    "duration": 238,
    "start_time": "2022-11-24T20:48:45.640Z"
   },
   {
    "duration": 167,
    "start_time": "2022-11-24T20:48:45.880Z"
   },
   {
    "duration": 174,
    "start_time": "2022-11-24T20:48:46.049Z"
   },
   {
    "duration": 389,
    "start_time": "2022-11-24T20:48:46.225Z"
   },
   {
    "duration": 38,
    "start_time": "2022-11-24T20:48:46.617Z"
   },
   {
    "duration": 30,
    "start_time": "2022-11-24T20:48:46.657Z"
   },
   {
    "duration": 49,
    "start_time": "2022-11-24T20:48:46.689Z"
   },
   {
    "duration": 32,
    "start_time": "2022-11-24T20:48:46.740Z"
   },
   {
    "duration": 29,
    "start_time": "2022-11-24T20:48:46.774Z"
   },
   {
    "duration": 58,
    "start_time": "2022-11-24T20:48:46.805Z"
   },
   {
    "duration": 184,
    "start_time": "2022-11-24T20:48:46.865Z"
   },
   {
    "duration": 22,
    "start_time": "2022-11-24T20:49:33.345Z"
   },
   {
    "duration": 15,
    "start_time": "2022-11-24T20:50:43.013Z"
   },
   {
    "duration": 12,
    "start_time": "2022-11-24T20:51:30.116Z"
   },
   {
    "duration": 22,
    "start_time": "2022-11-24T20:51:44.211Z"
   },
   {
    "duration": 31,
    "start_time": "2022-11-24T20:56:53.695Z"
   },
   {
    "duration": 32,
    "start_time": "2022-11-24T20:57:05.656Z"
   },
   {
    "duration": 22,
    "start_time": "2022-11-24T20:57:27.732Z"
   },
   {
    "duration": 18,
    "start_time": "2022-11-24T20:57:48.349Z"
   },
   {
    "duration": 18,
    "start_time": "2022-11-24T20:57:54.792Z"
   },
   {
    "duration": 10,
    "start_time": "2022-11-24T21:00:25.637Z"
   },
   {
    "duration": 10,
    "start_time": "2022-11-24T21:00:32.013Z"
   },
   {
    "duration": 7,
    "start_time": "2022-11-24T21:00:39.116Z"
   },
   {
    "duration": 4,
    "start_time": "2022-11-24T21:01:00.795Z"
   },
   {
    "duration": 6,
    "start_time": "2022-11-24T21:01:15.998Z"
   },
   {
    "duration": 49,
    "start_time": "2022-11-25T19:55:46.906Z"
   },
   {
    "duration": 801,
    "start_time": "2022-11-25T19:55:50.348Z"
   },
   {
    "duration": 309,
    "start_time": "2022-11-25T19:55:51.151Z"
   },
   {
    "duration": 12,
    "start_time": "2022-11-25T19:55:51.461Z"
   },
   {
    "duration": 79,
    "start_time": "2022-11-25T19:55:51.475Z"
   },
   {
    "duration": 40,
    "start_time": "2022-11-25T19:55:51.556Z"
   },
   {
    "duration": 27,
    "start_time": "2022-11-25T19:55:51.597Z"
   },
   {
    "duration": 27,
    "start_time": "2022-11-25T19:55:51.625Z"
   },
   {
    "duration": 1931,
    "start_time": "2022-11-25T19:55:51.654Z"
   },
   {
    "duration": 11,
    "start_time": "2022-11-25T19:55:53.587Z"
   },
   {
    "duration": 24,
    "start_time": "2022-11-25T19:55:53.601Z"
   },
   {
    "duration": 9,
    "start_time": "2022-11-25T19:55:53.626Z"
   },
   {
    "duration": 33,
    "start_time": "2022-11-25T19:55:53.636Z"
   },
   {
    "duration": 34,
    "start_time": "2022-11-25T19:55:53.670Z"
   },
   {
    "duration": 19,
    "start_time": "2022-11-25T19:55:53.705Z"
   },
   {
    "duration": 6,
    "start_time": "2022-11-25T19:55:53.725Z"
   },
   {
    "duration": 35,
    "start_time": "2022-11-25T19:55:53.733Z"
   },
   {
    "duration": 3,
    "start_time": "2022-11-25T19:55:53.770Z"
   },
   {
    "duration": 42,
    "start_time": "2022-11-25T19:55:53.775Z"
   },
   {
    "duration": 21,
    "start_time": "2022-11-25T19:55:53.818Z"
   },
   {
    "duration": 30,
    "start_time": "2022-11-25T19:55:53.840Z"
   },
   {
    "duration": 22,
    "start_time": "2022-11-25T19:55:53.872Z"
   },
   {
    "duration": 3,
    "start_time": "2022-11-25T19:55:53.896Z"
   },
   {
    "duration": 34,
    "start_time": "2022-11-25T19:55:53.901Z"
   },
   {
    "duration": 24,
    "start_time": "2022-11-25T19:55:53.937Z"
   },
   {
    "duration": 46,
    "start_time": "2022-11-25T19:55:53.962Z"
   },
   {
    "duration": 39,
    "start_time": "2022-11-25T19:55:54.010Z"
   },
   {
    "duration": 20,
    "start_time": "2022-11-25T19:55:54.050Z"
   },
   {
    "duration": 20,
    "start_time": "2022-11-25T19:55:54.073Z"
   },
   {
    "duration": 39,
    "start_time": "2022-11-25T19:55:54.095Z"
   },
   {
    "duration": 19,
    "start_time": "2022-11-25T19:55:54.136Z"
   },
   {
    "duration": 18,
    "start_time": "2022-11-25T19:55:54.157Z"
   },
   {
    "duration": 18,
    "start_time": "2022-11-25T19:55:54.176Z"
   },
   {
    "duration": 40,
    "start_time": "2022-11-25T19:55:54.195Z"
   },
   {
    "duration": 2,
    "start_time": "2022-11-25T19:55:54.237Z"
   },
   {
    "duration": 30,
    "start_time": "2022-11-25T19:55:54.240Z"
   },
   {
    "duration": 18,
    "start_time": "2022-11-25T19:55:54.271Z"
   },
   {
    "duration": 18,
    "start_time": "2022-11-25T19:55:54.290Z"
   },
   {
    "duration": 33,
    "start_time": "2022-11-25T19:55:54.309Z"
   },
   {
    "duration": 292,
    "start_time": "2022-11-25T19:55:54.344Z"
   },
   {
    "duration": 19,
    "start_time": "2022-11-25T19:55:54.637Z"
   },
   {
    "duration": 362,
    "start_time": "2022-11-25T19:55:54.657Z"
   },
   {
    "duration": 324,
    "start_time": "2022-11-25T19:55:55.021Z"
   },
   {
    "duration": 178,
    "start_time": "2022-11-25T19:55:55.347Z"
   },
   {
    "duration": 253,
    "start_time": "2022-11-25T19:55:55.528Z"
   },
   {
    "duration": 161,
    "start_time": "2022-11-25T19:55:55.783Z"
   },
   {
    "duration": 129,
    "start_time": "2022-11-25T19:55:55.946Z"
   },
   {
    "duration": 162,
    "start_time": "2022-11-25T19:55:56.077Z"
   },
   {
    "duration": 245,
    "start_time": "2022-11-25T19:55:56.241Z"
   },
   {
    "duration": 179,
    "start_time": "2022-11-25T19:55:56.487Z"
   },
   {
    "duration": 279,
    "start_time": "2022-11-25T19:55:56.667Z"
   },
   {
    "duration": 381,
    "start_time": "2022-11-25T19:55:56.948Z"
   },
   {
    "duration": 27,
    "start_time": "2022-11-25T19:55:57.334Z"
   },
   {
    "duration": 24,
    "start_time": "2022-11-25T19:55:57.362Z"
   },
   {
    "duration": 23,
    "start_time": "2022-11-25T19:55:57.388Z"
   },
   {
    "duration": 45,
    "start_time": "2022-11-25T19:55:57.412Z"
   },
   {
    "duration": 26,
    "start_time": "2022-11-25T19:55:57.459Z"
   },
   {
    "duration": 59,
    "start_time": "2022-11-25T19:55:57.487Z"
   },
   {
    "duration": 176,
    "start_time": "2022-11-25T19:55:57.548Z"
   },
   {
    "duration": 23,
    "start_time": "2022-11-25T19:56:23.544Z"
   },
   {
    "duration": 32,
    "start_time": "2022-11-25T19:57:03.357Z"
   },
   {
    "duration": 45,
    "start_time": "2022-11-25T19:57:22.503Z"
   },
   {
    "duration": 2,
    "start_time": "2022-11-25T19:58:01.883Z"
   },
   {
    "duration": 101,
    "start_time": "2022-11-25T19:58:01.887Z"
   },
   {
    "duration": 7,
    "start_time": "2022-11-25T19:58:01.990Z"
   },
   {
    "duration": 82,
    "start_time": "2022-11-25T19:58:01.999Z"
   },
   {
    "duration": 34,
    "start_time": "2022-11-25T19:58:02.084Z"
   },
   {
    "duration": 24,
    "start_time": "2022-11-25T19:58:02.135Z"
   },
   {
    "duration": 23,
    "start_time": "2022-11-25T19:58:02.161Z"
   },
   {
    "duration": 1977,
    "start_time": "2022-11-25T19:58:02.185Z"
   },
   {
    "duration": 9,
    "start_time": "2022-11-25T19:58:04.164Z"
   },
   {
    "duration": 21,
    "start_time": "2022-11-25T19:58:04.174Z"
   },
   {
    "duration": 8,
    "start_time": "2022-11-25T19:58:04.197Z"
   },
   {
    "duration": 32,
    "start_time": "2022-11-25T19:58:04.206Z"
   },
   {
    "duration": 21,
    "start_time": "2022-11-25T19:58:04.240Z"
   },
   {
    "duration": 17,
    "start_time": "2022-11-25T19:58:04.262Z"
   },
   {
    "duration": 3,
    "start_time": "2022-11-25T19:58:04.281Z"
   },
   {
    "duration": 50,
    "start_time": "2022-11-25T19:58:04.286Z"
   },
   {
    "duration": 20,
    "start_time": "2022-11-25T19:58:04.338Z"
   },
   {
    "duration": 25,
    "start_time": "2022-11-25T19:58:04.359Z"
   },
   {
    "duration": 21,
    "start_time": "2022-11-25T19:58:04.385Z"
   },
   {
    "duration": 29,
    "start_time": "2022-11-25T19:58:04.407Z"
   },
   {
    "duration": 21,
    "start_time": "2022-11-25T19:58:04.438Z"
   },
   {
    "duration": 21,
    "start_time": "2022-11-25T19:58:04.461Z"
   },
   {
    "duration": 27,
    "start_time": "2022-11-25T19:58:04.484Z"
   },
   {
    "duration": 47,
    "start_time": "2022-11-25T19:58:04.512Z"
   },
   {
    "duration": 19,
    "start_time": "2022-11-25T19:58:04.560Z"
   },
   {
    "duration": 18,
    "start_time": "2022-11-25T19:58:04.580Z"
   },
   {
    "duration": 37,
    "start_time": "2022-11-25T19:58:04.599Z"
   },
   {
    "duration": 21,
    "start_time": "2022-11-25T19:58:04.639Z"
   },
   {
    "duration": 18,
    "start_time": "2022-11-25T19:58:04.663Z"
   },
   {
    "duration": 17,
    "start_time": "2022-11-25T19:58:04.682Z"
   },
   {
    "duration": 41,
    "start_time": "2022-11-25T19:58:04.701Z"
   },
   {
    "duration": 2,
    "start_time": "2022-11-25T19:58:04.744Z"
   },
   {
    "duration": 26,
    "start_time": "2022-11-25T19:58:04.747Z"
   },
   {
    "duration": 25,
    "start_time": "2022-11-25T19:58:04.774Z"
   },
   {
    "duration": 18,
    "start_time": "2022-11-25T19:58:04.801Z"
   },
   {
    "duration": 29,
    "start_time": "2022-11-25T19:58:04.821Z"
   },
   {
    "duration": 297,
    "start_time": "2022-11-25T19:58:04.852Z"
   },
   {
    "duration": 21,
    "start_time": "2022-11-25T19:58:05.151Z"
   },
   {
    "duration": 389,
    "start_time": "2022-11-25T19:58:05.174Z"
   },
   {
    "duration": 259,
    "start_time": "2022-11-25T19:58:05.564Z"
   },
   {
    "duration": 301,
    "start_time": "2022-11-25T19:58:05.824Z"
   },
   {
    "duration": 255,
    "start_time": "2022-11-25T19:58:06.126Z"
   },
   {
    "duration": 145,
    "start_time": "2022-11-25T19:58:06.382Z"
   },
   {
    "duration": 123,
    "start_time": "2022-11-25T19:58:06.535Z"
   },
   {
    "duration": 181,
    "start_time": "2022-11-25T19:58:06.660Z"
   },
   {
    "duration": 246,
    "start_time": "2022-11-25T19:58:06.842Z"
   },
   {
    "duration": 160,
    "start_time": "2022-11-25T19:58:07.089Z"
   },
   {
    "duration": 173,
    "start_time": "2022-11-25T19:58:07.251Z"
   },
   {
    "duration": 489,
    "start_time": "2022-11-25T19:58:07.426Z"
   },
   {
    "duration": 40,
    "start_time": "2022-11-25T19:58:07.916Z"
   },
   {
    "duration": 26,
    "start_time": "2022-11-25T19:58:07.958Z"
   },
   {
    "duration": 50,
    "start_time": "2022-11-25T19:58:07.986Z"
   },
   {
    "duration": 26,
    "start_time": "2022-11-25T19:58:08.038Z"
   },
   {
    "duration": 25,
    "start_time": "2022-11-25T19:58:08.066Z"
   },
   {
    "duration": 57,
    "start_time": "2022-11-25T19:58:08.093Z"
   },
   {
    "duration": 158,
    "start_time": "2022-11-25T19:58:08.152Z"
   },
   {
    "duration": 330,
    "start_time": "2022-11-25T20:03:30.108Z"
   },
   {
    "duration": 115,
    "start_time": "2022-11-25T20:03:37.089Z"
   },
   {
    "duration": 136,
    "start_time": "2022-11-25T20:04:08.704Z"
   },
   {
    "duration": 35,
    "start_time": "2022-11-25T20:05:45.196Z"
   },
   {
    "duration": 337,
    "start_time": "2022-11-25T20:07:48.445Z"
   },
   {
    "duration": 414,
    "start_time": "2022-11-25T20:12:46.390Z"
   },
   {
    "duration": 457,
    "start_time": "2022-11-25T20:13:05.043Z"
   },
   {
    "duration": 159,
    "start_time": "2022-11-25T20:19:20.639Z"
   },
   {
    "duration": 130,
    "start_time": "2022-11-25T20:19:27.968Z"
   },
   {
    "duration": 150,
    "start_time": "2022-11-25T20:22:19.587Z"
   },
   {
    "duration": 138,
    "start_time": "2022-11-25T20:25:17.999Z"
   },
   {
    "duration": 124,
    "start_time": "2022-11-25T20:25:26.855Z"
   },
   {
    "duration": 139,
    "start_time": "2022-11-25T20:25:30.527Z"
   },
   {
    "duration": 123,
    "start_time": "2022-11-25T20:25:35.378Z"
   },
   {
    "duration": 242,
    "start_time": "2022-11-25T20:25:39.090Z"
   },
   {
    "duration": 194,
    "start_time": "2022-11-25T20:25:44.424Z"
   },
   {
    "duration": 171,
    "start_time": "2022-11-25T20:25:50.342Z"
   },
   {
    "duration": 120,
    "start_time": "2022-11-25T20:27:48.185Z"
   },
   {
    "duration": 37,
    "start_time": "2022-11-25T20:28:32.623Z"
   },
   {
    "duration": 26,
    "start_time": "2022-11-25T20:28:39.424Z"
   },
   {
    "duration": 27,
    "start_time": "2022-11-25T20:28:53.640Z"
   },
   {
    "duration": 34,
    "start_time": "2022-11-25T20:29:36.339Z"
   },
   {
    "duration": 181,
    "start_time": "2022-11-25T20:29:45.022Z"
   },
   {
    "duration": 29,
    "start_time": "2022-11-25T20:29:51.338Z"
   },
   {
    "duration": 36,
    "start_time": "2022-11-25T20:29:58.625Z"
   },
   {
    "duration": 362,
    "start_time": "2022-11-25T20:30:30.153Z"
   },
   {
    "duration": 350,
    "start_time": "2022-11-25T20:31:28.071Z"
   },
   {
    "duration": 98,
    "start_time": "2022-11-25T20:34:10.922Z"
   },
   {
    "duration": 28,
    "start_time": "2022-11-25T20:36:02.821Z"
   },
   {
    "duration": 33,
    "start_time": "2022-11-25T20:37:06.007Z"
   },
   {
    "duration": 26,
    "start_time": "2022-11-25T20:37:41.265Z"
   },
   {
    "duration": 39,
    "start_time": "2022-11-25T20:38:11.912Z"
   },
   {
    "duration": 180,
    "start_time": "2022-11-25T20:38:46.055Z"
   },
   {
    "duration": 741,
    "start_time": "2022-11-29T12:42:30.791Z"
   },
   {
    "duration": 2825,
    "start_time": "2022-11-29T12:42:31.534Z"
   },
   {
    "duration": 12,
    "start_time": "2022-11-29T12:42:34.361Z"
   },
   {
    "duration": 150,
    "start_time": "2022-11-29T12:42:34.375Z"
   },
   {
    "duration": 42,
    "start_time": "2022-11-29T12:42:34.527Z"
   },
   {
    "duration": 41,
    "start_time": "2022-11-29T12:42:34.571Z"
   },
   {
    "duration": 18,
    "start_time": "2022-11-29T12:42:34.614Z"
   },
   {
    "duration": 2182,
    "start_time": "2022-11-29T12:42:34.634Z"
   },
   {
    "duration": 10,
    "start_time": "2022-11-29T12:42:36.818Z"
   },
   {
    "duration": 25,
    "start_time": "2022-11-29T12:42:36.831Z"
   },
   {
    "duration": 10,
    "start_time": "2022-11-29T12:42:36.857Z"
   },
   {
    "duration": 14,
    "start_time": "2022-11-29T12:42:36.868Z"
   },
   {
    "duration": 27,
    "start_time": "2022-11-29T12:42:36.911Z"
   },
   {
    "duration": 20,
    "start_time": "2022-11-29T12:42:36.940Z"
   },
   {
    "duration": 3,
    "start_time": "2022-11-29T12:42:36.962Z"
   },
   {
    "duration": 58,
    "start_time": "2022-11-29T12:42:36.968Z"
   },
   {
    "duration": 25,
    "start_time": "2022-11-29T12:42:37.028Z"
   },
   {
    "duration": 28,
    "start_time": "2022-11-29T12:42:37.055Z"
   },
   {
    "duration": 44,
    "start_time": "2022-11-29T12:42:37.085Z"
   },
   {
    "duration": 6,
    "start_time": "2022-11-29T12:42:37.131Z"
   },
   {
    "duration": 28,
    "start_time": "2022-11-29T12:42:37.139Z"
   },
   {
    "duration": 44,
    "start_time": "2022-11-29T12:42:37.169Z"
   },
   {
    "duration": 31,
    "start_time": "2022-11-29T12:42:37.216Z"
   },
   {
    "duration": 31,
    "start_time": "2022-11-29T12:42:37.249Z"
   },
   {
    "duration": 51,
    "start_time": "2022-11-29T12:42:37.283Z"
   },
   {
    "duration": 24,
    "start_time": "2022-11-29T12:42:37.336Z"
   },
   {
    "duration": 23,
    "start_time": "2022-11-29T12:42:37.362Z"
   },
   {
    "duration": 22,
    "start_time": "2022-11-29T12:42:37.416Z"
   },
   {
    "duration": 47,
    "start_time": "2022-11-29T12:42:37.440Z"
   },
   {
    "duration": 24,
    "start_time": "2022-11-29T12:42:37.489Z"
   },
   {
    "duration": 21,
    "start_time": "2022-11-29T12:42:37.515Z"
   },
   {
    "duration": 2,
    "start_time": "2022-11-29T12:42:37.538Z"
   },
   {
    "duration": 23,
    "start_time": "2022-11-29T12:42:37.542Z"
   },
   {
    "duration": 52,
    "start_time": "2022-11-29T12:42:37.567Z"
   },
   {
    "duration": 21,
    "start_time": "2022-11-29T12:42:37.621Z"
   },
   {
    "duration": 21,
    "start_time": "2022-11-29T12:42:37.643Z"
   },
   {
    "duration": 350,
    "start_time": "2022-11-29T12:42:37.666Z"
   },
   {
    "duration": 21,
    "start_time": "2022-11-29T12:42:38.018Z"
   },
   {
    "duration": 421,
    "start_time": "2022-11-29T12:42:38.041Z"
   },
   {
    "duration": 356,
    "start_time": "2022-11-29T12:42:38.464Z"
   },
   {
    "duration": 197,
    "start_time": "2022-11-29T12:42:38.822Z"
   },
   {
    "duration": 284,
    "start_time": "2022-11-29T12:42:39.021Z"
   },
   {
    "duration": 187,
    "start_time": "2022-11-29T12:42:39.306Z"
   },
   {
    "duration": 132,
    "start_time": "2022-11-29T12:42:39.495Z"
   },
   {
    "duration": 175,
    "start_time": "2022-11-29T12:42:39.629Z"
   },
   {
    "duration": 143,
    "start_time": "2022-11-29T12:42:39.811Z"
   },
   {
    "duration": 268,
    "start_time": "2022-11-29T12:42:39.956Z"
   },
   {
    "duration": 288,
    "start_time": "2022-11-29T12:42:40.226Z"
   },
   {
    "duration": 181,
    "start_time": "2022-11-29T12:42:40.515Z"
   },
   {
    "duration": 142,
    "start_time": "2022-11-29T12:42:40.697Z"
   },
   {
    "duration": 162,
    "start_time": "2022-11-29T12:42:40.841Z"
   },
   {
    "duration": 410,
    "start_time": "2022-11-29T12:42:41.005Z"
   },
   {
    "duration": 30,
    "start_time": "2022-11-29T12:42:41.416Z"
   },
   {
    "duration": 31,
    "start_time": "2022-11-29T12:42:41.447Z"
   },
   {
    "duration": 53,
    "start_time": "2022-11-29T12:42:41.479Z"
   },
   {
    "duration": 28,
    "start_time": "2022-11-29T12:42:41.534Z"
   },
   {
    "duration": 51,
    "start_time": "2022-11-29T12:42:41.564Z"
   },
   {
    "duration": 29,
    "start_time": "2022-11-29T12:42:41.617Z"
   },
   {
    "duration": 227,
    "start_time": "2022-11-29T12:42:41.648Z"
   },
   {
    "duration": 41,
    "start_time": "2022-11-29T12:42:41.878Z"
   },
   {
    "duration": 41,
    "start_time": "2022-11-29T12:42:41.920Z"
   },
   {
    "duration": 216,
    "start_time": "2022-11-29T12:42:41.963Z"
   },
   {
    "duration": 327,
    "start_time": "2022-11-29T12:44:56.487Z"
   },
   {
    "duration": 276,
    "start_time": "2022-11-29T12:45:05.676Z"
   },
   {
    "duration": 197,
    "start_time": "2022-11-29T12:45:13.039Z"
   },
   {
    "duration": 211,
    "start_time": "2022-11-29T12:45:20.797Z"
   },
   {
    "duration": 199,
    "start_time": "2022-11-29T12:45:29.052Z"
   },
   {
    "duration": 216,
    "start_time": "2022-11-29T12:56:24.781Z"
   },
   {
    "duration": 158,
    "start_time": "2022-11-29T12:57:14.088Z"
   },
   {
    "duration": 173,
    "start_time": "2022-11-29T13:00:58.190Z"
   },
   {
    "duration": 170,
    "start_time": "2022-11-29T13:01:09.709Z"
   },
   {
    "duration": 332,
    "start_time": "2022-11-29T13:01:54.810Z"
   },
   {
    "duration": 223,
    "start_time": "2022-11-29T13:02:05.734Z"
   },
   {
    "duration": 201,
    "start_time": "2022-11-29T13:02:58.002Z"
   },
   {
    "duration": 176,
    "start_time": "2022-11-29T13:03:10.347Z"
   },
   {
    "duration": 18,
    "start_time": "2022-11-29T13:08:29.893Z"
   },
   {
    "duration": 187,
    "start_time": "2022-11-29T13:09:15.048Z"
   },
   {
    "duration": 22,
    "start_time": "2022-11-29T13:26:00.223Z"
   },
   {
    "duration": 889,
    "start_time": "2022-11-29T13:36:44.055Z"
   },
   {
    "duration": 34,
    "start_time": "2022-11-29T13:37:08.042Z"
   },
   {
    "duration": 28,
    "start_time": "2022-11-29T13:41:53.944Z"
   },
   {
    "duration": 36,
    "start_time": "2022-11-29T13:42:26.741Z"
   },
   {
    "duration": 33,
    "start_time": "2022-11-29T13:43:18.615Z"
   },
   {
    "duration": 31,
    "start_time": "2022-11-29T13:43:47.699Z"
   },
   {
    "duration": 30,
    "start_time": "2022-11-29T13:44:52.075Z"
   },
   {
    "duration": 45,
    "start_time": "2022-11-29T13:45:30.815Z"
   },
   {
    "duration": 30,
    "start_time": "2022-11-29T13:46:47.422Z"
   },
   {
    "duration": 8,
    "start_time": "2022-11-29T13:48:07.223Z"
   },
   {
    "duration": 32,
    "start_time": "2022-11-29T13:48:20.735Z"
   },
   {
    "duration": 37,
    "start_time": "2022-11-29T13:49:38.123Z"
   },
   {
    "duration": 859,
    "start_time": "2022-11-29T15:40:09.479Z"
   },
   {
    "duration": 155,
    "start_time": "2022-11-29T15:40:10.340Z"
   },
   {
    "duration": 12,
    "start_time": "2022-11-29T15:40:10.497Z"
   },
   {
    "duration": 93,
    "start_time": "2022-11-29T15:40:10.512Z"
   },
   {
    "duration": 37,
    "start_time": "2022-11-29T15:40:10.606Z"
   },
   {
    "duration": 36,
    "start_time": "2022-11-29T15:40:10.645Z"
   },
   {
    "duration": 30,
    "start_time": "2022-11-29T15:40:10.683Z"
   },
   {
    "duration": 1906,
    "start_time": "2022-11-29T15:40:10.715Z"
   },
   {
    "duration": 9,
    "start_time": "2022-11-29T15:40:12.622Z"
   },
   {
    "duration": 30,
    "start_time": "2022-11-29T15:40:12.634Z"
   },
   {
    "duration": 7,
    "start_time": "2022-11-29T15:40:12.666Z"
   },
   {
    "duration": 18,
    "start_time": "2022-11-29T15:40:12.674Z"
   },
   {
    "duration": 29,
    "start_time": "2022-11-29T15:40:12.693Z"
   },
   {
    "duration": 16,
    "start_time": "2022-11-29T15:40:12.723Z"
   },
   {
    "duration": 3,
    "start_time": "2022-11-29T15:40:12.740Z"
   },
   {
    "duration": 35,
    "start_time": "2022-11-29T15:40:12.744Z"
   },
   {
    "duration": 33,
    "start_time": "2022-11-29T15:40:12.781Z"
   },
   {
    "duration": 26,
    "start_time": "2022-11-29T15:40:12.815Z"
   },
   {
    "duration": 22,
    "start_time": "2022-11-29T15:40:12.842Z"
   },
   {
    "duration": 21,
    "start_time": "2022-11-29T15:40:12.865Z"
   },
   {
    "duration": 49,
    "start_time": "2022-11-29T15:40:12.888Z"
   },
   {
    "duration": 34,
    "start_time": "2022-11-29T15:40:12.939Z"
   },
   {
    "duration": 40,
    "start_time": "2022-11-29T15:40:12.974Z"
   },
   {
    "duration": 21,
    "start_time": "2022-11-29T15:40:13.015Z"
   },
   {
    "duration": 19,
    "start_time": "2022-11-29T15:40:13.038Z"
   },
   {
    "duration": 20,
    "start_time": "2022-11-29T15:40:13.059Z"
   },
   {
    "duration": 49,
    "start_time": "2022-11-29T15:40:13.081Z"
   },
   {
    "duration": 21,
    "start_time": "2022-11-29T15:40:13.133Z"
   },
   {
    "duration": 20,
    "start_time": "2022-11-29T15:40:13.156Z"
   },
   {
    "duration": 40,
    "start_time": "2022-11-29T15:40:13.178Z"
   },
   {
    "duration": 3,
    "start_time": "2022-11-29T15:40:13.219Z"
   },
   {
    "duration": 29,
    "start_time": "2022-11-29T15:40:13.223Z"
   },
   {
    "duration": 24,
    "start_time": "2022-11-29T15:40:13.254Z"
   },
   {
    "duration": 34,
    "start_time": "2022-11-29T15:40:13.280Z"
   },
   {
    "duration": 20,
    "start_time": "2022-11-29T15:40:13.315Z"
   },
   {
    "duration": 298,
    "start_time": "2022-11-29T15:40:13.336Z"
   },
   {
    "duration": 22,
    "start_time": "2022-11-29T15:40:13.636Z"
   },
   {
    "duration": 380,
    "start_time": "2022-11-29T15:40:13.660Z"
   },
   {
    "duration": 327,
    "start_time": "2022-11-29T15:40:14.041Z"
   },
   {
    "duration": 200,
    "start_time": "2022-11-29T15:40:14.370Z"
   },
   {
    "duration": 280,
    "start_time": "2022-11-29T15:40:14.572Z"
   },
   {
    "duration": 166,
    "start_time": "2022-11-29T15:40:14.854Z"
   },
   {
    "duration": 128,
    "start_time": "2022-11-29T15:40:15.022Z"
   },
   {
    "duration": 170,
    "start_time": "2022-11-29T15:40:15.151Z"
   },
   {
    "duration": 135,
    "start_time": "2022-11-29T15:40:15.323Z"
   },
   {
    "duration": 329,
    "start_time": "2022-11-29T15:40:15.460Z"
   },
   {
    "duration": 163,
    "start_time": "2022-11-29T15:40:15.790Z"
   },
   {
    "duration": 166,
    "start_time": "2022-11-29T15:40:15.955Z"
   },
   {
    "duration": 144,
    "start_time": "2022-11-29T15:40:16.123Z"
   },
   {
    "duration": 151,
    "start_time": "2022-11-29T15:40:16.268Z"
   },
   {
    "duration": 415,
    "start_time": "2022-11-29T15:40:16.421Z"
   },
   {
    "duration": 27,
    "start_time": "2022-11-29T15:40:16.838Z"
   },
   {
    "duration": 47,
    "start_time": "2022-11-29T15:40:16.867Z"
   },
   {
    "duration": 33,
    "start_time": "2022-11-29T15:40:16.916Z"
   },
   {
    "duration": 29,
    "start_time": "2022-11-29T15:40:16.951Z"
   },
   {
    "duration": 42,
    "start_time": "2022-11-29T15:40:16.982Z"
   },
   {
    "duration": 154,
    "start_time": "2022-11-29T15:40:17.025Z"
   },
   {
    "duration": 175,
    "start_time": "2022-11-29T15:40:17.180Z"
   },
   {
    "duration": 159,
    "start_time": "2022-11-29T15:40:17.356Z"
   },
   {
    "duration": 33,
    "start_time": "2022-11-29T15:40:17.516Z"
   },
   {
    "duration": 268,
    "start_time": "2022-11-29T15:40:17.551Z"
   },
   {
    "duration": 457,
    "start_time": "2022-11-29T15:46:21.985Z"
   },
   {
    "duration": 368,
    "start_time": "2022-11-29T15:46:59.729Z"
   },
   {
    "duration": 377,
    "start_time": "2022-11-29T15:47:16.158Z"
   },
   {
    "duration": 580,
    "start_time": "2022-11-29T15:48:34.810Z"
   },
   {
    "duration": 362,
    "start_time": "2022-11-29T15:48:45.748Z"
   },
   {
    "duration": 3,
    "start_time": "2022-11-29T15:48:49.455Z"
   },
   {
    "duration": 81,
    "start_time": "2022-11-29T15:48:49.462Z"
   },
   {
    "duration": 7,
    "start_time": "2022-11-29T15:48:49.545Z"
   },
   {
    "duration": 91,
    "start_time": "2022-11-29T15:48:49.553Z"
   },
   {
    "duration": 33,
    "start_time": "2022-11-29T15:48:49.646Z"
   },
   {
    "duration": 43,
    "start_time": "2022-11-29T15:48:49.681Z"
   },
   {
    "duration": 30,
    "start_time": "2022-11-29T15:48:49.726Z"
   },
   {
    "duration": 2046,
    "start_time": "2022-11-29T15:48:49.758Z"
   },
   {
    "duration": 15,
    "start_time": "2022-11-29T15:48:51.806Z"
   },
   {
    "duration": 23,
    "start_time": "2022-11-29T15:48:51.822Z"
   },
   {
    "duration": 12,
    "start_time": "2022-11-29T15:48:51.847Z"
   },
   {
    "duration": 20,
    "start_time": "2022-11-29T15:48:51.860Z"
   },
   {
    "duration": 33,
    "start_time": "2022-11-29T15:48:51.881Z"
   },
   {
    "duration": 15,
    "start_time": "2022-11-29T15:48:51.916Z"
   },
   {
    "duration": 23,
    "start_time": "2022-11-29T15:48:51.932Z"
   },
   {
    "duration": 35,
    "start_time": "2022-11-29T15:48:51.956Z"
   },
   {
    "duration": 41,
    "start_time": "2022-11-29T15:48:51.993Z"
   },
   {
    "duration": 43,
    "start_time": "2022-11-29T15:48:52.035Z"
   },
   {
    "duration": 21,
    "start_time": "2022-11-29T15:48:52.080Z"
   },
   {
    "duration": 30,
    "start_time": "2022-11-29T15:48:52.103Z"
   },
   {
    "duration": 22,
    "start_time": "2022-11-29T15:48:52.135Z"
   },
   {
    "duration": 43,
    "start_time": "2022-11-29T15:48:52.158Z"
   },
   {
    "duration": 33,
    "start_time": "2022-11-29T15:48:52.203Z"
   },
   {
    "duration": 21,
    "start_time": "2022-11-29T15:48:52.238Z"
   },
   {
    "duration": 36,
    "start_time": "2022-11-29T15:48:52.261Z"
   },
   {
    "duration": 24,
    "start_time": "2022-11-29T15:48:52.299Z"
   },
   {
    "duration": 19,
    "start_time": "2022-11-29T15:48:52.325Z"
   },
   {
    "duration": 30,
    "start_time": "2022-11-29T15:48:52.346Z"
   },
   {
    "duration": 28,
    "start_time": "2022-11-29T15:48:52.380Z"
   },
   {
    "duration": 18,
    "start_time": "2022-11-29T15:48:52.413Z"
   },
   {
    "duration": 3,
    "start_time": "2022-11-29T15:48:52.433Z"
   },
   {
    "duration": 22,
    "start_time": "2022-11-29T15:48:52.437Z"
   },
   {
    "duration": 19,
    "start_time": "2022-11-29T15:48:52.461Z"
   },
   {
    "duration": 49,
    "start_time": "2022-11-29T15:48:52.481Z"
   },
   {
    "duration": 20,
    "start_time": "2022-11-29T15:48:52.532Z"
   },
   {
    "duration": 293,
    "start_time": "2022-11-29T15:48:52.553Z"
   },
   {
    "duration": 21,
    "start_time": "2022-11-29T15:48:52.848Z"
   },
   {
    "duration": 409,
    "start_time": "2022-11-29T15:48:52.870Z"
   },
   {
    "duration": 0,
    "start_time": "2022-11-29T15:48:53.280Z"
   },
   {
    "duration": 0,
    "start_time": "2022-11-29T15:48:53.281Z"
   },
   {
    "duration": 0,
    "start_time": "2022-11-29T15:48:53.283Z"
   },
   {
    "duration": 0,
    "start_time": "2022-11-29T15:48:53.284Z"
   },
   {
    "duration": 0,
    "start_time": "2022-11-29T15:48:53.285Z"
   },
   {
    "duration": 0,
    "start_time": "2022-11-29T15:48:53.286Z"
   },
   {
    "duration": 0,
    "start_time": "2022-11-29T15:48:53.287Z"
   },
   {
    "duration": 0,
    "start_time": "2022-11-29T15:48:53.289Z"
   },
   {
    "duration": 0,
    "start_time": "2022-11-29T15:48:53.313Z"
   },
   {
    "duration": 0,
    "start_time": "2022-11-29T15:48:53.314Z"
   },
   {
    "duration": 0,
    "start_time": "2022-11-29T15:48:53.315Z"
   },
   {
    "duration": 0,
    "start_time": "2022-11-29T15:48:53.316Z"
   },
   {
    "duration": 0,
    "start_time": "2022-11-29T15:48:53.318Z"
   },
   {
    "duration": 0,
    "start_time": "2022-11-29T15:48:53.319Z"
   },
   {
    "duration": 0,
    "start_time": "2022-11-29T15:48:53.320Z"
   },
   {
    "duration": 0,
    "start_time": "2022-11-29T15:48:53.321Z"
   },
   {
    "duration": 0,
    "start_time": "2022-11-29T15:48:53.322Z"
   },
   {
    "duration": 0,
    "start_time": "2022-11-29T15:48:53.324Z"
   },
   {
    "duration": 0,
    "start_time": "2022-11-29T15:48:53.325Z"
   },
   {
    "duration": 0,
    "start_time": "2022-11-29T15:48:53.326Z"
   },
   {
    "duration": 0,
    "start_time": "2022-11-29T15:48:53.328Z"
   },
   {
    "duration": 0,
    "start_time": "2022-11-29T15:48:53.329Z"
   },
   {
    "duration": 0,
    "start_time": "2022-11-29T15:48:53.330Z"
   },
   {
    "duration": 509,
    "start_time": "2022-11-29T15:49:33.078Z"
   },
   {
    "duration": 3,
    "start_time": "2022-11-29T15:49:37.893Z"
   },
   {
    "duration": 78,
    "start_time": "2022-11-29T15:49:37.899Z"
   },
   {
    "duration": 6,
    "start_time": "2022-11-29T15:49:37.979Z"
   },
   {
    "duration": 77,
    "start_time": "2022-11-29T15:49:37.987Z"
   },
   {
    "duration": 48,
    "start_time": "2022-11-29T15:49:38.066Z"
   },
   {
    "duration": 29,
    "start_time": "2022-11-29T15:49:38.116Z"
   },
   {
    "duration": 16,
    "start_time": "2022-11-29T15:49:38.147Z"
   },
   {
    "duration": 1893,
    "start_time": "2022-11-29T15:49:38.165Z"
   },
   {
    "duration": 9,
    "start_time": "2022-11-29T15:49:40.060Z"
   },
   {
    "duration": 23,
    "start_time": "2022-11-29T15:49:40.071Z"
   },
   {
    "duration": 24,
    "start_time": "2022-11-29T15:49:40.096Z"
   },
   {
    "duration": 16,
    "start_time": "2022-11-29T15:49:40.122Z"
   },
   {
    "duration": 22,
    "start_time": "2022-11-29T15:49:40.139Z"
   },
   {
    "duration": 16,
    "start_time": "2022-11-29T15:49:40.162Z"
   },
   {
    "duration": 2,
    "start_time": "2022-11-29T15:49:40.180Z"
   },
   {
    "duration": 62,
    "start_time": "2022-11-29T15:49:40.183Z"
   },
   {
    "duration": 25,
    "start_time": "2022-11-29T15:49:40.247Z"
   },
   {
    "duration": 46,
    "start_time": "2022-11-29T15:49:40.274Z"
   },
   {
    "duration": 42,
    "start_time": "2022-11-29T15:49:40.322Z"
   },
   {
    "duration": 23,
    "start_time": "2022-11-29T15:49:40.365Z"
   },
   {
    "duration": 36,
    "start_time": "2022-11-29T15:49:40.390Z"
   },
   {
    "duration": 46,
    "start_time": "2022-11-29T15:49:40.428Z"
   },
   {
    "duration": 47,
    "start_time": "2022-11-29T15:49:40.476Z"
   },
   {
    "duration": 37,
    "start_time": "2022-11-29T15:49:40.525Z"
   },
   {
    "duration": 21,
    "start_time": "2022-11-29T15:49:40.563Z"
   },
   {
    "duration": 36,
    "start_time": "2022-11-29T15:49:40.585Z"
   },
   {
    "duration": 22,
    "start_time": "2022-11-29T15:49:40.623Z"
   },
   {
    "duration": 19,
    "start_time": "2022-11-29T15:49:40.646Z"
   },
   {
    "duration": 20,
    "start_time": "2022-11-29T15:49:40.669Z"
   },
   {
    "duration": 38,
    "start_time": "2022-11-29T15:49:40.690Z"
   },
   {
    "duration": 2,
    "start_time": "2022-11-29T15:49:40.730Z"
   },
   {
    "duration": 21,
    "start_time": "2022-11-29T15:49:40.734Z"
   },
   {
    "duration": 23,
    "start_time": "2022-11-29T15:49:40.757Z"
   },
   {
    "duration": 46,
    "start_time": "2022-11-29T15:49:40.782Z"
   },
   {
    "duration": 20,
    "start_time": "2022-11-29T15:49:40.830Z"
   },
   {
    "duration": 435,
    "start_time": "2022-11-29T15:49:40.851Z"
   },
   {
    "duration": 29,
    "start_time": "2022-11-29T15:49:41.288Z"
   },
   {
    "duration": 395,
    "start_time": "2022-11-29T15:49:41.319Z"
   },
   {
    "duration": 260,
    "start_time": "2022-11-29T15:49:41.716Z"
   },
   {
    "duration": 203,
    "start_time": "2022-11-29T15:49:41.977Z"
   },
   {
    "duration": 270,
    "start_time": "2022-11-29T15:49:42.182Z"
   },
   {
    "duration": 160,
    "start_time": "2022-11-29T15:49:42.453Z"
   },
   {
    "duration": 260,
    "start_time": "2022-11-29T15:49:42.615Z"
   },
   {
    "duration": 193,
    "start_time": "2022-11-29T15:49:42.877Z"
   },
   {
    "duration": 145,
    "start_time": "2022-11-29T15:49:43.073Z"
   },
   {
    "duration": 257,
    "start_time": "2022-11-29T15:49:43.220Z"
   },
   {
    "duration": 170,
    "start_time": "2022-11-29T15:49:43.478Z"
   },
   {
    "duration": 159,
    "start_time": "2022-11-29T15:49:43.650Z"
   },
   {
    "duration": 139,
    "start_time": "2022-11-29T15:49:43.810Z"
   },
   {
    "duration": 156,
    "start_time": "2022-11-29T15:49:43.950Z"
   },
   {
    "duration": 372,
    "start_time": "2022-11-29T15:49:44.108Z"
   },
   {
    "duration": 47,
    "start_time": "2022-11-29T15:49:44.481Z"
   },
   {
    "duration": 27,
    "start_time": "2022-11-29T15:49:44.529Z"
   },
   {
    "duration": 27,
    "start_time": "2022-11-29T15:49:44.557Z"
   },
   {
    "duration": 53,
    "start_time": "2022-11-29T15:49:44.586Z"
   },
   {
    "duration": 12,
    "start_time": "2022-11-29T15:49:44.640Z"
   },
   {
    "duration": 181,
    "start_time": "2022-11-29T15:49:44.654Z"
   },
   {
    "duration": 157,
    "start_time": "2022-11-29T15:49:44.837Z"
   },
   {
    "duration": 161,
    "start_time": "2022-11-29T15:49:44.995Z"
   },
   {
    "duration": 33,
    "start_time": "2022-11-29T15:49:45.158Z"
   },
   {
    "duration": 184,
    "start_time": "2022-11-29T15:49:45.193Z"
   },
   {
    "duration": 694,
    "start_time": "2022-11-29T19:50:32.253Z"
   },
   {
    "duration": 86,
    "start_time": "2022-11-29T19:50:32.949Z"
   },
   {
    "duration": 11,
    "start_time": "2022-11-29T19:50:33.037Z"
   },
   {
    "duration": 76,
    "start_time": "2022-11-29T19:50:33.050Z"
   },
   {
    "duration": 35,
    "start_time": "2022-11-29T19:50:33.128Z"
   },
   {
    "duration": 31,
    "start_time": "2022-11-29T19:50:33.164Z"
   },
   {
    "duration": 18,
    "start_time": "2022-11-29T19:50:33.196Z"
   },
   {
    "duration": 1899,
    "start_time": "2022-11-29T19:50:33.215Z"
   },
   {
    "duration": 9,
    "start_time": "2022-11-29T19:50:35.116Z"
   },
   {
    "duration": 25,
    "start_time": "2022-11-29T19:50:35.130Z"
   },
   {
    "duration": 26,
    "start_time": "2022-11-29T19:50:35.157Z"
   },
   {
    "duration": 8,
    "start_time": "2022-11-29T19:50:35.184Z"
   },
   {
    "duration": 22,
    "start_time": "2022-11-29T19:50:35.194Z"
   },
   {
    "duration": 16,
    "start_time": "2022-11-29T19:50:35.218Z"
   },
   {
    "duration": 2,
    "start_time": "2022-11-29T19:50:35.235Z"
   },
   {
    "duration": 57,
    "start_time": "2022-11-29T19:50:35.239Z"
   },
   {
    "duration": 21,
    "start_time": "2022-11-29T19:50:35.297Z"
   },
   {
    "duration": 25,
    "start_time": "2022-11-29T19:50:35.319Z"
   },
   {
    "duration": 42,
    "start_time": "2022-11-29T19:50:35.345Z"
   },
   {
    "duration": 18,
    "start_time": "2022-11-29T19:50:35.389Z"
   },
   {
    "duration": 20,
    "start_time": "2022-11-29T19:50:35.409Z"
   },
   {
    "duration": 47,
    "start_time": "2022-11-29T19:50:35.431Z"
   },
   {
    "duration": 27,
    "start_time": "2022-11-29T19:50:35.479Z"
   },
   {
    "duration": 20,
    "start_time": "2022-11-29T19:50:35.507Z"
   },
   {
    "duration": 20,
    "start_time": "2022-11-29T19:50:35.528Z"
   },
   {
    "duration": 46,
    "start_time": "2022-11-29T19:50:35.550Z"
   },
   {
    "duration": 19,
    "start_time": "2022-11-29T19:50:35.598Z"
   },
   {
    "duration": 18,
    "start_time": "2022-11-29T19:50:35.621Z"
   },
   {
    "duration": 41,
    "start_time": "2022-11-29T19:50:35.641Z"
   },
   {
    "duration": 20,
    "start_time": "2022-11-29T19:50:35.683Z"
   },
   {
    "duration": 2,
    "start_time": "2022-11-29T19:50:35.705Z"
   },
   {
    "duration": 23,
    "start_time": "2022-11-29T19:50:35.708Z"
   },
   {
    "duration": 24,
    "start_time": "2022-11-29T19:50:35.733Z"
   },
   {
    "duration": 38,
    "start_time": "2022-11-29T19:50:35.758Z"
   },
   {
    "duration": 20,
    "start_time": "2022-11-29T19:50:35.797Z"
   },
   {
    "duration": 311,
    "start_time": "2022-11-29T19:50:35.818Z"
   },
   {
    "duration": 21,
    "start_time": "2022-11-29T19:50:36.130Z"
   },
   {
    "duration": 353,
    "start_time": "2022-11-29T19:50:36.153Z"
   },
   {
    "duration": 306,
    "start_time": "2022-11-29T19:50:36.507Z"
   },
   {
    "duration": 200,
    "start_time": "2022-11-29T19:50:36.814Z"
   },
   {
    "duration": 297,
    "start_time": "2022-11-29T19:50:37.016Z"
   },
   {
    "duration": 152,
    "start_time": "2022-11-29T19:50:37.315Z"
   },
   {
    "duration": 121,
    "start_time": "2022-11-29T19:50:37.468Z"
   },
   {
    "duration": 155,
    "start_time": "2022-11-29T19:50:37.591Z"
   },
   {
    "duration": 132,
    "start_time": "2022-11-29T19:50:37.748Z"
   },
   {
    "duration": 319,
    "start_time": "2022-11-29T19:50:37.881Z"
   },
   {
    "duration": 153,
    "start_time": "2022-11-29T19:50:38.202Z"
   },
   {
    "duration": 154,
    "start_time": "2022-11-29T19:50:38.357Z"
   },
   {
    "duration": 123,
    "start_time": "2022-11-29T19:50:38.512Z"
   },
   {
    "duration": 143,
    "start_time": "2022-11-29T19:50:38.637Z"
   },
   {
    "duration": 371,
    "start_time": "2022-11-29T19:50:38.782Z"
   },
   {
    "duration": 33,
    "start_time": "2022-11-29T19:50:39.154Z"
   },
   {
    "duration": 28,
    "start_time": "2022-11-29T19:50:39.189Z"
   },
   {
    "duration": 26,
    "start_time": "2022-11-29T19:50:39.218Z"
   },
   {
    "duration": 53,
    "start_time": "2022-11-29T19:50:39.245Z"
   },
   {
    "duration": 12,
    "start_time": "2022-11-29T19:50:39.299Z"
   },
   {
    "duration": 241,
    "start_time": "2022-11-29T19:50:39.313Z"
   },
   {
    "duration": 161,
    "start_time": "2022-11-29T19:50:39.555Z"
   },
   {
    "duration": 144,
    "start_time": "2022-11-29T19:50:39.718Z"
   },
   {
    "duration": 40,
    "start_time": "2022-11-29T19:50:39.863Z"
   },
   {
    "duration": 276,
    "start_time": "2022-11-29T19:50:39.904Z"
   },
   {
    "duration": 7,
    "start_time": "2022-11-29T19:51:32.531Z"
   },
   {
    "duration": 14,
    "start_time": "2022-11-29T19:52:04.211Z"
   },
   {
    "duration": 92,
    "start_time": "2022-11-29T19:52:07.010Z"
   },
   {
    "duration": 101,
    "start_time": "2022-11-30T06:54:01.165Z"
   },
   {
    "duration": 41,
    "start_time": "2022-11-30T06:54:11.047Z"
   },
   {
    "duration": 72,
    "start_time": "2022-11-30T06:54:26.698Z"
   },
   {
    "duration": 88,
    "start_time": "2022-11-30T06:54:35.098Z"
   },
   {
    "duration": 78,
    "start_time": "2022-11-30T06:54:42.174Z"
   },
   {
    "duration": 78,
    "start_time": "2022-11-30T06:54:48.827Z"
   },
   {
    "duration": 9,
    "start_time": "2022-11-30T06:54:52.005Z"
   },
   {
    "duration": 768,
    "start_time": "2022-11-30T06:54:55.000Z"
   },
   {
    "duration": 145,
    "start_time": "2022-11-30T06:54:55.771Z"
   },
   {
    "duration": 10,
    "start_time": "2022-11-30T06:54:55.918Z"
   },
   {
    "duration": 68,
    "start_time": "2022-11-30T06:54:55.931Z"
   },
   {
    "duration": 55,
    "start_time": "2022-11-30T06:54:56.001Z"
   },
   {
    "duration": 38,
    "start_time": "2022-11-30T06:54:56.057Z"
   },
   {
    "duration": 18,
    "start_time": "2022-11-30T06:54:56.097Z"
   },
   {
    "duration": 1839,
    "start_time": "2022-11-30T06:54:56.117Z"
   },
   {
    "duration": 11,
    "start_time": "2022-11-30T06:54:57.957Z"
   },
   {
    "duration": 30,
    "start_time": "2022-11-30T06:54:57.971Z"
   },
   {
    "duration": 9,
    "start_time": "2022-11-30T06:54:58.003Z"
   },
   {
    "duration": 10,
    "start_time": "2022-11-30T06:54:58.014Z"
   },
   {
    "duration": 21,
    "start_time": "2022-11-30T06:54:58.026Z"
   },
   {
    "duration": 37,
    "start_time": "2022-11-30T06:54:58.049Z"
   },
   {
    "duration": 2,
    "start_time": "2022-11-30T06:54:58.088Z"
   },
   {
    "duration": 29,
    "start_time": "2022-11-30T06:54:58.092Z"
   },
   {
    "duration": 20,
    "start_time": "2022-11-30T06:54:58.122Z"
   },
   {
    "duration": 42,
    "start_time": "2022-11-30T06:54:58.143Z"
   },
   {
    "duration": 22,
    "start_time": "2022-11-30T06:54:58.186Z"
   },
   {
    "duration": 20,
    "start_time": "2022-11-30T06:54:58.210Z"
   },
   {
    "duration": 47,
    "start_time": "2022-11-30T06:54:58.232Z"
   },
   {
    "duration": 27,
    "start_time": "2022-11-30T06:54:58.281Z"
   },
   {
    "duration": 39,
    "start_time": "2022-11-30T06:54:58.309Z"
   },
   {
    "duration": 39,
    "start_time": "2022-11-30T06:54:58.350Z"
   },
   {
    "duration": 19,
    "start_time": "2022-11-30T06:54:58.391Z"
   },
   {
    "duration": 19,
    "start_time": "2022-11-30T06:54:58.412Z"
   },
   {
    "duration": 47,
    "start_time": "2022-11-30T06:54:58.432Z"
   },
   {
    "duration": 25,
    "start_time": "2022-11-30T06:54:58.484Z"
   },
   {
    "duration": 18,
    "start_time": "2022-11-30T06:54:58.511Z"
   },
   {
    "duration": 17,
    "start_time": "2022-11-30T06:54:58.530Z"
   },
   {
    "duration": 3,
    "start_time": "2022-11-30T06:54:58.548Z"
   },
   {
    "duration": 47,
    "start_time": "2022-11-30T06:54:58.552Z"
   },
   {
    "duration": 21,
    "start_time": "2022-11-30T06:54:58.600Z"
   },
   {
    "duration": 17,
    "start_time": "2022-11-30T06:54:58.622Z"
   },
   {
    "duration": 19,
    "start_time": "2022-11-30T06:54:58.640Z"
   },
   {
    "duration": 278,
    "start_time": "2022-11-30T06:54:58.678Z"
   },
   {
    "duration": 29,
    "start_time": "2022-11-30T06:54:58.958Z"
   },
   {
    "duration": 377,
    "start_time": "2022-11-30T06:54:58.989Z"
   },
   {
    "duration": 314,
    "start_time": "2022-11-30T06:54:59.368Z"
   },
   {
    "duration": 184,
    "start_time": "2022-11-30T06:54:59.684Z"
   },
   {
    "duration": 246,
    "start_time": "2022-11-30T06:54:59.870Z"
   },
   {
    "duration": 151,
    "start_time": "2022-11-30T06:55:00.118Z"
   },
   {
    "duration": 138,
    "start_time": "2022-11-30T06:55:00.277Z"
   },
   {
    "duration": 167,
    "start_time": "2022-11-30T06:55:00.417Z"
   },
   {
    "duration": 141,
    "start_time": "2022-11-30T06:55:00.586Z"
   },
   {
    "duration": 379,
    "start_time": "2022-11-30T06:55:00.729Z"
   },
   {
    "duration": 177,
    "start_time": "2022-11-30T06:55:01.110Z"
   },
   {
    "duration": 167,
    "start_time": "2022-11-30T06:55:01.288Z"
   },
   {
    "duration": 172,
    "start_time": "2022-11-30T06:55:01.457Z"
   },
   {
    "duration": 152,
    "start_time": "2022-11-30T06:55:01.630Z"
   },
   {
    "duration": 397,
    "start_time": "2022-11-30T06:55:01.784Z"
   },
   {
    "duration": 25,
    "start_time": "2022-11-30T06:55:02.182Z"
   },
   {
    "duration": 24,
    "start_time": "2022-11-30T06:55:02.208Z"
   },
   {
    "duration": 49,
    "start_time": "2022-11-30T06:55:02.233Z"
   },
   {
    "duration": 24,
    "start_time": "2022-11-30T06:55:02.283Z"
   },
   {
    "duration": 12,
    "start_time": "2022-11-30T06:55:02.309Z"
   },
   {
    "duration": 164,
    "start_time": "2022-11-30T06:55:02.323Z"
   },
   {
    "duration": 160,
    "start_time": "2022-11-30T06:55:02.489Z"
   },
   {
    "duration": 142,
    "start_time": "2022-11-30T06:55:02.651Z"
   },
   {
    "duration": 32,
    "start_time": "2022-11-30T06:55:02.795Z"
   },
   {
    "duration": 318,
    "start_time": "2022-11-30T06:55:02.828Z"
   },
   {
    "duration": 8,
    "start_time": "2022-11-30T06:57:19.068Z"
   },
   {
    "duration": 30,
    "start_time": "2022-11-30T07:01:55.074Z"
   },
   {
    "duration": 164,
    "start_time": "2022-11-30T07:04:22.710Z"
   },
   {
    "duration": 165,
    "start_time": "2022-11-30T07:04:42.662Z"
   },
   {
    "duration": 156,
    "start_time": "2022-11-30T07:06:45.377Z"
   },
   {
    "duration": 140,
    "start_time": "2022-11-30T07:06:56.293Z"
   },
   {
    "duration": 144,
    "start_time": "2022-11-30T07:07:11.790Z"
   },
   {
    "duration": 25,
    "start_time": "2022-11-30T07:08:56.785Z"
   },
   {
    "duration": 53,
    "start_time": "2022-11-30T07:12:58.650Z"
   },
   {
    "duration": 162,
    "start_time": "2022-11-30T07:14:01.293Z"
   },
   {
    "duration": 167,
    "start_time": "2022-11-30T07:16:43.408Z"
   },
   {
    "duration": 170,
    "start_time": "2022-11-30T07:18:05.964Z"
   },
   {
    "duration": 7,
    "start_time": "2022-11-30T07:27:47.887Z"
   },
   {
    "duration": 6,
    "start_time": "2022-11-30T07:28:06.790Z"
   },
   {
    "duration": 18,
    "start_time": "2022-11-30T07:31:41.264Z"
   },
   {
    "duration": 14,
    "start_time": "2022-11-30T07:33:12.918Z"
   },
   {
    "duration": 603,
    "start_time": "2022-11-30T07:33:40.227Z"
   },
   {
    "duration": 11,
    "start_time": "2022-11-30T07:33:54.675Z"
   },
   {
    "duration": 14,
    "start_time": "2022-11-30T07:34:04.037Z"
   },
   {
    "duration": 12,
    "start_time": "2022-11-30T07:34:12.899Z"
   },
   {
    "duration": 6,
    "start_time": "2022-11-30T07:40:23.004Z"
   },
   {
    "duration": 17,
    "start_time": "2022-11-30T07:45:04.098Z"
   },
   {
    "duration": 3,
    "start_time": "2022-11-30T07:45:20.996Z"
   },
   {
    "duration": 83,
    "start_time": "2022-11-30T07:45:21.003Z"
   },
   {
    "duration": 8,
    "start_time": "2022-11-30T07:45:21.089Z"
   },
   {
    "duration": 88,
    "start_time": "2022-11-30T07:45:21.098Z"
   },
   {
    "duration": 39,
    "start_time": "2022-11-30T07:45:21.188Z"
   },
   {
    "duration": 18,
    "start_time": "2022-11-30T07:45:21.229Z"
   },
   {
    "duration": 39,
    "start_time": "2022-11-30T07:45:21.248Z"
   },
   {
    "duration": 1814,
    "start_time": "2022-11-30T07:45:21.289Z"
   },
   {
    "duration": 8,
    "start_time": "2022-11-30T07:45:23.105Z"
   },
   {
    "duration": 25,
    "start_time": "2022-11-30T07:45:23.115Z"
   },
   {
    "duration": 7,
    "start_time": "2022-11-30T07:45:23.141Z"
   },
   {
    "duration": 10,
    "start_time": "2022-11-30T07:45:23.150Z"
   },
   {
    "duration": 20,
    "start_time": "2022-11-30T07:45:23.178Z"
   },
   {
    "duration": 16,
    "start_time": "2022-11-30T07:45:23.199Z"
   },
   {
    "duration": 3,
    "start_time": "2022-11-30T07:45:23.218Z"
   },
   {
    "duration": 24,
    "start_time": "2022-11-30T07:45:23.222Z"
   },
   {
    "duration": 47,
    "start_time": "2022-11-30T07:45:23.247Z"
   },
   {
    "duration": 29,
    "start_time": "2022-11-30T07:45:23.295Z"
   },
   {
    "duration": 18,
    "start_time": "2022-11-30T07:45:23.326Z"
   },
   {
    "duration": 6,
    "start_time": "2022-11-30T07:45:23.345Z"
   },
   {
    "duration": 39,
    "start_time": "2022-11-30T07:45:23.352Z"
   },
   {
    "duration": 9,
    "start_time": "2022-11-30T07:45:23.393Z"
   },
   {
    "duration": 12,
    "start_time": "2022-11-30T07:45:23.403Z"
   },
   {
    "duration": 0,
    "start_time": "2022-11-30T07:45:23.418Z"
   },
   {
    "duration": 0,
    "start_time": "2022-11-30T07:45:23.420Z"
   },
   {
    "duration": 0,
    "start_time": "2022-11-30T07:45:23.421Z"
   },
   {
    "duration": 0,
    "start_time": "2022-11-30T07:45:23.422Z"
   },
   {
    "duration": 0,
    "start_time": "2022-11-30T07:45:23.423Z"
   },
   {
    "duration": 0,
    "start_time": "2022-11-30T07:45:23.424Z"
   },
   {
    "duration": 0,
    "start_time": "2022-11-30T07:45:23.425Z"
   },
   {
    "duration": 0,
    "start_time": "2022-11-30T07:45:23.426Z"
   },
   {
    "duration": 0,
    "start_time": "2022-11-30T07:45:23.427Z"
   },
   {
    "duration": 0,
    "start_time": "2022-11-30T07:45:23.428Z"
   },
   {
    "duration": 0,
    "start_time": "2022-11-30T07:45:23.430Z"
   },
   {
    "duration": 0,
    "start_time": "2022-11-30T07:45:23.431Z"
   },
   {
    "duration": 0,
    "start_time": "2022-11-30T07:45:23.433Z"
   },
   {
    "duration": 0,
    "start_time": "2022-11-30T07:45:23.477Z"
   },
   {
    "duration": 0,
    "start_time": "2022-11-30T07:45:23.478Z"
   },
   {
    "duration": 0,
    "start_time": "2022-11-30T07:45:23.480Z"
   },
   {
    "duration": 0,
    "start_time": "2022-11-30T07:45:23.481Z"
   },
   {
    "duration": 0,
    "start_time": "2022-11-30T07:45:23.482Z"
   },
   {
    "duration": 0,
    "start_time": "2022-11-30T07:45:23.483Z"
   },
   {
    "duration": 0,
    "start_time": "2022-11-30T07:45:23.484Z"
   },
   {
    "duration": 0,
    "start_time": "2022-11-30T07:45:23.485Z"
   },
   {
    "duration": 0,
    "start_time": "2022-11-30T07:45:23.486Z"
   },
   {
    "duration": 0,
    "start_time": "2022-11-30T07:45:23.487Z"
   },
   {
    "duration": 0,
    "start_time": "2022-11-30T07:45:23.488Z"
   },
   {
    "duration": 0,
    "start_time": "2022-11-30T07:45:23.489Z"
   },
   {
    "duration": 0,
    "start_time": "2022-11-30T07:45:23.490Z"
   },
   {
    "duration": 0,
    "start_time": "2022-11-30T07:45:23.491Z"
   },
   {
    "duration": 0,
    "start_time": "2022-11-30T07:45:23.492Z"
   },
   {
    "duration": 0,
    "start_time": "2022-11-30T07:45:23.493Z"
   },
   {
    "duration": 0,
    "start_time": "2022-11-30T07:45:23.494Z"
   },
   {
    "duration": 0,
    "start_time": "2022-11-30T07:45:23.495Z"
   },
   {
    "duration": 0,
    "start_time": "2022-11-30T07:45:23.496Z"
   },
   {
    "duration": 0,
    "start_time": "2022-11-30T07:45:23.497Z"
   },
   {
    "duration": 0,
    "start_time": "2022-11-30T07:45:23.498Z"
   },
   {
    "duration": 0,
    "start_time": "2022-11-30T07:45:23.499Z"
   },
   {
    "duration": 0,
    "start_time": "2022-11-30T07:45:23.500Z"
   },
   {
    "duration": 0,
    "start_time": "2022-11-30T07:45:23.501Z"
   },
   {
    "duration": 0,
    "start_time": "2022-11-30T07:45:23.502Z"
   },
   {
    "duration": 0,
    "start_time": "2022-11-30T07:45:23.503Z"
   },
   {
    "duration": 0,
    "start_time": "2022-11-30T07:45:23.504Z"
   },
   {
    "duration": 0,
    "start_time": "2022-11-30T07:45:23.504Z"
   },
   {
    "duration": 0,
    "start_time": "2022-11-30T07:45:23.505Z"
   },
   {
    "duration": 0,
    "start_time": "2022-11-30T07:45:23.506Z"
   },
   {
    "duration": 10,
    "start_time": "2022-11-30T07:46:00.304Z"
   },
   {
    "duration": 18,
    "start_time": "2022-11-30T07:46:06.860Z"
   },
   {
    "duration": 18,
    "start_time": "2022-11-30T07:46:32.474Z"
   },
   {
    "duration": 2,
    "start_time": "2022-11-30T08:08:11.834Z"
   },
   {
    "duration": 84,
    "start_time": "2022-11-30T08:08:11.839Z"
   },
   {
    "duration": 16,
    "start_time": "2022-11-30T08:08:11.925Z"
   },
   {
    "duration": 75,
    "start_time": "2022-11-30T08:08:11.945Z"
   },
   {
    "duration": 32,
    "start_time": "2022-11-30T08:08:12.022Z"
   },
   {
    "duration": 33,
    "start_time": "2022-11-30T08:08:12.055Z"
   },
   {
    "duration": 19,
    "start_time": "2022-11-30T08:08:12.090Z"
   },
   {
    "duration": 1864,
    "start_time": "2022-11-30T08:08:12.111Z"
   },
   {
    "duration": 11,
    "start_time": "2022-11-30T08:08:13.978Z"
   },
   {
    "duration": 39,
    "start_time": "2022-11-30T08:08:13.991Z"
   },
   {
    "duration": 10,
    "start_time": "2022-11-30T08:08:14.033Z"
   },
   {
    "duration": 34,
    "start_time": "2022-11-30T08:08:14.045Z"
   },
   {
    "duration": 27,
    "start_time": "2022-11-30T08:08:14.081Z"
   },
   {
    "duration": 22,
    "start_time": "2022-11-30T08:08:14.111Z"
   },
   {
    "duration": 3,
    "start_time": "2022-11-30T08:08:14.135Z"
   },
   {
    "duration": 54,
    "start_time": "2022-11-30T08:08:14.140Z"
   },
   {
    "duration": 23,
    "start_time": "2022-11-30T08:08:14.196Z"
   },
   {
    "duration": 26,
    "start_time": "2022-11-30T08:08:14.221Z"
   },
   {
    "duration": 42,
    "start_time": "2022-11-30T08:08:14.248Z"
   },
   {
    "duration": 6,
    "start_time": "2022-11-30T08:08:14.291Z"
   },
   {
    "duration": 29,
    "start_time": "2022-11-30T08:08:14.298Z"
   },
   {
    "duration": 6,
    "start_time": "2022-11-30T08:08:14.328Z"
   },
   {
    "duration": 18,
    "start_time": "2022-11-30T08:08:14.335Z"
   },
   {
    "duration": 34,
    "start_time": "2022-11-30T08:08:14.354Z"
   },
   {
    "duration": 23,
    "start_time": "2022-11-30T08:08:14.390Z"
   },
   {
    "duration": 18,
    "start_time": "2022-11-30T08:08:14.414Z"
   },
   {
    "duration": 28,
    "start_time": "2022-11-30T08:08:14.433Z"
   },
   {
    "duration": 38,
    "start_time": "2022-11-30T08:08:14.463Z"
   },
   {
    "duration": 20,
    "start_time": "2022-11-30T08:08:14.504Z"
   },
   {
    "duration": 20,
    "start_time": "2022-11-30T08:08:14.525Z"
   },
   {
    "duration": 36,
    "start_time": "2022-11-30T08:08:14.546Z"
   },
   {
    "duration": 19,
    "start_time": "2022-11-30T08:08:14.584Z"
   },
   {
    "duration": 18,
    "start_time": "2022-11-30T08:08:14.605Z"
   },
   {
    "duration": 17,
    "start_time": "2022-11-30T08:08:14.625Z"
   },
   {
    "duration": 48,
    "start_time": "2022-11-30T08:08:14.644Z"
   },
   {
    "duration": 9,
    "start_time": "2022-11-30T08:08:14.694Z"
   },
   {
    "duration": 32,
    "start_time": "2022-11-30T08:08:14.705Z"
   },
   {
    "duration": 27,
    "start_time": "2022-11-30T08:08:14.739Z"
   },
   {
    "duration": 19,
    "start_time": "2022-11-30T08:08:14.767Z"
   },
   {
    "duration": 19,
    "start_time": "2022-11-30T08:08:14.788Z"
   },
   {
    "duration": 302,
    "start_time": "2022-11-30T08:08:14.809Z"
   },
   {
    "duration": 24,
    "start_time": "2022-11-30T08:08:15.113Z"
   },
   {
    "duration": 456,
    "start_time": "2022-11-30T08:08:15.138Z"
   },
   {
    "duration": 237,
    "start_time": "2022-11-30T08:08:15.596Z"
   },
   {
    "duration": 179,
    "start_time": "2022-11-30T08:08:15.835Z"
   },
   {
    "duration": 258,
    "start_time": "2022-11-30T08:08:16.015Z"
   },
   {
    "duration": 157,
    "start_time": "2022-11-30T08:08:16.274Z"
   },
   {
    "duration": 110,
    "start_time": "2022-11-30T08:08:16.432Z"
   },
   {
    "duration": 153,
    "start_time": "2022-11-30T08:08:16.543Z"
   },
   {
    "duration": 125,
    "start_time": "2022-11-30T08:08:16.697Z"
   },
   {
    "duration": 235,
    "start_time": "2022-11-30T08:08:16.824Z"
   },
   {
    "duration": 165,
    "start_time": "2022-11-30T08:08:17.060Z"
   },
   {
    "duration": 154,
    "start_time": "2022-11-30T08:08:17.226Z"
   },
   {
    "duration": 264,
    "start_time": "2022-11-30T08:08:17.381Z"
   },
   {
    "duration": 123,
    "start_time": "2022-11-30T08:08:17.647Z"
   },
   {
    "duration": 350,
    "start_time": "2022-11-30T08:08:17.777Z"
   },
   {
    "duration": 173,
    "start_time": "2022-11-30T08:08:18.129Z"
   },
   {
    "duration": 188,
    "start_time": "2022-11-30T08:08:18.303Z"
   },
   {
    "duration": 186,
    "start_time": "2022-11-30T08:08:18.493Z"
   },
   {
    "duration": 23,
    "start_time": "2022-11-30T08:08:18.680Z"
   },
   {
    "duration": 16,
    "start_time": "2022-11-30T08:08:18.705Z"
   },
   {
    "duration": 157,
    "start_time": "2022-11-30T08:08:18.723Z"
   },
   {
    "duration": 146,
    "start_time": "2022-11-30T08:08:18.882Z"
   },
   {
    "duration": 192,
    "start_time": "2022-11-30T08:08:19.030Z"
   },
   {
    "duration": 33,
    "start_time": "2022-11-30T08:08:19.224Z"
   },
   {
    "duration": 155,
    "start_time": "2022-11-30T08:08:19.259Z"
   },
   {
    "duration": 2539,
    "start_time": "2022-11-30T08:08:40.448Z"
   },
   {
    "duration": 17,
    "start_time": "2022-11-30T08:11:40.309Z"
   },
   {
    "duration": 17,
    "start_time": "2022-11-30T08:12:38.820Z"
   },
   {
    "duration": 8,
    "start_time": "2022-11-30T08:12:55.084Z"
   },
   {
    "duration": 22,
    "start_time": "2022-11-30T08:14:25.075Z"
   },
   {
    "duration": 10,
    "start_time": "2022-11-30T08:23:17.181Z"
   },
   {
    "duration": 26,
    "start_time": "2022-11-30T08:23:17.395Z"
   },
   {
    "duration": 24,
    "start_time": "2022-11-30T08:23:53.771Z"
   },
   {
    "duration": 19,
    "start_time": "2022-11-30T08:24:35.878Z"
   },
   {
    "duration": 21,
    "start_time": "2022-11-30T08:25:21.865Z"
   },
   {
    "duration": 10,
    "start_time": "2022-11-30T08:26:41.845Z"
   },
   {
    "duration": 40,
    "start_time": "2022-11-30T08:27:26.862Z"
   },
   {
    "duration": 59,
    "start_time": "2022-11-30T08:27:45.275Z"
   },
   {
    "duration": 606,
    "start_time": "2022-11-30T08:34:14.055Z"
   },
   {
    "duration": 138,
    "start_time": "2022-11-30T08:50:10.008Z"
   },
   {
    "duration": 219,
    "start_time": "2022-11-30T08:50:18.121Z"
   },
   {
    "duration": 129,
    "start_time": "2022-11-30T08:50:29.260Z"
   },
   {
    "duration": 244,
    "start_time": "2022-11-30T08:50:34.857Z"
   },
   {
    "duration": 127,
    "start_time": "2022-11-30T08:50:49.306Z"
   },
   {
    "duration": 2,
    "start_time": "2022-11-30T08:50:52.949Z"
   },
   {
    "duration": 90,
    "start_time": "2022-11-30T08:50:52.953Z"
   },
   {
    "duration": 7,
    "start_time": "2022-11-30T08:50:53.045Z"
   },
   {
    "duration": 81,
    "start_time": "2022-11-30T08:50:53.053Z"
   },
   {
    "duration": 52,
    "start_time": "2022-11-30T08:50:53.136Z"
   },
   {
    "duration": 21,
    "start_time": "2022-11-30T08:50:53.190Z"
   },
   {
    "duration": 15,
    "start_time": "2022-11-30T08:50:53.212Z"
   },
   {
    "duration": 2056,
    "start_time": "2022-11-30T08:50:53.228Z"
   },
   {
    "duration": 9,
    "start_time": "2022-11-30T08:50:55.286Z"
   },
   {
    "duration": 20,
    "start_time": "2022-11-30T08:50:55.297Z"
   },
   {
    "duration": 9,
    "start_time": "2022-11-30T08:50:55.320Z"
   },
   {
    "duration": 11,
    "start_time": "2022-11-30T08:50:55.330Z"
   },
   {
    "duration": 55,
    "start_time": "2022-11-30T08:50:55.342Z"
   },
   {
    "duration": 26,
    "start_time": "2022-11-30T08:50:55.399Z"
   },
   {
    "duration": 3,
    "start_time": "2022-11-30T08:50:55.427Z"
   },
   {
    "duration": 48,
    "start_time": "2022-11-30T08:50:55.432Z"
   },
   {
    "duration": 23,
    "start_time": "2022-11-30T08:50:55.481Z"
   },
   {
    "duration": 24,
    "start_time": "2022-11-30T08:50:55.505Z"
   },
   {
    "duration": 24,
    "start_time": "2022-11-30T08:50:55.530Z"
   },
   {
    "duration": 29,
    "start_time": "2022-11-30T08:50:55.555Z"
   },
   {
    "duration": 22,
    "start_time": "2022-11-30T08:50:55.586Z"
   },
   {
    "duration": 7,
    "start_time": "2022-11-30T08:50:55.610Z"
   },
   {
    "duration": 61,
    "start_time": "2022-11-30T08:50:55.618Z"
   },
   {
    "duration": 16,
    "start_time": "2022-11-30T08:50:55.681Z"
   },
   {
    "duration": 20,
    "start_time": "2022-11-30T08:50:55.698Z"
   },
   {
    "duration": 21,
    "start_time": "2022-11-30T08:50:55.719Z"
   },
   {
    "duration": 6,
    "start_time": "2022-11-30T08:50:55.741Z"
   },
   {
    "duration": 42,
    "start_time": "2022-11-30T08:50:55.779Z"
   },
   {
    "duration": 68,
    "start_time": "2022-11-30T08:50:55.824Z"
   },
   {
    "duration": 33,
    "start_time": "2022-11-30T08:50:55.894Z"
   },
   {
    "duration": 21,
    "start_time": "2022-11-30T08:50:55.928Z"
   },
   {
    "duration": 40,
    "start_time": "2022-11-30T08:50:55.950Z"
   },
   {
    "duration": 22,
    "start_time": "2022-11-30T08:50:55.992Z"
   },
   {
    "duration": 21,
    "start_time": "2022-11-30T08:50:56.016Z"
   },
   {
    "duration": 47,
    "start_time": "2022-11-30T08:50:56.039Z"
   },
   {
    "duration": 20,
    "start_time": "2022-11-30T08:50:56.088Z"
   },
   {
    "duration": 18,
    "start_time": "2022-11-30T08:50:56.109Z"
   },
   {
    "duration": 2,
    "start_time": "2022-11-30T08:50:56.129Z"
   },
   {
    "duration": 46,
    "start_time": "2022-11-30T08:50:56.133Z"
   },
   {
    "duration": 19,
    "start_time": "2022-11-30T08:50:56.181Z"
   },
   {
    "duration": 18,
    "start_time": "2022-11-30T08:50:56.202Z"
   },
   {
    "duration": 18,
    "start_time": "2022-11-30T08:50:56.222Z"
   },
   {
    "duration": 298,
    "start_time": "2022-11-30T08:50:56.242Z"
   },
   {
    "duration": 21,
    "start_time": "2022-11-30T08:50:56.541Z"
   },
   {
    "duration": 372,
    "start_time": "2022-11-30T08:50:56.563Z"
   },
   {
    "duration": 264,
    "start_time": "2022-11-30T08:50:56.936Z"
   },
   {
    "duration": 205,
    "start_time": "2022-11-30T08:50:57.203Z"
   },
   {
    "duration": 153,
    "start_time": "2022-11-30T08:50:57.411Z"
   },
   {
    "duration": 169,
    "start_time": "2022-11-30T08:50:57.565Z"
   },
   {
    "duration": 130,
    "start_time": "2022-11-30T08:50:57.735Z"
   },
   {
    "duration": 162,
    "start_time": "2022-11-30T08:50:57.867Z"
   },
   {
    "duration": 136,
    "start_time": "2022-11-30T08:50:58.031Z"
   },
   {
    "duration": 240,
    "start_time": "2022-11-30T08:50:58.177Z"
   },
   {
    "duration": 360,
    "start_time": "2022-11-30T08:50:58.418Z"
   },
   {
    "duration": 162,
    "start_time": "2022-11-30T08:50:58.779Z"
   },
   {
    "duration": 150,
    "start_time": "2022-11-30T08:50:58.943Z"
   },
   {
    "duration": 224,
    "start_time": "2022-11-30T08:50:59.095Z"
   },
   {
    "duration": 398,
    "start_time": "2022-11-30T08:50:59.322Z"
   },
   {
    "duration": 176,
    "start_time": "2022-11-30T08:50:59.721Z"
   },
   {
    "duration": 202,
    "start_time": "2022-11-30T08:50:59.899Z"
   },
   {
    "duration": 186,
    "start_time": "2022-11-30T08:51:00.103Z"
   },
   {
    "duration": 24,
    "start_time": "2022-11-30T08:51:00.291Z"
   },
   {
    "duration": 13,
    "start_time": "2022-11-30T08:51:00.316Z"
   },
   {
    "duration": 176,
    "start_time": "2022-11-30T08:51:00.331Z"
   },
   {
    "duration": 173,
    "start_time": "2022-11-30T08:51:00.509Z"
   },
   {
    "duration": 158,
    "start_time": "2022-11-30T08:51:00.684Z"
   },
   {
    "duration": 45,
    "start_time": "2022-11-30T08:51:00.844Z"
   },
   {
    "duration": 182,
    "start_time": "2022-11-30T08:51:00.890Z"
   },
   {
    "duration": 222,
    "start_time": "2022-11-30T08:51:48.482Z"
   },
   {
    "duration": 2,
    "start_time": "2022-11-30T08:51:52.180Z"
   },
   {
    "duration": 84,
    "start_time": "2022-11-30T08:51:52.185Z"
   },
   {
    "duration": 7,
    "start_time": "2022-11-30T08:51:52.271Z"
   },
   {
    "duration": 69,
    "start_time": "2022-11-30T08:51:52.280Z"
   },
   {
    "duration": 51,
    "start_time": "2022-11-30T08:51:52.351Z"
   },
   {
    "duration": 23,
    "start_time": "2022-11-30T08:51:52.404Z"
   },
   {
    "duration": 20,
    "start_time": "2022-11-30T08:51:52.428Z"
   },
   {
    "duration": 2187,
    "start_time": "2022-11-30T08:51:52.449Z"
   },
   {
    "duration": 10,
    "start_time": "2022-11-30T08:51:54.637Z"
   },
   {
    "duration": 40,
    "start_time": "2022-11-30T08:51:54.648Z"
   },
   {
    "duration": 7,
    "start_time": "2022-11-30T08:51:54.691Z"
   },
   {
    "duration": 11,
    "start_time": "2022-11-30T08:51:54.700Z"
   },
   {
    "duration": 31,
    "start_time": "2022-11-30T08:51:54.713Z"
   },
   {
    "duration": 54,
    "start_time": "2022-11-30T08:51:54.746Z"
   },
   {
    "duration": 3,
    "start_time": "2022-11-30T08:51:54.802Z"
   },
   {
    "duration": 27,
    "start_time": "2022-11-30T08:51:54.807Z"
   },
   {
    "duration": 50,
    "start_time": "2022-11-30T08:51:54.836Z"
   },
   {
    "duration": 29,
    "start_time": "2022-11-30T08:51:54.888Z"
   },
   {
    "duration": 23,
    "start_time": "2022-11-30T08:51:54.919Z"
   },
   {
    "duration": 6,
    "start_time": "2022-11-30T08:51:54.944Z"
   },
   {
    "duration": 24,
    "start_time": "2022-11-30T08:51:54.977Z"
   },
   {
    "duration": 8,
    "start_time": "2022-11-30T08:51:55.003Z"
   },
   {
    "duration": 25,
    "start_time": "2022-11-30T08:51:55.013Z"
   },
   {
    "duration": 54,
    "start_time": "2022-11-30T08:51:55.040Z"
   },
   {
    "duration": 18,
    "start_time": "2022-11-30T08:51:55.095Z"
   },
   {
    "duration": 30,
    "start_time": "2022-11-30T08:51:55.114Z"
   },
   {
    "duration": 34,
    "start_time": "2022-11-30T08:51:55.145Z"
   },
   {
    "duration": 68,
    "start_time": "2022-11-30T08:51:55.181Z"
   },
   {
    "duration": 66,
    "start_time": "2022-11-30T08:51:55.255Z"
   },
   {
    "duration": 33,
    "start_time": "2022-11-30T08:51:55.323Z"
   },
   {
    "duration": 38,
    "start_time": "2022-11-30T08:51:55.358Z"
   },
   {
    "duration": 20,
    "start_time": "2022-11-30T08:51:55.398Z"
   },
   {
    "duration": 20,
    "start_time": "2022-11-30T08:51:55.419Z"
   },
   {
    "duration": 49,
    "start_time": "2022-11-30T08:51:55.440Z"
   },
   {
    "duration": 19,
    "start_time": "2022-11-30T08:51:55.491Z"
   },
   {
    "duration": 19,
    "start_time": "2022-11-30T08:51:55.511Z"
   },
   {
    "duration": 49,
    "start_time": "2022-11-30T08:51:55.531Z"
   },
   {
    "duration": 3,
    "start_time": "2022-11-30T08:51:55.582Z"
   },
   {
    "duration": 25,
    "start_time": "2022-11-30T08:51:55.587Z"
   },
   {
    "duration": 24,
    "start_time": "2022-11-30T08:51:55.613Z"
   },
   {
    "duration": 46,
    "start_time": "2022-11-30T08:51:55.639Z"
   },
   {
    "duration": 19,
    "start_time": "2022-11-30T08:51:55.687Z"
   },
   {
    "duration": 287,
    "start_time": "2022-11-30T08:51:55.707Z"
   },
   {
    "duration": 21,
    "start_time": "2022-11-30T08:51:55.995Z"
   },
   {
    "duration": 395,
    "start_time": "2022-11-30T08:51:56.017Z"
   },
   {
    "duration": 247,
    "start_time": "2022-11-30T08:51:56.413Z"
   },
   {
    "duration": 196,
    "start_time": "2022-11-30T08:51:56.661Z"
   },
   {
    "duration": 255,
    "start_time": "2022-11-30T08:51:56.859Z"
   },
   {
    "duration": 151,
    "start_time": "2022-11-30T08:51:57.116Z"
   },
   {
    "duration": 171,
    "start_time": "2022-11-30T08:51:57.269Z"
   },
   {
    "duration": 384,
    "start_time": "2022-11-30T08:51:57.442Z"
   },
   {
    "duration": 127,
    "start_time": "2022-11-30T08:51:57.827Z"
   },
   {
    "duration": 225,
    "start_time": "2022-11-30T08:51:57.956Z"
   },
   {
    "duration": 170,
    "start_time": "2022-11-30T08:51:58.183Z"
   },
   {
    "duration": 158,
    "start_time": "2022-11-30T08:51:58.354Z"
   },
   {
    "duration": 131,
    "start_time": "2022-11-30T08:51:58.513Z"
   },
   {
    "duration": 149,
    "start_time": "2022-11-30T08:51:58.646Z"
   },
   {
    "duration": 368,
    "start_time": "2022-11-30T08:51:58.797Z"
   },
   {
    "duration": 234,
    "start_time": "2022-11-30T08:51:59.166Z"
   },
   {
    "duration": 197,
    "start_time": "2022-11-30T08:51:59.402Z"
   },
   {
    "duration": 188,
    "start_time": "2022-11-30T08:51:59.601Z"
   },
   {
    "duration": 26,
    "start_time": "2022-11-30T08:51:59.791Z"
   },
   {
    "duration": 16,
    "start_time": "2022-11-30T08:51:59.819Z"
   },
   {
    "duration": 177,
    "start_time": "2022-11-30T08:51:59.836Z"
   },
   {
    "duration": 168,
    "start_time": "2022-11-30T08:52:00.015Z"
   },
   {
    "duration": 201,
    "start_time": "2022-11-30T08:52:00.185Z"
   },
   {
    "duration": 33,
    "start_time": "2022-11-30T08:52:00.387Z"
   },
   {
    "duration": 178,
    "start_time": "2022-11-30T08:52:00.423Z"
   },
   {
    "duration": 46,
    "start_time": "2022-11-30T12:02:11.667Z"
   },
   {
    "duration": 742,
    "start_time": "2022-11-30T12:02:15.897Z"
   },
   {
    "duration": 131,
    "start_time": "2022-11-30T12:02:16.641Z"
   },
   {
    "duration": 10,
    "start_time": "2022-11-30T12:02:16.773Z"
   },
   {
    "duration": 84,
    "start_time": "2022-11-30T12:02:16.785Z"
   },
   {
    "duration": 36,
    "start_time": "2022-11-30T12:02:16.871Z"
   },
   {
    "duration": 21,
    "start_time": "2022-11-30T12:02:16.909Z"
   },
   {
    "duration": 31,
    "start_time": "2022-11-30T12:02:16.932Z"
   },
   {
    "duration": 1818,
    "start_time": "2022-11-30T12:02:16.965Z"
   },
   {
    "duration": 8,
    "start_time": "2022-11-30T12:02:18.785Z"
   },
   {
    "duration": 27,
    "start_time": "2022-11-30T12:02:18.795Z"
   },
   {
    "duration": 9,
    "start_time": "2022-11-30T12:02:18.823Z"
   },
   {
    "duration": 8,
    "start_time": "2022-11-30T12:02:18.834Z"
   },
   {
    "duration": 21,
    "start_time": "2022-11-30T12:02:18.852Z"
   },
   {
    "duration": 15,
    "start_time": "2022-11-30T12:02:18.875Z"
   },
   {
    "duration": 7,
    "start_time": "2022-11-30T12:02:18.892Z"
   },
   {
    "duration": 46,
    "start_time": "2022-11-30T12:02:18.901Z"
   },
   {
    "duration": 23,
    "start_time": "2022-11-30T12:02:18.948Z"
   },
   {
    "duration": 47,
    "start_time": "2022-11-30T12:02:18.973Z"
   },
   {
    "duration": 30,
    "start_time": "2022-11-30T12:02:19.022Z"
   },
   {
    "duration": 8,
    "start_time": "2022-11-30T12:02:19.054Z"
   },
   {
    "duration": 32,
    "start_time": "2022-11-30T12:02:19.064Z"
   },
   {
    "duration": 7,
    "start_time": "2022-11-30T12:02:19.098Z"
   },
   {
    "duration": 39,
    "start_time": "2022-11-30T12:02:19.106Z"
   },
   {
    "duration": 21,
    "start_time": "2022-11-30T12:02:19.152Z"
   },
   {
    "duration": 28,
    "start_time": "2022-11-30T12:02:19.175Z"
   },
   {
    "duration": 15,
    "start_time": "2022-11-30T12:02:19.205Z"
   },
   {
    "duration": 39,
    "start_time": "2022-11-30T12:02:19.221Z"
   },
   {
    "duration": 22,
    "start_time": "2022-11-30T12:02:19.263Z"
   },
   {
    "duration": 69,
    "start_time": "2022-11-30T12:02:19.286Z"
   },
   {
    "duration": 28,
    "start_time": "2022-11-30T12:02:19.357Z"
   },
   {
    "duration": 28,
    "start_time": "2022-11-30T12:02:19.386Z"
   },
   {
    "duration": 38,
    "start_time": "2022-11-30T12:02:19.415Z"
   },
   {
    "duration": 22,
    "start_time": "2022-11-30T12:02:19.455Z"
   },
   {
    "duration": 25,
    "start_time": "2022-11-30T12:02:19.479Z"
   },
   {
    "duration": 21,
    "start_time": "2022-11-30T12:02:19.506Z"
   },
   {
    "duration": 40,
    "start_time": "2022-11-30T12:02:19.529Z"
   },
   {
    "duration": 19,
    "start_time": "2022-11-30T12:02:19.571Z"
   },
   {
    "duration": 32,
    "start_time": "2022-11-30T12:02:19.591Z"
   },
   {
    "duration": 18,
    "start_time": "2022-11-30T12:02:19.624Z"
   },
   {
    "duration": 35,
    "start_time": "2022-11-30T12:02:19.644Z"
   },
   {
    "duration": 41,
    "start_time": "2022-11-30T12:02:19.680Z"
   },
   {
    "duration": 22,
    "start_time": "2022-11-30T12:02:19.722Z"
   },
   {
    "duration": 20,
    "start_time": "2022-11-30T12:02:19.746Z"
   },
   {
    "duration": 294,
    "start_time": "2022-11-30T12:02:19.768Z"
   },
   {
    "duration": 23,
    "start_time": "2022-11-30T12:02:20.064Z"
   },
   {
    "duration": 374,
    "start_time": "2022-11-30T12:02:20.088Z"
   },
   {
    "duration": 320,
    "start_time": "2022-11-30T12:02:20.464Z"
   },
   {
    "duration": 194,
    "start_time": "2022-11-30T12:02:20.786Z"
   },
   {
    "duration": 249,
    "start_time": "2022-11-30T12:02:20.982Z"
   },
   {
    "duration": 155,
    "start_time": "2022-11-30T12:02:21.233Z"
   },
   {
    "duration": 124,
    "start_time": "2022-11-30T12:02:21.389Z"
   },
   {
    "duration": 152,
    "start_time": "2022-11-30T12:02:21.515Z"
   },
   {
    "duration": 128,
    "start_time": "2022-11-30T12:02:21.668Z"
   },
   {
    "duration": 331,
    "start_time": "2022-11-30T12:02:21.797Z"
   },
   {
    "duration": 157,
    "start_time": "2022-11-30T12:02:22.129Z"
   },
   {
    "duration": 186,
    "start_time": "2022-11-30T12:02:22.288Z"
   },
   {
    "duration": 162,
    "start_time": "2022-11-30T12:02:22.476Z"
   },
   {
    "duration": 133,
    "start_time": "2022-11-30T12:02:22.639Z"
   },
   {
    "duration": 356,
    "start_time": "2022-11-30T12:02:22.774Z"
   },
   {
    "duration": 181,
    "start_time": "2022-11-30T12:02:23.131Z"
   },
   {
    "duration": 200,
    "start_time": "2022-11-30T12:02:23.314Z"
   },
   {
    "duration": 184,
    "start_time": "2022-11-30T12:02:23.516Z"
   },
   {
    "duration": 29,
    "start_time": "2022-11-30T12:02:23.701Z"
   },
   {
    "duration": 28,
    "start_time": "2022-11-30T12:02:23.731Z"
   },
   {
    "duration": 265,
    "start_time": "2022-11-30T12:02:23.760Z"
   },
   {
    "duration": 152,
    "start_time": "2022-11-30T12:02:24.027Z"
   },
   {
    "duration": 161,
    "start_time": "2022-11-30T12:02:24.181Z"
   },
   {
    "duration": 39,
    "start_time": "2022-11-30T12:02:24.344Z"
   },
   {
    "duration": 172,
    "start_time": "2022-11-30T12:02:24.385Z"
   },
   {
    "duration": 7,
    "start_time": "2022-11-30T12:03:06.792Z"
   },
   {
    "duration": 13,
    "start_time": "2022-11-30T12:03:42.723Z"
   },
   {
    "duration": 36,
    "start_time": "2022-11-30T12:04:11.119Z"
   },
   {
    "duration": 2,
    "start_time": "2022-11-30T12:04:44.398Z"
   },
   {
    "duration": 86,
    "start_time": "2022-11-30T12:04:44.404Z"
   },
   {
    "duration": 6,
    "start_time": "2022-11-30T12:04:44.492Z"
   },
   {
    "duration": 75,
    "start_time": "2022-11-30T12:04:44.500Z"
   },
   {
    "duration": 45,
    "start_time": "2022-11-30T12:04:44.578Z"
   },
   {
    "duration": 38,
    "start_time": "2022-11-30T12:04:44.625Z"
   },
   {
    "duration": 15,
    "start_time": "2022-11-30T12:04:44.665Z"
   },
   {
    "duration": 2001,
    "start_time": "2022-11-30T12:04:44.682Z"
   },
   {
    "duration": 9,
    "start_time": "2022-11-30T12:04:46.685Z"
   },
   {
    "duration": 20,
    "start_time": "2022-11-30T12:04:46.696Z"
   },
   {
    "duration": 7,
    "start_time": "2022-11-30T12:04:46.719Z"
   },
   {
    "duration": 29,
    "start_time": "2022-11-30T12:04:46.727Z"
   },
   {
    "duration": 24,
    "start_time": "2022-11-30T12:04:46.758Z"
   },
   {
    "duration": 16,
    "start_time": "2022-11-30T12:04:46.784Z"
   },
   {
    "duration": 3,
    "start_time": "2022-11-30T12:04:46.801Z"
   },
   {
    "duration": 48,
    "start_time": "2022-11-30T12:04:46.805Z"
   },
   {
    "duration": 18,
    "start_time": "2022-11-30T12:04:46.855Z"
   },
   {
    "duration": 36,
    "start_time": "2022-11-30T12:04:46.875Z"
   },
   {
    "duration": 28,
    "start_time": "2022-11-30T12:04:46.913Z"
   },
   {
    "duration": 14,
    "start_time": "2022-11-30T12:04:46.943Z"
   },
   {
    "duration": 24,
    "start_time": "2022-11-30T12:04:46.958Z"
   },
   {
    "duration": 7,
    "start_time": "2022-11-30T12:04:46.984Z"
   },
   {
    "duration": 23,
    "start_time": "2022-11-30T12:04:46.992Z"
   },
   {
    "duration": 37,
    "start_time": "2022-11-30T12:04:47.016Z"
   },
   {
    "duration": 22,
    "start_time": "2022-11-30T12:04:47.055Z"
   },
   {
    "duration": 24,
    "start_time": "2022-11-30T12:04:47.078Z"
   },
   {
    "duration": 11,
    "start_time": "2022-11-30T12:04:47.104Z"
   },
   {
    "duration": 24,
    "start_time": "2022-11-30T12:04:47.116Z"
   },
   {
    "duration": 12,
    "start_time": "2022-11-30T12:04:47.144Z"
   },
   {
    "duration": 47,
    "start_time": "2022-11-30T12:04:47.157Z"
   },
   {
    "duration": 47,
    "start_time": "2022-11-30T12:04:47.206Z"
   },
   {
    "duration": 29,
    "start_time": "2022-11-30T12:04:47.255Z"
   },
   {
    "duration": 23,
    "start_time": "2022-11-30T12:04:47.286Z"
   },
   {
    "duration": 44,
    "start_time": "2022-11-30T12:04:47.311Z"
   },
   {
    "duration": 20,
    "start_time": "2022-11-30T12:04:47.356Z"
   },
   {
    "duration": 19,
    "start_time": "2022-11-30T12:04:47.377Z"
   },
   {
    "duration": 19,
    "start_time": "2022-11-30T12:04:47.398Z"
   },
   {
    "duration": 49,
    "start_time": "2022-11-30T12:04:47.418Z"
   },
   {
    "duration": 17,
    "start_time": "2022-11-30T12:04:47.468Z"
   },
   {
    "duration": 2,
    "start_time": "2022-11-30T12:04:47.486Z"
   },
   {
    "duration": 20,
    "start_time": "2022-11-30T12:04:47.490Z"
   },
   {
    "duration": 41,
    "start_time": "2022-11-30T12:04:47.512Z"
   },
   {
    "duration": 20,
    "start_time": "2022-11-30T12:04:47.555Z"
   },
   {
    "duration": 20,
    "start_time": "2022-11-30T12:04:47.577Z"
   },
   {
    "duration": 297,
    "start_time": "2022-11-30T12:04:47.599Z"
   },
   {
    "duration": 23,
    "start_time": "2022-11-30T12:04:47.898Z"
   },
   {
    "duration": 379,
    "start_time": "2022-11-30T12:04:47.923Z"
   },
   {
    "duration": 263,
    "start_time": "2022-11-30T12:04:48.303Z"
   },
   {
    "duration": 200,
    "start_time": "2022-11-30T12:04:48.568Z"
   },
   {
    "duration": 386,
    "start_time": "2022-11-30T12:04:48.771Z"
   },
   {
    "duration": 157,
    "start_time": "2022-11-30T12:04:49.159Z"
   },
   {
    "duration": 136,
    "start_time": "2022-11-30T12:04:49.318Z"
   },
   {
    "duration": 159,
    "start_time": "2022-11-30T12:04:49.456Z"
   },
   {
    "duration": 128,
    "start_time": "2022-11-30T12:04:49.617Z"
   },
   {
    "duration": 239,
    "start_time": "2022-11-30T12:04:49.752Z"
   },
   {
    "duration": 159,
    "start_time": "2022-11-30T12:04:49.993Z"
   },
   {
    "duration": 165,
    "start_time": "2022-11-30T12:04:50.154Z"
   },
   {
    "duration": 147,
    "start_time": "2022-11-30T12:04:50.321Z"
   },
   {
    "duration": 145,
    "start_time": "2022-11-30T12:04:50.470Z"
   },
   {
    "duration": 501,
    "start_time": "2022-11-30T12:04:50.617Z"
   },
   {
    "duration": 176,
    "start_time": "2022-11-30T12:04:51.119Z"
   },
   {
    "duration": 196,
    "start_time": "2022-11-30T12:04:51.297Z"
   },
   {
    "duration": 182,
    "start_time": "2022-11-30T12:04:51.495Z"
   },
   {
    "duration": 25,
    "start_time": "2022-11-30T12:04:51.679Z"
   },
   {
    "duration": 12,
    "start_time": "2022-11-30T12:04:51.706Z"
   },
   {
    "duration": 184,
    "start_time": "2022-11-30T12:04:51.719Z"
   },
   {
    "duration": 157,
    "start_time": "2022-11-30T12:04:51.905Z"
   },
   {
    "duration": 160,
    "start_time": "2022-11-30T12:04:52.064Z"
   },
   {
    "duration": 45,
    "start_time": "2022-11-30T12:04:52.226Z"
   },
   {
    "duration": 189,
    "start_time": "2022-11-30T12:04:52.273Z"
   },
   {
    "duration": 6,
    "start_time": "2022-11-30T12:05:43.697Z"
   },
   {
    "duration": 35,
    "start_time": "2022-11-30T12:07:08.291Z"
   },
   {
    "duration": 2,
    "start_time": "2022-11-30T12:07:15.901Z"
   },
   {
    "duration": 20,
    "start_time": "2022-11-30T12:08:23.699Z"
   },
   {
    "duration": 17,
    "start_time": "2022-11-30T12:08:50.653Z"
   },
   {
    "duration": 2,
    "start_time": "2022-11-30T12:09:04.418Z"
   },
   {
    "duration": 85,
    "start_time": "2022-11-30T12:09:04.424Z"
   },
   {
    "duration": 7,
    "start_time": "2022-11-30T12:09:04.511Z"
   },
   {
    "duration": 77,
    "start_time": "2022-11-30T12:09:04.519Z"
   },
   {
    "duration": 33,
    "start_time": "2022-11-30T12:09:04.598Z"
   },
   {
    "duration": 38,
    "start_time": "2022-11-30T12:09:04.633Z"
   },
   {
    "duration": 18,
    "start_time": "2022-11-30T12:09:04.672Z"
   },
   {
    "duration": 1944,
    "start_time": "2022-11-30T12:09:04.691Z"
   },
   {
    "duration": 17,
    "start_time": "2022-11-30T12:09:06.636Z"
   },
   {
    "duration": 20,
    "start_time": "2022-11-30T12:09:06.655Z"
   },
   {
    "duration": 7,
    "start_time": "2022-11-30T12:09:06.679Z"
   },
   {
    "duration": 9,
    "start_time": "2022-11-30T12:09:06.688Z"
   },
   {
    "duration": 54,
    "start_time": "2022-11-30T12:09:06.699Z"
   },
   {
    "duration": 16,
    "start_time": "2022-11-30T12:09:06.756Z"
   },
   {
    "duration": 3,
    "start_time": "2022-11-30T12:09:06.774Z"
   },
   {
    "duration": 26,
    "start_time": "2022-11-30T12:09:06.779Z"
   },
   {
    "duration": 46,
    "start_time": "2022-11-30T12:09:06.807Z"
   },
   {
    "duration": 28,
    "start_time": "2022-11-30T12:09:06.855Z"
   },
   {
    "duration": 27,
    "start_time": "2022-11-30T12:09:06.885Z"
   },
   {
    "duration": 6,
    "start_time": "2022-11-30T12:09:06.914Z"
   },
   {
    "duration": 49,
    "start_time": "2022-11-30T12:09:06.922Z"
   },
   {
    "duration": 7,
    "start_time": "2022-11-30T12:09:06.972Z"
   },
   {
    "duration": 23,
    "start_time": "2022-11-30T12:09:06.980Z"
   },
   {
    "duration": 19,
    "start_time": "2022-11-30T12:09:07.004Z"
   },
   {
    "duration": 39,
    "start_time": "2022-11-30T12:09:07.024Z"
   },
   {
    "duration": 9,
    "start_time": "2022-11-30T12:09:07.065Z"
   },
   {
    "duration": 23,
    "start_time": "2022-11-30T12:09:07.075Z"
   },
   {
    "duration": 0,
    "start_time": "2022-11-30T12:09:07.100Z"
   },
   {
    "duration": 0,
    "start_time": "2022-11-30T12:09:07.102Z"
   },
   {
    "duration": 0,
    "start_time": "2022-11-30T12:09:07.103Z"
   },
   {
    "duration": 0,
    "start_time": "2022-11-30T12:09:07.104Z"
   },
   {
    "duration": 0,
    "start_time": "2022-11-30T12:09:07.105Z"
   },
   {
    "duration": 0,
    "start_time": "2022-11-30T12:09:07.106Z"
   },
   {
    "duration": 0,
    "start_time": "2022-11-30T12:09:07.108Z"
   },
   {
    "duration": 0,
    "start_time": "2022-11-30T12:09:07.109Z"
   },
   {
    "duration": 0,
    "start_time": "2022-11-30T12:09:07.110Z"
   },
   {
    "duration": 0,
    "start_time": "2022-11-30T12:09:07.111Z"
   },
   {
    "duration": 0,
    "start_time": "2022-11-30T12:09:07.112Z"
   },
   {
    "duration": 0,
    "start_time": "2022-11-30T12:09:07.114Z"
   },
   {
    "duration": 0,
    "start_time": "2022-11-30T12:09:07.115Z"
   },
   {
    "duration": 0,
    "start_time": "2022-11-30T12:09:07.115Z"
   },
   {
    "duration": 0,
    "start_time": "2022-11-30T12:09:07.116Z"
   },
   {
    "duration": 0,
    "start_time": "2022-11-30T12:09:07.117Z"
   },
   {
    "duration": 0,
    "start_time": "2022-11-30T12:09:07.118Z"
   },
   {
    "duration": 0,
    "start_time": "2022-11-30T12:09:07.119Z"
   },
   {
    "duration": 0,
    "start_time": "2022-11-30T12:09:07.120Z"
   },
   {
    "duration": 0,
    "start_time": "2022-11-30T12:09:07.121Z"
   },
   {
    "duration": 0,
    "start_time": "2022-11-30T12:09:07.153Z"
   },
   {
    "duration": 0,
    "start_time": "2022-11-30T12:09:07.155Z"
   },
   {
    "duration": 1,
    "start_time": "2022-11-30T12:09:07.155Z"
   },
   {
    "duration": 0,
    "start_time": "2022-11-30T12:09:07.157Z"
   },
   {
    "duration": 0,
    "start_time": "2022-11-30T12:09:07.158Z"
   },
   {
    "duration": 0,
    "start_time": "2022-11-30T12:09:07.159Z"
   },
   {
    "duration": 0,
    "start_time": "2022-11-30T12:09:07.160Z"
   },
   {
    "duration": 0,
    "start_time": "2022-11-30T12:09:07.161Z"
   },
   {
    "duration": 0,
    "start_time": "2022-11-30T12:09:07.162Z"
   },
   {
    "duration": 0,
    "start_time": "2022-11-30T12:09:07.163Z"
   },
   {
    "duration": 0,
    "start_time": "2022-11-30T12:09:07.164Z"
   },
   {
    "duration": 0,
    "start_time": "2022-11-30T12:09:07.165Z"
   },
   {
    "duration": 0,
    "start_time": "2022-11-30T12:09:07.166Z"
   },
   {
    "duration": 0,
    "start_time": "2022-11-30T12:09:07.167Z"
   },
   {
    "duration": 0,
    "start_time": "2022-11-30T12:09:07.168Z"
   },
   {
    "duration": 0,
    "start_time": "2022-11-30T12:09:07.169Z"
   },
   {
    "duration": 0,
    "start_time": "2022-11-30T12:09:07.170Z"
   },
   {
    "duration": 0,
    "start_time": "2022-11-30T12:09:07.171Z"
   },
   {
    "duration": 0,
    "start_time": "2022-11-30T12:09:07.172Z"
   },
   {
    "duration": 0,
    "start_time": "2022-11-30T12:09:07.173Z"
   },
   {
    "duration": 0,
    "start_time": "2022-11-30T12:09:07.174Z"
   },
   {
    "duration": 0,
    "start_time": "2022-11-30T12:09:07.175Z"
   },
   {
    "duration": 0,
    "start_time": "2022-11-30T12:09:07.175Z"
   },
   {
    "duration": 0,
    "start_time": "2022-11-30T12:09:07.176Z"
   },
   {
    "duration": 0,
    "start_time": "2022-11-30T12:09:07.178Z"
   },
   {
    "duration": 15,
    "start_time": "2022-11-30T12:11:51.237Z"
   },
   {
    "duration": 8,
    "start_time": "2022-11-30T12:13:07.467Z"
   },
   {
    "duration": 6,
    "start_time": "2022-11-30T12:13:14.476Z"
   },
   {
    "duration": 23,
    "start_time": "2022-11-30T12:13:22.958Z"
   },
   {
    "duration": 6,
    "start_time": "2022-11-30T12:14:57.201Z"
   },
   {
    "duration": 6,
    "start_time": "2022-11-30T12:15:06.904Z"
   },
   {
    "duration": 5,
    "start_time": "2022-11-30T12:15:08.057Z"
   },
   {
    "duration": 3,
    "start_time": "2022-11-30T12:15:15.095Z"
   },
   {
    "duration": 82,
    "start_time": "2022-11-30T12:15:15.099Z"
   },
   {
    "duration": 6,
    "start_time": "2022-11-30T12:15:15.183Z"
   },
   {
    "duration": 89,
    "start_time": "2022-11-30T12:15:15.191Z"
   },
   {
    "duration": 34,
    "start_time": "2022-11-30T12:15:15.282Z"
   },
   {
    "duration": 45,
    "start_time": "2022-11-30T12:15:15.318Z"
   },
   {
    "duration": 17,
    "start_time": "2022-11-30T12:15:15.365Z"
   },
   {
    "duration": 1925,
    "start_time": "2022-11-30T12:15:15.384Z"
   },
   {
    "duration": 8,
    "start_time": "2022-11-30T12:15:17.313Z"
   },
   {
    "duration": 31,
    "start_time": "2022-11-30T12:15:17.323Z"
   },
   {
    "duration": 7,
    "start_time": "2022-11-30T12:15:17.356Z"
   },
   {
    "duration": 9,
    "start_time": "2022-11-30T12:15:17.365Z"
   },
   {
    "duration": 30,
    "start_time": "2022-11-30T12:15:17.376Z"
   },
   {
    "duration": 15,
    "start_time": "2022-11-30T12:15:17.408Z"
   },
   {
    "duration": 4,
    "start_time": "2022-11-30T12:15:17.424Z"
   },
   {
    "duration": 33,
    "start_time": "2022-11-30T12:15:17.453Z"
   },
   {
    "duration": 27,
    "start_time": "2022-11-30T12:15:17.488Z"
   },
   {
    "duration": 35,
    "start_time": "2022-11-30T12:15:17.517Z"
   },
   {
    "duration": 26,
    "start_time": "2022-11-30T12:15:17.554Z"
   },
   {
    "duration": 7,
    "start_time": "2022-11-30T12:15:17.582Z"
   },
   {
    "duration": 24,
    "start_time": "2022-11-30T12:15:17.591Z"
   },
   {
    "duration": 36,
    "start_time": "2022-11-30T12:15:17.616Z"
   },
   {
    "duration": 22,
    "start_time": "2022-11-30T12:15:17.654Z"
   },
   {
    "duration": 18,
    "start_time": "2022-11-30T12:15:17.678Z"
   },
   {
    "duration": 21,
    "start_time": "2022-11-30T12:15:17.698Z"
   },
   {
    "duration": 32,
    "start_time": "2022-11-30T12:15:17.721Z"
   },
   {
    "duration": 14,
    "start_time": "2022-11-30T12:15:17.754Z"
   },
   {
    "duration": 6,
    "start_time": "2022-11-30T12:15:17.770Z"
   },
   {
    "duration": 6,
    "start_time": "2022-11-30T12:15:17.779Z"
   },
   {
    "duration": 22,
    "start_time": "2022-11-30T12:15:17.786Z"
   },
   {
    "duration": 6,
    "start_time": "2022-11-30T12:15:17.810Z"
   },
   {
    "duration": 51,
    "start_time": "2022-11-30T12:15:17.818Z"
   },
   {
    "duration": 27,
    "start_time": "2022-11-30T12:15:17.871Z"
   },
   {
    "duration": 27,
    "start_time": "2022-11-30T12:15:17.900Z"
   },
   {
    "duration": 22,
    "start_time": "2022-11-30T12:15:17.953Z"
   },
   {
    "duration": 20,
    "start_time": "2022-11-30T12:15:17.977Z"
   },
   {
    "duration": 22,
    "start_time": "2022-11-30T12:15:17.999Z"
   },
   {
    "duration": 47,
    "start_time": "2022-11-30T12:15:18.022Z"
   },
   {
    "duration": 20,
    "start_time": "2022-11-30T12:15:18.072Z"
   },
   {
    "duration": 19,
    "start_time": "2022-11-30T12:15:18.094Z"
   },
   {
    "duration": 50,
    "start_time": "2022-11-30T12:15:18.114Z"
   },
   {
    "duration": 3,
    "start_time": "2022-11-30T12:15:18.166Z"
   },
   {
    "duration": 22,
    "start_time": "2022-11-30T12:15:18.170Z"
   },
   {
    "duration": 20,
    "start_time": "2022-11-30T12:15:18.194Z"
   },
   {
    "duration": 44,
    "start_time": "2022-11-30T12:15:18.215Z"
   },
   {
    "duration": 21,
    "start_time": "2022-11-30T12:15:18.261Z"
   },
   {
    "duration": 299,
    "start_time": "2022-11-30T12:15:18.284Z"
   },
   {
    "duration": 22,
    "start_time": "2022-11-30T12:15:18.585Z"
   },
   {
    "duration": 364,
    "start_time": "2022-11-30T12:15:18.609Z"
   },
   {
    "duration": 270,
    "start_time": "2022-11-30T12:15:18.975Z"
   },
   {
    "duration": 339,
    "start_time": "2022-11-30T12:15:19.252Z"
   },
   {
    "duration": 248,
    "start_time": "2022-11-30T12:15:19.592Z"
   },
   {
    "duration": 152,
    "start_time": "2022-11-30T12:15:19.843Z"
   },
   {
    "duration": 121,
    "start_time": "2022-11-30T12:15:19.996Z"
   },
   {
    "duration": 158,
    "start_time": "2022-11-30T12:15:20.118Z"
   },
   {
    "duration": 131,
    "start_time": "2022-11-30T12:15:20.277Z"
   },
   {
    "duration": 235,
    "start_time": "2022-11-30T12:15:20.409Z"
   },
   {
    "duration": 159,
    "start_time": "2022-11-30T12:15:20.646Z"
   },
   {
    "duration": 164,
    "start_time": "2022-11-30T12:15:20.807Z"
   },
   {
    "duration": 143,
    "start_time": "2022-11-30T12:15:20.973Z"
   },
   {
    "duration": 141,
    "start_time": "2022-11-30T12:15:21.118Z"
   },
   {
    "duration": 366,
    "start_time": "2022-11-30T12:15:21.260Z"
   },
   {
    "duration": 166,
    "start_time": "2022-11-30T12:15:21.628Z"
   },
   {
    "duration": 361,
    "start_time": "2022-11-30T12:15:21.795Z"
   },
   {
    "duration": 176,
    "start_time": "2022-11-30T12:15:22.157Z"
   },
   {
    "duration": 34,
    "start_time": "2022-11-30T12:15:22.334Z"
   },
   {
    "duration": 14,
    "start_time": "2022-11-30T12:15:22.370Z"
   },
   {
    "duration": 229,
    "start_time": "2022-11-30T12:15:22.386Z"
   },
   {
    "duration": 156,
    "start_time": "2022-11-30T12:15:22.617Z"
   },
   {
    "duration": 149,
    "start_time": "2022-11-30T12:15:22.775Z"
   },
   {
    "duration": 45,
    "start_time": "2022-11-30T12:15:22.926Z"
   },
   {
    "duration": 168,
    "start_time": "2022-11-30T12:15:22.972Z"
   },
   {
    "duration": 364,
    "start_time": "2022-11-30T12:16:10.397Z"
   },
   {
    "duration": 21,
    "start_time": "2022-11-30T12:17:45.499Z"
   },
   {
    "duration": 620,
    "start_time": "2022-11-30T12:18:06.602Z"
   },
   {
    "duration": 80,
    "start_time": "2022-11-30T12:18:07.224Z"
   },
   {
    "duration": 10,
    "start_time": "2022-11-30T12:18:07.306Z"
   },
   {
    "duration": 82,
    "start_time": "2022-11-30T12:18:07.318Z"
   },
   {
    "duration": 37,
    "start_time": "2022-11-30T12:18:07.402Z"
   },
   {
    "duration": 31,
    "start_time": "2022-11-30T12:18:07.440Z"
   },
   {
    "duration": 17,
    "start_time": "2022-11-30T12:18:07.472Z"
   },
   {
    "duration": 1877,
    "start_time": "2022-11-30T12:18:07.490Z"
   },
   {
    "duration": 9,
    "start_time": "2022-11-30T12:18:09.369Z"
   },
   {
    "duration": 40,
    "start_time": "2022-11-30T12:18:09.380Z"
   },
   {
    "duration": 7,
    "start_time": "2022-11-30T12:18:09.422Z"
   },
   {
    "duration": 9,
    "start_time": "2022-11-30T12:18:09.431Z"
   },
   {
    "duration": 25,
    "start_time": "2022-11-30T12:18:09.441Z"
   },
   {
    "duration": 17,
    "start_time": "2022-11-30T12:18:09.467Z"
   },
   {
    "duration": 2,
    "start_time": "2022-11-30T12:18:09.486Z"
   },
   {
    "duration": 32,
    "start_time": "2022-11-30T12:18:09.489Z"
   },
   {
    "duration": 30,
    "start_time": "2022-11-30T12:18:09.523Z"
   },
   {
    "duration": 26,
    "start_time": "2022-11-30T12:18:09.554Z"
   },
   {
    "duration": 21,
    "start_time": "2022-11-30T12:18:09.582Z"
   },
   {
    "duration": 21,
    "start_time": "2022-11-30T12:18:09.604Z"
   },
   {
    "duration": 7,
    "start_time": "2022-11-30T12:18:09.653Z"
   },
   {
    "duration": 21,
    "start_time": "2022-11-30T12:18:09.662Z"
   },
   {
    "duration": 17,
    "start_time": "2022-11-30T12:18:09.685Z"
   },
   {
    "duration": 22,
    "start_time": "2022-11-30T12:18:09.703Z"
   },
   {
    "duration": 28,
    "start_time": "2022-11-30T12:18:09.726Z"
   },
   {
    "duration": 18,
    "start_time": "2022-11-30T12:18:09.756Z"
   },
   {
    "duration": 6,
    "start_time": "2022-11-30T12:18:09.775Z"
   },
   {
    "duration": 6,
    "start_time": "2022-11-30T12:18:09.785Z"
   },
   {
    "duration": 25,
    "start_time": "2022-11-30T12:18:09.792Z"
   },
   {
    "duration": 6,
    "start_time": "2022-11-30T12:18:09.819Z"
   },
   {
    "duration": 42,
    "start_time": "2022-11-30T12:18:09.827Z"
   },
   {
    "duration": 27,
    "start_time": "2022-11-30T12:18:09.870Z"
   },
   {
    "duration": 28,
    "start_time": "2022-11-30T12:18:09.898Z"
   },
   {
    "duration": 45,
    "start_time": "2022-11-30T12:18:09.928Z"
   },
   {
    "duration": 20,
    "start_time": "2022-11-30T12:18:09.975Z"
   },
   {
    "duration": 20,
    "start_time": "2022-11-30T12:18:09.997Z"
   },
   {
    "duration": 47,
    "start_time": "2022-11-30T12:18:10.019Z"
   },
   {
    "duration": 19,
    "start_time": "2022-11-30T12:18:10.068Z"
   },
   {
    "duration": 18,
    "start_time": "2022-11-30T12:18:10.089Z"
   },
   {
    "duration": 18,
    "start_time": "2022-11-30T12:18:10.108Z"
   },
   {
    "duration": 24,
    "start_time": "2022-11-30T12:18:10.128Z"
   },
   {
    "duration": 24,
    "start_time": "2022-11-30T12:18:10.154Z"
   },
   {
    "duration": 19,
    "start_time": "2022-11-30T12:18:10.180Z"
   },
   {
    "duration": 20,
    "start_time": "2022-11-30T12:18:10.201Z"
   },
   {
    "duration": 46,
    "start_time": "2022-11-30T12:18:10.222Z"
   },
   {
    "duration": 290,
    "start_time": "2022-11-30T12:18:10.269Z"
   },
   {
    "duration": 21,
    "start_time": "2022-11-30T12:18:10.561Z"
   },
   {
    "duration": 382,
    "start_time": "2022-11-30T12:18:10.584Z"
   },
   {
    "duration": 330,
    "start_time": "2022-11-30T12:18:10.968Z"
   },
   {
    "duration": 187,
    "start_time": "2022-11-30T12:18:11.300Z"
   },
   {
    "duration": 253,
    "start_time": "2022-11-30T12:18:11.489Z"
   },
   {
    "duration": 153,
    "start_time": "2022-11-30T12:18:11.744Z"
   },
   {
    "duration": 122,
    "start_time": "2022-11-30T12:18:11.899Z"
   },
   {
    "duration": 166,
    "start_time": "2022-11-30T12:18:12.023Z"
   },
   {
    "duration": 130,
    "start_time": "2022-11-30T12:18:12.190Z"
   },
   {
    "duration": 404,
    "start_time": "2022-11-30T12:18:12.321Z"
   },
   {
    "duration": 154,
    "start_time": "2022-11-30T12:18:12.727Z"
   },
   {
    "duration": 172,
    "start_time": "2022-11-30T12:18:12.883Z"
   },
   {
    "duration": 148,
    "start_time": "2022-11-30T12:18:13.057Z"
   },
   {
    "duration": 149,
    "start_time": "2022-11-30T12:18:13.207Z"
   },
   {
    "duration": 420,
    "start_time": "2022-11-30T12:18:13.358Z"
   },
   {
    "duration": 182,
    "start_time": "2022-11-30T12:18:13.780Z"
   },
   {
    "duration": 175,
    "start_time": "2022-11-30T12:18:13.964Z"
   },
   {
    "duration": 194,
    "start_time": "2022-11-30T12:18:14.141Z"
   },
   {
    "duration": 31,
    "start_time": "2022-11-30T12:18:14.337Z"
   },
   {
    "duration": 11,
    "start_time": "2022-11-30T12:18:14.370Z"
   },
   {
    "duration": 272,
    "start_time": "2022-11-30T12:18:14.382Z"
   },
   {
    "duration": 159,
    "start_time": "2022-11-30T12:18:14.656Z"
   },
   {
    "duration": 156,
    "start_time": "2022-11-30T12:18:14.816Z"
   },
   {
    "duration": 33,
    "start_time": "2022-11-30T12:18:14.974Z"
   },
   {
    "duration": 161,
    "start_time": "2022-11-30T12:18:15.009Z"
   },
   {
    "duration": 5,
    "start_time": "2022-11-30T12:27:13.617Z"
   },
   {
    "duration": 7,
    "start_time": "2022-11-30T12:30:01.217Z"
   },
   {
    "duration": 632,
    "start_time": "2022-11-30T12:30:18.080Z"
   },
   {
    "duration": 82,
    "start_time": "2022-11-30T12:30:18.714Z"
   },
   {
    "duration": 10,
    "start_time": "2022-11-30T12:30:18.797Z"
   },
   {
    "duration": 77,
    "start_time": "2022-11-30T12:30:18.809Z"
   },
   {
    "duration": 34,
    "start_time": "2022-11-30T12:30:18.887Z"
   },
   {
    "duration": 30,
    "start_time": "2022-11-30T12:30:18.923Z"
   },
   {
    "duration": 16,
    "start_time": "2022-11-30T12:30:18.955Z"
   },
   {
    "duration": 1910,
    "start_time": "2022-11-30T12:30:18.973Z"
   },
   {
    "duration": 9,
    "start_time": "2022-11-30T12:30:20.885Z"
   },
   {
    "duration": 23,
    "start_time": "2022-11-30T12:30:20.896Z"
   },
   {
    "duration": 8,
    "start_time": "2022-11-30T12:30:20.920Z"
   },
   {
    "duration": 11,
    "start_time": "2022-11-30T12:30:20.929Z"
   },
   {
    "duration": 23,
    "start_time": "2022-11-30T12:30:20.952Z"
   },
   {
    "duration": 16,
    "start_time": "2022-11-30T12:30:20.983Z"
   },
   {
    "duration": 2,
    "start_time": "2022-11-30T12:30:21.001Z"
   },
   {
    "duration": 48,
    "start_time": "2022-11-30T12:30:21.005Z"
   },
   {
    "duration": 19,
    "start_time": "2022-11-30T12:30:21.055Z"
   },
   {
    "duration": 32,
    "start_time": "2022-11-30T12:30:21.075Z"
   },
   {
    "duration": 25,
    "start_time": "2022-11-30T12:30:21.108Z"
   },
   {
    "duration": 37,
    "start_time": "2022-11-30T12:30:21.134Z"
   },
   {
    "duration": 7,
    "start_time": "2022-11-30T12:30:21.172Z"
   },
   {
    "duration": 22,
    "start_time": "2022-11-30T12:30:21.181Z"
   },
   {
    "duration": 18,
    "start_time": "2022-11-30T12:30:21.205Z"
   },
   {
    "duration": 17,
    "start_time": "2022-11-30T12:30:21.251Z"
   },
   {
    "duration": 9,
    "start_time": "2022-11-30T12:30:21.270Z"
   },
   {
    "duration": 15,
    "start_time": "2022-11-30T12:30:21.281Z"
   },
   {
    "duration": 6,
    "start_time": "2022-11-30T12:30:21.298Z"
   },
   {
    "duration": 22,
    "start_time": "2022-11-30T12:30:21.308Z"
   },
   {
    "duration": 5,
    "start_time": "2022-11-30T12:30:21.353Z"
   },
   {
    "duration": 27,
    "start_time": "2022-11-30T12:30:21.360Z"
   },
   {
    "duration": 28,
    "start_time": "2022-11-30T12:30:21.388Z"
   },
   {
    "duration": 49,
    "start_time": "2022-11-30T12:30:21.418Z"
   },
   {
    "duration": 20,
    "start_time": "2022-11-30T12:30:21.469Z"
   },
   {
    "duration": 21,
    "start_time": "2022-11-30T12:30:21.490Z"
   },
   {
    "duration": 42,
    "start_time": "2022-11-30T12:30:21.512Z"
   },
   {
    "duration": 19,
    "start_time": "2022-11-30T12:30:21.556Z"
   },
   {
    "duration": 18,
    "start_time": "2022-11-30T12:30:21.577Z"
   },
   {
    "duration": 18,
    "start_time": "2022-11-30T12:30:21.597Z"
   },
   {
    "duration": 2,
    "start_time": "2022-11-30T12:30:21.617Z"
   },
   {
    "duration": 42,
    "start_time": "2022-11-30T12:30:21.620Z"
   },
   {
    "duration": 18,
    "start_time": "2022-11-30T12:30:21.664Z"
   },
   {
    "duration": 19,
    "start_time": "2022-11-30T12:30:21.684Z"
   },
   {
    "duration": 19,
    "start_time": "2022-11-30T12:30:21.704Z"
   },
   {
    "duration": 305,
    "start_time": "2022-11-30T12:30:21.724Z"
   },
   {
    "duration": 27,
    "start_time": "2022-11-30T12:30:22.031Z"
   },
   {
    "duration": 382,
    "start_time": "2022-11-30T12:30:22.059Z"
   },
   {
    "duration": 348,
    "start_time": "2022-11-30T12:30:22.443Z"
   },
   {
    "duration": 191,
    "start_time": "2022-11-30T12:30:22.793Z"
   },
   {
    "duration": 250,
    "start_time": "2022-11-30T12:30:22.986Z"
   },
   {
    "duration": 155,
    "start_time": "2022-11-30T12:30:23.237Z"
   },
   {
    "duration": 116,
    "start_time": "2022-11-30T12:30:23.394Z"
   },
   {
    "duration": 154,
    "start_time": "2022-11-30T12:30:23.512Z"
   },
   {
    "duration": 131,
    "start_time": "2022-11-30T12:30:23.668Z"
   },
   {
    "duration": 329,
    "start_time": "2022-11-30T12:30:23.800Z"
   },
   {
    "duration": 171,
    "start_time": "2022-11-30T12:30:24.130Z"
   },
   {
    "duration": 165,
    "start_time": "2022-11-30T12:30:24.303Z"
   },
   {
    "duration": 155,
    "start_time": "2022-11-30T12:30:24.470Z"
   },
   {
    "duration": 139,
    "start_time": "2022-11-30T12:30:24.627Z"
   },
   {
    "duration": 379,
    "start_time": "2022-11-30T12:30:24.768Z"
   },
   {
    "duration": 170,
    "start_time": "2022-11-30T12:30:25.149Z"
   },
   {
    "duration": 174,
    "start_time": "2022-11-30T12:30:25.321Z"
   },
   {
    "duration": 171,
    "start_time": "2022-11-30T12:30:25.497Z"
   },
   {
    "duration": 24,
    "start_time": "2022-11-30T12:30:25.669Z"
   },
   {
    "duration": 12,
    "start_time": "2022-11-30T12:30:25.695Z"
   },
   {
    "duration": 297,
    "start_time": "2022-11-30T12:30:25.709Z"
   },
   {
    "duration": 154,
    "start_time": "2022-11-30T12:30:26.008Z"
   },
   {
    "duration": 153,
    "start_time": "2022-11-30T12:30:26.163Z"
   },
   {
    "duration": 40,
    "start_time": "2022-11-30T12:30:26.318Z"
   },
   {
    "duration": 159,
    "start_time": "2022-11-30T12:30:26.360Z"
   }
  ],
  "kernelspec": {
   "display_name": "Python 3 (ipykernel)",
   "language": "python",
   "name": "python3"
  },
  "language_info": {
   "codemirror_mode": {
    "name": "ipython",
    "version": 3
   },
   "file_extension": ".py",
   "mimetype": "text/x-python",
   "name": "python",
   "nbconvert_exporter": "python",
   "pygments_lexer": "ipython3",
   "version": "3.9.12"
  },
  "toc": {
   "base_numbering": 1,
   "nav_menu": {},
   "number_sections": true,
   "sideBar": true,
   "skip_h1_title": true,
   "title_cell": "Table of Contents",
   "title_sidebar": "Contents",
   "toc_cell": false,
   "toc_position": {},
   "toc_section_display": true,
   "toc_window_display": false
  }
 },
 "nbformat": 4,
 "nbformat_minor": 2
}
