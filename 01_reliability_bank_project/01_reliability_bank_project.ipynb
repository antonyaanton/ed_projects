{
 "cells": [
  {
   "cell_type": "markdown",
   "id": "67322b90",
   "metadata": {
    "deletable": false,
    "editable": false,
    "id": "c81daeeb"
   },
   "source": [
    "# Исследование надежности заемщиков\n"
   ]
  },
  {
   "cell_type": "markdown",
   "id": "c7798072",
   "metadata": {
    "deletable": false,
    "editable": false,
    "id": "827c20bf"
   },
   "source": [
    "Во второй части проекта вы выполните шаги 3 и 4. Их вручную проверит ревьюер.\n",
    "Чтобы вам не пришлось писать код заново для шагов 1 и 2, мы добавили авторские решения в ячейки с кодом. \n",
    "\n"
   ]
  },
  {
   "cell_type": "markdown",
   "id": "ca5079a8",
   "metadata": {
    "deletable": false,
    "editable": false,
    "id": "744d7639"
   },
   "source": [
    "## Откройте таблицу и изучите общую информацию о данных"
   ]
  },
  {
   "cell_type": "markdown",
   "id": "6e717056",
   "metadata": {
    "deletable": false,
    "editable": false,
    "id": "e7a14c31"
   },
   "source": [
    "**Задание 1. Импортируйте библиотеку pandas. Считайте данные из csv-файла в датафрейм и сохраните в переменную `data`. Путь к файлу:**\n",
    "\n",
    "`/datasets/data.csv`"
   ]
  },
  {
   "cell_type": "code",
   "execution_count": 1,
   "id": "04e3079d",
   "metadata": {
    "deletable": false,
    "id": "7bcf75c9"
   },
   "outputs": [],
   "source": [
    "import pandas as pd\n",
    "\n",
    "try:\n",
    "    data = pd.read_csv('/datasets/data.csv')\n",
    "except:\n",
    "    data = pd.read_csv('https://code.s3.yandex.net/datasets/data.csv')"
   ]
  },
  {
   "cell_type": "markdown",
   "id": "93932ff9",
   "metadata": {
    "deletable": false,
    "editable": false,
    "id": "b8038fe3"
   },
   "source": [
    "**Задание 2. Выведите первые 20 строчек датафрейма `data` на экран.**"
   ]
  },
  {
   "cell_type": "code",
   "execution_count": 2,
   "id": "db563f69",
   "metadata": {
    "deletable": false,
    "id": "2a7cab99",
    "outputId": "1a8f3ef2-d323-4ec2-ddf7-89670b5944c4"
   },
   "outputs": [
    {
     "data": {
      "text/html": [
       "<div>\n",
       "<style scoped>\n",
       "    .dataframe tbody tr th:only-of-type {\n",
       "        vertical-align: middle;\n",
       "    }\n",
       "\n",
       "    .dataframe tbody tr th {\n",
       "        vertical-align: top;\n",
       "    }\n",
       "\n",
       "    .dataframe thead th {\n",
       "        text-align: right;\n",
       "    }\n",
       "</style>\n",
       "<table border=\"1\" class=\"dataframe\">\n",
       "  <thead>\n",
       "    <tr style=\"text-align: right;\">\n",
       "      <th></th>\n",
       "      <th>children</th>\n",
       "      <th>days_employed</th>\n",
       "      <th>dob_years</th>\n",
       "      <th>education</th>\n",
       "      <th>education_id</th>\n",
       "      <th>family_status</th>\n",
       "      <th>family_status_id</th>\n",
       "      <th>gender</th>\n",
       "      <th>income_type</th>\n",
       "      <th>debt</th>\n",
       "      <th>total_income</th>\n",
       "      <th>purpose</th>\n",
       "    </tr>\n",
       "  </thead>\n",
       "  <tbody>\n",
       "    <tr>\n",
       "      <th>0</th>\n",
       "      <td>1</td>\n",
       "      <td>-8437.673028</td>\n",
       "      <td>42</td>\n",
       "      <td>высшее</td>\n",
       "      <td>0</td>\n",
       "      <td>женат / замужем</td>\n",
       "      <td>0</td>\n",
       "      <td>F</td>\n",
       "      <td>сотрудник</td>\n",
       "      <td>0</td>\n",
       "      <td>253875.639453</td>\n",
       "      <td>покупка жилья</td>\n",
       "    </tr>\n",
       "    <tr>\n",
       "      <th>1</th>\n",
       "      <td>1</td>\n",
       "      <td>-4024.803754</td>\n",
       "      <td>36</td>\n",
       "      <td>среднее</td>\n",
       "      <td>1</td>\n",
       "      <td>женат / замужем</td>\n",
       "      <td>0</td>\n",
       "      <td>F</td>\n",
       "      <td>сотрудник</td>\n",
       "      <td>0</td>\n",
       "      <td>112080.014102</td>\n",
       "      <td>приобретение автомобиля</td>\n",
       "    </tr>\n",
       "    <tr>\n",
       "      <th>2</th>\n",
       "      <td>0</td>\n",
       "      <td>-5623.422610</td>\n",
       "      <td>33</td>\n",
       "      <td>Среднее</td>\n",
       "      <td>1</td>\n",
       "      <td>женат / замужем</td>\n",
       "      <td>0</td>\n",
       "      <td>M</td>\n",
       "      <td>сотрудник</td>\n",
       "      <td>0</td>\n",
       "      <td>145885.952297</td>\n",
       "      <td>покупка жилья</td>\n",
       "    </tr>\n",
       "    <tr>\n",
       "      <th>3</th>\n",
       "      <td>3</td>\n",
       "      <td>-4124.747207</td>\n",
       "      <td>32</td>\n",
       "      <td>среднее</td>\n",
       "      <td>1</td>\n",
       "      <td>женат / замужем</td>\n",
       "      <td>0</td>\n",
       "      <td>M</td>\n",
       "      <td>сотрудник</td>\n",
       "      <td>0</td>\n",
       "      <td>267628.550329</td>\n",
       "      <td>дополнительное образование</td>\n",
       "    </tr>\n",
       "    <tr>\n",
       "      <th>4</th>\n",
       "      <td>0</td>\n",
       "      <td>340266.072047</td>\n",
       "      <td>53</td>\n",
       "      <td>среднее</td>\n",
       "      <td>1</td>\n",
       "      <td>гражданский брак</td>\n",
       "      <td>1</td>\n",
       "      <td>F</td>\n",
       "      <td>пенсионер</td>\n",
       "      <td>0</td>\n",
       "      <td>158616.077870</td>\n",
       "      <td>сыграть свадьбу</td>\n",
       "    </tr>\n",
       "    <tr>\n",
       "      <th>5</th>\n",
       "      <td>0</td>\n",
       "      <td>-926.185831</td>\n",
       "      <td>27</td>\n",
       "      <td>высшее</td>\n",
       "      <td>0</td>\n",
       "      <td>гражданский брак</td>\n",
       "      <td>1</td>\n",
       "      <td>M</td>\n",
       "      <td>компаньон</td>\n",
       "      <td>0</td>\n",
       "      <td>255763.565419</td>\n",
       "      <td>покупка жилья</td>\n",
       "    </tr>\n",
       "    <tr>\n",
       "      <th>6</th>\n",
       "      <td>0</td>\n",
       "      <td>-2879.202052</td>\n",
       "      <td>43</td>\n",
       "      <td>высшее</td>\n",
       "      <td>0</td>\n",
       "      <td>женат / замужем</td>\n",
       "      <td>0</td>\n",
       "      <td>F</td>\n",
       "      <td>компаньон</td>\n",
       "      <td>0</td>\n",
       "      <td>240525.971920</td>\n",
       "      <td>операции с жильем</td>\n",
       "    </tr>\n",
       "    <tr>\n",
       "      <th>7</th>\n",
       "      <td>0</td>\n",
       "      <td>-152.779569</td>\n",
       "      <td>50</td>\n",
       "      <td>СРЕДНЕЕ</td>\n",
       "      <td>1</td>\n",
       "      <td>женат / замужем</td>\n",
       "      <td>0</td>\n",
       "      <td>M</td>\n",
       "      <td>сотрудник</td>\n",
       "      <td>0</td>\n",
       "      <td>135823.934197</td>\n",
       "      <td>образование</td>\n",
       "    </tr>\n",
       "    <tr>\n",
       "      <th>8</th>\n",
       "      <td>2</td>\n",
       "      <td>-6929.865299</td>\n",
       "      <td>35</td>\n",
       "      <td>ВЫСШЕЕ</td>\n",
       "      <td>0</td>\n",
       "      <td>гражданский брак</td>\n",
       "      <td>1</td>\n",
       "      <td>F</td>\n",
       "      <td>сотрудник</td>\n",
       "      <td>0</td>\n",
       "      <td>95856.832424</td>\n",
       "      <td>на проведение свадьбы</td>\n",
       "    </tr>\n",
       "    <tr>\n",
       "      <th>9</th>\n",
       "      <td>0</td>\n",
       "      <td>-2188.756445</td>\n",
       "      <td>41</td>\n",
       "      <td>среднее</td>\n",
       "      <td>1</td>\n",
       "      <td>женат / замужем</td>\n",
       "      <td>0</td>\n",
       "      <td>M</td>\n",
       "      <td>сотрудник</td>\n",
       "      <td>0</td>\n",
       "      <td>144425.938277</td>\n",
       "      <td>покупка жилья для семьи</td>\n",
       "    </tr>\n",
       "    <tr>\n",
       "      <th>10</th>\n",
       "      <td>2</td>\n",
       "      <td>-4171.483647</td>\n",
       "      <td>36</td>\n",
       "      <td>высшее</td>\n",
       "      <td>0</td>\n",
       "      <td>женат / замужем</td>\n",
       "      <td>0</td>\n",
       "      <td>M</td>\n",
       "      <td>компаньон</td>\n",
       "      <td>0</td>\n",
       "      <td>113943.491460</td>\n",
       "      <td>покупка недвижимости</td>\n",
       "    </tr>\n",
       "    <tr>\n",
       "      <th>11</th>\n",
       "      <td>0</td>\n",
       "      <td>-792.701887</td>\n",
       "      <td>40</td>\n",
       "      <td>среднее</td>\n",
       "      <td>1</td>\n",
       "      <td>женат / замужем</td>\n",
       "      <td>0</td>\n",
       "      <td>F</td>\n",
       "      <td>сотрудник</td>\n",
       "      <td>0</td>\n",
       "      <td>77069.234271</td>\n",
       "      <td>покупка коммерческой недвижимости</td>\n",
       "    </tr>\n",
       "    <tr>\n",
       "      <th>12</th>\n",
       "      <td>0</td>\n",
       "      <td>NaN</td>\n",
       "      <td>65</td>\n",
       "      <td>среднее</td>\n",
       "      <td>1</td>\n",
       "      <td>гражданский брак</td>\n",
       "      <td>1</td>\n",
       "      <td>M</td>\n",
       "      <td>пенсионер</td>\n",
       "      <td>0</td>\n",
       "      <td>NaN</td>\n",
       "      <td>сыграть свадьбу</td>\n",
       "    </tr>\n",
       "    <tr>\n",
       "      <th>13</th>\n",
       "      <td>0</td>\n",
       "      <td>-1846.641941</td>\n",
       "      <td>54</td>\n",
       "      <td>неоконченное высшее</td>\n",
       "      <td>2</td>\n",
       "      <td>женат / замужем</td>\n",
       "      <td>0</td>\n",
       "      <td>F</td>\n",
       "      <td>сотрудник</td>\n",
       "      <td>0</td>\n",
       "      <td>130458.228857</td>\n",
       "      <td>приобретение автомобиля</td>\n",
       "    </tr>\n",
       "    <tr>\n",
       "      <th>14</th>\n",
       "      <td>0</td>\n",
       "      <td>-1844.956182</td>\n",
       "      <td>56</td>\n",
       "      <td>высшее</td>\n",
       "      <td>0</td>\n",
       "      <td>гражданский брак</td>\n",
       "      <td>1</td>\n",
       "      <td>F</td>\n",
       "      <td>компаньон</td>\n",
       "      <td>1</td>\n",
       "      <td>165127.911772</td>\n",
       "      <td>покупка жилой недвижимости</td>\n",
       "    </tr>\n",
       "    <tr>\n",
       "      <th>15</th>\n",
       "      <td>1</td>\n",
       "      <td>-972.364419</td>\n",
       "      <td>26</td>\n",
       "      <td>среднее</td>\n",
       "      <td>1</td>\n",
       "      <td>женат / замужем</td>\n",
       "      <td>0</td>\n",
       "      <td>F</td>\n",
       "      <td>сотрудник</td>\n",
       "      <td>0</td>\n",
       "      <td>116820.904450</td>\n",
       "      <td>строительство собственной недвижимости</td>\n",
       "    </tr>\n",
       "    <tr>\n",
       "      <th>16</th>\n",
       "      <td>0</td>\n",
       "      <td>-1719.934226</td>\n",
       "      <td>35</td>\n",
       "      <td>среднее</td>\n",
       "      <td>1</td>\n",
       "      <td>женат / замужем</td>\n",
       "      <td>0</td>\n",
       "      <td>F</td>\n",
       "      <td>сотрудник</td>\n",
       "      <td>0</td>\n",
       "      <td>289202.704229</td>\n",
       "      <td>недвижимость</td>\n",
       "    </tr>\n",
       "    <tr>\n",
       "      <th>17</th>\n",
       "      <td>0</td>\n",
       "      <td>-2369.999720</td>\n",
       "      <td>33</td>\n",
       "      <td>высшее</td>\n",
       "      <td>0</td>\n",
       "      <td>гражданский брак</td>\n",
       "      <td>1</td>\n",
       "      <td>M</td>\n",
       "      <td>сотрудник</td>\n",
       "      <td>0</td>\n",
       "      <td>90410.586745</td>\n",
       "      <td>строительство недвижимости</td>\n",
       "    </tr>\n",
       "    <tr>\n",
       "      <th>18</th>\n",
       "      <td>0</td>\n",
       "      <td>400281.136913</td>\n",
       "      <td>53</td>\n",
       "      <td>среднее</td>\n",
       "      <td>1</td>\n",
       "      <td>вдовец / вдова</td>\n",
       "      <td>2</td>\n",
       "      <td>F</td>\n",
       "      <td>пенсионер</td>\n",
       "      <td>0</td>\n",
       "      <td>56823.777243</td>\n",
       "      <td>на покупку подержанного автомобиля</td>\n",
       "    </tr>\n",
       "    <tr>\n",
       "      <th>19</th>\n",
       "      <td>0</td>\n",
       "      <td>-10038.818549</td>\n",
       "      <td>48</td>\n",
       "      <td>СРЕДНЕЕ</td>\n",
       "      <td>1</td>\n",
       "      <td>в разводе</td>\n",
       "      <td>3</td>\n",
       "      <td>F</td>\n",
       "      <td>сотрудник</td>\n",
       "      <td>0</td>\n",
       "      <td>242831.107982</td>\n",
       "      <td>на покупку своего автомобиля</td>\n",
       "    </tr>\n",
       "  </tbody>\n",
       "</table>\n",
       "</div>"
      ],
      "text/plain": [
       "    children  days_employed  dob_years            education  education_id  \\\n",
       "0          1   -8437.673028         42               высшее             0   \n",
       "1          1   -4024.803754         36              среднее             1   \n",
       "2          0   -5623.422610         33              Среднее             1   \n",
       "3          3   -4124.747207         32              среднее             1   \n",
       "4          0  340266.072047         53              среднее             1   \n",
       "5          0    -926.185831         27               высшее             0   \n",
       "6          0   -2879.202052         43               высшее             0   \n",
       "7          0    -152.779569         50              СРЕДНЕЕ             1   \n",
       "8          2   -6929.865299         35               ВЫСШЕЕ             0   \n",
       "9          0   -2188.756445         41              среднее             1   \n",
       "10         2   -4171.483647         36               высшее             0   \n",
       "11         0    -792.701887         40              среднее             1   \n",
       "12         0            NaN         65              среднее             1   \n",
       "13         0   -1846.641941         54  неоконченное высшее             2   \n",
       "14         0   -1844.956182         56               высшее             0   \n",
       "15         1    -972.364419         26              среднее             1   \n",
       "16         0   -1719.934226         35              среднее             1   \n",
       "17         0   -2369.999720         33               высшее             0   \n",
       "18         0  400281.136913         53              среднее             1   \n",
       "19         0  -10038.818549         48              СРЕДНЕЕ             1   \n",
       "\n",
       "       family_status  family_status_id gender income_type  debt  \\\n",
       "0    женат / замужем                 0      F   сотрудник     0   \n",
       "1    женат / замужем                 0      F   сотрудник     0   \n",
       "2    женат / замужем                 0      M   сотрудник     0   \n",
       "3    женат / замужем                 0      M   сотрудник     0   \n",
       "4   гражданский брак                 1      F   пенсионер     0   \n",
       "5   гражданский брак                 1      M   компаньон     0   \n",
       "6    женат / замужем                 0      F   компаньон     0   \n",
       "7    женат / замужем                 0      M   сотрудник     0   \n",
       "8   гражданский брак                 1      F   сотрудник     0   \n",
       "9    женат / замужем                 0      M   сотрудник     0   \n",
       "10   женат / замужем                 0      M   компаньон     0   \n",
       "11   женат / замужем                 0      F   сотрудник     0   \n",
       "12  гражданский брак                 1      M   пенсионер     0   \n",
       "13   женат / замужем                 0      F   сотрудник     0   \n",
       "14  гражданский брак                 1      F   компаньон     1   \n",
       "15   женат / замужем                 0      F   сотрудник     0   \n",
       "16   женат / замужем                 0      F   сотрудник     0   \n",
       "17  гражданский брак                 1      M   сотрудник     0   \n",
       "18    вдовец / вдова                 2      F   пенсионер     0   \n",
       "19         в разводе                 3      F   сотрудник     0   \n",
       "\n",
       "     total_income                                 purpose  \n",
       "0   253875.639453                           покупка жилья  \n",
       "1   112080.014102                 приобретение автомобиля  \n",
       "2   145885.952297                           покупка жилья  \n",
       "3   267628.550329              дополнительное образование  \n",
       "4   158616.077870                         сыграть свадьбу  \n",
       "5   255763.565419                           покупка жилья  \n",
       "6   240525.971920                       операции с жильем  \n",
       "7   135823.934197                             образование  \n",
       "8    95856.832424                   на проведение свадьбы  \n",
       "9   144425.938277                 покупка жилья для семьи  \n",
       "10  113943.491460                    покупка недвижимости  \n",
       "11   77069.234271       покупка коммерческой недвижимости  \n",
       "12            NaN                         сыграть свадьбу  \n",
       "13  130458.228857                 приобретение автомобиля  \n",
       "14  165127.911772              покупка жилой недвижимости  \n",
       "15  116820.904450  строительство собственной недвижимости  \n",
       "16  289202.704229                            недвижимость  \n",
       "17   90410.586745              строительство недвижимости  \n",
       "18   56823.777243      на покупку подержанного автомобиля  \n",
       "19  242831.107982            на покупку своего автомобиля  "
      ]
     },
     "execution_count": 2,
     "metadata": {},
     "output_type": "execute_result"
    }
   ],
   "source": [
    "data.head(20)"
   ]
  },
  {
   "cell_type": "markdown",
   "id": "002a2d3b",
   "metadata": {
    "deletable": false,
    "editable": false,
    "id": "1c12e233"
   },
   "source": [
    "**Задание 3. Выведите основную информацию о датафрейме с помощью метода `info()`.**"
   ]
  },
  {
   "cell_type": "code",
   "execution_count": 3,
   "id": "a33a1f6a",
   "metadata": {
    "deletable": false,
    "id": "2b757bca",
    "outputId": "15376089-8dad-46c9-b520-c05248d43158"
   },
   "outputs": [
    {
     "name": "stdout",
     "output_type": "stream",
     "text": [
      "<class 'pandas.core.frame.DataFrame'>\n",
      "RangeIndex: 21525 entries, 0 to 21524\n",
      "Data columns (total 12 columns):\n",
      " #   Column            Non-Null Count  Dtype  \n",
      "---  ------            --------------  -----  \n",
      " 0   children          21525 non-null  int64  \n",
      " 1   days_employed     19351 non-null  float64\n",
      " 2   dob_years         21525 non-null  int64  \n",
      " 3   education         21525 non-null  object \n",
      " 4   education_id      21525 non-null  int64  \n",
      " 5   family_status     21525 non-null  object \n",
      " 6   family_status_id  21525 non-null  int64  \n",
      " 7   gender            21525 non-null  object \n",
      " 8   income_type       21525 non-null  object \n",
      " 9   debt              21525 non-null  int64  \n",
      " 10  total_income      19351 non-null  float64\n",
      " 11  purpose           21525 non-null  object \n",
      "dtypes: float64(2), int64(5), object(5)\n",
      "memory usage: 2.0+ MB\n"
     ]
    }
   ],
   "source": [
    "data.info()"
   ]
  },
  {
   "cell_type": "markdown",
   "id": "b3981e23",
   "metadata": {
    "deletable": false,
    "editable": false,
    "id": "333ec665"
   },
   "source": [
    "## Предобработка данных"
   ]
  },
  {
   "cell_type": "markdown",
   "id": "3cc1969b",
   "metadata": {
    "deletable": false,
    "editable": false,
    "id": "02d92d53"
   },
   "source": [
    "### Удаление пропусков"
   ]
  },
  {
   "cell_type": "markdown",
   "id": "9333447b",
   "metadata": {
    "deletable": false,
    "editable": false,
    "id": "cd84967c"
   },
   "source": [
    "**Задание 4. Выведите количество пропущенных значений для каждого столбца. Используйте комбинацию двух методов.**"
   ]
  },
  {
   "cell_type": "code",
   "execution_count": 4,
   "id": "cad9d2d7",
   "metadata": {
    "deletable": false,
    "id": "7f9b2309",
    "outputId": "81f4d817-781c-465c-ed15-91ce4446810d"
   },
   "outputs": [
    {
     "data": {
      "text/plain": [
       "children               0\n",
       "days_employed       2174\n",
       "dob_years              0\n",
       "education              0\n",
       "education_id           0\n",
       "family_status          0\n",
       "family_status_id       0\n",
       "gender                 0\n",
       "income_type            0\n",
       "debt                   0\n",
       "total_income        2174\n",
       "purpose                0\n",
       "dtype: int64"
      ]
     },
     "execution_count": 4,
     "metadata": {},
     "output_type": "execute_result"
    }
   ],
   "source": [
    "data.isna().sum()"
   ]
  },
  {
   "cell_type": "markdown",
   "id": "7650ab8f",
   "metadata": {
    "deletable": false,
    "editable": false,
    "id": "db86e27b"
   },
   "source": [
    "**Задание 5. В двух столбцах есть пропущенные значения. Один из них — `days_employed`. Пропуски в этом столбце вы обработаете на следующем этапе. Другой столбец с пропущенными значениями — `total_income` — хранит данные о доходах. На сумму дохода сильнее всего влияет тип занятости, поэтому заполнить пропуски в этом столбце нужно медианным значением по каждому типу из столбца `income_type`. Например, у человека с типом занятости `сотрудник` пропуск в столбце `total_income` должен быть заполнен медианным доходом среди всех записей с тем же типом.**"
   ]
  },
  {
   "cell_type": "code",
   "execution_count": 5,
   "id": "e1390907",
   "metadata": {
    "deletable": false,
    "id": "42006a93"
   },
   "outputs": [],
   "source": [
    "for t in data['income_type'].unique():\n",
    "    data.loc[(data['income_type'] == t) & (data['total_income'].isna()), 'total_income'] = \\\n",
    "    data.loc[(data['income_type'] == t), 'total_income'].median()"
   ]
  },
  {
   "cell_type": "markdown",
   "id": "60b2f028",
   "metadata": {
    "deletable": false,
    "editable": false,
    "id": "89da5ece"
   },
   "source": [
    "### Обработка аномальных значений"
   ]
  },
  {
   "cell_type": "markdown",
   "id": "508c7811",
   "metadata": {
    "deletable": false,
    "editable": false,
    "id": "57964554"
   },
   "source": [
    "**Задание 6. В данных могут встречаться артефакты (аномалии) — значения, которые не отражают действительность и появились по какой-то ошибке. таким артефактом будет отрицательное количество дней трудового стажа в столбце `days_employed`. Для реальных данных это нормально. Обработайте значения в этом столбце: замените все отрицательные значения положительными с помощью метода `abs()`.**"
   ]
  },
  {
   "cell_type": "code",
   "execution_count": 6,
   "id": "eb634c82",
   "metadata": {
    "deletable": false,
    "id": "f6f055bf"
   },
   "outputs": [],
   "source": [
    "data['days_employed'] = data['days_employed'].abs()"
   ]
  },
  {
   "cell_type": "markdown",
   "id": "0bf7ef7a",
   "metadata": {
    "deletable": false,
    "editable": false,
    "id": "6107dd2f"
   },
   "source": [
    "**Задание 7. Для каждого типа занятости выведите медианное значение трудового стажа `days_employed` в днях.**"
   ]
  },
  {
   "cell_type": "code",
   "execution_count": 7,
   "id": "911fbb02",
   "metadata": {
    "deletable": false,
    "id": "85a5faf6",
    "outputId": "801ef80e-522b-4668-f34e-565af7432bcf"
   },
   "outputs": [
    {
     "data": {
      "text/plain": [
       "income_type\n",
       "безработный        366413.652744\n",
       "в декрете            3296.759962\n",
       "госслужащий          2689.368353\n",
       "компаньон            1547.382223\n",
       "пенсионер          365213.306266\n",
       "предприниматель       520.848083\n",
       "сотрудник            1574.202821\n",
       "студент               578.751554\n",
       "Name: days_employed, dtype: float64"
      ]
     },
     "execution_count": 7,
     "metadata": {},
     "output_type": "execute_result"
    }
   ],
   "source": [
    "data.groupby('income_type')['days_employed'].agg('median')"
   ]
  },
  {
   "cell_type": "markdown",
   "id": "05f3a726",
   "metadata": {
    "deletable": false,
    "editable": false,
    "id": "38d1a030"
   },
   "source": [
    "У двух типов (безработные и пенсионеры) получатся аномально большие значения. Исправить такие значения сложно, поэтому оставьте их как есть. Тем более этот столбец не понадобится вам для исследования."
   ]
  },
  {
   "cell_type": "markdown",
   "id": "c71cc8f3",
   "metadata": {
    "deletable": false,
    "editable": false,
    "id": "d8a9f147"
   },
   "source": [
    "**Задание 8. Выведите перечень уникальных значений столбца `children`.**"
   ]
  },
  {
   "cell_type": "code",
   "execution_count": 8,
   "id": "9e96616c",
   "metadata": {
    "deletable": false,
    "id": "ef5056eb",
    "outputId": "6975b15c-7f95-4697-d16d-a0c79b657b03"
   },
   "outputs": [
    {
     "data": {
      "text/plain": [
       "array([ 1,  0,  3,  2, -1,  4, 20,  5])"
      ]
     },
     "execution_count": 8,
     "metadata": {},
     "output_type": "execute_result"
    }
   ],
   "source": [
    "data['children'].unique()"
   ]
  },
  {
   "cell_type": "markdown",
   "id": "bceb43f8",
   "metadata": {
    "deletable": false,
    "editable": false,
    "id": "40b9ebf2"
   },
   "source": [
    "**Задание 9. В столбце `children` есть два аномальных значения. Удалите строки, в которых встречаются такие аномальные значения из датафрейма `data`.**"
   ]
  },
  {
   "cell_type": "code",
   "execution_count": 9,
   "id": "e20a5346",
   "metadata": {
    "deletable": false,
    "id": "3ff9801d"
   },
   "outputs": [],
   "source": [
    "data = data[(data['children'] != -1) & (data['children'] != 20)]"
   ]
  },
  {
   "cell_type": "markdown",
   "id": "9a24da08",
   "metadata": {
    "deletable": false,
    "editable": false,
    "id": "bbc4d0ce"
   },
   "source": [
    "**Задание 10. Ещё раз выведите перечень уникальных значений столбца `children`, чтобы убедиться, что артефакты удалены.**"
   ]
  },
  {
   "cell_type": "code",
   "execution_count": 10,
   "id": "4b4d2338",
   "metadata": {
    "deletable": false,
    "id": "ad4fa8b7",
    "outputId": "b2097101-d49d-44d9-901b-32a65c9463d1"
   },
   "outputs": [
    {
     "data": {
      "text/plain": [
       "array([1, 0, 3, 2, 4, 5])"
      ]
     },
     "execution_count": 10,
     "metadata": {},
     "output_type": "execute_result"
    }
   ],
   "source": [
    "data['children'].unique()"
   ]
  },
  {
   "cell_type": "markdown",
   "id": "5fbf86f9",
   "metadata": {
    "deletable": false,
    "editable": false,
    "id": "75440b63"
   },
   "source": [
    "### Удаление пропусков (продолжение)"
   ]
  },
  {
   "cell_type": "markdown",
   "id": "224bff7b",
   "metadata": {
    "deletable": false,
    "editable": false,
    "id": "f4ea573f"
   },
   "source": [
    "**Задание 11. Заполните пропуски в столбце `days_employed` медианными значениями по каждого типа занятости `income_type`.**"
   ]
  },
  {
   "cell_type": "code",
   "execution_count": 11,
   "id": "10a152bb",
   "metadata": {
    "deletable": false,
    "id": "af6b1a7e"
   },
   "outputs": [],
   "source": [
    "for t in data['income_type'].unique():\n",
    "    data.loc[(data['income_type'] == t) & (data['days_employed'].isna()), 'days_employed'] = \\\n",
    "    data.loc[(data['income_type'] == t), 'days_employed'].median()"
   ]
  },
  {
   "cell_type": "markdown",
   "id": "861f22d9",
   "metadata": {
    "deletable": false,
    "editable": false,
    "id": "2753f40d"
   },
   "source": [
    "**Задание 12. Убедитесь, что все пропуски заполнены. Проверьте себя и ещё раз выведите количество пропущенных значений для каждого столбца с помощью двух методов.**"
   ]
  },
  {
   "cell_type": "code",
   "execution_count": 12,
   "id": "1018ca44",
   "metadata": {
    "deletable": false,
    "id": "55f78bc2",
    "outputId": "8da1e4e1-358e-4e87-98c9-f261bce0a7b2"
   },
   "outputs": [
    {
     "data": {
      "text/plain": [
       "children            0\n",
       "days_employed       0\n",
       "dob_years           0\n",
       "education           0\n",
       "education_id        0\n",
       "family_status       0\n",
       "family_status_id    0\n",
       "gender              0\n",
       "income_type         0\n",
       "debt                0\n",
       "total_income        0\n",
       "purpose             0\n",
       "dtype: int64"
      ]
     },
     "execution_count": 12,
     "metadata": {},
     "output_type": "execute_result"
    }
   ],
   "source": [
    "data.isna().sum()"
   ]
  },
  {
   "cell_type": "markdown",
   "id": "fe318f8f",
   "metadata": {
    "deletable": false,
    "editable": false,
    "id": "ddc81e43"
   },
   "source": [
    "### Изменение типов данных"
   ]
  },
  {
   "cell_type": "markdown",
   "id": "361a4b14",
   "metadata": {
    "deletable": false,
    "editable": false,
    "id": "42d19d24"
   },
   "source": [
    "**Задание 13. Замените вещественный тип данных в столбце `total_income` на целочисленный с помощью метода `astype()`.**"
   ]
  },
  {
   "cell_type": "code",
   "execution_count": 13,
   "id": "0b570ad1",
   "metadata": {
    "deletable": false,
    "id": "920b65ad"
   },
   "outputs": [],
   "source": [
    "data['total_income'] = data['total_income'].astype(int)"
   ]
  },
  {
   "cell_type": "markdown",
   "id": "0475c842",
   "metadata": {
    "deletable": false,
    "editable": false,
    "id": "80c420ba"
   },
   "source": [
    "### Обработка дубликатов"
   ]
  },
  {
   "cell_type": "markdown",
   "id": "29330617",
   "metadata": {
    "deletable": false,
    "editable": false
   },
   "source": [
    "**Задание 14. Обработайте неявные дубликаты в столбце `education`. В этом столбце есть одни и те же значения, но записанные по-разному: с использованием заглавных и строчных букв. Приведите их к нижнему регистру. Проверьте остальные столбцы.**"
   ]
  },
  {
   "cell_type": "code",
   "execution_count": 14,
   "id": "62e42e1d",
   "metadata": {
    "deletable": false
   },
   "outputs": [],
   "source": [
    "data['education'] = data['education'].str.lower()"
   ]
  },
  {
   "cell_type": "markdown",
   "id": "270a3ec9",
   "metadata": {
    "deletable": false,
    "editable": false,
    "id": "dc587695"
   },
   "source": [
    "**Задание 15. Выведите на экран количество строк-дубликатов в данных. Если такие строки присутствуют, удалите их.**"
   ]
  },
  {
   "cell_type": "code",
   "execution_count": 15,
   "id": "886038ae",
   "metadata": {
    "deletable": false,
    "id": "3ee445e4",
    "outputId": "9684deba-1934-42d1-99e1-cda61740f822"
   },
   "outputs": [
    {
     "data": {
      "text/plain": [
       "71"
      ]
     },
     "execution_count": 15,
     "metadata": {},
     "output_type": "execute_result"
    }
   ],
   "source": [
    "data.duplicated().sum()"
   ]
  },
  {
   "cell_type": "code",
   "execution_count": 16,
   "id": "584ff168",
   "metadata": {
    "deletable": false,
    "id": "8575fe05"
   },
   "outputs": [],
   "source": [
    "data = data.drop_duplicates()"
   ]
  },
  {
   "cell_type": "markdown",
   "id": "3a79dd46",
   "metadata": {
    "deletable": false,
    "editable": false,
    "id": "9904cf55"
   },
   "source": [
    "### Категоризация данных"
   ]
  },
  {
   "cell_type": "markdown",
   "id": "9aed5c69",
   "metadata": {
    "deletable": false,
    "editable": false,
    "id": "72fcc8a2"
   },
   "source": [
    "**Задание 16. На основании диапазонов, указанных ниже, создайте в датафрейме `data` столбец `total_income_category` с категориями:**\n",
    "\n",
    "- 0–30000 — `'E'`;\n",
    "- 30001–50000 — `'D'`;\n",
    "- 50001–200000 — `'C'`;\n",
    "- 200001–1000000 — `'B'`;\n",
    "- 1000001 и выше — `'A'`.\n",
    "\n",
    "\n",
    "**Например, кредитополучателю с доходом 25000 нужно назначить категорию `'E'`, а клиенту, получающему 235000, — `'B'`. Используйте собственную функцию с именем `categorize_income()` и метод `apply()`.**"
   ]
  },
  {
   "cell_type": "code",
   "execution_count": 17,
   "id": "b2b9bd08",
   "metadata": {
    "deletable": false,
    "id": "e1771346"
   },
   "outputs": [],
   "source": [
    "def categorize_income(income):\n",
    "    try:\n",
    "        if 0 <= income <= 30000:\n",
    "            return 'E'\n",
    "        elif 30001 <= income <= 50000:\n",
    "            return 'D'\n",
    "        elif 50001 <= income <= 200000:\n",
    "            return 'C'\n",
    "        elif 200001 <= income <= 1000000:\n",
    "            return 'B'\n",
    "        elif income >= 1000001:\n",
    "            return 'A'\n",
    "    except:\n",
    "        pass"
   ]
  },
  {
   "cell_type": "code",
   "execution_count": 18,
   "id": "d58d1ad3",
   "metadata": {
    "deletable": false,
    "id": "d5f3586d"
   },
   "outputs": [],
   "source": [
    "data['total_income_category'] = data['total_income'].apply(categorize_income)"
   ]
  },
  {
   "cell_type": "markdown",
   "id": "a891b39d",
   "metadata": {
    "deletable": false,
    "editable": false,
    "id": "dde49b5c"
   },
   "source": [
    "**Задание 17. Выведите на экран перечень уникальных целей взятия кредита из столбца `purpose`.**"
   ]
  },
  {
   "cell_type": "code",
   "execution_count": 19,
   "id": "626194d8",
   "metadata": {
    "deletable": false,
    "id": "f67ce9b3",
    "outputId": "673c12d9-7d7e-4ae0-9812-c622c89dd244"
   },
   "outputs": [
    {
     "data": {
      "text/plain": [
       "array(['покупка жилья', 'приобретение автомобиля',\n",
       "       'дополнительное образование', 'сыграть свадьбу',\n",
       "       'операции с жильем', 'образование', 'на проведение свадьбы',\n",
       "       'покупка жилья для семьи', 'покупка недвижимости',\n",
       "       'покупка коммерческой недвижимости', 'покупка жилой недвижимости',\n",
       "       'строительство собственной недвижимости', 'недвижимость',\n",
       "       'строительство недвижимости', 'на покупку подержанного автомобиля',\n",
       "       'на покупку своего автомобиля',\n",
       "       'операции с коммерческой недвижимостью',\n",
       "       'строительство жилой недвижимости', 'жилье',\n",
       "       'операции со своей недвижимостью', 'автомобили',\n",
       "       'заняться образованием', 'сделка с подержанным автомобилем',\n",
       "       'получение образования', 'автомобиль', 'свадьба',\n",
       "       'получение дополнительного образования', 'покупка своего жилья',\n",
       "       'операции с недвижимостью', 'получение высшего образования',\n",
       "       'свой автомобиль', 'сделка с автомобилем',\n",
       "       'профильное образование', 'высшее образование',\n",
       "       'покупка жилья для сдачи', 'на покупку автомобиля', 'ремонт жилью',\n",
       "       'заняться высшим образованием'], dtype=object)"
      ]
     },
     "execution_count": 19,
     "metadata": {},
     "output_type": "execute_result"
    }
   ],
   "source": [
    "data['purpose'].unique()"
   ]
  },
  {
   "cell_type": "markdown",
   "id": "665362a3",
   "metadata": {
    "deletable": false,
    "editable": false,
    "id": "85d0aef0"
   },
   "source": [
    "**Задание 18. Создайте функцию, которая на основании данных из столбца `purpose` сформирует новый столбец `purpose_category`, в который войдут следующие категории:**\n",
    "\n",
    "- `'операции с автомобилем'`,\n",
    "- `'операции с недвижимостью'`,\n",
    "- `'проведение свадьбы'`,\n",
    "- `'получение образования'`.\n",
    "\n",
    "**Например, если в столбце `purpose` находится подстрока `'на покупку автомобиля'`, то в столбце `purpose_category` должна появиться строка `'операции с автомобилем'`.**\n",
    "\n",
    "**Используйте собственную функцию с именем `categorize_purpose()` и метод `apply()`. Изучите данные в столбце `purpose` и определите, какие подстроки помогут вам правильно определить категорию.**"
   ]
  },
  {
   "cell_type": "code",
   "execution_count": 20,
   "id": "255ceaeb",
   "metadata": {
    "deletable": false,
    "id": "e149fab4"
   },
   "outputs": [],
   "source": [
    "def categorize_purpose(row):\n",
    "    try:\n",
    "        if 'автом' in row:\n",
    "            return 'операции с автомобилем'\n",
    "        elif 'жил' in row or 'недвиж' in row:\n",
    "            return 'операции с недвижимостью'\n",
    "        elif 'свад' in row:\n",
    "            return 'проведение свадьбы'\n",
    "        elif 'образов' in row:\n",
    "            return 'получение образования'\n",
    "    except:\n",
    "        return 'нет категории'"
   ]
  },
  {
   "cell_type": "code",
   "execution_count": 21,
   "id": "d176a757",
   "metadata": {
    "deletable": false,
    "id": "bf36e69b"
   },
   "outputs": [],
   "source": [
    "data['purpose_category'] = data['purpose'].apply(categorize_purpose)"
   ]
  },
  {
   "cell_type": "markdown",
   "id": "a02eb029",
   "metadata": {
    "deletable": false,
    "editable": false,
    "id": "09b242bf"
   },
   "source": [
    "### Шаг 3. Исследуйте данные и ответьте на вопросы"
   ]
  },
  {
   "cell_type": "markdown",
   "id": "74fed4f4",
   "metadata": {
    "deletable": false,
    "editable": false,
    "id": "c5d66278"
   },
   "source": [
    "#### 3.1 Есть ли зависимость между количеством детей и возвратом кредита в срок?"
   ]
  },
  {
   "cell_type": "markdown",
   "id": "2f91f0d1",
   "metadata": {},
   "source": [
    "**Гипотеза:** _\"Чем больше детей в семье - тем ниже вероятность возврата кредита в срок\"_\n",
    "\n",
    "Для того, чтобы найти зависимость между количеством детей в семье и возвратом кредита в срок, необходимо вывести количество семей с задолженностью и без. Эффективнее это сделать, применив функцию, которая принимает в качестве аргументов количество детей и задолженность, а возвращает общее количество семей."
   ]
  },
  {
   "cell_type": "code",
   "execution_count": 22,
   "id": "341c1802",
   "metadata": {
    "deletable": false,
    "id": "2cacfc4a"
   },
   "outputs": [],
   "source": [
    "#def grouppy_children_debt(children, debt): \n",
    "    #debt_list = data[(data['children'] == children) & (data['debt'] == debt)]\n",
    "    #debt_list_count = debt_list['children'].count()\n",
    "    #return debt_list_count \n",
    "\n",
    "#print('Количество семей без детей и без задолженности:', grouppy_children_debt(0, 0))\n",
    "#print('Количество семей без детей с задолженностью:', grouppy_children_debt(0, 1))\n",
    "#print('Общее количество семей без детей', (grouppy_children_debt(0, 0) + grouppy_children_debt(0, 1)))\n",
    "#print('Количество семей c 1 ребенком и без задолженности:', grouppy_children_debt(1, 0))\n",
    "#print('Количество семей c 1 ребенком с задолженностью:', grouppy_children_debt(1, 1))\n",
    "#print('Общее количество семей с 1 ребенком:', (grouppy_children_debt(1, 0) + grouppy_children_debt(1, 1)))\n",
    "#print('Количество семей с 2 детьми и без задолженности:', grouppy_children_debt(2, 0))\n",
    "#print('Количество семей с 2 детьми с задолженностью:', grouppy_children_debt(2, 1))\n",
    "#print('Общее количество семей с 2 детьми:', (grouppy_children_debt(2, 0) + grouppy_children_debt(2, 1)))\n",
    "#print('Количество семей с 3 детьми и без задолженности:', grouppy_children_debt(3, 0))\n",
    "#print('Количество семей с 3 детьми с задолженностью:', grouppy_children_debt(3, 1))\n",
    "#print('Общее количество семей с 3 детьми:', (grouppy_children_debt(3, 0) + grouppy_children_debt(3, 1)))\n",
    "#print('Количество семей с 4 детьми и без задолженности:', grouppy_children_debt(4, 0))\n",
    "#print('Количество семей с 4 детьми с задолженностью:', grouppy_children_debt(4, 1))\n",
    "#print('Общее количество семей с 4 детьми:', (grouppy_children_debt(4, 0) + grouppy_children_debt(4, 1)))\n",
    "#print('Количество семей с 5 детьми и без задолженности:', grouppy_children_debt(5, 0))\n",
    "#print('Количество семей с 5 детьми с задолженностью:', grouppy_children_debt(5, 1))\n",
    "#print('Общее количество семей с 5 детьми:', (grouppy_children_debt(5, 0) + grouppy_children_debt(5, 1)))"
   ]
  },
  {
   "cell_type": "markdown",
   "id": "e15c8478",
   "metadata": {},
   "source": [
    "Для большей наглядности создадим новую таблицу. Добавим столбец, в котором отразим процент задолженности."
   ]
  },
  {
   "cell_type": "code",
   "execution_count": 23,
   "id": "7b6d0e8c",
   "metadata": {},
   "outputs": [],
   "source": [
    "#columns_table = ['Количество детей', 'Нет задолженности', 'Есть задолженность', 'Общее количество клиентов']\n",
    "#data_children_debt = [\n",
    "    #[0, 13028, 1063, 14091],\n",
    "    #[1, 4364, 444, 4808],\n",
    "    #[2, 1858, 194, 2052],\n",
    "    #[3, 303, 27, 330],\n",
    "    #[4, 37, 4, 41],\n",
    "    #[5, 9, 0, 9]\n",
    "#]\n",
    "#df = pd.DataFrame(data = data_children_debt, columns = columns_table)\n",
    "#df['Процент задолженности'] = df['Есть задолженность'] / df['Общее количество клиентов'] * 100\n",
    "#df"
   ]
  },
  {
   "cell_type": "markdown",
   "id": "cf4c47b7",
   "metadata": {},
   "source": [
    "На основе выгрузки создадим сводную таблицу, сгруппированную по количеству детей у клиентов"
   ]
  },
  {
   "cell_type": "code",
   "execution_count": 24,
   "id": "768833db",
   "metadata": {},
   "outputs": [],
   "source": [
    "#def per_cent(value):               #добавим функцию, которая возвращает аргумент в процентах\n",
    "    #return '{:.2%}'.format(value)  \n",
    "\n",
    "#debt_child = pd.pivot_table(data, index=['children'], values = 'debt', aggfunc = {'mean', lambda value: value.count()})\n",
    "#debt_child = debt_child.rename(columns={'<lambda_0>':'Количество семей', 'mean':'Процент задолженности'})\n",
    "#debt_child['Процент задолженности'] = debt_child['Процент задолженности'].apply(per_cent)\n",
    "#debt_child['Количество семей'] = debt_child['Количество семей'].astype(int)\n",
    "    \n",
    "#debt_child"
   ]
  },
  {
   "cell_type": "code",
   "execution_count": 25,
   "id": "7e97a052",
   "metadata": {},
   "outputs": [],
   "source": [
    "import numpy as np"
   ]
  },
  {
   "cell_type": "code",
   "execution_count": 26,
   "id": "3122a6eb",
   "metadata": {},
   "outputs": [
    {
     "data": {
      "text/html": [
       "<div>\n",
       "<style scoped>\n",
       "    .dataframe tbody tr th:only-of-type {\n",
       "        vertical-align: middle;\n",
       "    }\n",
       "\n",
       "    .dataframe tbody tr th {\n",
       "        vertical-align: top;\n",
       "    }\n",
       "\n",
       "    .dataframe thead tr th {\n",
       "        text-align: left;\n",
       "    }\n",
       "\n",
       "    .dataframe thead tr:last-of-type th {\n",
       "        text-align: right;\n",
       "    }\n",
       "</style>\n",
       "<table border=\"1\" class=\"dataframe\">\n",
       "  <thead>\n",
       "    <tr>\n",
       "      <th></th>\n",
       "      <th>Количество клиентов</th>\n",
       "      <th>Количество клиентов с задолженностью</th>\n",
       "      <th>Процент задолженности</th>\n",
       "    </tr>\n",
       "    <tr>\n",
       "      <th></th>\n",
       "      <th></th>\n",
       "      <th></th>\n",
       "      <th></th>\n",
       "    </tr>\n",
       "    <tr>\n",
       "      <th>children</th>\n",
       "      <th></th>\n",
       "      <th></th>\n",
       "      <th></th>\n",
       "    </tr>\n",
       "  </thead>\n",
       "  <tbody>\n",
       "    <tr>\n",
       "      <th>0</th>\n",
       "      <td>14091</td>\n",
       "      <td>1063</td>\n",
       "      <td>7.54</td>\n",
       "    </tr>\n",
       "    <tr>\n",
       "      <th>1</th>\n",
       "      <td>4808</td>\n",
       "      <td>444</td>\n",
       "      <td>9.23</td>\n",
       "    </tr>\n",
       "    <tr>\n",
       "      <th>2</th>\n",
       "      <td>2052</td>\n",
       "      <td>194</td>\n",
       "      <td>9.45</td>\n",
       "    </tr>\n",
       "    <tr>\n",
       "      <th>3</th>\n",
       "      <td>330</td>\n",
       "      <td>27</td>\n",
       "      <td>8.18</td>\n",
       "    </tr>\n",
       "    <tr>\n",
       "      <th>4</th>\n",
       "      <td>41</td>\n",
       "      <td>4</td>\n",
       "      <td>9.76</td>\n",
       "    </tr>\n",
       "    <tr>\n",
       "      <th>5</th>\n",
       "      <td>9</td>\n",
       "      <td>0</td>\n",
       "      <td>0.00</td>\n",
       "    </tr>\n",
       "  </tbody>\n",
       "</table>\n",
       "</div>"
      ],
      "text/plain": [
       "         Количество клиентов Количество клиентов с задолженностью  \\\n",
       "                                                                    \n",
       "children                                                            \n",
       "0                      14091                                 1063   \n",
       "1                       4808                                  444   \n",
       "2                       2052                                  194   \n",
       "3                        330                                   27   \n",
       "4                         41                                    4   \n",
       "5                          9                                    0   \n",
       "\n",
       "         Процент задолженности  \n",
       "                                \n",
       "children                        \n",
       "0                         7.54  \n",
       "1                         9.23  \n",
       "2                         9.45  \n",
       "3                         8.18  \n",
       "4                         9.76  \n",
       "5                         0.00  "
      ]
     },
     "execution_count": 26,
     "metadata": {},
     "output_type": "execute_result"
    }
   ],
   "source": [
    "debt_child = data.pivot_table(index = 'children', values='debt', aggfunc = ['count', 'sum', lambda x: round(np.mean(x)*100,2)])\n",
    "debt_child = debt_child.rename(columns={'count':'Количество клиентов', 'sum':'Количество клиентов с задолженностью', \n",
    "                                       '<lambda>': 'Процент задолженности', 'debt':''})\n",
    "\n",
    "debt_child"
   ]
  },
  {
   "cell_type": "markdown",
   "id": "38be83f8",
   "metadata": {
    "deletable": false,
    "id": "3a6b99ec"
   },
   "source": [
    "**Вывод:** Клиенты без детей выплачивают кредиты исправнее, чем клиенты с детьми. Чем больше в семье детей, тем выше процент задолженности. Исключение - семьи с 3 детьми. Их процент ниже. Аномальное значение у семей с 5 детьми. "
   ]
  },
  {
   "cell_type": "markdown",
   "id": "660c562b",
   "metadata": {},
   "source": [
    "**Вывод:** Клиенты без детей выплачивают кредиты куда исправнее, чем клиенты с детьми. Из-за недостаточного объёма данных, группа клиентов с 4 и 5 детьми не репрезентативна. "
   ]
  },
  {
   "cell_type": "markdown",
   "id": "ce50cf70",
   "metadata": {
    "deletable": false,
    "editable": false,
    "id": "97be82ca"
   },
   "source": [
    "#### 3.2 Есть ли зависимость между семейным положением и возвратом кредита в срок?"
   ]
  },
  {
   "cell_type": "markdown",
   "id": "121483ee",
   "metadata": {},
   "source": [
    "**Гипотеза**: _\"Клиенты, состоящие в браке или находящиеся в гражданском браке, возвращают кредиты в срок хуже, чем одинокие клиенты (никогда не были в браке, в разводе и потерявшие супруга/супругу).\"_"
   ]
  },
  {
   "cell_type": "code",
   "execution_count": 27,
   "id": "bf17fd79",
   "metadata": {
    "deletable": false,
    "id": "dc3f7ee8"
   },
   "outputs": [],
   "source": [
    "#display(data['family_status'].unique())       #создаем список уникальных значений столбца 'family_status' для сопоставления со \n",
    "#display(data['family_status_id'].unique())    #списком уникальных значений столбца 'family_status_id'\n",
    "\n",
    "#column_family = ['id', 'Семейное положение']\n",
    "#table_family = [\n",
    "    #[0, 'женат / замужем'],\n",
    "    #[1, 'гражданский брак'],\n",
    "    #[2, 'вдовец / вдова'],\n",
    "    #[3, 'в разводе'],\n",
    "    #[4, 'не женат / не замужем'],\n",
    "#]\n",
    "\n",
    "#id_family = pd.DataFrame(data = table_family, columns = column_family)\n",
    "#id_family"
   ]
  },
  {
   "cell_type": "markdown",
   "id": "31c64734",
   "metadata": {},
   "source": [
    "Создадим функцию, в аргументы которой принимаются идентификатор семейного положения и наличие задолженности. Функция вернет количество клиентов."
   ]
  },
  {
   "cell_type": "code",
   "execution_count": 28,
   "id": "925de730",
   "metadata": {},
   "outputs": [],
   "source": [
    "#def grouppy_family_status_id_debt(family_status_id, debt): \n",
    "    #family_status_id_list = data[(data['family_status_id'] == family_status_id) & (data['debt'] == debt)]\n",
    "    #family_status_id_list_count = family_status_id_list['family_status_id'].count()\n",
    "    #return family_status_id_list_count \n",
    "\n",
    "#print('Количество клиентов женаты/замужем без задолженности:', grouppy_family_status_id_debt(0,0))\n",
    "#print('Количество клиентов женаты/замужем с задолженностью:', grouppy_family_status_id_debt(0,1))\n",
    "#print('Общее количество клиентов женаты/замужем:', grouppy_family_status_id_debt(0,0) + grouppy_family_status_id_debt(0,1))\n",
    "#print('Количество клиентов в гражданском браке без задолженности:', grouppy_family_status_id_debt(1,0))\n",
    "#print('Количество клиентов в гражданском браке с задолженностью:', grouppy_family_status_id_debt(1,1))\n",
    "#print('Общее количество клиентов в гражданском браке:', grouppy_family_status_id_debt(1,0) + grouppy_family_status_id_debt(1,1))\n",
    "#print('Количество клиентов вдовцы/вдовы без задолженности:', grouppy_family_status_id_debt(2,0))\n",
    "#print('Количество клиентов вдовцы/вдовы с задолженностью:', grouppy_family_status_id_debt(2,1))\n",
    "#print('Общее количество клиентов вдовцы/вдовы:', grouppy_family_status_id_debt(2,0) + grouppy_family_status_id_debt(2,1))\n",
    "#print('Количество клиентов в разводе без задолженности:', grouppy_family_status_id_debt(3,0))\n",
    "#print('Количество клиентов в разводе с задолженностью:', grouppy_family_status_id_debt(3,1))\n",
    "#print('Общее количество клиентов в разводе:', grouppy_family_status_id_debt(3,0) + grouppy_family_status_id_debt(3,1))\n",
    "#print('Количество клиентов не женат/не замужем без задолженности:', grouppy_family_status_id_debt(4,0))\n",
    "#print('Количество клиентов не женат/не замужем с задолженностью:', grouppy_family_status_id_debt(4,1))\n",
    "#print('Общее количество клиентов не женат/не замужем:', grouppy_family_status_id_debt(4,0) + grouppy_family_status_id_debt(4,1))"
   ]
  },
  {
   "cell_type": "markdown",
   "id": "71a75e0a",
   "metadata": {},
   "source": [
    "Создадим новую таблицу, в которую добавим новый столбец - \"Процент задолженности\"."
   ]
  },
  {
   "cell_type": "code",
   "execution_count": 29,
   "id": "95d950cc",
   "metadata": {},
   "outputs": [],
   "source": [
    "#columns_family_id = ['Семейное положение', 'Общее количество клиентов', 'Нет задолженности', 'Есть задолженность']\n",
    "#data_family_id = [\n",
    "    #['женат / замужем', 12261, 11334, 927],\n",
    "    #['гражданский брак', 4134, 3749, 385],\n",
    "    #['вдовец / вдова', 951, 888, 63],\n",
    "    #['в разводе', 1189, 1105, 84],\n",
    "    #['не женат / не замужем', 2796, 2523, 273]\n",
    "#]\n",
    "\n",
    "#data_family_debt = pd.DataFrame(data=data_family_id, columns=columns_family_id)\n",
    "#data_family_debt['Процент задолженности'] = data_family_debt['Есть задолженность'] / data_family_debt['Общее количество клиентов'] * 100\n",
    "#data_family_debt"
   ]
  },
  {
   "cell_type": "code",
   "execution_count": 30,
   "id": "40a6f0ec",
   "metadata": {},
   "outputs": [],
   "source": [
    "#def per_cent(value):               #добавим функцию, которая возвращает аргумент в процентах\n",
    "    #return '{:.2%}'.format(value)  \n",
    "\n",
    "#debt_family = pd.pivot_table(data, index=['family_status'], values = 'debt', aggfunc = {'mean', lambda value: value.count()})\n",
    "#debt_family = debt_family.rename(columns={'<lambda_0>':'Количество семей', 'mean':'Процент задолженности'})\n",
    "#debt_family['Процент задолженности'] = debt_family['Процент задолженности'].apply(per_cent)\n",
    "#debt_family['Количество семей'] = debt_family['Количество семей'].astype(int)\n",
    "    \n",
    "#debt_family"
   ]
  },
  {
   "cell_type": "code",
   "execution_count": 31,
   "id": "9e822ad2",
   "metadata": {},
   "outputs": [
    {
     "data": {
      "text/html": [
       "<div>\n",
       "<style scoped>\n",
       "    .dataframe tbody tr th:only-of-type {\n",
       "        vertical-align: middle;\n",
       "    }\n",
       "\n",
       "    .dataframe tbody tr th {\n",
       "        vertical-align: top;\n",
       "    }\n",
       "\n",
       "    .dataframe thead tr th {\n",
       "        text-align: left;\n",
       "    }\n",
       "\n",
       "    .dataframe thead tr:last-of-type th {\n",
       "        text-align: right;\n",
       "    }\n",
       "</style>\n",
       "<table border=\"1\" class=\"dataframe\">\n",
       "  <thead>\n",
       "    <tr>\n",
       "      <th></th>\n",
       "      <th>Количество клиентов</th>\n",
       "      <th>Количество клиентов с задолженностью</th>\n",
       "      <th>Процент задолженности</th>\n",
       "    </tr>\n",
       "    <tr>\n",
       "      <th></th>\n",
       "      <th></th>\n",
       "      <th></th>\n",
       "      <th></th>\n",
       "    </tr>\n",
       "    <tr>\n",
       "      <th>family_status</th>\n",
       "      <th></th>\n",
       "      <th></th>\n",
       "      <th></th>\n",
       "    </tr>\n",
       "  </thead>\n",
       "  <tbody>\n",
       "    <tr>\n",
       "      <th>Не женат / не замужем</th>\n",
       "      <td>2796</td>\n",
       "      <td>273</td>\n",
       "      <td>9.76</td>\n",
       "    </tr>\n",
       "    <tr>\n",
       "      <th>в разводе</th>\n",
       "      <td>1189</td>\n",
       "      <td>84</td>\n",
       "      <td>7.06</td>\n",
       "    </tr>\n",
       "    <tr>\n",
       "      <th>вдовец / вдова</th>\n",
       "      <td>951</td>\n",
       "      <td>63</td>\n",
       "      <td>6.62</td>\n",
       "    </tr>\n",
       "    <tr>\n",
       "      <th>гражданский брак</th>\n",
       "      <td>4134</td>\n",
       "      <td>385</td>\n",
       "      <td>9.31</td>\n",
       "    </tr>\n",
       "    <tr>\n",
       "      <th>женат / замужем</th>\n",
       "      <td>12261</td>\n",
       "      <td>927</td>\n",
       "      <td>7.56</td>\n",
       "    </tr>\n",
       "  </tbody>\n",
       "</table>\n",
       "</div>"
      ],
      "text/plain": [
       "                      Количество клиентов  \\\n",
       "                                            \n",
       "family_status                               \n",
       "Не женат / не замужем                2796   \n",
       "в разводе                            1189   \n",
       "вдовец / вдова                        951   \n",
       "гражданский брак                     4134   \n",
       "женат / замужем                     12261   \n",
       "\n",
       "                      Количество клиентов с задолженностью  \\\n",
       "                                                             \n",
       "family_status                                                \n",
       "Не женат / не замужем                                  273   \n",
       "в разводе                                               84   \n",
       "вдовец / вдова                                          63   \n",
       "гражданский брак                                       385   \n",
       "женат / замужем                                        927   \n",
       "\n",
       "                      Процент задолженности  \n",
       "                                             \n",
       "family_status                                \n",
       "Не женат / не замужем                  9.76  \n",
       "в разводе                              7.06  \n",
       "вдовец / вдова                         6.62  \n",
       "гражданский брак                       9.31  \n",
       "женат / замужем                        7.56  "
      ]
     },
     "execution_count": 31,
     "metadata": {},
     "output_type": "execute_result"
    }
   ],
   "source": [
    "debt_family = data.pivot_table(index = 'family_status', values='debt', aggfunc = ['count', 'sum', lambda x: round(np.mean(x)*100,2)])\n",
    "debt_family = debt_family.rename(columns={'count':'Количество клиентов', 'sum':'Количество клиентов с задолженностью', \n",
    "                                       '<lambda>': 'Процент задолженности', 'debt':''})\n",
    "\n",
    "debt_family"
   ]
  },
  {
   "cell_type": "markdown",
   "id": "84663bae",
   "metadata": {
    "deletable": false,
    "id": "1cef7837"
   },
   "source": [
    "**Вывод:** Самый низкий процент задолженности кредитов у вдов/вдовцов. У клиентов без семейного положения процент задолженности самый высокий. "
   ]
  },
  {
   "cell_type": "markdown",
   "id": "b2bf0763",
   "metadata": {
    "deletable": false,
    "editable": false,
    "id": "1e8b2fca"
   },
   "source": [
    "#### 3.3 Есть ли зависимость между уровнем дохода и возвратом кредита в срок?"
   ]
  },
  {
   "cell_type": "markdown",
   "id": "f73065a0",
   "metadata": {},
   "source": [
    "**Гипотеза:**_\"Чем выше уровень дохода, тем выше вероятность возврата кредита в срок.\"_"
   ]
  },
  {
   "cell_type": "code",
   "execution_count": 32,
   "id": "d07c43df",
   "metadata": {
    "deletable": false,
    "id": "cd7e3720"
   },
   "outputs": [],
   "source": [
    "#def grouppy_income_category_debt(total_income_category, debt): \n",
    "    #total_income_category_list = data[(data['total_income_category'] == total_income_category) & (data['debt'] == debt)]\n",
    "    #total_income_category_list_count = total_income_category_list['total_income_category'].count()\n",
    "    #return total_income_category_list_count \n",
    "\n",
    "#print('Количество клиентов категории \"А\" без задолженности:', grouppy_income_category_debt('A', 0))\n",
    "#print('Количество клиентов категории \"А\" c задолженностью:', grouppy_income_category_debt('A', 1))\n",
    "#print('Общее количество клиентов категории \"А\":', grouppy_income_category_debt('A', 0) + grouppy_income_category_debt('A', 1))\n",
    "#print('Количество клиентов категории \"B\" без задолженности:', grouppy_income_category_debt('B', 0))\n",
    "#print('Количество клиентов категории \"B\" c задолженностью:', grouppy_income_category_debt('B', 1))\n",
    "#print('Общее количество клиентов категории \"B\":', grouppy_income_category_debt('B', 0) + grouppy_income_category_debt('B', 1))\n",
    "#print('Количество клиентов категории \"C\" без задолженности:', grouppy_income_category_debt('C', 0))\n",
    "#print('Количество клиентов категории \"C\" c задолженностью:', grouppy_income_category_debt('C', 1))\n",
    "#print('Общее количество клиентов категории \"C\":', grouppy_income_category_debt('C', 0) + grouppy_income_category_debt('C', 1))\n",
    "#print('Количество клиентов категории \"D\" без задолженности:', grouppy_income_category_debt('D', 0))\n",
    "#print('Количество клиентов категории \"D\" c задолженностью:', grouppy_income_category_debt('D', 1))\n",
    "#print('Общее количество клиентов категории \"D\":', grouppy_income_category_debt('D', 0) + grouppy_income_category_debt('D', 1))\n",
    "#print('Количество клиентов категории \"E\" без задолженности:', grouppy_income_category_debt('E', 0))\n",
    "#print('Количество клиентов категории \"E\" c задолженностью:', grouppy_income_category_debt('E', 1))\n",
    "#print('Общее количество клиентов категории \"E\":', grouppy_income_category_debt('E', 0) + grouppy_income_category_debt('E', 1))"
   ]
  },
  {
   "cell_type": "markdown",
   "id": "a0511117",
   "metadata": {},
   "source": [
    "Создадим новую таблицу, ипользуя данные выгрузки."
   ]
  },
  {
   "cell_type": "code",
   "execution_count": 33,
   "id": "19ba6f18",
   "metadata": {},
   "outputs": [],
   "source": [
    "#columns_income_category = ['Категория дохода клиентов', 'Общее количество клиентов', 'Нет задолженности', 'Есть задолженность']\n",
    "#data_income_category = [\n",
    "    #['A', 25, 23, 2],\n",
    "    #['B', 5014, 4660, 354],\n",
    "    #['C', 15921, 14568, 1353],\n",
    "    #['D', 349, 328, 21],\n",
    "    #['E', 22, 20, 2]\n",
    "#]\n",
    "\n",
    "#data_income_category = pd.DataFrame(data=data_income_category, columns=columns_income_category)\n",
    "#data_income_category['Процент задолженности'] = data_income_category['Есть задолженность'] / data_income_category['Общее количество клиентов'] * 100\n",
    "#data_income_category"
   ]
  },
  {
   "cell_type": "code",
   "execution_count": 34,
   "id": "be8961df",
   "metadata": {},
   "outputs": [],
   "source": [
    "#def per_cent(value):              \n",
    "    #return '{:.2%}'.format(value)  \n",
    "\n",
    "#debt_income_category = pd.pivot_table(data, index=['total_income_category'], values = 'debt', aggfunc = {'mean', lambda value: value.count()})\n",
    "#debt_income_category = debt_income_category.rename(columns={'<lambda_0>':'Количество семей', 'mean':'Процент задолженности'})\n",
    "#debt_income_category['Процент задолженности'] = debt_income_category['Процент задолженности'].apply(per_cent)\n",
    "#debt_income_category['Количество семей'] = debt_income_category['Количество семей'].astype(int)\n",
    "    \n",
    "#debt_income_category"
   ]
  },
  {
   "cell_type": "code",
   "execution_count": 35,
   "id": "01b5aa17",
   "metadata": {},
   "outputs": [
    {
     "data": {
      "text/html": [
       "<div>\n",
       "<style scoped>\n",
       "    .dataframe tbody tr th:only-of-type {\n",
       "        vertical-align: middle;\n",
       "    }\n",
       "\n",
       "    .dataframe tbody tr th {\n",
       "        vertical-align: top;\n",
       "    }\n",
       "\n",
       "    .dataframe thead tr th {\n",
       "        text-align: left;\n",
       "    }\n",
       "\n",
       "    .dataframe thead tr:last-of-type th {\n",
       "        text-align: right;\n",
       "    }\n",
       "</style>\n",
       "<table border=\"1\" class=\"dataframe\">\n",
       "  <thead>\n",
       "    <tr>\n",
       "      <th></th>\n",
       "      <th>Количество клиентов</th>\n",
       "      <th>Количество клиентов с задолженностью</th>\n",
       "      <th>Процент задолженности</th>\n",
       "    </tr>\n",
       "    <tr>\n",
       "      <th></th>\n",
       "      <th></th>\n",
       "      <th></th>\n",
       "      <th></th>\n",
       "    </tr>\n",
       "    <tr>\n",
       "      <th>total_income_category</th>\n",
       "      <th></th>\n",
       "      <th></th>\n",
       "      <th></th>\n",
       "    </tr>\n",
       "  </thead>\n",
       "  <tbody>\n",
       "    <tr>\n",
       "      <th>A</th>\n",
       "      <td>25</td>\n",
       "      <td>2</td>\n",
       "      <td>8.00</td>\n",
       "    </tr>\n",
       "    <tr>\n",
       "      <th>B</th>\n",
       "      <td>5014</td>\n",
       "      <td>354</td>\n",
       "      <td>7.06</td>\n",
       "    </tr>\n",
       "    <tr>\n",
       "      <th>C</th>\n",
       "      <td>15921</td>\n",
       "      <td>1353</td>\n",
       "      <td>8.50</td>\n",
       "    </tr>\n",
       "    <tr>\n",
       "      <th>D</th>\n",
       "      <td>349</td>\n",
       "      <td>21</td>\n",
       "      <td>6.02</td>\n",
       "    </tr>\n",
       "    <tr>\n",
       "      <th>E</th>\n",
       "      <td>22</td>\n",
       "      <td>2</td>\n",
       "      <td>9.09</td>\n",
       "    </tr>\n",
       "  </tbody>\n",
       "</table>\n",
       "</div>"
      ],
      "text/plain": [
       "                      Количество клиентов  \\\n",
       "                                            \n",
       "total_income_category                       \n",
       "A                                      25   \n",
       "B                                    5014   \n",
       "C                                   15921   \n",
       "D                                     349   \n",
       "E                                      22   \n",
       "\n",
       "                      Количество клиентов с задолженностью  \\\n",
       "                                                             \n",
       "total_income_category                                        \n",
       "A                                                        2   \n",
       "B                                                      354   \n",
       "C                                                     1353   \n",
       "D                                                       21   \n",
       "E                                                        2   \n",
       "\n",
       "                      Процент задолженности  \n",
       "                                             \n",
       "total_income_category                        \n",
       "A                                      8.00  \n",
       "B                                      7.06  \n",
       "C                                      8.50  \n",
       "D                                      6.02  \n",
       "E                                      9.09  "
      ]
     },
     "execution_count": 35,
     "metadata": {},
     "output_type": "execute_result"
    }
   ],
   "source": [
    "debt_income_category = data.pivot_table(index = 'total_income_category', values='debt', aggfunc = ['count', 'sum', lambda x: round(np.mean(x)*100,2)])\n",
    "debt_income_category = debt_income_category.rename(columns={'count':'Количество клиентов', 'sum':'Количество клиентов с задолженностью', \n",
    "                                       '<lambda>': 'Процент задолженности', 'debt':''})\n",
    "\n",
    "debt_income_category"
   ]
  },
  {
   "cell_type": "markdown",
   "id": "1c932ee6",
   "metadata": {
    "deletable": false,
    "id": "e8593def"
   },
   "source": [
    "**Вывод:** гипотеза не подтвердилась. Клиенты с высоким урвонем дохода имеют процент задолженности выше, чем клиенты с более низким. Тем не менее у клиентов с самой низкой категорией доходов самый высокий процент задолженности."
   ]
  },
  {
   "cell_type": "markdown",
   "id": "1573c7ad",
   "metadata": {},
   "source": [
    "**Вывод:** Данные категорий A, D, E не подходят для исследования, т.к. сумма строк со значениями состовляет всего около 2 процентов от общего объема. Тем не менее, первый взгляд на оставшиеся категории дает понять, что чем выше доход, тем ниже вероятность появления задолженности."
   ]
  },
  {
   "cell_type": "markdown",
   "id": "d38974e6",
   "metadata": {
    "deletable": false,
    "editable": false,
    "id": "99ecbd1f"
   },
   "source": [
    "#### 3.4 Как разные цели кредита влияют на его возврат в срок?"
   ]
  },
  {
   "cell_type": "markdown",
   "id": "e923a527",
   "metadata": {},
   "source": [
    "**Гипотеза:**_\"Клиенты, взявшие кредит для операций с недвижимостью, будут иметь низкий процент невозврата кредита в срок.\"_"
   ]
  },
  {
   "cell_type": "code",
   "execution_count": 36,
   "id": "50e9a337",
   "metadata": {
    "deletable": false,
    "id": "2b687290"
   },
   "outputs": [],
   "source": [
    "#def grouppy_purpose_category_debt(purpose_category, debt): \n",
    "    #purpose_category_list = data[(data['purpose_category'] == purpose_category) & (data['debt'] == debt)]\n",
    "    #purpose_category_list_count = purpose_category_list['purpose_category'].count()\n",
    "    #return purpose_category_list_count \n",
    "\n",
    "#print('Операции с недвижимостью без задолженности:', grouppy_purpose_category_debt('операции с недвижимостью', 0))\n",
    "#print('Операции с недвижимостью с задолженностью:', grouppy_purpose_category_debt('операции с недвижимостью', 1))\n",
    "#print('Общее количество:', grouppy_purpose_category_debt('операции с недвижимостью', 0) + \n",
    "      #grouppy_purpose_category_debt('операции с недвижимостью', 1))\n",
    "#print('Операции с автомобилем без задолженности:', grouppy_purpose_category_debt('операции с автомобилем', 0))\n",
    "#print('Операции с автомобилем с задолженностью:', grouppy_purpose_category_debt('операции с автомобилем', 1))\n",
    "#print('Общее количество:', grouppy_purpose_category_debt('операции с автомобилем', 0) + \n",
    "      #grouppy_purpose_category_debt('операции с автомобилем', 1))\n",
    "#print('Проведение свадьбы без задолженности:', grouppy_purpose_category_debt('проведение свадьбы', 0))\n",
    "#print('Проведение свадьбы с задолженностью:', grouppy_purpose_category_debt('проведение свадьбы', 1))\n",
    "#print('Общее количество:', grouppy_purpose_category_debt('проведение свадьбы', 0) + \n",
    "      #grouppy_purpose_category_debt('проведение свадьбы', 1))\n",
    "#print('Получение образования без задолженности:', grouppy_purpose_category_debt('получение образования', 0))\n",
    "#print('Получение образования с задолженностью:', grouppy_purpose_category_debt('получение образования', 1))\n",
    "#print('Общее количество:', grouppy_purpose_category_debt('получение образования', 0) + \n",
    "      #grouppy_purpose_category_debt('получение образования', 1))"
   ]
  },
  {
   "cell_type": "markdown",
   "id": "dbeda71a",
   "metadata": {},
   "source": [
    "**Для иллюстрации создадим новую таблицу, ипользуя данные выгрузки.**"
   ]
  },
  {
   "cell_type": "code",
   "execution_count": 37,
   "id": "6fff2e79",
   "metadata": {},
   "outputs": [],
   "source": [
    "#columns_purpose_category = ['Цели кредита', 'Общее количество клиентов', 'Нет задолженности', 'Есть задолженность']\n",
    "#data_purpose_category = [\n",
    "    #['Операции с недвижимостью', 10751, 9971, 780],\n",
    "    #['Операции с автомобилем', 4279, 3879, 400],\n",
    "    #['Проведение свадьбы', 2313, 2130, 183],\n",
    "    #['Получение образования', 3988, 3619, 369],\n",
    "#]\n",
    "\n",
    "#data_purpose_category = pd.DataFrame(data=data_purpose_category, columns=columns_purpose_category)\n",
    "#data_purpose_category['Процент задолженности'] = data_purpose_category['Есть задолженность'] / data_purpose_category['Общее количество клиентов'] * 100\n",
    "#data_purpose_category"
   ]
  },
  {
   "cell_type": "code",
   "execution_count": 38,
   "id": "c9f3028d",
   "metadata": {},
   "outputs": [],
   "source": [
    "#def per_cent(value):              \n",
    "    #return '{:.2%}'.format(value)  \n",
    "\n",
    "#debt_purpose = pd.pivot_table(data, index=['purpose_category'], values = 'debt', aggfunc = {'mean', lambda value: value.count()})\n",
    "#debt_purpose = debt_purpose.rename(columns={'<lambda_0>':'Количество семей', 'mean':'Процент задолженности'})\n",
    "#debt_purpose['Процент задолженности'] = debt_purpose['Процент задолженности'].apply(per_cent)\n",
    "#debt_purpose['Количество семей'] = debt_purpose['Количество семей'].astype(int)\n",
    "    \n",
    "#debt_purpose"
   ]
  },
  {
   "cell_type": "code",
   "execution_count": 39,
   "id": "9846672c",
   "metadata": {},
   "outputs": [
    {
     "data": {
      "text/html": [
       "<div>\n",
       "<style scoped>\n",
       "    .dataframe tbody tr th:only-of-type {\n",
       "        vertical-align: middle;\n",
       "    }\n",
       "\n",
       "    .dataframe tbody tr th {\n",
       "        vertical-align: top;\n",
       "    }\n",
       "\n",
       "    .dataframe thead tr th {\n",
       "        text-align: left;\n",
       "    }\n",
       "\n",
       "    .dataframe thead tr:last-of-type th {\n",
       "        text-align: right;\n",
       "    }\n",
       "</style>\n",
       "<table border=\"1\" class=\"dataframe\">\n",
       "  <thead>\n",
       "    <tr>\n",
       "      <th></th>\n",
       "      <th>Количество клиентов</th>\n",
       "      <th>Количество клиентов с задолженностью</th>\n",
       "      <th>Процент задолженности</th>\n",
       "    </tr>\n",
       "    <tr>\n",
       "      <th></th>\n",
       "      <th></th>\n",
       "      <th></th>\n",
       "      <th></th>\n",
       "    </tr>\n",
       "    <tr>\n",
       "      <th>purpose_category</th>\n",
       "      <th></th>\n",
       "      <th></th>\n",
       "      <th></th>\n",
       "    </tr>\n",
       "  </thead>\n",
       "  <tbody>\n",
       "    <tr>\n",
       "      <th>операции с автомобилем</th>\n",
       "      <td>4279</td>\n",
       "      <td>400</td>\n",
       "      <td>9.35</td>\n",
       "    </tr>\n",
       "    <tr>\n",
       "      <th>операции с недвижимостью</th>\n",
       "      <td>10751</td>\n",
       "      <td>780</td>\n",
       "      <td>7.26</td>\n",
       "    </tr>\n",
       "    <tr>\n",
       "      <th>получение образования</th>\n",
       "      <td>3988</td>\n",
       "      <td>369</td>\n",
       "      <td>9.25</td>\n",
       "    </tr>\n",
       "    <tr>\n",
       "      <th>проведение свадьбы</th>\n",
       "      <td>2313</td>\n",
       "      <td>183</td>\n",
       "      <td>7.91</td>\n",
       "    </tr>\n",
       "  </tbody>\n",
       "</table>\n",
       "</div>"
      ],
      "text/plain": [
       "                         Количество клиентов  \\\n",
       "                                               \n",
       "purpose_category                               \n",
       "операции с автомобилем                  4279   \n",
       "операции с недвижимостью               10751   \n",
       "получение образования                   3988   \n",
       "проведение свадьбы                      2313   \n",
       "\n",
       "                         Количество клиентов с задолженностью  \\\n",
       "                                                                \n",
       "purpose_category                                                \n",
       "операции с автомобилем                                    400   \n",
       "операции с недвижимостью                                  780   \n",
       "получение образования                                     369   \n",
       "проведение свадьбы                                        183   \n",
       "\n",
       "                         Процент задолженности  \n",
       "                                                \n",
       "purpose_category                                \n",
       "операции с автомобилем                    9.35  \n",
       "операции с недвижимостью                  7.26  \n",
       "получение образования                     9.25  \n",
       "проведение свадьбы                        7.91  "
      ]
     },
     "execution_count": 39,
     "metadata": {},
     "output_type": "execute_result"
    }
   ],
   "source": [
    "debt_purpose = data.pivot_table(index = 'purpose_category', values='debt', aggfunc = ['count', 'sum', lambda x: round(np.mean(x)*100,2)])\n",
    "debt_purpose = debt_purpose.rename(columns={'count':'Количество клиентов', 'sum':'Количество клиентов с задолженностью', \n",
    "                                       '<lambda>': 'Процент задолженности', 'debt':''})\n",
    "\n",
    "debt_purpose"
   ]
  },
  {
   "cell_type": "markdown",
   "id": "c46da23e",
   "metadata": {
    "deletable": false,
    "id": "b4bb2ce6"
   },
   "source": [
    "**Вывод:** Самый высокий процент задолженности у кредитов, выданных на операции с автомобилем. Самый низкий - операции с недвижимостью."
   ]
  },
  {
   "cell_type": "markdown",
   "id": "769e9d39",
   "metadata": {
    "deletable": false,
    "editable": false,
    "id": "09c3ac4c"
   },
   "source": [
    "#### 3.5 Приведите возможные причины появления пропусков в исходных данных."
   ]
  },
  {
   "cell_type": "markdown",
   "id": "fe3a2d09",
   "metadata": {
    "deletable": false,
    "id": "9da2ceda"
   },
   "source": [
    "**Ответ:** к возможным причинам пропусков в исходных данных может послужить человеческий фактор (забыли внести) "
   ]
  },
  {
   "cell_type": "markdown",
   "id": "e24590fd",
   "metadata": {
    "deletable": false,
    "editable": false,
    "id": "7b0487d6"
   },
   "source": [
    "#### 3.6 Объясните, почему заполнить пропуски медианным значением — лучшее решение для количественных переменных."
   ]
  },
  {
   "cell_type": "markdown",
   "id": "3bc050f4",
   "metadata": {
    "deletable": false,
    "id": "7ecf2b8e"
   },
   "source": [
    "**Ответ:** Медианные значения наиболее приближены к реальным. В случае использований среднего арифмитечского для пропусков, какое-либо крайное значение изменит всю картину. "
   ]
  },
  {
   "cell_type": "markdown",
   "id": "c6eb50a7",
   "metadata": {
    "deletable": false,
    "editable": false,
    "id": "6db5255a"
   },
   "source": [
    "### Шаг 4: общий вывод."
   ]
  },
  {
   "cell_type": "markdown",
   "id": "a37087ee",
   "metadata": {
    "deletable": false,
    "id": "bad65432"
   },
   "source": [
    "Лучше выплачивают кредиты клиенты без детей, вдовы\\вдовцы, с доходом от 50 000 до 200 000 в год, взвшие кредит для операции с недвижимостью. "
   ]
  },
  {
   "cell_type": "markdown",
   "id": "cf4d6d42",
   "metadata": {},
   "source": [
    "\"Идеальным\" клиентом с точки зрения анализа данных является тот, кто взял кредит на операцию с недвижимостью. Минимальный риск задолжности вероятен у клиентов с семейным положением \"вдова/вдовец\". Безопасно будет выдать кредит клиентам без детей. \n",
    "\"Опасными\" клиентами можно считать тех, кто взял кредит на финансовые операции с автомобилем. Высокий риск вызывают клиенты, несостоящие в браке. Ну и хуже кредиты возращают клиенты с двумя детьми. Такая категория анализа как \"уровень дохода\" не репрезентативна. "
   ]
  }
 ],
 "metadata": {
  "ExecuteTimeLog": [
   {
    "duration": 48,
    "start_time": "2022-11-01T00:02:51.815Z"
   },
   {
    "duration": 497,
    "start_time": "2022-11-01T00:03:02.718Z"
   },
   {
    "duration": 22,
    "start_time": "2022-11-01T00:03:03.218Z"
   },
   {
    "duration": 15,
    "start_time": "2022-11-01T00:03:03.242Z"
   },
   {
    "duration": 19,
    "start_time": "2022-11-01T00:03:03.259Z"
   },
   {
    "duration": 52,
    "start_time": "2022-11-01T00:03:03.280Z"
   },
   {
    "duration": 3,
    "start_time": "2022-11-01T00:03:03.334Z"
   },
   {
    "duration": 41,
    "start_time": "2022-11-01T00:03:03.339Z"
   },
   {
    "duration": 18,
    "start_time": "2022-11-01T00:03:03.381Z"
   },
   {
    "duration": 29,
    "start_time": "2022-11-01T00:03:03.401Z"
   },
   {
    "duration": 15,
    "start_time": "2022-11-01T00:03:03.433Z"
   },
   {
    "duration": 55,
    "start_time": "2022-11-01T00:03:03.450Z"
   },
   {
    "duration": 13,
    "start_time": "2022-11-01T00:03:03.507Z"
   },
   {
    "duration": 20,
    "start_time": "2022-11-01T00:03:03.522Z"
   },
   {
    "duration": 37,
    "start_time": "2022-11-01T00:03:03.544Z"
   },
   {
    "duration": 28,
    "start_time": "2022-11-01T00:03:03.582Z"
   },
   {
    "duration": 17,
    "start_time": "2022-11-01T00:03:03.612Z"
   },
   {
    "duration": 14,
    "start_time": "2022-11-01T00:03:03.630Z"
   },
   {
    "duration": 40,
    "start_time": "2022-11-01T00:03:03.645Z"
   },
   {
    "duration": 34,
    "start_time": "2022-11-01T00:03:03.687Z"
   },
   {
    "duration": 21,
    "start_time": "2022-11-01T00:03:03.723Z"
   },
   {
    "duration": 24,
    "start_time": "2022-11-01T00:03:03.746Z"
   },
   {
    "duration": 35,
    "start_time": "2022-11-01T00:03:03.772Z"
   },
   {
    "duration": 23,
    "start_time": "2022-11-01T00:03:03.808Z"
   },
   {
    "duration": 24,
    "start_time": "2022-11-01T00:03:03.833Z"
   },
   {
    "duration": 32,
    "start_time": "2022-11-01T00:03:03.858Z"
   },
   {
    "duration": 7,
    "start_time": "2022-11-01T00:03:15.949Z"
   },
   {
    "duration": 8,
    "start_time": "2022-11-01T00:03:40.190Z"
   },
   {
    "duration": 31,
    "start_time": "2022-11-01T00:04:40.030Z"
   },
   {
    "duration": 10,
    "start_time": "2022-11-01T00:04:50.219Z"
   },
   {
    "duration": 8,
    "start_time": "2022-11-01T00:05:00.321Z"
   },
   {
    "duration": 5,
    "start_time": "2022-11-01T00:05:11.080Z"
   },
   {
    "duration": 7,
    "start_time": "2022-11-01T00:05:20.426Z"
   },
   {
    "duration": 23,
    "start_time": "2022-11-01T00:07:03.729Z"
   },
   {
    "duration": 25,
    "start_time": "2022-11-01T00:08:12.688Z"
   },
   {
    "duration": 15,
    "start_time": "2022-11-01T00:09:53.850Z"
   },
   {
    "duration": 10,
    "start_time": "2022-11-01T00:10:05.719Z"
   },
   {
    "duration": 15,
    "start_time": "2022-11-01T00:10:41.879Z"
   },
   {
    "duration": 16,
    "start_time": "2022-11-01T00:12:38.975Z"
   },
   {
    "duration": 731,
    "start_time": "2022-11-01T15:20:22.198Z"
   },
   {
    "duration": 24,
    "start_time": "2022-11-01T15:20:22.936Z"
   },
   {
    "duration": 15,
    "start_time": "2022-11-01T15:20:22.962Z"
   },
   {
    "duration": 10,
    "start_time": "2022-11-01T15:20:22.980Z"
   },
   {
    "duration": 53,
    "start_time": "2022-11-01T15:20:22.992Z"
   },
   {
    "duration": 3,
    "start_time": "2022-11-01T15:20:23.047Z"
   },
   {
    "duration": 14,
    "start_time": "2022-11-01T15:20:23.052Z"
   },
   {
    "duration": 4,
    "start_time": "2022-11-01T15:20:23.068Z"
   },
   {
    "duration": 9,
    "start_time": "2022-11-01T15:20:23.073Z"
   },
   {
    "duration": 6,
    "start_time": "2022-11-01T15:20:23.084Z"
   },
   {
    "duration": 57,
    "start_time": "2022-11-01T15:20:23.091Z"
   },
   {
    "duration": 9,
    "start_time": "2022-11-01T15:20:23.149Z"
   },
   {
    "duration": 3,
    "start_time": "2022-11-01T15:20:23.159Z"
   },
   {
    "duration": 13,
    "start_time": "2022-11-01T15:20:23.163Z"
   },
   {
    "duration": 19,
    "start_time": "2022-11-01T15:20:23.178Z"
   },
   {
    "duration": 20,
    "start_time": "2022-11-01T15:20:23.224Z"
   },
   {
    "duration": 8,
    "start_time": "2022-11-01T15:20:23.245Z"
   },
   {
    "duration": 12,
    "start_time": "2022-11-01T15:20:23.255Z"
   },
   {
    "duration": 10,
    "start_time": "2022-11-01T15:20:23.268Z"
   },
   {
    "duration": 4,
    "start_time": "2022-11-01T15:20:23.279Z"
   },
   {
    "duration": 20,
    "start_time": "2022-11-01T15:20:23.285Z"
   },
   {
    "duration": 21,
    "start_time": "2022-11-01T15:20:23.307Z"
   },
   {
    "duration": 13,
    "start_time": "2022-11-01T15:20:23.329Z"
   },
   {
    "duration": 5,
    "start_time": "2022-11-01T15:20:23.343Z"
   },
   {
    "duration": 9,
    "start_time": "2022-11-01T15:20:23.349Z"
   },
   {
    "duration": 6,
    "start_time": "2022-11-01T15:21:12.448Z"
   },
   {
    "duration": 8,
    "start_time": "2022-11-01T15:21:37.435Z"
   },
   {
    "duration": 5,
    "start_time": "2022-11-01T15:21:48.560Z"
   },
   {
    "duration": 6,
    "start_time": "2022-11-01T15:26:20.663Z"
   },
   {
    "duration": 7,
    "start_time": "2022-11-01T15:26:48.744Z"
   },
   {
    "duration": 6,
    "start_time": "2022-11-01T15:27:05.640Z"
   },
   {
    "duration": 2,
    "start_time": "2022-11-01T15:29:38.227Z"
   },
   {
    "duration": 4,
    "start_time": "2022-11-01T15:34:52.938Z"
   },
   {
    "duration": 61,
    "start_time": "2022-11-01T15:35:32.806Z"
   },
   {
    "duration": 920,
    "start_time": "2022-11-01T15:35:47.712Z"
   },
   {
    "duration": 8,
    "start_time": "2022-11-01T15:36:33.387Z"
   },
   {
    "duration": 21,
    "start_time": "2022-11-01T15:38:39.279Z"
   },
   {
    "duration": 28,
    "start_time": "2022-11-01T15:38:49.103Z"
   },
   {
    "duration": 19,
    "start_time": "2022-11-01T15:38:54.387Z"
   },
   {
    "duration": 24,
    "start_time": "2022-11-01T15:40:17.291Z"
   },
   {
    "duration": 25,
    "start_time": "2022-11-01T15:41:16.315Z"
   },
   {
    "duration": 25,
    "start_time": "2022-11-01T15:42:05.391Z"
   },
   {
    "duration": 22,
    "start_time": "2022-11-01T15:42:25.627Z"
   },
   {
    "duration": 41,
    "start_time": "2022-11-01T15:51:49.094Z"
   },
   {
    "duration": 13,
    "start_time": "2022-11-01T16:04:05.233Z"
   },
   {
    "duration": 67,
    "start_time": "2022-11-01T16:04:12.275Z"
   },
   {
    "duration": 14,
    "start_time": "2022-11-01T16:04:12.344Z"
   },
   {
    "duration": 17,
    "start_time": "2022-11-01T16:04:12.360Z"
   },
   {
    "duration": 19,
    "start_time": "2022-11-01T16:04:12.380Z"
   },
   {
    "duration": 42,
    "start_time": "2022-11-01T16:04:12.400Z"
   },
   {
    "duration": 4,
    "start_time": "2022-11-01T16:04:12.444Z"
   },
   {
    "duration": 10,
    "start_time": "2022-11-01T16:04:12.450Z"
   },
   {
    "duration": 10,
    "start_time": "2022-11-01T16:04:12.462Z"
   },
   {
    "duration": 7,
    "start_time": "2022-11-01T16:04:12.474Z"
   },
   {
    "duration": 17,
    "start_time": "2022-11-01T16:04:12.484Z"
   },
   {
    "duration": 48,
    "start_time": "2022-11-01T16:04:12.502Z"
   },
   {
    "duration": 11,
    "start_time": "2022-11-01T16:04:12.551Z"
   },
   {
    "duration": 6,
    "start_time": "2022-11-01T16:04:12.564Z"
   },
   {
    "duration": 17,
    "start_time": "2022-11-01T16:04:12.571Z"
   },
   {
    "duration": 40,
    "start_time": "2022-11-01T16:04:12.590Z"
   },
   {
    "duration": 20,
    "start_time": "2022-11-01T16:04:12.632Z"
   },
   {
    "duration": 3,
    "start_time": "2022-11-01T16:04:12.654Z"
   },
   {
    "duration": 18,
    "start_time": "2022-11-01T16:04:12.658Z"
   },
   {
    "duration": 23,
    "start_time": "2022-11-01T16:04:12.678Z"
   },
   {
    "duration": 18,
    "start_time": "2022-11-01T16:04:12.703Z"
   },
   {
    "duration": 19,
    "start_time": "2022-11-01T16:04:12.723Z"
   },
   {
    "duration": 41,
    "start_time": "2022-11-01T16:04:12.744Z"
   },
   {
    "duration": 2,
    "start_time": "2022-11-01T16:04:12.787Z"
   },
   {
    "duration": 8,
    "start_time": "2022-11-01T16:04:12.791Z"
   },
   {
    "duration": 5,
    "start_time": "2022-11-01T16:04:12.800Z"
   },
   {
    "duration": 15,
    "start_time": "2022-11-01T16:04:20.290Z"
   },
   {
    "duration": 11,
    "start_time": "2022-11-01T16:04:33.288Z"
   },
   {
    "duration": 67,
    "start_time": "2022-11-01T16:04:38.453Z"
   },
   {
    "duration": 15,
    "start_time": "2022-11-01T16:04:38.521Z"
   },
   {
    "duration": 15,
    "start_time": "2022-11-01T16:04:38.537Z"
   },
   {
    "duration": 9,
    "start_time": "2022-11-01T16:04:38.554Z"
   },
   {
    "duration": 29,
    "start_time": "2022-11-01T16:04:38.564Z"
   },
   {
    "duration": 4,
    "start_time": "2022-11-01T16:04:38.594Z"
   },
   {
    "duration": 7,
    "start_time": "2022-11-01T16:04:38.621Z"
   },
   {
    "duration": 5,
    "start_time": "2022-11-01T16:04:38.630Z"
   },
   {
    "duration": 9,
    "start_time": "2022-11-01T16:04:38.636Z"
   },
   {
    "duration": 7,
    "start_time": "2022-11-01T16:04:38.648Z"
   },
   {
    "duration": 33,
    "start_time": "2022-11-01T16:04:38.657Z"
   },
   {
    "duration": 30,
    "start_time": "2022-11-01T16:04:38.692Z"
   },
   {
    "duration": 4,
    "start_time": "2022-11-01T16:04:38.723Z"
   },
   {
    "duration": 14,
    "start_time": "2022-11-01T16:04:38.728Z"
   },
   {
    "duration": 26,
    "start_time": "2022-11-01T16:04:38.744Z"
   },
   {
    "duration": 18,
    "start_time": "2022-11-01T16:04:38.771Z"
   },
   {
    "duration": 3,
    "start_time": "2022-11-01T16:04:38.790Z"
   },
   {
    "duration": 29,
    "start_time": "2022-11-01T16:04:38.795Z"
   },
   {
    "duration": 30,
    "start_time": "2022-11-01T16:04:38.825Z"
   },
   {
    "duration": 4,
    "start_time": "2022-11-01T16:04:38.857Z"
   },
   {
    "duration": 18,
    "start_time": "2022-11-01T16:04:38.863Z"
   },
   {
    "duration": 44,
    "start_time": "2022-11-01T16:04:38.883Z"
   },
   {
    "duration": 2,
    "start_time": "2022-11-01T16:04:38.929Z"
   },
   {
    "duration": 5,
    "start_time": "2022-11-01T16:04:38.933Z"
   },
   {
    "duration": 24,
    "start_time": "2022-11-01T16:04:38.940Z"
   },
   {
    "duration": 17,
    "start_time": "2022-11-01T16:07:44.971Z"
   },
   {
    "duration": 17,
    "start_time": "2022-11-01T16:08:21.626Z"
   },
   {
    "duration": 81,
    "start_time": "2022-11-01T16:08:25.790Z"
   },
   {
    "duration": 17,
    "start_time": "2022-11-01T16:08:25.874Z"
   },
   {
    "duration": 51,
    "start_time": "2022-11-01T16:08:25.893Z"
   },
   {
    "duration": 39,
    "start_time": "2022-11-01T16:08:25.946Z"
   },
   {
    "duration": 51,
    "start_time": "2022-11-01T16:08:25.987Z"
   },
   {
    "duration": 3,
    "start_time": "2022-11-01T16:08:26.040Z"
   },
   {
    "duration": 59,
    "start_time": "2022-11-01T16:08:26.044Z"
   },
   {
    "duration": 22,
    "start_time": "2022-11-01T16:08:26.104Z"
   },
   {
    "duration": 25,
    "start_time": "2022-11-01T16:08:26.127Z"
   },
   {
    "duration": 14,
    "start_time": "2022-11-01T16:08:26.154Z"
   },
   {
    "duration": 60,
    "start_time": "2022-11-01T16:08:26.169Z"
   },
   {
    "duration": 27,
    "start_time": "2022-11-01T16:08:26.231Z"
   },
   {
    "duration": 19,
    "start_time": "2022-11-01T16:08:26.260Z"
   },
   {
    "duration": 24,
    "start_time": "2022-11-01T16:08:26.281Z"
   },
   {
    "duration": 59,
    "start_time": "2022-11-01T16:08:26.307Z"
   },
   {
    "duration": 22,
    "start_time": "2022-11-01T16:08:26.368Z"
   },
   {
    "duration": 25,
    "start_time": "2022-11-01T16:08:26.392Z"
   },
   {
    "duration": 55,
    "start_time": "2022-11-01T16:08:26.419Z"
   },
   {
    "duration": 42,
    "start_time": "2022-11-01T16:08:26.475Z"
   },
   {
    "duration": 11,
    "start_time": "2022-11-01T16:08:26.519Z"
   },
   {
    "duration": 38,
    "start_time": "2022-11-01T16:08:26.532Z"
   },
   {
    "duration": 52,
    "start_time": "2022-11-01T16:08:26.571Z"
   },
   {
    "duration": 6,
    "start_time": "2022-11-01T16:08:26.625Z"
   },
   {
    "duration": 37,
    "start_time": "2022-11-01T16:08:26.632Z"
   },
   {
    "duration": 12,
    "start_time": "2022-11-01T16:08:26.670Z"
   },
   {
    "duration": 18,
    "start_time": "2022-11-01T16:10:34.774Z"
   },
   {
    "duration": 64,
    "start_time": "2022-11-01T16:10:38.683Z"
   },
   {
    "duration": 15,
    "start_time": "2022-11-01T16:10:38.748Z"
   },
   {
    "duration": 32,
    "start_time": "2022-11-01T16:10:38.764Z"
   },
   {
    "duration": 14,
    "start_time": "2022-11-01T16:10:38.798Z"
   },
   {
    "duration": 81,
    "start_time": "2022-11-01T16:10:38.814Z"
   },
   {
    "duration": 4,
    "start_time": "2022-11-01T16:10:38.897Z"
   },
   {
    "duration": 25,
    "start_time": "2022-11-01T16:10:38.903Z"
   },
   {
    "duration": 5,
    "start_time": "2022-11-01T16:10:38.929Z"
   },
   {
    "duration": 35,
    "start_time": "2022-11-01T16:10:38.936Z"
   },
   {
    "duration": 17,
    "start_time": "2022-11-01T16:10:38.972Z"
   },
   {
    "duration": 50,
    "start_time": "2022-11-01T16:10:38.991Z"
   },
   {
    "duration": 11,
    "start_time": "2022-11-01T16:10:39.043Z"
   },
   {
    "duration": 19,
    "start_time": "2022-11-01T16:10:39.056Z"
   },
   {
    "duration": 33,
    "start_time": "2022-11-01T16:10:39.077Z"
   },
   {
    "duration": 26,
    "start_time": "2022-11-01T16:10:39.112Z"
   },
   {
    "duration": 19,
    "start_time": "2022-11-01T16:10:39.142Z"
   },
   {
    "duration": 5,
    "start_time": "2022-11-01T16:10:39.164Z"
   },
   {
    "duration": 17,
    "start_time": "2022-11-01T16:10:39.171Z"
   },
   {
    "duration": 13,
    "start_time": "2022-11-01T16:10:39.190Z"
   },
   {
    "duration": 4,
    "start_time": "2022-11-01T16:10:39.205Z"
   },
   {
    "duration": 18,
    "start_time": "2022-11-01T16:10:39.211Z"
   },
   {
    "duration": 56,
    "start_time": "2022-11-01T16:10:39.231Z"
   },
   {
    "duration": 0,
    "start_time": "2022-11-01T16:10:39.289Z"
   },
   {
    "duration": 0,
    "start_time": "2022-11-01T16:10:39.290Z"
   },
   {
    "duration": 0,
    "start_time": "2022-11-01T16:10:39.291Z"
   },
   {
    "duration": 13,
    "start_time": "2022-11-01T16:11:43.163Z"
   },
   {
    "duration": 62,
    "start_time": "2022-11-01T16:11:50.189Z"
   },
   {
    "duration": 14,
    "start_time": "2022-11-01T16:11:50.253Z"
   },
   {
    "duration": 21,
    "start_time": "2022-11-01T16:11:50.269Z"
   },
   {
    "duration": 39,
    "start_time": "2022-11-01T16:11:50.293Z"
   },
   {
    "duration": 31,
    "start_time": "2022-11-01T16:11:50.334Z"
   },
   {
    "duration": 4,
    "start_time": "2022-11-01T16:11:50.367Z"
   },
   {
    "duration": 12,
    "start_time": "2022-11-01T16:11:50.372Z"
   },
   {
    "duration": 12,
    "start_time": "2022-11-01T16:11:50.386Z"
   },
   {
    "duration": 28,
    "start_time": "2022-11-01T16:11:50.400Z"
   },
   {
    "duration": 6,
    "start_time": "2022-11-01T16:11:50.431Z"
   },
   {
    "duration": 34,
    "start_time": "2022-11-01T16:11:50.439Z"
   },
   {
    "duration": 10,
    "start_time": "2022-11-01T16:11:50.475Z"
   },
   {
    "duration": 7,
    "start_time": "2022-11-01T16:11:50.486Z"
   },
   {
    "duration": 41,
    "start_time": "2022-11-01T16:11:50.495Z"
   },
   {
    "duration": 20,
    "start_time": "2022-11-01T16:11:50.538Z"
   },
   {
    "duration": 16,
    "start_time": "2022-11-01T16:11:50.560Z"
   },
   {
    "duration": 4,
    "start_time": "2022-11-01T16:11:50.578Z"
   },
   {
    "duration": 17,
    "start_time": "2022-11-01T16:11:50.584Z"
   },
   {
    "duration": 8,
    "start_time": "2022-11-01T16:11:50.620Z"
   },
   {
    "duration": 4,
    "start_time": "2022-11-01T16:11:50.629Z"
   },
   {
    "duration": 13,
    "start_time": "2022-11-01T16:11:50.635Z"
   },
   {
    "duration": 101,
    "start_time": "2022-11-01T16:11:50.650Z"
   },
   {
    "duration": 2,
    "start_time": "2022-11-01T16:11:50.753Z"
   },
   {
    "duration": 8,
    "start_time": "2022-11-01T16:11:50.757Z"
   },
   {
    "duration": 9,
    "start_time": "2022-11-01T16:11:50.766Z"
   },
   {
    "duration": 13,
    "start_time": "2022-11-01T16:12:33.703Z"
   },
   {
    "duration": 63,
    "start_time": "2022-11-01T16:12:37.079Z"
   },
   {
    "duration": 15,
    "start_time": "2022-11-01T16:12:37.143Z"
   },
   {
    "duration": 15,
    "start_time": "2022-11-01T16:12:37.160Z"
   },
   {
    "duration": 10,
    "start_time": "2022-11-01T16:12:37.177Z"
   },
   {
    "duration": 53,
    "start_time": "2022-11-01T16:12:37.189Z"
   },
   {
    "duration": 3,
    "start_time": "2022-11-01T16:12:37.243Z"
   },
   {
    "duration": 10,
    "start_time": "2022-11-01T16:12:37.248Z"
   },
   {
    "duration": 12,
    "start_time": "2022-11-01T16:12:37.261Z"
   },
   {
    "duration": 15,
    "start_time": "2022-11-01T16:12:37.274Z"
   },
   {
    "duration": 7,
    "start_time": "2022-11-01T16:12:37.290Z"
   },
   {
    "duration": 54,
    "start_time": "2022-11-01T16:12:37.299Z"
   },
   {
    "duration": 14,
    "start_time": "2022-11-01T16:12:37.355Z"
   },
   {
    "duration": 5,
    "start_time": "2022-11-01T16:12:37.371Z"
   },
   {
    "duration": 18,
    "start_time": "2022-11-01T16:12:37.379Z"
   },
   {
    "duration": 28,
    "start_time": "2022-11-01T16:12:37.420Z"
   },
   {
    "duration": 17,
    "start_time": "2022-11-01T16:12:37.450Z"
   },
   {
    "duration": 4,
    "start_time": "2022-11-01T16:12:37.469Z"
   },
   {
    "duration": 36,
    "start_time": "2022-11-01T16:12:37.474Z"
   },
   {
    "duration": 18,
    "start_time": "2022-11-01T16:12:37.512Z"
   },
   {
    "duration": 4,
    "start_time": "2022-11-01T16:12:37.532Z"
   },
   {
    "duration": 15,
    "start_time": "2022-11-01T16:12:37.538Z"
   },
   {
    "duration": 85,
    "start_time": "2022-11-01T16:12:37.555Z"
   },
   {
    "duration": 2,
    "start_time": "2022-11-01T16:12:37.642Z"
   },
   {
    "duration": 15,
    "start_time": "2022-11-01T16:12:37.646Z"
   },
   {
    "duration": 13,
    "start_time": "2022-11-01T16:12:37.663Z"
   },
   {
    "duration": 15,
    "start_time": "2022-11-01T16:17:08.722Z"
   },
   {
    "duration": 63,
    "start_time": "2022-11-01T16:17:12.170Z"
   },
   {
    "duration": 16,
    "start_time": "2022-11-01T16:17:12.235Z"
   },
   {
    "duration": 16,
    "start_time": "2022-11-01T16:17:12.253Z"
   },
   {
    "duration": 10,
    "start_time": "2022-11-01T16:17:12.271Z"
   },
   {
    "duration": 63,
    "start_time": "2022-11-01T16:17:12.284Z"
   },
   {
    "duration": 3,
    "start_time": "2022-11-01T16:17:12.349Z"
   },
   {
    "duration": 17,
    "start_time": "2022-11-01T16:17:12.354Z"
   },
   {
    "duration": 18,
    "start_time": "2022-11-01T16:17:12.373Z"
   },
   {
    "duration": 14,
    "start_time": "2022-11-01T16:17:12.393Z"
   },
   {
    "duration": 14,
    "start_time": "2022-11-01T16:17:12.409Z"
   },
   {
    "duration": 43,
    "start_time": "2022-11-01T16:17:12.425Z"
   },
   {
    "duration": 9,
    "start_time": "2022-11-01T16:17:12.469Z"
   },
   {
    "duration": 15,
    "start_time": "2022-11-01T16:17:12.480Z"
   },
   {
    "duration": 14,
    "start_time": "2022-11-01T16:17:12.497Z"
   },
   {
    "duration": 49,
    "start_time": "2022-11-01T16:17:12.513Z"
   },
   {
    "duration": 18,
    "start_time": "2022-11-01T16:17:12.563Z"
   },
   {
    "duration": 3,
    "start_time": "2022-11-01T16:17:12.583Z"
   },
   {
    "duration": 12,
    "start_time": "2022-11-01T16:17:12.588Z"
   },
   {
    "duration": 6,
    "start_time": "2022-11-01T16:17:12.602Z"
   },
   {
    "duration": 7,
    "start_time": "2022-11-01T16:17:12.609Z"
   },
   {
    "duration": 20,
    "start_time": "2022-11-01T16:17:12.617Z"
   },
   {
    "duration": 65,
    "start_time": "2022-11-01T16:17:12.639Z"
   },
   {
    "duration": 3,
    "start_time": "2022-11-01T16:17:12.706Z"
   },
   {
    "duration": 29,
    "start_time": "2022-11-01T16:17:12.711Z"
   },
   {
    "duration": 21,
    "start_time": "2022-11-01T16:17:12.742Z"
   },
   {
    "duration": 13,
    "start_time": "2022-11-01T16:17:32.667Z"
   },
   {
    "duration": 66,
    "start_time": "2022-11-01T16:17:36.734Z"
   },
   {
    "duration": 14,
    "start_time": "2022-11-01T16:17:36.802Z"
   },
   {
    "duration": 15,
    "start_time": "2022-11-01T16:17:36.817Z"
   },
   {
    "duration": 10,
    "start_time": "2022-11-01T16:17:36.834Z"
   },
   {
    "duration": 30,
    "start_time": "2022-11-01T16:17:36.846Z"
   },
   {
    "duration": 3,
    "start_time": "2022-11-01T16:17:36.878Z"
   },
   {
    "duration": 13,
    "start_time": "2022-11-01T16:17:36.882Z"
   },
   {
    "duration": 4,
    "start_time": "2022-11-01T16:17:36.897Z"
   },
   {
    "duration": 5,
    "start_time": "2022-11-01T16:17:36.921Z"
   },
   {
    "duration": 5,
    "start_time": "2022-11-01T16:17:36.928Z"
   },
   {
    "duration": 31,
    "start_time": "2022-11-01T16:17:36.935Z"
   },
   {
    "duration": 9,
    "start_time": "2022-11-01T16:17:36.967Z"
   },
   {
    "duration": 4,
    "start_time": "2022-11-01T16:17:36.977Z"
   },
   {
    "duration": 40,
    "start_time": "2022-11-01T16:17:36.983Z"
   },
   {
    "duration": 30,
    "start_time": "2022-11-01T16:17:37.024Z"
   },
   {
    "duration": 29,
    "start_time": "2022-11-01T16:17:37.055Z"
   },
   {
    "duration": 7,
    "start_time": "2022-11-01T16:17:37.086Z"
   },
   {
    "duration": 16,
    "start_time": "2022-11-01T16:17:37.094Z"
   },
   {
    "duration": 14,
    "start_time": "2022-11-01T16:17:37.111Z"
   },
   {
    "duration": 16,
    "start_time": "2022-11-01T16:17:37.126Z"
   },
   {
    "duration": 33,
    "start_time": "2022-11-01T16:17:37.144Z"
   },
   {
    "duration": 65,
    "start_time": "2022-11-01T16:17:37.179Z"
   },
   {
    "duration": 14,
    "start_time": "2022-11-01T16:17:37.246Z"
   },
   {
    "duration": 23,
    "start_time": "2022-11-01T16:17:37.261Z"
   },
   {
    "duration": 24,
    "start_time": "2022-11-01T16:17:37.285Z"
   },
   {
    "duration": 62,
    "start_time": "2022-11-01T16:18:09.626Z"
   },
   {
    "duration": 15,
    "start_time": "2022-11-01T16:18:09.690Z"
   },
   {
    "duration": 17,
    "start_time": "2022-11-01T16:18:09.706Z"
   },
   {
    "duration": 8,
    "start_time": "2022-11-01T16:18:09.726Z"
   },
   {
    "duration": 34,
    "start_time": "2022-11-01T16:18:09.736Z"
   },
   {
    "duration": 3,
    "start_time": "2022-11-01T16:18:09.772Z"
   },
   {
    "duration": 12,
    "start_time": "2022-11-01T16:18:09.776Z"
   },
   {
    "duration": 7,
    "start_time": "2022-11-01T16:18:09.790Z"
   },
   {
    "duration": 26,
    "start_time": "2022-11-01T16:18:09.798Z"
   },
   {
    "duration": 6,
    "start_time": "2022-11-01T16:18:09.827Z"
   },
   {
    "duration": 48,
    "start_time": "2022-11-01T16:18:09.835Z"
   },
   {
    "duration": 9,
    "start_time": "2022-11-01T16:18:09.885Z"
   },
   {
    "duration": 7,
    "start_time": "2022-11-01T16:18:09.895Z"
   },
   {
    "duration": 21,
    "start_time": "2022-11-01T16:18:09.903Z"
   },
   {
    "duration": 19,
    "start_time": "2022-11-01T16:18:09.925Z"
   },
   {
    "duration": 16,
    "start_time": "2022-11-01T16:18:09.946Z"
   },
   {
    "duration": 4,
    "start_time": "2022-11-01T16:18:09.964Z"
   },
   {
    "duration": 12,
    "start_time": "2022-11-01T16:18:09.969Z"
   },
   {
    "duration": 5,
    "start_time": "2022-11-01T16:18:09.983Z"
   },
   {
    "duration": 35,
    "start_time": "2022-11-01T16:18:09.990Z"
   },
   {
    "duration": 21,
    "start_time": "2022-11-01T16:18:10.028Z"
   },
   {
    "duration": 56,
    "start_time": "2022-11-01T16:18:10.052Z"
   },
   {
    "duration": 11,
    "start_time": "2022-11-01T16:18:10.110Z"
   },
   {
    "duration": 8,
    "start_time": "2022-11-01T16:18:10.123Z"
   },
   {
    "duration": 9,
    "start_time": "2022-11-01T16:18:10.132Z"
   },
   {
    "duration": 65,
    "start_time": "2022-11-01T16:18:50.032Z"
   },
   {
    "duration": 15,
    "start_time": "2022-11-01T16:18:50.099Z"
   },
   {
    "duration": 20,
    "start_time": "2022-11-01T16:18:50.116Z"
   },
   {
    "duration": 9,
    "start_time": "2022-11-01T16:18:50.139Z"
   },
   {
    "duration": 44,
    "start_time": "2022-11-01T16:18:50.150Z"
   },
   {
    "duration": 3,
    "start_time": "2022-11-01T16:18:50.196Z"
   },
   {
    "duration": 14,
    "start_time": "2022-11-01T16:18:50.200Z"
   },
   {
    "duration": 8,
    "start_time": "2022-11-01T16:18:50.216Z"
   },
   {
    "duration": 35,
    "start_time": "2022-11-01T16:18:50.226Z"
   },
   {
    "duration": 13,
    "start_time": "2022-11-01T16:18:50.263Z"
   },
   {
    "duration": 30,
    "start_time": "2022-11-01T16:18:50.277Z"
   },
   {
    "duration": 9,
    "start_time": "2022-11-01T16:18:50.309Z"
   },
   {
    "duration": 20,
    "start_time": "2022-11-01T16:18:50.319Z"
   },
   {
    "duration": 13,
    "start_time": "2022-11-01T16:18:50.341Z"
   },
   {
    "duration": 21,
    "start_time": "2022-11-01T16:18:50.356Z"
   },
   {
    "duration": 16,
    "start_time": "2022-11-01T16:18:50.378Z"
   },
   {
    "duration": 3,
    "start_time": "2022-11-01T16:18:50.396Z"
   },
   {
    "duration": 20,
    "start_time": "2022-11-01T16:18:50.400Z"
   },
   {
    "duration": 5,
    "start_time": "2022-11-01T16:18:50.422Z"
   },
   {
    "duration": 7,
    "start_time": "2022-11-01T16:18:50.429Z"
   },
   {
    "duration": 21,
    "start_time": "2022-11-01T16:18:50.438Z"
   },
   {
    "duration": 21,
    "start_time": "2022-11-01T16:18:50.460Z"
   },
   {
    "duration": 0,
    "start_time": "2022-11-01T16:18:50.483Z"
   },
   {
    "duration": 0,
    "start_time": "2022-11-01T16:18:50.483Z"
   },
   {
    "duration": 0,
    "start_time": "2022-11-01T16:18:50.485Z"
   },
   {
    "duration": 19,
    "start_time": "2022-11-01T16:19:19.643Z"
   },
   {
    "duration": 74,
    "start_time": "2022-11-01T16:19:22.988Z"
   },
   {
    "duration": 16,
    "start_time": "2022-11-01T16:19:23.064Z"
   },
   {
    "duration": 28,
    "start_time": "2022-11-01T16:19:23.081Z"
   },
   {
    "duration": 17,
    "start_time": "2022-11-01T16:19:23.111Z"
   },
   {
    "duration": 42,
    "start_time": "2022-11-01T16:19:23.130Z"
   },
   {
    "duration": 4,
    "start_time": "2022-11-01T16:19:23.174Z"
   },
   {
    "duration": 14,
    "start_time": "2022-11-01T16:19:23.179Z"
   },
   {
    "duration": 13,
    "start_time": "2022-11-01T16:19:23.195Z"
   },
   {
    "duration": 13,
    "start_time": "2022-11-01T16:19:23.210Z"
   },
   {
    "duration": 5,
    "start_time": "2022-11-01T16:19:23.226Z"
   },
   {
    "duration": 36,
    "start_time": "2022-11-01T16:19:23.232Z"
   },
   {
    "duration": 10,
    "start_time": "2022-11-01T16:19:23.270Z"
   },
   {
    "duration": 4,
    "start_time": "2022-11-01T16:19:23.281Z"
   },
   {
    "duration": 44,
    "start_time": "2022-11-01T16:19:23.287Z"
   },
   {
    "duration": 24,
    "start_time": "2022-11-01T16:19:23.332Z"
   },
   {
    "duration": 19,
    "start_time": "2022-11-01T16:19:23.357Z"
   },
   {
    "duration": 4,
    "start_time": "2022-11-01T16:19:23.377Z"
   },
   {
    "duration": 38,
    "start_time": "2022-11-01T16:19:23.383Z"
   },
   {
    "duration": 5,
    "start_time": "2022-11-01T16:19:23.423Z"
   },
   {
    "duration": 5,
    "start_time": "2022-11-01T16:19:23.430Z"
   },
   {
    "duration": 11,
    "start_time": "2022-11-01T16:19:23.436Z"
   },
   {
    "duration": 22,
    "start_time": "2022-11-01T16:19:23.449Z"
   },
   {
    "duration": 0,
    "start_time": "2022-11-01T16:19:23.473Z"
   },
   {
    "duration": 0,
    "start_time": "2022-11-01T16:19:23.474Z"
   },
   {
    "duration": 0,
    "start_time": "2022-11-01T16:19:23.476Z"
   },
   {
    "duration": 89,
    "start_time": "2022-11-01T16:20:57.954Z"
   },
   {
    "duration": 37,
    "start_time": "2022-11-01T16:23:27.096Z"
   },
   {
    "duration": 12,
    "start_time": "2022-11-01T16:36:07.195Z"
   },
   {
    "duration": 69,
    "start_time": "2022-11-01T16:36:10.573Z"
   },
   {
    "duration": 14,
    "start_time": "2022-11-01T16:36:10.643Z"
   },
   {
    "duration": 15,
    "start_time": "2022-11-01T16:36:10.659Z"
   },
   {
    "duration": 9,
    "start_time": "2022-11-01T16:36:10.675Z"
   },
   {
    "duration": 64,
    "start_time": "2022-11-01T16:36:10.686Z"
   },
   {
    "duration": 3,
    "start_time": "2022-11-01T16:36:10.751Z"
   },
   {
    "duration": 10,
    "start_time": "2022-11-01T16:36:10.756Z"
   },
   {
    "duration": 4,
    "start_time": "2022-11-01T16:36:10.768Z"
   },
   {
    "duration": 7,
    "start_time": "2022-11-01T16:36:10.774Z"
   },
   {
    "duration": 46,
    "start_time": "2022-11-01T16:36:10.782Z"
   },
   {
    "duration": 33,
    "start_time": "2022-11-01T16:36:10.830Z"
   },
   {
    "duration": 9,
    "start_time": "2022-11-01T16:36:10.864Z"
   },
   {
    "duration": 4,
    "start_time": "2022-11-01T16:36:10.874Z"
   },
   {
    "duration": 10,
    "start_time": "2022-11-01T16:36:10.880Z"
   },
   {
    "duration": 43,
    "start_time": "2022-11-01T16:36:10.892Z"
   },
   {
    "duration": 17,
    "start_time": "2022-11-01T16:36:10.936Z"
   },
   {
    "duration": 3,
    "start_time": "2022-11-01T16:36:10.955Z"
   },
   {
    "duration": 26,
    "start_time": "2022-11-01T16:36:10.960Z"
   },
   {
    "duration": 7,
    "start_time": "2022-11-01T16:36:10.988Z"
   },
   {
    "duration": 4,
    "start_time": "2022-11-01T16:36:10.997Z"
   },
   {
    "duration": 22,
    "start_time": "2022-11-01T16:36:11.003Z"
   },
   {
    "duration": 43,
    "start_time": "2022-11-01T16:36:11.026Z"
   },
   {
    "duration": 3,
    "start_time": "2022-11-01T16:36:11.070Z"
   },
   {
    "duration": 5,
    "start_time": "2022-11-01T16:36:11.074Z"
   },
   {
    "duration": 4,
    "start_time": "2022-11-01T16:36:11.081Z"
   },
   {
    "duration": 12,
    "start_time": "2022-11-01T16:38:49.639Z"
   },
   {
    "duration": 10,
    "start_time": "2022-11-01T16:38:52.085Z"
   },
   {
    "duration": 67,
    "start_time": "2022-11-01T16:38:54.956Z"
   },
   {
    "duration": 16,
    "start_time": "2022-11-01T16:38:55.025Z"
   },
   {
    "duration": 15,
    "start_time": "2022-11-01T16:38:55.043Z"
   },
   {
    "duration": 9,
    "start_time": "2022-11-01T16:38:55.060Z"
   },
   {
    "duration": 32,
    "start_time": "2022-11-01T16:38:55.070Z"
   },
   {
    "duration": 23,
    "start_time": "2022-11-01T16:38:55.104Z"
   },
   {
    "duration": 12,
    "start_time": "2022-11-01T16:38:55.135Z"
   },
   {
    "duration": 6,
    "start_time": "2022-11-01T16:38:55.148Z"
   },
   {
    "duration": 8,
    "start_time": "2022-11-01T16:38:55.155Z"
   },
   {
    "duration": 4,
    "start_time": "2022-11-01T16:38:55.165Z"
   },
   {
    "duration": 32,
    "start_time": "2022-11-01T16:38:55.171Z"
   },
   {
    "duration": 25,
    "start_time": "2022-11-01T16:38:55.204Z"
   },
   {
    "duration": 5,
    "start_time": "2022-11-01T16:38:55.230Z"
   },
   {
    "duration": 16,
    "start_time": "2022-11-01T16:38:55.236Z"
   },
   {
    "duration": 22,
    "start_time": "2022-11-01T16:38:55.254Z"
   },
   {
    "duration": 26,
    "start_time": "2022-11-01T16:38:55.278Z"
   },
   {
    "duration": 7,
    "start_time": "2022-11-01T16:38:55.321Z"
   },
   {
    "duration": 10,
    "start_time": "2022-11-01T16:38:55.334Z"
   },
   {
    "duration": 8,
    "start_time": "2022-11-01T16:38:55.345Z"
   },
   {
    "duration": 5,
    "start_time": "2022-11-01T16:38:55.355Z"
   },
   {
    "duration": 11,
    "start_time": "2022-11-01T16:38:55.361Z"
   },
   {
    "duration": 35,
    "start_time": "2022-11-01T16:38:55.373Z"
   },
   {
    "duration": 2,
    "start_time": "2022-11-01T16:38:55.422Z"
   },
   {
    "duration": 18,
    "start_time": "2022-11-01T16:38:55.426Z"
   },
   {
    "duration": 5,
    "start_time": "2022-11-01T16:38:55.446Z"
   },
   {
    "duration": 11,
    "start_time": "2022-11-01T16:40:20.772Z"
   },
   {
    "duration": 72,
    "start_time": "2022-11-01T16:40:24.094Z"
   },
   {
    "duration": 17,
    "start_time": "2022-11-01T16:40:24.168Z"
   },
   {
    "duration": 46,
    "start_time": "2022-11-01T16:40:24.186Z"
   },
   {
    "duration": 10,
    "start_time": "2022-11-01T16:40:24.234Z"
   },
   {
    "duration": 60,
    "start_time": "2022-11-01T16:40:24.246Z"
   },
   {
    "duration": 4,
    "start_time": "2022-11-01T16:40:24.308Z"
   },
   {
    "duration": 27,
    "start_time": "2022-11-01T16:40:24.314Z"
   },
   {
    "duration": 21,
    "start_time": "2022-11-01T16:40:24.343Z"
   },
   {
    "duration": 29,
    "start_time": "2022-11-01T16:40:24.366Z"
   },
   {
    "duration": 29,
    "start_time": "2022-11-01T16:40:24.399Z"
   },
   {
    "duration": 44,
    "start_time": "2022-11-01T16:40:24.430Z"
   },
   {
    "duration": 21,
    "start_time": "2022-11-01T16:40:24.476Z"
   },
   {
    "duration": 23,
    "start_time": "2022-11-01T16:40:24.499Z"
   },
   {
    "duration": 27,
    "start_time": "2022-11-01T16:40:24.524Z"
   },
   {
    "duration": 29,
    "start_time": "2022-11-01T16:40:24.553Z"
   },
   {
    "duration": 33,
    "start_time": "2022-11-01T16:40:24.584Z"
   },
   {
    "duration": 3,
    "start_time": "2022-11-01T16:40:24.619Z"
   },
   {
    "duration": 29,
    "start_time": "2022-11-01T16:40:24.624Z"
   },
   {
    "duration": 25,
    "start_time": "2022-11-01T16:40:24.654Z"
   },
   {
    "duration": 28,
    "start_time": "2022-11-01T16:40:24.680Z"
   },
   {
    "duration": 36,
    "start_time": "2022-11-01T16:40:24.710Z"
   },
   {
    "duration": 47,
    "start_time": "2022-11-01T16:40:24.748Z"
   },
   {
    "duration": 7,
    "start_time": "2022-11-01T16:40:24.797Z"
   },
   {
    "duration": 26,
    "start_time": "2022-11-01T16:40:24.806Z"
   },
   {
    "duration": 18,
    "start_time": "2022-11-01T16:40:24.834Z"
   },
   {
    "duration": 66,
    "start_time": "2022-11-01T16:40:34.044Z"
   },
   {
    "duration": 14,
    "start_time": "2022-11-01T16:40:34.111Z"
   },
   {
    "duration": 49,
    "start_time": "2022-11-01T16:40:34.127Z"
   },
   {
    "duration": 24,
    "start_time": "2022-11-01T16:40:34.178Z"
   },
   {
    "duration": 41,
    "start_time": "2022-11-01T16:40:34.203Z"
   },
   {
    "duration": 4,
    "start_time": "2022-11-01T16:40:34.245Z"
   },
   {
    "duration": 22,
    "start_time": "2022-11-01T16:40:34.251Z"
   },
   {
    "duration": 36,
    "start_time": "2022-11-01T16:40:34.275Z"
   },
   {
    "duration": 22,
    "start_time": "2022-11-01T16:40:34.313Z"
   },
   {
    "duration": 12,
    "start_time": "2022-11-01T16:40:34.338Z"
   },
   {
    "duration": 51,
    "start_time": "2022-11-01T16:40:34.352Z"
   },
   {
    "duration": 9,
    "start_time": "2022-11-01T16:40:34.404Z"
   },
   {
    "duration": 18,
    "start_time": "2022-11-01T16:40:34.415Z"
   },
   {
    "duration": 35,
    "start_time": "2022-11-01T16:40:34.435Z"
   },
   {
    "duration": 27,
    "start_time": "2022-11-01T16:40:34.472Z"
   },
   {
    "duration": 27,
    "start_time": "2022-11-01T16:40:34.501Z"
   },
   {
    "duration": 34,
    "start_time": "2022-11-01T16:40:34.530Z"
   },
   {
    "duration": 33,
    "start_time": "2022-11-01T16:40:34.566Z"
   },
   {
    "duration": 7,
    "start_time": "2022-11-01T16:40:34.600Z"
   },
   {
    "duration": 28,
    "start_time": "2022-11-01T16:40:34.609Z"
   },
   {
    "duration": 17,
    "start_time": "2022-11-01T16:40:34.639Z"
   },
   {
    "duration": 51,
    "start_time": "2022-11-01T16:40:34.657Z"
   },
   {
    "duration": 13,
    "start_time": "2022-11-01T16:40:34.710Z"
   },
   {
    "duration": 19,
    "start_time": "2022-11-01T16:40:34.725Z"
   },
   {
    "duration": 25,
    "start_time": "2022-11-01T16:40:34.746Z"
   },
   {
    "duration": 13,
    "start_time": "2022-11-01T16:42:34.652Z"
   },
   {
    "duration": 65,
    "start_time": "2022-11-01T16:42:37.152Z"
   },
   {
    "duration": 17,
    "start_time": "2022-11-01T16:42:37.219Z"
   },
   {
    "duration": 17,
    "start_time": "2022-11-01T16:42:37.237Z"
   },
   {
    "duration": 9,
    "start_time": "2022-11-01T16:42:37.256Z"
   },
   {
    "duration": 72,
    "start_time": "2022-11-01T16:42:37.267Z"
   },
   {
    "duration": 5,
    "start_time": "2022-11-01T16:42:37.341Z"
   },
   {
    "duration": 14,
    "start_time": "2022-11-01T16:42:37.348Z"
   },
   {
    "duration": 6,
    "start_time": "2022-11-01T16:42:37.364Z"
   },
   {
    "duration": 19,
    "start_time": "2022-11-01T16:42:37.372Z"
   },
   {
    "duration": 9,
    "start_time": "2022-11-01T16:42:37.394Z"
   },
   {
    "duration": 47,
    "start_time": "2022-11-01T16:42:37.405Z"
   },
   {
    "duration": 10,
    "start_time": "2022-11-01T16:42:37.453Z"
   },
   {
    "duration": 7,
    "start_time": "2022-11-01T16:42:37.465Z"
   },
   {
    "duration": 16,
    "start_time": "2022-11-01T16:42:37.473Z"
   },
   {
    "duration": 31,
    "start_time": "2022-11-01T16:42:37.490Z"
   },
   {
    "duration": 20,
    "start_time": "2022-11-01T16:42:37.534Z"
   },
   {
    "duration": 4,
    "start_time": "2022-11-01T16:42:37.556Z"
   },
   {
    "duration": 12,
    "start_time": "2022-11-01T16:42:37.562Z"
   },
   {
    "duration": 16,
    "start_time": "2022-11-01T16:42:37.576Z"
   },
   {
    "duration": 3,
    "start_time": "2022-11-01T16:42:37.594Z"
   },
   {
    "duration": 10,
    "start_time": "2022-11-01T16:42:37.598Z"
   },
   {
    "duration": 45,
    "start_time": "2022-11-01T16:42:37.610Z"
   },
   {
    "duration": 2,
    "start_time": "2022-11-01T16:42:37.657Z"
   },
   {
    "duration": 8,
    "start_time": "2022-11-01T16:42:37.660Z"
   },
   {
    "duration": 6,
    "start_time": "2022-11-01T16:42:37.669Z"
   },
   {
    "duration": 71,
    "start_time": "2022-11-01T16:42:47.267Z"
   },
   {
    "duration": 22,
    "start_time": "2022-11-01T16:42:47.340Z"
   },
   {
    "duration": 18,
    "start_time": "2022-11-01T16:42:47.364Z"
   },
   {
    "duration": 9,
    "start_time": "2022-11-01T16:42:47.384Z"
   },
   {
    "duration": 55,
    "start_time": "2022-11-01T16:42:47.395Z"
   },
   {
    "duration": 4,
    "start_time": "2022-11-01T16:42:47.451Z"
   },
   {
    "duration": 20,
    "start_time": "2022-11-01T16:42:47.456Z"
   },
   {
    "duration": 4,
    "start_time": "2022-11-01T16:42:47.478Z"
   },
   {
    "duration": 13,
    "start_time": "2022-11-01T16:42:47.484Z"
   },
   {
    "duration": 6,
    "start_time": "2022-11-01T16:42:47.501Z"
   },
   {
    "duration": 47,
    "start_time": "2022-11-01T16:42:47.509Z"
   },
   {
    "duration": 12,
    "start_time": "2022-11-01T16:42:47.558Z"
   },
   {
    "duration": 5,
    "start_time": "2022-11-01T16:42:47.572Z"
   },
   {
    "duration": 14,
    "start_time": "2022-11-01T16:42:47.579Z"
   },
   {
    "duration": 46,
    "start_time": "2022-11-01T16:42:47.594Z"
   },
   {
    "duration": 28,
    "start_time": "2022-11-01T16:42:47.642Z"
   },
   {
    "duration": 5,
    "start_time": "2022-11-01T16:42:47.672Z"
   },
   {
    "duration": 20,
    "start_time": "2022-11-01T16:42:47.679Z"
   },
   {
    "duration": 33,
    "start_time": "2022-11-01T16:42:47.702Z"
   },
   {
    "duration": 4,
    "start_time": "2022-11-01T16:42:47.737Z"
   },
   {
    "duration": 11,
    "start_time": "2022-11-01T16:42:47.742Z"
   },
   {
    "duration": 36,
    "start_time": "2022-11-01T16:42:47.754Z"
   },
   {
    "duration": 3,
    "start_time": "2022-11-01T16:42:47.791Z"
   },
   {
    "duration": 8,
    "start_time": "2022-11-01T16:42:47.795Z"
   },
   {
    "duration": 7,
    "start_time": "2022-11-01T16:42:47.821Z"
   },
   {
    "duration": 79,
    "start_time": "2022-11-01T16:44:17.167Z"
   },
   {
    "duration": 16,
    "start_time": "2022-11-01T16:44:17.248Z"
   },
   {
    "duration": 22,
    "start_time": "2022-11-01T16:44:17.265Z"
   },
   {
    "duration": 9,
    "start_time": "2022-11-01T16:44:17.289Z"
   },
   {
    "duration": 47,
    "start_time": "2022-11-01T16:44:17.299Z"
   },
   {
    "duration": 3,
    "start_time": "2022-11-01T16:44:17.347Z"
   },
   {
    "duration": 14,
    "start_time": "2022-11-01T16:44:17.352Z"
   },
   {
    "duration": 5,
    "start_time": "2022-11-01T16:44:17.368Z"
   },
   {
    "duration": 15,
    "start_time": "2022-11-01T16:44:17.374Z"
   },
   {
    "duration": 6,
    "start_time": "2022-11-01T16:44:17.392Z"
   },
   {
    "duration": 51,
    "start_time": "2022-11-01T16:44:17.400Z"
   },
   {
    "duration": 9,
    "start_time": "2022-11-01T16:44:17.453Z"
   },
   {
    "duration": 9,
    "start_time": "2022-11-01T16:44:17.463Z"
   },
   {
    "duration": 16,
    "start_time": "2022-11-01T16:44:17.474Z"
   },
   {
    "duration": 31,
    "start_time": "2022-11-01T16:44:17.492Z"
   },
   {
    "duration": 22,
    "start_time": "2022-11-01T16:44:17.530Z"
   },
   {
    "duration": 4,
    "start_time": "2022-11-01T16:44:17.554Z"
   },
   {
    "duration": 25,
    "start_time": "2022-11-01T16:44:17.560Z"
   },
   {
    "duration": 12,
    "start_time": "2022-11-01T16:44:17.586Z"
   },
   {
    "duration": 13,
    "start_time": "2022-11-01T16:44:17.600Z"
   },
   {
    "duration": 36,
    "start_time": "2022-11-01T16:44:17.614Z"
   },
   {
    "duration": 41,
    "start_time": "2022-11-01T16:44:17.652Z"
   },
   {
    "duration": 3,
    "start_time": "2022-11-01T16:44:17.695Z"
   },
   {
    "duration": 6,
    "start_time": "2022-11-01T16:44:17.699Z"
   },
   {
    "duration": 10,
    "start_time": "2022-11-01T16:44:17.707Z"
   },
   {
    "duration": 66,
    "start_time": "2022-11-01T16:59:37.238Z"
   },
   {
    "duration": 14,
    "start_time": "2022-11-01T16:59:37.306Z"
   },
   {
    "duration": 30,
    "start_time": "2022-11-01T16:59:37.321Z"
   },
   {
    "duration": 9,
    "start_time": "2022-11-01T16:59:37.353Z"
   },
   {
    "duration": 39,
    "start_time": "2022-11-01T16:59:37.363Z"
   },
   {
    "duration": 3,
    "start_time": "2022-11-01T16:59:37.404Z"
   },
   {
    "duration": 23,
    "start_time": "2022-11-01T16:59:37.409Z"
   },
   {
    "duration": 14,
    "start_time": "2022-11-01T16:59:37.433Z"
   },
   {
    "duration": 9,
    "start_time": "2022-11-01T16:59:37.449Z"
   },
   {
    "duration": 8,
    "start_time": "2022-11-01T16:59:37.460Z"
   },
   {
    "duration": 35,
    "start_time": "2022-11-01T16:59:37.470Z"
   },
   {
    "duration": 9,
    "start_time": "2022-11-01T16:59:37.507Z"
   },
   {
    "duration": 22,
    "start_time": "2022-11-01T16:59:37.517Z"
   },
   {
    "duration": 17,
    "start_time": "2022-11-01T16:59:37.541Z"
   },
   {
    "duration": 25,
    "start_time": "2022-11-01T16:59:37.559Z"
   },
   {
    "duration": 19,
    "start_time": "2022-11-01T16:59:37.586Z"
   },
   {
    "duration": 4,
    "start_time": "2022-11-01T16:59:37.607Z"
   },
   {
    "duration": 25,
    "start_time": "2022-11-01T16:59:37.612Z"
   },
   {
    "duration": 16,
    "start_time": "2022-11-01T16:59:37.639Z"
   },
   {
    "duration": 28,
    "start_time": "2022-11-01T16:59:37.656Z"
   },
   {
    "duration": 27,
    "start_time": "2022-11-01T16:59:37.685Z"
   },
   {
    "duration": 66,
    "start_time": "2022-11-01T16:59:37.714Z"
   },
   {
    "duration": 0,
    "start_time": "2022-11-01T16:59:37.782Z"
   },
   {
    "duration": 0,
    "start_time": "2022-11-01T16:59:37.783Z"
   },
   {
    "duration": 0,
    "start_time": "2022-11-01T16:59:37.785Z"
   },
   {
    "duration": 69,
    "start_time": "2022-11-01T16:59:51.296Z"
   },
   {
    "duration": 14,
    "start_time": "2022-11-01T16:59:51.367Z"
   },
   {
    "duration": 31,
    "start_time": "2022-11-01T16:59:51.383Z"
   },
   {
    "duration": 30,
    "start_time": "2022-11-01T16:59:51.416Z"
   },
   {
    "duration": 36,
    "start_time": "2022-11-01T16:59:51.447Z"
   },
   {
    "duration": 4,
    "start_time": "2022-11-01T16:59:51.484Z"
   },
   {
    "duration": 15,
    "start_time": "2022-11-01T16:59:51.489Z"
   },
   {
    "duration": 3,
    "start_time": "2022-11-01T16:59:51.506Z"
   },
   {
    "duration": 36,
    "start_time": "2022-11-01T16:59:51.510Z"
   },
   {
    "duration": 7,
    "start_time": "2022-11-01T16:59:51.549Z"
   },
   {
    "duration": 42,
    "start_time": "2022-11-01T16:59:51.558Z"
   },
   {
    "duration": 9,
    "start_time": "2022-11-01T16:59:51.602Z"
   },
   {
    "duration": 20,
    "start_time": "2022-11-01T16:59:51.612Z"
   },
   {
    "duration": 31,
    "start_time": "2022-11-01T16:59:51.634Z"
   },
   {
    "duration": 38,
    "start_time": "2022-11-01T16:59:51.667Z"
   },
   {
    "duration": 28,
    "start_time": "2022-11-01T16:59:51.706Z"
   },
   {
    "duration": 6,
    "start_time": "2022-11-01T16:59:51.737Z"
   },
   {
    "duration": 31,
    "start_time": "2022-11-01T16:59:51.745Z"
   },
   {
    "duration": 8,
    "start_time": "2022-11-01T16:59:51.778Z"
   },
   {
    "duration": 3,
    "start_time": "2022-11-01T16:59:51.788Z"
   },
   {
    "duration": 38,
    "start_time": "2022-11-01T16:59:51.793Z"
   },
   {
    "duration": 56,
    "start_time": "2022-11-01T16:59:51.835Z"
   },
   {
    "duration": 2,
    "start_time": "2022-11-01T16:59:51.893Z"
   },
   {
    "duration": 20,
    "start_time": "2022-11-01T16:59:51.897Z"
   },
   {
    "duration": 17,
    "start_time": "2022-11-01T16:59:51.919Z"
   },
   {
    "duration": 70,
    "start_time": "2022-11-01T17:01:44.261Z"
   },
   {
    "duration": 16,
    "start_time": "2022-11-01T17:01:44.332Z"
   },
   {
    "duration": 13,
    "start_time": "2022-11-01T17:01:44.349Z"
   },
   {
    "duration": 8,
    "start_time": "2022-11-01T17:01:44.364Z"
   },
   {
    "duration": 53,
    "start_time": "2022-11-01T17:01:44.374Z"
   },
   {
    "duration": 4,
    "start_time": "2022-11-01T17:01:44.434Z"
   },
   {
    "duration": 10,
    "start_time": "2022-11-01T17:01:44.440Z"
   },
   {
    "duration": 5,
    "start_time": "2022-11-01T17:01:44.452Z"
   },
   {
    "duration": 11,
    "start_time": "2022-11-01T17:01:44.459Z"
   },
   {
    "duration": 5,
    "start_time": "2022-11-01T17:01:44.473Z"
   },
   {
    "duration": 63,
    "start_time": "2022-11-01T17:01:44.480Z"
   },
   {
    "duration": 12,
    "start_time": "2022-11-01T17:01:44.545Z"
   },
   {
    "duration": 4,
    "start_time": "2022-11-01T17:01:44.558Z"
   },
   {
    "duration": 20,
    "start_time": "2022-11-01T17:01:44.564Z"
   },
   {
    "duration": 21,
    "start_time": "2022-11-01T17:01:44.586Z"
   },
   {
    "duration": 33,
    "start_time": "2022-11-01T17:01:44.623Z"
   },
   {
    "duration": 4,
    "start_time": "2022-11-01T17:01:44.659Z"
   },
   {
    "duration": 12,
    "start_time": "2022-11-01T17:01:44.664Z"
   },
   {
    "duration": 7,
    "start_time": "2022-11-01T17:01:44.677Z"
   },
   {
    "duration": 4,
    "start_time": "2022-11-01T17:01:44.687Z"
   },
   {
    "duration": 42,
    "start_time": "2022-11-01T17:01:44.693Z"
   },
   {
    "duration": 52,
    "start_time": "2022-11-01T17:01:44.740Z"
   },
   {
    "duration": 0,
    "start_time": "2022-11-01T17:01:44.794Z"
   },
   {
    "duration": 0,
    "start_time": "2022-11-01T17:01:44.795Z"
   },
   {
    "duration": 0,
    "start_time": "2022-11-01T17:01:44.797Z"
   },
   {
    "duration": 73,
    "start_time": "2022-11-01T17:08:21.160Z"
   },
   {
    "duration": 16,
    "start_time": "2022-11-01T17:08:21.235Z"
   },
   {
    "duration": 209,
    "start_time": "2022-11-01T17:08:21.253Z"
   },
   {
    "duration": 14,
    "start_time": "2022-11-01T17:08:21.465Z"
   },
   {
    "duration": 39,
    "start_time": "2022-11-01T17:08:21.481Z"
   },
   {
    "duration": 4,
    "start_time": "2022-11-01T17:08:21.521Z"
   },
   {
    "duration": 15,
    "start_time": "2022-11-01T17:08:21.527Z"
   },
   {
    "duration": 10,
    "start_time": "2022-11-01T17:08:21.544Z"
   },
   {
    "duration": 9,
    "start_time": "2022-11-01T17:08:21.556Z"
   },
   {
    "duration": 5,
    "start_time": "2022-11-01T17:08:21.570Z"
   },
   {
    "duration": 59,
    "start_time": "2022-11-01T17:08:21.577Z"
   },
   {
    "duration": 12,
    "start_time": "2022-11-01T17:08:21.638Z"
   },
   {
    "duration": 8,
    "start_time": "2022-11-01T17:08:21.651Z"
   },
   {
    "duration": 17,
    "start_time": "2022-11-01T17:08:21.660Z"
   },
   {
    "duration": 23,
    "start_time": "2022-11-01T17:08:21.679Z"
   },
   {
    "duration": 21,
    "start_time": "2022-11-01T17:08:21.720Z"
   },
   {
    "duration": 5,
    "start_time": "2022-11-01T17:08:21.742Z"
   },
   {
    "duration": 20,
    "start_time": "2022-11-01T17:08:21.748Z"
   },
   {
    "duration": 13,
    "start_time": "2022-11-01T17:08:21.770Z"
   },
   {
    "duration": 5,
    "start_time": "2022-11-01T17:08:21.785Z"
   },
   {
    "duration": 15,
    "start_time": "2022-11-01T17:08:21.821Z"
   },
   {
    "duration": 89,
    "start_time": "2022-11-01T17:08:21.838Z"
   },
   {
    "duration": 3,
    "start_time": "2022-11-01T17:08:21.929Z"
   },
   {
    "duration": 11,
    "start_time": "2022-11-01T17:08:21.934Z"
   },
   {
    "duration": 10,
    "start_time": "2022-11-01T17:08:21.947Z"
   },
   {
    "duration": 68,
    "start_time": "2022-11-01T17:17:26.021Z"
   },
   {
    "duration": 14,
    "start_time": "2022-11-01T17:17:26.091Z"
   },
   {
    "duration": 25,
    "start_time": "2022-11-01T17:17:26.107Z"
   },
   {
    "duration": 13,
    "start_time": "2022-11-01T17:17:26.133Z"
   },
   {
    "duration": 39,
    "start_time": "2022-11-01T17:17:26.148Z"
   },
   {
    "duration": 3,
    "start_time": "2022-11-01T17:17:26.189Z"
   },
   {
    "duration": 35,
    "start_time": "2022-11-01T17:17:26.194Z"
   },
   {
    "duration": 20,
    "start_time": "2022-11-01T17:17:26.231Z"
   },
   {
    "duration": 11,
    "start_time": "2022-11-01T17:17:26.253Z"
   },
   {
    "duration": 19,
    "start_time": "2022-11-01T17:17:26.266Z"
   },
   {
    "duration": 36,
    "start_time": "2022-11-01T17:17:26.287Z"
   },
   {
    "duration": 9,
    "start_time": "2022-11-01T17:17:26.325Z"
   },
   {
    "duration": 15,
    "start_time": "2022-11-01T17:17:26.336Z"
   },
   {
    "duration": 18,
    "start_time": "2022-11-01T17:17:26.354Z"
   },
   {
    "duration": 27,
    "start_time": "2022-11-01T17:17:26.373Z"
   },
   {
    "duration": 22,
    "start_time": "2022-11-01T17:17:26.401Z"
   },
   {
    "duration": 4,
    "start_time": "2022-11-01T17:17:26.425Z"
   },
   {
    "duration": 19,
    "start_time": "2022-11-01T17:17:26.431Z"
   },
   {
    "duration": 12,
    "start_time": "2022-11-01T17:17:26.452Z"
   },
   {
    "duration": 31,
    "start_time": "2022-11-01T17:17:26.466Z"
   },
   {
    "duration": 36,
    "start_time": "2022-11-01T17:17:26.499Z"
   },
   {
    "duration": 77,
    "start_time": "2022-11-01T17:17:26.537Z"
   },
   {
    "duration": 13,
    "start_time": "2022-11-01T17:17:26.616Z"
   },
   {
    "duration": 5,
    "start_time": "2022-11-01T17:17:26.630Z"
   },
   {
    "duration": 10,
    "start_time": "2022-11-01T17:17:26.637Z"
   },
   {
    "duration": 30,
    "start_time": "2022-11-01T17:17:26.650Z"
   },
   {
    "duration": 20,
    "start_time": "2022-11-01T17:18:37.984Z"
   },
   {
    "duration": 83,
    "start_time": "2022-11-01T17:18:40.776Z"
   },
   {
    "duration": 15,
    "start_time": "2022-11-01T17:18:40.861Z"
   },
   {
    "duration": 25,
    "start_time": "2022-11-01T17:18:40.878Z"
   },
   {
    "duration": 19,
    "start_time": "2022-11-01T17:18:40.905Z"
   },
   {
    "duration": 56,
    "start_time": "2022-11-01T17:18:40.926Z"
   },
   {
    "duration": 3,
    "start_time": "2022-11-01T17:18:40.984Z"
   },
   {
    "duration": 29,
    "start_time": "2022-11-01T17:18:40.989Z"
   },
   {
    "duration": 15,
    "start_time": "2022-11-01T17:18:41.020Z"
   },
   {
    "duration": 12,
    "start_time": "2022-11-01T17:18:41.037Z"
   },
   {
    "duration": 22,
    "start_time": "2022-11-01T17:18:41.052Z"
   },
   {
    "duration": 44,
    "start_time": "2022-11-01T17:18:41.076Z"
   },
   {
    "duration": 9,
    "start_time": "2022-11-01T17:18:41.122Z"
   },
   {
    "duration": 11,
    "start_time": "2022-11-01T17:18:41.133Z"
   },
   {
    "duration": 28,
    "start_time": "2022-11-01T17:18:41.146Z"
   },
   {
    "duration": 28,
    "start_time": "2022-11-01T17:18:41.176Z"
   },
   {
    "duration": 33,
    "start_time": "2022-11-01T17:18:41.206Z"
   },
   {
    "duration": 6,
    "start_time": "2022-11-01T17:18:41.240Z"
   },
   {
    "duration": 26,
    "start_time": "2022-11-01T17:18:41.248Z"
   },
   {
    "duration": 16,
    "start_time": "2022-11-01T17:18:41.276Z"
   },
   {
    "duration": 17,
    "start_time": "2022-11-01T17:18:41.294Z"
   },
   {
    "duration": 25,
    "start_time": "2022-11-01T17:18:41.313Z"
   },
   {
    "duration": 55,
    "start_time": "2022-11-01T17:18:41.340Z"
   },
   {
    "duration": 12,
    "start_time": "2022-11-01T17:18:41.396Z"
   },
   {
    "duration": 17,
    "start_time": "2022-11-01T17:18:41.410Z"
   },
   {
    "duration": 18,
    "start_time": "2022-11-01T17:18:41.429Z"
   },
   {
    "duration": 30,
    "start_time": "2022-11-01T17:18:41.449Z"
   },
   {
    "duration": 10,
    "start_time": "2022-11-01T17:25:59.867Z"
   },
   {
    "duration": 66,
    "start_time": "2022-11-01T17:35:42.062Z"
   },
   {
    "duration": 15,
    "start_time": "2022-11-01T17:35:42.130Z"
   },
   {
    "duration": 24,
    "start_time": "2022-11-01T17:35:42.147Z"
   },
   {
    "duration": 14,
    "start_time": "2022-11-01T17:35:42.174Z"
   },
   {
    "duration": 66,
    "start_time": "2022-11-01T17:35:42.190Z"
   },
   {
    "duration": 3,
    "start_time": "2022-11-01T17:35:42.257Z"
   },
   {
    "duration": 13,
    "start_time": "2022-11-01T17:35:42.262Z"
   },
   {
    "duration": 8,
    "start_time": "2022-11-01T17:35:42.276Z"
   },
   {
    "duration": 17,
    "start_time": "2022-11-01T17:35:42.285Z"
   },
   {
    "duration": 16,
    "start_time": "2022-11-01T17:35:42.305Z"
   },
   {
    "duration": 39,
    "start_time": "2022-11-01T17:35:42.323Z"
   },
   {
    "duration": 14,
    "start_time": "2022-11-01T17:35:42.364Z"
   },
   {
    "duration": 4,
    "start_time": "2022-11-01T17:35:42.380Z"
   },
   {
    "duration": 34,
    "start_time": "2022-11-01T17:35:42.386Z"
   },
   {
    "duration": 23,
    "start_time": "2022-11-01T17:35:42.422Z"
   },
   {
    "duration": 20,
    "start_time": "2022-11-01T17:35:42.448Z"
   },
   {
    "duration": 4,
    "start_time": "2022-11-01T17:35:42.471Z"
   },
   {
    "duration": 19,
    "start_time": "2022-11-01T17:35:42.476Z"
   },
   {
    "duration": 28,
    "start_time": "2022-11-01T17:35:42.497Z"
   },
   {
    "duration": 4,
    "start_time": "2022-11-01T17:35:42.527Z"
   },
   {
    "duration": 35,
    "start_time": "2022-11-01T17:35:42.532Z"
   },
   {
    "duration": 51,
    "start_time": "2022-11-01T17:35:42.570Z"
   },
   {
    "duration": 12,
    "start_time": "2022-11-01T17:35:42.622Z"
   },
   {
    "duration": 15,
    "start_time": "2022-11-01T17:35:42.636Z"
   },
   {
    "duration": 0,
    "start_time": "2022-11-01T17:35:42.653Z"
   },
   {
    "duration": 0,
    "start_time": "2022-11-01T17:35:42.654Z"
   },
   {
    "duration": 8,
    "start_time": "2022-11-01T17:36:00.445Z"
   },
   {
    "duration": 69,
    "start_time": "2022-11-01T17:36:03.735Z"
   },
   {
    "duration": 18,
    "start_time": "2022-11-01T17:36:03.806Z"
   },
   {
    "duration": 29,
    "start_time": "2022-11-01T17:36:03.826Z"
   },
   {
    "duration": 31,
    "start_time": "2022-11-01T17:36:03.861Z"
   },
   {
    "duration": 44,
    "start_time": "2022-11-01T17:36:03.894Z"
   },
   {
    "duration": 3,
    "start_time": "2022-11-01T17:36:03.940Z"
   },
   {
    "duration": 14,
    "start_time": "2022-11-01T17:36:03.945Z"
   },
   {
    "duration": 5,
    "start_time": "2022-11-01T17:36:03.960Z"
   },
   {
    "duration": 10,
    "start_time": "2022-11-01T17:36:03.966Z"
   },
   {
    "duration": 6,
    "start_time": "2022-11-01T17:36:03.978Z"
   },
   {
    "duration": 56,
    "start_time": "2022-11-01T17:36:03.986Z"
   },
   {
    "duration": 10,
    "start_time": "2022-11-01T17:36:04.043Z"
   },
   {
    "duration": 4,
    "start_time": "2022-11-01T17:36:04.054Z"
   },
   {
    "duration": 13,
    "start_time": "2022-11-01T17:36:04.060Z"
   },
   {
    "duration": 47,
    "start_time": "2022-11-01T17:36:04.075Z"
   },
   {
    "duration": 31,
    "start_time": "2022-11-01T17:36:04.123Z"
   },
   {
    "duration": 4,
    "start_time": "2022-11-01T17:36:04.156Z"
   },
   {
    "duration": 22,
    "start_time": "2022-11-01T17:36:04.162Z"
   },
   {
    "duration": 8,
    "start_time": "2022-11-01T17:36:04.187Z"
   },
   {
    "duration": 29,
    "start_time": "2022-11-01T17:36:04.197Z"
   },
   {
    "duration": 15,
    "start_time": "2022-11-01T17:36:04.228Z"
   },
   {
    "duration": 76,
    "start_time": "2022-11-01T17:36:04.245Z"
   },
   {
    "duration": 18,
    "start_time": "2022-11-01T17:36:04.323Z"
   },
   {
    "duration": 14,
    "start_time": "2022-11-01T17:36:04.343Z"
   },
   {
    "duration": 0,
    "start_time": "2022-11-01T17:36:04.358Z"
   },
   {
    "duration": 0,
    "start_time": "2022-11-01T17:36:04.360Z"
   },
   {
    "duration": 8,
    "start_time": "2022-11-01T17:37:13.310Z"
   },
   {
    "duration": 8,
    "start_time": "2022-11-01T17:38:04.904Z"
   },
   {
    "duration": 88,
    "start_time": "2022-11-01T17:38:10.598Z"
   },
   {
    "duration": 35,
    "start_time": "2022-11-01T17:38:10.689Z"
   },
   {
    "duration": 50,
    "start_time": "2022-11-01T17:38:10.726Z"
   },
   {
    "duration": 15,
    "start_time": "2022-11-01T17:38:10.780Z"
   },
   {
    "duration": 62,
    "start_time": "2022-11-01T17:38:10.798Z"
   },
   {
    "duration": 6,
    "start_time": "2022-11-01T17:38:10.862Z"
   },
   {
    "duration": 28,
    "start_time": "2022-11-01T17:38:10.870Z"
   },
   {
    "duration": 24,
    "start_time": "2022-11-01T17:38:10.900Z"
   },
   {
    "duration": 28,
    "start_time": "2022-11-01T17:38:10.925Z"
   },
   {
    "duration": 13,
    "start_time": "2022-11-01T17:38:10.957Z"
   },
   {
    "duration": 48,
    "start_time": "2022-11-01T17:38:10.973Z"
   },
   {
    "duration": 15,
    "start_time": "2022-11-01T17:38:11.023Z"
   },
   {
    "duration": 16,
    "start_time": "2022-11-01T17:38:11.040Z"
   },
   {
    "duration": 20,
    "start_time": "2022-11-01T17:38:11.058Z"
   },
   {
    "duration": 34,
    "start_time": "2022-11-01T17:38:11.081Z"
   },
   {
    "duration": 22,
    "start_time": "2022-11-01T17:38:11.117Z"
   },
   {
    "duration": 13,
    "start_time": "2022-11-01T17:38:11.141Z"
   },
   {
    "duration": 21,
    "start_time": "2022-11-01T17:38:11.156Z"
   },
   {
    "duration": 7,
    "start_time": "2022-11-01T17:38:11.179Z"
   },
   {
    "duration": 13,
    "start_time": "2022-11-01T17:38:11.188Z"
   },
   {
    "duration": 24,
    "start_time": "2022-11-01T17:38:11.203Z"
   },
   {
    "duration": 50,
    "start_time": "2022-11-01T17:38:11.229Z"
   },
   {
    "duration": 41,
    "start_time": "2022-11-01T17:38:11.281Z"
   },
   {
    "duration": 18,
    "start_time": "2022-11-01T17:38:11.324Z"
   },
   {
    "duration": 0,
    "start_time": "2022-11-01T17:38:11.344Z"
   },
   {
    "duration": 0,
    "start_time": "2022-11-01T17:38:11.345Z"
   },
   {
    "duration": 4,
    "start_time": "2022-11-01T17:38:20.497Z"
   },
   {
    "duration": 68,
    "start_time": "2022-11-01T17:38:23.471Z"
   },
   {
    "duration": 16,
    "start_time": "2022-11-01T17:38:23.540Z"
   },
   {
    "duration": 18,
    "start_time": "2022-11-01T17:38:23.558Z"
   },
   {
    "duration": 9,
    "start_time": "2022-11-01T17:38:23.578Z"
   },
   {
    "duration": 54,
    "start_time": "2022-11-01T17:38:23.588Z"
   },
   {
    "duration": 3,
    "start_time": "2022-11-01T17:38:23.644Z"
   },
   {
    "duration": 11,
    "start_time": "2022-11-01T17:38:23.649Z"
   },
   {
    "duration": 5,
    "start_time": "2022-11-01T17:38:23.662Z"
   },
   {
    "duration": 8,
    "start_time": "2022-11-01T17:38:23.669Z"
   },
   {
    "duration": 5,
    "start_time": "2022-11-01T17:38:23.680Z"
   },
   {
    "duration": 62,
    "start_time": "2022-11-01T17:38:23.687Z"
   },
   {
    "duration": 9,
    "start_time": "2022-11-01T17:38:23.751Z"
   },
   {
    "duration": 9,
    "start_time": "2022-11-01T17:38:23.762Z"
   },
   {
    "duration": 15,
    "start_time": "2022-11-01T17:38:23.773Z"
   },
   {
    "duration": 37,
    "start_time": "2022-11-01T17:38:23.789Z"
   },
   {
    "duration": 20,
    "start_time": "2022-11-01T17:38:23.828Z"
   },
   {
    "duration": 5,
    "start_time": "2022-11-01T17:38:23.850Z"
   },
   {
    "duration": 21,
    "start_time": "2022-11-01T17:38:23.857Z"
   },
   {
    "duration": 8,
    "start_time": "2022-11-01T17:38:23.880Z"
   },
   {
    "duration": 7,
    "start_time": "2022-11-01T17:38:23.890Z"
   },
   {
    "duration": 12,
    "start_time": "2022-11-01T17:38:23.920Z"
   },
   {
    "duration": 48,
    "start_time": "2022-11-01T17:38:23.934Z"
   },
   {
    "duration": 13,
    "start_time": "2022-11-01T17:38:23.984Z"
   },
   {
    "duration": 4,
    "start_time": "2022-11-01T17:38:24.020Z"
   },
   {
    "duration": 5,
    "start_time": "2022-11-01T17:38:24.026Z"
   },
   {
    "duration": 10,
    "start_time": "2022-11-01T17:38:24.033Z"
   },
   {
    "duration": 8,
    "start_time": "2022-11-01T17:39:56.322Z"
   },
   {
    "duration": 8,
    "start_time": "2022-11-01T17:40:24.034Z"
   },
   {
    "duration": 13,
    "start_time": "2022-11-01T17:40:36.765Z"
   },
   {
    "duration": 9,
    "start_time": "2022-11-01T17:41:39.101Z"
   },
   {
    "duration": 69,
    "start_time": "2022-11-01T17:41:42.991Z"
   },
   {
    "duration": 16,
    "start_time": "2022-11-01T17:41:43.062Z"
   },
   {
    "duration": 15,
    "start_time": "2022-11-01T17:41:43.079Z"
   },
   {
    "duration": 31,
    "start_time": "2022-11-01T17:41:43.096Z"
   },
   {
    "duration": 31,
    "start_time": "2022-11-01T17:41:43.129Z"
   },
   {
    "duration": 3,
    "start_time": "2022-11-01T17:41:43.161Z"
   },
   {
    "duration": 11,
    "start_time": "2022-11-01T17:41:43.165Z"
   },
   {
    "duration": 3,
    "start_time": "2022-11-01T17:41:43.178Z"
   },
   {
    "duration": 37,
    "start_time": "2022-11-01T17:41:43.183Z"
   },
   {
    "duration": 5,
    "start_time": "2022-11-01T17:41:43.223Z"
   },
   {
    "duration": 49,
    "start_time": "2022-11-01T17:41:43.229Z"
   },
   {
    "duration": 8,
    "start_time": "2022-11-01T17:41:43.280Z"
   },
   {
    "duration": 5,
    "start_time": "2022-11-01T17:41:43.290Z"
   },
   {
    "duration": 13,
    "start_time": "2022-11-01T17:41:43.296Z"
   },
   {
    "duration": 27,
    "start_time": "2022-11-01T17:41:43.310Z"
   },
   {
    "duration": 21,
    "start_time": "2022-11-01T17:41:43.339Z"
   },
   {
    "duration": 4,
    "start_time": "2022-11-01T17:41:43.362Z"
   },
   {
    "duration": 12,
    "start_time": "2022-11-01T17:41:43.367Z"
   },
   {
    "duration": 6,
    "start_time": "2022-11-01T17:41:43.381Z"
   },
   {
    "duration": 31,
    "start_time": "2022-11-01T17:41:43.389Z"
   },
   {
    "duration": 18,
    "start_time": "2022-11-01T17:41:43.422Z"
   },
   {
    "duration": 44,
    "start_time": "2022-11-01T17:41:43.442Z"
   },
   {
    "duration": 13,
    "start_time": "2022-11-01T17:41:43.488Z"
   },
   {
    "duration": 23,
    "start_time": "2022-11-01T17:41:43.503Z"
   },
   {
    "duration": 0,
    "start_time": "2022-11-01T17:41:43.528Z"
   },
   {
    "duration": 0,
    "start_time": "2022-11-01T17:41:43.529Z"
   },
   {
    "duration": 6,
    "start_time": "2022-11-01T17:42:54.279Z"
   },
   {
    "duration": 7,
    "start_time": "2022-11-01T17:43:22.700Z"
   },
   {
    "duration": 67,
    "start_time": "2022-11-01T17:43:26.219Z"
   },
   {
    "duration": 14,
    "start_time": "2022-11-01T17:43:26.288Z"
   },
   {
    "duration": 20,
    "start_time": "2022-11-01T17:43:26.304Z"
   },
   {
    "duration": 8,
    "start_time": "2022-11-01T17:43:26.327Z"
   },
   {
    "duration": 29,
    "start_time": "2022-11-01T17:43:26.337Z"
   },
   {
    "duration": 3,
    "start_time": "2022-11-01T17:43:26.367Z"
   },
   {
    "duration": 13,
    "start_time": "2022-11-01T17:43:26.372Z"
   },
   {
    "duration": 34,
    "start_time": "2022-11-01T17:43:26.386Z"
   },
   {
    "duration": 6,
    "start_time": "2022-11-01T17:43:26.422Z"
   },
   {
    "duration": 8,
    "start_time": "2022-11-01T17:43:26.430Z"
   },
   {
    "duration": 33,
    "start_time": "2022-11-01T17:43:26.440Z"
   },
   {
    "duration": 8,
    "start_time": "2022-11-01T17:43:26.475Z"
   },
   {
    "duration": 6,
    "start_time": "2022-11-01T17:43:26.485Z"
   },
   {
    "duration": 36,
    "start_time": "2022-11-01T17:43:26.492Z"
   },
   {
    "duration": 22,
    "start_time": "2022-11-01T17:43:26.530Z"
   },
   {
    "duration": 18,
    "start_time": "2022-11-01T17:43:26.554Z"
   },
   {
    "duration": 4,
    "start_time": "2022-11-01T17:43:26.574Z"
   },
   {
    "duration": 12,
    "start_time": "2022-11-01T17:43:26.580Z"
   },
   {
    "duration": 29,
    "start_time": "2022-11-01T17:43:26.594Z"
   },
   {
    "duration": 14,
    "start_time": "2022-11-01T17:43:26.624Z"
   },
   {
    "duration": 11,
    "start_time": "2022-11-01T17:43:26.639Z"
   },
   {
    "duration": 83,
    "start_time": "2022-11-01T17:43:26.652Z"
   },
   {
    "duration": 18,
    "start_time": "2022-11-01T17:43:26.737Z"
   },
   {
    "duration": 11,
    "start_time": "2022-11-01T17:43:26.757Z"
   },
   {
    "duration": 0,
    "start_time": "2022-11-01T17:43:26.770Z"
   },
   {
    "duration": 0,
    "start_time": "2022-11-01T17:43:26.771Z"
   },
   {
    "duration": 9,
    "start_time": "2022-11-01T17:43:30.578Z"
   },
   {
    "duration": 7,
    "start_time": "2022-11-01T17:44:04.018Z"
   },
   {
    "duration": 73,
    "start_time": "2022-11-01T17:45:45.715Z"
   },
   {
    "duration": 76,
    "start_time": "2022-11-01T17:45:48.871Z"
   },
   {
    "duration": 23,
    "start_time": "2022-11-01T17:45:48.950Z"
   },
   {
    "duration": 15,
    "start_time": "2022-11-01T17:45:48.975Z"
   },
   {
    "duration": 12,
    "start_time": "2022-11-01T17:45:48.992Z"
   },
   {
    "duration": 38,
    "start_time": "2022-11-01T17:45:49.020Z"
   },
   {
    "duration": 4,
    "start_time": "2022-11-01T17:45:49.061Z"
   },
   {
    "duration": 15,
    "start_time": "2022-11-01T17:45:49.067Z"
   },
   {
    "duration": 20,
    "start_time": "2022-11-01T17:45:49.084Z"
   },
   {
    "duration": 46,
    "start_time": "2022-11-01T17:45:49.107Z"
   },
   {
    "duration": 17,
    "start_time": "2022-11-01T17:45:49.156Z"
   },
   {
    "duration": 44,
    "start_time": "2022-11-01T17:45:49.175Z"
   },
   {
    "duration": 14,
    "start_time": "2022-11-01T17:45:49.221Z"
   },
   {
    "duration": 18,
    "start_time": "2022-11-01T17:45:49.236Z"
   },
   {
    "duration": 24,
    "start_time": "2022-11-01T17:45:49.256Z"
   },
   {
    "duration": 30,
    "start_time": "2022-11-01T17:45:49.283Z"
   },
   {
    "duration": 25,
    "start_time": "2022-11-01T17:45:49.315Z"
   },
   {
    "duration": 4,
    "start_time": "2022-11-01T17:45:49.342Z"
   },
   {
    "duration": 23,
    "start_time": "2022-11-01T17:45:49.348Z"
   },
   {
    "duration": 10,
    "start_time": "2022-11-01T17:45:49.373Z"
   },
   {
    "duration": 4,
    "start_time": "2022-11-01T17:45:49.385Z"
   },
   {
    "duration": 15,
    "start_time": "2022-11-01T17:45:49.390Z"
   },
   {
    "duration": 63,
    "start_time": "2022-11-01T17:45:49.407Z"
   },
   {
    "duration": 15,
    "start_time": "2022-11-01T17:45:49.472Z"
   },
   {
    "duration": 75,
    "start_time": "2022-11-01T17:45:49.489Z"
   },
   {
    "duration": 0,
    "start_time": "2022-11-01T17:45:49.565Z"
   },
   {
    "duration": 0,
    "start_time": "2022-11-01T17:45:49.566Z"
   },
   {
    "duration": 8,
    "start_time": "2022-11-01T17:45:55.643Z"
   },
   {
    "duration": 439,
    "start_time": "2022-11-01T17:46:14.573Z"
   },
   {
    "duration": 23,
    "start_time": "2022-11-01T17:46:15.014Z"
   },
   {
    "duration": 30,
    "start_time": "2022-11-01T17:46:15.039Z"
   },
   {
    "duration": 14,
    "start_time": "2022-11-01T17:46:15.071Z"
   },
   {
    "duration": 40,
    "start_time": "2022-11-01T17:46:15.087Z"
   },
   {
    "duration": 3,
    "start_time": "2022-11-01T17:46:15.129Z"
   },
   {
    "duration": 11,
    "start_time": "2022-11-01T17:46:15.134Z"
   },
   {
    "duration": 4,
    "start_time": "2022-11-01T17:46:15.147Z"
   },
   {
    "duration": 10,
    "start_time": "2022-11-01T17:46:15.153Z"
   },
   {
    "duration": 5,
    "start_time": "2022-11-01T17:46:15.165Z"
   },
   {
    "duration": 62,
    "start_time": "2022-11-01T17:46:15.171Z"
   },
   {
    "duration": 9,
    "start_time": "2022-11-01T17:46:15.235Z"
   },
   {
    "duration": 4,
    "start_time": "2022-11-01T17:46:15.246Z"
   },
   {
    "duration": 17,
    "start_time": "2022-11-01T17:46:15.251Z"
   },
   {
    "duration": 31,
    "start_time": "2022-11-01T17:46:15.269Z"
   },
   {
    "duration": 34,
    "start_time": "2022-11-01T17:46:15.302Z"
   },
   {
    "duration": 4,
    "start_time": "2022-11-01T17:46:15.338Z"
   },
   {
    "duration": 17,
    "start_time": "2022-11-01T17:46:15.343Z"
   },
   {
    "duration": 17,
    "start_time": "2022-11-01T17:46:15.362Z"
   },
   {
    "duration": 3,
    "start_time": "2022-11-01T17:46:15.381Z"
   },
   {
    "duration": 23,
    "start_time": "2022-11-01T17:46:15.385Z"
   },
   {
    "duration": 47,
    "start_time": "2022-11-01T17:46:15.420Z"
   },
   {
    "duration": 16,
    "start_time": "2022-11-01T17:46:15.469Z"
   },
   {
    "duration": 94,
    "start_time": "2022-11-01T17:46:15.487Z"
   },
   {
    "duration": 0,
    "start_time": "2022-11-01T17:46:15.582Z"
   },
   {
    "duration": 0,
    "start_time": "2022-11-01T17:46:15.584Z"
   },
   {
    "duration": 8,
    "start_time": "2022-11-01T17:47:13.331Z"
   },
   {
    "duration": 67,
    "start_time": "2022-11-01T17:47:17.953Z"
   },
   {
    "duration": 15,
    "start_time": "2022-11-01T17:47:18.022Z"
   },
   {
    "duration": 22,
    "start_time": "2022-11-01T17:47:18.039Z"
   },
   {
    "duration": 10,
    "start_time": "2022-11-01T17:47:18.064Z"
   },
   {
    "duration": 53,
    "start_time": "2022-11-01T17:47:18.076Z"
   },
   {
    "duration": 4,
    "start_time": "2022-11-01T17:47:18.131Z"
   },
   {
    "duration": 14,
    "start_time": "2022-11-01T17:47:18.137Z"
   },
   {
    "duration": 5,
    "start_time": "2022-11-01T17:47:18.153Z"
   },
   {
    "duration": 11,
    "start_time": "2022-11-01T17:47:18.159Z"
   },
   {
    "duration": 7,
    "start_time": "2022-11-01T17:47:18.172Z"
   },
   {
    "duration": 53,
    "start_time": "2022-11-01T17:47:18.181Z"
   },
   {
    "duration": 10,
    "start_time": "2022-11-01T17:47:18.236Z"
   },
   {
    "duration": 7,
    "start_time": "2022-11-01T17:47:18.247Z"
   },
   {
    "duration": 13,
    "start_time": "2022-11-01T17:47:18.255Z"
   },
   {
    "duration": 22,
    "start_time": "2022-11-01T17:47:18.270Z"
   },
   {
    "duration": 37,
    "start_time": "2022-11-01T17:47:18.294Z"
   },
   {
    "duration": 4,
    "start_time": "2022-11-01T17:47:18.333Z"
   },
   {
    "duration": 14,
    "start_time": "2022-11-01T17:47:18.339Z"
   },
   {
    "duration": 6,
    "start_time": "2022-11-01T17:47:18.355Z"
   },
   {
    "duration": 5,
    "start_time": "2022-11-01T17:47:18.363Z"
   },
   {
    "duration": 15,
    "start_time": "2022-11-01T17:47:18.370Z"
   },
   {
    "duration": 74,
    "start_time": "2022-11-01T17:47:18.387Z"
   },
   {
    "duration": 14,
    "start_time": "2022-11-01T17:47:18.463Z"
   },
   {
    "duration": 21,
    "start_time": "2022-11-01T17:47:18.479Z"
   },
   {
    "duration": 0,
    "start_time": "2022-11-01T17:47:18.502Z"
   },
   {
    "duration": 0,
    "start_time": "2022-11-01T17:47:18.503Z"
   },
   {
    "duration": 73,
    "start_time": "2022-11-01T17:48:20.110Z"
   },
   {
    "duration": 20,
    "start_time": "2022-11-01T17:48:20.186Z"
   },
   {
    "duration": 37,
    "start_time": "2022-11-01T17:48:20.208Z"
   },
   {
    "duration": 11,
    "start_time": "2022-11-01T17:48:20.249Z"
   },
   {
    "duration": 61,
    "start_time": "2022-11-01T17:48:20.263Z"
   },
   {
    "duration": 5,
    "start_time": "2022-11-01T17:48:20.326Z"
   },
   {
    "duration": 12,
    "start_time": "2022-11-01T17:48:20.333Z"
   },
   {
    "duration": 9,
    "start_time": "2022-11-01T17:48:20.347Z"
   },
   {
    "duration": 11,
    "start_time": "2022-11-01T17:48:20.357Z"
   },
   {
    "duration": 6,
    "start_time": "2022-11-01T17:48:20.371Z"
   },
   {
    "duration": 72,
    "start_time": "2022-11-01T17:48:20.379Z"
   },
   {
    "duration": 12,
    "start_time": "2022-11-01T17:48:20.453Z"
   },
   {
    "duration": 8,
    "start_time": "2022-11-01T17:48:20.467Z"
   },
   {
    "duration": 14,
    "start_time": "2022-11-01T17:48:20.478Z"
   },
   {
    "duration": 46,
    "start_time": "2022-11-01T17:48:20.494Z"
   },
   {
    "duration": 21,
    "start_time": "2022-11-01T17:48:20.541Z"
   },
   {
    "duration": 5,
    "start_time": "2022-11-01T17:48:20.564Z"
   },
   {
    "duration": 19,
    "start_time": "2022-11-01T17:48:20.571Z"
   },
   {
    "duration": 14,
    "start_time": "2022-11-01T17:48:20.592Z"
   },
   {
    "duration": 16,
    "start_time": "2022-11-01T17:48:20.608Z"
   },
   {
    "duration": 14,
    "start_time": "2022-11-01T17:48:20.626Z"
   },
   {
    "duration": 64,
    "start_time": "2022-11-01T17:48:20.642Z"
   },
   {
    "duration": 21,
    "start_time": "2022-11-01T17:48:20.708Z"
   },
   {
    "duration": 11,
    "start_time": "2022-11-01T17:48:20.731Z"
   },
   {
    "duration": 7,
    "start_time": "2022-11-01T17:48:20.744Z"
   },
   {
    "duration": 6,
    "start_time": "2022-11-01T17:48:20.752Z"
   },
   {
    "duration": 11,
    "start_time": "2022-11-01T17:48:40.876Z"
   },
   {
    "duration": 14,
    "start_time": "2022-11-01T17:48:51.236Z"
   },
   {
    "duration": 64,
    "start_time": "2022-11-01T17:48:57.260Z"
   },
   {
    "duration": 15,
    "start_time": "2022-11-01T17:48:57.326Z"
   },
   {
    "duration": 41,
    "start_time": "2022-11-01T17:48:57.343Z"
   },
   {
    "duration": 28,
    "start_time": "2022-11-01T17:48:57.387Z"
   },
   {
    "duration": 60,
    "start_time": "2022-11-01T17:48:57.417Z"
   },
   {
    "duration": 3,
    "start_time": "2022-11-01T17:48:57.479Z"
   },
   {
    "duration": 36,
    "start_time": "2022-11-01T17:48:57.484Z"
   },
   {
    "duration": 23,
    "start_time": "2022-11-01T17:48:57.522Z"
   },
   {
    "duration": 38,
    "start_time": "2022-11-01T17:48:57.547Z"
   },
   {
    "duration": 20,
    "start_time": "2022-11-01T17:48:57.589Z"
   },
   {
    "duration": 84,
    "start_time": "2022-11-01T17:48:57.612Z"
   },
   {
    "duration": 8,
    "start_time": "2022-11-01T17:48:57.698Z"
   },
   {
    "duration": 29,
    "start_time": "2022-11-01T17:48:57.708Z"
   },
   {
    "duration": 53,
    "start_time": "2022-11-01T17:48:57.738Z"
   },
   {
    "duration": 45,
    "start_time": "2022-11-01T17:48:57.792Z"
   },
   {
    "duration": 27,
    "start_time": "2022-11-01T17:48:57.839Z"
   },
   {
    "duration": 14,
    "start_time": "2022-11-01T17:48:57.868Z"
   },
   {
    "duration": 47,
    "start_time": "2022-11-01T17:48:57.883Z"
   },
   {
    "duration": 28,
    "start_time": "2022-11-01T17:48:57.931Z"
   },
   {
    "duration": 18,
    "start_time": "2022-11-01T17:48:57.961Z"
   },
   {
    "duration": 32,
    "start_time": "2022-11-01T17:48:57.981Z"
   },
   {
    "duration": 57,
    "start_time": "2022-11-01T17:48:58.015Z"
   },
   {
    "duration": 13,
    "start_time": "2022-11-01T17:48:58.074Z"
   },
   {
    "duration": 33,
    "start_time": "2022-11-01T17:48:58.089Z"
   },
   {
    "duration": 0,
    "start_time": "2022-11-01T17:48:58.124Z"
   },
   {
    "duration": 0,
    "start_time": "2022-11-01T17:48:58.125Z"
   },
   {
    "duration": 16,
    "start_time": "2022-11-01T17:49:16.994Z"
   },
   {
    "duration": 91,
    "start_time": "2022-11-01T17:49:19.356Z"
   },
   {
    "duration": 16,
    "start_time": "2022-11-01T17:49:19.452Z"
   },
   {
    "duration": 20,
    "start_time": "2022-11-01T17:49:19.470Z"
   },
   {
    "duration": 10,
    "start_time": "2022-11-01T17:49:19.492Z"
   },
   {
    "duration": 54,
    "start_time": "2022-11-01T17:49:19.504Z"
   },
   {
    "duration": 3,
    "start_time": "2022-11-01T17:49:19.560Z"
   },
   {
    "duration": 12,
    "start_time": "2022-11-01T17:49:19.565Z"
   },
   {
    "duration": 7,
    "start_time": "2022-11-01T17:49:19.579Z"
   },
   {
    "duration": 10,
    "start_time": "2022-11-01T17:49:19.587Z"
   },
   {
    "duration": 27,
    "start_time": "2022-11-01T17:49:19.599Z"
   },
   {
    "duration": 62,
    "start_time": "2022-11-01T17:49:19.628Z"
   },
   {
    "duration": 10,
    "start_time": "2022-11-01T17:49:19.691Z"
   },
   {
    "duration": 11,
    "start_time": "2022-11-01T17:49:19.702Z"
   },
   {
    "duration": 46,
    "start_time": "2022-11-01T17:49:19.716Z"
   },
   {
    "duration": 23,
    "start_time": "2022-11-01T17:49:19.764Z"
   },
   {
    "duration": 18,
    "start_time": "2022-11-01T17:49:19.789Z"
   },
   {
    "duration": 5,
    "start_time": "2022-11-01T17:49:19.808Z"
   },
   {
    "duration": 23,
    "start_time": "2022-11-01T17:49:19.815Z"
   },
   {
    "duration": 30,
    "start_time": "2022-11-01T17:49:19.839Z"
   },
   {
    "duration": 5,
    "start_time": "2022-11-01T17:49:19.871Z"
   },
   {
    "duration": 30,
    "start_time": "2022-11-01T17:49:19.878Z"
   },
   {
    "duration": 56,
    "start_time": "2022-11-01T17:49:19.910Z"
   },
   {
    "duration": 14,
    "start_time": "2022-11-01T17:49:19.968Z"
   },
   {
    "duration": 22,
    "start_time": "2022-11-01T17:49:19.983Z"
   },
   {
    "duration": 0,
    "start_time": "2022-11-01T17:49:20.007Z"
   },
   {
    "duration": 0,
    "start_time": "2022-11-01T17:49:20.009Z"
   },
   {
    "duration": 66,
    "start_time": "2022-11-01T17:49:53.938Z"
   },
   {
    "duration": 14,
    "start_time": "2022-11-01T17:49:54.007Z"
   },
   {
    "duration": 46,
    "start_time": "2022-11-01T17:49:54.023Z"
   },
   {
    "duration": 14,
    "start_time": "2022-11-01T17:49:54.071Z"
   },
   {
    "duration": 51,
    "start_time": "2022-11-01T17:49:54.088Z"
   },
   {
    "duration": 3,
    "start_time": "2022-11-01T17:49:54.141Z"
   },
   {
    "duration": 50,
    "start_time": "2022-11-01T17:49:54.145Z"
   },
   {
    "duration": 54,
    "start_time": "2022-11-01T17:49:54.196Z"
   },
   {
    "duration": 37,
    "start_time": "2022-11-01T17:49:54.251Z"
   },
   {
    "duration": 45,
    "start_time": "2022-11-01T17:49:54.289Z"
   },
   {
    "duration": 56,
    "start_time": "2022-11-01T17:49:54.339Z"
   },
   {
    "duration": 11,
    "start_time": "2022-11-01T17:49:54.397Z"
   },
   {
    "duration": 28,
    "start_time": "2022-11-01T17:49:54.409Z"
   },
   {
    "duration": 42,
    "start_time": "2022-11-01T17:49:54.441Z"
   },
   {
    "duration": 31,
    "start_time": "2022-11-01T17:49:54.485Z"
   },
   {
    "duration": 38,
    "start_time": "2022-11-01T17:49:54.518Z"
   },
   {
    "duration": 17,
    "start_time": "2022-11-01T17:49:54.558Z"
   },
   {
    "duration": 30,
    "start_time": "2022-11-01T17:49:54.577Z"
   },
   {
    "duration": 45,
    "start_time": "2022-11-01T17:49:54.609Z"
   },
   {
    "duration": 18,
    "start_time": "2022-11-01T17:49:54.656Z"
   },
   {
    "duration": 34,
    "start_time": "2022-11-01T17:49:54.676Z"
   },
   {
    "duration": 84,
    "start_time": "2022-11-01T17:49:54.711Z"
   },
   {
    "duration": 12,
    "start_time": "2022-11-01T17:49:54.797Z"
   },
   {
    "duration": 54,
    "start_time": "2022-11-01T17:49:54.812Z"
   },
   {
    "duration": 0,
    "start_time": "2022-11-01T17:49:54.868Z"
   },
   {
    "duration": 0,
    "start_time": "2022-11-01T17:49:54.869Z"
   },
   {
    "duration": 15,
    "start_time": "2022-11-01T17:50:38.589Z"
   },
   {
    "duration": 71,
    "start_time": "2022-11-01T17:50:41.258Z"
   },
   {
    "duration": 20,
    "start_time": "2022-11-01T17:50:41.331Z"
   },
   {
    "duration": 15,
    "start_time": "2022-11-01T17:50:41.353Z"
   },
   {
    "duration": 10,
    "start_time": "2022-11-01T17:50:41.370Z"
   },
   {
    "duration": 68,
    "start_time": "2022-11-01T17:50:41.381Z"
   },
   {
    "duration": 4,
    "start_time": "2022-11-01T17:50:41.451Z"
   },
   {
    "duration": 15,
    "start_time": "2022-11-01T17:50:41.456Z"
   },
   {
    "duration": 5,
    "start_time": "2022-11-01T17:50:41.472Z"
   },
   {
    "duration": 14,
    "start_time": "2022-11-01T17:50:41.479Z"
   },
   {
    "duration": 13,
    "start_time": "2022-11-01T17:50:41.496Z"
   },
   {
    "duration": 83,
    "start_time": "2022-11-01T17:50:41.512Z"
   },
   {
    "duration": 24,
    "start_time": "2022-11-01T17:50:41.597Z"
   },
   {
    "duration": 5,
    "start_time": "2022-11-01T17:50:41.623Z"
   },
   {
    "duration": 33,
    "start_time": "2022-11-01T17:50:41.630Z"
   },
   {
    "duration": 23,
    "start_time": "2022-11-01T17:50:41.664Z"
   },
   {
    "duration": 18,
    "start_time": "2022-11-01T17:50:41.689Z"
   },
   {
    "duration": 5,
    "start_time": "2022-11-01T17:50:41.709Z"
   },
   {
    "duration": 21,
    "start_time": "2022-11-01T17:50:41.716Z"
   },
   {
    "duration": 22,
    "start_time": "2022-11-01T17:50:41.739Z"
   },
   {
    "duration": 4,
    "start_time": "2022-11-01T17:50:41.763Z"
   },
   {
    "duration": 10,
    "start_time": "2022-11-01T17:50:41.769Z"
   },
   {
    "duration": 61,
    "start_time": "2022-11-01T17:50:41.780Z"
   },
   {
    "duration": 13,
    "start_time": "2022-11-01T17:50:41.843Z"
   },
   {
    "duration": 14,
    "start_time": "2022-11-01T17:50:41.858Z"
   },
   {
    "duration": 0,
    "start_time": "2022-11-01T17:50:41.874Z"
   },
   {
    "duration": 0,
    "start_time": "2022-11-01T17:50:41.875Z"
   },
   {
    "duration": 14,
    "start_time": "2022-11-01T17:51:04.965Z"
   },
   {
    "duration": 71,
    "start_time": "2022-11-01T17:51:09.775Z"
   },
   {
    "duration": 17,
    "start_time": "2022-11-01T17:51:09.848Z"
   },
   {
    "duration": 18,
    "start_time": "2022-11-01T17:51:09.867Z"
   },
   {
    "duration": 9,
    "start_time": "2022-11-01T17:51:09.887Z"
   },
   {
    "duration": 52,
    "start_time": "2022-11-01T17:51:09.898Z"
   },
   {
    "duration": 4,
    "start_time": "2022-11-01T17:51:09.951Z"
   },
   {
    "duration": 17,
    "start_time": "2022-11-01T17:51:09.957Z"
   },
   {
    "duration": 5,
    "start_time": "2022-11-01T17:51:09.976Z"
   },
   {
    "duration": 8,
    "start_time": "2022-11-01T17:51:09.983Z"
   },
   {
    "duration": 32,
    "start_time": "2022-11-01T17:51:09.993Z"
   },
   {
    "duration": 44,
    "start_time": "2022-11-01T17:51:10.027Z"
   },
   {
    "duration": 10,
    "start_time": "2022-11-01T17:51:10.073Z"
   },
   {
    "duration": 5,
    "start_time": "2022-11-01T17:51:10.085Z"
   },
   {
    "duration": 12,
    "start_time": "2022-11-01T17:51:10.093Z"
   },
   {
    "duration": 47,
    "start_time": "2022-11-01T17:51:10.107Z"
   },
   {
    "duration": 18,
    "start_time": "2022-11-01T17:51:10.155Z"
   },
   {
    "duration": 3,
    "start_time": "2022-11-01T17:51:10.175Z"
   },
   {
    "duration": 18,
    "start_time": "2022-11-01T17:51:10.180Z"
   },
   {
    "duration": 5,
    "start_time": "2022-11-01T17:51:10.200Z"
   },
   {
    "duration": 18,
    "start_time": "2022-11-01T17:51:10.207Z"
   },
   {
    "duration": 20,
    "start_time": "2022-11-01T17:51:10.230Z"
   },
   {
    "duration": 50,
    "start_time": "2022-11-01T17:51:10.252Z"
   },
   {
    "duration": 23,
    "start_time": "2022-11-01T17:51:10.304Z"
   },
   {
    "duration": 19,
    "start_time": "2022-11-01T17:51:10.328Z"
   },
   {
    "duration": 0,
    "start_time": "2022-11-01T17:51:10.349Z"
   },
   {
    "duration": 0,
    "start_time": "2022-11-01T17:51:10.351Z"
   },
   {
    "duration": 11,
    "start_time": "2022-11-01T17:51:28.293Z"
   },
   {
    "duration": 75,
    "start_time": "2022-11-01T17:51:33.062Z"
   },
   {
    "duration": 25,
    "start_time": "2022-11-01T17:51:33.140Z"
   },
   {
    "duration": 33,
    "start_time": "2022-11-01T17:51:33.167Z"
   },
   {
    "duration": 10,
    "start_time": "2022-11-01T17:51:33.202Z"
   },
   {
    "duration": 40,
    "start_time": "2022-11-01T17:51:33.214Z"
   },
   {
    "duration": 3,
    "start_time": "2022-11-01T17:51:33.256Z"
   },
   {
    "duration": 22,
    "start_time": "2022-11-01T17:51:33.261Z"
   },
   {
    "duration": 9,
    "start_time": "2022-11-01T17:51:33.285Z"
   },
   {
    "duration": 44,
    "start_time": "2022-11-01T17:51:33.296Z"
   },
   {
    "duration": 20,
    "start_time": "2022-11-01T17:51:33.342Z"
   },
   {
    "duration": 51,
    "start_time": "2022-11-01T17:51:33.364Z"
   },
   {
    "duration": 15,
    "start_time": "2022-11-01T17:51:33.417Z"
   },
   {
    "duration": 42,
    "start_time": "2022-11-01T17:51:33.434Z"
   },
   {
    "duration": 33,
    "start_time": "2022-11-01T17:51:33.480Z"
   },
   {
    "duration": 61,
    "start_time": "2022-11-01T17:51:33.515Z"
   },
   {
    "duration": 18,
    "start_time": "2022-11-01T17:51:33.578Z"
   },
   {
    "duration": 4,
    "start_time": "2022-11-01T17:51:33.597Z"
   },
   {
    "duration": 25,
    "start_time": "2022-11-01T17:51:33.603Z"
   },
   {
    "duration": 28,
    "start_time": "2022-11-01T17:51:33.630Z"
   },
   {
    "duration": 22,
    "start_time": "2022-11-01T17:51:33.661Z"
   },
   {
    "duration": 26,
    "start_time": "2022-11-01T17:51:33.685Z"
   },
   {
    "duration": 64,
    "start_time": "2022-11-01T17:51:33.714Z"
   },
   {
    "duration": 19,
    "start_time": "2022-11-01T17:51:33.780Z"
   },
   {
    "duration": 43,
    "start_time": "2022-11-01T17:51:33.800Z"
   },
   {
    "duration": 0,
    "start_time": "2022-11-01T17:51:33.846Z"
   },
   {
    "duration": 0,
    "start_time": "2022-11-01T17:51:33.847Z"
   },
   {
    "duration": 79,
    "start_time": "2022-11-01T17:51:56.532Z"
   },
   {
    "duration": 28,
    "start_time": "2022-11-01T17:51:56.614Z"
   },
   {
    "duration": 32,
    "start_time": "2022-11-01T17:51:56.643Z"
   },
   {
    "duration": 9,
    "start_time": "2022-11-01T17:51:56.677Z"
   },
   {
    "duration": 44,
    "start_time": "2022-11-01T17:51:56.687Z"
   },
   {
    "duration": 4,
    "start_time": "2022-11-01T17:51:56.733Z"
   },
   {
    "duration": 15,
    "start_time": "2022-11-01T17:51:56.739Z"
   },
   {
    "duration": 12,
    "start_time": "2022-11-01T17:51:56.756Z"
   },
   {
    "duration": 12,
    "start_time": "2022-11-01T17:51:56.769Z"
   },
   {
    "duration": 8,
    "start_time": "2022-11-01T17:51:56.783Z"
   },
   {
    "duration": 48,
    "start_time": "2022-11-01T17:51:56.792Z"
   },
   {
    "duration": 10,
    "start_time": "2022-11-01T17:51:56.842Z"
   },
   {
    "duration": 9,
    "start_time": "2022-11-01T17:51:56.854Z"
   },
   {
    "duration": 13,
    "start_time": "2022-11-01T17:51:56.865Z"
   },
   {
    "duration": 21,
    "start_time": "2022-11-01T17:51:56.880Z"
   },
   {
    "duration": 37,
    "start_time": "2022-11-01T17:51:56.903Z"
   },
   {
    "duration": 4,
    "start_time": "2022-11-01T17:51:56.941Z"
   },
   {
    "duration": 12,
    "start_time": "2022-11-01T17:51:56.947Z"
   },
   {
    "duration": 14,
    "start_time": "2022-11-01T17:51:56.961Z"
   },
   {
    "duration": 4,
    "start_time": "2022-11-01T17:51:56.977Z"
   },
   {
    "duration": 18,
    "start_time": "2022-11-01T17:51:56.982Z"
   },
   {
    "duration": 56,
    "start_time": "2022-11-01T17:51:57.002Z"
   },
   {
    "duration": 14,
    "start_time": "2022-11-01T17:51:57.060Z"
   },
   {
    "duration": 15,
    "start_time": "2022-11-01T17:51:57.076Z"
   },
   {
    "duration": 0,
    "start_time": "2022-11-01T17:51:57.093Z"
   },
   {
    "duration": 0,
    "start_time": "2022-11-01T17:51:57.094Z"
   },
   {
    "duration": 66,
    "start_time": "2022-11-01T17:52:07.547Z"
   },
   {
    "duration": 26,
    "start_time": "2022-11-01T17:52:07.615Z"
   },
   {
    "duration": 20,
    "start_time": "2022-11-01T17:52:07.643Z"
   },
   {
    "duration": 10,
    "start_time": "2022-11-01T17:52:07.666Z"
   },
   {
    "duration": 47,
    "start_time": "2022-11-01T17:52:07.678Z"
   },
   {
    "duration": 7,
    "start_time": "2022-11-01T17:52:07.730Z"
   },
   {
    "duration": 21,
    "start_time": "2022-11-01T17:52:07.738Z"
   },
   {
    "duration": 6,
    "start_time": "2022-11-01T17:52:07.761Z"
   },
   {
    "duration": 13,
    "start_time": "2022-11-01T17:52:07.768Z"
   },
   {
    "duration": 5,
    "start_time": "2022-11-01T17:52:07.784Z"
   },
   {
    "duration": 41,
    "start_time": "2022-11-01T17:52:07.791Z"
   },
   {
    "duration": 11,
    "start_time": "2022-11-01T17:52:07.841Z"
   },
   {
    "duration": 5,
    "start_time": "2022-11-01T17:52:07.855Z"
   },
   {
    "duration": 24,
    "start_time": "2022-11-01T17:52:07.862Z"
   },
   {
    "duration": 30,
    "start_time": "2022-11-01T17:52:07.887Z"
   },
   {
    "duration": 22,
    "start_time": "2022-11-01T17:52:07.919Z"
   },
   {
    "duration": 10,
    "start_time": "2022-11-01T17:52:07.943Z"
   },
   {
    "duration": 15,
    "start_time": "2022-11-01T17:52:07.955Z"
   },
   {
    "duration": 20,
    "start_time": "2022-11-01T17:52:07.978Z"
   },
   {
    "duration": 5,
    "start_time": "2022-11-01T17:52:08.000Z"
   },
   {
    "duration": 39,
    "start_time": "2022-11-01T17:52:08.007Z"
   },
   {
    "duration": 53,
    "start_time": "2022-11-01T17:52:08.048Z"
   },
   {
    "duration": 14,
    "start_time": "2022-11-01T17:52:08.102Z"
   },
   {
    "duration": 26,
    "start_time": "2022-11-01T17:52:08.118Z"
   },
   {
    "duration": 0,
    "start_time": "2022-11-01T17:52:08.146Z"
   },
   {
    "duration": 0,
    "start_time": "2022-11-01T17:52:08.147Z"
   },
   {
    "duration": 88,
    "start_time": "2022-11-01T17:54:05.981Z"
   },
   {
    "duration": 23,
    "start_time": "2022-11-01T17:54:06.072Z"
   },
   {
    "duration": 78,
    "start_time": "2022-11-01T17:54:06.097Z"
   },
   {
    "duration": 27,
    "start_time": "2022-11-01T17:54:06.177Z"
   },
   {
    "duration": 66,
    "start_time": "2022-11-01T17:54:06.205Z"
   },
   {
    "duration": 10,
    "start_time": "2022-11-01T17:54:06.273Z"
   },
   {
    "duration": 21,
    "start_time": "2022-11-01T17:54:06.285Z"
   },
   {
    "duration": 48,
    "start_time": "2022-11-01T17:54:06.307Z"
   },
   {
    "duration": 24,
    "start_time": "2022-11-01T17:54:06.357Z"
   },
   {
    "duration": 18,
    "start_time": "2022-11-01T17:54:06.384Z"
   },
   {
    "duration": 68,
    "start_time": "2022-11-01T17:54:06.404Z"
   },
   {
    "duration": 9,
    "start_time": "2022-11-01T17:54:06.474Z"
   },
   {
    "duration": 20,
    "start_time": "2022-11-01T17:54:06.484Z"
   },
   {
    "duration": 33,
    "start_time": "2022-11-01T17:54:06.507Z"
   },
   {
    "duration": 29,
    "start_time": "2022-11-01T17:54:06.542Z"
   },
   {
    "duration": 17,
    "start_time": "2022-11-01T17:54:06.573Z"
   },
   {
    "duration": 3,
    "start_time": "2022-11-01T17:54:06.592Z"
   },
   {
    "duration": 64,
    "start_time": "2022-11-01T17:54:06.597Z"
   },
   {
    "duration": 22,
    "start_time": "2022-11-01T17:54:06.663Z"
   },
   {
    "duration": 14,
    "start_time": "2022-11-01T17:54:06.686Z"
   },
   {
    "duration": 51,
    "start_time": "2022-11-01T17:54:06.702Z"
   },
   {
    "duration": 54,
    "start_time": "2022-11-01T17:54:06.755Z"
   },
   {
    "duration": 24,
    "start_time": "2022-11-01T17:54:06.811Z"
   },
   {
    "duration": 18,
    "start_time": "2022-11-01T17:54:06.839Z"
   },
   {
    "duration": 0,
    "start_time": "2022-11-01T17:54:06.859Z"
   },
   {
    "duration": 0,
    "start_time": "2022-11-01T17:54:06.860Z"
   },
   {
    "duration": 73,
    "start_time": "2022-11-01T17:56:06.469Z"
   },
   {
    "duration": 16,
    "start_time": "2022-11-01T17:56:06.544Z"
   },
   {
    "duration": 19,
    "start_time": "2022-11-01T17:56:06.562Z"
   },
   {
    "duration": 9,
    "start_time": "2022-11-01T17:56:06.583Z"
   },
   {
    "duration": 62,
    "start_time": "2022-11-01T17:56:06.593Z"
   },
   {
    "duration": 3,
    "start_time": "2022-11-01T17:56:06.657Z"
   },
   {
    "duration": 10,
    "start_time": "2022-11-01T17:56:06.661Z"
   },
   {
    "duration": 5,
    "start_time": "2022-11-01T17:56:06.673Z"
   },
   {
    "duration": 7,
    "start_time": "2022-11-01T17:56:06.680Z"
   },
   {
    "duration": 47,
    "start_time": "2022-11-01T17:56:06.689Z"
   },
   {
    "duration": 35,
    "start_time": "2022-11-01T17:56:06.738Z"
   },
   {
    "duration": 9,
    "start_time": "2022-11-01T17:56:06.775Z"
   },
   {
    "duration": 4,
    "start_time": "2022-11-01T17:56:06.785Z"
   },
   {
    "duration": 12,
    "start_time": "2022-11-01T17:56:06.790Z"
   },
   {
    "duration": 28,
    "start_time": "2022-11-01T17:56:06.821Z"
   },
   {
    "duration": 17,
    "start_time": "2022-11-01T17:56:06.851Z"
   },
   {
    "duration": 5,
    "start_time": "2022-11-01T17:56:06.870Z"
   },
   {
    "duration": 13,
    "start_time": "2022-11-01T17:56:06.877Z"
   },
   {
    "duration": 32,
    "start_time": "2022-11-01T17:56:06.891Z"
   },
   {
    "duration": 5,
    "start_time": "2022-11-01T17:56:06.928Z"
   },
   {
    "duration": 9,
    "start_time": "2022-11-01T17:56:06.936Z"
   },
   {
    "duration": 44,
    "start_time": "2022-11-01T17:56:06.947Z"
   },
   {
    "duration": 41,
    "start_time": "2022-11-01T17:56:06.993Z"
   },
   {
    "duration": 15,
    "start_time": "2022-11-01T17:56:07.036Z"
   },
   {
    "duration": 0,
    "start_time": "2022-11-01T17:56:07.053Z"
   },
   {
    "duration": 0,
    "start_time": "2022-11-01T17:56:07.054Z"
   },
   {
    "duration": 7,
    "start_time": "2022-11-01T17:56:10.471Z"
   },
   {
    "duration": 75,
    "start_time": "2022-11-01T17:58:33.912Z"
   },
   {
    "duration": 15,
    "start_time": "2022-11-01T17:58:33.990Z"
   },
   {
    "duration": 26,
    "start_time": "2022-11-01T17:58:34.008Z"
   },
   {
    "duration": 17,
    "start_time": "2022-11-01T17:58:34.038Z"
   },
   {
    "duration": 36,
    "start_time": "2022-11-01T17:58:34.057Z"
   },
   {
    "duration": 3,
    "start_time": "2022-11-01T17:58:34.095Z"
   },
   {
    "duration": 29,
    "start_time": "2022-11-01T17:58:34.100Z"
   },
   {
    "duration": 6,
    "start_time": "2022-11-01T17:58:34.134Z"
   },
   {
    "duration": 10,
    "start_time": "2022-11-01T17:58:34.141Z"
   },
   {
    "duration": 6,
    "start_time": "2022-11-01T17:58:34.153Z"
   },
   {
    "duration": 39,
    "start_time": "2022-11-01T17:58:34.162Z"
   },
   {
    "duration": 20,
    "start_time": "2022-11-01T17:58:34.203Z"
   },
   {
    "duration": 5,
    "start_time": "2022-11-01T17:58:34.232Z"
   },
   {
    "duration": 17,
    "start_time": "2022-11-01T17:58:34.239Z"
   },
   {
    "duration": 24,
    "start_time": "2022-11-01T17:58:34.258Z"
   },
   {
    "duration": 18,
    "start_time": "2022-11-01T17:58:34.284Z"
   },
   {
    "duration": 4,
    "start_time": "2022-11-01T17:58:34.303Z"
   },
   {
    "duration": 15,
    "start_time": "2022-11-01T17:58:34.320Z"
   },
   {
    "duration": 9,
    "start_time": "2022-11-01T17:58:34.337Z"
   },
   {
    "duration": 4,
    "start_time": "2022-11-01T17:58:34.348Z"
   },
   {
    "duration": 17,
    "start_time": "2022-11-01T17:58:34.353Z"
   },
   {
    "duration": 70,
    "start_time": "2022-11-01T17:58:34.371Z"
   },
   {
    "duration": 5,
    "start_time": "2022-11-01T17:58:34.444Z"
   },
   {
    "duration": 14,
    "start_time": "2022-11-01T17:58:34.451Z"
   },
   {
    "duration": 0,
    "start_time": "2022-11-01T17:58:34.467Z"
   },
   {
    "duration": 0,
    "start_time": "2022-11-01T17:58:34.468Z"
   },
   {
    "duration": 67,
    "start_time": "2022-11-01T17:58:41.735Z"
   },
   {
    "duration": 28,
    "start_time": "2022-11-01T17:58:41.804Z"
   },
   {
    "duration": 33,
    "start_time": "2022-11-01T17:58:41.834Z"
   },
   {
    "duration": 10,
    "start_time": "2022-11-01T17:58:41.868Z"
   },
   {
    "duration": 34,
    "start_time": "2022-11-01T17:58:41.880Z"
   },
   {
    "duration": 3,
    "start_time": "2022-11-01T17:58:41.916Z"
   },
   {
    "duration": 21,
    "start_time": "2022-11-01T17:58:41.926Z"
   },
   {
    "duration": 5,
    "start_time": "2022-11-01T17:58:41.949Z"
   },
   {
    "duration": 7,
    "start_time": "2022-11-01T17:58:41.956Z"
   },
   {
    "duration": 5,
    "start_time": "2022-11-01T17:58:41.965Z"
   },
   {
    "duration": 39,
    "start_time": "2022-11-01T17:58:41.972Z"
   },
   {
    "duration": 24,
    "start_time": "2022-11-01T17:58:42.012Z"
   },
   {
    "duration": 9,
    "start_time": "2022-11-01T17:58:42.038Z"
   },
   {
    "duration": 14,
    "start_time": "2022-11-01T17:58:42.049Z"
   },
   {
    "duration": 24,
    "start_time": "2022-11-01T17:58:42.065Z"
   },
   {
    "duration": 34,
    "start_time": "2022-11-01T17:58:42.091Z"
   },
   {
    "duration": 9,
    "start_time": "2022-11-01T17:58:42.130Z"
   },
   {
    "duration": 23,
    "start_time": "2022-11-01T17:58:42.141Z"
   },
   {
    "duration": 17,
    "start_time": "2022-11-01T17:58:42.166Z"
   },
   {
    "duration": 8,
    "start_time": "2022-11-01T17:58:42.185Z"
   },
   {
    "duration": 17,
    "start_time": "2022-11-01T17:58:42.195Z"
   },
   {
    "duration": 74,
    "start_time": "2022-11-01T17:58:42.214Z"
   },
   {
    "duration": 4,
    "start_time": "2022-11-01T17:58:42.290Z"
   },
   {
    "duration": 16,
    "start_time": "2022-11-01T17:58:42.296Z"
   },
   {
    "duration": 0,
    "start_time": "2022-11-01T17:58:42.314Z"
   },
   {
    "duration": 0,
    "start_time": "2022-11-01T17:58:42.315Z"
   },
   {
    "duration": 64,
    "start_time": "2022-11-01T17:58:53.147Z"
   },
   {
    "duration": 24,
    "start_time": "2022-11-01T17:58:53.213Z"
   },
   {
    "duration": 20,
    "start_time": "2022-11-01T17:58:53.238Z"
   },
   {
    "duration": 15,
    "start_time": "2022-11-01T17:58:53.260Z"
   },
   {
    "duration": 37,
    "start_time": "2022-11-01T17:58:53.277Z"
   },
   {
    "duration": 18,
    "start_time": "2022-11-01T17:58:53.316Z"
   },
   {
    "duration": 12,
    "start_time": "2022-11-01T17:58:53.335Z"
   },
   {
    "duration": 5,
    "start_time": "2022-11-01T17:58:53.348Z"
   },
   {
    "duration": 10,
    "start_time": "2022-11-01T17:58:53.355Z"
   },
   {
    "duration": 5,
    "start_time": "2022-11-01T17:58:53.367Z"
   },
   {
    "duration": 54,
    "start_time": "2022-11-01T17:58:53.373Z"
   },
   {
    "duration": 12,
    "start_time": "2022-11-01T17:58:53.429Z"
   },
   {
    "duration": 17,
    "start_time": "2022-11-01T17:58:53.443Z"
   },
   {
    "duration": 18,
    "start_time": "2022-11-01T17:58:53.463Z"
   },
   {
    "duration": 23,
    "start_time": "2022-11-01T17:58:53.483Z"
   },
   {
    "duration": 23,
    "start_time": "2022-11-01T17:58:53.507Z"
   },
   {
    "duration": 5,
    "start_time": "2022-11-01T17:58:53.534Z"
   },
   {
    "duration": 29,
    "start_time": "2022-11-01T17:58:53.541Z"
   },
   {
    "duration": 5,
    "start_time": "2022-11-01T17:58:53.573Z"
   },
   {
    "duration": 14,
    "start_time": "2022-11-01T17:58:53.580Z"
   },
   {
    "duration": 20,
    "start_time": "2022-11-01T17:58:53.596Z"
   },
   {
    "duration": 78,
    "start_time": "2022-11-01T17:58:53.617Z"
   },
   {
    "duration": 12,
    "start_time": "2022-11-01T17:58:53.697Z"
   },
   {
    "duration": 21,
    "start_time": "2022-11-01T17:58:53.711Z"
   },
   {
    "duration": 0,
    "start_time": "2022-11-01T17:58:53.738Z"
   },
   {
    "duration": 0,
    "start_time": "2022-11-01T17:58:53.739Z"
   },
   {
    "duration": 98,
    "start_time": "2022-11-01T17:59:08.819Z"
   },
   {
    "duration": 21,
    "start_time": "2022-11-01T17:59:08.922Z"
   },
   {
    "duration": 42,
    "start_time": "2022-11-01T17:59:08.947Z"
   },
   {
    "duration": 46,
    "start_time": "2022-11-01T17:59:08.993Z"
   },
   {
    "duration": 101,
    "start_time": "2022-11-01T17:59:09.043Z"
   },
   {
    "duration": 33,
    "start_time": "2022-11-01T17:59:09.146Z"
   },
   {
    "duration": 30,
    "start_time": "2022-11-01T17:59:09.182Z"
   },
   {
    "duration": 13,
    "start_time": "2022-11-01T17:59:09.214Z"
   },
   {
    "duration": 35,
    "start_time": "2022-11-01T17:59:09.228Z"
   },
   {
    "duration": 50,
    "start_time": "2022-11-01T17:59:09.266Z"
   },
   {
    "duration": 72,
    "start_time": "2022-11-01T17:59:09.318Z"
   },
   {
    "duration": 11,
    "start_time": "2022-11-01T17:59:09.392Z"
   },
   {
    "duration": 11,
    "start_time": "2022-11-01T17:59:09.405Z"
   },
   {
    "duration": 37,
    "start_time": "2022-11-01T17:59:09.418Z"
   },
   {
    "duration": 43,
    "start_time": "2022-11-01T17:59:09.456Z"
   },
   {
    "duration": 57,
    "start_time": "2022-11-01T17:59:09.500Z"
   },
   {
    "duration": 22,
    "start_time": "2022-11-01T17:59:09.559Z"
   },
   {
    "duration": 24,
    "start_time": "2022-11-01T17:59:09.583Z"
   },
   {
    "duration": 17,
    "start_time": "2022-11-01T17:59:09.608Z"
   },
   {
    "duration": 5,
    "start_time": "2022-11-01T17:59:09.635Z"
   },
   {
    "duration": 28,
    "start_time": "2022-11-01T17:59:09.642Z"
   },
   {
    "duration": 61,
    "start_time": "2022-11-01T17:59:09.671Z"
   },
   {
    "duration": 14,
    "start_time": "2022-11-01T17:59:09.734Z"
   },
   {
    "duration": 14,
    "start_time": "2022-11-01T17:59:09.750Z"
   },
   {
    "duration": 14,
    "start_time": "2022-11-01T17:59:09.766Z"
   },
   {
    "duration": 10,
    "start_time": "2022-11-01T18:01:11.470Z"
   },
   {
    "duration": 13,
    "start_time": "2022-11-01T18:04:11.742Z"
   },
   {
    "duration": 519,
    "start_time": "2022-11-01T18:06:48.848Z"
   },
   {
    "duration": 30,
    "start_time": "2022-11-01T18:06:49.370Z"
   },
   {
    "duration": 26,
    "start_time": "2022-11-01T18:06:49.402Z"
   },
   {
    "duration": 13,
    "start_time": "2022-11-01T18:06:49.431Z"
   },
   {
    "duration": 50,
    "start_time": "2022-11-01T18:06:49.446Z"
   },
   {
    "duration": 4,
    "start_time": "2022-11-01T18:06:49.498Z"
   },
   {
    "duration": 40,
    "start_time": "2022-11-01T18:06:49.504Z"
   },
   {
    "duration": 14,
    "start_time": "2022-11-01T18:06:49.546Z"
   },
   {
    "duration": 25,
    "start_time": "2022-11-01T18:06:49.561Z"
   },
   {
    "duration": 28,
    "start_time": "2022-11-01T18:06:49.589Z"
   },
   {
    "duration": 49,
    "start_time": "2022-11-01T18:06:49.619Z"
   },
   {
    "duration": 14,
    "start_time": "2022-11-01T18:06:49.670Z"
   },
   {
    "duration": 21,
    "start_time": "2022-11-01T18:06:49.686Z"
   },
   {
    "duration": 33,
    "start_time": "2022-11-01T18:06:49.709Z"
   },
   {
    "duration": 29,
    "start_time": "2022-11-01T18:06:49.743Z"
   },
   {
    "duration": 22,
    "start_time": "2022-11-01T18:06:49.774Z"
   },
   {
    "duration": 4,
    "start_time": "2022-11-01T18:06:49.798Z"
   },
   {
    "duration": 12,
    "start_time": "2022-11-01T18:06:49.804Z"
   },
   {
    "duration": 13,
    "start_time": "2022-11-01T18:06:49.818Z"
   },
   {
    "duration": 4,
    "start_time": "2022-11-01T18:06:49.833Z"
   },
   {
    "duration": 12,
    "start_time": "2022-11-01T18:06:49.839Z"
   },
   {
    "duration": 49,
    "start_time": "2022-11-01T18:06:49.852Z"
   },
   {
    "duration": 26,
    "start_time": "2022-11-01T18:06:49.903Z"
   },
   {
    "duration": 7,
    "start_time": "2022-11-01T18:06:49.931Z"
   },
   {
    "duration": 9,
    "start_time": "2022-11-01T18:06:49.939Z"
   },
   {
    "duration": 89,
    "start_time": "2022-11-01T18:07:47.931Z"
   },
   {
    "duration": 7,
    "start_time": "2022-11-01T18:08:05.790Z"
   },
   {
    "duration": 67,
    "start_time": "2022-11-01T18:08:09.509Z"
   },
   {
    "duration": 16,
    "start_time": "2022-11-01T18:08:09.578Z"
   },
   {
    "duration": 16,
    "start_time": "2022-11-01T18:08:09.596Z"
   },
   {
    "duration": 11,
    "start_time": "2022-11-01T18:08:09.621Z"
   },
   {
    "duration": 32,
    "start_time": "2022-11-01T18:08:09.634Z"
   },
   {
    "duration": 4,
    "start_time": "2022-11-01T18:08:09.669Z"
   },
   {
    "duration": 11,
    "start_time": "2022-11-01T18:08:09.675Z"
   },
   {
    "duration": 37,
    "start_time": "2022-11-01T18:08:09.688Z"
   },
   {
    "duration": 8,
    "start_time": "2022-11-01T18:08:09.727Z"
   },
   {
    "duration": 5,
    "start_time": "2022-11-01T18:08:09.738Z"
   },
   {
    "duration": 44,
    "start_time": "2022-11-01T18:08:09.745Z"
   },
   {
    "duration": 35,
    "start_time": "2022-11-01T18:08:09.791Z"
   },
   {
    "duration": 4,
    "start_time": "2022-11-01T18:08:09.828Z"
   },
   {
    "duration": 30,
    "start_time": "2022-11-01T18:08:09.835Z"
   },
   {
    "duration": 22,
    "start_time": "2022-11-01T18:08:09.867Z"
   },
   {
    "duration": 45,
    "start_time": "2022-11-01T18:08:09.891Z"
   },
   {
    "duration": 5,
    "start_time": "2022-11-01T18:08:09.938Z"
   },
   {
    "duration": 15,
    "start_time": "2022-11-01T18:08:09.945Z"
   },
   {
    "duration": 19,
    "start_time": "2022-11-01T18:08:09.962Z"
   },
   {
    "duration": 12,
    "start_time": "2022-11-01T18:08:09.983Z"
   },
   {
    "duration": 13,
    "start_time": "2022-11-01T18:08:09.997Z"
   },
   {
    "duration": 53,
    "start_time": "2022-11-01T18:08:10.013Z"
   },
   {
    "duration": 13,
    "start_time": "2022-11-01T18:08:10.068Z"
   },
   {
    "duration": 14,
    "start_time": "2022-11-01T18:08:10.083Z"
   },
   {
    "duration": 0,
    "start_time": "2022-11-01T18:08:10.120Z"
   },
   {
    "duration": 0,
    "start_time": "2022-11-01T18:08:10.122Z"
   },
   {
    "duration": 65,
    "start_time": "2022-11-01T18:12:51.429Z"
   },
   {
    "duration": 15,
    "start_time": "2022-11-01T18:12:51.496Z"
   },
   {
    "duration": 23,
    "start_time": "2022-11-01T18:12:51.513Z"
   },
   {
    "duration": 10,
    "start_time": "2022-11-01T18:12:51.539Z"
   },
   {
    "duration": 40,
    "start_time": "2022-11-01T18:12:51.551Z"
   },
   {
    "duration": 4,
    "start_time": "2022-11-01T18:12:51.592Z"
   },
   {
    "duration": 33,
    "start_time": "2022-11-01T18:12:51.597Z"
   },
   {
    "duration": 5,
    "start_time": "2022-11-01T18:12:51.632Z"
   },
   {
    "duration": 16,
    "start_time": "2022-11-01T18:12:51.638Z"
   },
   {
    "duration": 9,
    "start_time": "2022-11-01T18:12:51.657Z"
   },
   {
    "duration": 50,
    "start_time": "2022-11-01T18:12:51.668Z"
   },
   {
    "duration": 13,
    "start_time": "2022-11-01T18:12:51.720Z"
   },
   {
    "duration": 20,
    "start_time": "2022-11-01T18:12:51.734Z"
   },
   {
    "duration": 27,
    "start_time": "2022-11-01T18:12:51.756Z"
   },
   {
    "duration": 34,
    "start_time": "2022-11-01T18:12:51.785Z"
   },
   {
    "duration": 20,
    "start_time": "2022-11-01T18:12:51.821Z"
   },
   {
    "duration": 4,
    "start_time": "2022-11-01T18:12:51.843Z"
   },
   {
    "duration": 47,
    "start_time": "2022-11-01T18:12:51.849Z"
   },
   {
    "duration": 21,
    "start_time": "2022-11-01T18:12:51.898Z"
   },
   {
    "duration": 17,
    "start_time": "2022-11-01T18:12:51.920Z"
   },
   {
    "duration": 17,
    "start_time": "2022-11-01T18:12:51.939Z"
   },
   {
    "duration": 54,
    "start_time": "2022-11-01T18:12:51.958Z"
   },
   {
    "duration": 13,
    "start_time": "2022-11-01T18:12:52.014Z"
   },
   {
    "duration": 11,
    "start_time": "2022-11-01T18:12:52.029Z"
   },
   {
    "duration": 0,
    "start_time": "2022-11-01T18:12:52.042Z"
   },
   {
    "duration": 0,
    "start_time": "2022-11-01T18:12:52.043Z"
   },
   {
    "duration": 7,
    "start_time": "2022-11-01T18:13:15.902Z"
   },
   {
    "duration": 10,
    "start_time": "2022-11-01T18:13:28.960Z"
   },
   {
    "duration": 7,
    "start_time": "2022-11-01T18:13:43.581Z"
   },
   {
    "duration": 7,
    "start_time": "2022-11-01T18:21:02.045Z"
   },
   {
    "duration": 71,
    "start_time": "2022-11-01T18:21:15.117Z"
   },
   {
    "duration": 15,
    "start_time": "2022-11-01T18:21:15.190Z"
   },
   {
    "duration": 20,
    "start_time": "2022-11-01T18:21:15.206Z"
   },
   {
    "duration": 9,
    "start_time": "2022-11-01T18:21:15.227Z"
   },
   {
    "duration": 33,
    "start_time": "2022-11-01T18:21:15.238Z"
   },
   {
    "duration": 5,
    "start_time": "2022-11-01T18:21:15.272Z"
   },
   {
    "duration": 11,
    "start_time": "2022-11-01T18:21:15.279Z"
   },
   {
    "duration": 4,
    "start_time": "2022-11-01T18:21:15.292Z"
   },
   {
    "duration": 7,
    "start_time": "2022-11-01T18:21:15.321Z"
   },
   {
    "duration": 5,
    "start_time": "2022-11-01T18:21:15.331Z"
   },
   {
    "duration": 40,
    "start_time": "2022-11-01T18:21:15.338Z"
   },
   {
    "duration": 9,
    "start_time": "2022-11-01T18:21:15.380Z"
   },
   {
    "duration": 29,
    "start_time": "2022-11-01T18:21:15.391Z"
   },
   {
    "duration": 10,
    "start_time": "2022-11-01T18:21:15.423Z"
   },
   {
    "duration": 29,
    "start_time": "2022-11-01T18:21:15.434Z"
   },
   {
    "duration": 19,
    "start_time": "2022-11-01T18:21:15.465Z"
   },
   {
    "duration": 4,
    "start_time": "2022-11-01T18:21:15.485Z"
   },
   {
    "duration": 36,
    "start_time": "2022-11-01T18:21:15.491Z"
   },
   {
    "duration": 8,
    "start_time": "2022-11-01T18:21:15.529Z"
   },
   {
    "duration": 4,
    "start_time": "2022-11-01T18:21:15.539Z"
   },
   {
    "duration": 13,
    "start_time": "2022-11-01T18:21:15.545Z"
   },
   {
    "duration": 71,
    "start_time": "2022-11-01T18:21:15.560Z"
   },
   {
    "duration": 12,
    "start_time": "2022-11-01T18:21:15.632Z"
   },
   {
    "duration": 14,
    "start_time": "2022-11-01T18:21:15.646Z"
   },
   {
    "duration": 0,
    "start_time": "2022-11-01T18:21:15.661Z"
   },
   {
    "duration": 0,
    "start_time": "2022-11-01T18:21:15.663Z"
   },
   {
    "duration": 10,
    "start_time": "2022-11-01T18:22:05.715Z"
   },
   {
    "duration": 67,
    "start_time": "2022-11-01T18:22:08.370Z"
   },
   {
    "duration": 15,
    "start_time": "2022-11-01T18:22:08.439Z"
   },
   {
    "duration": 17,
    "start_time": "2022-11-01T18:22:08.456Z"
   },
   {
    "duration": 9,
    "start_time": "2022-11-01T18:22:08.475Z"
   },
   {
    "duration": 68,
    "start_time": "2022-11-01T18:22:08.486Z"
   },
   {
    "duration": 3,
    "start_time": "2022-11-01T18:22:08.556Z"
   },
   {
    "duration": 10,
    "start_time": "2022-11-01T18:22:08.561Z"
   },
   {
    "duration": 4,
    "start_time": "2022-11-01T18:22:08.572Z"
   },
   {
    "duration": 14,
    "start_time": "2022-11-01T18:22:08.577Z"
   },
   {
    "duration": 8,
    "start_time": "2022-11-01T18:22:08.594Z"
   },
   {
    "duration": 47,
    "start_time": "2022-11-01T18:22:08.603Z"
   },
   {
    "duration": 8,
    "start_time": "2022-11-01T18:22:08.652Z"
   },
   {
    "duration": 4,
    "start_time": "2022-11-01T18:22:08.662Z"
   },
   {
    "duration": 11,
    "start_time": "2022-11-01T18:22:08.667Z"
   },
   {
    "duration": 16,
    "start_time": "2022-11-01T18:22:08.680Z"
   },
   {
    "duration": 38,
    "start_time": "2022-11-01T18:22:08.698Z"
   },
   {
    "duration": 3,
    "start_time": "2022-11-01T18:22:08.738Z"
   },
   {
    "duration": 16,
    "start_time": "2022-11-01T18:22:08.743Z"
   },
   {
    "duration": 12,
    "start_time": "2022-11-01T18:22:08.761Z"
   },
   {
    "duration": 4,
    "start_time": "2022-11-01T18:22:08.774Z"
   },
   {
    "duration": 12,
    "start_time": "2022-11-01T18:22:08.779Z"
   },
   {
    "duration": 66,
    "start_time": "2022-11-01T18:22:08.793Z"
   },
   {
    "duration": 16,
    "start_time": "2022-11-01T18:22:08.861Z"
   },
   {
    "duration": 32,
    "start_time": "2022-11-01T18:22:08.879Z"
   },
   {
    "duration": 0,
    "start_time": "2022-11-01T18:22:08.913Z"
   },
   {
    "duration": 0,
    "start_time": "2022-11-01T18:22:08.915Z"
   },
   {
    "duration": 46,
    "start_time": "2022-11-01T18:27:32.136Z"
   },
   {
    "duration": 6,
    "start_time": "2022-11-01T18:40:29.848Z"
   },
   {
    "duration": 482,
    "start_time": "2022-11-01T18:40:36.323Z"
   },
   {
    "duration": 30,
    "start_time": "2022-11-01T18:40:36.807Z"
   },
   {
    "duration": 17,
    "start_time": "2022-11-01T18:40:36.840Z"
   },
   {
    "duration": 9,
    "start_time": "2022-11-01T18:40:36.859Z"
   },
   {
    "duration": 35,
    "start_time": "2022-11-01T18:40:36.870Z"
   },
   {
    "duration": 5,
    "start_time": "2022-11-01T18:40:36.921Z"
   },
   {
    "duration": 32,
    "start_time": "2022-11-01T18:40:36.928Z"
   },
   {
    "duration": 16,
    "start_time": "2022-11-01T18:40:36.962Z"
   },
   {
    "duration": 11,
    "start_time": "2022-11-01T18:40:36.980Z"
   },
   {
    "duration": 5,
    "start_time": "2022-11-01T18:40:36.995Z"
   },
   {
    "duration": 59,
    "start_time": "2022-11-01T18:40:37.002Z"
   },
   {
    "duration": 14,
    "start_time": "2022-11-01T18:40:37.063Z"
   },
   {
    "duration": 5,
    "start_time": "2022-11-01T18:40:37.078Z"
   },
   {
    "duration": 26,
    "start_time": "2022-11-01T18:40:37.085Z"
   },
   {
    "duration": 55,
    "start_time": "2022-11-01T18:40:37.112Z"
   },
   {
    "duration": 19,
    "start_time": "2022-11-01T18:40:37.169Z"
   },
   {
    "duration": 5,
    "start_time": "2022-11-01T18:40:37.189Z"
   },
   {
    "duration": 46,
    "start_time": "2022-11-01T18:40:37.195Z"
   },
   {
    "duration": 13,
    "start_time": "2022-11-01T18:40:37.247Z"
   },
   {
    "duration": 7,
    "start_time": "2022-11-01T18:40:37.263Z"
   },
   {
    "duration": 21,
    "start_time": "2022-11-01T18:40:37.272Z"
   },
   {
    "duration": 72,
    "start_time": "2022-11-01T18:40:37.295Z"
   },
   {
    "duration": 12,
    "start_time": "2022-11-01T18:40:37.368Z"
   },
   {
    "duration": 80,
    "start_time": "2022-11-01T18:40:37.382Z"
   },
   {
    "duration": 0,
    "start_time": "2022-11-01T18:40:37.463Z"
   },
   {
    "duration": 0,
    "start_time": "2022-11-01T18:40:37.465Z"
   },
   {
    "duration": 11,
    "start_time": "2022-11-01T19:02:46.778Z"
   },
   {
    "duration": 67,
    "start_time": "2022-11-01T19:02:49.746Z"
   },
   {
    "duration": 17,
    "start_time": "2022-11-01T19:02:49.815Z"
   },
   {
    "duration": 20,
    "start_time": "2022-11-01T19:02:49.834Z"
   },
   {
    "duration": 9,
    "start_time": "2022-11-01T19:02:49.857Z"
   },
   {
    "duration": 31,
    "start_time": "2022-11-01T19:02:49.868Z"
   },
   {
    "duration": 20,
    "start_time": "2022-11-01T19:02:49.901Z"
   },
   {
    "duration": 10,
    "start_time": "2022-11-01T19:02:49.923Z"
   },
   {
    "duration": 4,
    "start_time": "2022-11-01T19:02:49.934Z"
   },
   {
    "duration": 14,
    "start_time": "2022-11-01T19:02:49.940Z"
   },
   {
    "duration": 4,
    "start_time": "2022-11-01T19:02:49.957Z"
   },
   {
    "duration": 31,
    "start_time": "2022-11-01T19:02:49.963Z"
   },
   {
    "duration": 29,
    "start_time": "2022-11-01T19:02:49.995Z"
   },
   {
    "duration": 10,
    "start_time": "2022-11-01T19:02:50.026Z"
   },
   {
    "duration": 19,
    "start_time": "2022-11-01T19:02:50.037Z"
   },
   {
    "duration": 27,
    "start_time": "2022-11-01T19:02:50.057Z"
   },
   {
    "duration": 17,
    "start_time": "2022-11-01T19:02:50.086Z"
   },
   {
    "duration": 3,
    "start_time": "2022-11-01T19:02:50.105Z"
   },
   {
    "duration": 15,
    "start_time": "2022-11-01T19:02:50.110Z"
   },
   {
    "duration": 10,
    "start_time": "2022-11-01T19:02:50.126Z"
   },
   {
    "duration": 3,
    "start_time": "2022-11-01T19:02:50.137Z"
   },
   {
    "duration": 24,
    "start_time": "2022-11-01T19:02:50.142Z"
   },
   {
    "duration": 42,
    "start_time": "2022-11-01T19:02:50.167Z"
   },
   {
    "duration": 17,
    "start_time": "2022-11-01T19:02:50.210Z"
   },
   {
    "duration": 11,
    "start_time": "2022-11-01T19:02:50.229Z"
   },
   {
    "duration": 2,
    "start_time": "2022-11-01T19:02:50.242Z"
   },
   {
    "duration": 4,
    "start_time": "2022-11-01T19:02:50.246Z"
   },
   {
    "duration": 3,
    "start_time": "2022-11-01T19:08:57.364Z"
   },
   {
    "duration": 5,
    "start_time": "2022-11-01T19:09:45.692Z"
   },
   {
    "duration": 10,
    "start_time": "2022-11-01T19:11:35.501Z"
   },
   {
    "duration": 68,
    "start_time": "2022-11-01T19:11:39.687Z"
   },
   {
    "duration": 14,
    "start_time": "2022-11-01T19:11:39.757Z"
   },
   {
    "duration": 40,
    "start_time": "2022-11-01T19:11:39.772Z"
   },
   {
    "duration": 31,
    "start_time": "2022-11-01T19:11:39.814Z"
   },
   {
    "duration": 40,
    "start_time": "2022-11-01T19:11:39.847Z"
   },
   {
    "duration": 5,
    "start_time": "2022-11-01T19:11:39.889Z"
   },
   {
    "duration": 42,
    "start_time": "2022-11-01T19:11:39.895Z"
   },
   {
    "duration": 25,
    "start_time": "2022-11-01T19:11:39.939Z"
   },
   {
    "duration": 43,
    "start_time": "2022-11-01T19:11:39.965Z"
   },
   {
    "duration": 25,
    "start_time": "2022-11-01T19:11:40.010Z"
   },
   {
    "duration": 68,
    "start_time": "2022-11-01T19:11:40.037Z"
   },
   {
    "duration": 19,
    "start_time": "2022-11-01T19:11:40.106Z"
   },
   {
    "duration": 44,
    "start_time": "2022-11-01T19:11:40.126Z"
   },
   {
    "duration": 43,
    "start_time": "2022-11-01T19:11:40.171Z"
   },
   {
    "duration": 43,
    "start_time": "2022-11-01T19:11:40.216Z"
   },
   {
    "duration": 24,
    "start_time": "2022-11-01T19:11:40.261Z"
   },
   {
    "duration": 9,
    "start_time": "2022-11-01T19:11:40.287Z"
   },
   {
    "duration": 39,
    "start_time": "2022-11-01T19:11:40.298Z"
   },
   {
    "duration": 25,
    "start_time": "2022-11-01T19:11:40.338Z"
   },
   {
    "duration": 27,
    "start_time": "2022-11-01T19:11:40.365Z"
   },
   {
    "duration": 31,
    "start_time": "2022-11-01T19:11:40.394Z"
   },
   {
    "duration": 65,
    "start_time": "2022-11-01T19:11:40.426Z"
   },
   {
    "duration": 12,
    "start_time": "2022-11-01T19:11:40.493Z"
   },
   {
    "duration": 40,
    "start_time": "2022-11-01T19:11:40.507Z"
   },
   {
    "duration": 0,
    "start_time": "2022-11-01T19:11:40.549Z"
   },
   {
    "duration": 0,
    "start_time": "2022-11-01T19:11:40.550Z"
   },
   {
    "duration": 10,
    "start_time": "2022-11-01T19:11:43.418Z"
   },
   {
    "duration": 12,
    "start_time": "2022-11-01T19:11:57.019Z"
   },
   {
    "duration": 8,
    "start_time": "2022-11-01T19:12:13.835Z"
   },
   {
    "duration": 14,
    "start_time": "2022-11-01T19:14:36.040Z"
   },
   {
    "duration": 43,
    "start_time": "2022-11-01T19:18:39.753Z"
   },
   {
    "duration": 13,
    "start_time": "2022-11-01T19:19:44.048Z"
   },
   {
    "duration": 65,
    "start_time": "2022-11-01T19:19:48.338Z"
   },
   {
    "duration": 14,
    "start_time": "2022-11-01T19:19:48.405Z"
   },
   {
    "duration": 18,
    "start_time": "2022-11-01T19:19:48.420Z"
   },
   {
    "duration": 30,
    "start_time": "2022-11-01T19:19:48.441Z"
   },
   {
    "duration": 76,
    "start_time": "2022-11-01T19:19:48.472Z"
   },
   {
    "duration": 4,
    "start_time": "2022-11-01T19:19:48.550Z"
   },
   {
    "duration": 16,
    "start_time": "2022-11-01T19:19:48.555Z"
   },
   {
    "duration": 11,
    "start_time": "2022-11-01T19:19:48.572Z"
   },
   {
    "duration": 20,
    "start_time": "2022-11-01T19:19:48.585Z"
   },
   {
    "duration": 7,
    "start_time": "2022-11-01T19:19:48.608Z"
   },
   {
    "duration": 36,
    "start_time": "2022-11-01T19:19:48.617Z"
   },
   {
    "duration": 9,
    "start_time": "2022-11-01T19:19:48.655Z"
   },
   {
    "duration": 6,
    "start_time": "2022-11-01T19:19:48.666Z"
   },
   {
    "duration": 12,
    "start_time": "2022-11-01T19:19:48.674Z"
   },
   {
    "duration": 20,
    "start_time": "2022-11-01T19:19:48.687Z"
   },
   {
    "duration": 27,
    "start_time": "2022-11-01T19:19:48.709Z"
   },
   {
    "duration": 3,
    "start_time": "2022-11-01T19:19:48.738Z"
   },
   {
    "duration": 13,
    "start_time": "2022-11-01T19:19:48.743Z"
   },
   {
    "duration": 5,
    "start_time": "2022-11-01T19:19:48.758Z"
   },
   {
    "duration": 5,
    "start_time": "2022-11-01T19:19:48.764Z"
   },
   {
    "duration": 13,
    "start_time": "2022-11-01T19:19:48.770Z"
   },
   {
    "duration": 65,
    "start_time": "2022-11-01T19:19:48.784Z"
   },
   {
    "duration": 15,
    "start_time": "2022-11-01T19:19:48.851Z"
   },
   {
    "duration": 37,
    "start_time": "2022-11-01T19:19:48.868Z"
   },
   {
    "duration": 0,
    "start_time": "2022-11-01T19:19:48.907Z"
   },
   {
    "duration": 0,
    "start_time": "2022-11-01T19:19:48.908Z"
   },
   {
    "duration": 9,
    "start_time": "2022-11-01T19:20:34.994Z"
   },
   {
    "duration": 8,
    "start_time": "2022-11-01T19:20:56.494Z"
   },
   {
    "duration": 9,
    "start_time": "2022-11-01T19:22:52.184Z"
   },
   {
    "duration": 14,
    "start_time": "2022-11-01T19:23:38.113Z"
   },
   {
    "duration": 10,
    "start_time": "2022-11-01T19:23:42.865Z"
   },
   {
    "duration": 10,
    "start_time": "2022-11-01T19:24:24.665Z"
   },
   {
    "duration": 4,
    "start_time": "2022-11-01T19:24:30.503Z"
   },
   {
    "duration": 8,
    "start_time": "2022-11-01T19:25:29.857Z"
   },
   {
    "duration": 11,
    "start_time": "2022-11-01T19:26:59.783Z"
   },
   {
    "duration": 72,
    "start_time": "2022-11-01T19:27:03.681Z"
   },
   {
    "duration": 17,
    "start_time": "2022-11-01T19:27:03.755Z"
   },
   {
    "duration": 26,
    "start_time": "2022-11-01T19:27:03.775Z"
   },
   {
    "duration": 26,
    "start_time": "2022-11-01T19:27:03.803Z"
   },
   {
    "duration": 52,
    "start_time": "2022-11-01T19:27:03.831Z"
   },
   {
    "duration": 4,
    "start_time": "2022-11-01T19:27:03.884Z"
   },
   {
    "duration": 13,
    "start_time": "2022-11-01T19:27:03.889Z"
   },
   {
    "duration": 8,
    "start_time": "2022-11-01T19:27:03.904Z"
   },
   {
    "duration": 7,
    "start_time": "2022-11-01T19:27:03.913Z"
   },
   {
    "duration": 14,
    "start_time": "2022-11-01T19:27:03.923Z"
   },
   {
    "duration": 38,
    "start_time": "2022-11-01T19:27:03.939Z"
   },
   {
    "duration": 9,
    "start_time": "2022-11-01T19:27:03.979Z"
   },
   {
    "duration": 4,
    "start_time": "2022-11-01T19:27:03.990Z"
   },
   {
    "duration": 29,
    "start_time": "2022-11-01T19:27:03.995Z"
   },
   {
    "duration": 30,
    "start_time": "2022-11-01T19:27:04.026Z"
   },
   {
    "duration": 20,
    "start_time": "2022-11-01T19:27:04.058Z"
   },
   {
    "duration": 4,
    "start_time": "2022-11-01T19:27:04.079Z"
   },
   {
    "duration": 15,
    "start_time": "2022-11-01T19:27:04.085Z"
   },
   {
    "duration": 23,
    "start_time": "2022-11-01T19:27:04.101Z"
   },
   {
    "duration": 7,
    "start_time": "2022-11-01T19:27:04.127Z"
   },
   {
    "duration": 27,
    "start_time": "2022-11-01T19:27:04.136Z"
   },
   {
    "duration": 51,
    "start_time": "2022-11-01T19:27:04.164Z"
   },
   {
    "duration": 17,
    "start_time": "2022-11-01T19:27:04.220Z"
   },
   {
    "duration": 18,
    "start_time": "2022-11-01T19:27:04.239Z"
   },
   {
    "duration": 0,
    "start_time": "2022-11-01T19:27:04.259Z"
   },
   {
    "duration": 0,
    "start_time": "2022-11-01T19:27:04.261Z"
   },
   {
    "duration": 13,
    "start_time": "2022-11-01T19:27:33.115Z"
   },
   {
    "duration": 68,
    "start_time": "2022-11-01T19:28:11.186Z"
   },
   {
    "duration": 13,
    "start_time": "2022-11-01T19:28:27.929Z"
   },
   {
    "duration": 10,
    "start_time": "2022-11-01T19:29:15.418Z"
   },
   {
    "duration": 11,
    "start_time": "2022-11-01T19:29:40.950Z"
   },
   {
    "duration": 36,
    "start_time": "2022-11-01T19:30:41.037Z"
   },
   {
    "duration": 15,
    "start_time": "2022-11-01T19:30:58.675Z"
   },
   {
    "duration": 19,
    "start_time": "2022-11-01T19:31:13.082Z"
   },
   {
    "duration": 34,
    "start_time": "2022-11-01T19:31:47.876Z"
   },
   {
    "duration": 6,
    "start_time": "2022-11-01T19:39:18.032Z"
   },
   {
    "duration": 7,
    "start_time": "2022-11-01T19:45:21.762Z"
   },
   {
    "duration": 6,
    "start_time": "2022-11-01T19:45:47.981Z"
   },
   {
    "duration": 13,
    "start_time": "2022-11-01T19:50:05.057Z"
   },
   {
    "duration": 12,
    "start_time": "2022-11-01T19:50:16.983Z"
   },
   {
    "duration": 45,
    "start_time": "2022-11-02T04:54:02.872Z"
   },
   {
    "duration": 742,
    "start_time": "2022-11-02T04:54:07.452Z"
   },
   {
    "duration": 22,
    "start_time": "2022-11-02T04:54:08.196Z"
   },
   {
    "duration": 15,
    "start_time": "2022-11-02T04:54:08.220Z"
   },
   {
    "duration": 10,
    "start_time": "2022-11-02T04:54:08.238Z"
   },
   {
    "duration": 32,
    "start_time": "2022-11-02T04:54:08.250Z"
   },
   {
    "duration": 3,
    "start_time": "2022-11-02T04:54:08.283Z"
   },
   {
    "duration": 11,
    "start_time": "2022-11-02T04:54:08.287Z"
   },
   {
    "duration": 4,
    "start_time": "2022-11-02T04:54:08.299Z"
   },
   {
    "duration": 36,
    "start_time": "2022-11-02T04:54:08.304Z"
   },
   {
    "duration": 4,
    "start_time": "2022-11-02T04:54:08.343Z"
   },
   {
    "duration": 37,
    "start_time": "2022-11-02T04:54:08.349Z"
   },
   {
    "duration": 10,
    "start_time": "2022-11-02T04:54:08.388Z"
   },
   {
    "duration": 4,
    "start_time": "2022-11-02T04:54:08.399Z"
   },
   {
    "duration": 36,
    "start_time": "2022-11-02T04:54:08.404Z"
   },
   {
    "duration": 19,
    "start_time": "2022-11-02T04:54:08.442Z"
   },
   {
    "duration": 16,
    "start_time": "2022-11-02T04:54:08.463Z"
   },
   {
    "duration": 3,
    "start_time": "2022-11-02T04:54:08.480Z"
   },
   {
    "duration": 16,
    "start_time": "2022-11-02T04:54:08.484Z"
   },
   {
    "duration": 18,
    "start_time": "2022-11-02T04:54:08.502Z"
   },
   {
    "duration": 3,
    "start_time": "2022-11-02T04:54:08.522Z"
   },
   {
    "duration": 8,
    "start_time": "2022-11-02T04:54:08.538Z"
   },
   {
    "duration": 46,
    "start_time": "2022-11-02T04:54:08.547Z"
   },
   {
    "duration": 11,
    "start_time": "2022-11-02T04:54:08.595Z"
   },
   {
    "duration": 62,
    "start_time": "2022-11-02T04:54:08.607Z"
   },
   {
    "duration": 0,
    "start_time": "2022-11-02T04:54:08.671Z"
   },
   {
    "duration": 0,
    "start_time": "2022-11-02T04:54:08.672Z"
   },
   {
    "duration": 13,
    "start_time": "2022-11-02T04:54:19.349Z"
   },
   {
    "duration": 14,
    "start_time": "2022-11-02T04:55:06.990Z"
   },
   {
    "duration": 13,
    "start_time": "2022-11-02T04:55:12.522Z"
   },
   {
    "duration": 14,
    "start_time": "2022-11-02T04:55:34.358Z"
   },
   {
    "duration": 3,
    "start_time": "2022-11-02T05:04:04.437Z"
   },
   {
    "duration": 14,
    "start_time": "2022-11-02T05:08:17.695Z"
   },
   {
    "duration": 17,
    "start_time": "2022-11-02T05:08:30.276Z"
   },
   {
    "duration": 49,
    "start_time": "2022-11-02T05:09:47.834Z"
   },
   {
    "duration": 46,
    "start_time": "2022-11-02T05:10:39.197Z"
   },
   {
    "duration": 51,
    "start_time": "2022-11-02T05:11:20.487Z"
   },
   {
    "duration": 12,
    "start_time": "2022-11-02T05:11:35.609Z"
   },
   {
    "duration": 40,
    "start_time": "2022-11-02T05:11:41.254Z"
   },
   {
    "duration": 37,
    "start_time": "2022-11-02T05:12:22.031Z"
   },
   {
    "duration": 35,
    "start_time": "2022-11-02T05:12:50.470Z"
   },
   {
    "duration": 12,
    "start_time": "2022-11-02T05:19:25.630Z"
   },
   {
    "duration": 40,
    "start_time": "2022-11-02T05:19:28.518Z"
   },
   {
    "duration": 10,
    "start_time": "2022-11-02T05:23:25.154Z"
   },
   {
    "duration": 45,
    "start_time": "2022-11-02T05:26:32.955Z"
   },
   {
    "duration": 12,
    "start_time": "2022-11-02T05:26:43.640Z"
   },
   {
    "duration": 12,
    "start_time": "2022-11-02T05:28:33.978Z"
   },
   {
    "duration": 9,
    "start_time": "2022-11-02T05:29:59.356Z"
   },
   {
    "duration": 12,
    "start_time": "2022-11-02T05:30:21.386Z"
   },
   {
    "duration": 3,
    "start_time": "2022-11-02T05:38:13.465Z"
   },
   {
    "duration": 7,
    "start_time": "2022-11-02T05:39:15.685Z"
   },
   {
    "duration": 8,
    "start_time": "2022-11-02T05:39:19.837Z"
   },
   {
    "duration": 8,
    "start_time": "2022-11-02T05:39:44.900Z"
   },
   {
    "duration": 15,
    "start_time": "2022-11-02T05:40:00.367Z"
   },
   {
    "duration": 12,
    "start_time": "2022-11-02T05:41:46.656Z"
   },
   {
    "duration": 12,
    "start_time": "2022-11-02T05:42:06.029Z"
   },
   {
    "duration": 7,
    "start_time": "2022-11-02T05:42:26.227Z"
   },
   {
    "duration": 9,
    "start_time": "2022-11-02T05:42:39.797Z"
   },
   {
    "duration": 30,
    "start_time": "2022-11-02T05:43:27.671Z"
   },
   {
    "duration": 53,
    "start_time": "2022-11-02T05:45:43.207Z"
   },
   {
    "duration": 55,
    "start_time": "2022-11-02T05:46:48.056Z"
   },
   {
    "duration": 59,
    "start_time": "2022-11-02T05:47:41.723Z"
   },
   {
    "duration": 58,
    "start_time": "2022-11-02T05:48:49.240Z"
   },
   {
    "duration": 69,
    "start_time": "2022-11-02T05:50:48.770Z"
   },
   {
    "duration": 55,
    "start_time": "2022-11-02T05:51:21.239Z"
   },
   {
    "duration": 12,
    "start_time": "2022-11-02T06:02:40.619Z"
   },
   {
    "duration": 529,
    "start_time": "2022-11-02T19:57:29.999Z"
   },
   {
    "duration": 21,
    "start_time": "2022-11-02T19:57:30.529Z"
   },
   {
    "duration": 45,
    "start_time": "2022-11-02T19:57:30.552Z"
   },
   {
    "duration": 28,
    "start_time": "2022-11-02T19:57:30.599Z"
   },
   {
    "duration": 72,
    "start_time": "2022-11-02T19:57:30.629Z"
   },
   {
    "duration": 9,
    "start_time": "2022-11-02T19:57:30.703Z"
   },
   {
    "duration": 125,
    "start_time": "2022-11-02T19:57:30.714Z"
   },
   {
    "duration": 58,
    "start_time": "2022-11-02T19:57:30.840Z"
   },
   {
    "duration": 33,
    "start_time": "2022-11-02T19:57:30.900Z"
   },
   {
    "duration": 30,
    "start_time": "2022-11-02T19:57:30.936Z"
   },
   {
    "duration": 40,
    "start_time": "2022-11-02T19:57:30.968Z"
   },
   {
    "duration": 10,
    "start_time": "2022-11-02T19:57:31.010Z"
   },
   {
    "duration": 100,
    "start_time": "2022-11-02T19:57:31.021Z"
   },
   {
    "duration": 55,
    "start_time": "2022-11-02T19:57:31.123Z"
   },
   {
    "duration": 117,
    "start_time": "2022-11-02T19:57:31.180Z"
   },
   {
    "duration": 37,
    "start_time": "2022-11-02T19:57:31.298Z"
   },
   {
    "duration": 90,
    "start_time": "2022-11-02T19:57:31.337Z"
   },
   {
    "duration": 127,
    "start_time": "2022-11-02T19:57:31.429Z"
   },
   {
    "duration": 25,
    "start_time": "2022-11-02T19:57:31.557Z"
   },
   {
    "duration": 23,
    "start_time": "2022-11-02T19:57:31.584Z"
   },
   {
    "duration": 38,
    "start_time": "2022-11-02T19:57:31.608Z"
   },
   {
    "duration": 52,
    "start_time": "2022-11-02T19:57:31.648Z"
   },
   {
    "duration": 10,
    "start_time": "2022-11-02T19:57:31.701Z"
   },
   {
    "duration": 46,
    "start_time": "2022-11-02T19:57:31.713Z"
   },
   {
    "duration": 48,
    "start_time": "2022-11-02T19:57:31.760Z"
   },
   {
    "duration": 11,
    "start_time": "2022-11-02T19:57:31.810Z"
   },
   {
    "duration": 67,
    "start_time": "2022-11-02T19:57:31.822Z"
   },
   {
    "duration": 10,
    "start_time": "2022-11-02T19:57:31.892Z"
   },
   {
    "duration": 32,
    "start_time": "2022-11-02T19:57:31.903Z"
   },
   {
    "duration": 59,
    "start_time": "2022-11-02T20:53:45.594Z"
   },
   {
    "duration": 87,
    "start_time": "2022-11-02T20:53:53.360Z"
   },
   {
    "duration": 4,
    "start_time": "2022-11-02T20:54:20.268Z"
   },
   {
    "duration": 76,
    "start_time": "2022-11-02T20:54:29.679Z"
   },
   {
    "duration": 13,
    "start_time": "2022-11-02T20:54:37.241Z"
   },
   {
    "duration": 8,
    "start_time": "2022-11-02T20:54:52.142Z"
   },
   {
    "duration": 8,
    "start_time": "2022-11-02T20:55:32.960Z"
   },
   {
    "duration": 8,
    "start_time": "2022-11-02T20:55:45.340Z"
   },
   {
    "duration": 8,
    "start_time": "2022-11-02T20:56:10.536Z"
   },
   {
    "duration": 77,
    "start_time": "2022-11-02T20:56:48.572Z"
   },
   {
    "duration": 11,
    "start_time": "2022-11-02T20:57:20.676Z"
   },
   {
    "duration": 5,
    "start_time": "2022-11-02T20:58:23.206Z"
   },
   {
    "duration": 7,
    "start_time": "2022-11-02T20:58:41.509Z"
   },
   {
    "duration": 68,
    "start_time": "2022-11-02T20:58:46.281Z"
   },
   {
    "duration": 14,
    "start_time": "2022-11-02T20:58:46.352Z"
   },
   {
    "duration": 13,
    "start_time": "2022-11-02T20:58:46.368Z"
   },
   {
    "duration": 9,
    "start_time": "2022-11-02T20:58:46.383Z"
   },
   {
    "duration": 50,
    "start_time": "2022-11-02T20:58:46.394Z"
   },
   {
    "duration": 3,
    "start_time": "2022-11-02T20:58:46.446Z"
   },
   {
    "duration": 9,
    "start_time": "2022-11-02T20:58:46.450Z"
   },
   {
    "duration": 4,
    "start_time": "2022-11-02T20:58:46.461Z"
   },
   {
    "duration": 6,
    "start_time": "2022-11-02T20:58:46.466Z"
   },
   {
    "duration": 6,
    "start_time": "2022-11-02T20:58:46.473Z"
   },
   {
    "duration": 51,
    "start_time": "2022-11-02T20:58:46.480Z"
   },
   {
    "duration": 8,
    "start_time": "2022-11-02T20:58:46.532Z"
   },
   {
    "duration": 3,
    "start_time": "2022-11-02T20:58:46.541Z"
   },
   {
    "duration": 12,
    "start_time": "2022-11-02T20:58:46.545Z"
   },
   {
    "duration": 18,
    "start_time": "2022-11-02T20:58:46.558Z"
   },
   {
    "duration": 15,
    "start_time": "2022-11-02T20:58:46.577Z"
   },
   {
    "duration": 3,
    "start_time": "2022-11-02T20:58:46.593Z"
   },
   {
    "duration": 32,
    "start_time": "2022-11-02T20:58:46.597Z"
   },
   {
    "duration": 5,
    "start_time": "2022-11-02T20:58:46.630Z"
   },
   {
    "duration": 5,
    "start_time": "2022-11-02T20:58:46.637Z"
   },
   {
    "duration": 9,
    "start_time": "2022-11-02T20:58:46.643Z"
   },
   {
    "duration": 4,
    "start_time": "2022-11-02T20:58:46.654Z"
   },
   {
    "duration": 62,
    "start_time": "2022-11-02T20:58:46.660Z"
   },
   {
    "duration": 12,
    "start_time": "2022-11-02T20:58:46.723Z"
   },
   {
    "duration": 12,
    "start_time": "2022-11-02T20:58:46.736Z"
   },
   {
    "duration": 32,
    "start_time": "2022-11-02T20:58:46.749Z"
   },
   {
    "duration": 9,
    "start_time": "2022-11-02T20:58:46.783Z"
   },
   {
    "duration": 74,
    "start_time": "2022-11-02T20:58:46.795Z"
   },
   {
    "duration": 9,
    "start_time": "2022-11-02T20:58:46.871Z"
   },
   {
    "duration": 9,
    "start_time": "2022-11-02T20:58:46.882Z"
   },
   {
    "duration": 15,
    "start_time": "2022-11-02T20:59:06.198Z"
   },
   {
    "duration": 445,
    "start_time": "2022-11-02T20:59:36.946Z"
   },
   {
    "duration": 22,
    "start_time": "2022-11-02T20:59:37.393Z"
   },
   {
    "duration": 14,
    "start_time": "2022-11-02T20:59:37.416Z"
   },
   {
    "duration": 8,
    "start_time": "2022-11-02T20:59:37.432Z"
   },
   {
    "duration": 35,
    "start_time": "2022-11-02T20:59:37.442Z"
   },
   {
    "duration": 3,
    "start_time": "2022-11-02T20:59:37.478Z"
   },
   {
    "duration": 11,
    "start_time": "2022-11-02T20:59:37.483Z"
   },
   {
    "duration": 4,
    "start_time": "2022-11-02T20:59:37.522Z"
   },
   {
    "duration": 9,
    "start_time": "2022-11-02T20:59:37.528Z"
   },
   {
    "duration": 4,
    "start_time": "2022-11-02T20:59:37.539Z"
   },
   {
    "duration": 37,
    "start_time": "2022-11-02T20:59:37.544Z"
   },
   {
    "duration": 9,
    "start_time": "2022-11-02T20:59:37.582Z"
   },
   {
    "duration": 30,
    "start_time": "2022-11-02T20:59:37.592Z"
   },
   {
    "duration": 13,
    "start_time": "2022-11-02T20:59:37.625Z"
   },
   {
    "duration": 23,
    "start_time": "2022-11-02T20:59:37.640Z"
   },
   {
    "duration": 19,
    "start_time": "2022-11-02T20:59:37.666Z"
   },
   {
    "duration": 4,
    "start_time": "2022-11-02T20:59:37.686Z"
   },
   {
    "duration": 12,
    "start_time": "2022-11-02T20:59:37.692Z"
   },
   {
    "duration": 11,
    "start_time": "2022-11-02T20:59:37.721Z"
   },
   {
    "duration": 3,
    "start_time": "2022-11-02T20:59:37.734Z"
   },
   {
    "duration": 11,
    "start_time": "2022-11-02T20:59:37.739Z"
   },
   {
    "duration": 6,
    "start_time": "2022-11-02T20:59:37.752Z"
   },
   {
    "duration": 73,
    "start_time": "2022-11-02T20:59:37.760Z"
   },
   {
    "duration": 11,
    "start_time": "2022-11-02T20:59:37.835Z"
   },
   {
    "duration": 23,
    "start_time": "2022-11-02T20:59:37.848Z"
   },
   {
    "duration": 59,
    "start_time": "2022-11-02T20:59:37.873Z"
   },
   {
    "duration": 11,
    "start_time": "2022-11-02T20:59:37.934Z"
   },
   {
    "duration": 76,
    "start_time": "2022-11-02T20:59:37.946Z"
   },
   {
    "duration": 11,
    "start_time": "2022-11-02T20:59:38.024Z"
   },
   {
    "duration": 68,
    "start_time": "2022-11-02T20:59:38.036Z"
   },
   {
    "duration": 62,
    "start_time": "2022-11-02T20:59:47.579Z"
   },
   {
    "duration": 14,
    "start_time": "2022-11-02T21:02:44.743Z"
   },
   {
    "duration": 8,
    "start_time": "2022-11-02T21:03:12.827Z"
   },
   {
    "duration": 16,
    "start_time": "2022-11-02T21:06:51.841Z"
   },
   {
    "duration": 87,
    "start_time": "2022-11-02T21:06:59.615Z"
   },
   {
    "duration": 19,
    "start_time": "2022-11-02T21:07:12.295Z"
   },
   {
    "duration": 47,
    "start_time": "2022-11-02T21:08:29.844Z"
   },
   {
    "duration": 47,
    "start_time": "2022-11-02T21:14:54.361Z"
   },
   {
    "duration": 10,
    "start_time": "2022-11-02T21:19:07.352Z"
   },
   {
    "duration": 13,
    "start_time": "2022-11-02T21:21:05.999Z"
   },
   {
    "duration": 11,
    "start_time": "2022-11-02T21:21:17.904Z"
   },
   {
    "duration": 10,
    "start_time": "2022-11-02T21:21:36.662Z"
   },
   {
    "duration": 10,
    "start_time": "2022-11-02T21:21:48.896Z"
   },
   {
    "duration": 441,
    "start_time": "2022-11-02T23:00:12.762Z"
   },
   {
    "duration": 23,
    "start_time": "2022-11-02T23:00:13.205Z"
   },
   {
    "duration": 16,
    "start_time": "2022-11-02T23:00:13.230Z"
   },
   {
    "duration": 13,
    "start_time": "2022-11-02T23:00:13.248Z"
   },
   {
    "duration": 39,
    "start_time": "2022-11-02T23:00:13.263Z"
   },
   {
    "duration": 18,
    "start_time": "2022-11-02T23:00:13.304Z"
   },
   {
    "duration": 7,
    "start_time": "2022-11-02T23:00:13.324Z"
   },
   {
    "duration": 4,
    "start_time": "2022-11-02T23:00:13.332Z"
   },
   {
    "duration": 19,
    "start_time": "2022-11-02T23:00:13.338Z"
   },
   {
    "duration": 4,
    "start_time": "2022-11-02T23:00:13.360Z"
   },
   {
    "duration": 33,
    "start_time": "2022-11-02T23:00:13.365Z"
   },
   {
    "duration": 26,
    "start_time": "2022-11-02T23:00:13.399Z"
   },
   {
    "duration": 4,
    "start_time": "2022-11-02T23:00:13.427Z"
   },
   {
    "duration": 12,
    "start_time": "2022-11-02T23:00:13.432Z"
   },
   {
    "duration": 20,
    "start_time": "2022-11-02T23:00:13.446Z"
   },
   {
    "duration": 15,
    "start_time": "2022-11-02T23:00:13.468Z"
   },
   {
    "duration": 3,
    "start_time": "2022-11-02T23:00:13.484Z"
   },
   {
    "duration": 37,
    "start_time": "2022-11-02T23:00:13.488Z"
   },
   {
    "duration": 5,
    "start_time": "2022-11-02T23:00:13.526Z"
   },
   {
    "duration": 7,
    "start_time": "2022-11-02T23:00:13.533Z"
   },
   {
    "duration": 11,
    "start_time": "2022-11-02T23:00:13.541Z"
   },
   {
    "duration": 42,
    "start_time": "2022-11-02T23:00:13.553Z"
   },
   {
    "duration": 10,
    "start_time": "2022-11-02T23:00:13.623Z"
   },
   {
    "duration": 15,
    "start_time": "2022-11-02T23:00:13.635Z"
   },
   {
    "duration": 35,
    "start_time": "2022-11-02T23:00:13.652Z"
   },
   {
    "duration": 34,
    "start_time": "2022-11-02T23:00:13.688Z"
   },
   {
    "duration": 57,
    "start_time": "2022-11-02T23:00:13.724Z"
   },
   {
    "duration": 11,
    "start_time": "2022-11-02T23:00:13.784Z"
   },
   {
    "duration": 70,
    "start_time": "2022-11-02T23:00:13.796Z"
   },
   {
    "duration": 10,
    "start_time": "2022-11-02T23:00:13.868Z"
   },
   {
    "duration": 44,
    "start_time": "2022-11-03T05:53:30.963Z"
   },
   {
    "duration": 5,
    "start_time": "2022-11-03T05:54:32.037Z"
   },
   {
    "duration": 7,
    "start_time": "2022-11-03T06:00:33.244Z"
   },
   {
    "duration": 504,
    "start_time": "2022-11-03T06:00:44.935Z"
   },
   {
    "duration": 20,
    "start_time": "2022-11-03T06:00:45.441Z"
   },
   {
    "duration": 14,
    "start_time": "2022-11-03T06:00:45.462Z"
   },
   {
    "duration": 10,
    "start_time": "2022-11-03T06:00:45.477Z"
   },
   {
    "duration": 48,
    "start_time": "2022-11-03T06:00:45.489Z"
   },
   {
    "duration": 3,
    "start_time": "2022-11-03T06:00:45.540Z"
   },
   {
    "duration": 9,
    "start_time": "2022-11-03T06:00:45.545Z"
   },
   {
    "duration": 3,
    "start_time": "2022-11-03T06:00:45.556Z"
   },
   {
    "duration": 12,
    "start_time": "2022-11-03T06:00:45.560Z"
   },
   {
    "duration": 4,
    "start_time": "2022-11-03T06:00:45.574Z"
   },
   {
    "duration": 58,
    "start_time": "2022-11-03T06:00:45.579Z"
   },
   {
    "duration": 10,
    "start_time": "2022-11-03T06:00:45.640Z"
   },
   {
    "duration": 3,
    "start_time": "2022-11-03T06:00:45.652Z"
   },
   {
    "duration": 15,
    "start_time": "2022-11-03T06:00:45.658Z"
   },
   {
    "duration": 24,
    "start_time": "2022-11-03T06:00:45.675Z"
   },
   {
    "duration": 39,
    "start_time": "2022-11-03T06:00:45.700Z"
   },
   {
    "duration": 8,
    "start_time": "2022-11-03T06:00:45.743Z"
   },
   {
    "duration": 16,
    "start_time": "2022-11-03T06:00:45.753Z"
   },
   {
    "duration": 5,
    "start_time": "2022-11-03T06:00:45.771Z"
   },
   {
    "duration": 5,
    "start_time": "2022-11-03T06:00:45.777Z"
   },
   {
    "duration": 12,
    "start_time": "2022-11-03T06:00:45.783Z"
   },
   {
    "duration": 44,
    "start_time": "2022-11-03T06:00:45.796Z"
   },
   {
    "duration": 0,
    "start_time": "2022-11-03T06:00:45.842Z"
   },
   {
    "duration": 0,
    "start_time": "2022-11-03T06:00:45.843Z"
   },
   {
    "duration": 0,
    "start_time": "2022-11-03T06:00:45.844Z"
   },
   {
    "duration": 0,
    "start_time": "2022-11-03T06:00:45.846Z"
   },
   {
    "duration": 0,
    "start_time": "2022-11-03T06:00:45.847Z"
   },
   {
    "duration": 0,
    "start_time": "2022-11-03T06:00:45.848Z"
   },
   {
    "duration": 0,
    "start_time": "2022-11-03T06:00:45.849Z"
   },
   {
    "duration": 0,
    "start_time": "2022-11-03T06:00:45.851Z"
   },
   {
    "duration": 0,
    "start_time": "2022-11-03T06:00:45.852Z"
   },
   {
    "duration": 16,
    "start_time": "2022-11-03T06:01:38.914Z"
   },
   {
    "duration": 12,
    "start_time": "2022-11-03T06:02:00.958Z"
   },
   {
    "duration": 12,
    "start_time": "2022-11-03T06:04:25.753Z"
   },
   {
    "duration": 16,
    "start_time": "2022-11-03T06:04:29.181Z"
   },
   {
    "duration": 72,
    "start_time": "2022-11-03T06:05:24.598Z"
   },
   {
    "duration": 74,
    "start_time": "2022-11-03T06:06:01.483Z"
   },
   {
    "duration": 76,
    "start_time": "2022-11-03T06:06:57.833Z"
   },
   {
    "duration": 71,
    "start_time": "2022-11-03T06:07:11.360Z"
   },
   {
    "duration": 18,
    "start_time": "2022-11-03T06:08:04.480Z"
   },
   {
    "duration": 18,
    "start_time": "2022-11-03T06:08:17.457Z"
   },
   {
    "duration": 17,
    "start_time": "2022-11-03T06:08:20.930Z"
   },
   {
    "duration": 17,
    "start_time": "2022-11-03T06:08:47.599Z"
   },
   {
    "duration": 10,
    "start_time": "2022-11-03T06:11:51.676Z"
   },
   {
    "duration": 20,
    "start_time": "2022-11-03T06:12:00.348Z"
   },
   {
    "duration": 89,
    "start_time": "2022-11-03T16:45:01.548Z"
   },
   {
    "duration": 49,
    "start_time": "2022-11-03T16:46:46.156Z"
   },
   {
    "duration": 7,
    "start_time": "2022-11-03T16:47:40.647Z"
   },
   {
    "duration": 7,
    "start_time": "2022-11-03T16:49:13.876Z"
   },
   {
    "duration": 454,
    "start_time": "2022-11-03T16:49:18.860Z"
   },
   {
    "duration": 23,
    "start_time": "2022-11-03T16:49:19.316Z"
   },
   {
    "duration": 13,
    "start_time": "2022-11-03T16:49:19.341Z"
   },
   {
    "duration": 9,
    "start_time": "2022-11-03T16:49:19.356Z"
   },
   {
    "duration": 28,
    "start_time": "2022-11-03T16:49:19.366Z"
   },
   {
    "duration": 2,
    "start_time": "2022-11-03T16:49:19.396Z"
   },
   {
    "duration": 6,
    "start_time": "2022-11-03T16:49:19.422Z"
   },
   {
    "duration": 8,
    "start_time": "2022-11-03T16:49:19.429Z"
   },
   {
    "duration": 12,
    "start_time": "2022-11-03T16:49:19.438Z"
   },
   {
    "duration": 3,
    "start_time": "2022-11-03T16:49:19.452Z"
   },
   {
    "duration": 31,
    "start_time": "2022-11-03T16:49:19.456Z"
   },
   {
    "duration": 8,
    "start_time": "2022-11-03T16:49:19.488Z"
   },
   {
    "duration": 6,
    "start_time": "2022-11-03T16:49:19.497Z"
   },
   {
    "duration": 25,
    "start_time": "2022-11-03T16:49:19.504Z"
   },
   {
    "duration": 20,
    "start_time": "2022-11-03T16:49:19.530Z"
   },
   {
    "duration": 13,
    "start_time": "2022-11-03T16:49:19.552Z"
   },
   {
    "duration": 3,
    "start_time": "2022-11-03T16:49:19.566Z"
   },
   {
    "duration": 15,
    "start_time": "2022-11-03T16:49:19.570Z"
   },
   {
    "duration": 16,
    "start_time": "2022-11-03T16:49:19.586Z"
   },
   {
    "duration": 10,
    "start_time": "2022-11-03T16:49:19.604Z"
   },
   {
    "duration": 13,
    "start_time": "2022-11-03T16:49:19.616Z"
   },
   {
    "duration": 38,
    "start_time": "2022-11-03T16:49:19.630Z"
   },
   {
    "duration": 0,
    "start_time": "2022-11-03T16:49:19.669Z"
   },
   {
    "duration": 0,
    "start_time": "2022-11-03T16:49:19.670Z"
   },
   {
    "duration": 0,
    "start_time": "2022-11-03T16:49:19.671Z"
   },
   {
    "duration": 0,
    "start_time": "2022-11-03T16:49:19.672Z"
   },
   {
    "duration": 0,
    "start_time": "2022-11-03T16:49:19.673Z"
   },
   {
    "duration": 0,
    "start_time": "2022-11-03T16:49:19.674Z"
   },
   {
    "duration": 0,
    "start_time": "2022-11-03T16:49:19.675Z"
   },
   {
    "duration": 0,
    "start_time": "2022-11-03T16:49:19.676Z"
   },
   {
    "duration": 0,
    "start_time": "2022-11-03T16:49:19.677Z"
   },
   {
    "duration": 17,
    "start_time": "2022-11-03T16:49:59.523Z"
   },
   {
    "duration": 78,
    "start_time": "2022-11-03T16:50:16.624Z"
   },
   {
    "duration": 92,
    "start_time": "2022-11-03T16:50:36.269Z"
   },
   {
    "duration": 49,
    "start_time": "2022-11-05T19:57:48.730Z"
   },
   {
    "duration": 8,
    "start_time": "2022-11-05T19:58:18.669Z"
   },
   {
    "duration": 7,
    "start_time": "2022-11-05T19:58:51.204Z"
   },
   {
    "duration": 741,
    "start_time": "2022-11-05T19:58:56.210Z"
   },
   {
    "duration": 20,
    "start_time": "2022-11-05T19:58:56.953Z"
   },
   {
    "duration": 14,
    "start_time": "2022-11-05T19:58:56.975Z"
   },
   {
    "duration": 9,
    "start_time": "2022-11-05T19:58:56.991Z"
   },
   {
    "duration": 45,
    "start_time": "2022-11-05T19:58:57.001Z"
   },
   {
    "duration": 4,
    "start_time": "2022-11-05T19:58:57.048Z"
   },
   {
    "duration": 35,
    "start_time": "2022-11-05T19:58:57.053Z"
   },
   {
    "duration": 5,
    "start_time": "2022-11-05T19:58:57.090Z"
   },
   {
    "duration": 16,
    "start_time": "2022-11-05T19:58:57.097Z"
   },
   {
    "duration": 5,
    "start_time": "2022-11-05T19:58:57.117Z"
   },
   {
    "duration": 59,
    "start_time": "2022-11-05T19:58:57.124Z"
   },
   {
    "duration": 12,
    "start_time": "2022-11-05T19:58:57.185Z"
   },
   {
    "duration": 23,
    "start_time": "2022-11-05T19:58:57.199Z"
   },
   {
    "duration": 28,
    "start_time": "2022-11-05T19:58:57.224Z"
   },
   {
    "duration": 36,
    "start_time": "2022-11-05T19:58:57.254Z"
   },
   {
    "duration": 22,
    "start_time": "2022-11-05T19:58:57.292Z"
   },
   {
    "duration": 11,
    "start_time": "2022-11-05T19:58:57.317Z"
   },
   {
    "duration": 18,
    "start_time": "2022-11-05T19:58:57.330Z"
   },
   {
    "duration": 17,
    "start_time": "2022-11-05T19:58:57.349Z"
   },
   {
    "duration": 9,
    "start_time": "2022-11-05T19:58:57.368Z"
   },
   {
    "duration": 28,
    "start_time": "2022-11-05T19:58:57.379Z"
   },
   {
    "duration": 50,
    "start_time": "2022-11-05T19:58:57.409Z"
   },
   {
    "duration": 0,
    "start_time": "2022-11-05T19:58:57.461Z"
   },
   {
    "duration": 0,
    "start_time": "2022-11-05T19:58:57.462Z"
   },
   {
    "duration": 0,
    "start_time": "2022-11-05T19:58:57.463Z"
   },
   {
    "duration": 0,
    "start_time": "2022-11-05T19:58:57.464Z"
   },
   {
    "duration": 0,
    "start_time": "2022-11-05T19:58:57.465Z"
   },
   {
    "duration": 0,
    "start_time": "2022-11-05T19:58:57.466Z"
   },
   {
    "duration": 0,
    "start_time": "2022-11-05T19:58:57.467Z"
   },
   {
    "duration": 0,
    "start_time": "2022-11-05T19:58:57.468Z"
   },
   {
    "duration": 0,
    "start_time": "2022-11-05T19:58:57.469Z"
   },
   {
    "duration": 15,
    "start_time": "2022-11-05T19:59:52.028Z"
   },
   {
    "duration": 17,
    "start_time": "2022-11-05T20:00:51.543Z"
   },
   {
    "duration": 15,
    "start_time": "2022-11-05T20:01:04.917Z"
   },
   {
    "duration": 75,
    "start_time": "2022-11-05T20:01:08.938Z"
   },
   {
    "duration": 15,
    "start_time": "2022-11-05T20:01:09.014Z"
   },
   {
    "duration": 19,
    "start_time": "2022-11-05T20:01:09.031Z"
   },
   {
    "duration": 10,
    "start_time": "2022-11-05T20:01:09.053Z"
   },
   {
    "duration": 34,
    "start_time": "2022-11-05T20:01:09.064Z"
   },
   {
    "duration": 3,
    "start_time": "2022-11-05T20:01:09.100Z"
   },
   {
    "duration": 36,
    "start_time": "2022-11-05T20:01:09.104Z"
   },
   {
    "duration": 5,
    "start_time": "2022-11-05T20:01:09.142Z"
   },
   {
    "duration": 9,
    "start_time": "2022-11-05T20:01:09.148Z"
   },
   {
    "duration": 4,
    "start_time": "2022-11-05T20:01:09.159Z"
   },
   {
    "duration": 34,
    "start_time": "2022-11-05T20:01:09.164Z"
   },
   {
    "duration": 10,
    "start_time": "2022-11-05T20:01:09.199Z"
   },
   {
    "duration": 29,
    "start_time": "2022-11-05T20:01:09.211Z"
   },
   {
    "duration": 11,
    "start_time": "2022-11-05T20:01:09.242Z"
   },
   {
    "duration": 17,
    "start_time": "2022-11-05T20:01:09.255Z"
   },
   {
    "duration": 17,
    "start_time": "2022-11-05T20:01:09.274Z"
   },
   {
    "duration": 4,
    "start_time": "2022-11-05T20:01:09.293Z"
   },
   {
    "duration": 41,
    "start_time": "2022-11-05T20:01:09.298Z"
   },
   {
    "duration": 7,
    "start_time": "2022-11-05T20:01:09.340Z"
   },
   {
    "duration": 4,
    "start_time": "2022-11-05T20:01:09.349Z"
   },
   {
    "duration": 9,
    "start_time": "2022-11-05T20:01:09.355Z"
   },
   {
    "duration": 19,
    "start_time": "2022-11-05T20:01:09.365Z"
   },
   {
    "duration": 0,
    "start_time": "2022-11-05T20:01:09.386Z"
   },
   {
    "duration": 0,
    "start_time": "2022-11-05T20:01:09.387Z"
   },
   {
    "duration": 1,
    "start_time": "2022-11-05T20:01:09.388Z"
   },
   {
    "duration": 0,
    "start_time": "2022-11-05T20:01:09.390Z"
   },
   {
    "duration": 0,
    "start_time": "2022-11-05T20:01:09.390Z"
   },
   {
    "duration": 0,
    "start_time": "2022-11-05T20:01:09.392Z"
   },
   {
    "duration": 0,
    "start_time": "2022-11-05T20:01:09.393Z"
   },
   {
    "duration": 0,
    "start_time": "2022-11-05T20:01:09.394Z"
   },
   {
    "duration": 0,
    "start_time": "2022-11-05T20:01:09.395Z"
   },
   {
    "duration": 51,
    "start_time": "2022-11-05T20:02:30.814Z"
   },
   {
    "duration": 24,
    "start_time": "2022-11-05T20:03:03.751Z"
   },
   {
    "duration": 15,
    "start_time": "2022-11-05T20:03:34.188Z"
   },
   {
    "duration": 16,
    "start_time": "2022-11-05T20:03:43.988Z"
   },
   {
    "duration": 23,
    "start_time": "2022-11-05T20:03:56.778Z"
   },
   {
    "duration": 742,
    "start_time": "2022-11-05T20:04:32.328Z"
   },
   {
    "duration": 25,
    "start_time": "2022-11-05T20:05:04.860Z"
   },
   {
    "duration": 26,
    "start_time": "2022-11-05T20:05:24.422Z"
   },
   {
    "duration": 23,
    "start_time": "2022-11-05T20:05:48.377Z"
   },
   {
    "duration": 24,
    "start_time": "2022-11-05T20:06:03.035Z"
   },
   {
    "duration": 65,
    "start_time": "2022-11-05T20:06:21.491Z"
   },
   {
    "duration": 17,
    "start_time": "2022-11-05T20:06:32.720Z"
   },
   {
    "duration": 27,
    "start_time": "2022-11-05T20:06:47.460Z"
   },
   {
    "duration": 23,
    "start_time": "2022-11-05T20:08:55.134Z"
   },
   {
    "duration": 21,
    "start_time": "2022-11-05T20:09:12.562Z"
   },
   {
    "duration": 20,
    "start_time": "2022-11-05T20:09:22.437Z"
   },
   {
    "duration": 3,
    "start_time": "2022-11-05T20:09:24.336Z"
   },
   {
    "duration": 24,
    "start_time": "2022-11-05T20:09:42.648Z"
   },
   {
    "duration": 23,
    "start_time": "2022-11-05T20:10:04.356Z"
   },
   {
    "duration": 22,
    "start_time": "2022-11-05T20:13:34.871Z"
   },
   {
    "duration": 191,
    "start_time": "2022-11-05T20:14:49.334Z"
   },
   {
    "duration": 200,
    "start_time": "2022-11-05T20:14:56.076Z"
   },
   {
    "duration": 24,
    "start_time": "2022-11-05T20:15:26.765Z"
   },
   {
    "duration": 22,
    "start_time": "2022-11-05T20:17:48.141Z"
   },
   {
    "duration": 23,
    "start_time": "2022-11-05T20:33:09.907Z"
   },
   {
    "duration": 24,
    "start_time": "2022-11-05T20:33:17.578Z"
   },
   {
    "duration": 23,
    "start_time": "2022-11-05T20:33:55.382Z"
   },
   {
    "duration": 23,
    "start_time": "2022-11-05T20:42:52.751Z"
   },
   {
    "duration": 24,
    "start_time": "2022-11-05T21:08:42.749Z"
   },
   {
    "duration": 482,
    "start_time": "2022-11-05T22:02:06.328Z"
   },
   {
    "duration": 21,
    "start_time": "2022-11-05T22:02:06.813Z"
   },
   {
    "duration": 15,
    "start_time": "2022-11-05T22:02:06.836Z"
   },
   {
    "duration": 8,
    "start_time": "2022-11-05T22:02:06.853Z"
   },
   {
    "duration": 73,
    "start_time": "2022-11-05T22:02:06.862Z"
   },
   {
    "duration": 2,
    "start_time": "2022-11-05T22:02:06.937Z"
   },
   {
    "duration": 11,
    "start_time": "2022-11-05T22:02:06.941Z"
   },
   {
    "duration": 6,
    "start_time": "2022-11-05T22:02:06.954Z"
   },
   {
    "duration": 8,
    "start_time": "2022-11-05T22:02:06.962Z"
   },
   {
    "duration": 5,
    "start_time": "2022-11-05T22:02:06.973Z"
   },
   {
    "duration": 50,
    "start_time": "2022-11-05T22:02:06.979Z"
   },
   {
    "duration": 10,
    "start_time": "2022-11-05T22:02:07.031Z"
   },
   {
    "duration": 5,
    "start_time": "2022-11-05T22:02:07.043Z"
   },
   {
    "duration": 10,
    "start_time": "2022-11-05T22:02:07.050Z"
   },
   {
    "duration": 20,
    "start_time": "2022-11-05T22:02:07.062Z"
   },
   {
    "duration": 35,
    "start_time": "2022-11-05T22:02:07.084Z"
   },
   {
    "duration": 3,
    "start_time": "2022-11-05T22:02:07.120Z"
   },
   {
    "duration": 10,
    "start_time": "2022-11-05T22:02:07.125Z"
   },
   {
    "duration": 6,
    "start_time": "2022-11-05T22:02:07.137Z"
   },
   {
    "duration": 4,
    "start_time": "2022-11-05T22:02:07.144Z"
   },
   {
    "duration": 14,
    "start_time": "2022-11-05T22:02:07.149Z"
   },
   {
    "duration": 6,
    "start_time": "2022-11-05T22:02:07.164Z"
   },
   {
    "duration": 9,
    "start_time": "2022-11-05T22:02:07.171Z"
   },
   {
    "duration": 45,
    "start_time": "2022-11-05T22:02:07.182Z"
   },
   {
    "duration": 2,
    "start_time": "2022-11-05T22:02:07.229Z"
   },
   {
    "duration": 5,
    "start_time": "2022-11-05T22:02:07.232Z"
   },
   {
    "duration": 11,
    "start_time": "2022-11-05T22:02:07.240Z"
   },
   {
    "duration": 33,
    "start_time": "2022-11-05T22:02:07.254Z"
   },
   {
    "duration": 19,
    "start_time": "2022-11-05T22:02:07.289Z"
   },
   {
    "duration": 21,
    "start_time": "2022-11-05T22:02:07.310Z"
   },
   {
    "duration": 40,
    "start_time": "2022-11-05T22:02:07.333Z"
   },
   {
    "duration": 3,
    "start_time": "2022-11-05T22:02:07.375Z"
   },
   {
    "duration": 12,
    "start_time": "2022-11-05T22:02:07.380Z"
   },
   {
    "duration": 35,
    "start_time": "2022-11-05T22:02:07.394Z"
   },
   {
    "duration": 63,
    "start_time": "2022-11-05T23:29:37.448Z"
   },
   {
    "duration": 4,
    "start_time": "2022-11-05T23:29:39.450Z"
   },
   {
    "duration": 463,
    "start_time": "2022-11-05T23:55:19.836Z"
   },
   {
    "duration": 25,
    "start_time": "2022-11-05T23:55:20.301Z"
   },
   {
    "duration": 17,
    "start_time": "2022-11-05T23:55:20.328Z"
   },
   {
    "duration": 7,
    "start_time": "2022-11-05T23:55:20.347Z"
   },
   {
    "duration": 32,
    "start_time": "2022-11-05T23:55:20.356Z"
   },
   {
    "duration": 17,
    "start_time": "2022-11-05T23:55:20.389Z"
   },
   {
    "duration": 9,
    "start_time": "2022-11-05T23:55:20.407Z"
   },
   {
    "duration": 6,
    "start_time": "2022-11-05T23:55:20.417Z"
   },
   {
    "duration": 9,
    "start_time": "2022-11-05T23:55:20.424Z"
   },
   {
    "duration": 4,
    "start_time": "2022-11-05T23:55:20.437Z"
   },
   {
    "duration": 37,
    "start_time": "2022-11-05T23:55:20.443Z"
   },
   {
    "duration": 27,
    "start_time": "2022-11-05T23:55:20.482Z"
   },
   {
    "duration": 4,
    "start_time": "2022-11-05T23:55:20.511Z"
   },
   {
    "duration": 13,
    "start_time": "2022-11-05T23:55:20.516Z"
   },
   {
    "duration": 18,
    "start_time": "2022-11-05T23:55:20.530Z"
   },
   {
    "duration": 14,
    "start_time": "2022-11-05T23:55:20.550Z"
   },
   {
    "duration": 3,
    "start_time": "2022-11-05T23:55:20.566Z"
   },
   {
    "duration": 11,
    "start_time": "2022-11-05T23:55:20.570Z"
   },
   {
    "duration": 5,
    "start_time": "2022-11-05T23:55:20.605Z"
   },
   {
    "duration": 3,
    "start_time": "2022-11-05T23:55:20.612Z"
   },
   {
    "duration": 10,
    "start_time": "2022-11-05T23:55:20.617Z"
   },
   {
    "duration": 3,
    "start_time": "2022-11-05T23:55:20.628Z"
   },
   {
    "duration": 8,
    "start_time": "2022-11-05T23:55:20.632Z"
   },
   {
    "duration": 24,
    "start_time": "2022-11-05T23:55:20.641Z"
   },
   {
    "duration": 3,
    "start_time": "2022-11-05T23:55:20.666Z"
   },
   {
    "duration": 7,
    "start_time": "2022-11-05T23:55:20.670Z"
   },
   {
    "duration": 26,
    "start_time": "2022-11-05T23:55:20.678Z"
   },
   {
    "duration": 21,
    "start_time": "2022-11-05T23:55:20.707Z"
   },
   {
    "duration": 2,
    "start_time": "2022-11-05T23:55:20.730Z"
   },
   {
    "duration": 5,
    "start_time": "2022-11-05T23:55:20.734Z"
   },
   {
    "duration": 22,
    "start_time": "2022-11-05T23:55:20.741Z"
   },
   {
    "duration": 3,
    "start_time": "2022-11-05T23:55:20.765Z"
   },
   {
    "duration": 7,
    "start_time": "2022-11-05T23:55:20.769Z"
   },
   {
    "duration": 41,
    "start_time": "2022-11-05T23:55:20.777Z"
   },
   {
    "duration": 561,
    "start_time": "2022-11-06T10:37:11.345Z"
   },
   {
    "duration": 20,
    "start_time": "2022-11-06T10:37:11.907Z"
   },
   {
    "duration": 13,
    "start_time": "2022-11-06T10:37:11.928Z"
   },
   {
    "duration": 8,
    "start_time": "2022-11-06T10:37:11.942Z"
   },
   {
    "duration": 34,
    "start_time": "2022-11-06T10:37:11.951Z"
   },
   {
    "duration": 3,
    "start_time": "2022-11-06T10:37:11.986Z"
   },
   {
    "duration": 11,
    "start_time": "2022-11-06T10:37:11.990Z"
   },
   {
    "duration": 5,
    "start_time": "2022-11-06T10:37:12.002Z"
   },
   {
    "duration": 7,
    "start_time": "2022-11-06T10:37:12.008Z"
   },
   {
    "duration": 4,
    "start_time": "2022-11-06T10:37:12.018Z"
   },
   {
    "duration": 57,
    "start_time": "2022-11-06T10:37:12.023Z"
   },
   {
    "duration": 9,
    "start_time": "2022-11-06T10:37:12.082Z"
   },
   {
    "duration": 3,
    "start_time": "2022-11-06T10:37:12.093Z"
   },
   {
    "duration": 10,
    "start_time": "2022-11-06T10:37:12.098Z"
   },
   {
    "duration": 18,
    "start_time": "2022-11-06T10:37:12.110Z"
   },
   {
    "duration": 16,
    "start_time": "2022-11-06T10:37:12.129Z"
   },
   {
    "duration": 3,
    "start_time": "2022-11-06T10:37:12.177Z"
   },
   {
    "duration": 12,
    "start_time": "2022-11-06T10:37:12.181Z"
   },
   {
    "duration": 8,
    "start_time": "2022-11-06T10:37:12.194Z"
   },
   {
    "duration": 4,
    "start_time": "2022-11-06T10:37:12.204Z"
   },
   {
    "duration": 12,
    "start_time": "2022-11-06T10:37:12.209Z"
   },
   {
    "duration": 3,
    "start_time": "2022-11-06T10:37:12.222Z"
   },
   {
    "duration": 7,
    "start_time": "2022-11-06T10:37:12.227Z"
   },
   {
    "duration": 42,
    "start_time": "2022-11-06T10:37:12.236Z"
   },
   {
    "duration": 2,
    "start_time": "2022-11-06T10:37:12.279Z"
   },
   {
    "duration": 8,
    "start_time": "2022-11-06T10:37:12.283Z"
   },
   {
    "duration": 6,
    "start_time": "2022-11-06T10:37:12.292Z"
   },
   {
    "duration": 23,
    "start_time": "2022-11-06T10:37:12.300Z"
   },
   {
    "duration": 2,
    "start_time": "2022-11-06T10:37:12.325Z"
   },
   {
    "duration": 8,
    "start_time": "2022-11-06T10:37:12.328Z"
   },
   {
    "duration": 24,
    "start_time": "2022-11-06T10:37:12.337Z"
   },
   {
    "duration": 14,
    "start_time": "2022-11-06T10:37:12.363Z"
   },
   {
    "duration": 8,
    "start_time": "2022-11-06T10:37:12.379Z"
   },
   {
    "duration": 23,
    "start_time": "2022-11-06T10:37:12.389Z"
   },
   {
    "duration": 20,
    "start_time": "2022-11-06T10:39:19.805Z"
   },
   {
    "duration": 45,
    "start_time": "2022-11-08T09:03:34.328Z"
   },
   {
    "duration": 480,
    "start_time": "2022-11-08T09:03:41.059Z"
   },
   {
    "duration": 21,
    "start_time": "2022-11-08T09:03:41.541Z"
   },
   {
    "duration": 24,
    "start_time": "2022-11-08T09:03:41.564Z"
   },
   {
    "duration": 9,
    "start_time": "2022-11-08T09:03:41.590Z"
   },
   {
    "duration": 41,
    "start_time": "2022-11-08T09:03:41.600Z"
   },
   {
    "duration": 3,
    "start_time": "2022-11-08T09:03:41.642Z"
   },
   {
    "duration": 22,
    "start_time": "2022-11-08T09:03:41.647Z"
   },
   {
    "duration": 5,
    "start_time": "2022-11-08T09:03:41.671Z"
   },
   {
    "duration": 9,
    "start_time": "2022-11-08T09:03:41.677Z"
   },
   {
    "duration": 3,
    "start_time": "2022-11-08T09:03:41.689Z"
   },
   {
    "duration": 31,
    "start_time": "2022-11-08T09:03:41.693Z"
   },
   {
    "duration": 10,
    "start_time": "2022-11-08T09:03:41.734Z"
   },
   {
    "duration": 3,
    "start_time": "2022-11-08T09:03:41.745Z"
   },
   {
    "duration": 13,
    "start_time": "2022-11-08T09:03:41.750Z"
   },
   {
    "duration": 20,
    "start_time": "2022-11-08T09:03:41.765Z"
   },
   {
    "duration": 15,
    "start_time": "2022-11-08T09:03:41.787Z"
   },
   {
    "duration": 3,
    "start_time": "2022-11-08T09:03:41.804Z"
   },
   {
    "duration": 35,
    "start_time": "2022-11-08T09:03:41.808Z"
   },
   {
    "duration": 6,
    "start_time": "2022-11-08T09:03:41.844Z"
   },
   {
    "duration": 5,
    "start_time": "2022-11-08T09:03:41.852Z"
   },
   {
    "duration": 15,
    "start_time": "2022-11-08T09:03:41.858Z"
   },
   {
    "duration": 8,
    "start_time": "2022-11-08T09:03:41.874Z"
   },
   {
    "duration": 9,
    "start_time": "2022-11-08T09:03:41.884Z"
   },
   {
    "duration": 5,
    "start_time": "2022-11-08T09:03:41.895Z"
   },
   {
    "duration": 458,
    "start_time": "2022-11-08T09:03:41.902Z"
   },
   {
    "duration": 2,
    "start_time": "2022-11-08T09:03:42.362Z"
   },
   {
    "duration": 8,
    "start_time": "2022-11-08T09:03:42.366Z"
   },
   {
    "duration": 7,
    "start_time": "2022-11-08T09:03:42.377Z"
   },
   {
    "duration": 29,
    "start_time": "2022-11-08T09:03:42.385Z"
   },
   {
    "duration": 3,
    "start_time": "2022-11-08T09:03:42.415Z"
   },
   {
    "duration": 12,
    "start_time": "2022-11-08T09:03:42.419Z"
   },
   {
    "duration": 24,
    "start_time": "2022-11-08T09:03:42.435Z"
   },
   {
    "duration": 3,
    "start_time": "2022-11-08T09:03:42.461Z"
   },
   {
    "duration": 11,
    "start_time": "2022-11-08T09:03:42.465Z"
   },
   {
    "duration": 25,
    "start_time": "2022-11-08T09:03:42.478Z"
   },
   {
    "duration": 22,
    "start_time": "2022-11-08T09:03:59.405Z"
   },
   {
    "duration": 52,
    "start_time": "2022-11-08T09:04:25.312Z"
   },
   {
    "duration": 25,
    "start_time": "2022-11-08T09:05:47.734Z"
   },
   {
    "duration": 70,
    "start_time": "2022-11-08T09:06:02.805Z"
   },
   {
    "duration": 17,
    "start_time": "2022-11-08T09:06:02.878Z"
   },
   {
    "duration": 39,
    "start_time": "2022-11-08T09:06:02.896Z"
   },
   {
    "duration": 9,
    "start_time": "2022-11-08T09:06:02.937Z"
   },
   {
    "duration": 33,
    "start_time": "2022-11-08T09:06:02.947Z"
   },
   {
    "duration": 4,
    "start_time": "2022-11-08T09:06:02.981Z"
   },
   {
    "duration": 9,
    "start_time": "2022-11-08T09:06:02.986Z"
   },
   {
    "duration": 4,
    "start_time": "2022-11-08T09:06:02.997Z"
   },
   {
    "duration": 6,
    "start_time": "2022-11-08T09:06:03.002Z"
   },
   {
    "duration": 4,
    "start_time": "2022-11-08T09:06:03.036Z"
   },
   {
    "duration": 34,
    "start_time": "2022-11-08T09:06:03.041Z"
   },
   {
    "duration": 8,
    "start_time": "2022-11-08T09:06:03.077Z"
   },
   {
    "duration": 9,
    "start_time": "2022-11-08T09:06:03.086Z"
   },
   {
    "duration": 21,
    "start_time": "2022-11-08T09:06:03.096Z"
   },
   {
    "duration": 21,
    "start_time": "2022-11-08T09:06:03.118Z"
   },
   {
    "duration": 19,
    "start_time": "2022-11-08T09:06:03.141Z"
   },
   {
    "duration": 4,
    "start_time": "2022-11-08T09:06:03.161Z"
   },
   {
    "duration": 13,
    "start_time": "2022-11-08T09:06:03.167Z"
   },
   {
    "duration": 17,
    "start_time": "2022-11-08T09:06:03.182Z"
   },
   {
    "duration": 3,
    "start_time": "2022-11-08T09:06:03.201Z"
   },
   {
    "duration": 9,
    "start_time": "2022-11-08T09:06:03.206Z"
   },
   {
    "duration": 19,
    "start_time": "2022-11-08T09:06:03.216Z"
   },
   {
    "duration": 9,
    "start_time": "2022-11-08T09:06:03.237Z"
   },
   {
    "duration": 10,
    "start_time": "2022-11-08T09:06:03.248Z"
   },
   {
    "duration": 32,
    "start_time": "2022-11-08T09:06:03.259Z"
   },
   {
    "duration": 0,
    "start_time": "2022-11-08T09:06:03.293Z"
   },
   {
    "duration": 0,
    "start_time": "2022-11-08T09:06:03.294Z"
   },
   {
    "duration": 0,
    "start_time": "2022-11-08T09:06:03.295Z"
   },
   {
    "duration": 0,
    "start_time": "2022-11-08T09:06:03.296Z"
   },
   {
    "duration": 0,
    "start_time": "2022-11-08T09:06:03.297Z"
   },
   {
    "duration": 0,
    "start_time": "2022-11-08T09:06:03.298Z"
   },
   {
    "duration": 0,
    "start_time": "2022-11-08T09:06:03.299Z"
   },
   {
    "duration": 0,
    "start_time": "2022-11-08T09:06:03.300Z"
   },
   {
    "duration": 0,
    "start_time": "2022-11-08T09:06:03.301Z"
   },
   {
    "duration": 0,
    "start_time": "2022-11-08T09:06:03.302Z"
   },
   {
    "duration": 24,
    "start_time": "2022-11-08T09:08:08.059Z"
   },
   {
    "duration": 22,
    "start_time": "2022-11-08T09:08:51.510Z"
   },
   {
    "duration": 2,
    "start_time": "2022-11-08T09:12:58.375Z"
   },
   {
    "duration": 26,
    "start_time": "2022-11-08T09:13:09.791Z"
   },
   {
    "duration": 29,
    "start_time": "2022-11-08T09:14:39.574Z"
   },
   {
    "duration": 28,
    "start_time": "2022-11-08T09:16:44.553Z"
   },
   {
    "duration": 29,
    "start_time": "2022-11-08T09:16:56.661Z"
   },
   {
    "duration": 30,
    "start_time": "2022-11-08T09:18:25.935Z"
   },
   {
    "duration": 29,
    "start_time": "2022-11-08T09:19:01.040Z"
   },
   {
    "duration": 33,
    "start_time": "2022-11-08T09:19:38.903Z"
   },
   {
    "duration": 36,
    "start_time": "2022-11-08T09:20:12.869Z"
   },
   {
    "duration": 30,
    "start_time": "2022-11-08T09:20:20.079Z"
   },
   {
    "duration": 28,
    "start_time": "2022-11-08T09:20:31.831Z"
   },
   {
    "duration": 31,
    "start_time": "2022-11-08T09:21:57.098Z"
   },
   {
    "duration": 30,
    "start_time": "2022-11-08T09:22:06.304Z"
   },
   {
    "duration": 30,
    "start_time": "2022-11-08T09:22:16.064Z"
   },
   {
    "duration": 30,
    "start_time": "2022-11-08T09:33:55.298Z"
   },
   {
    "duration": 29,
    "start_time": "2022-11-08T09:34:07.235Z"
   },
   {
    "duration": 115,
    "start_time": "2022-11-08T09:54:55.611Z"
   },
   {
    "duration": 27,
    "start_time": "2022-11-08T09:55:02.051Z"
   },
   {
    "duration": 31,
    "start_time": "2022-11-08T09:56:04.211Z"
   },
   {
    "duration": 28,
    "start_time": "2022-11-08T09:56:54.435Z"
   },
   {
    "duration": 34,
    "start_time": "2022-11-08T09:57:02.368Z"
   },
   {
    "duration": 30,
    "start_time": "2022-11-08T10:03:22.645Z"
   },
   {
    "duration": 31,
    "start_time": "2022-11-08T10:05:05.579Z"
   },
   {
    "duration": 38,
    "start_time": "2022-11-08T10:05:10.371Z"
   },
   {
    "duration": 656,
    "start_time": "2022-11-08T13:21:20.533Z"
   },
   {
    "duration": 23,
    "start_time": "2022-11-08T13:21:21.191Z"
   },
   {
    "duration": 18,
    "start_time": "2022-11-08T13:21:21.215Z"
   },
   {
    "duration": 22,
    "start_time": "2022-11-08T13:21:21.235Z"
   },
   {
    "duration": 42,
    "start_time": "2022-11-08T13:21:21.260Z"
   },
   {
    "duration": 5,
    "start_time": "2022-11-08T13:21:21.304Z"
   },
   {
    "duration": 29,
    "start_time": "2022-11-08T13:21:21.311Z"
   },
   {
    "duration": 9,
    "start_time": "2022-11-08T13:21:21.343Z"
   },
   {
    "duration": 14,
    "start_time": "2022-11-08T13:21:21.354Z"
   },
   {
    "duration": 14,
    "start_time": "2022-11-08T13:21:21.370Z"
   },
   {
    "duration": 49,
    "start_time": "2022-11-08T13:21:21.385Z"
   },
   {
    "duration": 11,
    "start_time": "2022-11-08T13:21:21.435Z"
   },
   {
    "duration": 13,
    "start_time": "2022-11-08T13:21:21.448Z"
   },
   {
    "duration": 18,
    "start_time": "2022-11-08T13:21:21.465Z"
   },
   {
    "duration": 29,
    "start_time": "2022-11-08T13:21:21.485Z"
   },
   {
    "duration": 32,
    "start_time": "2022-11-08T13:21:21.528Z"
   },
   {
    "duration": 4,
    "start_time": "2022-11-08T13:21:21.563Z"
   },
   {
    "duration": 20,
    "start_time": "2022-11-08T13:21:21.569Z"
   },
   {
    "duration": 10,
    "start_time": "2022-11-08T13:21:21.591Z"
   },
   {
    "duration": 24,
    "start_time": "2022-11-08T13:21:21.603Z"
   },
   {
    "duration": 25,
    "start_time": "2022-11-08T13:21:21.632Z"
   },
   {
    "duration": 6,
    "start_time": "2022-11-08T13:21:21.659Z"
   },
   {
    "duration": 11,
    "start_time": "2022-11-08T13:21:21.668Z"
   },
   {
    "duration": 5,
    "start_time": "2022-11-08T13:21:21.681Z"
   },
   {
    "duration": 5,
    "start_time": "2022-11-08T13:21:21.688Z"
   },
   {
    "duration": 60,
    "start_time": "2022-11-08T13:21:21.695Z"
   },
   {
    "duration": 3,
    "start_time": "2022-11-08T13:21:21.757Z"
   },
   {
    "duration": 12,
    "start_time": "2022-11-08T13:21:21.762Z"
   },
   {
    "duration": 9,
    "start_time": "2022-11-08T13:21:21.776Z"
   },
   {
    "duration": 7,
    "start_time": "2022-11-08T13:21:21.788Z"
   },
   {
    "duration": 64,
    "start_time": "2022-11-08T13:21:21.796Z"
   },
   {
    "duration": 3,
    "start_time": "2022-11-08T13:21:21.863Z"
   },
   {
    "duration": 14,
    "start_time": "2022-11-08T13:21:21.867Z"
   },
   {
    "duration": 5,
    "start_time": "2022-11-08T13:21:21.883Z"
   },
   {
    "duration": 66,
    "start_time": "2022-11-08T13:21:21.890Z"
   },
   {
    "duration": 4,
    "start_time": "2022-11-08T13:21:21.958Z"
   },
   {
    "duration": 9,
    "start_time": "2022-11-08T13:21:21.965Z"
   },
   {
    "duration": 5,
    "start_time": "2022-11-08T13:21:21.976Z"
   },
   {
    "duration": 57,
    "start_time": "2022-11-08T13:21:21.982Z"
   }
  ],
  "colab": {
   "name": "dpp_template_part2.ipynb",
   "provenance": []
  },
  "kernelspec": {
   "display_name": "Python 3 (ipykernel)",
   "language": "python",
   "name": "python3"
  },
  "language_info": {
   "codemirror_mode": {
    "name": "ipython",
    "version": 3
   },
   "file_extension": ".py",
   "mimetype": "text/x-python",
   "name": "python",
   "nbconvert_exporter": "python",
   "pygments_lexer": "ipython3",
   "version": "3.9.12"
  },
  "toc": {
   "base_numbering": 1,
   "nav_menu": {},
   "number_sections": true,
   "sideBar": true,
   "skip_h1_title": true,
   "title_cell": "Table of Contents",
   "title_sidebar": "Contents",
   "toc_cell": false,
   "toc_position": {},
   "toc_section_display": true,
   "toc_window_display": false
  }
 },
 "nbformat": 4,
 "nbformat_minor": 5
}
