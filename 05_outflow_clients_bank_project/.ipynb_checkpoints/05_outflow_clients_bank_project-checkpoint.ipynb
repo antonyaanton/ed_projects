{
 "cells": [
  {
   "cell_type": "markdown",
   "metadata": {
    "toc": true
   },
   "source": [
    "<h1>Содержание<span class=\"tocSkip\"></span></h1>\n",
    "<div class=\"toc\"><ul class=\"toc-item\"><li><span><a href=\"#Подготовка-данных\" data-toc-modified-id=\"Подготовка-данных-1\"><span class=\"toc-item-num\">1&nbsp;&nbsp;</span>Подготовка данных</a></span><ul class=\"toc-item\"><li><span><a href=\"#EDA\" data-toc-modified-id=\"EDA-1.1\"><span class=\"toc-item-num\">1.1&nbsp;&nbsp;</span>EDA</a></span></li><li><span><a href=\"#Преобразование-признаков\" data-toc-modified-id=\"Преобразование-признаков-1.2\"><span class=\"toc-item-num\">1.2&nbsp;&nbsp;</span>Преобразование признаков</a></span></li><li><span><a href=\"#Выделение-признаков\" data-toc-modified-id=\"Выделение-признаков-1.3\"><span class=\"toc-item-num\">1.3&nbsp;&nbsp;</span>Выделение признаков</a></span></li><li><span><a href=\"#Разделение-данных-на-тестовую,-тренировочную-и-валидационную-выборки\" data-toc-modified-id=\"Разделение-данных-на-тестовую,-тренировочную-и-валидационную-выборки-1.4\"><span class=\"toc-item-num\">1.4&nbsp;&nbsp;</span>Разделение данных на тестовую, тренировочную и валидационную выборки</a></span></li><li><span><a href=\"#Масштабирование-признаков\" data-toc-modified-id=\"Масштабирование-признаков-1.5\"><span class=\"toc-item-num\">1.5&nbsp;&nbsp;</span>Масштабирование признаков</a></span></li></ul></li><li><span><a href=\"#Исследование-задачи\" data-toc-modified-id=\"Исследование-задачи-2\"><span class=\"toc-item-num\">2&nbsp;&nbsp;</span>Исследование задачи</a></span><ul class=\"toc-item\"><li><span><a href=\"#Решающее-дерево\" data-toc-modified-id=\"Решающее-дерево-2.1\"><span class=\"toc-item-num\">2.1&nbsp;&nbsp;</span>Решающее дерево</a></span></li><li><span><a href=\"#Логистическая-регрессия\" data-toc-modified-id=\"Логистическая-регрессия-2.2\"><span class=\"toc-item-num\">2.2&nbsp;&nbsp;</span>Логистическая регрессия</a></span></li><li><span><a href=\"#Случайный-лес\" data-toc-modified-id=\"Случайный-лес-2.3\"><span class=\"toc-item-num\">2.3&nbsp;&nbsp;</span>Случайный лес</a></span></li></ul></li><li><span><a href=\"#Борьба-с-дисбалансом\" data-toc-modified-id=\"Борьба-с-дисбалансом-3\"><span class=\"toc-item-num\">3&nbsp;&nbsp;</span>Борьба с дисбалансом</a></span><ul class=\"toc-item\"><li><span><a href=\"#Дисбаланс-классов-для-каждой-модели\" data-toc-modified-id=\"Дисбаланс-классов-для-каждой-модели-3.1\"><span class=\"toc-item-num\">3.1&nbsp;&nbsp;</span>Дисбаланс классов для каждой модели</a></span></li><li><span><a href=\"#Матрица-ошибок,-полнота,-точность,-F-1-и-ROC-кривая\" data-toc-modified-id=\"Матрица-ошибок,-полнота,-точность,-F-1-и-ROC-кривая-3.2\"><span class=\"toc-item-num\">3.2&nbsp;&nbsp;</span>Матрица ошибок, полнота, точность, F-1 и ROC-кривая</a></span></li><li><span><a href=\"#Борьба-с-дисбалансом\" data-toc-modified-id=\"Борьба-с-дисбалансом-3.3\"><span class=\"toc-item-num\">3.3&nbsp;&nbsp;</span>Борьба с дисбалансом</a></span></li><li><span><a href=\"#Увеличение-и-уменьшение-выборки-для-решающего-дерева:\" data-toc-modified-id=\"Увеличение-и-уменьшение-выборки-для-решающего-дерева:-3.4\"><span class=\"toc-item-num\">3.4&nbsp;&nbsp;</span>Увеличение и уменьшение выборки для решающего дерева:</a></span></li><li><span><a href=\"#Увеличение-и-уменьшение-выборки-для-логистической-регрессии:\" data-toc-modified-id=\"Увеличение-и-уменьшение-выборки-для-логистической-регрессии:-3.5\"><span class=\"toc-item-num\">3.5&nbsp;&nbsp;</span>Увеличение и уменьшение выборки для логистической регрессии:</a></span></li><li><span><a href=\"#Увеличение-и-уменьшение-выборки-для-случайного-леса:\" data-toc-modified-id=\"Увеличение-и-уменьшение-выборки-для-случайного-леса:-3.6\"><span class=\"toc-item-num\">3.6&nbsp;&nbsp;</span>Увеличение и уменьшение выборки для случайного леса:</a></span></li></ul></li><li><span><a href=\"#Тестирование-модели\" data-toc-modified-id=\"Тестирование-модели-4\"><span class=\"toc-item-num\">4&nbsp;&nbsp;</span>Тестирование модели</a></span></li><li><span><a href=\"#Чек-лист-готовности-проекта\" data-toc-modified-id=\"Чек-лист-готовности-проекта-5\"><span class=\"toc-item-num\">5&nbsp;&nbsp;</span>Чек-лист готовности проекта</a></span></li></ul></div>"
   ]
  },
  {
   "cell_type": "markdown",
   "metadata": {},
   "source": [
    "# Отток клиентов"
   ]
  },
  {
   "cell_type": "markdown",
   "metadata": {},
   "source": [
    "Из «Бета-Банка» стали уходить клиенты. Каждый месяц. Немного, но заметно. Банковские маркетологи посчитали: сохранять текущих клиентов дешевле, чем привлекать новых.\n",
    "\n",
    "Нужно спрогнозировать, уйдёт клиент из банка в ближайшее время или нет. Вам предоставлены исторические данные о поведении клиентов и расторжении договоров с банком. \n",
    "\n",
    "Постройте модель с предельно большим значением *F1*-меры. Чтобы сдать проект успешно, нужно довести метрику до 0.59. Проверьте *F1*-меру на тестовой выборке самостоятельно.\n",
    "\n",
    "Дополнительно измеряйте *AUC-ROC*, сравнивайте её значение с *F1*-мерой.\n",
    "\n",
    "Источник данных: [https://www.kaggle.com/barelydedicated/bank-customer-churn-modeling](https://www.kaggle.com/barelydedicated/bank-customer-churn-modeling)"
   ]
  },
  {
   "cell_type": "markdown",
   "metadata": {},
   "source": [
    "## Подготовка данных"
   ]
  },
  {
   "cell_type": "code",
   "execution_count": 1,
   "metadata": {},
   "outputs": [
    {
     "name": "stdout",
     "output_type": "stream",
     "text": [
      "Requirement already satisfied: scikit-learn==1.1.3 in /opt/conda/lib/python3.9/site-packages (1.1.3)\n",
      "Requirement already satisfied: scipy>=1.3.2 in /opt/conda/lib/python3.9/site-packages (from scikit-learn==1.1.3) (1.9.1)\n",
      "Requirement already satisfied: numpy>=1.17.3 in /opt/conda/lib/python3.9/site-packages (from scikit-learn==1.1.3) (1.21.1)\n",
      "Requirement already satisfied: joblib>=1.0.0 in /opt/conda/lib/python3.9/site-packages (from scikit-learn==1.1.3) (1.2.0)\n",
      "Requirement already satisfied: threadpoolctl>=2.0.0 in /opt/conda/lib/python3.9/site-packages (from scikit-learn==1.1.3) (3.1.0)\n"
     ]
    }
   ],
   "source": [
    "!pip install scikit-learn==1.1.3"
   ]
  },
  {
   "cell_type": "code",
   "execution_count": 2,
   "metadata": {},
   "outputs": [
    {
     "name": "stdout",
     "output_type": "stream",
     "text": [
      "Requirement already satisfied: imblearn in /opt/conda/lib/python3.9/site-packages (0.0)\n",
      "Requirement already satisfied: imbalanced-learn in /opt/conda/lib/python3.9/site-packages (from imblearn) (0.10.1)\n",
      "Requirement already satisfied: numpy>=1.17.3 in /opt/conda/lib/python3.9/site-packages (from imbalanced-learn->imblearn) (1.21.1)\n",
      "Requirement already satisfied: threadpoolctl>=2.0.0 in /opt/conda/lib/python3.9/site-packages (from imbalanced-learn->imblearn) (3.1.0)\n",
      "Requirement already satisfied: scikit-learn>=1.0.2 in /opt/conda/lib/python3.9/site-packages (from imbalanced-learn->imblearn) (1.1.3)\n",
      "Requirement already satisfied: scipy>=1.3.2 in /opt/conda/lib/python3.9/site-packages (from imbalanced-learn->imblearn) (1.9.1)\n",
      "Requirement already satisfied: joblib>=1.1.1 in /opt/conda/lib/python3.9/site-packages (from imbalanced-learn->imblearn) (1.2.0)\n"
     ]
    }
   ],
   "source": [
    "!pip install imblearn"
   ]
  },
  {
   "cell_type": "code",
   "execution_count": 3,
   "metadata": {},
   "outputs": [],
   "source": [
    "import pandas as pd\n",
    "import numpy as np\n",
    "import seaborn as sns\n",
    "\n",
    "from sklearn.tree import DecisionTreeClassifier\n",
    "from sklearn.linear_model import LogisticRegression\n",
    "from sklearn.ensemble import RandomForestClassifier\n",
    "\n",
    "from imblearn.over_sampling import SMOTE\n",
    "\n",
    "from sklearn.model_selection import train_test_split\n",
    "from sklearn.preprocessing import StandardScaler\n",
    "from sklearn.utils import shuffle\n",
    "from sklearn.metrics import (\n",
    "    accuracy_score, \n",
    "    f1_score, \n",
    "    roc_auc_score, \n",
    "    confusion_matrix, \n",
    "    recall_score, \n",
    "    precision_score\n",
    ")"
   ]
  },
  {
   "cell_type": "markdown",
   "metadata": {},
   "source": [
    "### EDA"
   ]
  },
  {
   "cell_type": "code",
   "execution_count": 4,
   "metadata": {},
   "outputs": [],
   "source": [
    "try:\n",
    "    df = pd.read_csv('d:\\Churn.csv')\n",
    "except:\n",
    "    df = pd.read_csv('/datasets/Churn.csv')"
   ]
  },
  {
   "cell_type": "code",
   "execution_count": 5,
   "metadata": {},
   "outputs": [
    {
     "data": {
      "text/html": [
       "<div>\n",
       "<style scoped>\n",
       "    .dataframe tbody tr th:only-of-type {\n",
       "        vertical-align: middle;\n",
       "    }\n",
       "\n",
       "    .dataframe tbody tr th {\n",
       "        vertical-align: top;\n",
       "    }\n",
       "\n",
       "    .dataframe thead th {\n",
       "        text-align: right;\n",
       "    }\n",
       "</style>\n",
       "<table border=\"1\" class=\"dataframe\">\n",
       "  <thead>\n",
       "    <tr style=\"text-align: right;\">\n",
       "      <th></th>\n",
       "      <th>RowNumber</th>\n",
       "      <th>CustomerId</th>\n",
       "      <th>Surname</th>\n",
       "      <th>CreditScore</th>\n",
       "      <th>Geography</th>\n",
       "      <th>Gender</th>\n",
       "      <th>Age</th>\n",
       "      <th>Tenure</th>\n",
       "      <th>Balance</th>\n",
       "      <th>NumOfProducts</th>\n",
       "      <th>HasCrCard</th>\n",
       "      <th>IsActiveMember</th>\n",
       "      <th>EstimatedSalary</th>\n",
       "      <th>Exited</th>\n",
       "    </tr>\n",
       "  </thead>\n",
       "  <tbody>\n",
       "    <tr>\n",
       "      <th>0</th>\n",
       "      <td>1</td>\n",
       "      <td>15634602</td>\n",
       "      <td>Hargrave</td>\n",
       "      <td>619</td>\n",
       "      <td>France</td>\n",
       "      <td>Female</td>\n",
       "      <td>42</td>\n",
       "      <td>2.0</td>\n",
       "      <td>0.00</td>\n",
       "      <td>1</td>\n",
       "      <td>1</td>\n",
       "      <td>1</td>\n",
       "      <td>101348.88</td>\n",
       "      <td>1</td>\n",
       "    </tr>\n",
       "    <tr>\n",
       "      <th>1</th>\n",
       "      <td>2</td>\n",
       "      <td>15647311</td>\n",
       "      <td>Hill</td>\n",
       "      <td>608</td>\n",
       "      <td>Spain</td>\n",
       "      <td>Female</td>\n",
       "      <td>41</td>\n",
       "      <td>1.0</td>\n",
       "      <td>83807.86</td>\n",
       "      <td>1</td>\n",
       "      <td>0</td>\n",
       "      <td>1</td>\n",
       "      <td>112542.58</td>\n",
       "      <td>0</td>\n",
       "    </tr>\n",
       "    <tr>\n",
       "      <th>2</th>\n",
       "      <td>3</td>\n",
       "      <td>15619304</td>\n",
       "      <td>Onio</td>\n",
       "      <td>502</td>\n",
       "      <td>France</td>\n",
       "      <td>Female</td>\n",
       "      <td>42</td>\n",
       "      <td>8.0</td>\n",
       "      <td>159660.80</td>\n",
       "      <td>3</td>\n",
       "      <td>1</td>\n",
       "      <td>0</td>\n",
       "      <td>113931.57</td>\n",
       "      <td>1</td>\n",
       "    </tr>\n",
       "    <tr>\n",
       "      <th>3</th>\n",
       "      <td>4</td>\n",
       "      <td>15701354</td>\n",
       "      <td>Boni</td>\n",
       "      <td>699</td>\n",
       "      <td>France</td>\n",
       "      <td>Female</td>\n",
       "      <td>39</td>\n",
       "      <td>1.0</td>\n",
       "      <td>0.00</td>\n",
       "      <td>2</td>\n",
       "      <td>0</td>\n",
       "      <td>0</td>\n",
       "      <td>93826.63</td>\n",
       "      <td>0</td>\n",
       "    </tr>\n",
       "    <tr>\n",
       "      <th>4</th>\n",
       "      <td>5</td>\n",
       "      <td>15737888</td>\n",
       "      <td>Mitchell</td>\n",
       "      <td>850</td>\n",
       "      <td>Spain</td>\n",
       "      <td>Female</td>\n",
       "      <td>43</td>\n",
       "      <td>2.0</td>\n",
       "      <td>125510.82</td>\n",
       "      <td>1</td>\n",
       "      <td>1</td>\n",
       "      <td>1</td>\n",
       "      <td>79084.10</td>\n",
       "      <td>0</td>\n",
       "    </tr>\n",
       "  </tbody>\n",
       "</table>\n",
       "</div>"
      ],
      "text/plain": [
       "   RowNumber  CustomerId   Surname  CreditScore Geography  Gender  Age  \\\n",
       "0          1    15634602  Hargrave          619    France  Female   42   \n",
       "1          2    15647311      Hill          608     Spain  Female   41   \n",
       "2          3    15619304      Onio          502    France  Female   42   \n",
       "3          4    15701354      Boni          699    France  Female   39   \n",
       "4          5    15737888  Mitchell          850     Spain  Female   43   \n",
       "\n",
       "   Tenure    Balance  NumOfProducts  HasCrCard  IsActiveMember  \\\n",
       "0     2.0       0.00              1          1               1   \n",
       "1     1.0   83807.86              1          0               1   \n",
       "2     8.0  159660.80              3          1               0   \n",
       "3     1.0       0.00              2          0               0   \n",
       "4     2.0  125510.82              1          1               1   \n",
       "\n",
       "   EstimatedSalary  Exited  \n",
       "0        101348.88       1  \n",
       "1        112542.58       0  \n",
       "2        113931.57       1  \n",
       "3         93826.63       0  \n",
       "4         79084.10       0  "
      ]
     },
     "execution_count": 5,
     "metadata": {},
     "output_type": "execute_result"
    }
   ],
   "source": [
    "df.head()"
   ]
  },
  {
   "cell_type": "markdown",
   "metadata": {},
   "source": [
    "Для начала, лучшим решением будет преобразовать названия столбцов к высоте строчных знаков."
   ]
  },
  {
   "cell_type": "code",
   "execution_count": 6,
   "metadata": {},
   "outputs": [],
   "source": [
    "df.columns = df.columns.str.lower()"
   ]
  },
  {
   "cell_type": "code",
   "execution_count": 7,
   "metadata": {},
   "outputs": [
    {
     "name": "stdout",
     "output_type": "stream",
     "text": [
      "<class 'pandas.core.frame.DataFrame'>\n",
      "RangeIndex: 10000 entries, 0 to 9999\n",
      "Data columns (total 14 columns):\n",
      " #   Column           Non-Null Count  Dtype  \n",
      "---  ------           --------------  -----  \n",
      " 0   rownumber        10000 non-null  int64  \n",
      " 1   customerid       10000 non-null  int64  \n",
      " 2   surname          10000 non-null  object \n",
      " 3   creditscore      10000 non-null  int64  \n",
      " 4   geography        10000 non-null  object \n",
      " 5   gender           10000 non-null  object \n",
      " 6   age              10000 non-null  int64  \n",
      " 7   tenure           9091 non-null   float64\n",
      " 8   balance          10000 non-null  float64\n",
      " 9   numofproducts    10000 non-null  int64  \n",
      " 10  hascrcard        10000 non-null  int64  \n",
      " 11  isactivemember   10000 non-null  int64  \n",
      " 12  estimatedsalary  10000 non-null  float64\n",
      " 13  exited           10000 non-null  int64  \n",
      "dtypes: float64(3), int64(8), object(3)\n",
      "memory usage: 1.1+ MB\n"
     ]
    }
   ],
   "source": [
    "df.info()"
   ]
  },
  {
   "cell_type": "markdown",
   "metadata": {},
   "source": [
    "В столбце `'tenure'` имеются пропуски."
   ]
  },
  {
   "cell_type": "code",
   "execution_count": 8,
   "metadata": {},
   "outputs": [
    {
     "data": {
      "text/plain": [
       "0"
      ]
     },
     "execution_count": 8,
     "metadata": {},
     "output_type": "execute_result"
    }
   ],
   "source": [
    "df.duplicated().sum()"
   ]
  },
  {
   "cell_type": "markdown",
   "metadata": {},
   "source": [
    "Явных дупликатов в датасете нет."
   ]
  },
  {
   "cell_type": "code",
   "execution_count": 9,
   "metadata": {},
   "outputs": [
    {
     "name": "stdout",
     "output_type": "stream",
     "text": [
      "В столбце \"tenure\" пропущено 9.09% значений\n"
     ]
    }
   ],
   "source": [
    "missing_percent = (df['tenure'].isnull().sum()) / (len(df['tenure'])) * 100\n",
    "print(f'В столбце \"tenure\" пропущено {missing_percent}% значений')"
   ]
  },
  {
   "cell_type": "markdown",
   "metadata": {},
   "source": [
    "`9,1%` от датасета - довольно страшная потеря. Однако при замене пропущенных значений на медиану, модель может исказить закономерности. Поэтому лучшим решением будет удалить строки с пропусками:"
   ]
  },
  {
   "cell_type": "code",
   "execution_count": 10,
   "metadata": {},
   "outputs": [],
   "source": [
    "df = df.dropna()"
   ]
  },
  {
   "cell_type": "markdown",
   "metadata": {},
   "source": [
    "Также столбец `'tenure'` нуждается в преобразовании. Тип данных лучше преобразовать в целочисленный:"
   ]
  },
  {
   "cell_type": "code",
   "execution_count": 11,
   "metadata": {},
   "outputs": [
    {
     "data": {
      "text/plain": [
       "array([ 0,  1,  2,  3,  4,  5,  6,  7,  8,  9, 10])"
      ]
     },
     "execution_count": 11,
     "metadata": {},
     "output_type": "execute_result"
    }
   ],
   "source": [
    "df['tenure'] = df['tenure'].astype('int')\n",
    "df['tenure'].sort_values().unique()"
   ]
  },
  {
   "cell_type": "markdown",
   "metadata": {},
   "source": [
    "Проверим классы на дисбаланс:"
   ]
  },
  {
   "cell_type": "code",
   "execution_count": 12,
   "metadata": {},
   "outputs": [
    {
     "data": {
      "text/plain": [
       "0    7237\n",
       "1    1854\n",
       "Name: exited, dtype: int64"
      ]
     },
     "execution_count": 12,
     "metadata": {},
     "output_type": "execute_result"
    }
   ],
   "source": [
    "class_frequency = df['exited'].value_counts()\n",
    "class_frequency"
   ]
  },
  {
   "cell_type": "code",
   "execution_count": 13,
   "metadata": {},
   "outputs": [
    {
     "data": {
      "text/plain": [
       "0    0.796062\n",
       "1    0.203938\n",
       "Name: exited, dtype: float64"
      ]
     },
     "execution_count": 13,
     "metadata": {},
     "output_type": "execute_result"
    }
   ],
   "source": [
    "class_frequency = df['exited'].value_counts(normalize=True)\n",
    "class_frequency"
   ]
  },
  {
   "cell_type": "markdown",
   "metadata": {},
   "source": [
    "_Явный дисбаланс классов._"
   ]
  },
  {
   "cell_type": "code",
   "execution_count": 14,
   "metadata": {},
   "outputs": [
    {
     "data": {
      "text/plain": [
       "<AxesSubplot:>"
      ]
     },
     "execution_count": 14,
     "metadata": {},
     "output_type": "execute_result"
    },
    {
     "data": {
      "image/png": "[encoded data removed]",
      "text/plain": [
       "<Figure size 1080x720 with 2 Axes>"
      ]
     },
     "metadata": {},
     "output_type": "display_data"
    }
   ],
   "source": [
    "sns.set(rc = {'figure.figsize':(15,10)})\n",
    "sns.heatmap(df.corr(),\n",
    "            fmt='.1g',\n",
    "            vmin = -1, \n",
    "            vmax = +1, \n",
    "            annot = True, \n",
    "            cmap = 'coolwarm', \n",
    "            square=True, \n",
    "            linewidths=1, \n",
    "            linecolor='black')"
   ]
  },
  {
   "cell_type": "markdown",
   "metadata": {},
   "source": [
    "Мультиколлинеанарности в датасете нет. Такие переменные как `'rownumber'`, `'customerid'` корреляции с другими переменными не имеют. Уместным будет предположить, что значение `'surname'` тоже не будет иметь корреляции."
   ]
  },
  {
   "cell_type": "code",
   "execution_count": 15,
   "metadata": {},
   "outputs": [
    {
     "data": {
      "text/plain": [
       "count      9091.000000\n",
       "mean      76522.740015\n",
       "std       62329.528576\n",
       "min           0.000000\n",
       "25%           0.000000\n",
       "50%       97318.250000\n",
       "75%      127561.890000\n",
       "max      250898.090000\n",
       "Name: balance, dtype: float64"
      ]
     },
     "metadata": {},
     "output_type": "display_data"
    },
    {
     "data": {
      "text/plain": [
       "count      9091.000000\n",
       "mean     100181.214924\n",
       "std       57624.755647\n",
       "min          11.580000\n",
       "25%       51227.745000\n",
       "50%      100240.200000\n",
       "75%      149567.210000\n",
       "max      199992.480000\n",
       "Name: estimatedsalary, dtype: float64"
      ]
     },
     "metadata": {},
     "output_type": "display_data"
    }
   ],
   "source": [
    "display(df['balance'].describe())\n",
    "display(df['estimatedsalary'].describe())"
   ]
  },
  {
   "cell_type": "markdown",
   "metadata": {},
   "source": [
    "Разброс значений немаленький. К этим столбцам надо будет применить масштабирование."
   ]
  },
  {
   "cell_type": "markdown",
   "metadata": {},
   "source": [
    "**Промежуточный итог:** \n",
    "* столбцы `'rownumber'` и `'customerid'` сложно отнести к какому-либо виду переменной. По сути это индексы и использование их в обучении может привести путанице. \n",
    "* столбец `'surname'` - категориальный признак, однако в каком-то ссмысле это тоже индекс. Фамилия никак не может повлиять на выдачу кредита.\n",
    "* столбец `'creditscore'` - категориальный признак. Он уже сложился ранее по неизвестному нам алгоритму. \n",
    "* столбец `'geography'` - категориальный признак.\n",
    "* столбец `'gender'` - бинарный категориальный признак.\n",
    "* столбец `'age'` - непрерывный признак.\n",
    "* столбец `'tenure'` - непрерывный признак.\n",
    "* столбец `'balance'` - непрерывный признак.\n",
    "* столбец `'numofproducts'` - дискретный признак.\n",
    "* столбец `'рasсrсard'` - бинарный категориальный признак.\n",
    "* столбец `'isactivemember'` - бинарный категориальный признак.\n",
    "* столбец `'estimatedsalary'` - непрерывный признак.\n",
    "* столбец `'exited'` - бинарный категориальный признак.\n",
    "\n",
    "Так как целевой признак `'exited'` - бинарный категориальный, поэтому мы должны применить модели классификации. \n",
    "Лучшим решением будет преобразовать признаки техникой OHE.\n",
    "Признаки `'balance'` и `'estimatedsalary'` имеют большой разброс значений. Устраним эту проблему масштабированием. "
   ]
  },
  {
   "cell_type": "markdown",
   "metadata": {},
   "source": [
    "### Преобразование признаков"
   ]
  },
  {
   "cell_type": "code",
   "execution_count": 16,
   "metadata": {},
   "outputs": [],
   "source": [
    "df = df.drop(['rownumber', 'customerid', 'surname'], axis=1) #удаляем столбцы из исходного датасета, чтобы потом к ним не возвращаться\n",
    "df_ohe = pd.get_dummies(df, drop_first=True)"
   ]
  },
  {
   "cell_type": "markdown",
   "metadata": {},
   "source": [
    "### Выделение признаков"
   ]
  },
  {
   "cell_type": "code",
   "execution_count": 17,
   "metadata": {},
   "outputs": [],
   "source": [
    "features = df_ohe.drop('exited', axis=1)\n",
    "target = df_ohe['exited']"
   ]
  },
  {
   "cell_type": "markdown",
   "metadata": {},
   "source": [
    "### Разделение данных на тестовую, тренировочную и валидационную выборки"
   ]
  },
  {
   "cell_type": "code",
   "execution_count": 18,
   "metadata": {},
   "outputs": [],
   "source": [
    "features_test, features_train, target_test, target_train = train_test_split(features, target, \n",
    "                                                                            test_size = 0.4, random_state = 12345)"
   ]
  },
  {
   "cell_type": "code",
   "execution_count": 19,
   "metadata": {},
   "outputs": [],
   "source": [
    "features_train, features_valid, target_train, target_valid = train_test_split(features_train, target_train, \n",
    "                                                                             test_size = 0.5, random_state = 12345)"
   ]
  },
  {
   "cell_type": "markdown",
   "metadata": {},
   "source": [
    "### Масштабирование признаков"
   ]
  },
  {
   "cell_type": "code",
   "execution_count": 20,
   "metadata": {},
   "outputs": [],
   "source": [
    "pd.options.mode.chained_assignment = None"
   ]
  },
  {
   "cell_type": "code",
   "execution_count": 21,
   "metadata": {},
   "outputs": [],
   "source": [
    "numeric = ['creditscore', 'balance', 'estimatedsalary', 'age']"
   ]
  },
  {
   "cell_type": "code",
   "execution_count": 22,
   "metadata": {},
   "outputs": [],
   "source": [
    "scaler = StandardScaler()\n",
    "scaler.fit(features_train[numeric]) \n",
    "features_train[numeric] = scaler.transform(features_train[numeric])\n",
    "features_valid[numeric] = scaler.transform(features_valid[numeric])\n",
    "features_test[numeric] = scaler.transform(features_test[numeric])"
   ]
  },
  {
   "cell_type": "markdown",
   "metadata": {},
   "source": [
    "**Вывод:** в ходе преобразования данных из датасета были удалены столбцы, связанные с индексами клиентов банков. Целевым признаком был выбран `'exited'`. Категориальные признаки были преобразованы техникой OHE, а численные - масштабированы. "
   ]
  },
  {
   "cell_type": "markdown",
   "metadata": {},
   "source": [
    "## Исследование задачи"
   ]
  },
  {
   "cell_type": "markdown",
   "metadata": {},
   "source": [
    "### Решающее дерево"
   ]
  },
  {
   "cell_type": "code",
   "execution_count": 23,
   "metadata": {},
   "outputs": [
    {
     "name": "stdout",
     "output_type": "stream",
     "text": [
      "DecisionTreeClassifier(max_depth=7, random_state=12345)\n"
     ]
    }
   ],
   "source": [
    "best_tree_model = None\n",
    "max_depth = 0\n",
    "best_result = 0\n",
    "for depth in range(1,10):\n",
    "    model = DecisionTreeClassifier(random_state=12345, max_depth=depth)\n",
    "    model.fit(features_train, target_train)\n",
    "    #result = model.score(features_valid, target_valid)\n",
    "    predict = model.predict(features_valid)\n",
    "    result = f1_score(target_valid, predict) \n",
    "    if result > best_result:\n",
    "        best_result = result\n",
    "        max_depth = depth\n",
    "        best_tree_model = model\n",
    "print(best_tree_model)"
   ]
  },
  {
   "cell_type": "code",
   "execution_count": 24,
   "metadata": {},
   "outputs": [
    {
     "name": "stdout",
     "output_type": "stream",
     "text": [
      "F-1 решающего дерева: 0.5231788079470199\n"
     ]
    }
   ],
   "source": [
    "dtc_model = DecisionTreeClassifier(max_depth=7, random_state = 12345)\n",
    "dtc_model.fit(features_train, target_train)\n",
    "dtc_predict = dtc_model.predict(features_valid)\n",
    "score = f1_score(target_valid, dtc_predict)\n",
    "#print(f'Оценка решающего дерева: {score}')\n",
    "print(f'F-1 решающего дерева: {score}')"
   ]
  },
  {
   "cell_type": "markdown",
   "metadata": {},
   "source": [
    "### Логистическая регрессия"
   ]
  },
  {
   "cell_type": "code",
   "execution_count": 25,
   "metadata": {},
   "outputs": [
    {
     "name": "stdout",
     "output_type": "stream",
     "text": [
      "F-1 логистической регрессии: 0.3166666666666667\n"
     ]
    }
   ],
   "source": [
    "lr_model = LogisticRegression(random_state=12345, solver='liblinear')\n",
    "lr_model.fit(features_train, target_train)\n",
    "lr_predict = lr_model.predict(features_valid)\n",
    "score = f1_score(target_valid, lr_predict)\n",
    "#score = lr_model.score(features_valid, target_valid)\n",
    "#print(f'Оценка логистической регрессии: {score}')\n",
    "print(f'F-1 логистической регрессии: {score}')"
   ]
  },
  {
   "cell_type": "markdown",
   "metadata": {},
   "source": [
    "### Случайный лес"
   ]
  },
  {
   "cell_type": "code",
   "execution_count": 26,
   "metadata": {},
   "outputs": [
    {
     "name": "stdout",
     "output_type": "stream",
     "text": [
      "RandomForestClassifier(max_depth=10, min_samples_leaf=3, n_estimators=41,\n",
      "                       random_state=12345)\n"
     ]
    }
   ],
   "source": [
    "best_tree_model = None\n",
    "max_depth = 0\n",
    "max_result = 0\n",
    "for sample in range(1,5):\n",
    "    for depth in range(1,12):\n",
    "        for est in range(1,50, 5):\n",
    "            model = RandomForestClassifier(random_state=12345, max_depth=depth, n_estimators=est, min_samples_leaf = sample)\n",
    "            model.fit(features_train, target_train)\n",
    "            result = model.score(features_valid, target_valid)\n",
    "            if result > max_result:\n",
    "                max_result = result\n",
    "                max_depth = depth\n",
    "                max_est = est \n",
    "                max_sample = sample\n",
    "                best_tree_model = model\n",
    "print(best_tree_model)"
   ]
  },
  {
   "cell_type": "code",
   "execution_count": 27,
   "metadata": {},
   "outputs": [
    {
     "name": "stdout",
     "output_type": "stream",
     "text": [
      "F-1 случайного леса: 0.5604395604395604\n"
     ]
    }
   ],
   "source": [
    "rfc_model = RandomForestClassifier(max_depth=10, min_samples_leaf=3, n_estimators=41, random_state=12345)\n",
    "rfc_model.fit(features_train, target_train)\n",
    "#score = rfc_model.score(features_valid, target_valid)\n",
    "#print(f'Оценка случайного леса: {score}')\n",
    "rfc_predict = rfc_model.predict(features_valid)\n",
    "score = f1_score(target_valid, rfc_predict)\n",
    "print(f'F-1 случайного леса: {score}')"
   ]
  },
  {
   "cell_type": "markdown",
   "metadata": {},
   "source": [
    "**Вывод:** самая высокая точность у `случайного леса`. "
   ]
  },
  {
   "cell_type": "markdown",
   "metadata": {},
   "source": [
    "## Борьба с дисбалансом"
   ]
  },
  {
   "cell_type": "code",
   "execution_count": 28,
   "metadata": {},
   "outputs": [
    {
     "data": {
      "text/plain": [
       "0    0.792629\n",
       "1    0.207371\n",
       "Name: exited, dtype: float64"
      ]
     },
     "execution_count": 28,
     "metadata": {},
     "output_type": "execute_result"
    }
   ],
   "source": [
    "target_train.value_counts(normalize = True)"
   ]
  },
  {
   "cell_type": "markdown",
   "metadata": {},
   "source": [
    "**Вывод:** явный дисбаланс классов."
   ]
  },
  {
   "cell_type": "markdown",
   "metadata": {},
   "source": [
    "### Дисбаланс классов для каждой модели"
   ]
  },
  {
   "cell_type": "code",
   "execution_count": 29,
   "metadata": {},
   "outputs": [
    {
     "name": "stdout",
     "output_type": "stream",
     "text": [
      "0    0.901045\n",
      "1    0.098955\n",
      "dtype: float64\n"
     ]
    }
   ],
   "source": [
    "dtc_model = DecisionTreeClassifier(max_depth=4, random_state = 12345)\n",
    "dtc_model.fit(features_train, target_train)\n",
    "predicted_valid = pd.Series(dtc_model.predict(features_valid)).value_counts(normalize = True)\n",
    "print(predicted_valid)"
   ]
  },
  {
   "cell_type": "code",
   "execution_count": 30,
   "metadata": {},
   "outputs": [
    {
     "name": "stdout",
     "output_type": "stream",
     "text": [
      "0    0.929082\n",
      "1    0.070918\n",
      "dtype: float64\n"
     ]
    }
   ],
   "source": [
    "lr_model = LogisticRegression(random_state=12345, solver='liblinear')\n",
    "lr_model.fit(features_train, target_train)\n",
    "predicted_valid = pd.Series(lr_model.predict(features_valid)).value_counts(normalize = True)\n",
    "print(predicted_valid)"
   ]
  },
  {
   "cell_type": "code",
   "execution_count": 31,
   "metadata": {},
   "outputs": [
    {
     "name": "stdout",
     "output_type": "stream",
     "text": [
      "0    0.899945\n",
      "1    0.100055\n",
      "dtype: float64\n"
     ]
    }
   ],
   "source": [
    "rfc_model = RandomForestClassifier(max_depth=9, min_samples_leaf=3, n_estimators=40, random_state=12345)\n",
    "rfc_model.fit(features_train, target_train)\n",
    "predicted_valid = pd.Series(rfc_model.predict(features_valid)).value_counts(normalize = True)\n",
    "print(predicted_valid)"
   ]
  },
  {
   "cell_type": "markdown",
   "metadata": {},
   "source": [
    "**Вывод:** Наибольший дисбаланс у `логистической регрессии`, наименьший у `случайного леса`."
   ]
  },
  {
   "cell_type": "markdown",
   "metadata": {},
   "source": [
    "### Матрица ошибок, полнота, точность, F-1 и ROC-кривая"
   ]
  },
  {
   "cell_type": "code",
   "execution_count": 32,
   "metadata": {},
   "outputs": [
    {
     "name": "stdout",
     "output_type": "stream",
     "text": [
      "Матрица ошибок: \n",
      " [[1419   49]\n",
      " [ 220  131]]\n",
      "Полнота: 0.3732193732193732\n",
      "Точность: 0.7277777777777777\n",
      "F-1: 0.49340866290018826\n",
      "AUC-ROC: 0.8076874558482188\n"
     ]
    }
   ],
   "source": [
    "dtc_model = DecisionTreeClassifier(max_depth=4, random_state = 12345)\n",
    "dtc_model.fit(features_train, target_train)\n",
    "dtc_predict = dtc_model.predict(features_valid)\n",
    "\n",
    "probabilities = dtc_model.predict_proba(features_valid)\n",
    "probabilities_one = probabilities[:, 1]\n",
    "\n",
    "print(f'Матрица ошибок: \\n {confusion_matrix(target_valid, dtc_predict)}')\n",
    "print(f'Полнота: {recall_score(target_valid, dtc_predict)}')\n",
    "print(f'Точность: {precision_score(target_valid, dtc_predict)}')\n",
    "print(f'F-1: {f1_score(target_valid, dtc_predict)}')\n",
    "print(f'AUC-ROC: {roc_auc_score(target_valid, probabilities_one)}')"
   ]
  },
  {
   "cell_type": "code",
   "execution_count": 33,
   "metadata": {},
   "outputs": [
    {
     "name": "stdout",
     "output_type": "stream",
     "text": [
      "Матрица ошибок: \n",
      " [[1415   53]\n",
      " [ 275   76]]\n",
      "Полнота: 0.21652421652421652\n",
      "Точность: 0.5891472868217055\n",
      "F-1: 0.3166666666666667\n",
      "AUC-ROC: 0.7761106841488313\n"
     ]
    }
   ],
   "source": [
    "lr_model = LogisticRegression(random_state=12345, solver='liblinear')\n",
    "lr_model.fit(features_train, target_train)\n",
    "lr_predict = lr_model.predict(features_valid)\n",
    "\n",
    "probabilities = lr_model.predict_proba(features_valid)\n",
    "probabilities_one = probabilities[:, 1]\n",
    "\n",
    "print(f'Матрица ошибок: \\n {confusion_matrix(target_valid, lr_predict)}')\n",
    "print(f'Полнота: {recall_score(target_valid, lr_predict)}')\n",
    "print(f'Точность: {precision_score(target_valid, lr_predict)}')\n",
    "print(f'F-1: {f1_score(target_valid, lr_predict)}')\n",
    "print(f'AUC-ROC: {roc_auc_score(target_valid, probabilities_one)}')"
   ]
  },
  {
   "cell_type": "code",
   "execution_count": 34,
   "metadata": {},
   "outputs": [
    {
     "name": "stdout",
     "output_type": "stream",
     "text": [
      "Матрица ошибок: \n",
      " [[1429   39]\n",
      " [ 208  143]]\n",
      "Полнота: 0.4074074074074074\n",
      "Точность: 0.7857142857142857\n",
      "F-1: 0.5365853658536585\n",
      "AUC-ROC: 0.8327220009781316\n"
     ]
    }
   ],
   "source": [
    "rfc_model = RandomForestClassifier(max_depth=9, min_samples_leaf=3, n_estimators=40, random_state=12345)\n",
    "rfc_model.fit(features_train, target_train)\n",
    "rfc_predict = rfc_model.predict(features_valid)\n",
    "\n",
    "probabilities = rfc_model.predict_proba(features_valid)\n",
    "probabilities_one = probabilities[:, 1]\n",
    "\n",
    "print(f'Матрица ошибок: \\n {confusion_matrix(target_valid, rfc_predict)}')\n",
    "print(f'Полнота: {recall_score(target_valid, rfc_predict)}')\n",
    "print(f'Точность: {precision_score(target_valid, rfc_predict)}')\n",
    "print(f'F-1: {f1_score(target_valid, rfc_predict)}')\n",
    "print(f'AUC-ROC: {roc_auc_score(target_valid, probabilities_one)}')"
   ]
  },
  {
   "cell_type": "markdown",
   "metadata": {},
   "source": [
    "**Вывод:** больше ложноотрицательных и ложноположителных ответов у `логистической регрессии`, меньше у `случайного леса`"
   ]
  },
  {
   "cell_type": "markdown",
   "metadata": {},
   "source": [
    "### Борьба с дисбалансом "
   ]
  },
  {
   "cell_type": "markdown",
   "metadata": {},
   "source": [
    "Методы исправления дисбаланса классов: \n",
    "1. Взвешивание классов;\n",
    "2. Увеличение выборки;\n",
    "3. Уменьшение выборки;\n",
    "4. Изменение порога.\n",
    "\n",
    "Взвешивание классов работает на модели линейной регрессии, однако у нее изначально низкие покаатели. Лучше попробовать увеличение или уменьшение выборки."
   ]
  },
  {
   "cell_type": "markdown",
   "metadata": {},
   "source": [
    "_Увеличение выборки (т.к. отрицательных ответов больше, чем положительных в 4 раза, то увеличим положительные ответы в 4 раза):_"
   ]
  },
  {
   "cell_type": "code",
   "execution_count": 35,
   "metadata": {},
   "outputs": [
    {
     "name": "stdout",
     "output_type": "stream",
     "text": [
      "1    0.51136\n",
      "0    0.48864\n",
      "Name: exited, dtype: float64\n",
      "1    1508\n",
      "0    1441\n",
      "Name: exited, dtype: int64\n"
     ]
    }
   ],
   "source": [
    "def upsample(features, target, repeat):\n",
    "    features_zeros = features[target == 0]\n",
    "    features_ones = features[target == 1]\n",
    "    target_zeros = target[target == 0]\n",
    "    target_ones = target[target == 1]\n",
    "    \n",
    "    features_upsampled = pd.concat([features_zeros] + [features_ones] * repeat)\n",
    "    target_upsampled = pd.concat([target_zeros] + [target_ones] * repeat)\n",
    "    \n",
    "    features_upsampled, target_upsampled = shuffle(\n",
    "        features_upsampled, target_upsampled, random_state=12345)\n",
    "    \n",
    "    return features_upsampled, target_upsampled\n",
    "\n",
    "features_train_upsampled, target_train_upsampled = upsample(features_train, target_train, 4)\n",
    "print(target_train_upsampled.value_counts(normalize = True))\n",
    "print(target_train_upsampled.value_counts())"
   ]
  },
  {
   "cell_type": "markdown",
   "metadata": {},
   "source": [
    "_Уменьшение выборки (т.к. отрицательных ответов больше, чем положительных в 4 раза, то оставим 20% отрицательных ответов):_"
   ]
  },
  {
   "cell_type": "code",
   "execution_count": 36,
   "metadata": {},
   "outputs": [
    {
     "name": "stdout",
     "output_type": "stream",
     "text": [
      "1    0.511533\n",
      "0    0.488467\n",
      "Name: exited, dtype: float64\n",
      "1    377\n",
      "0    360\n",
      "Name: exited, dtype: int64\n"
     ]
    }
   ],
   "source": [
    "def downsample(features, target, fraction):\n",
    "    features_zeros = features[target == 0]\n",
    "    features_ones = features[target == 1]\n",
    "    target_zeros = target[target == 0]\n",
    "    target_ones = target[target == 1]\n",
    "\n",
    "    features_downsampled = pd.concat(\n",
    "        [features_zeros.sample(frac=fraction, random_state=12345)] + [features_ones])\n",
    "    target_downsampled = pd.concat(\n",
    "        [target_zeros.sample(frac=fraction, random_state=12345)] + [target_ones])\n",
    "    \n",
    "    features_downsampled, target_downsampled = shuffle(\n",
    "        features_downsampled, target_downsampled, random_state=12345)\n",
    "    \n",
    "    return features_downsampled, target_downsampled\n",
    "\n",
    "#features_train_downsampled, target_train_downsampled = downsample(features_train, target_train, 0.20)\n",
    "features_train_downsampled, target_train_downsampled = downsample(features_train, target_train, 0.25)\n",
    "print(target_train_downsampled.value_counts(normalize = True))\n",
    "print(target_train_downsampled.value_counts())"
   ]
  },
  {
   "cell_type": "markdown",
   "metadata": {},
   "source": [
    "### Увеличение и уменьшение выборки для решающего дерева:"
   ]
  },
  {
   "cell_type": "code",
   "execution_count": 37,
   "metadata": {},
   "outputs": [
    {
     "name": "stdout",
     "output_type": "stream",
     "text": [
      "DecisionTreeClassifier(max_depth=5, random_state=12345)\n"
     ]
    }
   ],
   "source": [
    "best_tree_model = None\n",
    "max_depth = 0\n",
    "best_result = 0\n",
    "for depth in range(1,10):\n",
    "    model = DecisionTreeClassifier(random_state=12345, max_depth=depth)\n",
    "    model.fit(features_train_upsampled, target_train_upsampled)\n",
    "    predict = model.predict(features_valid)\n",
    "    result = f1_score(target_valid, predict) \n",
    "    if result > best_result:\n",
    "        best_result = result\n",
    "        max_depth = depth\n",
    "        best_tree_model = model\n",
    "print(best_tree_model)"
   ]
  },
  {
   "cell_type": "code",
   "execution_count": 38,
   "metadata": {},
   "outputs": [
    {
     "name": "stdout",
     "output_type": "stream",
     "text": [
      "DecisionTreeClassifier(max_depth=4, random_state=12345)\n"
     ]
    }
   ],
   "source": [
    "best_tree_model = None\n",
    "max_depth = 0\n",
    "best_result = 0\n",
    "for depth in range(1,10):\n",
    "    model = DecisionTreeClassifier(random_state=12345, max_depth=depth)\n",
    "    model.fit(features_train_downsampled, target_train_downsampled)\n",
    "    predict = model.predict(features_valid)\n",
    "    result = f1_score(target_valid, predict) \n",
    "    if result > best_result:\n",
    "        best_result = result\n",
    "        max_depth = depth\n",
    "        best_tree_model = model\n",
    "print(best_tree_model)"
   ]
  },
  {
   "cell_type": "code",
   "execution_count": 39,
   "metadata": {},
   "outputs": [
    {
     "name": "stdout",
     "output_type": "stream",
     "text": [
      "Матрица ошибок: \n",
      " [[1185  283]\n",
      " [ 107  244]]\n",
      "Полнота: 0.6951566951566952\n",
      "Точность: 0.4629981024667932\n",
      "F-1: 0.5558086560364466\n",
      "AUC-ROC: 0.8035517439468395\n"
     ]
    }
   ],
   "source": [
    "#dtc_model = DecisionTreeClassifier(max_depth=4, random_state = 12345)\n",
    "dtc_model = DecisionTreeClassifier(max_depth=5, random_state = 12345)\n",
    "dtc_model.fit(features_train_upsampled, target_train_upsampled)\n",
    "dtc_predict = dtc_model.predict(features_valid)\n",
    "\n",
    "probabilities = dtc_model.predict_proba(features_valid)\n",
    "probabilities_one = probabilities[:, 1]\n",
    "\n",
    "print(f'Матрица ошибок: \\n {confusion_matrix(target_valid, dtc_predict)}')\n",
    "print(f'Полнота: {recall_score(target_valid, dtc_predict)}')\n",
    "print(f'Точность: {precision_score(target_valid, dtc_predict)}')\n",
    "print(f'F-1: {f1_score(target_valid, dtc_predict)}')\n",
    "print(f'AUC-ROC: {roc_auc_score(target_valid, probabilities_one)}')"
   ]
  },
  {
   "cell_type": "code",
   "execution_count": 40,
   "metadata": {},
   "outputs": [
    {
     "name": "stdout",
     "output_type": "stream",
     "text": [
      "Матрица ошибок: \n",
      " [[1077  391]\n",
      " [  85  266]]\n",
      "Полнота: 0.7578347578347578\n",
      "Точность: 0.4048706240487062\n",
      "F-1: 0.5277777777777777\n",
      "AUC-ROC: 0.8006716892956675\n"
     ]
    }
   ],
   "source": [
    "dtc_model = DecisionTreeClassifier(max_depth=4, random_state = 12345)\n",
    "dtc_model.fit(features_train_downsampled, target_train_downsampled)\n",
    "dtc_predict = dtc_model.predict(features_valid)\n",
    "\n",
    "probabilities = dtc_model.predict_proba(features_valid)\n",
    "probabilities_one = probabilities[:, 1]\n",
    "\n",
    "print(f'Матрица ошибок: \\n {confusion_matrix(target_valid, dtc_predict)}')\n",
    "print(f'Полнота: {recall_score(target_valid, dtc_predict)}')\n",
    "print(f'Точность: {precision_score(target_valid, dtc_predict)}')\n",
    "print(f'F-1: {f1_score(target_valid, dtc_predict)}')\n",
    "print(f'AUC-ROC: {roc_auc_score(target_valid, probabilities_one)}')"
   ]
  },
  {
   "cell_type": "markdown",
   "metadata": {},
   "source": [
    "**Вывод:** на увеличенной выборке результаты по F-1 выше, но полнота ниже. "
   ]
  },
  {
   "cell_type": "markdown",
   "metadata": {},
   "source": [
    "### Увеличение и уменьшение выборки для логистической регрессии:"
   ]
  },
  {
   "cell_type": "code",
   "execution_count": 41,
   "metadata": {},
   "outputs": [
    {
     "name": "stdout",
     "output_type": "stream",
     "text": [
      "F-1 логистической регрессии: 0.487611496531219\n"
     ]
    }
   ],
   "source": [
    "lr_model = LogisticRegression(random_state=12345, solver='liblinear')\n",
    "lr_model.fit(features_train_upsampled, target_train_upsampled)\n",
    "lr_predict = lr_model.predict(features_valid)\n",
    "score = f1_score(target_valid, lr_predict)\n",
    "print(f'F-1 логистической регрессии: {score}')"
   ]
  },
  {
   "cell_type": "code",
   "execution_count": 42,
   "metadata": {},
   "outputs": [
    {
     "name": "stdout",
     "output_type": "stream",
     "text": [
      "F-1 логистической регрессии: 0.5014691478942213\n"
     ]
    }
   ],
   "source": [
    "lr_model = LogisticRegression(random_state=12345, solver='liblinear')\n",
    "lr_model.fit(features_train_downsampled, target_train_downsampled)\n",
    "lr_predict = lr_model.predict(features_valid)\n",
    "score = f1_score(target_valid, lr_predict)\n",
    "print(f'F-1 логистической регрессии: {score}')"
   ]
  },
  {
   "cell_type": "code",
   "execution_count": 43,
   "metadata": {},
   "outputs": [
    {
     "name": "stdout",
     "output_type": "stream",
     "text": [
      "Матрица ошибок: \n",
      " [[1056  412]\n",
      " [ 105  246]]\n",
      "Полнота: 0.7008547008547008\n",
      "Точность: 0.3738601823708207\n",
      "F-1: 0.487611496531219\n",
      "AUC-ROC: 0.7759107881723687\n"
     ]
    }
   ],
   "source": [
    "lr_model = LogisticRegression(random_state=12345, solver='liblinear')\n",
    "lr_model.fit(features_train_upsampled, target_train_upsampled)\n",
    "lr_predict = lr_model.predict(features_valid)\n",
    "\n",
    "probabilities = lr_model.predict_proba(features_valid)\n",
    "probabilities_one = probabilities[:, 1]\n",
    "\n",
    "print(f'Матрица ошибок: \\n {confusion_matrix(target_valid, lr_predict)}')\n",
    "print(f'Полнота: {recall_score(target_valid, lr_predict)}')\n",
    "print(f'Точность: {precision_score(target_valid, lr_predict)}')\n",
    "print(f'F-1: {f1_score(target_valid, lr_predict)}')\n",
    "print(f'AUC-ROC: {roc_auc_score(target_valid, probabilities_one)}')"
   ]
  },
  {
   "cell_type": "code",
   "execution_count": 44,
   "metadata": {},
   "outputs": [
    {
     "name": "stdout",
     "output_type": "stream",
     "text": [
      "Матрица ошибок: \n",
      " [[1054  414]\n",
      " [  95  256]]\n",
      "Полнота: 0.7293447293447294\n",
      "Точность: 0.382089552238806\n",
      "F-1: 0.5014691478942213\n",
      "AUC-ROC: 0.7742844500337687\n"
     ]
    }
   ],
   "source": [
    "lr_model = LogisticRegression(random_state=12345, solver='liblinear')\n",
    "lr_model.fit(features_train_downsampled, target_train_downsampled)\n",
    "lr_predict = lr_model.predict(features_valid)\n",
    "\n",
    "probabilities = lr_model.predict_proba(features_valid)\n",
    "probabilities_one = probabilities[:, 1]\n",
    "\n",
    "print(f'Матрица ошибок: \\n {confusion_matrix(target_valid, lr_predict)}')\n",
    "print(f'Полнота: {recall_score(target_valid, lr_predict)}')\n",
    "print(f'Точность: {precision_score(target_valid, lr_predict)}')\n",
    "print(f'F-1: {f1_score(target_valid, lr_predict)}')\n",
    "print(f'AUC-ROC: {roc_auc_score(target_valid, probabilities_one)}')"
   ]
  },
  {
   "cell_type": "markdown",
   "metadata": {},
   "source": [
    "**Вывод:** для логистической регресии харакетерен высокий результат F-1 при уменьшении выборки."
   ]
  },
  {
   "cell_type": "markdown",
   "metadata": {},
   "source": [
    "### Увеличение и уменьшение выборки для случайного леса:"
   ]
  },
  {
   "cell_type": "code",
   "execution_count": 45,
   "metadata": {},
   "outputs": [
    {
     "name": "stdout",
     "output_type": "stream",
     "text": [
      "RandomForestClassifier(max_depth=11, n_estimators=21, random_state=12345)\n"
     ]
    }
   ],
   "source": [
    "best_tree_model = None\n",
    "max_depth = 0\n",
    "max_result = 0\n",
    "for sample in range(1,5):\n",
    "    for depth in range(1,12):\n",
    "        for est in range(1,50,5):\n",
    "            model = RandomForestClassifier(random_state=12345, max_depth=depth, n_estimators=est, min_samples_leaf = sample)\n",
    "            model.fit(features_train_upsampled, target_train_upsampled)\n",
    "            result = model.score(features_valid, target_valid)\n",
    "            if result > max_result:\n",
    "                max_result = result\n",
    "                max_depth = depth\n",
    "                max_est = est \n",
    "                max_sample = sample\n",
    "                best_tree_model = model\n",
    "print(best_tree_model)"
   ]
  },
  {
   "cell_type": "code",
   "execution_count": 46,
   "metadata": {},
   "outputs": [
    {
     "name": "stdout",
     "output_type": "stream",
     "text": [
      "RandomForestClassifier(max_depth=1, n_estimators=1, random_state=12345)\n"
     ]
    }
   ],
   "source": [
    "best_tree_model = None\n",
    "max_depth = 0\n",
    "max_result = 0\n",
    "for sample in range(1,5):\n",
    "    for depth in range(1,12):\n",
    "        for est in range(1,50, 5):\n",
    "            model = RandomForestClassifier(random_state=12345, max_depth=depth, n_estimators=est, min_samples_leaf = sample)\n",
    "            model.fit(features_train_downsampled, target_train_downsampled)\n",
    "            result = model.score(features_valid, target_valid)\n",
    "            if result > max_result:\n",
    "                max_result = result\n",
    "                max_depth = depth\n",
    "                max_est = est \n",
    "                max_sample = sample\n",
    "                best_tree_model = model\n",
    "print(best_tree_model)"
   ]
  },
  {
   "cell_type": "code",
   "execution_count": 47,
   "metadata": {},
   "outputs": [
    {
     "name": "stdout",
     "output_type": "stream",
     "text": [
      "Матрица ошибок: \n",
      " [[1331  137]\n",
      " [ 143  208]]\n",
      "Полнота: 0.5925925925925926\n",
      "Точность: 0.6028985507246377\n",
      "F-1: 0.5977011494252874\n",
      "AUC-ROC: 0.8291646288921494\n"
     ]
    }
   ],
   "source": [
    "rfc_model = RandomForestClassifier(max_depth=11, n_estimators=21, random_state=12345)\n",
    "rfc_model.fit(features_train_upsampled, target_train_upsampled)\n",
    "rfc_predict = rfc_model.predict(features_valid)\n",
    "\n",
    "probabilities = rfc_model.predict_proba(features_valid)\n",
    "probabilities_one = probabilities[:, 1]\n",
    "\n",
    "print(f'Матрица ошибок: \\n {confusion_matrix(target_valid, rfc_predict)}')\n",
    "print(f'Полнота: {recall_score(target_valid, rfc_predict)}')\n",
    "print(f'Точность: {precision_score(target_valid, rfc_predict)}')\n",
    "print(f'F-1: {f1_score(target_valid, rfc_predict)}')\n",
    "print(f'AUC-ROC: {roc_auc_score(target_valid, probabilities_one)}')"
   ]
  },
  {
   "cell_type": "code",
   "execution_count": 48,
   "metadata": {},
   "outputs": [
    {
     "name": "stdout",
     "output_type": "stream",
     "text": [
      "Матрица ошибок: \n",
      " [[1464    4]\n",
      " [ 304   47]]\n",
      "Полнота: 0.1339031339031339\n",
      "Точность: 0.9215686274509803\n",
      "F-1: 0.2338308457711443\n",
      "AUC-ROC: 0.5655891691314036\n"
     ]
    }
   ],
   "source": [
    "rfc_model = RandomForestClassifier(max_depth=1, n_estimators=1, random_state=12345)\n",
    "rfc_model.fit(features_train_downsampled, target_train_downsampled)\n",
    "rfc_predict = rfc_model.predict(features_valid)\n",
    "\n",
    "probabilities = rfc_model.predict_proba(features_valid)\n",
    "probabilities_one = probabilities[:, 1]\n",
    "\n",
    "print(f'Матрица ошибок: \\n {confusion_matrix(target_valid, rfc_predict)}')\n",
    "print(f'Полнота: {recall_score(target_valid, rfc_predict)}')\n",
    "print(f'Точность: {precision_score(target_valid, rfc_predict)}')\n",
    "print(f'F-1: {f1_score(target_valid, rfc_predict)}')\n",
    "print(f'AUC-ROC: {roc_auc_score(target_valid, probabilities_one)}')"
   ]
  },
  {
   "cell_type": "markdown",
   "metadata": {},
   "source": [
    "**Вывод:** показатели всех моделей стали лучше. По-прежнему, налучшие показатели у `случайного дерева` при увеличении выборки. Для теста подойдет именно эта модель."
   ]
  },
  {
   "cell_type": "markdown",
   "metadata": {},
   "source": [
    "## Тестирование модели"
   ]
  },
  {
   "cell_type": "code",
   "execution_count": 51,
   "metadata": {},
   "outputs": [
    {
     "name": "stdout",
     "output_type": "stream",
     "text": [
      "Матрица ошибок: \n",
      " [[3890  438]\n",
      " [ 447  679]]\n",
      "Полнота: 0.6030195381882771\n",
      "Точность: 0.6078782452999105\n",
      "F-1: 0.6054391440035667\n",
      "AUC-ROC: 0.8294718721990394\n"
     ]
    }
   ],
   "source": [
    "#rfc_model_last = RandomForestClassifier(max_depth=9, min_samples_leaf=3, n_estimators=40, random_state=12345)\n",
    "rfc_model_last = RandomForestClassifier(max_depth=11, n_estimators=21, random_state=12345)\n",
    "rfc_model_last.fit(features_train_upsampled, target_train_upsampled)\n",
    "rfc_predict_last = rfc_model_last.predict(features_test)\n",
    "\n",
    "probabilities = rfc_model_last.predict_proba(features_test)\n",
    "probabilities_one = probabilities[:, 1]\n",
    "\n",
    "print(f'Матрица ошибок: \\n {confusion_matrix(target_test, rfc_predict_last)}')\n",
    "print(f'Полнота: {recall_score(target_test, rfc_predict_last)}')\n",
    "print(f'Точность: {precision_score(target_test, rfc_predict_last)}')\n",
    "print(f'F-1: {f1_score(target_test, rfc_predict_last)}')\n",
    "print(f'AUC-ROC: {roc_auc_score(target_test, probabilities_one)}')"
   ]
  },
  {
   "cell_type": "code",
   "execution_count": 52,
   "metadata": {},
   "outputs": [
    {
     "data": {
      "text/plain": [
       "0.34224924012158053"
      ]
     },
     "execution_count": 52,
     "metadata": {},
     "output_type": "execute_result"
    }
   ],
   "source": [
    "# код ревьюера\n",
    "from sklearn.dummy import DummyClassifier\n",
    "dummy_model = DummyClassifier(strategy='constant', constant=1)\n",
    "dummy_model.fit(features_train, target_train)\n",
    "f1_score(dummy_model.predict(features_test), target_test)"
   ]
  },
  {
   "cell_type": "markdown",
   "metadata": {},
   "source": [
    "**Вывод:** EDA-анализ показал несовершенство данных: были пропуски в данных. В результате предобработки данных мы избавились от пропусков, удалили индексы, декодировали значения категориальных признаков и привели к единому масштабу остальные.\n",
    "\n",
    "Обученные на этих данных модели показывали низкие результаты с высокими показателями ложноположительных и ложноотрицательных ответов. Это стало результатом дисбаланса классов, когда положительных ответов было меньше орицательных в 4 раза. Исправить проблему удалось увеличением и уменьшением выборок.\n",
    "\n",
    "Лучшей моделью оказался `случайный лес` со следующими показателями:\n",
    "\n",
    "* Полнота: 0.6030195381882771\n",
    "* Точность: 0.6078782452999105\n",
    "* F-1: 0.6054391440035667\n",
    "* AUC-ROC: 0.8294718721990394"
   ]
  }
 ],
 "metadata": {
  "ExecuteTimeLog": [
   {
    "duration": 389,
    "start_time": "2023-01-22T16:36:53.908Z"
   },
   {
    "duration": 80,
    "start_time": "2023-01-22T16:39:16.256Z"
   },
   {
    "duration": 68,
    "start_time": "2023-01-22T16:39:29.662Z"
   },
   {
    "duration": 212,
    "start_time": "2023-01-22T16:39:51.568Z"
   },
   {
    "duration": 20,
    "start_time": "2023-01-22T16:40:02.921Z"
   },
   {
    "duration": 55,
    "start_time": "2023-01-22T16:40:43.353Z"
   },
   {
    "duration": 49,
    "start_time": "2023-01-22T16:40:52.147Z"
   },
   {
    "duration": 62,
    "start_time": "2023-01-22T16:40:59.127Z"
   },
   {
    "duration": 46,
    "start_time": "2023-01-22T16:42:20.806Z"
   },
   {
    "duration": 35,
    "start_time": "2023-01-22T16:42:50.517Z"
   },
   {
    "duration": 39,
    "start_time": "2023-01-22T16:42:59.822Z"
   },
   {
    "duration": 16,
    "start_time": "2023-01-22T16:43:04.385Z"
   },
   {
    "duration": 397,
    "start_time": "2023-01-22T16:43:12.213Z"
   },
   {
    "duration": 40,
    "start_time": "2023-01-22T16:43:12.612Z"
   },
   {
    "duration": 18,
    "start_time": "2023-01-22T16:43:12.653Z"
   },
   {
    "duration": 35,
    "start_time": "2023-01-22T16:43:12.673Z"
   },
   {
    "duration": 68,
    "start_time": "2023-01-22T16:44:49.609Z"
   },
   {
    "duration": 13,
    "start_time": "2023-01-22T16:44:54.560Z"
   },
   {
    "duration": 17,
    "start_time": "2023-01-22T16:45:01.802Z"
   },
   {
    "duration": 12,
    "start_time": "2023-01-22T16:48:44.902Z"
   },
   {
    "duration": 7,
    "start_time": "2023-01-22T16:51:40.771Z"
   },
   {
    "duration": 16,
    "start_time": "2023-01-22T16:51:56.494Z"
   },
   {
    "duration": 6,
    "start_time": "2023-01-22T16:54:43.933Z"
   },
   {
    "duration": 6,
    "start_time": "2023-01-22T16:54:58.222Z"
   },
   {
    "duration": 6,
    "start_time": "2023-01-22T16:55:06.082Z"
   },
   {
    "duration": 5,
    "start_time": "2023-01-22T16:55:27.228Z"
   },
   {
    "duration": 8,
    "start_time": "2023-01-22T16:55:39.042Z"
   },
   {
    "duration": 5,
    "start_time": "2023-01-22T16:56:04.406Z"
   },
   {
    "duration": 9,
    "start_time": "2023-01-22T16:56:30.262Z"
   },
   {
    "duration": 5,
    "start_time": "2023-01-22T16:56:44.638Z"
   },
   {
    "duration": 5,
    "start_time": "2023-01-22T16:57:26.351Z"
   },
   {
    "duration": 6,
    "start_time": "2023-01-22T16:57:41.282Z"
   },
   {
    "duration": 4,
    "start_time": "2023-01-22T16:58:45.503Z"
   },
   {
    "duration": 5,
    "start_time": "2023-01-22T17:01:01.836Z"
   },
   {
    "duration": 6,
    "start_time": "2023-01-22T17:01:13.521Z"
   },
   {
    "duration": 39,
    "start_time": "2023-01-22T17:02:31.172Z"
   },
   {
    "duration": 41,
    "start_time": "2023-01-22T17:02:54.602Z"
   },
   {
    "duration": 400,
    "start_time": "2023-01-22T18:13:34.203Z"
   },
   {
    "duration": 170,
    "start_time": "2023-01-22T18:13:34.605Z"
   },
   {
    "duration": 18,
    "start_time": "2023-01-22T18:13:34.777Z"
   },
   {
    "duration": 18,
    "start_time": "2023-01-22T18:13:34.797Z"
   },
   {
    "duration": 16,
    "start_time": "2023-01-22T18:13:34.816Z"
   },
   {
    "duration": 15,
    "start_time": "2023-01-22T18:13:34.833Z"
   },
   {
    "duration": 8,
    "start_time": "2023-01-22T18:13:34.850Z"
   },
   {
    "duration": 18,
    "start_time": "2023-01-22T18:13:34.859Z"
   },
   {
    "duration": 22,
    "start_time": "2023-01-22T18:13:34.879Z"
   },
   {
    "duration": 93,
    "start_time": "2023-01-22T18:13:34.903Z"
   },
   {
    "duration": 9,
    "start_time": "2023-01-22T18:40:29.292Z"
   },
   {
    "duration": 7,
    "start_time": "2023-01-22T18:40:38.536Z"
   },
   {
    "duration": 11,
    "start_time": "2023-01-22T18:40:55.485Z"
   },
   {
    "duration": 3,
    "start_time": "2023-01-22T18:43:48.442Z"
   },
   {
    "duration": 4,
    "start_time": "2023-01-22T18:44:00.564Z"
   },
   {
    "duration": 733,
    "start_time": "2023-01-22T18:44:38.272Z"
   },
   {
    "duration": 431,
    "start_time": "2023-01-22T18:44:47.639Z"
   },
   {
    "duration": 48,
    "start_time": "2023-01-22T18:44:48.072Z"
   },
   {
    "duration": 22,
    "start_time": "2023-01-22T18:44:48.122Z"
   },
   {
    "duration": 38,
    "start_time": "2023-01-22T18:44:48.146Z"
   },
   {
    "duration": 29,
    "start_time": "2023-01-22T18:44:48.186Z"
   },
   {
    "duration": 11,
    "start_time": "2023-01-22T18:44:48.217Z"
   },
   {
    "duration": 10,
    "start_time": "2023-01-22T18:44:48.230Z"
   },
   {
    "duration": 7,
    "start_time": "2023-01-22T18:44:48.242Z"
   },
   {
    "duration": 13,
    "start_time": "2023-01-22T18:44:48.251Z"
   },
   {
    "duration": 11,
    "start_time": "2023-01-22T18:44:48.266Z"
   },
   {
    "duration": 5,
    "start_time": "2023-01-22T18:47:07.770Z"
   },
   {
    "duration": 6,
    "start_time": "2023-01-22T18:47:27.267Z"
   },
   {
    "duration": 8,
    "start_time": "2023-01-22T18:48:00.250Z"
   },
   {
    "duration": 451,
    "start_time": "2023-01-22T18:53:19.909Z"
   },
   {
    "duration": 46,
    "start_time": "2023-01-22T18:53:20.363Z"
   },
   {
    "duration": 25,
    "start_time": "2023-01-22T18:53:20.412Z"
   },
   {
    "duration": 15,
    "start_time": "2023-01-22T18:53:20.440Z"
   },
   {
    "duration": 23,
    "start_time": "2023-01-22T18:53:20.457Z"
   },
   {
    "duration": 9,
    "start_time": "2023-01-22T18:53:20.482Z"
   },
   {
    "duration": 22,
    "start_time": "2023-01-22T18:53:20.493Z"
   },
   {
    "duration": 25,
    "start_time": "2023-01-22T18:53:20.517Z"
   },
   {
    "duration": 5,
    "start_time": "2023-01-22T19:02:28.151Z"
   },
   {
    "duration": 62,
    "start_time": "2023-01-22T19:05:50.736Z"
   },
   {
    "duration": 414,
    "start_time": "2023-01-22T19:05:56.981Z"
   },
   {
    "duration": 56,
    "start_time": "2023-01-22T19:05:57.397Z"
   },
   {
    "duration": 25,
    "start_time": "2023-01-22T19:05:57.456Z"
   },
   {
    "duration": 17,
    "start_time": "2023-01-22T19:05:57.484Z"
   },
   {
    "duration": 5,
    "start_time": "2023-01-22T19:05:57.503Z"
   },
   {
    "duration": 58,
    "start_time": "2023-01-22T19:05:57.510Z"
   },
   {
    "duration": 8,
    "start_time": "2023-01-22T19:05:57.570Z"
   },
   {
    "duration": 13,
    "start_time": "2023-01-22T19:05:57.579Z"
   },
   {
    "duration": 76,
    "start_time": "2023-01-22T19:10:02.323Z"
   },
   {
    "duration": 12,
    "start_time": "2023-01-22T19:10:12.144Z"
   },
   {
    "duration": 26,
    "start_time": "2023-01-22T19:10:23.089Z"
   },
   {
    "duration": 18,
    "start_time": "2023-01-22T19:11:03.981Z"
   },
   {
    "duration": 378,
    "start_time": "2023-01-23T04:02:39.188Z"
   },
   {
    "duration": 178,
    "start_time": "2023-01-23T04:02:39.569Z"
   },
   {
    "duration": 25,
    "start_time": "2023-01-23T04:02:39.749Z"
   },
   {
    "duration": 3,
    "start_time": "2023-01-23T04:02:39.776Z"
   },
   {
    "duration": 15,
    "start_time": "2023-01-23T04:02:39.782Z"
   },
   {
    "duration": 10,
    "start_time": "2023-01-23T04:02:39.800Z"
   },
   {
    "duration": 8,
    "start_time": "2023-01-23T04:02:39.812Z"
   },
   {
    "duration": 28,
    "start_time": "2023-01-23T04:02:39.853Z"
   },
   {
    "duration": 7,
    "start_time": "2023-01-23T04:02:39.886Z"
   },
   {
    "duration": 4,
    "start_time": "2023-01-23T04:08:51.595Z"
   },
   {
    "duration": 350,
    "start_time": "2023-01-23T04:08:59.403Z"
   },
   {
    "duration": 40,
    "start_time": "2023-01-23T04:08:59.755Z"
   },
   {
    "duration": 17,
    "start_time": "2023-01-23T04:08:59.797Z"
   },
   {
    "duration": 6,
    "start_time": "2023-01-23T04:08:59.816Z"
   },
   {
    "duration": 23,
    "start_time": "2023-01-23T04:08:59.823Z"
   },
   {
    "duration": 4,
    "start_time": "2023-01-23T04:08:59.847Z"
   },
   {
    "duration": 15,
    "start_time": "2023-01-23T04:08:59.852Z"
   },
   {
    "duration": 15,
    "start_time": "2023-01-23T04:08:59.868Z"
   },
   {
    "duration": 4,
    "start_time": "2023-01-23T04:08:59.885Z"
   },
   {
    "duration": 5,
    "start_time": "2023-01-23T04:13:26.092Z"
   },
   {
    "duration": 398,
    "start_time": "2023-01-23T04:13:42.594Z"
   },
   {
    "duration": 42,
    "start_time": "2023-01-23T04:13:42.994Z"
   },
   {
    "duration": 18,
    "start_time": "2023-01-23T04:13:43.038Z"
   },
   {
    "duration": 2,
    "start_time": "2023-01-23T04:13:43.058Z"
   },
   {
    "duration": 16,
    "start_time": "2023-01-23T04:13:43.062Z"
   },
   {
    "duration": 6,
    "start_time": "2023-01-23T04:13:43.079Z"
   },
   {
    "duration": 6,
    "start_time": "2023-01-23T04:13:43.086Z"
   },
   {
    "duration": 10,
    "start_time": "2023-01-23T04:13:43.094Z"
   },
   {
    "duration": 16,
    "start_time": "2023-01-23T04:13:43.106Z"
   },
   {
    "duration": 29,
    "start_time": "2023-01-23T04:13:43.124Z"
   },
   {
    "duration": 51,
    "start_time": "2023-01-23T04:14:24.524Z"
   },
   {
    "duration": 405,
    "start_time": "2023-01-23T04:14:29.536Z"
   },
   {
    "duration": 41,
    "start_time": "2023-01-23T04:14:29.942Z"
   },
   {
    "duration": 19,
    "start_time": "2023-01-23T04:14:29.984Z"
   },
   {
    "duration": 3,
    "start_time": "2023-01-23T04:14:30.004Z"
   },
   {
    "duration": 16,
    "start_time": "2023-01-23T04:14:30.009Z"
   },
   {
    "duration": 11,
    "start_time": "2023-01-23T04:14:30.027Z"
   },
   {
    "duration": 77,
    "start_time": "2023-01-23T04:14:30.039Z"
   },
   {
    "duration": 0,
    "start_time": "2023-01-23T04:14:30.117Z"
   },
   {
    "duration": 0,
    "start_time": "2023-01-23T04:14:30.118Z"
   },
   {
    "duration": 0,
    "start_time": "2023-01-23T04:14:30.119Z"
   },
   {
    "duration": 49,
    "start_time": "2023-01-23T04:14:48.812Z"
   },
   {
    "duration": 50,
    "start_time": "2023-01-23T04:14:54.781Z"
   },
   {
    "duration": 406,
    "start_time": "2023-01-23T04:15:00.149Z"
   },
   {
    "duration": 45,
    "start_time": "2023-01-23T04:15:00.557Z"
   },
   {
    "duration": 18,
    "start_time": "2023-01-23T04:15:00.604Z"
   },
   {
    "duration": 17,
    "start_time": "2023-01-23T04:15:00.624Z"
   },
   {
    "duration": 35,
    "start_time": "2023-01-23T04:15:00.643Z"
   },
   {
    "duration": 29,
    "start_time": "2023-01-23T04:15:00.679Z"
   },
   {
    "duration": 48,
    "start_time": "2023-01-23T04:15:00.710Z"
   },
   {
    "duration": 0,
    "start_time": "2023-01-23T04:15:00.759Z"
   },
   {
    "duration": 0,
    "start_time": "2023-01-23T04:15:00.761Z"
   },
   {
    "duration": 0,
    "start_time": "2023-01-23T04:15:00.762Z"
   },
   {
    "duration": 6,
    "start_time": "2023-01-23T04:15:05.665Z"
   },
   {
    "duration": 6,
    "start_time": "2023-01-23T04:15:10.891Z"
   },
   {
    "duration": 5,
    "start_time": "2023-01-23T04:15:33.581Z"
   },
   {
    "duration": 414,
    "start_time": "2023-01-23T04:15:39.475Z"
   },
   {
    "duration": 42,
    "start_time": "2023-01-23T04:15:39.891Z"
   },
   {
    "duration": 18,
    "start_time": "2023-01-23T04:15:39.935Z"
   },
   {
    "duration": 3,
    "start_time": "2023-01-23T04:15:39.954Z"
   },
   {
    "duration": 17,
    "start_time": "2023-01-23T04:15:39.959Z"
   },
   {
    "duration": 3,
    "start_time": "2023-01-23T04:15:39.978Z"
   },
   {
    "duration": 5,
    "start_time": "2023-01-23T04:15:39.983Z"
   },
   {
    "duration": 24,
    "start_time": "2023-01-23T04:15:39.989Z"
   },
   {
    "duration": 14,
    "start_time": "2023-01-23T04:15:40.014Z"
   },
   {
    "duration": 21,
    "start_time": "2023-01-23T04:15:40.029Z"
   },
   {
    "duration": 5,
    "start_time": "2023-01-23T04:15:40.051Z"
   },
   {
    "duration": 2,
    "start_time": "2023-01-23T04:18:04.689Z"
   },
   {
    "duration": 4,
    "start_time": "2023-01-23T04:21:05.299Z"
   },
   {
    "duration": 4,
    "start_time": "2023-01-23T04:21:08.591Z"
   },
   {
    "duration": 4,
    "start_time": "2023-01-23T04:22:33.051Z"
   },
   {
    "duration": 396,
    "start_time": "2023-01-23T04:22:40.762Z"
   },
   {
    "duration": 4,
    "start_time": "2023-01-23T04:22:41.159Z"
   },
   {
    "duration": 63,
    "start_time": "2023-01-23T04:22:41.164Z"
   },
   {
    "duration": 0,
    "start_time": "2023-01-23T04:22:41.228Z"
   },
   {
    "duration": 0,
    "start_time": "2023-01-23T04:22:41.230Z"
   },
   {
    "duration": 0,
    "start_time": "2023-01-23T04:22:41.231Z"
   },
   {
    "duration": 0,
    "start_time": "2023-01-23T04:22:41.248Z"
   },
   {
    "duration": 0,
    "start_time": "2023-01-23T04:22:41.250Z"
   },
   {
    "duration": 4,
    "start_time": "2023-01-23T04:23:00.535Z"
   },
   {
    "duration": 381,
    "start_time": "2023-01-23T04:23:30.801Z"
   },
   {
    "duration": 4,
    "start_time": "2023-01-23T04:23:31.183Z"
   },
   {
    "duration": 80,
    "start_time": "2023-01-23T04:23:31.188Z"
   },
   {
    "duration": 0,
    "start_time": "2023-01-23T04:23:31.270Z"
   },
   {
    "duration": 0,
    "start_time": "2023-01-23T04:23:31.271Z"
   },
   {
    "duration": 0,
    "start_time": "2023-01-23T04:23:31.272Z"
   },
   {
    "duration": 0,
    "start_time": "2023-01-23T04:23:31.273Z"
   },
   {
    "duration": 0,
    "start_time": "2023-01-23T04:23:31.274Z"
   },
   {
    "duration": 416,
    "start_time": "2023-01-23T04:26:21.745Z"
   },
   {
    "duration": 5,
    "start_time": "2023-01-23T04:26:22.163Z"
   },
   {
    "duration": 98,
    "start_time": "2023-01-23T04:26:22.169Z"
   },
   {
    "duration": 0,
    "start_time": "2023-01-23T04:26:22.269Z"
   },
   {
    "duration": 0,
    "start_time": "2023-01-23T04:26:22.270Z"
   },
   {
    "duration": 0,
    "start_time": "2023-01-23T04:26:22.271Z"
   },
   {
    "duration": 0,
    "start_time": "2023-01-23T04:26:22.272Z"
   },
   {
    "duration": 0,
    "start_time": "2023-01-23T04:26:22.274Z"
   },
   {
    "duration": 3,
    "start_time": "2023-01-23T04:29:46.671Z"
   },
   {
    "duration": 3,
    "start_time": "2023-01-23T04:43:30.025Z"
   },
   {
    "duration": 7,
    "start_time": "2023-01-23T05:36:05.789Z"
   },
   {
    "duration": 8,
    "start_time": "2023-01-23T05:36:27.816Z"
   },
   {
    "duration": 44,
    "start_time": "2023-01-23T05:36:30.925Z"
   },
   {
    "duration": 352,
    "start_time": "2023-01-23T05:36:33.694Z"
   },
   {
    "duration": 395,
    "start_time": "2023-01-23T05:36:39.393Z"
   },
   {
    "duration": 4,
    "start_time": "2023-01-23T05:36:39.789Z"
   },
   {
    "duration": 76,
    "start_time": "2023-01-23T05:36:39.794Z"
   },
   {
    "duration": 0,
    "start_time": "2023-01-23T05:36:39.872Z"
   },
   {
    "duration": 0,
    "start_time": "2023-01-23T05:36:39.874Z"
   },
   {
    "duration": 0,
    "start_time": "2023-01-23T05:36:39.875Z"
   },
   {
    "duration": 0,
    "start_time": "2023-01-23T05:36:39.877Z"
   },
   {
    "duration": 0,
    "start_time": "2023-01-23T05:36:39.878Z"
   },
   {
    "duration": 399,
    "start_time": "2023-01-24T06:38:38.738Z"
   },
   {
    "duration": 4,
    "start_time": "2023-01-24T06:38:39.138Z"
   },
   {
    "duration": 73,
    "start_time": "2023-01-24T06:38:39.143Z"
   },
   {
    "duration": 0,
    "start_time": "2023-01-24T06:38:39.218Z"
   },
   {
    "duration": 0,
    "start_time": "2023-01-24T06:38:39.219Z"
   },
   {
    "duration": 0,
    "start_time": "2023-01-24T06:38:39.220Z"
   },
   {
    "duration": 0,
    "start_time": "2023-01-24T06:38:39.221Z"
   },
   {
    "duration": 0,
    "start_time": "2023-01-24T06:38:39.223Z"
   },
   {
    "duration": 397,
    "start_time": "2023-01-24T14:50:37.114Z"
   },
   {
    "duration": 4,
    "start_time": "2023-01-24T14:50:37.514Z"
   },
   {
    "duration": 83,
    "start_time": "2023-01-24T14:50:37.520Z"
   },
   {
    "duration": 0,
    "start_time": "2023-01-24T14:50:37.605Z"
   },
   {
    "duration": 0,
    "start_time": "2023-01-24T14:50:37.606Z"
   },
   {
    "duration": 0,
    "start_time": "2023-01-24T14:50:37.607Z"
   },
   {
    "duration": 0,
    "start_time": "2023-01-24T14:50:37.608Z"
   },
   {
    "duration": 0,
    "start_time": "2023-01-24T14:50:37.609Z"
   },
   {
    "duration": 11,
    "start_time": "2023-01-24T14:50:59.443Z"
   },
   {
    "duration": 2,
    "start_time": "2023-01-24T14:51:18.820Z"
   },
   {
    "duration": 13,
    "start_time": "2023-01-24T14:51:20.489Z"
   },
   {
    "duration": 371,
    "start_time": "2023-01-25T08:01:27.681Z"
   },
   {
    "duration": 65,
    "start_time": "2023-01-25T08:01:28.054Z"
   },
   {
    "duration": 0,
    "start_time": "2023-01-25T08:01:28.121Z"
   },
   {
    "duration": 0,
    "start_time": "2023-01-25T08:01:28.122Z"
   },
   {
    "duration": 0,
    "start_time": "2023-01-25T08:01:28.123Z"
   },
   {
    "duration": 0,
    "start_time": "2023-01-25T08:01:28.124Z"
   },
   {
    "duration": 0,
    "start_time": "2023-01-25T08:01:28.125Z"
   },
   {
    "duration": 0,
    "start_time": "2023-01-25T08:01:28.126Z"
   },
   {
    "duration": 7,
    "start_time": "2023-01-25T08:02:07.524Z"
   },
   {
    "duration": 7,
    "start_time": "2023-01-25T08:02:13.303Z"
   },
   {
    "duration": 394,
    "start_time": "2023-01-25T08:30:40.313Z"
   },
   {
    "duration": 63,
    "start_time": "2023-01-25T08:30:40.709Z"
   },
   {
    "duration": 0,
    "start_time": "2023-01-25T08:30:40.773Z"
   },
   {
    "duration": 0,
    "start_time": "2023-01-25T08:30:40.774Z"
   },
   {
    "duration": 0,
    "start_time": "2023-01-25T08:30:40.776Z"
   },
   {
    "duration": 0,
    "start_time": "2023-01-25T08:30:40.777Z"
   },
   {
    "duration": 0,
    "start_time": "2023-01-25T08:30:40.779Z"
   },
   {
    "duration": 0,
    "start_time": "2023-01-25T08:30:40.780Z"
   },
   {
    "duration": 372,
    "start_time": "2023-01-26T04:24:02.003Z"
   },
   {
    "duration": 87,
    "start_time": "2023-01-26T04:24:02.377Z"
   },
   {
    "duration": 0,
    "start_time": "2023-01-26T04:24:02.467Z"
   },
   {
    "duration": 0,
    "start_time": "2023-01-26T04:24:02.468Z"
   },
   {
    "duration": 0,
    "start_time": "2023-01-26T04:24:02.470Z"
   },
   {
    "duration": 0,
    "start_time": "2023-01-26T04:24:02.471Z"
   },
   {
    "duration": 0,
    "start_time": "2023-01-26T04:24:02.472Z"
   },
   {
    "duration": 0,
    "start_time": "2023-01-26T04:24:02.472Z"
   },
   {
    "duration": 12,
    "start_time": "2023-01-26T04:24:45.546Z"
   },
   {
    "duration": 8,
    "start_time": "2023-01-26T04:25:10.812Z"
   },
   {
    "duration": 1339,
    "start_time": "2023-01-26T04:26:57.787Z"
   },
   {
    "duration": 1600,
    "start_time": "2023-01-26T04:27:05.267Z"
   },
   {
    "duration": 179,
    "start_time": "2023-01-26T04:27:32.766Z"
   },
   {
    "duration": 119,
    "start_time": "2023-01-26T04:28:44.632Z"
   },
   {
    "duration": 17,
    "start_time": "2023-01-26T04:28:57.113Z"
   },
   {
    "duration": 3,
    "start_time": "2023-01-26T04:29:25.467Z"
   },
   {
    "duration": 16,
    "start_time": "2023-01-26T04:29:31.783Z"
   },
   {
    "duration": 84,
    "start_time": "2023-01-26T04:29:42.584Z"
   },
   {
    "duration": 11,
    "start_time": "2023-01-26T04:30:00.494Z"
   },
   {
    "duration": 5,
    "start_time": "2023-01-26T04:30:15.287Z"
   },
   {
    "duration": 10,
    "start_time": "2023-01-26T04:30:37.412Z"
   },
   {
    "duration": 80,
    "start_time": "2023-01-26T04:31:04.981Z"
   },
   {
    "duration": 7,
    "start_time": "2023-01-26T04:31:22.796Z"
   },
   {
    "duration": 6,
    "start_time": "2023-01-26T04:31:32.482Z"
   },
   {
    "duration": 7,
    "start_time": "2023-01-26T04:31:48.084Z"
   },
   {
    "duration": 76,
    "start_time": "2023-01-26T04:31:57.892Z"
   },
   {
    "duration": 1294,
    "start_time": "2023-01-26T04:32:16.497Z"
   },
   {
    "duration": 24,
    "start_time": "2023-01-26T04:32:36.248Z"
   },
   {
    "duration": 14,
    "start_time": "2023-01-26T04:34:15.814Z"
   },
   {
    "duration": 6,
    "start_time": "2023-01-26T04:34:48.407Z"
   },
   {
    "duration": 8,
    "start_time": "2023-01-26T04:35:07.673Z"
   },
   {
    "duration": 5,
    "start_time": "2023-01-26T04:35:23.259Z"
   },
   {
    "duration": 3,
    "start_time": "2023-01-26T04:35:49.217Z"
   },
   {
    "duration": 2,
    "start_time": "2023-01-26T04:35:58.305Z"
   },
   {
    "duration": 31,
    "start_time": "2023-01-26T04:36:04.521Z"
   },
   {
    "duration": 69,
    "start_time": "2023-01-26T04:36:56.672Z"
   },
   {
    "duration": 11,
    "start_time": "2023-01-26T04:37:07.930Z"
   },
   {
    "duration": 49,
    "start_time": "2023-01-26T04:37:29.615Z"
   },
   {
    "duration": 123,
    "start_time": "2023-01-26T04:37:57.632Z"
   },
   {
    "duration": 7,
    "start_time": "2023-01-26T04:38:51.831Z"
   },
   {
    "duration": 13,
    "start_time": "2023-01-26T04:39:32.937Z"
   },
   {
    "duration": 15,
    "start_time": "2023-01-26T04:39:40.250Z"
   },
   {
    "duration": 119,
    "start_time": "2023-01-26T04:39:45.985Z"
   },
   {
    "duration": 70,
    "start_time": "2023-01-26T04:39:54.003Z"
   },
   {
    "duration": 22,
    "start_time": "2023-01-26T04:40:28.392Z"
   },
   {
    "duration": 145,
    "start_time": "2023-01-26T04:40:37.810Z"
   },
   {
    "duration": 146,
    "start_time": "2023-01-26T04:40:43.679Z"
   },
   {
    "duration": 15,
    "start_time": "2023-01-26T04:41:58.435Z"
   },
   {
    "duration": 14,
    "start_time": "2023-01-26T04:42:30.233Z"
   },
   {
    "duration": 25,
    "start_time": "2023-01-26T04:42:56.326Z"
   },
   {
    "duration": 199,
    "start_time": "2023-01-26T04:43:03.159Z"
   },
   {
    "duration": 187,
    "start_time": "2023-01-26T04:43:09.739Z"
   },
   {
    "duration": 30,
    "start_time": "2023-01-26T04:43:49.085Z"
   },
   {
    "duration": 203,
    "start_time": "2023-01-26T04:43:55.361Z"
   },
   {
    "duration": 208,
    "start_time": "2023-01-26T04:44:02.429Z"
   },
   {
    "duration": 1354,
    "start_time": "2023-01-26T04:45:01.413Z"
   },
   {
    "duration": 73,
    "start_time": "2023-01-26T04:45:02.769Z"
   },
   {
    "duration": 16,
    "start_time": "2023-01-26T04:45:02.844Z"
   },
   {
    "duration": 46,
    "start_time": "2023-01-26T04:45:02.862Z"
   },
   {
    "duration": 50,
    "start_time": "2023-01-26T04:45:02.910Z"
   },
   {
    "duration": 15,
    "start_time": "2023-01-26T04:45:02.961Z"
   },
   {
    "duration": 25,
    "start_time": "2023-01-26T04:45:02.978Z"
   },
   {
    "duration": 30,
    "start_time": "2023-01-26T04:45:03.005Z"
   },
   {
    "duration": 33,
    "start_time": "2023-01-26T04:45:03.037Z"
   },
   {
    "duration": 33,
    "start_time": "2023-01-26T04:45:03.073Z"
   },
   {
    "duration": 45,
    "start_time": "2023-01-26T04:45:03.107Z"
   },
   {
    "duration": 1132,
    "start_time": "2023-01-26T04:45:03.154Z"
   },
   {
    "duration": 13,
    "start_time": "2023-01-26T04:45:04.288Z"
   },
   {
    "duration": 68,
    "start_time": "2023-01-26T04:45:04.302Z"
   },
   {
    "duration": 131,
    "start_time": "2023-01-26T04:45:04.372Z"
   },
   {
    "duration": 91,
    "start_time": "2023-01-26T04:45:04.504Z"
   },
   {
    "duration": 90,
    "start_time": "2023-01-26T04:45:04.598Z"
   },
   {
    "duration": 50,
    "start_time": "2023-01-26T04:45:04.690Z"
   },
   {
    "duration": 19,
    "start_time": "2023-01-26T04:45:04.742Z"
   },
   {
    "duration": 61,
    "start_time": "2023-01-26T04:45:04.763Z"
   },
   {
    "duration": 137,
    "start_time": "2023-01-26T04:45:04.826Z"
   },
   {
    "duration": 15,
    "start_time": "2023-01-26T04:45:04.965Z"
   },
   {
    "duration": 80,
    "start_time": "2023-01-26T04:45:04.982Z"
   },
   {
    "duration": 190,
    "start_time": "2023-01-26T04:45:05.064Z"
   },
   {
    "duration": 122,
    "start_time": "2023-01-26T04:45:05.256Z"
   },
   {
    "duration": 6,
    "start_time": "2023-01-26T04:45:05.379Z"
   },
   {
    "duration": 28,
    "start_time": "2023-01-26T04:45:05.387Z"
   },
   {
    "duration": 39,
    "start_time": "2023-01-26T04:45:05.419Z"
   },
   {
    "duration": 293,
    "start_time": "2023-01-26T04:45:05.460Z"
   },
   {
    "duration": 23,
    "start_time": "2023-01-26T04:45:05.756Z"
   },
   {
    "duration": 85,
    "start_time": "2023-01-26T04:45:05.781Z"
   },
   {
    "duration": 162,
    "start_time": "2023-01-26T04:45:05.954Z"
   },
   {
    "duration": 15,
    "start_time": "2023-01-26T04:45:06.117Z"
   },
   {
    "duration": 35,
    "start_time": "2023-01-26T04:45:06.133Z"
   },
   {
    "duration": 28,
    "start_time": "2023-01-26T04:45:06.170Z"
   },
   {
    "duration": 158,
    "start_time": "2023-01-26T04:45:06.200Z"
   },
   {
    "duration": 178,
    "start_time": "2023-01-26T04:45:06.360Z"
   },
   {
    "duration": 35,
    "start_time": "2023-01-26T04:45:06.539Z"
   },
   {
    "duration": 184,
    "start_time": "2023-01-26T04:45:06.575Z"
   },
   {
    "duration": 213,
    "start_time": "2023-01-26T04:45:06.761Z"
   },
   {
    "duration": 1557,
    "start_time": "2023-01-30T19:35:54.997Z"
   },
   {
    "duration": 11737,
    "start_time": "2023-01-30T19:49:26.856Z"
   },
   {
    "duration": 2134,
    "start_time": "2023-01-30T19:50:05.580Z"
   },
   {
    "duration": 1205,
    "start_time": "2023-01-30T19:50:07.717Z"
   },
   {
    "duration": 121,
    "start_time": "2023-01-30T19:50:08.924Z"
   },
   {
    "duration": 16,
    "start_time": "2023-01-30T19:50:09.047Z"
   },
   {
    "duration": 3,
    "start_time": "2023-01-30T19:50:09.065Z"
   },
   {
    "duration": 18,
    "start_time": "2023-01-30T19:50:09.069Z"
   },
   {
    "duration": 10,
    "start_time": "2023-01-30T19:50:09.089Z"
   },
   {
    "duration": 3,
    "start_time": "2023-01-30T19:50:09.101Z"
   },
   {
    "duration": 11,
    "start_time": "2023-01-30T19:50:09.105Z"
   },
   {
    "duration": 8,
    "start_time": "2023-01-30T19:50:09.117Z"
   },
   {
    "duration": 5,
    "start_time": "2023-01-30T19:50:09.127Z"
   },
   {
    "duration": 7,
    "start_time": "2023-01-30T19:50:09.133Z"
   },
   {
    "duration": 1112,
    "start_time": "2023-01-30T19:50:09.141Z"
   },
   {
    "duration": 13,
    "start_time": "2023-01-30T19:50:10.256Z"
   },
   {
    "duration": 12,
    "start_time": "2023-01-30T19:50:10.270Z"
   },
   {
    "duration": 5,
    "start_time": "2023-01-30T19:50:10.284Z"
   },
   {
    "duration": 6,
    "start_time": "2023-01-30T19:50:10.291Z"
   },
   {
    "duration": 6,
    "start_time": "2023-01-30T19:50:10.299Z"
   },
   {
    "duration": 3,
    "start_time": "2023-01-30T19:50:10.306Z"
   },
   {
    "duration": 5,
    "start_time": "2023-01-30T19:50:10.311Z"
   },
   {
    "duration": 23,
    "start_time": "2023-01-30T19:50:10.318Z"
   },
   {
    "duration": 88,
    "start_time": "2023-01-30T19:50:10.342Z"
   },
   {
    "duration": 11,
    "start_time": "2023-01-30T19:50:10.432Z"
   },
   {
    "duration": 148,
    "start_time": "2023-01-30T19:50:10.445Z"
   },
   {
    "duration": 3,
    "start_time": "2023-01-30T19:50:10.595Z"
   },
   {
    "duration": 117,
    "start_time": "2023-01-30T19:50:10.599Z"
   },
   {
    "duration": 5,
    "start_time": "2023-01-30T19:50:10.718Z"
   },
   {
    "duration": 18,
    "start_time": "2023-01-30T19:50:10.724Z"
   },
   {
    "duration": 53,
    "start_time": "2023-01-30T19:50:10.743Z"
   },
   {
    "duration": 212,
    "start_time": "2023-01-30T19:50:10.798Z"
   },
   {
    "duration": 22,
    "start_time": "2023-01-30T19:50:11.012Z"
   },
   {
    "duration": 159,
    "start_time": "2023-01-30T19:50:11.035Z"
   },
   {
    "duration": 140,
    "start_time": "2023-01-30T19:50:11.196Z"
   },
   {
    "duration": 15,
    "start_time": "2023-01-30T19:50:11.338Z"
   },
   {
    "duration": 13,
    "start_time": "2023-01-30T19:50:11.354Z"
   },
   {
    "duration": 43,
    "start_time": "2023-01-30T19:50:11.369Z"
   },
   {
    "duration": 181,
    "start_time": "2023-01-30T19:50:11.413Z"
   },
   {
    "duration": 157,
    "start_time": "2023-01-30T19:50:11.595Z"
   },
   {
    "duration": 23,
    "start_time": "2023-01-30T19:50:11.754Z"
   },
   {
    "duration": 217,
    "start_time": "2023-01-30T19:50:11.779Z"
   },
   {
    "duration": 208,
    "start_time": "2023-01-30T19:50:12.000Z"
   },
   {
    "duration": 111,
    "start_time": "2023-01-30T20:16:46.953Z"
   },
   {
    "duration": 77,
    "start_time": "2023-01-30T20:17:00.364Z"
   },
   {
    "duration": 12,
    "start_time": "2023-01-30T20:17:47.603Z"
   },
   {
    "duration": 9,
    "start_time": "2023-01-30T20:23:38.671Z"
   },
   {
    "duration": 10,
    "start_time": "2023-01-30T20:24:04.793Z"
   },
   {
    "duration": 16,
    "start_time": "2023-01-30T20:24:48.964Z"
   },
   {
    "duration": 14,
    "start_time": "2023-01-30T20:25:21.859Z"
   },
   {
    "duration": 14,
    "start_time": "2023-01-30T20:25:30.067Z"
   },
   {
    "duration": 23339,
    "start_time": "2023-01-30T20:26:24.659Z"
   },
   {
    "duration": 113,
    "start_time": "2023-01-30T20:28:41.644Z"
   },
   {
    "duration": 3992,
    "start_time": "2023-01-30T20:34:19.720Z"
   },
   {
    "duration": 139,
    "start_time": "2023-01-30T20:36:26.434Z"
   },
   {
    "duration": 16,
    "start_time": "2023-01-30T20:37:51.271Z"
   },
   {
    "duration": 2077,
    "start_time": "2023-01-30T20:37:57.904Z"
   },
   {
    "duration": 2099,
    "start_time": "2023-01-30T20:37:59.983Z"
   },
   {
    "duration": 1233,
    "start_time": "2023-01-30T20:38:02.084Z"
   },
   {
    "duration": 71,
    "start_time": "2023-01-30T20:38:03.319Z"
   },
   {
    "duration": 18,
    "start_time": "2023-01-30T20:38:03.391Z"
   },
   {
    "duration": 4,
    "start_time": "2023-01-30T20:38:03.410Z"
   },
   {
    "duration": 16,
    "start_time": "2023-01-30T20:38:03.416Z"
   },
   {
    "duration": 10,
    "start_time": "2023-01-30T20:38:03.434Z"
   },
   {
    "duration": 3,
    "start_time": "2023-01-30T20:38:03.446Z"
   },
   {
    "duration": 10,
    "start_time": "2023-01-30T20:38:03.451Z"
   },
   {
    "duration": 36,
    "start_time": "2023-01-30T20:38:03.462Z"
   },
   {
    "duration": 8,
    "start_time": "2023-01-30T20:38:03.499Z"
   },
   {
    "duration": 6,
    "start_time": "2023-01-30T20:38:03.508Z"
   },
   {
    "duration": 1122,
    "start_time": "2023-01-30T20:38:03.515Z"
   },
   {
    "duration": 13,
    "start_time": "2023-01-30T20:38:04.638Z"
   },
   {
    "duration": 11,
    "start_time": "2023-01-30T20:38:04.652Z"
   },
   {
    "duration": 4,
    "start_time": "2023-01-30T20:38:04.664Z"
   },
   {
    "duration": 5,
    "start_time": "2023-01-30T20:38:04.670Z"
   },
   {
    "duration": 6,
    "start_time": "2023-01-30T20:38:04.676Z"
   },
   {
    "duration": 21,
    "start_time": "2023-01-30T20:38:04.683Z"
   },
   {
    "duration": 14,
    "start_time": "2023-01-30T20:38:04.706Z"
   },
   {
    "duration": 24,
    "start_time": "2023-01-30T20:38:04.722Z"
   },
   {
    "duration": 70,
    "start_time": "2023-01-30T20:38:04.747Z"
   },
   {
    "duration": 13,
    "start_time": "2023-01-30T20:38:04.819Z"
   },
   {
    "duration": 64,
    "start_time": "2023-01-30T20:38:04.834Z"
   },
   {
    "duration": 23762,
    "start_time": "2023-01-30T20:38:04.900Z"
   },
   {
    "duration": 124,
    "start_time": "2023-01-30T20:38:28.663Z"
   },
   {
    "duration": 6,
    "start_time": "2023-01-30T20:38:28.791Z"
   },
   {
    "duration": 23,
    "start_time": "2023-01-30T20:38:28.799Z"
   },
   {
    "duration": 29,
    "start_time": "2023-01-30T20:38:28.824Z"
   },
   {
    "duration": 204,
    "start_time": "2023-01-30T20:38:28.895Z"
   },
   {
    "duration": 20,
    "start_time": "2023-01-30T20:38:29.101Z"
   },
   {
    "duration": 175,
    "start_time": "2023-01-30T20:38:29.123Z"
   },
   {
    "duration": 229,
    "start_time": "2023-01-30T20:38:29.301Z"
   },
   {
    "duration": 13,
    "start_time": "2023-01-30T20:38:29.532Z"
   },
   {
    "duration": 23,
    "start_time": "2023-01-30T20:38:29.547Z"
   },
   {
    "duration": 64,
    "start_time": "2023-01-30T20:38:29.572Z"
   },
   {
    "duration": 155,
    "start_time": "2023-01-30T20:38:29.637Z"
   },
   {
    "duration": 179,
    "start_time": "2023-01-30T20:38:29.794Z"
   },
   {
    "duration": 29,
    "start_time": "2023-01-30T20:38:29.974Z"
   },
   {
    "duration": 190,
    "start_time": "2023-01-30T20:38:30.005Z"
   },
   {
    "duration": 192,
    "start_time": "2023-01-30T20:38:30.197Z"
   },
   {
    "duration": 3,
    "start_time": "2023-01-30T20:40:00.693Z"
   },
   {
    "duration": 3,
    "start_time": "2023-01-30T20:40:02.247Z"
   },
   {
    "duration": 85,
    "start_time": "2023-01-30T20:43:21.061Z"
   },
   {
    "duration": 55,
    "start_time": "2023-01-30T20:44:15.307Z"
   },
   {
    "duration": 22,
    "start_time": "2023-01-30T20:45:58.471Z"
   },
   {
    "duration": 20,
    "start_time": "2023-01-30T20:46:47.044Z"
   },
   {
    "duration": 16,
    "start_time": "2023-01-30T20:51:50.403Z"
   },
   {
    "duration": 12,
    "start_time": "2023-01-30T20:52:07.501Z"
   },
   {
    "duration": 50,
    "start_time": "2023-01-30T20:52:37.150Z"
   },
   {
    "duration": 108,
    "start_time": "2023-01-30T20:54:30.528Z"
   },
   {
    "duration": 100,
    "start_time": "2023-01-30T20:54:47.539Z"
   },
   {
    "duration": 27643,
    "start_time": "2023-01-30T20:56:30.024Z"
   },
   {
    "duration": 18806,
    "start_time": "2023-01-30T20:56:57.669Z"
   },
   {
    "duration": 105,
    "start_time": "2023-01-30T20:58:01.342Z"
   },
   {
    "duration": 21,
    "start_time": "2023-01-30T20:58:24.603Z"
   },
   {
    "duration": 27751,
    "start_time": "2023-01-30T20:59:26.348Z"
   },
   {
    "duration": 92,
    "start_time": "2023-01-30T21:00:36.937Z"
   },
   {
    "duration": 96,
    "start_time": "2023-01-30T21:00:52.662Z"
   },
   {
    "duration": 88,
    "start_time": "2023-01-30T21:00:58.948Z"
   },
   {
    "duration": 96,
    "start_time": "2023-01-30T21:01:04.586Z"
   },
   {
    "duration": 126,
    "start_time": "2023-01-30T21:01:14.052Z"
   },
   {
    "duration": 120,
    "start_time": "2023-01-30T21:02:11.491Z"
   },
   {
    "duration": 1149,
    "start_time": "2023-01-30T21:06:22.100Z"
   },
   {
    "duration": 5,
    "start_time": "2023-01-30T21:07:54.845Z"
   },
   {
    "duration": 6,
    "start_time": "2023-01-30T21:11:00.487Z"
   },
   {
    "duration": 15,
    "start_time": "2023-01-30T21:11:35.096Z"
   },
   {
    "duration": 9,
    "start_time": "2023-01-30T21:13:37.159Z"
   },
   {
    "duration": 7,
    "start_time": "2023-01-30T21:13:49.947Z"
   },
   {
    "duration": 17,
    "start_time": "2023-01-30T21:15:00.244Z"
   },
   {
    "duration": 2255,
    "start_time": "2023-01-30T21:16:23.606Z"
   },
   {
    "duration": 2208,
    "start_time": "2023-01-30T21:16:25.863Z"
   },
   {
    "duration": 1390,
    "start_time": "2023-01-30T21:16:28.073Z"
   },
   {
    "duration": 73,
    "start_time": "2023-01-30T21:16:29.464Z"
   },
   {
    "duration": 17,
    "start_time": "2023-01-30T21:16:29.540Z"
   },
   {
    "duration": 4,
    "start_time": "2023-01-30T21:16:29.558Z"
   },
   {
    "duration": 14,
    "start_time": "2023-01-30T21:16:29.564Z"
   },
   {
    "duration": 11,
    "start_time": "2023-01-30T21:16:29.580Z"
   },
   {
    "duration": 4,
    "start_time": "2023-01-30T21:16:29.593Z"
   },
   {
    "duration": 10,
    "start_time": "2023-01-30T21:16:29.599Z"
   },
   {
    "duration": 5,
    "start_time": "2023-01-30T21:16:29.611Z"
   },
   {
    "duration": 6,
    "start_time": "2023-01-30T21:16:29.618Z"
   },
   {
    "duration": 8,
    "start_time": "2023-01-30T21:16:29.626Z"
   },
   {
    "duration": 1072,
    "start_time": "2023-01-30T21:16:29.637Z"
   },
   {
    "duration": 12,
    "start_time": "2023-01-30T21:16:30.711Z"
   },
   {
    "duration": 33,
    "start_time": "2023-01-30T21:16:30.724Z"
   },
   {
    "duration": 14,
    "start_time": "2023-01-30T21:16:30.759Z"
   },
   {
    "duration": 34,
    "start_time": "2023-01-30T21:16:30.775Z"
   },
   {
    "duration": 44,
    "start_time": "2023-01-30T21:16:30.811Z"
   },
   {
    "duration": 27,
    "start_time": "2023-01-30T21:16:30.857Z"
   },
   {
    "duration": 24,
    "start_time": "2023-01-30T21:16:30.885Z"
   },
   {
    "duration": 43,
    "start_time": "2023-01-30T21:16:30.910Z"
   },
   {
    "duration": 92,
    "start_time": "2023-01-30T21:16:30.955Z"
   },
   {
    "duration": 21,
    "start_time": "2023-01-30T21:16:31.049Z"
   },
   {
    "duration": 43,
    "start_time": "2023-01-30T21:16:31.072Z"
   },
   {
    "duration": 23816,
    "start_time": "2023-01-30T21:16:31.117Z"
   },
   {
    "duration": 117,
    "start_time": "2023-01-30T21:16:54.935Z"
   },
   {
    "duration": 6,
    "start_time": "2023-01-30T21:16:55.053Z"
   },
   {
    "duration": 14,
    "start_time": "2023-01-30T21:16:55.061Z"
   },
   {
    "duration": 27,
    "start_time": "2023-01-30T21:16:55.077Z"
   },
   {
    "duration": 289,
    "start_time": "2023-01-30T21:16:55.107Z"
   },
   {
    "duration": 20,
    "start_time": "2023-01-30T21:16:55.398Z"
   },
   {
    "duration": 83,
    "start_time": "2023-01-30T21:16:55.420Z"
   },
   {
    "duration": 225,
    "start_time": "2023-01-30T21:16:55.505Z"
   },
   {
    "duration": 20,
    "start_time": "2023-01-30T21:16:55.732Z"
   },
   {
    "duration": 19,
    "start_time": "2023-01-30T21:16:55.754Z"
   },
   {
    "duration": 98,
    "start_time": "2023-01-30T21:16:55.775Z"
   },
   {
    "duration": 67,
    "start_time": "2023-01-30T21:16:55.874Z"
   },
   {
    "duration": 22,
    "start_time": "2023-01-30T21:16:55.943Z"
   },
   {
    "duration": 37,
    "start_time": "2023-01-30T21:16:55.966Z"
   },
   {
    "duration": 18,
    "start_time": "2023-01-30T21:16:56.007Z"
   },
   {
    "duration": 104,
    "start_time": "2023-01-30T21:16:56.094Z"
   },
   {
    "duration": 293,
    "start_time": "2023-01-30T21:16:56.201Z"
   },
   {
    "duration": 104,
    "start_time": "2023-01-30T21:16:56.496Z"
   },
   {
    "duration": 28249,
    "start_time": "2023-01-30T21:16:56.602Z"
   },
   {
    "duration": 18705,
    "start_time": "2023-01-30T21:17:24.853Z"
   },
   {
    "duration": 133,
    "start_time": "2023-01-30T21:17:43.560Z"
   },
   {
    "duration": 20,
    "start_time": "2023-01-30T21:17:43.695Z"
   },
   {
    "duration": 3,
    "start_time": "2023-01-30T21:17:43.716Z"
   },
   {
    "duration": 11,
    "start_time": "2023-01-30T21:17:43.720Z"
   },
   {
    "duration": 125,
    "start_time": "2023-01-30T21:17:43.732Z"
   },
   {
    "duration": 1715,
    "start_time": "2023-01-31T06:56:26.923Z"
   },
   {
    "duration": 13998,
    "start_time": "2023-01-31T06:56:41.542Z"
   },
   {
    "duration": 6400,
    "start_time": "2023-01-31T06:56:55.543Z"
   },
   {
    "duration": 2224,
    "start_time": "2023-01-31T06:57:01.945Z"
   },
   {
    "duration": 0,
    "start_time": "2023-01-31T06:57:04.171Z"
   },
   {
    "duration": 0,
    "start_time": "2023-01-31T06:57:04.172Z"
   },
   {
    "duration": 0,
    "start_time": "2023-01-31T06:57:04.174Z"
   },
   {
    "duration": 0,
    "start_time": "2023-01-31T06:57:04.175Z"
   },
   {
    "duration": 0,
    "start_time": "2023-01-31T06:57:04.200Z"
   },
   {
    "duration": 0,
    "start_time": "2023-01-31T06:57:04.201Z"
   },
   {
    "duration": 0,
    "start_time": "2023-01-31T06:57:04.203Z"
   },
   {
    "duration": 0,
    "start_time": "2023-01-31T06:57:04.204Z"
   },
   {
    "duration": 0,
    "start_time": "2023-01-31T06:57:04.206Z"
   },
   {
    "duration": 0,
    "start_time": "2023-01-31T06:57:04.207Z"
   },
   {
    "duration": 0,
    "start_time": "2023-01-31T06:57:04.208Z"
   },
   {
    "duration": 0,
    "start_time": "2023-01-31T06:57:04.210Z"
   },
   {
    "duration": 0,
    "start_time": "2023-01-31T06:57:04.211Z"
   },
   {
    "duration": 0,
    "start_time": "2023-01-31T06:57:04.212Z"
   },
   {
    "duration": 0,
    "start_time": "2023-01-31T06:57:04.213Z"
   },
   {
    "duration": 0,
    "start_time": "2023-01-31T06:57:04.215Z"
   },
   {
    "duration": 0,
    "start_time": "2023-01-31T06:57:04.216Z"
   },
   {
    "duration": 0,
    "start_time": "2023-01-31T06:57:04.218Z"
   },
   {
    "duration": 0,
    "start_time": "2023-01-31T06:57:04.219Z"
   },
   {
    "duration": 0,
    "start_time": "2023-01-31T06:57:04.220Z"
   },
   {
    "duration": 1229,
    "start_time": "2023-01-31T06:57:24.973Z"
   },
   {
    "duration": 13,
    "start_time": "2023-01-31T06:58:18.149Z"
   },
   {
    "duration": 3806,
    "start_time": "2023-01-31T06:58:45.416Z"
   },
   {
    "duration": 3976,
    "start_time": "2023-01-31T06:58:49.224Z"
   },
   {
    "duration": 3847,
    "start_time": "2023-01-31T06:58:55.757Z"
   },
   {
    "duration": 1236,
    "start_time": "2023-01-31T06:58:59.607Z"
   },
   {
    "duration": 3907,
    "start_time": "2023-01-31T06:59:18.617Z"
   },
   {
    "duration": 3802,
    "start_time": "2023-01-31T06:59:22.526Z"
   },
   {
    "duration": 2094,
    "start_time": "2023-01-31T06:59:26.330Z"
   },
   {
    "duration": 98,
    "start_time": "2023-01-31T06:59:28.426Z"
   },
   {
    "duration": 16,
    "start_time": "2023-01-31T06:59:28.526Z"
   },
   {
    "duration": 5,
    "start_time": "2023-01-31T06:59:28.543Z"
   },
   {
    "duration": 64,
    "start_time": "2023-01-31T06:59:28.550Z"
   },
   {
    "duration": 15,
    "start_time": "2023-01-31T06:59:28.616Z"
   },
   {
    "duration": 4,
    "start_time": "2023-01-31T06:59:28.633Z"
   },
   {
    "duration": 64,
    "start_time": "2023-01-31T06:59:28.641Z"
   },
   {
    "duration": 15,
    "start_time": "2023-01-31T06:59:28.707Z"
   },
   {
    "duration": 8,
    "start_time": "2023-01-31T06:59:28.724Z"
   },
   {
    "duration": 66,
    "start_time": "2023-01-31T06:59:28.734Z"
   },
   {
    "duration": 2247,
    "start_time": "2023-01-31T06:59:28.802Z"
   },
   {
    "duration": 65,
    "start_time": "2023-01-31T06:59:31.052Z"
   },
   {
    "duration": 22,
    "start_time": "2023-01-31T06:59:31.119Z"
   },
   {
    "duration": 82,
    "start_time": "2023-01-31T06:59:31.144Z"
   },
   {
    "duration": 15,
    "start_time": "2023-01-31T06:59:31.228Z"
   },
   {
    "duration": 54,
    "start_time": "2023-01-31T06:59:31.246Z"
   },
   {
    "duration": 14,
    "start_time": "2023-01-31T06:59:31.302Z"
   },
   {
    "duration": 27,
    "start_time": "2023-01-31T06:59:31.318Z"
   },
   {
    "duration": 77,
    "start_time": "2023-01-31T06:59:31.347Z"
   },
   {
    "duration": 186,
    "start_time": "2023-01-31T06:59:31.426Z"
   },
   {
    "duration": 15,
    "start_time": "2023-01-31T06:59:31.614Z"
   },
   {
    "duration": 171,
    "start_time": "2023-01-31T06:59:31.631Z"
   },
   {
    "duration": 50820,
    "start_time": "2023-01-31T06:59:31.898Z"
   },
   {
    "duration": 215,
    "start_time": "2023-01-31T07:00:22.720Z"
   },
   {
    "duration": 63,
    "start_time": "2023-01-31T07:00:22.940Z"
   },
   {
    "duration": 23,
    "start_time": "2023-01-31T07:00:23.005Z"
   },
   {
    "duration": 75,
    "start_time": "2023-01-31T07:00:23.030Z"
   },
   {
    "duration": 340,
    "start_time": "2023-01-31T07:00:23.108Z"
   },
   {
    "duration": 27,
    "start_time": "2023-01-31T07:00:23.500Z"
   },
   {
    "duration": 174,
    "start_time": "2023-01-31T07:00:23.529Z"
   },
   {
    "duration": 397,
    "start_time": "2023-01-31T07:00:23.704Z"
   },
   {
    "duration": 18,
    "start_time": "2023-01-31T07:00:24.104Z"
   },
   {
    "duration": 75,
    "start_time": "2023-01-31T07:00:24.124Z"
   },
   {
    "duration": 198,
    "start_time": "2023-01-31T07:00:24.201Z"
   },
   {
    "duration": 113,
    "start_time": "2023-01-31T07:00:24.401Z"
   },
   {
    "duration": 23,
    "start_time": "2023-01-31T07:00:24.516Z"
   },
   {
    "duration": 75,
    "start_time": "2023-01-31T07:00:24.541Z"
   },
   {
    "duration": 86,
    "start_time": "2023-01-31T07:00:24.617Z"
   },
   {
    "duration": 112,
    "start_time": "2023-01-31T07:00:24.705Z"
   },
   {
    "duration": 284,
    "start_time": "2023-01-31T07:00:24.821Z"
   },
   {
    "duration": 195,
    "start_time": "2023-01-31T07:00:25.107Z"
   },
   {
    "duration": 59494,
    "start_time": "2023-01-31T07:00:25.308Z"
   },
   {
    "duration": 40838,
    "start_time": "2023-01-31T07:01:24.803Z"
   },
   {
    "duration": 282,
    "start_time": "2023-01-31T07:02:05.643Z"
   },
   {
    "duration": 86,
    "start_time": "2023-01-31T07:02:05.927Z"
   },
   {
    "duration": 4,
    "start_time": "2023-01-31T07:02:06.015Z"
   },
   {
    "duration": 15,
    "start_time": "2023-01-31T07:02:06.022Z"
   },
   {
    "duration": 371,
    "start_time": "2023-01-31T07:02:06.039Z"
   },
   {
    "duration": 11,
    "start_time": "2023-01-31T07:02:06.412Z"
   }
  ],
  "kernelspec": {
   "display_name": "Python 3 (ipykernel)",
   "language": "python",
   "name": "python3"
  },
  "language_info": {
   "codemirror_mode": {
    "name": "ipython",
    "version": 3
   },
   "file_extension": ".py",
   "mimetype": "text/x-python",
   "name": "python",
   "nbconvert_exporter": "python",
   "pygments_lexer": "ipython3",
   "version": "3.9.12"
  },
  "toc": {
   "base_numbering": 1,
   "nav_menu": {},
   "number_sections": true,
   "sideBar": true,
   "skip_h1_title": true,
   "title_cell": "Содержание",
   "title_sidebar": "Contents",
   "toc_cell": true,
   "toc_position": {
    "height": "calc(100% - 180px)",
    "left": "10px",
    "top": "150px",
    "width": "229.222px"
   },
   "toc_section_display": true,
   "toc_window_display": false
  }
 },
 "nbformat": 4,
 "nbformat_minor": 2
}
