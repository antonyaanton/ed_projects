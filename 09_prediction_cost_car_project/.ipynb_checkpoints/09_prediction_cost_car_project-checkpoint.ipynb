{
 "cells": [
  {
   "cell_type": "markdown",
   "metadata": {},
   "source": [
    "# Определение стоимости автомобилей"
   ]
  },
  {
   "cell_type": "markdown",
   "metadata": {},
   "source": [
    "Сервис по продаже автомобилей с пробегом «Не бит, не крашен» разрабатывает приложение для привлечения новых клиентов. В нём можно быстро узнать рыночную стоимость своего автомобиля. В вашем распоряжении исторические данные: технические характеристики, комплектации и цены автомобилей. Вам нужно построить модель для определения стоимости. \n",
    "\n",
    "Заказчику важны:\n",
    "\n",
    "- качество предсказания;\n",
    "- скорость предсказания;\n",
    "- время обучения."
   ]
  },
  {
   "cell_type": "markdown",
   "metadata": {},
   "source": [
    "## Подготовка данных"
   ]
  },
  {
   "cell_type": "code",
   "execution_count": null,
   "metadata": {},
   "outputs": [],
   "source": [
    "!pip install lightgbm"
   ]
  },
  {
   "cell_type": "code",
   "execution_count": null,
   "metadata": {},
   "outputs": [],
   "source": [
    "!pip install scikit-learn==1.1.3"
   ]
  },
  {
   "cell_type": "code",
   "execution_count": null,
   "metadata": {},
   "outputs": [],
   "source": [
    "import pandas as pd\n",
    "import numpy as np\n",
    "import seaborn as sns\n",
    "import matplotlib.pyplot as plt\n",
    "import time\n",
    "import sklearn\n",
    "\n",
    "from sklearn.model_selection import train_test_split\n",
    "from sklearn.preprocessing import OneHotEncoder, StandardScaler\n",
    "\n",
    "from sklearn.model_selection import cross_val_score, RepeatedKFold, GridSearchCV\n",
    "\n",
    "from sklearn.metrics import mean_squared_error\n",
    "\n",
    "from sklearn.linear_model import LinearRegression\n",
    "from lightgbm import LGBMRegressor\n",
    "from catboost import (\n",
    "    CatBoostRegressor, \n",
    "    cv, \n",
    "    Pool\n",
    ")\n",
    "\n",
    "import lightgbm\n",
    "print(lightgbm.__version__)\n",
    "print(sklearn.__version__)"
   ]
  },
  {
   "cell_type": "code",
   "execution_count": null,
   "metadata": {},
   "outputs": [],
   "source": [
    "data = pd.read_csv('/datasets/autos.csv')"
   ]
  },
  {
   "cell_type": "markdown",
   "metadata": {},
   "source": [
    "### EDA"
   ]
  },
  {
   "cell_type": "code",
   "execution_count": null,
   "metadata": {},
   "outputs": [],
   "source": [
    "data.head()"
   ]
  },
  {
   "cell_type": "code",
   "execution_count": null,
   "metadata": {},
   "outputs": [],
   "source": [
    "data.info()"
   ]
  },
  {
   "cell_type": "markdown",
   "metadata": {},
   "source": [
    "**Вывод:** \n",
    "* В датасете есть пропуски. \n",
    "* Переменные, отражающие дату и время, требуют преобразования к соответсвующему типу."
   ]
  },
  {
   "cell_type": "code",
   "execution_count": null,
   "metadata": {},
   "outputs": [],
   "source": [
    "data.columns = data.columns.str.lower()"
   ]
  },
  {
   "cell_type": "code",
   "execution_count": null,
   "metadata": {},
   "outputs": [],
   "source": [
    "for col in data.columns:\n",
    "    missing_values = data[col].isna().mean()\n",
    "    if missing_values > 0:\n",
    "        print(f'В столбце \"{col}\" {np.round((missing_values * 100), decimals = 2)} % пропусков')"
   ]
  },
  {
   "cell_type": "code",
   "execution_count": null,
   "metadata": {},
   "outputs": [],
   "source": [
    "data.duplicated().sum()"
   ]
  },
  {
   "cell_type": "code",
   "execution_count": null,
   "metadata": {},
   "outputs": [],
   "source": [
    "data[data.duplicated(keep='last')]\n",
    "data.drop_duplicates()"
   ]
  },
  {
   "cell_type": "code",
   "execution_count": null,
   "metadata": {},
   "outputs": [],
   "source": [
    "data = data.drop_duplicates()"
   ]
  },
  {
   "cell_type": "markdown",
   "metadata": {},
   "source": [
    "**Вывод:** \n",
    "* Доля пропущенных значений велика и доходит до `20` процентов. \n",
    "* Дупликатов всего 4. Они были удалены.\n",
    "* Пропущенные значения заменим на `'no_info'`. Это будет отдельное значение для переменной.  "
   ]
  },
  {
   "cell_type": "code",
   "execution_count": null,
   "metadata": {},
   "outputs": [],
   "source": [
    "data['repaired'] = data['repaired'].replace('yes', 1)\n",
    "data['repaired'] = data['repaired'].replace('no', 0)\n",
    "data['repaired'] = data['repaired'].fillna(-1)"
   ]
  },
  {
   "cell_type": "code",
   "execution_count": null,
   "metadata": {},
   "outputs": [],
   "source": [
    "data = data.fillna('no_info')"
   ]
  },
  {
   "cell_type": "code",
   "execution_count": null,
   "metadata": {},
   "outputs": [],
   "source": [
    "date_time_columns = ['datecrawled', 'datecreated', 'lastseen']"
   ]
  },
  {
   "cell_type": "code",
   "execution_count": null,
   "metadata": {},
   "outputs": [],
   "source": [
    "for col in date_time_columns:\n",
    "    data[col] = pd.to_datetime(data[col], format='%Y-%m-%d %H:%M:%S')"
   ]
  },
  {
   "cell_type": "code",
   "execution_count": null,
   "metadata": {},
   "outputs": [],
   "source": [
    "data.head()"
   ]
  },
  {
   "cell_type": "markdown",
   "metadata": {},
   "source": [
    "**Вывод:** переменные с датой и временем преобразованы."
   ]
  },
  {
   "cell_type": "code",
   "execution_count": null,
   "metadata": {},
   "outputs": [],
   "source": [
    "sns.histplot(data['price'], bins=50)\n",
    "None"
   ]
  },
  {
   "cell_type": "code",
   "execution_count": null,
   "metadata": {},
   "outputs": [],
   "source": [
    "sns.boxplot(data['price'])\n",
    "None"
   ]
  },
  {
   "cell_type": "code",
   "execution_count": null,
   "metadata": {},
   "outputs": [],
   "source": [
    "data.head()"
   ]
  },
  {
   "cell_type": "code",
   "execution_count": null,
   "metadata": {},
   "outputs": [],
   "source": [
    "sns.boxplot(data['kilometer'])\n",
    "None"
   ]
  },
  {
   "cell_type": "code",
   "execution_count": null,
   "metadata": {},
   "outputs": [],
   "source": [
    "sns.boxplot(data['power'])\n",
    "None"
   ]
  },
  {
   "cell_type": "markdown",
   "metadata": {},
   "source": [
    "**Вывод:** распределение значение перменной `'price'` скошено вправо. Много значений близких к нулю. Можно предположить, что такие значения оставлены сознательно. Тем не менее, необходимости их исправлять нет. "
   ]
  },
  {
   "cell_type": "code",
   "execution_count": null,
   "metadata": {},
   "outputs": [],
   "source": [
    "data = data.query('price > 0')\n",
    "data = data.query('power > 0 and power < 1000')"
   ]
  },
  {
   "cell_type": "markdown",
   "metadata": {},
   "source": [
    "### Определение признаков:"
   ]
  },
  {
   "cell_type": "code",
   "execution_count": null,
   "metadata": {},
   "outputs": [],
   "source": [
    "data = data.drop(['datecrawled', 'datecreated',\t'numberofpictures',\t'postalcode','lastseen'], axis=1)"
   ]
  },
  {
   "cell_type": "markdown",
   "metadata": {},
   "source": [
    "### Разделение данных на выборки и признаки:"
   ]
  },
  {
   "cell_type": "code",
   "execution_count": null,
   "metadata": {},
   "outputs": [],
   "source": [
    "X = data.drop(['price'], axis=1)\n",
    "y = data['price']"
   ]
  },
  {
   "cell_type": "code",
   "execution_count": null,
   "metadata": {},
   "outputs": [],
   "source": [
    "X.shape, y.shape"
   ]
  },
  {
   "cell_type": "code",
   "execution_count": null,
   "metadata": {},
   "outputs": [],
   "source": [
    "X_train, X_test, y_train, y_test = train_test_split(X, y, test_size = 0.4, random_state = 42)"
   ]
  },
  {
   "cell_type": "code",
   "execution_count": null,
   "metadata": {},
   "outputs": [],
   "source": [
    "X_valid, X_test, y_valid, y_test = train_test_split(X_test, y_test, test_size = 0.5, random_state = 42)"
   ]
  },
  {
   "cell_type": "code",
   "execution_count": null,
   "metadata": {},
   "outputs": [],
   "source": [
    "X_train.shape, X_test.shape, y_train.shape, y_test.shape, X_valid.shape, y_valid.shape"
   ]
  },
  {
   "cell_type": "markdown",
   "metadata": {},
   "source": [
    "Определение признаков:"
   ]
  },
  {
   "cell_type": "code",
   "execution_count": null,
   "metadata": {},
   "outputs": [],
   "source": [
    "cat_cols = X_train.select_dtypes(include='object').columns.to_list()\n",
    "\n",
    "num_cols = [\n",
    "    'registrationyear',\n",
    "    'power',\n",
    "    'kilometer',\n",
    "    'registrationmonth',\n",
    "]"
   ]
  },
  {
   "cell_type": "code",
   "execution_count": null,
   "metadata": {},
   "outputs": [],
   "source": [
    "cat_cols"
   ]
  },
  {
   "cell_type": "code",
   "execution_count": null,
   "metadata": {},
   "outputs": [],
   "source": [
    "num_cols"
   ]
  },
  {
   "cell_type": "markdown",
   "metadata": {},
   "source": [
    "### Преобразование категориальных признаков и масштабирование:"
   ]
  },
  {
   "cell_type": "code",
   "execution_count": null,
   "metadata": {},
   "outputs": [],
   "source": [
    "X_train_ohe = X_train.copy()\n",
    "X_test_ohe = X_test.copy()\n",
    "X_valid_ohe = X_valid.copy()"
   ]
  },
  {
   "cell_type": "code",
   "execution_count": null,
   "metadata": {},
   "outputs": [],
   "source": [
    "sc = StandardScaler()\n",
    "X_train_ohe[num_cols] = sc.fit_transform(X_train_ohe[num_cols])\n",
    "X_test_ohe[num_cols] = sc.transform(X_test_ohe[num_cols])\n",
    "X_valid_ohe[num_cols] = sc.transform(X_valid_ohe[num_cols])"
   ]
  },
  {
   "cell_type": "code",
   "execution_count": null,
   "metadata": {},
   "outputs": [],
   "source": [
    "X_train.shape"
   ]
  },
  {
   "cell_type": "code",
   "execution_count": null,
   "metadata": {},
   "outputs": [],
   "source": [
    "%%time\n",
    "ohe = OneHotEncoder(handle_unknown='ignore', drop='first', sparse=False)\n",
    "ohe.fit(X_train_ohe[cat_cols])\n",
    "X_train_ohe[\n",
    "    ohe.get_feature_names_out()\n",
    "] = ohe.transform(X_train_ohe[cat_cols])\n",
    "X_train_ohe = X_train_ohe.drop(cat_cols, axis=1)\n",
    "\n",
    "X_test_ohe[\n",
    "    ohe.get_feature_names_out()\n",
    "] = ohe.transform(X_test_ohe[cat_cols])\n",
    "X_test_ohe = X_test_ohe.drop(cat_cols, axis=1)\n",
    "\n",
    "X_valid_ohe[\n",
    "    ohe.get_feature_names_out()\n",
    "] = ohe.transform(X_valid_ohe[cat_cols])\n",
    "X_valid_ohe = X_valid_ohe.drop(cat_cols, axis=1)"
   ]
  },
  {
   "cell_type": "markdown",
   "metadata": {},
   "source": [
    "### Получение метрик:"
   ]
  },
  {
   "cell_type": "code",
   "execution_count": null,
   "metadata": {},
   "outputs": [],
   "source": [
    "def print_metric(y, y_pred):\n",
    "    print(f'RMSE: {np.sqrt(mean_squared_error(y, y_pred))}')"
   ]
  },
  {
   "cell_type": "markdown",
   "metadata": {},
   "source": [
    "**Вывод:** \n",
    "* был проведен EDA-анализ, в результате которого были устранены пропуски в данных, преобразованы переменные и удалены дупликаты.\n",
    "* далее отдельно были выделены категориальные и количественные переменные.\n",
    "* для разделения данных на выборки было необходимо отбросить все перменные связанные с датой, 'numberofpictures', 'postalcode'.\n",
    "* для тестовой выборки выделили 40% датасета.\n",
    "* так как задача проекта - задача регрессии, категориальные признаки было необходимо преобразовать в количественные, а затем их масштабировать.\n",
    "* основная метрика оценки - RMSE. Для ее получения была написана функция."
   ]
  },
  {
   "cell_type": "markdown",
   "metadata": {},
   "source": [
    "## Обучение моделей"
   ]
  },
  {
   "cell_type": "markdown",
   "metadata": {},
   "source": [
    "### Линейная регрессия"
   ]
  },
  {
   "cell_type": "code",
   "execution_count": null,
   "metadata": {
    "scrolled": true
   },
   "outputs": [],
   "source": [
    "start_lr = time.time()\n",
    "\n",
    "lr = LinearRegression()\n",
    "lr.fit(X_train_ohe, y_train)\n",
    "\n",
    "end_lr = time.time()\n",
    "elapced_time_lr = end_lr - start_lr\n",
    "print(elapced_time_lr)"
   ]
  },
  {
   "cell_type": "code",
   "execution_count": null,
   "metadata": {},
   "outputs": [],
   "source": [
    "start_pred_lr = time.time()\n",
    "pred_lr = lr.predict(X_valid_ohe)\n",
    "end_pred_lr = time.time()\n",
    "\n",
    "elapced_time_lr_pred = end_pred_lr - start_pred_lr \n",
    "\n",
    "print(elapced_time_lr_pred)\n",
    "print_metric(y_valid, pred_lr)"
   ]
  },
  {
   "cell_type": "markdown",
   "metadata": {},
   "source": [
    "### LightGBM"
   ]
  },
  {
   "cell_type": "code",
   "execution_count": null,
   "metadata": {},
   "outputs": [],
   "source": [
    "cat_X_train = X_train.select_dtypes('object').columns\n",
    "X_train[cat_X_train] = X_train[cat_X_train].astype('category')\n",
    "\n",
    "cat_X_test = X_test.select_dtypes(\"object\").columns\n",
    "X_test[cat_X_test] = X_test[cat_X_test].astype('category')\n",
    "\n",
    "cat_X_valid = X_valid.select_dtypes('object').columns\n",
    "X_valid[cat_X_valid] = X_valid[cat_X_valid].astype('category')"
   ]
  },
  {
   "cell_type": "code",
   "execution_count": null,
   "metadata": {},
   "outputs": [],
   "source": [
    "X_train"
   ]
  },
  {
   "cell_type": "code",
   "execution_count": null,
   "metadata": {},
   "outputs": [],
   "source": [
    "parameters = {\n",
    "    'boosting_type': [\"gbdt\", \"goss\"],\n",
    "    \"n_estimators\":[400, 500],\n",
    "    'max_depth': [5, 10],  \n",
    "}"
   ]
  },
  {
   "cell_type": "code",
   "execution_count": null,
   "metadata": {},
   "outputs": [],
   "source": [
    "%%time\n",
    "lgbm_reg = LGBMRegressor()\n",
    "lgbm_reg_CV = GridSearchCV(estimator=lgbm_reg,\n",
    "                   param_grid=parameters,\n",
    "                   scoring='neg_root_mean_squared_error',\n",
    "                   cv=5,\n",
    "                   verbose=0)\n",
    "lgbm_reg_CV.fit(X_train, y_train)"
   ]
  },
  {
   "cell_type": "code",
   "execution_count": null,
   "metadata": {},
   "outputs": [],
   "source": [
    "lgbm_reg_CV.best_params_"
   ]
  },
  {
   "cell_type": "code",
   "execution_count": null,
   "metadata": {},
   "outputs": [],
   "source": [
    "start_lgbm_reg = time.time()\n",
    "\n",
    "lgbm_reg = LGBMRegressor(boosting_type='gbdt', max_depth=10, n_estimators=500)\n",
    "lgbm_reg.fit(X_train, y_train)\n",
    "\n",
    "end_lgbm_reg = time.time()\n",
    "elapced_time_lgbm_reg = end_lgbm_reg - start_lgbm_reg \n",
    "print(elapced_time_lgbm_reg)"
   ]
  },
  {
   "cell_type": "code",
   "execution_count": null,
   "metadata": {},
   "outputs": [],
   "source": [
    "start_pred_lgbm_reg = time.time()\n",
    "pred_lgbm_reg = lgbm_reg.predict(X_valid)\n",
    "end_pred_lgbm_reg = time.time()\n",
    "\n",
    "elapced_time_lgbm_reg_pred = end_pred_lgbm_reg - start_pred_lgbm_reg\n",
    "\n",
    "print_metric(y_valid, pred_lgbm_reg)\n",
    "print(elapced_time_lgbm_reg_pred)"
   ]
  },
  {
   "cell_type": "markdown",
   "metadata": {},
   "source": [
    "<div class=\"alert alert-block alert-danger\">\n",
    "<h2> Комментарий ревьюера №3<a class=\"tocSkip\"></h2>\n",
    "\n",
    "    \n",
    "<b>На доработку🤔:</b>\n",
    "    \n",
    "Здесь predict также стоит сделать на валидационных данных, а перед этим в валидационной выборке также изменить тип категориальных данных на category"
   ]
  },
  {
   "attachments": {
    "params_LGBM.jpg": {
     "image/jpeg": "[encoded data removed]"
    }
   },
   "cell_type": "markdown",
   "metadata": {},
   "source": [
    "![params_LGBM.jpg](attachment:params_LGBM.jpg)"
   ]
  },
  {
   "attachments": {
    "LGBM.jpg": {
     "image/jpeg": "[encoded data removed]"
    }
   },
   "cell_type": "markdown",
   "metadata": {},
   "source": [
    "![LGBM.jpg](attachment:LGBM.jpg)"
   ]
  },
  {
   "attachments": {
    "LGBM_reg.jpg": {
     "image/jpeg": "[encoded data removed]"
    }
   },
   "cell_type": "markdown",
   "metadata": {},
   "source": [
    "![LGBM_reg.jpg](attachment:LGBM_reg.jpg)"
   ]
  },
  {
   "cell_type": "markdown",
   "metadata": {},
   "source": [
    "\n",
    "<div class=\"alert alert-block alert-danger\">\n",
    "<h2> Комментарий ревьюера <a class=\"tocSkip\"></h2>\n",
    "\n",
    "    \n",
    "<b>На доработку🤔:</b>\n",
    "    \n",
    "Пропиши, пожалуйста, код, чтобы можно было его прогрузить и проверить его работоспособность."
   ]
  },
  {
   "cell_type": "markdown",
   "metadata": {},
   "source": [
    "### CatBoost"
   ]
  },
  {
   "cell_type": "markdown",
   "metadata": {},
   "source": [
    "<div class=\"alert alert-block alert-danger\">\n",
    "<h2> Комментарий ревьюера <a class=\"tocSkip\"></h2>\n",
    "\n",
    "    \n",
    "<b>На доработку🤔:</b>\n",
    "    \n",
    "Для CatBoost стоит использовать порядковое кодирование категориальных переменных.\n",
    "    \n",
    "Либо воспользоваться внутренним алгоритмом кодирования, то есть подавать в модель незакодированные предварительно фичи.\n",
    "    \n",
    "Пример:\n",
    "    \n",
    "https://towardsdatascience.com/how-do-you-use-categorical-features-directly-with-catboost-947b211c2923"
   ]
  },
  {
   "cell_type": "code",
   "execution_count": null,
   "metadata": {},
   "outputs": [],
   "source": [
    "cat_cols = ['vehicletype', 'gearbox', 'model', 'fueltype', 'brand']"
   ]
  },
  {
   "cell_type": "markdown",
   "metadata": {},
   "source": [
    "<div class=\"alert alert-block alert-danger\">\n",
    "<h2> Комментарий ревьюера <a class=\"tocSkip\"></h2>\n",
    "\n",
    "    \n",
    "<b>На доработку🤔:</b>\n",
    "    \n",
    "Если код рабочий и нужный в проекте, пожалуйста, раскомментируй его. Ненужный стоит убрать."
   ]
  },
  {
   "cell_type": "code",
   "execution_count": null,
   "metadata": {},
   "outputs": [],
   "source": [
    "start_cb_update = time.time()\n",
    "\n",
    "cb_update = CatBoostRegressor(iterations=50, depth=10, loss_function='RMSE')\n",
    "cb_update.fit(\n",
    "    X_train,\n",
    "    y_train,\n",
    "    cat_features=cat_cols, \n",
    "    eval_set=(X_valid, y_valid),\n",
    "    verbose=False,\n",
    "    plot=False\n",
    ")\n",
    "end_cb_update = time.time()\n",
    "elapced_time_cb_update = end_cb_update - start_cb_update\n",
    "print(elapced_time_cb_update)"
   ]
  },
  {
   "cell_type": "code",
   "execution_count": null,
   "metadata": {},
   "outputs": [],
   "source": [
    "start_cb_update_pred = time.time()\n",
    "pred_cb = cb_update.predict(X_valid)\n",
    "end_cb_update_pred = time.time()\n",
    "elapced_time_cb_update_pred = end_cb_update_pred - start_cb_update_pred\n",
    "\n",
    "print_metric(y_valid, pred_cb)\n",
    "print(elapced_time_cb_update_pred)"
   ]
  },
  {
   "cell_type": "markdown",
   "metadata": {},
   "source": [
    "**Вывод:** \n",
    "* были обучены три модели: `линейная регрессия`, `LightGBM Regressor` и `CatBoost Regressor`. \n",
    "* для улучшения результата была применена кросс-валидация с подбором гиперпараметров.\n",
    "* при установлении гиперпараметров результаты улучшились."
   ]
  },
  {
   "cell_type": "markdown",
   "metadata": {},
   "source": [
    "## Анализ моделей"
   ]
  },
  {
   "cell_type": "markdown",
   "metadata": {},
   "source": [
    "Визуализируем данные: "
   ]
  },
  {
   "cell_type": "code",
   "execution_count": null,
   "metadata": {},
   "outputs": [],
   "source": [
    "data_score = pd.DataFrame(np.array([[np.sqrt(mean_squared_error(y_valid, lr.predict(X_valid_ohe))), elapced_time_lr], \n",
    "                                  [np.sqrt(mean_squared_error(y_valid, lgbm_reg.predict(X_valid))), elapced_time_lgbm_reg], \n",
    "                                  [np.sqrt(mean_squared_error(y_valid, cb_update.predict(X_valid))), elapced_time_cb_update]]),\n",
    "                        columns=['RMSE', 'Время обучения'],\n",
    "                        index=['Линейная регрессия', 'LightGBM Regressor', 'CatBoost Regressor']\n",
    "                       )\n",
    "data_score.apply(lambda x: np.round(x, decimals = 2))"
   ]
  },
  {
   "cell_type": "markdown",
   "metadata": {},
   "source": [
    "## Проверка лучшей модели: "
   ]
  },
  {
   "cell_type": "markdown",
   "metadata": {},
   "source": [
    "Лучшую метрику показал `LightGBM Regressor`, а время обучения - `CatBoost Regressor`. Проверим модели на тестовой выборке."
   ]
  },
  {
   "cell_type": "code",
   "execution_count": null,
   "metadata": {},
   "outputs": [],
   "source": [
    "lgbm_test = LGBMRegressor(boosting_type='gbdt', max_depth=10, n_estimators=500)\n",
    "lgbm_test.fit(X_test, y_test)\n",
    "pred_lgbm_test = lgbm_test.predict(X_test)\n",
    "print_metric(y_test, pred_lgbm_test)"
   ]
  },
  {
   "cell_type": "code",
   "execution_count": null,
   "metadata": {},
   "outputs": [],
   "source": [
    "cb_test = CatBoostRegressor(iterations=50, depth=10, loss_function='RMSE')\n",
    "cb_test.fit(\n",
    "    X_test,\n",
    "    y_test,\n",
    "    cat_features=cat_cols, \n",
    "    eval_set=(X_valid, y_valid),\n",
    "    verbose=False,\n",
    "    plot=False\n",
    ")\n",
    "pred_cb_test = cb_test.predict(X_test)\n",
    "print_metric(y_test, pred_cb_test)"
   ]
  },
  {
   "cell_type": "markdown",
   "metadata": {},
   "source": [
    "**Вывод:** лучший результат показал `LightGBM Regressor`"
   ]
  },
  {
   "cell_type": "markdown",
   "metadata": {},
   "source": [
    "<div class=\"alert alert-block alert-danger\">\n",
    "<h2> Комментарий ревьюера №4<a class=\"tocSkip\"></h2>\n",
    "\n",
    "    \n",
    "<b>На доработку🤔:</b>\n",
    "    \n",
    "Сравнени моделей стоит проводить по результатам на валидаионной выборке.\n",
    "    \n",
    "Также не стоит дублировать код с вычислениями.\n",
    "    \n",
    "На тестовой выборке стоит проверять только лучшую модель."
   ]
  },
  {
   "cell_type": "markdown",
   "metadata": {},
   "source": [
    "**Вывод:** лучшая метрика у `LightGBM Regressor`"
   ]
  },
  {
   "cell_type": "markdown",
   "metadata": {},
   "source": [
    "<div class=\"alert alert-block alert-danger\">\n",
    "<h2> Комментарий ревьюера №3<a class=\"tocSkip\"></h2>\n",
    "\n",
    "    \n",
    "<b>На доработку🤔:</b>\n",
    "    \n",
    "Здесь для сравнения стоит использовать RMSE на валидационной выборке.\n",
    "    \n",
    "Кроме того, чтобы не дублировался код, стоит использовать вычисления метрики сделанные ранее по проекту. \n",
    "    \n",
    "После того, как выбрана лучшая модель исходя из результатов моделей на валидационной выборке стоит проверить ее на тестовой выборке. Ранее по проекту использование тестовой выборки стоит исключить."
   ]
  },
  {
   "cell_type": "markdown",
   "metadata": {},
   "source": [
    "<div class=\"alert alert-success\">\n",
    "<h2> Комментарий ревьюера <a class=\"tocSkip\"> </h2>\n",
    "\n",
    "<b>Все отлично!👍:</b> \n",
    "    \n",
    "Молодец, что сводишь все результаты в таблицу."
   ]
  },
  {
   "cell_type": "markdown",
   "metadata": {},
   "source": [
    "<div class=\"alert alert-warning\">\n",
    "    <h2> Комментарий ревьюера <a class=\"tocSkip\"> </h2>\n",
    "    \n",
    "<b>Некоторые замечания и рекомендации💡:</b> \n",
    "        \n",
    "Не стоит вручную вписывать числа, чтобы при изменениях или перезапусках не было несоответствия,также стоит сохранять все результаты в переменные, чтобы не повторять вычисления.\n",
    "        \n",
    "Кроме того можно сравнить качество лучшей модели с константной."
   ]
  },
  {
   "cell_type": "markdown",
   "metadata": {},
   "source": [
    "**Вывод:** \n",
    "* быстрее всех обучается `Линейная регрессия`;\n",
    "* самый низкий RMSE у `LightGBM Regressor`;\n",
    "\n",
    "При самом низком RMSE у LightGBM Regressor самая выокая скорость обучения. Наиболее оптимальным является `CatBoost Regressor`."
   ]
  },
  {
   "cell_type": "markdown",
   "metadata": {},
   "source": [
    "<div class=\"alert alert-block alert-danger\">\n",
    "<h2> Комментарий ревьюера <a class=\"tocSkip\"></h2>\n",
    "\n",
    "    \n",
    "<b>На доработку🤔:</b>\n",
    "    \n",
    "После того, как выбрана лучшая модель по результатам кросс-валидации или на валидационной выборке стоит проверить ее на тестовой выборке. Ранее по проекту использование тестовой выборки стоит исключить."
   ]
  },
  {
   "cell_type": "markdown",
   "metadata": {},
   "source": [
    "## Заключение"
   ]
  },
  {
   "cell_type": "markdown",
   "metadata": {},
   "source": [
    "Получив данные мы провели разведывательный анализ в ходе которого были устранены пропуски в данных, преобразованы переменные и удалены дупликаты. Далее отдельно были выделены категориальные и количественные переменные. Отбросили все перменные связанные с датой, 'numberofpictures', 'postalcode'. Затем разделили данные на выборки. Для тестовой выборки выделили 40% датасета. Так как задача проекта - задача регрессии, категориальные признаки было необходимо преобразовать в количественные, а затем их масштабировать. Для упрощения получения основной метрики (RMSE) была написана функция.\n",
    "\n",
    "В ходе проекта были обучены три модели: `линейная регрессия`, `LightGBM Regressor` и `CatBoost Regressor`. Для улучшения результата применили кросс-валидация с подбором гиперпараметров. С измененными гиперпараметрами оценки улучшились. \n",
    "\n",
    "По итогам, быстрее всех обучается Линейная регрессия, самый низкий RMSE у LightGBM Regressor. Однако при самом низком RMSE у LightGBM Regressor самая выокая скорость обучения. Таким образом, наиболее оптимальным является CatBoost Regressor."
   ]
  },
  {
   "cell_type": "markdown",
   "metadata": {},
   "source": [
    "<div class=\"alert alert-warning\">\n",
    "    <h2> Комментарий ревьюера <a class=\"tocSkip\"> </h2>\n",
    "    \n",
    "<b>Некоторые замечания и рекомендации💡:</b> \n",
    "        \n",
    "Здесь я оставлю несколько интересных и полезных ссылок по теме:\n",
    "        \n",
    "        \n",
    "1. \"XGBoost, LightGBM or CatBoost — which boosting algorithm should I use?\"\n",
    "\n",
    "https://medium.com/riskified-technology/xgboost-lightgbm-or-catboost-which-boosting-algorithm-should-i-use-e7fda7bb36bc\n",
    "        \n",
    "        \n",
    "2. \"Transforming categorical features to numerical features\"\n",
    "        \n",
    "https://catboost.ai/en/docs/concepts/algorithm-main-stages_cat-to-numberic\n",
    "        \n",
    "        \n",
    "3. \"Градиентный Бустинг: самый частый вопрос на собеседовании на дата саентиста\"\n",
    "        \n",
    "https://www.youtube.com/watch?v=ZNJ3lKyI-EY\n",
    "        \n",
    "4. \"Tutorial: CatBoost Overview\"\n",
    "        \n",
    "https://www.kaggle.com/code/mitribunskiy/tutorial-catboost-overview/notebook\n",
    "        \n",
    "5. \"Gradient Boosting from scratch\"\n",
    "        \n",
    "https://blog.mlreview.com/gradient-boosting-from-scratch-1e317ae4587d"
   ]
  },
  {
   "cell_type": "markdown",
   "metadata": {},
   "source": [
    "<div style=\"border:solid Chocolate 2px; padding: 40px\">\n",
    "    \n",
    "<b>Общий вывод по проекту</b>\n",
    "\n",
    "Антон, спасибо за работу! Проект хороший, однако стоит внести некоторые исправления, чтобы можно было считать проект завершенным.\n",
    "\n",
    "**Положительные моменты проекта, которые хочу еще раз подчеркнуть:**\n",
    "\n",
    "1. Удалены лишние признаки и константный признак\n",
    "2. Есть промежуточные выводы по ходу анализа признаков\n",
    "3. Есть обработка пропущенных значений\n",
    "4. Есть анализ времени обучения моделей\n",
    "\n",
    "**Замечания, на которые стоит обратить внимание при будущей работе:**\n",
    "    \n",
    "    1. Добавить в проект код для анализа LightGBM\n",
    "    2. Для LightGBM и CatBoost стоит использовать соответствующий метод кодирования\n",
    "    3. Стоит измерить время на predict для каждой модели\n",
    "    4. Модели выбирать по результатам кросс-валидации или на валидационной выборке\n",
    "    5. На тестовой выборке стоит проверять только лучшую модель\n",
    "    6. Стоит исправить one-hot кодирование\n",
    "    7. Стоит обработать аномалии в численных признаках и удалить дубликаты.\n",
    "\n",
    "    \n",
    "    \n",
    "Остальные комментарии ты найдешь выше.\n",
    "\n",
    "**Желаю удачи и жду твой проект на повторное ревью!**"
   ]
  },
  {
   "cell_type": "markdown",
   "metadata": {},
   "source": [
    "<div style=\"border:solid Chocolate 2px; padding: 40px\">\n",
    "    \n",
    "<b>Общий вывод по проекту №2</b>\n",
    "\n",
    "Антон, спасибо за работу,\n",
    "    \n",
    "Что осталось поправить:\n",
    "    \n",
    "    1. Раскомментировать рабочий код, убрать ненужный код\n",
    "    2. Исправить масштабирование\n",
    "    3. Модели выбирать по результатам кросс-валидации или на валидационной выборке\n",
    "    4. На тестовой выборке стоит проверять только лучшую модель\n",
    "    \n",
    "**Жду твой проект на следующее ревью**"
   ]
  },
  {
   "cell_type": "markdown",
   "metadata": {},
   "source": [
    "<div style=\"border:solid Chocolate 2px; padding: 40px\">\n",
    "    \n",
    "<b>Общий вывод по проекту №3</b>\n",
    "\n",
    "Антон, спасибо за работу,\n",
    "    \n",
    "Что оcталось поправить:\n",
    "    \n",
    "    1. исправить one-hot выборки\n",
    "    2. обучение проводить на тренировочных данных\n",
    "    3. оценку качества в процессе анализа (в процессе работы вплоть до финального этапа) стоит проводить на валидационной выборке.\n",
    "    4. После того, как выбрана лучшая модель по результатам на валидационной выборке, стоит проверить ее на тестовой выборке (дополнительная проверка лучшей модели).\n",
    "    5. Исправить ошибку в коде\n",
    "    6. Для LightGBM использовать данные, которые для него подготовлены (с типом категориальных данных category)\n",
    "    \n",
    "**Жду твой проект на следующее ревью**"
   ]
  },
  {
   "cell_type": "markdown",
   "metadata": {},
   "source": [
    "<div style=\"border:solid Chocolate 2px; padding: 40px\">\n",
    "    \n",
    "<b>Общий вывод по проекту №4</b>\n",
    "\n",
    "Антон, спасибо за работу,\n",
    "    \n",
    "Что осталось исправить:\n",
    "    \n",
    "    1. ошибку в коде\n",
    "    2. исправить one-hot выборки\n",
    "    3. сравнение моделей стоит проводить на валидационной выборке\n",
    "    4. на тестовой выборке стоит проверять только лучшую модель после того, как она выбрана\n",
    "    5. Также не стоит дублировать код с вычислениями\n",
    "    \n",
    "**Жду твой проект на следующее ревью**\n"
   ]
  },
  {
   "cell_type": "markdown",
   "metadata": {},
   "source": [
    "<div style=\"border:solid Chocolate 2px; padding: 40px\">\n",
    "    \n",
    "<b>Общий вывод по проекту №5</b>\n",
    "\n",
    "Антон, спасибо за работу,\n",
    "    \n",
    "**все хорошо, проект принимаю и желаю успехов в дальнейшем!**"
   ]
  }
 ],
 "metadata": {
  "ExecuteTimeLog": [
   {
    "duration": 405,
    "start_time": "2023-03-19T11:35:38.693Z"
   },
   {
    "duration": 112,
    "start_time": "2023-03-19T11:35:48.190Z"
   },
   {
    "duration": 59,
    "start_time": "2023-03-19T11:36:02.098Z"
   },
   {
    "duration": 43,
    "start_time": "2023-03-19T11:36:14.414Z"
   },
   {
    "duration": 67,
    "start_time": "2023-03-19T11:36:24.756Z"
   },
   {
    "duration": 53,
    "start_time": "2023-03-19T11:36:31.903Z"
   },
   {
    "duration": 44,
    "start_time": "2023-03-19T11:38:19.089Z"
   },
   {
    "duration": 386,
    "start_time": "2023-03-19T11:44:17.603Z"
   },
   {
    "duration": 109,
    "start_time": "2023-03-19T11:44:17.991Z"
   },
   {
    "duration": 3311,
    "start_time": "2023-03-19T11:45:14.509Z"
   },
   {
    "duration": 442,
    "start_time": "2023-03-23T07:22:00.565Z"
   },
   {
    "duration": 1340,
    "start_time": "2023-03-23T07:22:01.009Z"
   },
   {
    "duration": 933,
    "start_time": "2023-03-23T07:22:11.190Z"
   },
   {
    "duration": 141,
    "start_time": "2023-03-23T07:23:48.538Z"
   },
   {
    "duration": 938,
    "start_time": "2023-03-23T07:24:50.522Z"
   },
   {
    "duration": 146,
    "start_time": "2023-03-23T07:24:54.941Z"
   },
   {
    "duration": 23,
    "start_time": "2023-03-23T07:25:41.790Z"
   },
   {
    "duration": 4,
    "start_time": "2023-03-23T07:28:12.785Z"
   },
   {
    "duration": 143,
    "start_time": "2023-03-23T07:28:22.293Z"
   },
   {
    "duration": 511,
    "start_time": "2023-03-23T07:39:45.894Z"
   },
   {
    "duration": 485,
    "start_time": "2023-03-23T07:40:10.644Z"
   },
   {
    "duration": 471,
    "start_time": "2023-03-23T07:40:13.023Z"
   },
   {
    "duration": 1030,
    "start_time": "2023-03-23T07:40:30.921Z"
   },
   {
    "duration": 1199,
    "start_time": "2023-03-23T07:41:00.027Z"
   },
   {
    "duration": 1149,
    "start_time": "2023-03-23T07:41:10.314Z"
   },
   {
    "duration": 148,
    "start_time": "2023-03-23T07:43:27.381Z"
   },
   {
    "duration": 195,
    "start_time": "2023-03-23T07:45:02.723Z"
   },
   {
    "duration": 3,
    "start_time": "2023-03-23T07:46:28.223Z"
   },
   {
    "duration": 221,
    "start_time": "2023-03-23T07:46:43.291Z"
   },
   {
    "duration": 23,
    "start_time": "2023-03-23T07:47:25.273Z"
   },
   {
    "duration": 1017,
    "start_time": "2023-03-23T07:48:06.222Z"
   },
   {
    "duration": 390,
    "start_time": "2023-03-23T07:48:18.093Z"
   },
   {
    "duration": 3,
    "start_time": "2023-03-23T07:55:38.712Z"
   },
   {
    "duration": 807,
    "start_time": "2023-03-23T07:56:24.529Z"
   },
   {
    "duration": 32,
    "start_time": "2023-03-23T08:04:14.509Z"
   },
   {
    "duration": 2409,
    "start_time": "2023-03-23T08:05:12.549Z"
   },
   {
    "duration": 468,
    "start_time": "2023-03-23T08:05:20.186Z"
   },
   {
    "duration": 514,
    "start_time": "2023-03-23T08:05:26.786Z"
   },
   {
    "duration": 342,
    "start_time": "2023-03-23T08:05:34.608Z"
   },
   {
    "duration": 1734,
    "start_time": "2023-03-23T08:05:55.511Z"
   },
   {
    "duration": 396,
    "start_time": "2023-03-23T08:06:40.982Z"
   },
   {
    "duration": 5,
    "start_time": "2023-03-23T08:20:30.550Z"
   },
   {
    "duration": 4,
    "start_time": "2023-03-23T08:20:34.090Z"
   },
   {
    "duration": 5,
    "start_time": "2023-03-23T08:20:34.258Z"
   },
   {
    "duration": 6,
    "start_time": "2023-03-23T08:20:34.391Z"
   },
   {
    "duration": 5,
    "start_time": "2023-03-23T08:20:35.439Z"
   },
   {
    "duration": 395,
    "start_time": "2023-03-23T08:20:58.045Z"
   },
   {
    "duration": 37,
    "start_time": "2023-03-23T08:21:33.040Z"
   },
   {
    "duration": 22,
    "start_time": "2023-03-23T08:21:48.673Z"
   },
   {
    "duration": 5,
    "start_time": "2023-03-23T08:21:55.385Z"
   },
   {
    "duration": 113,
    "start_time": "2023-03-23T08:22:21.954Z"
   },
   {
    "duration": 7,
    "start_time": "2023-03-23T08:22:23.234Z"
   },
   {
    "duration": 4,
    "start_time": "2023-03-23T08:23:07.020Z"
   },
   {
    "duration": 679,
    "start_time": "2023-03-23T08:23:23.636Z"
   },
   {
    "duration": 81,
    "start_time": "2023-03-23T08:23:25.325Z"
   },
   {
    "duration": 4,
    "start_time": "2023-03-23T08:23:45.144Z"
   },
   {
    "duration": 3,
    "start_time": "2023-03-23T08:24:19.222Z"
   },
   {
    "duration": 24,
    "start_time": "2023-03-23T08:25:18.940Z"
   },
   {
    "duration": 3141,
    "start_time": "2023-03-23T08:26:03.261Z"
   },
   {
    "duration": 14,
    "start_time": "2023-03-23T08:26:09.942Z"
   },
   {
    "duration": 79,
    "start_time": "2023-03-23T08:27:22.324Z"
   },
   {
    "duration": 5,
    "start_time": "2023-03-23T08:27:39.490Z"
   },
   {
    "duration": 6,
    "start_time": "2023-03-23T08:29:34.224Z"
   },
   {
    "duration": 4556,
    "start_time": "2023-03-23T08:30:56.256Z"
   },
   {
    "duration": 7,
    "start_time": "2023-03-23T08:33:08.631Z"
   },
   {
    "duration": 58,
    "start_time": "2023-03-23T08:51:52.233Z"
   },
   {
    "duration": 0,
    "start_time": "2023-03-23T08:51:52.293Z"
   },
   {
    "duration": 0,
    "start_time": "2023-03-23T08:51:52.295Z"
   },
   {
    "duration": 0,
    "start_time": "2023-03-23T08:51:52.296Z"
   },
   {
    "duration": 0,
    "start_time": "2023-03-23T08:51:52.298Z"
   },
   {
    "duration": 0,
    "start_time": "2023-03-23T08:51:52.299Z"
   },
   {
    "duration": 0,
    "start_time": "2023-03-23T08:51:52.300Z"
   },
   {
    "duration": 0,
    "start_time": "2023-03-23T08:51:52.302Z"
   },
   {
    "duration": 0,
    "start_time": "2023-03-23T08:51:52.302Z"
   },
   {
    "duration": 0,
    "start_time": "2023-03-23T08:51:52.303Z"
   },
   {
    "duration": 0,
    "start_time": "2023-03-23T08:51:52.304Z"
   },
   {
    "duration": 0,
    "start_time": "2023-03-23T08:51:52.305Z"
   },
   {
    "duration": 0,
    "start_time": "2023-03-23T08:51:52.305Z"
   },
   {
    "duration": 0,
    "start_time": "2023-03-23T08:51:52.306Z"
   },
   {
    "duration": 0,
    "start_time": "2023-03-23T08:51:52.308Z"
   },
   {
    "duration": 0,
    "start_time": "2023-03-23T08:51:52.309Z"
   },
   {
    "duration": 0,
    "start_time": "2023-03-23T08:51:52.309Z"
   },
   {
    "duration": 0,
    "start_time": "2023-03-23T08:51:52.310Z"
   },
   {
    "duration": 0,
    "start_time": "2023-03-23T08:51:52.313Z"
   },
   {
    "duration": 0,
    "start_time": "2023-03-23T08:51:52.316Z"
   },
   {
    "duration": 0,
    "start_time": "2023-03-23T08:51:52.318Z"
   },
   {
    "duration": 0,
    "start_time": "2023-03-23T08:51:52.319Z"
   },
   {
    "duration": 0,
    "start_time": "2023-03-23T08:51:52.319Z"
   },
   {
    "duration": 0,
    "start_time": "2023-03-23T08:51:52.321Z"
   },
   {
    "duration": 78,
    "start_time": "2023-03-23T08:52:32.237Z"
   },
   {
    "duration": 1637,
    "start_time": "2023-03-23T08:52:41.133Z"
   },
   {
    "duration": 1624,
    "start_time": "2023-03-23T08:53:58.029Z"
   },
   {
    "duration": 1225,
    "start_time": "2023-03-23T08:53:59.655Z"
   },
   {
    "duration": 32,
    "start_time": "2023-03-23T08:54:00.882Z"
   },
   {
    "duration": 232,
    "start_time": "2023-03-23T08:54:00.916Z"
   },
   {
    "duration": 38,
    "start_time": "2023-03-23T08:54:01.151Z"
   },
   {
    "duration": 203,
    "start_time": "2023-03-23T08:54:01.191Z"
   },
   {
    "duration": 0,
    "start_time": "2023-03-23T08:54:01.396Z"
   },
   {
    "duration": 0,
    "start_time": "2023-03-23T08:54:01.402Z"
   },
   {
    "duration": 1,
    "start_time": "2023-03-23T08:54:01.402Z"
   },
   {
    "duration": 0,
    "start_time": "2023-03-23T08:54:01.403Z"
   },
   {
    "duration": 0,
    "start_time": "2023-03-23T08:54:01.404Z"
   },
   {
    "duration": 0,
    "start_time": "2023-03-23T08:54:01.405Z"
   },
   {
    "duration": 0,
    "start_time": "2023-03-23T08:54:01.406Z"
   },
   {
    "duration": 0,
    "start_time": "2023-03-23T08:54:01.407Z"
   },
   {
    "duration": 0,
    "start_time": "2023-03-23T08:54:01.409Z"
   },
   {
    "duration": 0,
    "start_time": "2023-03-23T08:54:01.410Z"
   },
   {
    "duration": 0,
    "start_time": "2023-03-23T08:54:01.411Z"
   },
   {
    "duration": 0,
    "start_time": "2023-03-23T08:54:01.414Z"
   },
   {
    "duration": 0,
    "start_time": "2023-03-23T08:54:01.415Z"
   },
   {
    "duration": 0,
    "start_time": "2023-03-23T08:54:01.416Z"
   },
   {
    "duration": 0,
    "start_time": "2023-03-23T08:54:01.418Z"
   },
   {
    "duration": 0,
    "start_time": "2023-03-23T08:54:01.419Z"
   },
   {
    "duration": 0,
    "start_time": "2023-03-23T08:54:01.420Z"
   },
   {
    "duration": 0,
    "start_time": "2023-03-23T08:54:01.422Z"
   },
   {
    "duration": 1963,
    "start_time": "2023-03-23T08:54:18.900Z"
   },
   {
    "duration": 1115,
    "start_time": "2023-03-23T08:54:20.867Z"
   },
   {
    "duration": 40,
    "start_time": "2023-03-23T08:54:21.984Z"
   },
   {
    "duration": 242,
    "start_time": "2023-03-23T08:54:22.027Z"
   },
   {
    "duration": 5,
    "start_time": "2023-03-23T08:54:22.272Z"
   },
   {
    "duration": 197,
    "start_time": "2023-03-23T08:54:22.279Z"
   },
   {
    "duration": 0,
    "start_time": "2023-03-23T08:54:22.480Z"
   },
   {
    "duration": 0,
    "start_time": "2023-03-23T08:54:22.481Z"
   },
   {
    "duration": 0,
    "start_time": "2023-03-23T08:54:22.482Z"
   },
   {
    "duration": 0,
    "start_time": "2023-03-23T08:54:22.503Z"
   },
   {
    "duration": 0,
    "start_time": "2023-03-23T08:54:22.510Z"
   },
   {
    "duration": 0,
    "start_time": "2023-03-23T08:54:22.512Z"
   },
   {
    "duration": 0,
    "start_time": "2023-03-23T08:54:22.513Z"
   },
   {
    "duration": 0,
    "start_time": "2023-03-23T08:54:22.514Z"
   },
   {
    "duration": 0,
    "start_time": "2023-03-23T08:54:22.517Z"
   },
   {
    "duration": 0,
    "start_time": "2023-03-23T08:54:22.519Z"
   },
   {
    "duration": 0,
    "start_time": "2023-03-23T08:54:22.521Z"
   },
   {
    "duration": 0,
    "start_time": "2023-03-23T08:54:22.522Z"
   },
   {
    "duration": 0,
    "start_time": "2023-03-23T08:54:22.524Z"
   },
   {
    "duration": 0,
    "start_time": "2023-03-23T08:54:22.525Z"
   },
   {
    "duration": 0,
    "start_time": "2023-03-23T08:54:22.527Z"
   },
   {
    "duration": 0,
    "start_time": "2023-03-23T08:54:22.528Z"
   },
   {
    "duration": 0,
    "start_time": "2023-03-23T08:54:22.530Z"
   },
   {
    "duration": 0,
    "start_time": "2023-03-23T08:54:22.532Z"
   },
   {
    "duration": 13,
    "start_time": "2023-03-23T08:54:31.874Z"
   },
   {
    "duration": 1591,
    "start_time": "2023-03-23T08:54:41.639Z"
   },
   {
    "duration": 1102,
    "start_time": "2023-03-23T08:54:43.233Z"
   },
   {
    "duration": 19,
    "start_time": "2023-03-23T08:54:44.337Z"
   },
   {
    "duration": 201,
    "start_time": "2023-03-23T08:54:44.358Z"
   },
   {
    "duration": 6,
    "start_time": "2023-03-23T08:54:44.561Z"
   },
   {
    "duration": 179,
    "start_time": "2023-03-23T08:54:44.569Z"
   },
   {
    "duration": 643,
    "start_time": "2023-03-23T08:54:44.750Z"
   },
   {
    "duration": 1282,
    "start_time": "2023-03-23T08:54:45.395Z"
   },
   {
    "duration": 305,
    "start_time": "2023-03-23T08:54:46.678Z"
   },
   {
    "duration": 4,
    "start_time": "2023-03-23T08:54:46.985Z"
   },
   {
    "duration": 228,
    "start_time": "2023-03-23T08:54:46.991Z"
   },
   {
    "duration": 17,
    "start_time": "2023-03-23T08:54:47.222Z"
   },
   {
    "duration": 504,
    "start_time": "2023-03-23T08:54:47.241Z"
   },
   {
    "duration": 4,
    "start_time": "2023-03-23T08:54:47.749Z"
   },
   {
    "duration": 106,
    "start_time": "2023-03-23T08:54:47.755Z"
   },
   {
    "duration": 25,
    "start_time": "2023-03-23T08:54:47.863Z"
   },
   {
    "duration": 170,
    "start_time": "2023-03-23T08:54:47.890Z"
   },
   {
    "duration": 7,
    "start_time": "2023-03-23T08:54:48.062Z"
   },
   {
    "duration": 820,
    "start_time": "2023-03-23T08:54:48.072Z"
   },
   {
    "duration": 70,
    "start_time": "2023-03-23T08:54:48.894Z"
   },
   {
    "duration": 5,
    "start_time": "2023-03-23T08:54:48.966Z"
   },
   {
    "duration": 4152,
    "start_time": "2023-03-23T08:54:48.973Z"
   },
   {
    "duration": 94,
    "start_time": "2023-03-23T08:54:53.128Z"
   },
   {
    "duration": 3215,
    "start_time": "2023-03-23T08:54:53.298Z"
   },
   {
    "duration": 3754,
    "start_time": "2023-03-23T08:55:10.673Z"
   },
   {
    "duration": 1616,
    "start_time": "2023-03-23T08:58:13.788Z"
   },
   {
    "duration": 1013,
    "start_time": "2023-03-23T08:58:15.410Z"
   },
   {
    "duration": 18,
    "start_time": "2023-03-23T08:58:16.425Z"
   },
   {
    "duration": 174,
    "start_time": "2023-03-23T08:58:16.445Z"
   },
   {
    "duration": 36,
    "start_time": "2023-03-23T08:58:16.623Z"
   },
   {
    "duration": 223,
    "start_time": "2023-03-23T08:58:16.661Z"
   },
   {
    "duration": 596,
    "start_time": "2023-03-23T08:58:16.886Z"
   },
   {
    "duration": 1209,
    "start_time": "2023-03-23T08:58:17.485Z"
   },
   {
    "duration": 223,
    "start_time": "2023-03-23T08:58:18.697Z"
   },
   {
    "duration": 3,
    "start_time": "2023-03-23T08:58:18.924Z"
   },
   {
    "duration": 228,
    "start_time": "2023-03-23T08:58:18.929Z"
   },
   {
    "duration": 25,
    "start_time": "2023-03-23T08:58:19.159Z"
   },
   {
    "duration": 450,
    "start_time": "2023-03-23T08:58:19.185Z"
   },
   {
    "duration": 4,
    "start_time": "2023-03-23T08:58:19.637Z"
   },
   {
    "duration": 114,
    "start_time": "2023-03-23T08:58:19.642Z"
   },
   {
    "duration": 4,
    "start_time": "2023-03-23T08:58:19.759Z"
   },
   {
    "duration": 121,
    "start_time": "2023-03-23T08:58:19.765Z"
   },
   {
    "duration": 5,
    "start_time": "2023-03-23T08:58:19.888Z"
   },
   {
    "duration": 799,
    "start_time": "2023-03-23T08:58:19.894Z"
   },
   {
    "duration": 65,
    "start_time": "2023-03-23T08:58:20.701Z"
   },
   {
    "duration": 3,
    "start_time": "2023-03-23T08:58:20.768Z"
   },
   {
    "duration": 3527,
    "start_time": "2023-03-23T08:58:20.773Z"
   },
   {
    "duration": 1682,
    "start_time": "2023-03-23T09:00:42.097Z"
   },
   {
    "duration": 1009,
    "start_time": "2023-03-23T09:00:43.782Z"
   },
   {
    "duration": 23,
    "start_time": "2023-03-23T09:00:44.793Z"
   },
   {
    "duration": 176,
    "start_time": "2023-03-23T09:00:44.818Z"
   },
   {
    "duration": 3,
    "start_time": "2023-03-23T09:00:44.997Z"
   },
   {
    "duration": 178,
    "start_time": "2023-03-23T09:00:45.002Z"
   },
   {
    "duration": 595,
    "start_time": "2023-03-23T09:00:45.182Z"
   },
   {
    "duration": 1243,
    "start_time": "2023-03-23T09:00:45.779Z"
   },
   {
    "duration": 292,
    "start_time": "2023-03-23T09:00:47.024Z"
   },
   {
    "duration": 3,
    "start_time": "2023-03-23T09:00:47.320Z"
   },
   {
    "duration": 230,
    "start_time": "2023-03-23T09:00:47.325Z"
   },
   {
    "duration": 18,
    "start_time": "2023-03-23T09:00:47.557Z"
   },
   {
    "duration": 584,
    "start_time": "2023-03-23T09:00:47.577Z"
   },
   {
    "duration": 4,
    "start_time": "2023-03-23T09:00:48.163Z"
   },
   {
    "duration": 98,
    "start_time": "2023-03-23T09:00:48.169Z"
   },
   {
    "duration": 5,
    "start_time": "2023-03-23T09:00:48.269Z"
   },
   {
    "duration": 108,
    "start_time": "2023-03-23T09:00:48.276Z"
   },
   {
    "duration": 26,
    "start_time": "2023-03-23T09:00:48.386Z"
   },
   {
    "duration": 734,
    "start_time": "2023-03-23T09:00:48.414Z"
   },
   {
    "duration": 68,
    "start_time": "2023-03-23T09:00:49.149Z"
   },
   {
    "duration": 3,
    "start_time": "2023-03-23T09:00:49.219Z"
   },
   {
    "duration": 3986,
    "start_time": "2023-03-23T09:00:49.223Z"
   },
   {
    "duration": 1694,
    "start_time": "2023-03-23T09:11:34.174Z"
   },
   {
    "duration": 1060,
    "start_time": "2023-03-23T09:11:35.872Z"
   },
   {
    "duration": 25,
    "start_time": "2023-03-23T09:11:36.934Z"
   },
   {
    "duration": 215,
    "start_time": "2023-03-23T09:11:36.962Z"
   },
   {
    "duration": 4,
    "start_time": "2023-03-23T09:11:37.180Z"
   },
   {
    "duration": 171,
    "start_time": "2023-03-23T09:11:37.203Z"
   },
   {
    "duration": 612,
    "start_time": "2023-03-23T09:11:37.376Z"
   },
   {
    "duration": 1231,
    "start_time": "2023-03-23T09:11:37.990Z"
   },
   {
    "duration": 227,
    "start_time": "2023-03-23T09:11:39.223Z"
   },
   {
    "duration": 4,
    "start_time": "2023-03-23T09:11:39.452Z"
   },
   {
    "duration": 243,
    "start_time": "2023-03-23T09:11:39.458Z"
   },
   {
    "duration": 16,
    "start_time": "2023-03-23T09:11:39.711Z"
   },
   {
    "duration": 480,
    "start_time": "2023-03-23T09:11:39.730Z"
   },
   {
    "duration": 4,
    "start_time": "2023-03-23T09:11:40.213Z"
   },
   {
    "duration": 103,
    "start_time": "2023-03-23T09:11:40.219Z"
   },
   {
    "duration": 5,
    "start_time": "2023-03-23T09:11:40.324Z"
   },
   {
    "duration": 124,
    "start_time": "2023-03-23T09:11:40.330Z"
   },
   {
    "duration": 6,
    "start_time": "2023-03-23T09:11:40.457Z"
   },
   {
    "duration": 800,
    "start_time": "2023-03-23T09:11:40.465Z"
   },
   {
    "duration": 67,
    "start_time": "2023-03-23T09:11:41.267Z"
   },
   {
    "duration": 4,
    "start_time": "2023-03-23T09:11:41.336Z"
   },
   {
    "duration": 3666,
    "start_time": "2023-03-23T09:11:41.342Z"
   },
   {
    "duration": 95,
    "start_time": "2023-03-23T09:11:45.012Z"
   },
   {
    "duration": 153,
    "start_time": "2023-03-23T09:13:16.498Z"
   },
   {
    "duration": 33,
    "start_time": "2023-03-23T09:13:40.601Z"
   },
   {
    "duration": 5,
    "start_time": "2023-03-23T09:13:59.113Z"
   },
   {
    "duration": 10,
    "start_time": "2023-03-23T09:14:15.014Z"
   },
   {
    "duration": 5,
    "start_time": "2023-03-23T09:14:16.954Z"
   },
   {
    "duration": 1660,
    "start_time": "2023-03-23T09:14:27.286Z"
   },
   {
    "duration": 1006,
    "start_time": "2023-03-23T09:14:28.949Z"
   },
   {
    "duration": 24,
    "start_time": "2023-03-23T09:14:29.957Z"
   },
   {
    "duration": 208,
    "start_time": "2023-03-23T09:14:29.983Z"
   },
   {
    "duration": 3,
    "start_time": "2023-03-23T09:14:30.198Z"
   },
   {
    "duration": 204,
    "start_time": "2023-03-23T09:14:30.203Z"
   },
   {
    "duration": 659,
    "start_time": "2023-03-23T09:14:30.409Z"
   },
   {
    "duration": 1217,
    "start_time": "2023-03-23T09:14:31.070Z"
   },
   {
    "duration": 231,
    "start_time": "2023-03-23T09:14:32.289Z"
   },
   {
    "duration": 2,
    "start_time": "2023-03-23T09:14:32.524Z"
   },
   {
    "duration": 208,
    "start_time": "2023-03-23T09:14:32.528Z"
   },
   {
    "duration": 17,
    "start_time": "2023-03-23T09:14:32.738Z"
   },
   {
    "duration": 520,
    "start_time": "2023-03-23T09:14:32.758Z"
   },
   {
    "duration": 5,
    "start_time": "2023-03-23T09:14:33.280Z"
   },
   {
    "duration": 130,
    "start_time": "2023-03-23T09:14:33.287Z"
   },
   {
    "duration": 5,
    "start_time": "2023-03-23T09:14:33.420Z"
   },
   {
    "duration": 109,
    "start_time": "2023-03-23T09:14:33.428Z"
   },
   {
    "duration": 5,
    "start_time": "2023-03-23T09:14:33.539Z"
   },
   {
    "duration": 708,
    "start_time": "2023-03-23T09:14:33.545Z"
   },
   {
    "duration": 72,
    "start_time": "2023-03-23T09:14:34.255Z"
   },
   {
    "duration": 3,
    "start_time": "2023-03-23T09:14:34.329Z"
   },
   {
    "duration": 3274,
    "start_time": "2023-03-23T09:14:34.334Z"
   },
   {
    "duration": 32,
    "start_time": "2023-03-23T09:14:37.610Z"
   },
   {
    "duration": 10,
    "start_time": "2023-03-23T09:14:37.645Z"
   },
   {
    "duration": 113,
    "start_time": "2023-03-23T09:15:41.036Z"
   },
   {
    "duration": 5,
    "start_time": "2023-03-23T09:15:58.028Z"
   },
   {
    "duration": 32,
    "start_time": "2023-03-23T09:16:05.662Z"
   },
   {
    "duration": 41,
    "start_time": "2023-03-23T09:17:03.639Z"
   },
   {
    "duration": 3,
    "start_time": "2023-03-23T09:17:51.518Z"
   },
   {
    "duration": 1617,
    "start_time": "2023-03-23T09:21:35.329Z"
   },
   {
    "duration": 1056,
    "start_time": "2023-03-23T09:21:36.949Z"
   },
   {
    "duration": 35,
    "start_time": "2023-03-23T09:21:38.009Z"
   },
   {
    "duration": 173,
    "start_time": "2023-03-23T09:21:38.047Z"
   },
   {
    "duration": 3,
    "start_time": "2023-03-23T09:21:38.223Z"
   },
   {
    "duration": 190,
    "start_time": "2023-03-23T09:21:38.228Z"
   },
   {
    "duration": 596,
    "start_time": "2023-03-23T09:21:38.420Z"
   },
   {
    "duration": 1241,
    "start_time": "2023-03-23T09:21:39.019Z"
   },
   {
    "duration": 267,
    "start_time": "2023-03-23T09:21:40.263Z"
   },
   {
    "duration": 4,
    "start_time": "2023-03-23T09:21:40.533Z"
   },
   {
    "duration": 322,
    "start_time": "2023-03-23T09:21:40.539Z"
   },
   {
    "duration": 18,
    "start_time": "2023-03-23T09:21:40.863Z"
   },
   {
    "duration": 464,
    "start_time": "2023-03-23T09:21:40.883Z"
   },
   {
    "duration": 6,
    "start_time": "2023-03-23T09:21:41.350Z"
   },
   {
    "duration": 107,
    "start_time": "2023-03-23T09:21:41.358Z"
   },
   {
    "duration": 4,
    "start_time": "2023-03-23T09:21:41.468Z"
   },
   {
    "duration": 100,
    "start_time": "2023-03-23T09:21:41.474Z"
   },
   {
    "duration": 5,
    "start_time": "2023-03-23T09:21:41.576Z"
   },
   {
    "duration": 699,
    "start_time": "2023-03-23T09:21:41.583Z"
   },
   {
    "duration": 73,
    "start_time": "2023-03-23T09:21:42.284Z"
   },
   {
    "duration": 3,
    "start_time": "2023-03-23T09:21:42.359Z"
   },
   {
    "duration": 3563,
    "start_time": "2023-03-23T09:21:42.364Z"
   },
   {
    "duration": 189,
    "start_time": "2023-03-23T09:21:45.930Z"
   },
   {
    "duration": 41,
    "start_time": "2023-03-23T09:21:46.122Z"
   },
   {
    "duration": 2942,
    "start_time": "2023-03-23T09:23:01.274Z"
   },
   {
    "duration": 1691,
    "start_time": "2023-03-23T09:23:04.219Z"
   },
   {
    "duration": 1038,
    "start_time": "2023-03-23T09:23:05.917Z"
   },
   {
    "duration": 20,
    "start_time": "2023-03-23T09:23:06.957Z"
   },
   {
    "duration": 177,
    "start_time": "2023-03-23T09:23:06.979Z"
   },
   {
    "duration": 3,
    "start_time": "2023-03-23T09:23:07.158Z"
   },
   {
    "duration": 183,
    "start_time": "2023-03-23T09:23:07.163Z"
   },
   {
    "duration": 650,
    "start_time": "2023-03-23T09:23:07.348Z"
   },
   {
    "duration": 1143,
    "start_time": "2023-03-23T09:23:08.000Z"
   },
   {
    "duration": 238,
    "start_time": "2023-03-23T09:23:09.145Z"
   },
   {
    "duration": 3,
    "start_time": "2023-03-23T09:23:09.384Z"
   },
   {
    "duration": 224,
    "start_time": "2023-03-23T09:23:09.398Z"
   },
   {
    "duration": 23,
    "start_time": "2023-03-23T09:23:09.625Z"
   },
   {
    "duration": 480,
    "start_time": "2023-03-23T09:23:09.652Z"
   },
   {
    "duration": 4,
    "start_time": "2023-03-23T09:23:10.134Z"
   },
   {
    "duration": 107,
    "start_time": "2023-03-23T09:23:10.140Z"
   },
   {
    "duration": 5,
    "start_time": "2023-03-23T09:23:10.249Z"
   },
   {
    "duration": 124,
    "start_time": "2023-03-23T09:23:10.255Z"
   },
   {
    "duration": 8,
    "start_time": "2023-03-23T09:23:10.381Z"
   },
   {
    "duration": 952,
    "start_time": "2023-03-23T09:23:10.391Z"
   },
   {
    "duration": 71,
    "start_time": "2023-03-23T09:23:11.345Z"
   },
   {
    "duration": 4,
    "start_time": "2023-03-23T09:23:11.421Z"
   },
   {
    "duration": 3876,
    "start_time": "2023-03-23T09:23:11.427Z"
   },
   {
    "duration": 215,
    "start_time": "2023-03-23T09:23:15.311Z"
   },
   {
    "duration": 83,
    "start_time": "2023-03-23T09:23:15.527Z"
   },
   {
    "duration": 2582,
    "start_time": "2023-03-23T09:25:02.434Z"
   },
   {
    "duration": 1826,
    "start_time": "2023-03-23T09:25:05.019Z"
   },
   {
    "duration": 992,
    "start_time": "2023-03-23T09:25:06.847Z"
   },
   {
    "duration": 20,
    "start_time": "2023-03-23T09:25:07.841Z"
   },
   {
    "duration": 185,
    "start_time": "2023-03-23T09:25:07.863Z"
   },
   {
    "duration": 4,
    "start_time": "2023-03-23T09:25:08.050Z"
   },
   {
    "duration": 189,
    "start_time": "2023-03-23T09:25:08.056Z"
   },
   {
    "duration": 580,
    "start_time": "2023-03-23T09:25:08.247Z"
   },
   {
    "duration": 1161,
    "start_time": "2023-03-23T09:25:08.829Z"
   },
   {
    "duration": 232,
    "start_time": "2023-03-23T09:25:09.992Z"
   },
   {
    "duration": 3,
    "start_time": "2023-03-23T09:25:10.226Z"
   },
   {
    "duration": 235,
    "start_time": "2023-03-23T09:25:10.232Z"
   },
   {
    "duration": 35,
    "start_time": "2023-03-23T09:25:10.469Z"
   },
   {
    "duration": 569,
    "start_time": "2023-03-23T09:25:10.508Z"
   },
   {
    "duration": 4,
    "start_time": "2023-03-23T09:25:11.079Z"
   },
   {
    "duration": 103,
    "start_time": "2023-03-23T09:25:11.085Z"
   },
   {
    "duration": 21,
    "start_time": "2023-03-23T09:25:11.190Z"
   },
   {
    "duration": 151,
    "start_time": "2023-03-23T09:25:11.213Z"
   },
   {
    "duration": 6,
    "start_time": "2023-03-23T09:25:11.367Z"
   },
   {
    "duration": 744,
    "start_time": "2023-03-23T09:25:11.374Z"
   },
   {
    "duration": 88,
    "start_time": "2023-03-23T09:25:12.120Z"
   },
   {
    "duration": 6,
    "start_time": "2023-03-23T09:25:12.211Z"
   },
   {
    "duration": 3984,
    "start_time": "2023-03-23T09:25:12.220Z"
   },
   {
    "duration": 1066,
    "start_time": "2023-03-23T09:25:16.206Z"
   },
   {
    "duration": 0,
    "start_time": "2023-03-23T09:25:17.275Z"
   },
   {
    "duration": 0,
    "start_time": "2023-03-23T09:25:17.276Z"
   },
   {
    "duration": 115,
    "start_time": "2023-03-23T09:25:24.243Z"
   },
   {
    "duration": 55,
    "start_time": "2023-03-23T09:25:27.991Z"
   },
   {
    "duration": 2794,
    "start_time": "2023-03-23T09:26:29.743Z"
   },
   {
    "duration": 1763,
    "start_time": "2023-03-23T09:26:32.540Z"
   },
   {
    "duration": 1120,
    "start_time": "2023-03-23T09:26:34.305Z"
   },
   {
    "duration": 20,
    "start_time": "2023-03-23T09:26:35.426Z"
   },
   {
    "duration": 219,
    "start_time": "2023-03-23T09:26:35.450Z"
   },
   {
    "duration": 4,
    "start_time": "2023-03-23T09:26:35.670Z"
   },
   {
    "duration": 190,
    "start_time": "2023-03-23T09:26:35.676Z"
   },
   {
    "duration": 588,
    "start_time": "2023-03-23T09:26:35.869Z"
   },
   {
    "duration": 1198,
    "start_time": "2023-03-23T09:26:36.458Z"
   },
   {
    "duration": 230,
    "start_time": "2023-03-23T09:26:37.658Z"
   },
   {
    "duration": 14,
    "start_time": "2023-03-23T09:26:37.890Z"
   },
   {
    "duration": 238,
    "start_time": "2023-03-23T09:26:37.906Z"
   },
   {
    "duration": 21,
    "start_time": "2023-03-23T09:26:38.146Z"
   },
   {
    "duration": 455,
    "start_time": "2023-03-23T09:26:38.171Z"
   },
   {
    "duration": 5,
    "start_time": "2023-03-23T09:26:38.628Z"
   },
   {
    "duration": 110,
    "start_time": "2023-03-23T09:26:38.635Z"
   },
   {
    "duration": 6,
    "start_time": "2023-03-23T09:26:38.747Z"
   },
   {
    "duration": 102,
    "start_time": "2023-03-23T09:26:38.755Z"
   },
   {
    "duration": 5,
    "start_time": "2023-03-23T09:26:38.859Z"
   },
   {
    "duration": 703,
    "start_time": "2023-03-23T09:26:38.866Z"
   },
   {
    "duration": 75,
    "start_time": "2023-03-23T09:26:39.572Z"
   },
   {
    "duration": 5,
    "start_time": "2023-03-23T09:26:39.650Z"
   },
   {
    "duration": 3549,
    "start_time": "2023-03-23T09:26:39.657Z"
   },
   {
    "duration": 360,
    "start_time": "2023-03-23T09:26:43.208Z"
   },
   {
    "duration": 0,
    "start_time": "2023-03-23T09:26:43.570Z"
   },
   {
    "duration": 0,
    "start_time": "2023-03-23T09:26:43.572Z"
   },
   {
    "duration": 154,
    "start_time": "2023-03-23T09:27:02.342Z"
   },
   {
    "duration": 9,
    "start_time": "2023-03-23T09:27:08.737Z"
   },
   {
    "duration": 34,
    "start_time": "2023-03-23T09:27:10.572Z"
   },
   {
    "duration": 8,
    "start_time": "2023-03-23T09:27:20.941Z"
   },
   {
    "duration": 2741,
    "start_time": "2023-03-23T09:28:35.103Z"
   },
   {
    "duration": 1544,
    "start_time": "2023-03-23T09:28:37.847Z"
   },
   {
    "duration": 1104,
    "start_time": "2023-03-23T09:28:39.393Z"
   },
   {
    "duration": 30,
    "start_time": "2023-03-23T09:28:40.511Z"
   },
   {
    "duration": 233,
    "start_time": "2023-03-23T09:28:40.544Z"
   },
   {
    "duration": 4,
    "start_time": "2023-03-23T09:28:40.779Z"
   },
   {
    "duration": 206,
    "start_time": "2023-03-23T09:28:40.785Z"
   },
   {
    "duration": 670,
    "start_time": "2023-03-23T09:28:40.993Z"
   },
   {
    "duration": 1156,
    "start_time": "2023-03-23T09:28:41.665Z"
   },
   {
    "duration": 221,
    "start_time": "2023-03-23T09:28:42.825Z"
   },
   {
    "duration": 3,
    "start_time": "2023-03-23T09:28:43.048Z"
   },
   {
    "duration": 263,
    "start_time": "2023-03-23T09:28:43.053Z"
   },
   {
    "duration": 16,
    "start_time": "2023-03-23T09:28:43.318Z"
   },
   {
    "duration": 441,
    "start_time": "2023-03-23T09:28:43.336Z"
   },
   {
    "duration": 4,
    "start_time": "2023-03-23T09:28:43.779Z"
   },
   {
    "duration": 116,
    "start_time": "2023-03-23T09:28:43.797Z"
   },
   {
    "duration": 13,
    "start_time": "2023-03-23T09:28:43.915Z"
   },
   {
    "duration": 131,
    "start_time": "2023-03-23T09:28:43.930Z"
   },
   {
    "duration": 5,
    "start_time": "2023-03-23T09:28:44.064Z"
   },
   {
    "duration": 691,
    "start_time": "2023-03-23T09:28:44.075Z"
   },
   {
    "duration": 64,
    "start_time": "2023-03-23T09:28:44.768Z"
   },
   {
    "duration": 5,
    "start_time": "2023-03-23T09:28:44.834Z"
   },
   {
    "duration": 3678,
    "start_time": "2023-03-23T09:28:44.841Z"
   },
   {
    "duration": 118,
    "start_time": "2023-03-23T09:28:48.601Z"
   },
   {
    "duration": 89,
    "start_time": "2023-03-23T09:28:48.722Z"
   },
   {
    "duration": 3463,
    "start_time": "2023-03-23T09:38:53.083Z"
   },
   {
    "duration": 2176,
    "start_time": "2023-03-23T09:38:56.548Z"
   },
   {
    "duration": 1123,
    "start_time": "2023-03-23T09:38:58.727Z"
   },
   {
    "duration": 33,
    "start_time": "2023-03-23T09:38:59.853Z"
   },
   {
    "duration": 245,
    "start_time": "2023-03-23T09:38:59.899Z"
   },
   {
    "duration": 4,
    "start_time": "2023-03-23T09:39:00.145Z"
   },
   {
    "duration": 195,
    "start_time": "2023-03-23T09:39:00.151Z"
   },
   {
    "duration": 632,
    "start_time": "2023-03-23T09:39:00.348Z"
   },
   {
    "duration": 1198,
    "start_time": "2023-03-23T09:39:00.982Z"
   },
   {
    "duration": 233,
    "start_time": "2023-03-23T09:39:02.183Z"
   },
   {
    "duration": 3,
    "start_time": "2023-03-23T09:39:02.418Z"
   },
   {
    "duration": 242,
    "start_time": "2023-03-23T09:39:02.422Z"
   },
   {
    "duration": 17,
    "start_time": "2023-03-23T09:39:02.666Z"
   },
   {
    "duration": 446,
    "start_time": "2023-03-23T09:39:02.686Z"
   },
   {
    "duration": 4,
    "start_time": "2023-03-23T09:39:03.133Z"
   },
   {
    "duration": 103,
    "start_time": "2023-03-23T09:39:03.139Z"
   },
   {
    "duration": 5,
    "start_time": "2023-03-23T09:39:03.244Z"
   },
   {
    "duration": 117,
    "start_time": "2023-03-23T09:39:03.250Z"
   },
   {
    "duration": 5,
    "start_time": "2023-03-23T09:39:03.369Z"
   },
   {
    "duration": 745,
    "start_time": "2023-03-23T09:39:03.376Z"
   },
   {
    "duration": 60,
    "start_time": "2023-03-23T09:39:04.123Z"
   },
   {
    "duration": 25,
    "start_time": "2023-03-23T09:39:04.185Z"
   },
   {
    "duration": 4092,
    "start_time": "2023-03-23T09:39:04.215Z"
   },
   {
    "duration": 176,
    "start_time": "2023-03-23T09:39:08.313Z"
   },
   {
    "duration": 93,
    "start_time": "2023-03-23T09:39:08.502Z"
   },
   {
    "duration": 2803,
    "start_time": "2023-03-23T09:40:49.333Z"
   },
   {
    "duration": 1698,
    "start_time": "2023-03-23T09:40:52.139Z"
   },
   {
    "duration": 1011,
    "start_time": "2023-03-23T09:40:53.839Z"
   },
   {
    "duration": 23,
    "start_time": "2023-03-23T09:40:54.852Z"
   },
   {
    "duration": 200,
    "start_time": "2023-03-23T09:40:54.878Z"
   },
   {
    "duration": 3,
    "start_time": "2023-03-23T09:40:55.080Z"
   },
   {
    "duration": 196,
    "start_time": "2023-03-23T09:40:55.085Z"
   },
   {
    "duration": 670,
    "start_time": "2023-03-23T09:40:55.283Z"
   },
   {
    "duration": 1246,
    "start_time": "2023-03-23T09:40:55.955Z"
   },
   {
    "duration": 232,
    "start_time": "2023-03-23T09:40:57.202Z"
   },
   {
    "duration": 3,
    "start_time": "2023-03-23T09:40:57.436Z"
   },
   {
    "duration": 240,
    "start_time": "2023-03-23T09:40:57.441Z"
   },
   {
    "duration": 27,
    "start_time": "2023-03-23T09:40:57.683Z"
   },
   {
    "duration": 462,
    "start_time": "2023-03-23T09:40:57.720Z"
   },
   {
    "duration": 4,
    "start_time": "2023-03-23T09:40:58.184Z"
   },
   {
    "duration": 125,
    "start_time": "2023-03-23T09:40:58.190Z"
   },
   {
    "duration": 5,
    "start_time": "2023-03-23T09:40:58.318Z"
   },
   {
    "duration": 113,
    "start_time": "2023-03-23T09:40:58.324Z"
   },
   {
    "duration": 4,
    "start_time": "2023-03-23T09:40:58.439Z"
   },
   {
    "duration": 698,
    "start_time": "2023-03-23T09:40:58.445Z"
   },
   {
    "duration": 72,
    "start_time": "2023-03-23T09:40:59.145Z"
   },
   {
    "duration": 4,
    "start_time": "2023-03-23T09:40:59.218Z"
   },
   {
    "duration": 3194,
    "start_time": "2023-03-23T09:40:59.225Z"
   },
   {
    "duration": 4,
    "start_time": "2023-03-23T09:41:02.421Z"
   },
   {
    "duration": 23,
    "start_time": "2023-03-23T09:41:02.499Z"
   },
   {
    "duration": 147,
    "start_time": "2023-03-23T09:41:09.333Z"
   },
   {
    "duration": 130,
    "start_time": "2023-03-23T09:41:27.670Z"
   },
   {
    "duration": 74,
    "start_time": "2023-03-23T09:41:28.981Z"
   },
   {
    "duration": 84,
    "start_time": "2023-03-23T12:04:44.809Z"
   },
   {
    "duration": 3558,
    "start_time": "2023-03-23T12:04:49.834Z"
   },
   {
    "duration": 1952,
    "start_time": "2023-03-23T12:04:53.395Z"
   },
   {
    "duration": 1426,
    "start_time": "2023-03-23T12:04:55.354Z"
   },
   {
    "duration": 41,
    "start_time": "2023-03-23T12:04:56.783Z"
   },
   {
    "duration": 244,
    "start_time": "2023-03-23T12:04:56.827Z"
   },
   {
    "duration": 9,
    "start_time": "2023-03-23T12:04:57.073Z"
   },
   {
    "duration": 255,
    "start_time": "2023-03-23T12:04:57.086Z"
   },
   {
    "duration": 669,
    "start_time": "2023-03-23T12:04:57.343Z"
   },
   {
    "duration": 1190,
    "start_time": "2023-03-23T12:04:58.015Z"
   },
   {
    "duration": 206,
    "start_time": "2023-03-23T12:04:59.208Z"
   },
   {
    "duration": 3,
    "start_time": "2023-03-23T12:04:59.416Z"
   },
   {
    "duration": 231,
    "start_time": "2023-03-23T12:04:59.421Z"
   },
   {
    "duration": 17,
    "start_time": "2023-03-23T12:04:59.653Z"
   },
   {
    "duration": 451,
    "start_time": "2023-03-23T12:04:59.673Z"
   },
   {
    "duration": 3,
    "start_time": "2023-03-23T12:05:00.126Z"
   },
   {
    "duration": 99,
    "start_time": "2023-03-23T12:05:00.131Z"
   },
   {
    "duration": 5,
    "start_time": "2023-03-23T12:05:00.232Z"
   },
   {
    "duration": 115,
    "start_time": "2023-03-23T12:05:00.239Z"
   },
   {
    "duration": 5,
    "start_time": "2023-03-23T12:05:00.356Z"
   },
   {
    "duration": 780,
    "start_time": "2023-03-23T12:05:00.362Z"
   },
   {
    "duration": 73,
    "start_time": "2023-03-23T12:05:01.144Z"
   },
   {
    "duration": 22,
    "start_time": "2023-03-23T12:05:01.220Z"
   },
   {
    "duration": 4258,
    "start_time": "2023-03-23T12:05:01.244Z"
   },
   {
    "duration": 215,
    "start_time": "2023-03-23T12:05:05.504Z"
   },
   {
    "duration": 91,
    "start_time": "2023-03-23T12:05:05.721Z"
   },
   {
    "duration": 365005,
    "start_time": "2023-03-23T12:05:05.814Z"
   },
   {
    "duration": 36,
    "start_time": "2023-03-23T12:18:00.628Z"
   },
   {
    "duration": 254282,
    "start_time": "2023-03-23T12:22:42.151Z"
   },
   {
    "duration": 238642,
    "start_time": "2023-03-23T12:27:32.729Z"
   },
   {
    "duration": 7,
    "start_time": "2023-03-23T12:31:31.374Z"
   },
   {
    "duration": 76,
    "start_time": "2023-03-23T12:33:50.177Z"
   },
   {
    "duration": 98,
    "start_time": "2023-03-23T12:33:59.745Z"
   },
   {
    "duration": 52,
    "start_time": "2023-03-23T12:34:06.632Z"
   },
   {
    "duration": 4,
    "start_time": "2023-03-23T12:34:11.135Z"
   },
   {
    "duration": 345,
    "start_time": "2023-03-23T12:34:57.318Z"
   },
   {
    "duration": 5,
    "start_time": "2023-03-23T12:35:16.331Z"
   },
   {
    "duration": 17,
    "start_time": "2023-03-23T12:35:24.220Z"
   },
   {
    "duration": 74,
    "start_time": "2023-03-23T12:36:59.685Z"
   },
   {
    "duration": 58,
    "start_time": "2023-03-23T12:37:48.626Z"
   },
   {
    "duration": 218,
    "start_time": "2023-03-23T12:37:53.777Z"
   },
   {
    "duration": 90,
    "start_time": "2023-03-23T12:38:00.946Z"
   },
   {
    "duration": 3,
    "start_time": "2023-03-23T12:38:18.229Z"
   },
   {
    "duration": 14,
    "start_time": "2023-03-23T12:38:59.453Z"
   },
   {
    "duration": 3018,
    "start_time": "2023-03-23T12:40:57.521Z"
   },
   {
    "duration": 1776,
    "start_time": "2023-03-23T12:41:00.542Z"
   },
   {
    "duration": 1119,
    "start_time": "2023-03-23T12:41:02.321Z"
   },
   {
    "duration": 25,
    "start_time": "2023-03-23T12:41:03.442Z"
   },
   {
    "duration": 290,
    "start_time": "2023-03-23T12:41:03.471Z"
   },
   {
    "duration": 5,
    "start_time": "2023-03-23T12:41:03.764Z"
   },
   {
    "duration": 211,
    "start_time": "2023-03-23T12:41:03.771Z"
   },
   {
    "duration": 637,
    "start_time": "2023-03-23T12:41:03.984Z"
   },
   {
    "duration": 1300,
    "start_time": "2023-03-23T12:41:04.623Z"
   },
   {
    "duration": 225,
    "start_time": "2023-03-23T12:41:05.925Z"
   },
   {
    "duration": 4,
    "start_time": "2023-03-23T12:41:06.152Z"
   },
   {
    "duration": 382,
    "start_time": "2023-03-23T12:41:06.158Z"
   },
   {
    "duration": 23,
    "start_time": "2023-03-23T12:41:06.543Z"
   },
   {
    "duration": 600,
    "start_time": "2023-03-23T12:41:06.570Z"
   },
   {
    "duration": 4,
    "start_time": "2023-03-23T12:41:07.173Z"
   },
   {
    "duration": 97,
    "start_time": "2023-03-23T12:41:07.180Z"
   },
   {
    "duration": 5,
    "start_time": "2023-03-23T12:41:07.278Z"
   },
   {
    "duration": 102,
    "start_time": "2023-03-23T12:41:07.299Z"
   },
   {
    "duration": 4,
    "start_time": "2023-03-23T12:41:07.407Z"
   },
   {
    "duration": 729,
    "start_time": "2023-03-23T12:41:07.413Z"
   },
   {
    "duration": 75,
    "start_time": "2023-03-23T12:41:08.144Z"
   },
   {
    "duration": 3,
    "start_time": "2023-03-23T12:41:08.223Z"
   },
   {
    "duration": 4287,
    "start_time": "2023-03-23T12:41:08.228Z"
   },
   {
    "duration": 155,
    "start_time": "2023-03-23T12:42:48.620Z"
   },
   {
    "duration": 16,
    "start_time": "2023-03-23T12:43:32.689Z"
   },
   {
    "duration": 12,
    "start_time": "2023-03-23T12:48:07.953Z"
   },
   {
    "duration": 6719,
    "start_time": "2023-03-23T12:48:13.417Z"
   },
   {
    "duration": 6591,
    "start_time": "2023-03-23T12:50:04.924Z"
   },
   {
    "duration": 5,
    "start_time": "2023-03-23T12:55:04.916Z"
   },
   {
    "duration": 4,
    "start_time": "2023-03-23T12:57:06.348Z"
   },
   {
    "duration": 3,
    "start_time": "2023-03-23T12:57:58.623Z"
   },
   {
    "duration": 4,
    "start_time": "2023-03-23T12:58:11.139Z"
   },
   {
    "duration": 2780,
    "start_time": "2023-03-23T12:59:02.889Z"
   },
   {
    "duration": 4,
    "start_time": "2023-03-23T12:59:25.078Z"
   },
   {
    "duration": 4,
    "start_time": "2023-03-23T12:59:26.362Z"
   },
   {
    "duration": 2763,
    "start_time": "2023-03-23T12:59:27.086Z"
   },
   {
    "duration": 3248,
    "start_time": "2023-03-23T13:00:27.024Z"
   },
   {
    "duration": 4,
    "start_time": "2023-03-23T13:02:01.168Z"
   },
   {
    "duration": 2749,
    "start_time": "2023-03-23T13:03:02.295Z"
   },
   {
    "duration": 1935,
    "start_time": "2023-03-23T13:03:05.049Z"
   },
   {
    "duration": 1097,
    "start_time": "2023-03-23T13:03:06.986Z"
   },
   {
    "duration": 40,
    "start_time": "2023-03-23T13:03:08.085Z"
   },
   {
    "duration": 181,
    "start_time": "2023-03-23T13:03:08.128Z"
   },
   {
    "duration": 10,
    "start_time": "2023-03-23T13:03:08.312Z"
   },
   {
    "duration": 191,
    "start_time": "2023-03-23T13:03:08.324Z"
   },
   {
    "duration": 787,
    "start_time": "2023-03-23T13:03:08.524Z"
   },
   {
    "duration": 1397,
    "start_time": "2023-03-23T13:03:09.313Z"
   },
   {
    "duration": 213,
    "start_time": "2023-03-23T13:03:10.716Z"
   },
   {
    "duration": 2,
    "start_time": "2023-03-23T13:03:10.932Z"
   },
   {
    "duration": 241,
    "start_time": "2023-03-23T13:03:10.936Z"
   },
   {
    "duration": 25,
    "start_time": "2023-03-23T13:03:11.179Z"
   },
   {
    "duration": 505,
    "start_time": "2023-03-23T13:03:11.208Z"
   },
   {
    "duration": 11,
    "start_time": "2023-03-23T13:03:11.716Z"
   },
   {
    "duration": 157,
    "start_time": "2023-03-23T13:03:11.730Z"
   },
   {
    "duration": 7,
    "start_time": "2023-03-23T13:03:11.889Z"
   },
   {
    "duration": 174,
    "start_time": "2023-03-23T13:03:11.905Z"
   },
   {
    "duration": 6,
    "start_time": "2023-03-23T13:03:12.081Z"
   },
   {
    "duration": 817,
    "start_time": "2023-03-23T13:03:12.098Z"
   },
   {
    "duration": 66,
    "start_time": "2023-03-23T13:03:12.920Z"
   },
   {
    "duration": 13,
    "start_time": "2023-03-23T13:03:12.989Z"
   },
   {
    "duration": 3111,
    "start_time": "2023-03-23T13:03:13.008Z"
   },
   {
    "duration": 7240,
    "start_time": "2023-03-23T13:03:16.128Z"
   },
   {
    "duration": 3,
    "start_time": "2023-03-23T13:03:23.371Z"
   },
   {
    "duration": 7,
    "start_time": "2023-03-23T13:03:23.376Z"
   },
   {
    "duration": 217,
    "start_time": "2023-03-23T13:03:23.385Z"
   },
   {
    "duration": 16,
    "start_time": "2023-03-23T13:03:40.794Z"
   },
   {
    "duration": 549276,
    "start_time": "2023-03-23T13:03:42.051Z"
   },
   {
    "duration": 15,
    "start_time": "2023-03-23T13:17:37.862Z"
   },
   {
    "duration": 16,
    "start_time": "2023-03-23T13:19:09.317Z"
   },
   {
    "duration": 9,
    "start_time": "2023-03-23T13:19:24.443Z"
   },
   {
    "duration": 5,
    "start_time": "2023-03-23T13:19:42.366Z"
   },
   {
    "duration": 8,
    "start_time": "2023-03-23T13:19:45.187Z"
   },
   {
    "duration": 608497,
    "start_time": "2023-03-23T13:19:58.053Z"
   },
   {
    "duration": 4,
    "start_time": "2023-03-23T13:30:54.795Z"
   },
   {
    "duration": 5,
    "start_time": "2023-03-23T13:31:05.483Z"
   },
   {
    "duration": 141471,
    "start_time": "2023-03-23T13:32:15.345Z"
   },
   {
    "duration": 3136,
    "start_time": "2023-03-23T13:39:10.679Z"
   },
   {
    "duration": 2171,
    "start_time": "2023-03-23T13:39:13.819Z"
   },
   {
    "duration": 1401,
    "start_time": "2023-03-23T13:39:15.993Z"
   },
   {
    "duration": 33,
    "start_time": "2023-03-23T13:39:17.405Z"
   },
   {
    "duration": 269,
    "start_time": "2023-03-23T13:39:17.442Z"
   },
   {
    "duration": 6,
    "start_time": "2023-03-23T13:39:17.713Z"
   },
   {
    "duration": 258,
    "start_time": "2023-03-23T13:39:17.721Z"
   },
   {
    "duration": 644,
    "start_time": "2023-03-23T13:39:17.981Z"
   },
   {
    "duration": 1773,
    "start_time": "2023-03-23T13:39:18.627Z"
   },
   {
    "duration": 282,
    "start_time": "2023-03-23T13:39:20.403Z"
   },
   {
    "duration": 4,
    "start_time": "2023-03-23T13:39:20.686Z"
   },
   {
    "duration": 236,
    "start_time": "2023-03-23T13:39:20.692Z"
   },
   {
    "duration": 15,
    "start_time": "2023-03-23T13:39:20.931Z"
   },
   {
    "duration": 438,
    "start_time": "2023-03-23T13:39:20.950Z"
   },
   {
    "duration": 13,
    "start_time": "2023-03-23T13:39:21.391Z"
   },
   {
    "duration": 148,
    "start_time": "2023-03-23T13:39:21.411Z"
   },
   {
    "duration": 6,
    "start_time": "2023-03-23T13:39:21.561Z"
   },
   {
    "duration": 176,
    "start_time": "2023-03-23T13:39:21.570Z"
   },
   {
    "duration": 5,
    "start_time": "2023-03-23T13:39:21.749Z"
   },
   {
    "duration": 767,
    "start_time": "2023-03-23T13:39:21.757Z"
   },
   {
    "duration": 60,
    "start_time": "2023-03-23T13:39:22.526Z"
   },
   {
    "duration": 23,
    "start_time": "2023-03-23T13:39:22.587Z"
   },
   {
    "duration": 3281,
    "start_time": "2023-03-23T13:39:22.618Z"
   },
   {
    "duration": 7745,
    "start_time": "2023-03-23T13:39:25.909Z"
   },
   {
    "duration": 7,
    "start_time": "2023-03-23T13:39:33.656Z"
   },
   {
    "duration": 12,
    "start_time": "2023-03-23T13:39:33.665Z"
   },
   {
    "duration": 9,
    "start_time": "2023-03-23T13:39:33.680Z"
   },
   {
    "duration": 2562,
    "start_time": "2023-03-23T13:41:37.624Z"
   },
   {
    "duration": 1731,
    "start_time": "2023-03-23T13:41:40.188Z"
   },
   {
    "duration": 1023,
    "start_time": "2023-03-23T13:41:41.921Z"
   },
   {
    "duration": 22,
    "start_time": "2023-03-23T13:41:42.946Z"
   },
   {
    "duration": 178,
    "start_time": "2023-03-23T13:41:42.971Z"
   },
   {
    "duration": 3,
    "start_time": "2023-03-23T13:41:43.151Z"
   },
   {
    "duration": 214,
    "start_time": "2023-03-23T13:41:43.156Z"
   },
   {
    "duration": 605,
    "start_time": "2023-03-23T13:41:43.373Z"
   },
   {
    "duration": 1150,
    "start_time": "2023-03-23T13:41:43.980Z"
   },
   {
    "duration": 236,
    "start_time": "2023-03-23T13:41:45.133Z"
   },
   {
    "duration": 3,
    "start_time": "2023-03-23T13:41:45.372Z"
   },
   {
    "duration": 234,
    "start_time": "2023-03-23T13:41:45.377Z"
   },
   {
    "duration": 22,
    "start_time": "2023-03-23T13:41:45.621Z"
   },
   {
    "duration": 424,
    "start_time": "2023-03-23T13:41:45.647Z"
   },
   {
    "duration": 5,
    "start_time": "2023-03-23T13:41:46.073Z"
   },
   {
    "duration": 104,
    "start_time": "2023-03-23T13:41:46.080Z"
   },
   {
    "duration": 13,
    "start_time": "2023-03-23T13:41:46.186Z"
   },
   {
    "duration": 105,
    "start_time": "2023-03-23T13:41:46.200Z"
   },
   {
    "duration": 5,
    "start_time": "2023-03-23T13:41:46.312Z"
   },
   {
    "duration": 697,
    "start_time": "2023-03-23T13:41:46.319Z"
   },
   {
    "duration": 90,
    "start_time": "2023-03-23T13:41:47.018Z"
   },
   {
    "duration": 4,
    "start_time": "2023-03-23T13:41:47.112Z"
   },
   {
    "duration": 4093,
    "start_time": "2023-03-23T13:41:47.118Z"
   },
   {
    "duration": 6445,
    "start_time": "2023-03-23T13:41:51.297Z"
   },
   {
    "duration": 3,
    "start_time": "2023-03-23T13:41:57.745Z"
   },
   {
    "duration": 8,
    "start_time": "2023-03-23T13:41:57.750Z"
   },
   {
    "duration": 9,
    "start_time": "2023-03-23T13:41:57.760Z"
   },
   {
    "duration": 9924,
    "start_time": "2023-03-23T13:41:57.771Z"
   },
   {
    "duration": 9064,
    "start_time": "2023-03-23T13:43:21.222Z"
   },
   {
    "duration": 178,
    "start_time": "2023-03-23T13:59:12.984Z"
   },
   {
    "duration": 82,
    "start_time": "2023-03-23T13:59:46.769Z"
   },
   {
    "duration": 20,
    "start_time": "2023-03-23T13:59:59.094Z"
   },
   {
    "duration": 71,
    "start_time": "2023-03-23T14:02:27.230Z"
   },
   {
    "duration": 188,
    "start_time": "2023-03-23T14:02:42.773Z"
   },
   {
    "duration": 181,
    "start_time": "2023-03-23T14:02:46.716Z"
   },
   {
    "duration": 62,
    "start_time": "2023-03-23T14:03:09.868Z"
   },
   {
    "duration": 63,
    "start_time": "2023-03-23T14:05:26.727Z"
   },
   {
    "duration": 92,
    "start_time": "2023-03-23T14:05:42.764Z"
   },
   {
    "duration": 76,
    "start_time": "2023-03-23T14:06:07.990Z"
   },
   {
    "duration": 20,
    "start_time": "2023-03-23T14:06:17.592Z"
   },
   {
    "duration": 247,
    "start_time": "2023-03-23T14:06:22.364Z"
   },
   {
    "duration": 232,
    "start_time": "2023-03-23T14:07:04.741Z"
   },
   {
    "duration": 9,
    "start_time": "2023-03-23T14:07:18.083Z"
   },
   {
    "duration": 260,
    "start_time": "2023-03-23T14:07:55.476Z"
   },
   {
    "duration": 9,
    "start_time": "2023-03-23T14:07:58.048Z"
   },
   {
    "duration": 95,
    "start_time": "2023-03-23T14:08:56.997Z"
   },
   {
    "duration": 209,
    "start_time": "2023-03-23T14:09:24.671Z"
   },
   {
    "duration": 13,
    "start_time": "2023-03-23T14:09:25.806Z"
   },
   {
    "duration": 258,
    "start_time": "2023-03-23T14:10:51.641Z"
   },
   {
    "duration": 10,
    "start_time": "2023-03-23T14:10:53.812Z"
   },
   {
    "duration": 297,
    "start_time": "2023-03-23T14:11:11.296Z"
   },
   {
    "duration": 9,
    "start_time": "2023-03-23T14:11:15.634Z"
   },
   {
    "duration": 240,
    "start_time": "2023-03-23T14:12:05.920Z"
   },
   {
    "duration": 16,
    "start_time": "2023-03-23T14:12:06.835Z"
   },
   {
    "duration": 7,
    "start_time": "2023-03-23T14:12:40.068Z"
   },
   {
    "duration": 208,
    "start_time": "2023-03-23T14:12:43.969Z"
   },
   {
    "duration": 294,
    "start_time": "2023-03-23T14:13:17.370Z"
   },
   {
    "duration": 9,
    "start_time": "2023-03-23T14:13:18.053Z"
   },
   {
    "duration": 228,
    "start_time": "2023-03-23T14:13:38.155Z"
   },
   {
    "duration": 2833,
    "start_time": "2023-03-23T14:25:12.807Z"
   },
   {
    "duration": 1792,
    "start_time": "2023-03-23T14:25:15.643Z"
   },
   {
    "duration": 1135,
    "start_time": "2023-03-23T14:25:17.438Z"
   },
   {
    "duration": 27,
    "start_time": "2023-03-23T14:25:18.576Z"
   },
   {
    "duration": 178,
    "start_time": "2023-03-23T14:25:18.607Z"
   },
   {
    "duration": 6,
    "start_time": "2023-03-23T14:25:18.788Z"
   },
   {
    "duration": 196,
    "start_time": "2023-03-23T14:25:18.797Z"
   },
   {
    "duration": 657,
    "start_time": "2023-03-23T14:25:18.995Z"
   },
   {
    "duration": 1479,
    "start_time": "2023-03-23T14:25:19.654Z"
   },
   {
    "duration": 282,
    "start_time": "2023-03-23T14:25:21.136Z"
   },
   {
    "duration": 4,
    "start_time": "2023-03-23T14:25:21.419Z"
   },
   {
    "duration": 214,
    "start_time": "2023-03-23T14:25:21.425Z"
   },
   {
    "duration": 18,
    "start_time": "2023-03-23T14:25:21.641Z"
   },
   {
    "duration": 484,
    "start_time": "2023-03-23T14:25:21.663Z"
   },
   {
    "duration": 4,
    "start_time": "2023-03-23T14:25:22.149Z"
   },
   {
    "duration": 118,
    "start_time": "2023-03-23T14:25:22.155Z"
   },
   {
    "duration": 5,
    "start_time": "2023-03-23T14:25:22.275Z"
   },
   {
    "duration": 116,
    "start_time": "2023-03-23T14:25:22.286Z"
   },
   {
    "duration": 6,
    "start_time": "2023-03-23T14:25:22.405Z"
   },
   {
    "duration": 749,
    "start_time": "2023-03-23T14:25:22.413Z"
   },
   {
    "duration": 101,
    "start_time": "2023-03-23T14:25:23.164Z"
   },
   {
    "duration": 4,
    "start_time": "2023-03-23T14:25:23.267Z"
   },
   {
    "duration": 3244,
    "start_time": "2023-03-23T14:25:23.273Z"
   },
   {
    "duration": 6609,
    "start_time": "2023-03-23T14:25:26.519Z"
   },
   {
    "duration": 4,
    "start_time": "2023-03-23T14:25:33.130Z"
   },
   {
    "duration": 17,
    "start_time": "2023-03-23T14:25:33.136Z"
   },
   {
    "duration": 16,
    "start_time": "2023-03-23T14:25:33.155Z"
   },
   {
    "duration": 9229,
    "start_time": "2023-03-23T14:25:33.173Z"
   },
   {
    "duration": 296,
    "start_time": "2023-03-23T14:25:42.405Z"
   },
   {
    "duration": 2327,
    "start_time": "2023-03-25T13:03:38.371Z"
   },
   {
    "duration": 1679,
    "start_time": "2023-03-25T13:03:40.700Z"
   },
   {
    "duration": 1149,
    "start_time": "2023-03-25T13:03:42.380Z"
   },
   {
    "duration": 18,
    "start_time": "2023-03-25T13:03:43.531Z"
   },
   {
    "duration": 124,
    "start_time": "2023-03-25T13:03:43.550Z"
   },
   {
    "duration": 15,
    "start_time": "2023-03-25T13:03:43.675Z"
   },
   {
    "duration": 143,
    "start_time": "2023-03-25T13:03:43.692Z"
   },
   {
    "duration": 380,
    "start_time": "2023-03-25T13:03:43.837Z"
   },
   {
    "duration": 794,
    "start_time": "2023-03-25T13:03:44.219Z"
   },
   {
    "duration": 184,
    "start_time": "2023-03-25T13:03:45.015Z"
   },
   {
    "duration": 3,
    "start_time": "2023-03-25T13:03:45.201Z"
   },
   {
    "duration": 199,
    "start_time": "2023-03-25T13:03:45.206Z"
   },
   {
    "duration": 13,
    "start_time": "2023-03-25T13:03:45.407Z"
   },
   {
    "duration": 372,
    "start_time": "2023-03-25T13:03:45.422Z"
   },
   {
    "duration": 5,
    "start_time": "2023-03-25T13:03:45.796Z"
   },
   {
    "duration": 325,
    "start_time": "2023-03-25T13:03:45.804Z"
   },
   {
    "duration": 5,
    "start_time": "2023-03-25T13:03:46.131Z"
   },
   {
    "duration": 87,
    "start_time": "2023-03-25T13:03:46.138Z"
   },
   {
    "duration": 6,
    "start_time": "2023-03-25T13:03:46.227Z"
   },
   {
    "duration": 640,
    "start_time": "2023-03-25T13:03:46.234Z"
   },
   {
    "duration": 57,
    "start_time": "2023-03-25T13:03:46.876Z"
   },
   {
    "duration": 3,
    "start_time": "2023-03-25T13:03:46.935Z"
   },
   {
    "duration": 2639,
    "start_time": "2023-03-25T13:03:46.940Z"
   },
   {
    "duration": 5276,
    "start_time": "2023-03-25T13:03:49.580Z"
   },
   {
    "duration": 3,
    "start_time": "2023-03-25T13:03:54.858Z"
   },
   {
    "duration": 5,
    "start_time": "2023-03-25T13:03:54.872Z"
   },
   {
    "duration": 28,
    "start_time": "2023-03-25T13:03:54.878Z"
   },
   {
    "duration": 7683,
    "start_time": "2023-03-25T13:03:54.909Z"
   },
   {
    "duration": 207,
    "start_time": "2023-03-25T13:04:02.594Z"
   },
   {
    "duration": 5,
    "start_time": "2023-03-25T13:37:22.939Z"
   },
   {
    "duration": 4,
    "start_time": "2023-03-25T13:37:25.504Z"
   },
   {
    "duration": 3766,
    "start_time": "2023-03-25T13:37:44.892Z"
   },
   {
    "duration": 2050,
    "start_time": "2023-03-25T13:38:48.998Z"
   },
   {
    "duration": 1642,
    "start_time": "2023-03-25T13:38:51.050Z"
   },
   {
    "duration": 1131,
    "start_time": "2023-03-25T13:38:52.694Z"
   },
   {
    "duration": 20,
    "start_time": "2023-03-25T13:38:53.827Z"
   },
   {
    "duration": 121,
    "start_time": "2023-03-25T13:38:53.849Z"
   },
   {
    "duration": 19,
    "start_time": "2023-03-25T13:38:53.971Z"
   },
   {
    "duration": 113,
    "start_time": "2023-03-25T13:38:53.991Z"
   },
   {
    "duration": 416,
    "start_time": "2023-03-25T13:38:54.106Z"
   },
   {
    "duration": 899,
    "start_time": "2023-03-25T13:38:54.524Z"
   },
   {
    "duration": 173,
    "start_time": "2023-03-25T13:38:55.425Z"
   },
   {
    "duration": 3,
    "start_time": "2023-03-25T13:38:55.600Z"
   },
   {
    "duration": 306,
    "start_time": "2023-03-25T13:38:55.607Z"
   },
   {
    "duration": 16,
    "start_time": "2023-03-25T13:38:55.915Z"
   },
   {
    "duration": 447,
    "start_time": "2023-03-25T13:38:55.935Z"
   },
   {
    "duration": 7,
    "start_time": "2023-03-25T13:38:56.384Z"
   },
   {
    "duration": 67,
    "start_time": "2023-03-25T13:38:56.392Z"
   },
   {
    "duration": 3,
    "start_time": "2023-03-25T13:38:56.461Z"
   },
   {
    "duration": 65,
    "start_time": "2023-03-25T13:38:56.466Z"
   },
   {
    "duration": 4,
    "start_time": "2023-03-25T13:38:56.533Z"
   },
   {
    "duration": 577,
    "start_time": "2023-03-25T13:38:56.538Z"
   },
   {
    "duration": 59,
    "start_time": "2023-03-25T13:38:57.118Z"
   },
   {
    "duration": 7,
    "start_time": "2023-03-25T13:38:57.178Z"
   },
   {
    "duration": 4199,
    "start_time": "2023-03-25T13:38:57.186Z"
   },
   {
    "duration": 5900,
    "start_time": "2023-03-25T13:39:01.387Z"
   },
   {
    "duration": 7,
    "start_time": "2023-03-25T13:39:07.288Z"
   },
   {
    "duration": 4,
    "start_time": "2023-03-25T13:39:07.297Z"
   },
   {
    "duration": 8,
    "start_time": "2023-03-25T13:39:07.303Z"
   },
   {
    "duration": 7544,
    "start_time": "2023-03-25T13:39:07.312Z"
   },
   {
    "duration": 184,
    "start_time": "2023-03-25T13:39:14.858Z"
   },
   {
    "duration": 55,
    "start_time": "2023-03-25T15:27:00.961Z"
   },
   {
    "duration": 2202,
    "start_time": "2023-03-25T15:27:06.921Z"
   },
   {
    "duration": 1444,
    "start_time": "2023-03-25T15:27:09.125Z"
   },
   {
    "duration": 973,
    "start_time": "2023-03-25T15:27:10.570Z"
   },
   {
    "duration": 18,
    "start_time": "2023-03-25T15:27:11.545Z"
   },
   {
    "duration": 111,
    "start_time": "2023-03-25T15:27:11.564Z"
   },
   {
    "duration": 4,
    "start_time": "2023-03-25T15:27:11.676Z"
   },
   {
    "duration": 122,
    "start_time": "2023-03-25T15:27:11.682Z"
   },
   {
    "duration": 375,
    "start_time": "2023-03-25T15:27:11.805Z"
   },
   {
    "duration": 781,
    "start_time": "2023-03-25T15:27:12.181Z"
   },
   {
    "duration": 8,
    "start_time": "2023-03-25T15:27:12.965Z"
   },
   {
    "duration": 156,
    "start_time": "2023-03-25T15:27:12.975Z"
   },
   {
    "duration": 2,
    "start_time": "2023-03-25T15:27:13.133Z"
   },
   {
    "duration": 173,
    "start_time": "2023-03-25T15:27:13.136Z"
   },
   {
    "duration": 12,
    "start_time": "2023-03-25T15:27:13.311Z"
   },
   {
    "duration": 323,
    "start_time": "2023-03-25T15:27:13.324Z"
   },
   {
    "duration": 3,
    "start_time": "2023-03-25T15:27:13.648Z"
   },
   {
    "duration": 77,
    "start_time": "2023-03-25T15:27:13.653Z"
   },
   {
    "duration": 3,
    "start_time": "2023-03-25T15:27:13.731Z"
   },
   {
    "duration": 68,
    "start_time": "2023-03-25T15:27:13.735Z"
   },
   {
    "duration": 4,
    "start_time": "2023-03-25T15:27:13.805Z"
   },
   {
    "duration": 557,
    "start_time": "2023-03-25T15:27:13.810Z"
   },
   {
    "duration": 55,
    "start_time": "2023-03-25T15:27:14.369Z"
   },
   {
    "duration": 2,
    "start_time": "2023-03-25T15:27:14.425Z"
   },
   {
    "duration": 2360,
    "start_time": "2023-03-25T15:27:14.429Z"
   },
   {
    "duration": 4997,
    "start_time": "2023-03-25T15:27:16.872Z"
   },
   {
    "duration": 2,
    "start_time": "2023-03-25T15:27:21.872Z"
   },
   {
    "duration": 26,
    "start_time": "2023-03-25T15:27:21.877Z"
   },
   {
    "duration": 6,
    "start_time": "2023-03-25T15:27:21.905Z"
   },
   {
    "duration": 6796,
    "start_time": "2023-03-25T15:27:21.913Z"
   },
   {
    "duration": 181,
    "start_time": "2023-03-25T15:27:28.711Z"
   },
   {
    "duration": 561,
    "start_time": "2023-03-25T15:29:53.854Z"
   },
   {
    "duration": 291,
    "start_time": "2023-03-25T15:29:57.486Z"
   },
   {
    "duration": 4,
    "start_time": "2023-03-25T15:30:06.789Z"
   },
   {
    "duration": 9986,
    "start_time": "2023-03-25T15:36:14.963Z"
   },
   {
    "duration": 11588,
    "start_time": "2023-03-25T15:41:59.389Z"
   },
   {
    "duration": 1984,
    "start_time": "2023-03-25T15:42:25.650Z"
   },
   {
    "duration": 1285,
    "start_time": "2023-03-25T15:42:27.636Z"
   },
   {
    "duration": 717,
    "start_time": "2023-03-25T15:42:28.922Z"
   },
   {
    "duration": 17,
    "start_time": "2023-03-25T15:42:29.641Z"
   },
   {
    "duration": 130,
    "start_time": "2023-03-25T15:42:29.659Z"
   },
   {
    "duration": 3,
    "start_time": "2023-03-25T15:42:29.790Z"
   },
   {
    "duration": 123,
    "start_time": "2023-03-25T15:42:29.794Z"
   },
   {
    "duration": 397,
    "start_time": "2023-03-25T15:42:29.918Z"
   },
   {
    "duration": 804,
    "start_time": "2023-03-25T15:42:30.318Z"
   },
   {
    "duration": 448,
    "start_time": "2023-03-25T15:42:31.126Z"
   },
   {
    "duration": 165,
    "start_time": "2023-03-25T15:42:31.576Z"
   },
   {
    "duration": 3,
    "start_time": "2023-03-25T15:42:31.742Z"
   },
   {
    "duration": 183,
    "start_time": "2023-03-25T15:42:31.746Z"
   },
   {
    "duration": 13,
    "start_time": "2023-03-25T15:42:31.930Z"
   },
   {
    "duration": 372,
    "start_time": "2023-03-25T15:42:31.945Z"
   },
   {
    "duration": 11020,
    "start_time": "2023-03-25T15:42:32.318Z"
   },
   {
    "duration": 3,
    "start_time": "2023-03-25T15:42:43.339Z"
   },
   {
    "duration": 79,
    "start_time": "2023-03-25T15:42:43.344Z"
   },
   {
    "duration": 5,
    "start_time": "2023-03-25T15:42:43.424Z"
   },
   {
    "duration": 70,
    "start_time": "2023-03-25T15:42:43.430Z"
   },
   {
    "duration": 5,
    "start_time": "2023-03-25T15:42:43.502Z"
   },
   {
    "duration": 527,
    "start_time": "2023-03-25T15:42:43.508Z"
   },
   {
    "duration": 53,
    "start_time": "2023-03-25T15:42:44.037Z"
   },
   {
    "duration": 3,
    "start_time": "2023-03-25T15:42:44.092Z"
   },
   {
    "duration": 3078,
    "start_time": "2023-03-25T15:42:44.096Z"
   },
   {
    "duration": 4773,
    "start_time": "2023-03-25T15:42:47.176Z"
   },
   {
    "duration": 2,
    "start_time": "2023-03-25T15:42:51.951Z"
   },
   {
    "duration": 9,
    "start_time": "2023-03-25T15:42:51.956Z"
   },
   {
    "duration": 16,
    "start_time": "2023-03-25T15:42:51.967Z"
   },
   {
    "duration": 7151,
    "start_time": "2023-03-25T15:42:51.985Z"
   },
   {
    "duration": 188,
    "start_time": "2023-03-25T15:42:59.138Z"
   },
   {
    "duration": 245,
    "start_time": "2023-03-25T15:43:24.250Z"
   },
   {
    "duration": 234,
    "start_time": "2023-03-25T15:43:29.486Z"
   },
   {
    "duration": 959,
    "start_time": "2023-03-25T15:43:36.267Z"
   },
   {
    "duration": 340,
    "start_time": "2023-03-25T15:43:55.547Z"
   },
   {
    "duration": 248,
    "start_time": "2023-03-25T15:44:08.396Z"
   },
   {
    "duration": 245,
    "start_time": "2023-03-25T15:44:14.503Z"
   },
   {
    "duration": 397,
    "start_time": "2023-03-25T15:44:22.971Z"
   },
   {
    "duration": 251,
    "start_time": "2023-03-25T15:44:26.781Z"
   },
   {
    "duration": 10622,
    "start_time": "2023-03-25T15:44:35.261Z"
   },
   {
    "duration": 305,
    "start_time": "2023-03-25T15:45:18.966Z"
   },
   {
    "duration": 10,
    "start_time": "2023-03-25T15:45:40.735Z"
   },
   {
    "duration": 9,
    "start_time": "2023-03-25T15:45:48.133Z"
   },
   {
    "duration": 168,
    "start_time": "2023-03-25T15:46:06.913Z"
   },
   {
    "duration": 126,
    "start_time": "2023-03-25T15:46:22.889Z"
   },
   {
    "duration": 2056,
    "start_time": "2023-03-25T15:47:04.052Z"
   },
   {
    "duration": 1320,
    "start_time": "2023-03-25T15:47:06.111Z"
   },
   {
    "duration": 725,
    "start_time": "2023-03-25T15:47:07.432Z"
   },
   {
    "duration": 20,
    "start_time": "2023-03-25T15:47:08.159Z"
   },
   {
    "duration": 111,
    "start_time": "2023-03-25T15:47:08.181Z"
   },
   {
    "duration": 2,
    "start_time": "2023-03-25T15:47:08.294Z"
   },
   {
    "duration": 117,
    "start_time": "2023-03-25T15:47:08.298Z"
   },
   {
    "duration": 440,
    "start_time": "2023-03-25T15:47:08.417Z"
   },
   {
    "duration": 873,
    "start_time": "2023-03-25T15:47:08.859Z"
   },
   {
    "duration": 417,
    "start_time": "2023-03-25T15:47:09.735Z"
   },
   {
    "duration": 163,
    "start_time": "2023-03-25T15:47:10.154Z"
   },
   {
    "duration": 2,
    "start_time": "2023-03-25T15:47:10.319Z"
   },
   {
    "duration": 173,
    "start_time": "2023-03-25T15:47:10.322Z"
   },
   {
    "duration": 11,
    "start_time": "2023-03-25T15:47:10.497Z"
   },
   {
    "duration": 319,
    "start_time": "2023-03-25T15:47:10.510Z"
   },
   {
    "duration": 168,
    "start_time": "2023-03-25T15:47:10.831Z"
   },
   {
    "duration": 0,
    "start_time": "2023-03-25T15:47:11.000Z"
   },
   {
    "duration": 0,
    "start_time": "2023-03-25T15:47:11.001Z"
   },
   {
    "duration": 0,
    "start_time": "2023-03-25T15:47:11.002Z"
   },
   {
    "duration": 0,
    "start_time": "2023-03-25T15:47:11.003Z"
   },
   {
    "duration": 0,
    "start_time": "2023-03-25T15:47:11.004Z"
   },
   {
    "duration": 0,
    "start_time": "2023-03-25T15:47:11.005Z"
   },
   {
    "duration": 0,
    "start_time": "2023-03-25T15:47:11.005Z"
   },
   {
    "duration": 0,
    "start_time": "2023-03-25T15:47:11.006Z"
   },
   {
    "duration": 0,
    "start_time": "2023-03-25T15:47:11.007Z"
   },
   {
    "duration": 0,
    "start_time": "2023-03-25T15:47:11.008Z"
   },
   {
    "duration": 0,
    "start_time": "2023-03-25T15:47:11.009Z"
   },
   {
    "duration": 0,
    "start_time": "2023-03-25T15:47:11.010Z"
   },
   {
    "duration": 0,
    "start_time": "2023-03-25T15:47:11.010Z"
   },
   {
    "duration": 0,
    "start_time": "2023-03-25T15:47:11.011Z"
   },
   {
    "duration": 0,
    "start_time": "2023-03-25T15:47:11.012Z"
   },
   {
    "duration": 147,
    "start_time": "2023-03-25T15:47:33.811Z"
   },
   {
    "duration": 158,
    "start_time": "2023-03-25T15:48:25.883Z"
   },
   {
    "duration": 146,
    "start_time": "2023-03-25T15:48:45.734Z"
   },
   {
    "duration": 217,
    "start_time": "2023-03-25T15:52:09.511Z"
   },
   {
    "duration": 66,
    "start_time": "2023-03-25T15:52:16.556Z"
   },
   {
    "duration": 12,
    "start_time": "2023-03-25T15:53:06.848Z"
   },
   {
    "duration": 10,
    "start_time": "2023-03-25T15:53:19.101Z"
   },
   {
    "duration": 9,
    "start_time": "2023-03-25T15:53:26.845Z"
   },
   {
    "duration": 11,
    "start_time": "2023-03-25T15:54:13.121Z"
   },
   {
    "duration": 4,
    "start_time": "2023-03-25T15:54:17.578Z"
   },
   {
    "duration": 3,
    "start_time": "2023-03-25T15:54:29.214Z"
   },
   {
    "duration": 19,
    "start_time": "2023-03-25T15:54:47.672Z"
   },
   {
    "duration": 3,
    "start_time": "2023-03-25T15:54:53.623Z"
   },
   {
    "duration": 4,
    "start_time": "2023-03-25T15:54:56.851Z"
   },
   {
    "duration": 2880,
    "start_time": "2023-03-25T15:55:04.220Z"
   },
   {
    "duration": 1364,
    "start_time": "2023-03-25T15:55:07.102Z"
   },
   {
    "duration": 873,
    "start_time": "2023-03-25T15:55:08.468Z"
   },
   {
    "duration": 17,
    "start_time": "2023-03-25T15:55:09.343Z"
   },
   {
    "duration": 136,
    "start_time": "2023-03-25T15:55:09.362Z"
   },
   {
    "duration": 3,
    "start_time": "2023-03-25T15:55:09.500Z"
   },
   {
    "duration": 120,
    "start_time": "2023-03-25T15:55:09.504Z"
   },
   {
    "duration": 395,
    "start_time": "2023-03-25T15:55:09.626Z"
   },
   {
    "duration": 776,
    "start_time": "2023-03-25T15:55:10.022Z"
   },
   {
    "duration": 414,
    "start_time": "2023-03-25T15:55:10.800Z"
   },
   {
    "duration": 166,
    "start_time": "2023-03-25T15:55:11.215Z"
   },
   {
    "duration": 2,
    "start_time": "2023-03-25T15:55:11.383Z"
   },
   {
    "duration": 180,
    "start_time": "2023-03-25T15:55:11.387Z"
   },
   {
    "duration": 17,
    "start_time": "2023-03-25T15:55:11.570Z"
   },
   {
    "duration": 343,
    "start_time": "2023-03-25T15:55:11.589Z"
   },
   {
    "duration": 11,
    "start_time": "2023-03-25T15:55:11.933Z"
   },
   {
    "duration": 3,
    "start_time": "2023-03-25T15:55:11.945Z"
   },
   {
    "duration": 85,
    "start_time": "2023-03-25T15:55:11.949Z"
   },
   {
    "duration": 4,
    "start_time": "2023-03-25T15:55:12.035Z"
   },
   {
    "duration": 75,
    "start_time": "2023-03-25T15:55:12.040Z"
   },
   {
    "duration": 4,
    "start_time": "2023-03-25T15:55:12.117Z"
   },
   {
    "duration": 570,
    "start_time": "2023-03-25T15:55:12.123Z"
   },
   {
    "duration": 44,
    "start_time": "2023-03-25T15:55:12.695Z"
   },
   {
    "duration": 3,
    "start_time": "2023-03-25T15:55:12.740Z"
   },
   {
    "duration": 4353,
    "start_time": "2023-03-25T15:55:12.744Z"
   },
   {
    "duration": 5429,
    "start_time": "2023-03-25T15:55:17.099Z"
   },
   {
    "duration": 3,
    "start_time": "2023-03-25T15:55:22.529Z"
   },
   {
    "duration": 6,
    "start_time": "2023-03-25T15:55:22.534Z"
   },
   {
    "duration": 4,
    "start_time": "2023-03-25T15:55:22.541Z"
   },
   {
    "duration": 7142,
    "start_time": "2023-03-25T15:55:22.546Z"
   },
   {
    "duration": 179,
    "start_time": "2023-03-25T15:55:29.689Z"
   },
   {
    "duration": 393,
    "start_time": "2023-03-25T15:57:38.104Z"
   },
   {
    "duration": 232,
    "start_time": "2023-03-25T15:57:43.538Z"
   },
   {
    "duration": 237,
    "start_time": "2023-03-25T15:57:47.915Z"
   },
   {
    "duration": 238,
    "start_time": "2023-03-25T15:57:57.403Z"
   },
   {
    "duration": 135,
    "start_time": "2023-03-25T15:59:53.962Z"
   },
   {
    "duration": 13,
    "start_time": "2023-03-25T16:00:12.255Z"
   },
   {
    "duration": 19,
    "start_time": "2023-03-25T16:00:29.028Z"
   },
   {
    "duration": 17,
    "start_time": "2023-03-25T16:00:32.348Z"
   },
   {
    "duration": 18,
    "start_time": "2023-03-25T16:01:01.516Z"
   },
   {
    "duration": 128,
    "start_time": "2023-03-25T16:01:18.238Z"
   },
   {
    "duration": 280,
    "start_time": "2023-03-25T16:02:29.406Z"
   },
   {
    "duration": 5837,
    "start_time": "2023-03-25T16:02:42.953Z"
   },
   {
    "duration": 11203,
    "start_time": "2023-03-25T16:03:18.128Z"
   },
   {
    "duration": 45,
    "start_time": "2023-03-25T16:03:36.808Z"
   },
   {
    "duration": 287,
    "start_time": "2023-03-25T16:03:42.163Z"
   },
   {
    "duration": 3,
    "start_time": "2023-03-25T16:04:23.786Z"
   },
   {
    "duration": 5,
    "start_time": "2023-03-25T16:04:27.041Z"
   },
   {
    "duration": 165,
    "start_time": "2023-03-25T16:04:40.164Z"
   },
   {
    "duration": 35,
    "start_time": "2023-03-25T16:05:45.933Z"
   },
   {
    "duration": 956,
    "start_time": "2023-03-25T16:05:54.059Z"
   },
   {
    "duration": 2106,
    "start_time": "2023-03-25T16:06:07.902Z"
   },
   {
    "duration": 3281,
    "start_time": "2023-03-25T16:06:23.291Z"
   },
   {
    "duration": 858,
    "start_time": "2023-03-25T16:06:41.136Z"
   },
   {
    "duration": 936,
    "start_time": "2023-03-25T16:06:50.447Z"
   },
   {
    "duration": 415,
    "start_time": "2023-03-25T16:07:14.984Z"
   },
   {
    "duration": 6295,
    "start_time": "2023-03-25T16:08:08.851Z"
   },
   {
    "duration": 3446,
    "start_time": "2023-03-25T16:09:13.998Z"
   },
   {
    "duration": 3007,
    "start_time": "2023-03-25T16:10:00.132Z"
   },
   {
    "duration": 1503,
    "start_time": "2023-03-25T16:10:03.141Z"
   },
   {
    "duration": 772,
    "start_time": "2023-03-25T16:10:04.645Z"
   },
   {
    "duration": 17,
    "start_time": "2023-03-25T16:10:05.419Z"
   },
   {
    "duration": 141,
    "start_time": "2023-03-25T16:10:05.438Z"
   },
   {
    "duration": 4,
    "start_time": "2023-03-25T16:10:05.581Z"
   },
   {
    "duration": 134,
    "start_time": "2023-03-25T16:10:05.586Z"
   },
   {
    "duration": 488,
    "start_time": "2023-03-25T16:10:05.722Z"
   },
   {
    "duration": 868,
    "start_time": "2023-03-25T16:10:06.212Z"
   },
   {
    "duration": 431,
    "start_time": "2023-03-25T16:10:07.083Z"
   },
   {
    "duration": 162,
    "start_time": "2023-03-25T16:10:07.515Z"
   },
   {
    "duration": 2,
    "start_time": "2023-03-25T16:10:07.679Z"
   },
   {
    "duration": 173,
    "start_time": "2023-03-25T16:10:07.683Z"
   },
   {
    "duration": 16,
    "start_time": "2023-03-25T16:10:07.857Z"
   },
   {
    "duration": 329,
    "start_time": "2023-03-25T16:10:07.875Z"
   },
   {
    "duration": 6539,
    "start_time": "2023-03-25T16:10:08.206Z"
   },
   {
    "duration": 3147,
    "start_time": "2023-03-25T16:10:14.747Z"
   },
   {
    "duration": 3,
    "start_time": "2023-03-25T16:10:17.895Z"
   },
   {
    "duration": 113,
    "start_time": "2023-03-25T16:10:17.899Z"
   },
   {
    "duration": 3,
    "start_time": "2023-03-25T16:10:18.014Z"
   },
   {
    "duration": 86,
    "start_time": "2023-03-25T16:10:18.018Z"
   },
   {
    "duration": 4,
    "start_time": "2023-03-25T16:10:18.105Z"
   },
   {
    "duration": 504,
    "start_time": "2023-03-25T16:10:18.110Z"
   },
   {
    "duration": 41,
    "start_time": "2023-03-25T16:10:18.615Z"
   },
   {
    "duration": 2,
    "start_time": "2023-03-25T16:10:18.658Z"
   },
   {
    "duration": 172,
    "start_time": "2023-03-25T16:10:18.662Z"
   },
   {
    "duration": 0,
    "start_time": "2023-03-25T16:10:18.835Z"
   },
   {
    "duration": 0,
    "start_time": "2023-03-25T16:10:18.836Z"
   },
   {
    "duration": 0,
    "start_time": "2023-03-25T16:10:18.837Z"
   },
   {
    "duration": 0,
    "start_time": "2023-03-25T16:10:18.837Z"
   },
   {
    "duration": 0,
    "start_time": "2023-03-25T16:10:18.838Z"
   },
   {
    "duration": 0,
    "start_time": "2023-03-25T16:10:18.838Z"
   },
   {
    "duration": 222,
    "start_time": "2023-03-25T16:15:39.643Z"
   },
   {
    "duration": 250,
    "start_time": "2023-03-25T16:15:48.756Z"
   },
   {
    "duration": 287,
    "start_time": "2023-03-25T16:17:09.040Z"
   },
   {
    "duration": 1899,
    "start_time": "2023-03-25T16:17:18.893Z"
   },
   {
    "duration": 1434,
    "start_time": "2023-03-25T16:17:20.794Z"
   },
   {
    "duration": 756,
    "start_time": "2023-03-25T16:17:22.230Z"
   },
   {
    "duration": 17,
    "start_time": "2023-03-25T16:17:22.989Z"
   },
   {
    "duration": 144,
    "start_time": "2023-03-25T16:17:23.008Z"
   },
   {
    "duration": 3,
    "start_time": "2023-03-25T16:17:23.153Z"
   },
   {
    "duration": 130,
    "start_time": "2023-03-25T16:17:23.157Z"
   },
   {
    "duration": 400,
    "start_time": "2023-03-25T16:17:23.288Z"
   },
   {
    "duration": 818,
    "start_time": "2023-03-25T16:17:23.690Z"
   },
   {
    "duration": 447,
    "start_time": "2023-03-25T16:17:24.512Z"
   },
   {
    "duration": 170,
    "start_time": "2023-03-25T16:17:24.960Z"
   },
   {
    "duration": 3,
    "start_time": "2023-03-25T16:17:25.131Z"
   },
   {
    "duration": 179,
    "start_time": "2023-03-25T16:17:25.136Z"
   },
   {
    "duration": 12,
    "start_time": "2023-03-25T16:17:25.316Z"
   },
   {
    "duration": 334,
    "start_time": "2023-03-25T16:17:25.330Z"
   },
   {
    "duration": 6606,
    "start_time": "2023-03-25T16:17:25.666Z"
   },
   {
    "duration": 7035,
    "start_time": "2023-03-25T16:17:32.274Z"
   },
   {
    "duration": 0,
    "start_time": "2023-03-25T16:17:39.310Z"
   },
   {
    "duration": 0,
    "start_time": "2023-03-25T16:17:39.312Z"
   },
   {
    "duration": 0,
    "start_time": "2023-03-25T16:17:39.312Z"
   },
   {
    "duration": 0,
    "start_time": "2023-03-25T16:17:39.313Z"
   },
   {
    "duration": 0,
    "start_time": "2023-03-25T16:17:39.314Z"
   },
   {
    "duration": 0,
    "start_time": "2023-03-25T16:17:39.316Z"
   },
   {
    "duration": 0,
    "start_time": "2023-03-25T16:17:39.316Z"
   },
   {
    "duration": 0,
    "start_time": "2023-03-25T16:17:39.318Z"
   },
   {
    "duration": 0,
    "start_time": "2023-03-25T16:17:39.318Z"
   },
   {
    "duration": 0,
    "start_time": "2023-03-25T16:17:39.319Z"
   },
   {
    "duration": 0,
    "start_time": "2023-03-25T16:17:39.320Z"
   },
   {
    "duration": 0,
    "start_time": "2023-03-25T16:17:39.321Z"
   },
   {
    "duration": 0,
    "start_time": "2023-03-25T16:17:39.322Z"
   },
   {
    "duration": 0,
    "start_time": "2023-03-25T16:17:39.323Z"
   },
   {
    "duration": 0,
    "start_time": "2023-03-25T16:17:39.323Z"
   },
   {
    "duration": 223,
    "start_time": "2023-03-25T16:18:00.123Z"
   },
   {
    "duration": 1951,
    "start_time": "2023-03-25T16:18:14.406Z"
   },
   {
    "duration": 1288,
    "start_time": "2023-03-25T16:18:16.359Z"
   },
   {
    "duration": 707,
    "start_time": "2023-03-25T16:18:17.648Z"
   },
   {
    "duration": 18,
    "start_time": "2023-03-25T16:18:18.356Z"
   },
   {
    "duration": 106,
    "start_time": "2023-03-25T16:18:18.375Z"
   },
   {
    "duration": 3,
    "start_time": "2023-03-25T16:18:18.482Z"
   },
   {
    "duration": 110,
    "start_time": "2023-03-25T16:18:18.486Z"
   },
   {
    "duration": 389,
    "start_time": "2023-03-25T16:18:18.597Z"
   },
   {
    "duration": 776,
    "start_time": "2023-03-25T16:18:18.987Z"
   },
   {
    "duration": 420,
    "start_time": "2023-03-25T16:18:19.765Z"
   },
   {
    "duration": 152,
    "start_time": "2023-03-25T16:18:20.186Z"
   },
   {
    "duration": 2,
    "start_time": "2023-03-25T16:18:20.339Z"
   },
   {
    "duration": 169,
    "start_time": "2023-03-25T16:18:20.342Z"
   },
   {
    "duration": 11,
    "start_time": "2023-03-25T16:18:20.513Z"
   },
   {
    "duration": 321,
    "start_time": "2023-03-25T16:18:20.526Z"
   },
   {
    "duration": 6178,
    "start_time": "2023-03-25T16:18:20.848Z"
   },
   {
    "duration": 5978,
    "start_time": "2023-03-25T16:18:27.028Z"
   },
   {
    "duration": 3,
    "start_time": "2023-03-25T16:18:33.008Z"
   },
   {
    "duration": 139,
    "start_time": "2023-03-25T16:18:33.013Z"
   },
   {
    "duration": 3,
    "start_time": "2023-03-25T16:18:33.154Z"
   },
   {
    "duration": 80,
    "start_time": "2023-03-25T16:18:33.159Z"
   },
   {
    "duration": 3,
    "start_time": "2023-03-25T16:18:33.241Z"
   },
   {
    "duration": 2036,
    "start_time": "2023-03-25T16:18:33.246Z"
   },
   {
    "duration": 57,
    "start_time": "2023-03-25T16:18:35.283Z"
   },
   {
    "duration": 2,
    "start_time": "2023-03-25T16:18:35.342Z"
   },
   {
    "duration": 158,
    "start_time": "2023-03-25T16:18:35.345Z"
   },
   {
    "duration": 0,
    "start_time": "2023-03-25T16:18:35.505Z"
   },
   {
    "duration": 0,
    "start_time": "2023-03-25T16:18:35.507Z"
   },
   {
    "duration": 0,
    "start_time": "2023-03-25T16:18:35.508Z"
   },
   {
    "duration": 0,
    "start_time": "2023-03-25T16:18:35.508Z"
   },
   {
    "duration": 0,
    "start_time": "2023-03-25T16:18:35.509Z"
   },
   {
    "duration": 0,
    "start_time": "2023-03-25T16:18:35.510Z"
   },
   {
    "duration": 316,
    "start_time": "2023-03-25T16:18:56.616Z"
   },
   {
    "duration": 2081,
    "start_time": "2023-03-25T16:19:40.057Z"
   },
   {
    "duration": 1379,
    "start_time": "2023-03-25T16:19:42.139Z"
   },
   {
    "duration": 760,
    "start_time": "2023-03-25T16:19:43.520Z"
   },
   {
    "duration": 18,
    "start_time": "2023-03-25T16:19:44.282Z"
   },
   {
    "duration": 121,
    "start_time": "2023-03-25T16:19:44.301Z"
   },
   {
    "duration": 3,
    "start_time": "2023-03-25T16:19:44.423Z"
   },
   {
    "duration": 125,
    "start_time": "2023-03-25T16:19:44.428Z"
   },
   {
    "duration": 427,
    "start_time": "2023-03-25T16:19:44.555Z"
   },
   {
    "duration": 894,
    "start_time": "2023-03-25T16:19:44.984Z"
   },
   {
    "duration": 488,
    "start_time": "2023-03-25T16:19:45.881Z"
   },
   {
    "duration": 193,
    "start_time": "2023-03-25T16:19:46.371Z"
   },
   {
    "duration": 2,
    "start_time": "2023-03-25T16:19:46.566Z"
   },
   {
    "duration": 179,
    "start_time": "2023-03-25T16:19:46.572Z"
   },
   {
    "duration": 19,
    "start_time": "2023-03-25T16:19:46.753Z"
   },
   {
    "duration": 345,
    "start_time": "2023-03-25T16:19:46.774Z"
   },
   {
    "duration": 6461,
    "start_time": "2023-03-25T16:19:47.120Z"
   },
   {
    "duration": 6035,
    "start_time": "2023-03-25T16:19:53.582Z"
   },
   {
    "duration": 2,
    "start_time": "2023-03-25T16:19:59.619Z"
   },
   {
    "duration": 124,
    "start_time": "2023-03-25T16:19:59.623Z"
   },
   {
    "duration": 3,
    "start_time": "2023-03-25T16:19:59.749Z"
   },
   {
    "duration": 90,
    "start_time": "2023-03-25T16:19:59.754Z"
   },
   {
    "duration": 4,
    "start_time": "2023-03-25T16:19:59.845Z"
   },
   {
    "duration": 2130,
    "start_time": "2023-03-25T16:19:59.850Z"
   },
   {
    "duration": 60,
    "start_time": "2023-03-25T16:20:01.982Z"
   },
   {
    "duration": 3,
    "start_time": "2023-03-25T16:20:02.044Z"
   },
   {
    "duration": 177,
    "start_time": "2023-03-25T16:20:02.048Z"
   },
   {
    "duration": 0,
    "start_time": "2023-03-25T16:20:02.227Z"
   },
   {
    "duration": 0,
    "start_time": "2023-03-25T16:20:02.228Z"
   },
   {
    "duration": 0,
    "start_time": "2023-03-25T16:20:02.229Z"
   },
   {
    "duration": 0,
    "start_time": "2023-03-25T16:20:02.230Z"
   },
   {
    "duration": 0,
    "start_time": "2023-03-25T16:20:02.231Z"
   },
   {
    "duration": 0,
    "start_time": "2023-03-25T16:20:02.233Z"
   },
   {
    "duration": 116,
    "start_time": "2023-03-25T16:20:43.902Z"
   },
   {
    "duration": 3,
    "start_time": "2023-03-25T16:25:08.274Z"
   },
   {
    "duration": 25,
    "start_time": "2023-03-25T16:26:53.148Z"
   },
   {
    "duration": 3,
    "start_time": "2023-03-25T16:26:54.792Z"
   },
   {
    "duration": 94,
    "start_time": "2023-03-25T16:26:56.459Z"
   },
   {
    "duration": 4,
    "start_time": "2023-03-25T16:26:58.431Z"
   },
   {
    "duration": 7846,
    "start_time": "2023-03-25T16:27:11.383Z"
   },
   {
    "duration": 17,
    "start_time": "2023-03-25T16:27:55.392Z"
   },
   {
    "duration": 30,
    "start_time": "2023-03-25T16:29:05.958Z"
   },
   {
    "duration": 1917,
    "start_time": "2023-03-25T16:29:39.587Z"
   },
   {
    "duration": 1851,
    "start_time": "2023-03-25T16:29:41.506Z"
   },
   {
    "duration": 1212,
    "start_time": "2023-03-25T16:29:43.360Z"
   },
   {
    "duration": 724,
    "start_time": "2023-03-25T16:29:44.575Z"
   },
   {
    "duration": 16,
    "start_time": "2023-03-25T16:29:45.301Z"
   },
   {
    "duration": 124,
    "start_time": "2023-03-25T16:29:45.318Z"
   },
   {
    "duration": 3,
    "start_time": "2023-03-25T16:29:45.444Z"
   },
   {
    "duration": 112,
    "start_time": "2023-03-25T16:29:45.448Z"
   },
   {
    "duration": 404,
    "start_time": "2023-03-25T16:29:45.561Z"
   },
   {
    "duration": 870,
    "start_time": "2023-03-25T16:29:45.972Z"
   },
   {
    "duration": 426,
    "start_time": "2023-03-25T16:29:46.844Z"
   },
   {
    "duration": 156,
    "start_time": "2023-03-25T16:29:47.272Z"
   },
   {
    "duration": 3,
    "start_time": "2023-03-25T16:29:47.430Z"
   },
   {
    "duration": 166,
    "start_time": "2023-03-25T16:29:47.436Z"
   },
   {
    "duration": 13,
    "start_time": "2023-03-25T16:29:47.603Z"
   },
   {
    "duration": 307,
    "start_time": "2023-03-25T16:29:47.617Z"
   },
   {
    "duration": 6175,
    "start_time": "2023-03-25T16:29:47.926Z"
   },
   {
    "duration": 2,
    "start_time": "2023-03-25T16:29:54.102Z"
   },
   {
    "duration": 7,
    "start_time": "2023-03-25T16:29:54.105Z"
   },
   {
    "duration": 128,
    "start_time": "2023-03-25T16:29:54.114Z"
   },
   {
    "duration": 4,
    "start_time": "2023-03-25T16:29:54.246Z"
   },
   {
    "duration": 99,
    "start_time": "2023-03-25T16:29:54.251Z"
   },
   {
    "duration": 4,
    "start_time": "2023-03-25T16:29:54.351Z"
   },
   {
    "duration": 2282,
    "start_time": "2023-03-25T16:29:54.356Z"
   },
   {
    "duration": 65,
    "start_time": "2023-03-25T16:29:56.640Z"
   },
   {
    "duration": 2,
    "start_time": "2023-03-25T16:29:56.707Z"
   },
   {
    "duration": 150,
    "start_time": "2023-03-25T16:29:56.710Z"
   },
   {
    "duration": 0,
    "start_time": "2023-03-25T16:29:56.861Z"
   },
   {
    "duration": 0,
    "start_time": "2023-03-25T16:29:56.862Z"
   },
   {
    "duration": 0,
    "start_time": "2023-03-25T16:29:56.863Z"
   },
   {
    "duration": 1,
    "start_time": "2023-03-25T16:29:56.871Z"
   },
   {
    "duration": 0,
    "start_time": "2023-03-25T16:29:56.873Z"
   },
   {
    "duration": 0,
    "start_time": "2023-03-25T16:29:56.874Z"
   },
   {
    "duration": 608,
    "start_time": "2023-03-25T16:31:30.644Z"
   },
   {
    "duration": 10,
    "start_time": "2023-03-25T16:32:02.203Z"
   },
   {
    "duration": 13,
    "start_time": "2023-03-25T16:32:08.181Z"
   },
   {
    "duration": 1832,
    "start_time": "2023-03-25T16:32:16.056Z"
   },
   {
    "duration": 1823,
    "start_time": "2023-03-25T16:32:17.891Z"
   },
   {
    "duration": 1136,
    "start_time": "2023-03-25T16:32:19.716Z"
   },
   {
    "duration": 719,
    "start_time": "2023-03-25T16:32:20.854Z"
   },
   {
    "duration": 16,
    "start_time": "2023-03-25T16:32:21.575Z"
   },
   {
    "duration": 123,
    "start_time": "2023-03-25T16:32:21.592Z"
   },
   {
    "duration": 3,
    "start_time": "2023-03-25T16:32:21.717Z"
   },
   {
    "duration": 112,
    "start_time": "2023-03-25T16:32:21.722Z"
   },
   {
    "duration": 389,
    "start_time": "2023-03-25T16:32:21.835Z"
   },
   {
    "duration": 817,
    "start_time": "2023-03-25T16:32:22.226Z"
   },
   {
    "duration": 422,
    "start_time": "2023-03-25T16:32:23.045Z"
   },
   {
    "duration": 156,
    "start_time": "2023-03-25T16:32:23.468Z"
   },
   {
    "duration": 2,
    "start_time": "2023-03-25T16:32:23.626Z"
   },
   {
    "duration": 167,
    "start_time": "2023-03-25T16:32:23.631Z"
   },
   {
    "duration": 12,
    "start_time": "2023-03-25T16:32:23.799Z"
   },
   {
    "duration": 311,
    "start_time": "2023-03-25T16:32:23.812Z"
   },
   {
    "duration": 6328,
    "start_time": "2023-03-25T16:32:24.125Z"
   },
   {
    "duration": 2,
    "start_time": "2023-03-25T16:32:30.455Z"
   },
   {
    "duration": 70,
    "start_time": "2023-03-25T16:32:30.459Z"
   },
   {
    "duration": 146,
    "start_time": "2023-03-25T16:32:30.531Z"
   },
   {
    "duration": 4,
    "start_time": "2023-03-25T16:32:30.679Z"
   },
   {
    "duration": 120,
    "start_time": "2023-03-25T16:32:30.684Z"
   },
   {
    "duration": 3,
    "start_time": "2023-03-25T16:32:30.805Z"
   },
   {
    "duration": 617,
    "start_time": "2023-03-25T16:32:30.809Z"
   },
   {
    "duration": 109,
    "start_time": "2023-03-25T16:32:31.428Z"
   },
   {
    "duration": 0,
    "start_time": "2023-03-25T16:32:31.538Z"
   },
   {
    "duration": 0,
    "start_time": "2023-03-25T16:32:31.539Z"
   },
   {
    "duration": 0,
    "start_time": "2023-03-25T16:32:31.540Z"
   },
   {
    "duration": 0,
    "start_time": "2023-03-25T16:32:31.542Z"
   },
   {
    "duration": 0,
    "start_time": "2023-03-25T16:32:31.542Z"
   },
   {
    "duration": 0,
    "start_time": "2023-03-25T16:32:31.543Z"
   },
   {
    "duration": 0,
    "start_time": "2023-03-25T16:32:31.544Z"
   },
   {
    "duration": 1,
    "start_time": "2023-03-25T16:32:31.545Z"
   },
   {
    "duration": 10,
    "start_time": "2023-03-25T16:33:36.395Z"
   },
   {
    "duration": 3,
    "start_time": "2023-03-25T16:33:41.528Z"
   },
   {
    "duration": 3,
    "start_time": "2023-03-25T16:33:48.773Z"
   },
   {
    "duration": 9,
    "start_time": "2023-03-25T16:36:51.892Z"
   },
   {
    "duration": 2,
    "start_time": "2023-03-25T16:38:09.774Z"
   },
   {
    "duration": 1874,
    "start_time": "2023-03-25T16:38:17.738Z"
   },
   {
    "duration": 1843,
    "start_time": "2023-03-25T16:38:19.615Z"
   },
   {
    "duration": 1131,
    "start_time": "2023-03-25T16:38:21.459Z"
   },
   {
    "duration": 726,
    "start_time": "2023-03-25T16:38:22.592Z"
   },
   {
    "duration": 13,
    "start_time": "2023-03-25T16:38:23.320Z"
   },
   {
    "duration": 110,
    "start_time": "2023-03-25T16:38:23.334Z"
   },
   {
    "duration": 3,
    "start_time": "2023-03-25T16:38:23.445Z"
   },
   {
    "duration": 111,
    "start_time": "2023-03-25T16:38:23.449Z"
   },
   {
    "duration": 378,
    "start_time": "2023-03-25T16:38:23.562Z"
   },
   {
    "duration": 808,
    "start_time": "2023-03-25T16:38:23.943Z"
   },
   {
    "duration": 404,
    "start_time": "2023-03-25T16:38:24.752Z"
   },
   {
    "duration": 155,
    "start_time": "2023-03-25T16:38:25.157Z"
   },
   {
    "duration": 2,
    "start_time": "2023-03-25T16:38:25.314Z"
   },
   {
    "duration": 162,
    "start_time": "2023-03-25T16:38:25.318Z"
   },
   {
    "duration": 13,
    "start_time": "2023-03-25T16:38:25.482Z"
   },
   {
    "duration": 340,
    "start_time": "2023-03-25T16:38:25.496Z"
   },
   {
    "duration": 6188,
    "start_time": "2023-03-25T16:38:25.837Z"
   },
   {
    "duration": 2,
    "start_time": "2023-03-25T16:38:32.027Z"
   },
   {
    "duration": 26,
    "start_time": "2023-03-25T16:38:32.031Z"
   },
   {
    "duration": 149,
    "start_time": "2023-03-25T16:38:32.059Z"
   },
   {
    "duration": 3,
    "start_time": "2023-03-25T16:38:32.210Z"
   },
   {
    "duration": 99,
    "start_time": "2023-03-25T16:38:32.215Z"
   },
   {
    "duration": 3,
    "start_time": "2023-03-25T16:38:32.316Z"
   },
   {
    "duration": 603,
    "start_time": "2023-03-25T16:38:32.320Z"
   },
   {
    "duration": 4,
    "start_time": "2023-03-25T16:38:32.924Z"
   },
   {
    "duration": 6,
    "start_time": "2023-03-25T16:38:32.930Z"
   },
   {
    "duration": 8,
    "start_time": "2023-03-25T16:38:32.937Z"
   },
   {
    "duration": 151,
    "start_time": "2023-03-25T16:38:32.947Z"
   },
   {
    "duration": 0,
    "start_time": "2023-03-25T16:38:33.099Z"
   },
   {
    "duration": 0,
    "start_time": "2023-03-25T16:38:33.101Z"
   },
   {
    "duration": 0,
    "start_time": "2023-03-25T16:38:33.102Z"
   },
   {
    "duration": 0,
    "start_time": "2023-03-25T16:38:33.103Z"
   },
   {
    "duration": 0,
    "start_time": "2023-03-25T16:38:33.104Z"
   },
   {
    "duration": 0,
    "start_time": "2023-03-25T16:38:33.105Z"
   },
   {
    "duration": 4,
    "start_time": "2023-03-25T16:39:04.343Z"
   },
   {
    "duration": 3,
    "start_time": "2023-03-25T16:39:29.124Z"
   },
   {
    "duration": 2211,
    "start_time": "2023-03-25T16:40:11.116Z"
   },
   {
    "duration": 2397,
    "start_time": "2023-03-25T16:40:13.329Z"
   },
   {
    "duration": 1163,
    "start_time": "2023-03-25T16:40:15.728Z"
   },
   {
    "duration": 724,
    "start_time": "2023-03-25T16:40:16.893Z"
   },
   {
    "duration": 14,
    "start_time": "2023-03-25T16:40:17.619Z"
   },
   {
    "duration": 116,
    "start_time": "2023-03-25T16:40:17.635Z"
   },
   {
    "duration": 3,
    "start_time": "2023-03-25T16:40:17.752Z"
   },
   {
    "duration": 109,
    "start_time": "2023-03-25T16:40:17.756Z"
   },
   {
    "duration": 383,
    "start_time": "2023-03-25T16:40:17.867Z"
   },
   {
    "duration": 804,
    "start_time": "2023-03-25T16:40:18.253Z"
   },
   {
    "duration": 416,
    "start_time": "2023-03-25T16:40:19.058Z"
   },
   {
    "duration": 157,
    "start_time": "2023-03-25T16:40:19.475Z"
   },
   {
    "duration": 2,
    "start_time": "2023-03-25T16:40:19.633Z"
   },
   {
    "duration": 163,
    "start_time": "2023-03-25T16:40:19.636Z"
   },
   {
    "duration": 12,
    "start_time": "2023-03-25T16:40:19.800Z"
   },
   {
    "duration": 302,
    "start_time": "2023-03-25T16:40:19.814Z"
   },
   {
    "duration": 6337,
    "start_time": "2023-03-25T16:40:20.117Z"
   },
   {
    "duration": 2,
    "start_time": "2023-03-25T16:40:26.456Z"
   },
   {
    "duration": 5,
    "start_time": "2023-03-25T16:40:26.459Z"
   },
   {
    "duration": 129,
    "start_time": "2023-03-25T16:40:26.465Z"
   },
   {
    "duration": 3,
    "start_time": "2023-03-25T16:40:26.595Z"
   },
   {
    "duration": 99,
    "start_time": "2023-03-25T16:40:26.600Z"
   },
   {
    "duration": 3,
    "start_time": "2023-03-25T16:40:26.701Z"
   },
   {
    "duration": 2565,
    "start_time": "2023-03-25T16:40:45.587Z"
   },
   {
    "duration": 2615,
    "start_time": "2023-03-25T16:40:48.154Z"
   },
   {
    "duration": 1494,
    "start_time": "2023-03-25T16:40:50.771Z"
   },
   {
    "duration": 938,
    "start_time": "2023-03-25T16:40:52.266Z"
   },
   {
    "duration": 15,
    "start_time": "2023-03-25T16:40:53.206Z"
   },
   {
    "duration": 114,
    "start_time": "2023-03-25T16:40:53.222Z"
   },
   {
    "duration": 3,
    "start_time": "2023-03-25T16:40:53.338Z"
   },
   {
    "duration": 103,
    "start_time": "2023-03-25T16:40:53.342Z"
   },
   {
    "duration": 378,
    "start_time": "2023-03-25T16:40:53.447Z"
   },
   {
    "duration": 805,
    "start_time": "2023-03-25T16:40:53.826Z"
   },
   {
    "duration": 426,
    "start_time": "2023-03-25T16:40:54.632Z"
   },
   {
    "duration": 164,
    "start_time": "2023-03-25T16:40:55.060Z"
   },
   {
    "duration": 3,
    "start_time": "2023-03-25T16:40:55.225Z"
   },
   {
    "duration": 164,
    "start_time": "2023-03-25T16:40:55.230Z"
   },
   {
    "duration": 13,
    "start_time": "2023-03-25T16:40:55.395Z"
   },
   {
    "duration": 313,
    "start_time": "2023-03-25T16:40:55.410Z"
   },
   {
    "duration": 6332,
    "start_time": "2023-03-25T16:40:55.724Z"
   },
   {
    "duration": 2,
    "start_time": "2023-03-25T16:41:02.058Z"
   },
   {
    "duration": 34,
    "start_time": "2023-03-25T16:41:02.062Z"
   },
   {
    "duration": 196,
    "start_time": "2023-03-25T16:41:02.097Z"
   },
   {
    "duration": 4,
    "start_time": "2023-03-25T16:41:02.295Z"
   },
   {
    "duration": 107,
    "start_time": "2023-03-25T16:41:02.300Z"
   },
   {
    "duration": 4,
    "start_time": "2023-03-25T16:41:02.408Z"
   },
   {
    "duration": 3,
    "start_time": "2023-03-25T16:43:04.662Z"
   },
   {
    "duration": 2476,
    "start_time": "2023-03-25T16:43:10.220Z"
   },
   {
    "duration": 1922,
    "start_time": "2023-03-25T16:43:12.698Z"
   },
   {
    "duration": 1470,
    "start_time": "2023-03-25T16:43:14.622Z"
   },
   {
    "duration": 916,
    "start_time": "2023-03-25T16:43:16.094Z"
   },
   {
    "duration": 15,
    "start_time": "2023-03-25T16:43:17.011Z"
   },
   {
    "duration": 120,
    "start_time": "2023-03-25T16:43:17.027Z"
   },
   {
    "duration": 3,
    "start_time": "2023-03-25T16:43:17.148Z"
   },
   {
    "duration": 111,
    "start_time": "2023-03-25T16:43:17.153Z"
   },
   {
    "duration": 381,
    "start_time": "2023-03-25T16:43:17.266Z"
   },
   {
    "duration": 801,
    "start_time": "2023-03-25T16:43:17.649Z"
   },
   {
    "duration": 412,
    "start_time": "2023-03-25T16:43:18.451Z"
   },
   {
    "duration": 153,
    "start_time": "2023-03-25T16:43:18.864Z"
   },
   {
    "duration": 3,
    "start_time": "2023-03-25T16:43:19.018Z"
   },
   {
    "duration": 173,
    "start_time": "2023-03-25T16:43:19.022Z"
   },
   {
    "duration": 12,
    "start_time": "2023-03-25T16:43:19.196Z"
   },
   {
    "duration": 304,
    "start_time": "2023-03-25T16:43:19.210Z"
   },
   {
    "duration": 6291,
    "start_time": "2023-03-25T16:43:19.515Z"
   },
   {
    "duration": 2,
    "start_time": "2023-03-25T16:43:25.808Z"
   },
   {
    "duration": 7,
    "start_time": "2023-03-25T16:43:25.811Z"
   },
   {
    "duration": 134,
    "start_time": "2023-03-25T16:43:25.819Z"
   },
   {
    "duration": 5,
    "start_time": "2023-03-25T16:43:25.955Z"
   },
   {
    "duration": 137,
    "start_time": "2023-03-25T16:43:25.973Z"
   },
   {
    "duration": 5,
    "start_time": "2023-03-25T16:43:26.111Z"
   },
   {
    "duration": 7,
    "start_time": "2023-03-25T16:43:26.117Z"
   },
   {
    "duration": 111,
    "start_time": "2023-03-25T16:43:26.126Z"
   },
   {
    "duration": 0,
    "start_time": "2023-03-25T16:43:26.239Z"
   },
   {
    "duration": 0,
    "start_time": "2023-03-25T16:43:26.240Z"
   },
   {
    "duration": 0,
    "start_time": "2023-03-25T16:43:26.241Z"
   },
   {
    "duration": 0,
    "start_time": "2023-03-25T16:43:26.243Z"
   },
   {
    "duration": 0,
    "start_time": "2023-03-25T16:43:26.244Z"
   },
   {
    "duration": 0,
    "start_time": "2023-03-25T16:43:26.245Z"
   },
   {
    "duration": 0,
    "start_time": "2023-03-25T16:43:26.247Z"
   },
   {
    "duration": 0,
    "start_time": "2023-03-25T16:43:26.248Z"
   },
   {
    "duration": 0,
    "start_time": "2023-03-25T16:43:26.250Z"
   },
   {
    "duration": 1839,
    "start_time": "2023-03-25T16:44:21.617Z"
   },
   {
    "duration": 1851,
    "start_time": "2023-03-25T16:44:23.458Z"
   },
   {
    "duration": 1154,
    "start_time": "2023-03-25T16:44:25.311Z"
   },
   {
    "duration": 704,
    "start_time": "2023-03-25T16:44:26.466Z"
   },
   {
    "duration": 15,
    "start_time": "2023-03-25T16:44:27.172Z"
   },
   {
    "duration": 115,
    "start_time": "2023-03-25T16:44:27.189Z"
   },
   {
    "duration": 3,
    "start_time": "2023-03-25T16:44:27.306Z"
   },
   {
    "duration": 111,
    "start_time": "2023-03-25T16:44:27.310Z"
   },
   {
    "duration": 2312,
    "start_time": "2023-03-27T03:37:53.490Z"
   },
   {
    "duration": 6178,
    "start_time": "2023-03-27T03:37:55.803Z"
   },
   {
    "duration": 1328,
    "start_time": "2023-03-27T03:38:01.983Z"
   },
   {
    "duration": 1007,
    "start_time": "2023-03-27T03:38:03.313Z"
   },
   {
    "duration": 15,
    "start_time": "2023-03-27T03:38:04.321Z"
   },
   {
    "duration": 139,
    "start_time": "2023-03-27T03:38:04.338Z"
   },
   {
    "duration": 3,
    "start_time": "2023-03-27T03:38:04.479Z"
   },
   {
    "duration": 783,
    "start_time": "2023-03-27T03:38:04.484Z"
   },
   {
    "duration": 1566,
    "start_time": "2023-03-27T03:38:05.269Z"
   },
   {
    "duration": 937,
    "start_time": "2023-03-27T03:38:06.837Z"
   },
   {
    "duration": 517,
    "start_time": "2023-03-27T03:38:07.775Z"
   },
   {
    "duration": 179,
    "start_time": "2023-03-27T03:38:08.293Z"
   },
   {
    "duration": 3,
    "start_time": "2023-03-27T03:38:08.473Z"
   },
   {
    "duration": 181,
    "start_time": "2023-03-27T03:38:08.478Z"
   },
   {
    "duration": 14,
    "start_time": "2023-03-27T03:38:08.661Z"
   },
   {
    "duration": 374,
    "start_time": "2023-03-27T03:38:08.677Z"
   },
   {
    "duration": 3,
    "start_time": "2023-03-27T03:38:09.053Z"
   },
   {
    "duration": 16,
    "start_time": "2023-03-27T03:38:09.057Z"
   },
   {
    "duration": 115,
    "start_time": "2023-03-27T03:38:09.074Z"
   },
   {
    "duration": 5,
    "start_time": "2023-03-27T03:38:09.191Z"
   },
   {
    "duration": 130,
    "start_time": "2023-03-27T03:38:09.197Z"
   },
   {
    "duration": 5,
    "start_time": "2023-03-27T03:38:09.329Z"
   },
   {
    "duration": 5,
    "start_time": "2023-03-27T03:38:09.336Z"
   },
   {
    "duration": 108,
    "start_time": "2023-03-27T03:38:09.342Z"
   },
   {
    "duration": 0,
    "start_time": "2023-03-27T03:38:09.452Z"
   },
   {
    "duration": 0,
    "start_time": "2023-03-27T03:38:09.453Z"
   },
   {
    "duration": 0,
    "start_time": "2023-03-27T03:38:09.455Z"
   },
   {
    "duration": 0,
    "start_time": "2023-03-27T03:38:09.456Z"
   },
   {
    "duration": 0,
    "start_time": "2023-03-27T03:38:09.457Z"
   },
   {
    "duration": 0,
    "start_time": "2023-03-27T03:38:09.458Z"
   },
   {
    "duration": 0,
    "start_time": "2023-03-27T03:38:09.458Z"
   },
   {
    "duration": 0,
    "start_time": "2023-03-27T03:38:09.459Z"
   },
   {
    "duration": 0,
    "start_time": "2023-03-27T03:38:09.460Z"
   },
   {
    "duration": 1945,
    "start_time": "2023-03-27T03:38:42.673Z"
   },
   {
    "duration": 11,
    "start_time": "2023-03-27T03:39:02.719Z"
   },
   {
    "duration": 462,
    "start_time": "2023-03-27T03:39:16.595Z"
   },
   {
    "duration": 385,
    "start_time": "2023-03-27T03:39:29.956Z"
   },
   {
    "duration": 416,
    "start_time": "2023-03-27T03:40:00.264Z"
   },
   {
    "duration": 9,
    "start_time": "2023-03-27T03:40:47.664Z"
   },
   {
    "duration": 17,
    "start_time": "2023-03-27T03:41:11.684Z"
   },
   {
    "duration": 209,
    "start_time": "2023-03-27T03:41:21.784Z"
   },
   {
    "duration": 741,
    "start_time": "2023-03-27T03:41:38.088Z"
   },
   {
    "duration": 188,
    "start_time": "2023-03-27T03:41:55.285Z"
   },
   {
    "duration": 106,
    "start_time": "2023-03-27T03:43:12.965Z"
   },
   {
    "duration": 4348,
    "start_time": "2023-03-27T03:50:08.020Z"
   },
   {
    "duration": 5,
    "start_time": "2023-03-27T03:50:24.615Z"
   },
   {
    "duration": 93,
    "start_time": "2023-03-27T03:50:52.590Z"
   },
   {
    "duration": 192,
    "start_time": "2023-03-27T03:51:23.128Z"
   },
   {
    "duration": 6,
    "start_time": "2023-03-27T03:51:31.317Z"
   },
   {
    "duration": 2095,
    "start_time": "2023-03-27T03:52:09.937Z"
   },
   {
    "duration": 2350,
    "start_time": "2023-03-27T03:52:12.035Z"
   },
   {
    "duration": 1449,
    "start_time": "2023-03-27T03:52:14.392Z"
   },
   {
    "duration": 827,
    "start_time": "2023-03-27T03:52:15.844Z"
   },
   {
    "duration": 17,
    "start_time": "2023-03-27T03:52:16.673Z"
   },
   {
    "duration": 151,
    "start_time": "2023-03-27T03:52:16.692Z"
   },
   {
    "duration": 4,
    "start_time": "2023-03-27T03:52:16.846Z"
   },
   {
    "duration": 156,
    "start_time": "2023-03-27T03:52:16.853Z"
   },
   {
    "duration": 519,
    "start_time": "2023-03-27T03:52:17.013Z"
   },
   {
    "duration": 992,
    "start_time": "2023-03-27T03:52:17.535Z"
   },
   {
    "duration": 564,
    "start_time": "2023-03-27T03:52:18.528Z"
   },
   {
    "duration": 205,
    "start_time": "2023-03-27T03:52:19.094Z"
   },
   {
    "duration": 4,
    "start_time": "2023-03-27T03:52:19.300Z"
   },
   {
    "duration": 239,
    "start_time": "2023-03-27T03:52:19.305Z"
   },
   {
    "duration": 18,
    "start_time": "2023-03-27T03:52:19.546Z"
   },
   {
    "duration": 379,
    "start_time": "2023-03-27T03:52:19.567Z"
   },
   {
    "duration": 177,
    "start_time": "2023-03-27T03:52:19.948Z"
   },
   {
    "duration": 238,
    "start_time": "2023-03-27T03:52:20.135Z"
   },
   {
    "duration": 157,
    "start_time": "2023-03-27T03:52:20.375Z"
   },
   {
    "duration": 24,
    "start_time": "2023-03-27T03:52:20.535Z"
   },
   {
    "duration": 8,
    "start_time": "2023-03-27T03:52:20.562Z"
   },
   {
    "duration": 9,
    "start_time": "2023-03-27T03:52:20.572Z"
   },
   {
    "duration": 15,
    "start_time": "2023-03-27T03:52:20.583Z"
   },
   {
    "duration": 135,
    "start_time": "2023-03-27T03:52:20.600Z"
   },
   {
    "duration": 6,
    "start_time": "2023-03-27T03:52:20.737Z"
   },
   {
    "duration": 132,
    "start_time": "2023-03-27T03:52:20.745Z"
   },
   {
    "duration": 4,
    "start_time": "2023-03-27T03:52:20.881Z"
   },
   {
    "duration": 5,
    "start_time": "2023-03-27T03:52:20.887Z"
   },
   {
    "duration": 147,
    "start_time": "2023-03-27T03:52:20.894Z"
   },
   {
    "duration": 0,
    "start_time": "2023-03-27T03:52:21.042Z"
   },
   {
    "duration": 0,
    "start_time": "2023-03-27T03:52:21.044Z"
   },
   {
    "duration": 0,
    "start_time": "2023-03-27T03:52:21.045Z"
   },
   {
    "duration": 0,
    "start_time": "2023-03-27T03:52:21.047Z"
   },
   {
    "duration": 0,
    "start_time": "2023-03-27T03:52:21.048Z"
   },
   {
    "duration": 0,
    "start_time": "2023-03-27T03:52:21.050Z"
   },
   {
    "duration": 0,
    "start_time": "2023-03-27T03:52:21.051Z"
   },
   {
    "duration": 0,
    "start_time": "2023-03-27T03:52:21.052Z"
   },
   {
    "duration": 0,
    "start_time": "2023-03-27T03:52:21.054Z"
   },
   {
    "duration": 15,
    "start_time": "2023-03-27T03:52:37.390Z"
   },
   {
    "duration": 2240,
    "start_time": "2023-03-27T03:57:05.346Z"
   },
   {
    "duration": 2168,
    "start_time": "2023-03-27T03:57:07.589Z"
   },
   {
    "duration": 1239,
    "start_time": "2023-03-27T03:57:09.760Z"
   },
   {
    "duration": 852,
    "start_time": "2023-03-27T03:57:11.001Z"
   },
   {
    "duration": 17,
    "start_time": "2023-03-27T03:57:11.855Z"
   },
   {
    "duration": 167,
    "start_time": "2023-03-27T03:57:11.874Z"
   },
   {
    "duration": 4,
    "start_time": "2023-03-27T03:57:12.044Z"
   },
   {
    "duration": 149,
    "start_time": "2023-03-27T03:57:12.050Z"
   },
   {
    "duration": 498,
    "start_time": "2023-03-27T03:57:12.201Z"
   },
   {
    "duration": 1026,
    "start_time": "2023-03-27T03:57:12.702Z"
   },
   {
    "duration": 527,
    "start_time": "2023-03-27T03:57:13.735Z"
   },
   {
    "duration": 246,
    "start_time": "2023-03-27T03:57:14.264Z"
   },
   {
    "duration": 3,
    "start_time": "2023-03-27T03:57:14.512Z"
   },
   {
    "duration": 253,
    "start_time": "2023-03-27T03:57:14.517Z"
   },
   {
    "duration": 18,
    "start_time": "2023-03-27T03:57:14.772Z"
   },
   {
    "duration": 382,
    "start_time": "2023-03-27T03:57:14.793Z"
   },
   {
    "duration": 166,
    "start_time": "2023-03-27T03:57:15.176Z"
   },
   {
    "duration": 228,
    "start_time": "2023-03-27T03:57:15.345Z"
   },
   {
    "duration": 144,
    "start_time": "2023-03-27T03:57:15.574Z"
   },
   {
    "duration": 3909,
    "start_time": "2023-03-27T03:57:15.720Z"
   },
   {
    "duration": 5,
    "start_time": "2023-03-27T03:57:19.631Z"
   },
   {
    "duration": 41,
    "start_time": "2023-03-27T03:57:19.638Z"
   },
   {
    "duration": 15,
    "start_time": "2023-03-27T03:57:19.681Z"
   },
   {
    "duration": 11,
    "start_time": "2023-03-27T03:57:19.697Z"
   },
   {
    "duration": 79,
    "start_time": "2023-03-27T03:57:19.709Z"
   },
   {
    "duration": 4,
    "start_time": "2023-03-27T03:57:19.790Z"
   },
   {
    "duration": 123,
    "start_time": "2023-03-27T03:57:19.796Z"
   },
   {
    "duration": 4,
    "start_time": "2023-03-27T03:57:19.923Z"
   },
   {
    "duration": 3,
    "start_time": "2023-03-27T03:57:19.935Z"
   },
   {
    "duration": 140,
    "start_time": "2023-03-27T03:57:19.940Z"
   },
   {
    "duration": 0,
    "start_time": "2023-03-27T03:57:20.082Z"
   },
   {
    "duration": 0,
    "start_time": "2023-03-27T03:57:20.083Z"
   },
   {
    "duration": 0,
    "start_time": "2023-03-27T03:57:20.084Z"
   },
   {
    "duration": 0,
    "start_time": "2023-03-27T03:57:20.085Z"
   },
   {
    "duration": 0,
    "start_time": "2023-03-27T03:57:20.086Z"
   },
   {
    "duration": 0,
    "start_time": "2023-03-27T03:57:20.087Z"
   },
   {
    "duration": 0,
    "start_time": "2023-03-27T03:57:20.089Z"
   },
   {
    "duration": 0,
    "start_time": "2023-03-27T03:57:20.090Z"
   },
   {
    "duration": 0,
    "start_time": "2023-03-27T03:57:20.091Z"
   },
   {
    "duration": 270,
    "start_time": "2023-03-27T03:58:39.185Z"
   },
   {
    "duration": 2486,
    "start_time": "2023-03-27T03:58:44.399Z"
   },
   {
    "duration": 2175,
    "start_time": "2023-03-27T03:58:46.889Z"
   },
   {
    "duration": 1295,
    "start_time": "2023-03-27T03:58:49.066Z"
   },
   {
    "duration": 796,
    "start_time": "2023-03-27T03:58:50.363Z"
   },
   {
    "duration": 15,
    "start_time": "2023-03-27T03:58:51.161Z"
   },
   {
    "duration": 176,
    "start_time": "2023-03-27T03:58:51.177Z"
   },
   {
    "duration": 3,
    "start_time": "2023-03-27T03:58:51.354Z"
   },
   {
    "duration": 146,
    "start_time": "2023-03-27T03:58:51.359Z"
   },
   {
    "duration": 466,
    "start_time": "2023-03-27T03:58:51.506Z"
   },
   {
    "duration": 948,
    "start_time": "2023-03-27T03:58:51.974Z"
   },
   {
    "duration": 526,
    "start_time": "2023-03-27T03:58:52.924Z"
   },
   {
    "duration": 209,
    "start_time": "2023-03-27T03:58:53.452Z"
   },
   {
    "duration": 3,
    "start_time": "2023-03-27T03:58:53.663Z"
   },
   {
    "duration": 202,
    "start_time": "2023-03-27T03:58:53.668Z"
   },
   {
    "duration": 14,
    "start_time": "2023-03-27T03:58:53.871Z"
   },
   {
    "duration": 359,
    "start_time": "2023-03-27T03:58:53.888Z"
   },
   {
    "duration": 151,
    "start_time": "2023-03-27T03:58:54.250Z"
   },
   {
    "duration": 210,
    "start_time": "2023-03-27T03:58:54.403Z"
   },
   {
    "duration": 185,
    "start_time": "2023-03-27T03:58:54.615Z"
   },
   {
    "duration": 3514,
    "start_time": "2023-03-27T03:58:54.802Z"
   },
   {
    "duration": 3,
    "start_time": "2023-03-27T03:58:58.318Z"
   },
   {
    "duration": 31,
    "start_time": "2023-03-27T03:58:58.322Z"
   },
   {
    "duration": 6,
    "start_time": "2023-03-27T03:58:58.355Z"
   },
   {
    "duration": 12,
    "start_time": "2023-03-27T03:58:58.362Z"
   },
   {
    "duration": 57,
    "start_time": "2023-03-27T03:58:58.376Z"
   },
   {
    "duration": 6,
    "start_time": "2023-03-27T03:58:58.434Z"
   },
   {
    "duration": 125,
    "start_time": "2023-03-27T03:58:58.442Z"
   },
   {
    "duration": 4,
    "start_time": "2023-03-27T03:58:58.569Z"
   },
   {
    "duration": 9,
    "start_time": "2023-03-27T03:58:58.574Z"
   },
   {
    "duration": 113,
    "start_time": "2023-03-27T03:58:58.584Z"
   },
   {
    "duration": 0,
    "start_time": "2023-03-27T03:58:58.699Z"
   },
   {
    "duration": 0,
    "start_time": "2023-03-27T03:58:58.700Z"
   },
   {
    "duration": 0,
    "start_time": "2023-03-27T03:58:58.701Z"
   },
   {
    "duration": 0,
    "start_time": "2023-03-27T03:58:58.702Z"
   },
   {
    "duration": 0,
    "start_time": "2023-03-27T03:58:58.703Z"
   },
   {
    "duration": 0,
    "start_time": "2023-03-27T03:58:58.705Z"
   },
   {
    "duration": 0,
    "start_time": "2023-03-27T03:58:58.706Z"
   },
   {
    "duration": 0,
    "start_time": "2023-03-27T03:58:58.707Z"
   },
   {
    "duration": 0,
    "start_time": "2023-03-27T03:58:58.708Z"
   },
   {
    "duration": 2398,
    "start_time": "2023-03-27T03:59:47.270Z"
   },
   {
    "duration": 2265,
    "start_time": "2023-03-27T03:59:49.671Z"
   },
   {
    "duration": 1259,
    "start_time": "2023-03-27T03:59:51.938Z"
   },
   {
    "duration": 825,
    "start_time": "2023-03-27T03:59:53.200Z"
   },
   {
    "duration": 22,
    "start_time": "2023-03-27T03:59:54.026Z"
   },
   {
    "duration": 142,
    "start_time": "2023-03-27T03:59:54.050Z"
   },
   {
    "duration": 3,
    "start_time": "2023-03-27T03:59:54.193Z"
   },
   {
    "duration": 137,
    "start_time": "2023-03-27T03:59:54.198Z"
   },
   {
    "duration": 576,
    "start_time": "2023-03-27T03:59:54.337Z"
   },
   {
    "duration": 977,
    "start_time": "2023-03-27T03:59:54.915Z"
   },
   {
    "duration": 499,
    "start_time": "2023-03-27T03:59:55.893Z"
   },
   {
    "duration": 199,
    "start_time": "2023-03-27T03:59:56.394Z"
   },
   {
    "duration": 2,
    "start_time": "2023-03-27T03:59:56.595Z"
   },
   {
    "duration": 191,
    "start_time": "2023-03-27T03:59:56.599Z"
   },
   {
    "duration": 13,
    "start_time": "2023-03-27T03:59:56.792Z"
   },
   {
    "duration": 354,
    "start_time": "2023-03-27T03:59:56.807Z"
   },
   {
    "duration": 145,
    "start_time": "2023-03-27T03:59:57.163Z"
   },
   {
    "duration": 204,
    "start_time": "2023-03-27T03:59:57.310Z"
   },
   {
    "duration": 127,
    "start_time": "2023-03-27T03:59:57.516Z"
   },
   {
    "duration": 124,
    "start_time": "2023-03-27T03:59:57.645Z"
   },
   {
    "duration": 0,
    "start_time": "2023-03-27T03:59:57.771Z"
   },
   {
    "duration": 0,
    "start_time": "2023-03-27T03:59:57.772Z"
   },
   {
    "duration": 0,
    "start_time": "2023-03-27T03:59:57.773Z"
   },
   {
    "duration": 0,
    "start_time": "2023-03-27T03:59:57.774Z"
   },
   {
    "duration": 0,
    "start_time": "2023-03-27T03:59:57.776Z"
   },
   {
    "duration": 0,
    "start_time": "2023-03-27T03:59:57.777Z"
   },
   {
    "duration": 0,
    "start_time": "2023-03-27T03:59:57.778Z"
   },
   {
    "duration": 0,
    "start_time": "2023-03-27T03:59:57.779Z"
   },
   {
    "duration": 0,
    "start_time": "2023-03-27T03:59:57.781Z"
   },
   {
    "duration": 0,
    "start_time": "2023-03-27T03:59:57.782Z"
   },
   {
    "duration": 0,
    "start_time": "2023-03-27T03:59:57.783Z"
   },
   {
    "duration": 0,
    "start_time": "2023-03-27T03:59:57.785Z"
   },
   {
    "duration": 0,
    "start_time": "2023-03-27T03:59:57.786Z"
   },
   {
    "duration": 0,
    "start_time": "2023-03-27T03:59:57.787Z"
   },
   {
    "duration": 0,
    "start_time": "2023-03-27T03:59:57.789Z"
   },
   {
    "duration": 0,
    "start_time": "2023-03-27T03:59:57.790Z"
   },
   {
    "duration": 0,
    "start_time": "2023-03-27T03:59:57.792Z"
   },
   {
    "duration": 0,
    "start_time": "2023-03-27T03:59:57.793Z"
   },
   {
    "duration": 0,
    "start_time": "2023-03-27T03:59:57.794Z"
   },
   {
    "duration": 2236,
    "start_time": "2023-03-27T04:02:04.559Z"
   },
   {
    "duration": 2163,
    "start_time": "2023-03-27T04:02:06.797Z"
   },
   {
    "duration": 1263,
    "start_time": "2023-03-27T04:02:08.962Z"
   },
   {
    "duration": 833,
    "start_time": "2023-03-27T04:02:10.227Z"
   },
   {
    "duration": 24,
    "start_time": "2023-03-27T04:02:11.062Z"
   },
   {
    "duration": 178,
    "start_time": "2023-03-27T04:02:11.088Z"
   },
   {
    "duration": 10,
    "start_time": "2023-03-27T04:02:11.269Z"
   },
   {
    "duration": 176,
    "start_time": "2023-03-27T04:02:11.281Z"
   },
   {
    "duration": 520,
    "start_time": "2023-03-27T04:02:11.460Z"
   },
   {
    "duration": 1052,
    "start_time": "2023-03-27T04:02:11.982Z"
   },
   {
    "duration": 510,
    "start_time": "2023-03-27T04:02:13.037Z"
   },
   {
    "duration": 219,
    "start_time": "2023-03-27T04:02:13.550Z"
   },
   {
    "duration": 2,
    "start_time": "2023-03-27T04:02:13.772Z"
   },
   {
    "duration": 200,
    "start_time": "2023-03-27T04:02:13.777Z"
   },
   {
    "duration": 15,
    "start_time": "2023-03-27T04:02:13.978Z"
   },
   {
    "duration": 381,
    "start_time": "2023-03-27T04:02:13.994Z"
   },
   {
    "duration": 152,
    "start_time": "2023-03-27T04:02:14.377Z"
   },
   {
    "duration": 240,
    "start_time": "2023-03-27T04:02:14.531Z"
   },
   {
    "duration": 134,
    "start_time": "2023-03-27T04:02:14.772Z"
   },
   {
    "duration": 3656,
    "start_time": "2023-03-27T04:02:14.908Z"
   },
   {
    "duration": 4,
    "start_time": "2023-03-27T04:02:18.566Z"
   },
   {
    "duration": 17,
    "start_time": "2023-03-27T04:02:18.572Z"
   },
   {
    "duration": 4,
    "start_time": "2023-03-27T04:02:18.590Z"
   },
   {
    "duration": 5,
    "start_time": "2023-03-27T04:02:18.596Z"
   },
   {
    "duration": 71,
    "start_time": "2023-03-27T04:02:18.602Z"
   },
   {
    "duration": 4,
    "start_time": "2023-03-27T04:02:18.676Z"
   },
   {
    "duration": 150,
    "start_time": "2023-03-27T04:02:18.681Z"
   },
   {
    "duration": 10,
    "start_time": "2023-03-27T04:02:18.833Z"
   },
   {
    "duration": 76,
    "start_time": "2023-03-27T04:02:18.845Z"
   },
   {
    "duration": 121,
    "start_time": "2023-03-27T04:02:18.922Z"
   },
   {
    "duration": 0,
    "start_time": "2023-03-27T04:02:19.044Z"
   },
   {
    "duration": 0,
    "start_time": "2023-03-27T04:02:19.046Z"
   },
   {
    "duration": 0,
    "start_time": "2023-03-27T04:02:19.047Z"
   },
   {
    "duration": 1,
    "start_time": "2023-03-27T04:02:19.048Z"
   },
   {
    "duration": 0,
    "start_time": "2023-03-27T04:02:19.050Z"
   },
   {
    "duration": 0,
    "start_time": "2023-03-27T04:02:19.052Z"
   },
   {
    "duration": 0,
    "start_time": "2023-03-27T04:02:19.053Z"
   },
   {
    "duration": 0,
    "start_time": "2023-03-27T04:02:19.054Z"
   },
   {
    "duration": 0,
    "start_time": "2023-03-27T04:02:19.056Z"
   },
   {
    "duration": 2256,
    "start_time": "2023-03-27T04:03:02.324Z"
   },
   {
    "duration": 2395,
    "start_time": "2023-03-27T04:03:04.583Z"
   },
   {
    "duration": 1228,
    "start_time": "2023-03-27T04:03:06.980Z"
   },
   {
    "duration": 834,
    "start_time": "2023-03-27T04:03:08.210Z"
   },
   {
    "duration": 20,
    "start_time": "2023-03-27T04:03:09.047Z"
   },
   {
    "duration": 137,
    "start_time": "2023-03-27T04:03:09.069Z"
   },
   {
    "duration": 4,
    "start_time": "2023-03-27T04:03:09.207Z"
   },
   {
    "duration": 161,
    "start_time": "2023-03-27T04:03:09.213Z"
   },
   {
    "duration": 451,
    "start_time": "2023-03-27T04:03:09.376Z"
   },
   {
    "duration": 943,
    "start_time": "2023-03-27T04:03:09.829Z"
   },
   {
    "duration": 502,
    "start_time": "2023-03-27T04:03:10.773Z"
   },
   {
    "duration": 192,
    "start_time": "2023-03-27T04:03:11.279Z"
   },
   {
    "duration": 3,
    "start_time": "2023-03-27T04:03:11.472Z"
   },
   {
    "duration": 183,
    "start_time": "2023-03-27T04:03:11.476Z"
   },
   {
    "duration": 13,
    "start_time": "2023-03-27T04:03:11.661Z"
   },
   {
    "duration": 368,
    "start_time": "2023-03-27T04:03:11.675Z"
   },
   {
    "duration": 153,
    "start_time": "2023-03-27T04:03:12.045Z"
   },
   {
    "duration": 206,
    "start_time": "2023-03-27T04:03:12.199Z"
   },
   {
    "duration": 135,
    "start_time": "2023-03-27T04:03:12.407Z"
   },
   {
    "duration": 132,
    "start_time": "2023-03-27T04:03:12.547Z"
   },
   {
    "duration": 0,
    "start_time": "2023-03-27T04:03:12.682Z"
   },
   {
    "duration": 0,
    "start_time": "2023-03-27T04:03:12.683Z"
   },
   {
    "duration": 0,
    "start_time": "2023-03-27T04:03:12.685Z"
   },
   {
    "duration": 0,
    "start_time": "2023-03-27T04:03:12.687Z"
   },
   {
    "duration": 0,
    "start_time": "2023-03-27T04:03:12.688Z"
   },
   {
    "duration": 0,
    "start_time": "2023-03-27T04:03:12.690Z"
   },
   {
    "duration": 0,
    "start_time": "2023-03-27T04:03:12.691Z"
   },
   {
    "duration": 0,
    "start_time": "2023-03-27T04:03:12.693Z"
   },
   {
    "duration": 0,
    "start_time": "2023-03-27T04:03:12.694Z"
   },
   {
    "duration": 0,
    "start_time": "2023-03-27T04:03:12.696Z"
   },
   {
    "duration": 0,
    "start_time": "2023-03-27T04:03:12.697Z"
   },
   {
    "duration": 0,
    "start_time": "2023-03-27T04:03:12.699Z"
   },
   {
    "duration": 0,
    "start_time": "2023-03-27T04:03:12.700Z"
   },
   {
    "duration": 0,
    "start_time": "2023-03-27T04:03:12.701Z"
   },
   {
    "duration": 0,
    "start_time": "2023-03-27T04:03:12.736Z"
   },
   {
    "duration": 0,
    "start_time": "2023-03-27T04:03:12.738Z"
   },
   {
    "duration": 0,
    "start_time": "2023-03-27T04:03:12.740Z"
   },
   {
    "duration": 0,
    "start_time": "2023-03-27T04:03:12.741Z"
   },
   {
    "duration": 0,
    "start_time": "2023-03-27T04:03:12.743Z"
   },
   {
    "duration": 3708,
    "start_time": "2023-03-27T04:03:21.178Z"
   },
   {
    "duration": 4,
    "start_time": "2023-03-27T04:03:28.568Z"
   },
   {
    "duration": 15,
    "start_time": "2023-03-27T04:03:30.651Z"
   },
   {
    "duration": 16,
    "start_time": "2023-03-27T04:03:48.298Z"
   },
   {
    "duration": 2269,
    "start_time": "2023-03-27T04:04:33.716Z"
   },
   {
    "duration": 2249,
    "start_time": "2023-03-27T04:04:35.987Z"
   },
   {
    "duration": 1350,
    "start_time": "2023-03-27T04:04:38.239Z"
   },
   {
    "duration": 800,
    "start_time": "2023-03-27T04:04:39.590Z"
   },
   {
    "duration": 25,
    "start_time": "2023-03-27T04:04:40.392Z"
   },
   {
    "duration": 168,
    "start_time": "2023-03-27T04:04:40.419Z"
   },
   {
    "duration": 3,
    "start_time": "2023-03-27T04:04:40.589Z"
   },
   {
    "duration": 146,
    "start_time": "2023-03-27T04:04:40.594Z"
   },
   {
    "duration": 484,
    "start_time": "2023-03-27T04:04:40.743Z"
   },
   {
    "duration": 979,
    "start_time": "2023-03-27T04:04:41.229Z"
   },
   {
    "duration": 514,
    "start_time": "2023-03-27T04:04:42.211Z"
   },
   {
    "duration": 219,
    "start_time": "2023-03-27T04:04:42.727Z"
   },
   {
    "duration": 3,
    "start_time": "2023-03-27T04:04:42.948Z"
   },
   {
    "duration": 176,
    "start_time": "2023-03-27T04:04:42.955Z"
   },
   {
    "duration": 19,
    "start_time": "2023-03-27T04:04:43.134Z"
   },
   {
    "duration": 360,
    "start_time": "2023-03-27T04:04:43.155Z"
   },
   {
    "duration": 155,
    "start_time": "2023-03-27T04:04:43.517Z"
   },
   {
    "duration": 16,
    "start_time": "2023-03-27T04:04:43.673Z"
   },
   {
    "duration": 200,
    "start_time": "2023-03-27T04:04:43.691Z"
   },
   {
    "duration": 134,
    "start_time": "2023-03-27T04:04:43.892Z"
   },
   {
    "duration": 3935,
    "start_time": "2023-03-27T04:04:44.028Z"
   },
   {
    "duration": 4,
    "start_time": "2023-03-27T04:04:47.968Z"
   },
   {
    "duration": 22,
    "start_time": "2023-03-27T04:04:47.974Z"
   },
   {
    "duration": 6,
    "start_time": "2023-03-27T04:04:47.998Z"
   },
   {
    "duration": 6,
    "start_time": "2023-03-27T04:04:48.006Z"
   },
   {
    "duration": 62,
    "start_time": "2023-03-27T04:04:48.014Z"
   },
   {
    "duration": 4,
    "start_time": "2023-03-27T04:04:48.077Z"
   },
   {
    "duration": 129,
    "start_time": "2023-03-27T04:04:48.082Z"
   },
   {
    "duration": 4,
    "start_time": "2023-03-27T04:04:48.213Z"
   },
   {
    "duration": 17,
    "start_time": "2023-03-27T04:04:48.219Z"
   },
   {
    "duration": 150,
    "start_time": "2023-03-27T04:04:48.238Z"
   },
   {
    "duration": 0,
    "start_time": "2023-03-27T04:04:48.389Z"
   },
   {
    "duration": 0,
    "start_time": "2023-03-27T04:04:48.391Z"
   },
   {
    "duration": 0,
    "start_time": "2023-03-27T04:04:48.392Z"
   },
   {
    "duration": 0,
    "start_time": "2023-03-27T04:04:48.394Z"
   },
   {
    "duration": 0,
    "start_time": "2023-03-27T04:04:48.395Z"
   },
   {
    "duration": 0,
    "start_time": "2023-03-27T04:04:48.396Z"
   },
   {
    "duration": 0,
    "start_time": "2023-03-27T04:04:48.397Z"
   },
   {
    "duration": 0,
    "start_time": "2023-03-27T04:04:48.399Z"
   },
   {
    "duration": 0,
    "start_time": "2023-03-27T04:04:48.400Z"
   },
   {
    "duration": 2408,
    "start_time": "2023-03-27T04:05:13.607Z"
   },
   {
    "duration": 2396,
    "start_time": "2023-03-27T04:05:16.017Z"
   },
   {
    "duration": 1352,
    "start_time": "2023-03-27T04:05:18.415Z"
   },
   {
    "duration": 813,
    "start_time": "2023-03-27T04:05:19.769Z"
   },
   {
    "duration": 16,
    "start_time": "2023-03-27T04:05:20.584Z"
   },
   {
    "duration": 158,
    "start_time": "2023-03-27T04:05:20.602Z"
   },
   {
    "duration": 21,
    "start_time": "2023-03-27T04:05:20.762Z"
   },
   {
    "duration": 141,
    "start_time": "2023-03-27T04:05:20.784Z"
   },
   {
    "duration": 484,
    "start_time": "2023-03-27T04:05:20.927Z"
   },
   {
    "duration": 961,
    "start_time": "2023-03-27T04:05:21.415Z"
   },
   {
    "duration": 515,
    "start_time": "2023-03-27T04:05:22.377Z"
   },
   {
    "duration": 198,
    "start_time": "2023-03-27T04:05:22.894Z"
   },
   {
    "duration": 3,
    "start_time": "2023-03-27T04:05:23.094Z"
   },
   {
    "duration": 195,
    "start_time": "2023-03-27T04:05:23.098Z"
   },
   {
    "duration": 15,
    "start_time": "2023-03-27T04:05:23.295Z"
   },
   {
    "duration": 451,
    "start_time": "2023-03-27T04:05:23.312Z"
   },
   {
    "duration": 207,
    "start_time": "2023-03-27T04:05:23.765Z"
   },
   {
    "duration": 13,
    "start_time": "2023-03-27T04:05:23.974Z"
   },
   {
    "duration": 208,
    "start_time": "2023-03-27T04:05:23.989Z"
   },
   {
    "duration": 143,
    "start_time": "2023-03-27T04:05:24.199Z"
   },
   {
    "duration": 106,
    "start_time": "2023-03-27T04:05:24.344Z"
   },
   {
    "duration": 4,
    "start_time": "2023-03-27T04:05:24.451Z"
   },
   {
    "duration": 51,
    "start_time": "2023-03-27T04:05:24.459Z"
   },
   {
    "duration": 38,
    "start_time": "2023-03-27T04:05:24.512Z"
   },
   {
    "duration": 54,
    "start_time": "2023-03-27T04:05:24.552Z"
   },
   {
    "duration": 47,
    "start_time": "2023-03-27T04:05:24.608Z"
   },
   {
    "duration": 31,
    "start_time": "2023-03-27T04:05:24.657Z"
   },
   {
    "duration": 153,
    "start_time": "2023-03-27T04:05:24.692Z"
   },
   {
    "duration": 6,
    "start_time": "2023-03-27T04:05:24.848Z"
   },
   {
    "duration": 44,
    "start_time": "2023-03-27T04:05:24.855Z"
   },
   {
    "duration": 150,
    "start_time": "2023-03-27T04:05:24.901Z"
   },
   {
    "duration": 0,
    "start_time": "2023-03-27T04:05:25.053Z"
   },
   {
    "duration": 0,
    "start_time": "2023-03-27T04:05:25.054Z"
   },
   {
    "duration": 0,
    "start_time": "2023-03-27T04:05:25.055Z"
   },
   {
    "duration": 0,
    "start_time": "2023-03-27T04:05:25.056Z"
   },
   {
    "duration": 0,
    "start_time": "2023-03-27T04:05:25.057Z"
   },
   {
    "duration": 0,
    "start_time": "2023-03-27T04:05:25.058Z"
   },
   {
    "duration": 0,
    "start_time": "2023-03-27T04:05:25.059Z"
   },
   {
    "duration": 0,
    "start_time": "2023-03-27T04:05:25.060Z"
   },
   {
    "duration": 0,
    "start_time": "2023-03-27T04:05:25.061Z"
   },
   {
    "duration": 2260,
    "start_time": "2023-03-27T04:05:52.859Z"
   },
   {
    "duration": 2201,
    "start_time": "2023-03-27T04:05:55.122Z"
   },
   {
    "duration": 1270,
    "start_time": "2023-03-27T04:05:57.325Z"
   },
   {
    "duration": 863,
    "start_time": "2023-03-27T04:05:58.597Z"
   },
   {
    "duration": 16,
    "start_time": "2023-03-27T04:05:59.463Z"
   },
   {
    "duration": 150,
    "start_time": "2023-03-27T04:05:59.480Z"
   },
   {
    "duration": 4,
    "start_time": "2023-03-27T04:05:59.632Z"
   },
   {
    "duration": 158,
    "start_time": "2023-03-27T04:05:59.638Z"
   },
   {
    "duration": 669,
    "start_time": "2023-03-27T04:05:59.798Z"
   },
   {
    "duration": 1041,
    "start_time": "2023-03-27T04:06:00.469Z"
   },
   {
    "duration": 515,
    "start_time": "2023-03-27T04:06:01.511Z"
   },
   {
    "duration": 200,
    "start_time": "2023-03-27T04:06:02.027Z"
   },
   {
    "duration": 9,
    "start_time": "2023-03-27T04:06:02.229Z"
   },
   {
    "duration": 188,
    "start_time": "2023-03-27T04:06:02.242Z"
   },
   {
    "duration": 22,
    "start_time": "2023-03-27T04:06:02.435Z"
   },
   {
    "duration": 365,
    "start_time": "2023-03-27T04:06:02.459Z"
   },
   {
    "duration": 153,
    "start_time": "2023-03-27T04:06:02.826Z"
   },
   {
    "duration": 24,
    "start_time": "2023-03-27T04:06:02.981Z"
   },
   {
    "duration": 206,
    "start_time": "2023-03-27T04:06:03.007Z"
   },
   {
    "duration": 154,
    "start_time": "2023-03-27T04:06:03.214Z"
   },
   {
    "duration": 113,
    "start_time": "2023-03-27T04:06:03.370Z"
   },
   {
    "duration": 4,
    "start_time": "2023-03-27T04:06:03.485Z"
   },
   {
    "duration": 33,
    "start_time": "2023-03-27T04:06:03.491Z"
   },
   {
    "duration": 45,
    "start_time": "2023-03-27T04:06:03.526Z"
   },
   {
    "duration": 16,
    "start_time": "2023-03-27T04:06:03.573Z"
   },
   {
    "duration": 25,
    "start_time": "2023-03-27T04:06:03.591Z"
   },
   {
    "duration": 4,
    "start_time": "2023-03-27T04:06:03.617Z"
   },
   {
    "duration": 106,
    "start_time": "2023-03-27T04:06:03.622Z"
   },
   {
    "duration": 4,
    "start_time": "2023-03-27T04:06:03.730Z"
   },
   {
    "duration": 26,
    "start_time": "2023-03-27T04:06:03.736Z"
   },
   {
    "duration": 135,
    "start_time": "2023-03-27T04:06:03.764Z"
   },
   {
    "duration": 0,
    "start_time": "2023-03-27T04:06:03.901Z"
   },
   {
    "duration": 0,
    "start_time": "2023-03-27T04:06:03.902Z"
   },
   {
    "duration": 0,
    "start_time": "2023-03-27T04:06:03.903Z"
   },
   {
    "duration": 0,
    "start_time": "2023-03-27T04:06:03.904Z"
   },
   {
    "duration": 0,
    "start_time": "2023-03-27T04:06:03.905Z"
   },
   {
    "duration": 0,
    "start_time": "2023-03-27T04:06:03.906Z"
   },
   {
    "duration": 0,
    "start_time": "2023-03-27T04:06:03.907Z"
   },
   {
    "duration": 0,
    "start_time": "2023-03-27T04:06:03.908Z"
   },
   {
    "duration": 0,
    "start_time": "2023-03-27T04:06:03.909Z"
   },
   {
    "duration": 177,
    "start_time": "2023-03-27T04:06:25.060Z"
   },
   {
    "duration": 2132,
    "start_time": "2023-03-27T04:06:51.658Z"
   },
   {
    "duration": 2155,
    "start_time": "2023-03-27T04:06:53.792Z"
   },
   {
    "duration": 1233,
    "start_time": "2023-03-27T04:06:55.949Z"
   },
   {
    "duration": 821,
    "start_time": "2023-03-27T04:06:57.185Z"
   },
   {
    "duration": 16,
    "start_time": "2023-03-27T04:06:58.007Z"
   },
   {
    "duration": 138,
    "start_time": "2023-03-27T04:06:58.034Z"
   },
   {
    "duration": 3,
    "start_time": "2023-03-27T04:06:58.174Z"
   },
   {
    "duration": 137,
    "start_time": "2023-03-27T04:06:58.178Z"
   },
   {
    "duration": 447,
    "start_time": "2023-03-27T04:06:58.317Z"
   },
   {
    "duration": 957,
    "start_time": "2023-03-27T04:06:58.768Z"
   },
   {
    "duration": 487,
    "start_time": "2023-03-27T04:06:59.727Z"
   },
   {
    "duration": 192,
    "start_time": "2023-03-27T04:07:00.215Z"
   },
   {
    "duration": 4,
    "start_time": "2023-03-27T04:07:00.409Z"
   },
   {
    "duration": 193,
    "start_time": "2023-03-27T04:07:00.415Z"
   },
   {
    "duration": 18,
    "start_time": "2023-03-27T04:07:00.609Z"
   },
   {
    "duration": 373,
    "start_time": "2023-03-27T04:07:00.635Z"
   },
   {
    "duration": 188,
    "start_time": "2023-03-27T04:07:01.010Z"
   },
   {
    "duration": 16,
    "start_time": "2023-03-27T04:07:01.199Z"
   },
   {
    "duration": 220,
    "start_time": "2023-03-27T04:07:01.234Z"
   },
   {
    "duration": 127,
    "start_time": "2023-03-27T04:07:01.455Z"
   },
   {
    "duration": 108,
    "start_time": "2023-03-27T04:07:01.584Z"
   },
   {
    "duration": 687,
    "start_time": "2023-03-27T04:07:01.694Z"
   },
   {
    "duration": 0,
    "start_time": "2023-03-27T04:07:02.385Z"
   },
   {
    "duration": 0,
    "start_time": "2023-03-27T04:07:02.387Z"
   },
   {
    "duration": 0,
    "start_time": "2023-03-27T04:07:02.388Z"
   },
   {
    "duration": 0,
    "start_time": "2023-03-27T04:07:02.390Z"
   },
   {
    "duration": 0,
    "start_time": "2023-03-27T04:07:02.392Z"
   },
   {
    "duration": 0,
    "start_time": "2023-03-27T04:07:02.396Z"
   },
   {
    "duration": 0,
    "start_time": "2023-03-27T04:07:02.398Z"
   },
   {
    "duration": 0,
    "start_time": "2023-03-27T04:07:02.399Z"
   },
   {
    "duration": 0,
    "start_time": "2023-03-27T04:07:02.401Z"
   },
   {
    "duration": 0,
    "start_time": "2023-03-27T04:07:02.402Z"
   },
   {
    "duration": 0,
    "start_time": "2023-03-27T04:07:02.404Z"
   },
   {
    "duration": 0,
    "start_time": "2023-03-27T04:07:02.405Z"
   },
   {
    "duration": 0,
    "start_time": "2023-03-27T04:07:02.406Z"
   },
   {
    "duration": 0,
    "start_time": "2023-03-27T04:07:02.407Z"
   },
   {
    "duration": 0,
    "start_time": "2023-03-27T04:07:02.408Z"
   },
   {
    "duration": 0,
    "start_time": "2023-03-27T04:07:02.409Z"
   },
   {
    "duration": 0,
    "start_time": "2023-03-27T04:07:02.410Z"
   },
   {
    "duration": 0,
    "start_time": "2023-03-27T04:07:02.411Z"
   },
   {
    "duration": 6,
    "start_time": "2023-03-27T04:07:19.618Z"
   },
   {
    "duration": 2079,
    "start_time": "2023-03-27T04:07:56.626Z"
   },
   {
    "duration": 2071,
    "start_time": "2023-03-27T04:07:58.708Z"
   },
   {
    "duration": 1177,
    "start_time": "2023-03-27T04:08:00.782Z"
   },
   {
    "duration": 780,
    "start_time": "2023-03-27T04:08:01.961Z"
   },
   {
    "duration": 17,
    "start_time": "2023-03-27T04:08:02.743Z"
   },
   {
    "duration": 144,
    "start_time": "2023-03-27T04:08:02.762Z"
   },
   {
    "duration": 3,
    "start_time": "2023-03-27T04:08:02.908Z"
   },
   {
    "duration": 140,
    "start_time": "2023-03-27T04:08:02.913Z"
   },
   {
    "duration": 516,
    "start_time": "2023-03-27T04:08:03.056Z"
   },
   {
    "duration": 939,
    "start_time": "2023-03-27T04:08:03.575Z"
   },
   {
    "duration": 555,
    "start_time": "2023-03-27T04:08:04.516Z"
   },
   {
    "duration": 291,
    "start_time": "2023-03-27T04:08:05.074Z"
   },
   {
    "duration": 3,
    "start_time": "2023-03-27T04:08:05.367Z"
   },
   {
    "duration": 206,
    "start_time": "2023-03-27T04:08:05.371Z"
   },
   {
    "duration": 15,
    "start_time": "2023-03-27T04:08:05.579Z"
   },
   {
    "duration": 383,
    "start_time": "2023-03-27T04:08:05.595Z"
   },
   {
    "duration": 170,
    "start_time": "2023-03-27T04:08:05.980Z"
   },
   {
    "duration": 15,
    "start_time": "2023-03-27T04:08:06.152Z"
   },
   {
    "duration": 216,
    "start_time": "2023-03-27T04:08:06.169Z"
   },
   {
    "duration": 132,
    "start_time": "2023-03-27T04:08:06.387Z"
   },
   {
    "duration": 195,
    "start_time": "2023-03-27T04:08:06.521Z"
   },
   {
    "duration": 0,
    "start_time": "2023-03-27T04:08:06.718Z"
   },
   {
    "duration": 0,
    "start_time": "2023-03-27T04:08:06.720Z"
   },
   {
    "duration": 0,
    "start_time": "2023-03-27T04:08:06.721Z"
   },
   {
    "duration": 0,
    "start_time": "2023-03-27T04:08:06.722Z"
   },
   {
    "duration": 0,
    "start_time": "2023-03-27T04:08:06.735Z"
   },
   {
    "duration": 0,
    "start_time": "2023-03-27T04:08:06.736Z"
   },
   {
    "duration": 0,
    "start_time": "2023-03-27T04:08:06.737Z"
   },
   {
    "duration": 0,
    "start_time": "2023-03-27T04:08:06.738Z"
   },
   {
    "duration": 0,
    "start_time": "2023-03-27T04:08:06.739Z"
   },
   {
    "duration": 0,
    "start_time": "2023-03-27T04:08:06.740Z"
   },
   {
    "duration": 0,
    "start_time": "2023-03-27T04:08:06.741Z"
   },
   {
    "duration": 0,
    "start_time": "2023-03-27T04:08:06.742Z"
   },
   {
    "duration": 0,
    "start_time": "2023-03-27T04:08:06.743Z"
   },
   {
    "duration": 0,
    "start_time": "2023-03-27T04:08:06.744Z"
   },
   {
    "duration": 0,
    "start_time": "2023-03-27T04:08:06.745Z"
   },
   {
    "duration": 0,
    "start_time": "2023-03-27T04:08:06.745Z"
   },
   {
    "duration": 0,
    "start_time": "2023-03-27T04:08:06.747Z"
   },
   {
    "duration": 0,
    "start_time": "2023-03-27T04:08:06.748Z"
   },
   {
    "duration": 0,
    "start_time": "2023-03-27T04:08:06.749Z"
   },
   {
    "duration": 59,
    "start_time": "2023-03-27T04:08:17.104Z"
   },
   {
    "duration": 147,
    "start_time": "2023-03-27T04:08:18.921Z"
   },
   {
    "duration": 15,
    "start_time": "2023-03-27T04:08:23.007Z"
   },
   {
    "duration": 4,
    "start_time": "2023-03-27T04:08:39.048Z"
   },
   {
    "duration": 9,
    "start_time": "2023-03-27T04:20:30.543Z"
   },
   {
    "duration": 12,
    "start_time": "2023-03-27T04:20:37.710Z"
   },
   {
    "duration": 19,
    "start_time": "2023-03-27T04:20:48.159Z"
   },
   {
    "duration": 39,
    "start_time": "2023-03-27T04:20:55.970Z"
   },
   {
    "duration": 17,
    "start_time": "2023-03-27T04:21:24.949Z"
   },
   {
    "duration": 38,
    "start_time": "2023-03-27T04:21:29.974Z"
   },
   {
    "duration": 501,
    "start_time": "2023-03-27T04:22:19.852Z"
   },
   {
    "duration": 224,
    "start_time": "2023-03-27T04:22:45.325Z"
   },
   {
    "duration": 433,
    "start_time": "2023-03-27T04:22:57.972Z"
   },
   {
    "duration": 440,
    "start_time": "2023-03-27T04:23:03.679Z"
   },
   {
    "duration": 120,
    "start_time": "2023-03-27T04:23:17.298Z"
   },
   {
    "duration": 12,
    "start_time": "2023-03-27T04:25:10.824Z"
   },
   {
    "duration": 116,
    "start_time": "2023-03-27T04:25:18.576Z"
   },
   {
    "duration": 18,
    "start_time": "2023-03-27T04:26:15.876Z"
   },
   {
    "duration": 8,
    "start_time": "2023-03-27T04:26:21.932Z"
   },
   {
    "duration": 2116,
    "start_time": "2023-03-27T04:26:38.201Z"
   },
   {
    "duration": 2057,
    "start_time": "2023-03-27T04:26:40.319Z"
   },
   {
    "duration": 1183,
    "start_time": "2023-03-27T04:26:42.378Z"
   },
   {
    "duration": 856,
    "start_time": "2023-03-27T04:26:43.563Z"
   },
   {
    "duration": 28,
    "start_time": "2023-03-27T04:26:44.421Z"
   },
   {
    "duration": 186,
    "start_time": "2023-03-27T04:26:44.451Z"
   },
   {
    "duration": 11,
    "start_time": "2023-03-27T04:26:44.640Z"
   },
   {
    "duration": 204,
    "start_time": "2023-03-27T04:26:44.653Z"
   },
   {
    "duration": 507,
    "start_time": "2023-03-27T04:26:44.859Z"
   },
   {
    "duration": 1035,
    "start_time": "2023-03-27T04:26:45.368Z"
   },
   {
    "duration": 527,
    "start_time": "2023-03-27T04:26:46.404Z"
   },
   {
    "duration": 214,
    "start_time": "2023-03-27T04:26:46.934Z"
   },
   {
    "duration": 2,
    "start_time": "2023-03-27T04:26:47.150Z"
   },
   {
    "duration": 226,
    "start_time": "2023-03-27T04:26:47.154Z"
   },
   {
    "duration": 15,
    "start_time": "2023-03-27T04:26:47.382Z"
   },
   {
    "duration": 389,
    "start_time": "2023-03-27T04:26:47.398Z"
   },
   {
    "duration": 170,
    "start_time": "2023-03-27T04:26:47.789Z"
   },
   {
    "duration": 16,
    "start_time": "2023-03-27T04:26:47.961Z"
   },
   {
    "duration": 214,
    "start_time": "2023-03-27T04:26:47.979Z"
   },
   {
    "duration": 163,
    "start_time": "2023-03-27T04:26:48.195Z"
   },
   {
    "duration": 133,
    "start_time": "2023-03-27T04:26:48.362Z"
   },
   {
    "duration": 3,
    "start_time": "2023-03-27T04:26:48.496Z"
   },
   {
    "duration": 9,
    "start_time": "2023-03-27T04:26:48.500Z"
   },
   {
    "duration": 27,
    "start_time": "2023-03-27T04:26:48.511Z"
   },
   {
    "duration": 5,
    "start_time": "2023-03-27T04:26:48.544Z"
   },
   {
    "duration": 63,
    "start_time": "2023-03-27T04:26:48.551Z"
   },
   {
    "duration": 4,
    "start_time": "2023-03-27T04:26:48.616Z"
   },
   {
    "duration": 3,
    "start_time": "2023-03-27T04:26:48.623Z"
   },
   {
    "duration": 130,
    "start_time": "2023-03-27T04:26:48.639Z"
   },
   {
    "duration": 0,
    "start_time": "2023-03-27T04:26:48.771Z"
   },
   {
    "duration": 0,
    "start_time": "2023-03-27T04:26:48.773Z"
   },
   {
    "duration": 0,
    "start_time": "2023-03-27T04:26:48.775Z"
   },
   {
    "duration": 0,
    "start_time": "2023-03-27T04:26:48.776Z"
   },
   {
    "duration": 0,
    "start_time": "2023-03-27T04:26:48.777Z"
   },
   {
    "duration": 0,
    "start_time": "2023-03-27T04:26:48.779Z"
   },
   {
    "duration": 0,
    "start_time": "2023-03-27T04:26:48.781Z"
   },
   {
    "duration": 0,
    "start_time": "2023-03-27T04:26:48.782Z"
   },
   {
    "duration": 0,
    "start_time": "2023-03-27T04:26:48.784Z"
   },
   {
    "duration": 6066,
    "start_time": "2023-03-27T04:27:03.048Z"
   },
   {
    "duration": 5,
    "start_time": "2023-03-27T04:27:10.977Z"
   },
   {
    "duration": 3,
    "start_time": "2023-03-27T04:27:20.917Z"
   },
   {
    "duration": 2210,
    "start_time": "2023-03-27T04:28:21.012Z"
   },
   {
    "duration": 2253,
    "start_time": "2023-03-27T04:28:23.224Z"
   },
   {
    "duration": 1183,
    "start_time": "2023-03-27T04:28:25.479Z"
   },
   {
    "duration": 793,
    "start_time": "2023-03-27T04:28:26.664Z"
   },
   {
    "duration": 15,
    "start_time": "2023-03-27T04:28:27.458Z"
   },
   {
    "duration": 144,
    "start_time": "2023-03-27T04:28:27.474Z"
   },
   {
    "duration": 3,
    "start_time": "2023-03-27T04:28:27.620Z"
   },
   {
    "duration": 149,
    "start_time": "2023-03-27T04:28:27.624Z"
   },
   {
    "duration": 449,
    "start_time": "2023-03-27T04:28:27.775Z"
   },
   {
    "duration": 914,
    "start_time": "2023-03-27T04:28:28.228Z"
   },
   {
    "duration": 458,
    "start_time": "2023-03-27T04:28:29.146Z"
   },
   {
    "duration": 188,
    "start_time": "2023-03-27T04:28:29.606Z"
   },
   {
    "duration": 2,
    "start_time": "2023-03-27T04:28:29.796Z"
   },
   {
    "duration": 175,
    "start_time": "2023-03-27T04:28:29.800Z"
   },
   {
    "duration": 13,
    "start_time": "2023-03-27T04:28:29.976Z"
   },
   {
    "duration": 365,
    "start_time": "2023-03-27T04:28:29.991Z"
   },
   {
    "duration": 142,
    "start_time": "2023-03-27T04:28:30.357Z"
   },
   {
    "duration": 15,
    "start_time": "2023-03-27T04:28:30.500Z"
   },
   {
    "duration": 233,
    "start_time": "2023-03-27T04:28:30.516Z"
   },
   {
    "duration": 119,
    "start_time": "2023-03-27T04:28:30.751Z"
   },
   {
    "duration": 133,
    "start_time": "2023-03-27T04:28:30.871Z"
   },
   {
    "duration": 3,
    "start_time": "2023-03-27T04:28:31.005Z"
   },
   {
    "duration": 35,
    "start_time": "2023-03-27T04:28:31.009Z"
   },
   {
    "duration": 51,
    "start_time": "2023-03-27T04:28:31.047Z"
   },
   {
    "duration": 24,
    "start_time": "2023-03-27T04:28:31.100Z"
   },
   {
    "duration": 93,
    "start_time": "2023-03-27T04:28:31.127Z"
   },
   {
    "duration": 4,
    "start_time": "2023-03-27T04:28:31.222Z"
   },
   {
    "duration": 622,
    "start_time": "2023-03-27T04:28:31.230Z"
   },
   {
    "duration": 3,
    "start_time": "2023-03-27T04:28:31.855Z"
   },
   {
    "duration": 20,
    "start_time": "2023-03-27T04:28:31.860Z"
   },
   {
    "duration": 22,
    "start_time": "2023-03-27T04:28:31.882Z"
   },
   {
    "duration": 140,
    "start_time": "2023-03-27T04:28:31.906Z"
   },
   {
    "duration": 0,
    "start_time": "2023-03-27T04:28:32.048Z"
   },
   {
    "duration": 0,
    "start_time": "2023-03-27T04:28:32.050Z"
   },
   {
    "duration": 0,
    "start_time": "2023-03-27T04:28:32.051Z"
   },
   {
    "duration": 0,
    "start_time": "2023-03-27T04:28:32.052Z"
   },
   {
    "duration": 0,
    "start_time": "2023-03-27T04:28:32.053Z"
   },
   {
    "duration": 0,
    "start_time": "2023-03-27T04:28:32.055Z"
   },
   {
    "duration": 2315,
    "start_time": "2023-03-27T04:30:42.668Z"
   },
   {
    "duration": 2325,
    "start_time": "2023-03-27T04:30:44.985Z"
   },
   {
    "duration": 1279,
    "start_time": "2023-03-27T04:30:47.312Z"
   },
   {
    "duration": 864,
    "start_time": "2023-03-27T04:30:48.593Z"
   },
   {
    "duration": 18,
    "start_time": "2023-03-27T04:30:49.459Z"
   },
   {
    "duration": 169,
    "start_time": "2023-03-27T04:30:49.479Z"
   },
   {
    "duration": 4,
    "start_time": "2023-03-27T04:30:49.650Z"
   },
   {
    "duration": 154,
    "start_time": "2023-03-27T04:30:49.655Z"
   },
   {
    "duration": 487,
    "start_time": "2023-03-27T04:30:49.811Z"
   },
   {
    "duration": 1017,
    "start_time": "2023-03-27T04:30:50.300Z"
   },
   {
    "duration": 513,
    "start_time": "2023-03-27T04:30:51.319Z"
   },
   {
    "duration": 189,
    "start_time": "2023-03-27T04:30:51.834Z"
   },
   {
    "duration": 3,
    "start_time": "2023-03-27T04:30:52.025Z"
   },
   {
    "duration": 181,
    "start_time": "2023-03-27T04:30:52.035Z"
   },
   {
    "duration": 30,
    "start_time": "2023-03-27T04:30:52.218Z"
   },
   {
    "duration": 340,
    "start_time": "2023-03-27T04:30:52.250Z"
   },
   {
    "duration": 156,
    "start_time": "2023-03-27T04:30:52.592Z"
   },
   {
    "duration": 15,
    "start_time": "2023-03-27T04:30:52.749Z"
   },
   {
    "duration": 194,
    "start_time": "2023-03-27T04:30:52.765Z"
   },
   {
    "duration": 130,
    "start_time": "2023-03-27T04:30:52.961Z"
   },
   {
    "duration": 131,
    "start_time": "2023-03-27T04:30:53.093Z"
   },
   {
    "duration": 22,
    "start_time": "2023-03-27T04:30:53.226Z"
   },
   {
    "duration": 5,
    "start_time": "2023-03-27T04:30:53.250Z"
   },
   {
    "duration": 17,
    "start_time": "2023-03-27T04:30:53.256Z"
   },
   {
    "duration": 4,
    "start_time": "2023-03-27T04:30:53.275Z"
   },
   {
    "duration": 62,
    "start_time": "2023-03-27T04:30:53.281Z"
   },
   {
    "duration": 9,
    "start_time": "2023-03-27T04:30:53.345Z"
   },
   {
    "duration": 114,
    "start_time": "2023-03-27T04:30:53.356Z"
   },
   {
    "duration": 0,
    "start_time": "2023-03-27T04:30:53.472Z"
   },
   {
    "duration": 0,
    "start_time": "2023-03-27T04:30:53.474Z"
   },
   {
    "duration": 0,
    "start_time": "2023-03-27T04:30:53.475Z"
   },
   {
    "duration": 0,
    "start_time": "2023-03-27T04:30:53.477Z"
   },
   {
    "duration": 0,
    "start_time": "2023-03-27T04:30:53.478Z"
   },
   {
    "duration": 0,
    "start_time": "2023-03-27T04:30:53.479Z"
   },
   {
    "duration": 0,
    "start_time": "2023-03-27T04:30:53.481Z"
   },
   {
    "duration": 0,
    "start_time": "2023-03-27T04:30:53.483Z"
   },
   {
    "duration": 0,
    "start_time": "2023-03-27T04:30:53.484Z"
   },
   {
    "duration": 0,
    "start_time": "2023-03-27T04:30:53.485Z"
   },
   {
    "duration": 4582,
    "start_time": "2023-03-27T04:31:13.828Z"
   },
   {
    "duration": 2248,
    "start_time": "2023-03-27T04:33:43.642Z"
   },
   {
    "duration": 2281,
    "start_time": "2023-03-27T04:33:45.893Z"
   },
   {
    "duration": 1252,
    "start_time": "2023-03-27T04:33:48.177Z"
   },
   {
    "duration": 911,
    "start_time": "2023-03-27T04:33:49.440Z"
   },
   {
    "duration": 17,
    "start_time": "2023-03-27T04:33:50.353Z"
   },
   {
    "duration": 161,
    "start_time": "2023-03-27T04:33:50.371Z"
   },
   {
    "duration": 5,
    "start_time": "2023-03-27T04:33:50.542Z"
   },
   {
    "duration": 167,
    "start_time": "2023-03-27T04:33:50.549Z"
   },
   {
    "duration": 545,
    "start_time": "2023-03-27T04:33:50.718Z"
   },
   {
    "duration": 1030,
    "start_time": "2023-03-27T04:33:51.266Z"
   },
   {
    "duration": 584,
    "start_time": "2023-03-27T04:33:52.298Z"
   },
   {
    "duration": 214,
    "start_time": "2023-03-27T04:33:52.883Z"
   },
   {
    "duration": 3,
    "start_time": "2023-03-27T04:33:53.098Z"
   },
   {
    "duration": 184,
    "start_time": "2023-03-27T04:33:53.103Z"
   },
   {
    "duration": 13,
    "start_time": "2023-03-27T04:33:53.289Z"
   },
   {
    "duration": 391,
    "start_time": "2023-03-27T04:33:53.304Z"
   },
   {
    "duration": 167,
    "start_time": "2023-03-27T04:33:53.696Z"
   },
   {
    "duration": 15,
    "start_time": "2023-03-27T04:33:53.865Z"
   },
   {
    "duration": 207,
    "start_time": "2023-03-27T04:33:53.892Z"
   },
   {
    "duration": 155,
    "start_time": "2023-03-27T04:33:54.100Z"
   },
   {
    "duration": 132,
    "start_time": "2023-03-27T04:33:54.258Z"
   },
   {
    "duration": 3,
    "start_time": "2023-03-27T04:33:54.391Z"
   },
   {
    "duration": 9,
    "start_time": "2023-03-27T04:33:54.396Z"
   },
   {
    "duration": 16,
    "start_time": "2023-03-27T04:33:54.406Z"
   },
   {
    "duration": 23,
    "start_time": "2023-03-27T04:33:54.424Z"
   },
   {
    "duration": 60,
    "start_time": "2023-03-27T04:33:54.448Z"
   },
   {
    "duration": 5,
    "start_time": "2023-03-27T04:33:54.509Z"
   },
   {
    "duration": 2660,
    "start_time": "2023-03-27T04:33:54.517Z"
   },
   {
    "duration": 5,
    "start_time": "2023-03-27T04:33:57.179Z"
   },
   {
    "duration": 7,
    "start_time": "2023-03-27T04:33:57.186Z"
   },
   {
    "duration": 8,
    "start_time": "2023-03-27T04:33:57.195Z"
   },
   {
    "duration": 122,
    "start_time": "2023-03-27T04:33:57.204Z"
   },
   {
    "duration": 0,
    "start_time": "2023-03-27T04:33:57.327Z"
   },
   {
    "duration": 0,
    "start_time": "2023-03-27T04:33:57.329Z"
   },
   {
    "duration": 0,
    "start_time": "2023-03-27T04:33:57.330Z"
   },
   {
    "duration": 0,
    "start_time": "2023-03-27T04:33:57.334Z"
   },
   {
    "duration": 0,
    "start_time": "2023-03-27T04:33:57.335Z"
   },
   {
    "duration": 0,
    "start_time": "2023-03-27T04:33:57.336Z"
   },
   {
    "duration": 5,
    "start_time": "2023-03-27T04:34:13.676Z"
   },
   {
    "duration": 2084,
    "start_time": "2023-03-27T04:35:28.038Z"
   },
   {
    "duration": 2105,
    "start_time": "2023-03-27T04:35:30.124Z"
   },
   {
    "duration": 1228,
    "start_time": "2023-03-27T04:35:32.230Z"
   },
   {
    "duration": 803,
    "start_time": "2023-03-27T04:35:33.460Z"
   },
   {
    "duration": 17,
    "start_time": "2023-03-27T04:35:34.265Z"
   },
   {
    "duration": 144,
    "start_time": "2023-03-27T04:35:34.283Z"
   },
   {
    "duration": 12,
    "start_time": "2023-03-27T04:35:34.428Z"
   },
   {
    "duration": 165,
    "start_time": "2023-03-27T04:35:34.441Z"
   },
   {
    "duration": 476,
    "start_time": "2023-03-27T04:35:34.608Z"
   },
   {
    "duration": 976,
    "start_time": "2023-03-27T04:35:35.086Z"
   },
   {
    "duration": 503,
    "start_time": "2023-03-27T04:35:36.064Z"
   },
   {
    "duration": 182,
    "start_time": "2023-03-27T04:35:36.568Z"
   },
   {
    "duration": 5,
    "start_time": "2023-03-27T04:35:36.752Z"
   },
   {
    "duration": 162,
    "start_time": "2023-03-27T04:35:36.758Z"
   },
   {
    "duration": 29,
    "start_time": "2023-03-27T04:35:36.922Z"
   },
   {
    "duration": 330,
    "start_time": "2023-03-27T04:35:36.952Z"
   },
   {
    "duration": 147,
    "start_time": "2023-03-27T04:35:37.284Z"
   },
   {
    "duration": 19,
    "start_time": "2023-03-27T04:35:37.434Z"
   },
   {
    "duration": 191,
    "start_time": "2023-03-27T04:35:37.455Z"
   },
   {
    "duration": 122,
    "start_time": "2023-03-27T04:35:37.648Z"
   },
   {
    "duration": 122,
    "start_time": "2023-03-27T04:35:37.771Z"
   },
   {
    "duration": 3,
    "start_time": "2023-03-27T04:35:37.894Z"
   },
   {
    "duration": 6,
    "start_time": "2023-03-27T04:35:37.898Z"
   },
   {
    "duration": 21,
    "start_time": "2023-03-27T04:35:37.905Z"
   },
   {
    "duration": 8,
    "start_time": "2023-03-27T04:35:37.927Z"
   },
   {
    "duration": 69,
    "start_time": "2023-03-27T04:35:37.940Z"
   },
   {
    "duration": 4,
    "start_time": "2023-03-27T04:35:38.010Z"
   },
   {
    "duration": 67,
    "start_time": "2023-03-27T04:35:38.017Z"
   },
   {
    "duration": 110,
    "start_time": "2023-03-27T04:35:38.085Z"
   },
   {
    "duration": 0,
    "start_time": "2023-03-27T04:35:38.196Z"
   },
   {
    "duration": 0,
    "start_time": "2023-03-27T04:35:38.197Z"
   },
   {
    "duration": 0,
    "start_time": "2023-03-27T04:35:38.198Z"
   },
   {
    "duration": 0,
    "start_time": "2023-03-27T04:35:38.199Z"
   },
   {
    "duration": 0,
    "start_time": "2023-03-27T04:35:38.200Z"
   },
   {
    "duration": 0,
    "start_time": "2023-03-27T04:35:38.202Z"
   },
   {
    "duration": 0,
    "start_time": "2023-03-27T04:35:38.203Z"
   },
   {
    "duration": 0,
    "start_time": "2023-03-27T04:35:38.204Z"
   },
   {
    "duration": 0,
    "start_time": "2023-03-27T04:35:38.205Z"
   },
   {
    "duration": 0,
    "start_time": "2023-03-27T04:35:38.206Z"
   },
   {
    "duration": 2468,
    "start_time": "2023-03-27T04:39:01.748Z"
   },
   {
    "duration": 2131,
    "start_time": "2023-03-27T04:39:41.939Z"
   },
   {
    "duration": 2334,
    "start_time": "2023-03-27T04:39:44.073Z"
   },
   {
    "duration": 1608,
    "start_time": "2023-03-27T04:39:46.409Z"
   },
   {
    "duration": 1167,
    "start_time": "2023-03-27T04:39:48.020Z"
   },
   {
    "duration": 17,
    "start_time": "2023-03-27T04:39:49.189Z"
   },
   {
    "duration": 177,
    "start_time": "2023-03-27T04:39:49.208Z"
   },
   {
    "duration": 3,
    "start_time": "2023-03-27T04:39:49.387Z"
   },
   {
    "duration": 163,
    "start_time": "2023-03-27T04:39:49.392Z"
   },
   {
    "duration": 495,
    "start_time": "2023-03-27T04:39:49.557Z"
   },
   {
    "duration": 1043,
    "start_time": "2023-03-27T04:39:50.054Z"
   },
   {
    "duration": 548,
    "start_time": "2023-03-27T04:39:51.099Z"
   },
   {
    "duration": 208,
    "start_time": "2023-03-27T04:39:51.648Z"
   },
   {
    "duration": 3,
    "start_time": "2023-03-27T04:39:51.858Z"
   },
   {
    "duration": 196,
    "start_time": "2023-03-27T04:39:51.862Z"
   },
   {
    "duration": 14,
    "start_time": "2023-03-27T04:39:52.059Z"
   },
   {
    "duration": 383,
    "start_time": "2023-03-27T04:39:52.075Z"
   },
   {
    "duration": 162,
    "start_time": "2023-03-27T04:39:52.461Z"
   },
   {
    "duration": 25,
    "start_time": "2023-03-27T04:39:52.624Z"
   },
   {
    "duration": 207,
    "start_time": "2023-03-27T04:39:52.651Z"
   },
   {
    "duration": 132,
    "start_time": "2023-03-27T04:39:52.860Z"
   },
   {
    "duration": 133,
    "start_time": "2023-03-27T04:39:52.994Z"
   },
   {
    "duration": 5,
    "start_time": "2023-03-27T04:39:53.129Z"
   },
   {
    "duration": 15,
    "start_time": "2023-03-27T04:39:53.135Z"
   },
   {
    "duration": 15,
    "start_time": "2023-03-27T04:39:53.153Z"
   },
   {
    "duration": 3,
    "start_time": "2023-03-27T04:39:53.170Z"
   },
   {
    "duration": 71,
    "start_time": "2023-03-27T04:39:53.175Z"
   },
   {
    "duration": 4,
    "start_time": "2023-03-27T04:39:53.248Z"
   },
   {
    "duration": 2610,
    "start_time": "2023-03-27T04:39:53.255Z"
   },
   {
    "duration": 5,
    "start_time": "2023-03-27T04:39:55.866Z"
   },
   {
    "duration": 5,
    "start_time": "2023-03-27T04:39:55.872Z"
   },
   {
    "duration": 12,
    "start_time": "2023-03-27T04:39:55.878Z"
   },
   {
    "duration": 122,
    "start_time": "2023-03-27T04:39:55.891Z"
   },
   {
    "duration": 0,
    "start_time": "2023-03-27T04:39:56.014Z"
   },
   {
    "duration": 0,
    "start_time": "2023-03-27T04:39:56.016Z"
   },
   {
    "duration": 0,
    "start_time": "2023-03-27T04:39:56.017Z"
   },
   {
    "duration": 0,
    "start_time": "2023-03-27T04:39:56.018Z"
   },
   {
    "duration": 0,
    "start_time": "2023-03-27T04:39:56.019Z"
   },
   {
    "duration": 0,
    "start_time": "2023-03-27T04:39:56.020Z"
   },
   {
    "duration": 3,
    "start_time": "2023-03-27T04:40:06.019Z"
   },
   {
    "duration": 2104,
    "start_time": "2023-03-27T04:40:26.997Z"
   },
   {
    "duration": 2089,
    "start_time": "2023-03-27T04:40:29.103Z"
   },
   {
    "duration": 1615,
    "start_time": "2023-03-27T04:40:31.195Z"
   },
   {
    "duration": 1087,
    "start_time": "2023-03-27T04:40:32.811Z"
   },
   {
    "duration": 14,
    "start_time": "2023-03-27T04:40:33.900Z"
   },
   {
    "duration": 135,
    "start_time": "2023-03-27T04:40:33.916Z"
   },
   {
    "duration": 3,
    "start_time": "2023-03-27T04:40:34.052Z"
   },
   {
    "duration": 139,
    "start_time": "2023-03-27T04:40:34.057Z"
   },
   {
    "duration": 463,
    "start_time": "2023-03-27T04:40:34.198Z"
   },
   {
    "duration": 943,
    "start_time": "2023-03-27T04:40:34.664Z"
   },
   {
    "duration": 464,
    "start_time": "2023-03-27T04:40:35.609Z"
   },
   {
    "duration": 183,
    "start_time": "2023-03-27T04:40:36.075Z"
   },
   {
    "duration": 3,
    "start_time": "2023-03-27T04:40:36.259Z"
   },
   {
    "duration": 169,
    "start_time": "2023-03-27T04:40:36.263Z"
   },
   {
    "duration": 14,
    "start_time": "2023-03-27T04:40:36.442Z"
   },
   {
    "duration": 336,
    "start_time": "2023-03-27T04:40:36.457Z"
   },
   {
    "duration": 151,
    "start_time": "2023-03-27T04:40:36.795Z"
   },
   {
    "duration": 14,
    "start_time": "2023-03-27T04:40:36.949Z"
   },
   {
    "duration": 184,
    "start_time": "2023-03-27T04:40:36.964Z"
   },
   {
    "duration": 111,
    "start_time": "2023-03-27T04:40:37.150Z"
   },
   {
    "duration": 127,
    "start_time": "2023-03-27T04:40:37.263Z"
   },
   {
    "duration": 2,
    "start_time": "2023-03-27T04:40:37.392Z"
   },
   {
    "duration": 7,
    "start_time": "2023-03-27T04:40:37.395Z"
   },
   {
    "duration": 15,
    "start_time": "2023-03-27T04:40:37.403Z"
   },
   {
    "duration": 4,
    "start_time": "2023-03-27T04:40:37.419Z"
   },
   {
    "duration": 60,
    "start_time": "2023-03-27T04:40:37.434Z"
   },
   {
    "duration": 4,
    "start_time": "2023-03-27T04:40:37.496Z"
   },
   {
    "duration": 2468,
    "start_time": "2023-03-27T04:40:37.503Z"
   },
   {
    "duration": 4,
    "start_time": "2023-03-27T04:40:39.973Z"
   },
   {
    "duration": 147,
    "start_time": "2023-03-27T04:40:39.978Z"
   },
   {
    "duration": 32,
    "start_time": "2023-03-27T04:40:40.127Z"
   },
   {
    "duration": 6,
    "start_time": "2023-03-27T04:40:40.160Z"
   },
   {
    "duration": 108,
    "start_time": "2023-03-27T04:40:40.167Z"
   },
   {
    "duration": 0,
    "start_time": "2023-03-27T04:40:40.276Z"
   },
   {
    "duration": 0,
    "start_time": "2023-03-27T04:40:40.277Z"
   },
   {
    "duration": 0,
    "start_time": "2023-03-27T04:40:40.279Z"
   },
   {
    "duration": 0,
    "start_time": "2023-03-27T04:40:40.280Z"
   },
   {
    "duration": 0,
    "start_time": "2023-03-27T04:40:40.280Z"
   },
   {
    "duration": 0,
    "start_time": "2023-03-27T04:40:40.282Z"
   },
   {
    "duration": 4,
    "start_time": "2023-03-27T04:47:36.745Z"
   },
   {
    "duration": 18,
    "start_time": "2023-03-27T04:47:39.639Z"
   },
   {
    "duration": 4,
    "start_time": "2023-03-27T04:47:40.946Z"
   },
   {
    "duration": 69,
    "start_time": "2023-03-27T04:47:42.376Z"
   },
   {
    "duration": 4,
    "start_time": "2023-03-27T04:47:43.629Z"
   },
   {
    "duration": 2077,
    "start_time": "2023-03-27T04:47:55.266Z"
   },
   {
    "duration": 2102,
    "start_time": "2023-03-27T04:47:57.347Z"
   },
   {
    "duration": 2056,
    "start_time": "2023-03-27T04:47:59.451Z"
   },
   {
    "duration": 1114,
    "start_time": "2023-03-27T04:48:01.510Z"
   },
   {
    "duration": 26,
    "start_time": "2023-03-27T04:48:02.625Z"
   },
   {
    "duration": 138,
    "start_time": "2023-03-27T04:48:02.653Z"
   },
   {
    "duration": 3,
    "start_time": "2023-03-27T04:48:02.793Z"
   },
   {
    "duration": 150,
    "start_time": "2023-03-27T04:48:02.797Z"
   },
   {
    "duration": 456,
    "start_time": "2023-03-27T04:48:02.949Z"
   },
   {
    "duration": 946,
    "start_time": "2023-03-27T04:48:03.408Z"
   },
   {
    "duration": 535,
    "start_time": "2023-03-27T04:48:04.356Z"
   },
   {
    "duration": 195,
    "start_time": "2023-03-27T04:48:04.893Z"
   },
   {
    "duration": 3,
    "start_time": "2023-03-27T04:48:05.089Z"
   },
   {
    "duration": 225,
    "start_time": "2023-03-27T04:48:05.094Z"
   },
   {
    "duration": 28,
    "start_time": "2023-03-27T04:48:05.321Z"
   },
   {
    "duration": 377,
    "start_time": "2023-03-27T04:48:05.351Z"
   },
   {
    "duration": 160,
    "start_time": "2023-03-27T04:48:05.730Z"
   },
   {
    "duration": 16,
    "start_time": "2023-03-27T04:48:05.892Z"
   },
   {
    "duration": 216,
    "start_time": "2023-03-27T04:48:05.910Z"
   },
   {
    "duration": 141,
    "start_time": "2023-03-27T04:48:06.127Z"
   },
   {
    "duration": 142,
    "start_time": "2023-03-27T04:48:06.270Z"
   },
   {
    "duration": 3,
    "start_time": "2023-03-27T04:48:06.414Z"
   },
   {
    "duration": 22,
    "start_time": "2023-03-27T04:48:06.419Z"
   },
   {
    "duration": 23,
    "start_time": "2023-03-27T04:48:06.450Z"
   },
   {
    "duration": 20,
    "start_time": "2023-03-27T04:48:06.475Z"
   },
   {
    "duration": 85,
    "start_time": "2023-03-27T04:48:06.497Z"
   },
   {
    "duration": 5,
    "start_time": "2023-03-27T04:48:06.585Z"
   },
   {
    "duration": 2530,
    "start_time": "2023-03-27T04:48:06.594Z"
   },
   {
    "duration": 4,
    "start_time": "2023-03-27T04:48:09.126Z"
   },
   {
    "duration": 20,
    "start_time": "2023-03-27T04:48:09.135Z"
   },
   {
    "duration": 5,
    "start_time": "2023-03-27T04:48:09.156Z"
   },
   {
    "duration": 4,
    "start_time": "2023-03-27T04:48:09.163Z"
   },
   {
    "duration": 112,
    "start_time": "2023-03-27T04:48:09.169Z"
   },
   {
    "duration": 0,
    "start_time": "2023-03-27T04:48:09.283Z"
   },
   {
    "duration": 0,
    "start_time": "2023-03-27T04:48:09.284Z"
   },
   {
    "duration": 0,
    "start_time": "2023-03-27T04:48:09.286Z"
   },
   {
    "duration": 0,
    "start_time": "2023-03-27T04:48:09.287Z"
   },
   {
    "duration": 0,
    "start_time": "2023-03-27T04:48:09.288Z"
   },
   {
    "duration": 0,
    "start_time": "2023-03-27T04:48:09.290Z"
   },
   {
    "duration": 2419,
    "start_time": "2023-03-27T04:49:47.871Z"
   },
   {
    "duration": 2169,
    "start_time": "2023-03-27T04:49:50.292Z"
   },
   {
    "duration": 1217,
    "start_time": "2023-03-27T04:49:52.463Z"
   },
   {
    "duration": 776,
    "start_time": "2023-03-27T04:49:53.682Z"
   },
   {
    "duration": 16,
    "start_time": "2023-03-27T04:49:54.460Z"
   },
   {
    "duration": 166,
    "start_time": "2023-03-27T04:49:54.477Z"
   },
   {
    "duration": 7,
    "start_time": "2023-03-27T04:49:54.646Z"
   },
   {
    "duration": 177,
    "start_time": "2023-03-27T04:49:54.659Z"
   },
   {
    "duration": 445,
    "start_time": "2023-03-27T04:49:54.846Z"
   },
   {
    "duration": 943,
    "start_time": "2023-03-27T04:49:55.294Z"
   },
   {
    "duration": 500,
    "start_time": "2023-03-27T04:49:56.241Z"
   },
   {
    "duration": 176,
    "start_time": "2023-03-27T04:49:56.743Z"
   },
   {
    "duration": 2,
    "start_time": "2023-03-27T04:49:56.921Z"
   },
   {
    "duration": 178,
    "start_time": "2023-03-27T04:49:56.936Z"
   },
   {
    "duration": 13,
    "start_time": "2023-03-27T04:49:57.116Z"
   },
   {
    "duration": 342,
    "start_time": "2023-03-27T04:49:57.140Z"
   },
   {
    "duration": 139,
    "start_time": "2023-03-27T04:49:57.483Z"
   },
   {
    "duration": 27,
    "start_time": "2023-03-27T04:49:57.624Z"
   },
   {
    "duration": 177,
    "start_time": "2023-03-27T04:49:57.652Z"
   },
   {
    "duration": 120,
    "start_time": "2023-03-27T04:49:57.834Z"
   },
   {
    "duration": 130,
    "start_time": "2023-03-27T04:49:57.956Z"
   },
   {
    "duration": 2,
    "start_time": "2023-03-27T04:49:58.088Z"
   },
   {
    "duration": 6,
    "start_time": "2023-03-27T04:49:58.092Z"
   },
   {
    "duration": 18,
    "start_time": "2023-03-27T04:49:58.100Z"
   },
   {
    "duration": 21,
    "start_time": "2023-03-27T04:49:58.119Z"
   },
   {
    "duration": 71,
    "start_time": "2023-03-27T04:49:58.141Z"
   },
   {
    "duration": 4,
    "start_time": "2023-03-27T04:49:58.214Z"
   },
   {
    "duration": 2774,
    "start_time": "2023-03-27T04:49:58.219Z"
   },
   {
    "duration": 0,
    "start_time": "2023-03-27T04:50:00.994Z"
   },
   {
    "duration": 0,
    "start_time": "2023-03-27T04:50:00.996Z"
   },
   {
    "duration": 0,
    "start_time": "2023-03-27T04:50:00.997Z"
   },
   {
    "duration": 0,
    "start_time": "2023-03-27T04:50:00.998Z"
   },
   {
    "duration": 0,
    "start_time": "2023-03-27T04:50:00.999Z"
   },
   {
    "duration": 0,
    "start_time": "2023-03-27T04:50:01.001Z"
   },
   {
    "duration": 0,
    "start_time": "2023-03-27T04:50:01.002Z"
   },
   {
    "duration": 0,
    "start_time": "2023-03-27T04:50:01.003Z"
   },
   {
    "duration": 0,
    "start_time": "2023-03-27T04:50:01.005Z"
   },
   {
    "duration": 0,
    "start_time": "2023-03-27T04:50:01.006Z"
   },
   {
    "duration": 0,
    "start_time": "2023-03-27T04:50:01.007Z"
   },
   {
    "duration": 2695,
    "start_time": "2023-03-27T04:51:56.866Z"
   },
   {
    "duration": 2420,
    "start_time": "2023-03-28T04:00:43.512Z"
   },
   {
    "duration": 6343,
    "start_time": "2023-03-28T04:00:45.934Z"
   },
   {
    "duration": 1395,
    "start_time": "2023-03-28T04:00:52.279Z"
   },
   {
    "duration": 2711,
    "start_time": "2023-03-28T04:00:53.683Z"
   },
   {
    "duration": 17,
    "start_time": "2023-03-28T04:00:56.395Z"
   },
   {
    "duration": 132,
    "start_time": "2023-03-28T04:00:56.413Z"
   },
   {
    "duration": 3,
    "start_time": "2023-03-28T04:00:56.547Z"
   },
   {
    "duration": 144,
    "start_time": "2023-03-28T04:00:56.551Z"
   },
   {
    "duration": 448,
    "start_time": "2023-03-28T04:00:56.697Z"
   },
   {
    "duration": 924,
    "start_time": "2023-03-28T04:00:57.148Z"
   },
   {
    "duration": 456,
    "start_time": "2023-03-28T04:00:58.074Z"
   },
   {
    "duration": 177,
    "start_time": "2023-03-28T04:00:58.531Z"
   },
   {
    "duration": 2,
    "start_time": "2023-03-28T04:00:58.710Z"
   },
   {
    "duration": 156,
    "start_time": "2023-03-28T04:00:58.713Z"
   },
   {
    "duration": 16,
    "start_time": "2023-03-28T04:00:58.871Z"
   },
   {
    "duration": 328,
    "start_time": "2023-03-28T04:00:58.888Z"
   },
   {
    "duration": 135,
    "start_time": "2023-03-28T04:00:59.217Z"
   },
   {
    "duration": 13,
    "start_time": "2023-03-28T04:00:59.354Z"
   },
   {
    "duration": 190,
    "start_time": "2023-03-28T04:00:59.368Z"
   },
   {
    "duration": 111,
    "start_time": "2023-03-28T04:00:59.560Z"
   },
   {
    "duration": 131,
    "start_time": "2023-03-28T04:00:59.673Z"
   },
   {
    "duration": 3,
    "start_time": "2023-03-28T04:00:59.805Z"
   },
   {
    "duration": 18,
    "start_time": "2023-03-28T04:00:59.810Z"
   },
   {
    "duration": 36,
    "start_time": "2023-03-28T04:00:59.830Z"
   },
   {
    "duration": 4,
    "start_time": "2023-03-28T04:00:59.868Z"
   },
   {
    "duration": 63,
    "start_time": "2023-03-28T04:00:59.873Z"
   },
   {
    "duration": 3,
    "start_time": "2023-03-28T04:00:59.938Z"
   },
   {
    "duration": 2853,
    "start_time": "2023-03-28T04:00:59.944Z"
   },
   {
    "duration": 0,
    "start_time": "2023-03-28T04:01:02.799Z"
   },
   {
    "duration": 0,
    "start_time": "2023-03-28T04:01:02.800Z"
   },
   {
    "duration": 0,
    "start_time": "2023-03-28T04:01:02.801Z"
   },
   {
    "duration": 0,
    "start_time": "2023-03-28T04:01:02.802Z"
   },
   {
    "duration": 0,
    "start_time": "2023-03-28T04:01:02.803Z"
   },
   {
    "duration": 0,
    "start_time": "2023-03-28T04:01:02.804Z"
   },
   {
    "duration": 0,
    "start_time": "2023-03-28T04:01:02.805Z"
   },
   {
    "duration": 0,
    "start_time": "2023-03-28T04:01:02.806Z"
   },
   {
    "duration": 0,
    "start_time": "2023-03-28T04:01:02.807Z"
   },
   {
    "duration": 0,
    "start_time": "2023-03-28T04:01:02.808Z"
   },
   {
    "duration": 0,
    "start_time": "2023-03-28T04:01:02.809Z"
   },
   {
    "duration": 9,
    "start_time": "2023-03-28T04:04:22.426Z"
   },
   {
    "duration": 22,
    "start_time": "2023-03-28T04:04:27.472Z"
   },
   {
    "duration": 4,
    "start_time": "2023-03-28T04:04:36.448Z"
   },
   {
    "duration": 76,
    "start_time": "2023-03-28T04:08:03.071Z"
   },
   {
    "duration": 21,
    "start_time": "2023-03-28T04:08:28.666Z"
   },
   {
    "duration": 4,
    "start_time": "2023-03-28T04:08:36.768Z"
   },
   {
    "duration": 25,
    "start_time": "2023-03-28T04:09:56.686Z"
   },
   {
    "duration": 25,
    "start_time": "2023-03-28T04:10:05.589Z"
   },
   {
    "duration": 19,
    "start_time": "2023-03-28T04:10:14.551Z"
   },
   {
    "duration": 2,
    "start_time": "2023-03-28T04:10:16.718Z"
   },
   {
    "duration": 2,
    "start_time": "2023-03-28T04:10:19.116Z"
   },
   {
    "duration": 3,
    "start_time": "2023-03-28T04:10:28.366Z"
   },
   {
    "duration": 20,
    "start_time": "2023-03-28T04:10:40.655Z"
   },
   {
    "duration": 4,
    "start_time": "2023-03-28T04:10:41.386Z"
   },
   {
    "duration": 27,
    "start_time": "2023-03-28T04:10:55.908Z"
   },
   {
    "duration": 23,
    "start_time": "2023-03-28T04:12:55.763Z"
   },
   {
    "duration": 18,
    "start_time": "2023-03-28T04:14:35.976Z"
   },
   {
    "duration": 3,
    "start_time": "2023-03-28T04:14:37.786Z"
   },
   {
    "duration": 4,
    "start_time": "2023-03-28T04:14:59.132Z"
   },
   {
    "duration": 19,
    "start_time": "2023-03-28T04:15:14.146Z"
   },
   {
    "duration": 4,
    "start_time": "2023-03-28T04:15:15.463Z"
   },
   {
    "duration": 76,
    "start_time": "2023-03-28T04:15:17.028Z"
   },
   {
    "duration": 64,
    "start_time": "2023-03-28T04:15:21.787Z"
   },
   {
    "duration": 4,
    "start_time": "2023-03-28T04:15:24.571Z"
   },
   {
    "duration": 1157,
    "start_time": "2023-03-28T04:17:13.309Z"
   },
   {
    "duration": 1220,
    "start_time": "2023-03-28T04:17:35.255Z"
   },
   {
    "duration": 4,
    "start_time": "2023-03-28T04:17:37.803Z"
   },
   {
    "duration": 5,
    "start_time": "2023-03-28T04:17:41.306Z"
   },
   {
    "duration": 1175,
    "start_time": "2023-03-28T04:18:41.919Z"
   },
   {
    "duration": 0,
    "start_time": "2023-03-28T04:18:43.096Z"
   },
   {
    "duration": 1247,
    "start_time": "2023-03-28T04:18:53.519Z"
   },
   {
    "duration": 2253,
    "start_time": "2023-03-28T04:19:00.797Z"
   },
   {
    "duration": 2358,
    "start_time": "2023-03-28T04:19:03.052Z"
   },
   {
    "duration": 1194,
    "start_time": "2023-03-28T04:19:05.413Z"
   },
   {
    "duration": 763,
    "start_time": "2023-03-28T04:19:06.609Z"
   },
   {
    "duration": 15,
    "start_time": "2023-03-28T04:19:07.374Z"
   },
   {
    "duration": 144,
    "start_time": "2023-03-28T04:19:07.391Z"
   },
   {
    "duration": 3,
    "start_time": "2023-03-28T04:19:07.537Z"
   },
   {
    "duration": 152,
    "start_time": "2023-03-28T04:19:07.542Z"
   },
   {
    "duration": 488,
    "start_time": "2023-03-28T04:19:07.696Z"
   },
   {
    "duration": 971,
    "start_time": "2023-03-28T04:19:08.186Z"
   },
   {
    "duration": 504,
    "start_time": "2023-03-28T04:19:09.158Z"
   },
   {
    "duration": 222,
    "start_time": "2023-03-28T04:19:09.664Z"
   },
   {
    "duration": 3,
    "start_time": "2023-03-28T04:19:09.887Z"
   },
   {
    "duration": 188,
    "start_time": "2023-03-28T04:19:09.891Z"
   },
   {
    "duration": 14,
    "start_time": "2023-03-28T04:19:10.081Z"
   },
   {
    "duration": 376,
    "start_time": "2023-03-28T04:19:10.096Z"
   },
   {
    "duration": 165,
    "start_time": "2023-03-28T04:19:10.474Z"
   },
   {
    "duration": 15,
    "start_time": "2023-03-28T04:19:10.640Z"
   },
   {
    "duration": 220,
    "start_time": "2023-03-28T04:19:10.657Z"
   },
   {
    "duration": 134,
    "start_time": "2023-03-28T04:19:10.882Z"
   },
   {
    "duration": 139,
    "start_time": "2023-03-28T04:19:11.019Z"
   },
   {
    "duration": 2,
    "start_time": "2023-03-28T04:19:11.160Z"
   },
   {
    "duration": 39,
    "start_time": "2023-03-28T04:19:11.164Z"
   },
   {
    "duration": 3,
    "start_time": "2023-03-28T04:19:11.205Z"
   },
   {
    "duration": 20,
    "start_time": "2023-03-28T04:19:11.210Z"
   },
   {
    "duration": 4,
    "start_time": "2023-03-28T04:19:11.232Z"
   },
   {
    "duration": 77,
    "start_time": "2023-03-28T04:19:11.237Z"
   },
   {
    "duration": 3,
    "start_time": "2023-03-28T04:19:11.318Z"
   },
   {
    "duration": 1252,
    "start_time": "2023-03-28T04:19:11.323Z"
   },
   {
    "duration": 0,
    "start_time": "2023-03-28T04:19:12.577Z"
   },
   {
    "duration": 0,
    "start_time": "2023-03-28T04:19:12.578Z"
   },
   {
    "duration": 0,
    "start_time": "2023-03-28T04:19:12.583Z"
   },
   {
    "duration": 0,
    "start_time": "2023-03-28T04:19:12.585Z"
   },
   {
    "duration": 0,
    "start_time": "2023-03-28T04:19:12.586Z"
   },
   {
    "duration": 0,
    "start_time": "2023-03-28T04:19:12.587Z"
   },
   {
    "duration": 0,
    "start_time": "2023-03-28T04:19:12.588Z"
   },
   {
    "duration": 0,
    "start_time": "2023-03-28T04:19:12.590Z"
   },
   {
    "duration": 0,
    "start_time": "2023-03-28T04:19:12.590Z"
   },
   {
    "duration": 0,
    "start_time": "2023-03-28T04:19:12.592Z"
   },
   {
    "duration": 0,
    "start_time": "2023-03-28T04:19:12.593Z"
   },
   {
    "duration": 1127,
    "start_time": "2023-03-28T04:19:23.658Z"
   },
   {
    "duration": 7,
    "start_time": "2023-03-28T04:19:24.787Z"
   },
   {
    "duration": 8,
    "start_time": "2023-03-28T04:19:34.472Z"
   },
   {
    "duration": 26,
    "start_time": "2023-03-28T04:20:55.832Z"
   },
   {
    "duration": 1098,
    "start_time": "2023-03-28T04:20:56.500Z"
   },
   {
    "duration": 9,
    "start_time": "2023-03-28T04:20:59.220Z"
   },
   {
    "duration": 12,
    "start_time": "2023-03-28T04:21:22.995Z"
   },
   {
    "duration": 4,
    "start_time": "2023-03-28T04:22:39.012Z"
   },
   {
    "duration": 17,
    "start_time": "2023-03-28T04:23:31.777Z"
   },
   {
    "duration": 1201,
    "start_time": "2023-03-28T04:24:18.061Z"
   },
   {
    "duration": 1150,
    "start_time": "2023-03-28T04:24:24.949Z"
   },
   {
    "duration": 5,
    "start_time": "2023-03-28T04:25:26.674Z"
   },
   {
    "duration": 11,
    "start_time": "2023-03-28T04:25:36.788Z"
   },
   {
    "duration": 6,
    "start_time": "2023-03-28T04:25:56.980Z"
   },
   {
    "duration": 2,
    "start_time": "2023-03-28T04:26:38.815Z"
   },
   {
    "duration": 1151,
    "start_time": "2023-03-28T04:27:03.899Z"
   },
   {
    "duration": 5,
    "start_time": "2023-03-28T04:27:06.212Z"
   },
   {
    "duration": 4,
    "start_time": "2023-03-28T04:27:12.075Z"
   },
   {
    "duration": 4,
    "start_time": "2023-03-28T04:27:18.213Z"
   },
   {
    "duration": 10,
    "start_time": "2023-03-28T04:27:50.602Z"
   },
   {
    "duration": 9,
    "start_time": "2023-03-28T04:27:58.217Z"
   },
   {
    "duration": 9,
    "start_time": "2023-03-28T04:28:05.896Z"
   },
   {
    "duration": 9,
    "start_time": "2023-03-28T04:28:31.868Z"
   },
   {
    "duration": 20,
    "start_time": "2023-03-28T04:29:56.613Z"
   },
   {
    "duration": 4,
    "start_time": "2023-03-28T04:29:57.750Z"
   },
   {
    "duration": 16,
    "start_time": "2023-03-28T04:30:00.484Z"
   },
   {
    "duration": 4,
    "start_time": "2023-03-28T04:30:01.410Z"
   },
   {
    "duration": 57,
    "start_time": "2023-03-28T04:30:02.251Z"
   },
   {
    "duration": 4,
    "start_time": "2023-03-28T04:30:02.979Z"
   },
   {
    "duration": 11,
    "start_time": "2023-03-28T04:30:05.845Z"
   },
   {
    "duration": 1066,
    "start_time": "2023-03-28T04:30:06.655Z"
   },
   {
    "duration": 3,
    "start_time": "2023-03-28T04:30:07.723Z"
   },
   {
    "duration": 9,
    "start_time": "2023-03-28T04:30:10.990Z"
   },
   {
    "duration": 21,
    "start_time": "2023-03-28T04:33:31.120Z"
   },
   {
    "duration": 13,
    "start_time": "2023-03-28T04:33:35.136Z"
   },
   {
    "duration": 4,
    "start_time": "2023-03-28T04:33:36.084Z"
   },
   {
    "duration": 53,
    "start_time": "2023-03-28T04:33:37.001Z"
   },
   {
    "duration": 4,
    "start_time": "2023-03-28T04:33:37.796Z"
   },
   {
    "duration": 11,
    "start_time": "2023-03-28T04:33:40.740Z"
   },
   {
    "duration": 1022,
    "start_time": "2023-03-28T04:33:42.663Z"
   },
   {
    "duration": 4,
    "start_time": "2023-03-28T04:33:43.786Z"
   },
   {
    "duration": 11,
    "start_time": "2023-03-28T04:33:47.567Z"
   },
   {
    "duration": 17,
    "start_time": "2023-03-28T04:34:47.124Z"
   },
   {
    "duration": 14,
    "start_time": "2023-03-28T04:34:58.534Z"
   },
   {
    "duration": 25,
    "start_time": "2023-03-28T04:35:15.484Z"
   },
   {
    "duration": 16,
    "start_time": "2023-03-28T04:35:18.448Z"
   },
   {
    "duration": 4,
    "start_time": "2023-03-28T04:35:19.986Z"
   },
   {
    "duration": 60,
    "start_time": "2023-03-28T04:35:21.797Z"
   },
   {
    "duration": 5,
    "start_time": "2023-03-28T04:35:22.612Z"
   },
   {
    "duration": 12,
    "start_time": "2023-03-28T04:35:26.207Z"
   },
   {
    "duration": 1164,
    "start_time": "2023-03-28T04:35:28.501Z"
   },
   {
    "duration": 4,
    "start_time": "2023-03-28T04:35:29.667Z"
   },
   {
    "duration": 1116,
    "start_time": "2023-03-28T04:37:03.176Z"
   },
   {
    "duration": 78,
    "start_time": "2023-03-28T04:38:29.640Z"
   },
   {
    "duration": 20,
    "start_time": "2023-03-28T04:40:36.589Z"
   },
   {
    "duration": 78,
    "start_time": "2023-03-28T04:40:39.512Z"
   },
   {
    "duration": 11,
    "start_time": "2023-03-28T04:40:42.976Z"
   },
   {
    "duration": 1012,
    "start_time": "2023-03-28T04:40:44.404Z"
   },
   {
    "duration": 1057,
    "start_time": "2023-03-28T04:42:14.665Z"
   },
   {
    "duration": 8,
    "start_time": "2023-03-28T04:42:51.198Z"
   },
   {
    "duration": 1278,
    "start_time": "2023-03-28T04:43:03.812Z"
   },
   {
    "duration": 9,
    "start_time": "2023-03-28T04:43:35.012Z"
   },
   {
    "duration": 6,
    "start_time": "2023-03-28T04:43:39.815Z"
   },
   {
    "duration": 1082,
    "start_time": "2023-03-28T04:44:15.002Z"
   },
   {
    "duration": 16,
    "start_time": "2023-03-28T04:47:23.058Z"
   },
   {
    "duration": 9,
    "start_time": "2023-03-28T04:47:48.410Z"
   },
   {
    "duration": 5,
    "start_time": "2023-03-28T04:50:57.920Z"
   },
   {
    "duration": 10,
    "start_time": "2023-03-28T04:51:23.621Z"
   },
   {
    "duration": 11,
    "start_time": "2023-03-28T04:51:34.402Z"
   },
   {
    "duration": 1104,
    "start_time": "2023-03-28T04:51:45.329Z"
   },
   {
    "duration": 20,
    "start_time": "2023-03-28T04:52:32.529Z"
   },
   {
    "duration": 9,
    "start_time": "2023-03-28T04:53:37.507Z"
   },
   {
    "duration": 19,
    "start_time": "2023-03-28T04:53:50.651Z"
   },
   {
    "duration": 20,
    "start_time": "2023-03-28T04:53:57.863Z"
   },
   {
    "duration": 5,
    "start_time": "2023-03-28T04:53:58.506Z"
   },
   {
    "duration": 17,
    "start_time": "2023-03-28T04:55:13.822Z"
   },
   {
    "duration": 21,
    "start_time": "2023-03-28T04:55:48.354Z"
   },
   {
    "duration": 29,
    "start_time": "2023-03-28T04:55:53.873Z"
   },
   {
    "duration": 2085,
    "start_time": "2023-03-28T04:56:05.260Z"
   },
   {
    "duration": 2250,
    "start_time": "2023-03-28T04:56:07.347Z"
   },
   {
    "duration": 1233,
    "start_time": "2023-03-28T04:56:09.599Z"
   },
   {
    "duration": 872,
    "start_time": "2023-03-28T04:56:10.834Z"
   },
   {
    "duration": 16,
    "start_time": "2023-03-28T04:56:11.708Z"
   },
   {
    "duration": 146,
    "start_time": "2023-03-28T04:56:11.726Z"
   },
   {
    "duration": 10,
    "start_time": "2023-03-28T04:56:11.873Z"
   },
   {
    "duration": 129,
    "start_time": "2023-03-28T04:56:11.884Z"
   },
   {
    "duration": 488,
    "start_time": "2023-03-28T04:56:12.015Z"
   },
   {
    "duration": 946,
    "start_time": "2023-03-28T04:56:12.504Z"
   },
   {
    "duration": 502,
    "start_time": "2023-03-28T04:56:13.452Z"
   },
   {
    "duration": 188,
    "start_time": "2023-03-28T04:56:13.956Z"
   },
   {
    "duration": 3,
    "start_time": "2023-03-28T04:56:14.146Z"
   },
   {
    "duration": 166,
    "start_time": "2023-03-28T04:56:14.153Z"
   },
   {
    "duration": 14,
    "start_time": "2023-03-28T04:56:14.320Z"
   },
   {
    "duration": 351,
    "start_time": "2023-03-28T04:56:14.336Z"
   },
   {
    "duration": 155,
    "start_time": "2023-03-28T04:56:14.689Z"
   },
   {
    "duration": 16,
    "start_time": "2023-03-28T04:56:14.846Z"
   },
   {
    "duration": 219,
    "start_time": "2023-03-28T04:56:14.864Z"
   },
   {
    "duration": 124,
    "start_time": "2023-03-28T04:56:15.085Z"
   },
   {
    "duration": 121,
    "start_time": "2023-03-28T04:56:15.210Z"
   },
   {
    "duration": 3,
    "start_time": "2023-03-28T04:56:15.332Z"
   },
   {
    "duration": 22,
    "start_time": "2023-03-28T04:56:15.336Z"
   },
   {
    "duration": 4,
    "start_time": "2023-03-28T04:56:15.359Z"
   },
   {
    "duration": 91,
    "start_time": "2023-03-28T04:56:15.364Z"
   },
   {
    "duration": 5,
    "start_time": "2023-03-28T04:56:15.457Z"
   },
   {
    "duration": 137,
    "start_time": "2023-03-28T04:56:15.464Z"
   },
   {
    "duration": 0,
    "start_time": "2023-03-28T04:56:15.603Z"
   },
   {
    "duration": 0,
    "start_time": "2023-03-28T04:56:15.604Z"
   },
   {
    "duration": 0,
    "start_time": "2023-03-28T04:56:15.605Z"
   },
   {
    "duration": 0,
    "start_time": "2023-03-28T04:56:15.606Z"
   },
   {
    "duration": 0,
    "start_time": "2023-03-28T04:56:15.607Z"
   },
   {
    "duration": 0,
    "start_time": "2023-03-28T04:56:15.608Z"
   },
   {
    "duration": 0,
    "start_time": "2023-03-28T04:56:15.608Z"
   },
   {
    "duration": 0,
    "start_time": "2023-03-28T04:56:15.609Z"
   },
   {
    "duration": 0,
    "start_time": "2023-03-28T04:56:15.611Z"
   },
   {
    "duration": 0,
    "start_time": "2023-03-28T04:56:15.612Z"
   },
   {
    "duration": 0,
    "start_time": "2023-03-28T04:56:15.613Z"
   },
   {
    "duration": 0,
    "start_time": "2023-03-28T04:56:15.615Z"
   },
   {
    "duration": 0,
    "start_time": "2023-03-28T04:56:15.617Z"
   },
   {
    "duration": 18,
    "start_time": "2023-03-28T04:56:38.289Z"
   },
   {
    "duration": 17,
    "start_time": "2023-03-28T04:56:41.161Z"
   },
   {
    "duration": 1042,
    "start_time": "2023-03-28T04:56:42.151Z"
   },
   {
    "duration": 1023,
    "start_time": "2023-03-28T04:56:48.355Z"
   },
   {
    "duration": 16,
    "start_time": "2023-03-28T04:57:26.413Z"
   },
   {
    "duration": 2314,
    "start_time": "2023-03-28T04:59:08.130Z"
   },
   {
    "duration": 2106,
    "start_time": "2023-03-28T04:59:10.446Z"
   },
   {
    "duration": 1641,
    "start_time": "2023-03-28T04:59:12.554Z"
   },
   {
    "duration": 2787,
    "start_time": "2023-03-28T04:59:14.197Z"
   },
   {
    "duration": 24,
    "start_time": "2023-03-28T04:59:16.987Z"
   },
   {
    "duration": 145,
    "start_time": "2023-03-28T04:59:17.012Z"
   },
   {
    "duration": 3,
    "start_time": "2023-03-28T04:59:17.159Z"
   },
   {
    "duration": 145,
    "start_time": "2023-03-28T04:59:17.163Z"
   },
   {
    "duration": 448,
    "start_time": "2023-03-28T04:59:17.310Z"
   },
   {
    "duration": 959,
    "start_time": "2023-03-28T04:59:17.760Z"
   },
   {
    "duration": 462,
    "start_time": "2023-03-28T04:59:18.721Z"
   },
   {
    "duration": 179,
    "start_time": "2023-03-28T04:59:19.185Z"
   },
   {
    "duration": 3,
    "start_time": "2023-03-28T04:59:19.366Z"
   },
   {
    "duration": 163,
    "start_time": "2023-03-28T04:59:19.373Z"
   },
   {
    "duration": 14,
    "start_time": "2023-03-28T04:59:19.537Z"
   },
   {
    "duration": 369,
    "start_time": "2023-03-28T04:59:19.553Z"
   },
   {
    "duration": 142,
    "start_time": "2023-03-28T04:59:19.924Z"
   },
   {
    "duration": 18,
    "start_time": "2023-03-28T04:59:20.067Z"
   },
   {
    "duration": 188,
    "start_time": "2023-03-28T04:59:20.087Z"
   },
   {
    "duration": 121,
    "start_time": "2023-03-28T04:59:20.276Z"
   },
   {
    "duration": 127,
    "start_time": "2023-03-28T04:59:20.398Z"
   },
   {
    "duration": 3,
    "start_time": "2023-03-28T04:59:20.526Z"
   },
   {
    "duration": 27,
    "start_time": "2023-03-28T04:59:20.530Z"
   },
   {
    "duration": 4,
    "start_time": "2023-03-28T04:59:20.559Z"
   },
   {
    "duration": 81,
    "start_time": "2023-03-28T04:59:20.565Z"
   },
   {
    "duration": 5,
    "start_time": "2023-03-28T04:59:20.648Z"
   },
   {
    "duration": 37,
    "start_time": "2023-03-28T04:59:20.654Z"
   },
   {
    "duration": 16,
    "start_time": "2023-03-28T04:59:20.693Z"
   },
   {
    "duration": 2179,
    "start_time": "2023-03-28T05:03:14.656Z"
   },
   {
    "duration": 2128,
    "start_time": "2023-03-28T05:03:16.837Z"
   },
   {
    "duration": 1620,
    "start_time": "2023-03-28T05:03:18.967Z"
   },
   {
    "duration": 2751,
    "start_time": "2023-03-28T05:03:20.589Z"
   },
   {
    "duration": 15,
    "start_time": "2023-03-28T05:03:23.342Z"
   },
   {
    "duration": 128,
    "start_time": "2023-03-28T05:03:23.359Z"
   },
   {
    "duration": 3,
    "start_time": "2023-03-28T05:03:23.489Z"
   },
   {
    "duration": 141,
    "start_time": "2023-03-28T05:03:23.494Z"
   },
   {
    "duration": 457,
    "start_time": "2023-03-28T05:03:23.636Z"
   },
   {
    "duration": 982,
    "start_time": "2023-03-28T05:03:24.095Z"
   },
   {
    "duration": 470,
    "start_time": "2023-03-28T05:03:25.078Z"
   },
   {
    "duration": 183,
    "start_time": "2023-03-28T05:03:25.550Z"
   },
   {
    "duration": 3,
    "start_time": "2023-03-28T05:03:25.735Z"
   },
   {
    "duration": 171,
    "start_time": "2023-03-28T05:03:25.739Z"
   },
   {
    "duration": 14,
    "start_time": "2023-03-28T05:03:25.912Z"
   },
   {
    "duration": 370,
    "start_time": "2023-03-28T05:03:25.928Z"
   },
   {
    "duration": 147,
    "start_time": "2023-03-28T05:03:26.301Z"
   },
   {
    "duration": 14,
    "start_time": "2023-03-28T05:03:26.450Z"
   },
   {
    "duration": 197,
    "start_time": "2023-03-28T05:03:26.466Z"
   },
   {
    "duration": 127,
    "start_time": "2023-03-28T05:03:26.664Z"
   },
   {
    "duration": 129,
    "start_time": "2023-03-28T05:03:26.792Z"
   },
   {
    "duration": 3,
    "start_time": "2023-03-28T05:03:26.923Z"
   },
   {
    "duration": 19,
    "start_time": "2023-03-28T05:03:26.927Z"
   },
   {
    "duration": 4,
    "start_time": "2023-03-28T05:03:26.948Z"
   },
   {
    "duration": 94,
    "start_time": "2023-03-28T05:03:26.953Z"
   },
   {
    "duration": 4,
    "start_time": "2023-03-28T05:03:27.049Z"
   },
   {
    "duration": 32,
    "start_time": "2023-03-28T05:03:27.055Z"
   },
   {
    "duration": 18,
    "start_time": "2023-03-28T05:03:27.090Z"
   },
   {
    "duration": 52,
    "start_time": "2023-03-28T05:16:50.105Z"
   },
   {
    "duration": 2274,
    "start_time": "2023-03-28T05:16:57.925Z"
   },
   {
    "duration": 2483,
    "start_time": "2023-03-28T05:17:00.202Z"
   },
   {
    "duration": 1945,
    "start_time": "2023-03-28T05:17:02.689Z"
   },
   {
    "duration": 2838,
    "start_time": "2023-03-28T05:17:04.637Z"
   },
   {
    "duration": 19,
    "start_time": "2023-03-28T05:17:07.477Z"
   },
   {
    "duration": 178,
    "start_time": "2023-03-28T05:17:07.498Z"
   },
   {
    "duration": 15,
    "start_time": "2023-03-28T05:17:07.678Z"
   },
   {
    "duration": 210,
    "start_time": "2023-03-28T05:17:07.695Z"
   },
   {
    "duration": 524,
    "start_time": "2023-03-28T05:17:07.907Z"
   },
   {
    "duration": 985,
    "start_time": "2023-03-28T05:17:08.434Z"
   },
   {
    "duration": 535,
    "start_time": "2023-03-28T05:17:09.421Z"
   },
   {
    "duration": 215,
    "start_time": "2023-03-28T05:17:09.958Z"
   },
   {
    "duration": 8,
    "start_time": "2023-03-28T05:17:10.175Z"
   },
   {
    "duration": 188,
    "start_time": "2023-03-28T05:17:10.185Z"
   },
   {
    "duration": 18,
    "start_time": "2023-03-28T05:17:10.375Z"
   },
   {
    "duration": 399,
    "start_time": "2023-03-28T05:17:10.395Z"
   },
   {
    "duration": 157,
    "start_time": "2023-03-28T05:17:10.796Z"
   },
   {
    "duration": 28,
    "start_time": "2023-03-28T05:17:10.955Z"
   },
   {
    "duration": 215,
    "start_time": "2023-03-28T05:17:10.985Z"
   },
   {
    "duration": 143,
    "start_time": "2023-03-28T05:17:11.202Z"
   },
   {
    "duration": 147,
    "start_time": "2023-03-28T05:17:11.348Z"
   },
   {
    "duration": 3,
    "start_time": "2023-03-28T05:17:11.498Z"
   },
   {
    "duration": 31,
    "start_time": "2023-03-28T05:17:11.503Z"
   },
   {
    "duration": 7,
    "start_time": "2023-03-28T05:17:11.536Z"
   },
   {
    "duration": 101,
    "start_time": "2023-03-28T05:17:11.545Z"
   },
   {
    "duration": 5,
    "start_time": "2023-03-28T05:17:11.648Z"
   },
   {
    "duration": 70,
    "start_time": "2023-03-28T05:17:11.655Z"
   },
   {
    "duration": 21,
    "start_time": "2023-03-28T05:17:11.730Z"
   },
   {
    "duration": 1186,
    "start_time": "2023-03-28T05:17:11.753Z"
   },
   {
    "duration": 6,
    "start_time": "2023-03-28T05:17:12.941Z"
   },
   {
    "duration": 1355,
    "start_time": "2023-03-28T05:17:12.949Z"
   },
   {
    "duration": 123,
    "start_time": "2023-03-28T05:17:14.306Z"
   },
   {
    "duration": 0,
    "start_time": "2023-03-28T05:17:14.431Z"
   },
   {
    "duration": 0,
    "start_time": "2023-03-28T05:17:14.432Z"
   },
   {
    "duration": 0,
    "start_time": "2023-03-28T05:17:14.433Z"
   },
   {
    "duration": 0,
    "start_time": "2023-03-28T05:17:14.435Z"
   },
   {
    "duration": 0,
    "start_time": "2023-03-28T05:17:14.435Z"
   },
   {
    "duration": 0,
    "start_time": "2023-03-28T05:17:14.437Z"
   },
   {
    "duration": 0,
    "start_time": "2023-03-28T05:17:14.438Z"
   },
   {
    "duration": 0,
    "start_time": "2023-03-28T05:17:14.439Z"
   },
   {
    "duration": 58,
    "start_time": "2023-03-28T05:18:07.499Z"
   },
   {
    "duration": 2189,
    "start_time": "2023-03-28T05:18:17.542Z"
   },
   {
    "duration": 2197,
    "start_time": "2023-03-28T05:18:19.735Z"
   },
   {
    "duration": 1210,
    "start_time": "2023-03-28T05:18:21.935Z"
   },
   {
    "duration": 763,
    "start_time": "2023-03-28T05:18:23.147Z"
   },
   {
    "duration": 16,
    "start_time": "2023-03-28T05:18:23.912Z"
   },
   {
    "duration": 130,
    "start_time": "2023-03-28T05:18:23.929Z"
   },
   {
    "duration": 3,
    "start_time": "2023-03-28T05:18:24.061Z"
   },
   {
    "duration": 199,
    "start_time": "2023-03-28T05:18:24.066Z"
   },
   {
    "duration": 423,
    "start_time": "2023-03-28T05:18:24.267Z"
   },
   {
    "duration": 970,
    "start_time": "2023-03-28T05:18:24.692Z"
   },
   {
    "duration": 470,
    "start_time": "2023-03-28T05:18:25.663Z"
   },
   {
    "duration": 177,
    "start_time": "2023-03-28T05:18:26.135Z"
   },
   {
    "duration": 2,
    "start_time": "2023-03-28T05:18:26.314Z"
   },
   {
    "duration": 213,
    "start_time": "2023-03-28T05:18:26.318Z"
   },
   {
    "duration": 13,
    "start_time": "2023-03-28T05:18:26.533Z"
   },
   {
    "duration": 339,
    "start_time": "2023-03-28T05:18:26.547Z"
   },
   {
    "duration": 139,
    "start_time": "2023-03-28T05:18:26.888Z"
   },
   {
    "duration": 13,
    "start_time": "2023-03-28T05:18:27.029Z"
   },
   {
    "duration": 212,
    "start_time": "2023-03-28T05:18:27.043Z"
   },
   {
    "duration": 128,
    "start_time": "2023-03-28T05:18:27.257Z"
   },
   {
    "duration": 125,
    "start_time": "2023-03-28T05:18:27.386Z"
   },
   {
    "duration": 2,
    "start_time": "2023-03-28T05:18:27.513Z"
   },
   {
    "duration": 31,
    "start_time": "2023-03-28T05:18:27.517Z"
   },
   {
    "duration": 4,
    "start_time": "2023-03-28T05:18:27.550Z"
   },
   {
    "duration": 95,
    "start_time": "2023-03-28T05:18:27.556Z"
   },
   {
    "duration": 5,
    "start_time": "2023-03-28T05:18:27.653Z"
   },
   {
    "duration": 35,
    "start_time": "2023-03-28T05:18:27.660Z"
   },
   {
    "duration": 28,
    "start_time": "2023-03-28T05:18:27.698Z"
   },
   {
    "duration": 150,
    "start_time": "2023-03-28T05:18:27.728Z"
   },
   {
    "duration": 0,
    "start_time": "2023-03-28T05:18:27.880Z"
   },
   {
    "duration": 0,
    "start_time": "2023-03-28T05:18:27.883Z"
   },
   {
    "duration": 0,
    "start_time": "2023-03-28T05:18:27.884Z"
   },
   {
    "duration": 0,
    "start_time": "2023-03-28T05:18:27.885Z"
   },
   {
    "duration": 0,
    "start_time": "2023-03-28T05:18:27.886Z"
   },
   {
    "duration": 0,
    "start_time": "2023-03-28T05:18:27.887Z"
   },
   {
    "duration": 0,
    "start_time": "2023-03-28T05:18:27.888Z"
   },
   {
    "duration": 0,
    "start_time": "2023-03-28T05:18:27.889Z"
   },
   {
    "duration": 0,
    "start_time": "2023-03-28T05:18:27.890Z"
   },
   {
    "duration": 0,
    "start_time": "2023-03-28T05:18:27.891Z"
   },
   {
    "duration": 5,
    "start_time": "2023-03-28T05:20:05.122Z"
   },
   {
    "duration": 1152,
    "start_time": "2023-03-28T05:20:38.563Z"
   },
   {
    "duration": 5,
    "start_time": "2023-03-28T05:20:50.805Z"
   },
   {
    "duration": 1384,
    "start_time": "2023-03-28T05:20:54.827Z"
   },
   {
    "duration": 13,
    "start_time": "2023-03-28T05:21:20.843Z"
   },
   {
    "duration": 11,
    "start_time": "2023-03-28T05:22:38.930Z"
   },
   {
    "duration": 10,
    "start_time": "2023-03-28T05:22:44.024Z"
   },
   {
    "duration": 9,
    "start_time": "2023-03-28T05:23:20.537Z"
   },
   {
    "duration": 4,
    "start_time": "2023-03-28T05:23:52.841Z"
   },
   {
    "duration": 5,
    "start_time": "2023-03-28T05:23:54.783Z"
   },
   {
    "duration": 17,
    "start_time": "2023-03-28T05:24:09.999Z"
   },
   {
    "duration": 4,
    "start_time": "2023-03-28T05:24:10.567Z"
   },
   {
    "duration": 85,
    "start_time": "2023-03-28T05:24:11.979Z"
   },
   {
    "duration": 4,
    "start_time": "2023-03-28T05:24:12.734Z"
   },
   {
    "duration": 16,
    "start_time": "2023-03-28T05:24:14.247Z"
   },
   {
    "duration": 4,
    "start_time": "2023-03-28T05:24:15.178Z"
   },
   {
    "duration": 14,
    "start_time": "2023-03-28T05:25:47.614Z"
   },
   {
    "duration": 4,
    "start_time": "2023-03-28T05:25:48.728Z"
   },
   {
    "duration": 4,
    "start_time": "2023-03-28T05:25:49.328Z"
   },
   {
    "duration": 14,
    "start_time": "2023-03-28T05:25:52.440Z"
   },
   {
    "duration": 1068,
    "start_time": "2023-03-28T05:25:53.583Z"
   },
   {
    "duration": 19,
    "start_time": "2023-03-28T05:25:57.884Z"
   },
   {
    "duration": 9,
    "start_time": "2023-03-28T05:26:01.851Z"
   },
   {
    "duration": 9,
    "start_time": "2023-03-28T05:27:16.117Z"
   },
   {
    "duration": 2147,
    "start_time": "2023-03-28T05:27:28.640Z"
   },
   {
    "duration": 81,
    "start_time": "2023-03-28T05:28:11.025Z"
   },
   {
    "duration": 2136,
    "start_time": "2023-03-28T05:28:15.667Z"
   },
   {
    "duration": 2156,
    "start_time": "2023-03-28T05:28:17.805Z"
   },
   {
    "duration": 1238,
    "start_time": "2023-03-28T05:28:19.963Z"
   },
   {
    "duration": 801,
    "start_time": "2023-03-28T05:28:21.202Z"
   },
   {
    "duration": 15,
    "start_time": "2023-03-28T05:28:22.005Z"
   },
   {
    "duration": 168,
    "start_time": "2023-03-28T05:28:22.022Z"
   },
   {
    "duration": 3,
    "start_time": "2023-03-28T05:28:22.197Z"
   },
   {
    "duration": 168,
    "start_time": "2023-03-28T05:28:22.201Z"
   },
   {
    "duration": 489,
    "start_time": "2023-03-28T05:28:22.370Z"
   },
   {
    "duration": 990,
    "start_time": "2023-03-28T05:28:22.861Z"
   },
   {
    "duration": 506,
    "start_time": "2023-03-28T05:28:23.852Z"
   },
   {
    "duration": 197,
    "start_time": "2023-03-28T05:28:24.360Z"
   },
   {
    "duration": 2,
    "start_time": "2023-03-28T05:28:24.559Z"
   },
   {
    "duration": 198,
    "start_time": "2023-03-28T05:28:24.564Z"
   },
   {
    "duration": 15,
    "start_time": "2023-03-28T05:28:24.764Z"
   },
   {
    "duration": 414,
    "start_time": "2023-03-28T05:28:24.791Z"
   },
   {
    "duration": 169,
    "start_time": "2023-03-28T05:28:25.207Z"
   },
   {
    "duration": 23,
    "start_time": "2023-03-28T05:28:25.378Z"
   },
   {
    "duration": 215,
    "start_time": "2023-03-28T05:28:25.402Z"
   },
   {
    "duration": 127,
    "start_time": "2023-03-28T05:28:25.619Z"
   },
   {
    "duration": 130,
    "start_time": "2023-03-28T05:28:25.748Z"
   },
   {
    "duration": 6,
    "start_time": "2023-03-28T05:28:25.880Z"
   },
   {
    "duration": 38,
    "start_time": "2023-03-28T05:28:25.888Z"
   },
   {
    "duration": 18,
    "start_time": "2023-03-28T05:28:25.927Z"
   },
   {
    "duration": 109,
    "start_time": "2023-03-28T05:28:25.946Z"
   },
   {
    "duration": 4,
    "start_time": "2023-03-28T05:28:26.057Z"
   },
   {
    "duration": 42,
    "start_time": "2023-03-28T05:28:26.062Z"
   },
   {
    "duration": 20,
    "start_time": "2023-03-28T05:28:26.106Z"
   },
   {
    "duration": 16,
    "start_time": "2023-03-28T05:28:26.128Z"
   },
   {
    "duration": 48,
    "start_time": "2023-03-28T05:28:26.146Z"
   },
   {
    "duration": 1042,
    "start_time": "2023-03-28T05:28:26.196Z"
   },
   {
    "duration": 120,
    "start_time": "2023-03-28T05:28:27.239Z"
   },
   {
    "duration": 0,
    "start_time": "2023-03-28T05:28:27.360Z"
   },
   {
    "duration": 0,
    "start_time": "2023-03-28T05:28:27.361Z"
   },
   {
    "duration": 0,
    "start_time": "2023-03-28T05:28:27.363Z"
   },
   {
    "duration": 0,
    "start_time": "2023-03-28T05:28:27.364Z"
   },
   {
    "duration": 0,
    "start_time": "2023-03-28T05:28:27.364Z"
   },
   {
    "duration": 0,
    "start_time": "2023-03-28T05:28:27.365Z"
   },
   {
    "duration": 0,
    "start_time": "2023-03-28T05:28:27.366Z"
   },
   {
    "duration": 0,
    "start_time": "2023-03-28T05:28:27.367Z"
   },
   {
    "duration": 0,
    "start_time": "2023-03-28T05:28:27.369Z"
   },
   {
    "duration": 5,
    "start_time": "2023-03-28T05:28:36.238Z"
   },
   {
    "duration": 9,
    "start_time": "2023-03-28T05:28:39.656Z"
   },
   {
    "duration": 2040,
    "start_time": "2023-03-28T05:29:06.100Z"
   },
   {
    "duration": 2420,
    "start_time": "2023-03-28T05:29:23.404Z"
   },
   {
    "duration": 979,
    "start_time": "2023-03-28T05:32:45.716Z"
   },
   {
    "duration": 5,
    "start_time": "2023-03-28T05:32:49.771Z"
   },
   {
    "duration": 2150,
    "start_time": "2023-03-28T05:32:55.937Z"
   },
   {
    "duration": 2158,
    "start_time": "2023-03-28T05:32:58.090Z"
   },
   {
    "duration": 1401,
    "start_time": "2023-03-28T05:33:00.250Z"
   },
   {
    "duration": 816,
    "start_time": "2023-03-28T05:33:01.652Z"
   },
   {
    "duration": 21,
    "start_time": "2023-03-28T05:33:02.470Z"
   },
   {
    "duration": 177,
    "start_time": "2023-03-28T05:33:02.493Z"
   },
   {
    "duration": 18,
    "start_time": "2023-03-28T05:33:02.672Z"
   },
   {
    "duration": 218,
    "start_time": "2023-03-28T05:33:02.692Z"
   },
   {
    "duration": 461,
    "start_time": "2023-03-28T05:33:02.912Z"
   },
   {
    "duration": 964,
    "start_time": "2023-03-28T05:33:03.374Z"
   },
   {
    "duration": 539,
    "start_time": "2023-03-28T05:33:04.340Z"
   },
   {
    "duration": 230,
    "start_time": "2023-03-28T05:33:04.882Z"
   },
   {
    "duration": 3,
    "start_time": "2023-03-28T05:33:05.114Z"
   },
   {
    "duration": 202,
    "start_time": "2023-03-28T05:33:05.122Z"
   },
   {
    "duration": 14,
    "start_time": "2023-03-28T05:33:05.326Z"
   },
   {
    "duration": 390,
    "start_time": "2023-03-28T05:33:05.342Z"
   },
   {
    "duration": 167,
    "start_time": "2023-03-28T05:33:05.734Z"
   },
   {
    "duration": 16,
    "start_time": "2023-03-28T05:33:05.903Z"
   },
   {
    "duration": 211,
    "start_time": "2023-03-28T05:33:05.921Z"
   },
   {
    "duration": 134,
    "start_time": "2023-03-28T05:33:06.134Z"
   },
   {
    "duration": 131,
    "start_time": "2023-03-28T05:33:06.270Z"
   },
   {
    "duration": 3,
    "start_time": "2023-03-28T05:33:06.402Z"
   },
   {
    "duration": 28,
    "start_time": "2023-03-28T05:33:06.407Z"
   },
   {
    "duration": 3,
    "start_time": "2023-03-28T05:33:06.437Z"
   },
   {
    "duration": 85,
    "start_time": "2023-03-28T05:33:06.442Z"
   },
   {
    "duration": 5,
    "start_time": "2023-03-28T05:33:06.529Z"
   },
   {
    "duration": 20,
    "start_time": "2023-03-28T05:33:06.535Z"
   },
   {
    "duration": 8,
    "start_time": "2023-03-28T05:33:06.556Z"
   },
   {
    "duration": 19,
    "start_time": "2023-03-28T05:33:06.565Z"
   },
   {
    "duration": 29,
    "start_time": "2023-03-28T05:33:06.586Z"
   },
   {
    "duration": 977,
    "start_time": "2023-03-28T05:33:06.616Z"
   },
   {
    "duration": 5,
    "start_time": "2023-03-28T05:33:07.595Z"
   },
   {
    "duration": 124,
    "start_time": "2023-03-28T05:33:07.601Z"
   },
   {
    "duration": 0,
    "start_time": "2023-03-28T05:33:07.727Z"
   },
   {
    "duration": 0,
    "start_time": "2023-03-28T05:33:07.729Z"
   },
   {
    "duration": 0,
    "start_time": "2023-03-28T05:33:07.731Z"
   },
   {
    "duration": 0,
    "start_time": "2023-03-28T05:33:07.732Z"
   },
   {
    "duration": 0,
    "start_time": "2023-03-28T05:33:07.734Z"
   },
   {
    "duration": 0,
    "start_time": "2023-03-28T05:33:07.736Z"
   },
   {
    "duration": 0,
    "start_time": "2023-03-28T05:33:07.737Z"
   },
   {
    "duration": 0,
    "start_time": "2023-03-28T05:33:07.739Z"
   },
   {
    "duration": 4,
    "start_time": "2023-03-28T05:33:15.300Z"
   },
   {
    "duration": 90,
    "start_time": "2023-03-28T05:33:58.719Z"
   },
   {
    "duration": 2222,
    "start_time": "2023-03-28T05:34:03.615Z"
   },
   {
    "duration": 2177,
    "start_time": "2023-03-28T05:34:05.839Z"
   },
   {
    "duration": 1250,
    "start_time": "2023-03-28T05:34:08.019Z"
   },
   {
    "duration": 881,
    "start_time": "2023-03-28T05:34:09.271Z"
   },
   {
    "duration": 18,
    "start_time": "2023-03-28T05:34:10.153Z"
   },
   {
    "duration": 181,
    "start_time": "2023-03-28T05:34:10.173Z"
   },
   {
    "duration": 3,
    "start_time": "2023-03-28T05:34:10.356Z"
   },
   {
    "duration": 172,
    "start_time": "2023-03-28T05:34:10.360Z"
   },
   {
    "duration": 456,
    "start_time": "2023-03-28T05:34:10.534Z"
   },
   {
    "duration": 1010,
    "start_time": "2023-03-28T05:34:10.992Z"
   },
   {
    "duration": 543,
    "start_time": "2023-03-28T05:34:12.004Z"
   },
   {
    "duration": 201,
    "start_time": "2023-03-28T05:34:12.550Z"
   },
   {
    "duration": 3,
    "start_time": "2023-03-28T05:34:12.753Z"
   },
   {
    "duration": 176,
    "start_time": "2023-03-28T05:34:12.758Z"
   },
   {
    "duration": 14,
    "start_time": "2023-03-28T05:34:12.936Z"
   },
   {
    "duration": 339,
    "start_time": "2023-03-28T05:34:12.952Z"
   },
   {
    "duration": 136,
    "start_time": "2023-03-28T05:34:13.292Z"
   },
   {
    "duration": 15,
    "start_time": "2023-03-28T05:34:13.430Z"
   },
   {
    "duration": 196,
    "start_time": "2023-03-28T05:34:13.446Z"
   },
   {
    "duration": 131,
    "start_time": "2023-03-28T05:34:13.644Z"
   },
   {
    "duration": 136,
    "start_time": "2023-03-28T05:34:13.777Z"
   },
   {
    "duration": 3,
    "start_time": "2023-03-28T05:34:13.915Z"
   },
   {
    "duration": 20,
    "start_time": "2023-03-28T05:34:13.919Z"
   },
   {
    "duration": 4,
    "start_time": "2023-03-28T05:34:13.940Z"
   },
   {
    "duration": 95,
    "start_time": "2023-03-28T05:34:13.945Z"
   },
   {
    "duration": 5,
    "start_time": "2023-03-28T05:34:14.042Z"
   },
   {
    "duration": 25,
    "start_time": "2023-03-28T05:34:14.048Z"
   },
   {
    "duration": 11,
    "start_time": "2023-03-28T05:34:14.076Z"
   },
   {
    "duration": 13,
    "start_time": "2023-03-28T05:34:14.088Z"
   },
   {
    "duration": 77,
    "start_time": "2023-03-28T05:34:14.102Z"
   },
   {
    "duration": 1012,
    "start_time": "2023-03-28T05:34:14.181Z"
   },
   {
    "duration": 4,
    "start_time": "2023-03-28T05:34:15.195Z"
   },
   {
    "duration": 130,
    "start_time": "2023-03-28T05:34:15.200Z"
   },
   {
    "duration": 0,
    "start_time": "2023-03-28T05:34:15.332Z"
   },
   {
    "duration": 0,
    "start_time": "2023-03-28T05:34:15.333Z"
   },
   {
    "duration": 0,
    "start_time": "2023-03-28T05:34:15.334Z"
   },
   {
    "duration": 0,
    "start_time": "2023-03-28T05:34:15.335Z"
   },
   {
    "duration": 0,
    "start_time": "2023-03-28T05:34:15.336Z"
   },
   {
    "duration": 0,
    "start_time": "2023-03-28T05:34:15.338Z"
   },
   {
    "duration": 0,
    "start_time": "2023-03-28T05:34:15.339Z"
   },
   {
    "duration": 0,
    "start_time": "2023-03-28T05:34:15.341Z"
   },
   {
    "duration": 11,
    "start_time": "2023-03-28T05:35:03.593Z"
   },
   {
    "duration": 3,
    "start_time": "2023-03-28T05:35:04.237Z"
   },
   {
    "duration": 5,
    "start_time": "2023-03-28T05:35:04.826Z"
   },
   {
    "duration": 12,
    "start_time": "2023-03-28T05:35:20.589Z"
   },
   {
    "duration": 3,
    "start_time": "2023-03-28T05:35:21.345Z"
   },
   {
    "duration": 4,
    "start_time": "2023-03-28T05:35:22.812Z"
   },
   {
    "duration": 14,
    "start_time": "2023-03-28T05:35:25.623Z"
   },
   {
    "duration": 17,
    "start_time": "2023-03-28T05:35:47.929Z"
   },
   {
    "duration": 822,
    "start_time": "2023-03-28T05:36:39.874Z"
   },
   {
    "duration": 1995,
    "start_time": "2023-03-28T05:36:46.197Z"
   },
   {
    "duration": 2059,
    "start_time": "2023-03-28T05:36:48.194Z"
   },
   {
    "duration": 1195,
    "start_time": "2023-03-28T05:36:50.255Z"
   },
   {
    "duration": 781,
    "start_time": "2023-03-28T05:36:51.452Z"
   },
   {
    "duration": 17,
    "start_time": "2023-03-28T05:36:52.235Z"
   },
   {
    "duration": 143,
    "start_time": "2023-03-28T05:36:52.253Z"
   },
   {
    "duration": 19,
    "start_time": "2023-03-28T05:36:52.398Z"
   },
   {
    "duration": 4,
    "start_time": "2023-03-28T05:36:52.419Z"
   },
   {
    "duration": 137,
    "start_time": "2023-03-28T05:36:52.424Z"
   },
   {
    "duration": 427,
    "start_time": "2023-03-28T05:36:52.563Z"
   },
   {
    "duration": 897,
    "start_time": "2023-03-28T05:36:52.992Z"
   },
   {
    "duration": 469,
    "start_time": "2023-03-28T05:36:53.891Z"
   },
   {
    "duration": 189,
    "start_time": "2023-03-28T05:36:54.362Z"
   },
   {
    "duration": 3,
    "start_time": "2023-03-28T05:36:54.554Z"
   },
   {
    "duration": 173,
    "start_time": "2023-03-28T05:36:54.558Z"
   },
   {
    "duration": 14,
    "start_time": "2023-03-28T05:36:54.732Z"
   },
   {
    "duration": 386,
    "start_time": "2023-03-28T05:36:54.747Z"
   },
   {
    "duration": 135,
    "start_time": "2023-03-28T05:36:55.135Z"
   },
   {
    "duration": 18,
    "start_time": "2023-03-28T05:36:55.272Z"
   },
   {
    "duration": 191,
    "start_time": "2023-03-28T05:36:55.292Z"
   },
   {
    "duration": 121,
    "start_time": "2023-03-28T05:36:55.485Z"
   },
   {
    "duration": 119,
    "start_time": "2023-03-28T05:36:55.608Z"
   },
   {
    "duration": 2,
    "start_time": "2023-03-28T05:36:55.729Z"
   },
   {
    "duration": 39,
    "start_time": "2023-03-28T05:36:55.733Z"
   },
   {
    "duration": 9,
    "start_time": "2023-03-28T05:36:55.774Z"
   },
   {
    "duration": 113,
    "start_time": "2023-03-28T05:36:55.785Z"
   },
   {
    "duration": 5,
    "start_time": "2023-03-28T05:36:55.899Z"
   },
   {
    "duration": 51,
    "start_time": "2023-03-28T05:36:55.905Z"
   },
   {
    "duration": 30,
    "start_time": "2023-03-28T05:36:55.958Z"
   },
   {
    "duration": 32,
    "start_time": "2023-03-28T05:36:55.989Z"
   },
   {
    "duration": 49,
    "start_time": "2023-03-28T05:36:56.023Z"
   },
   {
    "duration": 17,
    "start_time": "2023-03-28T05:36:56.074Z"
   },
   {
    "duration": 1090,
    "start_time": "2023-03-28T05:36:56.093Z"
   },
   {
    "duration": 3,
    "start_time": "2023-03-28T05:36:57.185Z"
   },
   {
    "duration": 113,
    "start_time": "2023-03-28T05:36:57.189Z"
   },
   {
    "duration": 0,
    "start_time": "2023-03-28T05:36:57.304Z"
   },
   {
    "duration": 0,
    "start_time": "2023-03-28T05:36:57.305Z"
   },
   {
    "duration": 0,
    "start_time": "2023-03-28T05:36:57.306Z"
   },
   {
    "duration": 0,
    "start_time": "2023-03-28T05:36:57.307Z"
   },
   {
    "duration": 0,
    "start_time": "2023-03-28T05:36:57.308Z"
   },
   {
    "duration": 0,
    "start_time": "2023-03-28T05:36:57.309Z"
   },
   {
    "duration": 0,
    "start_time": "2023-03-28T05:36:57.310Z"
   },
   {
    "duration": 0,
    "start_time": "2023-03-28T05:36:57.311Z"
   },
   {
    "duration": 2216,
    "start_time": "2023-03-28T05:37:51.868Z"
   },
   {
    "duration": 2285,
    "start_time": "2023-03-28T05:37:54.086Z"
   },
   {
    "duration": 1266,
    "start_time": "2023-03-28T05:37:56.373Z"
   },
   {
    "duration": 812,
    "start_time": "2023-03-28T05:37:57.642Z"
   },
   {
    "duration": 18,
    "start_time": "2023-03-28T05:37:58.455Z"
   },
   {
    "duration": 202,
    "start_time": "2023-03-28T05:37:58.475Z"
   },
   {
    "duration": 5,
    "start_time": "2023-03-28T05:37:58.679Z"
   },
   {
    "duration": 139,
    "start_time": "2023-03-28T05:37:58.686Z"
   },
   {
    "duration": 473,
    "start_time": "2023-03-28T05:37:58.827Z"
   },
   {
    "duration": 1033,
    "start_time": "2023-03-28T05:37:59.303Z"
   },
   {
    "duration": 533,
    "start_time": "2023-03-28T05:38:00.338Z"
   },
   {
    "duration": 193,
    "start_time": "2023-03-28T05:38:00.873Z"
   },
   {
    "duration": 2,
    "start_time": "2023-03-28T05:38:01.068Z"
   },
   {
    "duration": 254,
    "start_time": "2023-03-28T05:38:01.072Z"
   },
   {
    "duration": 15,
    "start_time": "2023-03-28T05:38:01.328Z"
   },
   {
    "duration": 371,
    "start_time": "2023-03-28T05:38:01.346Z"
   },
   {
    "duration": 151,
    "start_time": "2023-03-28T05:38:01.718Z"
   },
   {
    "duration": 19,
    "start_time": "2023-03-28T05:38:01.871Z"
   },
   {
    "duration": 221,
    "start_time": "2023-03-28T05:38:01.891Z"
   },
   {
    "duration": 127,
    "start_time": "2023-03-28T05:38:02.114Z"
   },
   {
    "duration": 133,
    "start_time": "2023-03-28T05:38:02.244Z"
   },
   {
    "duration": 5,
    "start_time": "2023-03-28T05:38:02.379Z"
   },
   {
    "duration": 50,
    "start_time": "2023-03-28T05:38:02.386Z"
   },
   {
    "duration": 12,
    "start_time": "2023-03-28T05:38:02.438Z"
   },
   {
    "duration": 98,
    "start_time": "2023-03-28T05:38:02.451Z"
   },
   {
    "duration": 5,
    "start_time": "2023-03-28T05:38:02.551Z"
   },
   {
    "duration": 33,
    "start_time": "2023-03-28T05:38:02.558Z"
   },
   {
    "duration": 29,
    "start_time": "2023-03-28T05:38:02.595Z"
   },
   {
    "duration": 26,
    "start_time": "2023-03-28T05:38:02.625Z"
   },
   {
    "duration": 54,
    "start_time": "2023-03-28T05:38:02.652Z"
   },
   {
    "duration": 19,
    "start_time": "2023-03-28T05:38:02.708Z"
   },
   {
    "duration": 184,
    "start_time": "2023-03-28T05:38:02.729Z"
   },
   {
    "duration": 0,
    "start_time": "2023-03-28T05:38:02.914Z"
   },
   {
    "duration": 0,
    "start_time": "2023-03-28T05:38:02.915Z"
   },
   {
    "duration": 0,
    "start_time": "2023-03-28T05:38:02.917Z"
   },
   {
    "duration": 0,
    "start_time": "2023-03-28T05:38:02.918Z"
   },
   {
    "duration": 0,
    "start_time": "2023-03-28T05:38:02.919Z"
   },
   {
    "duration": 0,
    "start_time": "2023-03-28T05:38:02.920Z"
   },
   {
    "duration": 0,
    "start_time": "2023-03-28T05:38:02.921Z"
   },
   {
    "duration": 0,
    "start_time": "2023-03-28T05:38:02.923Z"
   },
   {
    "duration": 0,
    "start_time": "2023-03-28T05:38:02.924Z"
   },
   {
    "duration": 0,
    "start_time": "2023-03-28T05:38:02.925Z"
   },
   {
    "duration": 2005,
    "start_time": "2023-03-28T05:39:42.234Z"
   },
   {
    "duration": 2074,
    "start_time": "2023-03-28T05:39:44.242Z"
   },
   {
    "duration": 1167,
    "start_time": "2023-03-28T05:39:46.318Z"
   },
   {
    "duration": 802,
    "start_time": "2023-03-28T05:39:47.488Z"
   },
   {
    "duration": 16,
    "start_time": "2023-03-28T05:39:48.292Z"
   },
   {
    "duration": 146,
    "start_time": "2023-03-28T05:39:48.309Z"
   },
   {
    "duration": 3,
    "start_time": "2023-03-28T05:39:48.457Z"
   },
   {
    "duration": 149,
    "start_time": "2023-03-28T05:39:48.462Z"
   },
   {
    "duration": 409,
    "start_time": "2023-03-28T05:39:48.613Z"
   },
   {
    "duration": 857,
    "start_time": "2023-03-28T05:39:49.026Z"
   },
   {
    "duration": 435,
    "start_time": "2023-03-28T05:39:49.884Z"
   },
   {
    "duration": 173,
    "start_time": "2023-03-28T05:39:50.321Z"
   },
   {
    "duration": 2,
    "start_time": "2023-03-28T05:39:50.496Z"
   },
   {
    "duration": 170,
    "start_time": "2023-03-28T05:39:50.500Z"
   },
   {
    "duration": 14,
    "start_time": "2023-03-28T05:39:50.672Z"
   },
   {
    "duration": 323,
    "start_time": "2023-03-28T05:39:50.688Z"
   },
   {
    "duration": 137,
    "start_time": "2023-03-28T05:39:51.012Z"
   },
   {
    "duration": 14,
    "start_time": "2023-03-28T05:39:51.151Z"
   },
   {
    "duration": 229,
    "start_time": "2023-03-28T05:39:51.167Z"
   },
   {
    "duration": 125,
    "start_time": "2023-03-28T05:39:51.398Z"
   },
   {
    "duration": 131,
    "start_time": "2023-03-28T05:39:51.525Z"
   },
   {
    "duration": 2,
    "start_time": "2023-03-28T05:39:51.658Z"
   },
   {
    "duration": 58,
    "start_time": "2023-03-28T05:39:51.662Z"
   },
   {
    "duration": 12,
    "start_time": "2023-03-28T05:39:51.722Z"
   },
   {
    "duration": 81,
    "start_time": "2023-03-28T05:39:51.735Z"
   },
   {
    "duration": 4,
    "start_time": "2023-03-28T05:39:51.818Z"
   },
   {
    "duration": 32,
    "start_time": "2023-03-28T05:39:51.824Z"
   },
   {
    "duration": 27,
    "start_time": "2023-03-28T05:39:51.860Z"
   },
   {
    "duration": 25,
    "start_time": "2023-03-28T05:39:51.888Z"
   },
   {
    "duration": 43,
    "start_time": "2023-03-28T05:39:51.915Z"
   },
   {
    "duration": 17,
    "start_time": "2023-03-28T05:39:51.959Z"
   },
   {
    "duration": 1254,
    "start_time": "2023-03-28T05:39:51.978Z"
   },
   {
    "duration": 0,
    "start_time": "2023-03-28T05:39:53.234Z"
   },
   {
    "duration": 0,
    "start_time": "2023-03-28T05:39:53.235Z"
   },
   {
    "duration": 0,
    "start_time": "2023-03-28T05:39:53.236Z"
   },
   {
    "duration": 0,
    "start_time": "2023-03-28T05:39:53.237Z"
   },
   {
    "duration": 0,
    "start_time": "2023-03-28T05:39:53.239Z"
   },
   {
    "duration": 0,
    "start_time": "2023-03-28T05:39:53.240Z"
   },
   {
    "duration": 0,
    "start_time": "2023-03-28T05:39:53.241Z"
   },
   {
    "duration": 0,
    "start_time": "2023-03-28T05:39:53.242Z"
   },
   {
    "duration": 0,
    "start_time": "2023-03-28T05:39:53.243Z"
   },
   {
    "duration": 0,
    "start_time": "2023-03-28T05:39:53.244Z"
   },
   {
    "duration": 2005,
    "start_time": "2023-03-30T03:27:46.747Z"
   },
   {
    "duration": 5829,
    "start_time": "2023-03-30T03:27:48.754Z"
   },
   {
    "duration": 1279,
    "start_time": "2023-03-30T03:27:54.585Z"
   },
   {
    "duration": 914,
    "start_time": "2023-03-30T03:27:55.868Z"
   },
   {
    "duration": 15,
    "start_time": "2023-03-30T03:27:56.784Z"
   },
   {
    "duration": 100,
    "start_time": "2023-03-30T03:27:56.801Z"
   },
   {
    "duration": 4,
    "start_time": "2023-03-30T03:27:56.902Z"
   },
   {
    "duration": 105,
    "start_time": "2023-03-30T03:27:56.907Z"
   },
   {
    "duration": 394,
    "start_time": "2023-03-30T03:27:57.014Z"
   },
   {
    "duration": 813,
    "start_time": "2023-03-30T03:27:57.410Z"
   },
   {
    "duration": 427,
    "start_time": "2023-03-30T03:27:58.224Z"
   },
   {
    "duration": 152,
    "start_time": "2023-03-30T03:27:58.652Z"
   },
   {
    "duration": 2,
    "start_time": "2023-03-30T03:27:58.806Z"
   },
   {
    "duration": 151,
    "start_time": "2023-03-30T03:27:58.809Z"
   },
   {
    "duration": 17,
    "start_time": "2023-03-30T03:27:58.961Z"
   },
   {
    "duration": 326,
    "start_time": "2023-03-30T03:27:58.979Z"
   },
   {
    "duration": 139,
    "start_time": "2023-03-30T03:27:59.307Z"
   },
   {
    "duration": 21,
    "start_time": "2023-03-30T03:27:59.447Z"
   },
   {
    "duration": 174,
    "start_time": "2023-03-30T03:27:59.470Z"
   },
   {
    "duration": 137,
    "start_time": "2023-03-30T03:27:59.646Z"
   },
   {
    "duration": 120,
    "start_time": "2023-03-30T03:27:59.784Z"
   },
   {
    "duration": 2,
    "start_time": "2023-03-30T03:27:59.906Z"
   },
   {
    "duration": 26,
    "start_time": "2023-03-30T03:27:59.909Z"
   },
   {
    "duration": 3,
    "start_time": "2023-03-30T03:27:59.937Z"
   },
   {
    "duration": 81,
    "start_time": "2023-03-30T03:27:59.941Z"
   },
   {
    "duration": 71,
    "start_time": "2023-03-30T03:28:00.023Z"
   },
   {
    "duration": 36,
    "start_time": "2023-03-30T03:28:00.095Z"
   },
   {
    "duration": 25,
    "start_time": "2023-03-30T03:28:00.133Z"
   },
   {
    "duration": 25,
    "start_time": "2023-03-30T03:28:00.159Z"
   },
   {
    "duration": 38,
    "start_time": "2023-03-30T03:28:00.185Z"
   },
   {
    "duration": 15,
    "start_time": "2023-03-30T03:28:00.225Z"
   },
   {
    "duration": 2013,
    "start_time": "2023-03-30T03:30:41.449Z"
   },
   {
    "duration": 1836,
    "start_time": "2023-03-30T03:30:43.463Z"
   },
   {
    "duration": 1449,
    "start_time": "2023-03-30T03:30:45.301Z"
   },
   {
    "duration": 991,
    "start_time": "2023-03-30T03:30:46.752Z"
   },
   {
    "duration": 16,
    "start_time": "2023-03-30T03:30:47.745Z"
   },
   {
    "duration": 120,
    "start_time": "2023-03-30T03:30:47.763Z"
   },
   {
    "duration": 3,
    "start_time": "2023-03-30T03:30:47.884Z"
   },
   {
    "duration": 117,
    "start_time": "2023-03-30T03:30:47.888Z"
   },
   {
    "duration": 417,
    "start_time": "2023-03-30T03:30:48.006Z"
   },
   {
    "duration": 871,
    "start_time": "2023-03-30T03:30:48.426Z"
   },
   {
    "duration": 490,
    "start_time": "2023-03-30T03:30:49.298Z"
   },
   {
    "duration": 171,
    "start_time": "2023-03-30T03:30:49.791Z"
   },
   {
    "duration": 2,
    "start_time": "2023-03-30T03:30:49.964Z"
   },
   {
    "duration": 167,
    "start_time": "2023-03-30T03:30:49.970Z"
   },
   {
    "duration": 14,
    "start_time": "2023-03-30T03:30:50.139Z"
   },
   {
    "duration": 351,
    "start_time": "2023-03-30T03:30:50.155Z"
   },
   {
    "duration": 145,
    "start_time": "2023-03-30T03:30:50.507Z"
   },
   {
    "duration": 20,
    "start_time": "2023-03-30T03:30:50.654Z"
   },
   {
    "duration": 201,
    "start_time": "2023-03-30T03:30:50.675Z"
   },
   {
    "duration": 124,
    "start_time": "2023-03-30T03:30:50.878Z"
   },
   {
    "duration": 136,
    "start_time": "2023-03-30T03:30:51.004Z"
   },
   {
    "duration": 16,
    "start_time": "2023-03-30T03:30:51.142Z"
   },
   {
    "duration": 9,
    "start_time": "2023-03-30T03:30:51.160Z"
   },
   {
    "duration": 24,
    "start_time": "2023-03-30T03:30:51.170Z"
   },
   {
    "duration": 17,
    "start_time": "2023-03-30T03:30:51.195Z"
   },
   {
    "duration": 64,
    "start_time": "2023-03-30T03:30:51.213Z"
   },
   {
    "duration": 4,
    "start_time": "2023-03-30T03:30:51.278Z"
   },
   {
    "duration": 12,
    "start_time": "2023-03-30T03:30:51.285Z"
   },
   {
    "duration": 3,
    "start_time": "2023-03-30T03:30:51.299Z"
   },
   {
    "duration": 7,
    "start_time": "2023-03-30T03:30:51.303Z"
   },
   {
    "duration": 15,
    "start_time": "2023-03-30T03:30:51.312Z"
   },
   {
    "duration": 41,
    "start_time": "2023-03-30T03:30:51.329Z"
   },
   {
    "duration": 2,
    "start_time": "2023-03-30T03:30:51.371Z"
   },
   {
    "duration": 131,
    "start_time": "2023-03-30T03:30:51.375Z"
   },
   {
    "duration": 0,
    "start_time": "2023-03-30T03:30:51.508Z"
   },
   {
    "duration": 0,
    "start_time": "2023-03-30T03:30:51.510Z"
   },
   {
    "duration": 0,
    "start_time": "2023-03-30T03:30:51.511Z"
   },
   {
    "duration": 0,
    "start_time": "2023-03-30T03:30:51.512Z"
   },
   {
    "duration": 0,
    "start_time": "2023-03-30T03:30:51.513Z"
   },
   {
    "duration": 0,
    "start_time": "2023-03-30T03:30:51.514Z"
   },
   {
    "duration": 0,
    "start_time": "2023-03-30T03:30:51.516Z"
   },
   {
    "duration": 0,
    "start_time": "2023-03-30T03:30:51.517Z"
   },
   {
    "duration": 0,
    "start_time": "2023-03-30T03:30:51.518Z"
   },
   {
    "duration": 2640,
    "start_time": "2023-03-31T04:21:19.336Z"
   },
   {
    "duration": 7232,
    "start_time": "2023-03-31T04:21:21.978Z"
   },
   {
    "duration": 1536,
    "start_time": "2023-03-31T04:21:29.211Z"
   },
   {
    "duration": 3182,
    "start_time": "2023-03-31T04:21:30.749Z"
   },
   {
    "duration": 24,
    "start_time": "2023-03-31T04:21:33.934Z"
   },
   {
    "duration": 175,
    "start_time": "2023-03-31T04:21:33.960Z"
   },
   {
    "duration": 9,
    "start_time": "2023-03-31T04:21:34.140Z"
   },
   {
    "duration": 159,
    "start_time": "2023-03-31T04:21:34.150Z"
   },
   {
    "duration": 519,
    "start_time": "2023-03-31T04:21:34.311Z"
   },
   {
    "duration": 984,
    "start_time": "2023-03-31T04:21:34.834Z"
   },
   {
    "duration": 674,
    "start_time": "2023-03-31T04:21:35.819Z"
   },
   {
    "duration": 222,
    "start_time": "2023-03-31T04:21:36.494Z"
   },
   {
    "duration": 187,
    "start_time": "2023-03-31T04:21:36.718Z"
   },
   {
    "duration": 3,
    "start_time": "2023-03-31T04:21:36.909Z"
   },
   {
    "duration": 200,
    "start_time": "2023-03-31T04:21:36.913Z"
   },
   {
    "duration": 33,
    "start_time": "2023-03-31T04:21:37.115Z"
   },
   {
    "duration": 422,
    "start_time": "2023-03-31T04:21:37.149Z"
   },
   {
    "duration": 150,
    "start_time": "2023-03-31T04:21:37.573Z"
   },
   {
    "duration": 27,
    "start_time": "2023-03-31T04:21:37.725Z"
   },
   {
    "duration": 213,
    "start_time": "2023-03-31T04:21:37.753Z"
   },
   {
    "duration": 130,
    "start_time": "2023-03-31T04:21:37.967Z"
   },
   {
    "duration": 120,
    "start_time": "2023-03-31T04:21:38.099Z"
   },
   {
    "duration": 22,
    "start_time": "2023-03-31T04:21:38.221Z"
   },
   {
    "duration": 11,
    "start_time": "2023-03-31T04:21:38.245Z"
   },
   {
    "duration": 25,
    "start_time": "2023-03-31T04:21:38.257Z"
   },
   {
    "duration": 3,
    "start_time": "2023-03-31T04:21:38.284Z"
   },
   {
    "duration": 77,
    "start_time": "2023-03-31T04:21:38.289Z"
   },
   {
    "duration": 4,
    "start_time": "2023-03-31T04:21:38.368Z"
   },
   {
    "duration": 135,
    "start_time": "2023-03-31T04:21:38.374Z"
   },
   {
    "duration": 0,
    "start_time": "2023-03-31T04:21:38.511Z"
   },
   {
    "duration": 0,
    "start_time": "2023-03-31T04:21:38.512Z"
   },
   {
    "duration": 0,
    "start_time": "2023-03-31T04:21:38.513Z"
   },
   {
    "duration": 0,
    "start_time": "2023-03-31T04:21:38.515Z"
   },
   {
    "duration": 0,
    "start_time": "2023-03-31T04:21:38.516Z"
   },
   {
    "duration": 0,
    "start_time": "2023-03-31T04:21:38.518Z"
   },
   {
    "duration": 0,
    "start_time": "2023-03-31T04:21:38.535Z"
   },
   {
    "duration": 0,
    "start_time": "2023-03-31T04:21:38.536Z"
   },
   {
    "duration": 0,
    "start_time": "2023-03-31T04:21:38.537Z"
   },
   {
    "duration": 0,
    "start_time": "2023-03-31T04:21:38.542Z"
   },
   {
    "duration": 0,
    "start_time": "2023-03-31T04:21:38.544Z"
   },
   {
    "duration": 0,
    "start_time": "2023-03-31T04:21:38.545Z"
   },
   {
    "duration": 0,
    "start_time": "2023-03-31T04:21:38.551Z"
   },
   {
    "duration": 0,
    "start_time": "2023-03-31T04:21:38.552Z"
   },
   {
    "duration": 0,
    "start_time": "2023-03-31T04:21:38.553Z"
   },
   {
    "duration": 13,
    "start_time": "2023-03-31T04:22:04.691Z"
   },
   {
    "duration": 5,
    "start_time": "2023-03-31T04:22:05.949Z"
   },
   {
    "duration": 4,
    "start_time": "2023-03-31T04:22:06.722Z"
   },
   {
    "duration": 13,
    "start_time": "2023-03-31T04:22:19.965Z"
   },
   {
    "duration": 17,
    "start_time": "2023-03-31T04:22:20.784Z"
   },
   {
    "duration": 51,
    "start_time": "2023-03-31T04:22:48.431Z"
   },
   {
    "duration": 2219,
    "start_time": "2023-03-31T04:22:55.325Z"
   },
   {
    "duration": 2136,
    "start_time": "2023-03-31T04:22:57.548Z"
   },
   {
    "duration": 2038,
    "start_time": "2023-03-31T04:22:59.686Z"
   },
   {
    "duration": 3103,
    "start_time": "2023-03-31T04:23:01.726Z"
   },
   {
    "duration": 27,
    "start_time": "2023-03-31T04:23:04.831Z"
   },
   {
    "duration": 150,
    "start_time": "2023-03-31T04:23:04.860Z"
   },
   {
    "duration": 3,
    "start_time": "2023-03-31T04:23:05.012Z"
   },
   {
    "duration": 169,
    "start_time": "2023-03-31T04:23:05.016Z"
   },
   {
    "duration": 503,
    "start_time": "2023-03-31T04:23:05.187Z"
   },
   {
    "duration": 1013,
    "start_time": "2023-03-31T04:23:05.692Z"
   },
   {
    "duration": 512,
    "start_time": "2023-03-31T04:23:06.706Z"
   },
   {
    "duration": 158,
    "start_time": "2023-03-31T04:23:07.220Z"
   },
   {
    "duration": 181,
    "start_time": "2023-03-31T04:23:07.379Z"
   },
   {
    "duration": 3,
    "start_time": "2023-03-31T04:23:07.562Z"
   },
   {
    "duration": 219,
    "start_time": "2023-03-31T04:23:07.566Z"
   },
   {
    "duration": 16,
    "start_time": "2023-03-31T04:23:07.786Z"
   },
   {
    "duration": 384,
    "start_time": "2023-03-31T04:23:07.803Z"
   },
   {
    "duration": 147,
    "start_time": "2023-03-31T04:23:08.188Z"
   },
   {
    "duration": 22,
    "start_time": "2023-03-31T04:23:08.337Z"
   },
   {
    "duration": 212,
    "start_time": "2023-03-31T04:23:08.360Z"
   },
   {
    "duration": 144,
    "start_time": "2023-03-31T04:23:08.574Z"
   },
   {
    "duration": 139,
    "start_time": "2023-03-31T04:23:08.719Z"
   },
   {
    "duration": 15,
    "start_time": "2023-03-31T04:23:08.860Z"
   },
   {
    "duration": 3,
    "start_time": "2023-03-31T04:23:08.876Z"
   },
   {
    "duration": 20,
    "start_time": "2023-03-31T04:23:08.880Z"
   },
   {
    "duration": 4,
    "start_time": "2023-03-31T04:23:08.901Z"
   },
   {
    "duration": 81,
    "start_time": "2023-03-31T04:23:08.907Z"
   },
   {
    "duration": 4,
    "start_time": "2023-03-31T04:23:08.989Z"
   },
   {
    "duration": 16,
    "start_time": "2023-03-31T04:23:08.995Z"
   },
   {
    "duration": 4,
    "start_time": "2023-03-31T04:23:09.012Z"
   },
   {
    "duration": 8,
    "start_time": "2023-03-31T04:23:09.034Z"
   },
   {
    "duration": 20,
    "start_time": "2023-03-31T04:23:09.047Z"
   },
   {
    "duration": 17,
    "start_time": "2023-03-31T04:23:09.069Z"
   },
   {
    "duration": 1277,
    "start_time": "2023-03-31T04:23:09.088Z"
   },
   {
    "duration": 0,
    "start_time": "2023-03-31T04:23:10.366Z"
   },
   {
    "duration": 0,
    "start_time": "2023-03-31T04:23:10.367Z"
   },
   {
    "duration": 0,
    "start_time": "2023-03-31T04:23:10.368Z"
   },
   {
    "duration": 0,
    "start_time": "2023-03-31T04:23:10.369Z"
   },
   {
    "duration": 0,
    "start_time": "2023-03-31T04:23:10.370Z"
   },
   {
    "duration": 0,
    "start_time": "2023-03-31T04:23:10.371Z"
   },
   {
    "duration": 0,
    "start_time": "2023-03-31T04:23:10.372Z"
   },
   {
    "duration": 0,
    "start_time": "2023-03-31T04:23:10.373Z"
   },
   {
    "duration": 0,
    "start_time": "2023-03-31T04:23:10.374Z"
   },
   {
    "duration": 0,
    "start_time": "2023-03-31T04:23:10.376Z"
   },
   {
    "duration": 46,
    "start_time": "2023-03-31T04:24:12.670Z"
   },
   {
    "duration": 2163,
    "start_time": "2023-03-31T04:24:18.332Z"
   },
   {
    "duration": 2103,
    "start_time": "2023-03-31T04:24:20.498Z"
   },
   {
    "duration": 1534,
    "start_time": "2023-03-31T04:24:22.603Z"
   },
   {
    "duration": 3210,
    "start_time": "2023-03-31T04:24:24.141Z"
   },
   {
    "duration": 17,
    "start_time": "2023-03-31T04:24:27.353Z"
   },
   {
    "duration": 143,
    "start_time": "2023-03-31T04:24:27.371Z"
   },
   {
    "duration": 3,
    "start_time": "2023-03-31T04:24:27.516Z"
   },
   {
    "duration": 156,
    "start_time": "2023-03-31T04:24:27.521Z"
   },
   {
    "duration": 463,
    "start_time": "2023-03-31T04:24:27.679Z"
   },
   {
    "duration": 963,
    "start_time": "2023-03-31T04:24:28.149Z"
   },
   {
    "duration": 501,
    "start_time": "2023-03-31T04:24:29.113Z"
   },
   {
    "duration": 148,
    "start_time": "2023-03-31T04:24:29.615Z"
   },
   {
    "duration": 162,
    "start_time": "2023-03-31T04:24:29.765Z"
   },
   {
    "duration": 2,
    "start_time": "2023-03-31T04:24:29.928Z"
   },
   {
    "duration": 177,
    "start_time": "2023-03-31T04:24:29.934Z"
   },
   {
    "duration": 24,
    "start_time": "2023-03-31T04:24:30.113Z"
   },
   {
    "duration": 353,
    "start_time": "2023-03-31T04:24:30.140Z"
   },
   {
    "duration": 154,
    "start_time": "2023-03-31T04:24:30.495Z"
   },
   {
    "duration": 16,
    "start_time": "2023-03-31T04:24:30.651Z"
   },
   {
    "duration": 223,
    "start_time": "2023-03-31T04:24:30.669Z"
   },
   {
    "duration": 138,
    "start_time": "2023-03-31T04:24:30.893Z"
   },
   {
    "duration": 122,
    "start_time": "2023-03-31T04:24:31.036Z"
   },
   {
    "duration": 14,
    "start_time": "2023-03-31T04:24:31.160Z"
   },
   {
    "duration": 13,
    "start_time": "2023-03-31T04:24:31.176Z"
   },
   {
    "duration": 61,
    "start_time": "2023-03-31T04:24:31.191Z"
   },
   {
    "duration": 21,
    "start_time": "2023-03-31T04:24:31.254Z"
   },
   {
    "duration": 92,
    "start_time": "2023-03-31T04:24:31.276Z"
   },
   {
    "duration": 4,
    "start_time": "2023-03-31T04:24:31.371Z"
   },
   {
    "duration": 38,
    "start_time": "2023-03-31T04:24:31.376Z"
   },
   {
    "duration": 36,
    "start_time": "2023-03-31T04:24:31.416Z"
   },
   {
    "duration": 30,
    "start_time": "2023-03-31T04:24:31.453Z"
   },
   {
    "duration": 30,
    "start_time": "2023-03-31T04:24:31.485Z"
   },
   {
    "duration": 669,
    "start_time": "2023-03-31T04:24:31.517Z"
   },
   {
    "duration": 0,
    "start_time": "2023-03-31T04:24:32.188Z"
   },
   {
    "duration": 0,
    "start_time": "2023-03-31T04:24:32.189Z"
   },
   {
    "duration": 0,
    "start_time": "2023-03-31T04:24:32.191Z"
   },
   {
    "duration": 0,
    "start_time": "2023-03-31T04:24:32.192Z"
   },
   {
    "duration": 0,
    "start_time": "2023-03-31T04:24:32.194Z"
   },
   {
    "duration": 0,
    "start_time": "2023-03-31T04:24:32.195Z"
   },
   {
    "duration": 0,
    "start_time": "2023-03-31T04:24:32.196Z"
   },
   {
    "duration": 0,
    "start_time": "2023-03-31T04:24:32.198Z"
   },
   {
    "duration": 0,
    "start_time": "2023-03-31T04:24:32.199Z"
   },
   {
    "duration": 0,
    "start_time": "2023-03-31T04:24:32.201Z"
   },
   {
    "duration": 842,
    "start_time": "2023-03-31T04:24:50.183Z"
   },
   {
    "duration": 10,
    "start_time": "2023-03-31T04:24:53.642Z"
   },
   {
    "duration": 354,
    "start_time": "2023-03-31T04:30:45.357Z"
   },
   {
    "duration": 466,
    "start_time": "2023-03-31T04:30:52.954Z"
   },
   {
    "duration": 8,
    "start_time": "2023-03-31T04:31:05.548Z"
   },
   {
    "duration": 15,
    "start_time": "2023-03-31T04:31:47.676Z"
   },
   {
    "duration": 12,
    "start_time": "2023-03-31T04:32:09.000Z"
   },
   {
    "duration": 12,
    "start_time": "2023-03-31T04:32:30.506Z"
   },
   {
    "duration": 2217,
    "start_time": "2023-03-31T04:32:50.014Z"
   },
   {
    "duration": 2284,
    "start_time": "2023-03-31T04:32:52.233Z"
   },
   {
    "duration": 1348,
    "start_time": "2023-03-31T04:32:54.519Z"
   },
   {
    "duration": 855,
    "start_time": "2023-03-31T04:32:55.869Z"
   },
   {
    "duration": 28,
    "start_time": "2023-03-31T04:32:56.726Z"
   },
   {
    "duration": 301,
    "start_time": "2023-03-31T04:32:56.756Z"
   },
   {
    "duration": 3,
    "start_time": "2023-03-31T04:32:57.058Z"
   },
   {
    "duration": 145,
    "start_time": "2023-03-31T04:32:57.063Z"
   },
   {
    "duration": 477,
    "start_time": "2023-03-31T04:32:57.210Z"
   },
   {
    "duration": 939,
    "start_time": "2023-03-31T04:32:57.688Z"
   },
   {
    "duration": 497,
    "start_time": "2023-03-31T04:32:58.628Z"
   },
   {
    "duration": 135,
    "start_time": "2023-03-31T04:32:59.126Z"
   },
   {
    "duration": 188,
    "start_time": "2023-03-31T04:32:59.263Z"
   },
   {
    "duration": 3,
    "start_time": "2023-03-31T04:32:59.455Z"
   },
   {
    "duration": 166,
    "start_time": "2023-03-31T04:32:59.459Z"
   },
   {
    "duration": 24,
    "start_time": "2023-03-31T04:32:59.627Z"
   },
   {
    "duration": 349,
    "start_time": "2023-03-31T04:32:59.653Z"
   },
   {
    "duration": 147,
    "start_time": "2023-03-31T04:33:00.004Z"
   },
   {
    "duration": 15,
    "start_time": "2023-03-31T04:33:00.153Z"
   },
   {
    "duration": 244,
    "start_time": "2023-03-31T04:33:00.170Z"
   },
   {
    "duration": 139,
    "start_time": "2023-03-31T04:33:00.416Z"
   },
   {
    "duration": 125,
    "start_time": "2023-03-31T04:33:00.556Z"
   },
   {
    "duration": 15,
    "start_time": "2023-03-31T04:33:00.683Z"
   },
   {
    "duration": 32,
    "start_time": "2023-03-31T04:33:00.700Z"
   },
   {
    "duration": 56,
    "start_time": "2023-03-31T04:33:00.733Z"
   },
   {
    "duration": 20,
    "start_time": "2023-03-31T04:33:00.791Z"
   },
   {
    "duration": 83,
    "start_time": "2023-03-31T04:33:00.813Z"
   },
   {
    "duration": 3,
    "start_time": "2023-03-31T04:33:00.898Z"
   },
   {
    "duration": 40,
    "start_time": "2023-03-31T04:33:00.902Z"
   },
   {
    "duration": 24,
    "start_time": "2023-03-31T04:33:00.948Z"
   },
   {
    "duration": 20,
    "start_time": "2023-03-31T04:33:00.974Z"
   },
   {
    "duration": 41,
    "start_time": "2023-03-31T04:33:00.995Z"
   },
   {
    "duration": 466,
    "start_time": "2023-03-31T04:33:01.037Z"
   },
   {
    "duration": 3,
    "start_time": "2023-03-31T04:33:01.505Z"
   },
   {
    "duration": 158,
    "start_time": "2023-03-31T04:33:01.510Z"
   },
   {
    "duration": 0,
    "start_time": "2023-03-31T04:33:01.669Z"
   },
   {
    "duration": 0,
    "start_time": "2023-03-31T04:33:01.670Z"
   },
   {
    "duration": 0,
    "start_time": "2023-03-31T04:33:01.671Z"
   },
   {
    "duration": 0,
    "start_time": "2023-03-31T04:33:01.672Z"
   },
   {
    "duration": 0,
    "start_time": "2023-03-31T04:33:01.673Z"
   },
   {
    "duration": 0,
    "start_time": "2023-03-31T04:33:01.674Z"
   },
   {
    "duration": 0,
    "start_time": "2023-03-31T04:33:01.675Z"
   },
   {
    "duration": 0,
    "start_time": "2023-03-31T04:33:01.676Z"
   },
   {
    "duration": 450,
    "start_time": "2023-03-31T04:34:03.174Z"
   },
   {
    "duration": 5,
    "start_time": "2023-03-31T04:34:04.395Z"
   },
   {
    "duration": 22,
    "start_time": "2023-03-31T04:34:13.720Z"
   },
   {
    "duration": 14,
    "start_time": "2023-03-31T04:34:57.752Z"
   },
   {
    "duration": 11,
    "start_time": "2023-03-31T04:35:12.714Z"
   },
   {
    "duration": 165,
    "start_time": "2023-03-31T04:36:07.484Z"
   },
   {
    "duration": 2299,
    "start_time": "2023-03-31T04:36:33.264Z"
   },
   {
    "duration": 2147,
    "start_time": "2023-03-31T04:36:35.565Z"
   },
   {
    "duration": 1232,
    "start_time": "2023-03-31T04:36:37.714Z"
   },
   {
    "duration": 791,
    "start_time": "2023-03-31T04:36:38.949Z"
   },
   {
    "duration": 16,
    "start_time": "2023-03-31T04:36:39.743Z"
   },
   {
    "duration": 141,
    "start_time": "2023-03-31T04:36:39.760Z"
   },
   {
    "duration": 3,
    "start_time": "2023-03-31T04:36:39.902Z"
   },
   {
    "duration": 145,
    "start_time": "2023-03-31T04:36:39.906Z"
   },
   {
    "duration": 437,
    "start_time": "2023-03-31T04:36:40.053Z"
   },
   {
    "duration": 930,
    "start_time": "2023-03-31T04:36:40.493Z"
   },
   {
    "duration": 482,
    "start_time": "2023-03-31T04:36:41.424Z"
   },
   {
    "duration": 138,
    "start_time": "2023-03-31T04:36:41.908Z"
   },
   {
    "duration": 162,
    "start_time": "2023-03-31T04:36:42.048Z"
   },
   {
    "duration": 3,
    "start_time": "2023-03-31T04:36:42.211Z"
   },
   {
    "duration": 178,
    "start_time": "2023-03-31T04:36:42.215Z"
   },
   {
    "duration": 15,
    "start_time": "2023-03-31T04:36:42.395Z"
   },
   {
    "duration": 347,
    "start_time": "2023-03-31T04:36:42.412Z"
   },
   {
    "duration": 148,
    "start_time": "2023-03-31T04:36:42.761Z"
   },
   {
    "duration": 25,
    "start_time": "2023-03-31T04:36:42.911Z"
   },
   {
    "duration": 211,
    "start_time": "2023-03-31T04:36:42.938Z"
   },
   {
    "duration": 130,
    "start_time": "2023-03-31T04:36:43.152Z"
   },
   {
    "duration": 122,
    "start_time": "2023-03-31T04:36:43.284Z"
   },
   {
    "duration": 15,
    "start_time": "2023-03-31T04:36:43.408Z"
   },
   {
    "duration": 11,
    "start_time": "2023-03-31T04:36:43.424Z"
   },
   {
    "duration": 30,
    "start_time": "2023-03-31T04:36:43.438Z"
   },
   {
    "duration": 4,
    "start_time": "2023-03-31T04:36:43.469Z"
   },
   {
    "duration": 55,
    "start_time": "2023-03-31T04:36:43.474Z"
   },
   {
    "duration": 4,
    "start_time": "2023-03-31T04:36:43.532Z"
   },
   {
    "duration": 19,
    "start_time": "2023-03-31T04:36:43.537Z"
   },
   {
    "duration": 4,
    "start_time": "2023-03-31T04:36:43.557Z"
   },
   {
    "duration": 10,
    "start_time": "2023-03-31T04:36:43.562Z"
   },
   {
    "duration": 15,
    "start_time": "2023-03-31T04:36:43.573Z"
   },
   {
    "duration": 494,
    "start_time": "2023-03-31T04:36:43.589Z"
   },
   {
    "duration": 3,
    "start_time": "2023-03-31T04:36:44.085Z"
   },
   {
    "duration": 121,
    "start_time": "2023-03-31T04:36:44.089Z"
   },
   {
    "duration": 0,
    "start_time": "2023-03-31T04:36:44.211Z"
   },
   {
    "duration": 0,
    "start_time": "2023-03-31T04:36:44.213Z"
   },
   {
    "duration": 0,
    "start_time": "2023-03-31T04:36:44.214Z"
   },
   {
    "duration": 0,
    "start_time": "2023-03-31T04:36:44.215Z"
   },
   {
    "duration": 0,
    "start_time": "2023-03-31T04:36:44.216Z"
   },
   {
    "duration": 0,
    "start_time": "2023-03-31T04:36:44.217Z"
   },
   {
    "duration": 0,
    "start_time": "2023-03-31T04:36:44.218Z"
   },
   {
    "duration": 0,
    "start_time": "2023-03-31T04:36:44.219Z"
   },
   {
    "duration": 12,
    "start_time": "2023-03-31T04:37:16.100Z"
   },
   {
    "duration": 11,
    "start_time": "2023-03-31T04:37:23.779Z"
   },
   {
    "duration": 156,
    "start_time": "2023-03-31T04:37:27.274Z"
   },
   {
    "duration": 12,
    "start_time": "2023-03-31T04:37:44.115Z"
   },
   {
    "duration": 2212,
    "start_time": "2023-03-31T04:39:30.333Z"
   },
   {
    "duration": 2172,
    "start_time": "2023-03-31T04:39:32.547Z"
   },
   {
    "duration": 1349,
    "start_time": "2023-03-31T04:39:34.722Z"
   },
   {
    "duration": 1019,
    "start_time": "2023-03-31T04:39:36.073Z"
   },
   {
    "duration": 16,
    "start_time": "2023-03-31T04:39:37.094Z"
   },
   {
    "duration": 160,
    "start_time": "2023-03-31T04:39:37.112Z"
   },
   {
    "duration": 3,
    "start_time": "2023-03-31T04:39:37.273Z"
   },
   {
    "duration": 181,
    "start_time": "2023-03-31T04:39:37.278Z"
   },
   {
    "duration": 516,
    "start_time": "2023-03-31T04:39:37.461Z"
   },
   {
    "duration": 973,
    "start_time": "2023-03-31T04:39:37.980Z"
   },
   {
    "duration": 488,
    "start_time": "2023-03-31T04:39:38.955Z"
   },
   {
    "duration": 126,
    "start_time": "2023-03-31T04:39:39.448Z"
   },
   {
    "duration": 183,
    "start_time": "2023-03-31T04:39:39.576Z"
   },
   {
    "duration": 3,
    "start_time": "2023-03-31T04:39:39.762Z"
   },
   {
    "duration": 199,
    "start_time": "2023-03-31T04:39:39.767Z"
   },
   {
    "duration": 15,
    "start_time": "2023-03-31T04:39:39.968Z"
   },
   {
    "duration": 395,
    "start_time": "2023-03-31T04:39:39.984Z"
   },
   {
    "duration": 167,
    "start_time": "2023-03-31T04:39:40.380Z"
   },
   {
    "duration": 15,
    "start_time": "2023-03-31T04:39:40.549Z"
   },
   {
    "duration": 210,
    "start_time": "2023-03-31T04:39:40.566Z"
   },
   {
    "duration": 135,
    "start_time": "2023-03-31T04:39:40.778Z"
   },
   {
    "duration": 147,
    "start_time": "2023-03-31T04:39:40.914Z"
   },
   {
    "duration": 15,
    "start_time": "2023-03-31T04:39:41.063Z"
   },
   {
    "duration": 3,
    "start_time": "2023-03-31T04:39:41.079Z"
   },
   {
    "duration": 19,
    "start_time": "2023-03-31T04:39:41.083Z"
   },
   {
    "duration": 4,
    "start_time": "2023-03-31T04:39:41.103Z"
   },
   {
    "duration": 81,
    "start_time": "2023-03-31T04:39:41.108Z"
   },
   {
    "duration": 4,
    "start_time": "2023-03-31T04:39:41.192Z"
   },
   {
    "duration": 60,
    "start_time": "2023-03-31T04:39:41.197Z"
   },
   {
    "duration": 10,
    "start_time": "2023-03-31T04:39:41.259Z"
   },
   {
    "duration": 15,
    "start_time": "2023-03-31T04:39:41.270Z"
   },
   {
    "duration": 15,
    "start_time": "2023-03-31T04:39:41.287Z"
   },
   {
    "duration": 196,
    "start_time": "2023-03-31T04:39:41.303Z"
   },
   {
    "duration": 45,
    "start_time": "2023-03-31T04:40:39.458Z"
   },
   {
    "duration": 2311,
    "start_time": "2023-03-31T04:40:43.905Z"
   },
   {
    "duration": 2132,
    "start_time": "2023-03-31T04:40:46.219Z"
   },
   {
    "duration": 1606,
    "start_time": "2023-03-31T04:40:48.353Z"
   },
   {
    "duration": 3163,
    "start_time": "2023-03-31T04:40:49.960Z"
   },
   {
    "duration": 26,
    "start_time": "2023-03-31T04:40:53.125Z"
   },
   {
    "duration": 150,
    "start_time": "2023-03-31T04:40:53.153Z"
   },
   {
    "duration": 3,
    "start_time": "2023-03-31T04:40:53.304Z"
   },
   {
    "duration": 156,
    "start_time": "2023-03-31T04:40:53.309Z"
   },
   {
    "duration": 447,
    "start_time": "2023-03-31T04:40:53.466Z"
   },
   {
    "duration": 1044,
    "start_time": "2023-03-31T04:40:53.915Z"
   },
   {
    "duration": 521,
    "start_time": "2023-03-31T04:40:54.961Z"
   },
   {
    "duration": 147,
    "start_time": "2023-03-31T04:40:55.483Z"
   },
   {
    "duration": 176,
    "start_time": "2023-03-31T04:40:55.631Z"
   },
   {
    "duration": 2,
    "start_time": "2023-03-31T04:40:55.811Z"
   },
   {
    "duration": 182,
    "start_time": "2023-03-31T04:40:55.815Z"
   },
   {
    "duration": 13,
    "start_time": "2023-03-31T04:40:55.999Z"
   },
   {
    "duration": 350,
    "start_time": "2023-03-31T04:40:56.014Z"
   },
   {
    "duration": 143,
    "start_time": "2023-03-31T04:40:56.365Z"
   },
   {
    "duration": 14,
    "start_time": "2023-03-31T04:40:56.510Z"
   },
   {
    "duration": 193,
    "start_time": "2023-03-31T04:40:56.525Z"
   },
   {
    "duration": 139,
    "start_time": "2023-03-31T04:40:56.720Z"
   },
   {
    "duration": 120,
    "start_time": "2023-03-31T04:40:56.861Z"
   },
   {
    "duration": 14,
    "start_time": "2023-03-31T04:40:56.983Z"
   },
   {
    "duration": 2,
    "start_time": "2023-03-31T04:40:56.998Z"
   },
   {
    "duration": 25,
    "start_time": "2023-03-31T04:40:57.002Z"
   },
   {
    "duration": 24,
    "start_time": "2023-03-31T04:40:57.028Z"
   },
   {
    "duration": 62,
    "start_time": "2023-03-31T04:40:57.054Z"
   },
   {
    "duration": 4,
    "start_time": "2023-03-31T04:40:57.118Z"
   },
   {
    "duration": 29,
    "start_time": "2023-03-31T04:40:57.123Z"
   },
   {
    "duration": 16,
    "start_time": "2023-03-31T04:40:57.154Z"
   },
   {
    "duration": 12,
    "start_time": "2023-03-31T04:40:57.171Z"
   },
   {
    "duration": 23,
    "start_time": "2023-03-31T04:40:57.184Z"
   },
   {
    "duration": 192,
    "start_time": "2023-03-31T04:40:57.208Z"
   },
   {
    "duration": 384,
    "start_time": "2023-03-31T04:40:57.401Z"
   },
   {
    "duration": 114,
    "start_time": "2023-03-31T04:40:57.787Z"
   },
   {
    "duration": 0,
    "start_time": "2023-03-31T04:40:57.902Z"
   },
   {
    "duration": 0,
    "start_time": "2023-03-31T04:40:57.904Z"
   },
   {
    "duration": 0,
    "start_time": "2023-03-31T04:40:57.905Z"
   },
   {
    "duration": 0,
    "start_time": "2023-03-31T04:40:57.906Z"
   },
   {
    "duration": 0,
    "start_time": "2023-03-31T04:40:57.907Z"
   },
   {
    "duration": 0,
    "start_time": "2023-03-31T04:40:57.909Z"
   },
   {
    "duration": 0,
    "start_time": "2023-03-31T04:40:57.910Z"
   },
   {
    "duration": 0,
    "start_time": "2023-03-31T04:40:57.911Z"
   },
   {
    "duration": 0,
    "start_time": "2023-03-31T04:40:57.912Z"
   },
   {
    "duration": 467,
    "start_time": "2023-03-31T04:41:17.423Z"
   },
   {
    "duration": 3,
    "start_time": "2023-03-31T04:41:18.687Z"
   },
   {
    "duration": 4,
    "start_time": "2023-03-31T04:41:43.452Z"
   },
   {
    "duration": 10,
    "start_time": "2023-03-31T04:41:48.652Z"
   },
   {
    "duration": 12,
    "start_time": "2023-03-31T04:44:11.015Z"
   },
   {
    "duration": 30967,
    "start_time": "2023-03-31T04:44:41.983Z"
   },
   {
    "duration": 3,
    "start_time": "2023-03-31T04:45:18.151Z"
   },
   {
    "duration": 34215,
    "start_time": "2023-03-31T04:45:20.123Z"
   },
   {
    "duration": 2326,
    "start_time": "2023-03-31T04:46:09.338Z"
   },
   {
    "duration": 2353,
    "start_time": "2023-03-31T04:46:11.666Z"
   },
   {
    "duration": 1319,
    "start_time": "2023-03-31T04:46:14.021Z"
   },
   {
    "duration": 824,
    "start_time": "2023-03-31T04:46:15.345Z"
   },
   {
    "duration": 16,
    "start_time": "2023-03-31T04:46:16.171Z"
   },
   {
    "duration": 152,
    "start_time": "2023-03-31T04:46:16.189Z"
   },
   {
    "duration": 8,
    "start_time": "2023-03-31T04:46:16.343Z"
   },
   {
    "duration": 144,
    "start_time": "2023-03-31T04:46:16.352Z"
   },
   {
    "duration": 474,
    "start_time": "2023-03-31T04:46:16.498Z"
   },
   {
    "duration": 961,
    "start_time": "2023-03-31T04:46:16.974Z"
   },
   {
    "duration": 495,
    "start_time": "2023-03-31T04:46:17.937Z"
   },
   {
    "duration": 136,
    "start_time": "2023-03-31T04:46:18.435Z"
   },
   {
    "duration": 176,
    "start_time": "2023-03-31T04:46:18.573Z"
   },
   {
    "duration": 2,
    "start_time": "2023-03-31T04:46:18.752Z"
   },
   {
    "duration": 175,
    "start_time": "2023-03-31T04:46:18.755Z"
   },
   {
    "duration": 23,
    "start_time": "2023-03-31T04:46:18.932Z"
   },
   {
    "duration": 360,
    "start_time": "2023-03-31T04:46:18.956Z"
   },
   {
    "duration": 147,
    "start_time": "2023-03-31T04:46:19.318Z"
   },
   {
    "duration": 14,
    "start_time": "2023-03-31T04:46:19.466Z"
   },
   {
    "duration": 199,
    "start_time": "2023-03-31T04:46:19.482Z"
   },
   {
    "duration": 129,
    "start_time": "2023-03-31T04:46:19.683Z"
   },
   {
    "duration": 123,
    "start_time": "2023-03-31T04:46:19.814Z"
   },
   {
    "duration": 20,
    "start_time": "2023-03-31T04:46:19.939Z"
   },
   {
    "duration": 11,
    "start_time": "2023-03-31T04:46:19.960Z"
   },
   {
    "duration": 22,
    "start_time": "2023-03-31T04:46:19.972Z"
   },
   {
    "duration": 4,
    "start_time": "2023-03-31T04:46:19.995Z"
   },
   {
    "duration": 78,
    "start_time": "2023-03-31T04:46:20.001Z"
   },
   {
    "duration": 4,
    "start_time": "2023-03-31T04:46:20.082Z"
   },
   {
    "duration": 17,
    "start_time": "2023-03-31T04:46:20.087Z"
   },
   {
    "duration": 4,
    "start_time": "2023-03-31T04:46:20.105Z"
   },
   {
    "duration": 13,
    "start_time": "2023-03-31T04:46:20.111Z"
   },
   {
    "duration": 28,
    "start_time": "2023-03-31T04:46:20.125Z"
   },
   {
    "duration": 191,
    "start_time": "2023-03-31T04:46:20.155Z"
   },
   {
    "duration": 450,
    "start_time": "2023-03-31T04:46:20.350Z"
   },
   {
    "duration": 4,
    "start_time": "2023-03-31T04:46:20.801Z"
   },
   {
    "duration": 15,
    "start_time": "2023-03-31T04:46:20.806Z"
   },
   {
    "duration": 31313,
    "start_time": "2023-03-31T04:46:20.823Z"
   },
   {
    "duration": 5421,
    "start_time": "2023-03-31T04:46:52.139Z"
   },
   {
    "duration": 2,
    "start_time": "2023-03-31T04:46:57.562Z"
   },
   {
    "duration": 7,
    "start_time": "2023-03-31T04:46:57.566Z"
   },
   {
    "duration": 8,
    "start_time": "2023-03-31T04:46:57.575Z"
   },
   {
    "duration": 8083,
    "start_time": "2023-03-31T04:46:57.584Z"
   },
   {
    "duration": 118,
    "start_time": "2023-03-31T04:47:05.669Z"
   },
   {
    "duration": 5329,
    "start_time": "2023-03-31T04:48:22.857Z"
   },
   {
    "duration": 93,
    "start_time": "2023-03-31T04:49:28.192Z"
   },
   {
    "duration": 4,
    "start_time": "2023-03-31T04:54:59.514Z"
   },
   {
    "duration": 2274,
    "start_time": "2023-03-31T05:00:19.574Z"
   },
   {
    "duration": 2363,
    "start_time": "2023-03-31T05:00:21.851Z"
   },
   {
    "duration": 1381,
    "start_time": "2023-03-31T05:00:24.216Z"
   },
   {
    "duration": 861,
    "start_time": "2023-03-31T05:00:25.599Z"
   },
   {
    "duration": 15,
    "start_time": "2023-03-31T05:00:26.462Z"
   },
   {
    "duration": 138,
    "start_time": "2023-03-31T05:00:26.479Z"
   },
   {
    "duration": 3,
    "start_time": "2023-03-31T05:00:26.618Z"
   },
   {
    "duration": 236,
    "start_time": "2023-03-31T05:00:26.623Z"
   },
   {
    "duration": 526,
    "start_time": "2023-03-31T05:00:26.861Z"
   },
   {
    "duration": 1073,
    "start_time": "2023-03-31T05:00:27.390Z"
   },
   {
    "duration": 511,
    "start_time": "2023-03-31T05:00:28.465Z"
   },
   {
    "duration": 145,
    "start_time": "2023-03-31T05:00:28.977Z"
   },
   {
    "duration": 185,
    "start_time": "2023-03-31T05:00:29.124Z"
   },
   {
    "duration": 4,
    "start_time": "2023-03-31T05:00:29.310Z"
   },
   {
    "duration": 189,
    "start_time": "2023-03-31T05:00:29.315Z"
   },
   {
    "duration": 31,
    "start_time": "2023-03-31T05:00:29.505Z"
   },
   {
    "duration": 366,
    "start_time": "2023-03-31T05:00:29.539Z"
   },
   {
    "duration": 156,
    "start_time": "2023-03-31T05:00:29.906Z"
   },
   {
    "duration": 23,
    "start_time": "2023-03-31T05:00:30.064Z"
   },
   {
    "duration": 228,
    "start_time": "2023-03-31T05:00:30.089Z"
   },
   {
    "duration": 148,
    "start_time": "2023-03-31T05:00:30.319Z"
   },
   {
    "duration": 131,
    "start_time": "2023-03-31T05:00:30.469Z"
   },
   {
    "duration": 15,
    "start_time": "2023-03-31T05:00:30.602Z"
   },
   {
    "duration": 37,
    "start_time": "2023-03-31T05:00:30.618Z"
   },
   {
    "duration": 30,
    "start_time": "2023-03-31T05:00:30.657Z"
   },
   {
    "duration": 23,
    "start_time": "2023-03-31T05:00:30.689Z"
   },
   {
    "duration": 86,
    "start_time": "2023-03-31T05:00:30.713Z"
   },
   {
    "duration": 4,
    "start_time": "2023-03-31T05:00:30.802Z"
   },
   {
    "duration": 50,
    "start_time": "2023-03-31T05:00:30.808Z"
   },
   {
    "duration": 17,
    "start_time": "2023-03-31T05:00:30.860Z"
   },
   {
    "duration": 48,
    "start_time": "2023-03-31T05:00:30.879Z"
   },
   {
    "duration": 60,
    "start_time": "2023-03-31T05:00:30.929Z"
   },
   {
    "duration": 219,
    "start_time": "2023-03-31T05:00:30.991Z"
   },
   {
    "duration": 486,
    "start_time": "2023-03-31T05:00:31.212Z"
   },
   {
    "duration": 5,
    "start_time": "2023-03-31T05:00:31.700Z"
   },
   {
    "duration": 15,
    "start_time": "2023-03-31T05:00:31.707Z"
   },
   {
    "duration": 27324,
    "start_time": "2023-03-31T05:00:31.724Z"
   },
   {
    "duration": 6,
    "start_time": "2023-03-31T05:00:59.052Z"
   },
   {
    "duration": 31,
    "start_time": "2023-03-31T05:00:59.141Z"
   },
   {
    "duration": 61,
    "start_time": "2023-03-31T05:00:59.174Z"
   },
   {
    "duration": 4,
    "start_time": "2023-03-31T05:00:59.237Z"
   },
   {
    "duration": 16,
    "start_time": "2023-03-31T05:00:59.244Z"
   },
   {
    "duration": 5808,
    "start_time": "2023-03-31T05:00:59.262Z"
   },
   {
    "duration": 3,
    "start_time": "2023-03-31T05:01:05.071Z"
   },
   {
    "duration": 17,
    "start_time": "2023-03-31T05:01:05.076Z"
   },
   {
    "duration": 493071,
    "start_time": "2023-03-31T05:01:05.095Z"
   },
   {
    "duration": 8508,
    "start_time": "2023-03-31T05:09:18.168Z"
   },
   {
    "duration": 94,
    "start_time": "2023-03-31T05:09:26.677Z"
   },
   {
    "duration": 30959,
    "start_time": "2023-03-31T05:15:02.781Z"
   },
   {
    "duration": 15,
    "start_time": "2023-03-31T05:17:00.643Z"
   },
   {
    "duration": 148,
    "start_time": "2023-03-31T05:19:18.301Z"
   },
   {
    "duration": 2353,
    "start_time": "2023-03-31T05:19:39.355Z"
   },
   {
    "duration": 2349,
    "start_time": "2023-03-31T05:19:41.710Z"
   },
   {
    "duration": 1327,
    "start_time": "2023-03-31T05:19:44.062Z"
   },
   {
    "duration": 939,
    "start_time": "2023-03-31T05:19:45.392Z"
   },
   {
    "duration": 28,
    "start_time": "2023-03-31T05:19:46.336Z"
   },
   {
    "duration": 149,
    "start_time": "2023-03-31T05:19:46.367Z"
   },
   {
    "duration": 3,
    "start_time": "2023-03-31T05:19:46.517Z"
   },
   {
    "duration": 183,
    "start_time": "2023-03-31T05:19:46.522Z"
   },
   {
    "duration": 503,
    "start_time": "2023-03-31T05:19:46.707Z"
   },
   {
    "duration": 1070,
    "start_time": "2023-03-31T05:19:47.211Z"
   },
   {
    "duration": 519,
    "start_time": "2023-03-31T05:19:48.283Z"
   },
   {
    "duration": 160,
    "start_time": "2023-03-31T05:19:48.803Z"
   },
   {
    "duration": 185,
    "start_time": "2023-03-31T05:19:48.965Z"
   },
   {
    "duration": 3,
    "start_time": "2023-03-31T05:19:49.154Z"
   },
   {
    "duration": 229,
    "start_time": "2023-03-31T05:19:49.163Z"
   },
   {
    "duration": 15,
    "start_time": "2023-03-31T05:19:49.393Z"
   },
   {
    "duration": 408,
    "start_time": "2023-03-31T05:19:49.410Z"
   },
   {
    "duration": 179,
    "start_time": "2023-03-31T05:19:49.820Z"
   },
   {
    "duration": 15,
    "start_time": "2023-03-31T05:19:50.001Z"
   },
   {
    "duration": 245,
    "start_time": "2023-03-31T05:19:50.018Z"
   },
   {
    "duration": 144,
    "start_time": "2023-03-31T05:19:50.265Z"
   },
   {
    "duration": 143,
    "start_time": "2023-03-31T05:19:50.411Z"
   },
   {
    "duration": 17,
    "start_time": "2023-03-31T05:19:50.555Z"
   },
   {
    "duration": 17,
    "start_time": "2023-03-31T05:19:50.574Z"
   },
   {
    "duration": 22,
    "start_time": "2023-03-31T05:19:50.593Z"
   },
   {
    "duration": 4,
    "start_time": "2023-03-31T05:19:50.616Z"
   },
   {
    "duration": 77,
    "start_time": "2023-03-31T05:19:50.622Z"
   },
   {
    "duration": 4,
    "start_time": "2023-03-31T05:19:50.700Z"
   },
   {
    "duration": 15,
    "start_time": "2023-03-31T05:19:50.706Z"
   },
   {
    "duration": 42,
    "start_time": "2023-03-31T05:19:50.722Z"
   },
   {
    "duration": 10,
    "start_time": "2023-03-31T05:19:50.766Z"
   },
   {
    "duration": 18,
    "start_time": "2023-03-31T05:19:50.777Z"
   },
   {
    "duration": 208,
    "start_time": "2023-03-31T05:19:50.797Z"
   },
   {
    "duration": 503,
    "start_time": "2023-03-31T05:19:51.007Z"
   },
   {
    "duration": 4,
    "start_time": "2023-03-31T05:19:51.512Z"
   },
   {
    "duration": 5,
    "start_time": "2023-03-31T05:19:51.518Z"
   },
   {
    "duration": 29858,
    "start_time": "2023-03-31T05:19:51.524Z"
   },
   {
    "duration": 61,
    "start_time": "2023-03-31T05:20:21.384Z"
   },
   {
    "duration": 85,
    "start_time": "2023-03-31T05:20:21.451Z"
   },
   {
    "duration": 49,
    "start_time": "2023-03-31T05:20:21.538Z"
   },
   {
    "duration": 29,
    "start_time": "2023-03-31T05:20:21.591Z"
   },
   {
    "duration": 48,
    "start_time": "2023-03-31T05:20:21.622Z"
   },
   {
    "duration": 15,
    "start_time": "2023-03-31T05:20:21.675Z"
   },
   {
    "duration": 6090,
    "start_time": "2023-03-31T05:20:21.692Z"
   },
   {
    "duration": 3,
    "start_time": "2023-03-31T05:20:27.785Z"
   },
   {
    "duration": 6,
    "start_time": "2023-03-31T05:20:27.790Z"
   },
   {
    "duration": 5,
    "start_time": "2023-03-31T05:20:27.797Z"
   },
   {
    "duration": 8908,
    "start_time": "2023-03-31T05:20:27.803Z"
   },
   {
    "duration": 170,
    "start_time": "2023-03-31T05:20:36.713Z"
   },
   {
    "duration": 98,
    "start_time": "2023-03-31T05:20:36.884Z"
   },
   {
    "duration": 2092,
    "start_time": "2023-04-01T00:01:14.092Z"
   },
   {
    "duration": 8450,
    "start_time": "2023-04-01T00:01:16.186Z"
   },
   {
    "duration": 1427,
    "start_time": "2023-04-01T00:01:24.638Z"
   },
   {
    "duration": 2970,
    "start_time": "2023-04-01T00:01:26.067Z"
   },
   {
    "duration": 15,
    "start_time": "2023-04-01T00:01:29.039Z"
   },
   {
    "duration": 100,
    "start_time": "2023-04-01T00:01:29.056Z"
   },
   {
    "duration": 3,
    "start_time": "2023-04-01T00:01:29.158Z"
   },
   {
    "duration": 104,
    "start_time": "2023-04-01T00:01:29.162Z"
   },
   {
    "duration": 365,
    "start_time": "2023-04-01T00:01:29.267Z"
   },
   {
    "duration": 796,
    "start_time": "2023-04-01T00:01:29.634Z"
   },
   {
    "duration": 412,
    "start_time": "2023-04-01T00:01:30.431Z"
   },
   {
    "duration": 115,
    "start_time": "2023-04-01T00:01:30.844Z"
   },
   {
    "duration": 139,
    "start_time": "2023-04-01T00:01:30.960Z"
   },
   {
    "duration": 2,
    "start_time": "2023-04-01T00:01:31.100Z"
   },
   {
    "duration": 163,
    "start_time": "2023-04-01T00:01:31.103Z"
   },
   {
    "duration": 12,
    "start_time": "2023-04-01T00:01:31.267Z"
   },
   {
    "duration": 333,
    "start_time": "2023-04-01T00:01:31.280Z"
   },
   {
    "duration": 123,
    "start_time": "2023-04-01T00:01:31.614Z"
   },
   {
    "duration": 18,
    "start_time": "2023-04-01T00:01:31.739Z"
   },
   {
    "duration": 174,
    "start_time": "2023-04-01T00:01:31.759Z"
   },
   {
    "duration": 107,
    "start_time": "2023-04-01T00:01:31.934Z"
   },
   {
    "duration": 107,
    "start_time": "2023-04-01T00:01:32.048Z"
   },
   {
    "duration": 14,
    "start_time": "2023-04-01T00:01:32.157Z"
   },
   {
    "duration": 17,
    "start_time": "2023-04-01T00:01:32.172Z"
   },
   {
    "duration": 25,
    "start_time": "2023-04-01T00:01:32.190Z"
   },
   {
    "duration": 38,
    "start_time": "2023-04-01T00:01:32.217Z"
   },
   {
    "duration": 56,
    "start_time": "2023-04-01T00:01:32.256Z"
   },
   {
    "duration": 3,
    "start_time": "2023-04-01T00:01:32.315Z"
   },
   {
    "duration": 12,
    "start_time": "2023-04-01T00:01:32.319Z"
   },
   {
    "duration": 2,
    "start_time": "2023-04-01T00:01:32.333Z"
   },
   {
    "duration": 15,
    "start_time": "2023-04-01T00:01:32.336Z"
   },
   {
    "duration": 34,
    "start_time": "2023-04-01T00:01:32.352Z"
   },
   {
    "duration": 203,
    "start_time": "2023-04-01T00:01:32.388Z"
   },
   {
    "duration": 378,
    "start_time": "2023-04-01T00:01:32.592Z"
   },
   {
    "duration": 3,
    "start_time": "2023-04-01T00:01:32.971Z"
   },
   {
    "duration": 25,
    "start_time": "2023-04-01T00:01:32.976Z"
   },
   {
    "duration": 25348,
    "start_time": "2023-04-01T00:01:33.002Z"
   },
   {
    "duration": 6,
    "start_time": "2023-04-01T00:01:58.352Z"
   },
   {
    "duration": 8,
    "start_time": "2023-04-01T00:01:58.449Z"
   },
   {
    "duration": 5,
    "start_time": "2023-04-01T00:01:58.459Z"
   },
   {
    "duration": 8,
    "start_time": "2023-04-01T00:01:58.466Z"
   },
   {
    "duration": 5,
    "start_time": "2023-04-01T00:01:58.475Z"
   },
   {
    "duration": 4,
    "start_time": "2023-04-01T00:01:58.481Z"
   },
   {
    "duration": 5207,
    "start_time": "2023-04-01T00:01:58.487Z"
   },
   {
    "duration": 2,
    "start_time": "2023-04-01T00:02:03.695Z"
   },
   {
    "duration": 12,
    "start_time": "2023-04-01T00:02:03.699Z"
   },
   {
    "duration": 6,
    "start_time": "2023-04-01T00:02:03.713Z"
   },
   {
    "duration": 7200,
    "start_time": "2023-04-01T00:02:03.720Z"
   },
   {
    "duration": 121,
    "start_time": "2023-04-01T00:02:10.921Z"
   },
   {
    "duration": 79,
    "start_time": "2023-04-01T00:02:11.044Z"
   },
   {
    "duration": 2429,
    "start_time": "2023-04-01T16:44:29.782Z"
   },
   {
    "duration": 8409,
    "start_time": "2023-04-01T16:44:32.213Z"
   },
   {
    "duration": 1481,
    "start_time": "2023-04-01T16:44:40.624Z"
   },
   {
    "duration": 1163,
    "start_time": "2023-04-01T16:44:42.108Z"
   },
   {
    "duration": 22,
    "start_time": "2023-04-01T16:44:43.273Z"
   },
   {
    "duration": 142,
    "start_time": "2023-04-01T16:44:43.297Z"
   },
   {
    "duration": 3,
    "start_time": "2023-04-01T16:44:43.441Z"
   },
   {
    "duration": 123,
    "start_time": "2023-04-01T16:44:43.445Z"
   },
   {
    "duration": 487,
    "start_time": "2023-04-01T16:44:43.571Z"
   },
   {
    "duration": 1090,
    "start_time": "2023-04-01T16:44:44.060Z"
   },
   {
    "duration": 579,
    "start_time": "2023-04-01T16:44:45.152Z"
   },
   {
    "duration": 154,
    "start_time": "2023-04-01T16:44:45.733Z"
   },
   {
    "duration": 160,
    "start_time": "2023-04-01T16:44:45.889Z"
   },
   {
    "duration": 4,
    "start_time": "2023-04-01T16:44:46.051Z"
   },
   {
    "duration": 205,
    "start_time": "2023-04-01T16:44:46.056Z"
   },
   {
    "duration": 20,
    "start_time": "2023-04-01T16:44:46.263Z"
   },
   {
    "duration": 441,
    "start_time": "2023-04-01T16:44:46.286Z"
   },
   {
    "duration": 175,
    "start_time": "2023-04-01T16:44:46.729Z"
   },
   {
    "duration": 18,
    "start_time": "2023-04-01T16:44:46.906Z"
   },
   {
    "duration": 248,
    "start_time": "2023-04-01T16:44:46.925Z"
   },
   {
    "duration": 156,
    "start_time": "2023-04-01T16:44:47.176Z"
   },
   {
    "duration": 140,
    "start_time": "2023-04-01T16:44:47.334Z"
   },
   {
    "duration": 18,
    "start_time": "2023-04-01T16:44:47.477Z"
   },
   {
    "duration": 3,
    "start_time": "2023-04-01T16:44:47.497Z"
   },
   {
    "duration": 28,
    "start_time": "2023-04-01T16:44:47.502Z"
   },
   {
    "duration": 7,
    "start_time": "2023-04-01T16:44:47.532Z"
   },
   {
    "duration": 93,
    "start_time": "2023-04-01T16:44:47.541Z"
   },
   {
    "duration": 4,
    "start_time": "2023-04-01T16:44:47.637Z"
   },
   {
    "duration": 13,
    "start_time": "2023-04-01T16:44:47.643Z"
   },
   {
    "duration": 6,
    "start_time": "2023-04-01T16:44:47.668Z"
   },
   {
    "duration": 9,
    "start_time": "2023-04-01T16:44:47.676Z"
   },
   {
    "duration": 16,
    "start_time": "2023-04-01T16:44:47.688Z"
   },
   {
    "duration": 226,
    "start_time": "2023-04-01T16:44:47.706Z"
   },
   {
    "duration": 442,
    "start_time": "2023-04-01T16:44:47.934Z"
   },
   {
    "duration": 8,
    "start_time": "2023-04-01T16:44:48.381Z"
   },
   {
    "duration": 3,
    "start_time": "2023-04-01T16:44:48.391Z"
   },
   {
    "duration": 29475,
    "start_time": "2023-04-01T16:44:48.396Z"
   },
   {
    "duration": 90,
    "start_time": "2023-04-01T16:45:17.880Z"
   },
   {
    "duration": 7,
    "start_time": "2023-04-01T16:45:17.972Z"
   },
   {
    "duration": 15,
    "start_time": "2023-04-01T16:45:17.981Z"
   },
   {
    "duration": 14,
    "start_time": "2023-04-01T16:45:17.999Z"
   },
   {
    "duration": 17,
    "start_time": "2023-04-01T16:45:18.015Z"
   },
   {
    "duration": 17,
    "start_time": "2023-04-01T16:45:18.035Z"
   },
   {
    "duration": 5633,
    "start_time": "2023-04-01T16:45:18.054Z"
   },
   {
    "duration": 3,
    "start_time": "2023-04-01T16:45:23.689Z"
   },
   {
    "duration": 4,
    "start_time": "2023-04-01T16:45:23.694Z"
   },
   {
    "duration": 10,
    "start_time": "2023-04-01T16:45:23.699Z"
   },
   {
    "duration": 8225,
    "start_time": "2023-04-01T16:45:23.711Z"
   },
   {
    "duration": 149,
    "start_time": "2023-04-01T16:45:31.938Z"
   },
   {
    "duration": 87,
    "start_time": "2023-04-01T16:45:32.090Z"
   },
   {
    "duration": 2220,
    "start_time": "2023-04-01T16:48:16.809Z"
   },
   {
    "duration": 2098,
    "start_time": "2023-04-01T16:48:19.032Z"
   },
   {
    "duration": 1409,
    "start_time": "2023-04-01T16:48:21.131Z"
   },
   {
    "duration": 864,
    "start_time": "2023-04-01T16:48:22.542Z"
   },
   {
    "duration": 16,
    "start_time": "2023-04-01T16:48:23.408Z"
   },
   {
    "duration": 131,
    "start_time": "2023-04-01T16:48:23.425Z"
   },
   {
    "duration": 3,
    "start_time": "2023-04-01T16:48:23.558Z"
   },
   {
    "duration": 136,
    "start_time": "2023-04-01T16:48:23.569Z"
   },
   {
    "duration": 482,
    "start_time": "2023-04-01T16:48:23.707Z"
   },
   {
    "duration": 1056,
    "start_time": "2023-04-01T16:48:24.193Z"
   },
   {
    "duration": 597,
    "start_time": "2023-04-01T16:48:25.250Z"
   },
   {
    "duration": 167,
    "start_time": "2023-04-01T16:48:25.849Z"
   },
   {
    "duration": 185,
    "start_time": "2023-04-01T16:48:26.018Z"
   },
   {
    "duration": 3,
    "start_time": "2023-04-01T16:48:26.206Z"
   },
   {
    "duration": 208,
    "start_time": "2023-04-01T16:48:26.210Z"
   },
   {
    "duration": 16,
    "start_time": "2023-04-01T16:48:26.420Z"
   },
   {
    "duration": 438,
    "start_time": "2023-04-01T16:48:26.437Z"
   },
   {
    "duration": 161,
    "start_time": "2023-04-01T16:48:26.876Z"
   },
   {
    "duration": 20,
    "start_time": "2023-04-01T16:48:27.039Z"
   },
   {
    "duration": 229,
    "start_time": "2023-04-01T16:48:27.062Z"
   },
   {
    "duration": 149,
    "start_time": "2023-04-01T16:48:27.294Z"
   },
   {
    "duration": 138,
    "start_time": "2023-04-01T16:48:27.445Z"
   },
   {
    "duration": 17,
    "start_time": "2023-04-01T16:48:27.585Z"
   },
   {
    "duration": 2,
    "start_time": "2023-04-01T16:48:27.604Z"
   },
   {
    "duration": 16,
    "start_time": "2023-04-01T16:48:27.608Z"
   },
   {
    "duration": 4,
    "start_time": "2023-04-01T16:48:27.626Z"
   },
   {
    "duration": 92,
    "start_time": "2023-04-01T16:48:27.631Z"
   },
   {
    "duration": 4,
    "start_time": "2023-04-01T16:48:27.725Z"
   },
   {
    "duration": 12,
    "start_time": "2023-04-01T16:48:27.731Z"
   },
   {
    "duration": 3,
    "start_time": "2023-04-01T16:48:27.745Z"
   },
   {
    "duration": 11,
    "start_time": "2023-04-01T16:48:27.769Z"
   },
   {
    "duration": 20,
    "start_time": "2023-04-01T16:48:27.782Z"
   },
   {
    "duration": 204,
    "start_time": "2023-04-01T16:48:27.804Z"
   },
   {
    "duration": 402,
    "start_time": "2023-04-01T16:48:28.009Z"
   },
   {
    "duration": 4,
    "start_time": "2023-04-01T16:48:28.412Z"
   },
   {
    "duration": 9,
    "start_time": "2023-04-01T16:48:28.417Z"
   },
   {
    "duration": 34154,
    "start_time": "2023-04-01T16:48:28.427Z"
   },
   {
    "duration": 185,
    "start_time": "2023-04-01T16:49:02.584Z"
   },
   {
    "duration": 153,
    "start_time": "2023-04-01T16:49:02.771Z"
   },
   {
    "duration": 2,
    "start_time": "2023-04-01T16:49:02.926Z"
   },
   {
    "duration": 15,
    "start_time": "2023-04-01T16:49:02.931Z"
   },
   {
    "duration": 2081,
    "start_time": "2023-04-01T16:55:07.820Z"
   },
   {
    "duration": 2047,
    "start_time": "2023-04-01T16:55:09.904Z"
   },
   {
    "duration": 1289,
    "start_time": "2023-04-01T16:55:11.954Z"
   },
   {
    "duration": 808,
    "start_time": "2023-04-01T16:55:13.245Z"
   },
   {
    "duration": 29,
    "start_time": "2023-04-01T16:55:14.054Z"
   },
   {
    "duration": 122,
    "start_time": "2023-04-01T16:55:14.084Z"
   },
   {
    "duration": 4,
    "start_time": "2023-04-01T16:55:14.208Z"
   },
   {
    "duration": 132,
    "start_time": "2023-04-01T16:55:14.214Z"
   },
   {
    "duration": 496,
    "start_time": "2023-04-01T16:55:14.347Z"
   },
   {
    "duration": 1062,
    "start_time": "2023-04-01T16:55:14.845Z"
   },
   {
    "duration": 488,
    "start_time": "2023-04-01T16:55:15.909Z"
   },
   {
    "duration": 162,
    "start_time": "2023-04-01T16:55:16.401Z"
   },
   {
    "duration": 178,
    "start_time": "2023-04-01T16:55:16.565Z"
   },
   {
    "duration": 3,
    "start_time": "2023-04-01T16:55:16.745Z"
   },
   {
    "duration": 210,
    "start_time": "2023-04-01T16:55:16.749Z"
   },
   {
    "duration": 29,
    "start_time": "2023-04-01T16:55:16.960Z"
   },
   {
    "duration": 419,
    "start_time": "2023-04-01T16:55:16.994Z"
   },
   {
    "duration": 141,
    "start_time": "2023-04-01T16:55:17.415Z"
   },
   {
    "duration": 26,
    "start_time": "2023-04-01T16:55:17.557Z"
   },
   {
    "duration": 186,
    "start_time": "2023-04-01T16:55:17.587Z"
   },
   {
    "duration": 135,
    "start_time": "2023-04-01T16:55:17.777Z"
   },
   {
    "duration": 119,
    "start_time": "2023-04-01T16:55:17.914Z"
   },
   {
    "duration": 15,
    "start_time": "2023-04-01T16:55:18.034Z"
   },
   {
    "duration": 17,
    "start_time": "2023-04-01T16:55:18.050Z"
   },
   {
    "duration": 47,
    "start_time": "2023-04-01T16:55:18.072Z"
   },
   {
    "duration": 14,
    "start_time": "2023-04-01T16:55:18.120Z"
   },
   {
    "duration": 81,
    "start_time": "2023-04-01T16:55:18.136Z"
   },
   {
    "duration": 4,
    "start_time": "2023-04-01T16:55:18.220Z"
   },
   {
    "duration": 17,
    "start_time": "2023-04-01T16:55:18.225Z"
   },
   {
    "duration": 4,
    "start_time": "2023-04-01T16:55:18.244Z"
   },
   {
    "duration": 13,
    "start_time": "2023-04-01T16:55:18.249Z"
   },
   {
    "duration": 24,
    "start_time": "2023-04-01T16:55:18.270Z"
   },
   {
    "duration": 182,
    "start_time": "2023-04-01T16:55:18.299Z"
   },
   {
    "duration": 436,
    "start_time": "2023-04-01T16:55:18.490Z"
   },
   {
    "duration": 3,
    "start_time": "2023-04-01T16:55:18.928Z"
   },
   {
    "duration": 15,
    "start_time": "2023-04-01T16:55:18.933Z"
   },
   {
    "duration": 33427,
    "start_time": "2023-04-01T16:55:18.949Z"
   },
   {
    "duration": 23,
    "start_time": "2023-04-01T16:55:52.377Z"
   },
   {
    "duration": 222,
    "start_time": "2023-04-01T16:55:52.408Z"
   },
   {
    "duration": 3,
    "start_time": "2023-04-01T16:55:52.634Z"
   },
   {
    "duration": 6,
    "start_time": "2023-04-01T16:55:52.639Z"
   },
   {
    "duration": 7,
    "start_time": "2023-04-01T16:55:52.648Z"
   },
   {
    "duration": 20,
    "start_time": "2023-04-01T16:55:52.657Z"
   },
   {
    "duration": 5685,
    "start_time": "2023-04-01T16:55:52.681Z"
   },
   {
    "duration": 6,
    "start_time": "2023-04-01T16:55:58.367Z"
   },
   {
    "duration": 4,
    "start_time": "2023-04-01T16:55:58.376Z"
   },
   {
    "duration": 466604,
    "start_time": "2023-04-01T16:55:58.381Z"
   },
   {
    "duration": 11060,
    "start_time": "2023-04-01T17:03:44.995Z"
   },
   {
    "duration": 133,
    "start_time": "2023-04-01T17:03:56.057Z"
   },
   {
    "duration": 84,
    "start_time": "2023-04-01T17:03:56.198Z"
   },
   {
    "duration": 11,
    "start_time": "2023-04-01T17:05:44.835Z"
   },
   {
    "duration": 11,
    "start_time": "2023-04-01T17:05:46.796Z"
   },
   {
    "duration": 4,
    "start_time": "2023-04-01T17:06:17.029Z"
   },
   {
    "duration": 6,
    "start_time": "2023-04-01T17:06:33.328Z"
   },
   {
    "duration": 13,
    "start_time": "2023-04-01T17:06:34.766Z"
   },
   {
    "duration": 4,
    "start_time": "2023-04-01T17:06:35.533Z"
   },
   {
    "duration": 4,
    "start_time": "2023-04-01T17:06:42.228Z"
   },
   {
    "duration": 15,
    "start_time": "2023-04-01T17:06:57.666Z"
   },
   {
    "duration": 173,
    "start_time": "2023-04-01T17:06:59.284Z"
   },
   {
    "duration": 7,
    "start_time": "2023-04-01T17:07:02.926Z"
   },
   {
    "duration": 4,
    "start_time": "2023-04-01T17:07:05.612Z"
   },
   {
    "duration": 101,
    "start_time": "2023-04-01T17:13:48.829Z"
   },
   {
    "duration": 9,
    "start_time": "2023-04-01T17:14:01.345Z"
   },
   {
    "duration": 8,
    "start_time": "2023-04-01T17:14:47.950Z"
   },
   {
    "duration": 9,
    "start_time": "2023-04-01T17:15:56.685Z"
   },
   {
    "duration": 8,
    "start_time": "2023-04-01T17:16:40.318Z"
   },
   {
    "duration": 10,
    "start_time": "2023-04-01T17:16:45.284Z"
   },
   {
    "duration": 8,
    "start_time": "2023-04-01T17:17:21.880Z"
   },
   {
    "duration": 10,
    "start_time": "2023-04-01T17:17:44.325Z"
   },
   {
    "duration": 1125,
    "start_time": "2023-04-01T17:18:48.358Z"
   },
   {
    "duration": 3,
    "start_time": "2023-04-01T17:19:38.130Z"
   },
   {
    "duration": 1963,
    "start_time": "2023-04-01T17:19:45.014Z"
   },
   {
    "duration": 1899,
    "start_time": "2023-04-01T17:19:46.979Z"
   },
   {
    "duration": 1191,
    "start_time": "2023-04-01T17:19:48.880Z"
   },
   {
    "duration": 723,
    "start_time": "2023-04-01T17:19:50.072Z"
   },
   {
    "duration": 16,
    "start_time": "2023-04-01T17:19:50.797Z"
   },
   {
    "duration": 121,
    "start_time": "2023-04-01T17:19:50.815Z"
   },
   {
    "duration": 3,
    "start_time": "2023-04-01T17:19:50.938Z"
   },
   {
    "duration": 142,
    "start_time": "2023-04-01T17:19:50.942Z"
   },
   {
    "duration": 441,
    "start_time": "2023-04-01T17:19:51.086Z"
   },
   {
    "duration": 975,
    "start_time": "2023-04-01T17:19:51.529Z"
   },
   {
    "duration": 509,
    "start_time": "2023-04-01T17:19:52.506Z"
   },
   {
    "duration": 137,
    "start_time": "2023-04-01T17:19:53.017Z"
   },
   {
    "duration": 147,
    "start_time": "2023-04-01T17:19:53.156Z"
   },
   {
    "duration": 3,
    "start_time": "2023-04-01T17:19:53.306Z"
   },
   {
    "duration": 168,
    "start_time": "2023-04-01T17:19:53.310Z"
   },
   {
    "duration": 15,
    "start_time": "2023-04-01T17:19:53.479Z"
   },
   {
    "duration": 350,
    "start_time": "2023-04-01T17:19:53.495Z"
   },
   {
    "duration": 140,
    "start_time": "2023-04-01T17:19:53.846Z"
   },
   {
    "duration": 14,
    "start_time": "2023-04-01T17:19:53.988Z"
   },
   {
    "duration": 197,
    "start_time": "2023-04-01T17:19:54.003Z"
   },
   {
    "duration": 124,
    "start_time": "2023-04-01T17:19:54.202Z"
   },
   {
    "duration": 119,
    "start_time": "2023-04-01T17:19:54.328Z"
   },
   {
    "duration": 21,
    "start_time": "2023-04-01T17:19:54.449Z"
   },
   {
    "duration": 2,
    "start_time": "2023-04-01T17:19:54.472Z"
   },
   {
    "duration": 16,
    "start_time": "2023-04-01T17:19:54.475Z"
   },
   {
    "duration": 4,
    "start_time": "2023-04-01T17:19:54.492Z"
   },
   {
    "duration": 82,
    "start_time": "2023-04-01T17:19:54.497Z"
   },
   {
    "duration": 30,
    "start_time": "2023-04-01T17:19:54.581Z"
   },
   {
    "duration": 4,
    "start_time": "2023-04-01T17:19:54.613Z"
   },
   {
    "duration": 22,
    "start_time": "2023-04-01T17:19:54.618Z"
   },
   {
    "duration": 3,
    "start_time": "2023-04-01T17:19:54.642Z"
   },
   {
    "duration": 3,
    "start_time": "2023-04-01T17:19:54.647Z"
   },
   {
    "duration": 27,
    "start_time": "2023-04-01T17:19:54.651Z"
   },
   {
    "duration": 143,
    "start_time": "2023-04-01T17:19:54.680Z"
   },
   {
    "duration": 335,
    "start_time": "2023-04-01T17:19:54.824Z"
   },
   {
    "duration": 7,
    "start_time": "2023-04-01T17:19:55.161Z"
   },
   {
    "duration": 4,
    "start_time": "2023-04-01T17:19:55.170Z"
   },
   {
    "duration": 18803,
    "start_time": "2023-04-01T17:19:55.175Z"
   },
   {
    "duration": 8,
    "start_time": "2023-04-01T17:20:14.070Z"
   },
   {
    "duration": 122,
    "start_time": "2023-04-01T17:20:14.169Z"
   },
   {
    "duration": 2,
    "start_time": "2023-04-01T17:20:14.295Z"
   },
   {
    "duration": 7,
    "start_time": "2023-04-01T17:20:14.299Z"
   },
   {
    "duration": 5,
    "start_time": "2023-04-01T17:20:14.307Z"
   },
   {
    "duration": 7,
    "start_time": "2023-04-01T17:20:14.314Z"
   },
   {
    "duration": 3980,
    "start_time": "2023-04-01T17:20:14.322Z"
   },
   {
    "duration": 3,
    "start_time": "2023-04-01T17:20:18.303Z"
   },
   {
    "duration": 16,
    "start_time": "2023-04-01T17:20:18.307Z"
   },
   {
    "duration": 15,
    "start_time": "2023-04-01T17:20:18.324Z"
   },
   {
    "duration": 5939,
    "start_time": "2023-04-01T17:20:18.341Z"
   },
   {
    "duration": 84,
    "start_time": "2023-04-01T17:20:24.282Z"
   },
   {
    "duration": 54,
    "start_time": "2023-04-01T17:20:24.368Z"
   },
   {
    "duration": 8,
    "start_time": "2023-04-01T17:27:06.585Z"
   },
   {
    "duration": 8,
    "start_time": "2023-04-01T17:27:42.544Z"
   },
   {
    "duration": 165,
    "start_time": "2023-04-01T17:27:45.885Z"
   },
   {
    "duration": 376,
    "start_time": "2023-04-01T17:28:05.939Z"
   },
   {
    "duration": 4,
    "start_time": "2023-04-01T17:28:19.654Z"
   },
   {
    "duration": 1878,
    "start_time": "2023-04-01T17:30:16.632Z"
   },
   {
    "duration": 1819,
    "start_time": "2023-04-01T17:30:18.512Z"
   },
   {
    "duration": 1127,
    "start_time": "2023-04-01T17:30:20.333Z"
   },
   {
    "duration": 864,
    "start_time": "2023-04-01T17:30:21.462Z"
   },
   {
    "duration": 41,
    "start_time": "2023-04-01T17:30:22.328Z"
   },
   {
    "duration": 180,
    "start_time": "2023-04-01T17:30:22.371Z"
   },
   {
    "duration": 3,
    "start_time": "2023-04-01T17:30:22.554Z"
   },
   {
    "duration": 146,
    "start_time": "2023-04-01T17:30:22.559Z"
   },
   {
    "duration": 444,
    "start_time": "2023-04-01T17:30:22.707Z"
   },
   {
    "duration": 905,
    "start_time": "2023-04-01T17:30:23.153Z"
   },
   {
    "duration": 463,
    "start_time": "2023-04-01T17:30:24.059Z"
   },
   {
    "duration": 130,
    "start_time": "2023-04-01T17:30:24.524Z"
   },
   {
    "duration": 145,
    "start_time": "2023-04-01T17:30:24.655Z"
   },
   {
    "duration": 3,
    "start_time": "2023-04-01T17:30:24.804Z"
   },
   {
    "duration": 188,
    "start_time": "2023-04-01T17:30:24.809Z"
   },
   {
    "duration": 16,
    "start_time": "2023-04-01T17:30:24.999Z"
   },
   {
    "duration": 366,
    "start_time": "2023-04-01T17:30:25.017Z"
   },
   {
    "duration": 151,
    "start_time": "2023-04-01T17:30:25.385Z"
   },
   {
    "duration": 15,
    "start_time": "2023-04-01T17:30:25.537Z"
   },
   {
    "duration": 206,
    "start_time": "2023-04-01T17:30:25.554Z"
   },
   {
    "duration": 147,
    "start_time": "2023-04-01T17:30:25.763Z"
   },
   {
    "duration": 124,
    "start_time": "2023-04-01T17:30:25.911Z"
   },
   {
    "duration": 16,
    "start_time": "2023-04-01T17:30:26.037Z"
   },
   {
    "duration": 2,
    "start_time": "2023-04-01T17:30:26.055Z"
   },
   {
    "duration": 13,
    "start_time": "2023-04-01T17:30:26.068Z"
   },
   {
    "duration": 4,
    "start_time": "2023-04-01T17:30:26.083Z"
   },
   {
    "duration": 60,
    "start_time": "2023-04-01T17:30:26.089Z"
   },
   {
    "duration": 29,
    "start_time": "2023-04-01T17:30:26.169Z"
   },
   {
    "duration": 4,
    "start_time": "2023-04-01T17:30:26.201Z"
   },
   {
    "duration": 9,
    "start_time": "2023-04-01T17:30:26.207Z"
   },
   {
    "duration": 3,
    "start_time": "2023-04-01T17:30:26.218Z"
   },
   {
    "duration": 4,
    "start_time": "2023-04-01T17:30:26.223Z"
   },
   {
    "duration": 46,
    "start_time": "2023-04-01T17:30:26.228Z"
   },
   {
    "duration": 187,
    "start_time": "2023-04-01T17:30:26.275Z"
   },
   {
    "duration": 430,
    "start_time": "2023-04-01T17:30:26.463Z"
   },
   {
    "duration": 4,
    "start_time": "2023-04-01T17:30:26.894Z"
   },
   {
    "duration": 3,
    "start_time": "2023-04-01T17:30:26.900Z"
   },
   {
    "duration": 6766,
    "start_time": "2023-04-01T17:30:26.905Z"
   },
   {
    "duration": 101,
    "start_time": "2023-04-01T17:30:33.673Z"
   },
   {
    "duration": 192,
    "start_time": "2023-04-01T17:30:33.776Z"
   },
   {
    "duration": 3,
    "start_time": "2023-04-01T17:30:33.971Z"
   },
   {
    "duration": 10,
    "start_time": "2023-04-01T17:30:33.975Z"
   },
   {
    "duration": 4,
    "start_time": "2023-04-01T17:30:33.986Z"
   },
   {
    "duration": 5,
    "start_time": "2023-04-01T17:30:33.991Z"
   },
   {
    "duration": 5622,
    "start_time": "2023-04-01T17:30:33.997Z"
   },
   {
    "duration": 111,
    "start_time": "2023-04-01T17:30:39.621Z"
   },
   {
    "duration": 59,
    "start_time": "2023-04-01T17:30:39.733Z"
   },
   {
    "duration": 2384,
    "start_time": "2023-04-02T13:50:49.100Z"
   },
   {
    "duration": 6438,
    "start_time": "2023-04-02T13:50:51.487Z"
   },
   {
    "duration": 1347,
    "start_time": "2023-04-02T13:50:57.926Z"
   },
   {
    "duration": 3234,
    "start_time": "2023-04-02T13:50:59.275Z"
   },
   {
    "duration": 21,
    "start_time": "2023-04-02T13:51:02.510Z"
   },
   {
    "duration": 149,
    "start_time": "2023-04-02T13:51:02.533Z"
   },
   {
    "duration": 4,
    "start_time": "2023-04-02T13:51:02.686Z"
   },
   {
    "duration": 134,
    "start_time": "2023-04-02T13:51:02.692Z"
   },
   {
    "duration": 437,
    "start_time": "2023-04-02T13:51:02.828Z"
   },
   {
    "duration": 850,
    "start_time": "2023-04-02T13:51:03.266Z"
   },
   {
    "duration": 446,
    "start_time": "2023-04-02T13:51:04.117Z"
   },
   {
    "duration": 136,
    "start_time": "2023-04-02T13:51:04.564Z"
   },
   {
    "duration": 157,
    "start_time": "2023-04-02T13:51:04.702Z"
   },
   {
    "duration": 2,
    "start_time": "2023-04-02T13:51:04.863Z"
   },
   {
    "duration": 234,
    "start_time": "2023-04-02T13:51:04.871Z"
   },
   {
    "duration": 17,
    "start_time": "2023-04-02T13:51:05.107Z"
   },
   {
    "duration": 383,
    "start_time": "2023-04-02T13:51:05.126Z"
   },
   {
    "duration": 171,
    "start_time": "2023-04-02T13:51:05.510Z"
   },
   {
    "duration": 17,
    "start_time": "2023-04-02T13:51:05.683Z"
   },
   {
    "duration": 221,
    "start_time": "2023-04-02T13:51:05.701Z"
   },
   {
    "duration": 131,
    "start_time": "2023-04-02T13:51:05.923Z"
   },
   {
    "duration": 148,
    "start_time": "2023-04-02T13:51:06.056Z"
   },
   {
    "duration": 17,
    "start_time": "2023-04-02T13:51:06.206Z"
   },
   {
    "duration": 19,
    "start_time": "2023-04-02T13:51:06.225Z"
   },
   {
    "duration": 66,
    "start_time": "2023-04-02T13:51:06.245Z"
   },
   {
    "duration": 5,
    "start_time": "2023-04-02T13:51:06.314Z"
   },
   {
    "duration": 63,
    "start_time": "2023-04-02T13:51:06.321Z"
   },
   {
    "duration": 26,
    "start_time": "2023-04-02T13:51:06.386Z"
   },
   {
    "duration": 3,
    "start_time": "2023-04-02T13:51:06.414Z"
   },
   {
    "duration": 11,
    "start_time": "2023-04-02T13:51:06.419Z"
   },
   {
    "duration": 4,
    "start_time": "2023-04-02T13:51:06.431Z"
   },
   {
    "duration": 5,
    "start_time": "2023-04-02T13:51:06.436Z"
   },
   {
    "duration": 41,
    "start_time": "2023-04-02T13:51:06.442Z"
   },
   {
    "duration": 183,
    "start_time": "2023-04-02T13:51:06.485Z"
   },
   {
    "duration": 480,
    "start_time": "2023-04-02T13:51:06.670Z"
   },
   {
    "duration": 4,
    "start_time": "2023-04-02T13:51:07.151Z"
   },
   {
    "duration": 15,
    "start_time": "2023-04-02T13:51:07.156Z"
   },
   {
    "duration": 12607,
    "start_time": "2023-04-02T13:51:07.178Z"
   },
   {
    "duration": 86,
    "start_time": "2023-04-02T13:51:19.791Z"
   },
   {
    "duration": 162,
    "start_time": "2023-04-02T13:51:19.879Z"
   },
   {
    "duration": 2,
    "start_time": "2023-04-02T13:51:20.046Z"
   },
   {
    "duration": 15,
    "start_time": "2023-04-02T13:51:20.049Z"
   },
   {
    "duration": 27,
    "start_time": "2023-04-02T13:51:20.065Z"
   },
   {
    "duration": 38,
    "start_time": "2023-04-02T13:51:20.093Z"
   },
   {
    "duration": 6455,
    "start_time": "2023-04-02T13:51:20.133Z"
   },
   {
    "duration": 125,
    "start_time": "2023-04-02T13:51:26.590Z"
   },
   {
    "duration": 67,
    "start_time": "2023-04-02T13:51:26.717Z"
   },
   {
    "duration": 5,
    "start_time": "2023-04-02T14:36:09.174Z"
   },
   {
    "duration": 1051,
    "start_time": "2023-04-02T14:36:56.844Z"
   },
   {
    "duration": 4,
    "start_time": "2023-04-02T14:37:05.223Z"
   },
   {
    "duration": 5,
    "start_time": "2023-04-02T14:37:16.310Z"
   },
   {
    "duration": 4,
    "start_time": "2023-04-02T14:37:55.315Z"
   },
   {
    "duration": 6,
    "start_time": "2023-04-02T15:04:20.416Z"
   },
   {
    "duration": 88,
    "start_time": "2023-04-02T15:11:29.538Z"
   },
   {
    "duration": 3,
    "start_time": "2023-04-02T15:11:34.691Z"
   },
   {
    "duration": 197,
    "start_time": "2023-04-02T15:11:54.843Z"
   },
   {
    "duration": 803268,
    "start_time": "2023-04-02T15:14:48.718Z"
   },
   {
    "duration": 113,
    "start_time": "2023-04-02T15:53:46.600Z"
   },
   {
    "duration": 2402,
    "start_time": "2023-04-02T16:00:41.990Z"
   },
   {
    "duration": 6606,
    "start_time": "2023-04-02T16:00:44.395Z"
   },
   {
    "duration": 1631,
    "start_time": "2023-04-02T16:00:51.004Z"
   },
   {
    "duration": 1120,
    "start_time": "2023-04-02T16:00:52.638Z"
   },
   {
    "duration": 19,
    "start_time": "2023-04-02T16:00:53.760Z"
   },
   {
    "duration": 142,
    "start_time": "2023-04-02T16:00:53.782Z"
   },
   {
    "duration": 3,
    "start_time": "2023-04-02T16:00:53.926Z"
   },
   {
    "duration": 138,
    "start_time": "2023-04-02T16:00:53.930Z"
   },
   {
    "duration": 488,
    "start_time": "2023-04-02T16:00:54.070Z"
   },
   {
    "duration": 1095,
    "start_time": "2023-04-02T16:00:54.561Z"
   },
   {
    "duration": 530,
    "start_time": "2023-04-02T16:00:55.658Z"
   },
   {
    "duration": 138,
    "start_time": "2023-04-02T16:00:56.190Z"
   },
   {
    "duration": 161,
    "start_time": "2023-04-02T16:00:56.331Z"
   },
   {
    "duration": 9,
    "start_time": "2023-04-02T16:00:56.494Z"
   },
   {
    "duration": 191,
    "start_time": "2023-04-02T16:00:56.505Z"
   },
   {
    "duration": 18,
    "start_time": "2023-04-02T16:00:56.698Z"
   },
   {
    "duration": 396,
    "start_time": "2023-04-02T16:00:56.718Z"
   },
   {
    "duration": 154,
    "start_time": "2023-04-02T16:00:57.116Z"
   },
   {
    "duration": 15,
    "start_time": "2023-04-02T16:00:57.272Z"
   },
   {
    "duration": 217,
    "start_time": "2023-04-02T16:00:57.304Z"
   },
   {
    "duration": 145,
    "start_time": "2023-04-02T16:00:57.523Z"
   },
   {
    "duration": 126,
    "start_time": "2023-04-02T16:00:57.670Z"
   },
   {
    "duration": 16,
    "start_time": "2023-04-02T16:00:57.798Z"
   },
   {
    "duration": 3,
    "start_time": "2023-04-02T16:00:57.816Z"
   },
   {
    "duration": 22,
    "start_time": "2023-04-02T16:00:57.820Z"
   },
   {
    "duration": 4,
    "start_time": "2023-04-02T16:00:57.844Z"
   },
   {
    "duration": 78,
    "start_time": "2023-04-02T16:00:57.850Z"
   },
   {
    "duration": 30,
    "start_time": "2023-04-02T16:00:57.932Z"
   },
   {
    "duration": 5,
    "start_time": "2023-04-02T16:00:57.963Z"
   },
   {
    "duration": 32,
    "start_time": "2023-04-02T16:00:57.971Z"
   },
   {
    "duration": 7,
    "start_time": "2023-04-02T16:00:58.006Z"
   },
   {
    "duration": 10,
    "start_time": "2023-04-02T16:00:58.015Z"
   },
   {
    "duration": 21,
    "start_time": "2023-04-02T16:00:58.027Z"
   },
   {
    "duration": 193,
    "start_time": "2023-04-02T16:00:58.050Z"
   },
   {
    "duration": 468,
    "start_time": "2023-04-02T16:00:58.245Z"
   },
   {
    "duration": 4,
    "start_time": "2023-04-02T16:00:58.715Z"
   },
   {
    "duration": 6,
    "start_time": "2023-04-02T16:00:58.720Z"
   },
   {
    "duration": 155,
    "start_time": "2023-04-02T16:00:58.728Z"
   },
   {
    "duration": 0,
    "start_time": "2023-04-02T16:00:58.885Z"
   },
   {
    "duration": 0,
    "start_time": "2023-04-02T16:00:58.886Z"
   },
   {
    "duration": 0,
    "start_time": "2023-04-02T16:00:58.887Z"
   },
   {
    "duration": 0,
    "start_time": "2023-04-02T16:00:58.888Z"
   },
   {
    "duration": 0,
    "start_time": "2023-04-02T16:00:58.889Z"
   },
   {
    "duration": 0,
    "start_time": "2023-04-02T16:00:58.903Z"
   },
   {
    "duration": 0,
    "start_time": "2023-04-02T16:00:58.904Z"
   },
   {
    "duration": 0,
    "start_time": "2023-04-02T16:00:58.906Z"
   },
   {
    "duration": 0,
    "start_time": "2023-04-02T16:00:58.907Z"
   },
   {
    "duration": 0,
    "start_time": "2023-04-02T16:00:58.908Z"
   },
   {
    "duration": 0,
    "start_time": "2023-04-02T16:00:58.909Z"
   },
   {
    "duration": 13,
    "start_time": "2023-04-02T16:01:33.430Z"
   },
   {
    "duration": 22,
    "start_time": "2023-04-02T16:01:37.846Z"
   },
   {
    "duration": 4,
    "start_time": "2023-04-02T16:02:08.988Z"
   },
   {
    "duration": 3,
    "start_time": "2023-04-02T16:03:46.484Z"
   },
   {
    "duration": 3,
    "start_time": "2023-04-02T16:04:07.416Z"
   },
   {
    "duration": 10514,
    "start_time": "2023-04-02T16:04:10.895Z"
   },
   {
    "duration": 21760,
    "start_time": "2023-04-02T16:04:30.944Z"
   },
   {
    "duration": 8,
    "start_time": "2023-04-02T16:04:55.646Z"
   },
   {
    "duration": 22,
    "start_time": "2023-04-02T16:05:19.326Z"
   },
   {
    "duration": 41,
    "start_time": "2023-04-02T16:05:25.958Z"
   },
   {
    "duration": 9,
    "start_time": "2023-04-02T16:05:36.510Z"
   },
   {
    "duration": 113,
    "start_time": "2023-04-02T16:05:39.601Z"
   },
   {
    "duration": 19,
    "start_time": "2023-04-02T16:05:44.148Z"
   },
   {
    "duration": 80,
    "start_time": "2023-04-02T16:06:04.354Z"
   },
   {
    "duration": 3,
    "start_time": "2023-04-02T16:06:47.533Z"
   },
   {
    "duration": 100,
    "start_time": "2023-04-02T16:06:48.409Z"
   },
   {
    "duration": 3,
    "start_time": "2023-04-02T16:06:51.280Z"
   },
   {
    "duration": 2078,
    "start_time": "2023-04-02T16:08:36.627Z"
   },
   {
    "duration": 2066,
    "start_time": "2023-04-02T16:08:38.707Z"
   },
   {
    "duration": 1376,
    "start_time": "2023-04-02T16:08:40.775Z"
   },
   {
    "duration": 818,
    "start_time": "2023-04-02T16:08:42.153Z"
   },
   {
    "duration": 17,
    "start_time": "2023-04-02T16:08:42.973Z"
   },
   {
    "duration": 131,
    "start_time": "2023-04-02T16:08:42.992Z"
   },
   {
    "duration": 3,
    "start_time": "2023-04-02T16:08:43.125Z"
   },
   {
    "duration": 129,
    "start_time": "2023-04-02T16:08:43.130Z"
   },
   {
    "duration": 482,
    "start_time": "2023-04-02T16:08:43.260Z"
   },
   {
    "duration": 992,
    "start_time": "2023-04-02T16:08:43.744Z"
   },
   {
    "duration": 511,
    "start_time": "2023-04-02T16:08:44.738Z"
   },
   {
    "duration": 142,
    "start_time": "2023-04-02T16:08:45.251Z"
   },
   {
    "duration": 160,
    "start_time": "2023-04-02T16:08:45.395Z"
   },
   {
    "duration": 2,
    "start_time": "2023-04-02T16:08:45.559Z"
   },
   {
    "duration": 183,
    "start_time": "2023-04-02T16:08:45.563Z"
   },
   {
    "duration": 17,
    "start_time": "2023-04-02T16:08:45.748Z"
   },
   {
    "duration": 415,
    "start_time": "2023-04-02T16:08:45.767Z"
   },
   {
    "duration": 156,
    "start_time": "2023-04-02T16:08:46.184Z"
   },
   {
    "duration": 15,
    "start_time": "2023-04-02T16:08:46.342Z"
   },
   {
    "duration": 214,
    "start_time": "2023-04-02T16:08:46.359Z"
   },
   {
    "duration": 139,
    "start_time": "2023-04-02T16:08:46.574Z"
   },
   {
    "duration": 123,
    "start_time": "2023-04-02T16:08:46.715Z"
   },
   {
    "duration": 16,
    "start_time": "2023-04-02T16:08:46.840Z"
   },
   {
    "duration": 7,
    "start_time": "2023-04-02T16:08:46.857Z"
   },
   {
    "duration": 55,
    "start_time": "2023-04-02T16:08:46.866Z"
   },
   {
    "duration": 21,
    "start_time": "2023-04-02T16:08:46.923Z"
   },
   {
    "duration": 89,
    "start_time": "2023-04-02T16:08:46.946Z"
   },
   {
    "duration": 33,
    "start_time": "2023-04-02T16:08:47.037Z"
   },
   {
    "duration": 6,
    "start_time": "2023-04-02T16:08:47.072Z"
   },
   {
    "duration": 24,
    "start_time": "2023-04-02T16:08:47.079Z"
   },
   {
    "duration": 4,
    "start_time": "2023-04-02T16:08:47.105Z"
   },
   {
    "duration": 5,
    "start_time": "2023-04-02T16:08:47.111Z"
   },
   {
    "duration": 14,
    "start_time": "2023-04-02T16:08:47.118Z"
   },
   {
    "duration": 206,
    "start_time": "2023-04-02T16:08:47.133Z"
   },
   {
    "duration": 463,
    "start_time": "2023-04-02T16:08:47.340Z"
   },
   {
    "duration": 5,
    "start_time": "2023-04-02T16:08:47.805Z"
   },
   {
    "duration": 9,
    "start_time": "2023-04-02T16:08:47.812Z"
   },
   {
    "duration": 3,
    "start_time": "2023-04-02T16:08:47.823Z"
   },
   {
    "duration": 20276,
    "start_time": "2023-04-02T16:08:47.828Z"
   },
   {
    "duration": 98,
    "start_time": "2023-04-02T16:09:08.106Z"
   },
   {
    "duration": 125,
    "start_time": "2023-04-02T16:09:08.207Z"
   },
   {
    "duration": 3,
    "start_time": "2023-04-02T16:09:08.334Z"
   },
   {
    "duration": 10,
    "start_time": "2023-04-02T16:09:08.339Z"
   },
   {
    "duration": 9,
    "start_time": "2023-04-02T16:09:08.350Z"
   },
   {
    "duration": 20453,
    "start_time": "2023-04-02T16:09:08.360Z"
   },
   {
    "duration": 2,
    "start_time": "2023-04-02T16:09:28.815Z"
   },
   {
    "duration": 6514,
    "start_time": "2023-04-02T16:09:28.819Z"
   },
   {
    "duration": 131,
    "start_time": "2023-04-02T16:09:35.335Z"
   },
   {
    "duration": 63,
    "start_time": "2023-04-02T16:09:35.468Z"
   },
   {
    "duration": 19713,
    "start_time": "2023-04-02T16:10:13.809Z"
   },
   {
    "duration": 18956,
    "start_time": "2023-04-02T16:13:46.754Z"
   },
   {
    "duration": 15822,
    "start_time": "2023-04-02T16:14:28.697Z"
   },
   {
    "duration": 55,
    "start_time": "2023-04-02T16:15:30.384Z"
   },
   {
    "duration": 118,
    "start_time": "2023-04-02T16:17:06.590Z"
   },
   {
    "duration": 12,
    "start_time": "2023-04-02T16:19:24.019Z"
   },
   {
    "duration": 18,
    "start_time": "2023-04-02T16:20:17.259Z"
   },
   {
    "duration": 11,
    "start_time": "2023-04-02T16:20:20.973Z"
   },
   {
    "duration": 2482,
    "start_time": "2023-04-02T16:21:10.838Z"
   },
   {
    "duration": 2461,
    "start_time": "2023-04-02T16:21:29.863Z"
   },
   {
    "duration": 41,
    "start_time": "2023-04-02T16:24:43.875Z"
   },
   {
    "duration": 2567,
    "start_time": "2023-04-02T16:24:53.606Z"
   },
   {
    "duration": 2590,
    "start_time": "2023-04-02T16:25:44.625Z"
   },
   {
    "duration": 2539,
    "start_time": "2023-04-02T16:29:13.430Z"
   },
   {
    "duration": 76,
    "start_time": "2023-04-02T16:30:20.705Z"
   },
   {
    "duration": 71,
    "start_time": "2023-04-02T16:30:37.263Z"
   },
   {
    "duration": 2529,
    "start_time": "2023-04-02T16:33:06.441Z"
   },
   {
    "duration": 2534,
    "start_time": "2023-04-02T16:34:05.731Z"
   },
   {
    "duration": 18,
    "start_time": "2023-04-02T16:34:59.806Z"
   },
   {
    "duration": 2195,
    "start_time": "2023-04-02T16:35:20.983Z"
   },
   {
    "duration": 2223,
    "start_time": "2023-04-02T16:35:23.180Z"
   },
   {
    "duration": 1406,
    "start_time": "2023-04-02T16:35:25.406Z"
   },
   {
    "duration": 896,
    "start_time": "2023-04-02T16:35:26.815Z"
   },
   {
    "duration": 19,
    "start_time": "2023-04-02T16:35:27.713Z"
   },
   {
    "duration": 147,
    "start_time": "2023-04-02T16:35:27.734Z"
   },
   {
    "duration": 3,
    "start_time": "2023-04-02T16:35:27.883Z"
   },
   {
    "duration": 131,
    "start_time": "2023-04-02T16:35:27.888Z"
   },
   {
    "duration": 511,
    "start_time": "2023-04-02T16:35:28.021Z"
   },
   {
    "duration": 1068,
    "start_time": "2023-04-02T16:35:28.536Z"
   },
   {
    "duration": 548,
    "start_time": "2023-04-02T16:35:29.606Z"
   },
   {
    "duration": 152,
    "start_time": "2023-04-02T16:35:30.156Z"
   },
   {
    "duration": 160,
    "start_time": "2023-04-02T16:35:30.309Z"
   },
   {
    "duration": 2,
    "start_time": "2023-04-02T16:35:30.471Z"
   },
   {
    "duration": 216,
    "start_time": "2023-04-02T16:35:30.475Z"
   },
   {
    "duration": 16,
    "start_time": "2023-04-02T16:35:30.693Z"
   },
   {
    "duration": 418,
    "start_time": "2023-04-02T16:35:30.711Z"
   },
   {
    "duration": 160,
    "start_time": "2023-04-02T16:35:31.131Z"
   },
   {
    "duration": 17,
    "start_time": "2023-04-02T16:35:31.292Z"
   },
   {
    "duration": 220,
    "start_time": "2023-04-02T16:35:31.311Z"
   },
   {
    "duration": 145,
    "start_time": "2023-04-02T16:35:31.533Z"
   },
   {
    "duration": 127,
    "start_time": "2023-04-02T16:35:31.680Z"
   },
   {
    "duration": 16,
    "start_time": "2023-04-02T16:35:31.809Z"
   },
   {
    "duration": 35,
    "start_time": "2023-04-02T16:35:31.827Z"
   },
   {
    "duration": 38,
    "start_time": "2023-04-02T16:35:31.864Z"
   },
   {
    "duration": 4,
    "start_time": "2023-04-02T16:35:31.904Z"
   },
   {
    "duration": 97,
    "start_time": "2023-04-02T16:35:31.910Z"
   },
   {
    "duration": 39,
    "start_time": "2023-04-02T16:35:32.011Z"
   },
   {
    "duration": 5,
    "start_time": "2023-04-02T16:35:32.053Z"
   },
   {
    "duration": 26,
    "start_time": "2023-04-02T16:35:32.060Z"
   },
   {
    "duration": 4,
    "start_time": "2023-04-02T16:35:32.089Z"
   },
   {
    "duration": 22,
    "start_time": "2023-04-02T16:35:32.104Z"
   },
   {
    "duration": 30,
    "start_time": "2023-04-02T16:35:32.128Z"
   },
   {
    "duration": 193,
    "start_time": "2023-04-02T16:35:32.160Z"
   },
   {
    "duration": 446,
    "start_time": "2023-04-02T16:35:32.355Z"
   },
   {
    "duration": 4,
    "start_time": "2023-04-02T16:35:32.803Z"
   },
   {
    "duration": 6,
    "start_time": "2023-04-02T16:35:32.809Z"
   },
   {
    "duration": 130,
    "start_time": "2023-04-02T16:35:32.816Z"
   },
   {
    "duration": 0,
    "start_time": "2023-04-02T16:35:32.947Z"
   },
   {
    "duration": 0,
    "start_time": "2023-04-02T16:35:32.948Z"
   },
   {
    "duration": 0,
    "start_time": "2023-04-02T16:35:32.950Z"
   },
   {
    "duration": 0,
    "start_time": "2023-04-02T16:35:32.950Z"
   },
   {
    "duration": 0,
    "start_time": "2023-04-02T16:35:32.951Z"
   },
   {
    "duration": 0,
    "start_time": "2023-04-02T16:35:32.952Z"
   },
   {
    "duration": 0,
    "start_time": "2023-04-02T16:35:32.953Z"
   },
   {
    "duration": 0,
    "start_time": "2023-04-02T16:35:32.954Z"
   },
   {
    "duration": 0,
    "start_time": "2023-04-02T16:35:32.955Z"
   },
   {
    "duration": 0,
    "start_time": "2023-04-02T16:35:32.956Z"
   },
   {
    "duration": 0,
    "start_time": "2023-04-02T16:35:32.957Z"
   },
   {
    "duration": 0,
    "start_time": "2023-04-02T16:35:32.958Z"
   },
   {
    "duration": 0,
    "start_time": "2023-04-02T16:35:32.959Z"
   },
   {
    "duration": 0,
    "start_time": "2023-04-02T16:35:32.960Z"
   },
   {
    "duration": 15,
    "start_time": "2023-04-02T16:40:22.861Z"
   },
   {
    "duration": 89,
    "start_time": "2023-04-02T16:41:48.360Z"
   },
   {
    "duration": 12,
    "start_time": "2023-04-02T16:41:57.389Z"
   },
   {
    "duration": 2183,
    "start_time": "2023-04-02T16:42:49.466Z"
   },
   {
    "duration": 2155,
    "start_time": "2023-04-02T16:42:51.651Z"
   },
   {
    "duration": 1293,
    "start_time": "2023-04-02T16:42:53.808Z"
   },
   {
    "duration": 844,
    "start_time": "2023-04-02T16:42:55.103Z"
   },
   {
    "duration": 18,
    "start_time": "2023-04-02T16:42:55.949Z"
   },
   {
    "duration": 142,
    "start_time": "2023-04-02T16:42:55.968Z"
   },
   {
    "duration": 3,
    "start_time": "2023-04-02T16:42:56.112Z"
   },
   {
    "duration": 129,
    "start_time": "2023-04-02T16:42:56.117Z"
   },
   {
    "duration": 494,
    "start_time": "2023-04-02T16:42:56.248Z"
   },
   {
    "duration": 1025,
    "start_time": "2023-04-02T16:42:56.745Z"
   },
   {
    "duration": 526,
    "start_time": "2023-04-02T16:42:57.773Z"
   },
   {
    "duration": 147,
    "start_time": "2023-04-02T16:42:58.301Z"
   },
   {
    "duration": 158,
    "start_time": "2023-04-02T16:42:58.450Z"
   },
   {
    "duration": 2,
    "start_time": "2023-04-02T16:42:58.611Z"
   },
   {
    "duration": 190,
    "start_time": "2023-04-02T16:42:58.615Z"
   },
   {
    "duration": 16,
    "start_time": "2023-04-02T16:42:58.807Z"
   },
   {
    "duration": 382,
    "start_time": "2023-04-02T16:42:58.825Z"
   },
   {
    "duration": 156,
    "start_time": "2023-04-02T16:42:59.208Z"
   },
   {
    "duration": 15,
    "start_time": "2023-04-02T16:42:59.366Z"
   },
   {
    "duration": 232,
    "start_time": "2023-04-02T16:42:59.383Z"
   },
   {
    "duration": 146,
    "start_time": "2023-04-02T16:42:59.617Z"
   },
   {
    "duration": 130,
    "start_time": "2023-04-02T16:42:59.765Z"
   },
   {
    "duration": 20,
    "start_time": "2023-04-02T16:42:59.896Z"
   },
   {
    "duration": 2,
    "start_time": "2023-04-02T16:42:59.918Z"
   },
   {
    "duration": 19,
    "start_time": "2023-04-02T16:42:59.922Z"
   },
   {
    "duration": 4,
    "start_time": "2023-04-02T16:42:59.943Z"
   },
   {
    "duration": 80,
    "start_time": "2023-04-02T16:42:59.949Z"
   },
   {
    "duration": 32,
    "start_time": "2023-04-02T16:43:00.034Z"
   },
   {
    "duration": 4,
    "start_time": "2023-04-02T16:43:00.068Z"
   },
   {
    "duration": 33,
    "start_time": "2023-04-02T16:43:00.074Z"
   },
   {
    "duration": 23,
    "start_time": "2023-04-02T16:43:00.109Z"
   },
   {
    "duration": 40,
    "start_time": "2023-04-02T16:43:00.134Z"
   },
   {
    "duration": 37,
    "start_time": "2023-04-02T16:43:00.175Z"
   },
   {
    "duration": 43,
    "start_time": "2023-04-02T16:43:00.214Z"
   },
   {
    "duration": 130,
    "start_time": "2023-04-02T16:43:00.259Z"
   },
   {
    "duration": 0,
    "start_time": "2023-04-02T16:43:00.391Z"
   },
   {
    "duration": 0,
    "start_time": "2023-04-02T16:43:00.392Z"
   },
   {
    "duration": 0,
    "start_time": "2023-04-02T16:43:00.394Z"
   },
   {
    "duration": 0,
    "start_time": "2023-04-02T16:43:00.395Z"
   },
   {
    "duration": 0,
    "start_time": "2023-04-02T16:43:00.396Z"
   },
   {
    "duration": 0,
    "start_time": "2023-04-02T16:43:00.403Z"
   },
   {
    "duration": 0,
    "start_time": "2023-04-02T16:43:00.404Z"
   },
   {
    "duration": 0,
    "start_time": "2023-04-02T16:43:00.405Z"
   },
   {
    "duration": 0,
    "start_time": "2023-04-02T16:43:00.407Z"
   },
   {
    "duration": 0,
    "start_time": "2023-04-02T16:43:00.408Z"
   },
   {
    "duration": 0,
    "start_time": "2023-04-02T16:43:00.409Z"
   },
   {
    "duration": 0,
    "start_time": "2023-04-02T16:43:00.410Z"
   },
   {
    "duration": 0,
    "start_time": "2023-04-02T16:43:00.411Z"
   },
   {
    "duration": 0,
    "start_time": "2023-04-02T16:43:00.412Z"
   },
   {
    "duration": 0,
    "start_time": "2023-04-02T16:43:00.413Z"
   },
   {
    "duration": 0,
    "start_time": "2023-04-02T16:43:00.414Z"
   },
   {
    "duration": 0,
    "start_time": "2023-04-02T16:43:00.415Z"
   },
   {
    "duration": 9,
    "start_time": "2023-04-02T16:47:10.795Z"
   },
   {
    "duration": 10,
    "start_time": "2023-04-02T16:47:13.372Z"
   },
   {
    "duration": 2153,
    "start_time": "2023-04-02T16:47:18.875Z"
   },
   {
    "duration": 2183,
    "start_time": "2023-04-02T16:47:21.031Z"
   },
   {
    "duration": 1288,
    "start_time": "2023-04-02T16:47:23.216Z"
   },
   {
    "duration": 837,
    "start_time": "2023-04-02T16:47:24.506Z"
   },
   {
    "duration": 20,
    "start_time": "2023-04-02T16:47:25.345Z"
   },
   {
    "duration": 136,
    "start_time": "2023-04-02T16:47:25.367Z"
   },
   {
    "duration": 4,
    "start_time": "2023-04-02T16:47:25.505Z"
   },
   {
    "duration": 125,
    "start_time": "2023-04-02T16:47:25.510Z"
   },
   {
    "duration": 517,
    "start_time": "2023-04-02T16:47:25.636Z"
   },
   {
    "duration": 1073,
    "start_time": "2023-04-02T16:47:26.154Z"
   },
   {
    "duration": 529,
    "start_time": "2023-04-02T16:47:27.229Z"
   },
   {
    "duration": 144,
    "start_time": "2023-04-02T16:47:27.759Z"
   },
   {
    "duration": 161,
    "start_time": "2023-04-02T16:47:27.904Z"
   },
   {
    "duration": 2,
    "start_time": "2023-04-02T16:47:28.069Z"
   },
   {
    "duration": 194,
    "start_time": "2023-04-02T16:47:28.073Z"
   },
   {
    "duration": 16,
    "start_time": "2023-04-02T16:47:28.269Z"
   },
   {
    "duration": 384,
    "start_time": "2023-04-02T16:47:28.287Z"
   },
   {
    "duration": 160,
    "start_time": "2023-04-02T16:47:28.672Z"
   },
   {
    "duration": 17,
    "start_time": "2023-04-02T16:47:28.833Z"
   },
   {
    "duration": 217,
    "start_time": "2023-04-02T16:47:28.851Z"
   },
   {
    "duration": 136,
    "start_time": "2023-04-02T16:47:29.070Z"
   },
   {
    "duration": 143,
    "start_time": "2023-04-02T16:47:29.208Z"
   },
   {
    "duration": 18,
    "start_time": "2023-04-02T16:47:29.354Z"
   },
   {
    "duration": 3,
    "start_time": "2023-04-02T16:47:29.373Z"
   },
   {
    "duration": 38,
    "start_time": "2023-04-02T16:47:29.379Z"
   },
   {
    "duration": 6,
    "start_time": "2023-04-02T16:47:29.419Z"
   },
   {
    "duration": 88,
    "start_time": "2023-04-02T16:47:29.427Z"
   },
   {
    "duration": 34,
    "start_time": "2023-04-02T16:47:29.518Z"
   },
   {
    "duration": 6,
    "start_time": "2023-04-02T16:47:29.554Z"
   },
   {
    "duration": 10,
    "start_time": "2023-04-02T16:47:29.562Z"
   },
   {
    "duration": 29,
    "start_time": "2023-04-02T16:47:29.575Z"
   },
   {
    "duration": 5,
    "start_time": "2023-04-02T16:47:29.606Z"
   },
   {
    "duration": 21,
    "start_time": "2023-04-02T16:47:29.612Z"
   },
   {
    "duration": 25,
    "start_time": "2023-04-02T16:47:29.635Z"
   },
   {
    "duration": 4,
    "start_time": "2023-04-02T16:47:29.662Z"
   },
   {
    "duration": 482,
    "start_time": "2023-04-02T16:47:29.668Z"
   },
   {
    "duration": 4,
    "start_time": "2023-04-02T16:47:30.152Z"
   },
   {
    "duration": 28,
    "start_time": "2023-04-02T16:47:30.158Z"
   },
   {
    "duration": 165,
    "start_time": "2023-04-02T16:47:30.188Z"
   },
   {
    "duration": 0,
    "start_time": "2023-04-02T16:47:30.355Z"
   },
   {
    "duration": 0,
    "start_time": "2023-04-02T16:47:30.356Z"
   },
   {
    "duration": 0,
    "start_time": "2023-04-02T16:47:30.358Z"
   },
   {
    "duration": 0,
    "start_time": "2023-04-02T16:47:30.359Z"
   },
   {
    "duration": 0,
    "start_time": "2023-04-02T16:47:30.360Z"
   },
   {
    "duration": 0,
    "start_time": "2023-04-02T16:47:30.361Z"
   },
   {
    "duration": 0,
    "start_time": "2023-04-02T16:47:30.362Z"
   },
   {
    "duration": 0,
    "start_time": "2023-04-02T16:47:30.363Z"
   },
   {
    "duration": 0,
    "start_time": "2023-04-02T16:47:30.364Z"
   },
   {
    "duration": 0,
    "start_time": "2023-04-02T16:47:30.365Z"
   },
   {
    "duration": 0,
    "start_time": "2023-04-02T16:47:30.366Z"
   },
   {
    "duration": 0,
    "start_time": "2023-04-02T16:47:30.367Z"
   },
   {
    "duration": 0,
    "start_time": "2023-04-02T16:47:30.368Z"
   },
   {
    "duration": 0,
    "start_time": "2023-04-02T16:47:30.369Z"
   },
   {
    "duration": 2140,
    "start_time": "2023-04-02T16:51:53.820Z"
   },
   {
    "duration": 2131,
    "start_time": "2023-04-02T16:51:55.963Z"
   },
   {
    "duration": 1318,
    "start_time": "2023-04-02T16:51:58.096Z"
   },
   {
    "duration": 1053,
    "start_time": "2023-04-02T16:51:59.417Z"
   },
   {
    "duration": 18,
    "start_time": "2023-04-02T16:52:00.472Z"
   },
   {
    "duration": 131,
    "start_time": "2023-04-02T16:52:00.492Z"
   },
   {
    "duration": 4,
    "start_time": "2023-04-02T16:52:00.626Z"
   },
   {
    "duration": 131,
    "start_time": "2023-04-02T16:52:00.632Z"
   },
   {
    "duration": 491,
    "start_time": "2023-04-02T16:52:00.765Z"
   },
   {
    "duration": 1055,
    "start_time": "2023-04-02T16:52:01.259Z"
   },
   {
    "duration": 505,
    "start_time": "2023-04-02T16:52:02.315Z"
   },
   {
    "duration": 137,
    "start_time": "2023-04-02T16:52:02.822Z"
   },
   {
    "duration": 163,
    "start_time": "2023-04-02T16:52:02.961Z"
   },
   {
    "duration": 4,
    "start_time": "2023-04-02T16:52:03.125Z"
   },
   {
    "duration": 181,
    "start_time": "2023-04-02T16:52:03.131Z"
   },
   {
    "duration": 16,
    "start_time": "2023-04-02T16:52:03.314Z"
   },
   {
    "duration": 375,
    "start_time": "2023-04-02T16:52:03.331Z"
   },
   {
    "duration": 156,
    "start_time": "2023-04-02T16:52:03.708Z"
   },
   {
    "duration": 15,
    "start_time": "2023-04-02T16:52:03.866Z"
   },
   {
    "duration": 215,
    "start_time": "2023-04-02T16:52:03.883Z"
   },
   {
    "duration": 138,
    "start_time": "2023-04-02T16:52:04.100Z"
   },
   {
    "duration": 125,
    "start_time": "2023-04-02T16:52:04.240Z"
   },
   {
    "duration": 17,
    "start_time": "2023-04-02T16:52:04.367Z"
   },
   {
    "duration": 17,
    "start_time": "2023-04-02T16:52:04.386Z"
   },
   {
    "duration": 19,
    "start_time": "2023-04-02T16:52:04.405Z"
   },
   {
    "duration": 5,
    "start_time": "2023-04-02T16:52:04.426Z"
   },
   {
    "duration": 75,
    "start_time": "2023-04-02T16:52:04.433Z"
   },
   {
    "duration": 29,
    "start_time": "2023-04-02T16:52:04.512Z"
   },
   {
    "duration": 5,
    "start_time": "2023-04-02T16:52:04.543Z"
   },
   {
    "duration": 13,
    "start_time": "2023-04-02T16:52:04.550Z"
   },
   {
    "duration": 5,
    "start_time": "2023-04-02T16:52:04.565Z"
   },
   {
    "duration": 33,
    "start_time": "2023-04-02T16:52:04.571Z"
   },
   {
    "duration": 14,
    "start_time": "2023-04-02T16:52:04.606Z"
   },
   {
    "duration": 195,
    "start_time": "2023-04-02T16:52:04.622Z"
   },
   {
    "duration": 117,
    "start_time": "2023-04-02T16:52:04.819Z"
   },
   {
    "duration": 0,
    "start_time": "2023-04-02T16:52:04.938Z"
   },
   {
    "duration": 0,
    "start_time": "2023-04-02T16:52:04.940Z"
   },
   {
    "duration": 0,
    "start_time": "2023-04-02T16:52:04.941Z"
   },
   {
    "duration": 0,
    "start_time": "2023-04-02T16:52:04.942Z"
   },
   {
    "duration": 0,
    "start_time": "2023-04-02T16:52:04.943Z"
   },
   {
    "duration": 0,
    "start_time": "2023-04-02T16:52:04.945Z"
   },
   {
    "duration": 0,
    "start_time": "2023-04-02T16:52:04.947Z"
   },
   {
    "duration": 0,
    "start_time": "2023-04-02T16:52:04.948Z"
   },
   {
    "duration": 0,
    "start_time": "2023-04-02T16:52:04.949Z"
   },
   {
    "duration": 0,
    "start_time": "2023-04-02T16:52:04.951Z"
   },
   {
    "duration": 0,
    "start_time": "2023-04-02T16:52:04.953Z"
   },
   {
    "duration": 0,
    "start_time": "2023-04-02T16:52:04.954Z"
   },
   {
    "duration": 0,
    "start_time": "2023-04-02T16:52:04.956Z"
   },
   {
    "duration": 0,
    "start_time": "2023-04-02T16:52:04.958Z"
   },
   {
    "duration": 0,
    "start_time": "2023-04-02T16:52:04.959Z"
   },
   {
    "duration": 0,
    "start_time": "2023-04-02T16:52:04.961Z"
   },
   {
    "duration": 0,
    "start_time": "2023-04-02T16:52:05.004Z"
   },
   {
    "duration": 809,
    "start_time": "2023-04-02T16:52:31.421Z"
   },
   {
    "duration": 6,
    "start_time": "2023-04-02T16:52:41.470Z"
   },
   {
    "duration": 4,
    "start_time": "2023-04-02T16:52:44.446Z"
   },
   {
    "duration": 27,
    "start_time": "2023-04-02T16:53:01.087Z"
   },
   {
    "duration": 4,
    "start_time": "2023-04-02T16:53:07.221Z"
   },
   {
    "duration": 84,
    "start_time": "2023-04-02T16:56:11.874Z"
   },
   {
    "duration": 4,
    "start_time": "2023-04-02T16:56:33.157Z"
   },
   {
    "duration": 2139,
    "start_time": "2023-04-02T16:57:37.686Z"
   },
   {
    "duration": 2140,
    "start_time": "2023-04-02T16:57:39.827Z"
   },
   {
    "duration": 1313,
    "start_time": "2023-04-02T16:57:41.969Z"
   },
   {
    "duration": 829,
    "start_time": "2023-04-02T16:57:43.285Z"
   },
   {
    "duration": 18,
    "start_time": "2023-04-02T16:57:44.116Z"
   },
   {
    "duration": 134,
    "start_time": "2023-04-02T16:57:44.136Z"
   },
   {
    "duration": 3,
    "start_time": "2023-04-02T16:57:44.272Z"
   },
   {
    "duration": 135,
    "start_time": "2023-04-02T16:57:44.277Z"
   },
   {
    "duration": 499,
    "start_time": "2023-04-02T16:57:44.414Z"
   },
   {
    "duration": 1037,
    "start_time": "2023-04-02T16:57:44.916Z"
   },
   {
    "duration": 526,
    "start_time": "2023-04-02T16:57:45.955Z"
   },
   {
    "duration": 144,
    "start_time": "2023-04-02T16:57:46.483Z"
   },
   {
    "duration": 153,
    "start_time": "2023-04-02T16:57:46.629Z"
   },
   {
    "duration": 3,
    "start_time": "2023-04-02T16:57:46.783Z"
   },
   {
    "duration": 202,
    "start_time": "2023-04-02T16:57:46.788Z"
   },
   {
    "duration": 22,
    "start_time": "2023-04-02T16:57:46.992Z"
   },
   {
    "duration": 394,
    "start_time": "2023-04-02T16:57:47.016Z"
   },
   {
    "duration": 158,
    "start_time": "2023-04-02T16:57:47.412Z"
   },
   {
    "duration": 16,
    "start_time": "2023-04-02T16:57:47.571Z"
   },
   {
    "duration": 210,
    "start_time": "2023-04-02T16:57:47.602Z"
   },
   {
    "duration": 145,
    "start_time": "2023-04-02T16:57:47.814Z"
   },
   {
    "duration": 140,
    "start_time": "2023-04-02T16:57:47.961Z"
   },
   {
    "duration": 17,
    "start_time": "2023-04-02T16:57:48.103Z"
   },
   {
    "duration": 26,
    "start_time": "2023-04-02T16:57:48.122Z"
   },
   {
    "duration": 46,
    "start_time": "2023-04-02T16:57:48.150Z"
   },
   {
    "duration": 36,
    "start_time": "2023-04-02T16:57:48.198Z"
   },
   {
    "duration": 74,
    "start_time": "2023-04-02T16:57:48.236Z"
   },
   {
    "duration": 31,
    "start_time": "2023-04-02T16:57:48.314Z"
   },
   {
    "duration": 8,
    "start_time": "2023-04-02T16:57:48.347Z"
   },
   {
    "duration": 28,
    "start_time": "2023-04-02T16:57:48.357Z"
   },
   {
    "duration": 29,
    "start_time": "2023-04-02T16:57:48.387Z"
   },
   {
    "duration": 19,
    "start_time": "2023-04-02T16:57:48.417Z"
   },
   {
    "duration": 57,
    "start_time": "2023-04-02T16:57:48.438Z"
   },
   {
    "duration": 201,
    "start_time": "2023-04-02T16:57:48.497Z"
   },
   {
    "duration": 4,
    "start_time": "2023-04-02T16:57:48.700Z"
   },
   {
    "duration": 775,
    "start_time": "2023-04-02T16:57:48.706Z"
   },
   {
    "duration": 77,
    "start_time": "2023-04-02T16:57:49.483Z"
   },
   {
    "duration": 4,
    "start_time": "2023-04-02T16:57:49.562Z"
   },
   {
    "duration": 23,
    "start_time": "2023-04-02T16:57:49.568Z"
   },
   {
    "duration": 1229,
    "start_time": "2023-04-02T16:57:49.593Z"
   },
   {
    "duration": 0,
    "start_time": "2023-04-02T16:57:50.824Z"
   },
   {
    "duration": 0,
    "start_time": "2023-04-02T16:57:50.825Z"
   },
   {
    "duration": 0,
    "start_time": "2023-04-02T16:57:50.826Z"
   },
   {
    "duration": 0,
    "start_time": "2023-04-02T16:57:50.828Z"
   },
   {
    "duration": 0,
    "start_time": "2023-04-02T16:57:50.829Z"
   },
   {
    "duration": 0,
    "start_time": "2023-04-02T16:57:50.830Z"
   },
   {
    "duration": 0,
    "start_time": "2023-04-02T16:57:50.832Z"
   },
   {
    "duration": 0,
    "start_time": "2023-04-02T16:57:50.833Z"
   },
   {
    "duration": 0,
    "start_time": "2023-04-02T16:57:50.835Z"
   },
   {
    "duration": 0,
    "start_time": "2023-04-02T16:57:50.836Z"
   },
   {
    "duration": 0,
    "start_time": "2023-04-02T16:57:50.838Z"
   },
   {
    "duration": 0,
    "start_time": "2023-04-02T16:57:50.839Z"
   },
   {
    "duration": 0,
    "start_time": "2023-04-02T16:57:50.841Z"
   },
   {
    "duration": 1,
    "start_time": "2023-04-02T16:57:50.842Z"
   },
   {
    "duration": 13,
    "start_time": "2023-04-02T16:59:40.706Z"
   },
   {
    "duration": 4,
    "start_time": "2023-04-02T16:59:41.299Z"
   },
   {
    "duration": 2113,
    "start_time": "2023-04-02T16:59:46.132Z"
   },
   {
    "duration": 2073,
    "start_time": "2023-04-02T16:59:48.248Z"
   },
   {
    "duration": 1339,
    "start_time": "2023-04-02T16:59:50.323Z"
   },
   {
    "duration": 913,
    "start_time": "2023-04-02T16:59:51.665Z"
   },
   {
    "duration": 30,
    "start_time": "2023-04-02T16:59:52.580Z"
   },
   {
    "duration": 148,
    "start_time": "2023-04-02T16:59:52.612Z"
   },
   {
    "duration": 4,
    "start_time": "2023-04-02T16:59:52.761Z"
   },
   {
    "duration": 139,
    "start_time": "2023-04-02T16:59:52.766Z"
   },
   {
    "duration": 502,
    "start_time": "2023-04-02T16:59:52.907Z"
   },
   {
    "duration": 1054,
    "start_time": "2023-04-02T16:59:53.411Z"
   },
   {
    "duration": 520,
    "start_time": "2023-04-02T16:59:54.467Z"
   },
   {
    "duration": 144,
    "start_time": "2023-04-02T16:59:54.989Z"
   },
   {
    "duration": 155,
    "start_time": "2023-04-02T16:59:55.135Z"
   },
   {
    "duration": 11,
    "start_time": "2023-04-02T16:59:55.292Z"
   },
   {
    "duration": 179,
    "start_time": "2023-04-02T16:59:55.304Z"
   },
   {
    "duration": 19,
    "start_time": "2023-04-02T16:59:55.485Z"
   },
   {
    "duration": 381,
    "start_time": "2023-04-02T16:59:55.506Z"
   },
   {
    "duration": 169,
    "start_time": "2023-04-02T16:59:55.889Z"
   },
   {
    "duration": 18,
    "start_time": "2023-04-02T16:59:56.060Z"
   },
   {
    "duration": 216,
    "start_time": "2023-04-02T16:59:56.079Z"
   },
   {
    "duration": 136,
    "start_time": "2023-04-02T16:59:56.297Z"
   },
   {
    "duration": 123,
    "start_time": "2023-04-02T16:59:56.435Z"
   },
   {
    "duration": 16,
    "start_time": "2023-04-02T16:59:56.560Z"
   },
   {
    "duration": 3,
    "start_time": "2023-04-02T16:59:56.577Z"
   },
   {
    "duration": 29,
    "start_time": "2023-04-02T16:59:56.581Z"
   },
   {
    "duration": 3,
    "start_time": "2023-04-02T16:59:56.612Z"
   },
   {
    "duration": 62,
    "start_time": "2023-04-02T16:59:56.617Z"
   },
   {
    "duration": 44,
    "start_time": "2023-04-02T16:59:56.683Z"
   },
   {
    "duration": 5,
    "start_time": "2023-04-02T16:59:56.728Z"
   },
   {
    "duration": 22,
    "start_time": "2023-04-02T16:59:56.734Z"
   },
   {
    "duration": 7,
    "start_time": "2023-04-02T16:59:56.757Z"
   },
   {
    "duration": 5,
    "start_time": "2023-04-02T16:59:56.766Z"
   },
   {
    "duration": 15,
    "start_time": "2023-04-02T16:59:56.772Z"
   },
   {
    "duration": 204,
    "start_time": "2023-04-02T16:59:56.789Z"
   },
   {
    "duration": 10,
    "start_time": "2023-04-02T16:59:56.996Z"
   },
   {
    "duration": 736,
    "start_time": "2023-04-02T16:59:57.007Z"
   },
   {
    "duration": 121,
    "start_time": "2023-04-02T16:59:57.745Z"
   },
   {
    "duration": 0,
    "start_time": "2023-04-02T16:59:57.868Z"
   },
   {
    "duration": 0,
    "start_time": "2023-04-02T16:59:57.869Z"
   },
   {
    "duration": 0,
    "start_time": "2023-04-02T16:59:57.870Z"
   },
   {
    "duration": 0,
    "start_time": "2023-04-02T16:59:57.871Z"
   },
   {
    "duration": 0,
    "start_time": "2023-04-02T16:59:57.872Z"
   },
   {
    "duration": 0,
    "start_time": "2023-04-02T16:59:57.873Z"
   },
   {
    "duration": 0,
    "start_time": "2023-04-02T16:59:57.874Z"
   },
   {
    "duration": 0,
    "start_time": "2023-04-02T16:59:57.875Z"
   },
   {
    "duration": 0,
    "start_time": "2023-04-02T16:59:57.876Z"
   },
   {
    "duration": 0,
    "start_time": "2023-04-02T16:59:57.877Z"
   },
   {
    "duration": 0,
    "start_time": "2023-04-02T16:59:57.878Z"
   },
   {
    "duration": 0,
    "start_time": "2023-04-02T16:59:57.879Z"
   },
   {
    "duration": 0,
    "start_time": "2023-04-02T16:59:57.880Z"
   },
   {
    "duration": 0,
    "start_time": "2023-04-02T16:59:57.903Z"
   },
   {
    "duration": 0,
    "start_time": "2023-04-02T16:59:57.904Z"
   },
   {
    "duration": 0,
    "start_time": "2023-04-02T16:59:57.906Z"
   },
   {
    "duration": 0,
    "start_time": "2023-04-02T16:59:57.907Z"
   },
   {
    "duration": 31,
    "start_time": "2023-04-02T17:03:10.204Z"
   },
   {
    "duration": 4,
    "start_time": "2023-04-02T17:03:11.435Z"
   },
   {
    "duration": 2174,
    "start_time": "2023-04-02T17:03:33.404Z"
   },
   {
    "duration": 2131,
    "start_time": "2023-04-02T17:03:35.581Z"
   },
   {
    "duration": 1249,
    "start_time": "2023-04-02T17:03:37.715Z"
   },
   {
    "duration": 841,
    "start_time": "2023-04-02T17:03:38.966Z"
   },
   {
    "duration": 18,
    "start_time": "2023-04-02T17:03:39.808Z"
   },
   {
    "duration": 126,
    "start_time": "2023-04-02T17:03:39.828Z"
   },
   {
    "duration": 3,
    "start_time": "2023-04-02T17:03:39.956Z"
   },
   {
    "duration": 135,
    "start_time": "2023-04-02T17:03:39.961Z"
   },
   {
    "duration": 492,
    "start_time": "2023-04-02T17:03:40.102Z"
   },
   {
    "duration": 995,
    "start_time": "2023-04-02T17:03:40.597Z"
   },
   {
    "duration": 571,
    "start_time": "2023-04-02T17:03:41.593Z"
   },
   {
    "duration": 132,
    "start_time": "2023-04-02T17:03:42.166Z"
   },
   {
    "duration": 160,
    "start_time": "2023-04-02T17:03:42.303Z"
   },
   {
    "duration": 2,
    "start_time": "2023-04-02T17:03:42.465Z"
   },
   {
    "duration": 180,
    "start_time": "2023-04-02T17:03:42.469Z"
   },
   {
    "duration": 16,
    "start_time": "2023-04-02T17:03:42.650Z"
   },
   {
    "duration": 365,
    "start_time": "2023-04-02T17:03:42.667Z"
   },
   {
    "duration": 156,
    "start_time": "2023-04-02T17:03:43.033Z"
   },
   {
    "duration": 16,
    "start_time": "2023-04-02T17:03:43.190Z"
   },
   {
    "duration": 212,
    "start_time": "2023-04-02T17:03:43.208Z"
   },
   {
    "duration": 136,
    "start_time": "2023-04-02T17:03:43.422Z"
   },
   {
    "duration": 129,
    "start_time": "2023-04-02T17:03:43.560Z"
   },
   {
    "duration": 18,
    "start_time": "2023-04-02T17:03:43.691Z"
   },
   {
    "duration": 3,
    "start_time": "2023-04-02T17:03:43.711Z"
   },
   {
    "duration": 19,
    "start_time": "2023-04-02T17:03:43.716Z"
   },
   {
    "duration": 5,
    "start_time": "2023-04-02T17:03:43.736Z"
   },
   {
    "duration": 81,
    "start_time": "2023-04-02T17:03:43.743Z"
   },
   {
    "duration": 30,
    "start_time": "2023-04-02T17:03:43.828Z"
   },
   {
    "duration": 4,
    "start_time": "2023-04-02T17:03:43.860Z"
   },
   {
    "duration": 16,
    "start_time": "2023-04-02T17:03:43.865Z"
   },
   {
    "duration": 21,
    "start_time": "2023-04-02T17:03:43.883Z"
   },
   {
    "duration": 4,
    "start_time": "2023-04-02T17:03:43.905Z"
   },
   {
    "duration": 20,
    "start_time": "2023-04-02T17:03:43.910Z"
   },
   {
    "duration": 203,
    "start_time": "2023-04-02T17:03:43.932Z"
   },
   {
    "duration": 4,
    "start_time": "2023-04-02T17:03:44.137Z"
   },
   {
    "duration": 739,
    "start_time": "2023-04-02T17:03:44.143Z"
   },
   {
    "duration": 124,
    "start_time": "2023-04-02T17:03:44.884Z"
   },
   {
    "duration": 0,
    "start_time": "2023-04-02T17:03:45.010Z"
   },
   {
    "duration": 0,
    "start_time": "2023-04-02T17:03:45.011Z"
   },
   {
    "duration": 0,
    "start_time": "2023-04-02T17:03:45.012Z"
   },
   {
    "duration": 0,
    "start_time": "2023-04-02T17:03:45.013Z"
   },
   {
    "duration": 0,
    "start_time": "2023-04-02T17:03:45.014Z"
   },
   {
    "duration": 0,
    "start_time": "2023-04-02T17:03:45.015Z"
   },
   {
    "duration": 0,
    "start_time": "2023-04-02T17:03:45.017Z"
   },
   {
    "duration": 0,
    "start_time": "2023-04-02T17:03:45.018Z"
   },
   {
    "duration": 0,
    "start_time": "2023-04-02T17:03:45.019Z"
   },
   {
    "duration": 0,
    "start_time": "2023-04-02T17:03:45.020Z"
   },
   {
    "duration": 0,
    "start_time": "2023-04-02T17:03:45.021Z"
   },
   {
    "duration": 0,
    "start_time": "2023-04-02T17:03:45.022Z"
   },
   {
    "duration": 0,
    "start_time": "2023-04-02T17:03:45.023Z"
   },
   {
    "duration": 0,
    "start_time": "2023-04-02T17:03:45.024Z"
   },
   {
    "duration": 0,
    "start_time": "2023-04-02T17:03:45.025Z"
   },
   {
    "duration": 0,
    "start_time": "2023-04-02T17:03:45.026Z"
   },
   {
    "duration": 0,
    "start_time": "2023-04-02T17:03:45.027Z"
   },
   {
    "duration": 787,
    "start_time": "2023-04-02T17:07:30.739Z"
   },
   {
    "duration": 5,
    "start_time": "2023-04-02T17:07:33.316Z"
   },
   {
    "duration": 2099,
    "start_time": "2023-04-02T17:13:15.866Z"
   },
   {
    "duration": 2042,
    "start_time": "2023-04-02T17:13:17.967Z"
   },
   {
    "duration": 1287,
    "start_time": "2023-04-02T17:13:20.012Z"
   },
   {
    "duration": 929,
    "start_time": "2023-04-02T17:13:21.302Z"
   },
   {
    "duration": 17,
    "start_time": "2023-04-02T17:13:22.233Z"
   },
   {
    "duration": 136,
    "start_time": "2023-04-02T17:13:22.252Z"
   },
   {
    "duration": 3,
    "start_time": "2023-04-02T17:13:22.389Z"
   },
   {
    "duration": 126,
    "start_time": "2023-04-02T17:13:22.394Z"
   },
   {
    "duration": 525,
    "start_time": "2023-04-02T17:13:22.522Z"
   },
   {
    "duration": 1063,
    "start_time": "2023-04-02T17:13:23.049Z"
   },
   {
    "duration": 537,
    "start_time": "2023-04-02T17:13:24.113Z"
   },
   {
    "duration": 151,
    "start_time": "2023-04-02T17:13:24.652Z"
   },
   {
    "duration": 158,
    "start_time": "2023-04-02T17:13:24.805Z"
   },
   {
    "duration": 2,
    "start_time": "2023-04-02T17:13:24.967Z"
   },
   {
    "duration": 188,
    "start_time": "2023-04-02T17:13:24.971Z"
   },
   {
    "duration": 16,
    "start_time": "2023-04-02T17:13:25.161Z"
   },
   {
    "duration": 380,
    "start_time": "2023-04-02T17:13:25.178Z"
   },
   {
    "duration": 162,
    "start_time": "2023-04-02T17:13:25.560Z"
   },
   {
    "duration": 16,
    "start_time": "2023-04-02T17:13:25.724Z"
   },
   {
    "duration": 223,
    "start_time": "2023-04-02T17:13:25.743Z"
   },
   {
    "duration": 145,
    "start_time": "2023-04-02T17:13:25.968Z"
   },
   {
    "duration": 132,
    "start_time": "2023-04-02T17:13:26.115Z"
   },
   {
    "duration": 18,
    "start_time": "2023-04-02T17:13:26.248Z"
   },
   {
    "duration": 2,
    "start_time": "2023-04-02T17:13:26.268Z"
   },
   {
    "duration": 35,
    "start_time": "2023-04-02T17:13:26.272Z"
   },
   {
    "duration": 4,
    "start_time": "2023-04-02T17:13:26.309Z"
   },
   {
    "duration": 63,
    "start_time": "2023-04-02T17:13:26.315Z"
   },
   {
    "duration": 53,
    "start_time": "2023-04-02T17:13:26.380Z"
   },
   {
    "duration": 6,
    "start_time": "2023-04-02T17:13:26.435Z"
   },
   {
    "duration": 13,
    "start_time": "2023-04-02T17:13:26.443Z"
   },
   {
    "duration": 4,
    "start_time": "2023-04-02T17:13:26.458Z"
   },
   {
    "duration": 6,
    "start_time": "2023-04-02T17:13:26.463Z"
   },
   {
    "duration": 42,
    "start_time": "2023-04-02T17:13:26.470Z"
   },
   {
    "duration": 209,
    "start_time": "2023-04-02T17:13:26.514Z"
   },
   {
    "duration": 4,
    "start_time": "2023-04-02T17:13:26.725Z"
   },
   {
    "duration": 763,
    "start_time": "2023-04-02T17:13:26.730Z"
   },
   {
    "duration": 10,
    "start_time": "2023-04-02T17:13:27.495Z"
   },
   {
    "duration": 3,
    "start_time": "2023-04-02T17:13:27.507Z"
   },
   {
    "duration": 21600,
    "start_time": "2023-04-02T17:13:27.512Z"
   },
   {
    "duration": 225,
    "start_time": "2023-04-02T17:13:49.204Z"
   },
   {
    "duration": 0,
    "start_time": "2023-04-02T17:13:49.431Z"
   },
   {
    "duration": 0,
    "start_time": "2023-04-02T17:13:49.432Z"
   },
   {
    "duration": 0,
    "start_time": "2023-04-02T17:13:49.433Z"
   },
   {
    "duration": 0,
    "start_time": "2023-04-02T17:13:49.434Z"
   },
   {
    "duration": 0,
    "start_time": "2023-04-02T17:13:49.435Z"
   },
   {
    "duration": 0,
    "start_time": "2023-04-02T17:13:49.436Z"
   },
   {
    "duration": 0,
    "start_time": "2023-04-02T17:13:49.437Z"
   },
   {
    "duration": 0,
    "start_time": "2023-04-02T17:13:49.438Z"
   },
   {
    "duration": 0,
    "start_time": "2023-04-02T17:13:49.439Z"
   },
   {
    "duration": 0,
    "start_time": "2023-04-02T17:13:49.441Z"
   },
   {
    "duration": 0,
    "start_time": "2023-04-02T17:13:49.442Z"
   },
   {
    "duration": 23,
    "start_time": "2023-04-02T17:17:02.389Z"
   },
   {
    "duration": 144,
    "start_time": "2023-04-02T17:17:11.276Z"
   },
   {
    "duration": 2,
    "start_time": "2023-04-02T17:17:14.930Z"
   },
   {
    "duration": 2,
    "start_time": "2023-04-02T17:17:15.623Z"
   },
   {
    "duration": 2,
    "start_time": "2023-04-02T17:17:18.283Z"
   },
   {
    "duration": 16936,
    "start_time": "2023-04-02T17:17:19.877Z"
   },
   {
    "duration": 2474,
    "start_time": "2023-04-02T17:17:54.135Z"
   },
   {
    "duration": 3,
    "start_time": "2023-04-02T17:18:02.435Z"
   },
   {
    "duration": 6350,
    "start_time": "2023-04-02T17:18:03.014Z"
   },
   {
    "duration": 94,
    "start_time": "2023-04-02T17:18:09.366Z"
   },
   {
    "duration": 19,
    "start_time": "2023-04-02T17:18:22.204Z"
   },
   {
    "duration": 2525,
    "start_time": "2023-04-02T17:18:25.744Z"
   },
   {
    "duration": 4,
    "start_time": "2023-04-02T17:22:50.127Z"
   },
   {
    "duration": 26,
    "start_time": "2023-04-02T17:23:32.426Z"
   },
   {
    "duration": 23,
    "start_time": "2023-04-02T17:25:49.004Z"
   },
   {
    "duration": 20,
    "start_time": "2023-04-02T17:27:08.884Z"
   },
   {
    "duration": 18,
    "start_time": "2023-04-02T17:33:18.607Z"
   },
   {
    "duration": 2076,
    "start_time": "2023-04-02T17:33:38.481Z"
   },
   {
    "duration": 2174,
    "start_time": "2023-04-02T17:33:40.559Z"
   },
   {
    "duration": 1220,
    "start_time": "2023-04-02T17:33:42.736Z"
   },
   {
    "duration": 844,
    "start_time": "2023-04-02T17:33:43.958Z"
   },
   {
    "duration": 17,
    "start_time": "2023-04-02T17:33:44.805Z"
   },
   {
    "duration": 133,
    "start_time": "2023-04-02T17:33:44.823Z"
   },
   {
    "duration": 3,
    "start_time": "2023-04-02T17:33:44.958Z"
   },
   {
    "duration": 131,
    "start_time": "2023-04-02T17:33:44.962Z"
   },
   {
    "duration": 518,
    "start_time": "2023-04-02T17:33:45.095Z"
   },
   {
    "duration": 1057,
    "start_time": "2023-04-02T17:33:45.615Z"
   },
   {
    "duration": 554,
    "start_time": "2023-04-02T17:33:46.674Z"
   },
   {
    "duration": 151,
    "start_time": "2023-04-02T17:33:47.230Z"
   },
   {
    "duration": 163,
    "start_time": "2023-04-02T17:33:47.383Z"
   },
   {
    "duration": 3,
    "start_time": "2023-04-02T17:33:47.549Z"
   },
   {
    "duration": 196,
    "start_time": "2023-04-02T17:33:47.553Z"
   },
   {
    "duration": 17,
    "start_time": "2023-04-02T17:33:47.751Z"
   },
   {
    "duration": 390,
    "start_time": "2023-04-02T17:33:47.770Z"
   },
   {
    "duration": 154,
    "start_time": "2023-04-02T17:33:48.162Z"
   },
   {
    "duration": 19,
    "start_time": "2023-04-02T17:33:48.318Z"
   },
   {
    "duration": 217,
    "start_time": "2023-04-02T17:33:48.340Z"
   },
   {
    "duration": 142,
    "start_time": "2023-04-02T17:33:48.559Z"
   },
   {
    "duration": 133,
    "start_time": "2023-04-02T17:33:48.703Z"
   },
   {
    "duration": 16,
    "start_time": "2023-04-02T17:33:48.838Z"
   },
   {
    "duration": 2,
    "start_time": "2023-04-02T17:33:48.856Z"
   },
   {
    "duration": 22,
    "start_time": "2023-04-02T17:33:48.859Z"
   },
   {
    "duration": 4,
    "start_time": "2023-04-02T17:33:48.883Z"
   },
   {
    "duration": 64,
    "start_time": "2023-04-02T17:33:48.902Z"
   },
   {
    "duration": 43,
    "start_time": "2023-04-02T17:33:48.968Z"
   },
   {
    "duration": 4,
    "start_time": "2023-04-02T17:33:49.013Z"
   },
   {
    "duration": 23,
    "start_time": "2023-04-02T17:33:49.019Z"
   },
   {
    "duration": 6,
    "start_time": "2023-04-02T17:33:49.043Z"
   },
   {
    "duration": 20,
    "start_time": "2023-04-02T17:33:49.050Z"
   },
   {
    "duration": 31,
    "start_time": "2023-04-02T17:33:49.072Z"
   },
   {
    "duration": 182,
    "start_time": "2023-04-02T17:33:49.105Z"
   },
   {
    "duration": 3,
    "start_time": "2023-04-02T17:33:49.289Z"
   },
   {
    "duration": 754,
    "start_time": "2023-04-02T17:33:49.294Z"
   },
   {
    "duration": 4,
    "start_time": "2023-04-02T17:33:50.050Z"
   },
   {
    "duration": 17,
    "start_time": "2023-04-02T17:33:50.055Z"
   },
   {
    "duration": 19830,
    "start_time": "2023-04-02T17:33:50.074Z"
   },
   {
    "duration": 223,
    "start_time": "2023-04-02T17:34:09.906Z"
   },
   {
    "duration": 0,
    "start_time": "2023-04-02T17:34:10.131Z"
   },
   {
    "duration": 0,
    "start_time": "2023-04-02T17:34:10.132Z"
   },
   {
    "duration": 0,
    "start_time": "2023-04-02T17:34:10.133Z"
   },
   {
    "duration": 0,
    "start_time": "2023-04-02T17:34:10.134Z"
   },
   {
    "duration": 0,
    "start_time": "2023-04-02T17:34:10.135Z"
   },
   {
    "duration": 0,
    "start_time": "2023-04-02T17:34:10.136Z"
   },
   {
    "duration": 0,
    "start_time": "2023-04-02T17:34:10.137Z"
   },
   {
    "duration": 0,
    "start_time": "2023-04-02T17:34:10.138Z"
   },
   {
    "duration": 0,
    "start_time": "2023-04-02T17:34:10.139Z"
   },
   {
    "duration": 0,
    "start_time": "2023-04-02T17:34:10.140Z"
   },
   {
    "duration": 19,
    "start_time": "2023-04-02T17:36:11.645Z"
   },
   {
    "duration": 20,
    "start_time": "2023-04-02T17:36:17.387Z"
   },
   {
    "duration": 19,
    "start_time": "2023-04-02T17:41:01.387Z"
   },
   {
    "duration": 22,
    "start_time": "2023-04-02T17:41:06.131Z"
   },
   {
    "duration": 2092,
    "start_time": "2023-04-02T17:41:44.350Z"
   },
   {
    "duration": 2084,
    "start_time": "2023-04-02T17:41:46.444Z"
   },
   {
    "duration": 1250,
    "start_time": "2023-04-02T17:41:48.530Z"
   },
   {
    "duration": 831,
    "start_time": "2023-04-02T17:41:49.783Z"
   },
   {
    "duration": 16,
    "start_time": "2023-04-02T17:41:50.616Z"
   },
   {
    "duration": 128,
    "start_time": "2023-04-02T17:41:50.634Z"
   },
   {
    "duration": 3,
    "start_time": "2023-04-02T17:41:50.764Z"
   },
   {
    "duration": 124,
    "start_time": "2023-04-02T17:41:50.769Z"
   },
   {
    "duration": 491,
    "start_time": "2023-04-02T17:41:50.895Z"
   },
   {
    "duration": 1041,
    "start_time": "2023-04-02T17:41:51.388Z"
   },
   {
    "duration": 516,
    "start_time": "2023-04-02T17:41:52.431Z"
   },
   {
    "duration": 138,
    "start_time": "2023-04-02T17:41:52.949Z"
   },
   {
    "duration": 163,
    "start_time": "2023-04-02T17:41:53.088Z"
   },
   {
    "duration": 3,
    "start_time": "2023-04-02T17:41:53.253Z"
   },
   {
    "duration": 185,
    "start_time": "2023-04-02T17:41:53.257Z"
   },
   {
    "duration": 17,
    "start_time": "2023-04-02T17:41:53.444Z"
   },
   {
    "duration": 405,
    "start_time": "2023-04-02T17:41:53.463Z"
   },
   {
    "duration": 157,
    "start_time": "2023-04-02T17:41:53.870Z"
   },
   {
    "duration": 16,
    "start_time": "2023-04-02T17:41:54.030Z"
   },
   {
    "duration": 226,
    "start_time": "2023-04-02T17:41:54.048Z"
   },
   {
    "duration": 136,
    "start_time": "2023-04-02T17:41:54.277Z"
   },
   {
    "duration": 135,
    "start_time": "2023-04-02T17:41:54.415Z"
   },
   {
    "duration": 17,
    "start_time": "2023-04-02T17:41:54.552Z"
   },
   {
    "duration": 4,
    "start_time": "2023-04-02T17:41:54.571Z"
   },
   {
    "duration": 35,
    "start_time": "2023-04-02T17:41:54.576Z"
   },
   {
    "duration": 4,
    "start_time": "2023-04-02T17:41:54.613Z"
   },
   {
    "duration": 66,
    "start_time": "2023-04-02T17:41:54.618Z"
   },
   {
    "duration": 39,
    "start_time": "2023-04-02T17:41:54.687Z"
   },
   {
    "duration": 4,
    "start_time": "2023-04-02T17:41:54.728Z"
   },
   {
    "duration": 11,
    "start_time": "2023-04-02T17:41:54.734Z"
   },
   {
    "duration": 4,
    "start_time": "2023-04-02T17:41:54.746Z"
   },
   {
    "duration": 44,
    "start_time": "2023-04-02T17:41:54.751Z"
   },
   {
    "duration": 32,
    "start_time": "2023-04-02T17:41:54.797Z"
   },
   {
    "duration": 188,
    "start_time": "2023-04-02T17:41:54.831Z"
   },
   {
    "duration": 4,
    "start_time": "2023-04-02T17:41:55.021Z"
   },
   {
    "duration": 809,
    "start_time": "2023-04-02T17:41:55.027Z"
   },
   {
    "duration": 4,
    "start_time": "2023-04-02T17:41:55.838Z"
   },
   {
    "duration": 11,
    "start_time": "2023-04-02T17:41:55.844Z"
   },
   {
    "duration": 19951,
    "start_time": "2023-04-02T17:41:55.857Z"
   },
   {
    "duration": 310,
    "start_time": "2023-04-02T17:42:15.810Z"
   },
   {
    "duration": 0,
    "start_time": "2023-04-02T17:42:16.122Z"
   },
   {
    "duration": 0,
    "start_time": "2023-04-02T17:42:16.123Z"
   },
   {
    "duration": 0,
    "start_time": "2023-04-02T17:42:16.125Z"
   },
   {
    "duration": 0,
    "start_time": "2023-04-02T17:42:16.126Z"
   },
   {
    "duration": 0,
    "start_time": "2023-04-02T17:42:16.128Z"
   },
   {
    "duration": 0,
    "start_time": "2023-04-02T17:42:16.129Z"
   },
   {
    "duration": 0,
    "start_time": "2023-04-02T17:42:16.131Z"
   },
   {
    "duration": 0,
    "start_time": "2023-04-02T17:42:16.132Z"
   },
   {
    "duration": 0,
    "start_time": "2023-04-02T17:42:16.133Z"
   },
   {
    "duration": 0,
    "start_time": "2023-04-02T17:42:16.135Z"
   },
   {
    "duration": 25,
    "start_time": "2023-04-02T17:43:14.622Z"
   },
   {
    "duration": 20,
    "start_time": "2023-04-02T17:46:27.887Z"
   },
   {
    "duration": 2114,
    "start_time": "2023-04-02T17:47:55.291Z"
   },
   {
    "duration": 2044,
    "start_time": "2023-04-02T17:47:57.407Z"
   },
   {
    "duration": 1405,
    "start_time": "2023-04-02T17:47:59.453Z"
   },
   {
    "duration": 892,
    "start_time": "2023-04-02T17:48:00.860Z"
   },
   {
    "duration": 20,
    "start_time": "2023-04-02T17:48:01.755Z"
   },
   {
    "duration": 190,
    "start_time": "2023-04-02T17:48:01.777Z"
   },
   {
    "duration": 4,
    "start_time": "2023-04-02T17:48:01.969Z"
   },
   {
    "duration": 149,
    "start_time": "2023-04-02T17:48:01.976Z"
   },
   {
    "duration": 519,
    "start_time": "2023-04-02T17:48:02.127Z"
   },
   {
    "duration": 1052,
    "start_time": "2023-04-02T17:48:02.648Z"
   },
   {
    "duration": 544,
    "start_time": "2023-04-02T17:48:03.702Z"
   },
   {
    "duration": 143,
    "start_time": "2023-04-02T17:48:04.248Z"
   },
   {
    "duration": 163,
    "start_time": "2023-04-02T17:48:04.392Z"
   },
   {
    "duration": 2,
    "start_time": "2023-04-02T17:48:04.559Z"
   },
   {
    "duration": 196,
    "start_time": "2023-04-02T17:48:04.563Z"
   },
   {
    "duration": 15,
    "start_time": "2023-04-02T17:48:04.762Z"
   },
   {
    "duration": 392,
    "start_time": "2023-04-02T17:48:04.779Z"
   },
   {
    "duration": 162,
    "start_time": "2023-04-02T17:48:05.173Z"
   },
   {
    "duration": 24,
    "start_time": "2023-04-02T17:48:05.337Z"
   },
   {
    "duration": 215,
    "start_time": "2023-04-02T17:48:05.365Z"
   },
   {
    "duration": 143,
    "start_time": "2023-04-02T17:48:05.582Z"
   },
   {
    "duration": 136,
    "start_time": "2023-04-02T17:48:05.727Z"
   },
   {
    "duration": 16,
    "start_time": "2023-04-02T17:48:05.865Z"
   },
   {
    "duration": 5,
    "start_time": "2023-04-02T17:48:05.883Z"
   },
   {
    "duration": 29,
    "start_time": "2023-04-02T17:48:05.890Z"
   },
   {
    "duration": 4,
    "start_time": "2023-04-02T17:48:05.921Z"
   },
   {
    "duration": 70,
    "start_time": "2023-04-02T17:48:05.926Z"
   },
   {
    "duration": 37,
    "start_time": "2023-04-02T17:48:06.003Z"
   },
   {
    "duration": 5,
    "start_time": "2023-04-02T17:48:06.042Z"
   },
   {
    "duration": 14,
    "start_time": "2023-04-02T17:48:06.049Z"
   },
   {
    "duration": 5,
    "start_time": "2023-04-02T17:48:06.065Z"
   },
   {
    "duration": 33,
    "start_time": "2023-04-02T17:48:06.071Z"
   },
   {
    "duration": 18,
    "start_time": "2023-04-02T17:48:06.106Z"
   },
   {
    "duration": 195,
    "start_time": "2023-04-02T17:48:06.126Z"
   },
   {
    "duration": 4,
    "start_time": "2023-04-02T17:48:06.323Z"
   },
   {
    "duration": 459,
    "start_time": "2023-04-02T17:48:06.329Z"
   },
   {
    "duration": 4,
    "start_time": "2023-04-02T17:48:06.790Z"
   },
   {
    "duration": 13,
    "start_time": "2023-04-02T17:48:06.796Z"
   },
   {
    "duration": 24594,
    "start_time": "2023-04-02T17:48:06.811Z"
   },
   {
    "duration": 9,
    "start_time": "2023-04-02T17:48:31.408Z"
   },
   {
    "duration": 252,
    "start_time": "2023-04-02T17:48:31.507Z"
   },
   {
    "duration": 2,
    "start_time": "2023-04-02T17:48:31.761Z"
   },
   {
    "duration": 53,
    "start_time": "2023-04-02T17:48:31.765Z"
   },
   {
    "duration": 38793,
    "start_time": "2023-04-02T17:48:31.819Z"
   },
   {
    "duration": 2507,
    "start_time": "2023-04-02T17:49:10.615Z"
   },
   {
    "duration": 3,
    "start_time": "2023-04-02T17:49:13.124Z"
   },
   {
    "duration": 6682,
    "start_time": "2023-04-02T17:49:13.128Z"
   },
   {
    "duration": 102,
    "start_time": "2023-04-02T17:49:19.812Z"
   },
   {
    "duration": 2740,
    "start_time": "2023-04-02T17:49:19.916Z"
   },
   {
    "duration": 2614,
    "start_time": "2023-04-02T17:49:22.658Z"
   },
   {
    "duration": 14702,
    "start_time": "2023-04-03T12:49:32.978Z"
   },
   {
    "duration": 38611,
    "start_time": "2023-04-03T12:49:47.682Z"
   },
   {
    "duration": 6198,
    "start_time": "2023-04-03T12:50:26.294Z"
   },
   {
    "duration": 11468,
    "start_time": "2023-04-03T12:50:32.511Z"
   },
   {
    "duration": 135,
    "start_time": "2023-04-03T12:50:43.982Z"
   },
   {
    "duration": 891,
    "start_time": "2023-04-03T12:50:44.138Z"
   },
   {
    "duration": 26,
    "start_time": "2023-04-03T12:50:45.077Z"
   },
   {
    "duration": 935,
    "start_time": "2023-04-03T12:50:45.108Z"
   },
   {
    "duration": 3353,
    "start_time": "2023-04-03T12:50:46.044Z"
   },
   {
    "duration": 6698,
    "start_time": "2023-04-03T12:50:49.407Z"
   },
   {
    "duration": 2792,
    "start_time": "2023-04-03T12:50:56.125Z"
   },
   {
    "duration": 1072,
    "start_time": "2023-04-03T12:50:58.999Z"
   },
   {
    "duration": 934,
    "start_time": "2023-04-03T12:51:00.073Z"
   },
   {
    "duration": 59,
    "start_time": "2023-04-03T12:51:01.026Z"
   },
   {
    "duration": 1983,
    "start_time": "2023-04-03T12:51:01.090Z"
   },
   {
    "duration": 153,
    "start_time": "2023-04-03T12:51:03.081Z"
   },
   {
    "duration": 2721,
    "start_time": "2023-04-03T12:51:03.276Z"
   },
   {
    "duration": 1081,
    "start_time": "2023-04-03T12:51:06.012Z"
   },
   {
    "duration": 71,
    "start_time": "2023-04-03T12:51:07.114Z"
   },
   {
    "duration": 1415,
    "start_time": "2023-04-03T12:51:07.196Z"
   },
   {
    "duration": 866,
    "start_time": "2023-04-03T12:51:08.627Z"
   },
   {
    "duration": 398,
    "start_time": "2023-04-03T12:51:09.503Z"
   },
   {
    "duration": 90,
    "start_time": "2023-04-03T12:51:09.904Z"
   },
   {
    "duration": 175,
    "start_time": "2023-04-03T12:51:09.998Z"
   },
   {
    "duration": 322,
    "start_time": "2023-04-03T12:51:10.175Z"
   },
   {
    "duration": 83,
    "start_time": "2023-04-03T12:51:10.499Z"
   },
   {
    "duration": 687,
    "start_time": "2023-04-03T12:51:10.584Z"
   },
   {
    "duration": 212,
    "start_time": "2023-04-03T12:51:11.273Z"
   },
   {
    "duration": 90,
    "start_time": "2023-04-03T12:51:11.499Z"
   },
   {
    "duration": 403,
    "start_time": "2023-04-03T12:51:11.594Z"
   },
   {
    "duration": 76,
    "start_time": "2023-04-03T12:51:11.999Z"
   },
   {
    "duration": 296,
    "start_time": "2023-04-03T12:51:12.080Z"
   },
   {
    "duration": 408,
    "start_time": "2023-04-03T12:51:12.378Z"
   },
   {
    "duration": 1504,
    "start_time": "2023-04-03T12:51:12.793Z"
   },
   {
    "duration": 7,
    "start_time": "2023-04-03T12:51:14.375Z"
   },
   {
    "duration": 4300,
    "start_time": "2023-04-03T12:51:14.485Z"
   },
   {
    "duration": 9,
    "start_time": "2023-04-03T12:51:18.796Z"
   },
   {
    "duration": 270,
    "start_time": "2023-04-03T12:51:18.807Z"
   },
   {
    "duration": 36203,
    "start_time": "2023-04-03T12:51:19.078Z"
   },
   {
    "duration": 14,
    "start_time": "2023-04-03T12:51:55.290Z"
   },
   {
    "duration": 1105,
    "start_time": "2023-04-03T12:51:55.374Z"
   },
   {
    "duration": 11,
    "start_time": "2023-04-03T12:51:56.486Z"
   },
   {
    "duration": 165,
    "start_time": "2023-04-03T12:51:56.512Z"
   },
   {
    "duration": 95710,
    "start_time": "2023-04-03T12:51:56.681Z"
   },
   {
    "duration": 0,
    "start_time": "2023-04-03T12:53:32.393Z"
   },
   {
    "duration": 0,
    "start_time": "2023-04-03T12:53:32.479Z"
   },
   {
    "duration": 0,
    "start_time": "2023-04-03T12:53:32.481Z"
   },
   {
    "duration": 0,
    "start_time": "2023-04-03T12:53:32.482Z"
   },
   {
    "duration": 0,
    "start_time": "2023-04-03T12:53:32.482Z"
   },
   {
    "duration": 0,
    "start_time": "2023-04-03T12:53:32.483Z"
   },
   {
    "duration": 12282,
    "start_time": "2023-04-03T12:54:25.007Z"
   },
   {
    "duration": 13186,
    "start_time": "2023-04-03T12:54:37.291Z"
   },
   {
    "duration": 5898,
    "start_time": "2023-04-03T12:54:50.479Z"
   },
   {
    "duration": 5496,
    "start_time": "2023-04-03T12:54:56.379Z"
   },
   {
    "duration": 134,
    "start_time": "2023-04-03T12:55:01.882Z"
   },
   {
    "duration": 897,
    "start_time": "2023-04-03T12:55:02.104Z"
   },
   {
    "duration": 9,
    "start_time": "2023-04-03T12:55:03.071Z"
   },
   {
    "duration": 1311,
    "start_time": "2023-04-03T12:55:03.082Z"
   },
   {
    "duration": 3198,
    "start_time": "2023-04-03T12:55:04.398Z"
   },
   {
    "duration": 5891,
    "start_time": "2023-04-03T12:55:07.602Z"
   },
   {
    "duration": 2879,
    "start_time": "2023-04-03T12:55:13.499Z"
   },
   {
    "duration": 1098,
    "start_time": "2023-04-03T12:55:16.399Z"
   },
   {
    "duration": 1393,
    "start_time": "2023-04-03T12:55:17.499Z"
   },
   {
    "duration": 6,
    "start_time": "2023-04-03T12:55:18.899Z"
   },
   {
    "duration": 1601,
    "start_time": "2023-04-03T12:55:18.972Z"
   },
   {
    "duration": 26,
    "start_time": "2023-04-03T12:55:20.575Z"
   },
   {
    "duration": 2706,
    "start_time": "2023-04-03T12:55:20.672Z"
   },
   {
    "duration": 1009,
    "start_time": "2023-04-03T12:55:23.380Z"
   },
   {
    "duration": 203,
    "start_time": "2023-04-03T12:55:24.398Z"
   },
   {
    "duration": 868,
    "start_time": "2023-04-03T12:55:24.609Z"
   },
   {
    "duration": 699,
    "start_time": "2023-04-03T12:55:25.478Z"
   },
   {
    "duration": 817,
    "start_time": "2023-04-03T12:55:26.183Z"
   },
   {
    "duration": 77,
    "start_time": "2023-04-03T12:55:27.005Z"
   },
   {
    "duration": 93,
    "start_time": "2023-04-03T12:55:27.088Z"
   },
   {
    "duration": 287,
    "start_time": "2023-04-03T12:55:27.202Z"
   },
   {
    "duration": 283,
    "start_time": "2023-04-03T12:55:27.490Z"
   },
   {
    "duration": 327,
    "start_time": "2023-04-03T12:55:27.774Z"
   },
   {
    "duration": 118,
    "start_time": "2023-04-03T12:55:28.171Z"
   },
   {
    "duration": 173,
    "start_time": "2023-04-03T12:55:28.298Z"
   },
   {
    "duration": 225,
    "start_time": "2023-04-03T12:55:28.473Z"
   },
   {
    "duration": 375,
    "start_time": "2023-04-03T12:55:28.707Z"
   },
   {
    "duration": 394,
    "start_time": "2023-04-03T12:55:29.083Z"
   },
   {
    "duration": 298,
    "start_time": "2023-04-03T12:55:29.487Z"
   },
   {
    "duration": 1418,
    "start_time": "2023-04-03T12:55:29.791Z"
   },
   {
    "duration": 7,
    "start_time": "2023-04-03T12:55:31.275Z"
   },
   {
    "duration": 3304,
    "start_time": "2023-04-03T12:55:31.283Z"
   },
   {
    "duration": 17,
    "start_time": "2023-04-03T12:55:34.592Z"
   },
   {
    "duration": 301,
    "start_time": "2023-04-03T12:55:34.616Z"
   },
   {
    "duration": 39602,
    "start_time": "2023-04-03T12:55:34.972Z"
   },
   {
    "duration": 30,
    "start_time": "2023-04-03T12:56:14.575Z"
   },
   {
    "duration": 1371,
    "start_time": "2023-04-03T12:56:14.610Z"
   },
   {
    "duration": 16,
    "start_time": "2023-04-03T12:56:15.993Z"
   },
   {
    "duration": 1010,
    "start_time": "2023-04-03T12:56:16.079Z"
   },
   {
    "duration": 2803,
    "start_time": "2023-04-03T19:44:36.605Z"
   },
   {
    "duration": 8111,
    "start_time": "2023-04-03T19:44:39.411Z"
   },
   {
    "duration": 1590,
    "start_time": "2023-04-03T19:44:47.525Z"
   },
   {
    "duration": 1294,
    "start_time": "2023-04-03T19:44:49.117Z"
   },
   {
    "duration": 18,
    "start_time": "2023-04-03T19:44:50.414Z"
   },
   {
    "duration": 176,
    "start_time": "2023-04-03T19:44:50.434Z"
   },
   {
    "duration": 4,
    "start_time": "2023-04-03T19:44:50.612Z"
   },
   {
    "duration": 171,
    "start_time": "2023-04-03T19:44:50.618Z"
   },
   {
    "duration": 532,
    "start_time": "2023-04-03T19:44:50.790Z"
   },
   {
    "duration": 1126,
    "start_time": "2023-04-03T19:44:51.323Z"
   },
   {
    "duration": 626,
    "start_time": "2023-04-03T19:44:52.451Z"
   },
   {
    "duration": 206,
    "start_time": "2023-04-03T19:44:53.080Z"
   },
   {
    "duration": 393,
    "start_time": "2023-04-03T19:44:53.289Z"
   },
   {
    "duration": 4,
    "start_time": "2023-04-03T19:44:53.685Z"
   },
   {
    "duration": 219,
    "start_time": "2023-04-03T19:44:53.691Z"
   },
   {
    "duration": 17,
    "start_time": "2023-04-03T19:44:53.912Z"
   },
   {
    "duration": 485,
    "start_time": "2023-04-03T19:44:53.931Z"
   },
   {
    "duration": 164,
    "start_time": "2023-04-03T19:44:54.418Z"
   },
   {
    "duration": 16,
    "start_time": "2023-04-03T19:44:54.584Z"
   },
   {
    "duration": 218,
    "start_time": "2023-04-03T19:44:54.601Z"
   },
   {
    "duration": 169,
    "start_time": "2023-04-03T19:44:54.821Z"
   },
   {
    "duration": 131,
    "start_time": "2023-04-03T19:44:54.991Z"
   },
   {
    "duration": 18,
    "start_time": "2023-04-03T19:44:55.124Z"
   },
   {
    "duration": 3,
    "start_time": "2023-04-03T19:44:55.143Z"
   },
   {
    "duration": 18,
    "start_time": "2023-04-03T19:44:55.163Z"
   },
   {
    "duration": 23,
    "start_time": "2023-04-03T19:44:55.183Z"
   },
   {
    "duration": 77,
    "start_time": "2023-04-03T19:44:55.208Z"
   },
   {
    "duration": 32,
    "start_time": "2023-04-03T19:44:55.287Z"
   },
   {
    "duration": 4,
    "start_time": "2023-04-03T19:44:55.321Z"
   },
   {
    "duration": 12,
    "start_time": "2023-04-03T19:44:55.326Z"
   },
   {
    "duration": 23,
    "start_time": "2023-04-03T19:44:55.339Z"
   },
   {
    "duration": 4,
    "start_time": "2023-04-03T19:44:55.364Z"
   },
   {
    "duration": 33,
    "start_time": "2023-04-03T19:44:55.369Z"
   },
   {
    "duration": 227,
    "start_time": "2023-04-03T19:44:55.404Z"
   },
   {
    "duration": 4,
    "start_time": "2023-04-03T19:44:55.633Z"
   },
   {
    "duration": 517,
    "start_time": "2023-04-03T19:44:55.639Z"
   },
   {
    "duration": 13,
    "start_time": "2023-04-03T19:44:56.158Z"
   },
   {
    "duration": 7,
    "start_time": "2023-04-03T19:44:56.175Z"
   },
   {
    "duration": 25287,
    "start_time": "2023-04-03T19:44:56.184Z"
   },
   {
    "duration": 97,
    "start_time": "2023-04-03T19:45:21.479Z"
   },
   {
    "duration": 257,
    "start_time": "2023-04-03T19:45:21.590Z"
   },
   {
    "duration": 3,
    "start_time": "2023-04-03T19:45:21.848Z"
   },
   {
    "duration": 205,
    "start_time": "2023-04-03T19:45:21.853Z"
   },
   {
    "duration": 2702,
    "start_time": "2023-04-03T19:50:47.505Z"
   },
   {
    "duration": 2483,
    "start_time": "2023-04-03T19:50:50.212Z"
   },
   {
    "duration": 1717,
    "start_time": "2023-04-03T19:50:52.698Z"
   },
   {
    "duration": 970,
    "start_time": "2023-04-03T19:50:54.418Z"
   },
   {
    "duration": 20,
    "start_time": "2023-04-03T19:50:55.390Z"
   },
   {
    "duration": 170,
    "start_time": "2023-04-03T19:50:55.412Z"
   },
   {
    "duration": 4,
    "start_time": "2023-04-03T19:50:55.585Z"
   },
   {
    "duration": 168,
    "start_time": "2023-04-03T19:50:55.591Z"
   },
   {
    "duration": 540,
    "start_time": "2023-04-03T19:50:55.762Z"
   },
   {
    "duration": 1111,
    "start_time": "2023-04-03T19:50:56.305Z"
   },
   {
    "duration": 549,
    "start_time": "2023-04-03T19:50:57.419Z"
   },
   {
    "duration": 141,
    "start_time": "2023-04-03T19:50:57.970Z"
   },
   {
    "duration": 194,
    "start_time": "2023-04-03T19:50:58.113Z"
   },
   {
    "duration": 3,
    "start_time": "2023-04-03T19:50:58.309Z"
   },
   {
    "duration": 200,
    "start_time": "2023-04-03T19:50:58.313Z"
   },
   {
    "duration": 17,
    "start_time": "2023-04-03T19:50:58.515Z"
   },
   {
    "duration": 410,
    "start_time": "2023-04-03T19:50:58.534Z"
   },
   {
    "duration": 170,
    "start_time": "2023-04-03T19:50:58.946Z"
   },
   {
    "duration": 26,
    "start_time": "2023-04-03T19:50:59.118Z"
   },
   {
    "duration": 270,
    "start_time": "2023-04-03T19:50:59.146Z"
   },
   {
    "duration": 160,
    "start_time": "2023-04-03T19:50:59.418Z"
   },
   {
    "duration": 138,
    "start_time": "2023-04-03T19:50:59.580Z"
   },
   {
    "duration": 16,
    "start_time": "2023-04-03T19:50:59.720Z"
   },
   {
    "duration": 3,
    "start_time": "2023-04-03T19:50:59.738Z"
   },
   {
    "duration": 47,
    "start_time": "2023-04-03T19:50:59.743Z"
   },
   {
    "duration": 6,
    "start_time": "2023-04-03T19:50:59.792Z"
   },
   {
    "duration": 77,
    "start_time": "2023-04-03T19:50:59.800Z"
   },
   {
    "duration": 33,
    "start_time": "2023-04-03T19:50:59.882Z"
   },
   {
    "duration": 5,
    "start_time": "2023-04-03T19:50:59.917Z"
   },
   {
    "duration": 12,
    "start_time": "2023-04-03T19:50:59.924Z"
   },
   {
    "duration": 4,
    "start_time": "2023-04-03T19:50:59.938Z"
   },
   {
    "duration": 6,
    "start_time": "2023-04-03T19:50:59.974Z"
   },
   {
    "duration": 16,
    "start_time": "2023-04-03T19:50:59.982Z"
   },
   {
    "duration": 215,
    "start_time": "2023-04-03T19:51:00.000Z"
   },
   {
    "duration": 5,
    "start_time": "2023-04-03T19:51:00.217Z"
   },
   {
    "duration": 577,
    "start_time": "2023-04-03T19:51:00.223Z"
   },
   {
    "duration": 4,
    "start_time": "2023-04-03T19:51:00.802Z"
   },
   {
    "duration": 35,
    "start_time": "2023-04-03T19:51:00.807Z"
   },
   {
    "duration": 11,
    "start_time": "2023-04-03T19:51:00.844Z"
   },
   {
    "duration": 32107,
    "start_time": "2023-04-03T19:51:00.857Z"
   },
   {
    "duration": 16,
    "start_time": "2023-04-03T19:51:32.966Z"
   },
   {
    "duration": 176,
    "start_time": "2023-04-03T19:51:33.063Z"
   },
   {
    "duration": 3,
    "start_time": "2023-04-03T19:51:33.241Z"
   },
   {
    "duration": 2582,
    "start_time": "2023-04-03T19:52:41.876Z"
   },
   {
    "duration": 2472,
    "start_time": "2023-04-03T19:52:44.460Z"
   },
   {
    "duration": 1413,
    "start_time": "2023-04-03T19:52:46.934Z"
   },
   {
    "duration": 918,
    "start_time": "2023-04-03T19:52:48.350Z"
   },
   {
    "duration": 20,
    "start_time": "2023-04-03T19:52:49.270Z"
   },
   {
    "duration": 156,
    "start_time": "2023-04-03T19:52:49.292Z"
   },
   {
    "duration": 4,
    "start_time": "2023-04-03T19:52:49.450Z"
   },
   {
    "duration": 157,
    "start_time": "2023-04-03T19:52:49.468Z"
   },
   {
    "duration": 521,
    "start_time": "2023-04-03T19:52:49.627Z"
   },
   {
    "duration": 1090,
    "start_time": "2023-04-03T19:52:50.151Z"
   },
   {
    "duration": 599,
    "start_time": "2023-04-03T19:52:51.243Z"
   },
   {
    "duration": 144,
    "start_time": "2023-04-03T19:52:51.843Z"
   },
   {
    "duration": 196,
    "start_time": "2023-04-03T19:52:51.989Z"
   },
   {
    "duration": 2,
    "start_time": "2023-04-03T19:52:52.187Z"
   },
   {
    "duration": 185,
    "start_time": "2023-04-03T19:52:52.191Z"
   },
   {
    "duration": 17,
    "start_time": "2023-04-03T19:52:52.377Z"
   },
   {
    "duration": 434,
    "start_time": "2023-04-03T19:52:52.396Z"
   },
   {
    "duration": 159,
    "start_time": "2023-04-03T19:52:52.832Z"
   },
   {
    "duration": 16,
    "start_time": "2023-04-03T19:52:52.992Z"
   },
   {
    "duration": 281,
    "start_time": "2023-04-03T19:52:53.010Z"
   },
   {
    "duration": 217,
    "start_time": "2023-04-03T19:52:53.293Z"
   },
   {
    "duration": 177,
    "start_time": "2023-04-03T19:52:53.512Z"
   },
   {
    "duration": 18,
    "start_time": "2023-04-03T19:52:53.691Z"
   },
   {
    "duration": 3,
    "start_time": "2023-04-03T19:52:53.711Z"
   },
   {
    "duration": 18,
    "start_time": "2023-04-03T19:52:53.716Z"
   },
   {
    "duration": 5,
    "start_time": "2023-04-03T19:52:53.736Z"
   },
   {
    "duration": 70,
    "start_time": "2023-04-03T19:52:53.764Z"
   },
   {
    "duration": 42,
    "start_time": "2023-04-03T19:52:53.839Z"
   },
   {
    "duration": 6,
    "start_time": "2023-04-03T19:52:53.883Z"
   },
   {
    "duration": 12,
    "start_time": "2023-04-03T19:52:53.891Z"
   },
   {
    "duration": 5,
    "start_time": "2023-04-03T19:52:53.905Z"
   },
   {
    "duration": 4,
    "start_time": "2023-04-03T19:52:53.912Z"
   },
   {
    "duration": 47,
    "start_time": "2023-04-03T19:52:53.918Z"
   },
   {
    "duration": 218,
    "start_time": "2023-04-03T19:52:53.973Z"
   },
   {
    "duration": 5,
    "start_time": "2023-04-03T19:52:54.193Z"
   },
   {
    "duration": 518,
    "start_time": "2023-04-03T19:52:54.199Z"
   },
   {
    "duration": 4,
    "start_time": "2023-04-03T19:52:54.719Z"
   },
   {
    "duration": 5,
    "start_time": "2023-04-03T19:52:54.724Z"
   },
   {
    "duration": 3,
    "start_time": "2023-04-03T19:52:54.731Z"
   },
   {
    "duration": 24731,
    "start_time": "2023-04-03T19:52:54.736Z"
   },
   {
    "duration": 13,
    "start_time": "2023-04-03T19:53:19.472Z"
   },
   {
    "duration": 155,
    "start_time": "2023-04-03T19:53:19.563Z"
   },
   {
    "duration": 3,
    "start_time": "2023-04-03T19:53:19.720Z"
   },
   {
    "duration": 2624,
    "start_time": "2023-04-03T19:53:42.116Z"
   },
   {
    "duration": 2403,
    "start_time": "2023-04-03T19:53:44.743Z"
   },
   {
    "duration": 1375,
    "start_time": "2023-04-03T19:53:47.147Z"
   },
   {
    "duration": 861,
    "start_time": "2023-04-03T19:53:48.525Z"
   },
   {
    "duration": 16,
    "start_time": "2023-04-03T19:53:49.388Z"
   },
   {
    "duration": 171,
    "start_time": "2023-04-03T19:53:49.406Z"
   },
   {
    "duration": 6,
    "start_time": "2023-04-03T19:53:49.579Z"
   },
   {
    "duration": 146,
    "start_time": "2023-04-03T19:53:49.587Z"
   },
   {
    "duration": 539,
    "start_time": "2023-04-03T19:53:49.735Z"
   },
   {
    "duration": 1104,
    "start_time": "2023-04-03T19:53:50.277Z"
   },
   {
    "duration": 620,
    "start_time": "2023-04-03T19:53:51.383Z"
   },
   {
    "duration": 160,
    "start_time": "2023-04-03T19:53:52.005Z"
   },
   {
    "duration": 192,
    "start_time": "2023-04-03T19:53:52.173Z"
   },
   {
    "duration": 4,
    "start_time": "2023-04-03T19:53:52.374Z"
   },
   {
    "duration": 198,
    "start_time": "2023-04-03T19:53:52.380Z"
   },
   {
    "duration": 16,
    "start_time": "2023-04-03T19:53:52.579Z"
   },
   {
    "duration": 387,
    "start_time": "2023-04-03T19:53:52.597Z"
   },
   {
    "duration": 161,
    "start_time": "2023-04-03T19:53:52.985Z"
   },
   {
    "duration": 27,
    "start_time": "2023-04-03T19:53:53.147Z"
   },
   {
    "duration": 211,
    "start_time": "2023-04-03T19:53:53.177Z"
   },
   {
    "duration": 145,
    "start_time": "2023-04-03T19:53:53.389Z"
   },
   {
    "duration": 130,
    "start_time": "2023-04-03T19:53:53.536Z"
   },
   {
    "duration": 18,
    "start_time": "2023-04-03T19:53:53.673Z"
   },
   {
    "duration": 3,
    "start_time": "2023-04-03T19:53:53.692Z"
   },
   {
    "duration": 19,
    "start_time": "2023-04-03T19:53:53.697Z"
   },
   {
    "duration": 13,
    "start_time": "2023-04-03T19:53:53.718Z"
   },
   {
    "duration": 90,
    "start_time": "2023-04-03T19:53:53.733Z"
   },
   {
    "duration": 35,
    "start_time": "2023-04-03T19:53:53.827Z"
   },
   {
    "duration": 15,
    "start_time": "2023-04-03T19:53:53.863Z"
   },
   {
    "duration": 10,
    "start_time": "2023-04-03T19:53:53.880Z"
   },
   {
    "duration": 4,
    "start_time": "2023-04-03T19:53:53.892Z"
   },
   {
    "duration": 6,
    "start_time": "2023-04-03T19:53:53.897Z"
   },
   {
    "duration": 14,
    "start_time": "2023-04-03T19:53:53.905Z"
   },
   {
    "duration": 306,
    "start_time": "2023-04-03T19:53:53.921Z"
   },
   {
    "duration": 4,
    "start_time": "2023-04-03T19:53:54.230Z"
   },
   {
    "duration": 522,
    "start_time": "2023-04-03T19:53:54.236Z"
   },
   {
    "duration": 17,
    "start_time": "2023-04-03T19:53:54.763Z"
   },
   {
    "duration": 4,
    "start_time": "2023-04-03T19:53:54.781Z"
   },
   {
    "duration": 4,
    "start_time": "2023-04-03T19:53:54.787Z"
   },
   {
    "duration": 31086,
    "start_time": "2023-04-03T19:53:54.793Z"
   },
   {
    "duration": 85,
    "start_time": "2023-04-03T19:54:25.883Z"
   },
   {
    "duration": 241,
    "start_time": "2023-04-03T19:54:25.973Z"
   },
   {
    "duration": 3,
    "start_time": "2023-04-03T19:54:26.217Z"
   },
   {
    "duration": 23,
    "start_time": "2023-04-03T19:54:26.221Z"
   },
   {
    "duration": 203928,
    "start_time": "2023-04-03T19:54:26.245Z"
   },
   {
    "duration": 2505,
    "start_time": "2023-04-03T19:57:50.177Z"
   },
   {
    "duration": 3,
    "start_time": "2023-04-03T19:57:52.684Z"
   },
   {
    "duration": 8222,
    "start_time": "2023-04-03T19:57:52.689Z"
   },
   {
    "duration": 105,
    "start_time": "2023-04-03T19:58:00.913Z"
   },
   {
    "duration": 2678,
    "start_time": "2023-04-03T19:58:01.020Z"
   },
   {
    "duration": 2607,
    "start_time": "2023-04-03T19:58:03.700Z"
   },
   {
    "duration": 442,
    "start_time": "2023-04-03T19:58:06.309Z"
   },
   {
    "duration": 3,
    "start_time": "2023-04-03T19:58:06.753Z"
   },
   {
    "duration": 2692,
    "start_time": "2023-04-03T19:59:28.688Z"
   },
   {
    "duration": 2422,
    "start_time": "2023-04-03T19:59:31.383Z"
   },
   {
    "duration": 1574,
    "start_time": "2023-04-03T19:59:33.808Z"
   },
   {
    "duration": 1018,
    "start_time": "2023-04-03T19:59:35.385Z"
   },
   {
    "duration": 27,
    "start_time": "2023-04-03T19:59:36.406Z"
   },
   {
    "duration": 205,
    "start_time": "2023-04-03T19:59:36.435Z"
   },
   {
    "duration": 5,
    "start_time": "2023-04-03T19:59:36.642Z"
   },
   {
    "duration": 175,
    "start_time": "2023-04-03T19:59:36.649Z"
   },
   {
    "duration": 621,
    "start_time": "2023-04-03T19:59:36.826Z"
   },
   {
    "duration": 1286,
    "start_time": "2023-04-03T19:59:37.449Z"
   },
   {
    "duration": 657,
    "start_time": "2023-04-03T19:59:38.737Z"
   },
   {
    "duration": 219,
    "start_time": "2023-04-03T19:59:39.396Z"
   },
   {
    "duration": 236,
    "start_time": "2023-04-03T19:59:39.617Z"
   },
   {
    "duration": 6,
    "start_time": "2023-04-03T19:59:39.858Z"
   },
   {
    "duration": 266,
    "start_time": "2023-04-03T19:59:39.867Z"
   },
   {
    "duration": 41,
    "start_time": "2023-04-03T19:59:40.135Z"
   },
   {
    "duration": 392,
    "start_time": "2023-04-03T19:59:40.178Z"
   },
   {
    "duration": 156,
    "start_time": "2023-04-03T19:59:40.571Z"
   },
   {
    "duration": 38,
    "start_time": "2023-04-03T19:59:40.730Z"
   },
   {
    "duration": 219,
    "start_time": "2023-04-03T19:59:40.771Z"
   },
   {
    "duration": 160,
    "start_time": "2023-04-03T19:59:40.993Z"
   },
   {
    "duration": 139,
    "start_time": "2023-04-03T19:59:41.155Z"
   },
   {
    "duration": 22,
    "start_time": "2023-04-03T19:59:41.295Z"
   },
   {
    "duration": 3,
    "start_time": "2023-04-03T19:59:41.320Z"
   },
   {
    "duration": 47,
    "start_time": "2023-04-03T19:59:41.325Z"
   },
   {
    "duration": 8,
    "start_time": "2023-04-03T19:59:41.373Z"
   },
   {
    "duration": 118,
    "start_time": "2023-04-03T19:59:41.384Z"
   },
   {
    "duration": 50,
    "start_time": "2023-04-03T19:59:41.504Z"
   },
   {
    "duration": 12,
    "start_time": "2023-04-03T19:59:41.572Z"
   },
   {
    "duration": 16,
    "start_time": "2023-04-03T19:59:41.587Z"
   },
   {
    "duration": 8,
    "start_time": "2023-04-03T19:59:41.606Z"
   },
   {
    "duration": 7,
    "start_time": "2023-04-03T19:59:41.616Z"
   },
   {
    "duration": 20,
    "start_time": "2023-04-03T19:59:41.625Z"
   },
   {
    "duration": 221,
    "start_time": "2023-04-03T19:59:41.647Z"
   },
   {
    "duration": 9,
    "start_time": "2023-04-03T19:59:41.872Z"
   },
   {
    "duration": 54579,
    "start_time": "2023-04-03T19:59:41.884Z"
   },
   {
    "duration": 942,
    "start_time": "2023-04-03T20:00:36.472Z"
   },
   {
    "duration": 5,
    "start_time": "2023-04-03T20:00:37.416Z"
   },
   {
    "duration": 5,
    "start_time": "2023-04-03T20:00:37.422Z"
   },
   {
    "duration": 9,
    "start_time": "2023-04-03T20:00:37.429Z"
   },
   {
    "duration": 2923,
    "start_time": "2023-04-03T20:00:59.497Z"
   },
   {
    "duration": 2511,
    "start_time": "2023-04-03T20:01:02.423Z"
   },
   {
    "duration": 1422,
    "start_time": "2023-04-03T20:01:04.937Z"
   },
   {
    "duration": 961,
    "start_time": "2023-04-03T20:01:06.363Z"
   },
   {
    "duration": 21,
    "start_time": "2023-04-03T20:01:07.328Z"
   },
   {
    "duration": 192,
    "start_time": "2023-04-03T20:01:07.352Z"
   },
   {
    "duration": 4,
    "start_time": "2023-04-03T20:01:07.546Z"
   },
   {
    "duration": 154,
    "start_time": "2023-04-03T20:01:07.563Z"
   },
   {
    "duration": 567,
    "start_time": "2023-04-03T20:01:07.719Z"
   },
   {
    "duration": 1153,
    "start_time": "2023-04-03T20:01:08.288Z"
   },
   {
    "duration": 618,
    "start_time": "2023-04-03T20:01:09.443Z"
   },
   {
    "duration": 162,
    "start_time": "2023-04-03T20:01:10.066Z"
   },
   {
    "duration": 219,
    "start_time": "2023-04-03T20:01:10.230Z"
   },
   {
    "duration": 12,
    "start_time": "2023-04-03T20:01:10.453Z"
   },
   {
    "duration": 221,
    "start_time": "2023-04-03T20:01:10.467Z"
   },
   {
    "duration": 16,
    "start_time": "2023-04-03T20:01:10.690Z"
   },
   {
    "duration": 421,
    "start_time": "2023-04-03T20:01:10.709Z"
   },
   {
    "duration": 193,
    "start_time": "2023-04-03T20:01:11.131Z"
   },
   {
    "duration": 17,
    "start_time": "2023-04-03T20:01:11.326Z"
   },
   {
    "duration": 249,
    "start_time": "2023-04-03T20:01:11.345Z"
   },
   {
    "duration": 147,
    "start_time": "2023-04-03T20:01:11.596Z"
   },
   {
    "duration": 140,
    "start_time": "2023-04-03T20:01:11.745Z"
   },
   {
    "duration": 17,
    "start_time": "2023-04-03T20:01:11.887Z"
   },
   {
    "duration": 3,
    "start_time": "2023-04-03T20:01:11.905Z"
   },
   {
    "duration": 19,
    "start_time": "2023-04-03T20:01:11.910Z"
   },
   {
    "duration": 4,
    "start_time": "2023-04-03T20:01:11.931Z"
   },
   {
    "duration": 70,
    "start_time": "2023-04-03T20:01:11.962Z"
   },
   {
    "duration": 44,
    "start_time": "2023-04-03T20:01:12.035Z"
   },
   {
    "duration": 5,
    "start_time": "2023-04-03T20:01:12.084Z"
   },
   {
    "duration": 12,
    "start_time": "2023-04-03T20:01:12.091Z"
   },
   {
    "duration": 6,
    "start_time": "2023-04-03T20:01:12.105Z"
   },
   {
    "duration": 18,
    "start_time": "2023-04-03T20:01:12.114Z"
   },
   {
    "duration": 32,
    "start_time": "2023-04-03T20:01:12.135Z"
   },
   {
    "duration": 258,
    "start_time": "2023-04-03T20:01:12.169Z"
   },
   {
    "duration": 5,
    "start_time": "2023-04-03T20:01:12.430Z"
   },
   {
    "duration": 54943,
    "start_time": "2023-04-03T20:01:12.437Z"
   },
   {
    "duration": 2,
    "start_time": "2023-04-03T20:02:07.382Z"
   },
   {
    "duration": 135,
    "start_time": "2023-04-03T20:02:07.386Z"
   },
   {
    "duration": 0,
    "start_time": "2023-04-03T20:02:07.524Z"
   },
   {
    "duration": 0,
    "start_time": "2023-04-03T20:02:07.525Z"
   },
   {
    "duration": 0,
    "start_time": "2023-04-03T20:02:07.527Z"
   },
   {
    "duration": 0,
    "start_time": "2023-04-03T20:02:07.528Z"
   },
   {
    "duration": 0,
    "start_time": "2023-04-03T20:02:07.530Z"
   },
   {
    "duration": 0,
    "start_time": "2023-04-03T20:02:07.531Z"
   },
   {
    "duration": 0,
    "start_time": "2023-04-03T20:02:07.532Z"
   },
   {
    "duration": 0,
    "start_time": "2023-04-03T20:02:07.533Z"
   },
   {
    "duration": 0,
    "start_time": "2023-04-03T20:02:07.535Z"
   },
   {
    "duration": 0,
    "start_time": "2023-04-03T20:02:07.536Z"
   },
   {
    "duration": 0,
    "start_time": "2023-04-03T20:02:07.562Z"
   },
   {
    "duration": 0,
    "start_time": "2023-04-03T20:02:07.573Z"
   },
   {
    "duration": 0,
    "start_time": "2023-04-03T20:02:07.574Z"
   },
   {
    "duration": 0,
    "start_time": "2023-04-03T20:02:07.576Z"
   },
   {
    "duration": 126,
    "start_time": "2023-04-03T20:02:48.403Z"
   },
   {
    "duration": 87187,
    "start_time": "2023-04-03T20:07:05.651Z"
   },
   {
    "duration": 3,
    "start_time": "2023-04-03T20:08:59.737Z"
   },
   {
    "duration": 10,
    "start_time": "2023-04-03T20:09:02.059Z"
   },
   {
    "duration": 3661,
    "start_time": "2023-04-03T20:09:06.490Z"
   },
   {
    "duration": 83,
    "start_time": "2023-04-03T20:09:40.934Z"
   },
   {
    "duration": 54111,
    "start_time": "2023-04-03T20:10:09.908Z"
   },
   {
    "duration": 98969,
    "start_time": "2023-04-03T20:11:32.196Z"
   },
   {
    "duration": 104973,
    "start_time": "2023-04-03T20:13:19.703Z"
   },
   {
    "duration": 72,
    "start_time": "2023-04-03T20:15:33.091Z"
   },
   {
    "duration": 2365,
    "start_time": "2023-04-03T20:15:39.007Z"
   },
   {
    "duration": 2324,
    "start_time": "2023-04-03T20:15:41.374Z"
   },
   {
    "duration": 1792,
    "start_time": "2023-04-03T20:15:43.700Z"
   },
   {
    "duration": 1317,
    "start_time": "2023-04-03T20:15:45.494Z"
   },
   {
    "duration": 21,
    "start_time": "2023-04-03T20:15:46.812Z"
   },
   {
    "duration": 151,
    "start_time": "2023-04-03T20:15:46.835Z"
   },
   {
    "duration": 3,
    "start_time": "2023-04-03T20:15:46.988Z"
   },
   {
    "duration": 182,
    "start_time": "2023-04-03T20:15:46.994Z"
   },
   {
    "duration": 606,
    "start_time": "2023-04-03T20:15:47.178Z"
   },
   {
    "duration": 1135,
    "start_time": "2023-04-03T20:15:47.788Z"
   },
   {
    "duration": 609,
    "start_time": "2023-04-03T20:15:48.925Z"
   },
   {
    "duration": 180,
    "start_time": "2023-04-03T20:15:49.539Z"
   },
   {
    "duration": 187,
    "start_time": "2023-04-03T20:15:49.721Z"
   },
   {
    "duration": 3,
    "start_time": "2023-04-03T20:15:49.910Z"
   },
   {
    "duration": 253,
    "start_time": "2023-04-03T20:15:49.915Z"
   },
   {
    "duration": 23,
    "start_time": "2023-04-03T20:15:50.170Z"
   },
   {
    "duration": 394,
    "start_time": "2023-04-03T20:15:50.195Z"
   },
   {
    "duration": 182,
    "start_time": "2023-04-03T20:15:50.591Z"
   },
   {
    "duration": 18,
    "start_time": "2023-04-03T20:15:50.775Z"
   },
   {
    "duration": 224,
    "start_time": "2023-04-03T20:15:50.795Z"
   },
   {
    "duration": 169,
    "start_time": "2023-04-03T20:15:51.021Z"
   },
   {
    "duration": 132,
    "start_time": "2023-04-03T20:15:51.192Z"
   },
   {
    "duration": 17,
    "start_time": "2023-04-03T20:15:51.326Z"
   },
   {
    "duration": 18,
    "start_time": "2023-04-03T20:15:51.345Z"
   },
   {
    "duration": 21,
    "start_time": "2023-04-03T20:15:51.365Z"
   },
   {
    "duration": 9,
    "start_time": "2023-04-03T20:15:51.388Z"
   },
   {
    "duration": 102,
    "start_time": "2023-04-03T20:15:51.400Z"
   },
   {
    "duration": 41,
    "start_time": "2023-04-03T20:15:51.507Z"
   },
   {
    "duration": 13,
    "start_time": "2023-04-03T20:15:51.550Z"
   },
   {
    "duration": 10,
    "start_time": "2023-04-03T20:15:51.565Z"
   },
   {
    "duration": 5,
    "start_time": "2023-04-03T20:15:51.577Z"
   },
   {
    "duration": 8,
    "start_time": "2023-04-03T20:15:51.585Z"
   },
   {
    "duration": 23,
    "start_time": "2023-04-03T20:15:51.595Z"
   },
   {
    "duration": 258,
    "start_time": "2023-04-03T20:15:51.620Z"
   },
   {
    "duration": 5,
    "start_time": "2023-04-03T20:15:51.880Z"
   },
   {
    "duration": 101532,
    "start_time": "2023-04-03T20:15:51.886Z"
   },
   {
    "duration": 3,
    "start_time": "2023-04-03T20:17:33.420Z"
   },
   {
    "duration": 7,
    "start_time": "2023-04-03T20:17:33.425Z"
   },
   {
    "duration": 3977,
    "start_time": "2023-04-03T20:17:33.437Z"
   },
   {
    "duration": 0,
    "start_time": "2023-04-03T20:17:37.416Z"
   },
   {
    "duration": 0,
    "start_time": "2023-04-03T20:17:37.418Z"
   },
   {
    "duration": 0,
    "start_time": "2023-04-03T20:17:37.419Z"
   },
   {
    "duration": 0,
    "start_time": "2023-04-03T20:17:37.420Z"
   },
   {
    "duration": 0,
    "start_time": "2023-04-03T20:17:37.422Z"
   },
   {
    "duration": 0,
    "start_time": "2023-04-03T20:17:37.422Z"
   },
   {
    "duration": 0,
    "start_time": "2023-04-03T20:17:37.423Z"
   },
   {
    "duration": 0,
    "start_time": "2023-04-03T20:17:37.425Z"
   },
   {
    "duration": 0,
    "start_time": "2023-04-03T20:17:37.426Z"
   },
   {
    "duration": 0,
    "start_time": "2023-04-03T20:17:37.427Z"
   },
   {
    "duration": 0,
    "start_time": "2023-04-03T20:17:37.428Z"
   },
   {
    "duration": 4335,
    "start_time": "2023-04-03T20:19:47.968Z"
   },
   {
    "duration": 116,
    "start_time": "2023-04-03T20:20:19.220Z"
   },
   {
    "duration": 240,
    "start_time": "2023-04-03T20:20:54.086Z"
   },
   {
    "duration": 2512,
    "start_time": "2023-04-03T20:21:31.619Z"
   },
   {
    "duration": 3213,
    "start_time": "2023-04-03T20:21:34.135Z"
   },
   {
    "duration": 2048,
    "start_time": "2023-04-03T20:21:37.352Z"
   },
   {
    "duration": 1538,
    "start_time": "2023-04-03T20:21:39.404Z"
   },
   {
    "duration": 26,
    "start_time": "2023-04-03T20:21:40.945Z"
   },
   {
    "duration": 267,
    "start_time": "2023-04-03T20:21:40.973Z"
   },
   {
    "duration": 6,
    "start_time": "2023-04-03T20:21:41.242Z"
   },
   {
    "duration": 259,
    "start_time": "2023-04-03T20:21:41.261Z"
   },
   {
    "duration": 786,
    "start_time": "2023-04-03T20:21:41.522Z"
   },
   {
    "duration": 1694,
    "start_time": "2023-04-03T20:21:42.312Z"
   },
   {
    "duration": 746,
    "start_time": "2023-04-03T20:21:44.009Z"
   },
   {
    "duration": 162,
    "start_time": "2023-04-03T20:21:44.757Z"
   },
   {
    "duration": 213,
    "start_time": "2023-04-03T20:21:44.921Z"
   },
   {
    "duration": 3,
    "start_time": "2023-04-03T20:21:45.137Z"
   },
   {
    "duration": 245,
    "start_time": "2023-04-03T20:21:45.142Z"
   },
   {
    "duration": 20,
    "start_time": "2023-04-03T20:21:45.389Z"
   },
   {
    "duration": 614,
    "start_time": "2023-04-03T20:21:45.411Z"
   },
   {
    "duration": 212,
    "start_time": "2023-04-03T20:21:46.027Z"
   },
   {
    "duration": 28,
    "start_time": "2023-04-03T20:21:46.242Z"
   },
   {
    "duration": 270,
    "start_time": "2023-04-03T20:21:46.272Z"
   },
   {
    "duration": 190,
    "start_time": "2023-04-03T20:21:46.544Z"
   },
   {
    "duration": 206,
    "start_time": "2023-04-03T20:21:46.736Z"
   },
   {
    "duration": 22,
    "start_time": "2023-04-03T20:21:46.944Z"
   },
   {
    "duration": 3,
    "start_time": "2023-04-03T20:21:46.968Z"
   },
   {
    "duration": 21,
    "start_time": "2023-04-03T20:21:46.973Z"
   },
   {
    "duration": 7,
    "start_time": "2023-04-03T20:21:46.997Z"
   },
   {
    "duration": 114,
    "start_time": "2023-04-03T20:21:47.006Z"
   },
   {
    "duration": 48,
    "start_time": "2023-04-03T20:21:47.125Z"
   },
   {
    "duration": 9,
    "start_time": "2023-04-03T20:21:47.175Z"
   },
   {
    "duration": 14,
    "start_time": "2023-04-03T20:21:47.186Z"
   },
   {
    "duration": 8,
    "start_time": "2023-04-03T20:21:47.202Z"
   },
   {
    "duration": 5,
    "start_time": "2023-04-03T20:21:47.212Z"
   },
   {
    "duration": 51,
    "start_time": "2023-04-03T20:21:47.219Z"
   },
   {
    "duration": 315,
    "start_time": "2023-04-03T20:21:47.273Z"
   },
   {
    "duration": 4,
    "start_time": "2023-04-03T20:21:47.590Z"
   },
   {
    "duration": 111362,
    "start_time": "2023-04-03T20:21:47.596Z"
   },
   {
    "duration": 2,
    "start_time": "2023-04-03T20:23:38.960Z"
   },
   {
    "duration": 7,
    "start_time": "2023-04-03T20:23:38.964Z"
   },
   {
    "duration": 26827,
    "start_time": "2023-04-03T20:23:38.973Z"
   },
   {
    "duration": 208,
    "start_time": "2023-04-03T20:24:05.804Z"
   },
   {
    "duration": 0,
    "start_time": "2023-04-03T20:24:06.014Z"
   },
   {
    "duration": 0,
    "start_time": "2023-04-03T20:24:06.015Z"
   },
   {
    "duration": 1,
    "start_time": "2023-04-03T20:24:06.016Z"
   },
   {
    "duration": 0,
    "start_time": "2023-04-03T20:24:06.018Z"
   },
   {
    "duration": 0,
    "start_time": "2023-04-03T20:24:06.019Z"
   },
   {
    "duration": 0,
    "start_time": "2023-04-03T20:24:06.021Z"
   },
   {
    "duration": 0,
    "start_time": "2023-04-03T20:24:06.022Z"
   },
   {
    "duration": 0,
    "start_time": "2023-04-03T20:24:06.023Z"
   },
   {
    "duration": 0,
    "start_time": "2023-04-03T20:24:06.024Z"
   },
   {
    "duration": 0,
    "start_time": "2023-04-03T20:24:06.025Z"
   },
   {
    "duration": 129,
    "start_time": "2023-04-03T20:24:44.534Z"
   },
   {
    "duration": 15,
    "start_time": "2023-04-03T20:24:50.977Z"
   },
   {
    "duration": 7,
    "start_time": "2023-04-03T20:24:53.399Z"
   },
   {
    "duration": 12520898,
    "start_time": "2023-04-03T20:25:02.881Z"
   },
   {
    "duration": 2656,
    "start_time": "2023-04-04T03:06:45.274Z"
   },
   {
    "duration": 7084,
    "start_time": "2023-04-04T03:06:47.933Z"
   },
   {
    "duration": 1505,
    "start_time": "2023-04-04T03:06:55.019Z"
   },
   {
    "duration": 3016,
    "start_time": "2023-04-04T03:06:56.527Z"
   },
   {
    "duration": 20,
    "start_time": "2023-04-04T03:06:59.545Z"
   },
   {
    "duration": 158,
    "start_time": "2023-04-04T03:06:59.567Z"
   },
   {
    "duration": 6,
    "start_time": "2023-04-04T03:06:59.727Z"
   },
   {
    "duration": 150,
    "start_time": "2023-04-04T03:06:59.735Z"
   },
   {
    "duration": 548,
    "start_time": "2023-04-04T03:06:59.886Z"
   },
   {
    "duration": 1105,
    "start_time": "2023-04-04T03:07:00.436Z"
   },
   {
    "duration": 556,
    "start_time": "2023-04-04T03:07:01.543Z"
   },
   {
    "duration": 148,
    "start_time": "2023-04-04T03:07:02.101Z"
   },
   {
    "duration": 183,
    "start_time": "2023-04-04T03:07:02.251Z"
   },
   {
    "duration": 2,
    "start_time": "2023-04-04T03:07:02.436Z"
   },
   {
    "duration": 212,
    "start_time": "2023-04-04T03:07:02.440Z"
   },
   {
    "duration": 15,
    "start_time": "2023-04-04T03:07:02.654Z"
   },
   {
    "duration": 378,
    "start_time": "2023-04-04T03:07:02.671Z"
   },
   {
    "duration": 155,
    "start_time": "2023-04-04T03:07:03.052Z"
   },
   {
    "duration": 16,
    "start_time": "2023-04-04T03:07:03.208Z"
   },
   {
    "duration": 215,
    "start_time": "2023-04-04T03:07:03.234Z"
   },
   {
    "duration": 137,
    "start_time": "2023-04-04T03:07:03.451Z"
   },
   {
    "duration": 138,
    "start_time": "2023-04-04T03:07:03.590Z"
   },
   {
    "duration": 18,
    "start_time": "2023-04-04T03:07:03.733Z"
   },
   {
    "duration": 3,
    "start_time": "2023-04-04T03:07:03.753Z"
   },
   {
    "duration": 21,
    "start_time": "2023-04-04T03:07:03.758Z"
   },
   {
    "duration": 5,
    "start_time": "2023-04-04T03:07:03.782Z"
   },
   {
    "duration": 91,
    "start_time": "2023-04-04T03:07:03.789Z"
   },
   {
    "duration": 32,
    "start_time": "2023-04-04T03:07:03.884Z"
   },
   {
    "duration": 15,
    "start_time": "2023-04-04T03:07:03.918Z"
   },
   {
    "duration": 10,
    "start_time": "2023-04-04T03:07:03.935Z"
   },
   {
    "duration": 4,
    "start_time": "2023-04-04T03:07:03.947Z"
   },
   {
    "duration": 8,
    "start_time": "2023-04-04T03:07:03.952Z"
   },
   {
    "duration": 20,
    "start_time": "2023-04-04T03:07:03.962Z"
   },
   {
    "duration": 232,
    "start_time": "2023-04-04T03:07:03.984Z"
   },
   {
    "duration": 4,
    "start_time": "2023-04-04T03:07:04.218Z"
   },
   {
    "duration": 111150,
    "start_time": "2023-04-04T03:07:04.223Z"
   },
   {
    "duration": 3,
    "start_time": "2023-04-04T03:08:55.374Z"
   },
   {
    "duration": 7,
    "start_time": "2023-04-04T03:08:55.379Z"
   },
   {
    "duration": 18971,
    "start_time": "2023-04-04T03:08:55.387Z"
   },
   {
    "duration": 78,
    "start_time": "2023-04-04T03:09:14.361Z"
   },
   {
    "duration": 100,
    "start_time": "2023-04-04T03:09:14.441Z"
   },
   {
    "duration": 8,
    "start_time": "2023-04-04T03:09:14.543Z"
   },
   {
    "duration": 945781,
    "start_time": "2023-04-04T03:09:14.553Z"
   },
   {
    "duration": 18706,
    "start_time": "2023-04-04T03:25:00.336Z"
   },
   {
    "duration": 2735,
    "start_time": "2023-04-04T03:25:19.044Z"
   },
   {
    "duration": 2,
    "start_time": "2023-04-04T03:25:21.835Z"
   },
   {
    "duration": 209,
    "start_time": "2023-04-04T03:25:21.839Z"
   },
   {
    "duration": 0,
    "start_time": "2023-04-04T03:25:22.050Z"
   },
   {
    "duration": 0,
    "start_time": "2023-04-04T03:25:22.051Z"
   },
   {
    "duration": 0,
    "start_time": "2023-04-04T03:25:22.053Z"
   },
   {
    "duration": 10,
    "start_time": "2023-04-04T03:42:09.262Z"
   },
   {
    "duration": 4,
    "start_time": "2023-04-04T03:42:13.442Z"
   },
   {
    "duration": 51,
    "start_time": "2023-04-04T03:42:54.022Z"
   },
   {
    "duration": 58,
    "start_time": "2023-04-04T03:43:51.783Z"
   },
   {
    "duration": 2490,
    "start_time": "2023-04-04T03:43:59.041Z"
   },
   {
    "duration": 2568,
    "start_time": "2023-04-04T03:44:01.535Z"
   },
   {
    "duration": 1367,
    "start_time": "2023-04-04T03:44:04.106Z"
   },
   {
    "duration": 981,
    "start_time": "2023-04-04T03:44:05.475Z"
   },
   {
    "duration": 19,
    "start_time": "2023-04-04T03:44:06.458Z"
   },
   {
    "duration": 195,
    "start_time": "2023-04-04T03:44:06.479Z"
   },
   {
    "duration": 4,
    "start_time": "2023-04-04T03:44:06.676Z"
   },
   {
    "duration": 212,
    "start_time": "2023-04-04T03:44:06.682Z"
   },
   {
    "duration": 521,
    "start_time": "2023-04-04T03:44:06.896Z"
   },
   {
    "duration": 1089,
    "start_time": "2023-04-04T03:44:07.421Z"
   },
   {
    "duration": 565,
    "start_time": "2023-04-04T03:44:08.512Z"
   },
   {
    "duration": 152,
    "start_time": "2023-04-04T03:44:09.079Z"
   },
   {
    "duration": 191,
    "start_time": "2023-04-04T03:44:09.233Z"
   },
   {
    "duration": 3,
    "start_time": "2023-04-04T03:44:09.426Z"
   },
   {
    "duration": 220,
    "start_time": "2023-04-04T03:44:09.433Z"
   },
   {
    "duration": 17,
    "start_time": "2023-04-04T03:44:09.655Z"
   },
   {
    "duration": 441,
    "start_time": "2023-04-04T03:44:09.674Z"
   },
   {
    "duration": 170,
    "start_time": "2023-04-04T03:44:10.118Z"
   },
   {
    "duration": 15,
    "start_time": "2023-04-04T03:44:10.290Z"
   },
   {
    "duration": 226,
    "start_time": "2023-04-04T03:44:10.307Z"
   },
   {
    "duration": 143,
    "start_time": "2023-04-04T03:44:10.535Z"
   },
   {
    "duration": 141,
    "start_time": "2023-04-04T03:44:10.679Z"
   },
   {
    "duration": 23,
    "start_time": "2023-04-04T03:44:10.823Z"
   },
   {
    "duration": 11,
    "start_time": "2023-04-04T03:44:10.849Z"
   },
   {
    "duration": 21,
    "start_time": "2023-04-04T03:44:10.862Z"
   },
   {
    "duration": 5,
    "start_time": "2023-04-04T03:44:10.885Z"
   },
   {
    "duration": 93,
    "start_time": "2023-04-04T03:44:10.891Z"
   },
   {
    "duration": 30,
    "start_time": "2023-04-04T03:44:10.987Z"
   },
   {
    "duration": 4,
    "start_time": "2023-04-04T03:44:11.019Z"
   },
   {
    "duration": 17,
    "start_time": "2023-04-04T03:44:11.033Z"
   },
   {
    "duration": 8,
    "start_time": "2023-04-04T03:44:11.053Z"
   },
   {
    "duration": 10,
    "start_time": "2023-04-04T03:44:11.063Z"
   },
   {
    "duration": 17,
    "start_time": "2023-04-04T03:44:11.075Z"
   },
   {
    "duration": 239,
    "start_time": "2023-04-04T03:44:11.093Z"
   },
   {
    "duration": 5,
    "start_time": "2023-04-04T03:44:11.335Z"
   },
   {
    "duration": 99634,
    "start_time": "2023-04-04T03:44:11.342Z"
   },
   {
    "duration": 3,
    "start_time": "2023-04-04T03:45:50.978Z"
   },
   {
    "duration": 12,
    "start_time": "2023-04-04T03:45:50.982Z"
   },
   {
    "duration": 2539,
    "start_time": "2023-04-04T03:46:20.839Z"
   },
   {
    "duration": 2470,
    "start_time": "2023-04-04T03:46:23.381Z"
   },
   {
    "duration": 1945,
    "start_time": "2023-04-04T03:46:25.854Z"
   },
   {
    "duration": 3388,
    "start_time": "2023-04-04T03:46:27.802Z"
   },
   {
    "duration": 19,
    "start_time": "2023-04-04T03:46:31.192Z"
   },
   {
    "duration": 189,
    "start_time": "2023-04-04T03:46:31.213Z"
   },
   {
    "duration": 3,
    "start_time": "2023-04-04T03:46:31.404Z"
   },
   {
    "duration": 174,
    "start_time": "2023-04-04T03:46:31.409Z"
   },
   {
    "duration": 554,
    "start_time": "2023-04-04T03:46:31.585Z"
   },
   {
    "duration": 1142,
    "start_time": "2023-04-04T03:46:32.143Z"
   },
   {
    "duration": 593,
    "start_time": "2023-04-04T03:46:33.287Z"
   },
   {
    "duration": 167,
    "start_time": "2023-04-04T03:46:33.882Z"
   },
   {
    "duration": 199,
    "start_time": "2023-04-04T03:46:34.051Z"
   },
   {
    "duration": 3,
    "start_time": "2023-04-04T03:46:34.251Z"
   },
   {
    "duration": 239,
    "start_time": "2023-04-04T03:46:34.256Z"
   },
   {
    "duration": 16,
    "start_time": "2023-04-04T03:46:34.497Z"
   },
   {
    "duration": 424,
    "start_time": "2023-04-04T03:46:34.515Z"
   },
   {
    "duration": 165,
    "start_time": "2023-04-04T03:46:34.941Z"
   },
   {
    "duration": 15,
    "start_time": "2023-04-04T03:46:35.108Z"
   },
   {
    "duration": 232,
    "start_time": "2023-04-04T03:46:35.133Z"
   },
   {
    "duration": 158,
    "start_time": "2023-04-04T03:46:35.368Z"
   },
   {
    "duration": 142,
    "start_time": "2023-04-04T03:46:35.528Z"
   },
   {
    "duration": 16,
    "start_time": "2023-04-04T03:46:35.672Z"
   },
   {
    "duration": 7,
    "start_time": "2023-04-04T03:46:35.690Z"
   },
   {
    "duration": 26,
    "start_time": "2023-04-04T03:46:35.699Z"
   },
   {
    "duration": 37,
    "start_time": "2023-04-04T03:46:35.727Z"
   },
   {
    "duration": 102,
    "start_time": "2023-04-04T03:46:35.765Z"
   },
   {
    "duration": 32,
    "start_time": "2023-04-04T03:46:35.871Z"
   },
   {
    "duration": 10,
    "start_time": "2023-04-04T03:46:35.905Z"
   },
   {
    "duration": 42,
    "start_time": "2023-04-04T03:46:35.917Z"
   },
   {
    "duration": 15,
    "start_time": "2023-04-04T03:46:35.962Z"
   },
   {
    "duration": 31,
    "start_time": "2023-04-04T03:46:35.978Z"
   },
   {
    "duration": 84,
    "start_time": "2023-04-04T03:46:36.011Z"
   },
   {
    "duration": 213,
    "start_time": "2023-04-04T03:46:36.096Z"
   },
   {
    "duration": 4,
    "start_time": "2023-04-04T03:46:36.311Z"
   },
   {
    "duration": 97252,
    "start_time": "2023-04-04T03:46:36.316Z"
   },
   {
    "duration": 3,
    "start_time": "2023-04-04T03:48:13.569Z"
   },
   {
    "duration": 17,
    "start_time": "2023-04-04T03:48:13.573Z"
   },
   {
    "duration": 132,
    "start_time": "2023-04-04T03:48:13.592Z"
   },
   {
    "duration": 0,
    "start_time": "2023-04-04T03:48:13.726Z"
   },
   {
    "duration": 0,
    "start_time": "2023-04-04T03:48:13.727Z"
   },
   {
    "duration": 0,
    "start_time": "2023-04-04T03:48:13.728Z"
   },
   {
    "duration": 0,
    "start_time": "2023-04-04T03:48:13.733Z"
   },
   {
    "duration": 0,
    "start_time": "2023-04-04T03:48:13.735Z"
   },
   {
    "duration": 0,
    "start_time": "2023-04-04T03:48:13.736Z"
   },
   {
    "duration": 0,
    "start_time": "2023-04-04T03:48:13.738Z"
   },
   {
    "duration": 0,
    "start_time": "2023-04-04T03:48:13.740Z"
   },
   {
    "duration": 0,
    "start_time": "2023-04-04T03:48:13.741Z"
   },
   {
    "duration": 0,
    "start_time": "2023-04-04T03:48:13.742Z"
   },
   {
    "duration": 0,
    "start_time": "2023-04-04T03:48:13.744Z"
   },
   {
    "duration": 0,
    "start_time": "2023-04-04T03:48:13.746Z"
   },
   {
    "duration": 21545,
    "start_time": "2023-04-04T03:48:34.119Z"
   },
   {
    "duration": 67,
    "start_time": "2023-04-04T03:48:59.267Z"
   },
   {
    "duration": 148,
    "start_time": "2023-04-04T03:49:07.074Z"
   },
   {
    "duration": 64,
    "start_time": "2023-04-04T03:49:13.821Z"
   },
   {
    "duration": 3,
    "start_time": "2023-04-04T03:49:53.999Z"
   },
   {
    "duration": 4,
    "start_time": "2023-04-04T03:50:02.058Z"
   },
   {
    "duration": 10,
    "start_time": "2023-04-04T03:52:10.670Z"
   },
   {
    "duration": 4,
    "start_time": "2023-04-04T03:52:14.172Z"
   },
   {
    "duration": 10,
    "start_time": "2023-04-04T03:55:02.267Z"
   },
   {
    "duration": 9,
    "start_time": "2023-04-04T03:56:48.463Z"
   },
   {
    "duration": 6,
    "start_time": "2023-04-04T03:56:56.722Z"
   },
   {
    "duration": 2359,
    "start_time": "2023-04-04T03:58:47.322Z"
   },
   {
    "duration": 2502,
    "start_time": "2023-04-04T03:58:49.684Z"
   },
   {
    "duration": 1359,
    "start_time": "2023-04-04T03:58:52.189Z"
   },
   {
    "duration": 933,
    "start_time": "2023-04-04T03:58:53.550Z"
   },
   {
    "duration": 18,
    "start_time": "2023-04-04T03:58:54.486Z"
   },
   {
    "duration": 155,
    "start_time": "2023-04-04T03:58:54.506Z"
   },
   {
    "duration": 4,
    "start_time": "2023-04-04T03:58:54.663Z"
   },
   {
    "duration": 170,
    "start_time": "2023-04-04T03:58:54.668Z"
   },
   {
    "duration": 528,
    "start_time": "2023-04-04T03:58:54.840Z"
   },
   {
    "duration": 1097,
    "start_time": "2023-04-04T03:58:55.370Z"
   },
   {
    "duration": 601,
    "start_time": "2023-04-04T03:58:56.468Z"
   },
   {
    "duration": 157,
    "start_time": "2023-04-04T03:58:57.071Z"
   },
   {
    "duration": 184,
    "start_time": "2023-04-04T03:58:57.233Z"
   },
   {
    "duration": 2,
    "start_time": "2023-04-04T03:58:57.422Z"
   },
   {
    "duration": 219,
    "start_time": "2023-04-04T03:58:57.435Z"
   },
   {
    "duration": 18,
    "start_time": "2023-04-04T03:58:57.656Z"
   },
   {
    "duration": 501,
    "start_time": "2023-04-04T03:58:57.676Z"
   },
   {
    "duration": 163,
    "start_time": "2023-04-04T03:58:58.179Z"
   },
   {
    "duration": 16,
    "start_time": "2023-04-04T03:58:58.344Z"
   },
   {
    "duration": 249,
    "start_time": "2023-04-04T03:58:58.361Z"
   },
   {
    "duration": 152,
    "start_time": "2023-04-04T03:58:58.612Z"
   },
   {
    "duration": 136,
    "start_time": "2023-04-04T03:58:58.766Z"
   },
   {
    "duration": 30,
    "start_time": "2023-04-04T03:58:58.903Z"
   },
   {
    "duration": 2,
    "start_time": "2023-04-04T03:58:58.936Z"
   },
   {
    "duration": 23,
    "start_time": "2023-04-04T03:58:58.940Z"
   },
   {
    "duration": 5,
    "start_time": "2023-04-04T03:58:58.965Z"
   },
   {
    "duration": 86,
    "start_time": "2023-04-04T03:58:58.971Z"
   },
   {
    "duration": 31,
    "start_time": "2023-04-04T03:58:59.059Z"
   },
   {
    "duration": 4,
    "start_time": "2023-04-04T03:58:59.092Z"
   },
   {
    "duration": 20,
    "start_time": "2023-04-04T03:58:59.098Z"
   },
   {
    "duration": 4,
    "start_time": "2023-04-04T03:58:59.134Z"
   },
   {
    "duration": 14,
    "start_time": "2023-04-04T03:58:59.140Z"
   },
   {
    "duration": 29,
    "start_time": "2023-04-04T03:58:59.156Z"
   },
   {
    "duration": 208,
    "start_time": "2023-04-04T03:58:59.186Z"
   },
   {
    "duration": 4,
    "start_time": "2023-04-04T03:58:59.395Z"
   },
   {
    "duration": 96161,
    "start_time": "2023-04-04T03:58:59.401Z"
   },
   {
    "duration": 3,
    "start_time": "2023-04-04T04:00:35.564Z"
   },
   {
    "duration": 26,
    "start_time": "2023-04-04T04:00:35.569Z"
   },
   {
    "duration": 18953,
    "start_time": "2023-04-04T04:00:35.597Z"
   },
   {
    "duration": 91,
    "start_time": "2023-04-04T04:00:54.552Z"
   },
   {
    "duration": 244,
    "start_time": "2023-04-04T04:00:54.739Z"
   },
   {
    "duration": 3,
    "start_time": "2023-04-04T04:00:54.986Z"
   },
   {
    "duration": 12,
    "start_time": "2023-04-04T04:00:54.990Z"
   },
   {
    "duration": 12,
    "start_time": "2023-04-04T04:00:55.004Z"
   },
   {
    "duration": 17216,
    "start_time": "2023-04-04T04:00:55.018Z"
   },
   {
    "duration": 2602,
    "start_time": "2023-04-04T04:01:12.236Z"
   },
   {
    "duration": 3,
    "start_time": "2023-04-04T04:01:14.840Z"
   },
   {
    "duration": 7159,
    "start_time": "2023-04-04T04:01:14.844Z"
   },
   {
    "duration": 107,
    "start_time": "2023-04-04T04:01:22.005Z"
   },
   {
    "duration": 2865,
    "start_time": "2023-04-04T04:01:22.114Z"
   },
   {
    "duration": 2666,
    "start_time": "2023-04-04T04:01:24.981Z"
   },
   {
    "duration": 25,
    "start_time": "2023-04-04T04:06:48.921Z"
   },
   {
    "duration": 13696,
    "start_time": "2023-04-04T04:26:05.094Z"
   },
   {
    "duration": 111574,
    "start_time": "2023-04-04T04:31:02.960Z"
   },
   {
    "duration": 4856,
    "start_time": "2023-04-04T04:35:13.090Z"
   },
   {
    "duration": 2438,
    "start_time": "2023-04-04T04:41:16.199Z"
   },
   {
    "duration": 2552,
    "start_time": "2023-04-04T04:41:18.639Z"
   },
   {
    "duration": 1349,
    "start_time": "2023-04-04T04:41:21.193Z"
   },
   {
    "duration": 921,
    "start_time": "2023-04-04T04:41:22.545Z"
   },
   {
    "duration": 19,
    "start_time": "2023-04-04T04:41:23.468Z"
   },
   {
    "duration": 160,
    "start_time": "2023-04-04T04:41:23.489Z"
   },
   {
    "duration": 4,
    "start_time": "2023-04-04T04:41:23.652Z"
   },
   {
    "duration": 155,
    "start_time": "2023-04-04T04:41:23.658Z"
   },
   {
    "duration": 548,
    "start_time": "2023-04-04T04:41:23.815Z"
   },
   {
    "duration": 1101,
    "start_time": "2023-04-04T04:41:24.366Z"
   },
   {
    "duration": 590,
    "start_time": "2023-04-04T04:41:25.469Z"
   },
   {
    "duration": 155,
    "start_time": "2023-04-04T04:41:26.061Z"
   },
   {
    "duration": 184,
    "start_time": "2023-04-04T04:41:26.217Z"
   },
   {
    "duration": 2,
    "start_time": "2023-04-04T04:41:26.403Z"
   },
   {
    "duration": 232,
    "start_time": "2023-04-04T04:41:26.407Z"
   },
   {
    "duration": 20,
    "start_time": "2023-04-04T04:41:26.641Z"
   },
   {
    "duration": 428,
    "start_time": "2023-04-04T04:41:26.663Z"
   },
   {
    "duration": 158,
    "start_time": "2023-04-04T04:41:27.092Z"
   },
   {
    "duration": 16,
    "start_time": "2023-04-04T04:41:27.252Z"
   },
   {
    "duration": 218,
    "start_time": "2023-04-04T04:41:27.270Z"
   },
   {
    "duration": 137,
    "start_time": "2023-04-04T04:41:27.490Z"
   },
   {
    "duration": 129,
    "start_time": "2023-04-04T04:41:27.633Z"
   },
   {
    "duration": 16,
    "start_time": "2023-04-04T04:41:27.764Z"
   },
   {
    "duration": 2,
    "start_time": "2023-04-04T04:41:27.782Z"
   },
   {
    "duration": 21,
    "start_time": "2023-04-04T04:41:27.786Z"
   },
   {
    "duration": 3,
    "start_time": "2023-04-04T04:41:27.809Z"
   },
   {
    "duration": 88,
    "start_time": "2023-04-04T04:41:27.814Z"
   },
   {
    "duration": 44,
    "start_time": "2023-04-04T04:41:27.906Z"
   },
   {
    "duration": 5,
    "start_time": "2023-04-04T04:41:27.952Z"
   },
   {
    "duration": 18,
    "start_time": "2023-04-04T04:41:27.958Z"
   },
   {
    "duration": 5,
    "start_time": "2023-04-04T04:41:27.977Z"
   },
   {
    "duration": 7,
    "start_time": "2023-04-04T04:41:27.984Z"
   },
   {
    "duration": 42,
    "start_time": "2023-04-04T04:41:27.992Z"
   },
   {
    "duration": 211,
    "start_time": "2023-04-04T04:41:28.036Z"
   },
   {
    "duration": 5,
    "start_time": "2023-04-04T04:41:28.249Z"
   },
   {
    "duration": 85511,
    "start_time": "2023-04-04T04:41:28.256Z"
   },
   {
    "duration": 2,
    "start_time": "2023-04-04T04:42:53.769Z"
   },
   {
    "duration": 24,
    "start_time": "2023-04-04T04:42:53.773Z"
   },
   {
    "duration": 18361,
    "start_time": "2023-04-04T04:42:53.799Z"
   },
   {
    "duration": 173,
    "start_time": "2023-04-04T04:43:12.162Z"
   },
   {
    "duration": 251,
    "start_time": "2023-04-04T04:43:12.338Z"
   },
   {
    "duration": 26,
    "start_time": "2023-04-04T04:43:12.591Z"
   },
   {
    "duration": 14,
    "start_time": "2023-04-04T04:43:12.619Z"
   },
   {
    "duration": 3,
    "start_time": "2023-04-04T04:43:12.635Z"
   },
   {
    "duration": 12,
    "start_time": "2023-04-04T04:43:12.640Z"
   },
   {
    "duration": 19891,
    "start_time": "2023-04-04T04:43:12.654Z"
   },
   {
    "duration": 2593,
    "start_time": "2023-04-04T04:43:32.546Z"
   },
   {
    "duration": 3,
    "start_time": "2023-04-04T04:43:35.141Z"
   },
   {
    "duration": 6719,
    "start_time": "2023-04-04T04:43:35.146Z"
   },
   {
    "duration": 117,
    "start_time": "2023-04-04T04:43:41.868Z"
   },
   {
    "duration": 3013,
    "start_time": "2023-04-04T04:43:41.987Z"
   },
   {
    "duration": 17234,
    "start_time": "2023-04-04T04:43:45.003Z"
   },
   {
    "duration": 3158,
    "start_time": "2023-04-04T04:44:02.239Z"
   },
   {
    "duration": 101,
    "start_time": "2023-04-04T04:46:55.361Z"
   },
   {
    "duration": 103,
    "start_time": "2023-04-04T04:47:00.376Z"
   },
   {
    "duration": 54,
    "start_time": "2023-04-04T04:50:32.538Z"
   },
   {
    "duration": 14102,
    "start_time": "2023-04-04T04:53:35.633Z"
   },
   {
    "duration": 2481,
    "start_time": "2023-04-04T04:56:54.844Z"
   },
   {
    "duration": 2454,
    "start_time": "2023-04-04T04:56:57.328Z"
   },
   {
    "duration": 1367,
    "start_time": "2023-04-04T04:56:59.785Z"
   },
   {
    "duration": 963,
    "start_time": "2023-04-04T04:57:01.154Z"
   },
   {
    "duration": 22,
    "start_time": "2023-04-04T04:57:02.119Z"
   },
   {
    "duration": 163,
    "start_time": "2023-04-04T04:57:02.143Z"
   },
   {
    "duration": 3,
    "start_time": "2023-04-04T04:57:02.308Z"
   },
   {
    "duration": 208,
    "start_time": "2023-04-04T04:57:02.314Z"
   },
   {
    "duration": 602,
    "start_time": "2023-04-04T04:57:02.524Z"
   },
   {
    "duration": 1157,
    "start_time": "2023-04-04T04:57:03.129Z"
   },
   {
    "duration": 604,
    "start_time": "2023-04-04T04:57:04.288Z"
   },
   {
    "duration": 165,
    "start_time": "2023-04-04T04:57:04.894Z"
   },
   {
    "duration": 196,
    "start_time": "2023-04-04T04:57:05.061Z"
   },
   {
    "duration": 3,
    "start_time": "2023-04-04T04:57:05.258Z"
   },
   {
    "duration": 216,
    "start_time": "2023-04-04T04:57:05.262Z"
   },
   {
    "duration": 19,
    "start_time": "2023-04-04T04:57:05.480Z"
   },
   {
    "duration": 418,
    "start_time": "2023-04-04T04:57:05.501Z"
   },
   {
    "duration": 176,
    "start_time": "2023-04-04T04:57:05.921Z"
   },
   {
    "duration": 17,
    "start_time": "2023-04-04T04:57:06.099Z"
   },
   {
    "duration": 238,
    "start_time": "2023-04-04T04:57:06.118Z"
   },
   {
    "duration": 153,
    "start_time": "2023-04-04T04:57:06.358Z"
   },
   {
    "duration": 152,
    "start_time": "2023-04-04T04:57:06.514Z"
   },
   {
    "duration": 20,
    "start_time": "2023-04-04T04:57:06.669Z"
   },
   {
    "duration": 3,
    "start_time": "2023-04-04T04:57:06.692Z"
   },
   {
    "duration": 40,
    "start_time": "2023-04-04T04:57:06.698Z"
   },
   {
    "duration": 9,
    "start_time": "2023-04-04T04:57:06.740Z"
   },
   {
    "duration": 99,
    "start_time": "2023-04-04T04:57:06.751Z"
   },
   {
    "duration": 33,
    "start_time": "2023-04-04T04:57:06.853Z"
   },
   {
    "duration": 5,
    "start_time": "2023-04-04T04:57:06.888Z"
   },
   {
    "duration": 14,
    "start_time": "2023-04-04T04:57:06.895Z"
   },
   {
    "duration": 23,
    "start_time": "2023-04-04T04:57:06.911Z"
   },
   {
    "duration": 4,
    "start_time": "2023-04-04T04:57:06.936Z"
   },
   {
    "duration": 24,
    "start_time": "2023-04-04T04:57:06.942Z"
   },
   {
    "duration": 218,
    "start_time": "2023-04-04T04:57:06.968Z"
   },
   {
    "duration": 4,
    "start_time": "2023-04-04T04:57:07.188Z"
   },
   {
    "duration": 81663,
    "start_time": "2023-04-04T04:57:07.193Z"
   },
   {
    "duration": 3,
    "start_time": "2023-04-04T04:58:28.858Z"
   },
   {
    "duration": 8,
    "start_time": "2023-04-04T04:58:28.862Z"
   },
   {
    "duration": 23578,
    "start_time": "2023-04-04T04:58:28.871Z"
   },
   {
    "duration": 89,
    "start_time": "2023-04-04T04:58:52.452Z"
   },
   {
    "duration": 330,
    "start_time": "2023-04-04T04:58:52.543Z"
   },
   {
    "duration": 25,
    "start_time": "2023-04-04T04:58:52.875Z"
   },
   {
    "duration": 3,
    "start_time": "2023-04-04T04:58:52.902Z"
   },
   {
    "duration": 2472,
    "start_time": "2023-04-04T05:39:31.137Z"
   },
   {
    "duration": 2471,
    "start_time": "2023-04-04T05:39:33.612Z"
   },
   {
    "duration": 1449,
    "start_time": "2023-04-04T05:39:36.085Z"
   },
   {
    "duration": 1009,
    "start_time": "2023-04-04T05:39:37.537Z"
   },
   {
    "duration": 20,
    "start_time": "2023-04-04T05:39:38.548Z"
   },
   {
    "duration": 163,
    "start_time": "2023-04-04T05:39:38.570Z"
   },
   {
    "duration": 4,
    "start_time": "2023-04-04T05:39:38.735Z"
   },
   {
    "duration": 162,
    "start_time": "2023-04-04T05:39:38.740Z"
   },
   {
    "duration": 578,
    "start_time": "2023-04-04T05:39:38.904Z"
   },
   {
    "duration": 1186,
    "start_time": "2023-04-04T05:39:39.485Z"
   },
   {
    "duration": 610,
    "start_time": "2023-04-04T05:39:40.673Z"
   },
   {
    "duration": 164,
    "start_time": "2023-04-04T05:39:41.286Z"
   },
   {
    "duration": 204,
    "start_time": "2023-04-04T05:39:41.452Z"
   },
   {
    "duration": 4,
    "start_time": "2023-04-04T05:39:41.658Z"
   },
   {
    "duration": 206,
    "start_time": "2023-04-04T05:39:41.664Z"
   },
   {
    "duration": 24,
    "start_time": "2023-04-04T05:39:41.872Z"
   },
   {
    "duration": 428,
    "start_time": "2023-04-04T05:39:41.898Z"
   },
   {
    "duration": 161,
    "start_time": "2023-04-04T05:39:42.328Z"
   },
   {
    "duration": 17,
    "start_time": "2023-04-04T05:39:42.491Z"
   },
   {
    "duration": 243,
    "start_time": "2023-04-04T05:39:42.510Z"
   },
   {
    "duration": 144,
    "start_time": "2023-04-04T05:39:42.755Z"
   },
   {
    "duration": 146,
    "start_time": "2023-04-04T05:39:42.901Z"
   },
   {
    "duration": 22,
    "start_time": "2023-04-04T05:39:43.049Z"
   },
   {
    "duration": 3,
    "start_time": "2023-04-04T05:39:43.074Z"
   },
   {
    "duration": 23,
    "start_time": "2023-04-04T05:39:43.079Z"
   },
   {
    "duration": 29,
    "start_time": "2023-04-04T05:39:43.107Z"
   },
   {
    "duration": 77,
    "start_time": "2023-04-04T05:39:43.138Z"
   },
   {
    "duration": 53,
    "start_time": "2023-04-04T05:39:43.220Z"
   },
   {
    "duration": 6,
    "start_time": "2023-04-04T05:39:43.276Z"
   },
   {
    "duration": 18,
    "start_time": "2023-04-04T05:39:43.284Z"
   },
   {
    "duration": 30,
    "start_time": "2023-04-04T05:39:43.304Z"
   },
   {
    "duration": 13,
    "start_time": "2023-04-04T05:39:43.336Z"
   },
   {
    "duration": 40,
    "start_time": "2023-04-04T05:39:43.352Z"
   },
   {
    "duration": 221,
    "start_time": "2023-04-04T05:39:43.395Z"
   },
   {
    "duration": 4,
    "start_time": "2023-04-04T05:39:43.618Z"
   },
   {
    "duration": 87980,
    "start_time": "2023-04-04T05:39:43.624Z"
   },
   {
    "duration": 2,
    "start_time": "2023-04-04T05:41:11.606Z"
   },
   {
    "duration": 29,
    "start_time": "2023-04-04T05:41:11.610Z"
   },
   {
    "duration": 45797,
    "start_time": "2023-04-04T05:41:11.640Z"
   },
   {
    "duration": 99,
    "start_time": "2023-04-04T05:41:57.439Z"
   },
   {
    "duration": 286,
    "start_time": "2023-04-04T05:41:57.540Z"
   },
   {
    "duration": 33,
    "start_time": "2023-04-04T05:41:57.828Z"
   },
   {
    "duration": 5,
    "start_time": "2023-04-04T05:41:57.863Z"
   },
   {
    "duration": 26,
    "start_time": "2023-04-04T05:41:57.870Z"
   },
   {
    "duration": 32,
    "start_time": "2023-04-04T05:41:57.898Z"
   },
   {
    "duration": 2513,
    "start_time": "2023-04-04T05:45:07.519Z"
   },
   {
    "duration": 2423,
    "start_time": "2023-04-04T05:45:10.036Z"
   },
   {
    "duration": 1414,
    "start_time": "2023-04-04T05:45:12.462Z"
   },
   {
    "duration": 985,
    "start_time": "2023-04-04T05:45:13.879Z"
   },
   {
    "duration": 26,
    "start_time": "2023-04-04T05:45:14.867Z"
   },
   {
    "duration": 193,
    "start_time": "2023-04-04T05:45:14.895Z"
   },
   {
    "duration": 3,
    "start_time": "2023-04-04T05:45:15.090Z"
   },
   {
    "duration": 157,
    "start_time": "2023-04-04T05:45:15.095Z"
   },
   {
    "duration": 565,
    "start_time": "2023-04-04T05:45:15.254Z"
   },
   {
    "duration": 1260,
    "start_time": "2023-04-04T05:45:15.821Z"
   },
   {
    "duration": 610,
    "start_time": "2023-04-04T05:45:17.083Z"
   },
   {
    "duration": 169,
    "start_time": "2023-04-04T05:45:17.696Z"
   },
   {
    "duration": 195,
    "start_time": "2023-04-04T05:45:17.867Z"
   },
   {
    "duration": 3,
    "start_time": "2023-04-04T05:45:18.064Z"
   },
   {
    "duration": 221,
    "start_time": "2023-04-04T05:45:18.069Z"
   },
   {
    "duration": 17,
    "start_time": "2023-04-04T05:45:18.292Z"
   },
   {
    "duration": 425,
    "start_time": "2023-04-04T05:45:18.311Z"
   },
   {
    "duration": 162,
    "start_time": "2023-04-04T05:45:18.738Z"
   },
   {
    "duration": 18,
    "start_time": "2023-04-04T05:45:18.902Z"
   },
   {
    "duration": 247,
    "start_time": "2023-04-04T05:45:18.922Z"
   },
   {
    "duration": 150,
    "start_time": "2023-04-04T05:45:19.171Z"
   },
   {
    "duration": 147,
    "start_time": "2023-04-04T05:45:19.324Z"
   },
   {
    "duration": 18,
    "start_time": "2023-04-04T05:45:19.473Z"
   },
   {
    "duration": 3,
    "start_time": "2023-04-04T05:45:19.493Z"
   },
   {
    "duration": 41,
    "start_time": "2023-04-04T05:45:19.498Z"
   },
   {
    "duration": 5,
    "start_time": "2023-04-04T05:45:19.542Z"
   },
   {
    "duration": 83,
    "start_time": "2023-04-04T05:45:19.550Z"
   },
   {
    "duration": 36,
    "start_time": "2023-04-04T05:45:19.639Z"
   },
   {
    "duration": 5,
    "start_time": "2023-04-04T05:45:19.677Z"
   },
   {
    "duration": 43,
    "start_time": "2023-04-04T05:45:19.684Z"
   },
   {
    "duration": 26,
    "start_time": "2023-04-04T05:45:19.729Z"
   },
   {
    "duration": 26,
    "start_time": "2023-04-04T05:45:19.757Z"
   },
   {
    "duration": 37,
    "start_time": "2023-04-04T05:45:19.785Z"
   },
   {
    "duration": 256,
    "start_time": "2023-04-04T05:45:19.824Z"
   },
   {
    "duration": 5,
    "start_time": "2023-04-04T05:45:20.082Z"
   },
   {
    "duration": 90503,
    "start_time": "2023-04-04T05:45:20.089Z"
   },
   {
    "duration": 3,
    "start_time": "2023-04-04T05:46:50.593Z"
   },
   {
    "duration": 9,
    "start_time": "2023-04-04T05:46:50.598Z"
   },
   {
    "duration": 33549,
    "start_time": "2023-04-04T05:46:50.609Z"
   },
   {
    "duration": 176,
    "start_time": "2023-04-04T05:47:24.160Z"
   },
   {
    "duration": 242,
    "start_time": "2023-04-04T05:47:24.339Z"
   },
   {
    "duration": 27,
    "start_time": "2023-04-04T05:47:24.583Z"
   },
   {
    "duration": 33,
    "start_time": "2023-04-04T05:47:24.612Z"
   },
   {
    "duration": 18,
    "start_time": "2023-04-04T05:47:24.647Z"
   },
   {
    "duration": 13,
    "start_time": "2023-04-04T05:47:24.667Z"
   },
   {
    "duration": 2231,
    "start_time": "2023-04-04T23:35:55.229Z"
   },
   {
    "duration": 6617,
    "start_time": "2023-04-04T23:35:57.463Z"
   },
   {
    "duration": 1386,
    "start_time": "2023-04-04T23:36:04.081Z"
   },
   {
    "duration": 2987,
    "start_time": "2023-04-04T23:36:05.470Z"
   },
   {
    "duration": 17,
    "start_time": "2023-04-04T23:36:08.460Z"
   },
   {
    "duration": 115,
    "start_time": "2023-04-04T23:36:08.479Z"
   },
   {
    "duration": 3,
    "start_time": "2023-04-04T23:36:08.596Z"
   },
   {
    "duration": 116,
    "start_time": "2023-04-04T23:36:08.601Z"
   },
   {
    "duration": 457,
    "start_time": "2023-04-04T23:36:08.719Z"
   },
   {
    "duration": 975,
    "start_time": "2023-04-04T23:36:09.179Z"
   },
   {
    "duration": 502,
    "start_time": "2023-04-04T23:36:10.156Z"
   },
   {
    "duration": 137,
    "start_time": "2023-04-04T23:36:10.660Z"
   },
   {
    "duration": 151,
    "start_time": "2023-04-04T23:36:10.798Z"
   },
   {
    "duration": 2,
    "start_time": "2023-04-04T23:36:10.951Z"
   },
   {
    "duration": 176,
    "start_time": "2023-04-04T23:36:10.955Z"
   },
   {
    "duration": 18,
    "start_time": "2023-04-04T23:36:11.132Z"
   },
   {
    "duration": 349,
    "start_time": "2023-04-04T23:36:11.152Z"
   },
   {
    "duration": 148,
    "start_time": "2023-04-04T23:36:11.502Z"
   },
   {
    "duration": 14,
    "start_time": "2023-04-04T23:36:11.651Z"
   },
   {
    "duration": 200,
    "start_time": "2023-04-04T23:36:11.667Z"
   },
   {
    "duration": 130,
    "start_time": "2023-04-04T23:36:11.868Z"
   },
   {
    "duration": 121,
    "start_time": "2023-04-04T23:36:12.000Z"
   },
   {
    "duration": 23,
    "start_time": "2023-04-04T23:36:12.123Z"
   },
   {
    "duration": 2,
    "start_time": "2023-04-04T23:36:12.148Z"
   },
   {
    "duration": 21,
    "start_time": "2023-04-04T23:36:12.151Z"
   },
   {
    "duration": 4,
    "start_time": "2023-04-04T23:36:12.173Z"
   },
   {
    "duration": 87,
    "start_time": "2023-04-04T23:36:12.178Z"
   },
   {
    "duration": 32,
    "start_time": "2023-04-04T23:36:12.268Z"
   },
   {
    "duration": 5,
    "start_time": "2023-04-04T23:36:12.303Z"
   },
   {
    "duration": 12,
    "start_time": "2023-04-04T23:36:12.309Z"
   },
   {
    "duration": 4,
    "start_time": "2023-04-04T23:36:12.340Z"
   },
   {
    "duration": 6,
    "start_time": "2023-04-04T23:36:12.346Z"
   },
   {
    "duration": 19,
    "start_time": "2023-04-04T23:36:12.354Z"
   },
   {
    "duration": 187,
    "start_time": "2023-04-04T23:36:12.374Z"
   },
   {
    "duration": 3,
    "start_time": "2023-04-04T23:36:12.562Z"
   },
   {
    "duration": 92186,
    "start_time": "2023-04-04T23:36:12.567Z"
   },
   {
    "duration": 2,
    "start_time": "2023-04-04T23:37:44.755Z"
   },
   {
    "duration": 12,
    "start_time": "2023-04-04T23:37:44.759Z"
   },
   {
    "duration": 24785,
    "start_time": "2023-04-04T23:37:44.773Z"
   },
   {
    "duration": 91,
    "start_time": "2023-04-04T23:38:09.560Z"
   },
   {
    "duration": 223,
    "start_time": "2023-04-04T23:38:09.742Z"
   },
   {
    "duration": 24,
    "start_time": "2023-04-04T23:38:09.967Z"
   },
   {
    "duration": 5,
    "start_time": "2023-04-04T23:38:09.993Z"
   },
   {
    "duration": 1038768,
    "start_time": "2023-04-04T23:38:10.000Z"
   },
   {
    "duration": 10,
    "start_time": "2023-04-04T23:55:28.769Z"
   },
   {
    "duration": 0,
    "start_time": "2023-04-04T23:55:28.780Z"
   },
   {
    "duration": 0,
    "start_time": "2023-04-04T23:55:28.781Z"
   },
   {
    "duration": 0,
    "start_time": "2023-04-04T23:55:28.782Z"
   },
   {
    "duration": 0,
    "start_time": "2023-04-04T23:55:28.783Z"
   },
   {
    "duration": 0,
    "start_time": "2023-04-04T23:55:28.784Z"
   },
   {
    "duration": 0,
    "start_time": "2023-04-04T23:55:28.785Z"
   },
   {
    "duration": 0,
    "start_time": "2023-04-04T23:55:28.786Z"
   },
   {
    "duration": 0,
    "start_time": "2023-04-04T23:55:28.787Z"
   }
  ],
  "kernelspec": {
   "display_name": "Python 3 (ipykernel)",
   "language": "python",
   "name": "python3"
  },
  "language_info": {
   "codemirror_mode": {
    "name": "ipython",
    "version": 3
   },
   "file_extension": ".py",
   "mimetype": "text/x-python",
   "name": "python",
   "nbconvert_exporter": "python",
   "pygments_lexer": "ipython3",
   "version": "3.9.12"
  },
  "toc": {
   "base_numbering": 1,
   "nav_menu": {},
   "number_sections": true,
   "sideBar": true,
   "skip_h1_title": true,
   "title_cell": "Table of Contents",
   "title_sidebar": "Contents",
   "toc_cell": false,
   "toc_position": {},
   "toc_section_display": true,
   "toc_window_display": false
  }
 },
 "nbformat": 4,
 "nbformat_minor": 2
}
