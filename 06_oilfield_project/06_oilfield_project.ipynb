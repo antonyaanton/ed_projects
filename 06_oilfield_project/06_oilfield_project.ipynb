{
 "cells": [
  {
   "cell_type": "markdown",
   "metadata": {},
   "source": [
    "# Выбор локации для скважины"
   ]
  },
  {
   "cell_type": "markdown",
   "metadata": {},
   "source": [
    "Допустим, вы работаете в добывающей компании «ГлавРосГосНефть». Нужно решить, где бурить новую скважину.\n",
    "\n",
    "Вам предоставлены пробы нефти в трёх регионах: в каждом 10 000 месторождений, где измерили качество нефти и объём её запасов. Постройте модель машинного обучения, которая поможет определить регион, где добыча принесёт наибольшую прибыль. Проанализируйте возможную прибыль и риски техникой *Bootstrap.*\n",
    "\n",
    "Шаги для выбора локации:\n",
    "\n",
    "- В избранном регионе ищут месторождения, для каждого определяют значения признаков;\n",
    "- Строят модель и оценивают объём запасов;\n",
    "- Выбирают месторождения с самым высокими оценками значений. Количество месторождений зависит от бюджета компании и стоимости разработки одной скважины;\n",
    "- Прибыль равна суммарной прибыли отобранных месторождений."
   ]
  },
  {
   "cell_type": "markdown",
   "metadata": {},
   "source": [
    "## Загрузка и подготовка данных"
   ]
  },
  {
   "cell_type": "code",
   "execution_count": 1,
   "metadata": {},
   "outputs": [],
   "source": [
    "import pandas as pd\n",
    "import numpy as np\n",
    "import seaborn as sns\n",
    "import matplotlib.pyplot as plt\n",
    "\n",
    "from scipy import stats as st\n",
    "\n",
    "from sklearn.preprocessing import StandardScaler\n",
    "\n",
    "from sklearn.linear_model import LinearRegression\n",
    "\n",
    "from sklearn.model_selection import train_test_split\n",
    "\n",
    "from sklearn.metrics import mean_squared_error, r2_score"
   ]
  },
  {
   "cell_type": "code",
   "execution_count": 2,
   "metadata": {},
   "outputs": [],
   "source": [
    "df_0 = pd.read_csv('/datasets/geo_data_0.csv')\n",
    "df_1 = pd.read_csv('/datasets/geo_data_1.csv')\n",
    "df_2 = pd.read_csv('/datasets/geo_data_2.csv')"
   ]
  },
  {
   "cell_type": "code",
   "execution_count": 3,
   "metadata": {},
   "outputs": [],
   "source": [
    "def data_info(data):\n",
    "    data.info()\n",
    "    display(data.head())\n",
    "    display(data.describe())\n",
    "    print(f'Количество дупликатов в в датасете: \\n{data.duplicated().sum()}')\n",
    "    print(f'Количество пропусков в датасете: \\n{data.isnull().sum()}')\n",
    "    print(f'________________________________________________________')"
   ]
  },
  {
   "cell_type": "markdown",
   "metadata": {},
   "source": [
    "<div class=\"alert alert-block alert-success\"><b>Комментарий ревьюера </b>\n",
    "    \n",
    "<b>Успех:</b><br>\n",
    "👍 👍 👍 \n",
    "</div> "
   ]
  },
  {
   "cell_type": "code",
   "execution_count": 4,
   "metadata": {},
   "outputs": [
    {
     "name": "stdout",
     "output_type": "stream",
     "text": [
      "<class 'pandas.core.frame.DataFrame'>\n",
      "RangeIndex: 100000 entries, 0 to 99999\n",
      "Data columns (total 5 columns):\n",
      " #   Column   Non-Null Count   Dtype  \n",
      "---  ------   --------------   -----  \n",
      " 0   id       100000 non-null  object \n",
      " 1   f0       100000 non-null  float64\n",
      " 2   f1       100000 non-null  float64\n",
      " 3   f2       100000 non-null  float64\n",
      " 4   product  100000 non-null  float64\n",
      "dtypes: float64(4), object(1)\n",
      "memory usage: 3.8+ MB\n"
     ]
    },
    {
     "data": {
      "text/html": [
       "<div>\n",
       "<style scoped>\n",
       "    .dataframe tbody tr th:only-of-type {\n",
       "        vertical-align: middle;\n",
       "    }\n",
       "\n",
       "    .dataframe tbody tr th {\n",
       "        vertical-align: top;\n",
       "    }\n",
       "\n",
       "    .dataframe thead th {\n",
       "        text-align: right;\n",
       "    }\n",
       "</style>\n",
       "<table border=\"1\" class=\"dataframe\">\n",
       "  <thead>\n",
       "    <tr style=\"text-align: right;\">\n",
       "      <th></th>\n",
       "      <th>id</th>\n",
       "      <th>f0</th>\n",
       "      <th>f1</th>\n",
       "      <th>f2</th>\n",
       "      <th>product</th>\n",
       "    </tr>\n",
       "  </thead>\n",
       "  <tbody>\n",
       "    <tr>\n",
       "      <th>0</th>\n",
       "      <td>txEyH</td>\n",
       "      <td>0.705745</td>\n",
       "      <td>-0.497823</td>\n",
       "      <td>1.221170</td>\n",
       "      <td>105.280062</td>\n",
       "    </tr>\n",
       "    <tr>\n",
       "      <th>1</th>\n",
       "      <td>2acmU</td>\n",
       "      <td>1.334711</td>\n",
       "      <td>-0.340164</td>\n",
       "      <td>4.365080</td>\n",
       "      <td>73.037750</td>\n",
       "    </tr>\n",
       "    <tr>\n",
       "      <th>2</th>\n",
       "      <td>409Wp</td>\n",
       "      <td>1.022732</td>\n",
       "      <td>0.151990</td>\n",
       "      <td>1.419926</td>\n",
       "      <td>85.265647</td>\n",
       "    </tr>\n",
       "    <tr>\n",
       "      <th>3</th>\n",
       "      <td>iJLyR</td>\n",
       "      <td>-0.032172</td>\n",
       "      <td>0.139033</td>\n",
       "      <td>2.978566</td>\n",
       "      <td>168.620776</td>\n",
       "    </tr>\n",
       "    <tr>\n",
       "      <th>4</th>\n",
       "      <td>Xdl7t</td>\n",
       "      <td>1.988431</td>\n",
       "      <td>0.155413</td>\n",
       "      <td>4.751769</td>\n",
       "      <td>154.036647</td>\n",
       "    </tr>\n",
       "  </tbody>\n",
       "</table>\n",
       "</div>"
      ],
      "text/plain": [
       "      id        f0        f1        f2     product\n",
       "0  txEyH  0.705745 -0.497823  1.221170  105.280062\n",
       "1  2acmU  1.334711 -0.340164  4.365080   73.037750\n",
       "2  409Wp  1.022732  0.151990  1.419926   85.265647\n",
       "3  iJLyR -0.032172  0.139033  2.978566  168.620776\n",
       "4  Xdl7t  1.988431  0.155413  4.751769  154.036647"
      ]
     },
     "metadata": {},
     "output_type": "display_data"
    },
    {
     "data": {
      "text/html": [
       "<div>\n",
       "<style scoped>\n",
       "    .dataframe tbody tr th:only-of-type {\n",
       "        vertical-align: middle;\n",
       "    }\n",
       "\n",
       "    .dataframe tbody tr th {\n",
       "        vertical-align: top;\n",
       "    }\n",
       "\n",
       "    .dataframe thead th {\n",
       "        text-align: right;\n",
       "    }\n",
       "</style>\n",
       "<table border=\"1\" class=\"dataframe\">\n",
       "  <thead>\n",
       "    <tr style=\"text-align: right;\">\n",
       "      <th></th>\n",
       "      <th>f0</th>\n",
       "      <th>f1</th>\n",
       "      <th>f2</th>\n",
       "      <th>product</th>\n",
       "    </tr>\n",
       "  </thead>\n",
       "  <tbody>\n",
       "    <tr>\n",
       "      <th>count</th>\n",
       "      <td>100000.000000</td>\n",
       "      <td>100000.000000</td>\n",
       "      <td>100000.000000</td>\n",
       "      <td>100000.000000</td>\n",
       "    </tr>\n",
       "    <tr>\n",
       "      <th>mean</th>\n",
       "      <td>0.500419</td>\n",
       "      <td>0.250143</td>\n",
       "      <td>2.502647</td>\n",
       "      <td>92.500000</td>\n",
       "    </tr>\n",
       "    <tr>\n",
       "      <th>std</th>\n",
       "      <td>0.871832</td>\n",
       "      <td>0.504433</td>\n",
       "      <td>3.248248</td>\n",
       "      <td>44.288691</td>\n",
       "    </tr>\n",
       "    <tr>\n",
       "      <th>min</th>\n",
       "      <td>-1.408605</td>\n",
       "      <td>-0.848218</td>\n",
       "      <td>-12.088328</td>\n",
       "      <td>0.000000</td>\n",
       "    </tr>\n",
       "    <tr>\n",
       "      <th>25%</th>\n",
       "      <td>-0.072580</td>\n",
       "      <td>-0.200881</td>\n",
       "      <td>0.287748</td>\n",
       "      <td>56.497507</td>\n",
       "    </tr>\n",
       "    <tr>\n",
       "      <th>50%</th>\n",
       "      <td>0.502360</td>\n",
       "      <td>0.250252</td>\n",
       "      <td>2.515969</td>\n",
       "      <td>91.849972</td>\n",
       "    </tr>\n",
       "    <tr>\n",
       "      <th>75%</th>\n",
       "      <td>1.073581</td>\n",
       "      <td>0.700646</td>\n",
       "      <td>4.715088</td>\n",
       "      <td>128.564089</td>\n",
       "    </tr>\n",
       "    <tr>\n",
       "      <th>max</th>\n",
       "      <td>2.362331</td>\n",
       "      <td>1.343769</td>\n",
       "      <td>16.003790</td>\n",
       "      <td>185.364347</td>\n",
       "    </tr>\n",
       "  </tbody>\n",
       "</table>\n",
       "</div>"
      ],
      "text/plain": [
       "                  f0             f1             f2        product\n",
       "count  100000.000000  100000.000000  100000.000000  100000.000000\n",
       "mean        0.500419       0.250143       2.502647      92.500000\n",
       "std         0.871832       0.504433       3.248248      44.288691\n",
       "min        -1.408605      -0.848218     -12.088328       0.000000\n",
       "25%        -0.072580      -0.200881       0.287748      56.497507\n",
       "50%         0.502360       0.250252       2.515969      91.849972\n",
       "75%         1.073581       0.700646       4.715088     128.564089\n",
       "max         2.362331       1.343769      16.003790     185.364347"
      ]
     },
     "metadata": {},
     "output_type": "display_data"
    },
    {
     "name": "stdout",
     "output_type": "stream",
     "text": [
      "Количество дупликатов в в датасете: \n",
      "0\n",
      "Количество пропусков в датасете: \n",
      "id         0\n",
      "f0         0\n",
      "f1         0\n",
      "f2         0\n",
      "product    0\n",
      "dtype: int64\n",
      "________________________________________________________\n",
      "<class 'pandas.core.frame.DataFrame'>\n",
      "RangeIndex: 100000 entries, 0 to 99999\n",
      "Data columns (total 5 columns):\n",
      " #   Column   Non-Null Count   Dtype  \n",
      "---  ------   --------------   -----  \n",
      " 0   id       100000 non-null  object \n",
      " 1   f0       100000 non-null  float64\n",
      " 2   f1       100000 non-null  float64\n",
      " 3   f2       100000 non-null  float64\n",
      " 4   product  100000 non-null  float64\n",
      "dtypes: float64(4), object(1)\n",
      "memory usage: 3.8+ MB\n"
     ]
    },
    {
     "data": {
      "text/html": [
       "<div>\n",
       "<style scoped>\n",
       "    .dataframe tbody tr th:only-of-type {\n",
       "        vertical-align: middle;\n",
       "    }\n",
       "\n",
       "    .dataframe tbody tr th {\n",
       "        vertical-align: top;\n",
       "    }\n",
       "\n",
       "    .dataframe thead th {\n",
       "        text-align: right;\n",
       "    }\n",
       "</style>\n",
       "<table border=\"1\" class=\"dataframe\">\n",
       "  <thead>\n",
       "    <tr style=\"text-align: right;\">\n",
       "      <th></th>\n",
       "      <th>id</th>\n",
       "      <th>f0</th>\n",
       "      <th>f1</th>\n",
       "      <th>f2</th>\n",
       "      <th>product</th>\n",
       "    </tr>\n",
       "  </thead>\n",
       "  <tbody>\n",
       "    <tr>\n",
       "      <th>0</th>\n",
       "      <td>kBEdx</td>\n",
       "      <td>-15.001348</td>\n",
       "      <td>-8.276000</td>\n",
       "      <td>-0.005876</td>\n",
       "      <td>3.179103</td>\n",
       "    </tr>\n",
       "    <tr>\n",
       "      <th>1</th>\n",
       "      <td>62mP7</td>\n",
       "      <td>14.272088</td>\n",
       "      <td>-3.475083</td>\n",
       "      <td>0.999183</td>\n",
       "      <td>26.953261</td>\n",
       "    </tr>\n",
       "    <tr>\n",
       "      <th>2</th>\n",
       "      <td>vyE1P</td>\n",
       "      <td>6.263187</td>\n",
       "      <td>-5.948386</td>\n",
       "      <td>5.001160</td>\n",
       "      <td>134.766305</td>\n",
       "    </tr>\n",
       "    <tr>\n",
       "      <th>3</th>\n",
       "      <td>KcrkZ</td>\n",
       "      <td>-13.081196</td>\n",
       "      <td>-11.506057</td>\n",
       "      <td>4.999415</td>\n",
       "      <td>137.945408</td>\n",
       "    </tr>\n",
       "    <tr>\n",
       "      <th>4</th>\n",
       "      <td>AHL4O</td>\n",
       "      <td>12.702195</td>\n",
       "      <td>-8.147433</td>\n",
       "      <td>5.004363</td>\n",
       "      <td>134.766305</td>\n",
       "    </tr>\n",
       "  </tbody>\n",
       "</table>\n",
       "</div>"
      ],
      "text/plain": [
       "      id         f0         f1        f2     product\n",
       "0  kBEdx -15.001348  -8.276000 -0.005876    3.179103\n",
       "1  62mP7  14.272088  -3.475083  0.999183   26.953261\n",
       "2  vyE1P   6.263187  -5.948386  5.001160  134.766305\n",
       "3  KcrkZ -13.081196 -11.506057  4.999415  137.945408\n",
       "4  AHL4O  12.702195  -8.147433  5.004363  134.766305"
      ]
     },
     "metadata": {},
     "output_type": "display_data"
    },
    {
     "data": {
      "text/html": [
       "<div>\n",
       "<style scoped>\n",
       "    .dataframe tbody tr th:only-of-type {\n",
       "        vertical-align: middle;\n",
       "    }\n",
       "\n",
       "    .dataframe tbody tr th {\n",
       "        vertical-align: top;\n",
       "    }\n",
       "\n",
       "    .dataframe thead th {\n",
       "        text-align: right;\n",
       "    }\n",
       "</style>\n",
       "<table border=\"1\" class=\"dataframe\">\n",
       "  <thead>\n",
       "    <tr style=\"text-align: right;\">\n",
       "      <th></th>\n",
       "      <th>f0</th>\n",
       "      <th>f1</th>\n",
       "      <th>f2</th>\n",
       "      <th>product</th>\n",
       "    </tr>\n",
       "  </thead>\n",
       "  <tbody>\n",
       "    <tr>\n",
       "      <th>count</th>\n",
       "      <td>100000.000000</td>\n",
       "      <td>100000.000000</td>\n",
       "      <td>100000.000000</td>\n",
       "      <td>100000.000000</td>\n",
       "    </tr>\n",
       "    <tr>\n",
       "      <th>mean</th>\n",
       "      <td>1.141296</td>\n",
       "      <td>-4.796579</td>\n",
       "      <td>2.494541</td>\n",
       "      <td>68.825000</td>\n",
       "    </tr>\n",
       "    <tr>\n",
       "      <th>std</th>\n",
       "      <td>8.965932</td>\n",
       "      <td>5.119872</td>\n",
       "      <td>1.703572</td>\n",
       "      <td>45.944423</td>\n",
       "    </tr>\n",
       "    <tr>\n",
       "      <th>min</th>\n",
       "      <td>-31.609576</td>\n",
       "      <td>-26.358598</td>\n",
       "      <td>-0.018144</td>\n",
       "      <td>0.000000</td>\n",
       "    </tr>\n",
       "    <tr>\n",
       "      <th>25%</th>\n",
       "      <td>-6.298551</td>\n",
       "      <td>-8.267985</td>\n",
       "      <td>1.000021</td>\n",
       "      <td>26.953261</td>\n",
       "    </tr>\n",
       "    <tr>\n",
       "      <th>50%</th>\n",
       "      <td>1.153055</td>\n",
       "      <td>-4.813172</td>\n",
       "      <td>2.011479</td>\n",
       "      <td>57.085625</td>\n",
       "    </tr>\n",
       "    <tr>\n",
       "      <th>75%</th>\n",
       "      <td>8.621015</td>\n",
       "      <td>-1.332816</td>\n",
       "      <td>3.999904</td>\n",
       "      <td>107.813044</td>\n",
       "    </tr>\n",
       "    <tr>\n",
       "      <th>max</th>\n",
       "      <td>29.421755</td>\n",
       "      <td>18.734063</td>\n",
       "      <td>5.019721</td>\n",
       "      <td>137.945408</td>\n",
       "    </tr>\n",
       "  </tbody>\n",
       "</table>\n",
       "</div>"
      ],
      "text/plain": [
       "                  f0             f1             f2        product\n",
       "count  100000.000000  100000.000000  100000.000000  100000.000000\n",
       "mean        1.141296      -4.796579       2.494541      68.825000\n",
       "std         8.965932       5.119872       1.703572      45.944423\n",
       "min       -31.609576     -26.358598      -0.018144       0.000000\n",
       "25%        -6.298551      -8.267985       1.000021      26.953261\n",
       "50%         1.153055      -4.813172       2.011479      57.085625\n",
       "75%         8.621015      -1.332816       3.999904     107.813044\n",
       "max        29.421755      18.734063       5.019721     137.945408"
      ]
     },
     "metadata": {},
     "output_type": "display_data"
    },
    {
     "name": "stdout",
     "output_type": "stream",
     "text": [
      "Количество дупликатов в в датасете: \n",
      "0\n",
      "Количество пропусков в датасете: \n",
      "id         0\n",
      "f0         0\n",
      "f1         0\n",
      "f2         0\n",
      "product    0\n",
      "dtype: int64\n",
      "________________________________________________________\n",
      "<class 'pandas.core.frame.DataFrame'>\n",
      "RangeIndex: 100000 entries, 0 to 99999\n",
      "Data columns (total 5 columns):\n",
      " #   Column   Non-Null Count   Dtype  \n",
      "---  ------   --------------   -----  \n",
      " 0   id       100000 non-null  object \n",
      " 1   f0       100000 non-null  float64\n",
      " 2   f1       100000 non-null  float64\n",
      " 3   f2       100000 non-null  float64\n",
      " 4   product  100000 non-null  float64\n",
      "dtypes: float64(4), object(1)\n",
      "memory usage: 3.8+ MB\n"
     ]
    },
    {
     "data": {
      "text/html": [
       "<div>\n",
       "<style scoped>\n",
       "    .dataframe tbody tr th:only-of-type {\n",
       "        vertical-align: middle;\n",
       "    }\n",
       "\n",
       "    .dataframe tbody tr th {\n",
       "        vertical-align: top;\n",
       "    }\n",
       "\n",
       "    .dataframe thead th {\n",
       "        text-align: right;\n",
       "    }\n",
       "</style>\n",
       "<table border=\"1\" class=\"dataframe\">\n",
       "  <thead>\n",
       "    <tr style=\"text-align: right;\">\n",
       "      <th></th>\n",
       "      <th>id</th>\n",
       "      <th>f0</th>\n",
       "      <th>f1</th>\n",
       "      <th>f2</th>\n",
       "      <th>product</th>\n",
       "    </tr>\n",
       "  </thead>\n",
       "  <tbody>\n",
       "    <tr>\n",
       "      <th>0</th>\n",
       "      <td>fwXo0</td>\n",
       "      <td>-1.146987</td>\n",
       "      <td>0.963328</td>\n",
       "      <td>-0.828965</td>\n",
       "      <td>27.758673</td>\n",
       "    </tr>\n",
       "    <tr>\n",
       "      <th>1</th>\n",
       "      <td>WJtFt</td>\n",
       "      <td>0.262778</td>\n",
       "      <td>0.269839</td>\n",
       "      <td>-2.530187</td>\n",
       "      <td>56.069697</td>\n",
       "    </tr>\n",
       "    <tr>\n",
       "      <th>2</th>\n",
       "      <td>ovLUW</td>\n",
       "      <td>0.194587</td>\n",
       "      <td>0.289035</td>\n",
       "      <td>-5.586433</td>\n",
       "      <td>62.871910</td>\n",
       "    </tr>\n",
       "    <tr>\n",
       "      <th>3</th>\n",
       "      <td>q6cA6</td>\n",
       "      <td>2.236060</td>\n",
       "      <td>-0.553760</td>\n",
       "      <td>0.930038</td>\n",
       "      <td>114.572842</td>\n",
       "    </tr>\n",
       "    <tr>\n",
       "      <th>4</th>\n",
       "      <td>WPMUX</td>\n",
       "      <td>-0.515993</td>\n",
       "      <td>1.716266</td>\n",
       "      <td>5.899011</td>\n",
       "      <td>149.600746</td>\n",
       "    </tr>\n",
       "  </tbody>\n",
       "</table>\n",
       "</div>"
      ],
      "text/plain": [
       "      id        f0        f1        f2     product\n",
       "0  fwXo0 -1.146987  0.963328 -0.828965   27.758673\n",
       "1  WJtFt  0.262778  0.269839 -2.530187   56.069697\n",
       "2  ovLUW  0.194587  0.289035 -5.586433   62.871910\n",
       "3  q6cA6  2.236060 -0.553760  0.930038  114.572842\n",
       "4  WPMUX -0.515993  1.716266  5.899011  149.600746"
      ]
     },
     "metadata": {},
     "output_type": "display_data"
    },
    {
     "data": {
      "text/html": [
       "<div>\n",
       "<style scoped>\n",
       "    .dataframe tbody tr th:only-of-type {\n",
       "        vertical-align: middle;\n",
       "    }\n",
       "\n",
       "    .dataframe tbody tr th {\n",
       "        vertical-align: top;\n",
       "    }\n",
       "\n",
       "    .dataframe thead th {\n",
       "        text-align: right;\n",
       "    }\n",
       "</style>\n",
       "<table border=\"1\" class=\"dataframe\">\n",
       "  <thead>\n",
       "    <tr style=\"text-align: right;\">\n",
       "      <th></th>\n",
       "      <th>f0</th>\n",
       "      <th>f1</th>\n",
       "      <th>f2</th>\n",
       "      <th>product</th>\n",
       "    </tr>\n",
       "  </thead>\n",
       "  <tbody>\n",
       "    <tr>\n",
       "      <th>count</th>\n",
       "      <td>100000.000000</td>\n",
       "      <td>100000.000000</td>\n",
       "      <td>100000.000000</td>\n",
       "      <td>100000.000000</td>\n",
       "    </tr>\n",
       "    <tr>\n",
       "      <th>mean</th>\n",
       "      <td>0.002023</td>\n",
       "      <td>-0.002081</td>\n",
       "      <td>2.495128</td>\n",
       "      <td>95.000000</td>\n",
       "    </tr>\n",
       "    <tr>\n",
       "      <th>std</th>\n",
       "      <td>1.732045</td>\n",
       "      <td>1.730417</td>\n",
       "      <td>3.473445</td>\n",
       "      <td>44.749921</td>\n",
       "    </tr>\n",
       "    <tr>\n",
       "      <th>min</th>\n",
       "      <td>-8.760004</td>\n",
       "      <td>-7.084020</td>\n",
       "      <td>-11.970335</td>\n",
       "      <td>0.000000</td>\n",
       "    </tr>\n",
       "    <tr>\n",
       "      <th>25%</th>\n",
       "      <td>-1.162288</td>\n",
       "      <td>-1.174820</td>\n",
       "      <td>0.130359</td>\n",
       "      <td>59.450441</td>\n",
       "    </tr>\n",
       "    <tr>\n",
       "      <th>50%</th>\n",
       "      <td>0.009424</td>\n",
       "      <td>-0.009482</td>\n",
       "      <td>2.484236</td>\n",
       "      <td>94.925613</td>\n",
       "    </tr>\n",
       "    <tr>\n",
       "      <th>75%</th>\n",
       "      <td>1.158535</td>\n",
       "      <td>1.163678</td>\n",
       "      <td>4.858794</td>\n",
       "      <td>130.595027</td>\n",
       "    </tr>\n",
       "    <tr>\n",
       "      <th>max</th>\n",
       "      <td>7.238262</td>\n",
       "      <td>7.844801</td>\n",
       "      <td>16.739402</td>\n",
       "      <td>190.029838</td>\n",
       "    </tr>\n",
       "  </tbody>\n",
       "</table>\n",
       "</div>"
      ],
      "text/plain": [
       "                  f0             f1             f2        product\n",
       "count  100000.000000  100000.000000  100000.000000  100000.000000\n",
       "mean        0.002023      -0.002081       2.495128      95.000000\n",
       "std         1.732045       1.730417       3.473445      44.749921\n",
       "min        -8.760004      -7.084020     -11.970335       0.000000\n",
       "25%        -1.162288      -1.174820       0.130359      59.450441\n",
       "50%         0.009424      -0.009482       2.484236      94.925613\n",
       "75%         1.158535       1.163678       4.858794     130.595027\n",
       "max         7.238262       7.844801      16.739402     190.029838"
      ]
     },
     "metadata": {},
     "output_type": "display_data"
    },
    {
     "name": "stdout",
     "output_type": "stream",
     "text": [
      "Количество дупликатов в в датасете: \n",
      "0\n",
      "Количество пропусков в датасете: \n",
      "id         0\n",
      "f0         0\n",
      "f1         0\n",
      "f2         0\n",
      "product    0\n",
      "dtype: int64\n",
      "________________________________________________________\n"
     ]
    }
   ],
   "source": [
    "df_list = [df_0, df_1, df_2]\n",
    "for data in df_list:\n",
    "    data_info(data)"
   ]
  },
  {
   "cell_type": "markdown",
   "metadata": {},
   "source": [
    "**Вывод:** датасеты чистые, пропусков и дупликатов нет. Разброс данных относительно не велик. Но масштабирование необходимо."
   ]
  },
  {
   "cell_type": "code",
   "execution_count": 5,
   "metadata": {},
   "outputs": [
    {
     "data": {
      "image/png": "[encoded data removed]",
      "text/plain": [
       "<Figure size 432x432 with 2 Axes>"
      ]
     },
     "metadata": {},
     "output_type": "display_data"
    }
   ],
   "source": [
    "sns.set(rc = {'figure.figsize':(6,6)})\n",
    "sns.heatmap(df_0.corr(),\n",
    "            fmt='.1g',\n",
    "            vmin = -1, \n",
    "            vmax = +1, \n",
    "            annot = True, \n",
    "            cmap = 'coolwarm', \n",
    "            square=True, \n",
    "            linewidths=1, \n",
    "            linecolor='black',\n",
    "           )\n",
    "\n",
    "plt.title('Тепловая карта корреляции для df_0', fontsize = 15)\n",
    "plt.xlabel('Признаки', fontsize = 15)\n",
    "plt.ylabel('Признаки', fontsize = 15)\n",
    "plt.show()"
   ]
  },
  {
   "cell_type": "code",
   "execution_count": 6,
   "metadata": {},
   "outputs": [
    {
     "data": {
      "image/png": "[encoded data removed]",
      "text/plain": [
       "<Figure size 432x432 with 2 Axes>"
      ]
     },
     "metadata": {},
     "output_type": "display_data"
    }
   ],
   "source": [
    "sns.set(rc = {'figure.figsize':(6,6)})\n",
    "sns.heatmap(df_1.corr(),\n",
    "            fmt='.1g',\n",
    "            vmin = -1, \n",
    "            vmax = +1, \n",
    "            annot = True, \n",
    "            cmap = 'coolwarm', \n",
    "            square=True, \n",
    "            linewidths=1, \n",
    "            linecolor='black',\n",
    "           )\n",
    "\n",
    "plt.title('Тепловая карта корреляции для df_1', fontsize = 15)\n",
    "plt.xlabel('Признаки', fontsize = 15)\n",
    "plt.ylabel('Признаки', fontsize = 15)\n",
    "plt.show()"
   ]
  },
  {
   "cell_type": "code",
   "execution_count": 7,
   "metadata": {},
   "outputs": [
    {
     "data": {
      "image/png": "[encoded data removed]",
      "text/plain": [
       "<Figure size 432x432 with 2 Axes>"
      ]
     },
     "metadata": {},
     "output_type": "display_data"
    }
   ],
   "source": [
    "sns.set(rc = {'figure.figsize':(6,6)})\n",
    "sns.heatmap(df_2.corr(),\n",
    "            fmt='.1g',\n",
    "            vmin = -1, \n",
    "            vmax = +1, \n",
    "            annot = True, \n",
    "            cmap = 'coolwarm', \n",
    "            square=True, \n",
    "            linewidths=1, \n",
    "            linecolor='black',\n",
    "           )\n",
    "\n",
    "plt.title('Тепловая карта корреляции для df_2', fontsize = 15)\n",
    "plt.xlabel('Признаки', fontsize = 15)\n",
    "plt.ylabel('Признаки', fontsize = 15)\n",
    "plt.show()"
   ]
  },
  {
   "cell_type": "markdown",
   "metadata": {},
   "source": [
    "**Вывод:** в датасетах `'df_0'` и `'df_2'` уровень корреляции признаков допустимый. Исключением стал признак `'f2'` для `'df_1'` с корреляцией равной 1. Это полная линейная зависимость или `мультиколлинеарность.`"
   ]
  },
  {
   "cell_type": "markdown",
   "metadata": {},
   "source": [
    "## Обучение и проверка модели"
   ]
  },
  {
   "cell_type": "code",
   "execution_count": 8,
   "metadata": {},
   "outputs": [],
   "source": [
    "pd.options.mode.chained_assignment = None"
   ]
  },
  {
   "cell_type": "code",
   "execution_count": 9,
   "metadata": {},
   "outputs": [],
   "source": [
    "#создаем функцию для выделения признаков и целевого признака\n",
    "def get_featureas_and_targets(data):\n",
    "    features = data.drop(['id', 'product'], axis = 1)\n",
    "    target = data['product'] \n",
    "    return features, target"
   ]
  },
  {
   "cell_type": "code",
   "execution_count": 10,
   "metadata": {},
   "outputs": [],
   "source": [
    "#получаем признаки\n",
    "features0, target0 = get_featureas_and_targets(df_0)\n",
    "features1, target1 = get_featureas_and_targets(df_1)\n",
    "features2, target2 = get_featureas_and_targets(df_2)"
   ]
  },
  {
   "cell_type": "code",
   "execution_count": 11,
   "metadata": {},
   "outputs": [],
   "source": [
    "#разбиваем датасеты на тренировочные и валидационные выборки в соотношении 75:25\n",
    "def split_train_data(features, target):\n",
    "    features_train, features_valid, target_train, target_valid = train_test_split(features, target, test_size = 0.25, \n",
    "                                                                      random_state = 12345)\n",
    "    return features_train, features_valid, target_train, target_valid   "
   ]
  },
  {
   "cell_type": "code",
   "execution_count": 12,
   "metadata": {},
   "outputs": [],
   "source": [
    "#получаем признаки из выборок\n",
    "features0_train, features0_valid, target0_train, target0_valid = split_train_data(features0, target0)\n",
    "features1_train, features1_valid, target1_train, target1_valid = split_train_data(features1, target1)\n",
    "features2_train, features2_valid, target2_train, target2_valid = split_train_data(features2, target2)"
   ]
  },
  {
   "cell_type": "code",
   "execution_count": 13,
   "metadata": {},
   "outputs": [],
   "source": [
    "#создаем функцию для масштабирование признаков\n",
    "numeric = ['f0', 'f1', 'f2']\n",
    "def to_scale(features_train, features_valid):\n",
    "    scaler = StandardScaler()\n",
    "    features_train[numeric] = scaler.fit_transform(features_train[numeric])\n",
    "    features_valid[numeric] = scaler.transform(features_valid[numeric])\n",
    "    return features_train, features_valid"
   ]
  },
  {
   "cell_type": "code",
   "execution_count": 14,
   "metadata": {},
   "outputs": [],
   "source": [
    "#масштабируем признаки\n",
    "features0_train, features0_valid = to_scale(features0_train, features0_valid)\n",
    "features1_train, features1_valid = to_scale(features1_train, features1_valid)\n",
    "features2_train, features2_valid = to_scale(features2_train, features2_valid)"
   ]
  },
  {
   "cell_type": "code",
   "execution_count": 15,
   "metadata": {},
   "outputs": [],
   "source": [
    "#создаем функцию для обучения модели и метрик\n",
    "def learn_model(features_train, features_valid, target_train, target_valid):  \n",
    "    model = LinearRegression()\n",
    "    model.fit(features_train, target_train)\n",
    "    predict = model.predict(features_valid)\n",
    "    print(f'Средний запас сырья: {sum(predict) / len(predict)}')\n",
    "    print(f'RMSE: {mean_squared_error(target_valid, predict)**0.5}')\n",
    "    print(f'R2: {r2_score(target_valid, predict)}')"
   ]
  },
  {
   "cell_type": "code",
   "execution_count": 16,
   "metadata": {},
   "outputs": [],
   "source": [
    "#создаем сохранения предсказаний модели\n",
    "def get_prediction(features_train, features_valid, target_train, target_valid):  \n",
    "    model = LinearRegression()\n",
    "    model.fit(features_train, target_train)\n",
    "    predict = model.predict(features_valid)\n",
    "    prediction = pd.Series(predict)\n",
    "    return prediction"
   ]
  },
  {
   "cell_type": "code",
   "execution_count": 18,
   "metadata": {},
   "outputs": [
    {
     "name": "stdout",
     "output_type": "stream",
     "text": [
      "Первая локация:\n",
      "Средний запас сырья: 92.59256778438008\n",
      "RMSE: 37.5794217150813\n",
      "R2: 0.27994321524487786\n"
     ]
    }
   ],
   "source": [
    "#применяем модели\n",
    "print('Первая локация:')\n",
    "learn_model(features0_train, features0_valid, target0_train, target0_valid)"
   ]
  },
  {
   "cell_type": "code",
   "execution_count": 19,
   "metadata": {},
   "outputs": [
    {
     "name": "stdout",
     "output_type": "stream",
     "text": [
      "Вторая локация:\n",
      "Средний запас сырья: 68.7285468954458\n",
      "RMSE: 0.893099286775617\n",
      "R2: 0.9996233978805127\n"
     ]
    }
   ],
   "source": [
    "print('Вторая локация:')\n",
    "learn_model(features1_train, features1_valid, target1_train, target1_valid)"
   ]
  },
  {
   "cell_type": "code",
   "execution_count": 20,
   "metadata": {},
   "outputs": [
    {
     "name": "stdout",
     "output_type": "stream",
     "text": [
      "Третья локация:\n",
      "Средний запас сырья: 94.96504596800506\n",
      "RMSE: 40.02970873393434\n",
      "R2: 0.20524758386040443\n"
     ]
    }
   ],
   "source": [
    "print('Третья локация:')\n",
    "learn_model(features2_train, features2_valid, target2_train, target2_valid)"
   ]
  },
  {
   "cell_type": "markdown",
   "metadata": {},
   "source": [
    "**Вывод:** \n",
    "* RMSE на первой и третьей локациях большой. Разброс между реальными данными и средним показателем высокий. Скорее всего, это результат среденей корреляции признаков.\n",
    "* RMSE второй локации ниже 1. Хороший результат. Однако это следствие мультиколлинеарности, когда от одного признака полностью зависит резульат. \n",
    "* R2 на первой и третьей локациях очень низкий. \n",
    "* R2 второй локации  = 1."
   ]
  },
  {
   "cell_type": "markdown",
   "metadata": {},
   "source": [
    "## Подготовка к расчёту прибыли"
   ]
  },
  {
   "cell_type": "code",
   "execution_count": 21,
   "metadata": {},
   "outputs": [],
   "source": [
    "#сохраняем предсказания в Series\n",
    "prediction0 = get_prediction(features0_train, features0_valid, target0_train, target0_valid)\n",
    "prediction1 = get_prediction(features1_train, features1_valid, target1_train, target1_valid)\n",
    "prediction2 = get_prediction(features2_train, features2_valid, target2_train, target2_valid)"
   ]
  },
  {
   "cell_type": "code",
   "execution_count": 22,
   "metadata": {},
   "outputs": [],
   "source": [
    "#преобразуем таргеты так, чтобы не было конфликта с индексами\n",
    "target0_valid = target0_valid.reset_index(drop=True)\n",
    "target1_valid = target1_valid.reset_index(drop=True)\n",
    "target2_valid = target2_valid.reset_index(drop=True)"
   ]
  },
  {
   "cell_type": "code",
   "execution_count": 24,
   "metadata": {},
   "outputs": [],
   "source": [
    "BUDGET = 10e9\n",
    "PROFIT = 450000\n",
    "COUNT = 200"
   ]
  },
  {
   "cell_type": "code",
   "execution_count": 25,
   "metadata": {},
   "outputs": [
    {
     "name": "stdout",
     "output_type": "stream",
     "text": [
      "Точка безубыточности скважины составляет: 22222.22 баррелей\n"
     ]
    }
   ],
   "source": [
    "POINT_OF_BREAKEVVEN = BUDGET / PROFIT\n",
    "print('Точка безубыточности скважины составляет: {:.2f} баррелей'.format(POINT_OF_BREAKEVVEN, 2))"
   ]
  },
  {
   "cell_type": "code",
   "execution_count": 31,
   "metadata": {},
   "outputs": [
    {
     "data": {
      "text/plain": [
       "111.11111111111111"
      ]
     },
     "execution_count": 31,
     "metadata": {},
     "output_type": "execute_result"
    }
   ],
   "source": [
    "POINT_OF_BREAKEVVEN/200"
   ]
  },
  {
   "cell_type": "code",
   "execution_count": 26,
   "metadata": {},
   "outputs": [],
   "source": [
    "def revenue(target, prediction, count):\n",
    "    pred_sorted = prediction.sort_values(ascending=False)\n",
    "    top_200 = target.loc[pred_sorted.index][:COUNT]\n",
    "    result = PROFIT * top_200.sum() - BUDGET\n",
    "    return result"
   ]
  },
  {
   "cell_type": "markdown",
   "metadata": {},
   "source": [
    "**Вывод:** расчеты показали, что для безубыточности разаработки, в скважине должно быть около около 22222 баррелей. "
   ]
  },
  {
   "cell_type": "markdown",
   "metadata": {},
   "source": [
    "## Расчёт прибыли и рисков "
   ]
  },
  {
   "cell_type": "code",
   "execution_count": 27,
   "metadata": {},
   "outputs": [],
   "source": [
    "state = np.random.RandomState(12345)\n",
    "\n",
    "def calculation_revenue(target, prediction):\n",
    "    values = []\n",
    "    for i in range(1000):\n",
    "        target_subsample = target.sample(500, replace=True, random_state=state)\n",
    "        probs_subsample = prediction[target_subsample.index]\n",
    "        values.append(revenue(target_subsample, probs_subsample, COUNT))\n",
    "\n",
    "    values = pd.Series(values)\n",
    "    mean = values.mean()\n",
    "    print(f'Средняя прибыль {mean}.руб.')\n",
    "    \n",
    "    lower = np.quantile(values, 0.025)\n",
    "    upper = np.quantile(values, 0.975)\n",
    "    print(f'95%-й доверительный интервал {lower} - {upper}.руб.')\n",
    "    \n",
    "    risk = st.percentileofscore(values, 0)\n",
    "    print(f'Риск убытков {risk} %')\n",
    "    return "
   ]
  },
  {
   "cell_type": "code",
   "execution_count": 28,
   "metadata": {},
   "outputs": [
    {
     "name": "stdout",
     "output_type": "stream",
     "text": [
      "Средняя прибыль 425938526.91059244.руб.\n",
      "95%-й доверительный интервал -102090094.83793654 - 947976353.3583689.руб.\n",
      "Риск убытков 6.0 %\n"
     ]
    }
   ],
   "source": [
    "calculation_revenue(target0_valid, prediction0)"
   ]
  },
  {
   "cell_type": "code",
   "execution_count": 29,
   "metadata": {},
   "outputs": [
    {
     "name": "stdout",
     "output_type": "stream",
     "text": [
      "Средняя прибыль 518259493.6973249.руб.\n",
      "95%-й доверительный интервал 128123231.43308444 - 953612982.0669085.руб.\n",
      "Риск убытков 0.30000000000000004 %\n"
     ]
    }
   ],
   "source": [
    "calculation_revenue(target1_valid, prediction1)"
   ]
  },
  {
   "cell_type": "code",
   "execution_count": 30,
   "metadata": {},
   "outputs": [
    {
     "name": "stdout",
     "output_type": "stream",
     "text": [
      "Средняя прибыль 420194005.3440501.руб.\n",
      "95%-й доверительный интервал -115852609.16001143 - 989629939.8445739.руб.\n",
      "Риск убытков 6.2 %\n"
     ]
    }
   ],
   "source": [
    "calculation_revenue(target2_valid, prediction2)"
   ]
  },
  {
   "cell_type": "markdown",
   "metadata": {},
   "source": [
    "**Вывод:** Очевидным регионом для разработки является регион №2. И вот почему:\n",
    "* Риск убыток составляет `3%`, в то время как в дургих риск составляет от `6%` до `6.2%`.\n",
    "* Средняя прибыль разработки самая максимальная по сравнению с другими.\n",
    "* Доверительный интервал для второго региона не включает в себя отрицательных чисел. "
   ]
  },
  {
   "cell_type": "markdown",
   "metadata": {},
   "source": [
    "## Заключение:"
   ]
  },
  {
   "cell_type": "markdown",
   "metadata": {},
   "source": [
    "На вход мы получили чистые данные: дупликатов и пропусков нет. Для обучения модели мы применили техники масштабирования признаков. Для оценки качества модели мы использовали метрики RMSE и R2. Они показали, что модели для 1 и 3 регионов получились очень низкокачественными. Модель для 2 регона получилась качественной, т.к. один из признаков имел полную зависимость с целевым признаком. После применения обученной модели и использования техники Bootstrap удалось получить результат."
   ]
  }
 ],
 "metadata": {
  "ExecuteTimeLog": [
   {
    "duration": 383,
    "start_time": "2023-01-31T18:29:08.141Z"
   },
   {
    "duration": 1558,
    "start_time": "2023-02-07T04:20:32.374Z"
   },
   {
    "duration": 142,
    "start_time": "2023-02-07T04:21:02.908Z"
   },
   {
    "duration": 1526,
    "start_time": "2023-02-07T04:21:34.423Z"
   },
   {
    "duration": 3,
    "start_time": "2023-02-07T04:21:56.798Z"
   },
   {
    "duration": 313,
    "start_time": "2023-02-07T04:22:17.777Z"
   },
   {
    "duration": 3,
    "start_time": "2023-02-07T04:22:36.310Z"
   },
   {
    "duration": 327,
    "start_time": "2023-02-07T04:22:37.120Z"
   },
   {
    "duration": 4,
    "start_time": "2023-02-07T04:22:55.781Z"
   },
   {
    "duration": 3,
    "start_time": "2023-02-07T04:22:59.026Z"
   },
   {
    "duration": 220,
    "start_time": "2023-02-07T04:22:59.811Z"
   },
   {
    "duration": 3,
    "start_time": "2023-02-07T04:23:17.311Z"
   },
   {
    "duration": 306,
    "start_time": "2023-02-07T04:23:18.278Z"
   },
   {
    "duration": 4,
    "start_time": "2023-02-07T04:24:20.196Z"
   },
   {
    "duration": 323,
    "start_time": "2023-02-07T04:24:21.397Z"
   },
   {
    "duration": 3,
    "start_time": "2023-02-07T04:25:32.986Z"
   },
   {
    "duration": 300,
    "start_time": "2023-02-07T04:25:34.979Z"
   },
   {
    "duration": 10,
    "start_time": "2023-02-07T04:27:31.083Z"
   },
   {
    "duration": 5,
    "start_time": "2023-02-07T04:27:35.077Z"
   },
   {
    "duration": 690,
    "start_time": "2023-02-07T04:27:35.887Z"
   },
   {
    "duration": 3,
    "start_time": "2023-02-07T04:28:05.089Z"
   },
   {
    "duration": 766,
    "start_time": "2023-02-07T04:28:06.182Z"
   },
   {
    "duration": 49,
    "start_time": "2023-02-07T04:28:26.274Z"
   },
   {
    "duration": 333,
    "start_time": "2023-02-07T04:28:42.830Z"
   },
   {
    "duration": 450,
    "start_time": "2023-02-07T04:29:16.119Z"
   },
   {
    "duration": 18,
    "start_time": "2023-02-07T04:31:13.170Z"
   },
   {
    "duration": 378,
    "start_time": "2023-02-07T04:31:45.883Z"
   },
   {
    "duration": 367,
    "start_time": "2023-02-07T04:32:06.875Z"
   },
   {
    "duration": 321,
    "start_time": "2023-02-07T04:32:38.465Z"
   },
   {
    "duration": 5,
    "start_time": "2023-02-07T04:32:49.565Z"
   },
   {
    "duration": 350,
    "start_time": "2023-02-07T04:32:54.287Z"
   },
   {
    "duration": 360,
    "start_time": "2023-02-07T04:33:27.332Z"
   },
   {
    "duration": 389,
    "start_time": "2023-02-07T04:34:20.888Z"
   },
   {
    "duration": 340,
    "start_time": "2023-02-07T04:34:46.536Z"
   },
   {
    "duration": 329,
    "start_time": "2023-02-07T04:34:52.759Z"
   },
   {
    "duration": 385,
    "start_time": "2023-02-07T04:34:57.836Z"
   },
   {
    "duration": 348,
    "start_time": "2023-02-07T04:35:02.780Z"
   },
   {
    "duration": 491,
    "start_time": "2023-02-07T04:35:10.573Z"
   },
   {
    "duration": 402,
    "start_time": "2023-02-07T04:35:26.235Z"
   },
   {
    "duration": 353,
    "start_time": "2023-02-07T04:35:36.979Z"
   },
   {
    "duration": 4,
    "start_time": "2023-02-07T04:41:51.487Z"
   },
   {
    "duration": 335,
    "start_time": "2023-02-07T04:41:52.608Z"
   },
   {
    "duration": 4,
    "start_time": "2023-02-07T04:42:20.720Z"
   },
   {
    "duration": 336,
    "start_time": "2023-02-07T04:42:21.763Z"
   },
   {
    "duration": 4,
    "start_time": "2023-02-07T04:42:33.774Z"
   },
   {
    "duration": 357,
    "start_time": "2023-02-07T04:42:34.324Z"
   },
   {
    "duration": 4,
    "start_time": "2023-02-07T04:42:41.465Z"
   },
   {
    "duration": 390,
    "start_time": "2023-02-07T04:42:42.167Z"
   },
   {
    "duration": 4,
    "start_time": "2023-02-07T04:43:37.915Z"
   },
   {
    "duration": 352,
    "start_time": "2023-02-07T04:43:38.763Z"
   },
   {
    "duration": 4,
    "start_time": "2023-02-07T04:43:44.735Z"
   },
   {
    "duration": 350,
    "start_time": "2023-02-07T04:43:45.308Z"
   },
   {
    "duration": 4,
    "start_time": "2023-02-07T04:43:58.225Z"
   },
   {
    "duration": 4,
    "start_time": "2023-02-07T04:44:03.053Z"
   },
   {
    "duration": 349,
    "start_time": "2023-02-07T04:44:05.038Z"
   },
   {
    "duration": 4,
    "start_time": "2023-02-07T04:44:25.473Z"
   },
   {
    "duration": 317,
    "start_time": "2023-02-07T04:44:26.385Z"
   },
   {
    "duration": 4,
    "start_time": "2023-02-07T04:44:38.171Z"
   },
   {
    "duration": 304,
    "start_time": "2023-02-07T04:44:38.672Z"
   },
   {
    "duration": 1421,
    "start_time": "2023-02-07T04:50:26.022Z"
   },
   {
    "duration": 403,
    "start_time": "2023-02-07T04:50:27.445Z"
   },
   {
    "duration": 4,
    "start_time": "2023-02-07T04:50:27.850Z"
   },
   {
    "duration": 394,
    "start_time": "2023-02-07T04:50:27.855Z"
   },
   {
    "duration": 387,
    "start_time": "2023-02-07T04:50:28.252Z"
   },
   {
    "duration": 362,
    "start_time": "2023-02-07T04:50:28.641Z"
   },
   {
    "duration": 397,
    "start_time": "2023-02-07T04:50:29.005Z"
   },
   {
    "duration": 4,
    "start_time": "2023-02-07T04:56:56.735Z"
   },
   {
    "duration": 8,
    "start_time": "2023-02-07T04:57:15.356Z"
   },
   {
    "duration": 4,
    "start_time": "2023-02-07T04:57:57.117Z"
   },
   {
    "duration": 35,
    "start_time": "2023-02-07T04:58:48.127Z"
   },
   {
    "duration": 3,
    "start_time": "2023-02-07T04:58:48.711Z"
   },
   {
    "duration": 44,
    "start_time": "2023-02-07T05:00:00.942Z"
   },
   {
    "duration": 3,
    "start_time": "2023-02-07T05:00:29.342Z"
   },
   {
    "duration": 36,
    "start_time": "2023-02-07T05:00:31.779Z"
   },
   {
    "duration": 3,
    "start_time": "2023-02-07T05:02:04.848Z"
   },
   {
    "duration": 3,
    "start_time": "2023-02-07T05:02:05.888Z"
   },
   {
    "duration": 84,
    "start_time": "2023-02-07T05:02:48.255Z"
   },
   {
    "duration": 19,
    "start_time": "2023-02-07T05:03:12.832Z"
   },
   {
    "duration": 18,
    "start_time": "2023-02-07T05:03:14.975Z"
   },
   {
    "duration": 51,
    "start_time": "2023-02-08T04:45:48.698Z"
   },
   {
    "duration": 1443,
    "start_time": "2023-02-08T04:45:54.791Z"
   },
   {
    "duration": 1435,
    "start_time": "2023-02-08T04:45:56.236Z"
   },
   {
    "duration": 3,
    "start_time": "2023-02-08T04:45:57.675Z"
   },
   {
    "duration": 318,
    "start_time": "2023-02-08T04:45:57.680Z"
   },
   {
    "duration": 440,
    "start_time": "2023-02-08T04:45:58.000Z"
   },
   {
    "duration": 348,
    "start_time": "2023-02-08T04:45:58.443Z"
   },
   {
    "duration": 366,
    "start_time": "2023-02-08T04:45:58.793Z"
   },
   {
    "duration": 2,
    "start_time": "2023-02-08T04:45:59.161Z"
   },
   {
    "duration": 6,
    "start_time": "2023-02-08T04:45:59.165Z"
   },
   {
    "duration": 12,
    "start_time": "2023-02-08T04:45:59.172Z"
   },
   {
    "duration": 7,
    "start_time": "2023-02-08T04:45:59.186Z"
   },
   {
    "duration": 43,
    "start_time": "2023-02-08T04:45:59.195Z"
   },
   {
    "duration": 4,
    "start_time": "2023-02-08T04:45:59.239Z"
   },
   {
    "duration": 40,
    "start_time": "2023-02-08T04:45:59.244Z"
   },
   {
    "duration": 3,
    "start_time": "2023-02-08T04:45:59.286Z"
   },
   {
    "duration": 10,
    "start_time": "2023-02-08T04:45:59.290Z"
   },
   {
    "duration": 140,
    "start_time": "2023-02-08T04:45:59.301Z"
   },
   {
    "duration": 104,
    "start_time": "2023-02-08T04:45:59.444Z"
   },
   {
    "duration": 290,
    "start_time": "2023-02-08T04:45:59.550Z"
   },
   {
    "duration": 203,
    "start_time": "2023-02-08T04:45:59.842Z"
   },
   {
    "duration": 95,
    "start_time": "2023-02-08T04:46:00.047Z"
   },
   {
    "duration": 114,
    "start_time": "2023-02-08T04:46:00.144Z"
   },
   {
    "duration": 20,
    "start_time": "2023-02-08T04:46:00.259Z"
   },
   {
    "duration": 23,
    "start_time": "2023-02-08T04:46:00.281Z"
   },
   {
    "duration": 1384,
    "start_time": "2023-02-08T04:46:47.837Z"
   },
   {
    "duration": 1393,
    "start_time": "2023-02-08T04:48:20.195Z"
   },
   {
    "duration": 1368,
    "start_time": "2023-02-08T04:48:30.196Z"
   },
   {
    "duration": 5,
    "start_time": "2023-02-08T04:48:57.069Z"
   },
   {
    "duration": 1316,
    "start_time": "2023-02-08T04:48:57.989Z"
   },
   {
    "duration": 2,
    "start_time": "2023-02-08T04:54:55.553Z"
   },
   {
    "duration": 3,
    "start_time": "2023-02-08T04:54:56.836Z"
   },
   {
    "duration": 6,
    "start_time": "2023-02-08T04:55:14.905Z"
   },
   {
    "duration": 1373,
    "start_time": "2023-02-08T04:55:15.913Z"
   },
   {
    "duration": 1426,
    "start_time": "2023-02-08T04:55:21.213Z"
   },
   {
    "duration": 1561,
    "start_time": "2023-02-08T04:55:27.354Z"
   },
   {
    "duration": 1919,
    "start_time": "2023-02-08T07:33:30.362Z"
   },
   {
    "duration": 415,
    "start_time": "2023-02-08T07:33:32.283Z"
   },
   {
    "duration": 3,
    "start_time": "2023-02-08T07:33:32.700Z"
   },
   {
    "duration": 360,
    "start_time": "2023-02-08T07:33:32.705Z"
   },
   {
    "duration": 365,
    "start_time": "2023-02-08T07:33:33.067Z"
   },
   {
    "duration": 362,
    "start_time": "2023-02-08T07:33:33.434Z"
   },
   {
    "duration": 404,
    "start_time": "2023-02-08T07:33:33.798Z"
   },
   {
    "duration": 2,
    "start_time": "2023-02-08T07:33:34.204Z"
   },
   {
    "duration": 8,
    "start_time": "2023-02-08T07:33:34.208Z"
   },
   {
    "duration": 25,
    "start_time": "2023-02-08T07:33:34.219Z"
   },
   {
    "duration": 9,
    "start_time": "2023-02-08T07:33:34.245Z"
   },
   {
    "duration": 42,
    "start_time": "2023-02-08T07:33:34.256Z"
   },
   {
    "duration": 3,
    "start_time": "2023-02-08T07:33:34.300Z"
   },
   {
    "duration": 49,
    "start_time": "2023-02-08T07:33:34.305Z"
   },
   {
    "duration": 4,
    "start_time": "2023-02-08T07:33:34.356Z"
   },
   {
    "duration": 8,
    "start_time": "2023-02-08T07:33:34.362Z"
   },
   {
    "duration": 68,
    "start_time": "2023-02-08T07:33:34.372Z"
   },
   {
    "duration": 118,
    "start_time": "2023-02-08T07:33:34.443Z"
   },
   {
    "duration": 280,
    "start_time": "2023-02-08T07:33:34.563Z"
   },
   {
    "duration": 291,
    "start_time": "2023-02-08T07:33:34.848Z"
   },
   {
    "duration": 98,
    "start_time": "2023-02-08T07:33:35.142Z"
   },
   {
    "duration": 95,
    "start_time": "2023-02-08T07:33:35.243Z"
   },
   {
    "duration": 8,
    "start_time": "2023-02-08T07:33:35.339Z"
   },
   {
    "duration": 11,
    "start_time": "2023-02-08T07:33:35.349Z"
   },
   {
    "duration": 1349,
    "start_time": "2023-02-08T07:33:35.362Z"
   },
   {
    "duration": 1318,
    "start_time": "2023-02-08T07:33:36.713Z"
   },
   {
    "duration": 1356,
    "start_time": "2023-02-08T07:33:38.033Z"
   },
   {
    "duration": 6,
    "start_time": "2023-02-08T08:02:08.019Z"
   },
   {
    "duration": 1843,
    "start_time": "2023-02-08T08:06:43.681Z"
   },
   {
    "duration": 396,
    "start_time": "2023-02-08T08:06:45.526Z"
   },
   {
    "duration": 4,
    "start_time": "2023-02-08T08:06:45.923Z"
   },
   {
    "duration": 359,
    "start_time": "2023-02-08T08:06:45.930Z"
   },
   {
    "duration": 402,
    "start_time": "2023-02-08T08:06:46.291Z"
   },
   {
    "duration": 398,
    "start_time": "2023-02-08T08:06:46.695Z"
   },
   {
    "duration": 407,
    "start_time": "2023-02-08T08:06:47.095Z"
   },
   {
    "duration": 3,
    "start_time": "2023-02-08T08:06:47.504Z"
   },
   {
    "duration": 14,
    "start_time": "2023-02-08T08:06:47.509Z"
   },
   {
    "duration": 17,
    "start_time": "2023-02-08T08:06:47.526Z"
   },
   {
    "duration": 18,
    "start_time": "2023-02-08T08:06:47.545Z"
   },
   {
    "duration": 47,
    "start_time": "2023-02-08T08:06:47.565Z"
   },
   {
    "duration": 3,
    "start_time": "2023-02-08T08:06:47.614Z"
   },
   {
    "duration": 44,
    "start_time": "2023-02-08T08:06:47.619Z"
   },
   {
    "duration": 4,
    "start_time": "2023-02-08T08:06:47.665Z"
   },
   {
    "duration": 11,
    "start_time": "2023-02-08T08:06:47.670Z"
   },
   {
    "duration": 15,
    "start_time": "2023-02-08T08:06:47.683Z"
   },
   {
    "duration": 44,
    "start_time": "2023-02-08T08:06:47.700Z"
   },
   {
    "duration": 292,
    "start_time": "2023-02-08T08:06:47.747Z"
   },
   {
    "duration": 202,
    "start_time": "2023-02-08T08:06:48.041Z"
   },
   {
    "duration": 298,
    "start_time": "2023-02-08T08:06:48.245Z"
   },
   {
    "duration": 93,
    "start_time": "2023-02-08T08:06:48.545Z"
   },
   {
    "duration": 4,
    "start_time": "2023-02-08T08:06:48.640Z"
   },
   {
    "duration": 13,
    "start_time": "2023-02-08T08:06:48.646Z"
   },
   {
    "duration": 20,
    "start_time": "2023-02-08T08:06:48.660Z"
   },
   {
    "duration": 19,
    "start_time": "2023-02-08T08:06:48.682Z"
   },
   {
    "duration": 1381,
    "start_time": "2023-02-08T08:06:48.703Z"
   },
   {
    "duration": 1427,
    "start_time": "2023-02-08T08:06:50.087Z"
   },
   {
    "duration": 1423,
    "start_time": "2023-02-08T08:06:51.515Z"
   },
   {
    "duration": 1483,
    "start_time": "2023-02-08T08:10:21.566Z"
   },
   {
    "duration": 1918,
    "start_time": "2023-02-08T08:12:10.258Z"
   },
   {
    "duration": 394,
    "start_time": "2023-02-08T08:12:12.178Z"
   },
   {
    "duration": 6,
    "start_time": "2023-02-08T08:12:12.576Z"
   },
   {
    "duration": 336,
    "start_time": "2023-02-08T08:12:12.584Z"
   },
   {
    "duration": 385,
    "start_time": "2023-02-08T08:12:12.922Z"
   },
   {
    "duration": 385,
    "start_time": "2023-02-08T08:12:13.309Z"
   },
   {
    "duration": 404,
    "start_time": "2023-02-08T08:12:13.695Z"
   },
   {
    "duration": 2,
    "start_time": "2023-02-08T08:12:14.101Z"
   },
   {
    "duration": 17,
    "start_time": "2023-02-08T08:12:14.105Z"
   },
   {
    "duration": 15,
    "start_time": "2023-02-08T08:12:14.124Z"
   },
   {
    "duration": 7,
    "start_time": "2023-02-08T08:12:14.141Z"
   },
   {
    "duration": 38,
    "start_time": "2023-02-08T08:12:14.150Z"
   },
   {
    "duration": 4,
    "start_time": "2023-02-08T08:12:14.189Z"
   },
   {
    "duration": 43,
    "start_time": "2023-02-08T08:12:14.195Z"
   },
   {
    "duration": 3,
    "start_time": "2023-02-08T08:12:14.240Z"
   },
   {
    "duration": 10,
    "start_time": "2023-02-08T08:12:14.245Z"
   },
   {
    "duration": 10,
    "start_time": "2023-02-08T08:12:14.256Z"
   },
   {
    "duration": 73,
    "start_time": "2023-02-08T08:12:14.267Z"
   },
   {
    "duration": 113,
    "start_time": "2023-02-08T08:12:14.342Z"
   },
   {
    "duration": 201,
    "start_time": "2023-02-08T08:12:14.457Z"
   },
   {
    "duration": 297,
    "start_time": "2023-02-08T08:12:14.741Z"
   },
   {
    "duration": 5,
    "start_time": "2023-02-08T08:12:15.040Z"
   },
   {
    "duration": 101,
    "start_time": "2023-02-08T08:12:15.047Z"
   },
   {
    "duration": 10,
    "start_time": "2023-02-08T08:12:15.151Z"
   },
   {
    "duration": 8,
    "start_time": "2023-02-08T08:12:15.162Z"
   },
   {
    "duration": 1372,
    "start_time": "2023-02-08T08:12:15.171Z"
   },
   {
    "duration": 1359,
    "start_time": "2023-02-08T08:12:16.545Z"
   },
   {
    "duration": 1402,
    "start_time": "2023-02-08T08:12:17.907Z"
   },
   {
    "duration": 7,
    "start_time": "2023-02-09T03:58:49.537Z"
   },
   {
    "duration": 1505,
    "start_time": "2023-02-09T03:58:56.279Z"
   },
   {
    "duration": 1781,
    "start_time": "2023-02-09T03:58:57.786Z"
   },
   {
    "duration": 3,
    "start_time": "2023-02-09T03:58:59.569Z"
   },
   {
    "duration": 286,
    "start_time": "2023-02-09T03:58:59.574Z"
   },
   {
    "duration": 431,
    "start_time": "2023-02-09T03:58:59.862Z"
   },
   {
    "duration": 339,
    "start_time": "2023-02-09T03:59:00.295Z"
   },
   {
    "duration": 312,
    "start_time": "2023-02-09T03:59:00.635Z"
   },
   {
    "duration": 3,
    "start_time": "2023-02-09T03:59:00.949Z"
   },
   {
    "duration": 15,
    "start_time": "2023-02-09T03:59:00.953Z"
   },
   {
    "duration": 9,
    "start_time": "2023-02-09T03:59:00.971Z"
   },
   {
    "duration": 20,
    "start_time": "2023-02-09T03:59:00.982Z"
   },
   {
    "duration": 73,
    "start_time": "2023-02-09T03:59:01.003Z"
   },
   {
    "duration": 6,
    "start_time": "2023-02-09T03:59:01.078Z"
   },
   {
    "duration": 65,
    "start_time": "2023-02-09T03:59:01.086Z"
   },
   {
    "duration": 4,
    "start_time": "2023-02-09T03:59:01.153Z"
   },
   {
    "duration": 29,
    "start_time": "2023-02-09T03:59:01.158Z"
   },
   {
    "duration": 16,
    "start_time": "2023-02-09T03:59:01.189Z"
   },
   {
    "duration": 203,
    "start_time": "2023-02-09T03:59:01.206Z"
   },
   {
    "duration": 102,
    "start_time": "2023-02-09T03:59:01.503Z"
   },
   {
    "duration": 110,
    "start_time": "2023-02-09T03:59:01.607Z"
   },
   {
    "duration": 300,
    "start_time": "2023-02-09T03:59:01.805Z"
   },
   {
    "duration": 198,
    "start_time": "2023-02-09T03:59:02.107Z"
   },
   {
    "duration": 3,
    "start_time": "2023-02-09T03:59:02.307Z"
   },
   {
    "duration": 17,
    "start_time": "2023-02-09T03:59:02.312Z"
   },
   {
    "duration": 30,
    "start_time": "2023-02-09T03:59:02.331Z"
   },
   {
    "duration": 22,
    "start_time": "2023-02-09T03:59:02.363Z"
   },
   {
    "duration": 141,
    "start_time": "2023-02-09T03:59:02.387Z"
   },
   {
    "duration": 1,
    "start_time": "2023-02-09T03:59:02.529Z"
   },
   {
    "duration": 0,
    "start_time": "2023-02-09T03:59:02.530Z"
   },
   {
    "duration": 13,
    "start_time": "2023-02-09T04:02:10.703Z"
   },
   {
    "duration": 3,
    "start_time": "2023-02-09T04:07:08.346Z"
   },
   {
    "duration": 3,
    "start_time": "2023-02-09T04:08:20.211Z"
   },
   {
    "duration": 4,
    "start_time": "2023-02-09T04:10:04.813Z"
   },
   {
    "duration": 3,
    "start_time": "2023-02-09T04:10:57.819Z"
   },
   {
    "duration": 3,
    "start_time": "2023-02-09T04:12:32.203Z"
   },
   {
    "duration": 5,
    "start_time": "2023-02-09T04:12:34.570Z"
   },
   {
    "duration": 1266,
    "start_time": "2023-02-09T04:12:37.070Z"
   },
   {
    "duration": 1315,
    "start_time": "2023-02-09T04:12:45.875Z"
   },
   {
    "duration": 1360,
    "start_time": "2023-02-09T04:12:50.671Z"
   },
   {
    "duration": 2245,
    "start_time": "2023-02-09T07:15:12.436Z"
   },
   {
    "duration": 396,
    "start_time": "2023-02-09T07:15:14.683Z"
   },
   {
    "duration": 3,
    "start_time": "2023-02-09T07:15:15.081Z"
   },
   {
    "duration": 328,
    "start_time": "2023-02-09T07:15:15.086Z"
   },
   {
    "duration": 394,
    "start_time": "2023-02-09T07:15:15.416Z"
   },
   {
    "duration": 382,
    "start_time": "2023-02-09T07:15:15.812Z"
   },
   {
    "duration": 431,
    "start_time": "2023-02-09T07:15:16.196Z"
   },
   {
    "duration": 4,
    "start_time": "2023-02-09T07:15:16.630Z"
   },
   {
    "duration": 22,
    "start_time": "2023-02-09T07:15:16.636Z"
   },
   {
    "duration": 19,
    "start_time": "2023-02-09T07:15:16.662Z"
   },
   {
    "duration": 10,
    "start_time": "2023-02-09T07:15:16.683Z"
   },
   {
    "duration": 43,
    "start_time": "2023-02-09T07:15:16.695Z"
   },
   {
    "duration": 4,
    "start_time": "2023-02-09T07:15:16.739Z"
   },
   {
    "duration": 58,
    "start_time": "2023-02-09T07:15:16.744Z"
   },
   {
    "duration": 3,
    "start_time": "2023-02-09T07:15:16.804Z"
   },
   {
    "duration": 11,
    "start_time": "2023-02-09T07:15:16.809Z"
   },
   {
    "duration": 9,
    "start_time": "2023-02-09T07:15:16.821Z"
   },
   {
    "duration": 26,
    "start_time": "2023-02-09T07:15:16.832Z"
   },
   {
    "duration": 176,
    "start_time": "2023-02-09T07:15:16.875Z"
   },
   {
    "duration": 120,
    "start_time": "2023-02-09T07:15:17.053Z"
   },
   {
    "duration": 196,
    "start_time": "2023-02-09T07:15:17.175Z"
   },
   {
    "duration": 88,
    "start_time": "2023-02-09T07:15:17.375Z"
   },
   {
    "duration": 101,
    "start_time": "2023-02-09T07:15:17.465Z"
   },
   {
    "duration": 6,
    "start_time": "2023-02-09T07:15:17.569Z"
   },
   {
    "duration": 6,
    "start_time": "2023-02-09T07:15:17.577Z"
   },
   {
    "duration": 8,
    "start_time": "2023-02-09T07:15:17.585Z"
   },
   {
    "duration": 8,
    "start_time": "2023-02-09T07:15:17.595Z"
   },
   {
    "duration": 1460,
    "start_time": "2023-02-09T07:15:17.606Z"
   },
   {
    "duration": 1408,
    "start_time": "2023-02-09T07:15:19.068Z"
   },
   {
    "duration": 1381,
    "start_time": "2023-02-09T07:15:20.477Z"
   },
   {
    "duration": 4,
    "start_time": "2023-02-09T07:44:19.940Z"
   }
  ],
  "kernelspec": {
   "display_name": "Python 3 (ipykernel)",
   "language": "python",
   "name": "python3"
  },
  "language_info": {
   "codemirror_mode": {
    "name": "ipython",
    "version": 3
   },
   "file_extension": ".py",
   "mimetype": "text/x-python",
   "name": "python",
   "nbconvert_exporter": "python",
   "pygments_lexer": "ipython3",
   "version": "3.9.12"
  },
  "toc": {
   "base_numbering": 1,
   "nav_menu": {},
   "number_sections": true,
   "sideBar": true,
   "skip_h1_title": true,
   "title_cell": "Table of Contents",
   "title_sidebar": "Contents",
   "toc_cell": false,
   "toc_position": {},
   "toc_section_display": true,
   "toc_window_display": true
  }
 },
 "nbformat": 4,
 "nbformat_minor": 2
}
