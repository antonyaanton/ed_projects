{
 "cells": [
  {
   "cell_type": "markdown",
   "metadata": {},
   "source": [
    "# Рекомендация тарифов"
   ]
  },
  {
   "cell_type": "markdown",
   "metadata": {},
   "source": [
    "В вашем распоряжении данные о поведении клиентов, которые уже перешли на эти тарифы (из проекта курса «Статистический анализ данных»). Нужно построить модель для задачи классификации, которая выберет подходящий тариф. Предобработка данных не понадобится — вы её уже сделали.\n",
    "\n",
    "Постройте модель с максимально большим значением *accuracy*. Чтобы сдать проект успешно, нужно довести долю правильных ответов по крайней мере до 0.75. Проверьте *accuracy* на тестовой выборке самостоятельно."
   ]
  },
  {
   "cell_type": "markdown",
   "metadata": {},
   "source": [
    "## Откройте и изучите файл"
   ]
  },
  {
   "cell_type": "markdown",
   "metadata": {},
   "source": [
    "Импортируем необходимые для работы бибилиотеки:"
   ]
  },
  {
   "cell_type": "code",
   "execution_count": 1,
   "metadata": {},
   "outputs": [],
   "source": [
    "import pandas as pd\n",
    "import seaborn as sns\n",
    "\n",
    "from sklearn.tree import DecisionTreeClassifier\n",
    "from sklearn.ensemble import RandomForestClassifier\n",
    "from sklearn.linear_model import LogisticRegression\n",
    "\n",
    "from sklearn.model_selection import train_test_split\n",
    "from sklearn.metrics import accuracy_score\n",
    "\n",
    "from sklearn.dummy import DummyClassifier"
   ]
  },
  {
   "cell_type": "code",
   "execution_count": 2,
   "metadata": {},
   "outputs": [],
   "source": [
    "try:\n",
    "    df = pd.read_csv('d:/users_behavior.csv')\n",
    "except:\n",
    "    df = pd.read_csv('/datasets/users_behavior.csv')"
   ]
  },
  {
   "cell_type": "markdown",
   "metadata": {},
   "source": [
    "Приступаем к **EDA**:"
   ]
  },
  {
   "cell_type": "code",
   "execution_count": 3,
   "metadata": {},
   "outputs": [
    {
     "data": {
      "text/html": [
       "<div>\n",
       "<style scoped>\n",
       "    .dataframe tbody tr th:only-of-type {\n",
       "        vertical-align: middle;\n",
       "    }\n",
       "\n",
       "    .dataframe tbody tr th {\n",
       "        vertical-align: top;\n",
       "    }\n",
       "\n",
       "    .dataframe thead th {\n",
       "        text-align: right;\n",
       "    }\n",
       "</style>\n",
       "<table border=\"1\" class=\"dataframe\">\n",
       "  <thead>\n",
       "    <tr style=\"text-align: right;\">\n",
       "      <th></th>\n",
       "      <th>calls</th>\n",
       "      <th>minutes</th>\n",
       "      <th>messages</th>\n",
       "      <th>mb_used</th>\n",
       "      <th>is_ultra</th>\n",
       "    </tr>\n",
       "  </thead>\n",
       "  <tbody>\n",
       "    <tr>\n",
       "      <th>0</th>\n",
       "      <td>40.0</td>\n",
       "      <td>311.90</td>\n",
       "      <td>83.0</td>\n",
       "      <td>19915.42</td>\n",
       "      <td>0</td>\n",
       "    </tr>\n",
       "    <tr>\n",
       "      <th>1</th>\n",
       "      <td>85.0</td>\n",
       "      <td>516.75</td>\n",
       "      <td>56.0</td>\n",
       "      <td>22696.96</td>\n",
       "      <td>0</td>\n",
       "    </tr>\n",
       "    <tr>\n",
       "      <th>2</th>\n",
       "      <td>77.0</td>\n",
       "      <td>467.66</td>\n",
       "      <td>86.0</td>\n",
       "      <td>21060.45</td>\n",
       "      <td>0</td>\n",
       "    </tr>\n",
       "    <tr>\n",
       "      <th>3</th>\n",
       "      <td>106.0</td>\n",
       "      <td>745.53</td>\n",
       "      <td>81.0</td>\n",
       "      <td>8437.39</td>\n",
       "      <td>1</td>\n",
       "    </tr>\n",
       "    <tr>\n",
       "      <th>4</th>\n",
       "      <td>66.0</td>\n",
       "      <td>418.74</td>\n",
       "      <td>1.0</td>\n",
       "      <td>14502.75</td>\n",
       "      <td>0</td>\n",
       "    </tr>\n",
       "  </tbody>\n",
       "</table>\n",
       "</div>"
      ],
      "text/plain": [
       "   calls  minutes  messages   mb_used  is_ultra\n",
       "0   40.0   311.90      83.0  19915.42         0\n",
       "1   85.0   516.75      56.0  22696.96         0\n",
       "2   77.0   467.66      86.0  21060.45         0\n",
       "3  106.0   745.53      81.0   8437.39         1\n",
       "4   66.0   418.74       1.0  14502.75         0"
      ]
     },
     "execution_count": 3,
     "metadata": {},
     "output_type": "execute_result"
    }
   ],
   "source": [
    "df.head()"
   ]
  },
  {
   "cell_type": "code",
   "execution_count": 4,
   "metadata": {},
   "outputs": [
    {
     "data": {
      "text/plain": [
       "calls       0\n",
       "minutes     0\n",
       "messages    0\n",
       "mb_used     0\n",
       "is_ultra    0\n",
       "dtype: int64"
      ]
     },
     "execution_count": 4,
     "metadata": {},
     "output_type": "execute_result"
    }
   ],
   "source": [
    "df.isnull().sum()"
   ]
  },
  {
   "cell_type": "markdown",
   "metadata": {},
   "source": [
    "Пропусков в данных нет."
   ]
  },
  {
   "cell_type": "code",
   "execution_count": 5,
   "metadata": {},
   "outputs": [
    {
     "name": "stdout",
     "output_type": "stream",
     "text": [
      "<class 'pandas.core.frame.DataFrame'>\n",
      "RangeIndex: 3214 entries, 0 to 3213\n",
      "Data columns (total 5 columns):\n",
      " #   Column    Non-Null Count  Dtype  \n",
      "---  ------    --------------  -----  \n",
      " 0   calls     3214 non-null   float64\n",
      " 1   minutes   3214 non-null   float64\n",
      " 2   messages  3214 non-null   float64\n",
      " 3   mb_used   3214 non-null   float64\n",
      " 4   is_ultra  3214 non-null   int64  \n",
      "dtypes: float64(4), int64(1)\n",
      "memory usage: 125.7 KB\n"
     ]
    }
   ],
   "source": [
    "df.info()"
   ]
  },
  {
   "cell_type": "markdown",
   "metadata": {},
   "source": [
    "Тип данных в столбцу 'messages' представлен числами с плавающей точкой. Можно заменить на целочисленный тип, но думаю, что это некритично."
   ]
  },
  {
   "cell_type": "code",
   "execution_count": 6,
   "metadata": {},
   "outputs": [
    {
     "data": {
      "text/plain": [
       "0    2229\n",
       "1     985\n",
       "Name: is_ultra, dtype: int64"
      ]
     },
     "execution_count": 6,
     "metadata": {},
     "output_type": "execute_result"
    }
   ],
   "source": [
    "df['is_ultra'].value_counts()"
   ]
  },
  {
   "cell_type": "markdown",
   "metadata": {},
   "source": [
    "Классы не сбалансированны. "
   ]
  },
  {
   "cell_type": "code",
   "execution_count": 7,
   "metadata": {},
   "outputs": [
    {
     "data": {
      "text/plain": [
       "<AxesSubplot:>"
      ]
     },
     "execution_count": 7,
     "metadata": {},
     "output_type": "execute_result"
    },
    {
     "data": {
      "image/png": "[encoded data removed]",
      "text/plain": [
       "<Figure size 432x288 with 2 Axes>"
      ]
     },
     "metadata": {
      "needs_background": "light"
     },
     "output_type": "display_data"
    }
   ],
   "source": [
    "sns.heatmap(df.corr(), vmin = -1, vmax = +1, annot = True, cmap = 'coolwarm')"
   ]
  },
  {
   "cell_type": "markdown",
   "metadata": {},
   "source": [
    "Для данных характерна мультиколлинеанарность. Значение 'calls' и 'minutes' почти линейно зависимы."
   ]
  },
  {
   "cell_type": "markdown",
   "metadata": {},
   "source": [
    "**Вывод:** данные нуждаются в дальнейше предобработке. Тем не менее, качество данных позволяет построить ту или иную модель обучения."
   ]
  },
  {
   "cell_type": "markdown",
   "metadata": {},
   "source": [
    "## Разбейте данные на выборки"
   ]
  },
  {
   "cell_type": "markdown",
   "metadata": {},
   "source": [
    "**Разобьем данные на тестовую и валидационную выборки, а также выделим целевые признаки для обучения модели:**"
   ]
  },
  {
   "cell_type": "code",
   "execution_count": 8,
   "metadata": {},
   "outputs": [],
   "source": [
    "df_train, df_test = train_test_split(df, test_size=0.4, random_state=12345)\n",
    "features = df_test.drop(['is_ultra'], axis=1)\n",
    "target = df_test['is_ultra']"
   ]
  },
  {
   "cell_type": "code",
   "execution_count": 9,
   "metadata": {},
   "outputs": [],
   "source": [
    "features_valid, features_test, target_valid, target_test = train_test_split(features, target, \n",
    "                                                                            test_size=0.5, random_state=12345)"
   ]
  },
  {
   "cell_type": "code",
   "execution_count": 10,
   "metadata": {},
   "outputs": [],
   "source": [
    "features_train = df_train.drop('is_ultra', axis=1)\n",
    "target_train = df_train['is_ultra']"
   ]
  },
  {
   "cell_type": "markdown",
   "metadata": {},
   "source": [
    "## Исследуйте модели"
   ]
  },
  {
   "cell_type": "markdown",
   "metadata": {},
   "source": [
    "### Дерево решений"
   ]
  },
  {
   "cell_type": "markdown",
   "metadata": {},
   "source": [
    "**Дерево решений**"
   ]
  },
  {
   "cell_type": "code",
   "execution_count": 12,
   "metadata": {},
   "outputs": [
    {
     "name": "stdout",
     "output_type": "stream",
     "text": [
      "Максимальная глубина дерева: 3. Лучшая оценка: 0.7853810264385692\n"
     ]
    }
   ],
   "source": [
    "max_depth = 0\n",
    "best_result = 0\n",
    "for depth in range(1,10):\n",
    "    model = DecisionTreeClassifier(random_state=12345, max_depth=depth)\n",
    "    model.fit(features_train, target_train)\n",
    "    result = model.score(features_valid, target_valid)\n",
    "    if result > best_result:\n",
    "        best_result = result\n",
    "        max_depth = depth\n",
    "print(f'Максимальная глубина дерева: {max_depth}. Лучшая оценка: {best_result}')"
   ]
  },
  {
   "cell_type": "markdown",
   "metadata": {},
   "source": [
    "### Случайный лес"
   ]
  },
  {
   "cell_type": "code",
   "execution_count": 29,
   "metadata": {},
   "outputs": [
    {
     "name": "stdout",
     "output_type": "stream",
     "text": [
      "Максимальная глубина дерева: 8. Максимальное кол-во деревьев: 8. Число объектов в листьях: 1. Лучшая оценка: 0.80248833592535\n"
     ]
    }
   ],
   "source": [
    "max_depth = 0\n",
    "max_result = 0\n",
    "for sample in range(1,5):\n",
    "    for depth in range(1,12):\n",
    "        for est in range(1,11):\n",
    "            model = RandomForestClassifier(random_state=12345, max_depth=depth, n_estimators=est, min_samples_leaf = sample)\n",
    "            model.fit(features_train, target_train)\n",
    "            result = model.score(features_valid, target_valid)\n",
    "            if result > max_result:\n",
    "                max_result = result\n",
    "                max_depth = depth\n",
    "                max_est = est \n",
    "                max_sample = sample\n",
    "print(f'Максимальная глубина дерева: {max_depth}. Максимальное кол-во деревьев: {max_est}. Число объектов в листьях: {max_sample}. Лучшая оценка: {max_result}')"
   ]
  },
  {
   "cell_type": "markdown",
   "metadata": {},
   "source": [
    "### Логистическая регрессия"
   ]
  },
  {
   "cell_type": "code",
   "execution_count": 15,
   "metadata": {},
   "outputs": [
    {
     "name": "stdout",
     "output_type": "stream",
     "text": [
      "Кол-во повторений: 100. Лучшая оценка: 0.7107309486780715.\n"
     ]
    }
   ],
   "source": [
    "mx_iter = 0\n",
    "max_result = 0\n",
    "for iter in range(100, 1000, 50):\n",
    "    model = LogisticRegression(random_state=12345, solver='lbfgs', max_iter=iter)\n",
    "    model.fit(features_train, target_train)\n",
    "    result = model.score(features_valid, target_valid)\n",
    "    if result > max_result:\n",
    "        max_result = result\n",
    "        mx_iter = iter\n",
    "print(f'Кол-во повторений: {mx_iter}. Лучшая оценка: {max_result}.')"
   ]
  },
  {
   "cell_type": "markdown",
   "metadata": {},
   "source": [
    "## Проверьте модель на тестовой выборке"
   ]
  },
  {
   "cell_type": "markdown",
   "metadata": {},
   "source": [
    "### Дерево решений"
   ]
  },
  {
   "cell_type": "code",
   "execution_count": 16,
   "metadata": {},
   "outputs": [
    {
     "name": "stdout",
     "output_type": "stream",
     "text": [
      "Оценка: 0.7807153965785381\n"
     ]
    }
   ],
   "source": [
    "model = DecisionTreeClassifier(random_state=12345, max_depth=9)\n",
    "model.fit(features_train, target_train)\n",
    "score = model.score(features_test, target_test)\n",
    "print(f'Оценка: {score}')"
   ]
  },
  {
   "cell_type": "markdown",
   "metadata": {},
   "source": [
    "### Случайный лес"
   ]
  },
  {
   "cell_type": "code",
   "execution_count": 18,
   "metadata": {},
   "outputs": [
    {
     "name": "stdout",
     "output_type": "stream",
     "text": [
      "Оценка: 0.8009331259720062\n"
     ]
    }
   ],
   "source": [
    "model = RandomForestClassifier(random_state=12345, max_depth=10, n_estimators=8, min_samples_leaf = 1)\n",
    "model.fit(features_train, target_train)\n",
    "score = model.score(features_test, target_test)\n",
    "print(f'Оценка: {score}')"
   ]
  },
  {
   "cell_type": "markdown",
   "metadata": {},
   "source": [
    "### Логистическая регрессия"
   ]
  },
  {
   "cell_type": "code",
   "execution_count": 20,
   "metadata": {
    "scrolled": true
   },
   "outputs": [
    {
     "name": "stdout",
     "output_type": "stream",
     "text": [
      "Оценка: 0.6842923794712286\n"
     ]
    }
   ],
   "source": [
    "model = LogisticRegression(random_state=12345, solver='lbfgs') #по умолчанию max_iter = 100\n",
    "model.fit(features_train, target_train)\n",
    "score = model.score(features_test, target_test)\n",
    "print(f'Оценка: {score}')"
   ]
  },
  {
   "cell_type": "code",
   "execution_count": 24,
   "metadata": {},
   "outputs": [
    {
     "name": "stdout",
     "output_type": "stream",
     "text": [
      "RandomForestClassifier(max_depth=8, n_estimators=8, random_state=12345)\n"
     ]
    }
   ],
   "source": [
    "best_tree_model = None\n",
    "max_depth = 0\n",
    "max_result = 0\n",
    "for sample in range(1,5):\n",
    "    for depth in range(1,11):\n",
    "        for est in range(1,11):\n",
    "            model = RandomForestClassifier(random_state=12345, max_depth=depth, n_estimators=est, min_samples_leaf = sample)\n",
    "            model.fit(features_train, target_train)\n",
    "            result = model.score(features_valid, target_valid)\n",
    "            if result > max_result:\n",
    "                max_result = result\n",
    "                max_depth = depth\n",
    "                max_est = est \n",
    "                max_sample = sample\n",
    "                best_tree_model = model\n",
    "print(best_tree_model)           "
   ]
  },
  {
   "cell_type": "code",
   "execution_count": 30,
   "metadata": {},
   "outputs": [
    {
     "name": "stdout",
     "output_type": "stream",
     "text": [
      "Оценка: 0.7962674961119751\n"
     ]
    }
   ],
   "source": [
    "model = RandomForestClassifier(random_state=12345, max_depth=8, n_estimators=8, min_samples_leaf = 1)\n",
    "model.fit(features_train, target_train)\n",
    "score = model.score(features_test, target_test)\n",
    "print(f'Оценка: {score}')"
   ]
  },
  {
   "cell_type": "markdown",
   "metadata": {},
   "source": [
    "## (бонус) Проверьте модели на адекватность"
   ]
  },
  {
   "cell_type": "code",
   "execution_count": 21,
   "metadata": {},
   "outputs": [
    {
     "name": "stdout",
     "output_type": "stream",
     "text": [
      "Оценка: 0.6842923794712286\n"
     ]
    }
   ],
   "source": [
    "dmb = DummyClassifier(random_state=12345, strategy='most_frequent') \n",
    "dmb.fit(features_train, target_train)                               \n",
    "dmb_score = dmb.score(features_test, target_test)                   \n",
    "print(\"Оценка:\", dmb_score)                                         "
   ]
  },
  {
   "cell_type": "markdown",
   "metadata": {},
   "source": [
    "**Вывод:** лучшая оценка у модели `\"случайный лес\"`. \n",
    "Максимальный результат достигается при следующих значениях гиперпараметров:\n",
    "\n",
    "* Максимальная глубина дерева = `8`\n",
    "* Максимальное кол-во деревьев  = `8`\n",
    "* Число объектов в листьях = `1`"
   ]
  }
 ],
 "metadata": {
  "ExecuteTimeLog": [
   {
    "duration": 50,
    "start_time": "2023-01-02T07:17:31.886Z"
   },
   {
    "duration": 1072,
    "start_time": "2023-01-02T07:17:34.655Z"
   },
   {
    "duration": 137,
    "start_time": "2023-01-02T07:17:36.343Z"
   },
   {
    "duration": 36,
    "start_time": "2023-01-02T07:17:56.141Z"
   },
   {
    "duration": 242,
    "start_time": "2023-01-02T07:22:44.112Z"
   },
   {
    "duration": 29,
    "start_time": "2023-01-02T07:22:51.949Z"
   },
   {
    "duration": 26,
    "start_time": "2023-01-02T07:23:42.250Z"
   },
   {
    "duration": 17,
    "start_time": "2023-01-02T07:23:43.692Z"
   },
   {
    "duration": 1372,
    "start_time": "2023-01-02T07:24:01.375Z"
   },
   {
    "duration": 23,
    "start_time": "2023-01-02T07:24:02.750Z"
   },
   {
    "duration": 159,
    "start_time": "2023-01-02T07:24:02.894Z"
   },
   {
    "duration": 49,
    "start_time": "2023-01-02T07:24:17.738Z"
   },
   {
    "duration": 22,
    "start_time": "2023-01-02T07:24:18.241Z"
   },
   {
    "duration": 11,
    "start_time": "2023-01-02T07:34:54.237Z"
   },
   {
    "duration": 5,
    "start_time": "2023-01-02T07:43:18.800Z"
   },
   {
    "duration": 12,
    "start_time": "2023-01-02T08:02:43.693Z"
   },
   {
    "duration": 10,
    "start_time": "2023-01-02T08:02:49.430Z"
   },
   {
    "duration": 4,
    "start_time": "2023-01-02T08:02:59.684Z"
   },
   {
    "duration": 4,
    "start_time": "2023-01-02T08:03:17.639Z"
   },
   {
    "duration": 6,
    "start_time": "2023-01-02T08:03:27.944Z"
   },
   {
    "duration": 4,
    "start_time": "2023-01-02T08:07:03.229Z"
   },
   {
    "duration": 5,
    "start_time": "2023-01-02T08:16:38.977Z"
   },
   {
    "duration": 10,
    "start_time": "2023-01-02T08:17:28.310Z"
   },
   {
    "duration": 8,
    "start_time": "2023-01-02T08:17:50.070Z"
   },
   {
    "duration": 10,
    "start_time": "2023-01-02T08:18:02.380Z"
   },
   {
    "duration": 6,
    "start_time": "2023-01-02T08:18:28.729Z"
   },
   {
    "duration": 10,
    "start_time": "2023-01-02T08:18:30.052Z"
   },
   {
    "duration": 9,
    "start_time": "2023-01-02T08:47:12.815Z"
   },
   {
    "duration": 53,
    "start_time": "2023-01-02T08:47:22.980Z"
   },
   {
    "duration": 1097,
    "start_time": "2023-01-02T08:47:25.989Z"
   },
   {
    "duration": 57,
    "start_time": "2023-01-02T08:47:27.088Z"
   },
   {
    "duration": 16,
    "start_time": "2023-01-02T08:47:27.147Z"
   },
   {
    "duration": 4,
    "start_time": "2023-01-02T08:47:27.164Z"
   },
   {
    "duration": 8,
    "start_time": "2023-01-02T08:47:27.170Z"
   },
   {
    "duration": 5,
    "start_time": "2023-01-02T08:47:27.179Z"
   },
   {
    "duration": 44,
    "start_time": "2023-01-03T05:20:27.660Z"
   },
   {
    "duration": 1004,
    "start_time": "2023-01-03T05:20:33.687Z"
   },
   {
    "duration": 138,
    "start_time": "2023-01-03T05:20:34.693Z"
   },
   {
    "duration": 15,
    "start_time": "2023-01-03T05:20:34.832Z"
   },
   {
    "duration": 10,
    "start_time": "2023-01-03T05:20:34.849Z"
   },
   {
    "duration": 6,
    "start_time": "2023-01-03T05:20:34.860Z"
   },
   {
    "duration": 5,
    "start_time": "2023-01-03T05:20:34.868Z"
   },
   {
    "duration": 7,
    "start_time": "2023-01-03T05:20:34.874Z"
   },
   {
    "duration": 5,
    "start_time": "2023-01-03T05:21:11.424Z"
   },
   {
    "duration": 457,
    "start_time": "2023-01-03T05:39:03.205Z"
   },
   {
    "duration": 335,
    "start_time": "2023-01-03T05:39:28.168Z"
   },
   {
    "duration": 358,
    "start_time": "2023-01-03T05:40:25.616Z"
   },
   {
    "duration": 115,
    "start_time": "2023-01-03T05:41:56.533Z"
   },
   {
    "duration": 386,
    "start_time": "2023-01-03T05:42:32.305Z"
   },
   {
    "duration": 10,
    "start_time": "2023-01-03T05:50:27.844Z"
   },
   {
    "duration": 1541,
    "start_time": "2023-01-03T18:46:05.029Z"
   },
   {
    "duration": 155,
    "start_time": "2023-01-03T18:46:06.573Z"
   },
   {
    "duration": 16,
    "start_time": "2023-01-03T18:46:06.730Z"
   },
   {
    "duration": 10,
    "start_time": "2023-01-03T18:46:06.749Z"
   },
   {
    "duration": 9,
    "start_time": "2023-01-03T18:46:06.761Z"
   },
   {
    "duration": 475,
    "start_time": "2023-01-03T18:46:06.771Z"
   },
   {
    "duration": 6,
    "start_time": "2023-01-03T18:46:07.248Z"
   },
   {
    "duration": 9,
    "start_time": "2023-01-03T18:46:07.255Z"
   },
   {
    "duration": 17,
    "start_time": "2023-01-03T18:46:07.266Z"
   },
   {
    "duration": 129,
    "start_time": "2023-01-03T18:46:07.285Z"
   },
   {
    "duration": 10,
    "start_time": "2023-01-03T18:49:21.933Z"
   },
   {
    "duration": 1343,
    "start_time": "2023-01-03T18:49:32.285Z"
   },
   {
    "duration": 50,
    "start_time": "2023-01-03T18:49:33.630Z"
   },
   {
    "duration": 11,
    "start_time": "2023-01-03T18:49:33.682Z"
   },
   {
    "duration": 10,
    "start_time": "2023-01-03T18:49:33.695Z"
   },
   {
    "duration": 7,
    "start_time": "2023-01-03T18:49:33.706Z"
   },
   {
    "duration": 315,
    "start_time": "2023-01-03T18:49:33.714Z"
   },
   {
    "duration": 5,
    "start_time": "2023-01-03T18:49:34.031Z"
   },
   {
    "duration": 10,
    "start_time": "2023-01-03T18:49:34.037Z"
   },
   {
    "duration": 12,
    "start_time": "2023-01-03T18:49:34.048Z"
   },
   {
    "duration": 110,
    "start_time": "2023-01-03T18:49:34.062Z"
   },
   {
    "duration": 5,
    "start_time": "2023-01-03T18:57:35.878Z"
   },
   {
    "duration": 4,
    "start_time": "2023-01-03T19:16:11.232Z"
   },
   {
    "duration": 3,
    "start_time": "2023-01-03T19:16:20.373Z"
   },
   {
    "duration": 6,
    "start_time": "2023-01-03T19:17:50.323Z"
   },
   {
    "duration": 4,
    "start_time": "2023-01-03T19:17:53.656Z"
   },
   {
    "duration": 1443,
    "start_time": "2023-01-04T04:49:39.646Z"
   },
   {
    "duration": 147,
    "start_time": "2023-01-04T04:49:41.091Z"
   },
   {
    "duration": 14,
    "start_time": "2023-01-04T04:49:41.240Z"
   },
   {
    "duration": 10,
    "start_time": "2023-01-04T04:49:41.256Z"
   },
   {
    "duration": 4,
    "start_time": "2023-01-04T04:49:41.268Z"
   },
   {
    "duration": 388,
    "start_time": "2023-01-04T04:49:41.274Z"
   },
   {
    "duration": 6,
    "start_time": "2023-01-04T04:49:41.663Z"
   },
   {
    "duration": 6,
    "start_time": "2023-01-04T04:49:41.670Z"
   },
   {
    "duration": 7,
    "start_time": "2023-01-04T04:49:41.677Z"
   },
   {
    "duration": 44,
    "start_time": "2023-01-04T04:49:41.686Z"
   },
   {
    "duration": 102,
    "start_time": "2023-01-04T04:49:47.302Z"
   },
   {
    "duration": 13,
    "start_time": "2023-01-04T04:50:10.808Z"
   },
   {
    "duration": 1286,
    "start_time": "2023-01-04T04:50:40.734Z"
   },
   {
    "duration": 53,
    "start_time": "2023-01-04T04:50:42.021Z"
   },
   {
    "duration": 14,
    "start_time": "2023-01-04T04:50:42.076Z"
   },
   {
    "duration": 16,
    "start_time": "2023-01-04T04:50:42.091Z"
   },
   {
    "duration": 6,
    "start_time": "2023-01-04T04:50:42.109Z"
   },
   {
    "duration": 309,
    "start_time": "2023-01-04T04:50:42.117Z"
   },
   {
    "duration": 6,
    "start_time": "2023-01-04T04:50:42.428Z"
   },
   {
    "duration": 10,
    "start_time": "2023-01-04T04:50:42.435Z"
   },
   {
    "duration": 6,
    "start_time": "2023-01-04T04:50:42.446Z"
   },
   {
    "duration": 128,
    "start_time": "2023-01-04T04:50:42.453Z"
   },
   {
    "duration": 15,
    "start_time": "2023-01-04T04:51:12.287Z"
   },
   {
    "duration": 953,
    "start_time": "2023-01-04T04:52:37.287Z"
   },
   {
    "duration": 15,
    "start_time": "2023-01-04T04:58:34.445Z"
   },
   {
    "duration": 1324,
    "start_time": "2023-01-04T04:59:14.698Z"
   },
   {
    "duration": 54,
    "start_time": "2023-01-04T04:59:16.024Z"
   },
   {
    "duration": 12,
    "start_time": "2023-01-04T04:59:16.079Z"
   },
   {
    "duration": 11,
    "start_time": "2023-01-04T04:59:16.092Z"
   },
   {
    "duration": 4,
    "start_time": "2023-01-04T04:59:16.105Z"
   },
   {
    "duration": 366,
    "start_time": "2023-01-04T04:59:16.110Z"
   },
   {
    "duration": 5,
    "start_time": "2023-01-04T04:59:16.477Z"
   },
   {
    "duration": 9,
    "start_time": "2023-01-04T04:59:16.483Z"
   },
   {
    "duration": 9,
    "start_time": "2023-01-04T04:59:16.493Z"
   },
   {
    "duration": 124,
    "start_time": "2023-01-04T04:59:16.504Z"
   },
   {
    "duration": 863,
    "start_time": "2023-01-04T05:00:56.532Z"
   },
   {
    "duration": 1293,
    "start_time": "2023-01-04T05:05:13.283Z"
   },
   {
    "duration": 51,
    "start_time": "2023-01-04T05:05:14.578Z"
   },
   {
    "duration": 13,
    "start_time": "2023-01-04T05:05:14.630Z"
   },
   {
    "duration": 11,
    "start_time": "2023-01-04T05:05:14.644Z"
   },
   {
    "duration": 12,
    "start_time": "2023-01-04T05:05:14.657Z"
   },
   {
    "duration": 363,
    "start_time": "2023-01-04T05:05:14.670Z"
   },
   {
    "duration": 108,
    "start_time": "2023-01-04T05:05:15.034Z"
   },
   {
    "duration": 0,
    "start_time": "2023-01-04T05:05:15.143Z"
   },
   {
    "duration": 0,
    "start_time": "2023-01-04T05:05:15.144Z"
   },
   {
    "duration": 6,
    "start_time": "2023-01-04T05:06:14.446Z"
   },
   {
    "duration": 8,
    "start_time": "2023-01-04T05:06:15.394Z"
   },
   {
    "duration": 5,
    "start_time": "2023-01-04T05:06:36.733Z"
   },
   {
    "duration": 1285,
    "start_time": "2023-01-04T05:07:21.843Z"
   },
   {
    "duration": 48,
    "start_time": "2023-01-04T05:07:23.130Z"
   },
   {
    "duration": 12,
    "start_time": "2023-01-04T05:07:23.180Z"
   },
   {
    "duration": 9,
    "start_time": "2023-01-04T05:07:23.194Z"
   },
   {
    "duration": 8,
    "start_time": "2023-01-04T05:07:23.204Z"
   },
   {
    "duration": 348,
    "start_time": "2023-01-04T05:07:23.213Z"
   },
   {
    "duration": 6,
    "start_time": "2023-01-04T05:07:23.563Z"
   },
   {
    "duration": 9,
    "start_time": "2023-01-04T05:07:23.570Z"
   },
   {
    "duration": 5,
    "start_time": "2023-01-04T05:07:23.580Z"
   },
   {
    "duration": 861,
    "start_time": "2023-01-04T05:07:23.587Z"
   },
   {
    "duration": 840,
    "start_time": "2023-01-04T05:08:31.075Z"
   },
   {
    "duration": 899,
    "start_time": "2023-01-04T05:08:36.179Z"
   },
   {
    "duration": 106,
    "start_time": "2023-01-04T05:09:24.152Z"
   },
   {
    "duration": 1253,
    "start_time": "2023-01-04T05:10:04.783Z"
   },
   {
    "duration": 66,
    "start_time": "2023-01-04T05:10:06.038Z"
   },
   {
    "duration": 13,
    "start_time": "2023-01-04T05:10:06.106Z"
   },
   {
    "duration": 14,
    "start_time": "2023-01-04T05:10:06.120Z"
   },
   {
    "duration": 12,
    "start_time": "2023-01-04T05:10:06.135Z"
   },
   {
    "duration": 342,
    "start_time": "2023-01-04T05:10:06.149Z"
   },
   {
    "duration": 5,
    "start_time": "2023-01-04T05:10:06.493Z"
   },
   {
    "duration": 15,
    "start_time": "2023-01-04T05:10:06.500Z"
   },
   {
    "duration": 4,
    "start_time": "2023-01-04T05:10:06.516Z"
   },
   {
    "duration": 115,
    "start_time": "2023-01-04T05:10:06.521Z"
   },
   {
    "duration": 996,
    "start_time": "2023-01-04T05:10:32.033Z"
   },
   {
    "duration": 925,
    "start_time": "2023-01-04T05:10:49.871Z"
   },
   {
    "duration": 980,
    "start_time": "2023-01-04T05:16:59.725Z"
   },
   {
    "duration": 887,
    "start_time": "2023-01-04T05:17:09.707Z"
   },
   {
    "duration": 9119,
    "start_time": "2023-01-04T05:17:23.307Z"
   },
   {
    "duration": 52,
    "start_time": "2023-01-04T05:18:11.693Z"
   },
   {
    "duration": 887,
    "start_time": "2023-01-04T05:18:18.788Z"
   },
   {
    "duration": 51,
    "start_time": "2023-01-04T05:18:29.347Z"
   },
   {
    "duration": 1342,
    "start_time": "2023-01-04T05:18:35.414Z"
   },
   {
    "duration": 50,
    "start_time": "2023-01-04T05:18:36.757Z"
   },
   {
    "duration": 11,
    "start_time": "2023-01-04T05:18:36.809Z"
   },
   {
    "duration": 9,
    "start_time": "2023-01-04T05:18:36.822Z"
   },
   {
    "duration": 8,
    "start_time": "2023-01-04T05:18:36.833Z"
   },
   {
    "duration": 325,
    "start_time": "2023-01-04T05:18:36.842Z"
   },
   {
    "duration": 5,
    "start_time": "2023-01-04T05:18:37.169Z"
   },
   {
    "duration": 6,
    "start_time": "2023-01-04T05:18:37.176Z"
   },
   {
    "duration": 6,
    "start_time": "2023-01-04T05:18:37.183Z"
   },
   {
    "duration": 70,
    "start_time": "2023-01-04T05:18:37.190Z"
   },
   {
    "duration": 1321,
    "start_time": "2023-01-04T05:44:01.556Z"
   },
   {
    "duration": 53,
    "start_time": "2023-01-04T05:44:02.879Z"
   },
   {
    "duration": 12,
    "start_time": "2023-01-04T05:44:02.933Z"
   },
   {
    "duration": 8,
    "start_time": "2023-01-04T05:44:02.947Z"
   },
   {
    "duration": 8,
    "start_time": "2023-01-04T05:44:02.957Z"
   },
   {
    "duration": 339,
    "start_time": "2023-01-04T05:44:02.966Z"
   },
   {
    "duration": 13,
    "start_time": "2023-01-04T05:44:03.306Z"
   },
   {
    "duration": 10,
    "start_time": "2023-01-04T05:44:03.320Z"
   },
   {
    "duration": 6,
    "start_time": "2023-01-04T05:44:03.332Z"
   },
   {
    "duration": 54,
    "start_time": "2023-01-04T05:44:03.339Z"
   },
   {
    "duration": 1709,
    "start_time": "2023-01-07T15:12:24.203Z"
   },
   {
    "duration": 103,
    "start_time": "2023-01-07T15:12:25.914Z"
   },
   {
    "duration": 18,
    "start_time": "2023-01-07T15:12:26.018Z"
   },
   {
    "duration": 21,
    "start_time": "2023-01-07T15:12:26.038Z"
   },
   {
    "duration": 36,
    "start_time": "2023-01-07T15:12:26.062Z"
   },
   {
    "duration": 491,
    "start_time": "2023-01-07T15:12:26.100Z"
   },
   {
    "duration": 7,
    "start_time": "2023-01-07T15:12:26.593Z"
   },
   {
    "duration": 17,
    "start_time": "2023-01-07T15:12:26.601Z"
   },
   {
    "duration": 28,
    "start_time": "2023-01-07T15:12:26.620Z"
   },
   {
    "duration": 90,
    "start_time": "2023-01-07T15:12:26.650Z"
   },
   {
    "duration": 1470,
    "start_time": "2023-01-07T15:13:29.915Z"
   },
   {
    "duration": 64,
    "start_time": "2023-01-07T15:13:31.387Z"
   },
   {
    "duration": 14,
    "start_time": "2023-01-07T15:13:31.453Z"
   },
   {
    "duration": 11,
    "start_time": "2023-01-07T15:13:31.469Z"
   },
   {
    "duration": 13,
    "start_time": "2023-01-07T15:13:31.482Z"
   },
   {
    "duration": 411,
    "start_time": "2023-01-07T15:13:31.496Z"
   },
   {
    "duration": 7,
    "start_time": "2023-01-07T15:13:31.909Z"
   },
   {
    "duration": 21,
    "start_time": "2023-01-07T15:13:31.918Z"
   },
   {
    "duration": 16,
    "start_time": "2023-01-07T15:13:31.941Z"
   },
   {
    "duration": 68,
    "start_time": "2023-01-07T15:13:31.959Z"
   },
   {
    "duration": 1506,
    "start_time": "2023-01-07T15:14:08.162Z"
   },
   {
    "duration": 57174,
    "start_time": "2023-01-07T15:14:18.550Z"
   },
   {
    "duration": 1573,
    "start_time": "2023-01-07T15:15:37.816Z"
   },
   {
    "duration": 17313,
    "start_time": "2023-01-07T15:27:53.108Z"
   },
   {
    "duration": 77,
    "start_time": "2023-01-07T15:28:27.709Z"
   },
   {
    "duration": 17157,
    "start_time": "2023-01-07T15:28:50.316Z"
   },
   {
    "duration": 20291,
    "start_time": "2023-01-07T15:29:33.128Z"
   },
   {
    "duration": 17244,
    "start_time": "2023-01-07T15:30:41.348Z"
   },
   {
    "duration": 7014,
    "start_time": "2023-01-07T15:31:27.623Z"
   },
   {
    "duration": 7063,
    "start_time": "2023-01-07T15:33:57.518Z"
   },
   {
    "duration": 125,
    "start_time": "2023-01-07T15:52:36.449Z"
   },
   {
    "duration": 1474,
    "start_time": "2023-01-07T15:52:55.718Z"
   },
   {
    "duration": 65,
    "start_time": "2023-01-07T15:52:57.194Z"
   },
   {
    "duration": 14,
    "start_time": "2023-01-07T15:52:57.261Z"
   },
   {
    "duration": 11,
    "start_time": "2023-01-07T15:52:57.277Z"
   },
   {
    "duration": 9,
    "start_time": "2023-01-07T15:52:57.290Z"
   },
   {
    "duration": 439,
    "start_time": "2023-01-07T15:52:57.301Z"
   },
   {
    "duration": 7,
    "start_time": "2023-01-07T15:52:57.742Z"
   },
   {
    "duration": 10,
    "start_time": "2023-01-07T15:52:57.751Z"
   },
   {
    "duration": 5,
    "start_time": "2023-01-07T15:52:57.763Z"
   },
   {
    "duration": 86,
    "start_time": "2023-01-07T15:52:57.770Z"
   },
   {
    "duration": 7079,
    "start_time": "2023-01-07T15:52:57.858Z"
   },
   {
    "duration": 357,
    "start_time": "2023-01-07T15:53:04.939Z"
   },
   {
    "duration": 45,
    "start_time": "2023-01-07T18:18:35.497Z"
   },
   {
    "duration": 1520,
    "start_time": "2023-01-07T18:18:45.775Z"
   },
   {
    "duration": 142,
    "start_time": "2023-01-07T18:18:47.297Z"
   },
   {
    "duration": 14,
    "start_time": "2023-01-07T18:18:47.440Z"
   },
   {
    "duration": 12,
    "start_time": "2023-01-07T18:18:47.456Z"
   },
   {
    "duration": 13,
    "start_time": "2023-01-07T18:18:47.470Z"
   },
   {
    "duration": 398,
    "start_time": "2023-01-07T18:18:47.484Z"
   },
   {
    "duration": 15,
    "start_time": "2023-01-07T18:18:47.884Z"
   },
   {
    "duration": 11,
    "start_time": "2023-01-07T18:18:47.901Z"
   },
   {
    "duration": 5,
    "start_time": "2023-01-07T18:18:47.914Z"
   },
   {
    "duration": 99,
    "start_time": "2023-01-07T18:18:47.922Z"
   },
   {
    "duration": 6076,
    "start_time": "2023-01-07T18:18:48.024Z"
   },
   {
    "duration": 341,
    "start_time": "2023-01-07T18:18:54.102Z"
   },
   {
    "duration": 10,
    "start_time": "2023-01-07T18:18:54.445Z"
   },
   {
    "duration": 12,
    "start_time": "2023-01-07T18:22:25.129Z"
   },
   {
    "duration": 12,
    "start_time": "2023-01-07T18:24:11.734Z"
   },
   {
    "duration": 48,
    "start_time": "2023-01-07T18:25:56.241Z"
   },
   {
    "duration": 34,
    "start_time": "2023-01-07T18:26:37.390Z"
   },
   {
    "duration": 22,
    "start_time": "2023-01-07T18:45:57.243Z"
   },
   {
    "duration": 1365,
    "start_time": "2023-01-07T18:46:30.205Z"
   },
   {
    "duration": 57,
    "start_time": "2023-01-07T18:46:31.572Z"
   },
   {
    "duration": 15,
    "start_time": "2023-01-07T18:46:31.631Z"
   },
   {
    "duration": 14,
    "start_time": "2023-01-07T18:46:31.648Z"
   },
   {
    "duration": 8,
    "start_time": "2023-01-07T18:46:31.664Z"
   },
   {
    "duration": 383,
    "start_time": "2023-01-07T18:46:31.674Z"
   },
   {
    "duration": 7,
    "start_time": "2023-01-07T18:46:32.058Z"
   },
   {
    "duration": 15,
    "start_time": "2023-01-07T18:46:32.066Z"
   },
   {
    "duration": 9,
    "start_time": "2023-01-07T18:46:32.082Z"
   },
   {
    "duration": 58,
    "start_time": "2023-01-07T18:46:32.098Z"
   },
   {
    "duration": 6491,
    "start_time": "2023-01-07T18:46:32.158Z"
   },
   {
    "duration": 329,
    "start_time": "2023-01-07T18:46:38.651Z"
   },
   {
    "duration": 27,
    "start_time": "2023-01-07T18:46:38.983Z"
   },
   {
    "duration": 34,
    "start_time": "2023-01-07T18:46:39.013Z"
   },
   {
    "duration": 22,
    "start_time": "2023-01-07T18:46:39.049Z"
   },
   {
    "duration": 24,
    "start_time": "2023-01-07T18:48:15.234Z"
   },
   {
    "duration": 46,
    "start_time": "2023-01-10T17:09:57.535Z"
   },
   {
    "duration": 1681,
    "start_time": "2023-01-10T17:10:03.579Z"
   },
   {
    "duration": 214,
    "start_time": "2023-01-10T17:10:05.262Z"
   },
   {
    "duration": 13,
    "start_time": "2023-01-10T17:10:05.477Z"
   },
   {
    "duration": 11,
    "start_time": "2023-01-10T17:10:05.492Z"
   },
   {
    "duration": 14,
    "start_time": "2023-01-10T17:10:05.504Z"
   },
   {
    "duration": 7,
    "start_time": "2023-01-10T17:10:05.519Z"
   },
   {
    "duration": 455,
    "start_time": "2023-01-10T17:10:05.527Z"
   },
   {
    "duration": 7,
    "start_time": "2023-01-10T17:10:05.983Z"
   },
   {
    "duration": 21,
    "start_time": "2023-01-10T17:10:05.997Z"
   },
   {
    "duration": 6,
    "start_time": "2023-01-10T17:10:06.021Z"
   },
   {
    "duration": 57,
    "start_time": "2023-01-10T17:10:06.028Z"
   },
   {
    "duration": 6137,
    "start_time": "2023-01-10T17:10:06.086Z"
   },
   {
    "duration": 337,
    "start_time": "2023-01-10T17:10:12.224Z"
   },
   {
    "duration": 13,
    "start_time": "2023-01-10T17:10:12.563Z"
   },
   {
    "duration": 31,
    "start_time": "2023-01-10T17:10:12.597Z"
   },
   {
    "duration": 22,
    "start_time": "2023-01-10T17:10:12.629Z"
   },
   {
    "duration": 1321,
    "start_time": "2023-01-10T17:29:52.473Z"
   },
   {
    "duration": 47,
    "start_time": "2023-01-10T17:29:53.796Z"
   },
   {
    "duration": 13,
    "start_time": "2023-01-10T17:29:53.845Z"
   },
   {
    "duration": 7,
    "start_time": "2023-01-10T17:29:53.860Z"
   },
   {
    "duration": 21,
    "start_time": "2023-01-10T17:29:53.868Z"
   },
   {
    "duration": 5,
    "start_time": "2023-01-10T17:29:53.890Z"
   },
   {
    "duration": 348,
    "start_time": "2023-01-10T17:29:53.896Z"
   },
   {
    "duration": 5,
    "start_time": "2023-01-10T17:29:54.246Z"
   },
   {
    "duration": 46,
    "start_time": "2023-01-10T17:29:54.253Z"
   },
   {
    "duration": 7,
    "start_time": "2023-01-10T17:29:54.302Z"
   },
   {
    "duration": 62,
    "start_time": "2023-01-10T17:29:54.310Z"
   },
   {
    "duration": 6107,
    "start_time": "2023-01-10T17:29:54.373Z"
   },
   {
    "duration": 328,
    "start_time": "2023-01-10T17:30:00.482Z"
   },
   {
    "duration": 11,
    "start_time": "2023-01-10T17:30:00.812Z"
   },
   {
    "duration": 61,
    "start_time": "2023-01-10T17:30:00.825Z"
   },
   {
    "duration": 20,
    "start_time": "2023-01-10T17:30:00.888Z"
   },
   {
    "duration": 1258,
    "start_time": "2023-01-10T17:30:38.158Z"
   },
   {
    "duration": 48,
    "start_time": "2023-01-10T17:30:39.418Z"
   },
   {
    "duration": 13,
    "start_time": "2023-01-10T17:30:39.468Z"
   },
   {
    "duration": 6,
    "start_time": "2023-01-10T17:30:39.483Z"
   },
   {
    "duration": 17,
    "start_time": "2023-01-10T17:30:39.491Z"
   },
   {
    "duration": 7,
    "start_time": "2023-01-10T17:30:39.510Z"
   },
   {
    "duration": 346,
    "start_time": "2023-01-10T17:30:39.518Z"
   },
   {
    "duration": 5,
    "start_time": "2023-01-10T17:30:39.866Z"
   },
   {
    "duration": 21,
    "start_time": "2023-01-10T17:30:39.873Z"
   },
   {
    "duration": 5,
    "start_time": "2023-01-10T17:30:39.895Z"
   },
   {
    "duration": 61,
    "start_time": "2023-01-10T17:30:39.901Z"
   },
   {
    "duration": 6266,
    "start_time": "2023-01-10T17:30:39.963Z"
   },
   {
    "duration": 337,
    "start_time": "2023-01-10T17:30:46.231Z"
   },
   {
    "duration": 13,
    "start_time": "2023-01-10T17:30:46.570Z"
   },
   {
    "duration": 31,
    "start_time": "2023-01-10T17:30:46.597Z"
   },
   {
    "duration": 21,
    "start_time": "2023-01-10T17:30:46.629Z"
   },
   {
    "duration": 4,
    "start_time": "2023-01-10T17:37:14.656Z"
   },
   {
    "duration": 5,
    "start_time": "2023-01-10T17:38:38.913Z"
   },
   {
    "duration": 1260,
    "start_time": "2023-01-10T17:41:53.411Z"
   },
   {
    "duration": 46,
    "start_time": "2023-01-10T17:41:54.672Z"
   },
   {
    "duration": 11,
    "start_time": "2023-01-10T17:41:54.719Z"
   },
   {
    "duration": 7,
    "start_time": "2023-01-10T17:41:54.732Z"
   },
   {
    "duration": 12,
    "start_time": "2023-01-10T17:41:54.740Z"
   },
   {
    "duration": 5,
    "start_time": "2023-01-10T17:41:54.753Z"
   },
   {
    "duration": 415,
    "start_time": "2023-01-10T17:41:54.759Z"
   },
   {
    "duration": 5,
    "start_time": "2023-01-10T17:41:55.175Z"
   },
   {
    "duration": 56,
    "start_time": "2023-01-10T17:41:55.181Z"
   },
   {
    "duration": 14,
    "start_time": "2023-01-10T17:41:55.239Z"
   },
   {
    "duration": 67,
    "start_time": "2023-01-10T17:41:55.254Z"
   },
   {
    "duration": 6013,
    "start_time": "2023-01-10T17:41:55.323Z"
   },
   {
    "duration": 313,
    "start_time": "2023-01-10T17:42:01.337Z"
   },
   {
    "duration": 13,
    "start_time": "2023-01-10T17:42:01.651Z"
   },
   {
    "duration": 46,
    "start_time": "2023-01-10T17:42:01.665Z"
   },
   {
    "duration": 20,
    "start_time": "2023-01-10T17:42:01.713Z"
   },
   {
    "duration": 34,
    "start_time": "2023-01-10T17:42:01.734Z"
   },
   {
    "duration": 1749,
    "start_time": "2023-01-11T10:21:49.951Z"
   },
   {
    "duration": 192,
    "start_time": "2023-01-11T10:21:51.702Z"
   },
   {
    "duration": 16,
    "start_time": "2023-01-11T10:21:51.896Z"
   },
   {
    "duration": 6,
    "start_time": "2023-01-11T10:21:51.914Z"
   },
   {
    "duration": 22,
    "start_time": "2023-01-11T10:21:51.923Z"
   },
   {
    "duration": 7,
    "start_time": "2023-01-11T10:21:51.946Z"
   },
   {
    "duration": 443,
    "start_time": "2023-01-11T10:21:51.954Z"
   },
   {
    "duration": 7,
    "start_time": "2023-01-11T10:21:52.398Z"
   },
   {
    "duration": 22,
    "start_time": "2023-01-11T10:21:52.407Z"
   },
   {
    "duration": 5,
    "start_time": "2023-01-11T10:21:52.431Z"
   },
   {
    "duration": 75,
    "start_time": "2023-01-11T10:21:52.437Z"
   },
   {
    "duration": 7163,
    "start_time": "2023-01-11T10:21:52.514Z"
   },
   {
    "duration": 440,
    "start_time": "2023-01-11T10:21:59.679Z"
   },
   {
    "duration": 14,
    "start_time": "2023-01-11T10:22:00.121Z"
   },
   {
    "duration": 55,
    "start_time": "2023-01-11T10:22:00.136Z"
   },
   {
    "duration": 26,
    "start_time": "2023-01-11T10:22:00.193Z"
   },
   {
    "duration": 5,
    "start_time": "2023-01-11T10:22:00.221Z"
   },
   {
    "duration": 62,
    "start_time": "2023-01-11T10:22:03.551Z"
   },
   {
    "duration": 46,
    "start_time": "2023-01-12T04:19:05.808Z"
   },
   {
    "duration": 1514,
    "start_time": "2023-01-12T04:19:15.013Z"
   },
   {
    "duration": 160,
    "start_time": "2023-01-12T04:19:16.529Z"
   },
   {
    "duration": 12,
    "start_time": "2023-01-12T04:19:16.690Z"
   },
   {
    "duration": 8,
    "start_time": "2023-01-12T04:19:16.704Z"
   },
   {
    "duration": 13,
    "start_time": "2023-01-12T04:19:16.714Z"
   },
   {
    "duration": 5,
    "start_time": "2023-01-12T04:19:16.728Z"
   },
   {
    "duration": 380,
    "start_time": "2023-01-12T04:19:16.734Z"
   },
   {
    "duration": 6,
    "start_time": "2023-01-12T04:19:17.116Z"
   },
   {
    "duration": 12,
    "start_time": "2023-01-12T04:19:17.123Z"
   },
   {
    "duration": 15,
    "start_time": "2023-01-12T04:19:17.136Z"
   },
   {
    "duration": 62,
    "start_time": "2023-01-12T04:19:17.152Z"
   },
   {
    "duration": 53,
    "start_time": "2023-01-12T04:19:17.216Z"
   },
   {
    "duration": 6084,
    "start_time": "2023-01-12T04:19:17.271Z"
   },
   {
    "duration": 313,
    "start_time": "2023-01-12T04:19:23.356Z"
   },
   {
    "duration": 11,
    "start_time": "2023-01-12T04:19:23.671Z"
   },
   {
    "duration": 45,
    "start_time": "2023-01-12T04:19:23.683Z"
   },
   {
    "duration": 22,
    "start_time": "2023-01-12T04:19:23.729Z"
   },
   {
    "duration": 4,
    "start_time": "2023-01-12T04:19:23.753Z"
   },
   {
    "duration": 6154,
    "start_time": "2023-01-12T04:28:14.807Z"
   },
   {
    "duration": 44,
    "start_time": "2023-01-12T04:29:59.426Z"
   },
   {
    "duration": 54,
    "start_time": "2023-01-12T04:31:45.499Z"
   },
   {
    "duration": 57,
    "start_time": "2023-01-12T04:32:16.951Z"
   },
   {
    "duration": 54,
    "start_time": "2023-01-12T04:33:59.262Z"
   },
   {
    "duration": 13,
    "start_time": "2023-01-12T04:34:02.307Z"
   },
   {
    "duration": 54,
    "start_time": "2023-01-12T04:34:04.386Z"
   },
   {
    "duration": 6161,
    "start_time": "2023-01-12T04:34:20.230Z"
   },
   {
    "duration": 9,
    "start_time": "2023-01-12T04:35:42.906Z"
   },
   {
    "duration": 1286,
    "start_time": "2023-01-12T04:35:51.156Z"
   },
   {
    "duration": 48,
    "start_time": "2023-01-12T04:35:52.444Z"
   },
   {
    "duration": 13,
    "start_time": "2023-01-12T04:35:52.493Z"
   },
   {
    "duration": 15,
    "start_time": "2023-01-12T04:35:52.507Z"
   },
   {
    "duration": 14,
    "start_time": "2023-01-12T04:35:52.524Z"
   },
   {
    "duration": 6,
    "start_time": "2023-01-12T04:35:52.539Z"
   },
   {
    "duration": 343,
    "start_time": "2023-01-12T04:35:52.546Z"
   },
   {
    "duration": 6,
    "start_time": "2023-01-12T04:35:52.890Z"
   },
   {
    "duration": 7,
    "start_time": "2023-01-12T04:35:52.897Z"
   },
   {
    "duration": 5,
    "start_time": "2023-01-12T04:35:52.905Z"
   },
   {
    "duration": 63,
    "start_time": "2023-01-12T04:35:52.911Z"
   },
   {
    "duration": 65,
    "start_time": "2023-01-12T04:35:52.975Z"
   },
   {
    "duration": 6060,
    "start_time": "2023-01-12T04:35:53.041Z"
   },
   {
    "duration": 6261,
    "start_time": "2023-01-12T04:35:59.103Z"
   },
   {
    "duration": 304,
    "start_time": "2023-01-12T04:36:05.365Z"
   },
   {
    "duration": 12,
    "start_time": "2023-01-12T04:36:05.670Z"
   },
   {
    "duration": 9,
    "start_time": "2023-01-12T04:36:05.684Z"
   },
   {
    "duration": 44,
    "start_time": "2023-01-12T04:36:05.694Z"
   },
   {
    "duration": 20,
    "start_time": "2023-01-12T04:36:05.740Z"
   },
   {
    "duration": 6,
    "start_time": "2023-01-12T04:36:05.761Z"
   },
   {
    "duration": 30,
    "start_time": "2023-01-12T04:36:57.488Z"
   },
   {
    "duration": 1472,
    "start_time": "2023-01-12T04:37:03.366Z"
   },
   {
    "duration": 48,
    "start_time": "2023-01-12T04:37:04.840Z"
   },
   {
    "duration": 12,
    "start_time": "2023-01-12T04:37:04.889Z"
   },
   {
    "duration": 6,
    "start_time": "2023-01-12T04:37:04.903Z"
   },
   {
    "duration": 15,
    "start_time": "2023-01-12T04:37:04.910Z"
   },
   {
    "duration": 5,
    "start_time": "2023-01-12T04:37:04.926Z"
   },
   {
    "duration": 378,
    "start_time": "2023-01-12T04:37:04.932Z"
   },
   {
    "duration": 10,
    "start_time": "2023-01-12T04:37:05.312Z"
   },
   {
    "duration": 20,
    "start_time": "2023-01-12T04:37:05.323Z"
   },
   {
    "duration": 6,
    "start_time": "2023-01-12T04:37:05.345Z"
   },
   {
    "duration": 64,
    "start_time": "2023-01-12T04:37:05.352Z"
   },
   {
    "duration": 54,
    "start_time": "2023-01-12T04:37:05.418Z"
   },
   {
    "duration": 6047,
    "start_time": "2023-01-12T04:37:05.474Z"
   },
   {
    "duration": 6100,
    "start_time": "2023-01-12T04:37:11.523Z"
   },
   {
    "duration": 308,
    "start_time": "2023-01-12T04:37:17.624Z"
   },
   {
    "duration": 12,
    "start_time": "2023-01-12T04:37:17.933Z"
   },
   {
    "duration": 8,
    "start_time": "2023-01-12T04:37:17.946Z"
   },
   {
    "duration": 32,
    "start_time": "2023-01-12T04:37:17.955Z"
   },
   {
    "duration": 54,
    "start_time": "2023-01-12T04:37:17.989Z"
   },
   {
    "duration": 22,
    "start_time": "2023-01-12T04:37:18.045Z"
   },
   {
    "duration": 5,
    "start_time": "2023-01-12T04:37:18.069Z"
   },
   {
    "duration": 55,
    "start_time": "2023-01-12T04:42:15.625Z"
   },
   {
    "duration": 6284,
    "start_time": "2023-01-12T04:43:19.728Z"
   },
   {
    "duration": 6669,
    "start_time": "2023-01-12T04:43:54.484Z"
   },
   {
    "duration": 30,
    "start_time": "2023-01-12T04:44:29.782Z"
   },
   {
    "duration": 40,
    "start_time": "2023-01-12T04:46:15.629Z"
   },
   {
    "duration": 45,
    "start_time": "2023-01-12T04:46:19.381Z"
   },
   {
    "duration": 52,
    "start_time": "2023-01-12T04:46:27.821Z"
   },
   {
    "duration": 7088,
    "start_time": "2023-01-12T04:46:55.804Z"
   },
   {
    "duration": 29,
    "start_time": "2023-01-12T04:47:20.972Z"
   }
  ],
  "kernelspec": {
   "display_name": "Python 3 (ipykernel)",
   "language": "python",
   "name": "python3"
  },
  "language_info": {
   "codemirror_mode": {
    "name": "ipython",
    "version": 3
   },
   "file_extension": ".py",
   "mimetype": "text/x-python",
   "name": "python",
   "nbconvert_exporter": "python",
   "pygments_lexer": "ipython3",
   "version": "3.9.12"
  },
  "toc": {
   "base_numbering": 1,
   "nav_menu": {},
   "number_sections": true,
   "sideBar": true,
   "skip_h1_title": true,
   "title_cell": "Table of Contents",
   "title_sidebar": "Contents",
   "toc_cell": false,
   "toc_position": {},
   "toc_section_display": true,
   "toc_window_display": false
  }
 },
 "nbformat": 4,
 "nbformat_minor": 2
}
